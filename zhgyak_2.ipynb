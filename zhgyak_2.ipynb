{
    "metadata": {
        "kernelspec": {
            "name": "SQL",
            "display_name": "SQL",
            "language": "sql"
        },
        "language_info": {
            "name": "sql",
            "version": ""
        }
    },
    "nbformat_minor": 2,
    "nbformat": 4,
    "cells": [
        {
            "cell_type": "code",
            "source": [
                "SELECT IIF(GROUPING_ID(szoba_fk)=1,'Szoba', cast(szoba_fk as NVARCHAR(10)))as 'Szoba',\r\n",
                "        CASE when GROUPING_ID(szoba_fk, year(mettol))=1 then 'Részösszeg'\r\n",
                "            when GROUPING_ID(szoba_fk, year(mettol))=3 then 'Összesen'\r\n",
                "            else cast(year(mettol) as NVARCHAR(10))\r\n",
                "            end as 'Év',\r\n",
                "            count(*) as 'darab'\r\n",
                "from Foglalas\r\n",
                "GROUP by ROLLUP(szoba_fk,YEAR(mettol))"
            ],
            "metadata": {
                "azdata_cell_guid": "b5c065b4-33fa-4dac-b583-e1c5163c18d2",
                "language": "sql"
            },
            "outputs": [
                {
                    "output_type": "display_data",
                    "data": {
                        "text/html": "(513 rows affected)"
                    },
                    "metadata": {}
                },
                {
                    "output_type": "display_data",
                    "data": {
                        "text/html": "Total execution time: 00:00:00.021"
                    },
                    "metadata": {}
                },
                {
                    "output_type": "execute_result",
                    "metadata": {},
                    "execution_count": 8,
                    "data": {
                        "application/vnd.dataresource+json": {
                            "schema": {
                                "fields": [
                                    {
                                        "name": "Szoba"
                                    },
                                    {
                                        "name": "Év"
                                    },
                                    {
                                        "name": "darab"
                                    }
                                ]
                            },
                            "data": [
                                {
                                    "Szoba": "1",
                                    "Év": "2016",
                                    "darab": "8"
                                },
                                {
                                    "Szoba": "1",
                                    "Év": "Részösszeg",
                                    "darab": "8"
                                },
                                {
                                    "Szoba": "2",
                                    "Év": "2016",
                                    "darab": "4"
                                },
                                {
                                    "Szoba": "2",
                                    "Év": "Részösszeg",
                                    "darab": "4"
                                },
                                {
                                    "Szoba": "3",
                                    "Év": "2016",
                                    "darab": "6"
                                },
                                {
                                    "Szoba": "3",
                                    "Év": "2017",
                                    "darab": "2"
                                },
                                {
                                    "Szoba": "3",
                                    "Év": "Részösszeg",
                                    "darab": "8"
                                },
                                {
                                    "Szoba": "4",
                                    "Év": "2016",
                                    "darab": "5"
                                },
                                {
                                    "Szoba": "4",
                                    "Év": "2017",
                                    "darab": "1"
                                },
                                {
                                    "Szoba": "4",
                                    "Év": "Részösszeg",
                                    "darab": "6"
                                },
                                {
                                    "Szoba": "5",
                                    "Év": "2016",
                                    "darab": "4"
                                },
                                {
                                    "Szoba": "5",
                                    "Év": "Részösszeg",
                                    "darab": "4"
                                },
                                {
                                    "Szoba": "6",
                                    "Év": "2016",
                                    "darab": "6"
                                },
                                {
                                    "Szoba": "6",
                                    "Év": "Részösszeg",
                                    "darab": "6"
                                },
                                {
                                    "Szoba": "7",
                                    "Év": "2016",
                                    "darab": "6"
                                },
                                {
                                    "Szoba": "7",
                                    "Év": "Részösszeg",
                                    "darab": "6"
                                },
                                {
                                    "Szoba": "8",
                                    "Év": "2016",
                                    "darab": "5"
                                },
                                {
                                    "Szoba": "8",
                                    "Év": "Részösszeg",
                                    "darab": "5"
                                },
                                {
                                    "Szoba": "9",
                                    "Év": "2016",
                                    "darab": "4"
                                },
                                {
                                    "Szoba": "9",
                                    "Év": "2017",
                                    "darab": "2"
                                },
                                {
                                    "Szoba": "9",
                                    "Év": "Részösszeg",
                                    "darab": "6"
                                },
                                {
                                    "Szoba": "10",
                                    "Év": "2016",
                                    "darab": "4"
                                },
                                {
                                    "Szoba": "10",
                                    "Év": "Részösszeg",
                                    "darab": "4"
                                },
                                {
                                    "Szoba": "11",
                                    "Év": "2016",
                                    "darab": "3"
                                },
                                {
                                    "Szoba": "11",
                                    "Év": "2017",
                                    "darab": "1"
                                },
                                {
                                    "Szoba": "11",
                                    "Év": "Részösszeg",
                                    "darab": "4"
                                },
                                {
                                    "Szoba": "12",
                                    "Év": "2016",
                                    "darab": "8"
                                },
                                {
                                    "Szoba": "12",
                                    "Év": "2017",
                                    "darab": "1"
                                },
                                {
                                    "Szoba": "12",
                                    "Év": "Részösszeg",
                                    "darab": "9"
                                },
                                {
                                    "Szoba": "13",
                                    "Év": "2016",
                                    "darab": "3"
                                },
                                {
                                    "Szoba": "13",
                                    "Év": "2017",
                                    "darab": "1"
                                },
                                {
                                    "Szoba": "13",
                                    "Év": "Részösszeg",
                                    "darab": "4"
                                },
                                {
                                    "Szoba": "14",
                                    "Év": "2016",
                                    "darab": "2"
                                },
                                {
                                    "Szoba": "14",
                                    "Év": "2017",
                                    "darab": "1"
                                },
                                {
                                    "Szoba": "14",
                                    "Év": "Részösszeg",
                                    "darab": "3"
                                },
                                {
                                    "Szoba": "15",
                                    "Év": "2016",
                                    "darab": "4"
                                },
                                {
                                    "Szoba": "15",
                                    "Év": "2017",
                                    "darab": "2"
                                },
                                {
                                    "Szoba": "15",
                                    "Év": "Részösszeg",
                                    "darab": "6"
                                },
                                {
                                    "Szoba": "16",
                                    "Év": "2016",
                                    "darab": "4"
                                },
                                {
                                    "Szoba": "16",
                                    "Év": "2017",
                                    "darab": "1"
                                },
                                {
                                    "Szoba": "16",
                                    "Év": "Részösszeg",
                                    "darab": "5"
                                },
                                {
                                    "Szoba": "17",
                                    "Év": "2016",
                                    "darab": "5"
                                },
                                {
                                    "Szoba": "17",
                                    "Év": "2017",
                                    "darab": "1"
                                },
                                {
                                    "Szoba": "17",
                                    "Év": "Részösszeg",
                                    "darab": "6"
                                },
                                {
                                    "Szoba": "18",
                                    "Év": "2016",
                                    "darab": "5"
                                },
                                {
                                    "Szoba": "18",
                                    "Év": "2017",
                                    "darab": "1"
                                },
                                {
                                    "Szoba": "18",
                                    "Év": "Részösszeg",
                                    "darab": "6"
                                },
                                {
                                    "Szoba": "19",
                                    "Év": "2016",
                                    "darab": "5"
                                },
                                {
                                    "Szoba": "19",
                                    "Év": "2017",
                                    "darab": "1"
                                },
                                {
                                    "Szoba": "19",
                                    "Év": "Részösszeg",
                                    "darab": "6"
                                },
                                {
                                    "Szoba": "20",
                                    "Év": "2016",
                                    "darab": "5"
                                },
                                {
                                    "Szoba": "20",
                                    "Év": "Részösszeg",
                                    "darab": "5"
                                },
                                {
                                    "Szoba": "21",
                                    "Év": "2016",
                                    "darab": "4"
                                },
                                {
                                    "Szoba": "21",
                                    "Év": "Részösszeg",
                                    "darab": "4"
                                },
                                {
                                    "Szoba": "22",
                                    "Év": "2016",
                                    "darab": "6"
                                },
                                {
                                    "Szoba": "22",
                                    "Év": "Részösszeg",
                                    "darab": "6"
                                },
                                {
                                    "Szoba": "23",
                                    "Év": "2016",
                                    "darab": "3"
                                },
                                {
                                    "Szoba": "23",
                                    "Év": "Részösszeg",
                                    "darab": "3"
                                },
                                {
                                    "Szoba": "24",
                                    "Év": "2016",
                                    "darab": "2"
                                },
                                {
                                    "Szoba": "24",
                                    "Év": "2017",
                                    "darab": "1"
                                },
                                {
                                    "Szoba": "24",
                                    "Év": "Részösszeg",
                                    "darab": "3"
                                },
                                {
                                    "Szoba": "25",
                                    "Év": "2016",
                                    "darab": "2"
                                },
                                {
                                    "Szoba": "25",
                                    "Év": "Részösszeg",
                                    "darab": "2"
                                },
                                {
                                    "Szoba": "26",
                                    "Év": "2016",
                                    "darab": "2"
                                },
                                {
                                    "Szoba": "26",
                                    "Év": "Részösszeg",
                                    "darab": "2"
                                },
                                {
                                    "Szoba": "27",
                                    "Év": "2016",
                                    "darab": "6"
                                },
                                {
                                    "Szoba": "27",
                                    "Év": "2017",
                                    "darab": "1"
                                },
                                {
                                    "Szoba": "27",
                                    "Év": "Részösszeg",
                                    "darab": "7"
                                },
                                {
                                    "Szoba": "28",
                                    "Év": "2016",
                                    "darab": "5"
                                },
                                {
                                    "Szoba": "28",
                                    "Év": "2017",
                                    "darab": "1"
                                },
                                {
                                    "Szoba": "28",
                                    "Év": "Részösszeg",
                                    "darab": "6"
                                },
                                {
                                    "Szoba": "29",
                                    "Év": "2016",
                                    "darab": "5"
                                },
                                {
                                    "Szoba": "29",
                                    "Év": "2017",
                                    "darab": "1"
                                },
                                {
                                    "Szoba": "29",
                                    "Év": "Részösszeg",
                                    "darab": "6"
                                },
                                {
                                    "Szoba": "30",
                                    "Év": "2016",
                                    "darab": "3"
                                },
                                {
                                    "Szoba": "30",
                                    "Év": "Részösszeg",
                                    "darab": "3"
                                },
                                {
                                    "Szoba": "31",
                                    "Év": "2016",
                                    "darab": "3"
                                },
                                {
                                    "Szoba": "31",
                                    "Év": "Részösszeg",
                                    "darab": "3"
                                },
                                {
                                    "Szoba": "32",
                                    "Év": "2016",
                                    "darab": "1"
                                },
                                {
                                    "Szoba": "32",
                                    "Év": "Részösszeg",
                                    "darab": "1"
                                },
                                {
                                    "Szoba": "33",
                                    "Év": "2016",
                                    "darab": "6"
                                },
                                {
                                    "Szoba": "33",
                                    "Év": "Részösszeg",
                                    "darab": "6"
                                },
                                {
                                    "Szoba": "34",
                                    "Év": "2016",
                                    "darab": "4"
                                },
                                {
                                    "Szoba": "34",
                                    "Év": "Részösszeg",
                                    "darab": "4"
                                },
                                {
                                    "Szoba": "35",
                                    "Év": "2016",
                                    "darab": "6"
                                },
                                {
                                    "Szoba": "35",
                                    "Év": "2017",
                                    "darab": "3"
                                },
                                {
                                    "Szoba": "35",
                                    "Év": "Részösszeg",
                                    "darab": "9"
                                },
                                {
                                    "Szoba": "36",
                                    "Év": "2016",
                                    "darab": "6"
                                },
                                {
                                    "Szoba": "36",
                                    "Év": "Részösszeg",
                                    "darab": "6"
                                },
                                {
                                    "Szoba": "37",
                                    "Év": "2016",
                                    "darab": "3"
                                },
                                {
                                    "Szoba": "37",
                                    "Év": "Részösszeg",
                                    "darab": "3"
                                },
                                {
                                    "Szoba": "38",
                                    "Év": "2016",
                                    "darab": "5"
                                },
                                {
                                    "Szoba": "38",
                                    "Év": "2017",
                                    "darab": "3"
                                },
                                {
                                    "Szoba": "38",
                                    "Év": "Részösszeg",
                                    "darab": "8"
                                },
                                {
                                    "Szoba": "39",
                                    "Év": "2016",
                                    "darab": "4"
                                },
                                {
                                    "Szoba": "39",
                                    "Év": "2017",
                                    "darab": "3"
                                },
                                {
                                    "Szoba": "39",
                                    "Év": "Részösszeg",
                                    "darab": "7"
                                },
                                {
                                    "Szoba": "40",
                                    "Év": "2016",
                                    "darab": "4"
                                },
                                {
                                    "Szoba": "40",
                                    "Év": "Részösszeg",
                                    "darab": "4"
                                },
                                {
                                    "Szoba": "41",
                                    "Év": "2016",
                                    "darab": "2"
                                },
                                {
                                    "Szoba": "41",
                                    "Év": "Részösszeg",
                                    "darab": "2"
                                },
                                {
                                    "Szoba": "42",
                                    "Év": "2016",
                                    "darab": "5"
                                },
                                {
                                    "Szoba": "42",
                                    "Év": "2017",
                                    "darab": "1"
                                },
                                {
                                    "Szoba": "42",
                                    "Év": "Részösszeg",
                                    "darab": "6"
                                },
                                {
                                    "Szoba": "43",
                                    "Év": "2016",
                                    "darab": "6"
                                },
                                {
                                    "Szoba": "43",
                                    "Év": "2017",
                                    "darab": "2"
                                },
                                {
                                    "Szoba": "43",
                                    "Év": "Részösszeg",
                                    "darab": "8"
                                },
                                {
                                    "Szoba": "44",
                                    "Év": "2016",
                                    "darab": "4"
                                },
                                {
                                    "Szoba": "44",
                                    "Év": "2017",
                                    "darab": "2"
                                },
                                {
                                    "Szoba": "44",
                                    "Év": "Részösszeg",
                                    "darab": "6"
                                },
                                {
                                    "Szoba": "45",
                                    "Év": "2016",
                                    "darab": "5"
                                },
                                {
                                    "Szoba": "45",
                                    "Év": "Részösszeg",
                                    "darab": "5"
                                },
                                {
                                    "Szoba": "46",
                                    "Év": "2016",
                                    "darab": "3"
                                },
                                {
                                    "Szoba": "46",
                                    "Év": "2017",
                                    "darab": "1"
                                },
                                {
                                    "Szoba": "46",
                                    "Év": "Részösszeg",
                                    "darab": "4"
                                },
                                {
                                    "Szoba": "47",
                                    "Év": "2016",
                                    "darab": "2"
                                },
                                {
                                    "Szoba": "47",
                                    "Év": "Részösszeg",
                                    "darab": "2"
                                },
                                {
                                    "Szoba": "48",
                                    "Év": "2016",
                                    "darab": "6"
                                },
                                {
                                    "Szoba": "48",
                                    "Év": "2017",
                                    "darab": "3"
                                },
                                {
                                    "Szoba": "48",
                                    "Év": "Részösszeg",
                                    "darab": "9"
                                },
                                {
                                    "Szoba": "49",
                                    "Év": "2016",
                                    "darab": "6"
                                },
                                {
                                    "Szoba": "49",
                                    "Év": "2017",
                                    "darab": "1"
                                },
                                {
                                    "Szoba": "49",
                                    "Év": "Részösszeg",
                                    "darab": "7"
                                },
                                {
                                    "Szoba": "50",
                                    "Év": "2016",
                                    "darab": "4"
                                },
                                {
                                    "Szoba": "50",
                                    "Év": "Részösszeg",
                                    "darab": "4"
                                },
                                {
                                    "Szoba": "51",
                                    "Év": "2016",
                                    "darab": "3"
                                },
                                {
                                    "Szoba": "51",
                                    "Év": "2017",
                                    "darab": "2"
                                },
                                {
                                    "Szoba": "51",
                                    "Év": "Részösszeg",
                                    "darab": "5"
                                },
                                {
                                    "Szoba": "52",
                                    "Év": "2016",
                                    "darab": "3"
                                },
                                {
                                    "Szoba": "52",
                                    "Év": "2017",
                                    "darab": "2"
                                },
                                {
                                    "Szoba": "52",
                                    "Év": "Részösszeg",
                                    "darab": "5"
                                },
                                {
                                    "Szoba": "53",
                                    "Év": "2016",
                                    "darab": "2"
                                },
                                {
                                    "Szoba": "53",
                                    "Év": "Részösszeg",
                                    "darab": "2"
                                },
                                {
                                    "Szoba": "54",
                                    "Év": "2016",
                                    "darab": "6"
                                },
                                {
                                    "Szoba": "54",
                                    "Év": "Részösszeg",
                                    "darab": "6"
                                },
                                {
                                    "Szoba": "55",
                                    "Év": "2016",
                                    "darab": "6"
                                },
                                {
                                    "Szoba": "55",
                                    "Év": "2017",
                                    "darab": "2"
                                },
                                {
                                    "Szoba": "55",
                                    "Év": "Részösszeg",
                                    "darab": "8"
                                },
                                {
                                    "Szoba": "56",
                                    "Év": "2016",
                                    "darab": "2"
                                },
                                {
                                    "Szoba": "56",
                                    "Év": "Részösszeg",
                                    "darab": "2"
                                },
                                {
                                    "Szoba": "57",
                                    "Év": "2016",
                                    "darab": "2"
                                },
                                {
                                    "Szoba": "57",
                                    "Év": "2017",
                                    "darab": "2"
                                },
                                {
                                    "Szoba": "57",
                                    "Év": "Részösszeg",
                                    "darab": "4"
                                },
                                {
                                    "Szoba": "58",
                                    "Év": "2016",
                                    "darab": "12"
                                },
                                {
                                    "Szoba": "58",
                                    "Év": "2017",
                                    "darab": "1"
                                },
                                {
                                    "Szoba": "58",
                                    "Év": "Részösszeg",
                                    "darab": "13"
                                },
                                {
                                    "Szoba": "59",
                                    "Év": "2016",
                                    "darab": "6"
                                },
                                {
                                    "Szoba": "59",
                                    "Év": "2017",
                                    "darab": "1"
                                },
                                {
                                    "Szoba": "59",
                                    "Év": "Részösszeg",
                                    "darab": "7"
                                },
                                {
                                    "Szoba": "60",
                                    "Év": "2016",
                                    "darab": "1"
                                },
                                {
                                    "Szoba": "60",
                                    "Év": "Részösszeg",
                                    "darab": "1"
                                },
                                {
                                    "Szoba": "61",
                                    "Év": "2016",
                                    "darab": "4"
                                },
                                {
                                    "Szoba": "61",
                                    "Év": "2017",
                                    "darab": "1"
                                },
                                {
                                    "Szoba": "61",
                                    "Év": "Részösszeg",
                                    "darab": "5"
                                },
                                {
                                    "Szoba": "62",
                                    "Év": "2016",
                                    "darab": "4"
                                },
                                {
                                    "Szoba": "62",
                                    "Év": "2017",
                                    "darab": "1"
                                },
                                {
                                    "Szoba": "62",
                                    "Év": "Részösszeg",
                                    "darab": "5"
                                },
                                {
                                    "Szoba": "63",
                                    "Év": "2016",
                                    "darab": "4"
                                },
                                {
                                    "Szoba": "63",
                                    "Év": "Részösszeg",
                                    "darab": "4"
                                },
                                {
                                    "Szoba": "64",
                                    "Év": "2016",
                                    "darab": "3"
                                },
                                {
                                    "Szoba": "64",
                                    "Év": "2017",
                                    "darab": "3"
                                },
                                {
                                    "Szoba": "64",
                                    "Év": "Részösszeg",
                                    "darab": "6"
                                },
                                {
                                    "Szoba": "65",
                                    "Év": "2016",
                                    "darab": "1"
                                },
                                {
                                    "Szoba": "65",
                                    "Év": "Részösszeg",
                                    "darab": "1"
                                },
                                {
                                    "Szoba": "66",
                                    "Év": "2016",
                                    "darab": "4"
                                },
                                {
                                    "Szoba": "66",
                                    "Év": "Részösszeg",
                                    "darab": "4"
                                },
                                {
                                    "Szoba": "67",
                                    "Év": "2016",
                                    "darab": "4"
                                },
                                {
                                    "Szoba": "67",
                                    "Év": "2017",
                                    "darab": "2"
                                },
                                {
                                    "Szoba": "67",
                                    "Év": "Részösszeg",
                                    "darab": "6"
                                },
                                {
                                    "Szoba": "68",
                                    "Év": "2016",
                                    "darab": "3"
                                },
                                {
                                    "Szoba": "68",
                                    "Év": "Részösszeg",
                                    "darab": "3"
                                },
                                {
                                    "Szoba": "69",
                                    "Év": "2016",
                                    "darab": "4"
                                },
                                {
                                    "Szoba": "69",
                                    "Év": "Részösszeg",
                                    "darab": "4"
                                },
                                {
                                    "Szoba": "70",
                                    "Év": "2016",
                                    "darab": "10"
                                },
                                {
                                    "Szoba": "70",
                                    "Év": "2017",
                                    "darab": "1"
                                },
                                {
                                    "Szoba": "70",
                                    "Év": "Részösszeg",
                                    "darab": "11"
                                },
                                {
                                    "Szoba": "71",
                                    "Év": "2016",
                                    "darab": "3"
                                },
                                {
                                    "Szoba": "71",
                                    "Év": "Részösszeg",
                                    "darab": "3"
                                },
                                {
                                    "Szoba": "72",
                                    "Év": "2016",
                                    "darab": "4"
                                },
                                {
                                    "Szoba": "72",
                                    "Év": "Részösszeg",
                                    "darab": "4"
                                },
                                {
                                    "Szoba": "73",
                                    "Év": "2016",
                                    "darab": "4"
                                },
                                {
                                    "Szoba": "73",
                                    "Év": "Részösszeg",
                                    "darab": "4"
                                },
                                {
                                    "Szoba": "74",
                                    "Év": "2016",
                                    "darab": "9"
                                },
                                {
                                    "Szoba": "74",
                                    "Év": "Részösszeg",
                                    "darab": "9"
                                },
                                {
                                    "Szoba": "75",
                                    "Év": "2016",
                                    "darab": "1"
                                },
                                {
                                    "Szoba": "75",
                                    "Év": "2017",
                                    "darab": "2"
                                },
                                {
                                    "Szoba": "75",
                                    "Év": "Részösszeg",
                                    "darab": "3"
                                },
                                {
                                    "Szoba": "76",
                                    "Év": "2016",
                                    "darab": "2"
                                },
                                {
                                    "Szoba": "76",
                                    "Év": "2017",
                                    "darab": "1"
                                },
                                {
                                    "Szoba": "76",
                                    "Év": "Részösszeg",
                                    "darab": "3"
                                },
                                {
                                    "Szoba": "77",
                                    "Év": "2016",
                                    "darab": "4"
                                },
                                {
                                    "Szoba": "77",
                                    "Év": "2017",
                                    "darab": "2"
                                },
                                {
                                    "Szoba": "77",
                                    "Év": "Részösszeg",
                                    "darab": "6"
                                },
                                {
                                    "Szoba": "78",
                                    "Év": "2016",
                                    "darab": "5"
                                },
                                {
                                    "Szoba": "78",
                                    "Év": "2017",
                                    "darab": "1"
                                },
                                {
                                    "Szoba": "78",
                                    "Év": "Részösszeg",
                                    "darab": "6"
                                },
                                {
                                    "Szoba": "79",
                                    "Év": "2016",
                                    "darab": "4"
                                },
                                {
                                    "Szoba": "79",
                                    "Év": "2017",
                                    "darab": "1"
                                },
                                {
                                    "Szoba": "79",
                                    "Év": "Részösszeg",
                                    "darab": "5"
                                },
                                {
                                    "Szoba": "80",
                                    "Év": "2016",
                                    "darab": "7"
                                },
                                {
                                    "Szoba": "80",
                                    "Év": "Részösszeg",
                                    "darab": "7"
                                },
                                {
                                    "Szoba": "81",
                                    "Év": "2016",
                                    "darab": "1"
                                },
                                {
                                    "Szoba": "81",
                                    "Év": "2017",
                                    "darab": "4"
                                },
                                {
                                    "Szoba": "81",
                                    "Év": "Részösszeg",
                                    "darab": "5"
                                },
                                {
                                    "Szoba": "82",
                                    "Év": "2016",
                                    "darab": "6"
                                },
                                {
                                    "Szoba": "82",
                                    "Év": "Részösszeg",
                                    "darab": "6"
                                },
                                {
                                    "Szoba": "83",
                                    "Év": "2016",
                                    "darab": "8"
                                },
                                {
                                    "Szoba": "83",
                                    "Év": "Részösszeg",
                                    "darab": "8"
                                },
                                {
                                    "Szoba": "84",
                                    "Év": "2016",
                                    "darab": "4"
                                },
                                {
                                    "Szoba": "84",
                                    "Év": "Részösszeg",
                                    "darab": "4"
                                },
                                {
                                    "Szoba": "85",
                                    "Év": "2016",
                                    "darab": "3"
                                },
                                {
                                    "Szoba": "85",
                                    "Év": "2017",
                                    "darab": "1"
                                },
                                {
                                    "Szoba": "85",
                                    "Év": "Részösszeg",
                                    "darab": "4"
                                },
                                {
                                    "Szoba": "86",
                                    "Év": "2016",
                                    "darab": "4"
                                },
                                {
                                    "Szoba": "86",
                                    "Év": "2017",
                                    "darab": "1"
                                },
                                {
                                    "Szoba": "86",
                                    "Év": "Részösszeg",
                                    "darab": "5"
                                },
                                {
                                    "Szoba": "87",
                                    "Év": "2016",
                                    "darab": "4"
                                },
                                {
                                    "Szoba": "87",
                                    "Év": "2017",
                                    "darab": "1"
                                },
                                {
                                    "Szoba": "87",
                                    "Év": "Részösszeg",
                                    "darab": "5"
                                },
                                {
                                    "Szoba": "88",
                                    "Év": "2016",
                                    "darab": "6"
                                },
                                {
                                    "Szoba": "88",
                                    "Év": "2017",
                                    "darab": "2"
                                },
                                {
                                    "Szoba": "88",
                                    "Év": "Részösszeg",
                                    "darab": "8"
                                },
                                {
                                    "Szoba": "89",
                                    "Év": "2016",
                                    "darab": "7"
                                },
                                {
                                    "Szoba": "89",
                                    "Év": "2017",
                                    "darab": "1"
                                },
                                {
                                    "Szoba": "89",
                                    "Év": "Részösszeg",
                                    "darab": "8"
                                },
                                {
                                    "Szoba": "90",
                                    "Év": "2016",
                                    "darab": "4"
                                },
                                {
                                    "Szoba": "90",
                                    "Év": "Részösszeg",
                                    "darab": "4"
                                },
                                {
                                    "Szoba": "91",
                                    "Év": "2016",
                                    "darab": "4"
                                },
                                {
                                    "Szoba": "91",
                                    "Év": "Részösszeg",
                                    "darab": "4"
                                },
                                {
                                    "Szoba": "92",
                                    "Év": "2016",
                                    "darab": "4"
                                },
                                {
                                    "Szoba": "92",
                                    "Év": "2017",
                                    "darab": "2"
                                },
                                {
                                    "Szoba": "92",
                                    "Év": "Részösszeg",
                                    "darab": "6"
                                },
                                {
                                    "Szoba": "93",
                                    "Év": "2016",
                                    "darab": "5"
                                },
                                {
                                    "Szoba": "93",
                                    "Év": "Részösszeg",
                                    "darab": "5"
                                },
                                {
                                    "Szoba": "94",
                                    "Év": "2016",
                                    "darab": "8"
                                },
                                {
                                    "Szoba": "94",
                                    "Év": "2017",
                                    "darab": "2"
                                },
                                {
                                    "Szoba": "94",
                                    "Év": "Részösszeg",
                                    "darab": "10"
                                },
                                {
                                    "Szoba": "95",
                                    "Év": "2016",
                                    "darab": "3"
                                },
                                {
                                    "Szoba": "95",
                                    "Év": "2017",
                                    "darab": "1"
                                },
                                {
                                    "Szoba": "95",
                                    "Év": "Részösszeg",
                                    "darab": "4"
                                },
                                {
                                    "Szoba": "96",
                                    "Év": "2016",
                                    "darab": "5"
                                },
                                {
                                    "Szoba": "96",
                                    "Év": "2017",
                                    "darab": "2"
                                },
                                {
                                    "Szoba": "96",
                                    "Év": "Részösszeg",
                                    "darab": "7"
                                },
                                {
                                    "Szoba": "97",
                                    "Év": "2016",
                                    "darab": "5"
                                },
                                {
                                    "Szoba": "97",
                                    "Év": "2017",
                                    "darab": "2"
                                },
                                {
                                    "Szoba": "97",
                                    "Év": "Részösszeg",
                                    "darab": "7"
                                },
                                {
                                    "Szoba": "98",
                                    "Év": "2016",
                                    "darab": "4"
                                },
                                {
                                    "Szoba": "98",
                                    "Év": "Részösszeg",
                                    "darab": "4"
                                },
                                {
                                    "Szoba": "99",
                                    "Év": "2016",
                                    "darab": "4"
                                },
                                {
                                    "Szoba": "99",
                                    "Év": "2017",
                                    "darab": "1"
                                },
                                {
                                    "Szoba": "99",
                                    "Év": "Részösszeg",
                                    "darab": "5"
                                },
                                {
                                    "Szoba": "100",
                                    "Év": "2016",
                                    "darab": "3"
                                },
                                {
                                    "Szoba": "100",
                                    "Év": "2017",
                                    "darab": "1"
                                },
                                {
                                    "Szoba": "100",
                                    "Év": "Részösszeg",
                                    "darab": "4"
                                },
                                {
                                    "Szoba": "101",
                                    "Év": "2016",
                                    "darab": "2"
                                },
                                {
                                    "Szoba": "101",
                                    "Év": "2017",
                                    "darab": "1"
                                },
                                {
                                    "Szoba": "101",
                                    "Év": "Részösszeg",
                                    "darab": "3"
                                },
                                {
                                    "Szoba": "102",
                                    "Év": "2016",
                                    "darab": "2"
                                },
                                {
                                    "Szoba": "102",
                                    "Év": "Részösszeg",
                                    "darab": "2"
                                },
                                {
                                    "Szoba": "103",
                                    "Év": "2016",
                                    "darab": "3"
                                },
                                {
                                    "Szoba": "103",
                                    "Év": "2017",
                                    "darab": "1"
                                },
                                {
                                    "Szoba": "103",
                                    "Év": "Részösszeg",
                                    "darab": "4"
                                },
                                {
                                    "Szoba": "104",
                                    "Év": "2016",
                                    "darab": "2"
                                },
                                {
                                    "Szoba": "104",
                                    "Év": "2017",
                                    "darab": "2"
                                },
                                {
                                    "Szoba": "104",
                                    "Év": "Részösszeg",
                                    "darab": "4"
                                },
                                {
                                    "Szoba": "105",
                                    "Év": "2016",
                                    "darab": "1"
                                },
                                {
                                    "Szoba": "105",
                                    "Év": "2017",
                                    "darab": "1"
                                },
                                {
                                    "Szoba": "105",
                                    "Év": "Részösszeg",
                                    "darab": "2"
                                },
                                {
                                    "Szoba": "106",
                                    "Év": "2016",
                                    "darab": "5"
                                },
                                {
                                    "Szoba": "106",
                                    "Év": "2017",
                                    "darab": "1"
                                },
                                {
                                    "Szoba": "106",
                                    "Év": "Részösszeg",
                                    "darab": "6"
                                },
                                {
                                    "Szoba": "107",
                                    "Év": "2016",
                                    "darab": "3"
                                },
                                {
                                    "Szoba": "107",
                                    "Év": "2017",
                                    "darab": "2"
                                },
                                {
                                    "Szoba": "107",
                                    "Év": "Részösszeg",
                                    "darab": "5"
                                },
                                {
                                    "Szoba": "108",
                                    "Év": "2016",
                                    "darab": "2"
                                },
                                {
                                    "Szoba": "108",
                                    "Év": "Részösszeg",
                                    "darab": "2"
                                },
                                {
                                    "Szoba": "109",
                                    "Év": "2016",
                                    "darab": "6"
                                },
                                {
                                    "Szoba": "109",
                                    "Év": "2017",
                                    "darab": "1"
                                },
                                {
                                    "Szoba": "109",
                                    "Év": "Részösszeg",
                                    "darab": "7"
                                },
                                {
                                    "Szoba": "110",
                                    "Év": "2016",
                                    "darab": "6"
                                },
                                {
                                    "Szoba": "110",
                                    "Év": "2017",
                                    "darab": "2"
                                },
                                {
                                    "Szoba": "110",
                                    "Év": "Részösszeg",
                                    "darab": "8"
                                },
                                {
                                    "Szoba": "111",
                                    "Év": "2016",
                                    "darab": "5"
                                },
                                {
                                    "Szoba": "111",
                                    "Év": "Részösszeg",
                                    "darab": "5"
                                },
                                {
                                    "Szoba": "112",
                                    "Év": "2016",
                                    "darab": "4"
                                },
                                {
                                    "Szoba": "112",
                                    "Év": "2017",
                                    "darab": "1"
                                },
                                {
                                    "Szoba": "112",
                                    "Év": "Részösszeg",
                                    "darab": "5"
                                },
                                {
                                    "Szoba": "113",
                                    "Év": "2016",
                                    "darab": "3"
                                },
                                {
                                    "Szoba": "113",
                                    "Év": "2017",
                                    "darab": "2"
                                },
                                {
                                    "Szoba": "113",
                                    "Év": "Részösszeg",
                                    "darab": "5"
                                },
                                {
                                    "Szoba": "114",
                                    "Év": "2016",
                                    "darab": "3"
                                },
                                {
                                    "Szoba": "114",
                                    "Év": "2017",
                                    "darab": "1"
                                },
                                {
                                    "Szoba": "114",
                                    "Év": "Részösszeg",
                                    "darab": "4"
                                },
                                {
                                    "Szoba": "115",
                                    "Év": "2016",
                                    "darab": "5"
                                },
                                {
                                    "Szoba": "115",
                                    "Év": "2017",
                                    "darab": "2"
                                },
                                {
                                    "Szoba": "115",
                                    "Év": "Részösszeg",
                                    "darab": "7"
                                },
                                {
                                    "Szoba": "116",
                                    "Év": "2017",
                                    "darab": "2"
                                },
                                {
                                    "Szoba": "116",
                                    "Év": "Részösszeg",
                                    "darab": "2"
                                },
                                {
                                    "Szoba": "117",
                                    "Év": "2016",
                                    "darab": "7"
                                },
                                {
                                    "Szoba": "117",
                                    "Év": "2017",
                                    "darab": "1"
                                },
                                {
                                    "Szoba": "117",
                                    "Év": "Részösszeg",
                                    "darab": "8"
                                },
                                {
                                    "Szoba": "118",
                                    "Év": "2016",
                                    "darab": "5"
                                },
                                {
                                    "Szoba": "118",
                                    "Év": "2017",
                                    "darab": "2"
                                },
                                {
                                    "Szoba": "118",
                                    "Év": "Részösszeg",
                                    "darab": "7"
                                },
                                {
                                    "Szoba": "119",
                                    "Év": "2016",
                                    "darab": "3"
                                },
                                {
                                    "Szoba": "119",
                                    "Év": "2017",
                                    "darab": "2"
                                },
                                {
                                    "Szoba": "119",
                                    "Év": "Részösszeg",
                                    "darab": "5"
                                },
                                {
                                    "Szoba": "120",
                                    "Év": "2016",
                                    "darab": "4"
                                },
                                {
                                    "Szoba": "120",
                                    "Év": "2017",
                                    "darab": "2"
                                },
                                {
                                    "Szoba": "120",
                                    "Év": "Részösszeg",
                                    "darab": "6"
                                },
                                {
                                    "Szoba": "121",
                                    "Év": "2016",
                                    "darab": "8"
                                },
                                {
                                    "Szoba": "121",
                                    "Év": "Részösszeg",
                                    "darab": "8"
                                },
                                {
                                    "Szoba": "122",
                                    "Év": "2016",
                                    "darab": "8"
                                },
                                {
                                    "Szoba": "122",
                                    "Év": "2017",
                                    "darab": "1"
                                },
                                {
                                    "Szoba": "122",
                                    "Év": "Részösszeg",
                                    "darab": "9"
                                },
                                {
                                    "Szoba": "123",
                                    "Év": "2016",
                                    "darab": "5"
                                },
                                {
                                    "Szoba": "123",
                                    "Év": "Részösszeg",
                                    "darab": "5"
                                },
                                {
                                    "Szoba": "124",
                                    "Év": "2016",
                                    "darab": "4"
                                },
                                {
                                    "Szoba": "124",
                                    "Év": "2017",
                                    "darab": "2"
                                },
                                {
                                    "Szoba": "124",
                                    "Év": "Részösszeg",
                                    "darab": "6"
                                },
                                {
                                    "Szoba": "125",
                                    "Év": "2016",
                                    "darab": "1"
                                },
                                {
                                    "Szoba": "125",
                                    "Év": "Részösszeg",
                                    "darab": "1"
                                },
                                {
                                    "Szoba": "126",
                                    "Év": "2016",
                                    "darab": "4"
                                },
                                {
                                    "Szoba": "126",
                                    "Év": "2017",
                                    "darab": "2"
                                },
                                {
                                    "Szoba": "126",
                                    "Év": "Részösszeg",
                                    "darab": "6"
                                },
                                {
                                    "Szoba": "127",
                                    "Év": "2016",
                                    "darab": "6"
                                },
                                {
                                    "Szoba": "127",
                                    "Év": "2017",
                                    "darab": "1"
                                },
                                {
                                    "Szoba": "127",
                                    "Év": "Részösszeg",
                                    "darab": "7"
                                },
                                {
                                    "Szoba": "128",
                                    "Év": "2016",
                                    "darab": "3"
                                },
                                {
                                    "Szoba": "128",
                                    "Év": "2017",
                                    "darab": "2"
                                },
                                {
                                    "Szoba": "128",
                                    "Év": "Részösszeg",
                                    "darab": "5"
                                },
                                {
                                    "Szoba": "129",
                                    "Év": "2016",
                                    "darab": "2"
                                },
                                {
                                    "Szoba": "129",
                                    "Év": "2017",
                                    "darab": "2"
                                },
                                {
                                    "Szoba": "129",
                                    "Év": "Részösszeg",
                                    "darab": "4"
                                },
                                {
                                    "Szoba": "130",
                                    "Év": "2016",
                                    "darab": "5"
                                },
                                {
                                    "Szoba": "130",
                                    "Év": "2017",
                                    "darab": "1"
                                },
                                {
                                    "Szoba": "130",
                                    "Év": "Részösszeg",
                                    "darab": "6"
                                },
                                {
                                    "Szoba": "131",
                                    "Év": "2016",
                                    "darab": "4"
                                },
                                {
                                    "Szoba": "131",
                                    "Év": "2017",
                                    "darab": "1"
                                },
                                {
                                    "Szoba": "131",
                                    "Év": "Részösszeg",
                                    "darab": "5"
                                },
                                {
                                    "Szoba": "132",
                                    "Év": "2016",
                                    "darab": "5"
                                },
                                {
                                    "Szoba": "132",
                                    "Év": "2017",
                                    "darab": "1"
                                },
                                {
                                    "Szoba": "132",
                                    "Év": "Részösszeg",
                                    "darab": "6"
                                },
                                {
                                    "Szoba": "133",
                                    "Év": "2016",
                                    "darab": "5"
                                },
                                {
                                    "Szoba": "133",
                                    "Év": "2017",
                                    "darab": "1"
                                },
                                {
                                    "Szoba": "133",
                                    "Év": "Részösszeg",
                                    "darab": "6"
                                },
                                {
                                    "Szoba": "134",
                                    "Év": "2016",
                                    "darab": "5"
                                },
                                {
                                    "Szoba": "134",
                                    "Év": "2017",
                                    "darab": "1"
                                },
                                {
                                    "Szoba": "134",
                                    "Év": "Részösszeg",
                                    "darab": "6"
                                },
                                {
                                    "Szoba": "135",
                                    "Év": "2016",
                                    "darab": "3"
                                },
                                {
                                    "Szoba": "135",
                                    "Év": "Részösszeg",
                                    "darab": "3"
                                },
                                {
                                    "Szoba": "136",
                                    "Év": "2016",
                                    "darab": "3"
                                },
                                {
                                    "Szoba": "136",
                                    "Év": "Részösszeg",
                                    "darab": "3"
                                },
                                {
                                    "Szoba": "137",
                                    "Év": "2016",
                                    "darab": "6"
                                },
                                {
                                    "Szoba": "137",
                                    "Év": "Részösszeg",
                                    "darab": "6"
                                },
                                {
                                    "Szoba": "138",
                                    "Év": "2016",
                                    "darab": "7"
                                },
                                {
                                    "Szoba": "138",
                                    "Év": "Részösszeg",
                                    "darab": "7"
                                },
                                {
                                    "Szoba": "139",
                                    "Év": "2016",
                                    "darab": "5"
                                },
                                {
                                    "Szoba": "139",
                                    "Év": "2017",
                                    "darab": "2"
                                },
                                {
                                    "Szoba": "139",
                                    "Év": "Részösszeg",
                                    "darab": "7"
                                },
                                {
                                    "Szoba": "140",
                                    "Év": "2016",
                                    "darab": "8"
                                },
                                {
                                    "Szoba": "140",
                                    "Év": "Részösszeg",
                                    "darab": "8"
                                },
                                {
                                    "Szoba": "141",
                                    "Év": "2016",
                                    "darab": "6"
                                },
                                {
                                    "Szoba": "141",
                                    "Év": "Részösszeg",
                                    "darab": "6"
                                },
                                {
                                    "Szoba": "142",
                                    "Év": "2016",
                                    "darab": "1"
                                },
                                {
                                    "Szoba": "142",
                                    "Év": "2017",
                                    "darab": "1"
                                },
                                {
                                    "Szoba": "142",
                                    "Év": "Részösszeg",
                                    "darab": "2"
                                },
                                {
                                    "Szoba": "143",
                                    "Év": "2016",
                                    "darab": "6"
                                },
                                {
                                    "Szoba": "143",
                                    "Év": "2017",
                                    "darab": "1"
                                },
                                {
                                    "Szoba": "143",
                                    "Év": "Részösszeg",
                                    "darab": "7"
                                },
                                {
                                    "Szoba": "144",
                                    "Év": "2016",
                                    "darab": "4"
                                },
                                {
                                    "Szoba": "144",
                                    "Év": "2017",
                                    "darab": "1"
                                },
                                {
                                    "Szoba": "144",
                                    "Év": "Részösszeg",
                                    "darab": "5"
                                },
                                {
                                    "Szoba": "145",
                                    "Év": "2016",
                                    "darab": "5"
                                },
                                {
                                    "Szoba": "145",
                                    "Év": "2017",
                                    "darab": "1"
                                },
                                {
                                    "Szoba": "145",
                                    "Év": "Részösszeg",
                                    "darab": "6"
                                },
                                {
                                    "Szoba": "146",
                                    "Év": "2016",
                                    "darab": "5"
                                },
                                {
                                    "Szoba": "146",
                                    "Év": "2017",
                                    "darab": "1"
                                },
                                {
                                    "Szoba": "146",
                                    "Év": "Részösszeg",
                                    "darab": "6"
                                },
                                {
                                    "Szoba": "147",
                                    "Év": "2016",
                                    "darab": "1"
                                },
                                {
                                    "Szoba": "147",
                                    "Év": "Részösszeg",
                                    "darab": "1"
                                },
                                {
                                    "Szoba": "148",
                                    "Év": "2016",
                                    "darab": "5"
                                },
                                {
                                    "Szoba": "148",
                                    "Év": "2017",
                                    "darab": "1"
                                },
                                {
                                    "Szoba": "148",
                                    "Év": "Részösszeg",
                                    "darab": "6"
                                },
                                {
                                    "Szoba": "149",
                                    "Év": "2016",
                                    "darab": "6"
                                },
                                {
                                    "Szoba": "149",
                                    "Év": "2017",
                                    "darab": "1"
                                },
                                {
                                    "Szoba": "149",
                                    "Év": "Részösszeg",
                                    "darab": "7"
                                },
                                {
                                    "Szoba": "150",
                                    "Év": "2016",
                                    "darab": "5"
                                },
                                {
                                    "Szoba": "150",
                                    "Év": "2017",
                                    "darab": "1"
                                },
                                {
                                    "Szoba": "150",
                                    "Év": "Részösszeg",
                                    "darab": "6"
                                },
                                {
                                    "Szoba": "151",
                                    "Év": "2016",
                                    "darab": "3"
                                },
                                {
                                    "Szoba": "151",
                                    "Év": "Részösszeg",
                                    "darab": "3"
                                },
                                {
                                    "Szoba": "152",
                                    "Év": "2016",
                                    "darab": "3"
                                },
                                {
                                    "Szoba": "152",
                                    "Év": "2017",
                                    "darab": "1"
                                },
                                {
                                    "Szoba": "152",
                                    "Év": "Részösszeg",
                                    "darab": "4"
                                },
                                {
                                    "Szoba": "153",
                                    "Év": "2016",
                                    "darab": "2"
                                },
                                {
                                    "Szoba": "153",
                                    "Év": "2017",
                                    "darab": "3"
                                },
                                {
                                    "Szoba": "153",
                                    "Év": "Részösszeg",
                                    "darab": "5"
                                },
                                {
                                    "Szoba": "154",
                                    "Év": "2016",
                                    "darab": "4"
                                },
                                {
                                    "Szoba": "154",
                                    "Év": "2017",
                                    "darab": "1"
                                },
                                {
                                    "Szoba": "154",
                                    "Év": "Részösszeg",
                                    "darab": "5"
                                },
                                {
                                    "Szoba": "155",
                                    "Év": "2016",
                                    "darab": "4"
                                },
                                {
                                    "Szoba": "155",
                                    "Év": "2017",
                                    "darab": "1"
                                },
                                {
                                    "Szoba": "155",
                                    "Év": "Részösszeg",
                                    "darab": "5"
                                },
                                {
                                    "Szoba": "156",
                                    "Év": "2016",
                                    "darab": "4"
                                },
                                {
                                    "Szoba": "156",
                                    "Év": "2017",
                                    "darab": "3"
                                },
                                {
                                    "Szoba": "156",
                                    "Év": "Részösszeg",
                                    "darab": "7"
                                },
                                {
                                    "Szoba": "157",
                                    "Év": "2016",
                                    "darab": "4"
                                },
                                {
                                    "Szoba": "157",
                                    "Év": "2017",
                                    "darab": "1"
                                },
                                {
                                    "Szoba": "157",
                                    "Év": "Részösszeg",
                                    "darab": "5"
                                },
                                {
                                    "Szoba": "158",
                                    "Év": "2016",
                                    "darab": "3"
                                },
                                {
                                    "Szoba": "158",
                                    "Év": "Részösszeg",
                                    "darab": "3"
                                },
                                {
                                    "Szoba": "160",
                                    "Év": "2016",
                                    "darab": "4"
                                },
                                {
                                    "Szoba": "160",
                                    "Év": "2017",
                                    "darab": "1"
                                },
                                {
                                    "Szoba": "160",
                                    "Év": "Részösszeg",
                                    "darab": "5"
                                },
                                {
                                    "Szoba": "161",
                                    "Év": "2016",
                                    "darab": "5"
                                },
                                {
                                    "Szoba": "161",
                                    "Év": "2017",
                                    "darab": "1"
                                },
                                {
                                    "Szoba": "161",
                                    "Év": "Részösszeg",
                                    "darab": "6"
                                },
                                {
                                    "Szoba": "162",
                                    "Év": "2016",
                                    "darab": "3"
                                },
                                {
                                    "Szoba": "162",
                                    "Év": "Részösszeg",
                                    "darab": "3"
                                },
                                {
                                    "Szoba": "163",
                                    "Év": "2016",
                                    "darab": "6"
                                },
                                {
                                    "Szoba": "163",
                                    "Év": "2017",
                                    "darab": "1"
                                },
                                {
                                    "Szoba": "163",
                                    "Év": "Részösszeg",
                                    "darab": "7"
                                },
                                {
                                    "Szoba": "164",
                                    "Év": "2016",
                                    "darab": "5"
                                },
                                {
                                    "Szoba": "164",
                                    "Év": "Részösszeg",
                                    "darab": "5"
                                },
                                {
                                    "Szoba": "165",
                                    "Év": "2016",
                                    "darab": "7"
                                },
                                {
                                    "Szoba": "165",
                                    "Év": "Részösszeg",
                                    "darab": "7"
                                },
                                {
                                    "Szoba": "166",
                                    "Év": "2016",
                                    "darab": "2"
                                },
                                {
                                    "Szoba": "166",
                                    "Év": "2017",
                                    "darab": "1"
                                },
                                {
                                    "Szoba": "166",
                                    "Év": "Részösszeg",
                                    "darab": "3"
                                },
                                {
                                    "Szoba": "167",
                                    "Év": "2016",
                                    "darab": "1"
                                },
                                {
                                    "Szoba": "167",
                                    "Év": "2017",
                                    "darab": "1"
                                },
                                {
                                    "Szoba": "167",
                                    "Év": "Részösszeg",
                                    "darab": "2"
                                },
                                {
                                    "Szoba": "168",
                                    "Év": "2016",
                                    "darab": "5"
                                },
                                {
                                    "Szoba": "168",
                                    "Év": "Részösszeg",
                                    "darab": "5"
                                },
                                {
                                    "Szoba": "169",
                                    "Év": "2016",
                                    "darab": "5"
                                },
                                {
                                    "Szoba": "169",
                                    "Év": "2017",
                                    "darab": "1"
                                },
                                {
                                    "Szoba": "169",
                                    "Év": "Részösszeg",
                                    "darab": "6"
                                },
                                {
                                    "Szoba": "170",
                                    "Év": "2016",
                                    "darab": "5"
                                },
                                {
                                    "Szoba": "170",
                                    "Év": "Részösszeg",
                                    "darab": "5"
                                },
                                {
                                    "Szoba": "171",
                                    "Év": "2016",
                                    "darab": "4"
                                },
                                {
                                    "Szoba": "171",
                                    "Év": "2017",
                                    "darab": "1"
                                },
                                {
                                    "Szoba": "171",
                                    "Év": "Részösszeg",
                                    "darab": "5"
                                },
                                {
                                    "Szoba": "172",
                                    "Év": "2016",
                                    "darab": "7"
                                },
                                {
                                    "Szoba": "172",
                                    "Év": "2017",
                                    "darab": "2"
                                },
                                {
                                    "Szoba": "172",
                                    "Év": "Részösszeg",
                                    "darab": "9"
                                },
                                {
                                    "Szoba": "173",
                                    "Év": "2016",
                                    "darab": "3"
                                },
                                {
                                    "Szoba": "173",
                                    "Év": "2017",
                                    "darab": "1"
                                },
                                {
                                    "Szoba": "173",
                                    "Év": "Részösszeg",
                                    "darab": "4"
                                },
                                {
                                    "Szoba": "174",
                                    "Év": "2016",
                                    "darab": "4"
                                },
                                {
                                    "Szoba": "174",
                                    "Év": "Részösszeg",
                                    "darab": "4"
                                },
                                {
                                    "Szoba": "175",
                                    "Év": "2016",
                                    "darab": "5"
                                },
                                {
                                    "Szoba": "175",
                                    "Év": "Részösszeg",
                                    "darab": "5"
                                },
                                {
                                    "Szoba": "176",
                                    "Év": "2016",
                                    "darab": "4"
                                },
                                {
                                    "Szoba": "176",
                                    "Év": "2017",
                                    "darab": "2"
                                },
                                {
                                    "Szoba": "176",
                                    "Év": "Részösszeg",
                                    "darab": "6"
                                },
                                {
                                    "Szoba": "177",
                                    "Év": "2016",
                                    "darab": "3"
                                },
                                {
                                    "Szoba": "177",
                                    "Év": "2017",
                                    "darab": "1"
                                },
                                {
                                    "Szoba": "177",
                                    "Év": "Részösszeg",
                                    "darab": "4"
                                },
                                {
                                    "Szoba": "178",
                                    "Év": "2016",
                                    "darab": "4"
                                },
                                {
                                    "Szoba": "178",
                                    "Év": "Részösszeg",
                                    "darab": "4"
                                },
                                {
                                    "Szoba": "179",
                                    "Év": "2016",
                                    "darab": "2"
                                },
                                {
                                    "Szoba": "179",
                                    "Év": "2017",
                                    "darab": "1"
                                },
                                {
                                    "Szoba": "179",
                                    "Év": "Részösszeg",
                                    "darab": "3"
                                },
                                {
                                    "Szoba": "180",
                                    "Év": "2016",
                                    "darab": "1"
                                },
                                {
                                    "Szoba": "180",
                                    "Év": "2017",
                                    "darab": "2"
                                },
                                {
                                    "Szoba": "180",
                                    "Év": "Részösszeg",
                                    "darab": "3"
                                },
                                {
                                    "Szoba": "181",
                                    "Év": "2016",
                                    "darab": "6"
                                },
                                {
                                    "Szoba": "181",
                                    "Év": "Részösszeg",
                                    "darab": "6"
                                },
                                {
                                    "Szoba": "182",
                                    "Év": "2016",
                                    "darab": "10"
                                },
                                {
                                    "Szoba": "182",
                                    "Év": "2017",
                                    "darab": "2"
                                },
                                {
                                    "Szoba": "182",
                                    "Év": "Részösszeg",
                                    "darab": "12"
                                },
                                {
                                    "Szoba": "183",
                                    "Év": "2016",
                                    "darab": "3"
                                },
                                {
                                    "Szoba": "183",
                                    "Év": "2017",
                                    "darab": "1"
                                },
                                {
                                    "Szoba": "183",
                                    "Év": "Részösszeg",
                                    "darab": "4"
                                },
                                {
                                    "Szoba": "184",
                                    "Év": "2016",
                                    "darab": "4"
                                },
                                {
                                    "Szoba": "184",
                                    "Év": "Részösszeg",
                                    "darab": "4"
                                },
                                {
                                    "Szoba": "185",
                                    "Év": "2016",
                                    "darab": "10"
                                },
                                {
                                    "Szoba": "185",
                                    "Év": "2017",
                                    "darab": "2"
                                },
                                {
                                    "Szoba": "185",
                                    "Év": "Részösszeg",
                                    "darab": "12"
                                },
                                {
                                    "Szoba": "186",
                                    "Év": "2016",
                                    "darab": "3"
                                },
                                {
                                    "Szoba": "186",
                                    "Év": "2017",
                                    "darab": "1"
                                },
                                {
                                    "Szoba": "186",
                                    "Év": "Részösszeg",
                                    "darab": "4"
                                },
                                {
                                    "Szoba": "187",
                                    "Év": "2016",
                                    "darab": "7"
                                },
                                {
                                    "Szoba": "187",
                                    "Év": "Részösszeg",
                                    "darab": "7"
                                },
                                {
                                    "Szoba": "188",
                                    "Év": "2016",
                                    "darab": "6"
                                },
                                {
                                    "Szoba": "188",
                                    "Év": "Részösszeg",
                                    "darab": "6"
                                },
                                {
                                    "Szoba": "189",
                                    "Év": "2016",
                                    "darab": "3"
                                },
                                {
                                    "Szoba": "189",
                                    "Év": "2017",
                                    "darab": "2"
                                },
                                {
                                    "Szoba": "189",
                                    "Év": "Részösszeg",
                                    "darab": "5"
                                },
                                {
                                    "Szoba": "190",
                                    "Év": "2016",
                                    "darab": "4"
                                },
                                {
                                    "Szoba": "190",
                                    "Év": "2017",
                                    "darab": "1"
                                },
                                {
                                    "Szoba": "190",
                                    "Év": "Részösszeg",
                                    "darab": "5"
                                },
                                {
                                    "Szoba": "191",
                                    "Év": "2016",
                                    "darab": "3"
                                },
                                {
                                    "Szoba": "191",
                                    "Év": "2017",
                                    "darab": "2"
                                },
                                {
                                    "Szoba": "191",
                                    "Év": "Részösszeg",
                                    "darab": "5"
                                },
                                {
                                    "Szoba": "192",
                                    "Év": "2016",
                                    "darab": "2"
                                },
                                {
                                    "Szoba": "192",
                                    "Év": "Részösszeg",
                                    "darab": "2"
                                },
                                {
                                    "Szoba": "193",
                                    "Év": "2016",
                                    "darab": "7"
                                },
                                {
                                    "Szoba": "193",
                                    "Év": "Részösszeg",
                                    "darab": "7"
                                },
                                {
                                    "Szoba": "194",
                                    "Év": "2016",
                                    "darab": "1"
                                },
                                {
                                    "Szoba": "194",
                                    "Év": "Részösszeg",
                                    "darab": "1"
                                },
                                {
                                    "Szoba": "195",
                                    "Év": "2016",
                                    "darab": "4"
                                },
                                {
                                    "Szoba": "195",
                                    "Év": "2017",
                                    "darab": "2"
                                },
                                {
                                    "Szoba": "195",
                                    "Év": "Részösszeg",
                                    "darab": "6"
                                },
                                {
                                    "Szoba": "196",
                                    "Év": "2016",
                                    "darab": "4"
                                },
                                {
                                    "Szoba": "196",
                                    "Év": "Részösszeg",
                                    "darab": "4"
                                },
                                {
                                    "Szoba": "197",
                                    "Év": "2016",
                                    "darab": "6"
                                },
                                {
                                    "Szoba": "197",
                                    "Év": "Részösszeg",
                                    "darab": "6"
                                },
                                {
                                    "Szoba": "198",
                                    "Év": "2016",
                                    "darab": "7"
                                },
                                {
                                    "Szoba": "198",
                                    "Év": "2017",
                                    "darab": "1"
                                },
                                {
                                    "Szoba": "198",
                                    "Év": "Részösszeg",
                                    "darab": "8"
                                },
                                {
                                    "Szoba": "Szoba",
                                    "Év": "Összesen",
                                    "darab": "1027"
                                }
                            ]
                        },
                        "text/html": [
                            "<table>",
                            "<tr><th>Szoba</th><th>Év</th><th>darab</th></tr>",
                            "<tr><td>1</td><td>2016</td><td>8</td></tr>",
                            "<tr><td>1</td><td>Részösszeg</td><td>8</td></tr>",
                            "<tr><td>2</td><td>2016</td><td>4</td></tr>",
                            "<tr><td>2</td><td>Részösszeg</td><td>4</td></tr>",
                            "<tr><td>3</td><td>2016</td><td>6</td></tr>",
                            "<tr><td>3</td><td>2017</td><td>2</td></tr>",
                            "<tr><td>3</td><td>Részösszeg</td><td>8</td></tr>",
                            "<tr><td>4</td><td>2016</td><td>5</td></tr>",
                            "<tr><td>4</td><td>2017</td><td>1</td></tr>",
                            "<tr><td>4</td><td>Részösszeg</td><td>6</td></tr>",
                            "<tr><td>5</td><td>2016</td><td>4</td></tr>",
                            "<tr><td>5</td><td>Részösszeg</td><td>4</td></tr>",
                            "<tr><td>6</td><td>2016</td><td>6</td></tr>",
                            "<tr><td>6</td><td>Részösszeg</td><td>6</td></tr>",
                            "<tr><td>7</td><td>2016</td><td>6</td></tr>",
                            "<tr><td>7</td><td>Részösszeg</td><td>6</td></tr>",
                            "<tr><td>8</td><td>2016</td><td>5</td></tr>",
                            "<tr><td>8</td><td>Részösszeg</td><td>5</td></tr>",
                            "<tr><td>9</td><td>2016</td><td>4</td></tr>",
                            "<tr><td>9</td><td>2017</td><td>2</td></tr>",
                            "<tr><td>9</td><td>Részösszeg</td><td>6</td></tr>",
                            "<tr><td>10</td><td>2016</td><td>4</td></tr>",
                            "<tr><td>10</td><td>Részösszeg</td><td>4</td></tr>",
                            "<tr><td>11</td><td>2016</td><td>3</td></tr>",
                            "<tr><td>11</td><td>2017</td><td>1</td></tr>",
                            "<tr><td>11</td><td>Részösszeg</td><td>4</td></tr>",
                            "<tr><td>12</td><td>2016</td><td>8</td></tr>",
                            "<tr><td>12</td><td>2017</td><td>1</td></tr>",
                            "<tr><td>12</td><td>Részösszeg</td><td>9</td></tr>",
                            "<tr><td>13</td><td>2016</td><td>3</td></tr>",
                            "<tr><td>13</td><td>2017</td><td>1</td></tr>",
                            "<tr><td>13</td><td>Részösszeg</td><td>4</td></tr>",
                            "<tr><td>14</td><td>2016</td><td>2</td></tr>",
                            "<tr><td>14</td><td>2017</td><td>1</td></tr>",
                            "<tr><td>14</td><td>Részösszeg</td><td>3</td></tr>",
                            "<tr><td>15</td><td>2016</td><td>4</td></tr>",
                            "<tr><td>15</td><td>2017</td><td>2</td></tr>",
                            "<tr><td>15</td><td>Részösszeg</td><td>6</td></tr>",
                            "<tr><td>16</td><td>2016</td><td>4</td></tr>",
                            "<tr><td>16</td><td>2017</td><td>1</td></tr>",
                            "<tr><td>16</td><td>Részösszeg</td><td>5</td></tr>",
                            "<tr><td>17</td><td>2016</td><td>5</td></tr>",
                            "<tr><td>17</td><td>2017</td><td>1</td></tr>",
                            "<tr><td>17</td><td>Részösszeg</td><td>6</td></tr>",
                            "<tr><td>18</td><td>2016</td><td>5</td></tr>",
                            "<tr><td>18</td><td>2017</td><td>1</td></tr>",
                            "<tr><td>18</td><td>Részösszeg</td><td>6</td></tr>",
                            "<tr><td>19</td><td>2016</td><td>5</td></tr>",
                            "<tr><td>19</td><td>2017</td><td>1</td></tr>",
                            "<tr><td>19</td><td>Részösszeg</td><td>6</td></tr>",
                            "<tr><td>20</td><td>2016</td><td>5</td></tr>",
                            "<tr><td>20</td><td>Részösszeg</td><td>5</td></tr>",
                            "<tr><td>21</td><td>2016</td><td>4</td></tr>",
                            "<tr><td>21</td><td>Részösszeg</td><td>4</td></tr>",
                            "<tr><td>22</td><td>2016</td><td>6</td></tr>",
                            "<tr><td>22</td><td>Részösszeg</td><td>6</td></tr>",
                            "<tr><td>23</td><td>2016</td><td>3</td></tr>",
                            "<tr><td>23</td><td>Részösszeg</td><td>3</td></tr>",
                            "<tr><td>24</td><td>2016</td><td>2</td></tr>",
                            "<tr><td>24</td><td>2017</td><td>1</td></tr>",
                            "<tr><td>24</td><td>Részösszeg</td><td>3</td></tr>",
                            "<tr><td>25</td><td>2016</td><td>2</td></tr>",
                            "<tr><td>25</td><td>Részösszeg</td><td>2</td></tr>",
                            "<tr><td>26</td><td>2016</td><td>2</td></tr>",
                            "<tr><td>26</td><td>Részösszeg</td><td>2</td></tr>",
                            "<tr><td>27</td><td>2016</td><td>6</td></tr>",
                            "<tr><td>27</td><td>2017</td><td>1</td></tr>",
                            "<tr><td>27</td><td>Részösszeg</td><td>7</td></tr>",
                            "<tr><td>28</td><td>2016</td><td>5</td></tr>",
                            "<tr><td>28</td><td>2017</td><td>1</td></tr>",
                            "<tr><td>28</td><td>Részösszeg</td><td>6</td></tr>",
                            "<tr><td>29</td><td>2016</td><td>5</td></tr>",
                            "<tr><td>29</td><td>2017</td><td>1</td></tr>",
                            "<tr><td>29</td><td>Részösszeg</td><td>6</td></tr>",
                            "<tr><td>30</td><td>2016</td><td>3</td></tr>",
                            "<tr><td>30</td><td>Részösszeg</td><td>3</td></tr>",
                            "<tr><td>31</td><td>2016</td><td>3</td></tr>",
                            "<tr><td>31</td><td>Részösszeg</td><td>3</td></tr>",
                            "<tr><td>32</td><td>2016</td><td>1</td></tr>",
                            "<tr><td>32</td><td>Részösszeg</td><td>1</td></tr>",
                            "<tr><td>33</td><td>2016</td><td>6</td></tr>",
                            "<tr><td>33</td><td>Részösszeg</td><td>6</td></tr>",
                            "<tr><td>34</td><td>2016</td><td>4</td></tr>",
                            "<tr><td>34</td><td>Részösszeg</td><td>4</td></tr>",
                            "<tr><td>35</td><td>2016</td><td>6</td></tr>",
                            "<tr><td>35</td><td>2017</td><td>3</td></tr>",
                            "<tr><td>35</td><td>Részösszeg</td><td>9</td></tr>",
                            "<tr><td>36</td><td>2016</td><td>6</td></tr>",
                            "<tr><td>36</td><td>Részösszeg</td><td>6</td></tr>",
                            "<tr><td>37</td><td>2016</td><td>3</td></tr>",
                            "<tr><td>37</td><td>Részösszeg</td><td>3</td></tr>",
                            "<tr><td>38</td><td>2016</td><td>5</td></tr>",
                            "<tr><td>38</td><td>2017</td><td>3</td></tr>",
                            "<tr><td>38</td><td>Részösszeg</td><td>8</td></tr>",
                            "<tr><td>39</td><td>2016</td><td>4</td></tr>",
                            "<tr><td>39</td><td>2017</td><td>3</td></tr>",
                            "<tr><td>39</td><td>Részösszeg</td><td>7</td></tr>",
                            "<tr><td>40</td><td>2016</td><td>4</td></tr>",
                            "<tr><td>40</td><td>Részösszeg</td><td>4</td></tr>",
                            "<tr><td>41</td><td>2016</td><td>2</td></tr>",
                            "<tr><td>41</td><td>Részösszeg</td><td>2</td></tr>",
                            "<tr><td>42</td><td>2016</td><td>5</td></tr>",
                            "<tr><td>42</td><td>2017</td><td>1</td></tr>",
                            "<tr><td>42</td><td>Részösszeg</td><td>6</td></tr>",
                            "<tr><td>43</td><td>2016</td><td>6</td></tr>",
                            "<tr><td>43</td><td>2017</td><td>2</td></tr>",
                            "<tr><td>43</td><td>Részösszeg</td><td>8</td></tr>",
                            "<tr><td>44</td><td>2016</td><td>4</td></tr>",
                            "<tr><td>44</td><td>2017</td><td>2</td></tr>",
                            "<tr><td>44</td><td>Részösszeg</td><td>6</td></tr>",
                            "<tr><td>45</td><td>2016</td><td>5</td></tr>",
                            "<tr><td>45</td><td>Részösszeg</td><td>5</td></tr>",
                            "<tr><td>46</td><td>2016</td><td>3</td></tr>",
                            "<tr><td>46</td><td>2017</td><td>1</td></tr>",
                            "<tr><td>46</td><td>Részösszeg</td><td>4</td></tr>",
                            "<tr><td>47</td><td>2016</td><td>2</td></tr>",
                            "<tr><td>47</td><td>Részösszeg</td><td>2</td></tr>",
                            "<tr><td>48</td><td>2016</td><td>6</td></tr>",
                            "<tr><td>48</td><td>2017</td><td>3</td></tr>",
                            "<tr><td>48</td><td>Részösszeg</td><td>9</td></tr>",
                            "<tr><td>49</td><td>2016</td><td>6</td></tr>",
                            "<tr><td>49</td><td>2017</td><td>1</td></tr>",
                            "<tr><td>49</td><td>Részösszeg</td><td>7</td></tr>",
                            "<tr><td>50</td><td>2016</td><td>4</td></tr>",
                            "<tr><td>50</td><td>Részösszeg</td><td>4</td></tr>",
                            "<tr><td>51</td><td>2016</td><td>3</td></tr>",
                            "<tr><td>51</td><td>2017</td><td>2</td></tr>",
                            "<tr><td>51</td><td>Részösszeg</td><td>5</td></tr>",
                            "<tr><td>52</td><td>2016</td><td>3</td></tr>",
                            "<tr><td>52</td><td>2017</td><td>2</td></tr>",
                            "<tr><td>52</td><td>Részösszeg</td><td>5</td></tr>",
                            "<tr><td>53</td><td>2016</td><td>2</td></tr>",
                            "<tr><td>53</td><td>Részösszeg</td><td>2</td></tr>",
                            "<tr><td>54</td><td>2016</td><td>6</td></tr>",
                            "<tr><td>54</td><td>Részösszeg</td><td>6</td></tr>",
                            "<tr><td>55</td><td>2016</td><td>6</td></tr>",
                            "<tr><td>55</td><td>2017</td><td>2</td></tr>",
                            "<tr><td>55</td><td>Részösszeg</td><td>8</td></tr>",
                            "<tr><td>56</td><td>2016</td><td>2</td></tr>",
                            "<tr><td>56</td><td>Részösszeg</td><td>2</td></tr>",
                            "<tr><td>57</td><td>2016</td><td>2</td></tr>",
                            "<tr><td>57</td><td>2017</td><td>2</td></tr>",
                            "<tr><td>57</td><td>Részösszeg</td><td>4</td></tr>",
                            "<tr><td>58</td><td>2016</td><td>12</td></tr>",
                            "<tr><td>58</td><td>2017</td><td>1</td></tr>",
                            "<tr><td>58</td><td>Részösszeg</td><td>13</td></tr>",
                            "<tr><td>59</td><td>2016</td><td>6</td></tr>",
                            "<tr><td>59</td><td>2017</td><td>1</td></tr>",
                            "<tr><td>59</td><td>Részösszeg</td><td>7</td></tr>",
                            "<tr><td>60</td><td>2016</td><td>1</td></tr>",
                            "<tr><td>60</td><td>Részösszeg</td><td>1</td></tr>",
                            "<tr><td>61</td><td>2016</td><td>4</td></tr>",
                            "<tr><td>61</td><td>2017</td><td>1</td></tr>",
                            "<tr><td>61</td><td>Részösszeg</td><td>5</td></tr>",
                            "<tr><td>62</td><td>2016</td><td>4</td></tr>",
                            "<tr><td>62</td><td>2017</td><td>1</td></tr>",
                            "<tr><td>62</td><td>Részösszeg</td><td>5</td></tr>",
                            "<tr><td>63</td><td>2016</td><td>4</td></tr>",
                            "<tr><td>63</td><td>Részösszeg</td><td>4</td></tr>",
                            "<tr><td>64</td><td>2016</td><td>3</td></tr>",
                            "<tr><td>64</td><td>2017</td><td>3</td></tr>",
                            "<tr><td>64</td><td>Részösszeg</td><td>6</td></tr>",
                            "<tr><td>65</td><td>2016</td><td>1</td></tr>",
                            "<tr><td>65</td><td>Részösszeg</td><td>1</td></tr>",
                            "<tr><td>66</td><td>2016</td><td>4</td></tr>",
                            "<tr><td>66</td><td>Részösszeg</td><td>4</td></tr>",
                            "<tr><td>67</td><td>2016</td><td>4</td></tr>",
                            "<tr><td>67</td><td>2017</td><td>2</td></tr>",
                            "<tr><td>67</td><td>Részösszeg</td><td>6</td></tr>",
                            "<tr><td>68</td><td>2016</td><td>3</td></tr>",
                            "<tr><td>68</td><td>Részösszeg</td><td>3</td></tr>",
                            "<tr><td>69</td><td>2016</td><td>4</td></tr>",
                            "<tr><td>69</td><td>Részösszeg</td><td>4</td></tr>",
                            "<tr><td>70</td><td>2016</td><td>10</td></tr>",
                            "<tr><td>70</td><td>2017</td><td>1</td></tr>",
                            "<tr><td>70</td><td>Részösszeg</td><td>11</td></tr>",
                            "<tr><td>71</td><td>2016</td><td>3</td></tr>",
                            "<tr><td>71</td><td>Részösszeg</td><td>3</td></tr>",
                            "<tr><td>72</td><td>2016</td><td>4</td></tr>",
                            "<tr><td>72</td><td>Részösszeg</td><td>4</td></tr>",
                            "<tr><td>73</td><td>2016</td><td>4</td></tr>",
                            "<tr><td>73</td><td>Részösszeg</td><td>4</td></tr>",
                            "<tr><td>74</td><td>2016</td><td>9</td></tr>",
                            "<tr><td>74</td><td>Részösszeg</td><td>9</td></tr>",
                            "<tr><td>75</td><td>2016</td><td>1</td></tr>",
                            "<tr><td>75</td><td>2017</td><td>2</td></tr>",
                            "<tr><td>75</td><td>Részösszeg</td><td>3</td></tr>",
                            "<tr><td>76</td><td>2016</td><td>2</td></tr>",
                            "<tr><td>76</td><td>2017</td><td>1</td></tr>",
                            "<tr><td>76</td><td>Részösszeg</td><td>3</td></tr>",
                            "<tr><td>77</td><td>2016</td><td>4</td></tr>",
                            "<tr><td>77</td><td>2017</td><td>2</td></tr>",
                            "<tr><td>77</td><td>Részösszeg</td><td>6</td></tr>",
                            "<tr><td>78</td><td>2016</td><td>5</td></tr>",
                            "<tr><td>78</td><td>2017</td><td>1</td></tr>",
                            "<tr><td>78</td><td>Részösszeg</td><td>6</td></tr>",
                            "<tr><td>79</td><td>2016</td><td>4</td></tr>",
                            "<tr><td>79</td><td>2017</td><td>1</td></tr>",
                            "<tr><td>79</td><td>Részösszeg</td><td>5</td></tr>",
                            "<tr><td>80</td><td>2016</td><td>7</td></tr>",
                            "<tr><td>80</td><td>Részösszeg</td><td>7</td></tr>",
                            "<tr><td>81</td><td>2016</td><td>1</td></tr>",
                            "<tr><td>81</td><td>2017</td><td>4</td></tr>",
                            "<tr><td>81</td><td>Részösszeg</td><td>5</td></tr>",
                            "<tr><td>82</td><td>2016</td><td>6</td></tr>",
                            "<tr><td>82</td><td>Részösszeg</td><td>6</td></tr>",
                            "<tr><td>83</td><td>2016</td><td>8</td></tr>",
                            "<tr><td>83</td><td>Részösszeg</td><td>8</td></tr>",
                            "<tr><td>84</td><td>2016</td><td>4</td></tr>",
                            "<tr><td>84</td><td>Részösszeg</td><td>4</td></tr>",
                            "<tr><td>85</td><td>2016</td><td>3</td></tr>",
                            "<tr><td>85</td><td>2017</td><td>1</td></tr>",
                            "<tr><td>85</td><td>Részösszeg</td><td>4</td></tr>",
                            "<tr><td>86</td><td>2016</td><td>4</td></tr>",
                            "<tr><td>86</td><td>2017</td><td>1</td></tr>",
                            "<tr><td>86</td><td>Részösszeg</td><td>5</td></tr>",
                            "<tr><td>87</td><td>2016</td><td>4</td></tr>",
                            "<tr><td>87</td><td>2017</td><td>1</td></tr>",
                            "<tr><td>87</td><td>Részösszeg</td><td>5</td></tr>",
                            "<tr><td>88</td><td>2016</td><td>6</td></tr>",
                            "<tr><td>88</td><td>2017</td><td>2</td></tr>",
                            "<tr><td>88</td><td>Részösszeg</td><td>8</td></tr>",
                            "<tr><td>89</td><td>2016</td><td>7</td></tr>",
                            "<tr><td>89</td><td>2017</td><td>1</td></tr>",
                            "<tr><td>89</td><td>Részösszeg</td><td>8</td></tr>",
                            "<tr><td>90</td><td>2016</td><td>4</td></tr>",
                            "<tr><td>90</td><td>Részösszeg</td><td>4</td></tr>",
                            "<tr><td>91</td><td>2016</td><td>4</td></tr>",
                            "<tr><td>91</td><td>Részösszeg</td><td>4</td></tr>",
                            "<tr><td>92</td><td>2016</td><td>4</td></tr>",
                            "<tr><td>92</td><td>2017</td><td>2</td></tr>",
                            "<tr><td>92</td><td>Részösszeg</td><td>6</td></tr>",
                            "<tr><td>93</td><td>2016</td><td>5</td></tr>",
                            "<tr><td>93</td><td>Részösszeg</td><td>5</td></tr>",
                            "<tr><td>94</td><td>2016</td><td>8</td></tr>",
                            "<tr><td>94</td><td>2017</td><td>2</td></tr>",
                            "<tr><td>94</td><td>Részösszeg</td><td>10</td></tr>",
                            "<tr><td>95</td><td>2016</td><td>3</td></tr>",
                            "<tr><td>95</td><td>2017</td><td>1</td></tr>",
                            "<tr><td>95</td><td>Részösszeg</td><td>4</td></tr>",
                            "<tr><td>96</td><td>2016</td><td>5</td></tr>",
                            "<tr><td>96</td><td>2017</td><td>2</td></tr>",
                            "<tr><td>96</td><td>Részösszeg</td><td>7</td></tr>",
                            "<tr><td>97</td><td>2016</td><td>5</td></tr>",
                            "<tr><td>97</td><td>2017</td><td>2</td></tr>",
                            "<tr><td>97</td><td>Részösszeg</td><td>7</td></tr>",
                            "<tr><td>98</td><td>2016</td><td>4</td></tr>",
                            "<tr><td>98</td><td>Részösszeg</td><td>4</td></tr>",
                            "<tr><td>99</td><td>2016</td><td>4</td></tr>",
                            "<tr><td>99</td><td>2017</td><td>1</td></tr>",
                            "<tr><td>99</td><td>Részösszeg</td><td>5</td></tr>",
                            "<tr><td>100</td><td>2016</td><td>3</td></tr>",
                            "<tr><td>100</td><td>2017</td><td>1</td></tr>",
                            "<tr><td>100</td><td>Részösszeg</td><td>4</td></tr>",
                            "<tr><td>101</td><td>2016</td><td>2</td></tr>",
                            "<tr><td>101</td><td>2017</td><td>1</td></tr>",
                            "<tr><td>101</td><td>Részösszeg</td><td>3</td></tr>",
                            "<tr><td>102</td><td>2016</td><td>2</td></tr>",
                            "<tr><td>102</td><td>Részösszeg</td><td>2</td></tr>",
                            "<tr><td>103</td><td>2016</td><td>3</td></tr>",
                            "<tr><td>103</td><td>2017</td><td>1</td></tr>",
                            "<tr><td>103</td><td>Részösszeg</td><td>4</td></tr>",
                            "<tr><td>104</td><td>2016</td><td>2</td></tr>",
                            "<tr><td>104</td><td>2017</td><td>2</td></tr>",
                            "<tr><td>104</td><td>Részösszeg</td><td>4</td></tr>",
                            "<tr><td>105</td><td>2016</td><td>1</td></tr>",
                            "<tr><td>105</td><td>2017</td><td>1</td></tr>",
                            "<tr><td>105</td><td>Részösszeg</td><td>2</td></tr>",
                            "<tr><td>106</td><td>2016</td><td>5</td></tr>",
                            "<tr><td>106</td><td>2017</td><td>1</td></tr>",
                            "<tr><td>106</td><td>Részösszeg</td><td>6</td></tr>",
                            "<tr><td>107</td><td>2016</td><td>3</td></tr>",
                            "<tr><td>107</td><td>2017</td><td>2</td></tr>",
                            "<tr><td>107</td><td>Részösszeg</td><td>5</td></tr>",
                            "<tr><td>108</td><td>2016</td><td>2</td></tr>",
                            "<tr><td>108</td><td>Részösszeg</td><td>2</td></tr>",
                            "<tr><td>109</td><td>2016</td><td>6</td></tr>",
                            "<tr><td>109</td><td>2017</td><td>1</td></tr>",
                            "<tr><td>109</td><td>Részösszeg</td><td>7</td></tr>",
                            "<tr><td>110</td><td>2016</td><td>6</td></tr>",
                            "<tr><td>110</td><td>2017</td><td>2</td></tr>",
                            "<tr><td>110</td><td>Részösszeg</td><td>8</td></tr>",
                            "<tr><td>111</td><td>2016</td><td>5</td></tr>",
                            "<tr><td>111</td><td>Részösszeg</td><td>5</td></tr>",
                            "<tr><td>112</td><td>2016</td><td>4</td></tr>",
                            "<tr><td>112</td><td>2017</td><td>1</td></tr>",
                            "<tr><td>112</td><td>Részösszeg</td><td>5</td></tr>",
                            "<tr><td>113</td><td>2016</td><td>3</td></tr>",
                            "<tr><td>113</td><td>2017</td><td>2</td></tr>",
                            "<tr><td>113</td><td>Részösszeg</td><td>5</td></tr>",
                            "<tr><td>114</td><td>2016</td><td>3</td></tr>",
                            "<tr><td>114</td><td>2017</td><td>1</td></tr>",
                            "<tr><td>114</td><td>Részösszeg</td><td>4</td></tr>",
                            "<tr><td>115</td><td>2016</td><td>5</td></tr>",
                            "<tr><td>115</td><td>2017</td><td>2</td></tr>",
                            "<tr><td>115</td><td>Részösszeg</td><td>7</td></tr>",
                            "<tr><td>116</td><td>2017</td><td>2</td></tr>",
                            "<tr><td>116</td><td>Részösszeg</td><td>2</td></tr>",
                            "<tr><td>117</td><td>2016</td><td>7</td></tr>",
                            "<tr><td>117</td><td>2017</td><td>1</td></tr>",
                            "<tr><td>117</td><td>Részösszeg</td><td>8</td></tr>",
                            "<tr><td>118</td><td>2016</td><td>5</td></tr>",
                            "<tr><td>118</td><td>2017</td><td>2</td></tr>",
                            "<tr><td>118</td><td>Részösszeg</td><td>7</td></tr>",
                            "<tr><td>119</td><td>2016</td><td>3</td></tr>",
                            "<tr><td>119</td><td>2017</td><td>2</td></tr>",
                            "<tr><td>119</td><td>Részösszeg</td><td>5</td></tr>",
                            "<tr><td>120</td><td>2016</td><td>4</td></tr>",
                            "<tr><td>120</td><td>2017</td><td>2</td></tr>",
                            "<tr><td>120</td><td>Részösszeg</td><td>6</td></tr>",
                            "<tr><td>121</td><td>2016</td><td>8</td></tr>",
                            "<tr><td>121</td><td>Részösszeg</td><td>8</td></tr>",
                            "<tr><td>122</td><td>2016</td><td>8</td></tr>",
                            "<tr><td>122</td><td>2017</td><td>1</td></tr>",
                            "<tr><td>122</td><td>Részösszeg</td><td>9</td></tr>",
                            "<tr><td>123</td><td>2016</td><td>5</td></tr>",
                            "<tr><td>123</td><td>Részösszeg</td><td>5</td></tr>",
                            "<tr><td>124</td><td>2016</td><td>4</td></tr>",
                            "<tr><td>124</td><td>2017</td><td>2</td></tr>",
                            "<tr><td>124</td><td>Részösszeg</td><td>6</td></tr>",
                            "<tr><td>125</td><td>2016</td><td>1</td></tr>",
                            "<tr><td>125</td><td>Részösszeg</td><td>1</td></tr>",
                            "<tr><td>126</td><td>2016</td><td>4</td></tr>",
                            "<tr><td>126</td><td>2017</td><td>2</td></tr>",
                            "<tr><td>126</td><td>Részösszeg</td><td>6</td></tr>",
                            "<tr><td>127</td><td>2016</td><td>6</td></tr>",
                            "<tr><td>127</td><td>2017</td><td>1</td></tr>",
                            "<tr><td>127</td><td>Részösszeg</td><td>7</td></tr>",
                            "<tr><td>128</td><td>2016</td><td>3</td></tr>",
                            "<tr><td>128</td><td>2017</td><td>2</td></tr>",
                            "<tr><td>128</td><td>Részösszeg</td><td>5</td></tr>",
                            "<tr><td>129</td><td>2016</td><td>2</td></tr>",
                            "<tr><td>129</td><td>2017</td><td>2</td></tr>",
                            "<tr><td>129</td><td>Részösszeg</td><td>4</td></tr>",
                            "<tr><td>130</td><td>2016</td><td>5</td></tr>",
                            "<tr><td>130</td><td>2017</td><td>1</td></tr>",
                            "<tr><td>130</td><td>Részösszeg</td><td>6</td></tr>",
                            "<tr><td>131</td><td>2016</td><td>4</td></tr>",
                            "<tr><td>131</td><td>2017</td><td>1</td></tr>",
                            "<tr><td>131</td><td>Részösszeg</td><td>5</td></tr>",
                            "<tr><td>132</td><td>2016</td><td>5</td></tr>",
                            "<tr><td>132</td><td>2017</td><td>1</td></tr>",
                            "<tr><td>132</td><td>Részösszeg</td><td>6</td></tr>",
                            "<tr><td>133</td><td>2016</td><td>5</td></tr>",
                            "<tr><td>133</td><td>2017</td><td>1</td></tr>",
                            "<tr><td>133</td><td>Részösszeg</td><td>6</td></tr>",
                            "<tr><td>134</td><td>2016</td><td>5</td></tr>",
                            "<tr><td>134</td><td>2017</td><td>1</td></tr>",
                            "<tr><td>134</td><td>Részösszeg</td><td>6</td></tr>",
                            "<tr><td>135</td><td>2016</td><td>3</td></tr>",
                            "<tr><td>135</td><td>Részösszeg</td><td>3</td></tr>",
                            "<tr><td>136</td><td>2016</td><td>3</td></tr>",
                            "<tr><td>136</td><td>Részösszeg</td><td>3</td></tr>",
                            "<tr><td>137</td><td>2016</td><td>6</td></tr>",
                            "<tr><td>137</td><td>Részösszeg</td><td>6</td></tr>",
                            "<tr><td>138</td><td>2016</td><td>7</td></tr>",
                            "<tr><td>138</td><td>Részösszeg</td><td>7</td></tr>",
                            "<tr><td>139</td><td>2016</td><td>5</td></tr>",
                            "<tr><td>139</td><td>2017</td><td>2</td></tr>",
                            "<tr><td>139</td><td>Részösszeg</td><td>7</td></tr>",
                            "<tr><td>140</td><td>2016</td><td>8</td></tr>",
                            "<tr><td>140</td><td>Részösszeg</td><td>8</td></tr>",
                            "<tr><td>141</td><td>2016</td><td>6</td></tr>",
                            "<tr><td>141</td><td>Részösszeg</td><td>6</td></tr>",
                            "<tr><td>142</td><td>2016</td><td>1</td></tr>",
                            "<tr><td>142</td><td>2017</td><td>1</td></tr>",
                            "<tr><td>142</td><td>Részösszeg</td><td>2</td></tr>",
                            "<tr><td>143</td><td>2016</td><td>6</td></tr>",
                            "<tr><td>143</td><td>2017</td><td>1</td></tr>",
                            "<tr><td>143</td><td>Részösszeg</td><td>7</td></tr>",
                            "<tr><td>144</td><td>2016</td><td>4</td></tr>",
                            "<tr><td>144</td><td>2017</td><td>1</td></tr>",
                            "<tr><td>144</td><td>Részösszeg</td><td>5</td></tr>",
                            "<tr><td>145</td><td>2016</td><td>5</td></tr>",
                            "<tr><td>145</td><td>2017</td><td>1</td></tr>",
                            "<tr><td>145</td><td>Részösszeg</td><td>6</td></tr>",
                            "<tr><td>146</td><td>2016</td><td>5</td></tr>",
                            "<tr><td>146</td><td>2017</td><td>1</td></tr>",
                            "<tr><td>146</td><td>Részösszeg</td><td>6</td></tr>",
                            "<tr><td>147</td><td>2016</td><td>1</td></tr>",
                            "<tr><td>147</td><td>Részösszeg</td><td>1</td></tr>",
                            "<tr><td>148</td><td>2016</td><td>5</td></tr>",
                            "<tr><td>148</td><td>2017</td><td>1</td></tr>",
                            "<tr><td>148</td><td>Részösszeg</td><td>6</td></tr>",
                            "<tr><td>149</td><td>2016</td><td>6</td></tr>",
                            "<tr><td>149</td><td>2017</td><td>1</td></tr>",
                            "<tr><td>149</td><td>Részösszeg</td><td>7</td></tr>",
                            "<tr><td>150</td><td>2016</td><td>5</td></tr>",
                            "<tr><td>150</td><td>2017</td><td>1</td></tr>",
                            "<tr><td>150</td><td>Részösszeg</td><td>6</td></tr>",
                            "<tr><td>151</td><td>2016</td><td>3</td></tr>",
                            "<tr><td>151</td><td>Részösszeg</td><td>3</td></tr>",
                            "<tr><td>152</td><td>2016</td><td>3</td></tr>",
                            "<tr><td>152</td><td>2017</td><td>1</td></tr>",
                            "<tr><td>152</td><td>Részösszeg</td><td>4</td></tr>",
                            "<tr><td>153</td><td>2016</td><td>2</td></tr>",
                            "<tr><td>153</td><td>2017</td><td>3</td></tr>",
                            "<tr><td>153</td><td>Részösszeg</td><td>5</td></tr>",
                            "<tr><td>154</td><td>2016</td><td>4</td></tr>",
                            "<tr><td>154</td><td>2017</td><td>1</td></tr>",
                            "<tr><td>154</td><td>Részösszeg</td><td>5</td></tr>",
                            "<tr><td>155</td><td>2016</td><td>4</td></tr>",
                            "<tr><td>155</td><td>2017</td><td>1</td></tr>",
                            "<tr><td>155</td><td>Részösszeg</td><td>5</td></tr>",
                            "<tr><td>156</td><td>2016</td><td>4</td></tr>",
                            "<tr><td>156</td><td>2017</td><td>3</td></tr>",
                            "<tr><td>156</td><td>Részösszeg</td><td>7</td></tr>",
                            "<tr><td>157</td><td>2016</td><td>4</td></tr>",
                            "<tr><td>157</td><td>2017</td><td>1</td></tr>",
                            "<tr><td>157</td><td>Részösszeg</td><td>5</td></tr>",
                            "<tr><td>158</td><td>2016</td><td>3</td></tr>",
                            "<tr><td>158</td><td>Részösszeg</td><td>3</td></tr>",
                            "<tr><td>160</td><td>2016</td><td>4</td></tr>",
                            "<tr><td>160</td><td>2017</td><td>1</td></tr>",
                            "<tr><td>160</td><td>Részösszeg</td><td>5</td></tr>",
                            "<tr><td>161</td><td>2016</td><td>5</td></tr>",
                            "<tr><td>161</td><td>2017</td><td>1</td></tr>",
                            "<tr><td>161</td><td>Részösszeg</td><td>6</td></tr>",
                            "<tr><td>162</td><td>2016</td><td>3</td></tr>",
                            "<tr><td>162</td><td>Részösszeg</td><td>3</td></tr>",
                            "<tr><td>163</td><td>2016</td><td>6</td></tr>",
                            "<tr><td>163</td><td>2017</td><td>1</td></tr>",
                            "<tr><td>163</td><td>Részösszeg</td><td>7</td></tr>",
                            "<tr><td>164</td><td>2016</td><td>5</td></tr>",
                            "<tr><td>164</td><td>Részösszeg</td><td>5</td></tr>",
                            "<tr><td>165</td><td>2016</td><td>7</td></tr>",
                            "<tr><td>165</td><td>Részösszeg</td><td>7</td></tr>",
                            "<tr><td>166</td><td>2016</td><td>2</td></tr>",
                            "<tr><td>166</td><td>2017</td><td>1</td></tr>",
                            "<tr><td>166</td><td>Részösszeg</td><td>3</td></tr>",
                            "<tr><td>167</td><td>2016</td><td>1</td></tr>",
                            "<tr><td>167</td><td>2017</td><td>1</td></tr>",
                            "<tr><td>167</td><td>Részösszeg</td><td>2</td></tr>",
                            "<tr><td>168</td><td>2016</td><td>5</td></tr>",
                            "<tr><td>168</td><td>Részösszeg</td><td>5</td></tr>",
                            "<tr><td>169</td><td>2016</td><td>5</td></tr>",
                            "<tr><td>169</td><td>2017</td><td>1</td></tr>",
                            "<tr><td>169</td><td>Részösszeg</td><td>6</td></tr>",
                            "<tr><td>170</td><td>2016</td><td>5</td></tr>",
                            "<tr><td>170</td><td>Részösszeg</td><td>5</td></tr>",
                            "<tr><td>171</td><td>2016</td><td>4</td></tr>",
                            "<tr><td>171</td><td>2017</td><td>1</td></tr>",
                            "<tr><td>171</td><td>Részösszeg</td><td>5</td></tr>",
                            "<tr><td>172</td><td>2016</td><td>7</td></tr>",
                            "<tr><td>172</td><td>2017</td><td>2</td></tr>",
                            "<tr><td>172</td><td>Részösszeg</td><td>9</td></tr>",
                            "<tr><td>173</td><td>2016</td><td>3</td></tr>",
                            "<tr><td>173</td><td>2017</td><td>1</td></tr>",
                            "<tr><td>173</td><td>Részösszeg</td><td>4</td></tr>",
                            "<tr><td>174</td><td>2016</td><td>4</td></tr>",
                            "<tr><td>174</td><td>Részösszeg</td><td>4</td></tr>",
                            "<tr><td>175</td><td>2016</td><td>5</td></tr>",
                            "<tr><td>175</td><td>Részösszeg</td><td>5</td></tr>",
                            "<tr><td>176</td><td>2016</td><td>4</td></tr>",
                            "<tr><td>176</td><td>2017</td><td>2</td></tr>",
                            "<tr><td>176</td><td>Részösszeg</td><td>6</td></tr>",
                            "<tr><td>177</td><td>2016</td><td>3</td></tr>",
                            "<tr><td>177</td><td>2017</td><td>1</td></tr>",
                            "<tr><td>177</td><td>Részösszeg</td><td>4</td></tr>",
                            "<tr><td>178</td><td>2016</td><td>4</td></tr>",
                            "<tr><td>178</td><td>Részösszeg</td><td>4</td></tr>",
                            "<tr><td>179</td><td>2016</td><td>2</td></tr>",
                            "<tr><td>179</td><td>2017</td><td>1</td></tr>",
                            "<tr><td>179</td><td>Részösszeg</td><td>3</td></tr>",
                            "<tr><td>180</td><td>2016</td><td>1</td></tr>",
                            "<tr><td>180</td><td>2017</td><td>2</td></tr>",
                            "<tr><td>180</td><td>Részösszeg</td><td>3</td></tr>",
                            "<tr><td>181</td><td>2016</td><td>6</td></tr>",
                            "<tr><td>181</td><td>Részösszeg</td><td>6</td></tr>",
                            "<tr><td>182</td><td>2016</td><td>10</td></tr>",
                            "<tr><td>182</td><td>2017</td><td>2</td></tr>",
                            "<tr><td>182</td><td>Részösszeg</td><td>12</td></tr>",
                            "<tr><td>183</td><td>2016</td><td>3</td></tr>",
                            "<tr><td>183</td><td>2017</td><td>1</td></tr>",
                            "<tr><td>183</td><td>Részösszeg</td><td>4</td></tr>",
                            "<tr><td>184</td><td>2016</td><td>4</td></tr>",
                            "<tr><td>184</td><td>Részösszeg</td><td>4</td></tr>",
                            "<tr><td>185</td><td>2016</td><td>10</td></tr>",
                            "<tr><td>185</td><td>2017</td><td>2</td></tr>",
                            "<tr><td>185</td><td>Részösszeg</td><td>12</td></tr>",
                            "<tr><td>186</td><td>2016</td><td>3</td></tr>",
                            "<tr><td>186</td><td>2017</td><td>1</td></tr>",
                            "<tr><td>186</td><td>Részösszeg</td><td>4</td></tr>",
                            "<tr><td>187</td><td>2016</td><td>7</td></tr>",
                            "<tr><td>187</td><td>Részösszeg</td><td>7</td></tr>",
                            "<tr><td>188</td><td>2016</td><td>6</td></tr>",
                            "<tr><td>188</td><td>Részösszeg</td><td>6</td></tr>",
                            "<tr><td>189</td><td>2016</td><td>3</td></tr>",
                            "<tr><td>189</td><td>2017</td><td>2</td></tr>",
                            "<tr><td>189</td><td>Részösszeg</td><td>5</td></tr>",
                            "<tr><td>190</td><td>2016</td><td>4</td></tr>",
                            "<tr><td>190</td><td>2017</td><td>1</td></tr>",
                            "<tr><td>190</td><td>Részösszeg</td><td>5</td></tr>",
                            "<tr><td>191</td><td>2016</td><td>3</td></tr>",
                            "<tr><td>191</td><td>2017</td><td>2</td></tr>",
                            "<tr><td>191</td><td>Részösszeg</td><td>5</td></tr>",
                            "<tr><td>192</td><td>2016</td><td>2</td></tr>",
                            "<tr><td>192</td><td>Részösszeg</td><td>2</td></tr>",
                            "<tr><td>193</td><td>2016</td><td>7</td></tr>",
                            "<tr><td>193</td><td>Részösszeg</td><td>7</td></tr>",
                            "<tr><td>194</td><td>2016</td><td>1</td></tr>",
                            "<tr><td>194</td><td>Részösszeg</td><td>1</td></tr>",
                            "<tr><td>195</td><td>2016</td><td>4</td></tr>",
                            "<tr><td>195</td><td>2017</td><td>2</td></tr>",
                            "<tr><td>195</td><td>Részösszeg</td><td>6</td></tr>",
                            "<tr><td>196</td><td>2016</td><td>4</td></tr>",
                            "<tr><td>196</td><td>Részösszeg</td><td>4</td></tr>",
                            "<tr><td>197</td><td>2016</td><td>6</td></tr>",
                            "<tr><td>197</td><td>Részösszeg</td><td>6</td></tr>",
                            "<tr><td>198</td><td>2016</td><td>7</td></tr>",
                            "<tr><td>198</td><td>2017</td><td>1</td></tr>",
                            "<tr><td>198</td><td>Részösszeg</td><td>8</td></tr>",
                            "<tr><td>Szoba</td><td>Összesen</td><td>1027</td></tr>",
                            "</table>"
                        ]
                    }
                }
            ],
            "execution_count": 8
        },
        {
            "cell_type": "code",
            "source": [
                "SELECT szh.SZALLAS_NEV, count(*) as 'foglalások száma', sum(f.FELNOTT_SZAM), sum(f.GYERMEK_SZAM)\r\n",
                "from Szoba sz JOIN Foglalas f on sz.SZOBA_ID=f.SZOBA_FK\r\n",
                "                JOIN szallashely szh on szh.SZALLAS_ID=sz.SZALLAS_FK\r\n",
                "GROUP by szh.SZALLAS_NEV\r\n",
                "HAVING COUNT(*)>5"
            ],
            "metadata": {
                "azdata_cell_guid": "75ef16e9-232b-4d4f-8137-b250f2f6da9c",
                "language": "sql"
            },
            "outputs": [
                {
                    "output_type": "display_data",
                    "data": {
                        "text/html": "(11 rows affected)"
                    },
                    "metadata": {}
                },
                {
                    "output_type": "display_data",
                    "data": {
                        "text/html": "Total execution time: 00:00:00.025"
                    },
                    "metadata": {}
                },
                {
                    "output_type": "execute_result",
                    "metadata": {},
                    "execution_count": 10,
                    "data": {
                        "application/vnd.dataresource+json": {
                            "schema": {
                                "fields": [
                                    {
                                        "name": "SZALLAS_NEV"
                                    },
                                    {
                                        "name": "foglalások száma"
                                    },
                                    {
                                        "name": "(No column name)"
                                    },
                                    {
                                        "name": "(No column name)"
                                    }
                                ]
                            },
                            "data": [
                                {
                                    "SZALLAS_NEV": "Szieszta Apartmanház",
                                    "foglalások száma": "34",
                                    "(No column name)": "16"
                                },
                                {
                                    "SZALLAS_NEV": "Fortuna Panzió",
                                    "foglalások száma": "126",
                                    "(No column name)": "94"
                                },
                                {
                                    "SZALLAS_NEV": "Kentaur Hotel",
                                    "foglalások száma": "179",
                                    "(No column name)": "128"
                                },
                                {
                                    "SZALLAS_NEV": "Partiszél Vendégház",
                                    "foglalások száma": "26",
                                    "(No column name)": "21"
                                },
                                {
                                    "SZALLAS_NEV": "Sába-Ház",
                                    "foglalások száma": "70",
                                    "(No column name)": "41"
                                },
                                {
                                    "SZALLAS_NEV": "Családi Ház",
                                    "foglalások száma": "18",
                                    "(No column name)": "16"
                                },
                                {
                                    "SZALLAS_NEV": "Fortuna Apartman",
                                    "foglalások száma": "39",
                                    "(No column name)": "39"
                                },
                                {
                                    "SZALLAS_NEV": "Hotel Három Hattyú",
                                    "foglalások száma": "204",
                                    "(No column name)": "175"
                                },
                                {
                                    "SZALLAS_NEV": "Jáde panzió",
                                    "foglalások száma": "29",
                                    "(No column name)": "14"
                                },
                                {
                                    "SZALLAS_NEV": "Lagúna Hotel",
                                    "foglalások száma": "123",
                                    "(No column name)": "87"
                                },
                                {
                                    "SZALLAS_NEV": "Gold Hotel",
                                    "foglalások száma": "179",
                                    "(No column name)": "123"
                                }
                            ]
                        },
                        "text/html": [
                            "<table>",
                            "<tr><th>SZALLAS_NEV</th><th>foglalások száma</th><th>(No column name)</th><th>(No column name)</th></tr>",
                            "<tr><td>Szieszta Apartmanház</td><td>34</td><td>67</td><td>16</td></tr>",
                            "<tr><td>Fortuna Panzió</td><td>126</td><td>217</td><td>94</td></tr>",
                            "<tr><td>Kentaur Hotel</td><td>179</td><td>292</td><td>128</td></tr>",
                            "<tr><td>Partiszél Vendégház</td><td>26</td><td>42</td><td>21</td></tr>",
                            "<tr><td>Sába-Ház</td><td>70</td><td>125</td><td>41</td></tr>",
                            "<tr><td>Családi Ház</td><td>18</td><td>36</td><td>16</td></tr>",
                            "<tr><td>Fortuna Apartman</td><td>39</td><td>67</td><td>39</td></tr>",
                            "<tr><td>Hotel Három Hattyú</td><td>204</td><td>329</td><td>175</td></tr>",
                            "<tr><td>Jáde panzió</td><td>29</td><td>52</td><td>14</td></tr>",
                            "<tr><td>Lagúna Hotel</td><td>123</td><td>204</td><td>87</td></tr>",
                            "<tr><td>Gold Hotel</td><td>179</td><td>305</td><td>123</td></tr>",
                            "</table>"
                        ]
                    }
                }
            ],
            "execution_count": 10
        },
        {
            "cell_type": "code",
            "source": [
                "SELECT DISTINCT szh.SZALLAS_NEV\r\n",
                "from Szoba sz JOIN Foglalas f on sz.SZOBA_ID=f.SZOBA_FK\r\n",
                "                JOIN szallashely szh on szh.SZALLAS_ID=sz.SZALLAS_FK\r\n",
                "WHERE (select szh2.SZALLAS_ID\r\n",
                "        from foglalas f2 join szoba sz2 on f2.SZOBA_FK=sz2.SZOBA_ID\r\n",
                "                        join szallashely szh2 on szh2.SZALLAS_ID=sz2.SZALLAS_FK\r\n",
                "        where f2.FELNOTT_SZAM>3) = szh.SZALLAS_ID"
            ],
            "metadata": {
                "azdata_cell_guid": "c8b60200-6c4d-4bf5-8d7f-9a556eda4cbb",
                "language": "sql"
            },
            "outputs": [
                {
                    "output_type": "display_data",
                    "data": {
                        "text/html": "(1 row affected)"
                    },
                    "metadata": {}
                },
                {
                    "output_type": "display_data",
                    "data": {
                        "text/html": "Total execution time: 00:00:00.024"
                    },
                    "metadata": {}
                },
                {
                    "output_type": "execute_result",
                    "metadata": {},
                    "execution_count": 13,
                    "data": {
                        "application/vnd.dataresource+json": {
                            "schema": {
                                "fields": [
                                    {
                                        "name": "SZALLAS_NEV"
                                    }
                                ]
                            },
                            "data": [
                                {
                                    "SZALLAS_NEV": "Fortuna Apartman"
                                }
                            ]
                        },
                        "text/html": [
                            "<table>",
                            "<tr><th>SZALLAS_NEV</th></tr>",
                            "<tr><td>Fortuna Apartman</td></tr>",
                            "</table>"
                        ]
                    }
                }
            ],
            "execution_count": 13
        },
        {
            "cell_type": "code",
            "source": [
                "select DISTINCT szh.SZALLAS_NEV, f.mettol, COUNT(*) over( PARTITION by szh.SZALLAS_NEV order by f.METTOL range between unbounded PRECEDING and current ROW)\r\n",
                "from Szoba sz JOIN Foglalas f on sz.SZOBA_ID=f.SZOBA_FK\r\n",
                "                JOIN szallashely szh on szh.SZALLAS_ID=sz.SZALLAS_FK\r\n",
                ""
            ],
            "metadata": {
                "azdata_cell_guid": "b1883c8c-19e2-4129-8dd9-dfa0d12ce02a",
                "language": "sql"
            },
            "outputs": [
                {
                    "output_type": "display_data",
                    "data": {
                        "text/html": "(806 rows affected)"
                    },
                    "metadata": {}
                },
                {
                    "output_type": "display_data",
                    "data": {
                        "text/html": "Total execution time: 00:00:00.097"
                    },
                    "metadata": {}
                },
                {
                    "output_type": "execute_result",
                    "metadata": {},
                    "execution_count": 14,
                    "data": {
                        "application/vnd.dataresource+json": {
                            "schema": {
                                "fields": [
                                    {
                                        "name": "SZALLAS_NEV"
                                    },
                                    {
                                        "name": "mettol"
                                    },
                                    {
                                        "name": "(No column name)"
                                    }
                                ]
                            },
                            "data": [
                                {
                                    "SZALLAS_NEV": "Családi Ház",
                                    "mettol": "2016-05-22",
                                    "(No column name)": "1"
                                },
                                {
                                    "SZALLAS_NEV": "Családi Ház",
                                    "mettol": "2016-05-24",
                                    "(No column name)": "2"
                                },
                                {
                                    "SZALLAS_NEV": "Családi Ház",
                                    "mettol": "2016-06-03",
                                    "(No column name)": "3"
                                },
                                {
                                    "SZALLAS_NEV": "Családi Ház",
                                    "mettol": "2016-06-20",
                                    "(No column name)": "4"
                                },
                                {
                                    "SZALLAS_NEV": "Családi Ház",
                                    "mettol": "2016-07-13",
                                    "(No column name)": "5"
                                },
                                {
                                    "SZALLAS_NEV": "Családi Ház",
                                    "mettol": "2016-07-18",
                                    "(No column name)": "6"
                                },
                                {
                                    "SZALLAS_NEV": "Családi Ház",
                                    "mettol": "2016-08-08",
                                    "(No column name)": "7"
                                },
                                {
                                    "SZALLAS_NEV": "Családi Ház",
                                    "mettol": "2016-08-16",
                                    "(No column name)": "8"
                                },
                                {
                                    "SZALLAS_NEV": "Családi Ház",
                                    "mettol": "2016-08-24",
                                    "(No column name)": "9"
                                },
                                {
                                    "SZALLAS_NEV": "Családi Ház",
                                    "mettol": "2016-09-12",
                                    "(No column name)": "10"
                                },
                                {
                                    "SZALLAS_NEV": "Családi Ház",
                                    "mettol": "2016-10-08",
                                    "(No column name)": "11"
                                },
                                {
                                    "SZALLAS_NEV": "Családi Ház",
                                    "mettol": "2016-11-03",
                                    "(No column name)": "12"
                                },
                                {
                                    "SZALLAS_NEV": "Családi Ház",
                                    "mettol": "2016-12-06",
                                    "(No column name)": "13"
                                },
                                {
                                    "SZALLAS_NEV": "Családi Ház",
                                    "mettol": "2017-01-04",
                                    "(No column name)": "14"
                                },
                                {
                                    "SZALLAS_NEV": "Családi Ház",
                                    "mettol": "2017-01-16",
                                    "(No column name)": "15"
                                },
                                {
                                    "SZALLAS_NEV": "Családi Ház",
                                    "mettol": "2017-01-23",
                                    "(No column name)": "16"
                                },
                                {
                                    "SZALLAS_NEV": "Családi Ház",
                                    "mettol": "2017-02-04",
                                    "(No column name)": "17"
                                },
                                {
                                    "SZALLAS_NEV": "Családi Ház",
                                    "mettol": "2017-02-16",
                                    "(No column name)": "18"
                                },
                                {
                                    "SZALLAS_NEV": "Fortuna Apartman",
                                    "mettol": "2016-04-09",
                                    "(No column name)": "1"
                                },
                                {
                                    "SZALLAS_NEV": "Fortuna Apartman",
                                    "mettol": "2016-04-26",
                                    "(No column name)": "2"
                                },
                                {
                                    "SZALLAS_NEV": "Fortuna Apartman",
                                    "mettol": "2016-05-08",
                                    "(No column name)": "3"
                                },
                                {
                                    "SZALLAS_NEV": "Fortuna Apartman",
                                    "mettol": "2016-05-21",
                                    "(No column name)": "4"
                                },
                                {
                                    "SZALLAS_NEV": "Fortuna Apartman",
                                    "mettol": "2016-05-23",
                                    "(No column name)": "5"
                                },
                                {
                                    "SZALLAS_NEV": "Fortuna Apartman",
                                    "mettol": "2016-06-04",
                                    "(No column name)": "6"
                                },
                                {
                                    "SZALLAS_NEV": "Fortuna Apartman",
                                    "mettol": "2016-06-06",
                                    "(No column name)": "7"
                                },
                                {
                                    "SZALLAS_NEV": "Fortuna Apartman",
                                    "mettol": "2016-06-08",
                                    "(No column name)": "8"
                                },
                                {
                                    "SZALLAS_NEV": "Fortuna Apartman",
                                    "mettol": "2016-06-10",
                                    "(No column name)": "10"
                                },
                                {
                                    "SZALLAS_NEV": "Fortuna Apartman",
                                    "mettol": "2016-07-03",
                                    "(No column name)": "11"
                                },
                                {
                                    "SZALLAS_NEV": "Fortuna Apartman",
                                    "mettol": "2016-07-20",
                                    "(No column name)": "12"
                                },
                                {
                                    "SZALLAS_NEV": "Fortuna Apartman",
                                    "mettol": "2016-07-24",
                                    "(No column name)": "13"
                                },
                                {
                                    "SZALLAS_NEV": "Fortuna Apartman",
                                    "mettol": "2016-08-01",
                                    "(No column name)": "14"
                                },
                                {
                                    "SZALLAS_NEV": "Fortuna Apartman",
                                    "mettol": "2016-08-04",
                                    "(No column name)": "15"
                                },
                                {
                                    "SZALLAS_NEV": "Fortuna Apartman",
                                    "mettol": "2016-08-11",
                                    "(No column name)": "16"
                                },
                                {
                                    "SZALLAS_NEV": "Fortuna Apartman",
                                    "mettol": "2016-08-14",
                                    "(No column name)": "17"
                                },
                                {
                                    "SZALLAS_NEV": "Fortuna Apartman",
                                    "mettol": "2016-08-21",
                                    "(No column name)": "18"
                                },
                                {
                                    "SZALLAS_NEV": "Fortuna Apartman",
                                    "mettol": "2016-08-24",
                                    "(No column name)": "19"
                                },
                                {
                                    "SZALLAS_NEV": "Fortuna Apartman",
                                    "mettol": "2016-09-04",
                                    "(No column name)": "20"
                                },
                                {
                                    "SZALLAS_NEV": "Fortuna Apartman",
                                    "mettol": "2016-09-07",
                                    "(No column name)": "21"
                                },
                                {
                                    "SZALLAS_NEV": "Fortuna Apartman",
                                    "mettol": "2016-09-19",
                                    "(No column name)": "22"
                                },
                                {
                                    "SZALLAS_NEV": "Fortuna Apartman",
                                    "mettol": "2016-10-01",
                                    "(No column name)": "24"
                                },
                                {
                                    "SZALLAS_NEV": "Fortuna Apartman",
                                    "mettol": "2016-10-08",
                                    "(No column name)": "25"
                                },
                                {
                                    "SZALLAS_NEV": "Fortuna Apartman",
                                    "mettol": "2016-10-09",
                                    "(No column name)": "26"
                                },
                                {
                                    "SZALLAS_NEV": "Fortuna Apartman",
                                    "mettol": "2016-10-19",
                                    "(No column name)": "27"
                                },
                                {
                                    "SZALLAS_NEV": "Fortuna Apartman",
                                    "mettol": "2016-10-21",
                                    "(No column name)": "28"
                                },
                                {
                                    "SZALLAS_NEV": "Fortuna Apartman",
                                    "mettol": "2016-10-26",
                                    "(No column name)": "30"
                                },
                                {
                                    "SZALLAS_NEV": "Fortuna Apartman",
                                    "mettol": "2016-10-27",
                                    "(No column name)": "31"
                                },
                                {
                                    "SZALLAS_NEV": "Fortuna Apartman",
                                    "mettol": "2016-10-28",
                                    "(No column name)": "32"
                                },
                                {
                                    "SZALLAS_NEV": "Fortuna Apartman",
                                    "mettol": "2016-11-02",
                                    "(No column name)": "33"
                                },
                                {
                                    "SZALLAS_NEV": "Fortuna Apartman",
                                    "mettol": "2016-11-17",
                                    "(No column name)": "34"
                                },
                                {
                                    "SZALLAS_NEV": "Fortuna Apartman",
                                    "mettol": "2016-11-25",
                                    "(No column name)": "35"
                                },
                                {
                                    "SZALLAS_NEV": "Fortuna Apartman",
                                    "mettol": "2017-01-03",
                                    "(No column name)": "36"
                                },
                                {
                                    "SZALLAS_NEV": "Fortuna Apartman",
                                    "mettol": "2017-02-06",
                                    "(No column name)": "37"
                                },
                                {
                                    "SZALLAS_NEV": "Fortuna Apartman",
                                    "mettol": "2017-02-14",
                                    "(No column name)": "38"
                                },
                                {
                                    "SZALLAS_NEV": "Fortuna Apartman",
                                    "mettol": "2017-02-18",
                                    "(No column name)": "39"
                                },
                                {
                                    "SZALLAS_NEV": "Fortuna Panzió",
                                    "mettol": "2016-04-06",
                                    "(No column name)": "1"
                                },
                                {
                                    "SZALLAS_NEV": "Fortuna Panzió",
                                    "mettol": "2016-04-19",
                                    "(No column name)": "3"
                                },
                                {
                                    "SZALLAS_NEV": "Fortuna panzió",
                                    "mettol": "2016-04-24",
                                    "(No column name)": "4"
                                },
                                {
                                    "SZALLAS_NEV": "Fortuna panzió",
                                    "mettol": "2016-04-25",
                                    "(No column name)": "5"
                                },
                                {
                                    "SZALLAS_NEV": "Fortuna Panzió",
                                    "mettol": "2016-04-26",
                                    "(No column name)": "6"
                                },
                                {
                                    "SZALLAS_NEV": "Fortuna panzió",
                                    "mettol": "2016-04-27",
                                    "(No column name)": "8"
                                },
                                {
                                    "SZALLAS_NEV": "Fortuna panzió",
                                    "mettol": "2016-05-01",
                                    "(No column name)": "9"
                                },
                                {
                                    "SZALLAS_NEV": "Fortuna panzió",
                                    "mettol": "2016-05-08",
                                    "(No column name)": "11"
                                },
                                {
                                    "SZALLAS_NEV": "Fortuna Panzió",
                                    "mettol": "2016-05-09",
                                    "(No column name)": "12"
                                },
                                {
                                    "SZALLAS_NEV": "Fortuna Panzió",
                                    "mettol": "2016-05-21",
                                    "(No column name)": "13"
                                },
                                {
                                    "SZALLAS_NEV": "Fortuna Panzió",
                                    "mettol": "2016-05-22",
                                    "(No column name)": "14"
                                },
                                {
                                    "SZALLAS_NEV": "Fortuna panzió",
                                    "mettol": "2016-05-28",
                                    "(No column name)": "15"
                                },
                                {
                                    "SZALLAS_NEV": "Fortuna panzió",
                                    "mettol": "2016-05-29",
                                    "(No column name)": "16"
                                },
                                {
                                    "SZALLAS_NEV": "Fortuna panzió",
                                    "mettol": "2016-06-01",
                                    "(No column name)": "17"
                                },
                                {
                                    "SZALLAS_NEV": "Fortuna Panzió",
                                    "mettol": "2016-06-02",
                                    "(No column name)": "18"
                                },
                                {
                                    "SZALLAS_NEV": "Fortuna panzió",
                                    "mettol": "2016-06-03",
                                    "(No column name)": "21"
                                },
                                {
                                    "SZALLAS_NEV": "Fortuna panzió",
                                    "mettol": "2016-06-04",
                                    "(No column name)": "23"
                                },
                                {
                                    "SZALLAS_NEV": "Fortuna Panzió",
                                    "mettol": "2016-06-06",
                                    "(No column name)": "26"
                                },
                                {
                                    "SZALLAS_NEV": "Fortuna Panzió",
                                    "mettol": "2016-06-07",
                                    "(No column name)": "28"
                                },
                                {
                                    "SZALLAS_NEV": "Fortuna Panzió",
                                    "mettol": "2016-06-13",
                                    "(No column name)": "29"
                                },
                                {
                                    "SZALLAS_NEV": "Fortuna Panzió",
                                    "mettol": "2016-06-15",
                                    "(No column name)": "30"
                                },
                                {
                                    "SZALLAS_NEV": "Fortuna panzió",
                                    "mettol": "2016-06-18",
                                    "(No column name)": "31"
                                },
                                {
                                    "SZALLAS_NEV": "Fortuna panzió",
                                    "mettol": "2016-06-22",
                                    "(No column name)": "32"
                                },
                                {
                                    "SZALLAS_NEV": "Fortuna panzió",
                                    "mettol": "2016-06-24",
                                    "(No column name)": "33"
                                },
                                {
                                    "SZALLAS_NEV": "Fortuna Panzió",
                                    "mettol": "2016-06-25",
                                    "(No column name)": "34"
                                },
                                {
                                    "SZALLAS_NEV": "Fortuna panzió",
                                    "mettol": "2016-07-03",
                                    "(No column name)": "35"
                                },
                                {
                                    "SZALLAS_NEV": "Fortuna panzió",
                                    "mettol": "2016-07-05",
                                    "(No column name)": "36"
                                },
                                {
                                    "SZALLAS_NEV": "Fortuna Panzió",
                                    "mettol": "2016-07-08",
                                    "(No column name)": "38"
                                },
                                {
                                    "SZALLAS_NEV": "Fortuna panzió",
                                    "mettol": "2016-07-10",
                                    "(No column name)": "39"
                                },
                                {
                                    "SZALLAS_NEV": "Fortuna Panzió",
                                    "mettol": "2016-07-14",
                                    "(No column name)": "40"
                                },
                                {
                                    "SZALLAS_NEV": "Fortuna panzió",
                                    "mettol": "2016-07-18",
                                    "(No column name)": "41"
                                },
                                {
                                    "SZALLAS_NEV": "Fortuna panzió",
                                    "mettol": "2016-07-19",
                                    "(No column name)": "42"
                                },
                                {
                                    "SZALLAS_NEV": "Fortuna panzió",
                                    "mettol": "2016-07-22",
                                    "(No column name)": "43"
                                },
                                {
                                    "SZALLAS_NEV": "Fortuna panzió",
                                    "mettol": "2016-07-23",
                                    "(No column name)": "44"
                                },
                                {
                                    "SZALLAS_NEV": "Fortuna panzió",
                                    "mettol": "2016-07-27",
                                    "(No column name)": "46"
                                },
                                {
                                    "SZALLAS_NEV": "Fortuna panzió",
                                    "mettol": "2016-08-02",
                                    "(No column name)": "47"
                                },
                                {
                                    "SZALLAS_NEV": "Fortuna panzió",
                                    "mettol": "2016-08-03",
                                    "(No column name)": "49"
                                },
                                {
                                    "SZALLAS_NEV": "Fortuna panzió",
                                    "mettol": "2016-08-05",
                                    "(No column name)": "50"
                                },
                                {
                                    "SZALLAS_NEV": "Fortuna Panzió",
                                    "mettol": "2016-08-12",
                                    "(No column name)": "51"
                                },
                                {
                                    "SZALLAS_NEV": "Fortuna panzió",
                                    "mettol": "2016-08-14",
                                    "(No column name)": "52"
                                },
                                {
                                    "SZALLAS_NEV": "Fortuna Panzió",
                                    "mettol": "2016-08-17",
                                    "(No column name)": "53"
                                },
                                {
                                    "SZALLAS_NEV": "Fortuna Panzió",
                                    "mettol": "2016-08-20",
                                    "(No column name)": "55"
                                },
                                {
                                    "SZALLAS_NEV": "Fortuna panzió",
                                    "mettol": "2016-08-22",
                                    "(No column name)": "56"
                                },
                                {
                                    "SZALLAS_NEV": "Fortuna panzió",
                                    "mettol": "2016-08-24",
                                    "(No column name)": "57"
                                },
                                {
                                    "SZALLAS_NEV": "Fortuna Panzió",
                                    "mettol": "2016-08-25",
                                    "(No column name)": "59"
                                },
                                {
                                    "SZALLAS_NEV": "Fortuna Panzió",
                                    "mettol": "2016-08-26",
                                    "(No column name)": "60"
                                },
                                {
                                    "SZALLAS_NEV": "Fortuna panzió",
                                    "mettol": "2016-08-28",
                                    "(No column name)": "61"
                                },
                                {
                                    "SZALLAS_NEV": "Fortuna Panzió",
                                    "mettol": "2016-09-02",
                                    "(No column name)": "62"
                                },
                                {
                                    "SZALLAS_NEV": "Fortuna panzió",
                                    "mettol": "2016-09-05",
                                    "(No column name)": "64"
                                },
                                {
                                    "SZALLAS_NEV": "Fortuna panzió",
                                    "mettol": "2016-09-14",
                                    "(No column name)": "65"
                                },
                                {
                                    "SZALLAS_NEV": "Fortuna panzió",
                                    "mettol": "2016-09-15",
                                    "(No column name)": "66"
                                },
                                {
                                    "SZALLAS_NEV": "Fortuna Panzió",
                                    "mettol": "2016-09-16",
                                    "(No column name)": "67"
                                },
                                {
                                    "SZALLAS_NEV": "Fortuna panzió",
                                    "mettol": "2016-09-17",
                                    "(No column name)": "68"
                                },
                                {
                                    "SZALLAS_NEV": "Fortuna Panzió",
                                    "mettol": "2016-09-18",
                                    "(No column name)": "69"
                                },
                                {
                                    "SZALLAS_NEV": "Fortuna panzió",
                                    "mettol": "2016-09-23",
                                    "(No column name)": "71"
                                },
                                {
                                    "SZALLAS_NEV": "Fortuna panzió",
                                    "mettol": "2016-09-26",
                                    "(No column name)": "72"
                                },
                                {
                                    "SZALLAS_NEV": "Fortuna Panzió",
                                    "mettol": "2016-09-29",
                                    "(No column name)": "73"
                                },
                                {
                                    "SZALLAS_NEV": "Fortuna Panzió",
                                    "mettol": "2016-10-03",
                                    "(No column name)": "74"
                                },
                                {
                                    "SZALLAS_NEV": "Fortuna Panzió",
                                    "mettol": "2016-10-09",
                                    "(No column name)": "77"
                                },
                                {
                                    "SZALLAS_NEV": "Fortuna panzió",
                                    "mettol": "2016-10-13",
                                    "(No column name)": "78"
                                },
                                {
                                    "SZALLAS_NEV": "Fortuna panzió",
                                    "mettol": "2016-10-16",
                                    "(No column name)": "79"
                                },
                                {
                                    "SZALLAS_NEV": "Fortuna panzió",
                                    "mettol": "2016-10-23",
                                    "(No column name)": "81"
                                },
                                {
                                    "SZALLAS_NEV": "Fortuna Panzió",
                                    "mettol": "2016-10-26",
                                    "(No column name)": "82"
                                },
                                {
                                    "SZALLAS_NEV": "Fortuna Panzió",
                                    "mettol": "2016-10-27",
                                    "(No column name)": "83"
                                },
                                {
                                    "SZALLAS_NEV": "Fortuna panzió",
                                    "mettol": "2016-10-29",
                                    "(No column name)": "84"
                                },
                                {
                                    "SZALLAS_NEV": "Fortuna Panzió",
                                    "mettol": "2016-10-30",
                                    "(No column name)": "86"
                                },
                                {
                                    "SZALLAS_NEV": "Fortuna panzió",
                                    "mettol": "2016-11-01",
                                    "(No column name)": "87"
                                },
                                {
                                    "SZALLAS_NEV": "Fortuna Panzió",
                                    "mettol": "2016-11-03",
                                    "(No column name)": "88"
                                },
                                {
                                    "SZALLAS_NEV": "Fortuna Panzió",
                                    "mettol": "2016-11-10",
                                    "(No column name)": "89"
                                },
                                {
                                    "SZALLAS_NEV": "Fortuna panzió",
                                    "mettol": "2016-11-11",
                                    "(No column name)": "90"
                                },
                                {
                                    "SZALLAS_NEV": "Fortuna Panzió",
                                    "mettol": "2016-11-19",
                                    "(No column name)": "92"
                                },
                                {
                                    "SZALLAS_NEV": "Fortuna Panzió",
                                    "mettol": "2016-11-22",
                                    "(No column name)": "93"
                                },
                                {
                                    "SZALLAS_NEV": "Fortuna Panzió",
                                    "mettol": "2016-11-23",
                                    "(No column name)": "94"
                                },
                                {
                                    "SZALLAS_NEV": "Fortuna panzió",
                                    "mettol": "2016-11-25",
                                    "(No column name)": "95"
                                },
                                {
                                    "SZALLAS_NEV": "Fortuna panzió",
                                    "mettol": "2016-12-01",
                                    "(No column name)": "96"
                                },
                                {
                                    "SZALLAS_NEV": "Fortuna panzió",
                                    "mettol": "2016-12-05",
                                    "(No column name)": "97"
                                },
                                {
                                    "SZALLAS_NEV": "Fortuna panzió",
                                    "mettol": "2016-12-06",
                                    "(No column name)": "98"
                                },
                                {
                                    "SZALLAS_NEV": "Fortuna panzió",
                                    "mettol": "2016-12-14",
                                    "(No column name)": "99"
                                },
                                {
                                    "SZALLAS_NEV": "Fortuna panzió",
                                    "mettol": "2016-12-18",
                                    "(No column name)": "100"
                                },
                                {
                                    "SZALLAS_NEV": "Fortuna panzió",
                                    "mettol": "2016-12-20",
                                    "(No column name)": "101"
                                },
                                {
                                    "SZALLAS_NEV": "Fortuna panzió",
                                    "mettol": "2016-12-21",
                                    "(No column name)": "102"
                                },
                                {
                                    "SZALLAS_NEV": "Fortuna panzió",
                                    "mettol": "2016-12-24",
                                    "(No column name)": "103"
                                },
                                {
                                    "SZALLAS_NEV": "Fortuna panzió",
                                    "mettol": "2016-12-29",
                                    "(No column name)": "104"
                                },
                                {
                                    "SZALLAS_NEV": "Fortuna panzió",
                                    "mettol": "2017-01-01",
                                    "(No column name)": "105"
                                },
                                {
                                    "SZALLAS_NEV": "Fortuna panzió",
                                    "mettol": "2017-01-03",
                                    "(No column name)": "106"
                                },
                                {
                                    "SZALLAS_NEV": "Fortuna Panzió",
                                    "mettol": "2017-01-08",
                                    "(No column name)": "107"
                                },
                                {
                                    "SZALLAS_NEV": "Fortuna panzió",
                                    "mettol": "2017-01-12",
                                    "(No column name)": "108"
                                },
                                {
                                    "SZALLAS_NEV": "Fortuna panzió",
                                    "mettol": "2017-01-13",
                                    "(No column name)": "109"
                                },
                                {
                                    "SZALLAS_NEV": "Fortuna Panzió",
                                    "mettol": "2017-01-16",
                                    "(No column name)": "110"
                                },
                                {
                                    "SZALLAS_NEV": "Fortuna panzió",
                                    "mettol": "2017-01-18",
                                    "(No column name)": "111"
                                },
                                {
                                    "SZALLAS_NEV": "Fortuna panzió",
                                    "mettol": "2017-01-20",
                                    "(No column name)": "112"
                                },
                                {
                                    "SZALLAS_NEV": "Fortuna panzió",
                                    "mettol": "2017-01-27",
                                    "(No column name)": "113"
                                },
                                {
                                    "SZALLAS_NEV": "Fortuna panzió",
                                    "mettol": "2017-01-28",
                                    "(No column name)": "114"
                                },
                                {
                                    "SZALLAS_NEV": "Fortuna Panzió",
                                    "mettol": "2017-02-10",
                                    "(No column name)": "115"
                                },
                                {
                                    "SZALLAS_NEV": "Fortuna Panzió",
                                    "mettol": "2017-02-12",
                                    "(No column name)": "116"
                                },
                                {
                                    "SZALLAS_NEV": "Fortuna panzió",
                                    "mettol": "2017-02-13",
                                    "(No column name)": "117"
                                },
                                {
                                    "SZALLAS_NEV": "Fortuna Panzió",
                                    "mettol": "2017-02-16",
                                    "(No column name)": "119"
                                },
                                {
                                    "SZALLAS_NEV": "Fortuna Panzió",
                                    "mettol": "2017-02-17",
                                    "(No column name)": "120"
                                },
                                {
                                    "SZALLAS_NEV": "Fortuna Panzió",
                                    "mettol": "2017-02-18",
                                    "(No column name)": "121"
                                },
                                {
                                    "SZALLAS_NEV": "Fortuna Panzió",
                                    "mettol": "2017-02-20",
                                    "(No column name)": "123"
                                },
                                {
                                    "SZALLAS_NEV": "Fortuna panzió",
                                    "mettol": "2017-02-21",
                                    "(No column name)": "124"
                                },
                                {
                                    "SZALLAS_NEV": "Fortuna panzió",
                                    "mettol": "2017-02-24",
                                    "(No column name)": "125"
                                },
                                {
                                    "SZALLAS_NEV": "Fortuna Panzió",
                                    "mettol": "2017-03-01",
                                    "(No column name)": "126"
                                },
                                {
                                    "SZALLAS_NEV": "Gold Hotel",
                                    "mettol": "2016-04-10",
                                    "(No column name)": "4"
                                },
                                {
                                    "SZALLAS_NEV": "Gold Hotel",
                                    "mettol": "2016-04-13",
                                    "(No column name)": "5"
                                },
                                {
                                    "SZALLAS_NEV": "Gold Hotel",
                                    "mettol": "2016-04-21",
                                    "(No column name)": "6"
                                },
                                {
                                    "SZALLAS_NEV": "Gold Hotel",
                                    "mettol": "2016-04-24",
                                    "(No column name)": "7"
                                },
                                {
                                    "SZALLAS_NEV": "Gold Hotel",
                                    "mettol": "2016-04-28",
                                    "(No column name)": "8"
                                },
                                {
                                    "SZALLAS_NEV": "Gold Hotel",
                                    "mettol": "2016-05-01",
                                    "(No column name)": "9"
                                },
                                {
                                    "SZALLAS_NEV": "Gold Hotel",
                                    "mettol": "2016-05-09",
                                    "(No column name)": "11"
                                },
                                {
                                    "SZALLAS_NEV": "Gold Hotel",
                                    "mettol": "2016-05-12",
                                    "(No column name)": "12"
                                },
                                {
                                    "SZALLAS_NEV": "Gold Hotel",
                                    "mettol": "2016-05-14",
                                    "(No column name)": "13"
                                },
                                {
                                    "SZALLAS_NEV": "Gold Hotel",
                                    "mettol": "2016-05-21",
                                    "(No column name)": "15"
                                },
                                {
                                    "SZALLAS_NEV": "Gold Hotel",
                                    "mettol": "2016-05-24",
                                    "(No column name)": "16"
                                },
                                {
                                    "SZALLAS_NEV": "Gold Hotel",
                                    "mettol": "2016-05-25",
                                    "(No column name)": "17"
                                },
                                {
                                    "SZALLAS_NEV": "Gold Hotel",
                                    "mettol": "2016-05-28",
                                    "(No column name)": "20"
                                },
                                {
                                    "SZALLAS_NEV": "Gold Hotel",
                                    "mettol": "2016-05-30",
                                    "(No column name)": "21"
                                },
                                {
                                    "SZALLAS_NEV": "Gold Hotel",
                                    "mettol": "2016-06-03",
                                    "(No column name)": "25"
                                },
                                {
                                    "SZALLAS_NEV": "Gold Hotel",
                                    "mettol": "2016-06-04",
                                    "(No column name)": "27"
                                },
                                {
                                    "SZALLAS_NEV": "Gold Hotel",
                                    "mettol": "2016-06-06",
                                    "(No column name)": "30"
                                },
                                {
                                    "SZALLAS_NEV": "Gold Hotel",
                                    "mettol": "2016-06-07",
                                    "(No column name)": "34"
                                },
                                {
                                    "SZALLAS_NEV": "Gold Hotel",
                                    "mettol": "2016-06-08",
                                    "(No column name)": "35"
                                },
                                {
                                    "SZALLAS_NEV": "Gold Hotel",
                                    "mettol": "2016-06-09",
                                    "(No column name)": "36"
                                },
                                {
                                    "SZALLAS_NEV": "Gold Hotel",
                                    "mettol": "2016-06-10",
                                    "(No column name)": "37"
                                },
                                {
                                    "SZALLAS_NEV": "Gold Hotel",
                                    "mettol": "2016-06-11",
                                    "(No column name)": "38"
                                },
                                {
                                    "SZALLAS_NEV": "Gold Hotel",
                                    "mettol": "2016-06-13",
                                    "(No column name)": "40"
                                },
                                {
                                    "SZALLAS_NEV": "Gold Hotel",
                                    "mettol": "2016-06-20",
                                    "(No column name)": "41"
                                },
                                {
                                    "SZALLAS_NEV": "Gold Hotel",
                                    "mettol": "2016-06-22",
                                    "(No column name)": "43"
                                },
                                {
                                    "SZALLAS_NEV": "Gold Hotel",
                                    "mettol": "2016-06-23",
                                    "(No column name)": "44"
                                },
                                {
                                    "SZALLAS_NEV": "Gold Hotel",
                                    "mettol": "2016-06-24",
                                    "(No column name)": "45"
                                },
                                {
                                    "SZALLAS_NEV": "Gold Hotel",
                                    "mettol": "2016-06-27",
                                    "(No column name)": "46"
                                },
                                {
                                    "SZALLAS_NEV": "Gold Hotel",
                                    "mettol": "2016-06-28",
                                    "(No column name)": "47"
                                },
                                {
                                    "SZALLAS_NEV": "Gold Hotel",
                                    "mettol": "2016-06-30",
                                    "(No column name)": "48"
                                },
                                {
                                    "SZALLAS_NEV": "Gold Hotel",
                                    "mettol": "2016-07-04",
                                    "(No column name)": "50"
                                },
                                {
                                    "SZALLAS_NEV": "Gold Hotel",
                                    "mettol": "2016-07-06",
                                    "(No column name)": "51"
                                },
                                {
                                    "SZALLAS_NEV": "Gold Hotel",
                                    "mettol": "2016-07-08",
                                    "(No column name)": "52"
                                },
                                {
                                    "SZALLAS_NEV": "Gold Hotel",
                                    "mettol": "2016-07-09",
                                    "(No column name)": "53"
                                },
                                {
                                    "SZALLAS_NEV": "Gold Hotel",
                                    "mettol": "2016-07-10",
                                    "(No column name)": "54"
                                },
                                {
                                    "SZALLAS_NEV": "Gold Hotel",
                                    "mettol": "2016-07-14",
                                    "(No column name)": "57"
                                },
                                {
                                    "SZALLAS_NEV": "Gold Hotel",
                                    "mettol": "2016-07-15",
                                    "(No column name)": "58"
                                },
                                {
                                    "SZALLAS_NEV": "Gold Hotel",
                                    "mettol": "2016-07-16",
                                    "(No column name)": "59"
                                },
                                {
                                    "SZALLAS_NEV": "Gold Hotel",
                                    "mettol": "2016-07-17",
                                    "(No column name)": "61"
                                },
                                {
                                    "SZALLAS_NEV": "Gold Hotel",
                                    "mettol": "2016-07-18",
                                    "(No column name)": "63"
                                },
                                {
                                    "SZALLAS_NEV": "Gold Hotel",
                                    "mettol": "2016-07-19",
                                    "(No column name)": "64"
                                },
                                {
                                    "SZALLAS_NEV": "Gold Hotel",
                                    "mettol": "2016-07-20",
                                    "(No column name)": "67"
                                },
                                {
                                    "SZALLAS_NEV": "Gold Hotel",
                                    "mettol": "2016-07-24",
                                    "(No column name)": "70"
                                },
                                {
                                    "SZALLAS_NEV": "Gold Hotel",
                                    "mettol": "2016-07-27",
                                    "(No column name)": "71"
                                },
                                {
                                    "SZALLAS_NEV": "Gold Hotel",
                                    "mettol": "2016-07-28",
                                    "(No column name)": "72"
                                },
                                {
                                    "SZALLAS_NEV": "Gold Hotel",
                                    "mettol": "2016-07-30",
                                    "(No column name)": "73"
                                },
                                {
                                    "SZALLAS_NEV": "Gold Hotel",
                                    "mettol": "2016-07-31",
                                    "(No column name)": "74"
                                },
                                {
                                    "SZALLAS_NEV": "Gold Hotel",
                                    "mettol": "2016-08-01",
                                    "(No column name)": "76"
                                },
                                {
                                    "SZALLAS_NEV": "Gold Hotel",
                                    "mettol": "2016-08-02",
                                    "(No column name)": "77"
                                },
                                {
                                    "SZALLAS_NEV": "Gold Hotel",
                                    "mettol": "2016-08-03",
                                    "(No column name)": "78"
                                },
                                {
                                    "SZALLAS_NEV": "Gold Hotel",
                                    "mettol": "2016-08-09",
                                    "(No column name)": "79"
                                },
                                {
                                    "SZALLAS_NEV": "Gold Hotel",
                                    "mettol": "2016-08-10",
                                    "(No column name)": "80"
                                },
                                {
                                    "SZALLAS_NEV": "Gold Hotel",
                                    "mettol": "2016-08-13",
                                    "(No column name)": "81"
                                },
                                {
                                    "SZALLAS_NEV": "Gold Hotel",
                                    "mettol": "2016-08-16",
                                    "(No column name)": "84"
                                },
                                {
                                    "SZALLAS_NEV": "Gold Hotel",
                                    "mettol": "2016-08-17",
                                    "(No column name)": "85"
                                },
                                {
                                    "SZALLAS_NEV": "Gold Hotel",
                                    "mettol": "2016-08-19",
                                    "(No column name)": "86"
                                },
                                {
                                    "SZALLAS_NEV": "Gold Hotel",
                                    "mettol": "2016-08-24",
                                    "(No column name)": "87"
                                },
                                {
                                    "SZALLAS_NEV": "Gold Hotel",
                                    "mettol": "2016-08-28",
                                    "(No column name)": "88"
                                },
                                {
                                    "SZALLAS_NEV": "Gold Hotel",
                                    "mettol": "2016-08-29",
                                    "(No column name)": "90"
                                },
                                {
                                    "SZALLAS_NEV": "Gold Hotel",
                                    "mettol": "2016-08-31",
                                    "(No column name)": "91"
                                },
                                {
                                    "SZALLAS_NEV": "Gold Hotel",
                                    "mettol": "2016-09-05",
                                    "(No column name)": "92"
                                },
                                {
                                    "SZALLAS_NEV": "Gold Hotel",
                                    "mettol": "2016-09-09",
                                    "(No column name)": "93"
                                },
                                {
                                    "SZALLAS_NEV": "Gold Hotel",
                                    "mettol": "2016-09-11",
                                    "(No column name)": "94"
                                },
                                {
                                    "SZALLAS_NEV": "Gold Hotel",
                                    "mettol": "2016-09-18",
                                    "(No column name)": "95"
                                },
                                {
                                    "SZALLAS_NEV": "Gold Hotel",
                                    "mettol": "2016-09-19",
                                    "(No column name)": "96"
                                },
                                {
                                    "SZALLAS_NEV": "Gold Hotel",
                                    "mettol": "2016-09-22",
                                    "(No column name)": "97"
                                },
                                {
                                    "SZALLAS_NEV": "Gold Hotel",
                                    "mettol": "2016-09-30",
                                    "(No column name)": "100"
                                },
                                {
                                    "SZALLAS_NEV": "Gold Hotel",
                                    "mettol": "2016-10-03",
                                    "(No column name)": "101"
                                },
                                {
                                    "SZALLAS_NEV": "Gold Hotel",
                                    "mettol": "2016-10-06",
                                    "(No column name)": "102"
                                },
                                {
                                    "SZALLAS_NEV": "Gold Hotel",
                                    "mettol": "2016-10-08",
                                    "(No column name)": "103"
                                },
                                {
                                    "SZALLAS_NEV": "Gold Hotel",
                                    "mettol": "2016-10-09",
                                    "(No column name)": "107"
                                },
                                {
                                    "SZALLAS_NEV": "Gold Hotel",
                                    "mettol": "2016-10-10",
                                    "(No column name)": "108"
                                },
                                {
                                    "SZALLAS_NEV": "Gold Hotel",
                                    "mettol": "2016-10-15",
                                    "(No column name)": "109"
                                },
                                {
                                    "SZALLAS_NEV": "Gold Hotel",
                                    "mettol": "2016-10-17",
                                    "(No column name)": "110"
                                },
                                {
                                    "SZALLAS_NEV": "Gold Hotel",
                                    "mettol": "2016-10-20",
                                    "(No column name)": "112"
                                },
                                {
                                    "SZALLAS_NEV": "Gold Hotel",
                                    "mettol": "2016-10-21",
                                    "(No column name)": "113"
                                },
                                {
                                    "SZALLAS_NEV": "Gold Hotel",
                                    "mettol": "2016-10-23",
                                    "(No column name)": "116"
                                },
                                {
                                    "SZALLAS_NEV": "Gold Hotel",
                                    "mettol": "2016-10-24",
                                    "(No column name)": "117"
                                },
                                {
                                    "SZALLAS_NEV": "Gold Hotel",
                                    "mettol": "2016-10-26",
                                    "(No column name)": "118"
                                },
                                {
                                    "SZALLAS_NEV": "Gold Hotel",
                                    "mettol": "2016-10-27",
                                    "(No column name)": "119"
                                },
                                {
                                    "SZALLAS_NEV": "Gold Hotel",
                                    "mettol": "2016-10-28",
                                    "(No column name)": "120"
                                },
                                {
                                    "SZALLAS_NEV": "Gold Hotel",
                                    "mettol": "2016-10-29",
                                    "(No column name)": "121"
                                },
                                {
                                    "SZALLAS_NEV": "Gold Hotel",
                                    "mettol": "2016-10-30",
                                    "(No column name)": "123"
                                },
                                {
                                    "SZALLAS_NEV": "Gold Hotel",
                                    "mettol": "2016-11-03",
                                    "(No column name)": "125"
                                },
                                {
                                    "SZALLAS_NEV": "Gold Hotel",
                                    "mettol": "2016-11-05",
                                    "(No column name)": "128"
                                },
                                {
                                    "SZALLAS_NEV": "Gold Hotel",
                                    "mettol": "2016-11-08",
                                    "(No column name)": "129"
                                },
                                {
                                    "SZALLAS_NEV": "Gold Hotel",
                                    "mettol": "2016-11-09",
                                    "(No column name)": "130"
                                },
                                {
                                    "SZALLAS_NEV": "Gold Hotel",
                                    "mettol": "2016-11-12",
                                    "(No column name)": "131"
                                },
                                {
                                    "SZALLAS_NEV": "Gold Hotel",
                                    "mettol": "2016-11-13",
                                    "(No column name)": "132"
                                },
                                {
                                    "SZALLAS_NEV": "Gold Hotel",
                                    "mettol": "2016-11-22",
                                    "(No column name)": "134"
                                },
                                {
                                    "SZALLAS_NEV": "Gold Hotel",
                                    "mettol": "2016-11-23",
                                    "(No column name)": "136"
                                },
                                {
                                    "SZALLAS_NEV": "Gold Hotel",
                                    "mettol": "2016-11-25",
                                    "(No column name)": "137"
                                },
                                {
                                    "SZALLAS_NEV": "Gold Hotel",
                                    "mettol": "2016-11-27",
                                    "(No column name)": "138"
                                },
                                {
                                    "SZALLAS_NEV": "Gold Hotel",
                                    "mettol": "2016-11-28",
                                    "(No column name)": "139"
                                },
                                {
                                    "SZALLAS_NEV": "Gold Hotel",
                                    "mettol": "2016-11-29",
                                    "(No column name)": "140"
                                },
                                {
                                    "SZALLAS_NEV": "Gold Hotel",
                                    "mettol": "2016-12-02",
                                    "(No column name)": "141"
                                },
                                {
                                    "SZALLAS_NEV": "Gold Hotel",
                                    "mettol": "2016-12-04",
                                    "(No column name)": "143"
                                },
                                {
                                    "SZALLAS_NEV": "Gold Hotel",
                                    "mettol": "2016-12-05",
                                    "(No column name)": "144"
                                },
                                {
                                    "SZALLAS_NEV": "Gold Hotel",
                                    "mettol": "2016-12-06",
                                    "(No column name)": "145"
                                },
                                {
                                    "SZALLAS_NEV": "Gold Hotel",
                                    "mettol": "2016-12-09",
                                    "(No column name)": "146"
                                },
                                {
                                    "SZALLAS_NEV": "Gold Hotel",
                                    "mettol": "2016-12-17",
                                    "(No column name)": "147"
                                },
                                {
                                    "SZALLAS_NEV": "Gold Hotel",
                                    "mettol": "2016-12-22",
                                    "(No column name)": "148"
                                },
                                {
                                    "SZALLAS_NEV": "Gold Hotel",
                                    "mettol": "2016-12-24",
                                    "(No column name)": "149"
                                },
                                {
                                    "SZALLAS_NEV": "Gold Hotel",
                                    "mettol": "2016-12-25",
                                    "(No column name)": "150"
                                },
                                {
                                    "SZALLAS_NEV": "Gold Hotel",
                                    "mettol": "2016-12-29",
                                    "(No column name)": "151"
                                },
                                {
                                    "SZALLAS_NEV": "Gold Hotel",
                                    "mettol": "2016-12-30",
                                    "(No column name)": "152"
                                },
                                {
                                    "SZALLAS_NEV": "Gold Hotel",
                                    "mettol": "2017-01-01",
                                    "(No column name)": "153"
                                },
                                {
                                    "SZALLAS_NEV": "Gold Hotel",
                                    "mettol": "2017-01-02",
                                    "(No column name)": "154"
                                },
                                {
                                    "SZALLAS_NEV": "Gold Hotel",
                                    "mettol": "2017-01-05",
                                    "(No column name)": "156"
                                },
                                {
                                    "SZALLAS_NEV": "Gold Hotel",
                                    "mettol": "2017-01-06",
                                    "(No column name)": "157"
                                },
                                {
                                    "SZALLAS_NEV": "Gold Hotel",
                                    "mettol": "2017-01-09",
                                    "(No column name)": "159"
                                },
                                {
                                    "SZALLAS_NEV": "Gold Hotel",
                                    "mettol": "2017-01-13",
                                    "(No column name)": "160"
                                },
                                {
                                    "SZALLAS_NEV": "Gold Hotel",
                                    "mettol": "2017-01-16",
                                    "(No column name)": "161"
                                },
                                {
                                    "SZALLAS_NEV": "Gold Hotel",
                                    "mettol": "2017-01-17",
                                    "(No column name)": "162"
                                },
                                {
                                    "SZALLAS_NEV": "Gold Hotel",
                                    "mettol": "2017-01-22",
                                    "(No column name)": "164"
                                },
                                {
                                    "SZALLAS_NEV": "Gold Hotel",
                                    "mettol": "2017-01-24",
                                    "(No column name)": "165"
                                },
                                {
                                    "SZALLAS_NEV": "Gold Hotel",
                                    "mettol": "2017-01-30",
                                    "(No column name)": "166"
                                },
                                {
                                    "SZALLAS_NEV": "Gold Hotel",
                                    "mettol": "2017-02-03",
                                    "(No column name)": "167"
                                },
                                {
                                    "SZALLAS_NEV": "Gold Hotel",
                                    "mettol": "2017-02-04",
                                    "(No column name)": "168"
                                },
                                {
                                    "SZALLAS_NEV": "Gold Hotel",
                                    "mettol": "2017-02-05",
                                    "(No column name)": "170"
                                },
                                {
                                    "SZALLAS_NEV": "Gold Hotel",
                                    "mettol": "2017-02-08",
                                    "(No column name)": "172"
                                },
                                {
                                    "SZALLAS_NEV": "Gold Hotel",
                                    "mettol": "2017-02-11",
                                    "(No column name)": "173"
                                },
                                {
                                    "SZALLAS_NEV": "Gold Hotel",
                                    "mettol": "2017-02-12",
                                    "(No column name)": "174"
                                },
                                {
                                    "SZALLAS_NEV": "Gold Hotel",
                                    "mettol": "2017-02-22",
                                    "(No column name)": "175"
                                },
                                {
                                    "SZALLAS_NEV": "Gold Hotel",
                                    "mettol": "2017-02-23",
                                    "(No column name)": "176"
                                },
                                {
                                    "SZALLAS_NEV": "Gold Hotel",
                                    "mettol": "2017-02-24",
                                    "(No column name)": "178"
                                },
                                {
                                    "SZALLAS_NEV": "Gold Hotel",
                                    "mettol": "2017-02-26",
                                    "(No column name)": "179"
                                },
                                {
                                    "SZALLAS_NEV": "Hotel Három Hattyú",
                                    "mettol": "2016-04-11",
                                    "(No column name)": "1"
                                },
                                {
                                    "SZALLAS_NEV": "Hotel Három Hattyú",
                                    "mettol": "2016-04-18",
                                    "(No column name)": "2"
                                },
                                {
                                    "SZALLAS_NEV": "Hotel Három Hattyú",
                                    "mettol": "2016-04-19",
                                    "(No column name)": "3"
                                },
                                {
                                    "SZALLAS_NEV": "Hotel Három Hattyú",
                                    "mettol": "2016-04-23",
                                    "(No column name)": "5"
                                },
                                {
                                    "SZALLAS_NEV": "Hotel Három Hattyú",
                                    "mettol": "2016-04-27",
                                    "(No column name)": "6"
                                },
                                {
                                    "SZALLAS_NEV": "Hotel Három Hattyú",
                                    "mettol": "2016-04-28",
                                    "(No column name)": "7"
                                },
                                {
                                    "SZALLAS_NEV": "Hotel Három Hattyú",
                                    "mettol": "2016-04-30",
                                    "(No column name)": "8"
                                },
                                {
                                    "SZALLAS_NEV": "Hotel Három Hattyú",
                                    "mettol": "2016-05-01",
                                    "(No column name)": "10"
                                },
                                {
                                    "SZALLAS_NEV": "Hotel Három Hattyú",
                                    "mettol": "2016-05-02",
                                    "(No column name)": "12"
                                },
                                {
                                    "SZALLAS_NEV": "Hotel Három Hattyú",
                                    "mettol": "2016-05-03",
                                    "(No column name)": "13"
                                },
                                {
                                    "SZALLAS_NEV": "Hotel Három Hattyú",
                                    "mettol": "2016-05-06",
                                    "(No column name)": "14"
                                },
                                {
                                    "SZALLAS_NEV": "Hotel Három Hattyú",
                                    "mettol": "2016-05-08",
                                    "(No column name)": "15"
                                },
                                {
                                    "SZALLAS_NEV": "Hotel Három Hattyú",
                                    "mettol": "2016-05-09",
                                    "(No column name)": "17"
                                },
                                {
                                    "SZALLAS_NEV": "Hotel Három Hattyú",
                                    "mettol": "2016-05-10",
                                    "(No column name)": "19"
                                },
                                {
                                    "SZALLAS_NEV": "Hotel Három Hattyú",
                                    "mettol": "2016-05-11",
                                    "(No column name)": "20"
                                },
                                {
                                    "SZALLAS_NEV": "Hotel Három Hattyú",
                                    "mettol": "2016-05-14",
                                    "(No column name)": "21"
                                },
                                {
                                    "SZALLAS_NEV": "Hotel Három Hattyú",
                                    "mettol": "2016-05-18",
                                    "(No column name)": "22"
                                },
                                {
                                    "SZALLAS_NEV": "Hotel Három Hattyú",
                                    "mettol": "2016-05-19",
                                    "(No column name)": "23"
                                },
                                {
                                    "SZALLAS_NEV": "Hotel Három Hattyú",
                                    "mettol": "2016-05-24",
                                    "(No column name)": "24"
                                },
                                {
                                    "SZALLAS_NEV": "Hotel Három Hattyú",
                                    "mettol": "2016-05-25",
                                    "(No column name)": "25"
                                },
                                {
                                    "SZALLAS_NEV": "Hotel Három Hattyú",
                                    "mettol": "2016-05-27",
                                    "(No column name)": "26"
                                },
                                {
                                    "SZALLAS_NEV": "Hotel Három Hattyú",
                                    "mettol": "2016-05-28",
                                    "(No column name)": "27"
                                },
                                {
                                    "SZALLAS_NEV": "Hotel Három Hattyú",
                                    "mettol": "2016-05-30",
                                    "(No column name)": "29"
                                },
                                {
                                    "SZALLAS_NEV": "Hotel Három Hattyú",
                                    "mettol": "2016-06-06",
                                    "(No column name)": "30"
                                },
                                {
                                    "SZALLAS_NEV": "Hotel Három Hattyú",
                                    "mettol": "2016-06-07",
                                    "(No column name)": "32"
                                },
                                {
                                    "SZALLAS_NEV": "Hotel Három Hattyú",
                                    "mettol": "2016-06-10",
                                    "(No column name)": "34"
                                },
                                {
                                    "SZALLAS_NEV": "Hotel Három Hattyú",
                                    "mettol": "2016-06-12",
                                    "(No column name)": "35"
                                },
                                {
                                    "SZALLAS_NEV": "Hotel Három Hattyú",
                                    "mettol": "2016-06-14",
                                    "(No column name)": "36"
                                },
                                {
                                    "SZALLAS_NEV": "Hotel Három Hattyú",
                                    "mettol": "2016-06-16",
                                    "(No column name)": "40"
                                },
                                {
                                    "SZALLAS_NEV": "Hotel Három Hattyú",
                                    "mettol": "2016-06-19",
                                    "(No column name)": "41"
                                },
                                {
                                    "SZALLAS_NEV": "Hotel Három Hattyú",
                                    "mettol": "2016-06-21",
                                    "(No column name)": "42"
                                },
                                {
                                    "SZALLAS_NEV": "Hotel Három Hattyú",
                                    "mettol": "2016-06-29",
                                    "(No column name)": "43"
                                },
                                {
                                    "SZALLAS_NEV": "Hotel Három Hattyú",
                                    "mettol": "2016-06-30",
                                    "(No column name)": "44"
                                },
                                {
                                    "SZALLAS_NEV": "Hotel Három Hattyú",
                                    "mettol": "2016-07-01",
                                    "(No column name)": "46"
                                },
                                {
                                    "SZALLAS_NEV": "Hotel Három Hattyú",
                                    "mettol": "2016-07-03",
                                    "(No column name)": "47"
                                },
                                {
                                    "SZALLAS_NEV": "Hotel Három Hattyú",
                                    "mettol": "2016-07-04",
                                    "(No column name)": "48"
                                },
                                {
                                    "SZALLAS_NEV": "Hotel Három Hattyú",
                                    "mettol": "2016-07-07",
                                    "(No column name)": "49"
                                },
                                {
                                    "SZALLAS_NEV": "Hotel Három Hattyú",
                                    "mettol": "2016-07-12",
                                    "(No column name)": "50"
                                },
                                {
                                    "SZALLAS_NEV": "Hotel Három Hattyú",
                                    "mettol": "2016-07-13",
                                    "(No column name)": "51"
                                },
                                {
                                    "SZALLAS_NEV": "Hotel Három Hattyú",
                                    "mettol": "2016-07-14",
                                    "(No column name)": "52"
                                },
                                {
                                    "SZALLAS_NEV": "Hotel Három Hattyú",
                                    "mettol": "2016-07-18",
                                    "(No column name)": "53"
                                },
                                {
                                    "SZALLAS_NEV": "Hotel Három Hattyú",
                                    "mettol": "2016-07-19",
                                    "(No column name)": "54"
                                },
                                {
                                    "SZALLAS_NEV": "Hotel Három Hattyú",
                                    "mettol": "2016-07-20",
                                    "(No column name)": "55"
                                },
                                {
                                    "SZALLAS_NEV": "Hotel Három Hattyú",
                                    "mettol": "2016-07-22",
                                    "(No column name)": "56"
                                },
                                {
                                    "SZALLAS_NEV": "Hotel Három Hattyú",
                                    "mettol": "2016-07-23",
                                    "(No column name)": "57"
                                },
                                {
                                    "SZALLAS_NEV": "Hotel Három Hattyú",
                                    "mettol": "2016-07-25",
                                    "(No column name)": "58"
                                },
                                {
                                    "SZALLAS_NEV": "Hotel Három Hattyú",
                                    "mettol": "2016-07-26",
                                    "(No column name)": "60"
                                },
                                {
                                    "SZALLAS_NEV": "Hotel Három Hattyú",
                                    "mettol": "2016-07-27",
                                    "(No column name)": "65"
                                },
                                {
                                    "SZALLAS_NEV": "Hotel Három Hattyú",
                                    "mettol": "2016-07-28",
                                    "(No column name)": "67"
                                },
                                {
                                    "SZALLAS_NEV": "Hotel Három Hattyú",
                                    "mettol": "2016-07-29",
                                    "(No column name)": "68"
                                },
                                {
                                    "SZALLAS_NEV": "Hotel Három Hattyú",
                                    "mettol": "2016-07-30",
                                    "(No column name)": "70"
                                },
                                {
                                    "SZALLAS_NEV": "Hotel Három Hattyú",
                                    "mettol": "2016-08-04",
                                    "(No column name)": "71"
                                },
                                {
                                    "SZALLAS_NEV": "Hotel Három Hattyú",
                                    "mettol": "2016-08-07",
                                    "(No column name)": "72"
                                },
                                {
                                    "SZALLAS_NEV": "Hotel Három Hattyú",
                                    "mettol": "2016-08-14",
                                    "(No column name)": "73"
                                },
                                {
                                    "SZALLAS_NEV": "Hotel Három Hattyú",
                                    "mettol": "2016-08-15",
                                    "(No column name)": "74"
                                },
                                {
                                    "SZALLAS_NEV": "Hotel Három Hattyú",
                                    "mettol": "2016-08-16",
                                    "(No column name)": "75"
                                },
                                {
                                    "SZALLAS_NEV": "Hotel Három Hattyú",
                                    "mettol": "2016-08-20",
                                    "(No column name)": "76"
                                },
                                {
                                    "SZALLAS_NEV": "Hotel Három Hattyú",
                                    "mettol": "2016-08-21",
                                    "(No column name)": "77"
                                },
                                {
                                    "SZALLAS_NEV": "Hotel Három Hattyú",
                                    "mettol": "2016-08-23",
                                    "(No column name)": "79"
                                },
                                {
                                    "SZALLAS_NEV": "Hotel Három Hattyú",
                                    "mettol": "2016-08-24",
                                    "(No column name)": "80"
                                },
                                {
                                    "SZALLAS_NEV": "Hotel Három Hattyú",
                                    "mettol": "2016-08-26",
                                    "(No column name)": "81"
                                },
                                {
                                    "SZALLAS_NEV": "Hotel Három Hattyú",
                                    "mettol": "2016-08-29",
                                    "(No column name)": "83"
                                },
                                {
                                    "SZALLAS_NEV": "Hotel Három Hattyú",
                                    "mettol": "2016-08-31",
                                    "(No column name)": "84"
                                },
                                {
                                    "SZALLAS_NEV": "Hotel Három Hattyú",
                                    "mettol": "2016-09-05",
                                    "(No column name)": "85"
                                },
                                {
                                    "SZALLAS_NEV": "Hotel Három Hattyú",
                                    "mettol": "2016-09-06",
                                    "(No column name)": "86"
                                },
                                {
                                    "SZALLAS_NEV": "Hotel Három Hattyú",
                                    "mettol": "2016-09-08",
                                    "(No column name)": "87"
                                },
                                {
                                    "SZALLAS_NEV": "Hotel Három Hattyú",
                                    "mettol": "2016-09-10",
                                    "(No column name)": "88"
                                },
                                {
                                    "SZALLAS_NEV": "Hotel Három Hattyú",
                                    "mettol": "2016-09-13",
                                    "(No column name)": "91"
                                },
                                {
                                    "SZALLAS_NEV": "Hotel Három Hattyú",
                                    "mettol": "2016-09-17",
                                    "(No column name)": "92"
                                },
                                {
                                    "SZALLAS_NEV": "Hotel Három Hattyú",
                                    "mettol": "2016-09-20",
                                    "(No column name)": "93"
                                },
                                {
                                    "SZALLAS_NEV": "Hotel Három Hattyú",
                                    "mettol": "2016-09-27",
                                    "(No column name)": "94"
                                },
                                {
                                    "SZALLAS_NEV": "Hotel Három Hattyú",
                                    "mettol": "2016-09-28",
                                    "(No column name)": "95"
                                },
                                {
                                    "SZALLAS_NEV": "Hotel Három Hattyú",
                                    "mettol": "2016-09-30",
                                    "(No column name)": "96"
                                },
                                {
                                    "SZALLAS_NEV": "Hotel Három Hattyú",
                                    "mettol": "2016-10-01",
                                    "(No column name)": "99"
                                },
                                {
                                    "SZALLAS_NEV": "Hotel Három Hattyú",
                                    "mettol": "2016-10-04",
                                    "(No column name)": "100"
                                },
                                {
                                    "SZALLAS_NEV": "Hotel Három Hattyú",
                                    "mettol": "2016-10-06",
                                    "(No column name)": "101"
                                },
                                {
                                    "SZALLAS_NEV": "Hotel Három Hattyú",
                                    "mettol": "2016-10-08",
                                    "(No column name)": "103"
                                },
                                {
                                    "SZALLAS_NEV": "Hotel Három Hattyú",
                                    "mettol": "2016-10-15",
                                    "(No column name)": "104"
                                },
                                {
                                    "SZALLAS_NEV": "Hotel Három Hattyú",
                                    "mettol": "2016-10-17",
                                    "(No column name)": "105"
                                },
                                {
                                    "SZALLAS_NEV": "Hotel Három Hattyú",
                                    "mettol": "2016-10-19",
                                    "(No column name)": "106"
                                },
                                {
                                    "SZALLAS_NEV": "Hotel Három Hattyú",
                                    "mettol": "2016-10-20",
                                    "(No column name)": "107"
                                },
                                {
                                    "SZALLAS_NEV": "Hotel Három Hattyú",
                                    "mettol": "2016-10-22",
                                    "(No column name)": "108"
                                },
                                {
                                    "SZALLAS_NEV": "Hotel Három Hattyú",
                                    "mettol": "2016-10-26",
                                    "(No column name)": "109"
                                },
                                {
                                    "SZALLAS_NEV": "Hotel Három Hattyú",
                                    "mettol": "2016-10-28",
                                    "(No column name)": "112"
                                },
                                {
                                    "SZALLAS_NEV": "Hotel Három Hattyú",
                                    "mettol": "2016-10-29",
                                    "(No column name)": "114"
                                },
                                {
                                    "SZALLAS_NEV": "Hotel Három Hattyú",
                                    "mettol": "2016-10-30",
                                    "(No column name)": "117"
                                },
                                {
                                    "SZALLAS_NEV": "Hotel Három Hattyú",
                                    "mettol": "2016-11-03",
                                    "(No column name)": "118"
                                },
                                {
                                    "SZALLAS_NEV": "Hotel Három Hattyú",
                                    "mettol": "2016-11-04",
                                    "(No column name)": "119"
                                },
                                {
                                    "SZALLAS_NEV": "Hotel Három Hattyú",
                                    "mettol": "2016-11-05",
                                    "(No column name)": "121"
                                },
                                {
                                    "SZALLAS_NEV": "Hotel Három Hattyú",
                                    "mettol": "2016-11-08",
                                    "(No column name)": "122"
                                },
                                {
                                    "SZALLAS_NEV": "Hotel Három Hattyú",
                                    "mettol": "2016-11-10",
                                    "(No column name)": "123"
                                },
                                {
                                    "SZALLAS_NEV": "Hotel Három Hattyú",
                                    "mettol": "2016-11-15",
                                    "(No column name)": "124"
                                },
                                {
                                    "SZALLAS_NEV": "Hotel Három Hattyú",
                                    "mettol": "2016-11-16",
                                    "(No column name)": "125"
                                },
                                {
                                    "SZALLAS_NEV": "Hotel Három Hattyú",
                                    "mettol": "2016-11-19",
                                    "(No column name)": "127"
                                },
                                {
                                    "SZALLAS_NEV": "Hotel Három Hattyú",
                                    "mettol": "2016-11-20",
                                    "(No column name)": "128"
                                },
                                {
                                    "SZALLAS_NEV": "Hotel Három Hattyú",
                                    "mettol": "2016-11-22",
                                    "(No column name)": "129"
                                },
                                {
                                    "SZALLAS_NEV": "Hotel Három Hattyú",
                                    "mettol": "2016-11-23",
                                    "(No column name)": "130"
                                },
                                {
                                    "SZALLAS_NEV": "Hotel Három Hattyú",
                                    "mettol": "2016-11-24",
                                    "(No column name)": "131"
                                },
                                {
                                    "SZALLAS_NEV": "Hotel Három Hattyú",
                                    "mettol": "2016-11-29",
                                    "(No column name)": "133"
                                },
                                {
                                    "SZALLAS_NEV": "Hotel Három Hattyú",
                                    "mettol": "2016-12-02",
                                    "(No column name)": "134"
                                },
                                {
                                    "SZALLAS_NEV": "Hotel Három Hattyú",
                                    "mettol": "2016-12-03",
                                    "(No column name)": "135"
                                },
                                {
                                    "SZALLAS_NEV": "Hotel Három Hattyú",
                                    "mettol": "2016-12-05",
                                    "(No column name)": "136"
                                },
                                {
                                    "SZALLAS_NEV": "Hotel Három Hattyú",
                                    "mettol": "2016-12-07",
                                    "(No column name)": "139"
                                },
                                {
                                    "SZALLAS_NEV": "Hotel Három Hattyú",
                                    "mettol": "2016-12-08",
                                    "(No column name)": "140"
                                },
                                {
                                    "SZALLAS_NEV": "Hotel Három Hattyú",
                                    "mettol": "2016-12-13",
                                    "(No column name)": "141"
                                },
                                {
                                    "SZALLAS_NEV": "Hotel Három Hattyú",
                                    "mettol": "2016-12-15",
                                    "(No column name)": "142"
                                },
                                {
                                    "SZALLAS_NEV": "Hotel Három Hattyú",
                                    "mettol": "2016-12-17",
                                    "(No column name)": "146"
                                },
                                {
                                    "SZALLAS_NEV": "Hotel Három Hattyú",
                                    "mettol": "2016-12-18",
                                    "(No column name)": "147"
                                },
                                {
                                    "SZALLAS_NEV": "Hotel Három Hattyú",
                                    "mettol": "2016-12-23",
                                    "(No column name)": "148"
                                },
                                {
                                    "SZALLAS_NEV": "Hotel Három Hattyú",
                                    "mettol": "2016-12-25",
                                    "(No column name)": "153"
                                },
                                {
                                    "SZALLAS_NEV": "Hotel Három Hattyú",
                                    "mettol": "2016-12-26",
                                    "(No column name)": "154"
                                },
                                {
                                    "SZALLAS_NEV": "Hotel Három Hattyú",
                                    "mettol": "2016-12-28",
                                    "(No column name)": "155"
                                },
                                {
                                    "SZALLAS_NEV": "Hotel Három Hattyú",
                                    "mettol": "2016-12-29",
                                    "(No column name)": "156"
                                },
                                {
                                    "SZALLAS_NEV": "Hotel Három Hattyú",
                                    "mettol": "2016-12-31",
                                    "(No column name)": "157"
                                },
                                {
                                    "SZALLAS_NEV": "Hotel Három Hattyú",
                                    "mettol": "2017-01-02",
                                    "(No column name)": "158"
                                },
                                {
                                    "SZALLAS_NEV": "Hotel Három Hattyú",
                                    "mettol": "2017-01-03",
                                    "(No column name)": "159"
                                },
                                {
                                    "SZALLAS_NEV": "Hotel Három Hattyú",
                                    "mettol": "2017-01-05",
                                    "(No column name)": "160"
                                },
                                {
                                    "SZALLAS_NEV": "Hotel Három Hattyú",
                                    "mettol": "2017-01-07",
                                    "(No column name)": "161"
                                },
                                {
                                    "SZALLAS_NEV": "Hotel Három Hattyú",
                                    "mettol": "2017-01-09",
                                    "(No column name)": "162"
                                },
                                {
                                    "SZALLAS_NEV": "Hotel Három Hattyú",
                                    "mettol": "2017-01-14",
                                    "(No column name)": "163"
                                },
                                {
                                    "SZALLAS_NEV": "Hotel Három Hattyú",
                                    "mettol": "2017-01-15",
                                    "(No column name)": "164"
                                },
                                {
                                    "SZALLAS_NEV": "Hotel Három Hattyú",
                                    "mettol": "2017-01-16",
                                    "(No column name)": "165"
                                },
                                {
                                    "SZALLAS_NEV": "Hotel Három Hattyú",
                                    "mettol": "2017-01-17",
                                    "(No column name)": "166"
                                },
                                {
                                    "SZALLAS_NEV": "Hotel Három Hattyú",
                                    "mettol": "2017-01-18",
                                    "(No column name)": "167"
                                },
                                {
                                    "SZALLAS_NEV": "Hotel Három Hattyú",
                                    "mettol": "2017-01-23",
                                    "(No column name)": "168"
                                },
                                {
                                    "SZALLAS_NEV": "Hotel Három Hattyú",
                                    "mettol": "2017-01-24",
                                    "(No column name)": "169"
                                },
                                {
                                    "SZALLAS_NEV": "Hotel Három Hattyú",
                                    "mettol": "2017-01-29",
                                    "(No column name)": "171"
                                },
                                {
                                    "SZALLAS_NEV": "Hotel Három Hattyú",
                                    "mettol": "2017-01-30",
                                    "(No column name)": "173"
                                },
                                {
                                    "SZALLAS_NEV": "Hotel Három Hattyú",
                                    "mettol": "2017-01-31",
                                    "(No column name)": "174"
                                },
                                {
                                    "SZALLAS_NEV": "Hotel Három Hattyú",
                                    "mettol": "2017-02-01",
                                    "(No column name)": "175"
                                },
                                {
                                    "SZALLAS_NEV": "Hotel Három Hattyú",
                                    "mettol": "2017-02-02",
                                    "(No column name)": "176"
                                },
                                {
                                    "SZALLAS_NEV": "Hotel Három Hattyú",
                                    "mettol": "2017-02-04",
                                    "(No column name)": "179"
                                },
                                {
                                    "SZALLAS_NEV": "Hotel Három Hattyú",
                                    "mettol": "2017-02-05",
                                    "(No column name)": "182"
                                },
                                {
                                    "SZALLAS_NEV": "Hotel Három Hattyú",
                                    "mettol": "2017-02-08",
                                    "(No column name)": "184"
                                },
                                {
                                    "SZALLAS_NEV": "Hotel Három Hattyú",
                                    "mettol": "2017-02-10",
                                    "(No column name)": "185"
                                },
                                {
                                    "SZALLAS_NEV": "Hotel Három Hattyú",
                                    "mettol": "2017-02-12",
                                    "(No column name)": "188"
                                },
                                {
                                    "SZALLAS_NEV": "Hotel Három Hattyú",
                                    "mettol": "2017-02-13",
                                    "(No column name)": "192"
                                },
                                {
                                    "SZALLAS_NEV": "Hotel Három Hattyú",
                                    "mettol": "2017-02-14",
                                    "(No column name)": "193"
                                },
                                {
                                    "SZALLAS_NEV": "Hotel Három Hattyú",
                                    "mettol": "2017-02-16",
                                    "(No column name)": "195"
                                },
                                {
                                    "SZALLAS_NEV": "Hotel Három Hattyú",
                                    "mettol": "2017-02-20",
                                    "(No column name)": "197"
                                },
                                {
                                    "SZALLAS_NEV": "Hotel Három Hattyú",
                                    "mettol": "2017-02-23",
                                    "(No column name)": "199"
                                },
                                {
                                    "SZALLAS_NEV": "Hotel Három Hattyú",
                                    "mettol": "2017-02-24",
                                    "(No column name)": "201"
                                },
                                {
                                    "SZALLAS_NEV": "Hotel Három Hattyú",
                                    "mettol": "2017-02-26",
                                    "(No column name)": "202"
                                },
                                {
                                    "SZALLAS_NEV": "Hotel Három Hattyú",
                                    "mettol": "2017-02-28",
                                    "(No column name)": "203"
                                },
                                {
                                    "SZALLAS_NEV": "Hotel Három Hattyú",
                                    "mettol": "2017-03-03",
                                    "(No column name)": "204"
                                },
                                {
                                    "SZALLAS_NEV": "Jáde panzió",
                                    "mettol": "2016-04-06",
                                    "(No column name)": "1"
                                },
                                {
                                    "SZALLAS_NEV": "Jáde panzió",
                                    "mettol": "2016-04-14",
                                    "(No column name)": "2"
                                },
                                {
                                    "SZALLAS_NEV": "Jáde panzió",
                                    "mettol": "2016-05-01",
                                    "(No column name)": "3"
                                },
                                {
                                    "SZALLAS_NEV": "Jáde panzió",
                                    "mettol": "2016-05-04",
                                    "(No column name)": "4"
                                },
                                {
                                    "SZALLAS_NEV": "Jáde panzió",
                                    "mettol": "2016-05-18",
                                    "(No column name)": "5"
                                },
                                {
                                    "SZALLAS_NEV": "Jáde panzió",
                                    "mettol": "2016-05-30",
                                    "(No column name)": "6"
                                },
                                {
                                    "SZALLAS_NEV": "Jáde panzió",
                                    "mettol": "2016-06-06",
                                    "(No column name)": "8"
                                },
                                {
                                    "SZALLAS_NEV": "Jáde panzió",
                                    "mettol": "2016-06-27",
                                    "(No column name)": "9"
                                },
                                {
                                    "SZALLAS_NEV": "Jáde panzió",
                                    "mettol": "2016-07-01",
                                    "(No column name)": "10"
                                },
                                {
                                    "SZALLAS_NEV": "Jáde panzió",
                                    "mettol": "2016-07-03",
                                    "(No column name)": "11"
                                },
                                {
                                    "SZALLAS_NEV": "Jáde panzió",
                                    "mettol": "2016-07-11",
                                    "(No column name)": "12"
                                },
                                {
                                    "SZALLAS_NEV": "Jáde panzió",
                                    "mettol": "2016-08-06",
                                    "(No column name)": "13"
                                },
                                {
                                    "SZALLAS_NEV": "Jáde panzió",
                                    "mettol": "2016-08-15",
                                    "(No column name)": "14"
                                },
                                {
                                    "SZALLAS_NEV": "Jáde panzió",
                                    "mettol": "2016-09-09",
                                    "(No column name)": "15"
                                },
                                {
                                    "SZALLAS_NEV": "Jáde panzió",
                                    "mettol": "2016-09-12",
                                    "(No column name)": "16"
                                },
                                {
                                    "SZALLAS_NEV": "Jáde panzió",
                                    "mettol": "2016-09-30",
                                    "(No column name)": "17"
                                },
                                {
                                    "SZALLAS_NEV": "Jáde panzió",
                                    "mettol": "2016-10-01",
                                    "(No column name)": "18"
                                },
                                {
                                    "SZALLAS_NEV": "Jáde panzió",
                                    "mettol": "2016-10-12",
                                    "(No column name)": "19"
                                },
                                {
                                    "SZALLAS_NEV": "Jáde panzió",
                                    "mettol": "2016-10-22",
                                    "(No column name)": "20"
                                },
                                {
                                    "SZALLAS_NEV": "Jáde panzió",
                                    "mettol": "2016-10-30",
                                    "(No column name)": "21"
                                },
                                {
                                    "SZALLAS_NEV": "Jáde panzió",
                                    "mettol": "2016-11-22",
                                    "(No column name)": "23"
                                },
                                {
                                    "SZALLAS_NEV": "Jáde panzió",
                                    "mettol": "2016-12-15",
                                    "(No column name)": "24"
                                },
                                {
                                    "SZALLAS_NEV": "Jáde panzió",
                                    "mettol": "2017-01-01",
                                    "(No column name)": "25"
                                },
                                {
                                    "SZALLAS_NEV": "Jáde panzió",
                                    "mettol": "2017-01-25",
                                    "(No column name)": "26"
                                },
                                {
                                    "SZALLAS_NEV": "Jáde panzió",
                                    "mettol": "2017-01-26",
                                    "(No column name)": "27"
                                },
                                {
                                    "SZALLAS_NEV": "Jáde panzió",
                                    "mettol": "2017-02-12",
                                    "(No column name)": "28"
                                },
                                {
                                    "SZALLAS_NEV": "Jáde panzió",
                                    "mettol": "2017-02-15",
                                    "(No column name)": "29"
                                },
                                {
                                    "SZALLAS_NEV": "Kentaur Hotel",
                                    "mettol": "2016-04-07",
                                    "(No column name)": "1"
                                },
                                {
                                    "SZALLAS_NEV": "Kentaur Hotel",
                                    "mettol": "2016-04-10",
                                    "(No column name)": "3"
                                },
                                {
                                    "SZALLAS_NEV": "Kentaur Hotel",
                                    "mettol": "2016-04-16",
                                    "(No column name)": "4"
                                },
                                {
                                    "SZALLAS_NEV": "Kentaur Hotel",
                                    "mettol": "2016-04-17",
                                    "(No column name)": "5"
                                },
                                {
                                    "SZALLAS_NEV": "Kentaur Hotel",
                                    "mettol": "2016-04-21",
                                    "(No column name)": "6"
                                },
                                {
                                    "SZALLAS_NEV": "Kentaur Hotel",
                                    "mettol": "2016-04-22",
                                    "(No column name)": "7"
                                },
                                {
                                    "SZALLAS_NEV": "Kentaur Hotel",
                                    "mettol": "2016-05-07",
                                    "(No column name)": "8"
                                },
                                {
                                    "SZALLAS_NEV": "Kentaur Hotel",
                                    "mettol": "2016-05-08",
                                    "(No column name)": "9"
                                },
                                {
                                    "SZALLAS_NEV": "Kentaur Hotel",
                                    "mettol": "2016-05-12",
                                    "(No column name)": "10"
                                },
                                {
                                    "SZALLAS_NEV": "Kentaur Hotel",
                                    "mettol": "2016-05-13",
                                    "(No column name)": "11"
                                },
                                {
                                    "SZALLAS_NEV": "Kentaur Hotel",
                                    "mettol": "2016-05-14",
                                    "(No column name)": "13"
                                },
                                {
                                    "SZALLAS_NEV": "Kentaur Hotel",
                                    "mettol": "2016-05-17",
                                    "(No column name)": "14"
                                },
                                {
                                    "SZALLAS_NEV": "Kentaur Hotel",
                                    "mettol": "2016-05-24",
                                    "(No column name)": "15"
                                },
                                {
                                    "SZALLAS_NEV": "Kentaur Hotel",
                                    "mettol": "2016-05-27",
                                    "(No column name)": "17"
                                },
                                {
                                    "SZALLAS_NEV": "Kentaur Hotel",
                                    "mettol": "2016-05-28",
                                    "(No column name)": "19"
                                },
                                {
                                    "SZALLAS_NEV": "Kentaur Hotel",
                                    "mettol": "2016-05-29",
                                    "(No column name)": "20"
                                },
                                {
                                    "SZALLAS_NEV": "Kentaur Hotel",
                                    "mettol": "2016-05-30",
                                    "(No column name)": "25"
                                },
                                {
                                    "SZALLAS_NEV": "Kentaur Hotel",
                                    "mettol": "2016-05-31",
                                    "(No column name)": "26"
                                },
                                {
                                    "SZALLAS_NEV": "Kentaur Hotel",
                                    "mettol": "2016-06-01",
                                    "(No column name)": "27"
                                },
                                {
                                    "SZALLAS_NEV": "Kentaur Hotel",
                                    "mettol": "2016-06-02",
                                    "(No column name)": "29"
                                },
                                {
                                    "SZALLAS_NEV": "Kentaur Hotel",
                                    "mettol": "2016-06-04",
                                    "(No column name)": "30"
                                },
                                {
                                    "SZALLAS_NEV": "Kentaur Hotel",
                                    "mettol": "2016-06-07",
                                    "(No column name)": "31"
                                },
                                {
                                    "SZALLAS_NEV": "Kentaur Hotel",
                                    "mettol": "2016-06-08",
                                    "(No column name)": "33"
                                },
                                {
                                    "SZALLAS_NEV": "Kentaur Hotel",
                                    "mettol": "2016-06-09",
                                    "(No column name)": "35"
                                },
                                {
                                    "SZALLAS_NEV": "Kentaur Hotel",
                                    "mettol": "2016-06-10",
                                    "(No column name)": "36"
                                },
                                {
                                    "SZALLAS_NEV": "Kentaur Hotel",
                                    "mettol": "2016-06-13",
                                    "(No column name)": "37"
                                },
                                {
                                    "SZALLAS_NEV": "Kentaur Hotel",
                                    "mettol": "2016-06-16",
                                    "(No column name)": "39"
                                },
                                {
                                    "SZALLAS_NEV": "Kentaur Hotel",
                                    "mettol": "2016-06-22",
                                    "(No column name)": "40"
                                },
                                {
                                    "SZALLAS_NEV": "Kentaur Hotel",
                                    "mettol": "2016-06-23",
                                    "(No column name)": "42"
                                },
                                {
                                    "SZALLAS_NEV": "Kentaur Hotel",
                                    "mettol": "2016-06-26",
                                    "(No column name)": "43"
                                },
                                {
                                    "SZALLAS_NEV": "Kentaur Hotel",
                                    "mettol": "2016-06-30",
                                    "(No column name)": "44"
                                },
                                {
                                    "SZALLAS_NEV": "Kentaur Hotel",
                                    "mettol": "2016-07-01",
                                    "(No column name)": "46"
                                },
                                {
                                    "SZALLAS_NEV": "Kentaur Hotel",
                                    "mettol": "2016-07-03",
                                    "(No column name)": "47"
                                },
                                {
                                    "SZALLAS_NEV": "Kentaur Hotel",
                                    "mettol": "2016-07-04",
                                    "(No column name)": "48"
                                },
                                {
                                    "SZALLAS_NEV": "Kentaur Hotel",
                                    "mettol": "2016-07-06",
                                    "(No column name)": "49"
                                },
                                {
                                    "SZALLAS_NEV": "Kentaur Hotel",
                                    "mettol": "2016-07-12",
                                    "(No column name)": "50"
                                },
                                {
                                    "SZALLAS_NEV": "Kentaur Hotel",
                                    "mettol": "2016-07-13",
                                    "(No column name)": "51"
                                },
                                {
                                    "SZALLAS_NEV": "Kentaur Hotel",
                                    "mettol": "2016-07-14",
                                    "(No column name)": "52"
                                },
                                {
                                    "SZALLAS_NEV": "Kentaur Hotel",
                                    "mettol": "2016-07-15",
                                    "(No column name)": "53"
                                },
                                {
                                    "SZALLAS_NEV": "Kentaur Hotel",
                                    "mettol": "2016-07-16",
                                    "(No column name)": "54"
                                },
                                {
                                    "SZALLAS_NEV": "Kentaur Hotel",
                                    "mettol": "2016-07-18",
                                    "(No column name)": "56"
                                },
                                {
                                    "SZALLAS_NEV": "Kentaur Hotel",
                                    "mettol": "2016-07-20",
                                    "(No column name)": "58"
                                },
                                {
                                    "SZALLAS_NEV": "Kentaur Hotel",
                                    "mettol": "2016-07-21",
                                    "(No column name)": "60"
                                },
                                {
                                    "SZALLAS_NEV": "Kentaur Hotel",
                                    "mettol": "2016-07-22",
                                    "(No column name)": "61"
                                },
                                {
                                    "SZALLAS_NEV": "Kentaur Hotel",
                                    "mettol": "2016-07-24",
                                    "(No column name)": "62"
                                },
                                {
                                    "SZALLAS_NEV": "Kentaur Hotel",
                                    "mettol": "2016-07-25",
                                    "(No column name)": "63"
                                },
                                {
                                    "SZALLAS_NEV": "Kentaur Hotel",
                                    "mettol": "2016-07-27",
                                    "(No column name)": "64"
                                },
                                {
                                    "SZALLAS_NEV": "Kentaur Hotel",
                                    "mettol": "2016-07-28",
                                    "(No column name)": "65"
                                },
                                {
                                    "SZALLAS_NEV": "Kentaur Hotel",
                                    "mettol": "2016-07-29",
                                    "(No column name)": "66"
                                },
                                {
                                    "SZALLAS_NEV": "Kentaur Hotel",
                                    "mettol": "2016-08-05",
                                    "(No column name)": "67"
                                },
                                {
                                    "SZALLAS_NEV": "Kentaur Hotel",
                                    "mettol": "2016-08-12",
                                    "(No column name)": "69"
                                },
                                {
                                    "SZALLAS_NEV": "Kentaur Hotel",
                                    "mettol": "2016-08-16",
                                    "(No column name)": "70"
                                },
                                {
                                    "SZALLAS_NEV": "Kentaur Hotel",
                                    "mettol": "2016-08-18",
                                    "(No column name)": "72"
                                },
                                {
                                    "SZALLAS_NEV": "Kentaur Hotel",
                                    "mettol": "2016-08-23",
                                    "(No column name)": "73"
                                },
                                {
                                    "SZALLAS_NEV": "Kentaur Hotel",
                                    "mettol": "2016-08-24",
                                    "(No column name)": "76"
                                },
                                {
                                    "SZALLAS_NEV": "Kentaur Hotel",
                                    "mettol": "2016-08-28",
                                    "(No column name)": "77"
                                },
                                {
                                    "SZALLAS_NEV": "Kentaur Hotel",
                                    "mettol": "2016-08-29",
                                    "(No column name)": "78"
                                },
                                {
                                    "SZALLAS_NEV": "Kentaur Hotel",
                                    "mettol": "2016-09-02",
                                    "(No column name)": "79"
                                },
                                {
                                    "SZALLAS_NEV": "Kentaur Hotel",
                                    "mettol": "2016-09-03",
                                    "(No column name)": "80"
                                },
                                {
                                    "SZALLAS_NEV": "Kentaur Hotel",
                                    "mettol": "2016-09-15",
                                    "(No column name)": "82"
                                },
                                {
                                    "SZALLAS_NEV": "Kentaur Hotel",
                                    "mettol": "2016-09-18",
                                    "(No column name)": "83"
                                },
                                {
                                    "SZALLAS_NEV": "Kentaur Hotel",
                                    "mettol": "2016-09-20",
                                    "(No column name)": "84"
                                },
                                {
                                    "SZALLAS_NEV": "Kentaur Hotel",
                                    "mettol": "2016-09-25",
                                    "(No column name)": "85"
                                },
                                {
                                    "SZALLAS_NEV": "Kentaur Hotel",
                                    "mettol": "2016-09-26",
                                    "(No column name)": "86"
                                },
                                {
                                    "SZALLAS_NEV": "Kentaur Hotel",
                                    "mettol": "2016-09-28",
                                    "(No column name)": "88"
                                },
                                {
                                    "SZALLAS_NEV": "Kentaur Hotel",
                                    "mettol": "2016-09-30",
                                    "(No column name)": "91"
                                },
                                {
                                    "SZALLAS_NEV": "Kentaur Hotel",
                                    "mettol": "2016-10-01",
                                    "(No column name)": "93"
                                },
                                {
                                    "SZALLAS_NEV": "Kentaur Hotel",
                                    "mettol": "2016-10-04",
                                    "(No column name)": "94"
                                },
                                {
                                    "SZALLAS_NEV": "Kentaur Hotel",
                                    "mettol": "2016-10-05",
                                    "(No column name)": "95"
                                },
                                {
                                    "SZALLAS_NEV": "Kentaur Hotel",
                                    "mettol": "2016-10-07",
                                    "(No column name)": "96"
                                },
                                {
                                    "SZALLAS_NEV": "Kentaur Hotel",
                                    "mettol": "2016-10-11",
                                    "(No column name)": "97"
                                },
                                {
                                    "SZALLAS_NEV": "Kentaur Hotel",
                                    "mettol": "2016-10-16",
                                    "(No column name)": "98"
                                },
                                {
                                    "SZALLAS_NEV": "Kentaur Hotel",
                                    "mettol": "2016-10-17",
                                    "(No column name)": "99"
                                },
                                {
                                    "SZALLAS_NEV": "Kentaur Hotel",
                                    "mettol": "2016-10-19",
                                    "(No column name)": "100"
                                },
                                {
                                    "SZALLAS_NEV": "Kentaur Hotel",
                                    "mettol": "2016-10-20",
                                    "(No column name)": "101"
                                },
                                {
                                    "SZALLAS_NEV": "Kentaur Hotel",
                                    "mettol": "2016-10-22",
                                    "(No column name)": "102"
                                },
                                {
                                    "SZALLAS_NEV": "Kentaur Hotel",
                                    "mettol": "2016-10-23",
                                    "(No column name)": "103"
                                },
                                {
                                    "SZALLAS_NEV": "Kentaur Hotel",
                                    "mettol": "2016-10-25",
                                    "(No column name)": "104"
                                },
                                {
                                    "SZALLAS_NEV": "Kentaur Hotel",
                                    "mettol": "2016-10-26",
                                    "(No column name)": "105"
                                },
                                {
                                    "SZALLAS_NEV": "Kentaur Hotel",
                                    "mettol": "2016-10-28",
                                    "(No column name)": "106"
                                },
                                {
                                    "SZALLAS_NEV": "Kentaur Hotel",
                                    "mettol": "2016-10-29",
                                    "(No column name)": "107"
                                },
                                {
                                    "SZALLAS_NEV": "Kentaur Hotel",
                                    "mettol": "2016-10-30",
                                    "(No column name)": "111"
                                },
                                {
                                    "SZALLAS_NEV": "Kentaur Hotel",
                                    "mettol": "2016-10-31",
                                    "(No column name)": "112"
                                },
                                {
                                    "SZALLAS_NEV": "Kentaur Hotel",
                                    "mettol": "2016-11-01",
                                    "(No column name)": "113"
                                },
                                {
                                    "SZALLAS_NEV": "Kentaur Hotel",
                                    "mettol": "2016-11-03",
                                    "(No column name)": "114"
                                },
                                {
                                    "SZALLAS_NEV": "Kentaur Hotel",
                                    "mettol": "2016-11-05",
                                    "(No column name)": "115"
                                },
                                {
                                    "SZALLAS_NEV": "Kentaur Hotel",
                                    "mettol": "2016-11-06",
                                    "(No column name)": "116"
                                },
                                {
                                    "SZALLAS_NEV": "Kentaur Hotel",
                                    "mettol": "2016-11-07",
                                    "(No column name)": "118"
                                },
                                {
                                    "SZALLAS_NEV": "Kentaur Hotel",
                                    "mettol": "2016-11-08",
                                    "(No column name)": "119"
                                },
                                {
                                    "SZALLAS_NEV": "Kentaur Hotel",
                                    "mettol": "2016-11-09",
                                    "(No column name)": "120"
                                },
                                {
                                    "SZALLAS_NEV": "Kentaur Hotel",
                                    "mettol": "2016-11-10",
                                    "(No column name)": "121"
                                },
                                {
                                    "SZALLAS_NEV": "Kentaur Hotel",
                                    "mettol": "2016-11-12",
                                    "(No column name)": "122"
                                },
                                {
                                    "SZALLAS_NEV": "Kentaur Hotel",
                                    "mettol": "2016-11-14",
                                    "(No column name)": "123"
                                },
                                {
                                    "SZALLAS_NEV": "Kentaur Hotel",
                                    "mettol": "2016-11-15",
                                    "(No column name)": "124"
                                },
                                {
                                    "SZALLAS_NEV": "Kentaur Hotel",
                                    "mettol": "2016-11-16",
                                    "(No column name)": "125"
                                },
                                {
                                    "SZALLAS_NEV": "Kentaur Hotel",
                                    "mettol": "2016-11-17",
                                    "(No column name)": "126"
                                },
                                {
                                    "SZALLAS_NEV": "Kentaur Hotel",
                                    "mettol": "2016-11-19",
                                    "(No column name)": "127"
                                },
                                {
                                    "SZALLAS_NEV": "Kentaur Hotel",
                                    "mettol": "2016-11-23",
                                    "(No column name)": "128"
                                },
                                {
                                    "SZALLAS_NEV": "Kentaur Hotel",
                                    "mettol": "2016-11-25",
                                    "(No column name)": "129"
                                },
                                {
                                    "SZALLAS_NEV": "Kentaur Hotel",
                                    "mettol": "2016-11-26",
                                    "(No column name)": "130"
                                },
                                {
                                    "SZALLAS_NEV": "Kentaur Hotel",
                                    "mettol": "2016-11-27",
                                    "(No column name)": "132"
                                },
                                {
                                    "SZALLAS_NEV": "Kentaur Hotel",
                                    "mettol": "2016-11-28",
                                    "(No column name)": "134"
                                },
                                {
                                    "SZALLAS_NEV": "Kentaur Hotel",
                                    "mettol": "2016-11-29",
                                    "(No column name)": "135"
                                },
                                {
                                    "SZALLAS_NEV": "Kentaur Hotel",
                                    "mettol": "2016-11-30",
                                    "(No column name)": "136"
                                },
                                {
                                    "SZALLAS_NEV": "Kentaur Hotel",
                                    "mettol": "2016-12-04",
                                    "(No column name)": "137"
                                },
                                {
                                    "SZALLAS_NEV": "Kentaur Hotel",
                                    "mettol": "2016-12-05",
                                    "(No column name)": "138"
                                },
                                {
                                    "SZALLAS_NEV": "Kentaur Hotel",
                                    "mettol": "2016-12-06",
                                    "(No column name)": "139"
                                },
                                {
                                    "SZALLAS_NEV": "Kentaur Hotel",
                                    "mettol": "2016-12-15",
                                    "(No column name)": "140"
                                },
                                {
                                    "SZALLAS_NEV": "Kentaur Hotel",
                                    "mettol": "2016-12-16",
                                    "(No column name)": "141"
                                },
                                {
                                    "SZALLAS_NEV": "Kentaur Hotel",
                                    "mettol": "2016-12-17",
                                    "(No column name)": "143"
                                },
                                {
                                    "SZALLAS_NEV": "Kentaur Hotel",
                                    "mettol": "2016-12-19",
                                    "(No column name)": "144"
                                },
                                {
                                    "SZALLAS_NEV": "Kentaur Hotel",
                                    "mettol": "2016-12-22",
                                    "(No column name)": "146"
                                },
                                {
                                    "SZALLAS_NEV": "Kentaur Hotel",
                                    "mettol": "2016-12-24",
                                    "(No column name)": "147"
                                },
                                {
                                    "SZALLAS_NEV": "Kentaur Hotel",
                                    "mettol": "2016-12-25",
                                    "(No column name)": "149"
                                },
                                {
                                    "SZALLAS_NEV": "Kentaur Hotel",
                                    "mettol": "2016-12-29",
                                    "(No column name)": "150"
                                },
                                {
                                    "SZALLAS_NEV": "Kentaur Hotel",
                                    "mettol": "2017-01-01",
                                    "(No column name)": "151"
                                },
                                {
                                    "SZALLAS_NEV": "Kentaur Hotel",
                                    "mettol": "2017-01-09",
                                    "(No column name)": "152"
                                },
                                {
                                    "SZALLAS_NEV": "Kentaur Hotel",
                                    "mettol": "2017-01-10",
                                    "(No column name)": "153"
                                },
                                {
                                    "SZALLAS_NEV": "Kentaur Hotel",
                                    "mettol": "2017-01-15",
                                    "(No column name)": "154"
                                },
                                {
                                    "SZALLAS_NEV": "Kentaur Hotel",
                                    "mettol": "2017-01-16",
                                    "(No column name)": "157"
                                },
                                {
                                    "SZALLAS_NEV": "Kentaur Hotel",
                                    "mettol": "2017-01-17",
                                    "(No column name)": "158"
                                },
                                {
                                    "SZALLAS_NEV": "Kentaur Hotel",
                                    "mettol": "2017-01-19",
                                    "(No column name)": "160"
                                },
                                {
                                    "SZALLAS_NEV": "Kentaur Hotel",
                                    "mettol": "2017-01-22",
                                    "(No column name)": "164"
                                },
                                {
                                    "SZALLAS_NEV": "Kentaur Hotel",
                                    "mettol": "2017-01-28",
                                    "(No column name)": "165"
                                },
                                {
                                    "SZALLAS_NEV": "Kentaur Hotel",
                                    "mettol": "2017-02-04",
                                    "(No column name)": "166"
                                },
                                {
                                    "SZALLAS_NEV": "Kentaur Hotel",
                                    "mettol": "2017-02-06",
                                    "(No column name)": "168"
                                },
                                {
                                    "SZALLAS_NEV": "Kentaur Hotel",
                                    "mettol": "2017-02-08",
                                    "(No column name)": "169"
                                },
                                {
                                    "SZALLAS_NEV": "Kentaur Hotel",
                                    "mettol": "2017-02-12",
                                    "(No column name)": "170"
                                },
                                {
                                    "SZALLAS_NEV": "Kentaur Hotel",
                                    "mettol": "2017-02-14",
                                    "(No column name)": "171"
                                },
                                {
                                    "SZALLAS_NEV": "Kentaur Hotel",
                                    "mettol": "2017-02-18",
                                    "(No column name)": "172"
                                },
                                {
                                    "SZALLAS_NEV": "Kentaur Hotel",
                                    "mettol": "2017-02-21",
                                    "(No column name)": "173"
                                },
                                {
                                    "SZALLAS_NEV": "Kentaur Hotel",
                                    "mettol": "2017-02-23",
                                    "(No column name)": "174"
                                },
                                {
                                    "SZALLAS_NEV": "Kentaur Hotel",
                                    "mettol": "2017-02-26",
                                    "(No column name)": "175"
                                },
                                {
                                    "SZALLAS_NEV": "Kentaur Hotel",
                                    "mettol": "2017-02-27",
                                    "(No column name)": "176"
                                },
                                {
                                    "SZALLAS_NEV": "Kentaur Hotel",
                                    "mettol": "2017-03-01",
                                    "(No column name)": "177"
                                },
                                {
                                    "SZALLAS_NEV": "Kentaur Hotel",
                                    "mettol": "2017-03-02",
                                    "(No column name)": "178"
                                },
                                {
                                    "SZALLAS_NEV": "Kentaur Hotel",
                                    "mettol": "2017-03-03",
                                    "(No column name)": "179"
                                },
                                {
                                    "SZALLAS_NEV": "Lagúna Hotel",
                                    "mettol": "2016-04-08",
                                    "(No column name)": "1"
                                },
                                {
                                    "SZALLAS_NEV": "Lagúna Hotel",
                                    "mettol": "2016-04-10",
                                    "(No column name)": "2"
                                },
                                {
                                    "SZALLAS_NEV": "Lagúna Hotel",
                                    "mettol": "2016-04-12",
                                    "(No column name)": "3"
                                },
                                {
                                    "SZALLAS_NEV": "Lagúna Hotel",
                                    "mettol": "2016-04-14",
                                    "(No column name)": "4"
                                },
                                {
                                    "SZALLAS_NEV": "Lagúna Hotel",
                                    "mettol": "2016-04-15",
                                    "(No column name)": "5"
                                },
                                {
                                    "SZALLAS_NEV": "Lagúna Hotel",
                                    "mettol": "2016-04-16",
                                    "(No column name)": "6"
                                },
                                {
                                    "SZALLAS_NEV": "Lagúna Hotel",
                                    "mettol": "2016-04-17",
                                    "(No column name)": "7"
                                },
                                {
                                    "SZALLAS_NEV": "Lagúna Hotel",
                                    "mettol": "2016-04-19",
                                    "(No column name)": "8"
                                },
                                {
                                    "SZALLAS_NEV": "Lagúna Hotel",
                                    "mettol": "2016-04-20",
                                    "(No column name)": "9"
                                },
                                {
                                    "SZALLAS_NEV": "Lagúna Hotel",
                                    "mettol": "2016-04-22",
                                    "(No column name)": "10"
                                },
                                {
                                    "SZALLAS_NEV": "Lagúna Hotel",
                                    "mettol": "2016-05-13",
                                    "(No column name)": "11"
                                },
                                {
                                    "SZALLAS_NEV": "Lagúna Hotel",
                                    "mettol": "2016-05-16",
                                    "(No column name)": "12"
                                },
                                {
                                    "SZALLAS_NEV": "Lagúna Hotel",
                                    "mettol": "2016-05-17",
                                    "(No column name)": "13"
                                },
                                {
                                    "SZALLAS_NEV": "Lagúna Hotel",
                                    "mettol": "2016-05-18",
                                    "(No column name)": "14"
                                },
                                {
                                    "SZALLAS_NEV": "Lagúna Hotel",
                                    "mettol": "2016-05-20",
                                    "(No column name)": "15"
                                },
                                {
                                    "SZALLAS_NEV": "Lagúna Hotel",
                                    "mettol": "2016-05-21",
                                    "(No column name)": "16"
                                },
                                {
                                    "SZALLAS_NEV": "Lagúna Hotel",
                                    "mettol": "2016-06-02",
                                    "(No column name)": "17"
                                },
                                {
                                    "SZALLAS_NEV": "Lagúna Hotel",
                                    "mettol": "2016-06-03",
                                    "(No column name)": "18"
                                },
                                {
                                    "SZALLAS_NEV": "Lagúna Hotel",
                                    "mettol": "2016-06-05",
                                    "(No column name)": "20"
                                },
                                {
                                    "SZALLAS_NEV": "Lagúna Hotel",
                                    "mettol": "2016-06-06",
                                    "(No column name)": "21"
                                },
                                {
                                    "SZALLAS_NEV": "Lagúna Hotel",
                                    "mettol": "2016-06-13",
                                    "(No column name)": "22"
                                },
                                {
                                    "SZALLAS_NEV": "Lagúna Hotel",
                                    "mettol": "2016-06-16",
                                    "(No column name)": "23"
                                },
                                {
                                    "SZALLAS_NEV": "Lagúna Hotel",
                                    "mettol": "2016-06-17",
                                    "(No column name)": "24"
                                },
                                {
                                    "SZALLAS_NEV": "Lagúna Hotel",
                                    "mettol": "2016-06-23",
                                    "(No column name)": "25"
                                },
                                {
                                    "SZALLAS_NEV": "Lagúna Hotel",
                                    "mettol": "2016-07-06",
                                    "(No column name)": "26"
                                },
                                {
                                    "SZALLAS_NEV": "Lagúna Hotel",
                                    "mettol": "2016-07-12",
                                    "(No column name)": "27"
                                },
                                {
                                    "SZALLAS_NEV": "Lagúna Hotel",
                                    "mettol": "2016-07-13",
                                    "(No column name)": "28"
                                },
                                {
                                    "SZALLAS_NEV": "Lagúna Hotel",
                                    "mettol": "2016-07-17",
                                    "(No column name)": "29"
                                },
                                {
                                    "SZALLAS_NEV": "Lagúna Hotel",
                                    "mettol": "2016-07-20",
                                    "(No column name)": "30"
                                },
                                {
                                    "SZALLAS_NEV": "Lagúna Hotel",
                                    "mettol": "2016-07-22",
                                    "(No column name)": "31"
                                },
                                {
                                    "SZALLAS_NEV": "Lagúna Hotel",
                                    "mettol": "2016-07-27",
                                    "(No column name)": "32"
                                },
                                {
                                    "SZALLAS_NEV": "Lagúna Hotel",
                                    "mettol": "2016-07-28",
                                    "(No column name)": "34"
                                },
                                {
                                    "SZALLAS_NEV": "Lagúna Hotel",
                                    "mettol": "2016-08-01",
                                    "(No column name)": "35"
                                },
                                {
                                    "SZALLAS_NEV": "Lagúna Hotel",
                                    "mettol": "2016-08-03",
                                    "(No column name)": "36"
                                },
                                {
                                    "SZALLAS_NEV": "Lagúna Hotel",
                                    "mettol": "2016-08-06",
                                    "(No column name)": "37"
                                },
                                {
                                    "SZALLAS_NEV": "Lagúna Hotel",
                                    "mettol": "2016-08-09",
                                    "(No column name)": "38"
                                },
                                {
                                    "SZALLAS_NEV": "Lagúna Hotel",
                                    "mettol": "2016-08-12",
                                    "(No column name)": "40"
                                },
                                {
                                    "SZALLAS_NEV": "Lagúna Hotel",
                                    "mettol": "2016-08-16",
                                    "(No column name)": "43"
                                },
                                {
                                    "SZALLAS_NEV": "Lagúna Hotel",
                                    "mettol": "2016-08-17",
                                    "(No column name)": "44"
                                },
                                {
                                    "SZALLAS_NEV": "Lagúna Hotel",
                                    "mettol": "2016-08-20",
                                    "(No column name)": "45"
                                },
                                {
                                    "SZALLAS_NEV": "Lagúna Hotel",
                                    "mettol": "2016-08-23",
                                    "(No column name)": "47"
                                },
                                {
                                    "SZALLAS_NEV": "Lagúna Hotel",
                                    "mettol": "2016-08-25",
                                    "(No column name)": "48"
                                },
                                {
                                    "SZALLAS_NEV": "Lagúna Hotel",
                                    "mettol": "2016-08-28",
                                    "(No column name)": "49"
                                },
                                {
                                    "SZALLAS_NEV": "Lagúna Hotel",
                                    "mettol": "2016-08-29",
                                    "(No column name)": "50"
                                },
                                {
                                    "SZALLAS_NEV": "Lagúna Hotel",
                                    "mettol": "2016-08-30",
                                    "(No column name)": "51"
                                },
                                {
                                    "SZALLAS_NEV": "Lagúna Hotel",
                                    "mettol": "2016-09-01",
                                    "(No column name)": "52"
                                },
                                {
                                    "SZALLAS_NEV": "Lagúna Hotel",
                                    "mettol": "2016-09-05",
                                    "(No column name)": "54"
                                },
                                {
                                    "SZALLAS_NEV": "Lagúna Hotel",
                                    "mettol": "2016-09-10",
                                    "(No column name)": "55"
                                },
                                {
                                    "SZALLAS_NEV": "Lagúna Hotel",
                                    "mettol": "2016-09-12",
                                    "(No column name)": "56"
                                },
                                {
                                    "SZALLAS_NEV": "Lagúna Hotel",
                                    "mettol": "2016-09-13",
                                    "(No column name)": "57"
                                },
                                {
                                    "SZALLAS_NEV": "Lagúna Hotel",
                                    "mettol": "2016-09-16",
                                    "(No column name)": "58"
                                },
                                {
                                    "SZALLAS_NEV": "Lagúna Hotel",
                                    "mettol": "2016-09-17",
                                    "(No column name)": "59"
                                },
                                {
                                    "SZALLAS_NEV": "Lagúna Hotel",
                                    "mettol": "2016-09-18",
                                    "(No column name)": "60"
                                },
                                {
                                    "SZALLAS_NEV": "Lagúna Hotel",
                                    "mettol": "2016-09-23",
                                    "(No column name)": "61"
                                },
                                {
                                    "SZALLAS_NEV": "Lagúna Hotel",
                                    "mettol": "2016-09-29",
                                    "(No column name)": "62"
                                },
                                {
                                    "SZALLAS_NEV": "Lagúna Hotel",
                                    "mettol": "2016-10-01",
                                    "(No column name)": "66"
                                },
                                {
                                    "SZALLAS_NEV": "Lagúna Hotel",
                                    "mettol": "2016-10-02",
                                    "(No column name)": "67"
                                },
                                {
                                    "SZALLAS_NEV": "Lagúna Hotel",
                                    "mettol": "2016-10-03",
                                    "(No column name)": "68"
                                },
                                {
                                    "SZALLAS_NEV": "Lagúna Hotel",
                                    "mettol": "2016-10-04",
                                    "(No column name)": "69"
                                },
                                {
                                    "SZALLAS_NEV": "Lagúna Hotel",
                                    "mettol": "2016-10-09",
                                    "(No column name)": "70"
                                },
                                {
                                    "SZALLAS_NEV": "Lagúna Hotel",
                                    "mettol": "2016-10-10",
                                    "(No column name)": "71"
                                },
                                {
                                    "SZALLAS_NEV": "Lagúna Hotel",
                                    "mettol": "2016-10-15",
                                    "(No column name)": "73"
                                },
                                {
                                    "SZALLAS_NEV": "Lagúna Hotel",
                                    "mettol": "2016-10-16",
                                    "(No column name)": "74"
                                },
                                {
                                    "SZALLAS_NEV": "Lagúna Hotel",
                                    "mettol": "2016-10-19",
                                    "(No column name)": "75"
                                },
                                {
                                    "SZALLAS_NEV": "Lagúna Hotel",
                                    "mettol": "2016-10-22",
                                    "(No column name)": "76"
                                },
                                {
                                    "SZALLAS_NEV": "Lagúna Hotel",
                                    "mettol": "2016-10-26",
                                    "(No column name)": "81"
                                },
                                {
                                    "SZALLAS_NEV": "Lagúna Hotel",
                                    "mettol": "2016-10-30",
                                    "(No column name)": "82"
                                },
                                {
                                    "SZALLAS_NEV": "Lagúna Hotel",
                                    "mettol": "2016-11-03",
                                    "(No column name)": "83"
                                },
                                {
                                    "SZALLAS_NEV": "Lagúna Hotel",
                                    "mettol": "2016-11-06",
                                    "(No column name)": "85"
                                },
                                {
                                    "SZALLAS_NEV": "Lagúna Hotel",
                                    "mettol": "2016-11-07",
                                    "(No column name)": "87"
                                },
                                {
                                    "SZALLAS_NEV": "Lagúna Hotel",
                                    "mettol": "2016-11-15",
                                    "(No column name)": "88"
                                },
                                {
                                    "SZALLAS_NEV": "Lagúna Hotel",
                                    "mettol": "2016-11-16",
                                    "(No column name)": "89"
                                },
                                {
                                    "SZALLAS_NEV": "Lagúna Hotel",
                                    "mettol": "2016-11-18",
                                    "(No column name)": "90"
                                },
                                {
                                    "SZALLAS_NEV": "Lagúna Hotel",
                                    "mettol": "2016-11-19",
                                    "(No column name)": "92"
                                },
                                {
                                    "SZALLAS_NEV": "Lagúna Hotel",
                                    "mettol": "2016-11-23",
                                    "(No column name)": "94"
                                },
                                {
                                    "SZALLAS_NEV": "Lagúna Hotel",
                                    "mettol": "2016-12-02",
                                    "(No column name)": "95"
                                },
                                {
                                    "SZALLAS_NEV": "Lagúna Hotel",
                                    "mettol": "2016-12-10",
                                    "(No column name)": "96"
                                },
                                {
                                    "SZALLAS_NEV": "Lagúna Hotel",
                                    "mettol": "2016-12-11",
                                    "(No column name)": "97"
                                },
                                {
                                    "SZALLAS_NEV": "Lagúna Hotel",
                                    "mettol": "2016-12-14",
                                    "(No column name)": "98"
                                },
                                {
                                    "SZALLAS_NEV": "Lagúna Hotel",
                                    "mettol": "2016-12-17",
                                    "(No column name)": "101"
                                },
                                {
                                    "SZALLAS_NEV": "Lagúna Hotel",
                                    "mettol": "2016-12-25",
                                    "(No column name)": "102"
                                },
                                {
                                    "SZALLAS_NEV": "Lagúna Hotel",
                                    "mettol": "2016-12-27",
                                    "(No column name)": "103"
                                },
                                {
                                    "SZALLAS_NEV": "Lagúna Hotel",
                                    "mettol": "2017-01-10",
                                    "(No column name)": "104"
                                },
                                {
                                    "SZALLAS_NEV": "Lagúna Hotel",
                                    "mettol": "2017-01-11",
                                    "(No column name)": "105"
                                },
                                {
                                    "SZALLAS_NEV": "Lagúna Hotel",
                                    "mettol": "2017-01-16",
                                    "(No column name)": "106"
                                },
                                {
                                    "SZALLAS_NEV": "Lagúna Hotel",
                                    "mettol": "2017-01-17",
                                    "(No column name)": "107"
                                },
                                {
                                    "SZALLAS_NEV": "Lagúna Hotel",
                                    "mettol": "2017-01-21",
                                    "(No column name)": "108"
                                },
                                {
                                    "SZALLAS_NEV": "Lagúna Hotel",
                                    "mettol": "2017-01-22",
                                    "(No column name)": "109"
                                },
                                {
                                    "SZALLAS_NEV": "Lagúna Hotel",
                                    "mettol": "2017-01-23",
                                    "(No column name)": "111"
                                },
                                {
                                    "SZALLAS_NEV": "Lagúna Hotel",
                                    "mettol": "2017-01-28",
                                    "(No column name)": "112"
                                },
                                {
                                    "SZALLAS_NEV": "Lagúna Hotel",
                                    "mettol": "2017-02-03",
                                    "(No column name)": "113"
                                },
                                {
                                    "SZALLAS_NEV": "Lagúna Hotel",
                                    "mettol": "2017-02-07",
                                    "(No column name)": "114"
                                },
                                {
                                    "SZALLAS_NEV": "Lagúna Hotel",
                                    "mettol": "2017-02-09",
                                    "(No column name)": "115"
                                },
                                {
                                    "SZALLAS_NEV": "Lagúna Hotel",
                                    "mettol": "2017-02-16",
                                    "(No column name)": "117"
                                },
                                {
                                    "SZALLAS_NEV": "Lagúna Hotel",
                                    "mettol": "2017-02-17",
                                    "(No column name)": "118"
                                },
                                {
                                    "SZALLAS_NEV": "Lagúna Hotel",
                                    "mettol": "2017-02-19",
                                    "(No column name)": "119"
                                },
                                {
                                    "SZALLAS_NEV": "Lagúna Hotel",
                                    "mettol": "2017-02-21",
                                    "(No column name)": "120"
                                },
                                {
                                    "SZALLAS_NEV": "Lagúna Hotel",
                                    "mettol": "2017-02-23",
                                    "(No column name)": "121"
                                },
                                {
                                    "SZALLAS_NEV": "Lagúna Hotel",
                                    "mettol": "2017-02-25",
                                    "(No column name)": "122"
                                },
                                {
                                    "SZALLAS_NEV": "Lagúna Hotel",
                                    "mettol": "2017-02-27",
                                    "(No column name)": "123"
                                },
                                {
                                    "SZALLAS_NEV": "Partiszél Vendégház",
                                    "mettol": "2016-04-10",
                                    "(No column name)": "1"
                                },
                                {
                                    "SZALLAS_NEV": "Partiszél Vendégház",
                                    "mettol": "2016-04-24",
                                    "(No column name)": "2"
                                },
                                {
                                    "SZALLAS_NEV": "Partiszél Vendégház",
                                    "mettol": "2016-05-09",
                                    "(No column name)": "3"
                                },
                                {
                                    "SZALLAS_NEV": "Partiszél Vendégház",
                                    "mettol": "2016-05-12",
                                    "(No column name)": "4"
                                },
                                {
                                    "SZALLAS_NEV": "Partiszél Vendégház",
                                    "mettol": "2016-05-18",
                                    "(No column name)": "5"
                                },
                                {
                                    "SZALLAS_NEV": "Partiszél Vendégház",
                                    "mettol": "2016-06-06",
                                    "(No column name)": "7"
                                },
                                {
                                    "SZALLAS_NEV": "Partiszél Vendégház",
                                    "mettol": "2016-06-07",
                                    "(No column name)": "9"
                                },
                                {
                                    "SZALLAS_NEV": "Partiszél Vendégház",
                                    "mettol": "2016-06-10",
                                    "(No column name)": "10"
                                },
                                {
                                    "SZALLAS_NEV": "Partiszél Vendégház",
                                    "mettol": "2016-07-04",
                                    "(No column name)": "11"
                                },
                                {
                                    "SZALLAS_NEV": "Partiszél Vendégház",
                                    "mettol": "2016-07-27",
                                    "(No column name)": "12"
                                },
                                {
                                    "SZALLAS_NEV": "Partiszél Vendégház",
                                    "mettol": "2016-07-31",
                                    "(No column name)": "13"
                                },
                                {
                                    "SZALLAS_NEV": "Partiszél Vendégház",
                                    "mettol": "2016-08-16",
                                    "(No column name)": "14"
                                },
                                {
                                    "SZALLAS_NEV": "Partiszél Vendégház",
                                    "mettol": "2016-09-19",
                                    "(No column name)": "15"
                                },
                                {
                                    "SZALLAS_NEV": "Partiszél Vendégház",
                                    "mettol": "2016-09-23",
                                    "(No column name)": "16"
                                },
                                {
                                    "SZALLAS_NEV": "Partiszél Vendégház",
                                    "mettol": "2016-10-01",
                                    "(No column name)": "17"
                                },
                                {
                                    "SZALLAS_NEV": "Partiszél Vendégház",
                                    "mettol": "2016-10-24",
                                    "(No column name)": "18"
                                },
                                {
                                    "SZALLAS_NEV": "Partiszél Vendégház",
                                    "mettol": "2016-10-27",
                                    "(No column name)": "19"
                                },
                                {
                                    "SZALLAS_NEV": "Partiszél Vendégház",
                                    "mettol": "2016-11-08",
                                    "(No column name)": "20"
                                },
                                {
                                    "SZALLAS_NEV": "Partiszél Vendégház",
                                    "mettol": "2016-11-16",
                                    "(No column name)": "21"
                                },
                                {
                                    "SZALLAS_NEV": "Partiszél Vendégház",
                                    "mettol": "2016-11-19",
                                    "(No column name)": "22"
                                },
                                {
                                    "SZALLAS_NEV": "Partiszél Vendégház",
                                    "mettol": "2016-12-26",
                                    "(No column name)": "23"
                                },
                                {
                                    "SZALLAS_NEV": "Partiszél Vendégház",
                                    "mettol": "2017-02-01",
                                    "(No column name)": "24"
                                },
                                {
                                    "SZALLAS_NEV": "Partiszél Vendégház",
                                    "mettol": "2017-02-23",
                                    "(No column name)": "25"
                                },
                                {
                                    "SZALLAS_NEV": "Partiszél Vendégház",
                                    "mettol": "2017-02-25",
                                    "(No column name)": "26"
                                },
                                {
                                    "SZALLAS_NEV": "Sába-Ház",
                                    "mettol": "2016-04-06",
                                    "(No column name)": "2"
                                },
                                {
                                    "SZALLAS_NEV": "Sába-Ház",
                                    "mettol": "2016-04-08",
                                    "(No column name)": "3"
                                },
                                {
                                    "SZALLAS_NEV": "Sába-Ház",
                                    "mettol": "2016-04-10",
                                    "(No column name)": "4"
                                },
                                {
                                    "SZALLAS_NEV": "Sába-Ház",
                                    "mettol": "2016-04-29",
                                    "(No column name)": "5"
                                },
                                {
                                    "SZALLAS_NEV": "Sába-Ház",
                                    "mettol": "2016-05-05",
                                    "(No column name)": "6"
                                },
                                {
                                    "SZALLAS_NEV": "Sába-Ház",
                                    "mettol": "2016-05-09",
                                    "(No column name)": "7"
                                },
                                {
                                    "SZALLAS_NEV": "Sába-Ház",
                                    "mettol": "2016-05-17",
                                    "(No column name)": "8"
                                },
                                {
                                    "SZALLAS_NEV": "Sába-Ház",
                                    "mettol": "2016-05-29",
                                    "(No column name)": "9"
                                },
                                {
                                    "SZALLAS_NEV": "Sába-Ház",
                                    "mettol": "2016-05-30",
                                    "(No column name)": "11"
                                },
                                {
                                    "SZALLAS_NEV": "Sába-Ház",
                                    "mettol": "2016-06-06",
                                    "(No column name)": "12"
                                },
                                {
                                    "SZALLAS_NEV": "Sába-Ház",
                                    "mettol": "2016-06-10",
                                    "(No column name)": "15"
                                },
                                {
                                    "SZALLAS_NEV": "Sába-Ház",
                                    "mettol": "2016-06-11",
                                    "(No column name)": "16"
                                },
                                {
                                    "SZALLAS_NEV": "Sába-Ház",
                                    "mettol": "2016-06-16",
                                    "(No column name)": "17"
                                },
                                {
                                    "SZALLAS_NEV": "Sába-Ház",
                                    "mettol": "2016-06-17",
                                    "(No column name)": "18"
                                },
                                {
                                    "SZALLAS_NEV": "Sába-Ház",
                                    "mettol": "2016-06-27",
                                    "(No column name)": "19"
                                },
                                {
                                    "SZALLAS_NEV": "Sába-Ház",
                                    "mettol": "2016-07-02",
                                    "(No column name)": "20"
                                },
                                {
                                    "SZALLAS_NEV": "Sába-Ház",
                                    "mettol": "2016-07-09",
                                    "(No column name)": "21"
                                },
                                {
                                    "SZALLAS_NEV": "Sába-Ház",
                                    "mettol": "2016-07-13",
                                    "(No column name)": "22"
                                },
                                {
                                    "SZALLAS_NEV": "Sába-Ház",
                                    "mettol": "2016-07-20",
                                    "(No column name)": "24"
                                },
                                {
                                    "SZALLAS_NEV": "Sába-Ház",
                                    "mettol": "2016-07-30",
                                    "(No column name)": "25"
                                },
                                {
                                    "SZALLAS_NEV": "Sába-Ház",
                                    "mettol": "2016-08-06",
                                    "(No column name)": "26"
                                },
                                {
                                    "SZALLAS_NEV": "Sába-Ház",
                                    "mettol": "2016-08-12",
                                    "(No column name)": "27"
                                },
                                {
                                    "SZALLAS_NEV": "Sába-Ház",
                                    "mettol": "2016-08-13",
                                    "(No column name)": "28"
                                },
                                {
                                    "SZALLAS_NEV": "Sába-Ház",
                                    "mettol": "2016-08-16",
                                    "(No column name)": "30"
                                },
                                {
                                    "SZALLAS_NEV": "Sába-Ház",
                                    "mettol": "2016-08-17",
                                    "(No column name)": "31"
                                },
                                {
                                    "SZALLAS_NEV": "Sába-Ház",
                                    "mettol": "2016-08-20",
                                    "(No column name)": "32"
                                },
                                {
                                    "SZALLAS_NEV": "Sába-Ház",
                                    "mettol": "2016-08-24",
                                    "(No column name)": "33"
                                },
                                {
                                    "SZALLAS_NEV": "Sába-Ház",
                                    "mettol": "2016-08-27",
                                    "(No column name)": "34"
                                },
                                {
                                    "SZALLAS_NEV": "Sába-Ház",
                                    "mettol": "2016-08-28",
                                    "(No column name)": "35"
                                },
                                {
                                    "SZALLAS_NEV": "Sába-Ház",
                                    "mettol": "2016-09-05",
                                    "(No column name)": "36"
                                },
                                {
                                    "SZALLAS_NEV": "Sába-Ház",
                                    "mettol": "2016-09-08",
                                    "(No column name)": "37"
                                },
                                {
                                    "SZALLAS_NEV": "Sába-Ház",
                                    "mettol": "2016-09-14",
                                    "(No column name)": "38"
                                },
                                {
                                    "SZALLAS_NEV": "Sába-Ház",
                                    "mettol": "2016-09-19",
                                    "(No column name)": "39"
                                },
                                {
                                    "SZALLAS_NEV": "Sába-Ház",
                                    "mettol": "2016-09-21",
                                    "(No column name)": "40"
                                },
                                {
                                    "SZALLAS_NEV": "Sába-Ház",
                                    "mettol": "2016-10-01",
                                    "(No column name)": "42"
                                },
                                {
                                    "SZALLAS_NEV": "Sába-Ház",
                                    "mettol": "2016-10-05",
                                    "(No column name)": "43"
                                },
                                {
                                    "SZALLAS_NEV": "Sába-Ház",
                                    "mettol": "2016-10-07",
                                    "(No column name)": "44"
                                },
                                {
                                    "SZALLAS_NEV": "Sába-Ház",
                                    "mettol": "2016-10-08",
                                    "(No column name)": "46"
                                },
                                {
                                    "SZALLAS_NEV": "Sába-Ház",
                                    "mettol": "2016-10-09",
                                    "(No column name)": "48"
                                },
                                {
                                    "SZALLAS_NEV": "Sába-Ház",
                                    "mettol": "2016-10-14",
                                    "(No column name)": "49"
                                },
                                {
                                    "SZALLAS_NEV": "Sába-Ház",
                                    "mettol": "2016-10-15",
                                    "(No column name)": "51"
                                },
                                {
                                    "SZALLAS_NEV": "Sába-Ház",
                                    "mettol": "2016-10-18",
                                    "(No column name)": "52"
                                },
                                {
                                    "SZALLAS_NEV": "Sába-Ház",
                                    "mettol": "2016-10-21",
                                    "(No column name)": "53"
                                },
                                {
                                    "SZALLAS_NEV": "Sába-Ház",
                                    "mettol": "2016-10-23",
                                    "(No column name)": "54"
                                },
                                {
                                    "SZALLAS_NEV": "Sába-Ház",
                                    "mettol": "2016-10-30",
                                    "(No column name)": "55"
                                },
                                {
                                    "SZALLAS_NEV": "Sába-Ház",
                                    "mettol": "2016-11-01",
                                    "(No column name)": "56"
                                },
                                {
                                    "SZALLAS_NEV": "Sába-Ház",
                                    "mettol": "2016-11-05",
                                    "(No column name)": "57"
                                },
                                {
                                    "SZALLAS_NEV": "Sába-Ház",
                                    "mettol": "2016-11-07",
                                    "(No column name)": "59"
                                },
                                {
                                    "SZALLAS_NEV": "Sába-Ház",
                                    "mettol": "2016-11-11",
                                    "(No column name)": "60"
                                },
                                {
                                    "SZALLAS_NEV": "Sába-Ház",
                                    "mettol": "2016-11-23",
                                    "(No column name)": "61"
                                },
                                {
                                    "SZALLAS_NEV": "Sába-Ház",
                                    "mettol": "2016-11-25",
                                    "(No column name)": "62"
                                },
                                {
                                    "SZALLAS_NEV": "Sába-Ház",
                                    "mettol": "2016-12-01",
                                    "(No column name)": "63"
                                },
                                {
                                    "SZALLAS_NEV": "Sába-Ház",
                                    "mettol": "2017-01-06",
                                    "(No column name)": "64"
                                },
                                {
                                    "SZALLAS_NEV": "Sába-Ház",
                                    "mettol": "2017-01-09",
                                    "(No column name)": "65"
                                },
                                {
                                    "SZALLAS_NEV": "Sába-Ház",
                                    "mettol": "2017-01-12",
                                    "(No column name)": "66"
                                },
                                {
                                    "SZALLAS_NEV": "Sába-Ház",
                                    "mettol": "2017-02-03",
                                    "(No column name)": "67"
                                },
                                {
                                    "SZALLAS_NEV": "Sába-Ház",
                                    "mettol": "2017-02-12",
                                    "(No column name)": "68"
                                },
                                {
                                    "SZALLAS_NEV": "Sába-Ház",
                                    "mettol": "2017-02-16",
                                    "(No column name)": "70"
                                },
                                {
                                    "SZALLAS_NEV": "Szieszta Apartmanház",
                                    "mettol": "2016-04-06",
                                    "(No column name)": "1"
                                },
                                {
                                    "SZALLAS_NEV": "Szieszta Apartmanház",
                                    "mettol": "2016-05-15",
                                    "(No column name)": "2"
                                },
                                {
                                    "SZALLAS_NEV": "Szieszta Apartmanház",
                                    "mettol": "2016-05-26",
                                    "(No column name)": "3"
                                },
                                {
                                    "SZALLAS_NEV": "Szieszta Apartmanház",
                                    "mettol": "2016-05-28",
                                    "(No column name)": "4"
                                },
                                {
                                    "SZALLAS_NEV": "Szieszta Apartmanház",
                                    "mettol": "2016-07-28",
                                    "(No column name)": "5"
                                },
                                {
                                    "SZALLAS_NEV": "Szieszta Apartmanház",
                                    "mettol": "2016-08-05",
                                    "(No column name)": "6"
                                },
                                {
                                    "SZALLAS_NEV": "Szieszta Apartmanház",
                                    "mettol": "2016-08-24",
                                    "(No column name)": "7"
                                },
                                {
                                    "SZALLAS_NEV": "Szieszta Apartmanház",
                                    "mettol": "2016-09-02",
                                    "(No column name)": "8"
                                },
                                {
                                    "SZALLAS_NEV": "Szieszta Apartmanház",
                                    "mettol": "2016-09-08",
                                    "(No column name)": "9"
                                },
                                {
                                    "SZALLAS_NEV": "Szieszta Apartmanház",
                                    "mettol": "2016-09-16",
                                    "(No column name)": "10"
                                },
                                {
                                    "SZALLAS_NEV": "Szieszta Apartmanház",
                                    "mettol": "2016-09-17",
                                    "(No column name)": "11"
                                },
                                {
                                    "SZALLAS_NEV": "Szieszta Apartmanház",
                                    "mettol": "2016-09-24",
                                    "(No column name)": "12"
                                },
                                {
                                    "SZALLAS_NEV": "Szieszta Apartmanház",
                                    "mettol": "2016-10-01",
                                    "(No column name)": "15"
                                },
                                {
                                    "SZALLAS_NEV": "Szieszta Apartmanház",
                                    "mettol": "2016-10-21",
                                    "(No column name)": "16"
                                },
                                {
                                    "SZALLAS_NEV": "Szieszta Apartmanház",
                                    "mettol": "2016-10-24",
                                    "(No column name)": "17"
                                },
                                {
                                    "SZALLAS_NEV": "Szieszta Apartmanház",
                                    "mettol": "2016-10-26",
                                    "(No column name)": "18"
                                },
                                {
                                    "SZALLAS_NEV": "Szieszta Apartmanház",
                                    "mettol": "2016-11-05",
                                    "(No column name)": "19"
                                },
                                {
                                    "SZALLAS_NEV": "Szieszta Apartmanház",
                                    "mettol": "2016-11-09",
                                    "(No column name)": "20"
                                },
                                {
                                    "SZALLAS_NEV": "Szieszta Apartmanház",
                                    "mettol": "2016-11-10",
                                    "(No column name)": "21"
                                },
                                {
                                    "SZALLAS_NEV": "Szieszta Apartmanház",
                                    "mettol": "2016-11-21",
                                    "(No column name)": "23"
                                },
                                {
                                    "SZALLAS_NEV": "Szieszta Apartmanház",
                                    "mettol": "2016-11-25",
                                    "(No column name)": "24"
                                },
                                {
                                    "SZALLAS_NEV": "Szieszta Apartmanház",
                                    "mettol": "2016-12-06",
                                    "(No column name)": "25"
                                },
                                {
                                    "SZALLAS_NEV": "Szieszta Apartmanház",
                                    "mettol": "2016-12-12",
                                    "(No column name)": "26"
                                },
                                {
                                    "SZALLAS_NEV": "Szieszta Apartmanház",
                                    "mettol": "2016-12-26",
                                    "(No column name)": "27"
                                },
                                {
                                    "SZALLAS_NEV": "Szieszta Apartmanház",
                                    "mettol": "2016-12-29",
                                    "(No column name)": "28"
                                },
                                {
                                    "SZALLAS_NEV": "Szieszta Apartmanház",
                                    "mettol": "2017-01-17",
                                    "(No column name)": "29"
                                },
                                {
                                    "SZALLAS_NEV": "Szieszta Apartmanház",
                                    "mettol": "2017-01-19",
                                    "(No column name)": "30"
                                },
                                {
                                    "SZALLAS_NEV": "Szieszta Apartmanház",
                                    "mettol": "2017-02-09",
                                    "(No column name)": "31"
                                },
                                {
                                    "SZALLAS_NEV": "Szieszta Apartmanház",
                                    "mettol": "2017-02-12",
                                    "(No column name)": "32"
                                },
                                {
                                    "SZALLAS_NEV": "Szieszta Apartmanház",
                                    "mettol": "2017-02-18",
                                    "(No column name)": "33"
                                },
                                {
                                    "SZALLAS_NEV": "Szieszta Apartmanház",
                                    "mettol": "2017-02-26",
                                    "(No column name)": "34"
                                }
                            ]
                        },
                        "text/html": [
                            "<table>",
                            "<tr><th>SZALLAS_NEV</th><th>mettol</th><th>(No column name)</th></tr>",
                            "<tr><td>Családi Ház</td><td>2016-05-22</td><td>1</td></tr>",
                            "<tr><td>Családi Ház</td><td>2016-05-24</td><td>2</td></tr>",
                            "<tr><td>Családi Ház</td><td>2016-06-03</td><td>3</td></tr>",
                            "<tr><td>Családi Ház</td><td>2016-06-20</td><td>4</td></tr>",
                            "<tr><td>Családi Ház</td><td>2016-07-13</td><td>5</td></tr>",
                            "<tr><td>Családi Ház</td><td>2016-07-18</td><td>6</td></tr>",
                            "<tr><td>Családi Ház</td><td>2016-08-08</td><td>7</td></tr>",
                            "<tr><td>Családi Ház</td><td>2016-08-16</td><td>8</td></tr>",
                            "<tr><td>Családi Ház</td><td>2016-08-24</td><td>9</td></tr>",
                            "<tr><td>Családi Ház</td><td>2016-09-12</td><td>10</td></tr>",
                            "<tr><td>Családi Ház</td><td>2016-10-08</td><td>11</td></tr>",
                            "<tr><td>Családi Ház</td><td>2016-11-03</td><td>12</td></tr>",
                            "<tr><td>Családi Ház</td><td>2016-12-06</td><td>13</td></tr>",
                            "<tr><td>Családi Ház</td><td>2017-01-04</td><td>14</td></tr>",
                            "<tr><td>Családi Ház</td><td>2017-01-16</td><td>15</td></tr>",
                            "<tr><td>Családi Ház</td><td>2017-01-23</td><td>16</td></tr>",
                            "<tr><td>Családi Ház</td><td>2017-02-04</td><td>17</td></tr>",
                            "<tr><td>Családi Ház</td><td>2017-02-16</td><td>18</td></tr>",
                            "<tr><td>Fortuna Apartman</td><td>2016-04-09</td><td>1</td></tr>",
                            "<tr><td>Fortuna Apartman</td><td>2016-04-26</td><td>2</td></tr>",
                            "<tr><td>Fortuna Apartman</td><td>2016-05-08</td><td>3</td></tr>",
                            "<tr><td>Fortuna Apartman</td><td>2016-05-21</td><td>4</td></tr>",
                            "<tr><td>Fortuna Apartman</td><td>2016-05-23</td><td>5</td></tr>",
                            "<tr><td>Fortuna Apartman</td><td>2016-06-04</td><td>6</td></tr>",
                            "<tr><td>Fortuna Apartman</td><td>2016-06-06</td><td>7</td></tr>",
                            "<tr><td>Fortuna Apartman</td><td>2016-06-08</td><td>8</td></tr>",
                            "<tr><td>Fortuna Apartman</td><td>2016-06-10</td><td>10</td></tr>",
                            "<tr><td>Fortuna Apartman</td><td>2016-07-03</td><td>11</td></tr>",
                            "<tr><td>Fortuna Apartman</td><td>2016-07-20</td><td>12</td></tr>",
                            "<tr><td>Fortuna Apartman</td><td>2016-07-24</td><td>13</td></tr>",
                            "<tr><td>Fortuna Apartman</td><td>2016-08-01</td><td>14</td></tr>",
                            "<tr><td>Fortuna Apartman</td><td>2016-08-04</td><td>15</td></tr>",
                            "<tr><td>Fortuna Apartman</td><td>2016-08-11</td><td>16</td></tr>",
                            "<tr><td>Fortuna Apartman</td><td>2016-08-14</td><td>17</td></tr>",
                            "<tr><td>Fortuna Apartman</td><td>2016-08-21</td><td>18</td></tr>",
                            "<tr><td>Fortuna Apartman</td><td>2016-08-24</td><td>19</td></tr>",
                            "<tr><td>Fortuna Apartman</td><td>2016-09-04</td><td>20</td></tr>",
                            "<tr><td>Fortuna Apartman</td><td>2016-09-07</td><td>21</td></tr>",
                            "<tr><td>Fortuna Apartman</td><td>2016-09-19</td><td>22</td></tr>",
                            "<tr><td>Fortuna Apartman</td><td>2016-10-01</td><td>24</td></tr>",
                            "<tr><td>Fortuna Apartman</td><td>2016-10-08</td><td>25</td></tr>",
                            "<tr><td>Fortuna Apartman</td><td>2016-10-09</td><td>26</td></tr>",
                            "<tr><td>Fortuna Apartman</td><td>2016-10-19</td><td>27</td></tr>",
                            "<tr><td>Fortuna Apartman</td><td>2016-10-21</td><td>28</td></tr>",
                            "<tr><td>Fortuna Apartman</td><td>2016-10-26</td><td>30</td></tr>",
                            "<tr><td>Fortuna Apartman</td><td>2016-10-27</td><td>31</td></tr>",
                            "<tr><td>Fortuna Apartman</td><td>2016-10-28</td><td>32</td></tr>",
                            "<tr><td>Fortuna Apartman</td><td>2016-11-02</td><td>33</td></tr>",
                            "<tr><td>Fortuna Apartman</td><td>2016-11-17</td><td>34</td></tr>",
                            "<tr><td>Fortuna Apartman</td><td>2016-11-25</td><td>35</td></tr>",
                            "<tr><td>Fortuna Apartman</td><td>2017-01-03</td><td>36</td></tr>",
                            "<tr><td>Fortuna Apartman</td><td>2017-02-06</td><td>37</td></tr>",
                            "<tr><td>Fortuna Apartman</td><td>2017-02-14</td><td>38</td></tr>",
                            "<tr><td>Fortuna Apartman</td><td>2017-02-18</td><td>39</td></tr>",
                            "<tr><td>Fortuna Panzió</td><td>2016-04-06</td><td>1</td></tr>",
                            "<tr><td>Fortuna Panzió</td><td>2016-04-19</td><td>3</td></tr>",
                            "<tr><td>Fortuna panzió</td><td>2016-04-24</td><td>4</td></tr>",
                            "<tr><td>Fortuna panzió</td><td>2016-04-25</td><td>5</td></tr>",
                            "<tr><td>Fortuna Panzió</td><td>2016-04-26</td><td>6</td></tr>",
                            "<tr><td>Fortuna panzió</td><td>2016-04-27</td><td>8</td></tr>",
                            "<tr><td>Fortuna panzió</td><td>2016-05-01</td><td>9</td></tr>",
                            "<tr><td>Fortuna panzió</td><td>2016-05-08</td><td>11</td></tr>",
                            "<tr><td>Fortuna Panzió</td><td>2016-05-09</td><td>12</td></tr>",
                            "<tr><td>Fortuna Panzió</td><td>2016-05-21</td><td>13</td></tr>",
                            "<tr><td>Fortuna Panzió</td><td>2016-05-22</td><td>14</td></tr>",
                            "<tr><td>Fortuna panzió</td><td>2016-05-28</td><td>15</td></tr>",
                            "<tr><td>Fortuna panzió</td><td>2016-05-29</td><td>16</td></tr>",
                            "<tr><td>Fortuna panzió</td><td>2016-06-01</td><td>17</td></tr>",
                            "<tr><td>Fortuna Panzió</td><td>2016-06-02</td><td>18</td></tr>",
                            "<tr><td>Fortuna panzió</td><td>2016-06-03</td><td>21</td></tr>",
                            "<tr><td>Fortuna panzió</td><td>2016-06-04</td><td>23</td></tr>",
                            "<tr><td>Fortuna Panzió</td><td>2016-06-06</td><td>26</td></tr>",
                            "<tr><td>Fortuna Panzió</td><td>2016-06-07</td><td>28</td></tr>",
                            "<tr><td>Fortuna Panzió</td><td>2016-06-13</td><td>29</td></tr>",
                            "<tr><td>Fortuna Panzió</td><td>2016-06-15</td><td>30</td></tr>",
                            "<tr><td>Fortuna panzió</td><td>2016-06-18</td><td>31</td></tr>",
                            "<tr><td>Fortuna panzió</td><td>2016-06-22</td><td>32</td></tr>",
                            "<tr><td>Fortuna panzió</td><td>2016-06-24</td><td>33</td></tr>",
                            "<tr><td>Fortuna Panzió</td><td>2016-06-25</td><td>34</td></tr>",
                            "<tr><td>Fortuna panzió</td><td>2016-07-03</td><td>35</td></tr>",
                            "<tr><td>Fortuna panzió</td><td>2016-07-05</td><td>36</td></tr>",
                            "<tr><td>Fortuna Panzió</td><td>2016-07-08</td><td>38</td></tr>",
                            "<tr><td>Fortuna panzió</td><td>2016-07-10</td><td>39</td></tr>",
                            "<tr><td>Fortuna Panzió</td><td>2016-07-14</td><td>40</td></tr>",
                            "<tr><td>Fortuna panzió</td><td>2016-07-18</td><td>41</td></tr>",
                            "<tr><td>Fortuna panzió</td><td>2016-07-19</td><td>42</td></tr>",
                            "<tr><td>Fortuna panzió</td><td>2016-07-22</td><td>43</td></tr>",
                            "<tr><td>Fortuna panzió</td><td>2016-07-23</td><td>44</td></tr>",
                            "<tr><td>Fortuna panzió</td><td>2016-07-27</td><td>46</td></tr>",
                            "<tr><td>Fortuna panzió</td><td>2016-08-02</td><td>47</td></tr>",
                            "<tr><td>Fortuna panzió</td><td>2016-08-03</td><td>49</td></tr>",
                            "<tr><td>Fortuna panzió</td><td>2016-08-05</td><td>50</td></tr>",
                            "<tr><td>Fortuna Panzió</td><td>2016-08-12</td><td>51</td></tr>",
                            "<tr><td>Fortuna panzió</td><td>2016-08-14</td><td>52</td></tr>",
                            "<tr><td>Fortuna Panzió</td><td>2016-08-17</td><td>53</td></tr>",
                            "<tr><td>Fortuna Panzió</td><td>2016-08-20</td><td>55</td></tr>",
                            "<tr><td>Fortuna panzió</td><td>2016-08-22</td><td>56</td></tr>",
                            "<tr><td>Fortuna panzió</td><td>2016-08-24</td><td>57</td></tr>",
                            "<tr><td>Fortuna Panzió</td><td>2016-08-25</td><td>59</td></tr>",
                            "<tr><td>Fortuna Panzió</td><td>2016-08-26</td><td>60</td></tr>",
                            "<tr><td>Fortuna panzió</td><td>2016-08-28</td><td>61</td></tr>",
                            "<tr><td>Fortuna Panzió</td><td>2016-09-02</td><td>62</td></tr>",
                            "<tr><td>Fortuna panzió</td><td>2016-09-05</td><td>64</td></tr>",
                            "<tr><td>Fortuna panzió</td><td>2016-09-14</td><td>65</td></tr>",
                            "<tr><td>Fortuna panzió</td><td>2016-09-15</td><td>66</td></tr>",
                            "<tr><td>Fortuna Panzió</td><td>2016-09-16</td><td>67</td></tr>",
                            "<tr><td>Fortuna panzió</td><td>2016-09-17</td><td>68</td></tr>",
                            "<tr><td>Fortuna Panzió</td><td>2016-09-18</td><td>69</td></tr>",
                            "<tr><td>Fortuna panzió</td><td>2016-09-23</td><td>71</td></tr>",
                            "<tr><td>Fortuna panzió</td><td>2016-09-26</td><td>72</td></tr>",
                            "<tr><td>Fortuna Panzió</td><td>2016-09-29</td><td>73</td></tr>",
                            "<tr><td>Fortuna Panzió</td><td>2016-10-03</td><td>74</td></tr>",
                            "<tr><td>Fortuna Panzió</td><td>2016-10-09</td><td>77</td></tr>",
                            "<tr><td>Fortuna panzió</td><td>2016-10-13</td><td>78</td></tr>",
                            "<tr><td>Fortuna panzió</td><td>2016-10-16</td><td>79</td></tr>",
                            "<tr><td>Fortuna panzió</td><td>2016-10-23</td><td>81</td></tr>",
                            "<tr><td>Fortuna Panzió</td><td>2016-10-26</td><td>82</td></tr>",
                            "<tr><td>Fortuna Panzió</td><td>2016-10-27</td><td>83</td></tr>",
                            "<tr><td>Fortuna panzió</td><td>2016-10-29</td><td>84</td></tr>",
                            "<tr><td>Fortuna Panzió</td><td>2016-10-30</td><td>86</td></tr>",
                            "<tr><td>Fortuna panzió</td><td>2016-11-01</td><td>87</td></tr>",
                            "<tr><td>Fortuna Panzió</td><td>2016-11-03</td><td>88</td></tr>",
                            "<tr><td>Fortuna Panzió</td><td>2016-11-10</td><td>89</td></tr>",
                            "<tr><td>Fortuna panzió</td><td>2016-11-11</td><td>90</td></tr>",
                            "<tr><td>Fortuna Panzió</td><td>2016-11-19</td><td>92</td></tr>",
                            "<tr><td>Fortuna Panzió</td><td>2016-11-22</td><td>93</td></tr>",
                            "<tr><td>Fortuna Panzió</td><td>2016-11-23</td><td>94</td></tr>",
                            "<tr><td>Fortuna panzió</td><td>2016-11-25</td><td>95</td></tr>",
                            "<tr><td>Fortuna panzió</td><td>2016-12-01</td><td>96</td></tr>",
                            "<tr><td>Fortuna panzió</td><td>2016-12-05</td><td>97</td></tr>",
                            "<tr><td>Fortuna panzió</td><td>2016-12-06</td><td>98</td></tr>",
                            "<tr><td>Fortuna panzió</td><td>2016-12-14</td><td>99</td></tr>",
                            "<tr><td>Fortuna panzió</td><td>2016-12-18</td><td>100</td></tr>",
                            "<tr><td>Fortuna panzió</td><td>2016-12-20</td><td>101</td></tr>",
                            "<tr><td>Fortuna panzió</td><td>2016-12-21</td><td>102</td></tr>",
                            "<tr><td>Fortuna panzió</td><td>2016-12-24</td><td>103</td></tr>",
                            "<tr><td>Fortuna panzió</td><td>2016-12-29</td><td>104</td></tr>",
                            "<tr><td>Fortuna panzió</td><td>2017-01-01</td><td>105</td></tr>",
                            "<tr><td>Fortuna panzió</td><td>2017-01-03</td><td>106</td></tr>",
                            "<tr><td>Fortuna Panzió</td><td>2017-01-08</td><td>107</td></tr>",
                            "<tr><td>Fortuna panzió</td><td>2017-01-12</td><td>108</td></tr>",
                            "<tr><td>Fortuna panzió</td><td>2017-01-13</td><td>109</td></tr>",
                            "<tr><td>Fortuna Panzió</td><td>2017-01-16</td><td>110</td></tr>",
                            "<tr><td>Fortuna panzió</td><td>2017-01-18</td><td>111</td></tr>",
                            "<tr><td>Fortuna panzió</td><td>2017-01-20</td><td>112</td></tr>",
                            "<tr><td>Fortuna panzió</td><td>2017-01-27</td><td>113</td></tr>",
                            "<tr><td>Fortuna panzió</td><td>2017-01-28</td><td>114</td></tr>",
                            "<tr><td>Fortuna Panzió</td><td>2017-02-10</td><td>115</td></tr>",
                            "<tr><td>Fortuna Panzió</td><td>2017-02-12</td><td>116</td></tr>",
                            "<tr><td>Fortuna panzió</td><td>2017-02-13</td><td>117</td></tr>",
                            "<tr><td>Fortuna Panzió</td><td>2017-02-16</td><td>119</td></tr>",
                            "<tr><td>Fortuna Panzió</td><td>2017-02-17</td><td>120</td></tr>",
                            "<tr><td>Fortuna Panzió</td><td>2017-02-18</td><td>121</td></tr>",
                            "<tr><td>Fortuna Panzió</td><td>2017-02-20</td><td>123</td></tr>",
                            "<tr><td>Fortuna panzió</td><td>2017-02-21</td><td>124</td></tr>",
                            "<tr><td>Fortuna panzió</td><td>2017-02-24</td><td>125</td></tr>",
                            "<tr><td>Fortuna Panzió</td><td>2017-03-01</td><td>126</td></tr>",
                            "<tr><td>Gold Hotel</td><td>2016-04-10</td><td>4</td></tr>",
                            "<tr><td>Gold Hotel</td><td>2016-04-13</td><td>5</td></tr>",
                            "<tr><td>Gold Hotel</td><td>2016-04-21</td><td>6</td></tr>",
                            "<tr><td>Gold Hotel</td><td>2016-04-24</td><td>7</td></tr>",
                            "<tr><td>Gold Hotel</td><td>2016-04-28</td><td>8</td></tr>",
                            "<tr><td>Gold Hotel</td><td>2016-05-01</td><td>9</td></tr>",
                            "<tr><td>Gold Hotel</td><td>2016-05-09</td><td>11</td></tr>",
                            "<tr><td>Gold Hotel</td><td>2016-05-12</td><td>12</td></tr>",
                            "<tr><td>Gold Hotel</td><td>2016-05-14</td><td>13</td></tr>",
                            "<tr><td>Gold Hotel</td><td>2016-05-21</td><td>15</td></tr>",
                            "<tr><td>Gold Hotel</td><td>2016-05-24</td><td>16</td></tr>",
                            "<tr><td>Gold Hotel</td><td>2016-05-25</td><td>17</td></tr>",
                            "<tr><td>Gold Hotel</td><td>2016-05-28</td><td>20</td></tr>",
                            "<tr><td>Gold Hotel</td><td>2016-05-30</td><td>21</td></tr>",
                            "<tr><td>Gold Hotel</td><td>2016-06-03</td><td>25</td></tr>",
                            "<tr><td>Gold Hotel</td><td>2016-06-04</td><td>27</td></tr>",
                            "<tr><td>Gold Hotel</td><td>2016-06-06</td><td>30</td></tr>",
                            "<tr><td>Gold Hotel</td><td>2016-06-07</td><td>34</td></tr>",
                            "<tr><td>Gold Hotel</td><td>2016-06-08</td><td>35</td></tr>",
                            "<tr><td>Gold Hotel</td><td>2016-06-09</td><td>36</td></tr>",
                            "<tr><td>Gold Hotel</td><td>2016-06-10</td><td>37</td></tr>",
                            "<tr><td>Gold Hotel</td><td>2016-06-11</td><td>38</td></tr>",
                            "<tr><td>Gold Hotel</td><td>2016-06-13</td><td>40</td></tr>",
                            "<tr><td>Gold Hotel</td><td>2016-06-20</td><td>41</td></tr>",
                            "<tr><td>Gold Hotel</td><td>2016-06-22</td><td>43</td></tr>",
                            "<tr><td>Gold Hotel</td><td>2016-06-23</td><td>44</td></tr>",
                            "<tr><td>Gold Hotel</td><td>2016-06-24</td><td>45</td></tr>",
                            "<tr><td>Gold Hotel</td><td>2016-06-27</td><td>46</td></tr>",
                            "<tr><td>Gold Hotel</td><td>2016-06-28</td><td>47</td></tr>",
                            "<tr><td>Gold Hotel</td><td>2016-06-30</td><td>48</td></tr>",
                            "<tr><td>Gold Hotel</td><td>2016-07-04</td><td>50</td></tr>",
                            "<tr><td>Gold Hotel</td><td>2016-07-06</td><td>51</td></tr>",
                            "<tr><td>Gold Hotel</td><td>2016-07-08</td><td>52</td></tr>",
                            "<tr><td>Gold Hotel</td><td>2016-07-09</td><td>53</td></tr>",
                            "<tr><td>Gold Hotel</td><td>2016-07-10</td><td>54</td></tr>",
                            "<tr><td>Gold Hotel</td><td>2016-07-14</td><td>57</td></tr>",
                            "<tr><td>Gold Hotel</td><td>2016-07-15</td><td>58</td></tr>",
                            "<tr><td>Gold Hotel</td><td>2016-07-16</td><td>59</td></tr>",
                            "<tr><td>Gold Hotel</td><td>2016-07-17</td><td>61</td></tr>",
                            "<tr><td>Gold Hotel</td><td>2016-07-18</td><td>63</td></tr>",
                            "<tr><td>Gold Hotel</td><td>2016-07-19</td><td>64</td></tr>",
                            "<tr><td>Gold Hotel</td><td>2016-07-20</td><td>67</td></tr>",
                            "<tr><td>Gold Hotel</td><td>2016-07-24</td><td>70</td></tr>",
                            "<tr><td>Gold Hotel</td><td>2016-07-27</td><td>71</td></tr>",
                            "<tr><td>Gold Hotel</td><td>2016-07-28</td><td>72</td></tr>",
                            "<tr><td>Gold Hotel</td><td>2016-07-30</td><td>73</td></tr>",
                            "<tr><td>Gold Hotel</td><td>2016-07-31</td><td>74</td></tr>",
                            "<tr><td>Gold Hotel</td><td>2016-08-01</td><td>76</td></tr>",
                            "<tr><td>Gold Hotel</td><td>2016-08-02</td><td>77</td></tr>",
                            "<tr><td>Gold Hotel</td><td>2016-08-03</td><td>78</td></tr>",
                            "<tr><td>Gold Hotel</td><td>2016-08-09</td><td>79</td></tr>",
                            "<tr><td>Gold Hotel</td><td>2016-08-10</td><td>80</td></tr>",
                            "<tr><td>Gold Hotel</td><td>2016-08-13</td><td>81</td></tr>",
                            "<tr><td>Gold Hotel</td><td>2016-08-16</td><td>84</td></tr>",
                            "<tr><td>Gold Hotel</td><td>2016-08-17</td><td>85</td></tr>",
                            "<tr><td>Gold Hotel</td><td>2016-08-19</td><td>86</td></tr>",
                            "<tr><td>Gold Hotel</td><td>2016-08-24</td><td>87</td></tr>",
                            "<tr><td>Gold Hotel</td><td>2016-08-28</td><td>88</td></tr>",
                            "<tr><td>Gold Hotel</td><td>2016-08-29</td><td>90</td></tr>",
                            "<tr><td>Gold Hotel</td><td>2016-08-31</td><td>91</td></tr>",
                            "<tr><td>Gold Hotel</td><td>2016-09-05</td><td>92</td></tr>",
                            "<tr><td>Gold Hotel</td><td>2016-09-09</td><td>93</td></tr>",
                            "<tr><td>Gold Hotel</td><td>2016-09-11</td><td>94</td></tr>",
                            "<tr><td>Gold Hotel</td><td>2016-09-18</td><td>95</td></tr>",
                            "<tr><td>Gold Hotel</td><td>2016-09-19</td><td>96</td></tr>",
                            "<tr><td>Gold Hotel</td><td>2016-09-22</td><td>97</td></tr>",
                            "<tr><td>Gold Hotel</td><td>2016-09-30</td><td>100</td></tr>",
                            "<tr><td>Gold Hotel</td><td>2016-10-03</td><td>101</td></tr>",
                            "<tr><td>Gold Hotel</td><td>2016-10-06</td><td>102</td></tr>",
                            "<tr><td>Gold Hotel</td><td>2016-10-08</td><td>103</td></tr>",
                            "<tr><td>Gold Hotel</td><td>2016-10-09</td><td>107</td></tr>",
                            "<tr><td>Gold Hotel</td><td>2016-10-10</td><td>108</td></tr>",
                            "<tr><td>Gold Hotel</td><td>2016-10-15</td><td>109</td></tr>",
                            "<tr><td>Gold Hotel</td><td>2016-10-17</td><td>110</td></tr>",
                            "<tr><td>Gold Hotel</td><td>2016-10-20</td><td>112</td></tr>",
                            "<tr><td>Gold Hotel</td><td>2016-10-21</td><td>113</td></tr>",
                            "<tr><td>Gold Hotel</td><td>2016-10-23</td><td>116</td></tr>",
                            "<tr><td>Gold Hotel</td><td>2016-10-24</td><td>117</td></tr>",
                            "<tr><td>Gold Hotel</td><td>2016-10-26</td><td>118</td></tr>",
                            "<tr><td>Gold Hotel</td><td>2016-10-27</td><td>119</td></tr>",
                            "<tr><td>Gold Hotel</td><td>2016-10-28</td><td>120</td></tr>",
                            "<tr><td>Gold Hotel</td><td>2016-10-29</td><td>121</td></tr>",
                            "<tr><td>Gold Hotel</td><td>2016-10-30</td><td>123</td></tr>",
                            "<tr><td>Gold Hotel</td><td>2016-11-03</td><td>125</td></tr>",
                            "<tr><td>Gold Hotel</td><td>2016-11-05</td><td>128</td></tr>",
                            "<tr><td>Gold Hotel</td><td>2016-11-08</td><td>129</td></tr>",
                            "<tr><td>Gold Hotel</td><td>2016-11-09</td><td>130</td></tr>",
                            "<tr><td>Gold Hotel</td><td>2016-11-12</td><td>131</td></tr>",
                            "<tr><td>Gold Hotel</td><td>2016-11-13</td><td>132</td></tr>",
                            "<tr><td>Gold Hotel</td><td>2016-11-22</td><td>134</td></tr>",
                            "<tr><td>Gold Hotel</td><td>2016-11-23</td><td>136</td></tr>",
                            "<tr><td>Gold Hotel</td><td>2016-11-25</td><td>137</td></tr>",
                            "<tr><td>Gold Hotel</td><td>2016-11-27</td><td>138</td></tr>",
                            "<tr><td>Gold Hotel</td><td>2016-11-28</td><td>139</td></tr>",
                            "<tr><td>Gold Hotel</td><td>2016-11-29</td><td>140</td></tr>",
                            "<tr><td>Gold Hotel</td><td>2016-12-02</td><td>141</td></tr>",
                            "<tr><td>Gold Hotel</td><td>2016-12-04</td><td>143</td></tr>",
                            "<tr><td>Gold Hotel</td><td>2016-12-05</td><td>144</td></tr>",
                            "<tr><td>Gold Hotel</td><td>2016-12-06</td><td>145</td></tr>",
                            "<tr><td>Gold Hotel</td><td>2016-12-09</td><td>146</td></tr>",
                            "<tr><td>Gold Hotel</td><td>2016-12-17</td><td>147</td></tr>",
                            "<tr><td>Gold Hotel</td><td>2016-12-22</td><td>148</td></tr>",
                            "<tr><td>Gold Hotel</td><td>2016-12-24</td><td>149</td></tr>",
                            "<tr><td>Gold Hotel</td><td>2016-12-25</td><td>150</td></tr>",
                            "<tr><td>Gold Hotel</td><td>2016-12-29</td><td>151</td></tr>",
                            "<tr><td>Gold Hotel</td><td>2016-12-30</td><td>152</td></tr>",
                            "<tr><td>Gold Hotel</td><td>2017-01-01</td><td>153</td></tr>",
                            "<tr><td>Gold Hotel</td><td>2017-01-02</td><td>154</td></tr>",
                            "<tr><td>Gold Hotel</td><td>2017-01-05</td><td>156</td></tr>",
                            "<tr><td>Gold Hotel</td><td>2017-01-06</td><td>157</td></tr>",
                            "<tr><td>Gold Hotel</td><td>2017-01-09</td><td>159</td></tr>",
                            "<tr><td>Gold Hotel</td><td>2017-01-13</td><td>160</td></tr>",
                            "<tr><td>Gold Hotel</td><td>2017-01-16</td><td>161</td></tr>",
                            "<tr><td>Gold Hotel</td><td>2017-01-17</td><td>162</td></tr>",
                            "<tr><td>Gold Hotel</td><td>2017-01-22</td><td>164</td></tr>",
                            "<tr><td>Gold Hotel</td><td>2017-01-24</td><td>165</td></tr>",
                            "<tr><td>Gold Hotel</td><td>2017-01-30</td><td>166</td></tr>",
                            "<tr><td>Gold Hotel</td><td>2017-02-03</td><td>167</td></tr>",
                            "<tr><td>Gold Hotel</td><td>2017-02-04</td><td>168</td></tr>",
                            "<tr><td>Gold Hotel</td><td>2017-02-05</td><td>170</td></tr>",
                            "<tr><td>Gold Hotel</td><td>2017-02-08</td><td>172</td></tr>",
                            "<tr><td>Gold Hotel</td><td>2017-02-11</td><td>173</td></tr>",
                            "<tr><td>Gold Hotel</td><td>2017-02-12</td><td>174</td></tr>",
                            "<tr><td>Gold Hotel</td><td>2017-02-22</td><td>175</td></tr>",
                            "<tr><td>Gold Hotel</td><td>2017-02-23</td><td>176</td></tr>",
                            "<tr><td>Gold Hotel</td><td>2017-02-24</td><td>178</td></tr>",
                            "<tr><td>Gold Hotel</td><td>2017-02-26</td><td>179</td></tr>",
                            "<tr><td>Hotel Három Hattyú</td><td>2016-04-11</td><td>1</td></tr>",
                            "<tr><td>Hotel Három Hattyú</td><td>2016-04-18</td><td>2</td></tr>",
                            "<tr><td>Hotel Három Hattyú</td><td>2016-04-19</td><td>3</td></tr>",
                            "<tr><td>Hotel Három Hattyú</td><td>2016-04-23</td><td>5</td></tr>",
                            "<tr><td>Hotel Három Hattyú</td><td>2016-04-27</td><td>6</td></tr>",
                            "<tr><td>Hotel Három Hattyú</td><td>2016-04-28</td><td>7</td></tr>",
                            "<tr><td>Hotel Három Hattyú</td><td>2016-04-30</td><td>8</td></tr>",
                            "<tr><td>Hotel Három Hattyú</td><td>2016-05-01</td><td>10</td></tr>",
                            "<tr><td>Hotel Három Hattyú</td><td>2016-05-02</td><td>12</td></tr>",
                            "<tr><td>Hotel Három Hattyú</td><td>2016-05-03</td><td>13</td></tr>",
                            "<tr><td>Hotel Három Hattyú</td><td>2016-05-06</td><td>14</td></tr>",
                            "<tr><td>Hotel Három Hattyú</td><td>2016-05-08</td><td>15</td></tr>",
                            "<tr><td>Hotel Három Hattyú</td><td>2016-05-09</td><td>17</td></tr>",
                            "<tr><td>Hotel Három Hattyú</td><td>2016-05-10</td><td>19</td></tr>",
                            "<tr><td>Hotel Három Hattyú</td><td>2016-05-11</td><td>20</td></tr>",
                            "<tr><td>Hotel Három Hattyú</td><td>2016-05-14</td><td>21</td></tr>",
                            "<tr><td>Hotel Három Hattyú</td><td>2016-05-18</td><td>22</td></tr>",
                            "<tr><td>Hotel Három Hattyú</td><td>2016-05-19</td><td>23</td></tr>",
                            "<tr><td>Hotel Három Hattyú</td><td>2016-05-24</td><td>24</td></tr>",
                            "<tr><td>Hotel Három Hattyú</td><td>2016-05-25</td><td>25</td></tr>",
                            "<tr><td>Hotel Három Hattyú</td><td>2016-05-27</td><td>26</td></tr>",
                            "<tr><td>Hotel Három Hattyú</td><td>2016-05-28</td><td>27</td></tr>",
                            "<tr><td>Hotel Három Hattyú</td><td>2016-05-30</td><td>29</td></tr>",
                            "<tr><td>Hotel Három Hattyú</td><td>2016-06-06</td><td>30</td></tr>",
                            "<tr><td>Hotel Három Hattyú</td><td>2016-06-07</td><td>32</td></tr>",
                            "<tr><td>Hotel Három Hattyú</td><td>2016-06-10</td><td>34</td></tr>",
                            "<tr><td>Hotel Három Hattyú</td><td>2016-06-12</td><td>35</td></tr>",
                            "<tr><td>Hotel Három Hattyú</td><td>2016-06-14</td><td>36</td></tr>",
                            "<tr><td>Hotel Három Hattyú</td><td>2016-06-16</td><td>40</td></tr>",
                            "<tr><td>Hotel Három Hattyú</td><td>2016-06-19</td><td>41</td></tr>",
                            "<tr><td>Hotel Három Hattyú</td><td>2016-06-21</td><td>42</td></tr>",
                            "<tr><td>Hotel Három Hattyú</td><td>2016-06-29</td><td>43</td></tr>",
                            "<tr><td>Hotel Három Hattyú</td><td>2016-06-30</td><td>44</td></tr>",
                            "<tr><td>Hotel Három Hattyú</td><td>2016-07-01</td><td>46</td></tr>",
                            "<tr><td>Hotel Három Hattyú</td><td>2016-07-03</td><td>47</td></tr>",
                            "<tr><td>Hotel Három Hattyú</td><td>2016-07-04</td><td>48</td></tr>",
                            "<tr><td>Hotel Három Hattyú</td><td>2016-07-07</td><td>49</td></tr>",
                            "<tr><td>Hotel Három Hattyú</td><td>2016-07-12</td><td>50</td></tr>",
                            "<tr><td>Hotel Három Hattyú</td><td>2016-07-13</td><td>51</td></tr>",
                            "<tr><td>Hotel Három Hattyú</td><td>2016-07-14</td><td>52</td></tr>",
                            "<tr><td>Hotel Három Hattyú</td><td>2016-07-18</td><td>53</td></tr>",
                            "<tr><td>Hotel Három Hattyú</td><td>2016-07-19</td><td>54</td></tr>",
                            "<tr><td>Hotel Három Hattyú</td><td>2016-07-20</td><td>55</td></tr>",
                            "<tr><td>Hotel Három Hattyú</td><td>2016-07-22</td><td>56</td></tr>",
                            "<tr><td>Hotel Három Hattyú</td><td>2016-07-23</td><td>57</td></tr>",
                            "<tr><td>Hotel Három Hattyú</td><td>2016-07-25</td><td>58</td></tr>",
                            "<tr><td>Hotel Három Hattyú</td><td>2016-07-26</td><td>60</td></tr>",
                            "<tr><td>Hotel Három Hattyú</td><td>2016-07-27</td><td>65</td></tr>",
                            "<tr><td>Hotel Három Hattyú</td><td>2016-07-28</td><td>67</td></tr>",
                            "<tr><td>Hotel Három Hattyú</td><td>2016-07-29</td><td>68</td></tr>",
                            "<tr><td>Hotel Három Hattyú</td><td>2016-07-30</td><td>70</td></tr>",
                            "<tr><td>Hotel Három Hattyú</td><td>2016-08-04</td><td>71</td></tr>",
                            "<tr><td>Hotel Három Hattyú</td><td>2016-08-07</td><td>72</td></tr>",
                            "<tr><td>Hotel Három Hattyú</td><td>2016-08-14</td><td>73</td></tr>",
                            "<tr><td>Hotel Három Hattyú</td><td>2016-08-15</td><td>74</td></tr>",
                            "<tr><td>Hotel Három Hattyú</td><td>2016-08-16</td><td>75</td></tr>",
                            "<tr><td>Hotel Három Hattyú</td><td>2016-08-20</td><td>76</td></tr>",
                            "<tr><td>Hotel Három Hattyú</td><td>2016-08-21</td><td>77</td></tr>",
                            "<tr><td>Hotel Három Hattyú</td><td>2016-08-23</td><td>79</td></tr>",
                            "<tr><td>Hotel Három Hattyú</td><td>2016-08-24</td><td>80</td></tr>",
                            "<tr><td>Hotel Három Hattyú</td><td>2016-08-26</td><td>81</td></tr>",
                            "<tr><td>Hotel Három Hattyú</td><td>2016-08-29</td><td>83</td></tr>",
                            "<tr><td>Hotel Három Hattyú</td><td>2016-08-31</td><td>84</td></tr>",
                            "<tr><td>Hotel Három Hattyú</td><td>2016-09-05</td><td>85</td></tr>",
                            "<tr><td>Hotel Három Hattyú</td><td>2016-09-06</td><td>86</td></tr>",
                            "<tr><td>Hotel Három Hattyú</td><td>2016-09-08</td><td>87</td></tr>",
                            "<tr><td>Hotel Három Hattyú</td><td>2016-09-10</td><td>88</td></tr>",
                            "<tr><td>Hotel Három Hattyú</td><td>2016-09-13</td><td>91</td></tr>",
                            "<tr><td>Hotel Három Hattyú</td><td>2016-09-17</td><td>92</td></tr>",
                            "<tr><td>Hotel Három Hattyú</td><td>2016-09-20</td><td>93</td></tr>",
                            "<tr><td>Hotel Három Hattyú</td><td>2016-09-27</td><td>94</td></tr>",
                            "<tr><td>Hotel Három Hattyú</td><td>2016-09-28</td><td>95</td></tr>",
                            "<tr><td>Hotel Három Hattyú</td><td>2016-09-30</td><td>96</td></tr>",
                            "<tr><td>Hotel Három Hattyú</td><td>2016-10-01</td><td>99</td></tr>",
                            "<tr><td>Hotel Három Hattyú</td><td>2016-10-04</td><td>100</td></tr>",
                            "<tr><td>Hotel Három Hattyú</td><td>2016-10-06</td><td>101</td></tr>",
                            "<tr><td>Hotel Három Hattyú</td><td>2016-10-08</td><td>103</td></tr>",
                            "<tr><td>Hotel Három Hattyú</td><td>2016-10-15</td><td>104</td></tr>",
                            "<tr><td>Hotel Három Hattyú</td><td>2016-10-17</td><td>105</td></tr>",
                            "<tr><td>Hotel Három Hattyú</td><td>2016-10-19</td><td>106</td></tr>",
                            "<tr><td>Hotel Három Hattyú</td><td>2016-10-20</td><td>107</td></tr>",
                            "<tr><td>Hotel Három Hattyú</td><td>2016-10-22</td><td>108</td></tr>",
                            "<tr><td>Hotel Három Hattyú</td><td>2016-10-26</td><td>109</td></tr>",
                            "<tr><td>Hotel Három Hattyú</td><td>2016-10-28</td><td>112</td></tr>",
                            "<tr><td>Hotel Három Hattyú</td><td>2016-10-29</td><td>114</td></tr>",
                            "<tr><td>Hotel Három Hattyú</td><td>2016-10-30</td><td>117</td></tr>",
                            "<tr><td>Hotel Három Hattyú</td><td>2016-11-03</td><td>118</td></tr>",
                            "<tr><td>Hotel Három Hattyú</td><td>2016-11-04</td><td>119</td></tr>",
                            "<tr><td>Hotel Három Hattyú</td><td>2016-11-05</td><td>121</td></tr>",
                            "<tr><td>Hotel Három Hattyú</td><td>2016-11-08</td><td>122</td></tr>",
                            "<tr><td>Hotel Három Hattyú</td><td>2016-11-10</td><td>123</td></tr>",
                            "<tr><td>Hotel Három Hattyú</td><td>2016-11-15</td><td>124</td></tr>",
                            "<tr><td>Hotel Három Hattyú</td><td>2016-11-16</td><td>125</td></tr>",
                            "<tr><td>Hotel Három Hattyú</td><td>2016-11-19</td><td>127</td></tr>",
                            "<tr><td>Hotel Három Hattyú</td><td>2016-11-20</td><td>128</td></tr>",
                            "<tr><td>Hotel Három Hattyú</td><td>2016-11-22</td><td>129</td></tr>",
                            "<tr><td>Hotel Három Hattyú</td><td>2016-11-23</td><td>130</td></tr>",
                            "<tr><td>Hotel Három Hattyú</td><td>2016-11-24</td><td>131</td></tr>",
                            "<tr><td>Hotel Három Hattyú</td><td>2016-11-29</td><td>133</td></tr>",
                            "<tr><td>Hotel Három Hattyú</td><td>2016-12-02</td><td>134</td></tr>",
                            "<tr><td>Hotel Három Hattyú</td><td>2016-12-03</td><td>135</td></tr>",
                            "<tr><td>Hotel Három Hattyú</td><td>2016-12-05</td><td>136</td></tr>",
                            "<tr><td>Hotel Három Hattyú</td><td>2016-12-07</td><td>139</td></tr>",
                            "<tr><td>Hotel Három Hattyú</td><td>2016-12-08</td><td>140</td></tr>",
                            "<tr><td>Hotel Három Hattyú</td><td>2016-12-13</td><td>141</td></tr>",
                            "<tr><td>Hotel Három Hattyú</td><td>2016-12-15</td><td>142</td></tr>",
                            "<tr><td>Hotel Három Hattyú</td><td>2016-12-17</td><td>146</td></tr>",
                            "<tr><td>Hotel Három Hattyú</td><td>2016-12-18</td><td>147</td></tr>",
                            "<tr><td>Hotel Három Hattyú</td><td>2016-12-23</td><td>148</td></tr>",
                            "<tr><td>Hotel Három Hattyú</td><td>2016-12-25</td><td>153</td></tr>",
                            "<tr><td>Hotel Három Hattyú</td><td>2016-12-26</td><td>154</td></tr>",
                            "<tr><td>Hotel Három Hattyú</td><td>2016-12-28</td><td>155</td></tr>",
                            "<tr><td>Hotel Három Hattyú</td><td>2016-12-29</td><td>156</td></tr>",
                            "<tr><td>Hotel Három Hattyú</td><td>2016-12-31</td><td>157</td></tr>",
                            "<tr><td>Hotel Három Hattyú</td><td>2017-01-02</td><td>158</td></tr>",
                            "<tr><td>Hotel Három Hattyú</td><td>2017-01-03</td><td>159</td></tr>",
                            "<tr><td>Hotel Három Hattyú</td><td>2017-01-05</td><td>160</td></tr>",
                            "<tr><td>Hotel Három Hattyú</td><td>2017-01-07</td><td>161</td></tr>",
                            "<tr><td>Hotel Három Hattyú</td><td>2017-01-09</td><td>162</td></tr>",
                            "<tr><td>Hotel Három Hattyú</td><td>2017-01-14</td><td>163</td></tr>",
                            "<tr><td>Hotel Három Hattyú</td><td>2017-01-15</td><td>164</td></tr>",
                            "<tr><td>Hotel Három Hattyú</td><td>2017-01-16</td><td>165</td></tr>",
                            "<tr><td>Hotel Három Hattyú</td><td>2017-01-17</td><td>166</td></tr>",
                            "<tr><td>Hotel Három Hattyú</td><td>2017-01-18</td><td>167</td></tr>",
                            "<tr><td>Hotel Három Hattyú</td><td>2017-01-23</td><td>168</td></tr>",
                            "<tr><td>Hotel Három Hattyú</td><td>2017-01-24</td><td>169</td></tr>",
                            "<tr><td>Hotel Három Hattyú</td><td>2017-01-29</td><td>171</td></tr>",
                            "<tr><td>Hotel Három Hattyú</td><td>2017-01-30</td><td>173</td></tr>",
                            "<tr><td>Hotel Három Hattyú</td><td>2017-01-31</td><td>174</td></tr>",
                            "<tr><td>Hotel Három Hattyú</td><td>2017-02-01</td><td>175</td></tr>",
                            "<tr><td>Hotel Három Hattyú</td><td>2017-02-02</td><td>176</td></tr>",
                            "<tr><td>Hotel Három Hattyú</td><td>2017-02-04</td><td>179</td></tr>",
                            "<tr><td>Hotel Három Hattyú</td><td>2017-02-05</td><td>182</td></tr>",
                            "<tr><td>Hotel Három Hattyú</td><td>2017-02-08</td><td>184</td></tr>",
                            "<tr><td>Hotel Három Hattyú</td><td>2017-02-10</td><td>185</td></tr>",
                            "<tr><td>Hotel Három Hattyú</td><td>2017-02-12</td><td>188</td></tr>",
                            "<tr><td>Hotel Három Hattyú</td><td>2017-02-13</td><td>192</td></tr>",
                            "<tr><td>Hotel Három Hattyú</td><td>2017-02-14</td><td>193</td></tr>",
                            "<tr><td>Hotel Három Hattyú</td><td>2017-02-16</td><td>195</td></tr>",
                            "<tr><td>Hotel Három Hattyú</td><td>2017-02-20</td><td>197</td></tr>",
                            "<tr><td>Hotel Három Hattyú</td><td>2017-02-23</td><td>199</td></tr>",
                            "<tr><td>Hotel Három Hattyú</td><td>2017-02-24</td><td>201</td></tr>",
                            "<tr><td>Hotel Három Hattyú</td><td>2017-02-26</td><td>202</td></tr>",
                            "<tr><td>Hotel Három Hattyú</td><td>2017-02-28</td><td>203</td></tr>",
                            "<tr><td>Hotel Három Hattyú</td><td>2017-03-03</td><td>204</td></tr>",
                            "<tr><td>Jáde panzió</td><td>2016-04-06</td><td>1</td></tr>",
                            "<tr><td>Jáde panzió</td><td>2016-04-14</td><td>2</td></tr>",
                            "<tr><td>Jáde panzió</td><td>2016-05-01</td><td>3</td></tr>",
                            "<tr><td>Jáde panzió</td><td>2016-05-04</td><td>4</td></tr>",
                            "<tr><td>Jáde panzió</td><td>2016-05-18</td><td>5</td></tr>",
                            "<tr><td>Jáde panzió</td><td>2016-05-30</td><td>6</td></tr>",
                            "<tr><td>Jáde panzió</td><td>2016-06-06</td><td>8</td></tr>",
                            "<tr><td>Jáde panzió</td><td>2016-06-27</td><td>9</td></tr>",
                            "<tr><td>Jáde panzió</td><td>2016-07-01</td><td>10</td></tr>",
                            "<tr><td>Jáde panzió</td><td>2016-07-03</td><td>11</td></tr>",
                            "<tr><td>Jáde panzió</td><td>2016-07-11</td><td>12</td></tr>",
                            "<tr><td>Jáde panzió</td><td>2016-08-06</td><td>13</td></tr>",
                            "<tr><td>Jáde panzió</td><td>2016-08-15</td><td>14</td></tr>",
                            "<tr><td>Jáde panzió</td><td>2016-09-09</td><td>15</td></tr>",
                            "<tr><td>Jáde panzió</td><td>2016-09-12</td><td>16</td></tr>",
                            "<tr><td>Jáde panzió</td><td>2016-09-30</td><td>17</td></tr>",
                            "<tr><td>Jáde panzió</td><td>2016-10-01</td><td>18</td></tr>",
                            "<tr><td>Jáde panzió</td><td>2016-10-12</td><td>19</td></tr>",
                            "<tr><td>Jáde panzió</td><td>2016-10-22</td><td>20</td></tr>",
                            "<tr><td>Jáde panzió</td><td>2016-10-30</td><td>21</td></tr>",
                            "<tr><td>Jáde panzió</td><td>2016-11-22</td><td>23</td></tr>",
                            "<tr><td>Jáde panzió</td><td>2016-12-15</td><td>24</td></tr>",
                            "<tr><td>Jáde panzió</td><td>2017-01-01</td><td>25</td></tr>",
                            "<tr><td>Jáde panzió</td><td>2017-01-25</td><td>26</td></tr>",
                            "<tr><td>Jáde panzió</td><td>2017-01-26</td><td>27</td></tr>",
                            "<tr><td>Jáde panzió</td><td>2017-02-12</td><td>28</td></tr>",
                            "<tr><td>Jáde panzió</td><td>2017-02-15</td><td>29</td></tr>",
                            "<tr><td>Kentaur Hotel</td><td>2016-04-07</td><td>1</td></tr>",
                            "<tr><td>Kentaur Hotel</td><td>2016-04-10</td><td>3</td></tr>",
                            "<tr><td>Kentaur Hotel</td><td>2016-04-16</td><td>4</td></tr>",
                            "<tr><td>Kentaur Hotel</td><td>2016-04-17</td><td>5</td></tr>",
                            "<tr><td>Kentaur Hotel</td><td>2016-04-21</td><td>6</td></tr>",
                            "<tr><td>Kentaur Hotel</td><td>2016-04-22</td><td>7</td></tr>",
                            "<tr><td>Kentaur Hotel</td><td>2016-05-07</td><td>8</td></tr>",
                            "<tr><td>Kentaur Hotel</td><td>2016-05-08</td><td>9</td></tr>",
                            "<tr><td>Kentaur Hotel</td><td>2016-05-12</td><td>10</td></tr>",
                            "<tr><td>Kentaur Hotel</td><td>2016-05-13</td><td>11</td></tr>",
                            "<tr><td>Kentaur Hotel</td><td>2016-05-14</td><td>13</td></tr>",
                            "<tr><td>Kentaur Hotel</td><td>2016-05-17</td><td>14</td></tr>",
                            "<tr><td>Kentaur Hotel</td><td>2016-05-24</td><td>15</td></tr>",
                            "<tr><td>Kentaur Hotel</td><td>2016-05-27</td><td>17</td></tr>",
                            "<tr><td>Kentaur Hotel</td><td>2016-05-28</td><td>19</td></tr>",
                            "<tr><td>Kentaur Hotel</td><td>2016-05-29</td><td>20</td></tr>",
                            "<tr><td>Kentaur Hotel</td><td>2016-05-30</td><td>25</td></tr>",
                            "<tr><td>Kentaur Hotel</td><td>2016-05-31</td><td>26</td></tr>",
                            "<tr><td>Kentaur Hotel</td><td>2016-06-01</td><td>27</td></tr>",
                            "<tr><td>Kentaur Hotel</td><td>2016-06-02</td><td>29</td></tr>",
                            "<tr><td>Kentaur Hotel</td><td>2016-06-04</td><td>30</td></tr>",
                            "<tr><td>Kentaur Hotel</td><td>2016-06-07</td><td>31</td></tr>",
                            "<tr><td>Kentaur Hotel</td><td>2016-06-08</td><td>33</td></tr>",
                            "<tr><td>Kentaur Hotel</td><td>2016-06-09</td><td>35</td></tr>",
                            "<tr><td>Kentaur Hotel</td><td>2016-06-10</td><td>36</td></tr>",
                            "<tr><td>Kentaur Hotel</td><td>2016-06-13</td><td>37</td></tr>",
                            "<tr><td>Kentaur Hotel</td><td>2016-06-16</td><td>39</td></tr>",
                            "<tr><td>Kentaur Hotel</td><td>2016-06-22</td><td>40</td></tr>",
                            "<tr><td>Kentaur Hotel</td><td>2016-06-23</td><td>42</td></tr>",
                            "<tr><td>Kentaur Hotel</td><td>2016-06-26</td><td>43</td></tr>",
                            "<tr><td>Kentaur Hotel</td><td>2016-06-30</td><td>44</td></tr>",
                            "<tr><td>Kentaur Hotel</td><td>2016-07-01</td><td>46</td></tr>",
                            "<tr><td>Kentaur Hotel</td><td>2016-07-03</td><td>47</td></tr>",
                            "<tr><td>Kentaur Hotel</td><td>2016-07-04</td><td>48</td></tr>",
                            "<tr><td>Kentaur Hotel</td><td>2016-07-06</td><td>49</td></tr>",
                            "<tr><td>Kentaur Hotel</td><td>2016-07-12</td><td>50</td></tr>",
                            "<tr><td>Kentaur Hotel</td><td>2016-07-13</td><td>51</td></tr>",
                            "<tr><td>Kentaur Hotel</td><td>2016-07-14</td><td>52</td></tr>",
                            "<tr><td>Kentaur Hotel</td><td>2016-07-15</td><td>53</td></tr>",
                            "<tr><td>Kentaur Hotel</td><td>2016-07-16</td><td>54</td></tr>",
                            "<tr><td>Kentaur Hotel</td><td>2016-07-18</td><td>56</td></tr>",
                            "<tr><td>Kentaur Hotel</td><td>2016-07-20</td><td>58</td></tr>",
                            "<tr><td>Kentaur Hotel</td><td>2016-07-21</td><td>60</td></tr>",
                            "<tr><td>Kentaur Hotel</td><td>2016-07-22</td><td>61</td></tr>",
                            "<tr><td>Kentaur Hotel</td><td>2016-07-24</td><td>62</td></tr>",
                            "<tr><td>Kentaur Hotel</td><td>2016-07-25</td><td>63</td></tr>",
                            "<tr><td>Kentaur Hotel</td><td>2016-07-27</td><td>64</td></tr>",
                            "<tr><td>Kentaur Hotel</td><td>2016-07-28</td><td>65</td></tr>",
                            "<tr><td>Kentaur Hotel</td><td>2016-07-29</td><td>66</td></tr>",
                            "<tr><td>Kentaur Hotel</td><td>2016-08-05</td><td>67</td></tr>",
                            "<tr><td>Kentaur Hotel</td><td>2016-08-12</td><td>69</td></tr>",
                            "<tr><td>Kentaur Hotel</td><td>2016-08-16</td><td>70</td></tr>",
                            "<tr><td>Kentaur Hotel</td><td>2016-08-18</td><td>72</td></tr>",
                            "<tr><td>Kentaur Hotel</td><td>2016-08-23</td><td>73</td></tr>",
                            "<tr><td>Kentaur Hotel</td><td>2016-08-24</td><td>76</td></tr>",
                            "<tr><td>Kentaur Hotel</td><td>2016-08-28</td><td>77</td></tr>",
                            "<tr><td>Kentaur Hotel</td><td>2016-08-29</td><td>78</td></tr>",
                            "<tr><td>Kentaur Hotel</td><td>2016-09-02</td><td>79</td></tr>",
                            "<tr><td>Kentaur Hotel</td><td>2016-09-03</td><td>80</td></tr>",
                            "<tr><td>Kentaur Hotel</td><td>2016-09-15</td><td>82</td></tr>",
                            "<tr><td>Kentaur Hotel</td><td>2016-09-18</td><td>83</td></tr>",
                            "<tr><td>Kentaur Hotel</td><td>2016-09-20</td><td>84</td></tr>",
                            "<tr><td>Kentaur Hotel</td><td>2016-09-25</td><td>85</td></tr>",
                            "<tr><td>Kentaur Hotel</td><td>2016-09-26</td><td>86</td></tr>",
                            "<tr><td>Kentaur Hotel</td><td>2016-09-28</td><td>88</td></tr>",
                            "<tr><td>Kentaur Hotel</td><td>2016-09-30</td><td>91</td></tr>",
                            "<tr><td>Kentaur Hotel</td><td>2016-10-01</td><td>93</td></tr>",
                            "<tr><td>Kentaur Hotel</td><td>2016-10-04</td><td>94</td></tr>",
                            "<tr><td>Kentaur Hotel</td><td>2016-10-05</td><td>95</td></tr>",
                            "<tr><td>Kentaur Hotel</td><td>2016-10-07</td><td>96</td></tr>",
                            "<tr><td>Kentaur Hotel</td><td>2016-10-11</td><td>97</td></tr>",
                            "<tr><td>Kentaur Hotel</td><td>2016-10-16</td><td>98</td></tr>",
                            "<tr><td>Kentaur Hotel</td><td>2016-10-17</td><td>99</td></tr>",
                            "<tr><td>Kentaur Hotel</td><td>2016-10-19</td><td>100</td></tr>",
                            "<tr><td>Kentaur Hotel</td><td>2016-10-20</td><td>101</td></tr>",
                            "<tr><td>Kentaur Hotel</td><td>2016-10-22</td><td>102</td></tr>",
                            "<tr><td>Kentaur Hotel</td><td>2016-10-23</td><td>103</td></tr>",
                            "<tr><td>Kentaur Hotel</td><td>2016-10-25</td><td>104</td></tr>",
                            "<tr><td>Kentaur Hotel</td><td>2016-10-26</td><td>105</td></tr>",
                            "<tr><td>Kentaur Hotel</td><td>2016-10-28</td><td>106</td></tr>",
                            "<tr><td>Kentaur Hotel</td><td>2016-10-29</td><td>107</td></tr>",
                            "<tr><td>Kentaur Hotel</td><td>2016-10-30</td><td>111</td></tr>",
                            "<tr><td>Kentaur Hotel</td><td>2016-10-31</td><td>112</td></tr>",
                            "<tr><td>Kentaur Hotel</td><td>2016-11-01</td><td>113</td></tr>",
                            "<tr><td>Kentaur Hotel</td><td>2016-11-03</td><td>114</td></tr>",
                            "<tr><td>Kentaur Hotel</td><td>2016-11-05</td><td>115</td></tr>",
                            "<tr><td>Kentaur Hotel</td><td>2016-11-06</td><td>116</td></tr>",
                            "<tr><td>Kentaur Hotel</td><td>2016-11-07</td><td>118</td></tr>",
                            "<tr><td>Kentaur Hotel</td><td>2016-11-08</td><td>119</td></tr>",
                            "<tr><td>Kentaur Hotel</td><td>2016-11-09</td><td>120</td></tr>",
                            "<tr><td>Kentaur Hotel</td><td>2016-11-10</td><td>121</td></tr>",
                            "<tr><td>Kentaur Hotel</td><td>2016-11-12</td><td>122</td></tr>",
                            "<tr><td>Kentaur Hotel</td><td>2016-11-14</td><td>123</td></tr>",
                            "<tr><td>Kentaur Hotel</td><td>2016-11-15</td><td>124</td></tr>",
                            "<tr><td>Kentaur Hotel</td><td>2016-11-16</td><td>125</td></tr>",
                            "<tr><td>Kentaur Hotel</td><td>2016-11-17</td><td>126</td></tr>",
                            "<tr><td>Kentaur Hotel</td><td>2016-11-19</td><td>127</td></tr>",
                            "<tr><td>Kentaur Hotel</td><td>2016-11-23</td><td>128</td></tr>",
                            "<tr><td>Kentaur Hotel</td><td>2016-11-25</td><td>129</td></tr>",
                            "<tr><td>Kentaur Hotel</td><td>2016-11-26</td><td>130</td></tr>",
                            "<tr><td>Kentaur Hotel</td><td>2016-11-27</td><td>132</td></tr>",
                            "<tr><td>Kentaur Hotel</td><td>2016-11-28</td><td>134</td></tr>",
                            "<tr><td>Kentaur Hotel</td><td>2016-11-29</td><td>135</td></tr>",
                            "<tr><td>Kentaur Hotel</td><td>2016-11-30</td><td>136</td></tr>",
                            "<tr><td>Kentaur Hotel</td><td>2016-12-04</td><td>137</td></tr>",
                            "<tr><td>Kentaur Hotel</td><td>2016-12-05</td><td>138</td></tr>",
                            "<tr><td>Kentaur Hotel</td><td>2016-12-06</td><td>139</td></tr>",
                            "<tr><td>Kentaur Hotel</td><td>2016-12-15</td><td>140</td></tr>",
                            "<tr><td>Kentaur Hotel</td><td>2016-12-16</td><td>141</td></tr>",
                            "<tr><td>Kentaur Hotel</td><td>2016-12-17</td><td>143</td></tr>",
                            "<tr><td>Kentaur Hotel</td><td>2016-12-19</td><td>144</td></tr>",
                            "<tr><td>Kentaur Hotel</td><td>2016-12-22</td><td>146</td></tr>",
                            "<tr><td>Kentaur Hotel</td><td>2016-12-24</td><td>147</td></tr>",
                            "<tr><td>Kentaur Hotel</td><td>2016-12-25</td><td>149</td></tr>",
                            "<tr><td>Kentaur Hotel</td><td>2016-12-29</td><td>150</td></tr>",
                            "<tr><td>Kentaur Hotel</td><td>2017-01-01</td><td>151</td></tr>",
                            "<tr><td>Kentaur Hotel</td><td>2017-01-09</td><td>152</td></tr>",
                            "<tr><td>Kentaur Hotel</td><td>2017-01-10</td><td>153</td></tr>",
                            "<tr><td>Kentaur Hotel</td><td>2017-01-15</td><td>154</td></tr>",
                            "<tr><td>Kentaur Hotel</td><td>2017-01-16</td><td>157</td></tr>",
                            "<tr><td>Kentaur Hotel</td><td>2017-01-17</td><td>158</td></tr>",
                            "<tr><td>Kentaur Hotel</td><td>2017-01-19</td><td>160</td></tr>",
                            "<tr><td>Kentaur Hotel</td><td>2017-01-22</td><td>164</td></tr>",
                            "<tr><td>Kentaur Hotel</td><td>2017-01-28</td><td>165</td></tr>",
                            "<tr><td>Kentaur Hotel</td><td>2017-02-04</td><td>166</td></tr>",
                            "<tr><td>Kentaur Hotel</td><td>2017-02-06</td><td>168</td></tr>",
                            "<tr><td>Kentaur Hotel</td><td>2017-02-08</td><td>169</td></tr>",
                            "<tr><td>Kentaur Hotel</td><td>2017-02-12</td><td>170</td></tr>",
                            "<tr><td>Kentaur Hotel</td><td>2017-02-14</td><td>171</td></tr>",
                            "<tr><td>Kentaur Hotel</td><td>2017-02-18</td><td>172</td></tr>",
                            "<tr><td>Kentaur Hotel</td><td>2017-02-21</td><td>173</td></tr>",
                            "<tr><td>Kentaur Hotel</td><td>2017-02-23</td><td>174</td></tr>",
                            "<tr><td>Kentaur Hotel</td><td>2017-02-26</td><td>175</td></tr>",
                            "<tr><td>Kentaur Hotel</td><td>2017-02-27</td><td>176</td></tr>",
                            "<tr><td>Kentaur Hotel</td><td>2017-03-01</td><td>177</td></tr>",
                            "<tr><td>Kentaur Hotel</td><td>2017-03-02</td><td>178</td></tr>",
                            "<tr><td>Kentaur Hotel</td><td>2017-03-03</td><td>179</td></tr>",
                            "<tr><td>Lagúna Hotel</td><td>2016-04-08</td><td>1</td></tr>",
                            "<tr><td>Lagúna Hotel</td><td>2016-04-10</td><td>2</td></tr>",
                            "<tr><td>Lagúna Hotel</td><td>2016-04-12</td><td>3</td></tr>",
                            "<tr><td>Lagúna Hotel</td><td>2016-04-14</td><td>4</td></tr>",
                            "<tr><td>Lagúna Hotel</td><td>2016-04-15</td><td>5</td></tr>",
                            "<tr><td>Lagúna Hotel</td><td>2016-04-16</td><td>6</td></tr>",
                            "<tr><td>Lagúna Hotel</td><td>2016-04-17</td><td>7</td></tr>",
                            "<tr><td>Lagúna Hotel</td><td>2016-04-19</td><td>8</td></tr>",
                            "<tr><td>Lagúna Hotel</td><td>2016-04-20</td><td>9</td></tr>",
                            "<tr><td>Lagúna Hotel</td><td>2016-04-22</td><td>10</td></tr>",
                            "<tr><td>Lagúna Hotel</td><td>2016-05-13</td><td>11</td></tr>",
                            "<tr><td>Lagúna Hotel</td><td>2016-05-16</td><td>12</td></tr>",
                            "<tr><td>Lagúna Hotel</td><td>2016-05-17</td><td>13</td></tr>",
                            "<tr><td>Lagúna Hotel</td><td>2016-05-18</td><td>14</td></tr>",
                            "<tr><td>Lagúna Hotel</td><td>2016-05-20</td><td>15</td></tr>",
                            "<tr><td>Lagúna Hotel</td><td>2016-05-21</td><td>16</td></tr>",
                            "<tr><td>Lagúna Hotel</td><td>2016-06-02</td><td>17</td></tr>",
                            "<tr><td>Lagúna Hotel</td><td>2016-06-03</td><td>18</td></tr>",
                            "<tr><td>Lagúna Hotel</td><td>2016-06-05</td><td>20</td></tr>",
                            "<tr><td>Lagúna Hotel</td><td>2016-06-06</td><td>21</td></tr>",
                            "<tr><td>Lagúna Hotel</td><td>2016-06-13</td><td>22</td></tr>",
                            "<tr><td>Lagúna Hotel</td><td>2016-06-16</td><td>23</td></tr>",
                            "<tr><td>Lagúna Hotel</td><td>2016-06-17</td><td>24</td></tr>",
                            "<tr><td>Lagúna Hotel</td><td>2016-06-23</td><td>25</td></tr>",
                            "<tr><td>Lagúna Hotel</td><td>2016-07-06</td><td>26</td></tr>",
                            "<tr><td>Lagúna Hotel</td><td>2016-07-12</td><td>27</td></tr>",
                            "<tr><td>Lagúna Hotel</td><td>2016-07-13</td><td>28</td></tr>",
                            "<tr><td>Lagúna Hotel</td><td>2016-07-17</td><td>29</td></tr>",
                            "<tr><td>Lagúna Hotel</td><td>2016-07-20</td><td>30</td></tr>",
                            "<tr><td>Lagúna Hotel</td><td>2016-07-22</td><td>31</td></tr>",
                            "<tr><td>Lagúna Hotel</td><td>2016-07-27</td><td>32</td></tr>",
                            "<tr><td>Lagúna Hotel</td><td>2016-07-28</td><td>34</td></tr>",
                            "<tr><td>Lagúna Hotel</td><td>2016-08-01</td><td>35</td></tr>",
                            "<tr><td>Lagúna Hotel</td><td>2016-08-03</td><td>36</td></tr>",
                            "<tr><td>Lagúna Hotel</td><td>2016-08-06</td><td>37</td></tr>",
                            "<tr><td>Lagúna Hotel</td><td>2016-08-09</td><td>38</td></tr>",
                            "<tr><td>Lagúna Hotel</td><td>2016-08-12</td><td>40</td></tr>",
                            "<tr><td>Lagúna Hotel</td><td>2016-08-16</td><td>43</td></tr>",
                            "<tr><td>Lagúna Hotel</td><td>2016-08-17</td><td>44</td></tr>",
                            "<tr><td>Lagúna Hotel</td><td>2016-08-20</td><td>45</td></tr>",
                            "<tr><td>Lagúna Hotel</td><td>2016-08-23</td><td>47</td></tr>",
                            "<tr><td>Lagúna Hotel</td><td>2016-08-25</td><td>48</td></tr>",
                            "<tr><td>Lagúna Hotel</td><td>2016-08-28</td><td>49</td></tr>",
                            "<tr><td>Lagúna Hotel</td><td>2016-08-29</td><td>50</td></tr>",
                            "<tr><td>Lagúna Hotel</td><td>2016-08-30</td><td>51</td></tr>",
                            "<tr><td>Lagúna Hotel</td><td>2016-09-01</td><td>52</td></tr>",
                            "<tr><td>Lagúna Hotel</td><td>2016-09-05</td><td>54</td></tr>",
                            "<tr><td>Lagúna Hotel</td><td>2016-09-10</td><td>55</td></tr>",
                            "<tr><td>Lagúna Hotel</td><td>2016-09-12</td><td>56</td></tr>",
                            "<tr><td>Lagúna Hotel</td><td>2016-09-13</td><td>57</td></tr>",
                            "<tr><td>Lagúna Hotel</td><td>2016-09-16</td><td>58</td></tr>",
                            "<tr><td>Lagúna Hotel</td><td>2016-09-17</td><td>59</td></tr>",
                            "<tr><td>Lagúna Hotel</td><td>2016-09-18</td><td>60</td></tr>",
                            "<tr><td>Lagúna Hotel</td><td>2016-09-23</td><td>61</td></tr>",
                            "<tr><td>Lagúna Hotel</td><td>2016-09-29</td><td>62</td></tr>",
                            "<tr><td>Lagúna Hotel</td><td>2016-10-01</td><td>66</td></tr>",
                            "<tr><td>Lagúna Hotel</td><td>2016-10-02</td><td>67</td></tr>",
                            "<tr><td>Lagúna Hotel</td><td>2016-10-03</td><td>68</td></tr>",
                            "<tr><td>Lagúna Hotel</td><td>2016-10-04</td><td>69</td></tr>",
                            "<tr><td>Lagúna Hotel</td><td>2016-10-09</td><td>70</td></tr>",
                            "<tr><td>Lagúna Hotel</td><td>2016-10-10</td><td>71</td></tr>",
                            "<tr><td>Lagúna Hotel</td><td>2016-10-15</td><td>73</td></tr>",
                            "<tr><td>Lagúna Hotel</td><td>2016-10-16</td><td>74</td></tr>",
                            "<tr><td>Lagúna Hotel</td><td>2016-10-19</td><td>75</td></tr>",
                            "<tr><td>Lagúna Hotel</td><td>2016-10-22</td><td>76</td></tr>",
                            "<tr><td>Lagúna Hotel</td><td>2016-10-26</td><td>81</td></tr>",
                            "<tr><td>Lagúna Hotel</td><td>2016-10-30</td><td>82</td></tr>",
                            "<tr><td>Lagúna Hotel</td><td>2016-11-03</td><td>83</td></tr>",
                            "<tr><td>Lagúna Hotel</td><td>2016-11-06</td><td>85</td></tr>",
                            "<tr><td>Lagúna Hotel</td><td>2016-11-07</td><td>87</td></tr>",
                            "<tr><td>Lagúna Hotel</td><td>2016-11-15</td><td>88</td></tr>",
                            "<tr><td>Lagúna Hotel</td><td>2016-11-16</td><td>89</td></tr>",
                            "<tr><td>Lagúna Hotel</td><td>2016-11-18</td><td>90</td></tr>",
                            "<tr><td>Lagúna Hotel</td><td>2016-11-19</td><td>92</td></tr>",
                            "<tr><td>Lagúna Hotel</td><td>2016-11-23</td><td>94</td></tr>",
                            "<tr><td>Lagúna Hotel</td><td>2016-12-02</td><td>95</td></tr>",
                            "<tr><td>Lagúna Hotel</td><td>2016-12-10</td><td>96</td></tr>",
                            "<tr><td>Lagúna Hotel</td><td>2016-12-11</td><td>97</td></tr>",
                            "<tr><td>Lagúna Hotel</td><td>2016-12-14</td><td>98</td></tr>",
                            "<tr><td>Lagúna Hotel</td><td>2016-12-17</td><td>101</td></tr>",
                            "<tr><td>Lagúna Hotel</td><td>2016-12-25</td><td>102</td></tr>",
                            "<tr><td>Lagúna Hotel</td><td>2016-12-27</td><td>103</td></tr>",
                            "<tr><td>Lagúna Hotel</td><td>2017-01-10</td><td>104</td></tr>",
                            "<tr><td>Lagúna Hotel</td><td>2017-01-11</td><td>105</td></tr>",
                            "<tr><td>Lagúna Hotel</td><td>2017-01-16</td><td>106</td></tr>",
                            "<tr><td>Lagúna Hotel</td><td>2017-01-17</td><td>107</td></tr>",
                            "<tr><td>Lagúna Hotel</td><td>2017-01-21</td><td>108</td></tr>",
                            "<tr><td>Lagúna Hotel</td><td>2017-01-22</td><td>109</td></tr>",
                            "<tr><td>Lagúna Hotel</td><td>2017-01-23</td><td>111</td></tr>",
                            "<tr><td>Lagúna Hotel</td><td>2017-01-28</td><td>112</td></tr>",
                            "<tr><td>Lagúna Hotel</td><td>2017-02-03</td><td>113</td></tr>",
                            "<tr><td>Lagúna Hotel</td><td>2017-02-07</td><td>114</td></tr>",
                            "<tr><td>Lagúna Hotel</td><td>2017-02-09</td><td>115</td></tr>",
                            "<tr><td>Lagúna Hotel</td><td>2017-02-16</td><td>117</td></tr>",
                            "<tr><td>Lagúna Hotel</td><td>2017-02-17</td><td>118</td></tr>",
                            "<tr><td>Lagúna Hotel</td><td>2017-02-19</td><td>119</td></tr>",
                            "<tr><td>Lagúna Hotel</td><td>2017-02-21</td><td>120</td></tr>",
                            "<tr><td>Lagúna Hotel</td><td>2017-02-23</td><td>121</td></tr>",
                            "<tr><td>Lagúna Hotel</td><td>2017-02-25</td><td>122</td></tr>",
                            "<tr><td>Lagúna Hotel</td><td>2017-02-27</td><td>123</td></tr>",
                            "<tr><td>Partiszél Vendégház</td><td>2016-04-10</td><td>1</td></tr>",
                            "<tr><td>Partiszél Vendégház</td><td>2016-04-24</td><td>2</td></tr>",
                            "<tr><td>Partiszél Vendégház</td><td>2016-05-09</td><td>3</td></tr>",
                            "<tr><td>Partiszél Vendégház</td><td>2016-05-12</td><td>4</td></tr>",
                            "<tr><td>Partiszél Vendégház</td><td>2016-05-18</td><td>5</td></tr>",
                            "<tr><td>Partiszél Vendégház</td><td>2016-06-06</td><td>7</td></tr>",
                            "<tr><td>Partiszél Vendégház</td><td>2016-06-07</td><td>9</td></tr>",
                            "<tr><td>Partiszél Vendégház</td><td>2016-06-10</td><td>10</td></tr>",
                            "<tr><td>Partiszél Vendégház</td><td>2016-07-04</td><td>11</td></tr>",
                            "<tr><td>Partiszél Vendégház</td><td>2016-07-27</td><td>12</td></tr>",
                            "<tr><td>Partiszél Vendégház</td><td>2016-07-31</td><td>13</td></tr>",
                            "<tr><td>Partiszél Vendégház</td><td>2016-08-16</td><td>14</td></tr>",
                            "<tr><td>Partiszél Vendégház</td><td>2016-09-19</td><td>15</td></tr>",
                            "<tr><td>Partiszél Vendégház</td><td>2016-09-23</td><td>16</td></tr>",
                            "<tr><td>Partiszél Vendégház</td><td>2016-10-01</td><td>17</td></tr>",
                            "<tr><td>Partiszél Vendégház</td><td>2016-10-24</td><td>18</td></tr>",
                            "<tr><td>Partiszél Vendégház</td><td>2016-10-27</td><td>19</td></tr>",
                            "<tr><td>Partiszél Vendégház</td><td>2016-11-08</td><td>20</td></tr>",
                            "<tr><td>Partiszél Vendégház</td><td>2016-11-16</td><td>21</td></tr>",
                            "<tr><td>Partiszél Vendégház</td><td>2016-11-19</td><td>22</td></tr>",
                            "<tr><td>Partiszél Vendégház</td><td>2016-12-26</td><td>23</td></tr>",
                            "<tr><td>Partiszél Vendégház</td><td>2017-02-01</td><td>24</td></tr>",
                            "<tr><td>Partiszél Vendégház</td><td>2017-02-23</td><td>25</td></tr>",
                            "<tr><td>Partiszél Vendégház</td><td>2017-02-25</td><td>26</td></tr>",
                            "<tr><td>Sába-Ház</td><td>2016-04-06</td><td>2</td></tr>",
                            "<tr><td>Sába-Ház</td><td>2016-04-08</td><td>3</td></tr>",
                            "<tr><td>Sába-Ház</td><td>2016-04-10</td><td>4</td></tr>",
                            "<tr><td>Sába-Ház</td><td>2016-04-29</td><td>5</td></tr>",
                            "<tr><td>Sába-Ház</td><td>2016-05-05</td><td>6</td></tr>",
                            "<tr><td>Sába-Ház</td><td>2016-05-09</td><td>7</td></tr>",
                            "<tr><td>Sába-Ház</td><td>2016-05-17</td><td>8</td></tr>",
                            "<tr><td>Sába-Ház</td><td>2016-05-29</td><td>9</td></tr>",
                            "<tr><td>Sába-Ház</td><td>2016-05-30</td><td>11</td></tr>",
                            "<tr><td>Sába-Ház</td><td>2016-06-06</td><td>12</td></tr>",
                            "<tr><td>Sába-Ház</td><td>2016-06-10</td><td>15</td></tr>",
                            "<tr><td>Sába-Ház</td><td>2016-06-11</td><td>16</td></tr>",
                            "<tr><td>Sába-Ház</td><td>2016-06-16</td><td>17</td></tr>",
                            "<tr><td>Sába-Ház</td><td>2016-06-17</td><td>18</td></tr>",
                            "<tr><td>Sába-Ház</td><td>2016-06-27</td><td>19</td></tr>",
                            "<tr><td>Sába-Ház</td><td>2016-07-02</td><td>20</td></tr>",
                            "<tr><td>Sába-Ház</td><td>2016-07-09</td><td>21</td></tr>",
                            "<tr><td>Sába-Ház</td><td>2016-07-13</td><td>22</td></tr>",
                            "<tr><td>Sába-Ház</td><td>2016-07-20</td><td>24</td></tr>",
                            "<tr><td>Sába-Ház</td><td>2016-07-30</td><td>25</td></tr>",
                            "<tr><td>Sába-Ház</td><td>2016-08-06</td><td>26</td></tr>",
                            "<tr><td>Sába-Ház</td><td>2016-08-12</td><td>27</td></tr>",
                            "<tr><td>Sába-Ház</td><td>2016-08-13</td><td>28</td></tr>",
                            "<tr><td>Sába-Ház</td><td>2016-08-16</td><td>30</td></tr>",
                            "<tr><td>Sába-Ház</td><td>2016-08-17</td><td>31</td></tr>",
                            "<tr><td>Sába-Ház</td><td>2016-08-20</td><td>32</td></tr>",
                            "<tr><td>Sába-Ház</td><td>2016-08-24</td><td>33</td></tr>",
                            "<tr><td>Sába-Ház</td><td>2016-08-27</td><td>34</td></tr>",
                            "<tr><td>Sába-Ház</td><td>2016-08-28</td><td>35</td></tr>",
                            "<tr><td>Sába-Ház</td><td>2016-09-05</td><td>36</td></tr>",
                            "<tr><td>Sába-Ház</td><td>2016-09-08</td><td>37</td></tr>",
                            "<tr><td>Sába-Ház</td><td>2016-09-14</td><td>38</td></tr>",
                            "<tr><td>Sába-Ház</td><td>2016-09-19</td><td>39</td></tr>",
                            "<tr><td>Sába-Ház</td><td>2016-09-21</td><td>40</td></tr>",
                            "<tr><td>Sába-Ház</td><td>2016-10-01</td><td>42</td></tr>",
                            "<tr><td>Sába-Ház</td><td>2016-10-05</td><td>43</td></tr>",
                            "<tr><td>Sába-Ház</td><td>2016-10-07</td><td>44</td></tr>",
                            "<tr><td>Sába-Ház</td><td>2016-10-08</td><td>46</td></tr>",
                            "<tr><td>Sába-Ház</td><td>2016-10-09</td><td>48</td></tr>",
                            "<tr><td>Sába-Ház</td><td>2016-10-14</td><td>49</td></tr>",
                            "<tr><td>Sába-Ház</td><td>2016-10-15</td><td>51</td></tr>",
                            "<tr><td>Sába-Ház</td><td>2016-10-18</td><td>52</td></tr>",
                            "<tr><td>Sába-Ház</td><td>2016-10-21</td><td>53</td></tr>",
                            "<tr><td>Sába-Ház</td><td>2016-10-23</td><td>54</td></tr>",
                            "<tr><td>Sába-Ház</td><td>2016-10-30</td><td>55</td></tr>",
                            "<tr><td>Sába-Ház</td><td>2016-11-01</td><td>56</td></tr>",
                            "<tr><td>Sába-Ház</td><td>2016-11-05</td><td>57</td></tr>",
                            "<tr><td>Sába-Ház</td><td>2016-11-07</td><td>59</td></tr>",
                            "<tr><td>Sába-Ház</td><td>2016-11-11</td><td>60</td></tr>",
                            "<tr><td>Sába-Ház</td><td>2016-11-23</td><td>61</td></tr>",
                            "<tr><td>Sába-Ház</td><td>2016-11-25</td><td>62</td></tr>",
                            "<tr><td>Sába-Ház</td><td>2016-12-01</td><td>63</td></tr>",
                            "<tr><td>Sába-Ház</td><td>2017-01-06</td><td>64</td></tr>",
                            "<tr><td>Sába-Ház</td><td>2017-01-09</td><td>65</td></tr>",
                            "<tr><td>Sába-Ház</td><td>2017-01-12</td><td>66</td></tr>",
                            "<tr><td>Sába-Ház</td><td>2017-02-03</td><td>67</td></tr>",
                            "<tr><td>Sába-Ház</td><td>2017-02-12</td><td>68</td></tr>",
                            "<tr><td>Sába-Ház</td><td>2017-02-16</td><td>70</td></tr>",
                            "<tr><td>Szieszta Apartmanház</td><td>2016-04-06</td><td>1</td></tr>",
                            "<tr><td>Szieszta Apartmanház</td><td>2016-05-15</td><td>2</td></tr>",
                            "<tr><td>Szieszta Apartmanház</td><td>2016-05-26</td><td>3</td></tr>",
                            "<tr><td>Szieszta Apartmanház</td><td>2016-05-28</td><td>4</td></tr>",
                            "<tr><td>Szieszta Apartmanház</td><td>2016-07-28</td><td>5</td></tr>",
                            "<tr><td>Szieszta Apartmanház</td><td>2016-08-05</td><td>6</td></tr>",
                            "<tr><td>Szieszta Apartmanház</td><td>2016-08-24</td><td>7</td></tr>",
                            "<tr><td>Szieszta Apartmanház</td><td>2016-09-02</td><td>8</td></tr>",
                            "<tr><td>Szieszta Apartmanház</td><td>2016-09-08</td><td>9</td></tr>",
                            "<tr><td>Szieszta Apartmanház</td><td>2016-09-16</td><td>10</td></tr>",
                            "<tr><td>Szieszta Apartmanház</td><td>2016-09-17</td><td>11</td></tr>",
                            "<tr><td>Szieszta Apartmanház</td><td>2016-09-24</td><td>12</td></tr>",
                            "<tr><td>Szieszta Apartmanház</td><td>2016-10-01</td><td>15</td></tr>",
                            "<tr><td>Szieszta Apartmanház</td><td>2016-10-21</td><td>16</td></tr>",
                            "<tr><td>Szieszta Apartmanház</td><td>2016-10-24</td><td>17</td></tr>",
                            "<tr><td>Szieszta Apartmanház</td><td>2016-10-26</td><td>18</td></tr>",
                            "<tr><td>Szieszta Apartmanház</td><td>2016-11-05</td><td>19</td></tr>",
                            "<tr><td>Szieszta Apartmanház</td><td>2016-11-09</td><td>20</td></tr>",
                            "<tr><td>Szieszta Apartmanház</td><td>2016-11-10</td><td>21</td></tr>",
                            "<tr><td>Szieszta Apartmanház</td><td>2016-11-21</td><td>23</td></tr>",
                            "<tr><td>Szieszta Apartmanház</td><td>2016-11-25</td><td>24</td></tr>",
                            "<tr><td>Szieszta Apartmanház</td><td>2016-12-06</td><td>25</td></tr>",
                            "<tr><td>Szieszta Apartmanház</td><td>2016-12-12</td><td>26</td></tr>",
                            "<tr><td>Szieszta Apartmanház</td><td>2016-12-26</td><td>27</td></tr>",
                            "<tr><td>Szieszta Apartmanház</td><td>2016-12-29</td><td>28</td></tr>",
                            "<tr><td>Szieszta Apartmanház</td><td>2017-01-17</td><td>29</td></tr>",
                            "<tr><td>Szieszta Apartmanház</td><td>2017-01-19</td><td>30</td></tr>",
                            "<tr><td>Szieszta Apartmanház</td><td>2017-02-09</td><td>31</td></tr>",
                            "<tr><td>Szieszta Apartmanház</td><td>2017-02-12</td><td>32</td></tr>",
                            "<tr><td>Szieszta Apartmanház</td><td>2017-02-18</td><td>33</td></tr>",
                            "<tr><td>Szieszta Apartmanház</td><td>2017-02-26</td><td>34</td></tr>",
                            "</table>"
                        ]
                    }
                }
            ],
            "execution_count": 14
        },
        {
            "cell_type": "code",
            "source": [
                "select IIF(YEAR(SZUL_DAT) is null, 'Végösszeg', CAST(year(SZUL_DAT) as nvarchar(4))), count(*)\r\n",
                "from Vendeg\r\n",
                "where YEAR(SZUL_DAT)%2!=0\r\n",
                "GROUP BY ROLLUP (YEAR(SZUL_DAT))"
            ],
            "metadata": {
                "azdata_cell_guid": "fc08f5db-d0a5-4c39-8f76-251fd4bf8ecb",
                "language": "sql",
                "tags": []
            },
            "outputs": [
                {
                    "output_type": "display_data",
                    "data": {
                        "text/html": "(17 rows affected)"
                    },
                    "metadata": {}
                },
                {
                    "output_type": "display_data",
                    "data": {
                        "text/html": "Total execution time: 00:00:00.018"
                    },
                    "metadata": {}
                },
                {
                    "output_type": "execute_result",
                    "metadata": {},
                    "execution_count": 20,
                    "data": {
                        "application/vnd.dataresource+json": {
                            "schema": {
                                "fields": [
                                    {
                                        "name": "(No column name)"
                                    },
                                    {
                                        "name": "(No column name)"
                                    }
                                ]
                            },
                            "data": [
                                {
                                    "(No column name)": "8"
                                },
                                {
                                    "(No column name)": "8"
                                },
                                {
                                    "(No column name)": "5"
                                },
                                {
                                    "(No column name)": "4"
                                },
                                {
                                    "(No column name)": "10"
                                },
                                {
                                    "(No column name)": "5"
                                },
                                {
                                    "(No column name)": "7"
                                },
                                {
                                    "(No column name)": "4"
                                },
                                {
                                    "(No column name)": "8"
                                },
                                {
                                    "(No column name)": "6"
                                },
                                {
                                    "(No column name)": "5"
                                },
                                {
                                    "(No column name)": "7"
                                },
                                {
                                    "(No column name)": "6"
                                },
                                {
                                    "(No column name)": "5"
                                },
                                {
                                    "(No column name)": "6"
                                },
                                {
                                    "(No column name)": "12"
                                },
                                {
                                    "(No column name)": "106"
                                }
                            ]
                        },
                        "text/html": [
                            "<table>",
                            "<tr><th>(No column name)</th><th>(No column name)</th></tr>",
                            "<tr><td>1967</td><td>8</td></tr>",
                            "<tr><td>1969</td><td>8</td></tr>",
                            "<tr><td>1971</td><td>5</td></tr>",
                            "<tr><td>1973</td><td>4</td></tr>",
                            "<tr><td>1975</td><td>10</td></tr>",
                            "<tr><td>1977</td><td>5</td></tr>",
                            "<tr><td>1979</td><td>7</td></tr>",
                            "<tr><td>1981</td><td>4</td></tr>",
                            "<tr><td>1983</td><td>8</td></tr>",
                            "<tr><td>1985</td><td>6</td></tr>",
                            "<tr><td>1987</td><td>5</td></tr>",
                            "<tr><td>1989</td><td>7</td></tr>",
                            "<tr><td>1991</td><td>6</td></tr>",
                            "<tr><td>1993</td><td>5</td></tr>",
                            "<tr><td>1995</td><td>6</td></tr>",
                            "<tr><td>1997</td><td>12</td></tr>",
                            "<tr><td>Végösszeg</td><td>106</td></tr>",
                            "</table>"
                        ]
                    }
                }
            ],
            "execution_count": 20
        },
        {
            "cell_type": "code",
            "source": [
                "create table #anonim_foglalas\r\n",
                "(\r\n",
                "    foglalas_pk int PRIMARY KEY,\r\n",
                "    ugyfel_fk NVARCHAR(20) MASKED WITH (FUNCTION ='partial(1,\"XXXX\",1)'),\r\n",
                "    szoba_fk int MASKED with (FUNCTION='random(1,1000)'),\r\n",
                "    mettol DATE,\r\n",
                "    felnott_szam INT,\r\n",
                "    gyermek_szam INT\r\n",
                ")"
            ],
            "metadata": {
                "azdata_cell_guid": "c9c5aba6-1811-485c-b565-d5ef8b92ee97",
                "language": "sql"
            },
            "outputs": [
                {
                    "output_type": "display_data",
                    "data": {
                        "text/html": "Commands completed successfully."
                    },
                    "metadata": {}
                },
                {
                    "output_type": "display_data",
                    "data": {
                        "text/html": "Total execution time: 00:00:00.014"
                    },
                    "metadata": {}
                }
            ],
            "execution_count": 23
        }
    ]
}