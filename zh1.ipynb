{
    "metadata": {
        "kernelspec": {
            "name": "SQL",
            "display_name": "SQL",
            "language": "sql"
        },
        "language_info": {
            "name": "sql",
            "version": ""
        }
    },
    "nbformat_minor": 2,
    "nbformat": 4,
    "cells": [
        {
            "cell_type": "code",
            "source": [
                "SELECT NEV, EMAIL\r\n",
                "FROM VENDEG\r\n",
                "WHERE YEAR(SZUL_DAT) BETWEEN 1995 AND 1999\r\n",
                "ORDER BY MONTH(SZUL_DAT) ASC"
            ],
            "metadata": {
                "azdata_cell_guid": "23f1ea4d-5acc-4365-a48e-e8d6ca8f8eb2",
                "language": "sql"
            },
            "outputs": [
                {
                    "output_type": "display_data",
                    "data": {
                        "text/html": "(26 rows affected)"
                    },
                    "metadata": {}
                },
                {
                    "output_type": "display_data",
                    "data": {
                        "text/html": "Total execution time: 00:00:00.047"
                    },
                    "metadata": {}
                },
                {
                    "output_type": "execute_result",
                    "metadata": {},
                    "execution_count": 1,
                    "data": {
                        "application/vnd.dataresource+json": {
                            "schema": {
                                "fields": [
                                    {
                                        "name": "NEV"
                                    },
                                    {
                                        "name": "EMAIL"
                                    }
                                ]
                            },
                            "data": [
                                {
                                    "NEV": "Balogh Eszter",
                                    "EMAIL": "eszter.balogh@mail.hu"
                                },
                                {
                                    "NEV": "Kispál Márk",
                                    "EMAIL": "márk.kispál@mail.hu"
                                },
                                {
                                    "NEV": "Papós Tímea",
                                    "EMAIL": "timea@gmail.com"
                                },
                                {
                                    "NEV": "Koza Máté",
                                    "EMAIL": "máté.koza@mail.hu"
                                },
                                {
                                    "NEV": "Nagymihály Lajos",
                                    "EMAIL": "lajos.nagymihály@mail.hu"
                                },
                                {
                                    "NEV": "Farkas Béla",
                                    "EMAIL": "BELAF@gmail.com"
                                },
                                {
                                    "NEV": "Horváth Bálint",
                                    "EMAIL": "balint@gmail.com"
                                },
                                {
                                    "NEV": "Erdei András",
                                    "EMAIL": "ANDRASE@gmail.com"
                                },
                                {
                                    "NEV": "Szomor Andrea",
                                    "EMAIL": "andrea3@gmail.com"
                                },
                                {
                                    "NEV": "Opra Attila",
                                    "EMAIL": "ATTILAO@gmail.com"
                                },
                                {
                                    "NEV": "Sarodi Dóra",
                                    "EMAIL": "dóra.sarodi@mail.hu"
                                },
                                {
                                    "NEV": "Urbán Viktoria",
                                    "EMAIL": "viktoria.urbán@mail.hu"
                                },
                                {
                                    "NEV": "Zatykó Katalin",
                                    "EMAIL": "katalin.zatykó@mail.hu"
                                },
                                {
                                    "NEV": "Nagy Sándor",
                                    "EMAIL": "sandor4@gmail.com"
                                },
                                {
                                    "NEV": "Hídasi Judit",
                                    "EMAIL": "JUDITH@gmail.com"
                                },
                                {
                                    "NEV": "Frank Fruzsina",
                                    "EMAIL": "fruzsina4@gmail.com"
                                },
                                {
                                    "NEV": "Kovács Bernadett",
                                    "EMAIL": "bernadett.kovács@mail.hu"
                                },
                                {
                                    "NEV": "Vukasinovity Bálint",
                                    "EMAIL": "balint2@gmail.com"
                                },
                                {
                                    "NEV": "Horváth Márk",
                                    "EMAIL": "márk.horváth@mail.hu"
                                },
                                {
                                    "NEV": "Tóth András",
                                    "EMAIL": "andrás.tóth@mail.hu"
                                },
                                {
                                    "NEV": "Komjáti András",
                                    "EMAIL": "andras41@gmail.com"
                                },
                                {
                                    "NEV": "Gondos Miklós",
                                    "EMAIL": "miklos2@gmail.com"
                                },
                                {
                                    "NEV": "Tatár Nikoletta",
                                    "EMAIL": "nikoletta.tatár@mail.hu"
                                },
                                {
                                    "NEV": "Fényes Tamás",
                                    "EMAIL": "TAMASF@gmail.com"
                                },
                                {
                                    "NEV": "Baráth Mária",
                                    "EMAIL": "mária.baráth@mail.hu"
                                },
                                {
                                    "NEV": "Vizi István",
                                    "EMAIL": "istván.vizi@mail.hu"
                                }
                            ]
                        },
                        "text/html": [
                            "<table>",
                            "<tr><th>NEV</th><th>EMAIL</th></tr>",
                            "<tr><td>Balogh Eszter</td><td>eszter.balogh@mail.hu</td></tr>",
                            "<tr><td>Kispál Márk</td><td>márk.kispál@mail.hu</td></tr>",
                            "<tr><td>Papós Tímea</td><td>timea@gmail.com</td></tr>",
                            "<tr><td>Koza Máté</td><td>máté.koza@mail.hu</td></tr>",
                            "<tr><td>Nagymihály Lajos</td><td>lajos.nagymihály@mail.hu</td></tr>",
                            "<tr><td>Farkas Béla</td><td>BELAF@gmail.com</td></tr>",
                            "<tr><td>Horváth Bálint</td><td>balint@gmail.com</td></tr>",
                            "<tr><td>Erdei András</td><td>ANDRASE@gmail.com</td></tr>",
                            "<tr><td>Szomor Andrea</td><td>andrea3@gmail.com</td></tr>",
                            "<tr><td>Opra Attila</td><td>ATTILAO@gmail.com</td></tr>",
                            "<tr><td>Sarodi Dóra</td><td>dóra.sarodi@mail.hu</td></tr>",
                            "<tr><td>Urbán Viktoria</td><td>viktoria.urbán@mail.hu</td></tr>",
                            "<tr><td>Zatykó Katalin</td><td>katalin.zatykó@mail.hu</td></tr>",
                            "<tr><td>Nagy Sándor</td><td>sandor4@gmail.com</td></tr>",
                            "<tr><td>Hídasi Judit</td><td>JUDITH@gmail.com</td></tr>",
                            "<tr><td>Frank Fruzsina</td><td>fruzsina4@gmail.com</td></tr>",
                            "<tr><td>Kovács Bernadett</td><td>bernadett.kovács@mail.hu</td></tr>",
                            "<tr><td>Vukasinovity Bálint</td><td>balint2@gmail.com</td></tr>",
                            "<tr><td>Horváth Márk</td><td>márk.horváth@mail.hu</td></tr>",
                            "<tr><td>Tóth András</td><td>andrás.tóth@mail.hu</td></tr>",
                            "<tr><td>Komjáti András</td><td>andras41@gmail.com</td></tr>",
                            "<tr><td>Gondos Miklós</td><td>miklos2@gmail.com</td></tr>",
                            "<tr><td>Tatár Nikoletta</td><td>nikoletta.tatár@mail.hu</td></tr>",
                            "<tr><td>Fényes Tamás</td><td>TAMASF@gmail.com</td></tr>",
                            "<tr><td>Baráth Mária</td><td>mária.baráth@mail.hu</td></tr>",
                            "<tr><td>Vizi István</td><td>istván.vizi@mail.hu</td></tr>",
                            "</table>"
                        ]
                    }
                }
            ],
            "execution_count": 1
        },
        {
            "cell_type": "code",
            "source": [
                "SELECT szh.SZALLAS_NEV, COUNT(sz.KLIMAS)\r\n",
                "from szallashely szh JOIN Szoba sz on szh.SZALLAS_ID=sz.SZALLAS_FK\r\n",
                "WHERE sz.KLIMAS = 'i'\r\n",
                "GROUP BY szh.SZALLAS_NEV"
            ],
            "metadata": {
                "language": "sql",
                "azdata_cell_guid": "388df796-56f7-45a2-8a61-21db032bd8f2",
                "tags": []
            },
            "outputs": [
                {
                    "output_type": "display_data",
                    "data": {
                        "text/html": "(17 rows affected)"
                    },
                    "metadata": {}
                },
                {
                    "output_type": "display_data",
                    "data": {
                        "text/html": "Total execution time: 00:00:00.016"
                    },
                    "metadata": {}
                },
                {
                    "output_type": "execute_result",
                    "metadata": {},
                    "execution_count": 3,
                    "data": {
                        "application/vnd.dataresource+json": {
                            "schema": {
                                "fields": [
                                    {
                                        "name": "SZALLAS_NEV"
                                    },
                                    {
                                        "name": "(No column name)"
                                    }
                                ]
                            },
                            "data": [
                                {
                                    "SZALLAS_NEV": "Bagoly Hotel",
                                    "(No column name)": "14"
                                },
                                {
                                    "SZALLAS_NEV": "Családi Ház",
                                    "(No column name)": "4"
                                },
                                {
                                    "SZALLAS_NEV": "Fortuna Apartman",
                                    "(No column name)": "7"
                                },
                                {
                                    "SZALLAS_NEV": "Fortuna panzió",
                                    "(No column name)": "20"
                                },
                                {
                                    "SZALLAS_NEV": "Gold Hotel",
                                    "(No column name)": "42"
                                },
                                {
                                    "SZALLAS_NEV": "Hotel Három Hattyú",
                                    "(No column name)": "28"
                                },
                                {
                                    "SZALLAS_NEV": "Jáde panzió",
                                    "(No column name)": "2"
                                },
                                {
                                    "SZALLAS_NEV": "Kentaur Hotel",
                                    "(No column name)": "22"
                                },
                                {
                                    "SZALLAS_NEV": "Kollégium",
                                    "(No column name)": "9"
                                },
                                {
                                    "SZALLAS_NEV": "Lagúna Hotel",
                                    "(No column name)": "15"
                                },
                                {
                                    "SZALLAS_NEV": "Nyárfás Vendégház",
                                    "(No column name)": "6"
                                },
                                {
                                    "SZALLAS_NEV": "Partiszél Vendégház",
                                    "(No column name)": "4"
                                },
                                {
                                    "SZALLAS_NEV": "Riviéra Panzió",
                                    "(No column name)": "8"
                                },
                                {
                                    "SZALLAS_NEV": "Sába-Ház",
                                    "(No column name)": "10"
                                },
                                {
                                    "SZALLAS_NEV": "Szarvas Hotel",
                                    "(No column name)": "11"
                                },
                                {
                                    "SZALLAS_NEV": "Szieszta Apartmanház",
                                    "(No column name)": "4"
                                },
                                {
                                    "SZALLAS_NEV": "Tímárház Panzió",
                                    "(No column name)": "9"
                                }
                            ]
                        },
                        "text/html": [
                            "<table>",
                            "<tr><th>SZALLAS_NEV</th><th>(No column name)</th></tr>",
                            "<tr><td>Bagoly Hotel</td><td>14</td></tr>",
                            "<tr><td>Családi Ház</td><td>4</td></tr>",
                            "<tr><td>Fortuna Apartman</td><td>7</td></tr>",
                            "<tr><td>Fortuna panzió</td><td>20</td></tr>",
                            "<tr><td>Gold Hotel</td><td>42</td></tr>",
                            "<tr><td>Hotel Három Hattyú</td><td>28</td></tr>",
                            "<tr><td>Jáde panzió</td><td>2</td></tr>",
                            "<tr><td>Kentaur Hotel</td><td>22</td></tr>",
                            "<tr><td>Kollégium</td><td>9</td></tr>",
                            "<tr><td>Lagúna Hotel</td><td>15</td></tr>",
                            "<tr><td>Nyárfás Vendégház</td><td>6</td></tr>",
                            "<tr><td>Partiszél Vendégház</td><td>4</td></tr>",
                            "<tr><td>Riviéra Panzió</td><td>8</td></tr>",
                            "<tr><td>Sába-Ház</td><td>10</td></tr>",
                            "<tr><td>Szarvas Hotel</td><td>11</td></tr>",
                            "<tr><td>Szieszta Apartmanház</td><td>4</td></tr>",
                            "<tr><td>Tímárház Panzió</td><td>9</td></tr>",
                            "</table>"
                        ]
                    }
                }
            ],
            "execution_count": 3
        },
        {
            "cell_type": "code",
            "source": [
                "SELECT case when YEAR(v.SZUL_DAT)>=1985 then 'fiatal'\r\n",
                "             when YEAR(v.SZUL_DAT)<1970 then 'idős'\r\n",
                "             else 'középkorú'\r\n",
                "        END as 'kategória',\r\n",
                "        f.FOGLALAS_PK\r\n",
                "FROM Foglalas f JOIN  Vendeg v on f.UGYFEL_FK=v.USERNEV\r\n",
                "GROUP BY case when YEAR(v.SZUL_DAT)>=1985 then 'fiatal'\r\n",
                "             when YEAR(v.SZUL_DAT)<1970 then 'idős'\r\n",
                "             else 'középkorú'\r\n",
                "         END,\r\n",
                "         f.FOGLALAS_PK,\r\n",
                "         f.FELNOTT_SZAM,\r\n",
                "         f.GYERMEK_SZAM\r\n",
                "HAVING f.FELNOTT_SZAM + f.GYERMEK_SZAM>=2\r\n",
                "\r\n",
                ""
            ],
            "metadata": {
                "language": "sql",
                "azdata_cell_guid": "940e3cfe-0c7c-48ca-8113-f0434327f4b0"
            },
            "outputs": [
                {
                    "output_type": "display_data",
                    "data": {
                        "text/html": "(880 rows affected)"
                    },
                    "metadata": {}
                },
                {
                    "output_type": "display_data",
                    "data": {
                        "text/html": "Total execution time: 00:00:00.044"
                    },
                    "metadata": {}
                },
                {
                    "output_type": "execute_result",
                    "metadata": {},
                    "execution_count": 8,
                    "data": {
                        "application/vnd.dataresource+json": {
                            "schema": {
                                "fields": [
                                    {
                                        "name": "kategória"
                                    },
                                    {
                                        "name": "FOGLALAS_PK"
                                    }
                                ]
                            },
                            "data": [
                                {
                                    "kategória": "fiatal",
                                    "FOGLALAS_PK": "869"
                                },
                                {
                                    "kategória": "fiatal",
                                    "FOGLALAS_PK": "1165"
                                },
                                {
                                    "kategória": "középkorú",
                                    "FOGLALAS_PK": "1046"
                                },
                                {
                                    "kategória": "középkorú",
                                    "FOGLALAS_PK": "1205"
                                },
                                {
                                    "kategória": "középkorú",
                                    "FOGLALAS_PK": "829"
                                },
                                {
                                    "kategória": "középkorú",
                                    "FOGLALAS_PK": "1281"
                                },
                                {
                                    "kategória": "középkorú",
                                    "FOGLALAS_PK": "1347"
                                },
                                {
                                    "kategória": "középkorú",
                                    "FOGLALAS_PK": "1435"
                                },
                                {
                                    "kategória": "középkorú",
                                    "FOGLALAS_PK": "1561"
                                },
                                {
                                    "kategória": "középkorú",
                                    "FOGLALAS_PK": "1261"
                                },
                                {
                                    "kategória": "középkorú",
                                    "FOGLALAS_PK": "738"
                                },
                                {
                                    "kategória": "középkorú",
                                    "FOGLALAS_PK": "628"
                                },
                                {
                                    "kategória": "középkorú",
                                    "FOGLALAS_PK": "666"
                                },
                                {
                                    "kategória": "idős",
                                    "FOGLALAS_PK": "1180"
                                },
                                {
                                    "kategória": "idős",
                                    "FOGLALAS_PK": "1544"
                                },
                                {
                                    "kategória": "középkorú",
                                    "FOGLALAS_PK": "1441"
                                },
                                {
                                    "kategória": "középkorú",
                                    "FOGLALAS_PK": "1417"
                                },
                                {
                                    "kategória": "középkorú",
                                    "FOGLALAS_PK": "606"
                                },
                                {
                                    "kategória": "középkorú",
                                    "FOGLALAS_PK": "571"
                                },
                                {
                                    "kategória": "fiatal",
                                    "FOGLALAS_PK": "736"
                                },
                                {
                                    "kategória": "fiatal",
                                    "FOGLALAS_PK": "1162"
                                },
                                {
                                    "kategória": "fiatal",
                                    "FOGLALAS_PK": "1371"
                                },
                                {
                                    "kategória": "középkorú",
                                    "FOGLALAS_PK": "1364"
                                },
                                {
                                    "kategória": "középkorú",
                                    "FOGLALAS_PK": "1299"
                                },
                                {
                                    "kategória": "középkorú",
                                    "FOGLALAS_PK": "1406"
                                },
                                {
                                    "kategória": "középkorú",
                                    "FOGLALAS_PK": "1164"
                                },
                                {
                                    "kategória": "középkorú",
                                    "FOGLALAS_PK": "1122"
                                },
                                {
                                    "kategória": "középkorú",
                                    "FOGLALAS_PK": "673"
                                },
                                {
                                    "kategória": "középkorú",
                                    "FOGLALAS_PK": "676"
                                },
                                {
                                    "kategória": "középkorú",
                                    "FOGLALAS_PK": "655"
                                },
                                {
                                    "kategória": "középkorú",
                                    "FOGLALAS_PK": "1302"
                                },
                                {
                                    "kategória": "fiatal",
                                    "FOGLALAS_PK": "1332"
                                },
                                {
                                    "kategória": "fiatal",
                                    "FOGLALAS_PK": "1457"
                                },
                                {
                                    "kategória": "fiatal",
                                    "FOGLALAS_PK": "658"
                                },
                                {
                                    "kategória": "fiatal",
                                    "FOGLALAS_PK": "727"
                                },
                                {
                                    "kategória": "fiatal",
                                    "FOGLALAS_PK": "1175"
                                },
                                {
                                    "kategória": "fiatal",
                                    "FOGLALAS_PK": "937"
                                },
                                {
                                    "kategória": "idős",
                                    "FOGLALAS_PK": "1049"
                                },
                                {
                                    "kategória": "idős",
                                    "FOGLALAS_PK": "624"
                                },
                                {
                                    "kategória": "idős",
                                    "FOGLALAS_PK": "1437"
                                },
                                {
                                    "kategória": "idős",
                                    "FOGLALAS_PK": "1286"
                                },
                                {
                                    "kategória": "fiatal",
                                    "FOGLALAS_PK": "1511"
                                },
                                {
                                    "kategória": "fiatal",
                                    "FOGLALAS_PK": "693"
                                },
                                {
                                    "kategória": "fiatal",
                                    "FOGLALAS_PK": "1126"
                                },
                                {
                                    "kategória": "fiatal",
                                    "FOGLALAS_PK": "1092"
                                },
                                {
                                    "kategória": "középkorú",
                                    "FOGLALAS_PK": "1101"
                                },
                                {
                                    "kategória": "középkorú",
                                    "FOGLALAS_PK": "1121"
                                },
                                {
                                    "kategória": "középkorú",
                                    "FOGLALAS_PK": "1009"
                                },
                                {
                                    "kategória": "középkorú",
                                    "FOGLALAS_PK": "975"
                                },
                                {
                                    "kategória": "középkorú",
                                    "FOGLALAS_PK": "1478"
                                },
                                {
                                    "kategória": "középkorú",
                                    "FOGLALAS_PK": "1310"
                                },
                                {
                                    "kategória": "középkorú",
                                    "FOGLALAS_PK": "1328"
                                },
                                {
                                    "kategória": "középkorú",
                                    "FOGLALAS_PK": "1489"
                                },
                                {
                                    "kategória": "középkorú",
                                    "FOGLALAS_PK": "701"
                                },
                                {
                                    "kategória": "középkorú",
                                    "FOGLALAS_PK": "674"
                                },
                                {
                                    "kategória": "középkorú",
                                    "FOGLALAS_PK": "611"
                                },
                                {
                                    "kategória": "középkorú",
                                    "FOGLALAS_PK": "837"
                                },
                                {
                                    "kategória": "középkorú",
                                    "FOGLALAS_PK": "1059"
                                },
                                {
                                    "kategória": "középkorú",
                                    "FOGLALAS_PK": "1427"
                                },
                                {
                                    "kategória": "középkorú",
                                    "FOGLALAS_PK": "1317"
                                },
                                {
                                    "kategória": "fiatal",
                                    "FOGLALAS_PK": "1298"
                                },
                                {
                                    "kategória": "fiatal",
                                    "FOGLALAS_PK": "983"
                                },
                                {
                                    "kategória": "fiatal",
                                    "FOGLALAS_PK": "927"
                                },
                                {
                                    "kategória": "fiatal",
                                    "FOGLALAS_PK": "1142"
                                },
                                {
                                    "kategória": "fiatal",
                                    "FOGLALAS_PK": "1094"
                                },
                                {
                                    "kategória": "fiatal",
                                    "FOGLALAS_PK": "1153"
                                },
                                {
                                    "kategória": "fiatal",
                                    "FOGLALAS_PK": "731"
                                },
                                {
                                    "kategória": "fiatal",
                                    "FOGLALAS_PK": "796"
                                },
                                {
                                    "kategória": "fiatal",
                                    "FOGLALAS_PK": "662"
                                },
                                {
                                    "kategória": "fiatal",
                                    "FOGLALAS_PK": "643"
                                },
                                {
                                    "kategória": "fiatal",
                                    "FOGLALAS_PK": "786"
                                },
                                {
                                    "kategória": "fiatal",
                                    "FOGLALAS_PK": "1014"
                                },
                                {
                                    "kategória": "fiatal",
                                    "FOGLALAS_PK": "1330"
                                },
                                {
                                    "kategória": "fiatal",
                                    "FOGLALAS_PK": "1297"
                                },
                                {
                                    "kategória": "középkorú",
                                    "FOGLALAS_PK": "1319"
                                },
                                {
                                    "kategória": "fiatal",
                                    "FOGLALAS_PK": "1514"
                                },
                                {
                                    "kategória": "fiatal",
                                    "FOGLALAS_PK": "1173"
                                },
                                {
                                    "kategória": "fiatal",
                                    "FOGLALAS_PK": "722"
                                },
                                {
                                    "kategória": "fiatal",
                                    "FOGLALAS_PK": "744"
                                },
                                {
                                    "kategória": "fiatal",
                                    "FOGLALAS_PK": "826"
                                },
                                {
                                    "kategória": "fiatal",
                                    "FOGLALAS_PK": "809"
                                },
                                {
                                    "kategória": "fiatal",
                                    "FOGLALAS_PK": "1295"
                                },
                                {
                                    "kategória": "középkorú",
                                    "FOGLALAS_PK": "1232"
                                },
                                {
                                    "kategória": "középkorú",
                                    "FOGLALAS_PK": "1464"
                                },
                                {
                                    "kategória": "középkorú",
                                    "FOGLALAS_PK": "1047"
                                },
                                {
                                    "kategória": "fiatal",
                                    "FOGLALAS_PK": "1053"
                                },
                                {
                                    "kategória": "fiatal",
                                    "FOGLALAS_PK": "1128"
                                },
                                {
                                    "kategória": "fiatal",
                                    "FOGLALAS_PK": "725"
                                },
                                {
                                    "kategória": "idős",
                                    "FOGLALAS_PK": "793"
                                },
                                {
                                    "kategória": "idős",
                                    "FOGLALAS_PK": "780"
                                },
                                {
                                    "kategória": "idős",
                                    "FOGLALAS_PK": "607"
                                },
                                {
                                    "kategória": "idős",
                                    "FOGLALAS_PK": "578"
                                },
                                {
                                    "kategória": "idős",
                                    "FOGLALAS_PK": "581"
                                },
                                {
                                    "kategória": "idős",
                                    "FOGLALAS_PK": "1149"
                                },
                                {
                                    "kategória": "középkorú",
                                    "FOGLALAS_PK": "986"
                                },
                                {
                                    "kategória": "középkorú",
                                    "FOGLALAS_PK": "1519"
                                },
                                {
                                    "kategória": "középkorú",
                                    "FOGLALAS_PK": "1560"
                                },
                                {
                                    "kategória": "középkorú",
                                    "FOGLALAS_PK": "1031"
                                },
                                {
                                    "kategória": "középkorú",
                                    "FOGLALAS_PK": "1158"
                                },
                                {
                                    "kategória": "középkorú",
                                    "FOGLALAS_PK": "704"
                                },
                                {
                                    "kategória": "fiatal",
                                    "FOGLALAS_PK": "679"
                                },
                                {
                                    "kategória": "fiatal",
                                    "FOGLALAS_PK": "590"
                                },
                                {
                                    "kategória": "fiatal",
                                    "FOGLALAS_PK": "827"
                                },
                                {
                                    "kategória": "fiatal",
                                    "FOGLALAS_PK": "855"
                                },
                                {
                                    "kategória": "fiatal",
                                    "FOGLALAS_PK": "1216"
                                },
                                {
                                    "kategória": "fiatal",
                                    "FOGLALAS_PK": "1132"
                                },
                                {
                                    "kategória": "fiatal",
                                    "FOGLALAS_PK": "988"
                                },
                                {
                                    "kategória": "fiatal",
                                    "FOGLALAS_PK": "1271"
                                },
                                {
                                    "kategória": "középkorú",
                                    "FOGLALAS_PK": "1551"
                                },
                                {
                                    "kategória": "középkorú",
                                    "FOGLALAS_PK": "1553"
                                },
                                {
                                    "kategória": "középkorú",
                                    "FOGLALAS_PK": "1113"
                                },
                                {
                                    "kategória": "középkorú",
                                    "FOGLALAS_PK": "1085"
                                },
                                {
                                    "kategória": "fiatal",
                                    "FOGLALAS_PK": "921"
                                },
                                {
                                    "kategória": "fiatal",
                                    "FOGLALAS_PK": "1483"
                                },
                                {
                                    "kategória": "középkorú",
                                    "FOGLALAS_PK": "1539"
                                },
                                {
                                    "kategória": "középkorú",
                                    "FOGLALAS_PK": "1432"
                                },
                                {
                                    "kategória": "középkorú",
                                    "FOGLALAS_PK": "1274"
                                },
                                {
                                    "kategória": "középkorú",
                                    "FOGLALAS_PK": "936"
                                },
                                {
                                    "kategória": "középkorú",
                                    "FOGLALAS_PK": "1075"
                                },
                                {
                                    "kategória": "középkorú",
                                    "FOGLALAS_PK": "1182"
                                },
                                {
                                    "kategória": "középkorú",
                                    "FOGLALAS_PK": "1007"
                                },
                                {
                                    "kategória": "középkorú",
                                    "FOGLALAS_PK": "576"
                                },
                                {
                                    "kategória": "középkorú",
                                    "FOGLALAS_PK": "1249"
                                },
                                {
                                    "kategória": "középkorú",
                                    "FOGLALAS_PK": "1453"
                                },
                                {
                                    "kategória": "középkorú",
                                    "FOGLALAS_PK": "1573"
                                },
                                {
                                    "kategória": "fiatal",
                                    "FOGLALAS_PK": "1558"
                                },
                                {
                                    "kategória": "fiatal",
                                    "FOGLALAS_PK": "1412"
                                },
                                {
                                    "kategória": "fiatal",
                                    "FOGLALAS_PK": "1485"
                                },
                                {
                                    "kategória": "fiatal",
                                    "FOGLALAS_PK": "1248"
                                },
                                {
                                    "kategória": "fiatal",
                                    "FOGLALAS_PK": "1240"
                                },
                                {
                                    "kategória": "fiatal",
                                    "FOGLALAS_PK": "1353"
                                },
                                {
                                    "kategória": "fiatal",
                                    "FOGLALAS_PK": "559"
                                },
                                {
                                    "kategória": "fiatal",
                                    "FOGLALAS_PK": "645"
                                },
                                {
                                    "kategória": "fiatal",
                                    "FOGLALAS_PK": "758"
                                },
                                {
                                    "kategória": "fiatal",
                                    "FOGLALAS_PK": "1003"
                                },
                                {
                                    "kategória": "fiatal",
                                    "FOGLALAS_PK": "1037"
                                },
                                {
                                    "kategória": "fiatal",
                                    "FOGLALAS_PK": "932"
                                },
                                {
                                    "kategória": "fiatal",
                                    "FOGLALAS_PK": "902"
                                },
                                {
                                    "kategória": "fiatal",
                                    "FOGLALAS_PK": "908"
                                },
                                {
                                    "kategória": "fiatal",
                                    "FOGLALAS_PK": "1150"
                                },
                                {
                                    "kategória": "fiatal",
                                    "FOGLALAS_PK": "1084"
                                },
                                {
                                    "kategória": "fiatal",
                                    "FOGLALAS_PK": "811"
                                },
                                {
                                    "kategória": "fiatal",
                                    "FOGLALAS_PK": "1387"
                                },
                                {
                                    "kategória": "fiatal",
                                    "FOGLALAS_PK": "1256"
                                },
                                {
                                    "kategória": "fiatal",
                                    "FOGLALAS_PK": "1550"
                                },
                                {
                                    "kategória": "fiatal",
                                    "FOGLALAS_PK": "1538"
                                },
                                {
                                    "kategória": "fiatal",
                                    "FOGLALAS_PK": "1377"
                                },
                                {
                                    "kategória": "fiatal",
                                    "FOGLALAS_PK": "670"
                                },
                                {
                                    "kategória": "fiatal",
                                    "FOGLALAS_PK": "912"
                                },
                                {
                                    "kategória": "fiatal",
                                    "FOGLALAS_PK": "873"
                                },
                                {
                                    "kategória": "fiatal",
                                    "FOGLALAS_PK": "771"
                                },
                                {
                                    "kategória": "fiatal",
                                    "FOGLALAS_PK": "1361"
                                },
                                {
                                    "kategória": "fiatal",
                                    "FOGLALAS_PK": "1268"
                                },
                                {
                                    "kategória": "fiatal",
                                    "FOGLALAS_PK": "1522"
                                },
                                {
                                    "kategória": "középkorú",
                                    "FOGLALAS_PK": "1383"
                                },
                                {
                                    "kategória": "középkorú",
                                    "FOGLALAS_PK": "1090"
                                },
                                {
                                    "kategória": "középkorú",
                                    "FOGLALAS_PK": "1135"
                                },
                                {
                                    "kategória": "középkorú",
                                    "FOGLALAS_PK": "1152"
                                },
                                {
                                    "kategória": "középkorú",
                                    "FOGLALAS_PK": "1219"
                                },
                                {
                                    "kategória": "középkorú",
                                    "FOGLALAS_PK": "1270"
                                },
                                {
                                    "kategória": "középkorú",
                                    "FOGLALAS_PK": "1468"
                                },
                                {
                                    "kategória": "középkorú",
                                    "FOGLALAS_PK": "1408"
                                },
                                {
                                    "kategória": "középkorú",
                                    "FOGLALAS_PK": "1535"
                                },
                                {
                                    "kategória": "középkorú",
                                    "FOGLALAS_PK": "797"
                                },
                                {
                                    "kategória": "fiatal",
                                    "FOGLALAS_PK": "660"
                                },
                                {
                                    "kategória": "fiatal",
                                    "FOGLALAS_PK": "903"
                                },
                                {
                                    "kategória": "fiatal",
                                    "FOGLALAS_PK": "1231"
                                },
                                {
                                    "kategória": "fiatal",
                                    "FOGLALAS_PK": "1559"
                                },
                                {
                                    "kategória": "fiatal",
                                    "FOGLALAS_PK": "1518"
                                },
                                {
                                    "kategória": "fiatal",
                                    "FOGLALAS_PK": "1515"
                                },
                                {
                                    "kategória": "fiatal",
                                    "FOGLALAS_PK": "1399"
                                },
                                {
                                    "kategória": "fiatal",
                                    "FOGLALAS_PK": "1410"
                                },
                                {
                                    "kategória": "fiatal",
                                    "FOGLALAS_PK": "703"
                                },
                                {
                                    "kategória": "fiatal",
                                    "FOGLALAS_PK": "622"
                                },
                                {
                                    "kategória": "középkorú",
                                    "FOGLALAS_PK": "582"
                                },
                                {
                                    "kategória": "középkorú",
                                    "FOGLALAS_PK": "691"
                                },
                                {
                                    "kategória": "középkorú",
                                    "FOGLALAS_PK": "851"
                                },
                                {
                                    "kategória": "középkorú",
                                    "FOGLALAS_PK": "863"
                                },
                                {
                                    "kategória": "középkorú",
                                    "FOGLALAS_PK": "805"
                                },
                                {
                                    "kategória": "középkorú",
                                    "FOGLALAS_PK": "1045"
                                },
                                {
                                    "kategória": "középkorú",
                                    "FOGLALAS_PK": "1019"
                                },
                                {
                                    "kategória": "középkorú",
                                    "FOGLALAS_PK": "1023"
                                },
                                {
                                    "kategória": "középkorú",
                                    "FOGLALAS_PK": "1239"
                                },
                                {
                                    "kategória": "fiatal",
                                    "FOGLALAS_PK": "1346"
                                },
                                {
                                    "kategória": "fiatal",
                                    "FOGLALAS_PK": "1459"
                                },
                                {
                                    "kategória": "fiatal",
                                    "FOGLALAS_PK": "1054"
                                },
                                {
                                    "kategória": "fiatal",
                                    "FOGLALAS_PK": "816"
                                },
                                {
                                    "kategória": "fiatal",
                                    "FOGLALAS_PK": "728"
                                },
                                {
                                    "kategória": "fiatal",
                                    "FOGLALAS_PK": "678"
                                },
                                {
                                    "kategória": "fiatal",
                                    "FOGLALAS_PK": "595"
                                },
                                {
                                    "kategória": "fiatal",
                                    "FOGLALAS_PK": "1137"
                                },
                                {
                                    "kategória": "fiatal",
                                    "FOGLALAS_PK": "1315"
                                },
                                {
                                    "kategória": "fiatal",
                                    "FOGLALAS_PK": "1376"
                                },
                                {
                                    "kategória": "fiatal",
                                    "FOGLALAS_PK": "1257"
                                },
                                {
                                    "kategória": "fiatal",
                                    "FOGLALAS_PK": "1416"
                                },
                                {
                                    "kategória": "fiatal",
                                    "FOGLALAS_PK": "1404"
                                },
                                {
                                    "kategória": "fiatal",
                                    "FOGLALAS_PK": "924"
                                },
                                {
                                    "kategória": "fiatal",
                                    "FOGLALAS_PK": "933"
                                },
                                {
                                    "kategória": "fiatal",
                                    "FOGLALAS_PK": "717"
                                },
                                {
                                    "kategória": "fiatal",
                                    "FOGLALAS_PK": "752"
                                },
                                {
                                    "kategória": "fiatal",
                                    "FOGLALAS_PK": "1341"
                                },
                                {
                                    "kategória": "középkorú",
                                    "FOGLALAS_PK": "1382"
                                },
                                {
                                    "kategória": "középkorú",
                                    "FOGLALAS_PK": "760"
                                },
                                {
                                    "kategória": "fiatal",
                                    "FOGLALAS_PK": "823"
                                },
                                {
                                    "kategória": "fiatal",
                                    "FOGLALAS_PK": "896"
                                },
                                {
                                    "kategória": "fiatal",
                                    "FOGLALAS_PK": "591"
                                },
                                {
                                    "kategória": "fiatal",
                                    "FOGLALAS_PK": "1117"
                                },
                                {
                                    "kategória": "középkorú",
                                    "FOGLALAS_PK": "1185"
                                },
                                {
                                    "kategória": "középkorú",
                                    "FOGLALAS_PK": "941"
                                },
                                {
                                    "kategória": "középkorú",
                                    "FOGLALAS_PK": "944"
                                },
                                {
                                    "kategória": "középkorú",
                                    "FOGLALAS_PK": "972"
                                },
                                {
                                    "kategória": "középkorú",
                                    "FOGLALAS_PK": "768"
                                },
                                {
                                    "kategória": "középkorú",
                                    "FOGLALAS_PK": "1370"
                                },
                                {
                                    "kategória": "középkorú",
                                    "FOGLALAS_PK": "1359"
                                },
                                {
                                    "kategória": "középkorú",
                                    "FOGLALAS_PK": "1279"
                                },
                                {
                                    "kategória": "középkorú",
                                    "FOGLALAS_PK": "1512"
                                },
                                {
                                    "kategória": "középkorú",
                                    "FOGLALAS_PK": "1490"
                                },
                                {
                                    "kategória": "középkorú",
                                    "FOGLALAS_PK": "1381"
                                },
                                {
                                    "kategória": "középkorú",
                                    "FOGLALAS_PK": "952"
                                },
                                {
                                    "kategória": "középkorú",
                                    "FOGLALAS_PK": "1098"
                                },
                                {
                                    "kategória": "középkorú",
                                    "FOGLALAS_PK": "1099"
                                },
                                {
                                    "kategória": "fiatal",
                                    "FOGLALAS_PK": "737"
                                },
                                {
                                    "kategória": "fiatal",
                                    "FOGLALAS_PK": "838"
                                },
                                {
                                    "kategória": "fiatal",
                                    "FOGLALAS_PK": "719"
                                },
                                {
                                    "kategória": "fiatal",
                                    "FOGLALAS_PK": "1337"
                                },
                                {
                                    "kategória": "fiatal",
                                    "FOGLALAS_PK": "1238"
                                },
                                {
                                    "kategória": "fiatal",
                                    "FOGLALAS_PK": "1368"
                                },
                                {
                                    "kategória": "fiatal",
                                    "FOGLALAS_PK": "1501"
                                },
                                {
                                    "kategória": "fiatal",
                                    "FOGLALAS_PK": "1400"
                                },
                                {
                                    "kategória": "fiatal",
                                    "FOGLALAS_PK": "713"
                                },
                                {
                                    "kategória": "fiatal",
                                    "FOGLALAS_PK": "714"
                                },
                                {
                                    "kategória": "fiatal",
                                    "FOGLALAS_PK": "626"
                                },
                                {
                                    "kategória": "fiatal",
                                    "FOGLALAS_PK": "847"
                                },
                                {
                                    "kategória": "fiatal",
                                    "FOGLALAS_PK": "1220"
                                },
                                {
                                    "kategória": "középkorú",
                                    "FOGLALAS_PK": "1179"
                                },
                                {
                                    "kategória": "középkorú",
                                    "FOGLALAS_PK": "900"
                                },
                                {
                                    "kategória": "középkorú",
                                    "FOGLALAS_PK": "745"
                                },
                                {
                                    "kategória": "középkorú",
                                    "FOGLALAS_PK": "646"
                                },
                                {
                                    "kategória": "középkorú",
                                    "FOGLALAS_PK": "1521"
                                },
                                {
                                    "kategória": "középkorú",
                                    "FOGLALAS_PK": "1326"
                                },
                                {
                                    "kategória": "középkorú",
                                    "FOGLALAS_PK": "1533"
                                },
                                {
                                    "kategória": "középkorú",
                                    "FOGLALAS_PK": "953"
                                },
                                {
                                    "kategória": "középkorú",
                                    "FOGLALAS_PK": "1155"
                                },
                                {
                                    "kategória": "középkorú",
                                    "FOGLALAS_PK": "1210"
                                },
                                {
                                    "kategória": "középkorú",
                                    "FOGLALAS_PK": "1200"
                                },
                                {
                                    "kategória": "középkorú",
                                    "FOGLALAS_PK": "1130"
                                },
                                {
                                    "kategória": "fiatal",
                                    "FOGLALAS_PK": "1229"
                                },
                                {
                                    "kategória": "fiatal",
                                    "FOGLALAS_PK": "969"
                                },
                                {
                                    "kategória": "fiatal",
                                    "FOGLALAS_PK": "1035"
                                },
                                {
                                    "kategória": "fiatal",
                                    "FOGLALAS_PK": "612"
                                },
                                {
                                    "kategória": "fiatal",
                                    "FOGLALAS_PK": "824"
                                },
                                {
                                    "kategória": "fiatal",
                                    "FOGLALAS_PK": "812"
                                },
                                {
                                    "kategória": "fiatal",
                                    "FOGLALAS_PK": "1472"
                                },
                                {
                                    "kategória": "fiatal",
                                    "FOGLALAS_PK": "1411"
                                },
                                {
                                    "kategória": "fiatal",
                                    "FOGLALAS_PK": "1477"
                                },
                                {
                                    "kategória": "fiatal",
                                    "FOGLALAS_PK": "584"
                                },
                                {
                                    "kategória": "fiatal",
                                    "FOGLALAS_PK": "570"
                                },
                                {
                                    "kategória": "fiatal",
                                    "FOGLALAS_PK": "942"
                                },
                                {
                                    "kategória": "fiatal",
                                    "FOGLALAS_PK": "925"
                                },
                                {
                                    "kategória": "fiatal",
                                    "FOGLALAS_PK": "1120"
                                },
                                {
                                    "kategória": "középkorú",
                                    "FOGLALAS_PK": "654"
                                },
                                {
                                    "kategória": "középkorú",
                                    "FOGLALAS_PK": "1536"
                                },
                                {
                                    "kategória": "középkorú",
                                    "FOGLALAS_PK": "1322"
                                },
                                {
                                    "kategória": "középkorú",
                                    "FOGLALAS_PK": "1241"
                                },
                                {
                                    "kategória": "középkorú",
                                    "FOGLALAS_PK": "1555"
                                },
                                {
                                    "kategória": "középkorú",
                                    "FOGLALAS_PK": "1373"
                                },
                                {
                                    "kategória": "középkorú",
                                    "FOGLALAS_PK": "832"
                                },
                                {
                                    "kategória": "középkorú",
                                    "FOGLALAS_PK": "876"
                                },
                                {
                                    "kategória": "középkorú",
                                    "FOGLALAS_PK": "1174"
                                },
                                {
                                    "kategória": "fiatal",
                                    "FOGLALAS_PK": "1147"
                                },
                                {
                                    "kategória": "fiatal",
                                    "FOGLALAS_PK": "957"
                                },
                                {
                                    "kategória": "fiatal",
                                    "FOGLALAS_PK": "886"
                                },
                                {
                                    "kategória": "fiatal",
                                    "FOGLALAS_PK": "1243"
                                },
                                {
                                    "kategória": "fiatal",
                                    "FOGLALAS_PK": "1513"
                                },
                                {
                                    "kategória": "középkorú",
                                    "FOGLALAS_PK": "1531"
                                },
                                {
                                    "kategória": "középkorú",
                                    "FOGLALAS_PK": "1277"
                                },
                                {
                                    "kategória": "középkorú",
                                    "FOGLALAS_PK": "613"
                                },
                                {
                                    "kategória": "középkorú",
                                    "FOGLALAS_PK": "623"
                                },
                                {
                                    "kategória": "középkorú",
                                    "FOGLALAS_PK": "951"
                                },
                                {
                                    "kategória": "középkorú",
                                    "FOGLALAS_PK": "943"
                                },
                                {
                                    "kategória": "középkorú",
                                    "FOGLALAS_PK": "906"
                                },
                                {
                                    "kategória": "középkorú",
                                    "FOGLALAS_PK": "1021"
                                },
                                {
                                    "kategória": "fiatal",
                                    "FOGLALAS_PK": "1024"
                                },
                                {
                                    "kategória": "fiatal",
                                    "FOGLALAS_PK": "1068"
                                },
                                {
                                    "kategória": "fiatal",
                                    "FOGLALAS_PK": "909"
                                },
                                {
                                    "kategória": "fiatal",
                                    "FOGLALAS_PK": "761"
                                },
                                {
                                    "kategória": "fiatal",
                                    "FOGLALAS_PK": "1303"
                                },
                                {
                                    "kategória": "fiatal",
                                    "FOGLALAS_PK": "1451"
                                },
                                {
                                    "kategória": "fiatal",
                                    "FOGLALAS_PK": "1571"
                                },
                                {
                                    "kategória": "középkorú",
                                    "FOGLALAS_PK": "1395"
                                },
                                {
                                    "kategória": "középkorú",
                                    "FOGLALAS_PK": "1520"
                                },
                                {
                                    "kategória": "középkorú",
                                    "FOGLALAS_PK": "1554"
                                },
                                {
                                    "kategória": "középkorú",
                                    "FOGLALAS_PK": "1278"
                                },
                                {
                                    "kategória": "középkorú",
                                    "FOGLALAS_PK": "594"
                                },
                                {
                                    "kategória": "középkorú",
                                    "FOGLALAS_PK": "629"
                                },
                                {
                                    "kategória": "középkorú",
                                    "FOGLALAS_PK": "575"
                                },
                                {
                                    "kategória": "középkorú",
                                    "FOGLALAS_PK": "1036"
                                },
                                {
                                    "kategória": "idős",
                                    "FOGLALAS_PK": "573"
                                },
                                {
                                    "kategória": "idős",
                                    "FOGLALAS_PK": "635"
                                },
                                {
                                    "kategória": "idős",
                                    "FOGLALAS_PK": "859"
                                },
                                {
                                    "kategória": "idős",
                                    "FOGLALAS_PK": "1269"
                                },
                                {
                                    "kategória": "idős",
                                    "FOGLALAS_PK": "1309"
                                },
                                {
                                    "kategória": "idős",
                                    "FOGLALAS_PK": "1419"
                                },
                                {
                                    "kategória": "idős",
                                    "FOGLALAS_PK": "1580"
                                },
                                {
                                    "kategória": "középkorú",
                                    "FOGLALAS_PK": "1454"
                                },
                                {
                                    "kategória": "középkorú",
                                    "FOGLALAS_PK": "807"
                                },
                                {
                                    "kategória": "középkorú",
                                    "FOGLALAS_PK": "801"
                                },
                                {
                                    "kategória": "középkorú",
                                    "FOGLALAS_PK": "653"
                                },
                                {
                                    "kategória": "középkorú",
                                    "FOGLALAS_PK": "681"
                                },
                                {
                                    "kategória": "középkorú",
                                    "FOGLALAS_PK": "994"
                                },
                                {
                                    "kategória": "középkorú",
                                    "FOGLALAS_PK": "938"
                                },
                                {
                                    "kategória": "középkorú",
                                    "FOGLALAS_PK": "1227"
                                },
                                {
                                    "kategória": "középkorú",
                                    "FOGLALAS_PK": "1104"
                                },
                                {
                                    "kategória": "középkorú",
                                    "FOGLALAS_PK": "1072"
                                },
                                {
                                    "kategória": "középkorú",
                                    "FOGLALAS_PK": "1407"
                                },
                                {
                                    "kategória": "középkorú",
                                    "FOGLALAS_PK": "1546"
                                },
                                {
                                    "kategória": "középkorú",
                                    "FOGLALAS_PK": "1296"
                                },
                                {
                                    "kategória": "középkorú",
                                    "FOGLALAS_PK": "1572"
                                },
                                {
                                    "kategória": "fiatal",
                                    "FOGLALAS_PK": "1540"
                                },
                                {
                                    "kategória": "középkorú",
                                    "FOGLALAS_PK": "1494"
                                },
                                {
                                    "kategória": "középkorú",
                                    "FOGLALAS_PK": "1470"
                                },
                                {
                                    "kategória": "középkorú",
                                    "FOGLALAS_PK": "1214"
                                },
                                {
                                    "kategória": "középkorú",
                                    "FOGLALAS_PK": "977"
                                },
                                {
                                    "kategória": "középkorú",
                                    "FOGLALAS_PK": "690"
                                },
                                {
                                    "kategória": "középkorú",
                                    "FOGLALAS_PK": "804"
                                },
                                {
                                    "kategória": "középkorú",
                                    "FOGLALAS_PK": "783"
                                },
                                {
                                    "kategória": "középkorú",
                                    "FOGLALAS_PK": "746"
                                },
                                {
                                    "kategória": "középkorú",
                                    "FOGLALAS_PK": "862"
                                },
                                {
                                    "kategória": "középkorú",
                                    "FOGLALAS_PK": "1254"
                                },
                                {
                                    "kategória": "fiatal",
                                    "FOGLALAS_PK": "1304"
                                },
                                {
                                    "kategória": "fiatal",
                                    "FOGLALAS_PK": "825"
                                },
                                {
                                    "kategória": "fiatal",
                                    "FOGLALAS_PK": "785"
                                },
                                {
                                    "kategória": "fiatal",
                                    "FOGLALAS_PK": "1215"
                                },
                                {
                                    "kategória": "fiatal",
                                    "FOGLALAS_PK": "1140"
                                },
                                {
                                    "kategória": "középkorú",
                                    "FOGLALAS_PK": "1065"
                                },
                                {
                                    "kategória": "középkorú",
                                    "FOGLALAS_PK": "1061"
                                },
                                {
                                    "kategória": "középkorú",
                                    "FOGLALAS_PK": "773"
                                },
                                {
                                    "kategória": "középkorú",
                                    "FOGLALAS_PK": "750"
                                },
                                {
                                    "kategória": "középkorú",
                                    "FOGLALAS_PK": "672"
                                },
                                {
                                    "kategória": "középkorú",
                                    "FOGLALAS_PK": "1440"
                                },
                                {
                                    "kategória": "középkorú",
                                    "FOGLALAS_PK": "1509"
                                },
                                {
                                    "kategória": "fiatal",
                                    "FOGLALAS_PK": "1484"
                                },
                                {
                                    "kategória": "fiatal",
                                    "FOGLALAS_PK": "1313"
                                },
                                {
                                    "kategória": "fiatal",
                                    "FOGLALAS_PK": "1354"
                                },
                                {
                                    "kategória": "fiatal",
                                    "FOGLALAS_PK": "706"
                                },
                                {
                                    "kategória": "fiatal",
                                    "FOGLALAS_PK": "765"
                                },
                                {
                                    "kategória": "fiatal",
                                    "FOGLALAS_PK": "1083"
                                },
                                {
                                    "kategória": "fiatal",
                                    "FOGLALAS_PK": "1119"
                                },
                                {
                                    "kategória": "fiatal",
                                    "FOGLALAS_PK": "1193"
                                },
                                {
                                    "kategória": "fiatal",
                                    "FOGLALAS_PK": "772"
                                },
                                {
                                    "kategória": "fiatal",
                                    "FOGLALAS_PK": "1385"
                                },
                                {
                                    "kategória": "fiatal",
                                    "FOGLALAS_PK": "1345"
                                },
                                {
                                    "kategória": "fiatal",
                                    "FOGLALAS_PK": "1246"
                                },
                                {
                                    "kategória": "fiatal",
                                    "FOGLALAS_PK": "1097"
                                },
                                {
                                    "kategória": "fiatal",
                                    "FOGLALAS_PK": "993"
                                },
                                {
                                    "kategória": "fiatal",
                                    "FOGLALAS_PK": "1475"
                                },
                                {
                                    "kategória": "fiatal",
                                    "FOGLALAS_PK": "1421"
                                },
                                {
                                    "kategória": "fiatal",
                                    "FOGLALAS_PK": "1574"
                                },
                                {
                                    "kategória": "középkorú",
                                    "FOGLALAS_PK": "1516"
                                },
                                {
                                    "kategória": "középkorú",
                                    "FOGLALAS_PK": "1235"
                                },
                                {
                                    "kategória": "középkorú",
                                    "FOGLALAS_PK": "874"
                                },
                                {
                                    "kategória": "középkorú",
                                    "FOGLALAS_PK": "688"
                                },
                                {
                                    "kategória": "idős",
                                    "FOGLALAS_PK": "1125"
                                },
                                {
                                    "kategória": "idős",
                                    "FOGLALAS_PK": "1438"
                                },
                                {
                                    "kategória": "középkorú",
                                    "FOGLALAS_PK": "1423"
                                },
                                {
                                    "kategória": "középkorú",
                                    "FOGLALAS_PK": "1255"
                                },
                                {
                                    "kategória": "középkorú",
                                    "FOGLALAS_PK": "1349"
                                },
                                {
                                    "kategória": "középkorú",
                                    "FOGLALAS_PK": "1495"
                                },
                                {
                                    "kategória": "középkorú",
                                    "FOGLALAS_PK": "1157"
                                },
                                {
                                    "kategória": "középkorú",
                                    "FOGLALAS_PK": "1160"
                                },
                                {
                                    "kategória": "középkorú",
                                    "FOGLALAS_PK": "614"
                                },
                                {
                                    "kategória": "középkorú",
                                    "FOGLALAS_PK": "842"
                                },
                                {
                                    "kategória": "középkorú",
                                    "FOGLALAS_PK": "625"
                                },
                                {
                                    "kategória": "középkorú",
                                    "FOGLALAS_PK": "1131"
                                },
                                {
                                    "kategória": "középkorú",
                                    "FOGLALAS_PK": "966"
                                },
                                {
                                    "kategória": "középkorú",
                                    "FOGLALAS_PK": "1262"
                                },
                                {
                                    "kategória": "fiatal",
                                    "FOGLALAS_PK": "1305"
                                },
                                {
                                    "kategória": "fiatal",
                                    "FOGLALAS_PK": "1467"
                                },
                                {
                                    "kategória": "fiatal",
                                    "FOGLALAS_PK": "996"
                                },
                                {
                                    "kategória": "fiatal",
                                    "FOGLALAS_PK": "1088"
                                },
                                {
                                    "kategória": "fiatal",
                                    "FOGLALAS_PK": "667"
                                },
                                {
                                    "kategória": "fiatal",
                                    "FOGLALAS_PK": "828"
                                },
                                {
                                    "kategória": "fiatal",
                                    "FOGLALAS_PK": "889"
                                },
                                {
                                    "kategória": "középkorú",
                                    "FOGLALAS_PK": "844"
                                },
                                {
                                    "kategória": "középkorú",
                                    "FOGLALAS_PK": "730"
                                },
                                {
                                    "kategória": "középkorú",
                                    "FOGLALAS_PK": "973"
                                },
                                {
                                    "kategória": "középkorú",
                                    "FOGLALAS_PK": "1291"
                                },
                                {
                                    "kategória": "fiatal",
                                    "FOGLALAS_PK": "1260"
                                },
                                {
                                    "kategória": "fiatal",
                                    "FOGLALAS_PK": "841"
                                },
                                {
                                    "kategória": "fiatal",
                                    "FOGLALAS_PK": "603"
                                },
                                {
                                    "kategória": "középkorú",
                                    "FOGLALAS_PK": "593"
                                },
                                {
                                    "kategória": "középkorú",
                                    "FOGLALAS_PK": "710"
                                },
                                {
                                    "kategória": "középkorú",
                                    "FOGLALAS_PK": "1022"
                                },
                                {
                                    "kategória": "középkorú",
                                    "FOGLALAS_PK": "1496"
                                },
                                {
                                    "kategória": "középkorú",
                                    "FOGLALAS_PK": "1524"
                                },
                                {
                                    "kategória": "középkorú",
                                    "FOGLALAS_PK": "1556"
                                },
                                {
                                    "kategória": "idős",
                                    "FOGLALAS_PK": "1114"
                                },
                                {
                                    "kategória": "középkorú",
                                    "FOGLALAS_PK": "1064"
                                },
                                {
                                    "kategória": "középkorú",
                                    "FOGLALAS_PK": "962"
                                },
                                {
                                    "kategória": "középkorú",
                                    "FOGLALAS_PK": "831"
                                },
                                {
                                    "kategória": "középkorú",
                                    "FOGLALAS_PK": "788"
                                },
                                {
                                    "kategória": "idős",
                                    "FOGLALAS_PK": "756"
                                },
                                {
                                    "kategória": "idős",
                                    "FOGLALAS_PK": "621"
                                },
                                {
                                    "kategória": "idős",
                                    "FOGLALAS_PK": "1106"
                                },
                                {
                                    "kategória": "idős",
                                    "FOGLALAS_PK": "1563"
                                },
                                {
                                    "kategória": "idős",
                                    "FOGLALAS_PK": "1492"
                                },
                                {
                                    "kategória": "középkorú",
                                    "FOGLALAS_PK": "1463"
                                },
                                {
                                    "kategória": "középkorú",
                                    "FOGLALAS_PK": "1265"
                                },
                                {
                                    "kategória": "középkorú",
                                    "FOGLALAS_PK": "1335"
                                },
                                {
                                    "kategória": "középkorú",
                                    "FOGLALAS_PK": "1000"
                                },
                                {
                                    "kategória": "középkorú",
                                    "FOGLALAS_PK": "795"
                                },
                                {
                                    "kategória": "középkorú",
                                    "FOGLALAS_PK": "890"
                                },
                                {
                                    "kategória": "középkorú",
                                    "FOGLALAS_PK": "887"
                                },
                                {
                                    "kategória": "középkorú",
                                    "FOGLALAS_PK": "861"
                                },
                                {
                                    "kategória": "középkorú",
                                    "FOGLALAS_PK": "734"
                                },
                                {
                                    "kategória": "középkorú",
                                    "FOGLALAS_PK": "683"
                                },
                                {
                                    "kategória": "középkorú",
                                    "FOGLALAS_PK": "946"
                                },
                                {
                                    "kategória": "középkorú",
                                    "FOGLALAS_PK": "1527"
                                },
                                {
                                    "kategória": "középkorú",
                                    "FOGLALAS_PK": "1566"
                                },
                                {
                                    "kategória": "fiatal",
                                    "FOGLALAS_PK": "1476"
                                },
                                {
                                    "kategória": "fiatal",
                                    "FOGLALAS_PK": "1405"
                                },
                                {
                                    "kategória": "középkorú",
                                    "FOGLALAS_PK": "1452"
                                },
                                {
                                    "kategória": "középkorú",
                                    "FOGLALAS_PK": "1184"
                                },
                                {
                                    "kategória": "középkorú",
                                    "FOGLALAS_PK": "835"
                                },
                                {
                                    "kategória": "fiatal",
                                    "FOGLALAS_PK": "742"
                                },
                                {
                                    "kategória": "fiatal",
                                    "FOGLALAS_PK": "754"
                                },
                                {
                                    "kategória": "fiatal",
                                    "FOGLALAS_PK": "1393"
                                },
                                {
                                    "kategória": "fiatal",
                                    "FOGLALAS_PK": "1245"
                                },
                                {
                                    "kategória": "fiatal",
                                    "FOGLALAS_PK": "1209"
                                },
                                {
                                    "kategória": "fiatal",
                                    "FOGLALAS_PK": "1060"
                                },
                                {
                                    "kategória": "középkorú",
                                    "FOGLALAS_PK": "982"
                                },
                                {
                                    "kategória": "középkorú",
                                    "FOGLALAS_PK": "989"
                                },
                                {
                                    "kategória": "középkorú",
                                    "FOGLALAS_PK": "836"
                                },
                                {
                                    "kategória": "középkorú",
                                    "FOGLALAS_PK": "810"
                                },
                                {
                                    "kategória": "középkorú",
                                    "FOGLALAS_PK": "806"
                                },
                                {
                                    "kategória": "középkorú",
                                    "FOGLALAS_PK": "1499"
                                },
                                {
                                    "kategória": "középkorú",
                                    "FOGLALAS_PK": "1487"
                                },
                                {
                                    "kategória": "fiatal",
                                    "FOGLALAS_PK": "1413"
                                },
                                {
                                    "kategória": "fiatal",
                                    "FOGLALAS_PK": "1301"
                                },
                                {
                                    "kategória": "fiatal",
                                    "FOGLALAS_PK": "1127"
                                },
                                {
                                    "kategória": "fiatal",
                                    "FOGLALAS_PK": "599"
                                },
                                {
                                    "kategória": "fiatal",
                                    "FOGLALAS_PK": "583"
                                },
                                {
                                    "kategória": "fiatal",
                                    "FOGLALAS_PK": "1507"
                                },
                                {
                                    "kategória": "fiatal",
                                    "FOGLALAS_PK": "1087"
                                },
                                {
                                    "kategória": "fiatal",
                                    "FOGLALAS_PK": "998"
                                },
                                {
                                    "kategória": "idős",
                                    "FOGLALAS_PK": "1118"
                                },
                                {
                                    "kategória": "idős",
                                    "FOGLALAS_PK": "820"
                                },
                                {
                                    "kategória": "idős",
                                    "FOGLALAS_PK": "1526"
                                },
                                {
                                    "kategória": "középkorú",
                                    "FOGLALAS_PK": "1486"
                                },
                                {
                                    "kategória": "középkorú",
                                    "FOGLALAS_PK": "1402"
                                },
                                {
                                    "kategória": "középkorú",
                                    "FOGLALAS_PK": "1431"
                                },
                                {
                                    "kategória": "középkorú",
                                    "FOGLALAS_PK": "1259"
                                },
                                {
                                    "kategória": "középkorú",
                                    "FOGLALAS_PK": "840"
                                },
                                {
                                    "kategória": "középkorú",
                                    "FOGLALAS_PK": "789"
                                },
                                {
                                    "kategória": "középkorú",
                                    "FOGLALAS_PK": "1011"
                                },
                                {
                                    "kategória": "középkorú",
                                    "FOGLALAS_PK": "1314"
                                },
                                {
                                    "kategória": "középkorú",
                                    "FOGLALAS_PK": "1318"
                                },
                                {
                                    "kategória": "középkorú",
                                    "FOGLALAS_PK": "1378"
                                },
                                {
                                    "kategória": "fiatal",
                                    "FOGLALAS_PK": "1348"
                                },
                                {
                                    "kategória": "fiatal",
                                    "FOGLALAS_PK": "1050"
                                },
                                {
                                    "kategória": "fiatal",
                                    "FOGLALAS_PK": "1133"
                                },
                                {
                                    "kategória": "középkorú",
                                    "FOGLALAS_PK": "1039"
                                },
                                {
                                    "kategória": "középkorú",
                                    "FOGLALAS_PK": "1013"
                                },
                                {
                                    "kategória": "középkorú",
                                    "FOGLALAS_PK": "677"
                                },
                                {
                                    "kategória": "középkorú",
                                    "FOGLALAS_PK": "1321"
                                },
                                {
                                    "kategória": "középkorú",
                                    "FOGLALAS_PK": "1307"
                                },
                                {
                                    "kategória": "középkorú",
                                    "FOGLALAS_PK": "1426"
                                },
                                {
                                    "kategória": "középkorú",
                                    "FOGLALAS_PK": "1569"
                                },
                                {
                                    "kategória": "középkorú",
                                    "FOGLALAS_PK": "616"
                                },
                                {
                                    "kategória": "középkorú",
                                    "FOGLALAS_PK": "813"
                                },
                                {
                                    "kategória": "középkorú",
                                    "FOGLALAS_PK": "905"
                                },
                                {
                                    "kategória": "fiatal",
                                    "FOGLALAS_PK": "920"
                                },
                                {
                                    "kategória": "fiatal",
                                    "FOGLALAS_PK": "729"
                                },
                                {
                                    "kategória": "fiatal",
                                    "FOGLALAS_PK": "592"
                                },
                                {
                                    "kategória": "fiatal",
                                    "FOGLALAS_PK": "699"
                                },
                                {
                                    "kategória": "fiatal",
                                    "FOGLALAS_PK": "926"
                                },
                                {
                                    "kategória": "fiatal",
                                    "FOGLALAS_PK": "1577"
                                },
                                {
                                    "kategória": "fiatal",
                                    "FOGLALAS_PK": "1493"
                                },
                                {
                                    "kategória": "fiatal",
                                    "FOGLALAS_PK": "1244"
                                },
                                {
                                    "kategória": "fiatal",
                                    "FOGLALAS_PK": "1323"
                                },
                                {
                                    "kategória": "fiatal",
                                    "FOGLALAS_PK": "1218"
                                },
                                {
                                    "kategória": "fiatal",
                                    "FOGLALAS_PK": "692"
                                },
                                {
                                    "kategória": "idős",
                                    "FOGLALAS_PK": "568"
                                },
                                {
                                    "kategória": "idős",
                                    "FOGLALAS_PK": "814"
                                },
                                {
                                    "kategória": "idős",
                                    "FOGLALAS_PK": "885"
                                },
                                {
                                    "kategória": "idős",
                                    "FOGLALAS_PK": "1070"
                                },
                                {
                                    "kategória": "idős",
                                    "FOGLALAS_PK": "931"
                                },
                                {
                                    "kategória": "idős",
                                    "FOGLALAS_PK": "1016"
                                },
                                {
                                    "kategória": "idős",
                                    "FOGLALAS_PK": "999"
                                },
                                {
                                    "kategória": "idős",
                                    "FOGLALAS_PK": "1439"
                                },
                                {
                                    "kategória": "idős",
                                    "FOGLALAS_PK": "1388"
                                },
                                {
                                    "kategória": "idős",
                                    "FOGLALAS_PK": "1360"
                                },
                                {
                                    "kategória": "idős",
                                    "FOGLALAS_PK": "1570"
                                },
                                {
                                    "kategória": "idős",
                                    "FOGLALAS_PK": "1198"
                                },
                                {
                                    "kategória": "idős",
                                    "FOGLALAS_PK": "572"
                                },
                                {
                                    "kategória": "fiatal",
                                    "FOGLALAS_PK": "1002"
                                },
                                {
                                    "kategória": "fiatal",
                                    "FOGLALAS_PK": "1340"
                                },
                                {
                                    "kategória": "fiatal",
                                    "FOGLALAS_PK": "1325"
                                },
                                {
                                    "kategória": "fiatal",
                                    "FOGLALAS_PK": "1455"
                                },
                                {
                                    "kategória": "fiatal",
                                    "FOGLALAS_PK": "1473"
                                },
                                {
                                    "kategória": "fiatal",
                                    "FOGLALAS_PK": "911"
                                },
                                {
                                    "kategória": "fiatal",
                                    "FOGLALAS_PK": "914"
                                },
                                {
                                    "kategória": "fiatal",
                                    "FOGLALAS_PK": "1192"
                                },
                                {
                                    "kategória": "fiatal",
                                    "FOGLALAS_PK": "1221"
                                },
                                {
                                    "kategória": "fiatal",
                                    "FOGLALAS_PK": "665"
                                },
                                {
                                    "kategória": "fiatal",
                                    "FOGLALAS_PK": "723"
                                },
                                {
                                    "kategória": "fiatal",
                                    "FOGLALAS_PK": "751"
                                },
                                {
                                    "kategória": "középkorú",
                                    "FOGLALAS_PK": "819"
                                },
                                {
                                    "kategória": "középkorú",
                                    "FOGLALAS_PK": "633"
                                },
                                {
                                    "kategória": "középkorú",
                                    "FOGLALAS_PK": "574"
                                },
                                {
                                    "kategória": "középkorú",
                                    "FOGLALAS_PK": "956"
                                },
                                {
                                    "kategória": "középkorú",
                                    "FOGLALAS_PK": "1029"
                                },
                                {
                                    "kategória": "középkorú",
                                    "FOGLALAS_PK": "1458"
                                },
                                {
                                    "kategória": "középkorú",
                                    "FOGLALAS_PK": "1414"
                                },
                                {
                                    "kategória": "középkorú",
                                    "FOGLALAS_PK": "1247"
                                },
                                {
                                    "kategória": "középkorú",
                                    "FOGLALAS_PK": "922"
                                },
                                {
                                    "kategória": "középkorú",
                                    "FOGLALAS_PK": "1108"
                                },
                                {
                                    "kategória": "középkorú",
                                    "FOGLALAS_PK": "1115"
                                },
                                {
                                    "kategória": "középkorú",
                                    "FOGLALAS_PK": "1077"
                                },
                                {
                                    "kategória": "középkorú",
                                    "FOGLALAS_PK": "627"
                                },
                                {
                                    "kategória": "középkorú",
                                    "FOGLALAS_PK": "888"
                                },
                                {
                                    "kategória": "középkorú",
                                    "FOGLALAS_PK": "565"
                                },
                                {
                                    "kategória": "középkorú",
                                    "FOGLALAS_PK": "1096"
                                },
                                {
                                    "kategória": "középkorú",
                                    "FOGLALAS_PK": "1105"
                                },
                                {
                                    "kategória": "középkorú",
                                    "FOGLALAS_PK": "1095"
                                },
                                {
                                    "kategória": "középkorú",
                                    "FOGLALAS_PK": "656"
                                },
                                {
                                    "kategória": "középkorú",
                                    "FOGLALAS_PK": "821"
                                },
                                {
                                    "kategória": "középkorú",
                                    "FOGLALAS_PK": "1498"
                                },
                                {
                                    "kategória": "középkorú",
                                    "FOGLALAS_PK": "1584"
                                },
                                {
                                    "kategória": "középkorú",
                                    "FOGLALAS_PK": "1564"
                                },
                                {
                                    "kategória": "középkorú",
                                    "FOGLALAS_PK": "1445"
                                },
                                {
                                    "kategória": "középkorú",
                                    "FOGLALAS_PK": "1237"
                                },
                                {
                                    "kategória": "középkorú",
                                    "FOGLALAS_PK": "1358"
                                },
                                {
                                    "kategória": "középkorú",
                                    "FOGLALAS_PK": "894"
                                },
                                {
                                    "kategória": "középkorú",
                                    "FOGLALAS_PK": "747"
                                },
                                {
                                    "kategória": "középkorú",
                                    "FOGLALAS_PK": "732"
                                },
                                {
                                    "kategória": "középkorú",
                                    "FOGLALAS_PK": "1161"
                                },
                                {
                                    "kategória": "középkorú",
                                    "FOGLALAS_PK": "929"
                                },
                                {
                                    "kategória": "idős",
                                    "FOGLALAS_PK": "901"
                                },
                                {
                                    "kategória": "idős",
                                    "FOGLALAS_PK": "1020"
                                },
                                {
                                    "kategória": "idős",
                                    "FOGLALAS_PK": "749"
                                },
                                {
                                    "kategória": "idős",
                                    "FOGLALAS_PK": "566"
                                },
                                {
                                    "kategória": "idős",
                                    "FOGLALAS_PK": "1392"
                                },
                                {
                                    "kategória": "középkorú",
                                    "FOGLALAS_PK": "1502"
                                },
                                {
                                    "kategória": "középkorú",
                                    "FOGLALAS_PK": "1542"
                                },
                                {
                                    "kategória": "középkorú",
                                    "FOGLALAS_PK": "1266"
                                },
                                {
                                    "kategória": "középkorú",
                                    "FOGLALAS_PK": "659"
                                },
                                {
                                    "kategória": "középkorú",
                                    "FOGLALAS_PK": "1012"
                                },
                                {
                                    "kategória": "középkorú",
                                    "FOGLALAS_PK": "1067"
                                },
                                {
                                    "kategória": "idős",
                                    "FOGLALAS_PK": "1055"
                                },
                                {
                                    "kategória": "idős",
                                    "FOGLALAS_PK": "964"
                                },
                                {
                                    "kategória": "idős",
                                    "FOGLALAS_PK": "1217"
                                },
                                {
                                    "kategória": "idős",
                                    "FOGLALAS_PK": "608"
                                },
                                {
                                    "kategória": "idős",
                                    "FOGLALAS_PK": "1460"
                                },
                                {
                                    "kategória": "fiatal",
                                    "FOGLALAS_PK": "1474"
                                },
                                {
                                    "kategória": "fiatal",
                                    "FOGLALAS_PK": "597"
                                },
                                {
                                    "kategória": "fiatal",
                                    "FOGLALAS_PK": "763"
                                },
                                {
                                    "kategória": "középkorú",
                                    "FOGLALAS_PK": "682"
                                },
                                {
                                    "kategória": "középkorú",
                                    "FOGLALAS_PK": "1394"
                                },
                                {
                                    "kategória": "fiatal",
                                    "FOGLALAS_PK": "1449"
                                },
                                {
                                    "kategória": "fiatal",
                                    "FOGLALAS_PK": "1425"
                                },
                                {
                                    "kategória": "fiatal",
                                    "FOGLALAS_PK": "696"
                                },
                                {
                                    "kategória": "fiatal",
                                    "FOGLALAS_PK": "716"
                                },
                                {
                                    "kategória": "fiatal",
                                    "FOGLALAS_PK": "1223"
                                },
                                {
                                    "kategória": "fiatal",
                                    "FOGLALAS_PK": "961"
                                },
                                {
                                    "kategória": "idős",
                                    "FOGLALAS_PK": "1078"
                                },
                                {
                                    "kategória": "középkorú",
                                    "FOGLALAS_PK": "1032"
                                },
                                {
                                    "kategória": "középkorú",
                                    "FOGLALAS_PK": "604"
                                },
                                {
                                    "kategória": "középkorú",
                                    "FOGLALAS_PK": "561"
                                },
                                {
                                    "kategória": "középkorú",
                                    "FOGLALAS_PK": "778"
                                },
                                {
                                    "kategória": "középkorú",
                                    "FOGLALAS_PK": "1320"
                                },
                                {
                                    "kategória": "idős",
                                    "FOGLALAS_PK": "1510"
                                },
                                {
                                    "kategória": "idős",
                                    "FOGLALAS_PK": "947"
                                },
                                {
                                    "kategória": "idős",
                                    "FOGLALAS_PK": "899"
                                },
                                {
                                    "kategória": "idős",
                                    "FOGLALAS_PK": "934"
                                },
                                {
                                    "kategória": "idős",
                                    "FOGLALAS_PK": "1111"
                                },
                                {
                                    "kategória": "idős",
                                    "FOGLALAS_PK": "1548"
                                },
                                {
                                    "kategória": "fiatal",
                                    "FOGLALAS_PK": "1264"
                                },
                                {
                                    "kategória": "fiatal",
                                    "FOGLALAS_PK": "1567"
                                },
                                {
                                    "kategória": "fiatal",
                                    "FOGLALAS_PK": "767"
                                },
                                {
                                    "kategória": "fiatal",
                                    "FOGLALAS_PK": "864"
                                },
                                {
                                    "kategória": "fiatal",
                                    "FOGLALAS_PK": "642"
                                },
                                {
                                    "kategória": "fiatal",
                                    "FOGLALAS_PK": "588"
                                },
                                {
                                    "kategória": "fiatal",
                                    "FOGLALAS_PK": "764"
                                },
                                {
                                    "kategória": "fiatal",
                                    "FOGLALAS_PK": "958"
                                },
                                {
                                    "kategória": "fiatal",
                                    "FOGLALAS_PK": "1293"
                                },
                                {
                                    "kategória": "fiatal",
                                    "FOGLALAS_PK": "1462"
                                },
                                {
                                    "kategória": "fiatal",
                                    "FOGLALAS_PK": "1052"
                                },
                                {
                                    "kategória": "fiatal",
                                    "FOGLALAS_PK": "1082"
                                },
                                {
                                    "kategória": "fiatal",
                                    "FOGLALAS_PK": "1076"
                                },
                                {
                                    "kategória": "fiatal",
                                    "FOGLALAS_PK": "1042"
                                },
                                {
                                    "kategória": "fiatal",
                                    "FOGLALAS_PK": "979"
                                },
                                {
                                    "kategória": "fiatal",
                                    "FOGLALAS_PK": "916"
                                },
                                {
                                    "kategória": "fiatal",
                                    "FOGLALAS_PK": "769"
                                },
                                {
                                    "kategória": "fiatal",
                                    "FOGLALAS_PK": "605"
                                },
                                {
                                    "kategória": "fiatal",
                                    "FOGLALAS_PK": "1582"
                                },
                                {
                                    "kategória": "fiatal",
                                    "FOGLALAS_PK": "1446"
                                },
                                {
                                    "kategória": "fiatal",
                                    "FOGLALAS_PK": "794"
                                },
                                {
                                    "kategória": "fiatal",
                                    "FOGLALAS_PK": "1107"
                                },
                                {
                                    "kategória": "középkorú",
                                    "FOGLALAS_PK": "664"
                                },
                                {
                                    "kategória": "középkorú",
                                    "FOGLALAS_PK": "1356"
                                },
                                {
                                    "kategória": "középkorú",
                                    "FOGLALAS_PK": "1380"
                                },
                                {
                                    "kategória": "középkorú",
                                    "FOGLALAS_PK": "1429"
                                },
                                {
                                    "kategória": "középkorú",
                                    "FOGLALAS_PK": "707"
                                },
                                {
                                    "kategória": "középkorú",
                                    "FOGLALAS_PK": "636"
                                },
                                {
                                    "kategória": "középkorú",
                                    "FOGLALAS_PK": "1143"
                                },
                                {
                                    "kategória": "középkorú",
                                    "FOGLALAS_PK": "1226"
                                },
                                {
                                    "kategória": "középkorú",
                                    "FOGLALAS_PK": "875"
                                },
                                {
                                    "kategória": "középkorú",
                                    "FOGLALAS_PK": "1505"
                                },
                                {
                                    "kategória": "középkorú",
                                    "FOGLALAS_PK": "1234"
                                },
                                {
                                    "kategória": "fiatal",
                                    "FOGLALAS_PK": "1283"
                                },
                                {
                                    "kategória": "fiatal",
                                    "FOGLALAS_PK": "589"
                                },
                                {
                                    "kategória": "középkorú",
                                    "FOGLALAS_PK": "687"
                                },
                                {
                                    "kategória": "középkorú",
                                    "FOGLALAS_PK": "987"
                                },
                                {
                                    "kategória": "középkorú",
                                    "FOGLALAS_PK": "1344"
                                },
                                {
                                    "kategória": "középkorú",
                                    "FOGLALAS_PK": "1267"
                                },
                                {
                                    "kategória": "középkorú",
                                    "FOGLALAS_PK": "1506"
                                },
                                {
                                    "kategória": "középkorú",
                                    "FOGLALAS_PK": "1562"
                                },
                                {
                                    "kategória": "középkorú",
                                    "FOGLALAS_PK": "609"
                                },
                                {
                                    "kategória": "idős",
                                    "FOGLALAS_PK": "558"
                                },
                                {
                                    "kategória": "idős",
                                    "FOGLALAS_PK": "1503"
                                },
                                {
                                    "kategória": "idős",
                                    "FOGLALAS_PK": "1242"
                                },
                                {
                                    "kategória": "középkorú",
                                    "FOGLALAS_PK": "853"
                                },
                                {
                                    "kategória": "középkorú",
                                    "FOGLALAS_PK": "1178"
                                },
                                {
                                    "kategória": "középkorú",
                                    "FOGLALAS_PK": "992"
                                },
                                {
                                    "kategória": "középkorú",
                                    "FOGLALAS_PK": "877"
                                },
                                {
                                    "kategória": "középkorú",
                                    "FOGLALAS_PK": "775"
                                },
                                {
                                    "kategória": "középkorú",
                                    "FOGLALAS_PK": "564"
                                },
                                {
                                    "kategória": "középkorú",
                                    "FOGLALAS_PK": "634"
                                },
                                {
                                    "kategória": "középkorú",
                                    "FOGLALAS_PK": "1355"
                                },
                                {
                                    "kategória": "középkorú",
                                    "FOGLALAS_PK": "1488"
                                },
                                {
                                    "kategória": "fiatal",
                                    "FOGLALAS_PK": "663"
                                },
                                {
                                    "kategória": "fiatal",
                                    "FOGLALAS_PK": "720"
                                },
                                {
                                    "kategória": "fiatal",
                                    "FOGLALAS_PK": "928"
                                },
                                {
                                    "kategória": "fiatal",
                                    "FOGLALAS_PK": "1073"
                                },
                                {
                                    "kategória": "idős",
                                    "FOGLALAS_PK": "1528"
                                },
                                {
                                    "kategória": "idős",
                                    "FOGLALAS_PK": "1365"
                                },
                                {
                                    "kategória": "idős",
                                    "FOGLALAS_PK": "1285"
                                },
                                {
                                    "kategória": "fiatal",
                                    "FOGLALAS_PK": "1233"
                                },
                                {
                                    "kategória": "fiatal",
                                    "FOGLALAS_PK": "1482"
                                },
                                {
                                    "kategória": "fiatal",
                                    "FOGLALAS_PK": "1028"
                                },
                                {
                                    "kategória": "fiatal",
                                    "FOGLALAS_PK": "632"
                                },
                                {
                                    "kategória": "fiatal",
                                    "FOGLALAS_PK": "724"
                                },
                                {
                                    "kategória": "középkorú",
                                    "FOGLALAS_PK": "871"
                                },
                                {
                                    "kategória": "középkorú",
                                    "FOGLALAS_PK": "569"
                                },
                                {
                                    "kategória": "középkorú",
                                    "FOGLALAS_PK": "963"
                                },
                                {
                                    "kategória": "középkorú",
                                    "FOGLALAS_PK": "967"
                                },
                                {
                                    "kategória": "középkorú",
                                    "FOGLALAS_PK": "1123"
                                },
                                {
                                    "kategória": "középkorú",
                                    "FOGLALAS_PK": "1211"
                                },
                                {
                                    "kategória": "középkorú",
                                    "FOGLALAS_PK": "1333"
                                },
                                {
                                    "kategória": "középkorú",
                                    "FOGLALAS_PK": "1583"
                                },
                                {
                                    "kategória": "középkorú",
                                    "FOGLALAS_PK": "984"
                                },
                                {
                                    "kategória": "középkorú",
                                    "FOGLALAS_PK": "766"
                                },
                                {
                                    "kategória": "idős",
                                    "FOGLALAS_PK": "776"
                                },
                                {
                                    "kategória": "idős",
                                    "FOGLALAS_PK": "1058"
                                },
                                {
                                    "kategória": "idős",
                                    "FOGLALAS_PK": "1369"
                                },
                                {
                                    "kategória": "idős",
                                    "FOGLALAS_PK": "1530"
                                },
                                {
                                    "kategória": "idős",
                                    "FOGLALAS_PK": "1552"
                                },
                                {
                                    "kategória": "középkorú",
                                    "FOGLALAS_PK": "1579"
                                },
                                {
                                    "kategória": "középkorú",
                                    "FOGLALAS_PK": "1565"
                                },
                                {
                                    "kategória": "középkorú",
                                    "FOGLALAS_PK": "1201"
                                },
                                {
                                    "kategória": "középkorú",
                                    "FOGLALAS_PK": "671"
                                },
                                {
                                    "kategória": "középkorú",
                                    "FOGLALAS_PK": "1146"
                                },
                                {
                                    "kategória": "középkorú",
                                    "FOGLALAS_PK": "1004"
                                },
                                {
                                    "kategória": "középkorú",
                                    "FOGLALAS_PK": "1236"
                                },
                                {
                                    "kategória": "középkorú",
                                    "FOGLALAS_PK": "1282"
                                },
                                {
                                    "kategória": "középkorú",
                                    "FOGLALAS_PK": "1557"
                                },
                                {
                                    "kategória": "középkorú",
                                    "FOGLALAS_PK": "995"
                                },
                                {
                                    "kategória": "középkorú",
                                    "FOGLALAS_PK": "1228"
                                },
                                {
                                    "kategória": "középkorú",
                                    "FOGLALAS_PK": "726"
                                },
                                {
                                    "kategória": "fiatal",
                                    "FOGLALAS_PK": "759"
                                },
                                {
                                    "kategória": "fiatal",
                                    "FOGLALAS_PK": "815"
                                },
                                {
                                    "kategória": "fiatal",
                                    "FOGLALAS_PK": "577"
                                },
                                {
                                    "kategória": "fiatal",
                                    "FOGLALAS_PK": "1222"
                                },
                                {
                                    "kategória": "fiatal",
                                    "FOGLALAS_PK": "1188"
                                },
                                {
                                    "kategória": "fiatal",
                                    "FOGLALAS_PK": "1139"
                                },
                                {
                                    "kategória": "fiatal",
                                    "FOGLALAS_PK": "1080"
                                },
                                {
                                    "kategória": "fiatal",
                                    "FOGLALAS_PK": "1093"
                                },
                                {
                                    "kategória": "fiatal",
                                    "FOGLALAS_PK": "1043"
                                },
                                {
                                    "kategória": "fiatal",
                                    "FOGLALAS_PK": "1273"
                                },
                                {
                                    "kategória": "fiatal",
                                    "FOGLALAS_PK": "1316"
                                },
                                {
                                    "kategória": "fiatal",
                                    "FOGLALAS_PK": "1500"
                                },
                                {
                                    "kategória": "idős",
                                    "FOGLALAS_PK": "1287"
                                },
                                {
                                    "kategória": "idős",
                                    "FOGLALAS_PK": "1167"
                                },
                                {
                                    "kategória": "idős",
                                    "FOGLALAS_PK": "694"
                                },
                                {
                                    "kategória": "fiatal",
                                    "FOGLALAS_PK": "585"
                                },
                                {
                                    "kategória": "fiatal",
                                    "FOGLALAS_PK": "865"
                                },
                                {
                                    "kategória": "fiatal",
                                    "FOGLALAS_PK": "777"
                                },
                                {
                                    "kategória": "fiatal",
                                    "FOGLALAS_PK": "792"
                                },
                                {
                                    "kategória": "fiatal",
                                    "FOGLALAS_PK": "1517"
                                },
                                {
                                    "kategória": "fiatal",
                                    "FOGLALAS_PK": "1481"
                                },
                                {
                                    "kategória": "fiatal",
                                    "FOGLALAS_PK": "1284"
                                },
                                {
                                    "kategória": "fiatal",
                                    "FOGLALAS_PK": "1263"
                                },
                                {
                                    "kategória": "fiatal",
                                    "FOGLALAS_PK": "850"
                                },
                                {
                                    "kategória": "fiatal",
                                    "FOGLALAS_PK": "1116"
                                },
                                {
                                    "kategória": "idős",
                                    "FOGLALAS_PK": "1089"
                                },
                                {
                                    "kategória": "idős",
                                    "FOGLALAS_PK": "1033"
                                },
                                {
                                    "kategória": "idős",
                                    "FOGLALAS_PK": "748"
                                },
                                {
                                    "kategória": "idős",
                                    "FOGLALAS_PK": "721"
                                },
                                {
                                    "kategória": "idős",
                                    "FOGLALAS_PK": "1575"
                                },
                                {
                                    "kategória": "fiatal",
                                    "FOGLALAS_PK": "1471"
                                },
                                {
                                    "kategória": "fiatal",
                                    "FOGLALAS_PK": "1204"
                                },
                                {
                                    "kategória": "fiatal",
                                    "FOGLALAS_PK": "985"
                                },
                                {
                                    "kategória": "fiatal",
                                    "FOGLALAS_PK": "637"
                                },
                                {
                                    "kategória": "fiatal",
                                    "FOGLALAS_PK": "619"
                                },
                                {
                                    "kategória": "fiatal",
                                    "FOGLALAS_PK": "1532"
                                },
                                {
                                    "kategória": "középkorú",
                                    "FOGLALAS_PK": "647"
                                },
                                {
                                    "kategória": "középkorú",
                                    "FOGLALAS_PK": "802"
                                },
                                {
                                    "kategória": "középkorú",
                                    "FOGLALAS_PK": "1183"
                                },
                                {
                                    "kategória": "idős",
                                    "FOGLALAS_PK": "1197"
                                },
                                {
                                    "kategória": "idős",
                                    "FOGLALAS_PK": "1141"
                                },
                                {
                                    "kategória": "idős",
                                    "FOGLALAS_PK": "1129"
                                },
                                {
                                    "kategória": "idős",
                                    "FOGLALAS_PK": "1027"
                                },
                                {
                                    "kategória": "idős",
                                    "FOGLALAS_PK": "791"
                                },
                                {
                                    "kategória": "idős",
                                    "FOGLALAS_PK": "808"
                                },
                                {
                                    "kategória": "idős",
                                    "FOGLALAS_PK": "1545"
                                },
                                {
                                    "kategória": "középkorú",
                                    "FOGLALAS_PK": "739"
                                },
                                {
                                    "kategória": "középkorú",
                                    "FOGLALAS_PK": "1038"
                                },
                                {
                                    "kategória": "idős",
                                    "FOGLALAS_PK": "978"
                                },
                                {
                                    "kategória": "idős",
                                    "FOGLALAS_PK": "939"
                                },
                                {
                                    "kategória": "idős",
                                    "FOGLALAS_PK": "848"
                                },
                                {
                                    "kategória": "idős",
                                    "FOGLALAS_PK": "1294"
                                },
                                {
                                    "kategória": "fiatal",
                                    "FOGLALAS_PK": "1253"
                                },
                                {
                                    "kategória": "fiatal",
                                    "FOGLALAS_PK": "1448"
                                },
                                {
                                    "kategória": "fiatal",
                                    "FOGLALAS_PK": "1418"
                                },
                                {
                                    "kategória": "fiatal",
                                    "FOGLALAS_PK": "1433"
                                },
                                {
                                    "kategória": "fiatal",
                                    "FOGLALAS_PK": "1549"
                                },
                                {
                                    "kategória": "fiatal",
                                    "FOGLALAS_PK": "1041"
                                },
                                {
                                    "kategória": "középkorú",
                                    "FOGLALAS_PK": "1069"
                                },
                                {
                                    "kategória": "középkorú",
                                    "FOGLALAS_PK": "1010"
                                },
                                {
                                    "kategória": "középkorú",
                                    "FOGLALAS_PK": "800"
                                },
                                {
                                    "kategória": "középkorú",
                                    "FOGLALAS_PK": "686"
                                },
                                {
                                    "kategória": "fiatal",
                                    "FOGLALAS_PK": "640"
                                },
                                {
                                    "kategória": "fiatal",
                                    "FOGLALAS_PK": "1138"
                                },
                                {
                                    "kategória": "fiatal",
                                    "FOGLALAS_PK": "1181"
                                },
                                {
                                    "kategória": "fiatal",
                                    "FOGLALAS_PK": "1272"
                                },
                                {
                                    "kategória": "fiatal",
                                    "FOGLALAS_PK": "1331"
                                },
                                {
                                    "kategória": "fiatal",
                                    "FOGLALAS_PK": "1465"
                                },
                                {
                                    "kategória": "középkorú",
                                    "FOGLALAS_PK": "1311"
                                },
                                {
                                    "kategória": "középkorú",
                                    "FOGLALAS_PK": "1390"
                                },
                                {
                                    "kategória": "középkorú",
                                    "FOGLALAS_PK": "1289"
                                },
                                {
                                    "kategória": "középkorú",
                                    "FOGLALAS_PK": "1148"
                                },
                                {
                                    "kategória": "középkorú",
                                    "FOGLALAS_PK": "1212"
                                },
                                {
                                    "kategória": "középkorú",
                                    "FOGLALAS_PK": "1124"
                                },
                                {
                                    "kategória": "középkorú",
                                    "FOGLALAS_PK": "910"
                                },
                                {
                                    "kategória": "középkorú",
                                    "FOGLALAS_PK": "675"
                                },
                                {
                                    "kategória": "középkorú",
                                    "FOGLALAS_PK": "711"
                                },
                                {
                                    "kategória": "középkorú",
                                    "FOGLALAS_PK": "866"
                                },
                                {
                                    "kategória": "középkorú",
                                    "FOGLALAS_PK": "882"
                                },
                                {
                                    "kategória": "fiatal",
                                    "FOGLALAS_PK": "741"
                                },
                                {
                                    "kategória": "fiatal",
                                    "FOGLALAS_PK": "680"
                                },
                                {
                                    "kategória": "fiatal",
                                    "FOGLALAS_PK": "560"
                                },
                                {
                                    "kategória": "fiatal",
                                    "FOGLALAS_PK": "1062"
                                },
                                {
                                    "kategória": "fiatal",
                                    "FOGLALAS_PK": "1051"
                                },
                                {
                                    "kategória": "fiatal",
                                    "FOGLALAS_PK": "940"
                                },
                                {
                                    "kategória": "fiatal",
                                    "FOGLALAS_PK": "1195"
                                },
                                {
                                    "kategória": "fiatal",
                                    "FOGLALAS_PK": "563"
                                },
                                {
                                    "kategória": "fiatal",
                                    "FOGLALAS_PK": "602"
                                },
                                {
                                    "kategória": "fiatal",
                                    "FOGLALAS_PK": "1343"
                                },
                                {
                                    "kategória": "középkorú",
                                    "FOGLALAS_PK": "1276"
                                },
                                {
                                    "kategória": "középkorú",
                                    "FOGLALAS_PK": "1424"
                                },
                                {
                                    "kategória": "középkorú",
                                    "FOGLALAS_PK": "1497"
                                },
                                {
                                    "kategória": "középkorú",
                                    "FOGLALAS_PK": "735"
                                },
                                {
                                    "kategória": "középkorú",
                                    "FOGLALAS_PK": "1208"
                                },
                                {
                                    "kategória": "középkorú",
                                    "FOGLALAS_PK": "1163"
                                },
                                {
                                    "kategória": "középkorú",
                                    "FOGLALAS_PK": "971"
                                },
                                {
                                    "kategória": "idős",
                                    "FOGLALAS_PK": "1110"
                                },
                                {
                                    "kategória": "idős",
                                    "FOGLALAS_PK": "1071"
                                },
                                {
                                    "kategória": "idős",
                                    "FOGLALAS_PK": "830"
                                },
                                {
                                    "kategória": "idős",
                                    "FOGLALAS_PK": "596"
                                },
                                {
                                    "kategória": "idős",
                                    "FOGLALAS_PK": "718"
                                },
                                {
                                    "kategória": "idős",
                                    "FOGLALAS_PK": "1442"
                                },
                                {
                                    "kategória": "középkorú",
                                    "FOGLALAS_PK": "1401"
                                },
                                {
                                    "kategória": "középkorú",
                                    "FOGLALAS_PK": "1479"
                                },
                                {
                                    "kategória": "középkorú",
                                    "FOGLALAS_PK": "1391"
                                },
                                {
                                    "kategória": "középkorú",
                                    "FOGLALAS_PK": "715"
                                },
                                {
                                    "kategória": "középkorú",
                                    "FOGLALAS_PK": "644"
                                },
                                {
                                    "kategória": "középkorú",
                                    "FOGLALAS_PK": "870"
                                },
                                {
                                    "kategória": "középkorú",
                                    "FOGLALAS_PK": "1144"
                                },
                                {
                                    "kategória": "középkorú",
                                    "FOGLALAS_PK": "1191"
                                },
                                {
                                    "kategória": "középkorú",
                                    "FOGLALAS_PK": "1207"
                                },
                                {
                                    "kategória": "középkorú",
                                    "FOGLALAS_PK": "770"
                                },
                                {
                                    "kategória": "középkorú",
                                    "FOGLALAS_PK": "1280"
                                },
                                {
                                    "kategória": "középkorú",
                                    "FOGLALAS_PK": "1534"
                                },
                                {
                                    "kategória": "középkorú",
                                    "FOGLALAS_PK": "817"
                                },
                                {
                                    "kategória": "középkorú",
                                    "FOGLALAS_PK": "649"
                                },
                                {
                                    "kategória": "középkorú",
                                    "FOGLALAS_PK": "959"
                                },
                                {
                                    "kategória": "fiatal",
                                    "FOGLALAS_PK": "950"
                                },
                                {
                                    "kategória": "fiatal",
                                    "FOGLALAS_PK": "1044"
                                },
                                {
                                    "kategória": "fiatal",
                                    "FOGLALAS_PK": "991"
                                },
                                {
                                    "kategória": "fiatal",
                                    "FOGLALAS_PK": "1008"
                                },
                                {
                                    "kategória": "fiatal",
                                    "FOGLALAS_PK": "618"
                                },
                                {
                                    "kategória": "fiatal",
                                    "FOGLALAS_PK": "1525"
                                },
                                {
                                    "kategória": "fiatal",
                                    "FOGLALAS_PK": "1537"
                                },
                                {
                                    "kategória": "fiatal",
                                    "FOGLALAS_PK": "1357"
                                },
                                {
                                    "kategória": "fiatal",
                                    "FOGLALAS_PK": "1145"
                                },
                                {
                                    "kategória": "fiatal",
                                    "FOGLALAS_PK": "1170"
                                },
                                {
                                    "kategória": "fiatal",
                                    "FOGLALAS_PK": "1166"
                                },
                                {
                                    "kategória": "fiatal",
                                    "FOGLALAS_PK": "698"
                                },
                                {
                                    "kategória": "fiatal",
                                    "FOGLALAS_PK": "895"
                                },
                                {
                                    "kategória": "fiatal",
                                    "FOGLALAS_PK": "798"
                                },
                                {
                                    "kategória": "fiatal",
                                    "FOGLALAS_PK": "1389"
                                },
                                {
                                    "kategória": "fiatal",
                                    "FOGLALAS_PK": "1398"
                                },
                                {
                                    "kategória": "középkorú",
                                    "FOGLALAS_PK": "1362"
                                },
                                {
                                    "kategória": "középkorú",
                                    "FOGLALAS_PK": "1324"
                                },
                                {
                                    "kategória": "középkorú",
                                    "FOGLALAS_PK": "762"
                                },
                                {
                                    "kategória": "középkorú",
                                    "FOGLALAS_PK": "1196"
                                },
                                {
                                    "kategória": "középkorú",
                                    "FOGLALAS_PK": "913"
                                },
                                {
                                    "kategória": "középkorú",
                                    "FOGLALAS_PK": "918"
                                },
                                {
                                    "kategória": "középkorú",
                                    "FOGLALAS_PK": "1189"
                                },
                                {
                                    "kategória": "középkorú",
                                    "FOGLALAS_PK": "898"
                                },
                                {
                                    "kategória": "középkorú",
                                    "FOGLALAS_PK": "849"
                                },
                                {
                                    "kategória": "középkorú",
                                    "FOGLALAS_PK": "1363"
                                },
                                {
                                    "kategória": "középkorú",
                                    "FOGLALAS_PK": "1290"
                                },
                                {
                                    "kategória": "középkorú",
                                    "FOGLALAS_PK": "1415"
                                },
                                {
                                    "kategória": "fiatal",
                                    "FOGLALAS_PK": "1275"
                                },
                                {
                                    "kategória": "fiatal",
                                    "FOGLALAS_PK": "1334"
                                },
                                {
                                    "kategória": "fiatal",
                                    "FOGLALAS_PK": "856"
                                },
                                {
                                    "kategória": "fiatal",
                                    "FOGLALAS_PK": "1203"
                                },
                                {
                                    "kategória": "középkorú",
                                    "FOGLALAS_PK": "1081"
                                },
                                {
                                    "kategória": "középkorú",
                                    "FOGLALAS_PK": "883"
                                },
                                {
                                    "kategória": "középkorú",
                                    "FOGLALAS_PK": "695"
                                },
                                {
                                    "kategória": "középkorú",
                                    "FOGLALAS_PK": "1456"
                                },
                                {
                                    "kategória": "középkorú",
                                    "FOGLALAS_PK": "1491"
                                },
                                {
                                    "kategória": "fiatal",
                                    "FOGLALAS_PK": "753"
                                },
                                {
                                    "kategória": "fiatal",
                                    "FOGLALAS_PK": "1199"
                                },
                                {
                                    "kategória": "fiatal",
                                    "FOGLALAS_PK": "1151"
                                },
                                {
                                    "kategória": "fiatal",
                                    "FOGLALAS_PK": "919"
                                },
                                {
                                    "kategória": "fiatal",
                                    "FOGLALAS_PK": "879"
                                },
                                {
                                    "kategória": "fiatal",
                                    "FOGLALAS_PK": "843"
                                },
                                {
                                    "kategória": "fiatal",
                                    "FOGLALAS_PK": "774"
                                },
                                {
                                    "kategória": "fiatal",
                                    "FOGLALAS_PK": "617"
                                },
                                {
                                    "kategória": "fiatal",
                                    "FOGLALAS_PK": "1386"
                                },
                                {
                                    "kategória": "fiatal",
                                    "FOGLALAS_PK": "1375"
                                },
                                {
                                    "kategória": "fiatal",
                                    "FOGLALAS_PK": "1288"
                                },
                                {
                                    "kategória": "középkorú",
                                    "FOGLALAS_PK": "822"
                                },
                                {
                                    "kategória": "középkorú",
                                    "FOGLALAS_PK": "1030"
                                },
                                {
                                    "kategória": "fiatal",
                                    "FOGLALAS_PK": "1176"
                                },
                                {
                                    "kategória": "fiatal",
                                    "FOGLALAS_PK": "1194"
                                },
                                {
                                    "kategória": "fiatal",
                                    "FOGLALAS_PK": "1091"
                                },
                                {
                                    "kategória": "fiatal",
                                    "FOGLALAS_PK": "784"
                                },
                                {
                                    "kategória": "fiatal",
                                    "FOGLALAS_PK": "639"
                                },
                                {
                                    "kategória": "fiatal",
                                    "FOGLALAS_PK": "641"
                                },
                                {
                                    "kategória": "fiatal",
                                    "FOGLALAS_PK": "1292"
                                },
                                {
                                    "kategória": "fiatal",
                                    "FOGLALAS_PK": "1409"
                                },
                                {
                                    "kategória": "középkorú",
                                    "FOGLALAS_PK": "1397"
                                },
                                {
                                    "kategória": "középkorú",
                                    "FOGLALAS_PK": "1352"
                                },
                                {
                                    "kategória": "középkorú",
                                    "FOGLALAS_PK": "700"
                                },
                                {
                                    "kategória": "középkorú",
                                    "FOGLALAS_PK": "1168"
                                },
                                {
                                    "kategória": "középkorú",
                                    "FOGLALAS_PK": "915"
                                },
                                {
                                    "kategória": "középkorú",
                                    "FOGLALAS_PK": "907"
                                },
                                {
                                    "kategória": "fiatal",
                                    "FOGLALAS_PK": "668"
                                },
                                {
                                    "kategória": "fiatal",
                                    "FOGLALAS_PK": "615"
                                },
                                {
                                    "kategória": "fiatal",
                                    "FOGLALAS_PK": "1447"
                                },
                                {
                                    "kategória": "középkorú",
                                    "FOGLALAS_PK": "1547"
                                },
                                {
                                    "kategória": "középkorú",
                                    "FOGLALAS_PK": "968"
                                },
                                {
                                    "kategória": "fiatal",
                                    "FOGLALAS_PK": "917"
                                },
                                {
                                    "kategória": "fiatal",
                                    "FOGLALAS_PK": "930"
                                },
                                {
                                    "kategória": "fiatal",
                                    "FOGLALAS_PK": "580"
                                },
                                {
                                    "kategória": "fiatal",
                                    "FOGLALAS_PK": "743"
                                },
                                {
                                    "kategória": "középkorú",
                                    "FOGLALAS_PK": "598"
                                },
                                {
                                    "kategória": "középkorú",
                                    "FOGLALAS_PK": "630"
                                },
                                {
                                    "kategória": "középkorú",
                                    "FOGLALAS_PK": "685"
                                },
                                {
                                    "kategória": "középkorú",
                                    "FOGLALAS_PK": "970"
                                },
                                {
                                    "kategória": "középkorú",
                                    "FOGLALAS_PK": "1100"
                                },
                                {
                                    "kategória": "középkorú",
                                    "FOGLALAS_PK": "712"
                                },
                                {
                                    "kategória": "középkorú",
                                    "FOGLALAS_PK": "833"
                                },
                                {
                                    "kategória": "középkorú",
                                    "FOGLALAS_PK": "1327"
                                },
                                {
                                    "kategória": "középkorú",
                                    "FOGLALAS_PK": "740"
                                },
                                {
                                    "kategória": "középkorú",
                                    "FOGLALAS_PK": "1086"
                                },
                                {
                                    "kategória": "középkorú",
                                    "FOGLALAS_PK": "1206"
                                },
                                {
                                    "kategória": "középkorú",
                                    "FOGLALAS_PK": "1040"
                                },
                                {
                                    "kategória": "fiatal",
                                    "FOGLALAS_PK": "1025"
                                },
                                {
                                    "kategória": "fiatal",
                                    "FOGLALAS_PK": "650"
                                },
                                {
                                    "kategória": "fiatal",
                                    "FOGLALAS_PK": "1444"
                                },
                                {
                                    "kategória": "középkorú",
                                    "FOGLALAS_PK": "1300"
                                },
                                {
                                    "kategória": "középkorú",
                                    "FOGLALAS_PK": "579"
                                },
                                {
                                    "kategória": "középkorú",
                                    "FOGLALAS_PK": "868"
                                },
                                {
                                    "kategória": "középkorú",
                                    "FOGLALAS_PK": "1063"
                                },
                                {
                                    "kategória": "középkorú",
                                    "FOGLALAS_PK": "960"
                                }
                            ]
                        },
                        "text/html": [
                            "<table>",
                            "<tr><th>kategória</th><th>FOGLALAS_PK</th></tr>",
                            "<tr><td>fiatal</td><td>869</td></tr>",
                            "<tr><td>fiatal</td><td>1165</td></tr>",
                            "<tr><td>középkorú</td><td>1046</td></tr>",
                            "<tr><td>középkorú</td><td>1205</td></tr>",
                            "<tr><td>középkorú</td><td>829</td></tr>",
                            "<tr><td>középkorú</td><td>1281</td></tr>",
                            "<tr><td>középkorú</td><td>1347</td></tr>",
                            "<tr><td>középkorú</td><td>1435</td></tr>",
                            "<tr><td>középkorú</td><td>1561</td></tr>",
                            "<tr><td>középkorú</td><td>1261</td></tr>",
                            "<tr><td>középkorú</td><td>738</td></tr>",
                            "<tr><td>középkorú</td><td>628</td></tr>",
                            "<tr><td>középkorú</td><td>666</td></tr>",
                            "<tr><td>idős</td><td>1180</td></tr>",
                            "<tr><td>idős</td><td>1544</td></tr>",
                            "<tr><td>középkorú</td><td>1441</td></tr>",
                            "<tr><td>középkorú</td><td>1417</td></tr>",
                            "<tr><td>középkorú</td><td>606</td></tr>",
                            "<tr><td>középkorú</td><td>571</td></tr>",
                            "<tr><td>fiatal</td><td>736</td></tr>",
                            "<tr><td>fiatal</td><td>1162</td></tr>",
                            "<tr><td>fiatal</td><td>1371</td></tr>",
                            "<tr><td>középkorú</td><td>1364</td></tr>",
                            "<tr><td>középkorú</td><td>1299</td></tr>",
                            "<tr><td>középkorú</td><td>1406</td></tr>",
                            "<tr><td>középkorú</td><td>1164</td></tr>",
                            "<tr><td>középkorú</td><td>1122</td></tr>",
                            "<tr><td>középkorú</td><td>673</td></tr>",
                            "<tr><td>középkorú</td><td>676</td></tr>",
                            "<tr><td>középkorú</td><td>655</td></tr>",
                            "<tr><td>középkorú</td><td>1302</td></tr>",
                            "<tr><td>fiatal</td><td>1332</td></tr>",
                            "<tr><td>fiatal</td><td>1457</td></tr>",
                            "<tr><td>fiatal</td><td>658</td></tr>",
                            "<tr><td>fiatal</td><td>727</td></tr>",
                            "<tr><td>fiatal</td><td>1175</td></tr>",
                            "<tr><td>fiatal</td><td>937</td></tr>",
                            "<tr><td>idős</td><td>1049</td></tr>",
                            "<tr><td>idős</td><td>624</td></tr>",
                            "<tr><td>idős</td><td>1437</td></tr>",
                            "<tr><td>idős</td><td>1286</td></tr>",
                            "<tr><td>fiatal</td><td>1511</td></tr>",
                            "<tr><td>fiatal</td><td>693</td></tr>",
                            "<tr><td>fiatal</td><td>1126</td></tr>",
                            "<tr><td>fiatal</td><td>1092</td></tr>",
                            "<tr><td>középkorú</td><td>1101</td></tr>",
                            "<tr><td>középkorú</td><td>1121</td></tr>",
                            "<tr><td>középkorú</td><td>1009</td></tr>",
                            "<tr><td>középkorú</td><td>975</td></tr>",
                            "<tr><td>középkorú</td><td>1478</td></tr>",
                            "<tr><td>középkorú</td><td>1310</td></tr>",
                            "<tr><td>középkorú</td><td>1328</td></tr>",
                            "<tr><td>középkorú</td><td>1489</td></tr>",
                            "<tr><td>középkorú</td><td>701</td></tr>",
                            "<tr><td>középkorú</td><td>674</td></tr>",
                            "<tr><td>középkorú</td><td>611</td></tr>",
                            "<tr><td>középkorú</td><td>837</td></tr>",
                            "<tr><td>középkorú</td><td>1059</td></tr>",
                            "<tr><td>középkorú</td><td>1427</td></tr>",
                            "<tr><td>középkorú</td><td>1317</td></tr>",
                            "<tr><td>fiatal</td><td>1298</td></tr>",
                            "<tr><td>fiatal</td><td>983</td></tr>",
                            "<tr><td>fiatal</td><td>927</td></tr>",
                            "<tr><td>fiatal</td><td>1142</td></tr>",
                            "<tr><td>fiatal</td><td>1094</td></tr>",
                            "<tr><td>fiatal</td><td>1153</td></tr>",
                            "<tr><td>fiatal</td><td>731</td></tr>",
                            "<tr><td>fiatal</td><td>796</td></tr>",
                            "<tr><td>fiatal</td><td>662</td></tr>",
                            "<tr><td>fiatal</td><td>643</td></tr>",
                            "<tr><td>fiatal</td><td>786</td></tr>",
                            "<tr><td>fiatal</td><td>1014</td></tr>",
                            "<tr><td>fiatal</td><td>1330</td></tr>",
                            "<tr><td>fiatal</td><td>1297</td></tr>",
                            "<tr><td>középkorú</td><td>1319</td></tr>",
                            "<tr><td>fiatal</td><td>1514</td></tr>",
                            "<tr><td>fiatal</td><td>1173</td></tr>",
                            "<tr><td>fiatal</td><td>722</td></tr>",
                            "<tr><td>fiatal</td><td>744</td></tr>",
                            "<tr><td>fiatal</td><td>826</td></tr>",
                            "<tr><td>fiatal</td><td>809</td></tr>",
                            "<tr><td>fiatal</td><td>1295</td></tr>",
                            "<tr><td>középkorú</td><td>1232</td></tr>",
                            "<tr><td>középkorú</td><td>1464</td></tr>",
                            "<tr><td>középkorú</td><td>1047</td></tr>",
                            "<tr><td>fiatal</td><td>1053</td></tr>",
                            "<tr><td>fiatal</td><td>1128</td></tr>",
                            "<tr><td>fiatal</td><td>725</td></tr>",
                            "<tr><td>idős</td><td>793</td></tr>",
                            "<tr><td>idős</td><td>780</td></tr>",
                            "<tr><td>idős</td><td>607</td></tr>",
                            "<tr><td>idős</td><td>578</td></tr>",
                            "<tr><td>idős</td><td>581</td></tr>",
                            "<tr><td>idős</td><td>1149</td></tr>",
                            "<tr><td>középkorú</td><td>986</td></tr>",
                            "<tr><td>középkorú</td><td>1519</td></tr>",
                            "<tr><td>középkorú</td><td>1560</td></tr>",
                            "<tr><td>középkorú</td><td>1031</td></tr>",
                            "<tr><td>középkorú</td><td>1158</td></tr>",
                            "<tr><td>középkorú</td><td>704</td></tr>",
                            "<tr><td>fiatal</td><td>679</td></tr>",
                            "<tr><td>fiatal</td><td>590</td></tr>",
                            "<tr><td>fiatal</td><td>827</td></tr>",
                            "<tr><td>fiatal</td><td>855</td></tr>",
                            "<tr><td>fiatal</td><td>1216</td></tr>",
                            "<tr><td>fiatal</td><td>1132</td></tr>",
                            "<tr><td>fiatal</td><td>988</td></tr>",
                            "<tr><td>fiatal</td><td>1271</td></tr>",
                            "<tr><td>középkorú</td><td>1551</td></tr>",
                            "<tr><td>középkorú</td><td>1553</td></tr>",
                            "<tr><td>középkorú</td><td>1113</td></tr>",
                            "<tr><td>középkorú</td><td>1085</td></tr>",
                            "<tr><td>fiatal</td><td>921</td></tr>",
                            "<tr><td>fiatal</td><td>1483</td></tr>",
                            "<tr><td>középkorú</td><td>1539</td></tr>",
                            "<tr><td>középkorú</td><td>1432</td></tr>",
                            "<tr><td>középkorú</td><td>1274</td></tr>",
                            "<tr><td>középkorú</td><td>936</td></tr>",
                            "<tr><td>középkorú</td><td>1075</td></tr>",
                            "<tr><td>középkorú</td><td>1182</td></tr>",
                            "<tr><td>középkorú</td><td>1007</td></tr>",
                            "<tr><td>középkorú</td><td>576</td></tr>",
                            "<tr><td>középkorú</td><td>1249</td></tr>",
                            "<tr><td>középkorú</td><td>1453</td></tr>",
                            "<tr><td>középkorú</td><td>1573</td></tr>",
                            "<tr><td>fiatal</td><td>1558</td></tr>",
                            "<tr><td>fiatal</td><td>1412</td></tr>",
                            "<tr><td>fiatal</td><td>1485</td></tr>",
                            "<tr><td>fiatal</td><td>1248</td></tr>",
                            "<tr><td>fiatal</td><td>1240</td></tr>",
                            "<tr><td>fiatal</td><td>1353</td></tr>",
                            "<tr><td>fiatal</td><td>559</td></tr>",
                            "<tr><td>fiatal</td><td>645</td></tr>",
                            "<tr><td>fiatal</td><td>758</td></tr>",
                            "<tr><td>fiatal</td><td>1003</td></tr>",
                            "<tr><td>fiatal</td><td>1037</td></tr>",
                            "<tr><td>fiatal</td><td>932</td></tr>",
                            "<tr><td>fiatal</td><td>902</td></tr>",
                            "<tr><td>fiatal</td><td>908</td></tr>",
                            "<tr><td>fiatal</td><td>1150</td></tr>",
                            "<tr><td>fiatal</td><td>1084</td></tr>",
                            "<tr><td>fiatal</td><td>811</td></tr>",
                            "<tr><td>fiatal</td><td>1387</td></tr>",
                            "<tr><td>fiatal</td><td>1256</td></tr>",
                            "<tr><td>fiatal</td><td>1550</td></tr>",
                            "<tr><td>fiatal</td><td>1538</td></tr>",
                            "<tr><td>fiatal</td><td>1377</td></tr>",
                            "<tr><td>fiatal</td><td>670</td></tr>",
                            "<tr><td>fiatal</td><td>912</td></tr>",
                            "<tr><td>fiatal</td><td>873</td></tr>",
                            "<tr><td>fiatal</td><td>771</td></tr>",
                            "<tr><td>fiatal</td><td>1361</td></tr>",
                            "<tr><td>fiatal</td><td>1268</td></tr>",
                            "<tr><td>fiatal</td><td>1522</td></tr>",
                            "<tr><td>középkorú</td><td>1383</td></tr>",
                            "<tr><td>középkorú</td><td>1090</td></tr>",
                            "<tr><td>középkorú</td><td>1135</td></tr>",
                            "<tr><td>középkorú</td><td>1152</td></tr>",
                            "<tr><td>középkorú</td><td>1219</td></tr>",
                            "<tr><td>középkorú</td><td>1270</td></tr>",
                            "<tr><td>középkorú</td><td>1468</td></tr>",
                            "<tr><td>középkorú</td><td>1408</td></tr>",
                            "<tr><td>középkorú</td><td>1535</td></tr>",
                            "<tr><td>középkorú</td><td>797</td></tr>",
                            "<tr><td>fiatal</td><td>660</td></tr>",
                            "<tr><td>fiatal</td><td>903</td></tr>",
                            "<tr><td>fiatal</td><td>1231</td></tr>",
                            "<tr><td>fiatal</td><td>1559</td></tr>",
                            "<tr><td>fiatal</td><td>1518</td></tr>",
                            "<tr><td>fiatal</td><td>1515</td></tr>",
                            "<tr><td>fiatal</td><td>1399</td></tr>",
                            "<tr><td>fiatal</td><td>1410</td></tr>",
                            "<tr><td>fiatal</td><td>703</td></tr>",
                            "<tr><td>fiatal</td><td>622</td></tr>",
                            "<tr><td>középkorú</td><td>582</td></tr>",
                            "<tr><td>középkorú</td><td>691</td></tr>",
                            "<tr><td>középkorú</td><td>851</td></tr>",
                            "<tr><td>középkorú</td><td>863</td></tr>",
                            "<tr><td>középkorú</td><td>805</td></tr>",
                            "<tr><td>középkorú</td><td>1045</td></tr>",
                            "<tr><td>középkorú</td><td>1019</td></tr>",
                            "<tr><td>középkorú</td><td>1023</td></tr>",
                            "<tr><td>középkorú</td><td>1239</td></tr>",
                            "<tr><td>fiatal</td><td>1346</td></tr>",
                            "<tr><td>fiatal</td><td>1459</td></tr>",
                            "<tr><td>fiatal</td><td>1054</td></tr>",
                            "<tr><td>fiatal</td><td>816</td></tr>",
                            "<tr><td>fiatal</td><td>728</td></tr>",
                            "<tr><td>fiatal</td><td>678</td></tr>",
                            "<tr><td>fiatal</td><td>595</td></tr>",
                            "<tr><td>fiatal</td><td>1137</td></tr>",
                            "<tr><td>fiatal</td><td>1315</td></tr>",
                            "<tr><td>fiatal</td><td>1376</td></tr>",
                            "<tr><td>fiatal</td><td>1257</td></tr>",
                            "<tr><td>fiatal</td><td>1416</td></tr>",
                            "<tr><td>fiatal</td><td>1404</td></tr>",
                            "<tr><td>fiatal</td><td>924</td></tr>",
                            "<tr><td>fiatal</td><td>933</td></tr>",
                            "<tr><td>fiatal</td><td>717</td></tr>",
                            "<tr><td>fiatal</td><td>752</td></tr>",
                            "<tr><td>fiatal</td><td>1341</td></tr>",
                            "<tr><td>középkorú</td><td>1382</td></tr>",
                            "<tr><td>középkorú</td><td>760</td></tr>",
                            "<tr><td>fiatal</td><td>823</td></tr>",
                            "<tr><td>fiatal</td><td>896</td></tr>",
                            "<tr><td>fiatal</td><td>591</td></tr>",
                            "<tr><td>fiatal</td><td>1117</td></tr>",
                            "<tr><td>középkorú</td><td>1185</td></tr>",
                            "<tr><td>középkorú</td><td>941</td></tr>",
                            "<tr><td>középkorú</td><td>944</td></tr>",
                            "<tr><td>középkorú</td><td>972</td></tr>",
                            "<tr><td>középkorú</td><td>768</td></tr>",
                            "<tr><td>középkorú</td><td>1370</td></tr>",
                            "<tr><td>középkorú</td><td>1359</td></tr>",
                            "<tr><td>középkorú</td><td>1279</td></tr>",
                            "<tr><td>középkorú</td><td>1512</td></tr>",
                            "<tr><td>középkorú</td><td>1490</td></tr>",
                            "<tr><td>középkorú</td><td>1381</td></tr>",
                            "<tr><td>középkorú</td><td>952</td></tr>",
                            "<tr><td>középkorú</td><td>1098</td></tr>",
                            "<tr><td>középkorú</td><td>1099</td></tr>",
                            "<tr><td>fiatal</td><td>737</td></tr>",
                            "<tr><td>fiatal</td><td>838</td></tr>",
                            "<tr><td>fiatal</td><td>719</td></tr>",
                            "<tr><td>fiatal</td><td>1337</td></tr>",
                            "<tr><td>fiatal</td><td>1238</td></tr>",
                            "<tr><td>fiatal</td><td>1368</td></tr>",
                            "<tr><td>fiatal</td><td>1501</td></tr>",
                            "<tr><td>fiatal</td><td>1400</td></tr>",
                            "<tr><td>fiatal</td><td>713</td></tr>",
                            "<tr><td>fiatal</td><td>714</td></tr>",
                            "<tr><td>fiatal</td><td>626</td></tr>",
                            "<tr><td>fiatal</td><td>847</td></tr>",
                            "<tr><td>fiatal</td><td>1220</td></tr>",
                            "<tr><td>középkorú</td><td>1179</td></tr>",
                            "<tr><td>középkorú</td><td>900</td></tr>",
                            "<tr><td>középkorú</td><td>745</td></tr>",
                            "<tr><td>középkorú</td><td>646</td></tr>",
                            "<tr><td>középkorú</td><td>1521</td></tr>",
                            "<tr><td>középkorú</td><td>1326</td></tr>",
                            "<tr><td>középkorú</td><td>1533</td></tr>",
                            "<tr><td>középkorú</td><td>953</td></tr>",
                            "<tr><td>középkorú</td><td>1155</td></tr>",
                            "<tr><td>középkorú</td><td>1210</td></tr>",
                            "<tr><td>középkorú</td><td>1200</td></tr>",
                            "<tr><td>középkorú</td><td>1130</td></tr>",
                            "<tr><td>fiatal</td><td>1229</td></tr>",
                            "<tr><td>fiatal</td><td>969</td></tr>",
                            "<tr><td>fiatal</td><td>1035</td></tr>",
                            "<tr><td>fiatal</td><td>612</td></tr>",
                            "<tr><td>fiatal</td><td>824</td></tr>",
                            "<tr><td>fiatal</td><td>812</td></tr>",
                            "<tr><td>fiatal</td><td>1472</td></tr>",
                            "<tr><td>fiatal</td><td>1411</td></tr>",
                            "<tr><td>fiatal</td><td>1477</td></tr>",
                            "<tr><td>fiatal</td><td>584</td></tr>",
                            "<tr><td>fiatal</td><td>570</td></tr>",
                            "<tr><td>fiatal</td><td>942</td></tr>",
                            "<tr><td>fiatal</td><td>925</td></tr>",
                            "<tr><td>fiatal</td><td>1120</td></tr>",
                            "<tr><td>középkorú</td><td>654</td></tr>",
                            "<tr><td>középkorú</td><td>1536</td></tr>",
                            "<tr><td>középkorú</td><td>1322</td></tr>",
                            "<tr><td>középkorú</td><td>1241</td></tr>",
                            "<tr><td>középkorú</td><td>1555</td></tr>",
                            "<tr><td>középkorú</td><td>1373</td></tr>",
                            "<tr><td>középkorú</td><td>832</td></tr>",
                            "<tr><td>középkorú</td><td>876</td></tr>",
                            "<tr><td>középkorú</td><td>1174</td></tr>",
                            "<tr><td>fiatal</td><td>1147</td></tr>",
                            "<tr><td>fiatal</td><td>957</td></tr>",
                            "<tr><td>fiatal</td><td>886</td></tr>",
                            "<tr><td>fiatal</td><td>1243</td></tr>",
                            "<tr><td>fiatal</td><td>1513</td></tr>",
                            "<tr><td>középkorú</td><td>1531</td></tr>",
                            "<tr><td>középkorú</td><td>1277</td></tr>",
                            "<tr><td>középkorú</td><td>613</td></tr>",
                            "<tr><td>középkorú</td><td>623</td></tr>",
                            "<tr><td>középkorú</td><td>951</td></tr>",
                            "<tr><td>középkorú</td><td>943</td></tr>",
                            "<tr><td>középkorú</td><td>906</td></tr>",
                            "<tr><td>középkorú</td><td>1021</td></tr>",
                            "<tr><td>fiatal</td><td>1024</td></tr>",
                            "<tr><td>fiatal</td><td>1068</td></tr>",
                            "<tr><td>fiatal</td><td>909</td></tr>",
                            "<tr><td>fiatal</td><td>761</td></tr>",
                            "<tr><td>fiatal</td><td>1303</td></tr>",
                            "<tr><td>fiatal</td><td>1451</td></tr>",
                            "<tr><td>fiatal</td><td>1571</td></tr>",
                            "<tr><td>középkorú</td><td>1395</td></tr>",
                            "<tr><td>középkorú</td><td>1520</td></tr>",
                            "<tr><td>középkorú</td><td>1554</td></tr>",
                            "<tr><td>középkorú</td><td>1278</td></tr>",
                            "<tr><td>középkorú</td><td>594</td></tr>",
                            "<tr><td>középkorú</td><td>629</td></tr>",
                            "<tr><td>középkorú</td><td>575</td></tr>",
                            "<tr><td>középkorú</td><td>1036</td></tr>",
                            "<tr><td>idős</td><td>573</td></tr>",
                            "<tr><td>idős</td><td>635</td></tr>",
                            "<tr><td>idős</td><td>859</td></tr>",
                            "<tr><td>idős</td><td>1269</td></tr>",
                            "<tr><td>idős</td><td>1309</td></tr>",
                            "<tr><td>idős</td><td>1419</td></tr>",
                            "<tr><td>idős</td><td>1580</td></tr>",
                            "<tr><td>középkorú</td><td>1454</td></tr>",
                            "<tr><td>középkorú</td><td>807</td></tr>",
                            "<tr><td>középkorú</td><td>801</td></tr>",
                            "<tr><td>középkorú</td><td>653</td></tr>",
                            "<tr><td>középkorú</td><td>681</td></tr>",
                            "<tr><td>középkorú</td><td>994</td></tr>",
                            "<tr><td>középkorú</td><td>938</td></tr>",
                            "<tr><td>középkorú</td><td>1227</td></tr>",
                            "<tr><td>középkorú</td><td>1104</td></tr>",
                            "<tr><td>középkorú</td><td>1072</td></tr>",
                            "<tr><td>középkorú</td><td>1407</td></tr>",
                            "<tr><td>középkorú</td><td>1546</td></tr>",
                            "<tr><td>középkorú</td><td>1296</td></tr>",
                            "<tr><td>középkorú</td><td>1572</td></tr>",
                            "<tr><td>fiatal</td><td>1540</td></tr>",
                            "<tr><td>középkorú</td><td>1494</td></tr>",
                            "<tr><td>középkorú</td><td>1470</td></tr>",
                            "<tr><td>középkorú</td><td>1214</td></tr>",
                            "<tr><td>középkorú</td><td>977</td></tr>",
                            "<tr><td>középkorú</td><td>690</td></tr>",
                            "<tr><td>középkorú</td><td>804</td></tr>",
                            "<tr><td>középkorú</td><td>783</td></tr>",
                            "<tr><td>középkorú</td><td>746</td></tr>",
                            "<tr><td>középkorú</td><td>862</td></tr>",
                            "<tr><td>középkorú</td><td>1254</td></tr>",
                            "<tr><td>fiatal</td><td>1304</td></tr>",
                            "<tr><td>fiatal</td><td>825</td></tr>",
                            "<tr><td>fiatal</td><td>785</td></tr>",
                            "<tr><td>fiatal</td><td>1215</td></tr>",
                            "<tr><td>fiatal</td><td>1140</td></tr>",
                            "<tr><td>középkorú</td><td>1065</td></tr>",
                            "<tr><td>középkorú</td><td>1061</td></tr>",
                            "<tr><td>középkorú</td><td>773</td></tr>",
                            "<tr><td>középkorú</td><td>750</td></tr>",
                            "<tr><td>középkorú</td><td>672</td></tr>",
                            "<tr><td>középkorú</td><td>1440</td></tr>",
                            "<tr><td>középkorú</td><td>1509</td></tr>",
                            "<tr><td>fiatal</td><td>1484</td></tr>",
                            "<tr><td>fiatal</td><td>1313</td></tr>",
                            "<tr><td>fiatal</td><td>1354</td></tr>",
                            "<tr><td>fiatal</td><td>706</td></tr>",
                            "<tr><td>fiatal</td><td>765</td></tr>",
                            "<tr><td>fiatal</td><td>1083</td></tr>",
                            "<tr><td>fiatal</td><td>1119</td></tr>",
                            "<tr><td>fiatal</td><td>1193</td></tr>",
                            "<tr><td>fiatal</td><td>772</td></tr>",
                            "<tr><td>fiatal</td><td>1385</td></tr>",
                            "<tr><td>fiatal</td><td>1345</td></tr>",
                            "<tr><td>fiatal</td><td>1246</td></tr>",
                            "<tr><td>fiatal</td><td>1097</td></tr>",
                            "<tr><td>fiatal</td><td>993</td></tr>",
                            "<tr><td>fiatal</td><td>1475</td></tr>",
                            "<tr><td>fiatal</td><td>1421</td></tr>",
                            "<tr><td>fiatal</td><td>1574</td></tr>",
                            "<tr><td>középkorú</td><td>1516</td></tr>",
                            "<tr><td>középkorú</td><td>1235</td></tr>",
                            "<tr><td>középkorú</td><td>874</td></tr>",
                            "<tr><td>középkorú</td><td>688</td></tr>",
                            "<tr><td>idős</td><td>1125</td></tr>",
                            "<tr><td>idős</td><td>1438</td></tr>",
                            "<tr><td>középkorú</td><td>1423</td></tr>",
                            "<tr><td>középkorú</td><td>1255</td></tr>",
                            "<tr><td>középkorú</td><td>1349</td></tr>",
                            "<tr><td>középkorú</td><td>1495</td></tr>",
                            "<tr><td>középkorú</td><td>1157</td></tr>",
                            "<tr><td>középkorú</td><td>1160</td></tr>",
                            "<tr><td>középkorú</td><td>614</td></tr>",
                            "<tr><td>középkorú</td><td>842</td></tr>",
                            "<tr><td>középkorú</td><td>625</td></tr>",
                            "<tr><td>középkorú</td><td>1131</td></tr>",
                            "<tr><td>középkorú</td><td>966</td></tr>",
                            "<tr><td>középkorú</td><td>1262</td></tr>",
                            "<tr><td>fiatal</td><td>1305</td></tr>",
                            "<tr><td>fiatal</td><td>1467</td></tr>",
                            "<tr><td>fiatal</td><td>996</td></tr>",
                            "<tr><td>fiatal</td><td>1088</td></tr>",
                            "<tr><td>fiatal</td><td>667</td></tr>",
                            "<tr><td>fiatal</td><td>828</td></tr>",
                            "<tr><td>fiatal</td><td>889</td></tr>",
                            "<tr><td>középkorú</td><td>844</td></tr>",
                            "<tr><td>középkorú</td><td>730</td></tr>",
                            "<tr><td>középkorú</td><td>973</td></tr>",
                            "<tr><td>középkorú</td><td>1291</td></tr>",
                            "<tr><td>fiatal</td><td>1260</td></tr>",
                            "<tr><td>fiatal</td><td>841</td></tr>",
                            "<tr><td>fiatal</td><td>603</td></tr>",
                            "<tr><td>középkorú</td><td>593</td></tr>",
                            "<tr><td>középkorú</td><td>710</td></tr>",
                            "<tr><td>középkorú</td><td>1022</td></tr>",
                            "<tr><td>középkorú</td><td>1496</td></tr>",
                            "<tr><td>középkorú</td><td>1524</td></tr>",
                            "<tr><td>középkorú</td><td>1556</td></tr>",
                            "<tr><td>idős</td><td>1114</td></tr>",
                            "<tr><td>középkorú</td><td>1064</td></tr>",
                            "<tr><td>középkorú</td><td>962</td></tr>",
                            "<tr><td>középkorú</td><td>831</td></tr>",
                            "<tr><td>középkorú</td><td>788</td></tr>",
                            "<tr><td>idős</td><td>756</td></tr>",
                            "<tr><td>idős</td><td>621</td></tr>",
                            "<tr><td>idős</td><td>1106</td></tr>",
                            "<tr><td>idős</td><td>1563</td></tr>",
                            "<tr><td>idős</td><td>1492</td></tr>",
                            "<tr><td>középkorú</td><td>1463</td></tr>",
                            "<tr><td>középkorú</td><td>1265</td></tr>",
                            "<tr><td>középkorú</td><td>1335</td></tr>",
                            "<tr><td>középkorú</td><td>1000</td></tr>",
                            "<tr><td>középkorú</td><td>795</td></tr>",
                            "<tr><td>középkorú</td><td>890</td></tr>",
                            "<tr><td>középkorú</td><td>887</td></tr>",
                            "<tr><td>középkorú</td><td>861</td></tr>",
                            "<tr><td>középkorú</td><td>734</td></tr>",
                            "<tr><td>középkorú</td><td>683</td></tr>",
                            "<tr><td>középkorú</td><td>946</td></tr>",
                            "<tr><td>középkorú</td><td>1527</td></tr>",
                            "<tr><td>középkorú</td><td>1566</td></tr>",
                            "<tr><td>fiatal</td><td>1476</td></tr>",
                            "<tr><td>fiatal</td><td>1405</td></tr>",
                            "<tr><td>középkorú</td><td>1452</td></tr>",
                            "<tr><td>középkorú</td><td>1184</td></tr>",
                            "<tr><td>középkorú</td><td>835</td></tr>",
                            "<tr><td>fiatal</td><td>742</td></tr>",
                            "<tr><td>fiatal</td><td>754</td></tr>",
                            "<tr><td>fiatal</td><td>1393</td></tr>",
                            "<tr><td>fiatal</td><td>1245</td></tr>",
                            "<tr><td>fiatal</td><td>1209</td></tr>",
                            "<tr><td>fiatal</td><td>1060</td></tr>",
                            "<tr><td>középkorú</td><td>982</td></tr>",
                            "<tr><td>középkorú</td><td>989</td></tr>",
                            "<tr><td>középkorú</td><td>836</td></tr>",
                            "<tr><td>középkorú</td><td>810</td></tr>",
                            "<tr><td>középkorú</td><td>806</td></tr>",
                            "<tr><td>középkorú</td><td>1499</td></tr>",
                            "<tr><td>középkorú</td><td>1487</td></tr>",
                            "<tr><td>fiatal</td><td>1413</td></tr>",
                            "<tr><td>fiatal</td><td>1301</td></tr>",
                            "<tr><td>fiatal</td><td>1127</td></tr>",
                            "<tr><td>fiatal</td><td>599</td></tr>",
                            "<tr><td>fiatal</td><td>583</td></tr>",
                            "<tr><td>fiatal</td><td>1507</td></tr>",
                            "<tr><td>fiatal</td><td>1087</td></tr>",
                            "<tr><td>fiatal</td><td>998</td></tr>",
                            "<tr><td>idős</td><td>1118</td></tr>",
                            "<tr><td>idős</td><td>820</td></tr>",
                            "<tr><td>idős</td><td>1526</td></tr>",
                            "<tr><td>középkorú</td><td>1486</td></tr>",
                            "<tr><td>középkorú</td><td>1402</td></tr>",
                            "<tr><td>középkorú</td><td>1431</td></tr>",
                            "<tr><td>középkorú</td><td>1259</td></tr>",
                            "<tr><td>középkorú</td><td>840</td></tr>",
                            "<tr><td>középkorú</td><td>789</td></tr>",
                            "<tr><td>középkorú</td><td>1011</td></tr>",
                            "<tr><td>középkorú</td><td>1314</td></tr>",
                            "<tr><td>középkorú</td><td>1318</td></tr>",
                            "<tr><td>középkorú</td><td>1378</td></tr>",
                            "<tr><td>fiatal</td><td>1348</td></tr>",
                            "<tr><td>fiatal</td><td>1050</td></tr>",
                            "<tr><td>fiatal</td><td>1133</td></tr>",
                            "<tr><td>középkorú</td><td>1039</td></tr>",
                            "<tr><td>középkorú</td><td>1013</td></tr>",
                            "<tr><td>középkorú</td><td>677</td></tr>",
                            "<tr><td>középkorú</td><td>1321</td></tr>",
                            "<tr><td>középkorú</td><td>1307</td></tr>",
                            "<tr><td>középkorú</td><td>1426</td></tr>",
                            "<tr><td>középkorú</td><td>1569</td></tr>",
                            "<tr><td>középkorú</td><td>616</td></tr>",
                            "<tr><td>középkorú</td><td>813</td></tr>",
                            "<tr><td>középkorú</td><td>905</td></tr>",
                            "<tr><td>fiatal</td><td>920</td></tr>",
                            "<tr><td>fiatal</td><td>729</td></tr>",
                            "<tr><td>fiatal</td><td>592</td></tr>",
                            "<tr><td>fiatal</td><td>699</td></tr>",
                            "<tr><td>fiatal</td><td>926</td></tr>",
                            "<tr><td>fiatal</td><td>1577</td></tr>",
                            "<tr><td>fiatal</td><td>1493</td></tr>",
                            "<tr><td>fiatal</td><td>1244</td></tr>",
                            "<tr><td>fiatal</td><td>1323</td></tr>",
                            "<tr><td>fiatal</td><td>1218</td></tr>",
                            "<tr><td>fiatal</td><td>692</td></tr>",
                            "<tr><td>idős</td><td>568</td></tr>",
                            "<tr><td>idős</td><td>814</td></tr>",
                            "<tr><td>idős</td><td>885</td></tr>",
                            "<tr><td>idős</td><td>1070</td></tr>",
                            "<tr><td>idős</td><td>931</td></tr>",
                            "<tr><td>idős</td><td>1016</td></tr>",
                            "<tr><td>idős</td><td>999</td></tr>",
                            "<tr><td>idős</td><td>1439</td></tr>",
                            "<tr><td>idős</td><td>1388</td></tr>",
                            "<tr><td>idős</td><td>1360</td></tr>",
                            "<tr><td>idős</td><td>1570</td></tr>",
                            "<tr><td>idős</td><td>1198</td></tr>",
                            "<tr><td>idős</td><td>572</td></tr>",
                            "<tr><td>fiatal</td><td>1002</td></tr>",
                            "<tr><td>fiatal</td><td>1340</td></tr>",
                            "<tr><td>fiatal</td><td>1325</td></tr>",
                            "<tr><td>fiatal</td><td>1455</td></tr>",
                            "<tr><td>fiatal</td><td>1473</td></tr>",
                            "<tr><td>fiatal</td><td>911</td></tr>",
                            "<tr><td>fiatal</td><td>914</td></tr>",
                            "<tr><td>fiatal</td><td>1192</td></tr>",
                            "<tr><td>fiatal</td><td>1221</td></tr>",
                            "<tr><td>fiatal</td><td>665</td></tr>",
                            "<tr><td>fiatal</td><td>723</td></tr>",
                            "<tr><td>fiatal</td><td>751</td></tr>",
                            "<tr><td>középkorú</td><td>819</td></tr>",
                            "<tr><td>középkorú</td><td>633</td></tr>",
                            "<tr><td>középkorú</td><td>574</td></tr>",
                            "<tr><td>középkorú</td><td>956</td></tr>",
                            "<tr><td>középkorú</td><td>1029</td></tr>",
                            "<tr><td>középkorú</td><td>1458</td></tr>",
                            "<tr><td>középkorú</td><td>1414</td></tr>",
                            "<tr><td>középkorú</td><td>1247</td></tr>",
                            "<tr><td>középkorú</td><td>922</td></tr>",
                            "<tr><td>középkorú</td><td>1108</td></tr>",
                            "<tr><td>középkorú</td><td>1115</td></tr>",
                            "<tr><td>középkorú</td><td>1077</td></tr>",
                            "<tr><td>középkorú</td><td>627</td></tr>",
                            "<tr><td>középkorú</td><td>888</td></tr>",
                            "<tr><td>középkorú</td><td>565</td></tr>",
                            "<tr><td>középkorú</td><td>1096</td></tr>",
                            "<tr><td>középkorú</td><td>1105</td></tr>",
                            "<tr><td>középkorú</td><td>1095</td></tr>",
                            "<tr><td>középkorú</td><td>656</td></tr>",
                            "<tr><td>középkorú</td><td>821</td></tr>",
                            "<tr><td>középkorú</td><td>1498</td></tr>",
                            "<tr><td>középkorú</td><td>1584</td></tr>",
                            "<tr><td>középkorú</td><td>1564</td></tr>",
                            "<tr><td>középkorú</td><td>1445</td></tr>",
                            "<tr><td>középkorú</td><td>1237</td></tr>",
                            "<tr><td>középkorú</td><td>1358</td></tr>",
                            "<tr><td>középkorú</td><td>894</td></tr>",
                            "<tr><td>középkorú</td><td>747</td></tr>",
                            "<tr><td>középkorú</td><td>732</td></tr>",
                            "<tr><td>középkorú</td><td>1161</td></tr>",
                            "<tr><td>középkorú</td><td>929</td></tr>",
                            "<tr><td>idős</td><td>901</td></tr>",
                            "<tr><td>idős</td><td>1020</td></tr>",
                            "<tr><td>idős</td><td>749</td></tr>",
                            "<tr><td>idős</td><td>566</td></tr>",
                            "<tr><td>idős</td><td>1392</td></tr>",
                            "<tr><td>középkorú</td><td>1502</td></tr>",
                            "<tr><td>középkorú</td><td>1542</td></tr>",
                            "<tr><td>középkorú</td><td>1266</td></tr>",
                            "<tr><td>középkorú</td><td>659</td></tr>",
                            "<tr><td>középkorú</td><td>1012</td></tr>",
                            "<tr><td>középkorú</td><td>1067</td></tr>",
                            "<tr><td>idős</td><td>1055</td></tr>",
                            "<tr><td>idős</td><td>964</td></tr>",
                            "<tr><td>idős</td><td>1217</td></tr>",
                            "<tr><td>idős</td><td>608</td></tr>",
                            "<tr><td>idős</td><td>1460</td></tr>",
                            "<tr><td>fiatal</td><td>1474</td></tr>",
                            "<tr><td>fiatal</td><td>597</td></tr>",
                            "<tr><td>fiatal</td><td>763</td></tr>",
                            "<tr><td>középkorú</td><td>682</td></tr>",
                            "<tr><td>középkorú</td><td>1394</td></tr>",
                            "<tr><td>fiatal</td><td>1449</td></tr>",
                            "<tr><td>fiatal</td><td>1425</td></tr>",
                            "<tr><td>fiatal</td><td>696</td></tr>",
                            "<tr><td>fiatal</td><td>716</td></tr>",
                            "<tr><td>fiatal</td><td>1223</td></tr>",
                            "<tr><td>fiatal</td><td>961</td></tr>",
                            "<tr><td>idős</td><td>1078</td></tr>",
                            "<tr><td>középkorú</td><td>1032</td></tr>",
                            "<tr><td>középkorú</td><td>604</td></tr>",
                            "<tr><td>középkorú</td><td>561</td></tr>",
                            "<tr><td>középkorú</td><td>778</td></tr>",
                            "<tr><td>középkorú</td><td>1320</td></tr>",
                            "<tr><td>idős</td><td>1510</td></tr>",
                            "<tr><td>idős</td><td>947</td></tr>",
                            "<tr><td>idős</td><td>899</td></tr>",
                            "<tr><td>idős</td><td>934</td></tr>",
                            "<tr><td>idős</td><td>1111</td></tr>",
                            "<tr><td>idős</td><td>1548</td></tr>",
                            "<tr><td>fiatal</td><td>1264</td></tr>",
                            "<tr><td>fiatal</td><td>1567</td></tr>",
                            "<tr><td>fiatal</td><td>767</td></tr>",
                            "<tr><td>fiatal</td><td>864</td></tr>",
                            "<tr><td>fiatal</td><td>642</td></tr>",
                            "<tr><td>fiatal</td><td>588</td></tr>",
                            "<tr><td>fiatal</td><td>764</td></tr>",
                            "<tr><td>fiatal</td><td>958</td></tr>",
                            "<tr><td>fiatal</td><td>1293</td></tr>",
                            "<tr><td>fiatal</td><td>1462</td></tr>",
                            "<tr><td>fiatal</td><td>1052</td></tr>",
                            "<tr><td>fiatal</td><td>1082</td></tr>",
                            "<tr><td>fiatal</td><td>1076</td></tr>",
                            "<tr><td>fiatal</td><td>1042</td></tr>",
                            "<tr><td>fiatal</td><td>979</td></tr>",
                            "<tr><td>fiatal</td><td>916</td></tr>",
                            "<tr><td>fiatal</td><td>769</td></tr>",
                            "<tr><td>fiatal</td><td>605</td></tr>",
                            "<tr><td>fiatal</td><td>1582</td></tr>",
                            "<tr><td>fiatal</td><td>1446</td></tr>",
                            "<tr><td>fiatal</td><td>794</td></tr>",
                            "<tr><td>fiatal</td><td>1107</td></tr>",
                            "<tr><td>középkorú</td><td>664</td></tr>",
                            "<tr><td>középkorú</td><td>1356</td></tr>",
                            "<tr><td>középkorú</td><td>1380</td></tr>",
                            "<tr><td>középkorú</td><td>1429</td></tr>",
                            "<tr><td>középkorú</td><td>707</td></tr>",
                            "<tr><td>középkorú</td><td>636</td></tr>",
                            "<tr><td>középkorú</td><td>1143</td></tr>",
                            "<tr><td>középkorú</td><td>1226</td></tr>",
                            "<tr><td>középkorú</td><td>875</td></tr>",
                            "<tr><td>középkorú</td><td>1505</td></tr>",
                            "<tr><td>középkorú</td><td>1234</td></tr>",
                            "<tr><td>fiatal</td><td>1283</td></tr>",
                            "<tr><td>fiatal</td><td>589</td></tr>",
                            "<tr><td>középkorú</td><td>687</td></tr>",
                            "<tr><td>középkorú</td><td>987</td></tr>",
                            "<tr><td>középkorú</td><td>1344</td></tr>",
                            "<tr><td>középkorú</td><td>1267</td></tr>",
                            "<tr><td>középkorú</td><td>1506</td></tr>",
                            "<tr><td>középkorú</td><td>1562</td></tr>",
                            "<tr><td>középkorú</td><td>609</td></tr>",
                            "<tr><td>idős</td><td>558</td></tr>",
                            "<tr><td>idős</td><td>1503</td></tr>",
                            "<tr><td>idős</td><td>1242</td></tr>",
                            "<tr><td>középkorú</td><td>853</td></tr>",
                            "<tr><td>középkorú</td><td>1178</td></tr>",
                            "<tr><td>középkorú</td><td>992</td></tr>",
                            "<tr><td>középkorú</td><td>877</td></tr>",
                            "<tr><td>középkorú</td><td>775</td></tr>",
                            "<tr><td>középkorú</td><td>564</td></tr>",
                            "<tr><td>középkorú</td><td>634</td></tr>",
                            "<tr><td>középkorú</td><td>1355</td></tr>",
                            "<tr><td>középkorú</td><td>1488</td></tr>",
                            "<tr><td>fiatal</td><td>663</td></tr>",
                            "<tr><td>fiatal</td><td>720</td></tr>",
                            "<tr><td>fiatal</td><td>928</td></tr>",
                            "<tr><td>fiatal</td><td>1073</td></tr>",
                            "<tr><td>idős</td><td>1528</td></tr>",
                            "<tr><td>idős</td><td>1365</td></tr>",
                            "<tr><td>idős</td><td>1285</td></tr>",
                            "<tr><td>fiatal</td><td>1233</td></tr>",
                            "<tr><td>fiatal</td><td>1482</td></tr>",
                            "<tr><td>fiatal</td><td>1028</td></tr>",
                            "<tr><td>fiatal</td><td>632</td></tr>",
                            "<tr><td>fiatal</td><td>724</td></tr>",
                            "<tr><td>középkorú</td><td>871</td></tr>",
                            "<tr><td>középkorú</td><td>569</td></tr>",
                            "<tr><td>középkorú</td><td>963</td></tr>",
                            "<tr><td>középkorú</td><td>967</td></tr>",
                            "<tr><td>középkorú</td><td>1123</td></tr>",
                            "<tr><td>középkorú</td><td>1211</td></tr>",
                            "<tr><td>középkorú</td><td>1333</td></tr>",
                            "<tr><td>középkorú</td><td>1583</td></tr>",
                            "<tr><td>középkorú</td><td>984</td></tr>",
                            "<tr><td>középkorú</td><td>766</td></tr>",
                            "<tr><td>idős</td><td>776</td></tr>",
                            "<tr><td>idős</td><td>1058</td></tr>",
                            "<tr><td>idős</td><td>1369</td></tr>",
                            "<tr><td>idős</td><td>1530</td></tr>",
                            "<tr><td>idős</td><td>1552</td></tr>",
                            "<tr><td>középkorú</td><td>1579</td></tr>",
                            "<tr><td>középkorú</td><td>1565</td></tr>",
                            "<tr><td>középkorú</td><td>1201</td></tr>",
                            "<tr><td>középkorú</td><td>671</td></tr>",
                            "<tr><td>középkorú</td><td>1146</td></tr>",
                            "<tr><td>középkorú</td><td>1004</td></tr>",
                            "<tr><td>középkorú</td><td>1236</td></tr>",
                            "<tr><td>középkorú</td><td>1282</td></tr>",
                            "<tr><td>középkorú</td><td>1557</td></tr>",
                            "<tr><td>középkorú</td><td>995</td></tr>",
                            "<tr><td>középkorú</td><td>1228</td></tr>",
                            "<tr><td>középkorú</td><td>726</td></tr>",
                            "<tr><td>fiatal</td><td>759</td></tr>",
                            "<tr><td>fiatal</td><td>815</td></tr>",
                            "<tr><td>fiatal</td><td>577</td></tr>",
                            "<tr><td>fiatal</td><td>1222</td></tr>",
                            "<tr><td>fiatal</td><td>1188</td></tr>",
                            "<tr><td>fiatal</td><td>1139</td></tr>",
                            "<tr><td>fiatal</td><td>1080</td></tr>",
                            "<tr><td>fiatal</td><td>1093</td></tr>",
                            "<tr><td>fiatal</td><td>1043</td></tr>",
                            "<tr><td>fiatal</td><td>1273</td></tr>",
                            "<tr><td>fiatal</td><td>1316</td></tr>",
                            "<tr><td>fiatal</td><td>1500</td></tr>",
                            "<tr><td>idős</td><td>1287</td></tr>",
                            "<tr><td>idős</td><td>1167</td></tr>",
                            "<tr><td>idős</td><td>694</td></tr>",
                            "<tr><td>fiatal</td><td>585</td></tr>",
                            "<tr><td>fiatal</td><td>865</td></tr>",
                            "<tr><td>fiatal</td><td>777</td></tr>",
                            "<tr><td>fiatal</td><td>792</td></tr>",
                            "<tr><td>fiatal</td><td>1517</td></tr>",
                            "<tr><td>fiatal</td><td>1481</td></tr>",
                            "<tr><td>fiatal</td><td>1284</td></tr>",
                            "<tr><td>fiatal</td><td>1263</td></tr>",
                            "<tr><td>fiatal</td><td>850</td></tr>",
                            "<tr><td>fiatal</td><td>1116</td></tr>",
                            "<tr><td>idős</td><td>1089</td></tr>",
                            "<tr><td>idős</td><td>1033</td></tr>",
                            "<tr><td>idős</td><td>748</td></tr>",
                            "<tr><td>idős</td><td>721</td></tr>",
                            "<tr><td>idős</td><td>1575</td></tr>",
                            "<tr><td>fiatal</td><td>1471</td></tr>",
                            "<tr><td>fiatal</td><td>1204</td></tr>",
                            "<tr><td>fiatal</td><td>985</td></tr>",
                            "<tr><td>fiatal</td><td>637</td></tr>",
                            "<tr><td>fiatal</td><td>619</td></tr>",
                            "<tr><td>fiatal</td><td>1532</td></tr>",
                            "<tr><td>középkorú</td><td>647</td></tr>",
                            "<tr><td>középkorú</td><td>802</td></tr>",
                            "<tr><td>középkorú</td><td>1183</td></tr>",
                            "<tr><td>idős</td><td>1197</td></tr>",
                            "<tr><td>idős</td><td>1141</td></tr>",
                            "<tr><td>idős</td><td>1129</td></tr>",
                            "<tr><td>idős</td><td>1027</td></tr>",
                            "<tr><td>idős</td><td>791</td></tr>",
                            "<tr><td>idős</td><td>808</td></tr>",
                            "<tr><td>idős</td><td>1545</td></tr>",
                            "<tr><td>középkorú</td><td>739</td></tr>",
                            "<tr><td>középkorú</td><td>1038</td></tr>",
                            "<tr><td>idős</td><td>978</td></tr>",
                            "<tr><td>idős</td><td>939</td></tr>",
                            "<tr><td>idős</td><td>848</td></tr>",
                            "<tr><td>idős</td><td>1294</td></tr>",
                            "<tr><td>fiatal</td><td>1253</td></tr>",
                            "<tr><td>fiatal</td><td>1448</td></tr>",
                            "<tr><td>fiatal</td><td>1418</td></tr>",
                            "<tr><td>fiatal</td><td>1433</td></tr>",
                            "<tr><td>fiatal</td><td>1549</td></tr>",
                            "<tr><td>fiatal</td><td>1041</td></tr>",
                            "<tr><td>középkorú</td><td>1069</td></tr>",
                            "<tr><td>középkorú</td><td>1010</td></tr>",
                            "<tr><td>középkorú</td><td>800</td></tr>",
                            "<tr><td>középkorú</td><td>686</td></tr>",
                            "<tr><td>fiatal</td><td>640</td></tr>",
                            "<tr><td>fiatal</td><td>1138</td></tr>",
                            "<tr><td>fiatal</td><td>1181</td></tr>",
                            "<tr><td>fiatal</td><td>1272</td></tr>",
                            "<tr><td>fiatal</td><td>1331</td></tr>",
                            "<tr><td>fiatal</td><td>1465</td></tr>",
                            "<tr><td>középkorú</td><td>1311</td></tr>",
                            "<tr><td>középkorú</td><td>1390</td></tr>",
                            "<tr><td>középkorú</td><td>1289</td></tr>",
                            "<tr><td>középkorú</td><td>1148</td></tr>",
                            "<tr><td>középkorú</td><td>1212</td></tr>",
                            "<tr><td>középkorú</td><td>1124</td></tr>",
                            "<tr><td>középkorú</td><td>910</td></tr>",
                            "<tr><td>középkorú</td><td>675</td></tr>",
                            "<tr><td>középkorú</td><td>711</td></tr>",
                            "<tr><td>középkorú</td><td>866</td></tr>",
                            "<tr><td>középkorú</td><td>882</td></tr>",
                            "<tr><td>fiatal</td><td>741</td></tr>",
                            "<tr><td>fiatal</td><td>680</td></tr>",
                            "<tr><td>fiatal</td><td>560</td></tr>",
                            "<tr><td>fiatal</td><td>1062</td></tr>",
                            "<tr><td>fiatal</td><td>1051</td></tr>",
                            "<tr><td>fiatal</td><td>940</td></tr>",
                            "<tr><td>fiatal</td><td>1195</td></tr>",
                            "<tr><td>fiatal</td><td>563</td></tr>",
                            "<tr><td>fiatal</td><td>602</td></tr>",
                            "<tr><td>fiatal</td><td>1343</td></tr>",
                            "<tr><td>középkorú</td><td>1276</td></tr>",
                            "<tr><td>középkorú</td><td>1424</td></tr>",
                            "<tr><td>középkorú</td><td>1497</td></tr>",
                            "<tr><td>középkorú</td><td>735</td></tr>",
                            "<tr><td>középkorú</td><td>1208</td></tr>",
                            "<tr><td>középkorú</td><td>1163</td></tr>",
                            "<tr><td>középkorú</td><td>971</td></tr>",
                            "<tr><td>idős</td><td>1110</td></tr>",
                            "<tr><td>idős</td><td>1071</td></tr>",
                            "<tr><td>idős</td><td>830</td></tr>",
                            "<tr><td>idős</td><td>596</td></tr>",
                            "<tr><td>idős</td><td>718</td></tr>",
                            "<tr><td>idős</td><td>1442</td></tr>",
                            "<tr><td>középkorú</td><td>1401</td></tr>",
                            "<tr><td>középkorú</td><td>1479</td></tr>",
                            "<tr><td>középkorú</td><td>1391</td></tr>",
                            "<tr><td>középkorú</td><td>715</td></tr>",
                            "<tr><td>középkorú</td><td>644</td></tr>",
                            "<tr><td>középkorú</td><td>870</td></tr>",
                            "<tr><td>középkorú</td><td>1144</td></tr>",
                            "<tr><td>középkorú</td><td>1191</td></tr>",
                            "<tr><td>középkorú</td><td>1207</td></tr>",
                            "<tr><td>középkorú</td><td>770</td></tr>",
                            "<tr><td>középkorú</td><td>1280</td></tr>",
                            "<tr><td>középkorú</td><td>1534</td></tr>",
                            "<tr><td>középkorú</td><td>817</td></tr>",
                            "<tr><td>középkorú</td><td>649</td></tr>",
                            "<tr><td>középkorú</td><td>959</td></tr>",
                            "<tr><td>fiatal</td><td>950</td></tr>",
                            "<tr><td>fiatal</td><td>1044</td></tr>",
                            "<tr><td>fiatal</td><td>991</td></tr>",
                            "<tr><td>fiatal</td><td>1008</td></tr>",
                            "<tr><td>fiatal</td><td>618</td></tr>",
                            "<tr><td>fiatal</td><td>1525</td></tr>",
                            "<tr><td>fiatal</td><td>1537</td></tr>",
                            "<tr><td>fiatal</td><td>1357</td></tr>",
                            "<tr><td>fiatal</td><td>1145</td></tr>",
                            "<tr><td>fiatal</td><td>1170</td></tr>",
                            "<tr><td>fiatal</td><td>1166</td></tr>",
                            "<tr><td>fiatal</td><td>698</td></tr>",
                            "<tr><td>fiatal</td><td>895</td></tr>",
                            "<tr><td>fiatal</td><td>798</td></tr>",
                            "<tr><td>fiatal</td><td>1389</td></tr>",
                            "<tr><td>fiatal</td><td>1398</td></tr>",
                            "<tr><td>középkorú</td><td>1362</td></tr>",
                            "<tr><td>középkorú</td><td>1324</td></tr>",
                            "<tr><td>középkorú</td><td>762</td></tr>",
                            "<tr><td>középkorú</td><td>1196</td></tr>",
                            "<tr><td>középkorú</td><td>913</td></tr>",
                            "<tr><td>középkorú</td><td>918</td></tr>",
                            "<tr><td>középkorú</td><td>1189</td></tr>",
                            "<tr><td>középkorú</td><td>898</td></tr>",
                            "<tr><td>középkorú</td><td>849</td></tr>",
                            "<tr><td>középkorú</td><td>1363</td></tr>",
                            "<tr><td>középkorú</td><td>1290</td></tr>",
                            "<tr><td>középkorú</td><td>1415</td></tr>",
                            "<tr><td>fiatal</td><td>1275</td></tr>",
                            "<tr><td>fiatal</td><td>1334</td></tr>",
                            "<tr><td>fiatal</td><td>856</td></tr>",
                            "<tr><td>fiatal</td><td>1203</td></tr>",
                            "<tr><td>középkorú</td><td>1081</td></tr>",
                            "<tr><td>középkorú</td><td>883</td></tr>",
                            "<tr><td>középkorú</td><td>695</td></tr>",
                            "<tr><td>középkorú</td><td>1456</td></tr>",
                            "<tr><td>középkorú</td><td>1491</td></tr>",
                            "<tr><td>fiatal</td><td>753</td></tr>",
                            "<tr><td>fiatal</td><td>1199</td></tr>",
                            "<tr><td>fiatal</td><td>1151</td></tr>",
                            "<tr><td>fiatal</td><td>919</td></tr>",
                            "<tr><td>fiatal</td><td>879</td></tr>",
                            "<tr><td>fiatal</td><td>843</td></tr>",
                            "<tr><td>fiatal</td><td>774</td></tr>",
                            "<tr><td>fiatal</td><td>617</td></tr>",
                            "<tr><td>fiatal</td><td>1386</td></tr>",
                            "<tr><td>fiatal</td><td>1375</td></tr>",
                            "<tr><td>fiatal</td><td>1288</td></tr>",
                            "<tr><td>középkorú</td><td>822</td></tr>",
                            "<tr><td>középkorú</td><td>1030</td></tr>",
                            "<tr><td>fiatal</td><td>1176</td></tr>",
                            "<tr><td>fiatal</td><td>1194</td></tr>",
                            "<tr><td>fiatal</td><td>1091</td></tr>",
                            "<tr><td>fiatal</td><td>784</td></tr>",
                            "<tr><td>fiatal</td><td>639</td></tr>",
                            "<tr><td>fiatal</td><td>641</td></tr>",
                            "<tr><td>fiatal</td><td>1292</td></tr>",
                            "<tr><td>fiatal</td><td>1409</td></tr>",
                            "<tr><td>középkorú</td><td>1397</td></tr>",
                            "<tr><td>középkorú</td><td>1352</td></tr>",
                            "<tr><td>középkorú</td><td>700</td></tr>",
                            "<tr><td>középkorú</td><td>1168</td></tr>",
                            "<tr><td>középkorú</td><td>915</td></tr>",
                            "<tr><td>középkorú</td><td>907</td></tr>",
                            "<tr><td>fiatal</td><td>668</td></tr>",
                            "<tr><td>fiatal</td><td>615</td></tr>",
                            "<tr><td>fiatal</td><td>1447</td></tr>",
                            "<tr><td>középkorú</td><td>1547</td></tr>",
                            "<tr><td>középkorú</td><td>968</td></tr>",
                            "<tr><td>fiatal</td><td>917</td></tr>",
                            "<tr><td>fiatal</td><td>930</td></tr>",
                            "<tr><td>fiatal</td><td>580</td></tr>",
                            "<tr><td>fiatal</td><td>743</td></tr>",
                            "<tr><td>középkorú</td><td>598</td></tr>",
                            "<tr><td>középkorú</td><td>630</td></tr>",
                            "<tr><td>középkorú</td><td>685</td></tr>",
                            "<tr><td>középkorú</td><td>970</td></tr>",
                            "<tr><td>középkorú</td><td>1100</td></tr>",
                            "<tr><td>középkorú</td><td>712</td></tr>",
                            "<tr><td>középkorú</td><td>833</td></tr>",
                            "<tr><td>középkorú</td><td>1327</td></tr>",
                            "<tr><td>középkorú</td><td>740</td></tr>",
                            "<tr><td>középkorú</td><td>1086</td></tr>",
                            "<tr><td>középkorú</td><td>1206</td></tr>",
                            "<tr><td>középkorú</td><td>1040</td></tr>",
                            "<tr><td>fiatal</td><td>1025</td></tr>",
                            "<tr><td>fiatal</td><td>650</td></tr>",
                            "<tr><td>fiatal</td><td>1444</td></tr>",
                            "<tr><td>középkorú</td><td>1300</td></tr>",
                            "<tr><td>középkorú</td><td>579</td></tr>",
                            "<tr><td>középkorú</td><td>868</td></tr>",
                            "<tr><td>középkorú</td><td>1063</td></tr>",
                            "<tr><td>középkorú</td><td>960</td></tr>",
                            "</table>"
                        ]
                    }
                }
            ],
            "execution_count": 8
        }
    ]
}