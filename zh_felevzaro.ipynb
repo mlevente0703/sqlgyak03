{
    "metadata": {
        "kernelspec": {
            "name": "SQL",
            "display_name": "SQL",
            "language": "sql"
        },
        "language_info": {
            "name": "sql",
            "version": ""
        }
    },
    "nbformat_minor": 2,
    "nbformat": 4,
    "cells": [
        {
            "cell_type": "code",
            "source": [
                "SELECT v.nev, v.email, v.usernev\r\n",
                "FROM vendeg v JOIN foglalas f on v.usernev=f.ugyfel_fk\r\n",
                "WHERE MONTH(v.szul_dat)!=5\r\n",
                "GROUP BY v.usernev, v.nev, v.email\r\n",
                "HAVING count(v.usernev)>1"
            ],
            "metadata": {
                "azdata_cell_guid": "03f59c2d-d0c2-4704-8457-f947f995c8ad",
                "language": "sql"
            },
            "outputs": [
                {
                    "output_type": "display_data",
                    "data": {
                        "text/html": "(169 rows affected)"
                    },
                    "metadata": {}
                },
                {
                    "output_type": "display_data",
                    "data": {
                        "text/html": "Total execution time: 00:00:00.026"
                    },
                    "metadata": {}
                },
                {
                    "output_type": "execute_result",
                    "metadata": {},
                    "execution_count": 8,
                    "data": {
                        "application/vnd.dataresource+json": {
                            "schema": {
                                "fields": [
                                    {
                                        "name": "nev"
                                    },
                                    {
                                        "name": "email"
                                    },
                                    {
                                        "name": "usernev"
                                    }
                                ]
                            },
                            "data": [
                                {
                                    "nev": "Kiss Ádám",
                                    "email": "ádám.kiss@mail.hu",
                                    "usernev": "adam1"
                                },
                                {
                                    "nev": "Barkóci Ádám",
                                    "email": "adam3@gmail.com",
                                    "usernev": "adam3"
                                },
                                {
                                    "nev": "Bieniek Ádám",
                                    "email": "ádám.bieniek@mail.hu",
                                    "usernev": "adam4"
                                },
                                {
                                    "nev": "Lengyel Ágnes",
                                    "email": "agnes@gmail.com",
                                    "usernev": "agnes"
                                },
                                {
                                    "nev": "Hartyánszky Ágnes",
                                    "email": "agnes3@gmail.com",
                                    "usernev": "agnes3"
                                },
                                {
                                    "nev": "Horváth Ágnes",
                                    "email": "AGNESH@gmail.com",
                                    "usernev": "AGNESH"
                                },
                                {
                                    "nev": "Kovács Ágnes",
                                    "email": "AGNESK@gmail.com",
                                    "usernev": "AGNESK"
                                },
                                {
                                    "nev": "Bíró Ákos",
                                    "email": "ákos.bíró@mail.hu",
                                    "usernev": "akos"
                                },
                                {
                                    "nev": "Dunai Aladár",
                                    "email": "aladár.dunai@mail.hu",
                                    "usernev": "aladar"
                                },
                                {
                                    "nev": "Bagóczki Alexandra",
                                    "email": "alexandra.bagóczki@mail.hu",
                                    "usernev": "alexandra"
                                },
                                {
                                    "nev": "Tóth András",
                                    "email": "andrás.tóth@mail.hu",
                                    "usernev": "andras2"
                                },
                                {
                                    "nev": "Molnár András",
                                    "email": "andrás.molnár@mail.hu",
                                    "usernev": "andras21"
                                },
                                {
                                    "nev": "Vígh András",
                                    "email": "andrás.vígh@mail.hu",
                                    "usernev": "andras3"
                                },
                                {
                                    "nev": "Back András",
                                    "email": "andras4@gmail.com",
                                    "usernev": "andras4"
                                },
                                {
                                    "nev": "Komjáti András",
                                    "email": "andras41@gmail.com",
                                    "usernev": "andras41"
                                },
                                {
                                    "nev": "Kiss Andrea",
                                    "email": "andrea.kiss@mail.hu",
                                    "usernev": "andrea"
                                },
                                {
                                    "nev": "Tornyos Andrea",
                                    "email": "ANDREAT@gmail.com",
                                    "usernev": "ANDREAT"
                                },
                                {
                                    "nev": "Pivarcsi Anett",
                                    "email": "anett.pivarcsi@mail.hu",
                                    "usernev": "anett3"
                                },
                                {
                                    "nev": "Tóth Anikó",
                                    "email": "aniko@gmail.com",
                                    "usernev": "aniko"
                                },
                                {
                                    "nev": "Böröcz Anikó",
                                    "email": "aniko4@gmail.com",
                                    "usernev": "aniko4"
                                },
                                {
                                    "nev": "Simon Anikó",
                                    "email": "ANIKOS@gmail.com",
                                    "usernev": "ANIKOS"
                                },
                                {
                                    "nev": "Hamvay-Kovács Anita",
                                    "email": "anita.hamvay-kovács@mail.hu",
                                    "usernev": "anita"
                                },
                                {
                                    "nev": "Szűcs Annamária",
                                    "email": "annamária.szűcs@mail.hu",
                                    "usernev": "annamaria1"
                                },
                                {
                                    "nev": "Regős Annamária",
                                    "email": "ANNAMARIAR@gmail.com",
                                    "usernev": "ANNAMARIAR"
                                },
                                {
                                    "nev": "Jakab Áron",
                                    "email": "aron2@gmail.com",
                                    "usernev": "aron2"
                                },
                                {
                                    "nev": "Kelemen Áron",
                                    "email": "áron.kelemen@mail.hu",
                                    "usernev": "ARONK"
                                },
                                {
                                    "nev": "Ötvös Árpád",
                                    "email": "árpád.ötvös@mail.hu",
                                    "usernev": "arpad2"
                                },
                                {
                                    "nev": "Móricz Árpád",
                                    "email": "árpád.móricz@mail.hu",
                                    "usernev": "ARPADM"
                                },
                                {
                                    "nev": "Csóti Attila",
                                    "email": "attila@gmail.com",
                                    "usernev": "attila"
                                },
                                {
                                    "nev": "Gulyás Attila",
                                    "email": "attila.gulyás@mail.hu",
                                    "usernev": "attila1"
                                },
                                {
                                    "nev": "Baróti Attila",
                                    "email": "attila.baróti@mail.hu",
                                    "usernev": "attila4"
                                },
                                {
                                    "nev": "Bozsik Balázs",
                                    "email": "balázs.bozsik@mail.hu",
                                    "usernev": "balazs1"
                                },
                                {
                                    "nev": "Szűcs Balázs",
                                    "email": "balázs.szűcs@mail.hu",
                                    "usernev": "balazs2"
                                },
                                {
                                    "nev": "Bakódy Balázs",
                                    "email": "balazs3@gmail.com",
                                    "usernev": "balazs3"
                                },
                                {
                                    "nev": "Horváth Bálint",
                                    "email": "balint@gmail.com",
                                    "usernev": "balint"
                                },
                                {
                                    "nev": "Molnár Bálint",
                                    "email": "balint1@gmail.com",
                                    "usernev": "balint1"
                                },
                                {
                                    "nev": "Vukasinovity Bálint",
                                    "email": "balint2@gmail.com",
                                    "usernev": "balint2"
                                },
                                {
                                    "nev": "Endresz Bálint",
                                    "email": "bálint.endresz@mail.hu",
                                    "usernev": "balu"
                                },
                                {
                                    "nev": "Bagi Beáta",
                                    "email": "beáta.bagi@mail.hu",
                                    "usernev": "beata4"
                                },
                                {
                                    "nev": "Kerényi Beatrix",
                                    "email": "beatrix.kerényi@mail.hu",
                                    "usernev": "BEATRIXK"
                                },
                                {
                                    "nev": "Szekendi Beatrix",
                                    "email": "beatrix.szekendi@mail.hu",
                                    "usernev": "BEATRIXS"
                                },
                                {
                                    "nev": "Farkas Béla",
                                    "email": "BELAF@gmail.com",
                                    "usernev": "BELAF"
                                },
                                {
                                    "nev": "Győrffy Bence",
                                    "email": "bence@gmail.com",
                                    "usernev": "bence"
                                },
                                {
                                    "nev": "Bajusz Bence",
                                    "email": "bence.bajusz@mail.hu",
                                    "usernev": "BENCEB"
                                },
                                {
                                    "nev": "Simon Bernadett",
                                    "email": "bernadett1@gmail.com",
                                    "usernev": "bernadett1"
                                },
                                {
                                    "nev": "Kovács Bernadett",
                                    "email": "bernadett.kovács@mail.hu",
                                    "usernev": "bernadett2"
                                },
                                {
                                    "nev": "Orbán Bernadett",
                                    "email": "bernadett.orbán@mail.hu",
                                    "usernev": "BERNADETTO"
                                },
                                {
                                    "nev": "Csiger Bertalan",
                                    "email": "bertalan@gmail.com",
                                    "usernev": "bertalan"
                                },
                                {
                                    "nev": "Székely Brigitta",
                                    "email": "brigitta.székely@mail.hu",
                                    "usernev": "brigitta"
                                },
                                {
                                    "nev": "Nagymihály Csongor",
                                    "email": "csongor.nagymihály@mail.hu",
                                    "usernev": "csongor3"
                                },
                                {
                                    "nev": "Vörös Dániel",
                                    "email": "daniel@gmail.com",
                                    "usernev": "dani"
                                },
                                {
                                    "nev": "Rácz Dániel",
                                    "email": "dániel.rácz@mail.hu",
                                    "usernev": "daniel"
                                },
                                {
                                    "nev": "Keszler Dániel",
                                    "email": "dániel.keszler@mail.hu",
                                    "usernev": "daniel1"
                                },
                                {
                                    "nev": "Ambrus Dávid",
                                    "email": "david@gmail.com",
                                    "usernev": "david"
                                },
                                {
                                    "nev": "Sobják Dávid",
                                    "email": "david1@gmail.com",
                                    "usernev": "david1"
                                },
                                {
                                    "nev": "Barna Debóra",
                                    "email": "debóra.barna@mail.hu",
                                    "usernev": "debora"
                                },
                                {
                                    "nev": "Tömböly Dénes",
                                    "email": "denes@gmail.com",
                                    "usernev": "denes"
                                },
                                {
                                    "nev": "Bittmann Edit",
                                    "email": "edit.bittmann@mail.hu",
                                    "usernev": "edit"
                                },
                                {
                                    "nev": "Kuruc Emese",
                                    "email": "emese.kuruc@mail.hu",
                                    "usernev": "emese"
                                },
                                {
                                    "nev": "Balogh Eszter",
                                    "email": "eszter.balogh@mail.hu",
                                    "usernev": "eszter2"
                                },
                                {
                                    "nev": "Fülöp Eszter",
                                    "email": "eszter.fülöp@mail.hu",
                                    "usernev": "eszter4"
                                },
                                {
                                    "nev": "Érsek Eszter",
                                    "email": "eszter.érsek@mail.hu",
                                    "usernev": "ESZTERE"
                                },
                                {
                                    "nev": "Enyedi Éva",
                                    "email": "eva@gmail.com",
                                    "usernev": "eva"
                                },
                                {
                                    "nev": "Perlinger Éva",
                                    "email": "eva2@gmail.com",
                                    "usernev": "eva2"
                                },
                                {
                                    "nev": "Viktor Éva",
                                    "email": "EVAV@gmail.com",
                                    "usernev": "EVAV"
                                },
                                {
                                    "nev": "Orosz Ferenc",
                                    "email": "ferenc.orosz@mail.hu",
                                    "usernev": "ferenc1"
                                },
                                {
                                    "nev": "Frank Fruzsina",
                                    "email": "fruzsina4@gmail.com",
                                    "usernev": "fruzsina4"
                                },
                                {
                                    "nev": "Köves Gábor",
                                    "email": "gabor1@gmail.com",
                                    "usernev": "gabor1"
                                },
                                {
                                    "nev": "Telek Gábor",
                                    "email": "gábor.telek@mail.hu",
                                    "usernev": "gabor4"
                                },
                                {
                                    "nev": "Nagy Gabriella",
                                    "email": "gabriella1@gmail.com",
                                    "usernev": "gabriella1"
                                },
                                {
                                    "nev": "Nyíri Georgij",
                                    "email": "georgij.nyíri@mail.hu",
                                    "usernev": "georgij"
                                },
                                {
                                    "nev": "Bárci Gusztáv",
                                    "email": "gusztav@gmail.com",
                                    "usernev": "gusztav"
                                },
                                {
                                    "nev": "Kornseé Gyöngyi",
                                    "email": "gyöngyi.kornseé@mail.hu",
                                    "usernev": "GYONGYIK"
                                },
                                {
                                    "nev": "Oroszi György",
                                    "email": "GYORGYO@gmail.com",
                                    "usernev": "GYORGYO"
                                },
                                {
                                    "nev": "Nádudvari Henrik",
                                    "email": "henrik.nádudvari@mail.hu",
                                    "usernev": "henrik3"
                                },
                                {
                                    "nev": "Andor Ibolya",
                                    "email": "ibolya.andor@mail.hu",
                                    "usernev": "IBOLYAA"
                                },
                                {
                                    "nev": "Bosnyák Ilona",
                                    "email": "ilona3@gmail.com",
                                    "usernev": "ilona3"
                                },
                                {
                                    "nev": "Búza Imre",
                                    "email": "imre.búza@mail.hu",
                                    "usernev": "imre"
                                },
                                {
                                    "nev": "Papp Imre",
                                    "email": "imre.papp@mail.hu",
                                    "usernev": "imre1"
                                },
                                {
                                    "nev": "Soós István",
                                    "email": "istvan@gmail.com",
                                    "usernev": "istvan"
                                },
                                {
                                    "nev": "Vizi István",
                                    "email": "istván.vizi@mail.hu",
                                    "usernev": "istvan1"
                                },
                                {
                                    "nev": "Varga István",
                                    "email": "ISTVANV@gmail.com",
                                    "usernev": "ISTVANV"
                                },
                                {
                                    "nev": "Harangozó János",
                                    "email": "janos3@gmail.com",
                                    "usernev": "janos3"
                                },
                                {
                                    "nev": "Giliga János",
                                    "email": "JANOSG@gmail.com",
                                    "usernev": "JANOSG"
                                },
                                {
                                    "nev": "Pálinkás János",
                                    "email": "JANOSP@gmail.com",
                                    "usernev": "JANOSP"
                                },
                                {
                                    "nev": "Gergely József",
                                    "email": "jozsef@gmail.com",
                                    "usernev": "jozsef"
                                },
                                {
                                    "nev": "Vajda József",
                                    "email": "józsef.vajda@mail.hu",
                                    "usernev": "jozsef2"
                                },
                                {
                                    "nev": "Hídasi Judit",
                                    "email": "JUDITH@gmail.com",
                                    "usernev": "JUDITH"
                                },
                                {
                                    "nev": "Tóth Júlia",
                                    "email": "julia@gmail.com",
                                    "usernev": "julia"
                                },
                                {
                                    "nev": "Nagy Júlia",
                                    "email": "julia4@gmail.com",
                                    "usernev": "julia4"
                                },
                                {
                                    "nev": "Szabó Julianna",
                                    "email": "julianna4@gmail.com",
                                    "usernev": "julianna4"
                                },
                                {
                                    "nev": "Gondos Katalin",
                                    "email": "katalin.gondos@mail.hu",
                                    "usernev": "kata"
                                },
                                {
                                    "nev": "Horváth Katalin",
                                    "email": "katalin.horváth@mail.hu",
                                    "usernev": "katalin"
                                },
                                {
                                    "nev": "Kertész Katalin",
                                    "email": "katalin4@gmail.com",
                                    "usernev": "katalin4"
                                },
                                {
                                    "nev": "Kovács Katalin",
                                    "email": "katalin.kovács@mail.hu",
                                    "usernev": "katka"
                                },
                                {
                                    "nev": "Bakó Klaudia",
                                    "email": "klaudia.bakó@mail.hu",
                                    "usernev": "klaudia2"
                                },
                                {
                                    "nev": "Lukács Kornél",
                                    "email": "kornél.lukács@mail.hu",
                                    "usernev": "kornel4"
                                },
                                {
                                    "nev": "Poprádi Kristóf",
                                    "email": "kristof4@gmail.com",
                                    "usernev": "kristof4"
                                },
                                {
                                    "nev": "Horváth Krisztina",
                                    "email": "kriszti@gmail.com",
                                    "usernev": "kriszti"
                                },
                                {
                                    "nev": "Czérna Krisztián",
                                    "email": "krisztián.czérna@mail.hu",
                                    "usernev": "krisztian4"
                                },
                                {
                                    "nev": "Bori Krisztina",
                                    "email": "krisztina.bori@mail.hu",
                                    "usernev": "krisztina1"
                                },
                                {
                                    "nev": "Gyárfás Krisztina",
                                    "email": "KRISZTINAG@gmail.com",
                                    "usernev": "KRISZTINAG"
                                },
                                {
                                    "nev": "Kiss Lajos",
                                    "email": "lajos.kiss@mail.hu",
                                    "usernev": "lajos"
                                },
                                {
                                    "nev": "Nagymihály Lajos",
                                    "email": "lajos.nagymihály@mail.hu",
                                    "usernev": "lala"
                                },
                                {
                                    "nev": "Móra László",
                                    "email": "lászló.móra@mail.hu",
                                    "usernev": "laszlo2"
                                },
                                {
                                    "nev": "Antal László",
                                    "email": "lászló.antal@mail.hu",
                                    "usernev": "LASZLOA"
                                },
                                {
                                    "nev": "Nagy László",
                                    "email": "lászló.nagy@mail.hu",
                                    "usernev": "LASZLON"
                                },
                                {
                                    "nev": "Baráth Mária",
                                    "email": "mária.baráth@mail.hu",
                                    "usernev": "maria1"
                                },
                                {
                                    "nev": "Kispál Márk",
                                    "email": "márk.kispál@mail.hu",
                                    "usernev": "mark"
                                },
                                {
                                    "nev": "Horváth Márk",
                                    "email": "márk.horváth@mail.hu",
                                    "usernev": "MARKH"
                                },
                                {
                                    "nev": "Kalacsi Márton",
                                    "email": "marton@gmail.com",
                                    "usernev": "marton"
                                },
                                {
                                    "nev": "Koza Máté",
                                    "email": "máté.koza@mail.hu",
                                    "usernev": "MATEK"
                                },
                                {
                                    "nev": "Botka Mátyás",
                                    "email": "matyas2@gmail.com",
                                    "usernev": "matyas2"
                                },
                                {
                                    "nev": "Szilágyi Mátyás",
                                    "email": "mátyás.szilágyi@mail.hu",
                                    "usernev": "MATYASS"
                                },
                                {
                                    "nev": "Juhász Mihály",
                                    "email": "mihály.juhász@mail.hu",
                                    "usernev": "MIHALYJ"
                                },
                                {
                                    "nev": "Gondos Miklós",
                                    "email": "miklos2@gmail.com",
                                    "usernev": "miklos2"
                                },
                                {
                                    "nev": "Balla Miklós",
                                    "email": "miklós.balla@mail.hu",
                                    "usernev": "MIKLOSB"
                                },
                                {
                                    "nev": "Mohos Mónika",
                                    "email": "mónika.mohos@mail.hu",
                                    "usernev": "MONIKAM"
                                },
                                {
                                    "nev": "Fő Nándor",
                                    "email": "nándor.fő@mail.hu",
                                    "usernev": "NANDORF"
                                },
                                {
                                    "nev": "Horváth Nikolett",
                                    "email": "nikolett3@gmail.com",
                                    "usernev": "nikolett3"
                                },
                                {
                                    "nev": "Kő Nikoletta",
                                    "email": "nikoletta4@gmail.com",
                                    "usernev": "nikoletta4"
                                },
                                {
                                    "nev": "Tatár Nikoletta",
                                    "email": "nikoletta.tatár@mail.hu",
                                    "usernev": "NIKOLETTAT"
                                },
                                {
                                    "nev": "Szűcs Norbert",
                                    "email": "norbert@gmail.com",
                                    "usernev": "norbert"
                                },
                                {
                                    "nev": "Hegedűs Norbert",
                                    "email": "norbert.hegedűs@mail.hu",
                                    "usernev": "norbert2"
                                },
                                {
                                    "nev": "Mile Norbert",
                                    "email": "norbert4@gmail.com",
                                    "usernev": "norbert4"
                                },
                                {
                                    "nev": "Béres Norbert",
                                    "email": "norbert5@gmail.com",
                                    "usernev": "norbert5"
                                },
                                {
                                    "nev": "Barabás Pál",
                                    "email": "pál.barabás@mail.hu",
                                    "usernev": "pal"
                                },
                                {
                                    "nev": "Kozma Péter",
                                    "email": "peter1@gmail.com",
                                    "usernev": "peter1"
                                },
                                {
                                    "nev": "Bozsó Péter",
                                    "email": "peter2@gmail.com",
                                    "usernev": "peter2"
                                },
                                {
                                    "nev": "Szalai Péter",
                                    "email": "peter3@gmail.com",
                                    "usernev": "peter3"
                                },
                                {
                                    "nev": "Bíró Péter",
                                    "email": "péter.bíró@mail.hu",
                                    "usernev": "peter4"
                                },
                                {
                                    "nev": "Berendi Péter",
                                    "email": "péter.berendi@mail.hu",
                                    "usernev": "PETERB"
                                },
                                {
                                    "nev": "Palágyi Polla",
                                    "email": "polla@gmail.com",
                                    "usernev": "polla"
                                },
                                {
                                    "nev": "Rácz Rajmond",
                                    "email": "rajmond.rácz@mail.hu",
                                    "usernev": "rajmond4"
                                },
                                {
                                    "nev": "Szikszai Réka",
                                    "email": "réka.szikszai@mail.hu",
                                    "usernev": "reka4"
                                },
                                {
                                    "nev": "Szirmai Renáta",
                                    "email": "RENATAS@gmail.com",
                                    "usernev": "RENATAS"
                                },
                                {
                                    "nev": "Patay Róbert",
                                    "email": "robert2@gmail.com",
                                    "usernev": "robert2"
                                },
                                {
                                    "nev": "Iván Róbert",
                                    "email": "róbert.iván@mail.hu",
                                    "usernev": "ROBERTI"
                                },
                                {
                                    "nev": "Tóth Roland",
                                    "email": "roland@gmail.com",
                                    "usernev": "roland"
                                },
                                {
                                    "nev": "Ferencz Roland",
                                    "email": "roland.ferencz@mail.hu",
                                    "usernev": "roland1"
                                },
                                {
                                    "nev": "Bucskó Róza",
                                    "email": "roza2@gmail.com",
                                    "usernev": "roza2"
                                },
                                {
                                    "nev": "Karasz Sándor",
                                    "email": "sandor@gmail.com",
                                    "usernev": "sandor"
                                },
                                {
                                    "nev": "Farkas Sándor",
                                    "email": "sándor.farkas@mail.hu",
                                    "usernev": "sandor3"
                                },
                                {
                                    "nev": "Nagy Sándor",
                                    "email": "sandor4@gmail.com",
                                    "usernev": "sandor4"
                                },
                                {
                                    "nev": "Farkas Sára",
                                    "email": "sára.farkas@mail.hu",
                                    "usernev": "sara"
                                },
                                {
                                    "nev": "Foltényi Sebastián",
                                    "email": "SEBASTIANF@gmail.com",
                                    "usernev": "SEBASTIANF"
                                },
                                {
                                    "nev": "Rab Sebestyén",
                                    "email": "sebestyen@gmail.com",
                                    "usernev": "sebestyen"
                                },
                                {
                                    "nev": "Miklós Szabolcs",
                                    "email": "szabolcs.miklós@mail.hu",
                                    "usernev": "SZABOLCSM"
                                },
                                {
                                    "nev": "Szalai Szilárd",
                                    "email": "szilárd.szalai@mail.hu",
                                    "usernev": "SZILARDS"
                                },
                                {
                                    "nev": "Tari Szilvia",
                                    "email": "szilvia.tari@mail.hu",
                                    "usernev": "szilvia1"
                                },
                                {
                                    "nev": "Miklós Tamara",
                                    "email": "tamara.miklós@mail.hu",
                                    "usernev": "tamara2"
                                },
                                {
                                    "nev": "Antal Tamás",
                                    "email": "tamás.antal@mail.hu",
                                    "usernev": "tamas"
                                },
                                {
                                    "nev": "Fényes Tamás",
                                    "email": "TAMASF@gmail.com",
                                    "usernev": "TAMASF"
                                },
                                {
                                    "nev": "Gombos Tibor",
                                    "email": "tibor.gombos@mail.hu",
                                    "usernev": "tibor"
                                },
                                {
                                    "nev": "Kazy Tihamér",
                                    "email": "tihamér.kazy@mail.hu",
                                    "usernev": "tihamer"
                                },
                                {
                                    "nev": "Dusha Tímea",
                                    "email": "tímea.dusha@mail.hu",
                                    "usernev": "timea2"
                                },
                                {
                                    "nev": "Turcsik Tünde",
                                    "email": "tunde@gmail.com",
                                    "usernev": "tunde"
                                },
                                {
                                    "nev": "Feró Valentin",
                                    "email": "valentin.feró@mail.hu",
                                    "usernev": "valentin"
                                },
                                {
                                    "nev": "Tankó Veronika",
                                    "email": "veronika4@gmail.com",
                                    "usernev": "veronika4"
                                },
                                {
                                    "nev": "Boros Vivien",
                                    "email": "vivien3@gmail.com",
                                    "usernev": "vivien3"
                                },
                                {
                                    "nev": "Fodor Zoltán",
                                    "email": "zoltán.fodor@mail.hu",
                                    "usernev": "zoltan"
                                },
                                {
                                    "nev": "Pintér Zoltán",
                                    "email": "zoltán.pintér@mail.hu",
                                    "usernev": "ZOLTANP"
                                },
                                {
                                    "nev": "Tóth Zoltán",
                                    "email": "zoltán.tóth@mail.hu",
                                    "usernev": "ZOLTANT"
                                },
                                {
                                    "nev": "Molnár Zsófi",
                                    "email": "zsofi1@gmail.com",
                                    "usernev": "zsofi1"
                                },
                                {
                                    "nev": "Józsa Zsolt",
                                    "email": "ZSOLTJ@gmail.com",
                                    "usernev": "ZSOLTJ"
                                },
                                {
                                    "nev": "Pusztai Zsuzsanna",
                                    "email": "zsuzsanna@gmail.com",
                                    "usernev": "zsuzsa"
                                },
                                {
                                    "nev": "Varsányi Zsuzsa",
                                    "email": "zsuzsa.varsányi@mail.hu",
                                    "usernev": "zsuzsa3"
                                },
                                {
                                    "nev": "Barta Zsuzsanna",
                                    "email": "zsuzsanna.barta@mail.hu",
                                    "usernev": "zsuzsanna"
                                },
                                {
                                    "nev": "Vajda Zsuzsa",
                                    "email": "zsuzsa.vajda@mail.hu",
                                    "usernev": "ZSUZSAV"
                                }
                            ]
                        },
                        "text/html": [
                            "<table>",
                            "<tr><th>nev</th><th>email</th><th>usernev</th></tr>",
                            "<tr><td>Kiss Ádám</td><td>ádám.kiss@mail.hu</td><td>adam1</td></tr>",
                            "<tr><td>Barkóci Ádám</td><td>adam3@gmail.com</td><td>adam3</td></tr>",
                            "<tr><td>Bieniek Ádám</td><td>ádám.bieniek@mail.hu</td><td>adam4</td></tr>",
                            "<tr><td>Lengyel Ágnes</td><td>agnes@gmail.com</td><td>agnes</td></tr>",
                            "<tr><td>Hartyánszky Ágnes</td><td>agnes3@gmail.com</td><td>agnes3</td></tr>",
                            "<tr><td>Horváth Ágnes</td><td>AGNESH@gmail.com</td><td>AGNESH</td></tr>",
                            "<tr><td>Kovács Ágnes</td><td>AGNESK@gmail.com</td><td>AGNESK</td></tr>",
                            "<tr><td>Bíró Ákos</td><td>ákos.bíró@mail.hu</td><td>akos</td></tr>",
                            "<tr><td>Dunai Aladár</td><td>aladár.dunai@mail.hu</td><td>aladar</td></tr>",
                            "<tr><td>Bagóczki Alexandra</td><td>alexandra.bagóczki@mail.hu</td><td>alexandra</td></tr>",
                            "<tr><td>Tóth András</td><td>andrás.tóth@mail.hu</td><td>andras2</td></tr>",
                            "<tr><td>Molnár András</td><td>andrás.molnár@mail.hu</td><td>andras21</td></tr>",
                            "<tr><td>Vígh András</td><td>andrás.vígh@mail.hu</td><td>andras3</td></tr>",
                            "<tr><td>Back András</td><td>andras4@gmail.com</td><td>andras4</td></tr>",
                            "<tr><td>Komjáti András</td><td>andras41@gmail.com</td><td>andras41</td></tr>",
                            "<tr><td>Kiss Andrea</td><td>andrea.kiss@mail.hu</td><td>andrea</td></tr>",
                            "<tr><td>Tornyos Andrea</td><td>ANDREAT@gmail.com</td><td>ANDREAT</td></tr>",
                            "<tr><td>Pivarcsi Anett</td><td>anett.pivarcsi@mail.hu</td><td>anett3</td></tr>",
                            "<tr><td>Tóth Anikó</td><td>aniko@gmail.com</td><td>aniko</td></tr>",
                            "<tr><td>Böröcz Anikó</td><td>aniko4@gmail.com</td><td>aniko4</td></tr>",
                            "<tr><td>Simon Anikó</td><td>ANIKOS@gmail.com</td><td>ANIKOS</td></tr>",
                            "<tr><td>Hamvay-Kovács Anita</td><td>anita.hamvay-kovács@mail.hu</td><td>anita</td></tr>",
                            "<tr><td>Szűcs Annamária</td><td>annamária.szűcs@mail.hu</td><td>annamaria1</td></tr>",
                            "<tr><td>Regős Annamária</td><td>ANNAMARIAR@gmail.com</td><td>ANNAMARIAR</td></tr>",
                            "<tr><td>Jakab Áron</td><td>aron2@gmail.com</td><td>aron2</td></tr>",
                            "<tr><td>Kelemen Áron</td><td>áron.kelemen@mail.hu</td><td>ARONK</td></tr>",
                            "<tr><td>Ötvös Árpád</td><td>árpád.ötvös@mail.hu</td><td>arpad2</td></tr>",
                            "<tr><td>Móricz Árpád</td><td>árpád.móricz@mail.hu</td><td>ARPADM</td></tr>",
                            "<tr><td>Csóti Attila</td><td>attila@gmail.com</td><td>attila</td></tr>",
                            "<tr><td>Gulyás Attila</td><td>attila.gulyás@mail.hu</td><td>attila1</td></tr>",
                            "<tr><td>Baróti Attila</td><td>attila.baróti@mail.hu</td><td>attila4</td></tr>",
                            "<tr><td>Bozsik Balázs</td><td>balázs.bozsik@mail.hu</td><td>balazs1</td></tr>",
                            "<tr><td>Szűcs Balázs</td><td>balázs.szűcs@mail.hu</td><td>balazs2</td></tr>",
                            "<tr><td>Bakódy Balázs</td><td>balazs3@gmail.com</td><td>balazs3</td></tr>",
                            "<tr><td>Horváth Bálint</td><td>balint@gmail.com</td><td>balint</td></tr>",
                            "<tr><td>Molnár Bálint</td><td>balint1@gmail.com</td><td>balint1</td></tr>",
                            "<tr><td>Vukasinovity Bálint</td><td>balint2@gmail.com</td><td>balint2</td></tr>",
                            "<tr><td>Endresz Bálint</td><td>bálint.endresz@mail.hu</td><td>balu</td></tr>",
                            "<tr><td>Bagi Beáta</td><td>beáta.bagi@mail.hu</td><td>beata4</td></tr>",
                            "<tr><td>Kerényi Beatrix</td><td>beatrix.kerényi@mail.hu</td><td>BEATRIXK</td></tr>",
                            "<tr><td>Szekendi Beatrix</td><td>beatrix.szekendi@mail.hu</td><td>BEATRIXS</td></tr>",
                            "<tr><td>Farkas Béla</td><td>BELAF@gmail.com</td><td>BELAF</td></tr>",
                            "<tr><td>Győrffy Bence</td><td>bence@gmail.com</td><td>bence</td></tr>",
                            "<tr><td>Bajusz Bence</td><td>bence.bajusz@mail.hu</td><td>BENCEB</td></tr>",
                            "<tr><td>Simon Bernadett</td><td>bernadett1@gmail.com</td><td>bernadett1</td></tr>",
                            "<tr><td>Kovács Bernadett</td><td>bernadett.kovács@mail.hu</td><td>bernadett2</td></tr>",
                            "<tr><td>Orbán Bernadett</td><td>bernadett.orbán@mail.hu</td><td>BERNADETTO</td></tr>",
                            "<tr><td>Csiger Bertalan</td><td>bertalan@gmail.com</td><td>bertalan</td></tr>",
                            "<tr><td>Székely Brigitta</td><td>brigitta.székely@mail.hu</td><td>brigitta</td></tr>",
                            "<tr><td>Nagymihály Csongor</td><td>csongor.nagymihály@mail.hu</td><td>csongor3</td></tr>",
                            "<tr><td>Vörös Dániel</td><td>daniel@gmail.com</td><td>dani</td></tr>",
                            "<tr><td>Rácz Dániel</td><td>dániel.rácz@mail.hu</td><td>daniel</td></tr>",
                            "<tr><td>Keszler Dániel</td><td>dániel.keszler@mail.hu</td><td>daniel1</td></tr>",
                            "<tr><td>Ambrus Dávid</td><td>david@gmail.com</td><td>david</td></tr>",
                            "<tr><td>Sobják Dávid</td><td>david1@gmail.com</td><td>david1</td></tr>",
                            "<tr><td>Barna Debóra</td><td>debóra.barna@mail.hu</td><td>debora</td></tr>",
                            "<tr><td>Tömböly Dénes</td><td>denes@gmail.com</td><td>denes</td></tr>",
                            "<tr><td>Bittmann Edit</td><td>edit.bittmann@mail.hu</td><td>edit</td></tr>",
                            "<tr><td>Kuruc Emese</td><td>emese.kuruc@mail.hu</td><td>emese</td></tr>",
                            "<tr><td>Balogh Eszter</td><td>eszter.balogh@mail.hu</td><td>eszter2</td></tr>",
                            "<tr><td>Fülöp Eszter</td><td>eszter.fülöp@mail.hu</td><td>eszter4</td></tr>",
                            "<tr><td>Érsek Eszter</td><td>eszter.érsek@mail.hu</td><td>ESZTERE</td></tr>",
                            "<tr><td>Enyedi Éva</td><td>eva@gmail.com</td><td>eva</td></tr>",
                            "<tr><td>Perlinger Éva</td><td>eva2@gmail.com</td><td>eva2</td></tr>",
                            "<tr><td>Viktor Éva</td><td>EVAV@gmail.com</td><td>EVAV</td></tr>",
                            "<tr><td>Orosz Ferenc</td><td>ferenc.orosz@mail.hu</td><td>ferenc1</td></tr>",
                            "<tr><td>Frank Fruzsina</td><td>fruzsina4@gmail.com</td><td>fruzsina4</td></tr>",
                            "<tr><td>Köves Gábor</td><td>gabor1@gmail.com</td><td>gabor1</td></tr>",
                            "<tr><td>Telek Gábor</td><td>gábor.telek@mail.hu</td><td>gabor4</td></tr>",
                            "<tr><td>Nagy Gabriella</td><td>gabriella1@gmail.com</td><td>gabriella1</td></tr>",
                            "<tr><td>Nyíri Georgij</td><td>georgij.nyíri@mail.hu</td><td>georgij</td></tr>",
                            "<tr><td>Bárci Gusztáv</td><td>gusztav@gmail.com</td><td>gusztav</td></tr>",
                            "<tr><td>Kornseé Gyöngyi</td><td>gyöngyi.kornseé@mail.hu</td><td>GYONGYIK</td></tr>",
                            "<tr><td>Oroszi György</td><td>GYORGYO@gmail.com</td><td>GYORGYO</td></tr>",
                            "<tr><td>Nádudvari Henrik</td><td>henrik.nádudvari@mail.hu</td><td>henrik3</td></tr>",
                            "<tr><td>Andor Ibolya</td><td>ibolya.andor@mail.hu</td><td>IBOLYAA</td></tr>",
                            "<tr><td>Bosnyák Ilona</td><td>ilona3@gmail.com</td><td>ilona3</td></tr>",
                            "<tr><td>Búza Imre</td><td>imre.búza@mail.hu</td><td>imre</td></tr>",
                            "<tr><td>Papp Imre</td><td>imre.papp@mail.hu</td><td>imre1</td></tr>",
                            "<tr><td>Soós István</td><td>istvan@gmail.com</td><td>istvan</td></tr>",
                            "<tr><td>Vizi István</td><td>istván.vizi@mail.hu</td><td>istvan1</td></tr>",
                            "<tr><td>Varga István</td><td>ISTVANV@gmail.com</td><td>ISTVANV</td></tr>",
                            "<tr><td>Harangozó János</td><td>janos3@gmail.com</td><td>janos3</td></tr>",
                            "<tr><td>Giliga János</td><td>JANOSG@gmail.com</td><td>JANOSG</td></tr>",
                            "<tr><td>Pálinkás János</td><td>JANOSP@gmail.com</td><td>JANOSP</td></tr>",
                            "<tr><td>Gergely József</td><td>jozsef@gmail.com</td><td>jozsef</td></tr>",
                            "<tr><td>Vajda József</td><td>józsef.vajda@mail.hu</td><td>jozsef2</td></tr>",
                            "<tr><td>Hídasi Judit</td><td>JUDITH@gmail.com</td><td>JUDITH</td></tr>",
                            "<tr><td>Tóth Júlia</td><td>julia@gmail.com</td><td>julia</td></tr>",
                            "<tr><td>Nagy Júlia</td><td>julia4@gmail.com</td><td>julia4</td></tr>",
                            "<tr><td>Szabó Julianna</td><td>julianna4@gmail.com</td><td>julianna4</td></tr>",
                            "<tr><td>Gondos Katalin</td><td>katalin.gondos@mail.hu</td><td>kata</td></tr>",
                            "<tr><td>Horváth Katalin</td><td>katalin.horváth@mail.hu</td><td>katalin</td></tr>",
                            "<tr><td>Kertész Katalin</td><td>katalin4@gmail.com</td><td>katalin4</td></tr>",
                            "<tr><td>Kovács Katalin</td><td>katalin.kovács@mail.hu</td><td>katka</td></tr>",
                            "<tr><td>Bakó Klaudia</td><td>klaudia.bakó@mail.hu</td><td>klaudia2</td></tr>",
                            "<tr><td>Lukács Kornél</td><td>kornél.lukács@mail.hu</td><td>kornel4</td></tr>",
                            "<tr><td>Poprádi Kristóf</td><td>kristof4@gmail.com</td><td>kristof4</td></tr>",
                            "<tr><td>Horváth Krisztina</td><td>kriszti@gmail.com</td><td>kriszti</td></tr>",
                            "<tr><td>Czérna Krisztián</td><td>krisztián.czérna@mail.hu</td><td>krisztian4</td></tr>",
                            "<tr><td>Bori Krisztina</td><td>krisztina.bori@mail.hu</td><td>krisztina1</td></tr>",
                            "<tr><td>Gyárfás Krisztina</td><td>KRISZTINAG@gmail.com</td><td>KRISZTINAG</td></tr>",
                            "<tr><td>Kiss Lajos</td><td>lajos.kiss@mail.hu</td><td>lajos</td></tr>",
                            "<tr><td>Nagymihály Lajos</td><td>lajos.nagymihály@mail.hu</td><td>lala</td></tr>",
                            "<tr><td>Móra László</td><td>lászló.móra@mail.hu</td><td>laszlo2</td></tr>",
                            "<tr><td>Antal László</td><td>lászló.antal@mail.hu</td><td>LASZLOA</td></tr>",
                            "<tr><td>Nagy László</td><td>lászló.nagy@mail.hu</td><td>LASZLON</td></tr>",
                            "<tr><td>Baráth Mária</td><td>mária.baráth@mail.hu</td><td>maria1</td></tr>",
                            "<tr><td>Kispál Márk</td><td>márk.kispál@mail.hu</td><td>mark</td></tr>",
                            "<tr><td>Horváth Márk</td><td>márk.horváth@mail.hu</td><td>MARKH</td></tr>",
                            "<tr><td>Kalacsi Márton</td><td>marton@gmail.com</td><td>marton</td></tr>",
                            "<tr><td>Koza Máté</td><td>máté.koza@mail.hu</td><td>MATEK</td></tr>",
                            "<tr><td>Botka Mátyás</td><td>matyas2@gmail.com</td><td>matyas2</td></tr>",
                            "<tr><td>Szilágyi Mátyás</td><td>mátyás.szilágyi@mail.hu</td><td>MATYASS</td></tr>",
                            "<tr><td>Juhász Mihály</td><td>mihály.juhász@mail.hu</td><td>MIHALYJ</td></tr>",
                            "<tr><td>Gondos Miklós</td><td>miklos2@gmail.com</td><td>miklos2</td></tr>",
                            "<tr><td>Balla Miklós</td><td>miklós.balla@mail.hu</td><td>MIKLOSB</td></tr>",
                            "<tr><td>Mohos Mónika</td><td>mónika.mohos@mail.hu</td><td>MONIKAM</td></tr>",
                            "<tr><td>Fő Nándor</td><td>nándor.fő@mail.hu</td><td>NANDORF</td></tr>",
                            "<tr><td>Horváth Nikolett</td><td>nikolett3@gmail.com</td><td>nikolett3</td></tr>",
                            "<tr><td>Kő Nikoletta</td><td>nikoletta4@gmail.com</td><td>nikoletta4</td></tr>",
                            "<tr><td>Tatár Nikoletta</td><td>nikoletta.tatár@mail.hu</td><td>NIKOLETTAT</td></tr>",
                            "<tr><td>Szűcs Norbert</td><td>norbert@gmail.com</td><td>norbert</td></tr>",
                            "<tr><td>Hegedűs Norbert</td><td>norbert.hegedűs@mail.hu</td><td>norbert2</td></tr>",
                            "<tr><td>Mile Norbert</td><td>norbert4@gmail.com</td><td>norbert4</td></tr>",
                            "<tr><td>Béres Norbert</td><td>norbert5@gmail.com</td><td>norbert5</td></tr>",
                            "<tr><td>Barabás Pál</td><td>pál.barabás@mail.hu</td><td>pal</td></tr>",
                            "<tr><td>Kozma Péter</td><td>peter1@gmail.com</td><td>peter1</td></tr>",
                            "<tr><td>Bozsó Péter</td><td>peter2@gmail.com</td><td>peter2</td></tr>",
                            "<tr><td>Szalai Péter</td><td>peter3@gmail.com</td><td>peter3</td></tr>",
                            "<tr><td>Bíró Péter</td><td>péter.bíró@mail.hu</td><td>peter4</td></tr>",
                            "<tr><td>Berendi Péter</td><td>péter.berendi@mail.hu</td><td>PETERB</td></tr>",
                            "<tr><td>Palágyi Polla</td><td>polla@gmail.com</td><td>polla</td></tr>",
                            "<tr><td>Rácz Rajmond</td><td>rajmond.rácz@mail.hu</td><td>rajmond4</td></tr>",
                            "<tr><td>Szikszai Réka</td><td>réka.szikszai@mail.hu</td><td>reka4</td></tr>",
                            "<tr><td>Szirmai Renáta</td><td>RENATAS@gmail.com</td><td>RENATAS</td></tr>",
                            "<tr><td>Patay Róbert</td><td>robert2@gmail.com</td><td>robert2</td></tr>",
                            "<tr><td>Iván Róbert</td><td>róbert.iván@mail.hu</td><td>ROBERTI</td></tr>",
                            "<tr><td>Tóth Roland</td><td>roland@gmail.com</td><td>roland</td></tr>",
                            "<tr><td>Ferencz Roland</td><td>roland.ferencz@mail.hu</td><td>roland1</td></tr>",
                            "<tr><td>Bucskó Róza</td><td>roza2@gmail.com</td><td>roza2</td></tr>",
                            "<tr><td>Karasz Sándor</td><td>sandor@gmail.com</td><td>sandor</td></tr>",
                            "<tr><td>Farkas Sándor</td><td>sándor.farkas@mail.hu</td><td>sandor3</td></tr>",
                            "<tr><td>Nagy Sándor</td><td>sandor4@gmail.com</td><td>sandor4</td></tr>",
                            "<tr><td>Farkas Sára</td><td>sára.farkas@mail.hu</td><td>sara</td></tr>",
                            "<tr><td>Foltényi Sebastián</td><td>SEBASTIANF@gmail.com</td><td>SEBASTIANF</td></tr>",
                            "<tr><td>Rab Sebestyén</td><td>sebestyen@gmail.com</td><td>sebestyen</td></tr>",
                            "<tr><td>Miklós Szabolcs</td><td>szabolcs.miklós@mail.hu</td><td>SZABOLCSM</td></tr>",
                            "<tr><td>Szalai Szilárd</td><td>szilárd.szalai@mail.hu</td><td>SZILARDS</td></tr>",
                            "<tr><td>Tari Szilvia</td><td>szilvia.tari@mail.hu</td><td>szilvia1</td></tr>",
                            "<tr><td>Miklós Tamara</td><td>tamara.miklós@mail.hu</td><td>tamara2</td></tr>",
                            "<tr><td>Antal Tamás</td><td>tamás.antal@mail.hu</td><td>tamas</td></tr>",
                            "<tr><td>Fényes Tamás</td><td>TAMASF@gmail.com</td><td>TAMASF</td></tr>",
                            "<tr><td>Gombos Tibor</td><td>tibor.gombos@mail.hu</td><td>tibor</td></tr>",
                            "<tr><td>Kazy Tihamér</td><td>tihamér.kazy@mail.hu</td><td>tihamer</td></tr>",
                            "<tr><td>Dusha Tímea</td><td>tímea.dusha@mail.hu</td><td>timea2</td></tr>",
                            "<tr><td>Turcsik Tünde</td><td>tunde@gmail.com</td><td>tunde</td></tr>",
                            "<tr><td>Feró Valentin</td><td>valentin.feró@mail.hu</td><td>valentin</td></tr>",
                            "<tr><td>Tankó Veronika</td><td>veronika4@gmail.com</td><td>veronika4</td></tr>",
                            "<tr><td>Boros Vivien</td><td>vivien3@gmail.com</td><td>vivien3</td></tr>",
                            "<tr><td>Fodor Zoltán</td><td>zoltán.fodor@mail.hu</td><td>zoltan</td></tr>",
                            "<tr><td>Pintér Zoltán</td><td>zoltán.pintér@mail.hu</td><td>ZOLTANP</td></tr>",
                            "<tr><td>Tóth Zoltán</td><td>zoltán.tóth@mail.hu</td><td>ZOLTANT</td></tr>",
                            "<tr><td>Molnár Zsófi</td><td>zsofi1@gmail.com</td><td>zsofi1</td></tr>",
                            "<tr><td>Józsa Zsolt</td><td>ZSOLTJ@gmail.com</td><td>ZSOLTJ</td></tr>",
                            "<tr><td>Pusztai Zsuzsanna</td><td>zsuzsanna@gmail.com</td><td>zsuzsa</td></tr>",
                            "<tr><td>Varsányi Zsuzsa</td><td>zsuzsa.varsányi@mail.hu</td><td>zsuzsa3</td></tr>",
                            "<tr><td>Barta Zsuzsanna</td><td>zsuzsanna.barta@mail.hu</td><td>zsuzsanna</td></tr>",
                            "<tr><td>Vajda Zsuzsa</td><td>zsuzsa.vajda@mail.hu</td><td>ZSUZSAV</td></tr>",
                            "</table>"
                        ]
                    }
                }
            ],
            "execution_count": 8
        },
        {
            "cell_type": "markdown",
            "source": [
                "Listázzuk azon szálláshelyek azonosítóját és nevét, amelyek a saját helyükön (HELY) a legtöbb csillaggal rendelkeznek!"
            ],
            "metadata": {
                "language": "sql",
                "azdata_cell_guid": "ff7777c5-3107-4a2c-abf7-b678f09de0cf"
            },
            "attachments": {}
        },
        {
            "cell_type": "code",
            "source": [
                "SELECT SZALLAS_ID, SZALLAS_NEV\r\n",
                "from szallashely\r\n",
                "WHERE SZALLAS_ID=(select SZALLAS_ID\r\n",
                "                    from szallashely\r\n",
                "                    GROUP by CSILLAGOK_SZAMA, SZALLAS_ID\r\n",
                "                    HAVING MAX(CSILLAGOK_SZAMA)=CSILLAGOK_SZAMA)\r\n",
                ""
            ],
            "metadata": {
                "azdata_cell_guid": "a78ff36b-22cb-48fa-8da2-32c8821bcffc",
                "language": "sql"
            },
            "outputs": [
                {
                    "output_type": "display_data",
                    "data": {
                        "text/html": "Total execution time: 00:00:00.003"
                    },
                    "metadata": {}
                },
                {
                    "output_type": "execute_result",
                    "metadata": {},
                    "execution_count": 45,
                    "data": {
                        "application/vnd.dataresource+json": {
                            "schema": {
                                "fields": [
                                    {
                                        "name": "SZALLAS_ID"
                                    },
                                    {
                                        "name": "SZALLAS_NEV"
                                    }
                                ]
                            },
                            "data": []
                        },
                        "text/html": [
                            "<table>",
                            "<tr><th>SZALLAS_ID</th><th>SZALLAS_NEV</th></tr>",
                            "</table>"
                        ]
                    }
                },
                {
                    "output_type": "error",
                    "evalue": "Msg 512, Level 16, State 1, Line 1\r\nSubquery returned more than 1 value. This is not permitted when the subquery follows =, !=, <, <= , >, >= or when the subquery is used as an expression.",
                    "ename": "",
                    "traceback": []
                }
            ],
            "execution_count": 45
        },
        {
            "cell_type": "markdown",
            "source": [
                "Jelenítsük meg, hogy az egyes szálláshelyek szobáit esetén a legutolsó 5 foglalás átlagosan hány főre történt!\n",
                "\n",
                "- A számításnál vegyük figyelembe a felnőtteket és a gyermekeket is\n",
                "- A foglalás dátumánál a METTOL mezőt használjuk"
            ],
            "metadata": {
                "azdata_cell_guid": "743c237c-e235-4c06-9c0b-17da9c27c747"
            },
            "attachments": {}
        },
        {
            "cell_type": "code",
            "source": [
                "SELECT szh.szallas_nev,sz.SZOBA_SZAMA,avg(f.FELNOTT_SZAM + f.GYERMEK_SZAM) over (PARTITION BY szh.SZALLAS_NEV order by f.mettol rows between 5 preceding and 0 following)\r\n",
                "From Szoba sz JOIN Foglalas f on sz.SZOBA_ID=f.SZOBA_FK\r\n",
                "                JOIN Szallashely szh on sz.SZALLAS_FK=szh.SZALLAS_ID"
            ],
            "metadata": {
                "azdata_cell_guid": "bc0afed8-9645-4bf6-9a7b-8e1a50109a93",
                "language": "sql",
                "tags": []
            },
            "outputs": [
                {
                    "output_type": "display_data",
                    "data": {
                        "text/html": "(1027 rows affected)"
                    },
                    "metadata": {}
                },
                {
                    "output_type": "display_data",
                    "data": {
                        "text/html": "Total execution time: 00:00:00.026"
                    },
                    "metadata": {}
                },
                {
                    "output_type": "execute_result",
                    "metadata": {},
                    "execution_count": 21,
                    "data": {
                        "application/vnd.dataresource+json": {
                            "schema": {
                                "fields": [
                                    {
                                        "name": "szallas_nev"
                                    },
                                    {
                                        "name": "SZOBA_SZAMA"
                                    },
                                    {
                                        "name": "(No column name)"
                                    }
                                ]
                            },
                            "data": [
                                {
                                    "szallas_nev": "Családi Ház",
                                    "SZOBA_SZAMA": "2",
                                    "(No column name)": "4"
                                },
                                {
                                    "szallas_nev": "Családi Ház",
                                    "SZOBA_SZAMA": "4",
                                    "(No column name)": "4"
                                },
                                {
                                    "szallas_nev": "Családi Ház",
                                    "SZOBA_SZAMA": "4",
                                    "(No column name)": "3"
                                },
                                {
                                    "szallas_nev": "Családi Ház",
                                    "SZOBA_SZAMA": "4",
                                    "(No column name)": "3"
                                },
                                {
                                    "szallas_nev": "Családi Ház",
                                    "SZOBA_SZAMA": "3",
                                    "(No column name)": "3"
                                },
                                {
                                    "szallas_nev": "Családi Ház",
                                    "SZOBA_SZAMA": "4",
                                    "(No column name)": "3"
                                },
                                {
                                    "szallas_nev": "Családi Ház",
                                    "SZOBA_SZAMA": "1",
                                    "(No column name)": "3"
                                },
                                {
                                    "szallas_nev": "Családi Ház",
                                    "SZOBA_SZAMA": "3",
                                    "(No column name)": "2"
                                },
                                {
                                    "szallas_nev": "Családi Ház",
                                    "SZOBA_SZAMA": "2",
                                    "(No column name)": "2"
                                },
                                {
                                    "szallas_nev": "Családi Ház",
                                    "SZOBA_SZAMA": "1",
                                    "(No column name)": "2"
                                },
                                {
                                    "szallas_nev": "Családi Ház",
                                    "SZOBA_SZAMA": "3",
                                    "(No column name)": "2"
                                },
                                {
                                    "szallas_nev": "Családi Ház",
                                    "SZOBA_SZAMA": "3",
                                    "(No column name)": "2"
                                },
                                {
                                    "szallas_nev": "Családi Ház",
                                    "SZOBA_SZAMA": "1",
                                    "(No column name)": "2"
                                },
                                {
                                    "szallas_nev": "Családi Ház",
                                    "SZOBA_SZAMA": "3",
                                    "(No column name)": "2"
                                },
                                {
                                    "szallas_nev": "Családi Ház",
                                    "SZOBA_SZAMA": "3",
                                    "(No column name)": "2"
                                },
                                {
                                    "szallas_nev": "Családi Ház",
                                    "SZOBA_SZAMA": "1",
                                    "(No column name)": "2"
                                },
                                {
                                    "szallas_nev": "Családi Ház",
                                    "SZOBA_SZAMA": "4",
                                    "(No column name)": "2"
                                },
                                {
                                    "szallas_nev": "Családi Ház",
                                    "SZOBA_SZAMA": "2",
                                    "(No column name)": "2"
                                },
                                {
                                    "szallas_nev": "Fortuna Apartman",
                                    "SZOBA_SZAMA": "5",
                                    "(No column name)": "2"
                                },
                                {
                                    "szallas_nev": "Fortuna Apartman",
                                    "SZOBA_SZAMA": "1",
                                    "(No column name)": "3"
                                },
                                {
                                    "szallas_nev": "Fortuna Apartman",
                                    "SZOBA_SZAMA": "2",
                                    "(No column name)": "2"
                                },
                                {
                                    "szallas_nev": "Fortuna Apartman",
                                    "SZOBA_SZAMA": "5",
                                    "(No column name)": "2"
                                },
                                {
                                    "szallas_nev": "Fortuna Apartman",
                                    "SZOBA_SZAMA": "8",
                                    "(No column name)": "2"
                                },
                                {
                                    "szallas_nev": "Fortuna Apartman",
                                    "SZOBA_SZAMA": "6",
                                    "(No column name)": "2"
                                },
                                {
                                    "szallas_nev": "Fortuna Apartman",
                                    "SZOBA_SZAMA": "1",
                                    "(No column name)": "2"
                                },
                                {
                                    "szallas_nev": "Fortuna Apartman",
                                    "SZOBA_SZAMA": "7",
                                    "(No column name)": "2"
                                },
                                {
                                    "szallas_nev": "Fortuna Apartman",
                                    "SZOBA_SZAMA": "7",
                                    "(No column name)": "2"
                                },
                                {
                                    "szallas_nev": "Fortuna Apartman",
                                    "SZOBA_SZAMA": "3",
                                    "(No column name)": "1"
                                },
                                {
                                    "szallas_nev": "Fortuna Apartman",
                                    "SZOBA_SZAMA": "6",
                                    "(No column name)": "1"
                                },
                                {
                                    "szallas_nev": "Fortuna Apartman",
                                    "SZOBA_SZAMA": "3",
                                    "(No column name)": "1"
                                },
                                {
                                    "szallas_nev": "Fortuna Apartman",
                                    "SZOBA_SZAMA": "1",
                                    "(No column name)": "1"
                                },
                                {
                                    "szallas_nev": "Fortuna Apartman",
                                    "SZOBA_SZAMA": "1",
                                    "(No column name)": "1"
                                },
                                {
                                    "szallas_nev": "Fortuna Apartman",
                                    "SZOBA_SZAMA": "4",
                                    "(No column name)": "1"
                                },
                                {
                                    "szallas_nev": "Fortuna Apartman",
                                    "SZOBA_SZAMA": "2",
                                    "(No column name)": "2"
                                },
                                {
                                    "szallas_nev": "Fortuna Apartman",
                                    "SZOBA_SZAMA": "3",
                                    "(No column name)": "2"
                                },
                                {
                                    "szallas_nev": "Fortuna Apartman",
                                    "SZOBA_SZAMA": "5",
                                    "(No column name)": "2"
                                },
                                {
                                    "szallas_nev": "Fortuna Apartman",
                                    "SZOBA_SZAMA": "4",
                                    "(No column name)": "2"
                                },
                                {
                                    "szallas_nev": "Fortuna Apartman",
                                    "SZOBA_SZAMA": "7",
                                    "(No column name)": "2"
                                },
                                {
                                    "szallas_nev": "Fortuna Apartman",
                                    "SZOBA_SZAMA": "2",
                                    "(No column name)": "2"
                                },
                                {
                                    "szallas_nev": "Fortuna Apartman",
                                    "SZOBA_SZAMA": "4",
                                    "(No column name)": "2"
                                },
                                {
                                    "szallas_nev": "Fortuna Apartman",
                                    "SZOBA_SZAMA": "4",
                                    "(No column name)": "2"
                                },
                                {
                                    "szallas_nev": "Fortuna Apartman",
                                    "SZOBA_SZAMA": "4",
                                    "(No column name)": "2"
                                },
                                {
                                    "szallas_nev": "Fortuna Apartman",
                                    "SZOBA_SZAMA": "6",
                                    "(No column name)": "3"
                                },
                                {
                                    "szallas_nev": "Fortuna Apartman",
                                    "SZOBA_SZAMA": "3",
                                    "(No column name)": "3"
                                },
                                {
                                    "szallas_nev": "Fortuna Apartman",
                                    "SZOBA_SZAMA": "8",
                                    "(No column name)": "3"
                                },
                                {
                                    "szallas_nev": "Fortuna Apartman",
                                    "SZOBA_SZAMA": "2",
                                    "(No column name)": "3"
                                },
                                {
                                    "szallas_nev": "Fortuna Apartman",
                                    "SZOBA_SZAMA": "6",
                                    "(No column name)": "3"
                                },
                                {
                                    "szallas_nev": "Fortuna Apartman",
                                    "SZOBA_SZAMA": "2",
                                    "(No column name)": "3"
                                },
                                {
                                    "szallas_nev": "Fortuna Apartman",
                                    "SZOBA_SZAMA": "6",
                                    "(No column name)": "3"
                                },
                                {
                                    "szallas_nev": "Fortuna Apartman",
                                    "SZOBA_SZAMA": "5",
                                    "(No column name)": "3"
                                },
                                {
                                    "szallas_nev": "Fortuna Apartman",
                                    "SZOBA_SZAMA": "3",
                                    "(No column name)": "3"
                                },
                                {
                                    "szallas_nev": "Fortuna Apartman",
                                    "SZOBA_SZAMA": "6",
                                    "(No column name)": "2"
                                },
                                {
                                    "szallas_nev": "Fortuna Apartman",
                                    "SZOBA_SZAMA": "1",
                                    "(No column name)": "2"
                                },
                                {
                                    "szallas_nev": "Fortuna Apartman",
                                    "SZOBA_SZAMA": "8",
                                    "(No column name)": "3"
                                },
                                {
                                    "szallas_nev": "Fortuna Apartman",
                                    "SZOBA_SZAMA": "2",
                                    "(No column name)": "3"
                                },
                                {
                                    "szallas_nev": "Fortuna Apartman",
                                    "SZOBA_SZAMA": "3",
                                    "(No column name)": "3"
                                },
                                {
                                    "szallas_nev": "Fortuna Apartman",
                                    "SZOBA_SZAMA": "1",
                                    "(No column name)": "3"
                                },
                                {
                                    "szallas_nev": "Fortuna Panzió",
                                    "SZOBA_SZAMA": "3",
                                    "(No column name)": "2"
                                },
                                {
                                    "szallas_nev": "Fortuna Panzió",
                                    "SZOBA_SZAMA": "5",
                                    "(No column name)": "2"
                                },
                                {
                                    "szallas_nev": "Fortuna Panzió",
                                    "SZOBA_SZAMA": "3",
                                    "(No column name)": "2"
                                },
                                {
                                    "szallas_nev": "Fortuna panzió",
                                    "SZOBA_SZAMA": "7",
                                    "(No column name)": "2"
                                },
                                {
                                    "szallas_nev": "Fortuna panzió",
                                    "SZOBA_SZAMA": "15",
                                    "(No column name)": "2"
                                },
                                {
                                    "szallas_nev": "Fortuna Panzió",
                                    "SZOBA_SZAMA": "9",
                                    "(No column name)": "2"
                                },
                                {
                                    "szallas_nev": "Fortuna panzió",
                                    "SZOBA_SZAMA": "6",
                                    "(No column name)": "2"
                                },
                                {
                                    "szallas_nev": "Fortuna panzió",
                                    "SZOBA_SZAMA": "7",
                                    "(No column name)": "2"
                                },
                                {
                                    "szallas_nev": "Fortuna panzió",
                                    "SZOBA_SZAMA": "5",
                                    "(No column name)": "2"
                                },
                                {
                                    "szallas_nev": "Fortuna panzió",
                                    "SZOBA_SZAMA": "14",
                                    "(No column name)": "2"
                                },
                                {
                                    "szallas_nev": "Fortuna panzió",
                                    "SZOBA_SZAMA": "9",
                                    "(No column name)": "3"
                                },
                                {
                                    "szallas_nev": "Fortuna Panzió",
                                    "SZOBA_SZAMA": "9",
                                    "(No column name)": "3"
                                },
                                {
                                    "szallas_nev": "Fortuna Panzió",
                                    "SZOBA_SZAMA": "5",
                                    "(No column name)": "3"
                                },
                                {
                                    "szallas_nev": "Fortuna Panzió",
                                    "SZOBA_SZAMA": "3",
                                    "(No column name)": "3"
                                },
                                {
                                    "szallas_nev": "Fortuna panzió",
                                    "SZOBA_SZAMA": "10",
                                    "(No column name)": "3"
                                },
                                {
                                    "szallas_nev": "Fortuna panzió",
                                    "SZOBA_SZAMA": "4",
                                    "(No column name)": "2"
                                },
                                {
                                    "szallas_nev": "Fortuna panzió",
                                    "SZOBA_SZAMA": "4",
                                    "(No column name)": "2"
                                },
                                {
                                    "szallas_nev": "Fortuna Panzió",
                                    "SZOBA_SZAMA": "10",
                                    "(No column name)": "2"
                                },
                                {
                                    "szallas_nev": "Fortuna panzió",
                                    "SZOBA_SZAMA": "5",
                                    "(No column name)": "2"
                                },
                                {
                                    "szallas_nev": "Fortuna panzió",
                                    "SZOBA_SZAMA": "12",
                                    "(No column name)": "2"
                                },
                                {
                                    "szallas_nev": "Fortuna panzió",
                                    "SZOBA_SZAMA": "15",
                                    "(No column name)": "2"
                                },
                                {
                                    "szallas_nev": "Fortuna panzió",
                                    "SZOBA_SZAMA": "4",
                                    "(No column name)": "2"
                                },
                                {
                                    "szallas_nev": "Fortuna panzió",
                                    "SZOBA_SZAMA": "10",
                                    "(No column name)": "2"
                                },
                                {
                                    "szallas_nev": "Fortuna Panzió",
                                    "SZOBA_SZAMA": "9",
                                    "(No column name)": "2"
                                },
                                {
                                    "szallas_nev": "Fortuna panzió",
                                    "SZOBA_SZAMA": "12",
                                    "(No column name)": "2"
                                },
                                {
                                    "szallas_nev": "Fortuna panzió",
                                    "SZOBA_SZAMA": "8",
                                    "(No column name)": "2"
                                },
                                {
                                    "szallas_nev": "Fortuna Panzió",
                                    "SZOBA_SZAMA": "1",
                                    "(No column name)": "2"
                                },
                                {
                                    "szallas_nev": "Fortuna Panzió",
                                    "SZOBA_SZAMA": "1",
                                    "(No column name)": "2"
                                },
                                {
                                    "szallas_nev": "Fortuna Panzió",
                                    "SZOBA_SZAMA": "8",
                                    "(No column name)": "2"
                                },
                                {
                                    "szallas_nev": "Fortuna Panzió",
                                    "SZOBA_SZAMA": "2",
                                    "(No column name)": "2"
                                },
                                {
                                    "szallas_nev": "Fortuna panzió",
                                    "SZOBA_SZAMA": "11",
                                    "(No column name)": "2"
                                },
                                {
                                    "szallas_nev": "Fortuna panzió",
                                    "SZOBA_SZAMA": "11",
                                    "(No column name)": "2"
                                },
                                {
                                    "szallas_nev": "Fortuna panzió",
                                    "SZOBA_SZAMA": "12",
                                    "(No column name)": "2"
                                },
                                {
                                    "szallas_nev": "Fortuna Panzió",
                                    "SZOBA_SZAMA": "9",
                                    "(No column name)": "2"
                                },
                                {
                                    "szallas_nev": "Fortuna panzió",
                                    "SZOBA_SZAMA": "12",
                                    "(No column name)": "3"
                                },
                                {
                                    "szallas_nev": "Fortuna panzió",
                                    "SZOBA_SZAMA": "9",
                                    "(No column name)": "3"
                                },
                                {
                                    "szallas_nev": "Fortuna Panzió",
                                    "SZOBA_SZAMA": "1",
                                    "(No column name)": "2"
                                },
                                {
                                    "szallas_nev": "Fortuna Panzió",
                                    "SZOBA_SZAMA": "4",
                                    "(No column name)": "2"
                                },
                                {
                                    "szallas_nev": "Fortuna panzió",
                                    "SZOBA_SZAMA": "6",
                                    "(No column name)": "2"
                                },
                                {
                                    "szallas_nev": "Fortuna Panzió",
                                    "SZOBA_SZAMA": "4",
                                    "(No column name)": "2"
                                },
                                {
                                    "szallas_nev": "Fortuna panzió",
                                    "SZOBA_SZAMA": "11",
                                    "(No column name)": "2"
                                },
                                {
                                    "szallas_nev": "Fortuna panzió",
                                    "SZOBA_SZAMA": "13",
                                    "(No column name)": "2"
                                },
                                {
                                    "szallas_nev": "Fortuna panzió",
                                    "SZOBA_SZAMA": "13",
                                    "(No column name)": "2"
                                },
                                {
                                    "szallas_nev": "Fortuna panzió",
                                    "SZOBA_SZAMA": "11",
                                    "(No column name)": "2"
                                },
                                {
                                    "szallas_nev": "Fortuna panzió",
                                    "SZOBA_SZAMA": "4",
                                    "(No column name)": "2"
                                },
                                {
                                    "szallas_nev": "Fortuna panzió",
                                    "SZOBA_SZAMA": "7",
                                    "(No column name)": "2"
                                },
                                {
                                    "szallas_nev": "Fortuna panzió",
                                    "SZOBA_SZAMA": "12",
                                    "(No column name)": "2"
                                },
                                {
                                    "szallas_nev": "Fortuna panzió",
                                    "SZOBA_SZAMA": "12",
                                    "(No column name)": "3"
                                },
                                {
                                    "szallas_nev": "Fortuna Panzió",
                                    "SZOBA_SZAMA": "7",
                                    "(No column name)": "3"
                                },
                                {
                                    "szallas_nev": "Fortuna panzió",
                                    "SZOBA_SZAMA": "3",
                                    "(No column name)": "3"
                                },
                                {
                                    "szallas_nev": "Fortuna Panzió",
                                    "SZOBA_SZAMA": "3",
                                    "(No column name)": "3"
                                },
                                {
                                    "szallas_nev": "Fortuna panzió",
                                    "SZOBA_SZAMA": "10",
                                    "(No column name)": "3"
                                },
                                {
                                    "szallas_nev": "Fortuna Panzió",
                                    "SZOBA_SZAMA": "10",
                                    "(No column name)": "3"
                                },
                                {
                                    "szallas_nev": "Fortuna Panzió",
                                    "SZOBA_SZAMA": "6",
                                    "(No column name)": "2"
                                },
                                {
                                    "szallas_nev": "Fortuna Panzió",
                                    "SZOBA_SZAMA": "6",
                                    "(No column name)": "2"
                                },
                                {
                                    "szallas_nev": "Fortuna panzió",
                                    "SZOBA_SZAMA": "3",
                                    "(No column name)": "2"
                                },
                                {
                                    "szallas_nev": "Fortuna panzió",
                                    "SZOBA_SZAMA": "10",
                                    "(No column name)": "2"
                                },
                                {
                                    "szallas_nev": "Fortuna Panzió",
                                    "SZOBA_SZAMA": "5",
                                    "(No column name)": "2"
                                },
                                {
                                    "szallas_nev": "Fortuna Panzió",
                                    "SZOBA_SZAMA": "9",
                                    "(No column name)": "2"
                                },
                                {
                                    "szallas_nev": "Fortuna Panzió",
                                    "SZOBA_SZAMA": "10",
                                    "(No column name)": "2"
                                },
                                {
                                    "szallas_nev": "Fortuna panzió",
                                    "SZOBA_SZAMA": "11",
                                    "(No column name)": "2"
                                },
                                {
                                    "szallas_nev": "Fortuna Panzió",
                                    "SZOBA_SZAMA": "6",
                                    "(No column name)": "2"
                                },
                                {
                                    "szallas_nev": "Fortuna panzió",
                                    "SZOBA_SZAMA": "3",
                                    "(No column name)": "2"
                                },
                                {
                                    "szallas_nev": "Fortuna panzió",
                                    "SZOBA_SZAMA": "14",
                                    "(No column name)": "2"
                                },
                                {
                                    "szallas_nev": "Fortuna panzió",
                                    "SZOBA_SZAMA": "1",
                                    "(No column name)": "2"
                                },
                                {
                                    "szallas_nev": "Fortuna panzió",
                                    "SZOBA_SZAMA": "9",
                                    "(No column name)": "2"
                                },
                                {
                                    "szallas_nev": "Fortuna Panzió",
                                    "SZOBA_SZAMA": "8",
                                    "(No column name)": "2"
                                },
                                {
                                    "szallas_nev": "Fortuna panzió",
                                    "SZOBA_SZAMA": "14",
                                    "(No column name)": "2"
                                },
                                {
                                    "szallas_nev": "Fortuna Panzió",
                                    "SZOBA_SZAMA": "10",
                                    "(No column name)": "2"
                                },
                                {
                                    "szallas_nev": "Fortuna panzió",
                                    "SZOBA_SZAMA": "5",
                                    "(No column name)": "2"
                                },
                                {
                                    "szallas_nev": "Fortuna panzió",
                                    "SZOBA_SZAMA": "14",
                                    "(No column name)": "2"
                                },
                                {
                                    "szallas_nev": "Fortuna panzió",
                                    "SZOBA_SZAMA": "3",
                                    "(No column name)": "2"
                                },
                                {
                                    "szallas_nev": "Fortuna Panzió",
                                    "SZOBA_SZAMA": "4",
                                    "(No column name)": "2"
                                },
                                {
                                    "szallas_nev": "Fortuna Panzió",
                                    "SZOBA_SZAMA": "1",
                                    "(No column name)": "2"
                                },
                                {
                                    "szallas_nev": "Fortuna Panzió",
                                    "SZOBA_SZAMA": "6",
                                    "(No column name)": "2"
                                },
                                {
                                    "szallas_nev": "Fortuna panzió",
                                    "SZOBA_SZAMA": "6",
                                    "(No column name)": "2"
                                },
                                {
                                    "szallas_nev": "Fortuna Panzió",
                                    "SZOBA_SZAMA": "2",
                                    "(No column name)": "2"
                                },
                                {
                                    "szallas_nev": "Fortuna panzió",
                                    "SZOBA_SZAMA": "4",
                                    "(No column name)": "2"
                                },
                                {
                                    "szallas_nev": "Fortuna panzió",
                                    "SZOBA_SZAMA": "2",
                                    "(No column name)": "2"
                                },
                                {
                                    "szallas_nev": "Fortuna panzió",
                                    "SZOBA_SZAMA": "5",
                                    "(No column name)": "2"
                                },
                                {
                                    "szallas_nev": "Fortuna Panzió",
                                    "SZOBA_SZAMA": "7",
                                    "(No column name)": "2"
                                },
                                {
                                    "szallas_nev": "Fortuna Panzió",
                                    "SZOBA_SZAMA": "10",
                                    "(No column name)": "2"
                                },
                                {
                                    "szallas_nev": "Fortuna Panzió",
                                    "SZOBA_SZAMA": "4",
                                    "(No column name)": "2"
                                },
                                {
                                    "szallas_nev": "Fortuna panzió",
                                    "SZOBA_SZAMA": "15",
                                    "(No column name)": "2"
                                },
                                {
                                    "szallas_nev": "Fortuna Panzió",
                                    "SZOBA_SZAMA": "10",
                                    "(No column name)": "2"
                                },
                                {
                                    "szallas_nev": "Fortuna Panzió",
                                    "SZOBA_SZAMA": "4",
                                    "(No column name)": "2"
                                },
                                {
                                    "szallas_nev": "Fortuna panzió",
                                    "SZOBA_SZAMA": "5",
                                    "(No column name)": "2"
                                },
                                {
                                    "szallas_nev": "Fortuna Panzió",
                                    "SZOBA_SZAMA": "9",
                                    "(No column name)": "2"
                                },
                                {
                                    "szallas_nev": "Fortuna Panzió",
                                    "SZOBA_SZAMA": "4",
                                    "(No column name)": "2"
                                },
                                {
                                    "szallas_nev": "Fortuna panzió",
                                    "SZOBA_SZAMA": "3",
                                    "(No column name)": "2"
                                },
                                {
                                    "szallas_nev": "Fortuna Panzió",
                                    "SZOBA_SZAMA": "7",
                                    "(No column name)": "2"
                                },
                                {
                                    "szallas_nev": "Fortuna Panzió",
                                    "SZOBA_SZAMA": "5",
                                    "(No column name)": "2"
                                },
                                {
                                    "szallas_nev": "Fortuna Panzió",
                                    "SZOBA_SZAMA": "6",
                                    "(No column name)": "2"
                                },
                                {
                                    "szallas_nev": "Fortuna Panzió",
                                    "SZOBA_SZAMA": "3",
                                    "(No column name)": "2"
                                },
                                {
                                    "szallas_nev": "Fortuna panzió",
                                    "SZOBA_SZAMA": "9",
                                    "(No column name)": "2"
                                },
                                {
                                    "szallas_nev": "Fortuna panzió",
                                    "SZOBA_SZAMA": "13",
                                    "(No column name)": "2"
                                },
                                {
                                    "szallas_nev": "Fortuna panzió",
                                    "SZOBA_SZAMA": "9",
                                    "(No column name)": "2"
                                },
                                {
                                    "szallas_nev": "Fortuna panzió",
                                    "SZOBA_SZAMA": "14",
                                    "(No column name)": "2"
                                },
                                {
                                    "szallas_nev": "Fortuna panzió",
                                    "SZOBA_SZAMA": "1",
                                    "(No column name)": "2"
                                },
                                {
                                    "szallas_nev": "Fortuna panzió",
                                    "SZOBA_SZAMA": "3",
                                    "(No column name)": "2"
                                },
                                {
                                    "szallas_nev": "Fortuna panzió",
                                    "SZOBA_SZAMA": "15",
                                    "(No column name)": "2"
                                },
                                {
                                    "szallas_nev": "Fortuna panzió",
                                    "SZOBA_SZAMA": "9",
                                    "(No column name)": "2"
                                },
                                {
                                    "szallas_nev": "Fortuna panzió",
                                    "SZOBA_SZAMA": "2",
                                    "(No column name)": "2"
                                },
                                {
                                    "szallas_nev": "Fortuna panzió",
                                    "SZOBA_SZAMA": "11",
                                    "(No column name)": "2"
                                },
                                {
                                    "szallas_nev": "Fortuna panzió",
                                    "SZOBA_SZAMA": "11",
                                    "(No column name)": "2"
                                },
                                {
                                    "szallas_nev": "Fortuna panzió",
                                    "SZOBA_SZAMA": "14",
                                    "(No column name)": "2"
                                },
                                {
                                    "szallas_nev": "Fortuna Panzió",
                                    "SZOBA_SZAMA": "5",
                                    "(No column name)": "2"
                                },
                                {
                                    "szallas_nev": "Fortuna panzió",
                                    "SZOBA_SZAMA": "15",
                                    "(No column name)": "2"
                                },
                                {
                                    "szallas_nev": "Fortuna panzió",
                                    "SZOBA_SZAMA": "11",
                                    "(No column name)": "2"
                                },
                                {
                                    "szallas_nev": "Fortuna Panzió",
                                    "SZOBA_SZAMA": "3",
                                    "(No column name)": "2"
                                },
                                {
                                    "szallas_nev": "Fortuna panzió",
                                    "SZOBA_SZAMA": "15",
                                    "(No column name)": "2"
                                },
                                {
                                    "szallas_nev": "Fortuna panzió",
                                    "SZOBA_SZAMA": "4",
                                    "(No column name)": "2"
                                },
                                {
                                    "szallas_nev": "Fortuna panzió",
                                    "SZOBA_SZAMA": "3",
                                    "(No column name)": "2"
                                },
                                {
                                    "szallas_nev": "Fortuna panzió",
                                    "SZOBA_SZAMA": "14",
                                    "(No column name)": "2"
                                },
                                {
                                    "szallas_nev": "Fortuna Panzió",
                                    "SZOBA_SZAMA": "7",
                                    "(No column name)": "2"
                                },
                                {
                                    "szallas_nev": "Fortuna Panzió",
                                    "SZOBA_SZAMA": "4",
                                    "(No column name)": "2"
                                },
                                {
                                    "szallas_nev": "Fortuna panzió",
                                    "SZOBA_SZAMA": "11",
                                    "(No column name)": "2"
                                },
                                {
                                    "szallas_nev": "Fortuna Panzió",
                                    "SZOBA_SZAMA": "10",
                                    "(No column name)": "2"
                                },
                                {
                                    "szallas_nev": "Fortuna panzió",
                                    "SZOBA_SZAMA": "15",
                                    "(No column name)": "2"
                                },
                                {
                                    "szallas_nev": "Fortuna Panzió",
                                    "SZOBA_SZAMA": "9",
                                    "(No column name)": "2"
                                },
                                {
                                    "szallas_nev": "Fortuna Panzió",
                                    "SZOBA_SZAMA": "9",
                                    "(No column name)": "2"
                                },
                                {
                                    "szallas_nev": "Fortuna Panzió",
                                    "SZOBA_SZAMA": "5",
                                    "(No column name)": "2"
                                },
                                {
                                    "szallas_nev": "Fortuna Panzió",
                                    "SZOBA_SZAMA": "4",
                                    "(No column name)": "2"
                                },
                                {
                                    "szallas_nev": "Fortuna panzió",
                                    "SZOBA_SZAMA": "14",
                                    "(No column name)": "2"
                                },
                                {
                                    "szallas_nev": "Fortuna panzió",
                                    "SZOBA_SZAMA": "5",
                                    "(No column name)": "2"
                                },
                                {
                                    "szallas_nev": "Fortuna Panzió",
                                    "SZOBA_SZAMA": "9",
                                    "(No column name)": "2"
                                },
                                {
                                    "szallas_nev": "Gold Hotel",
                                    "SZOBA_SZAMA": "6",
                                    "(No column name)": "1"
                                },
                                {
                                    "szallas_nev": "Gold Hotel",
                                    "SZOBA_SZAMA": "18",
                                    "(No column name)": "1"
                                },
                                {
                                    "szallas_nev": "Gold Hotel",
                                    "SZOBA_SZAMA": "5",
                                    "(No column name)": "1"
                                },
                                {
                                    "szallas_nev": "Gold Hotel",
                                    "SZOBA_SZAMA": "7",
                                    "(No column name)": "1"
                                },
                                {
                                    "szallas_nev": "Gold Hotel",
                                    "SZOBA_SZAMA": "21",
                                    "(No column name)": "2"
                                },
                                {
                                    "szallas_nev": "Gold Hotel",
                                    "SZOBA_SZAMA": "12",
                                    "(No column name)": "2"
                                },
                                {
                                    "szallas_nev": "Gold Hotel",
                                    "SZOBA_SZAMA": "26",
                                    "(No column name)": "2"
                                },
                                {
                                    "szallas_nev": "Gold Hotel",
                                    "SZOBA_SZAMA": "20",
                                    "(No column name)": "2"
                                },
                                {
                                    "szallas_nev": "Gold Hotel",
                                    "SZOBA_SZAMA": "22",
                                    "(No column name)": "2"
                                },
                                {
                                    "szallas_nev": "Gold Hotel",
                                    "SZOBA_SZAMA": "23",
                                    "(No column name)": "2"
                                },
                                {
                                    "szallas_nev": "Gold Hotel",
                                    "SZOBA_SZAMA": "29",
                                    "(No column name)": "2"
                                },
                                {
                                    "szallas_nev": "Gold Hotel",
                                    "SZOBA_SZAMA": "1",
                                    "(No column name)": "2"
                                },
                                {
                                    "szallas_nev": "Gold Hotel",
                                    "SZOBA_SZAMA": "2",
                                    "(No column name)": "2"
                                },
                                {
                                    "szallas_nev": "Gold Hotel",
                                    "SZOBA_SZAMA": "5",
                                    "(No column name)": "2"
                                },
                                {
                                    "szallas_nev": "Gold Hotel",
                                    "SZOBA_SZAMA": "15",
                                    "(No column name)": "2"
                                },
                                {
                                    "szallas_nev": "Gold Hotel",
                                    "SZOBA_SZAMA": "3",
                                    "(No column name)": "2"
                                },
                                {
                                    "szallas_nev": "Gold Hotel",
                                    "SZOBA_SZAMA": "1",
                                    "(No column name)": "2"
                                },
                                {
                                    "szallas_nev": "Gold Hotel",
                                    "SZOBA_SZAMA": "21",
                                    "(No column name)": "2"
                                },
                                {
                                    "szallas_nev": "Gold Hotel",
                                    "SZOBA_SZAMA": "11",
                                    "(No column name)": "2"
                                },
                                {
                                    "szallas_nev": "Gold Hotel",
                                    "SZOBA_SZAMA": "23",
                                    "(No column name)": "2"
                                },
                                {
                                    "szallas_nev": "Gold Hotel",
                                    "SZOBA_SZAMA": "20",
                                    "(No column name)": "1"
                                },
                                {
                                    "szallas_nev": "Gold Hotel",
                                    "SZOBA_SZAMA": "1",
                                    "(No column name)": "1"
                                },
                                {
                                    "szallas_nev": "Gold Hotel",
                                    "SZOBA_SZAMA": "21",
                                    "(No column name)": "2"
                                },
                                {
                                    "szallas_nev": "Gold Hotel",
                                    "SZOBA_SZAMA": "1",
                                    "(No column name)": "1"
                                },
                                {
                                    "szallas_nev": "Gold Hotel",
                                    "SZOBA_SZAMA": "1",
                                    "(No column name)": "2"
                                },
                                {
                                    "szallas_nev": "Gold Hotel",
                                    "SZOBA_SZAMA": "16",
                                    "(No column name)": "2"
                                },
                                {
                                    "szallas_nev": "Gold Hotel",
                                    "SZOBA_SZAMA": "28",
                                    "(No column name)": "2"
                                },
                                {
                                    "szallas_nev": "Gold Hotel",
                                    "SZOBA_SZAMA": "24",
                                    "(No column name)": "2"
                                },
                                {
                                    "szallas_nev": "Gold Hotel",
                                    "SZOBA_SZAMA": "9",
                                    "(No column name)": "2"
                                },
                                {
                                    "szallas_nev": "Gold Hotel",
                                    "SZOBA_SZAMA": "10",
                                    "(No column name)": "2"
                                },
                                {
                                    "szallas_nev": "Gold Hotel",
                                    "SZOBA_SZAMA": "18",
                                    "(No column name)": "2"
                                },
                                {
                                    "szallas_nev": "Gold Hotel",
                                    "SZOBA_SZAMA": "4",
                                    "(No column name)": "2"
                                },
                                {
                                    "szallas_nev": "Gold Hotel",
                                    "SZOBA_SZAMA": "21",
                                    "(No column name)": "2"
                                },
                                {
                                    "szallas_nev": "Gold Hotel",
                                    "SZOBA_SZAMA": "29",
                                    "(No column name)": "3"
                                },
                                {
                                    "szallas_nev": "Gold Hotel",
                                    "SZOBA_SZAMA": "17",
                                    "(No column name)": "3"
                                },
                                {
                                    "szallas_nev": "Gold Hotel",
                                    "SZOBA_SZAMA": "19",
                                    "(No column name)": "3"
                                },
                                {
                                    "szallas_nev": "Gold Hotel",
                                    "SZOBA_SZAMA": "6",
                                    "(No column name)": "3"
                                },
                                {
                                    "szallas_nev": "Gold Hotel",
                                    "SZOBA_SZAMA": "32",
                                    "(No column name)": "3"
                                },
                                {
                                    "szallas_nev": "Gold Hotel",
                                    "SZOBA_SZAMA": "23",
                                    "(No column name)": "3"
                                },
                                {
                                    "szallas_nev": "Gold Hotel",
                                    "SZOBA_SZAMA": "17",
                                    "(No column name)": "2"
                                },
                                {
                                    "szallas_nev": "Gold Hotel",
                                    "SZOBA_SZAMA": "5",
                                    "(No column name)": "2"
                                },
                                {
                                    "szallas_nev": "Gold Hotel",
                                    "SZOBA_SZAMA": "29",
                                    "(No column name)": "2"
                                },
                                {
                                    "szallas_nev": "Gold Hotel",
                                    "SZOBA_SZAMA": "34",
                                    "(No column name)": "3"
                                },
                                {
                                    "szallas_nev": "Gold Hotel",
                                    "SZOBA_SZAMA": "7",
                                    "(No column name)": "2"
                                },
                                {
                                    "szallas_nev": "Gold Hotel",
                                    "SZOBA_SZAMA": "8",
                                    "(No column name)": "2"
                                },
                                {
                                    "szallas_nev": "Gold Hotel",
                                    "SZOBA_SZAMA": "26",
                                    "(No column name)": "2"
                                },
                                {
                                    "szallas_nev": "Gold Hotel",
                                    "SZOBA_SZAMA": "14",
                                    "(No column name)": "2"
                                },
                                {
                                    "szallas_nev": "Gold Hotel",
                                    "SZOBA_SZAMA": "33",
                                    "(No column name)": "2"
                                },
                                {
                                    "szallas_nev": "Gold Hotel",
                                    "SZOBA_SZAMA": "34",
                                    "(No column name)": "2"
                                },
                                {
                                    "szallas_nev": "Gold Hotel",
                                    "SZOBA_SZAMA": "18",
                                    "(No column name)": "2"
                                },
                                {
                                    "szallas_nev": "Gold Hotel",
                                    "SZOBA_SZAMA": "10",
                                    "(No column name)": "2"
                                },
                                {
                                    "szallas_nev": "Gold Hotel",
                                    "SZOBA_SZAMA": "26",
                                    "(No column name)": "2"
                                },
                                {
                                    "szallas_nev": "Gold Hotel",
                                    "SZOBA_SZAMA": "15",
                                    "(No column name)": "2"
                                },
                                {
                                    "szallas_nev": "Gold Hotel",
                                    "SZOBA_SZAMA": "17",
                                    "(No column name)": "2"
                                },
                                {
                                    "szallas_nev": "Gold Hotel",
                                    "SZOBA_SZAMA": "9",
                                    "(No column name)": "2"
                                },
                                {
                                    "szallas_nev": "Gold Hotel",
                                    "SZOBA_SZAMA": "21",
                                    "(No column name)": "2"
                                },
                                {
                                    "szallas_nev": "Gold Hotel",
                                    "SZOBA_SZAMA": "32",
                                    "(No column name)": "2"
                                },
                                {
                                    "szallas_nev": "Gold Hotel",
                                    "SZOBA_SZAMA": "29",
                                    "(No column name)": "2"
                                },
                                {
                                    "szallas_nev": "Gold Hotel",
                                    "SZOBA_SZAMA": "17",
                                    "(No column name)": "2"
                                },
                                {
                                    "szallas_nev": "Gold Hotel",
                                    "SZOBA_SZAMA": "21",
                                    "(No column name)": "2"
                                },
                                {
                                    "szallas_nev": "Gold Hotel",
                                    "SZOBA_SZAMA": "28",
                                    "(No column name)": "2"
                                },
                                {
                                    "szallas_nev": "Gold Hotel",
                                    "SZOBA_SZAMA": "10",
                                    "(No column name)": "2"
                                },
                                {
                                    "szallas_nev": "Gold Hotel",
                                    "SZOBA_SZAMA": "20",
                                    "(No column name)": "2"
                                },
                                {
                                    "szallas_nev": "Gold Hotel",
                                    "SZOBA_SZAMA": "24",
                                    "(No column name)": "2"
                                },
                                {
                                    "szallas_nev": "Gold Hotel",
                                    "SZOBA_SZAMA": "21",
                                    "(No column name)": "2"
                                },
                                {
                                    "szallas_nev": "Gold Hotel",
                                    "SZOBA_SZAMA": "25",
                                    "(No column name)": "1"
                                },
                                {
                                    "szallas_nev": "Gold Hotel",
                                    "SZOBA_SZAMA": "23",
                                    "(No column name)": "2"
                                },
                                {
                                    "szallas_nev": "Gold Hotel",
                                    "SZOBA_SZAMA": "8",
                                    "(No column name)": "1"
                                },
                                {
                                    "szallas_nev": "Gold Hotel",
                                    "SZOBA_SZAMA": "24",
                                    "(No column name)": "2"
                                },
                                {
                                    "szallas_nev": "Gold Hotel",
                                    "SZOBA_SZAMA": "21",
                                    "(No column name)": "2"
                                },
                                {
                                    "szallas_nev": "Gold Hotel",
                                    "SZOBA_SZAMA": "31",
                                    "(No column name)": "2"
                                },
                                {
                                    "szallas_nev": "Gold Hotel",
                                    "SZOBA_SZAMA": "17",
                                    "(No column name)": "2"
                                },
                                {
                                    "szallas_nev": "Gold Hotel",
                                    "SZOBA_SZAMA": "18",
                                    "(No column name)": "2"
                                },
                                {
                                    "szallas_nev": "Gold Hotel",
                                    "SZOBA_SZAMA": "23",
                                    "(No column name)": "2"
                                },
                                {
                                    "szallas_nev": "Gold Hotel",
                                    "SZOBA_SZAMA": "5",
                                    "(No column name)": "2"
                                },
                                {
                                    "szallas_nev": "Gold Hotel",
                                    "SZOBA_SZAMA": "24",
                                    "(No column name)": "2"
                                },
                                {
                                    "szallas_nev": "Gold Hotel",
                                    "SZOBA_SZAMA": "8",
                                    "(No column name)": "2"
                                },
                                {
                                    "szallas_nev": "Gold Hotel",
                                    "SZOBA_SZAMA": "25",
                                    "(No column name)": "2"
                                },
                                {
                                    "szallas_nev": "Gold Hotel",
                                    "SZOBA_SZAMA": "33",
                                    "(No column name)": "2"
                                },
                                {
                                    "szallas_nev": "Gold Hotel",
                                    "SZOBA_SZAMA": "23",
                                    "(No column name)": "2"
                                },
                                {
                                    "szallas_nev": "Gold Hotel",
                                    "SZOBA_SZAMA": "26",
                                    "(No column name)": "2"
                                },
                                {
                                    "szallas_nev": "Gold Hotel",
                                    "SZOBA_SZAMA": "4",
                                    "(No column name)": "2"
                                },
                                {
                                    "szallas_nev": "Gold Hotel",
                                    "SZOBA_SZAMA": "2",
                                    "(No column name)": "2"
                                },
                                {
                                    "szallas_nev": "Gold Hotel",
                                    "SZOBA_SZAMA": "13",
                                    "(No column name)": "2"
                                },
                                {
                                    "szallas_nev": "Gold Hotel",
                                    "SZOBA_SZAMA": "4",
                                    "(No column name)": "2"
                                },
                                {
                                    "szallas_nev": "Gold Hotel",
                                    "SZOBA_SZAMA": "11",
                                    "(No column name)": "2"
                                },
                                {
                                    "szallas_nev": "Gold Hotel",
                                    "SZOBA_SZAMA": "14",
                                    "(No column name)": "2"
                                },
                                {
                                    "szallas_nev": "Gold Hotel",
                                    "SZOBA_SZAMA": "13",
                                    "(No column name)": "2"
                                },
                                {
                                    "szallas_nev": "Gold Hotel",
                                    "SZOBA_SZAMA": "29",
                                    "(No column name)": "3"
                                },
                                {
                                    "szallas_nev": "Gold Hotel",
                                    "SZOBA_SZAMA": "8",
                                    "(No column name)": "2"
                                },
                                {
                                    "szallas_nev": "Gold Hotel",
                                    "SZOBA_SZAMA": "31",
                                    "(No column name)": "2"
                                },
                                {
                                    "szallas_nev": "Gold Hotel",
                                    "SZOBA_SZAMA": "24",
                                    "(No column name)": "2"
                                },
                                {
                                    "szallas_nev": "Gold Hotel",
                                    "SZOBA_SZAMA": "27",
                                    "(No column name)": "2"
                                },
                                {
                                    "szallas_nev": "Gold Hotel",
                                    "SZOBA_SZAMA": "29",
                                    "(No column name)": "2"
                                },
                                {
                                    "szallas_nev": "Gold Hotel",
                                    "SZOBA_SZAMA": "34",
                                    "(No column name)": "2"
                                },
                                {
                                    "szallas_nev": "Gold Hotel",
                                    "SZOBA_SZAMA": "19",
                                    "(No column name)": "2"
                                },
                                {
                                    "szallas_nev": "Gold Hotel",
                                    "SZOBA_SZAMA": "31",
                                    "(No column name)": "2"
                                },
                                {
                                    "szallas_nev": "Gold Hotel",
                                    "SZOBA_SZAMA": "33",
                                    "(No column name)": "2"
                                },
                                {
                                    "szallas_nev": "Gold Hotel",
                                    "SZOBA_SZAMA": "11",
                                    "(No column name)": "2"
                                },
                                {
                                    "szallas_nev": "Gold Hotel",
                                    "SZOBA_SZAMA": "30",
                                    "(No column name)": "2"
                                },
                                {
                                    "szallas_nev": "Gold Hotel",
                                    "SZOBA_SZAMA": "34",
                                    "(No column name)": "2"
                                },
                                {
                                    "szallas_nev": "Gold Hotel",
                                    "SZOBA_SZAMA": "21",
                                    "(No column name)": "2"
                                },
                                {
                                    "szallas_nev": "Gold Hotel",
                                    "SZOBA_SZAMA": "11",
                                    "(No column name)": "2"
                                },
                                {
                                    "szallas_nev": "Gold Hotel",
                                    "SZOBA_SZAMA": "34",
                                    "(No column name)": "2"
                                },
                                {
                                    "szallas_nev": "Gold Hotel",
                                    "SZOBA_SZAMA": "1",
                                    "(No column name)": "2"
                                },
                                {
                                    "szallas_nev": "Gold Hotel",
                                    "SZOBA_SZAMA": "8",
                                    "(No column name)": "2"
                                },
                                {
                                    "szallas_nev": "Gold Hotel",
                                    "SZOBA_SZAMA": "12",
                                    "(No column name)": "2"
                                },
                                {
                                    "szallas_nev": "Gold Hotel",
                                    "SZOBA_SZAMA": "19",
                                    "(No column name)": "2"
                                },
                                {
                                    "szallas_nev": "Gold Hotel",
                                    "SZOBA_SZAMA": "22",
                                    "(No column name)": "2"
                                },
                                {
                                    "szallas_nev": "Gold Hotel",
                                    "SZOBA_SZAMA": "34",
                                    "(No column name)": "2"
                                },
                                {
                                    "szallas_nev": "Gold Hotel",
                                    "SZOBA_SZAMA": "8",
                                    "(No column name)": "2"
                                },
                                {
                                    "szallas_nev": "Gold Hotel",
                                    "SZOBA_SZAMA": "33",
                                    "(No column name)": "2"
                                },
                                {
                                    "szallas_nev": "Gold Hotel",
                                    "SZOBA_SZAMA": "13",
                                    "(No column name)": "2"
                                },
                                {
                                    "szallas_nev": "Gold Hotel",
                                    "SZOBA_SZAMA": "7",
                                    "(No column name)": "2"
                                },
                                {
                                    "szallas_nev": "Gold Hotel",
                                    "SZOBA_SZAMA": "21",
                                    "(No column name)": "2"
                                },
                                {
                                    "szallas_nev": "Gold Hotel",
                                    "SZOBA_SZAMA": "31",
                                    "(No column name)": "2"
                                },
                                {
                                    "szallas_nev": "Gold Hotel",
                                    "SZOBA_SZAMA": "18",
                                    "(No column name)": "2"
                                },
                                {
                                    "szallas_nev": "Gold Hotel",
                                    "SZOBA_SZAMA": "6",
                                    "(No column name)": "2"
                                },
                                {
                                    "szallas_nev": "Gold Hotel",
                                    "SZOBA_SZAMA": "25",
                                    "(No column name)": "2"
                                },
                                {
                                    "szallas_nev": "Gold Hotel",
                                    "SZOBA_SZAMA": "14",
                                    "(No column name)": "2"
                                },
                                {
                                    "szallas_nev": "Gold Hotel",
                                    "SZOBA_SZAMA": "34",
                                    "(No column name)": "2"
                                },
                                {
                                    "szallas_nev": "Gold Hotel",
                                    "SZOBA_SZAMA": "18",
                                    "(No column name)": "2"
                                },
                                {
                                    "szallas_nev": "Gold Hotel",
                                    "SZOBA_SZAMA": "18",
                                    "(No column name)": "2"
                                },
                                {
                                    "szallas_nev": "Gold Hotel",
                                    "SZOBA_SZAMA": "29",
                                    "(No column name)": "2"
                                },
                                {
                                    "szallas_nev": "Gold Hotel",
                                    "SZOBA_SZAMA": "14",
                                    "(No column name)": "2"
                                },
                                {
                                    "szallas_nev": "Gold Hotel",
                                    "SZOBA_SZAMA": "22",
                                    "(No column name)": "2"
                                },
                                {
                                    "szallas_nev": "Gold Hotel",
                                    "SZOBA_SZAMA": "4",
                                    "(No column name)": "2"
                                },
                                {
                                    "szallas_nev": "Gold Hotel",
                                    "SZOBA_SZAMA": "20",
                                    "(No column name)": "2"
                                },
                                {
                                    "szallas_nev": "Gold Hotel",
                                    "SZOBA_SZAMA": "4",
                                    "(No column name)": "2"
                                },
                                {
                                    "szallas_nev": "Gold Hotel",
                                    "SZOBA_SZAMA": "6",
                                    "(No column name)": "2"
                                },
                                {
                                    "szallas_nev": "Gold Hotel",
                                    "SZOBA_SZAMA": "10",
                                    "(No column name)": "1"
                                },
                                {
                                    "szallas_nev": "Gold Hotel",
                                    "SZOBA_SZAMA": "12",
                                    "(No column name)": "2"
                                },
                                {
                                    "szallas_nev": "Gold Hotel",
                                    "SZOBA_SZAMA": "27",
                                    "(No column name)": "2"
                                },
                                {
                                    "szallas_nev": "Gold Hotel",
                                    "SZOBA_SZAMA": "33",
                                    "(No column name)": "2"
                                },
                                {
                                    "szallas_nev": "Gold Hotel",
                                    "SZOBA_SZAMA": "18",
                                    "(No column name)": "2"
                                },
                                {
                                    "szallas_nev": "Gold Hotel",
                                    "SZOBA_SZAMA": "32",
                                    "(No column name)": "2"
                                },
                                {
                                    "szallas_nev": "Gold Hotel",
                                    "SZOBA_SZAMA": "18",
                                    "(No column name)": "2"
                                },
                                {
                                    "szallas_nev": "Gold Hotel",
                                    "SZOBA_SZAMA": "27",
                                    "(No column name)": "2"
                                },
                                {
                                    "szallas_nev": "Gold Hotel",
                                    "SZOBA_SZAMA": "18",
                                    "(No column name)": "2"
                                },
                                {
                                    "szallas_nev": "Gold Hotel",
                                    "SZOBA_SZAMA": "7",
                                    "(No column name)": "1"
                                },
                                {
                                    "szallas_nev": "Gold Hotel",
                                    "SZOBA_SZAMA": "8",
                                    "(No column name)": "1"
                                },
                                {
                                    "szallas_nev": "Gold Hotel",
                                    "SZOBA_SZAMA": "32",
                                    "(No column name)": "2"
                                },
                                {
                                    "szallas_nev": "Gold Hotel",
                                    "SZOBA_SZAMA": "6",
                                    "(No column name)": "1"
                                },
                                {
                                    "szallas_nev": "Gold Hotel",
                                    "SZOBA_SZAMA": "17",
                                    "(No column name)": "1"
                                },
                                {
                                    "szallas_nev": "Gold Hotel",
                                    "SZOBA_SZAMA": "9",
                                    "(No column name)": "1"
                                },
                                {
                                    "szallas_nev": "Gold Hotel",
                                    "SZOBA_SZAMA": "5",
                                    "(No column name)": "2"
                                },
                                {
                                    "szallas_nev": "Gold Hotel",
                                    "SZOBA_SZAMA": "1",
                                    "(No column name)": "2"
                                },
                                {
                                    "szallas_nev": "Gold Hotel",
                                    "SZOBA_SZAMA": "12",
                                    "(No column name)": "2"
                                },
                                {
                                    "szallas_nev": "Gold Hotel",
                                    "SZOBA_SZAMA": "33",
                                    "(No column name)": "2"
                                },
                                {
                                    "szallas_nev": "Gold Hotel",
                                    "SZOBA_SZAMA": "24",
                                    "(No column name)": "2"
                                },
                                {
                                    "szallas_nev": "Gold Hotel",
                                    "SZOBA_SZAMA": "23",
                                    "(No column name)": "2"
                                },
                                {
                                    "szallas_nev": "Gold Hotel",
                                    "SZOBA_SZAMA": "11",
                                    "(No column name)": "2"
                                },
                                {
                                    "szallas_nev": "Gold Hotel",
                                    "SZOBA_SZAMA": "18",
                                    "(No column name)": "2"
                                },
                                {
                                    "szallas_nev": "Gold Hotel",
                                    "SZOBA_SZAMA": "3",
                                    "(No column name)": "2"
                                },
                                {
                                    "szallas_nev": "Gold Hotel",
                                    "SZOBA_SZAMA": "34",
                                    "(No column name)": "2"
                                },
                                {
                                    "szallas_nev": "Gold Hotel",
                                    "SZOBA_SZAMA": "8",
                                    "(No column name)": "2"
                                },
                                {
                                    "szallas_nev": "Gold Hotel",
                                    "SZOBA_SZAMA": "18",
                                    "(No column name)": "1"
                                },
                                {
                                    "szallas_nev": "Gold Hotel",
                                    "SZOBA_SZAMA": "5",
                                    "(No column name)": "1"
                                },
                                {
                                    "szallas_nev": "Gold Hotel",
                                    "SZOBA_SZAMA": "9",
                                    "(No column name)": "1"
                                },
                                {
                                    "szallas_nev": "Gold Hotel",
                                    "SZOBA_SZAMA": "19",
                                    "(No column name)": "1"
                                },
                                {
                                    "szallas_nev": "Gold Hotel",
                                    "SZOBA_SZAMA": "21",
                                    "(No column name)": "2"
                                },
                                {
                                    "szallas_nev": "Gold Hotel",
                                    "SZOBA_SZAMA": "25",
                                    "(No column name)": "2"
                                },
                                {
                                    "szallas_nev": "Gold Hotel",
                                    "SZOBA_SZAMA": "21",
                                    "(No column name)": "2"
                                },
                                {
                                    "szallas_nev": "Gold Hotel",
                                    "SZOBA_SZAMA": "22",
                                    "(No column name)": "2"
                                },
                                {
                                    "szallas_nev": "Gold Hotel",
                                    "SZOBA_SZAMA": "31",
                                    "(No column name)": "2"
                                },
                                {
                                    "szallas_nev": "Gold Hotel",
                                    "SZOBA_SZAMA": "31",
                                    "(No column name)": "2"
                                },
                                {
                                    "szallas_nev": "Gold Hotel",
                                    "SZOBA_SZAMA": "8",
                                    "(No column name)": "2"
                                },
                                {
                                    "szallas_nev": "Gold Hotel",
                                    "SZOBA_SZAMA": "15",
                                    "(No column name)": "2"
                                },
                                {
                                    "szallas_nev": "Gold Hotel",
                                    "SZOBA_SZAMA": "27",
                                    "(No column name)": "2"
                                },
                                {
                                    "szallas_nev": "Gold Hotel",
                                    "SZOBA_SZAMA": "13",
                                    "(No column name)": "2"
                                },
                                {
                                    "szallas_nev": "Gold Hotel",
                                    "SZOBA_SZAMA": "27",
                                    "(No column name)": "2"
                                },
                                {
                                    "szallas_nev": "Gold Hotel",
                                    "SZOBA_SZAMA": "12",
                                    "(No column name)": "2"
                                },
                                {
                                    "szallas_nev": "Gold Hotel",
                                    "SZOBA_SZAMA": "26",
                                    "(No column name)": "2"
                                },
                                {
                                    "szallas_nev": "Gold Hotel",
                                    "SZOBA_SZAMA": "2",
                                    "(No column name)": "2"
                                },
                                {
                                    "szallas_nev": "Gold Hotel",
                                    "SZOBA_SZAMA": "16",
                                    "(No column name)": "2"
                                },
                                {
                                    "szallas_nev": "Gold Hotel",
                                    "SZOBA_SZAMA": "16",
                                    "(No column name)": "2"
                                },
                                {
                                    "szallas_nev": "Gold Hotel",
                                    "SZOBA_SZAMA": "7",
                                    "(No column name)": "3"
                                },
                                {
                                    "szallas_nev": "Gold Hotel",
                                    "SZOBA_SZAMA": "12",
                                    "(No column name)": "2"
                                },
                                {
                                    "szallas_nev": "Gold Hotel",
                                    "SZOBA_SZAMA": "25",
                                    "(No column name)": "2"
                                },
                                {
                                    "szallas_nev": "Hotel Három Hattyú",
                                    "SZOBA_SZAMA": "35",
                                    "(No column name)": "3"
                                },
                                {
                                    "szallas_nev": "Hotel Három Hattyú",
                                    "SZOBA_SZAMA": "17",
                                    "(No column name)": "2"
                                },
                                {
                                    "szallas_nev": "Hotel Három Hattyú",
                                    "SZOBA_SZAMA": "33",
                                    "(No column name)": "1"
                                },
                                {
                                    "szallas_nev": "Hotel Három Hattyú",
                                    "SZOBA_SZAMA": "25",
                                    "(No column name)": "2"
                                },
                                {
                                    "szallas_nev": "Hotel Három Hattyú",
                                    "SZOBA_SZAMA": "10",
                                    "(No column name)": "2"
                                },
                                {
                                    "szallas_nev": "Hotel Három Hattyú",
                                    "SZOBA_SZAMA": "21",
                                    "(No column name)": "2"
                                },
                                {
                                    "szallas_nev": "Hotel Három Hattyú",
                                    "SZOBA_SZAMA": "6",
                                    "(No column name)": "2"
                                },
                                {
                                    "szallas_nev": "Hotel Három Hattyú",
                                    "SZOBA_SZAMA": "16",
                                    "(No column name)": "2"
                                },
                                {
                                    "szallas_nev": "Hotel Három Hattyú",
                                    "SZOBA_SZAMA": "27",
                                    "(No column name)": "2"
                                },
                                {
                                    "szallas_nev": "Hotel Három Hattyú",
                                    "SZOBA_SZAMA": "19",
                                    "(No column name)": "2"
                                },
                                {
                                    "szallas_nev": "Hotel Három Hattyú",
                                    "SZOBA_SZAMA": "4",
                                    "(No column name)": "2"
                                },
                                {
                                    "szallas_nev": "Hotel Három Hattyú",
                                    "SZOBA_SZAMA": "27",
                                    "(No column name)": "2"
                                },
                                {
                                    "szallas_nev": "Hotel Három Hattyú",
                                    "SZOBA_SZAMA": "15",
                                    "(No column name)": "2"
                                },
                                {
                                    "szallas_nev": "Hotel Három Hattyú",
                                    "SZOBA_SZAMA": "19",
                                    "(No column name)": "2"
                                },
                                {
                                    "szallas_nev": "Hotel Három Hattyú",
                                    "SZOBA_SZAMA": "6",
                                    "(No column name)": "2"
                                },
                                {
                                    "szallas_nev": "Hotel Három Hattyú",
                                    "SZOBA_SZAMA": "8",
                                    "(No column name)": "2"
                                },
                                {
                                    "szallas_nev": "Hotel Három Hattyú",
                                    "SZOBA_SZAMA": "9",
                                    "(No column name)": "2"
                                },
                                {
                                    "szallas_nev": "Hotel Három Hattyú",
                                    "SZOBA_SZAMA": "7",
                                    "(No column name)": "2"
                                },
                                {
                                    "szallas_nev": "Hotel Három Hattyú",
                                    "SZOBA_SZAMA": "1",
                                    "(No column name)": "2"
                                },
                                {
                                    "szallas_nev": "Hotel Három Hattyú",
                                    "SZOBA_SZAMA": "10",
                                    "(No column name)": "2"
                                },
                                {
                                    "szallas_nev": "Hotel Három Hattyú",
                                    "SZOBA_SZAMA": "37",
                                    "(No column name)": "2"
                                },
                                {
                                    "szallas_nev": "Hotel Három Hattyú",
                                    "SZOBA_SZAMA": "19",
                                    "(No column name)": "2"
                                },
                                {
                                    "szallas_nev": "Hotel Három Hattyú",
                                    "SZOBA_SZAMA": "5",
                                    "(No column name)": "2"
                                },
                                {
                                    "szallas_nev": "Hotel Három Hattyú",
                                    "SZOBA_SZAMA": "37",
                                    "(No column name)": "2"
                                },
                                {
                                    "szallas_nev": "Hotel Három Hattyú",
                                    "SZOBA_SZAMA": "31",
                                    "(No column name)": "1"
                                },
                                {
                                    "szallas_nev": "Hotel Három Hattyú",
                                    "SZOBA_SZAMA": "34",
                                    "(No column name)": "2"
                                },
                                {
                                    "szallas_nev": "Hotel Három Hattyú",
                                    "SZOBA_SZAMA": "28",
                                    "(No column name)": "2"
                                },
                                {
                                    "szallas_nev": "Hotel Három Hattyú",
                                    "SZOBA_SZAMA": "37",
                                    "(No column name)": "2"
                                },
                                {
                                    "szallas_nev": "Hotel Három Hattyú",
                                    "SZOBA_SZAMA": "8",
                                    "(No column name)": "1"
                                },
                                {
                                    "szallas_nev": "Hotel Három Hattyú",
                                    "SZOBA_SZAMA": "22",
                                    "(No column name)": "2"
                                },
                                {
                                    "szallas_nev": "Hotel Három Hattyú",
                                    "SZOBA_SZAMA": "20",
                                    "(No column name)": "2"
                                },
                                {
                                    "szallas_nev": "Hotel Három Hattyú",
                                    "SZOBA_SZAMA": "33",
                                    "(No column name)": "1"
                                },
                                {
                                    "szallas_nev": "Hotel Három Hattyú",
                                    "SZOBA_SZAMA": "2",
                                    "(No column name)": "2"
                                },
                                {
                                    "szallas_nev": "Hotel Három Hattyú",
                                    "SZOBA_SZAMA": "25",
                                    "(No column name)": "2"
                                },
                                {
                                    "szallas_nev": "Hotel Három Hattyú",
                                    "SZOBA_SZAMA": "27",
                                    "(No column name)": "2"
                                },
                                {
                                    "szallas_nev": "Hotel Három Hattyú",
                                    "SZOBA_SZAMA": "21",
                                    "(No column name)": "2"
                                },
                                {
                                    "szallas_nev": "Hotel Három Hattyú",
                                    "SZOBA_SZAMA": "27",
                                    "(No column name)": "2"
                                },
                                {
                                    "szallas_nev": "Hotel Három Hattyú",
                                    "SZOBA_SZAMA": "20",
                                    "(No column name)": "2"
                                },
                                {
                                    "szallas_nev": "Hotel Három Hattyú",
                                    "SZOBA_SZAMA": "24",
                                    "(No column name)": "2"
                                },
                                {
                                    "szallas_nev": "Hotel Három Hattyú",
                                    "SZOBA_SZAMA": "33",
                                    "(No column name)": "2"
                                },
                                {
                                    "szallas_nev": "Hotel Három Hattyú",
                                    "SZOBA_SZAMA": "13",
                                    "(No column name)": "2"
                                },
                                {
                                    "szallas_nev": "Hotel Három Hattyú",
                                    "SZOBA_SZAMA": "4",
                                    "(No column name)": "2"
                                },
                                {
                                    "szallas_nev": "Hotel Három Hattyú",
                                    "SZOBA_SZAMA": "13",
                                    "(No column name)": "2"
                                },
                                {
                                    "szallas_nev": "Hotel Három Hattyú",
                                    "SZOBA_SZAMA": "28",
                                    "(No column name)": "2"
                                },
                                {
                                    "szallas_nev": "Hotel Három Hattyú",
                                    "SZOBA_SZAMA": "28",
                                    "(No column name)": "2"
                                },
                                {
                                    "szallas_nev": "Hotel Három Hattyú",
                                    "SZOBA_SZAMA": "30",
                                    "(No column name)": "2"
                                },
                                {
                                    "szallas_nev": "Hotel Három Hattyú",
                                    "SZOBA_SZAMA": "27",
                                    "(No column name)": "2"
                                },
                                {
                                    "szallas_nev": "Hotel Három Hattyú",
                                    "SZOBA_SZAMA": "32",
                                    "(No column name)": "3"
                                },
                                {
                                    "szallas_nev": "Hotel Három Hattyú",
                                    "SZOBA_SZAMA": "2",
                                    "(No column name)": "3"
                                },
                                {
                                    "szallas_nev": "Hotel Három Hattyú",
                                    "SZOBA_SZAMA": "29",
                                    "(No column name)": "3"
                                },
                                {
                                    "szallas_nev": "Hotel Három Hattyú",
                                    "SZOBA_SZAMA": "4",
                                    "(No column name)": "2"
                                },
                                {
                                    "szallas_nev": "Hotel Három Hattyú",
                                    "SZOBA_SZAMA": "6",
                                    "(No column name)": "2"
                                },
                                {
                                    "szallas_nev": "Hotel Három Hattyú",
                                    "SZOBA_SZAMA": "20",
                                    "(No column name)": "2"
                                },
                                {
                                    "szallas_nev": "Hotel Három Hattyú",
                                    "SZOBA_SZAMA": "12",
                                    "(No column name)": "2"
                                },
                                {
                                    "szallas_nev": "Hotel Három Hattyú",
                                    "SZOBA_SZAMA": "9",
                                    "(No column name)": "1"
                                },
                                {
                                    "szallas_nev": "Hotel Három Hattyú",
                                    "SZOBA_SZAMA": "29",
                                    "(No column name)": "2"
                                },
                                {
                                    "szallas_nev": "Hotel Három Hattyú",
                                    "SZOBA_SZAMA": "16",
                                    "(No column name)": "1"
                                },
                                {
                                    "szallas_nev": "Hotel Három Hattyú",
                                    "SZOBA_SZAMA": "11",
                                    "(No column name)": "1"
                                },
                                {
                                    "szallas_nev": "Hotel Három Hattyú",
                                    "SZOBA_SZAMA": "28",
                                    "(No column name)": "1"
                                },
                                {
                                    "szallas_nev": "Hotel Három Hattyú",
                                    "SZOBA_SZAMA": "38",
                                    "(No column name)": "2"
                                },
                                {
                                    "szallas_nev": "Hotel Három Hattyú",
                                    "SZOBA_SZAMA": "7",
                                    "(No column name)": "2"
                                },
                                {
                                    "szallas_nev": "Hotel Három Hattyú",
                                    "SZOBA_SZAMA": "29",
                                    "(No column name)": "2"
                                },
                                {
                                    "szallas_nev": "Hotel Három Hattyú",
                                    "SZOBA_SZAMA": "39",
                                    "(No column name)": "2"
                                },
                                {
                                    "szallas_nev": "Hotel Három Hattyú",
                                    "SZOBA_SZAMA": "7",
                                    "(No column name)": "3"
                                },
                                {
                                    "szallas_nev": "Hotel Három Hattyú",
                                    "SZOBA_SZAMA": "4",
                                    "(No column name)": "2"
                                },
                                {
                                    "szallas_nev": "Hotel Három Hattyú",
                                    "SZOBA_SZAMA": "1",
                                    "(No column name)": "2"
                                },
                                {
                                    "szallas_nev": "Hotel Három Hattyú",
                                    "SZOBA_SZAMA": "31",
                                    "(No column name)": "2"
                                },
                                {
                                    "szallas_nev": "Hotel Három Hattyú",
                                    "SZOBA_SZAMA": "24",
                                    "(No column name)": "2"
                                },
                                {
                                    "szallas_nev": "Hotel Három Hattyú",
                                    "SZOBA_SZAMA": "3",
                                    "(No column name)": "2"
                                },
                                {
                                    "szallas_nev": "Hotel Három Hattyú",
                                    "SZOBA_SZAMA": "31",
                                    "(No column name)": "2"
                                },
                                {
                                    "szallas_nev": "Hotel Három Hattyú",
                                    "SZOBA_SZAMA": "36",
                                    "(No column name)": "2"
                                },
                                {
                                    "szallas_nev": "Hotel Három Hattyú",
                                    "SZOBA_SZAMA": "30",
                                    "(No column name)": "2"
                                },
                                {
                                    "szallas_nev": "Hotel Három Hattyú",
                                    "SZOBA_SZAMA": "22",
                                    "(No column name)": "2"
                                },
                                {
                                    "szallas_nev": "Hotel Három Hattyú",
                                    "SZOBA_SZAMA": "6",
                                    "(No column name)": "2"
                                },
                                {
                                    "szallas_nev": "Hotel Három Hattyú",
                                    "SZOBA_SZAMA": "21",
                                    "(No column name)": "2"
                                },
                                {
                                    "szallas_nev": "Hotel Három Hattyú",
                                    "SZOBA_SZAMA": "22",
                                    "(No column name)": "2"
                                },
                                {
                                    "szallas_nev": "Hotel Három Hattyú",
                                    "SZOBA_SZAMA": "36",
                                    "(No column name)": "2"
                                },
                                {
                                    "szallas_nev": "Hotel Három Hattyú",
                                    "SZOBA_SZAMA": "2",
                                    "(No column name)": "2"
                                },
                                {
                                    "szallas_nev": "Hotel Három Hattyú",
                                    "SZOBA_SZAMA": "19",
                                    "(No column name)": "2"
                                },
                                {
                                    "szallas_nev": "Hotel Három Hattyú",
                                    "SZOBA_SZAMA": "38",
                                    "(No column name)": "2"
                                },
                                {
                                    "szallas_nev": "Hotel Három Hattyú",
                                    "SZOBA_SZAMA": "24",
                                    "(No column name)": "2"
                                },
                                {
                                    "szallas_nev": "Hotel Három Hattyú",
                                    "SZOBA_SZAMA": "7",
                                    "(No column name)": "2"
                                },
                                {
                                    "szallas_nev": "Hotel Három Hattyú",
                                    "SZOBA_SZAMA": "14",
                                    "(No column name)": "2"
                                },
                                {
                                    "szallas_nev": "Hotel Három Hattyú",
                                    "SZOBA_SZAMA": "2",
                                    "(No column name)": "2"
                                },
                                {
                                    "szallas_nev": "Hotel Három Hattyú",
                                    "SZOBA_SZAMA": "23",
                                    "(No column name)": "3"
                                },
                                {
                                    "szallas_nev": "Hotel Három Hattyú",
                                    "SZOBA_SZAMA": "37",
                                    "(No column name)": "2"
                                },
                                {
                                    "szallas_nev": "Hotel Három Hattyú",
                                    "SZOBA_SZAMA": "32",
                                    "(No column name)": "3"
                                },
                                {
                                    "szallas_nev": "Hotel Három Hattyú",
                                    "SZOBA_SZAMA": "20",
                                    "(No column name)": "3"
                                },
                                {
                                    "szallas_nev": "Hotel Három Hattyú",
                                    "SZOBA_SZAMA": "5",
                                    "(No column name)": "2"
                                },
                                {
                                    "szallas_nev": "Hotel Három Hattyú",
                                    "SZOBA_SZAMA": "31",
                                    "(No column name)": "2"
                                },
                                {
                                    "szallas_nev": "Hotel Három Hattyú",
                                    "SZOBA_SZAMA": "8",
                                    "(No column name)": "2"
                                },
                                {
                                    "szallas_nev": "Hotel Három Hattyú",
                                    "SZOBA_SZAMA": "32",
                                    "(No column name)": "2"
                                },
                                {
                                    "szallas_nev": "Hotel Három Hattyú",
                                    "SZOBA_SZAMA": "9",
                                    "(No column name)": "2"
                                },
                                {
                                    "szallas_nev": "Hotel Három Hattyú",
                                    "SZOBA_SZAMA": "19",
                                    "(No column name)": "2"
                                },
                                {
                                    "szallas_nev": "Hotel Három Hattyú",
                                    "SZOBA_SZAMA": "23",
                                    "(No column name)": "2"
                                },
                                {
                                    "szallas_nev": "Hotel Három Hattyú",
                                    "SZOBA_SZAMA": "30",
                                    "(No column name)": "2"
                                },
                                {
                                    "szallas_nev": "Hotel Három Hattyú",
                                    "SZOBA_SZAMA": "20",
                                    "(No column name)": "2"
                                },
                                {
                                    "szallas_nev": "Hotel Három Hattyú",
                                    "SZOBA_SZAMA": "5",
                                    "(No column name)": "2"
                                },
                                {
                                    "szallas_nev": "Hotel Három Hattyú",
                                    "SZOBA_SZAMA": "18",
                                    "(No column name)": "2"
                                },
                                {
                                    "szallas_nev": "Hotel Három Hattyú",
                                    "SZOBA_SZAMA": "25",
                                    "(No column name)": "2"
                                },
                                {
                                    "szallas_nev": "Hotel Három Hattyú",
                                    "SZOBA_SZAMA": "22",
                                    "(No column name)": "2"
                                },
                                {
                                    "szallas_nev": "Hotel Három Hattyú",
                                    "SZOBA_SZAMA": "36",
                                    "(No column name)": "2"
                                },
                                {
                                    "szallas_nev": "Hotel Három Hattyú",
                                    "SZOBA_SZAMA": "31",
                                    "(No column name)": "2"
                                },
                                {
                                    "szallas_nev": "Hotel Három Hattyú",
                                    "SZOBA_SZAMA": "25",
                                    "(No column name)": "2"
                                },
                                {
                                    "szallas_nev": "Hotel Három Hattyú",
                                    "SZOBA_SZAMA": "20",
                                    "(No column name)": "2"
                                },
                                {
                                    "szallas_nev": "Hotel Három Hattyú",
                                    "SZOBA_SZAMA": "32",
                                    "(No column name)": "2"
                                },
                                {
                                    "szallas_nev": "Hotel Három Hattyú",
                                    "SZOBA_SZAMA": "3",
                                    "(No column name)": "1"
                                },
                                {
                                    "szallas_nev": "Hotel Három Hattyú",
                                    "SZOBA_SZAMA": "14",
                                    "(No column name)": "2"
                                },
                                {
                                    "szallas_nev": "Hotel Három Hattyú",
                                    "SZOBA_SZAMA": "27",
                                    "(No column name)": "1"
                                },
                                {
                                    "szallas_nev": "Hotel Három Hattyú",
                                    "SZOBA_SZAMA": "1",
                                    "(No column name)": "1"
                                },
                                {
                                    "szallas_nev": "Hotel Három Hattyú",
                                    "SZOBA_SZAMA": "32",
                                    "(No column name)": "2"
                                },
                                {
                                    "szallas_nev": "Hotel Három Hattyú",
                                    "SZOBA_SZAMA": "34",
                                    "(No column name)": "2"
                                },
                                {
                                    "szallas_nev": "Hotel Három Hattyú",
                                    "SZOBA_SZAMA": "3",
                                    "(No column name)": "2"
                                },
                                {
                                    "szallas_nev": "Hotel Három Hattyú",
                                    "SZOBA_SZAMA": "31",
                                    "(No column name)": "2"
                                },
                                {
                                    "szallas_nev": "Hotel Három Hattyú",
                                    "SZOBA_SZAMA": "37",
                                    "(No column name)": "3"
                                },
                                {
                                    "szallas_nev": "Hotel Három Hattyú",
                                    "SZOBA_SZAMA": "16",
                                    "(No column name)": "3"
                                },
                                {
                                    "szallas_nev": "Hotel Három Hattyú",
                                    "SZOBA_SZAMA": "33",
                                    "(No column name)": "3"
                                },
                                {
                                    "szallas_nev": "Hotel Három Hattyú",
                                    "SZOBA_SZAMA": "4",
                                    "(No column name)": "2"
                                },
                                {
                                    "szallas_nev": "Hotel Három Hattyú",
                                    "SZOBA_SZAMA": "32",
                                    "(No column name)": "2"
                                },
                                {
                                    "szallas_nev": "Hotel Három Hattyú",
                                    "SZOBA_SZAMA": "17",
                                    "(No column name)": "2"
                                },
                                {
                                    "szallas_nev": "Hotel Három Hattyú",
                                    "SZOBA_SZAMA": "27",
                                    "(No column name)": "2"
                                },
                                {
                                    "szallas_nev": "Hotel Három Hattyú",
                                    "SZOBA_SZAMA": "23",
                                    "(No column name)": "2"
                                },
                                {
                                    "szallas_nev": "Hotel Három Hattyú",
                                    "SZOBA_SZAMA": "16",
                                    "(No column name)": "2"
                                },
                                {
                                    "szallas_nev": "Hotel Három Hattyú",
                                    "SZOBA_SZAMA": "33",
                                    "(No column name)": "2"
                                },
                                {
                                    "szallas_nev": "Hotel Három Hattyú",
                                    "SZOBA_SZAMA": "37",
                                    "(No column name)": "2"
                                },
                                {
                                    "szallas_nev": "Hotel Három Hattyú",
                                    "SZOBA_SZAMA": "21",
                                    "(No column name)": "2"
                                },
                                {
                                    "szallas_nev": "Hotel Három Hattyú",
                                    "SZOBA_SZAMA": "38",
                                    "(No column name)": "2"
                                },
                                {
                                    "szallas_nev": "Hotel Három Hattyú",
                                    "SZOBA_SZAMA": "19",
                                    "(No column name)": "2"
                                },
                                {
                                    "szallas_nev": "Hotel Három Hattyú",
                                    "SZOBA_SZAMA": "4",
                                    "(No column name)": "2"
                                },
                                {
                                    "szallas_nev": "Hotel Három Hattyú",
                                    "SZOBA_SZAMA": "4",
                                    "(No column name)": "2"
                                },
                                {
                                    "szallas_nev": "Hotel Három Hattyú",
                                    "SZOBA_SZAMA": "10",
                                    "(No column name)": "2"
                                },
                                {
                                    "szallas_nev": "Hotel Három Hattyú",
                                    "SZOBA_SZAMA": "11",
                                    "(No column name)": "2"
                                },
                                {
                                    "szallas_nev": "Hotel Három Hattyú",
                                    "SZOBA_SZAMA": "34",
                                    "(No column name)": "2"
                                },
                                {
                                    "szallas_nev": "Hotel Három Hattyú",
                                    "SZOBA_SZAMA": "32",
                                    "(No column name)": "2"
                                },
                                {
                                    "szallas_nev": "Hotel Három Hattyú",
                                    "SZOBA_SZAMA": "30",
                                    "(No column name)": "2"
                                },
                                {
                                    "szallas_nev": "Hotel Három Hattyú",
                                    "SZOBA_SZAMA": "12",
                                    "(No column name)": "2"
                                },
                                {
                                    "szallas_nev": "Hotel Három Hattyú",
                                    "SZOBA_SZAMA": "25",
                                    "(No column name)": "2"
                                },
                                {
                                    "szallas_nev": "Hotel Három Hattyú",
                                    "SZOBA_SZAMA": "21",
                                    "(No column name)": "2"
                                },
                                {
                                    "szallas_nev": "Hotel Három Hattyú",
                                    "SZOBA_SZAMA": "17",
                                    "(No column name)": "2"
                                },
                                {
                                    "szallas_nev": "Hotel Három Hattyú",
                                    "SZOBA_SZAMA": "3",
                                    "(No column name)": "2"
                                },
                                {
                                    "szallas_nev": "Hotel Három Hattyú",
                                    "SZOBA_SZAMA": "39",
                                    "(No column name)": "3"
                                },
                                {
                                    "szallas_nev": "Hotel Három Hattyú",
                                    "SZOBA_SZAMA": "36",
                                    "(No column name)": "3"
                                },
                                {
                                    "szallas_nev": "Hotel Három Hattyú",
                                    "SZOBA_SZAMA": "16",
                                    "(No column name)": "2"
                                },
                                {
                                    "szallas_nev": "Hotel Három Hattyú",
                                    "SZOBA_SZAMA": "31",
                                    "(No column name)": "2"
                                },
                                {
                                    "szallas_nev": "Hotel Három Hattyú",
                                    "SZOBA_SZAMA": "28",
                                    "(No column name)": "2"
                                },
                                {
                                    "szallas_nev": "Hotel Három Hattyú",
                                    "SZOBA_SZAMA": "4",
                                    "(No column name)": "1"
                                },
                                {
                                    "szallas_nev": "Hotel Három Hattyú",
                                    "SZOBA_SZAMA": "6",
                                    "(No column name)": "1"
                                },
                                {
                                    "szallas_nev": "Hotel Három Hattyú",
                                    "SZOBA_SZAMA": "32",
                                    "(No column name)": "1"
                                },
                                {
                                    "szallas_nev": "Hotel Három Hattyú",
                                    "SZOBA_SZAMA": "3",
                                    "(No column name)": "2"
                                },
                                {
                                    "szallas_nev": "Hotel Három Hattyú",
                                    "SZOBA_SZAMA": "18",
                                    "(No column name)": "2"
                                },
                                {
                                    "szallas_nev": "Hotel Három Hattyú",
                                    "SZOBA_SZAMA": "31",
                                    "(No column name)": "2"
                                },
                                {
                                    "szallas_nev": "Hotel Három Hattyú",
                                    "SZOBA_SZAMA": "7",
                                    "(No column name)": "2"
                                },
                                {
                                    "szallas_nev": "Hotel Három Hattyú",
                                    "SZOBA_SZAMA": "1",
                                    "(No column name)": "2"
                                },
                                {
                                    "szallas_nev": "Hotel Három Hattyú",
                                    "SZOBA_SZAMA": "13",
                                    "(No column name)": "2"
                                },
                                {
                                    "szallas_nev": "Hotel Három Hattyú",
                                    "SZOBA_SZAMA": "8",
                                    "(No column name)": "2"
                                },
                                {
                                    "szallas_nev": "Hotel Három Hattyú",
                                    "SZOBA_SZAMA": "34",
                                    "(No column name)": "2"
                                },
                                {
                                    "szallas_nev": "Hotel Három Hattyú",
                                    "SZOBA_SZAMA": "9",
                                    "(No column name)": "2"
                                },
                                {
                                    "szallas_nev": "Hotel Három Hattyú",
                                    "SZOBA_SZAMA": "29",
                                    "(No column name)": "1"
                                },
                                {
                                    "szallas_nev": "Hotel Három Hattyú",
                                    "SZOBA_SZAMA": "7",
                                    "(No column name)": "1"
                                },
                                {
                                    "szallas_nev": "Hotel Három Hattyú",
                                    "SZOBA_SZAMA": "34",
                                    "(No column name)": "2"
                                },
                                {
                                    "szallas_nev": "Hotel Három Hattyú",
                                    "SZOBA_SZAMA": "20",
                                    "(No column name)": "2"
                                },
                                {
                                    "szallas_nev": "Hotel Három Hattyú",
                                    "SZOBA_SZAMA": "36",
                                    "(No column name)": "2"
                                },
                                {
                                    "szallas_nev": "Hotel Három Hattyú",
                                    "SZOBA_SZAMA": "6",
                                    "(No column name)": "2"
                                },
                                {
                                    "szallas_nev": "Hotel Három Hattyú",
                                    "SZOBA_SZAMA": "32",
                                    "(No column name)": "2"
                                },
                                {
                                    "szallas_nev": "Hotel Három Hattyú",
                                    "SZOBA_SZAMA": "39",
                                    "(No column name)": "2"
                                },
                                {
                                    "szallas_nev": "Hotel Három Hattyú",
                                    "SZOBA_SZAMA": "17",
                                    "(No column name)": "2"
                                },
                                {
                                    "szallas_nev": "Hotel Három Hattyú",
                                    "SZOBA_SZAMA": "26",
                                    "(No column name)": "2"
                                },
                                {
                                    "szallas_nev": "Hotel Három Hattyú",
                                    "SZOBA_SZAMA": "27",
                                    "(No column name)": "3"
                                },
                                {
                                    "szallas_nev": "Hotel Három Hattyú",
                                    "SZOBA_SZAMA": "28",
                                    "(No column name)": "3"
                                },
                                {
                                    "szallas_nev": "Hotel Három Hattyú",
                                    "SZOBA_SZAMA": "28",
                                    "(No column name)": "2"
                                },
                                {
                                    "szallas_nev": "Hotel Három Hattyú",
                                    "SZOBA_SZAMA": "10",
                                    "(No column name)": "2"
                                },
                                {
                                    "szallas_nev": "Hotel Három Hattyú",
                                    "SZOBA_SZAMA": "30",
                                    "(No column name)": "3"
                                },
                                {
                                    "szallas_nev": "Hotel Három Hattyú",
                                    "SZOBA_SZAMA": "13",
                                    "(No column name)": "3"
                                },
                                {
                                    "szallas_nev": "Hotel Három Hattyú",
                                    "SZOBA_SZAMA": "9",
                                    "(No column name)": "2"
                                },
                                {
                                    "szallas_nev": "Hotel Három Hattyú",
                                    "SZOBA_SZAMA": "29",
                                    "(No column name)": "2"
                                },
                                {
                                    "szallas_nev": "Hotel Három Hattyú",
                                    "SZOBA_SZAMA": "20",
                                    "(No column name)": "2"
                                },
                                {
                                    "szallas_nev": "Hotel Három Hattyú",
                                    "SZOBA_SZAMA": "30",
                                    "(No column name)": "2"
                                },
                                {
                                    "szallas_nev": "Hotel Három Hattyú",
                                    "SZOBA_SZAMA": "17",
                                    "(No column name)": "2"
                                },
                                {
                                    "szallas_nev": "Hotel Három Hattyú",
                                    "SZOBA_SZAMA": "23",
                                    "(No column name)": "3"
                                },
                                {
                                    "szallas_nev": "Hotel Három Hattyú",
                                    "SZOBA_SZAMA": "23",
                                    "(No column name)": "3"
                                },
                                {
                                    "szallas_nev": "Hotel Három Hattyú",
                                    "SZOBA_SZAMA": "36",
                                    "(No column name)": "3"
                                },
                                {
                                    "szallas_nev": "Hotel Három Hattyú",
                                    "SZOBA_SZAMA": "26",
                                    "(No column name)": "3"
                                },
                                {
                                    "szallas_nev": "Hotel Három Hattyú",
                                    "SZOBA_SZAMA": "39",
                                    "(No column name)": "3"
                                },
                                {
                                    "szallas_nev": "Hotel Három Hattyú",
                                    "SZOBA_SZAMA": "16",
                                    "(No column name)": "3"
                                },
                                {
                                    "szallas_nev": "Hotel Három Hattyú",
                                    "SZOBA_SZAMA": "11",
                                    "(No column name)": "2"
                                },
                                {
                                    "szallas_nev": "Hotel Három Hattyú",
                                    "SZOBA_SZAMA": "4",
                                    "(No column name)": "2"
                                },
                                {
                                    "szallas_nev": "Hotel Három Hattyú",
                                    "SZOBA_SZAMA": "15",
                                    "(No column name)": "2"
                                },
                                {
                                    "szallas_nev": "Hotel Három Hattyú",
                                    "SZOBA_SZAMA": "14",
                                    "(No column name)": "2"
                                },
                                {
                                    "szallas_nev": "Hotel Három Hattyú",
                                    "SZOBA_SZAMA": "22",
                                    "(No column name)": "2"
                                },
                                {
                                    "szallas_nev": "Hotel Három Hattyú",
                                    "SZOBA_SZAMA": "34",
                                    "(No column name)": "2"
                                },
                                {
                                    "szallas_nev": "Hotel Három Hattyú",
                                    "SZOBA_SZAMA": "2",
                                    "(No column name)": "2"
                                },
                                {
                                    "szallas_nev": "Hotel Három Hattyú",
                                    "SZOBA_SZAMA": "7",
                                    "(No column name)": "2"
                                },
                                {
                                    "szallas_nev": "Hotel Három Hattyú",
                                    "SZOBA_SZAMA": "14",
                                    "(No column name)": "2"
                                },
                                {
                                    "szallas_nev": "Hotel Három Hattyú",
                                    "SZOBA_SZAMA": "5",
                                    "(No column name)": "2"
                                },
                                {
                                    "szallas_nev": "Hotel Három Hattyú",
                                    "SZOBA_SZAMA": "24",
                                    "(No column name)": "2"
                                },
                                {
                                    "szallas_nev": "Hotel Három Hattyú",
                                    "SZOBA_SZAMA": "25",
                                    "(No column name)": "2"
                                },
                                {
                                    "szallas_nev": "Hotel Három Hattyú",
                                    "SZOBA_SZAMA": "2",
                                    "(No column name)": "2"
                                },
                                {
                                    "szallas_nev": "Hotel Három Hattyú",
                                    "SZOBA_SZAMA": "4",
                                    "(No column name)": "2"
                                },
                                {
                                    "szallas_nev": "Hotel Három Hattyú",
                                    "SZOBA_SZAMA": "19",
                                    "(No column name)": "2"
                                },
                                {
                                    "szallas_nev": "Hotel Három Hattyú",
                                    "SZOBA_SZAMA": "25",
                                    "(No column name)": "2"
                                },
                                {
                                    "szallas_nev": "Hotel Három Hattyú",
                                    "SZOBA_SZAMA": "6",
                                    "(No column name)": "2"
                                },
                                {
                                    "szallas_nev": "Hotel Három Hattyú",
                                    "SZOBA_SZAMA": "38",
                                    "(No column name)": "2"
                                },
                                {
                                    "szallas_nev": "Hotel Három Hattyú",
                                    "SZOBA_SZAMA": "37",
                                    "(No column name)": "2"
                                },
                                {
                                    "szallas_nev": "Hotel Három Hattyú",
                                    "SZOBA_SZAMA": "38",
                                    "(No column name)": "2"
                                },
                                {
                                    "szallas_nev": "Jáde panzió",
                                    "SZOBA_SZAMA": "2",
                                    "(No column name)": "2"
                                },
                                {
                                    "szallas_nev": "Jáde panzió",
                                    "SZOBA_SZAMA": "1",
                                    "(No column name)": "2"
                                },
                                {
                                    "szallas_nev": "Jáde panzió",
                                    "SZOBA_SZAMA": "1",
                                    "(No column name)": "2"
                                },
                                {
                                    "szallas_nev": "Jáde panzió",
                                    "SZOBA_SZAMA": "3",
                                    "(No column name)": "2"
                                },
                                {
                                    "szallas_nev": "Jáde panzió",
                                    "SZOBA_SZAMA": "2",
                                    "(No column name)": "2"
                                },
                                {
                                    "szallas_nev": "Jáde panzió",
                                    "SZOBA_SZAMA": "2",
                                    "(No column name)": "1"
                                },
                                {
                                    "szallas_nev": "Jáde panzió",
                                    "SZOBA_SZAMA": "4",
                                    "(No column name)": "2"
                                },
                                {
                                    "szallas_nev": "Jáde panzió",
                                    "SZOBA_SZAMA": "1",
                                    "(No column name)": "2"
                                },
                                {
                                    "szallas_nev": "Jáde panzió",
                                    "SZOBA_SZAMA": "4",
                                    "(No column name)": "2"
                                },
                                {
                                    "szallas_nev": "Jáde panzió",
                                    "SZOBA_SZAMA": "3",
                                    "(No column name)": "2"
                                },
                                {
                                    "szallas_nev": "Jáde panzió",
                                    "SZOBA_SZAMA": "5",
                                    "(No column name)": "2"
                                },
                                {
                                    "szallas_nev": "Jáde panzió",
                                    "SZOBA_SZAMA": "5",
                                    "(No column name)": "2"
                                },
                                {
                                    "szallas_nev": "Jáde panzió",
                                    "SZOBA_SZAMA": "2",
                                    "(No column name)": "2"
                                },
                                {
                                    "szallas_nev": "Jáde panzió",
                                    "SZOBA_SZAMA": "1",
                                    "(No column name)": "2"
                                },
                                {
                                    "szallas_nev": "Jáde panzió",
                                    "SZOBA_SZAMA": "1",
                                    "(No column name)": "2"
                                },
                                {
                                    "szallas_nev": "Jáde panzió",
                                    "SZOBA_SZAMA": "5",
                                    "(No column name)": "2"
                                },
                                {
                                    "szallas_nev": "Jáde panzió",
                                    "SZOBA_SZAMA": "3",
                                    "(No column name)": "2"
                                },
                                {
                                    "szallas_nev": "Jáde panzió",
                                    "SZOBA_SZAMA": "3",
                                    "(No column name)": "2"
                                },
                                {
                                    "szallas_nev": "Jáde panzió",
                                    "SZOBA_SZAMA": "4",
                                    "(No column name)": "2"
                                },
                                {
                                    "szallas_nev": "Jáde panzió",
                                    "SZOBA_SZAMA": "5",
                                    "(No column name)": "2"
                                },
                                {
                                    "szallas_nev": "Jáde panzió",
                                    "SZOBA_SZAMA": "5",
                                    "(No column name)": "2"
                                },
                                {
                                    "szallas_nev": "Jáde panzió",
                                    "SZOBA_SZAMA": "4",
                                    "(No column name)": "2"
                                },
                                {
                                    "szallas_nev": "Jáde panzió",
                                    "SZOBA_SZAMA": "3",
                                    "(No column name)": "2"
                                },
                                {
                                    "szallas_nev": "Jáde panzió",
                                    "SZOBA_SZAMA": "4",
                                    "(No column name)": "2"
                                },
                                {
                                    "szallas_nev": "Jáde panzió",
                                    "SZOBA_SZAMA": "4",
                                    "(No column name)": "2"
                                },
                                {
                                    "szallas_nev": "Jáde panzió",
                                    "SZOBA_SZAMA": "2",
                                    "(No column name)": "2"
                                },
                                {
                                    "szallas_nev": "Jáde panzió",
                                    "SZOBA_SZAMA": "1",
                                    "(No column name)": "2"
                                },
                                {
                                    "szallas_nev": "Jáde panzió",
                                    "SZOBA_SZAMA": "3",
                                    "(No column name)": "2"
                                },
                                {
                                    "szallas_nev": "Jáde panzió",
                                    "SZOBA_SZAMA": "5",
                                    "(No column name)": "2"
                                },
                                {
                                    "szallas_nev": "Kentaur Hotel",
                                    "SZOBA_SZAMA": "19",
                                    "(No column name)": "4"
                                },
                                {
                                    "szallas_nev": "Kentaur Hotel",
                                    "SZOBA_SZAMA": "34",
                                    "(No column name)": "3"
                                },
                                {
                                    "szallas_nev": "Kentaur Hotel",
                                    "SZOBA_SZAMA": "29",
                                    "(No column name)": "2"
                                },
                                {
                                    "szallas_nev": "Kentaur Hotel",
                                    "SZOBA_SZAMA": "30",
                                    "(No column name)": "2"
                                },
                                {
                                    "szallas_nev": "Kentaur Hotel",
                                    "SZOBA_SZAMA": "21",
                                    "(No column name)": "2"
                                },
                                {
                                    "szallas_nev": "Kentaur Hotel",
                                    "SZOBA_SZAMA": "28",
                                    "(No column name)": "2"
                                },
                                {
                                    "szallas_nev": "Kentaur Hotel",
                                    "SZOBA_SZAMA": "25",
                                    "(No column name)": "2"
                                },
                                {
                                    "szallas_nev": "Kentaur Hotel",
                                    "SZOBA_SZAMA": "5",
                                    "(No column name)": "2"
                                },
                                {
                                    "szallas_nev": "Kentaur Hotel",
                                    "SZOBA_SZAMA": "14",
                                    "(No column name)": "2"
                                },
                                {
                                    "szallas_nev": "Kentaur Hotel",
                                    "SZOBA_SZAMA": "18",
                                    "(No column name)": "2"
                                },
                                {
                                    "szallas_nev": "Kentaur Hotel",
                                    "SZOBA_SZAMA": "5",
                                    "(No column name)": "2"
                                },
                                {
                                    "szallas_nev": "Kentaur Hotel",
                                    "SZOBA_SZAMA": "18",
                                    "(No column name)": "2"
                                },
                                {
                                    "szallas_nev": "Kentaur Hotel",
                                    "SZOBA_SZAMA": "29",
                                    "(No column name)": "2"
                                },
                                {
                                    "szallas_nev": "Kentaur Hotel",
                                    "SZOBA_SZAMA": "16",
                                    "(No column name)": "2"
                                },
                                {
                                    "szallas_nev": "Kentaur Hotel",
                                    "SZOBA_SZAMA": "4",
                                    "(No column name)": "2"
                                },
                                {
                                    "szallas_nev": "Kentaur Hotel",
                                    "SZOBA_SZAMA": "21",
                                    "(No column name)": "2"
                                },
                                {
                                    "szallas_nev": "Kentaur Hotel",
                                    "SZOBA_SZAMA": "33",
                                    "(No column name)": "2"
                                },
                                {
                                    "szallas_nev": "Kentaur Hotel",
                                    "SZOBA_SZAMA": "34",
                                    "(No column name)": "2"
                                },
                                {
                                    "szallas_nev": "Kentaur Hotel",
                                    "SZOBA_SZAMA": "2",
                                    "(No column name)": "2"
                                },
                                {
                                    "szallas_nev": "Kentaur Hotel",
                                    "SZOBA_SZAMA": "33",
                                    "(No column name)": "2"
                                },
                                {
                                    "szallas_nev": "Kentaur Hotel",
                                    "SZOBA_SZAMA": "18",
                                    "(No column name)": "2"
                                },
                                {
                                    "szallas_nev": "Kentaur Hotel",
                                    "SZOBA_SZAMA": "15",
                                    "(No column name)": "2"
                                },
                                {
                                    "szallas_nev": "Kentaur Hotel",
                                    "SZOBA_SZAMA": "25",
                                    "(No column name)": "2"
                                },
                                {
                                    "szallas_nev": "Kentaur Hotel",
                                    "SZOBA_SZAMA": "34",
                                    "(No column name)": "2"
                                },
                                {
                                    "szallas_nev": "Kentaur Hotel",
                                    "SZOBA_SZAMA": "9",
                                    "(No column name)": "2"
                                },
                                {
                                    "szallas_nev": "Kentaur Hotel",
                                    "SZOBA_SZAMA": "20",
                                    "(No column name)": "2"
                                },
                                {
                                    "szallas_nev": "Kentaur Hotel",
                                    "SZOBA_SZAMA": "31",
                                    "(No column name)": "2"
                                },
                                {
                                    "szallas_nev": "Kentaur Hotel",
                                    "SZOBA_SZAMA": "5",
                                    "(No column name)": "2"
                                },
                                {
                                    "szallas_nev": "Kentaur Hotel",
                                    "SZOBA_SZAMA": "14",
                                    "(No column name)": "1"
                                },
                                {
                                    "szallas_nev": "Kentaur Hotel",
                                    "SZOBA_SZAMA": "23",
                                    "(No column name)": "2"
                                },
                                {
                                    "szallas_nev": "Kentaur Hotel",
                                    "SZOBA_SZAMA": "31",
                                    "(No column name)": "2"
                                },
                                {
                                    "szallas_nev": "Kentaur Hotel",
                                    "SZOBA_SZAMA": "7",
                                    "(No column name)": "1"
                                },
                                {
                                    "szallas_nev": "Kentaur Hotel",
                                    "SZOBA_SZAMA": "13",
                                    "(No column name)": "1"
                                },
                                {
                                    "szallas_nev": "Kentaur Hotel",
                                    "SZOBA_SZAMA": "13",
                                    "(No column name)": "1"
                                },
                                {
                                    "szallas_nev": "Kentaur Hotel",
                                    "SZOBA_SZAMA": "25",
                                    "(No column name)": "2"
                                },
                                {
                                    "szallas_nev": "Kentaur Hotel",
                                    "SZOBA_SZAMA": "17",
                                    "(No column name)": "2"
                                },
                                {
                                    "szallas_nev": "Kentaur Hotel",
                                    "SZOBA_SZAMA": "35",
                                    "(No column name)": "2"
                                },
                                {
                                    "szallas_nev": "Kentaur Hotel",
                                    "SZOBA_SZAMA": "23",
                                    "(No column name)": "2"
                                },
                                {
                                    "szallas_nev": "Kentaur Hotel",
                                    "SZOBA_SZAMA": "25",
                                    "(No column name)": "2"
                                },
                                {
                                    "szallas_nev": "Kentaur Hotel",
                                    "SZOBA_SZAMA": "27",
                                    "(No column name)": "2"
                                },
                                {
                                    "szallas_nev": "Kentaur Hotel",
                                    "SZOBA_SZAMA": "28",
                                    "(No column name)": "2"
                                },
                                {
                                    "szallas_nev": "Kentaur Hotel",
                                    "SZOBA_SZAMA": "31",
                                    "(No column name)": "2"
                                },
                                {
                                    "szallas_nev": "Kentaur Hotel",
                                    "SZOBA_SZAMA": "4",
                                    "(No column name)": "2"
                                },
                                {
                                    "szallas_nev": "Kentaur Hotel",
                                    "SZOBA_SZAMA": "34",
                                    "(No column name)": "2"
                                },
                                {
                                    "szallas_nev": "Kentaur Hotel",
                                    "SZOBA_SZAMA": "33",
                                    "(No column name)": "2"
                                },
                                {
                                    "szallas_nev": "Kentaur Hotel",
                                    "SZOBA_SZAMA": "24",
                                    "(No column name)": "2"
                                },
                                {
                                    "szallas_nev": "Kentaur Hotel",
                                    "SZOBA_SZAMA": "21",
                                    "(No column name)": "1"
                                },
                                {
                                    "szallas_nev": "Kentaur Hotel",
                                    "SZOBA_SZAMA": "22",
                                    "(No column name)": "2"
                                },
                                {
                                    "szallas_nev": "Kentaur Hotel",
                                    "SZOBA_SZAMA": "26",
                                    "(No column name)": "2"
                                },
                                {
                                    "szallas_nev": "Kentaur Hotel",
                                    "SZOBA_SZAMA": "19",
                                    "(No column name)": "2"
                                },
                                {
                                    "szallas_nev": "Kentaur Hotel",
                                    "SZOBA_SZAMA": "31",
                                    "(No column name)": "2"
                                },
                                {
                                    "szallas_nev": "Kentaur Hotel",
                                    "SZOBA_SZAMA": "5",
                                    "(No column name)": "2"
                                },
                                {
                                    "szallas_nev": "Kentaur Hotel",
                                    "SZOBA_SZAMA": "34",
                                    "(No column name)": "3"
                                },
                                {
                                    "szallas_nev": "Kentaur Hotel",
                                    "SZOBA_SZAMA": "11",
                                    "(No column name)": "2"
                                },
                                {
                                    "szallas_nev": "Kentaur Hotel",
                                    "SZOBA_SZAMA": "27",
                                    "(No column name)": "2"
                                },
                                {
                                    "szallas_nev": "Kentaur Hotel",
                                    "SZOBA_SZAMA": "22",
                                    "(No column name)": "2"
                                },
                                {
                                    "szallas_nev": "Kentaur Hotel",
                                    "SZOBA_SZAMA": "29",
                                    "(No column name)": "2"
                                },
                                {
                                    "szallas_nev": "Kentaur Hotel",
                                    "SZOBA_SZAMA": "28",
                                    "(No column name)": "2"
                                },
                                {
                                    "szallas_nev": "Kentaur Hotel",
                                    "SZOBA_SZAMA": "12",
                                    "(No column name)": "2"
                                },
                                {
                                    "szallas_nev": "Kentaur Hotel",
                                    "SZOBA_SZAMA": "13",
                                    "(No column name)": "2"
                                },
                                {
                                    "szallas_nev": "Kentaur Hotel",
                                    "SZOBA_SZAMA": "21",
                                    "(No column name)": "2"
                                },
                                {
                                    "szallas_nev": "Kentaur Hotel",
                                    "SZOBA_SZAMA": "22",
                                    "(No column name)": "2"
                                },
                                {
                                    "szallas_nev": "Kentaur Hotel",
                                    "SZOBA_SZAMA": "24",
                                    "(No column name)": "2"
                                },
                                {
                                    "szallas_nev": "Kentaur Hotel",
                                    "SZOBA_SZAMA": "9",
                                    "(No column name)": "2"
                                },
                                {
                                    "szallas_nev": "Kentaur Hotel",
                                    "SZOBA_SZAMA": "6",
                                    "(No column name)": "2"
                                },
                                {
                                    "szallas_nev": "Kentaur Hotel",
                                    "SZOBA_SZAMA": "17",
                                    "(No column name)": "3"
                                },
                                {
                                    "szallas_nev": "Kentaur Hotel",
                                    "SZOBA_SZAMA": "12",
                                    "(No column name)": "3"
                                },
                                {
                                    "szallas_nev": "Kentaur Hotel",
                                    "SZOBA_SZAMA": "14",
                                    "(No column name)": "2"
                                },
                                {
                                    "szallas_nev": "Kentaur Hotel",
                                    "SZOBA_SZAMA": "9",
                                    "(No column name)": "2"
                                },
                                {
                                    "szallas_nev": "Kentaur Hotel",
                                    "SZOBA_SZAMA": "1",
                                    "(No column name)": "2"
                                },
                                {
                                    "szallas_nev": "Kentaur Hotel",
                                    "SZOBA_SZAMA": "25",
                                    "(No column name)": "2"
                                },
                                {
                                    "szallas_nev": "Kentaur Hotel",
                                    "SZOBA_SZAMA": "34",
                                    "(No column name)": "2"
                                },
                                {
                                    "szallas_nev": "Kentaur Hotel",
                                    "SZOBA_SZAMA": "2",
                                    "(No column name)": "2"
                                },
                                {
                                    "szallas_nev": "Kentaur Hotel",
                                    "SZOBA_SZAMA": "21",
                                    "(No column name)": "2"
                                },
                                {
                                    "szallas_nev": "Kentaur Hotel",
                                    "SZOBA_SZAMA": "35",
                                    "(No column name)": "2"
                                },
                                {
                                    "szallas_nev": "Kentaur Hotel",
                                    "SZOBA_SZAMA": "3",
                                    "(No column name)": "2"
                                },
                                {
                                    "szallas_nev": "Kentaur Hotel",
                                    "SZOBA_SZAMA": "25",
                                    "(No column name)": "2"
                                },
                                {
                                    "szallas_nev": "Kentaur Hotel",
                                    "SZOBA_SZAMA": "7",
                                    "(No column name)": "2"
                                },
                                {
                                    "szallas_nev": "Kentaur Hotel",
                                    "SZOBA_SZAMA": "14",
                                    "(No column name)": "2"
                                },
                                {
                                    "szallas_nev": "Kentaur Hotel",
                                    "SZOBA_SZAMA": "25",
                                    "(No column name)": "2"
                                },
                                {
                                    "szallas_nev": "Kentaur Hotel",
                                    "SZOBA_SZAMA": "30",
                                    "(No column name)": "2"
                                },
                                {
                                    "szallas_nev": "Kentaur Hotel",
                                    "SZOBA_SZAMA": "20",
                                    "(No column name)": "2"
                                },
                                {
                                    "szallas_nev": "Kentaur Hotel",
                                    "SZOBA_SZAMA": "1",
                                    "(No column name)": "2"
                                },
                                {
                                    "szallas_nev": "Kentaur Hotel",
                                    "SZOBA_SZAMA": "31",
                                    "(No column name)": "2"
                                },
                                {
                                    "szallas_nev": "Kentaur Hotel",
                                    "SZOBA_SZAMA": "10",
                                    "(No column name)": "2"
                                },
                                {
                                    "szallas_nev": "Kentaur Hotel",
                                    "SZOBA_SZAMA": "13",
                                    "(No column name)": "2"
                                },
                                {
                                    "szallas_nev": "Kentaur Hotel",
                                    "SZOBA_SZAMA": "10",
                                    "(No column name)": "2"
                                },
                                {
                                    "szallas_nev": "Kentaur Hotel",
                                    "SZOBA_SZAMA": "6",
                                    "(No column name)": "2"
                                },
                                {
                                    "szallas_nev": "Kentaur Hotel",
                                    "SZOBA_SZAMA": "5",
                                    "(No column name)": "2"
                                },
                                {
                                    "szallas_nev": "Kentaur Hotel",
                                    "SZOBA_SZAMA": "21",
                                    "(No column name)": "2"
                                },
                                {
                                    "szallas_nev": "Kentaur Hotel",
                                    "SZOBA_SZAMA": "25",
                                    "(No column name)": "2"
                                },
                                {
                                    "szallas_nev": "Kentaur Hotel",
                                    "SZOBA_SZAMA": "28",
                                    "(No column name)": "2"
                                },
                                {
                                    "szallas_nev": "Kentaur Hotel",
                                    "SZOBA_SZAMA": "9",
                                    "(No column name)": "2"
                                },
                                {
                                    "szallas_nev": "Kentaur Hotel",
                                    "SZOBA_SZAMA": "34",
                                    "(No column name)": "2"
                                },
                                {
                                    "szallas_nev": "Kentaur Hotel",
                                    "SZOBA_SZAMA": "15",
                                    "(No column name)": "2"
                                },
                                {
                                    "szallas_nev": "Kentaur Hotel",
                                    "SZOBA_SZAMA": "21",
                                    "(No column name)": "2"
                                },
                                {
                                    "szallas_nev": "Kentaur Hotel",
                                    "SZOBA_SZAMA": "12",
                                    "(No column name)": "2"
                                },
                                {
                                    "szallas_nev": "Kentaur Hotel",
                                    "SZOBA_SZAMA": "24",
                                    "(No column name)": "2"
                                },
                                {
                                    "szallas_nev": "Kentaur Hotel",
                                    "SZOBA_SZAMA": "6",
                                    "(No column name)": "2"
                                },
                                {
                                    "szallas_nev": "Kentaur Hotel",
                                    "SZOBA_SZAMA": "2",
                                    "(No column name)": "2"
                                },
                                {
                                    "szallas_nev": "Kentaur Hotel",
                                    "SZOBA_SZAMA": "10",
                                    "(No column name)": "2"
                                },
                                {
                                    "szallas_nev": "Kentaur Hotel",
                                    "SZOBA_SZAMA": "25",
                                    "(No column name)": "2"
                                },
                                {
                                    "szallas_nev": "Kentaur Hotel",
                                    "SZOBA_SZAMA": "9",
                                    "(No column name)": "1"
                                },
                                {
                                    "szallas_nev": "Kentaur Hotel",
                                    "SZOBA_SZAMA": "10",
                                    "(No column name)": "2"
                                },
                                {
                                    "szallas_nev": "Kentaur Hotel",
                                    "SZOBA_SZAMA": "3",
                                    "(No column name)": "2"
                                },
                                {
                                    "szallas_nev": "Kentaur Hotel",
                                    "SZOBA_SZAMA": "9",
                                    "(No column name)": "2"
                                },
                                {
                                    "szallas_nev": "Kentaur Hotel",
                                    "SZOBA_SZAMA": "12",
                                    "(No column name)": "2"
                                },
                                {
                                    "szallas_nev": "Kentaur Hotel",
                                    "SZOBA_SZAMA": "1",
                                    "(No column name)": "2"
                                },
                                {
                                    "szallas_nev": "Kentaur Hotel",
                                    "SZOBA_SZAMA": "20",
                                    "(No column name)": "2"
                                },
                                {
                                    "szallas_nev": "Kentaur Hotel",
                                    "SZOBA_SZAMA": "30",
                                    "(No column name)": "2"
                                },
                                {
                                    "szallas_nev": "Kentaur Hotel",
                                    "SZOBA_SZAMA": "6",
                                    "(No column name)": "2"
                                },
                                {
                                    "szallas_nev": "Kentaur Hotel",
                                    "SZOBA_SZAMA": "15",
                                    "(No column name)": "2"
                                },
                                {
                                    "szallas_nev": "Kentaur Hotel",
                                    "SZOBA_SZAMA": "17",
                                    "(No column name)": "2"
                                },
                                {
                                    "szallas_nev": "Kentaur Hotel",
                                    "SZOBA_SZAMA": "10",
                                    "(No column name)": "2"
                                },
                                {
                                    "szallas_nev": "Kentaur Hotel",
                                    "SZOBA_SZAMA": "20",
                                    "(No column name)": "3"
                                },
                                {
                                    "szallas_nev": "Kentaur Hotel",
                                    "SZOBA_SZAMA": "9",
                                    "(No column name)": "2"
                                },
                                {
                                    "szallas_nev": "Kentaur Hotel",
                                    "SZOBA_SZAMA": "3",
                                    "(No column name)": "2"
                                },
                                {
                                    "szallas_nev": "Kentaur Hotel",
                                    "SZOBA_SZAMA": "9",
                                    "(No column name)": "2"
                                },
                                {
                                    "szallas_nev": "Kentaur Hotel",
                                    "SZOBA_SZAMA": "17",
                                    "(No column name)": "2"
                                },
                                {
                                    "szallas_nev": "Kentaur Hotel",
                                    "SZOBA_SZAMA": "29",
                                    "(No column name)": "2"
                                },
                                {
                                    "szallas_nev": "Kentaur Hotel",
                                    "SZOBA_SZAMA": "1",
                                    "(No column name)": "2"
                                },
                                {
                                    "szallas_nev": "Kentaur Hotel",
                                    "SZOBA_SZAMA": "33",
                                    "(No column name)": "2"
                                },
                                {
                                    "szallas_nev": "Kentaur Hotel",
                                    "SZOBA_SZAMA": "31",
                                    "(No column name)": "2"
                                },
                                {
                                    "szallas_nev": "Kentaur Hotel",
                                    "SZOBA_SZAMA": "29",
                                    "(No column name)": "2"
                                },
                                {
                                    "szallas_nev": "Kentaur Hotel",
                                    "SZOBA_SZAMA": "9",
                                    "(No column name)": "2"
                                },
                                {
                                    "szallas_nev": "Kentaur Hotel",
                                    "SZOBA_SZAMA": "10",
                                    "(No column name)": "2"
                                },
                                {
                                    "szallas_nev": "Kentaur Hotel",
                                    "SZOBA_SZAMA": "9",
                                    "(No column name)": "2"
                                },
                                {
                                    "szallas_nev": "Kentaur Hotel",
                                    "SZOBA_SZAMA": "9",
                                    "(No column name)": "2"
                                },
                                {
                                    "szallas_nev": "Kentaur Hotel",
                                    "SZOBA_SZAMA": "23",
                                    "(No column name)": "2"
                                },
                                {
                                    "szallas_nev": "Kentaur Hotel",
                                    "SZOBA_SZAMA": "9",
                                    "(No column name)": "2"
                                },
                                {
                                    "szallas_nev": "Kentaur Hotel",
                                    "SZOBA_SZAMA": "19",
                                    "(No column name)": "2"
                                },
                                {
                                    "szallas_nev": "Kentaur Hotel",
                                    "SZOBA_SZAMA": "21",
                                    "(No column name)": "2"
                                },
                                {
                                    "szallas_nev": "Kentaur Hotel",
                                    "SZOBA_SZAMA": "6",
                                    "(No column name)": "3"
                                },
                                {
                                    "szallas_nev": "Kentaur Hotel",
                                    "SZOBA_SZAMA": "5",
                                    "(No column name)": "2"
                                },
                                {
                                    "szallas_nev": "Kentaur Hotel",
                                    "SZOBA_SZAMA": "24",
                                    "(No column name)": "2"
                                },
                                {
                                    "szallas_nev": "Kentaur Hotel",
                                    "SZOBA_SZAMA": "21",
                                    "(No column name)": "2"
                                },
                                {
                                    "szallas_nev": "Kentaur Hotel",
                                    "SZOBA_SZAMA": "33",
                                    "(No column name)": "2"
                                },
                                {
                                    "szallas_nev": "Kentaur Hotel",
                                    "SZOBA_SZAMA": "30",
                                    "(No column name)": "2"
                                },
                                {
                                    "szallas_nev": "Kentaur Hotel",
                                    "SZOBA_SZAMA": "8",
                                    "(No column name)": "2"
                                },
                                {
                                    "szallas_nev": "Kentaur Hotel",
                                    "SZOBA_SZAMA": "21",
                                    "(No column name)": "2"
                                },
                                {
                                    "szallas_nev": "Kentaur Hotel",
                                    "SZOBA_SZAMA": "32",
                                    "(No column name)": "2"
                                },
                                {
                                    "szallas_nev": "Kentaur Hotel",
                                    "SZOBA_SZAMA": "31",
                                    "(No column name)": "1"
                                },
                                {
                                    "szallas_nev": "Kentaur Hotel",
                                    "SZOBA_SZAMA": "35",
                                    "(No column name)": "1"
                                },
                                {
                                    "szallas_nev": "Kentaur Hotel",
                                    "SZOBA_SZAMA": "34",
                                    "(No column name)": "1"
                                },
                                {
                                    "szallas_nev": "Kentaur Hotel",
                                    "SZOBA_SZAMA": "18",
                                    "(No column name)": "1"
                                },
                                {
                                    "szallas_nev": "Kentaur Hotel",
                                    "SZOBA_SZAMA": "35",
                                    "(No column name)": "1"
                                },
                                {
                                    "szallas_nev": "Kentaur Hotel",
                                    "SZOBA_SZAMA": "6",
                                    "(No column name)": "1"
                                },
                                {
                                    "szallas_nev": "Kentaur Hotel",
                                    "SZOBA_SZAMA": "8",
                                    "(No column name)": "2"
                                },
                                {
                                    "szallas_nev": "Kentaur Hotel",
                                    "SZOBA_SZAMA": "23",
                                    "(No column name)": "1"
                                },
                                {
                                    "szallas_nev": "Kentaur Hotel",
                                    "SZOBA_SZAMA": "33",
                                    "(No column name)": "2"
                                },
                                {
                                    "szallas_nev": "Kentaur Hotel",
                                    "SZOBA_SZAMA": "26",
                                    "(No column name)": "2"
                                },
                                {
                                    "szallas_nev": "Kentaur Hotel",
                                    "SZOBA_SZAMA": "13",
                                    "(No column name)": "2"
                                },
                                {
                                    "szallas_nev": "Kentaur Hotel",
                                    "SZOBA_SZAMA": "3",
                                    "(No column name)": "2"
                                },
                                {
                                    "szallas_nev": "Kentaur Hotel",
                                    "SZOBA_SZAMA": "28",
                                    "(No column name)": "2"
                                },
                                {
                                    "szallas_nev": "Kentaur Hotel",
                                    "SZOBA_SZAMA": "15",
                                    "(No column name)": "2"
                                },
                                {
                                    "szallas_nev": "Kentaur Hotel",
                                    "SZOBA_SZAMA": "30",
                                    "(No column name)": "2"
                                },
                                {
                                    "szallas_nev": "Kentaur Hotel",
                                    "SZOBA_SZAMA": "32",
                                    "(No column name)": "2"
                                },
                                {
                                    "szallas_nev": "Kentaur Hotel",
                                    "SZOBA_SZAMA": "9",
                                    "(No column name)": "2"
                                },
                                {
                                    "szallas_nev": "Kentaur Hotel",
                                    "SZOBA_SZAMA": "21",
                                    "(No column name)": "2"
                                },
                                {
                                    "szallas_nev": "Kentaur Hotel",
                                    "SZOBA_SZAMA": "26",
                                    "(No column name)": "2"
                                },
                                {
                                    "szallas_nev": "Kentaur Hotel",
                                    "SZOBA_SZAMA": "32",
                                    "(No column name)": "2"
                                },
                                {
                                    "szallas_nev": "Kentaur Hotel",
                                    "SZOBA_SZAMA": "15",
                                    "(No column name)": "2"
                                },
                                {
                                    "szallas_nev": "Kentaur Hotel",
                                    "SZOBA_SZAMA": "8",
                                    "(No column name)": "2"
                                },
                                {
                                    "szallas_nev": "Kentaur Hotel",
                                    "SZOBA_SZAMA": "28",
                                    "(No column name)": "1"
                                },
                                {
                                    "szallas_nev": "Kentaur Hotel",
                                    "SZOBA_SZAMA": "2",
                                    "(No column name)": "1"
                                },
                                {
                                    "szallas_nev": "Kentaur Hotel",
                                    "SZOBA_SZAMA": "12",
                                    "(No column name)": "1"
                                },
                                {
                                    "szallas_nev": "Kentaur Hotel",
                                    "SZOBA_SZAMA": "32",
                                    "(No column name)": "1"
                                },
                                {
                                    "szallas_nev": "Kentaur Hotel",
                                    "SZOBA_SZAMA": "8",
                                    "(No column name)": "1"
                                },
                                {
                                    "szallas_nev": "Kentaur Hotel",
                                    "SZOBA_SZAMA": "6",
                                    "(No column name)": "2"
                                },
                                {
                                    "szallas_nev": "Kentaur Hotel",
                                    "SZOBA_SZAMA": "6",
                                    "(No column name)": "2"
                                },
                                {
                                    "szallas_nev": "Kentaur Hotel",
                                    "SZOBA_SZAMA": "3",
                                    "(No column name)": "2"
                                },
                                {
                                    "szallas_nev": "Kentaur Hotel",
                                    "SZOBA_SZAMA": "2",
                                    "(No column name)": "2"
                                },
                                {
                                    "szallas_nev": "Kentaur Hotel",
                                    "SZOBA_SZAMA": "27",
                                    "(No column name)": "2"
                                },
                                {
                                    "szallas_nev": "Kentaur Hotel",
                                    "SZOBA_SZAMA": "32",
                                    "(No column name)": "2"
                                },
                                {
                                    "szallas_nev": "Kentaur Hotel",
                                    "SZOBA_SZAMA": "10",
                                    "(No column name)": "2"
                                },
                                {
                                    "szallas_nev": "Kentaur Hotel",
                                    "SZOBA_SZAMA": "29",
                                    "(No column name)": "2"
                                },
                                {
                                    "szallas_nev": "Kentaur Hotel",
                                    "SZOBA_SZAMA": "18",
                                    "(No column name)": "3"
                                },
                                {
                                    "szallas_nev": "Kentaur Hotel",
                                    "SZOBA_SZAMA": "15",
                                    "(No column name)": "2"
                                },
                                {
                                    "szallas_nev": "Kentaur Hotel",
                                    "SZOBA_SZAMA": "18",
                                    "(No column name)": "2"
                                },
                                {
                                    "szallas_nev": "Lagúna Hotel",
                                    "SZOBA_SZAMA": "7",
                                    "(No column name)": "2"
                                },
                                {
                                    "szallas_nev": "Lagúna Hotel",
                                    "SZOBA_SZAMA": "21",
                                    "(No column name)": "3"
                                },
                                {
                                    "szallas_nev": "Lagúna Hotel",
                                    "SZOBA_SZAMA": "21",
                                    "(No column name)": "3"
                                },
                                {
                                    "szallas_nev": "Lagúna Hotel",
                                    "SZOBA_SZAMA": "5",
                                    "(No column name)": "2"
                                },
                                {
                                    "szallas_nev": "Lagúna Hotel",
                                    "SZOBA_SZAMA": "10",
                                    "(No column name)": "2"
                                },
                                {
                                    "szallas_nev": "Lagúna Hotel",
                                    "SZOBA_SZAMA": "3",
                                    "(No column name)": "2"
                                },
                                {
                                    "szallas_nev": "Lagúna Hotel",
                                    "SZOBA_SZAMA": "2",
                                    "(No column name)": "2"
                                },
                                {
                                    "szallas_nev": "Lagúna Hotel",
                                    "SZOBA_SZAMA": "22",
                                    "(No column name)": "2"
                                },
                                {
                                    "szallas_nev": "Lagúna Hotel",
                                    "SZOBA_SZAMA": "15",
                                    "(No column name)": "2"
                                },
                                {
                                    "szallas_nev": "Lagúna Hotel",
                                    "SZOBA_SZAMA": "19",
                                    "(No column name)": "2"
                                },
                                {
                                    "szallas_nev": "Lagúna Hotel",
                                    "SZOBA_SZAMA": "16",
                                    "(No column name)": "2"
                                },
                                {
                                    "szallas_nev": "Lagúna Hotel",
                                    "SZOBA_SZAMA": "23",
                                    "(No column name)": "2"
                                },
                                {
                                    "szallas_nev": "Lagúna Hotel",
                                    "SZOBA_SZAMA": "3",
                                    "(No column name)": "2"
                                },
                                {
                                    "szallas_nev": "Lagúna Hotel",
                                    "SZOBA_SZAMA": "15",
                                    "(No column name)": "1"
                                },
                                {
                                    "szallas_nev": "Lagúna Hotel",
                                    "SZOBA_SZAMA": "3",
                                    "(No column name)": "1"
                                },
                                {
                                    "szallas_nev": "Lagúna Hotel",
                                    "SZOBA_SZAMA": "2",
                                    "(No column name)": "1"
                                },
                                {
                                    "szallas_nev": "Lagúna Hotel",
                                    "SZOBA_SZAMA": "12",
                                    "(No column name)": "1"
                                },
                                {
                                    "szallas_nev": "Lagúna Hotel",
                                    "SZOBA_SZAMA": "17",
                                    "(No column name)": "1"
                                },
                                {
                                    "szallas_nev": "Lagúna Hotel",
                                    "SZOBA_SZAMA": "22",
                                    "(No column name)": "1"
                                },
                                {
                                    "szallas_nev": "Lagúna Hotel",
                                    "SZOBA_SZAMA": "7",
                                    "(No column name)": "1"
                                },
                                {
                                    "szallas_nev": "Lagúna Hotel",
                                    "SZOBA_SZAMA": "6",
                                    "(No column name)": "1"
                                },
                                {
                                    "szallas_nev": "Lagúna Hotel",
                                    "SZOBA_SZAMA": "22",
                                    "(No column name)": "2"
                                },
                                {
                                    "szallas_nev": "Lagúna Hotel",
                                    "SZOBA_SZAMA": "20",
                                    "(No column name)": "2"
                                },
                                {
                                    "szallas_nev": "Lagúna Hotel",
                                    "SZOBA_SZAMA": "19",
                                    "(No column name)": "2"
                                },
                                {
                                    "szallas_nev": "Lagúna Hotel",
                                    "SZOBA_SZAMA": "9",
                                    "(No column name)": "2"
                                },
                                {
                                    "szallas_nev": "Lagúna Hotel",
                                    "SZOBA_SZAMA": "3",
                                    "(No column name)": "2"
                                },
                                {
                                    "szallas_nev": "Lagúna Hotel",
                                    "SZOBA_SZAMA": "23",
                                    "(No column name)": "2"
                                },
                                {
                                    "szallas_nev": "Lagúna Hotel",
                                    "SZOBA_SZAMA": "12",
                                    "(No column name)": "2"
                                },
                                {
                                    "szallas_nev": "Lagúna Hotel",
                                    "SZOBA_SZAMA": "14",
                                    "(No column name)": "2"
                                },
                                {
                                    "szallas_nev": "Lagúna Hotel",
                                    "SZOBA_SZAMA": "22",
                                    "(No column name)": "1"
                                },
                                {
                                    "szallas_nev": "Lagúna Hotel",
                                    "SZOBA_SZAMA": "11",
                                    "(No column name)": "2"
                                },
                                {
                                    "szallas_nev": "Lagúna Hotel",
                                    "SZOBA_SZAMA": "1",
                                    "(No column name)": "2"
                                },
                                {
                                    "szallas_nev": "Lagúna Hotel",
                                    "SZOBA_SZAMA": "18",
                                    "(No column name)": "2"
                                },
                                {
                                    "szallas_nev": "Lagúna Hotel",
                                    "SZOBA_SZAMA": "6",
                                    "(No column name)": "2"
                                },
                                {
                                    "szallas_nev": "Lagúna Hotel",
                                    "SZOBA_SZAMA": "5",
                                    "(No column name)": "2"
                                },
                                {
                                    "szallas_nev": "Lagúna Hotel",
                                    "SZOBA_SZAMA": "5",
                                    "(No column name)": "2"
                                },
                                {
                                    "szallas_nev": "Lagúna Hotel",
                                    "SZOBA_SZAMA": "7",
                                    "(No column name)": "1"
                                },
                                {
                                    "szallas_nev": "Lagúna Hotel",
                                    "SZOBA_SZAMA": "14",
                                    "(No column name)": "1"
                                },
                                {
                                    "szallas_nev": "Lagúna Hotel",
                                    "SZOBA_SZAMA": "4",
                                    "(No column name)": "2"
                                },
                                {
                                    "szallas_nev": "Lagúna Hotel",
                                    "SZOBA_SZAMA": "13",
                                    "(No column name)": "2"
                                },
                                {
                                    "szallas_nev": "Lagúna Hotel",
                                    "SZOBA_SZAMA": "14",
                                    "(No column name)": "2"
                                },
                                {
                                    "szallas_nev": "Lagúna Hotel",
                                    "SZOBA_SZAMA": "7",
                                    "(No column name)": "2"
                                },
                                {
                                    "szallas_nev": "Lagúna Hotel",
                                    "SZOBA_SZAMA": "12",
                                    "(No column name)": "2"
                                },
                                {
                                    "szallas_nev": "Lagúna Hotel",
                                    "SZOBA_SZAMA": "4",
                                    "(No column name)": "2"
                                },
                                {
                                    "szallas_nev": "Lagúna Hotel",
                                    "SZOBA_SZAMA": "12",
                                    "(No column name)": "2"
                                },
                                {
                                    "szallas_nev": "Lagúna Hotel",
                                    "SZOBA_SZAMA": "14",
                                    "(No column name)": "2"
                                },
                                {
                                    "szallas_nev": "Lagúna Hotel",
                                    "SZOBA_SZAMA": "14",
                                    "(No column name)": "2"
                                },
                                {
                                    "szallas_nev": "Lagúna Hotel",
                                    "SZOBA_SZAMA": "24",
                                    "(No column name)": "2"
                                },
                                {
                                    "szallas_nev": "Lagúna Hotel",
                                    "SZOBA_SZAMA": "15",
                                    "(No column name)": "2"
                                },
                                {
                                    "szallas_nev": "Lagúna Hotel",
                                    "SZOBA_SZAMA": "15",
                                    "(No column name)": "2"
                                },
                                {
                                    "szallas_nev": "Lagúna Hotel",
                                    "SZOBA_SZAMA": "24",
                                    "(No column name)": "2"
                                },
                                {
                                    "szallas_nev": "Lagúna Hotel",
                                    "SZOBA_SZAMA": "15",
                                    "(No column name)": "2"
                                },
                                {
                                    "szallas_nev": "Lagúna Hotel",
                                    "SZOBA_SZAMA": "12",
                                    "(No column name)": "2"
                                },
                                {
                                    "szallas_nev": "Lagúna Hotel",
                                    "SZOBA_SZAMA": "1",
                                    "(No column name)": "2"
                                },
                                {
                                    "szallas_nev": "Lagúna Hotel",
                                    "SZOBA_SZAMA": "5",
                                    "(No column name)": "2"
                                },
                                {
                                    "szallas_nev": "Lagúna Hotel",
                                    "SZOBA_SZAMA": "2",
                                    "(No column name)": "2"
                                },
                                {
                                    "szallas_nev": "Lagúna Hotel",
                                    "SZOBA_SZAMA": "23",
                                    "(No column name)": "2"
                                },
                                {
                                    "szallas_nev": "Lagúna Hotel",
                                    "SZOBA_SZAMA": "17",
                                    "(No column name)": "2"
                                },
                                {
                                    "szallas_nev": "Lagúna Hotel",
                                    "SZOBA_SZAMA": "20",
                                    "(No column name)": "2"
                                },
                                {
                                    "szallas_nev": "Lagúna Hotel",
                                    "SZOBA_SZAMA": "5",
                                    "(No column name)": "2"
                                },
                                {
                                    "szallas_nev": "Lagúna Hotel",
                                    "SZOBA_SZAMA": "11",
                                    "(No column name)": "2"
                                },
                                {
                                    "szallas_nev": "Lagúna Hotel",
                                    "SZOBA_SZAMA": "10",
                                    "(No column name)": "2"
                                },
                                {
                                    "szallas_nev": "Lagúna Hotel",
                                    "SZOBA_SZAMA": "16",
                                    "(No column name)": "2"
                                },
                                {
                                    "szallas_nev": "Lagúna Hotel",
                                    "SZOBA_SZAMA": "6",
                                    "(No column name)": "2"
                                },
                                {
                                    "szallas_nev": "Lagúna Hotel",
                                    "SZOBA_SZAMA": "16",
                                    "(No column name)": "2"
                                },
                                {
                                    "szallas_nev": "Lagúna Hotel",
                                    "SZOBA_SZAMA": "21",
                                    "(No column name)": "2"
                                },
                                {
                                    "szallas_nev": "Lagúna Hotel",
                                    "SZOBA_SZAMA": "17",
                                    "(No column name)": "2"
                                },
                                {
                                    "szallas_nev": "Lagúna Hotel",
                                    "SZOBA_SZAMA": "24",
                                    "(No column name)": "2"
                                },
                                {
                                    "szallas_nev": "Lagúna Hotel",
                                    "SZOBA_SZAMA": "11",
                                    "(No column name)": "2"
                                },
                                {
                                    "szallas_nev": "Lagúna Hotel",
                                    "SZOBA_SZAMA": "11",
                                    "(No column name)": "2"
                                },
                                {
                                    "szallas_nev": "Lagúna Hotel",
                                    "SZOBA_SZAMA": "15",
                                    "(No column name)": "2"
                                },
                                {
                                    "szallas_nev": "Lagúna Hotel",
                                    "SZOBA_SZAMA": "9",
                                    "(No column name)": "2"
                                },
                                {
                                    "szallas_nev": "Lagúna Hotel",
                                    "SZOBA_SZAMA": "6",
                                    "(No column name)": "2"
                                },
                                {
                                    "szallas_nev": "Lagúna Hotel",
                                    "SZOBA_SZAMA": "18",
                                    "(No column name)": "2"
                                },
                                {
                                    "szallas_nev": "Lagúna Hotel",
                                    "SZOBA_SZAMA": "20",
                                    "(No column name)": "2"
                                },
                                {
                                    "szallas_nev": "Lagúna Hotel",
                                    "SZOBA_SZAMA": "16",
                                    "(No column name)": "1"
                                },
                                {
                                    "szallas_nev": "Lagúna Hotel",
                                    "SZOBA_SZAMA": "16",
                                    "(No column name)": "2"
                                },
                                {
                                    "szallas_nev": "Lagúna Hotel",
                                    "SZOBA_SZAMA": "3",
                                    "(No column name)": "2"
                                },
                                {
                                    "szallas_nev": "Lagúna Hotel",
                                    "SZOBA_SZAMA": "10",
                                    "(No column name)": "2"
                                },
                                {
                                    "szallas_nev": "Lagúna Hotel",
                                    "SZOBA_SZAMA": "9",
                                    "(No column name)": "2"
                                },
                                {
                                    "szallas_nev": "Lagúna Hotel",
                                    "SZOBA_SZAMA": "18",
                                    "(No column name)": "2"
                                },
                                {
                                    "szallas_nev": "Lagúna Hotel",
                                    "SZOBA_SZAMA": "9",
                                    "(No column name)": "3"
                                },
                                {
                                    "szallas_nev": "Lagúna Hotel",
                                    "SZOBA_SZAMA": "23",
                                    "(No column name)": "2"
                                },
                                {
                                    "szallas_nev": "Lagúna Hotel",
                                    "SZOBA_SZAMA": "4",
                                    "(No column name)": "2"
                                },
                                {
                                    "szallas_nev": "Lagúna Hotel",
                                    "SZOBA_SZAMA": "7",
                                    "(No column name)": "2"
                                },
                                {
                                    "szallas_nev": "Lagúna Hotel",
                                    "SZOBA_SZAMA": "20",
                                    "(No column name)": "2"
                                },
                                {
                                    "szallas_nev": "Lagúna Hotel",
                                    "SZOBA_SZAMA": "6",
                                    "(No column name)": "2"
                                },
                                {
                                    "szallas_nev": "Lagúna Hotel",
                                    "SZOBA_SZAMA": "3",
                                    "(No column name)": "2"
                                },
                                {
                                    "szallas_nev": "Lagúna Hotel",
                                    "SZOBA_SZAMA": "4",
                                    "(No column name)": "2"
                                },
                                {
                                    "szallas_nev": "Lagúna Hotel",
                                    "SZOBA_SZAMA": "1",
                                    "(No column name)": "2"
                                },
                                {
                                    "szallas_nev": "Lagúna Hotel",
                                    "SZOBA_SZAMA": "4",
                                    "(No column name)": "2"
                                },
                                {
                                    "szallas_nev": "Lagúna Hotel",
                                    "SZOBA_SZAMA": "10",
                                    "(No column name)": "2"
                                },
                                {
                                    "szallas_nev": "Lagúna Hotel",
                                    "SZOBA_SZAMA": "9",
                                    "(No column name)": "3"
                                },
                                {
                                    "szallas_nev": "Lagúna Hotel",
                                    "SZOBA_SZAMA": "21",
                                    "(No column name)": "3"
                                },
                                {
                                    "szallas_nev": "Lagúna Hotel",
                                    "SZOBA_SZAMA": "11",
                                    "(No column name)": "3"
                                },
                                {
                                    "szallas_nev": "Lagúna Hotel",
                                    "SZOBA_SZAMA": "6",
                                    "(No column name)": "3"
                                },
                                {
                                    "szallas_nev": "Lagúna Hotel",
                                    "SZOBA_SZAMA": "4",
                                    "(No column name)": "3"
                                },
                                {
                                    "szallas_nev": "Lagúna Hotel",
                                    "SZOBA_SZAMA": "6",
                                    "(No column name)": "2"
                                },
                                {
                                    "szallas_nev": "Lagúna Hotel",
                                    "SZOBA_SZAMA": "8",
                                    "(No column name)": "2"
                                },
                                {
                                    "szallas_nev": "Lagúna Hotel",
                                    "SZOBA_SZAMA": "4",
                                    "(No column name)": "2"
                                },
                                {
                                    "szallas_nev": "Lagúna Hotel",
                                    "SZOBA_SZAMA": "6",
                                    "(No column name)": "2"
                                },
                                {
                                    "szallas_nev": "Lagúna Hotel",
                                    "SZOBA_SZAMA": "9",
                                    "(No column name)": "3"
                                },
                                {
                                    "szallas_nev": "Lagúna Hotel",
                                    "SZOBA_SZAMA": "7",
                                    "(No column name)": "3"
                                },
                                {
                                    "szallas_nev": "Lagúna Hotel",
                                    "SZOBA_SZAMA": "16",
                                    "(No column name)": "2"
                                },
                                {
                                    "szallas_nev": "Lagúna Hotel",
                                    "SZOBA_SZAMA": "5",
                                    "(No column name)": "2"
                                },
                                {
                                    "szallas_nev": "Lagúna Hotel",
                                    "SZOBA_SZAMA": "9",
                                    "(No column name)": "2"
                                },
                                {
                                    "szallas_nev": "Lagúna Hotel",
                                    "SZOBA_SZAMA": "5",
                                    "(No column name)": "2"
                                },
                                {
                                    "szallas_nev": "Lagúna Hotel",
                                    "SZOBA_SZAMA": "19",
                                    "(No column name)": "2"
                                },
                                {
                                    "szallas_nev": "Lagúna Hotel",
                                    "SZOBA_SZAMA": "22",
                                    "(No column name)": "2"
                                },
                                {
                                    "szallas_nev": "Lagúna Hotel",
                                    "SZOBA_SZAMA": "19",
                                    "(No column name)": "2"
                                },
                                {
                                    "szallas_nev": "Lagúna Hotel",
                                    "SZOBA_SZAMA": "11",
                                    "(No column name)": "2"
                                },
                                {
                                    "szallas_nev": "Lagúna Hotel",
                                    "SZOBA_SZAMA": "12",
                                    "(No column name)": "2"
                                },
                                {
                                    "szallas_nev": "Lagúna Hotel",
                                    "SZOBA_SZAMA": "22",
                                    "(No column name)": "2"
                                },
                                {
                                    "szallas_nev": "Lagúna Hotel",
                                    "SZOBA_SZAMA": "19",
                                    "(No column name)": "2"
                                },
                                {
                                    "szallas_nev": "Lagúna Hotel",
                                    "SZOBA_SZAMA": "15",
                                    "(No column name)": "2"
                                },
                                {
                                    "szallas_nev": "Lagúna Hotel",
                                    "SZOBA_SZAMA": "21",
                                    "(No column name)": "2"
                                },
                                {
                                    "szallas_nev": "Lagúna Hotel",
                                    "SZOBA_SZAMA": "20",
                                    "(No column name)": "2"
                                },
                                {
                                    "szallas_nev": "Lagúna Hotel",
                                    "SZOBA_SZAMA": "8",
                                    "(No column name)": "2"
                                },
                                {
                                    "szallas_nev": "Lagúna Hotel",
                                    "SZOBA_SZAMA": "23",
                                    "(No column name)": "2"
                                },
                                {
                                    "szallas_nev": "Lagúna Hotel",
                                    "SZOBA_SZAMA": "18",
                                    "(No column name)": "1"
                                },
                                {
                                    "szallas_nev": "Lagúna Hotel",
                                    "SZOBA_SZAMA": "22",
                                    "(No column name)": "2"
                                },
                                {
                                    "szallas_nev": "Lagúna Hotel",
                                    "SZOBA_SZAMA": "10",
                                    "(No column name)": "2"
                                },
                                {
                                    "szallas_nev": "Lagúna Hotel",
                                    "SZOBA_SZAMA": "14",
                                    "(No column name)": "2"
                                },
                                {
                                    "szallas_nev": "Partiszél Vendégház",
                                    "SZOBA_SZAMA": "5",
                                    "(No column name)": "2"
                                },
                                {
                                    "szallas_nev": "Partiszél Vendégház",
                                    "SZOBA_SZAMA": "3",
                                    "(No column name)": "2"
                                },
                                {
                                    "szallas_nev": "Partiszél Vendégház",
                                    "SZOBA_SZAMA": "4",
                                    "(No column name)": "2"
                                },
                                {
                                    "szallas_nev": "Partiszél Vendégház",
                                    "SZOBA_SZAMA": "2",
                                    "(No column name)": "2"
                                },
                                {
                                    "szallas_nev": "Partiszél Vendégház",
                                    "SZOBA_SZAMA": "2",
                                    "(No column name)": "2"
                                },
                                {
                                    "szallas_nev": "Partiszél Vendégház",
                                    "SZOBA_SZAMA": "2",
                                    "(No column name)": "2"
                                },
                                {
                                    "szallas_nev": "Partiszél Vendégház",
                                    "SZOBA_SZAMA": "1",
                                    "(No column name)": "2"
                                },
                                {
                                    "szallas_nev": "Partiszél Vendégház",
                                    "SZOBA_SZAMA": "1",
                                    "(No column name)": "2"
                                },
                                {
                                    "szallas_nev": "Partiszél Vendégház",
                                    "SZOBA_SZAMA": "1",
                                    "(No column name)": "2"
                                },
                                {
                                    "szallas_nev": "Partiszél Vendégház",
                                    "SZOBA_SZAMA": "4",
                                    "(No column name)": "2"
                                },
                                {
                                    "szallas_nev": "Partiszél Vendégház",
                                    "SZOBA_SZAMA": "5",
                                    "(No column name)": "2"
                                },
                                {
                                    "szallas_nev": "Partiszél Vendégház",
                                    "SZOBA_SZAMA": "1",
                                    "(No column name)": "3"
                                },
                                {
                                    "szallas_nev": "Partiszél Vendégház",
                                    "SZOBA_SZAMA": "5",
                                    "(No column name)": "2"
                                },
                                {
                                    "szallas_nev": "Partiszél Vendégház",
                                    "SZOBA_SZAMA": "4",
                                    "(No column name)": "2"
                                },
                                {
                                    "szallas_nev": "Partiszél Vendégház",
                                    "SZOBA_SZAMA": "2",
                                    "(No column name)": "2"
                                },
                                {
                                    "szallas_nev": "Partiszél Vendégház",
                                    "SZOBA_SZAMA": "4",
                                    "(No column name)": "2"
                                },
                                {
                                    "szallas_nev": "Partiszél Vendégház",
                                    "SZOBA_SZAMA": "4",
                                    "(No column name)": "2"
                                },
                                {
                                    "szallas_nev": "Partiszél Vendégház",
                                    "SZOBA_SZAMA": "2",
                                    "(No column name)": "2"
                                },
                                {
                                    "szallas_nev": "Partiszél Vendégház",
                                    "SZOBA_SZAMA": "3",
                                    "(No column name)": "2"
                                },
                                {
                                    "szallas_nev": "Partiszél Vendégház",
                                    "SZOBA_SZAMA": "4",
                                    "(No column name)": "2"
                                },
                                {
                                    "szallas_nev": "Partiszél Vendégház",
                                    "SZOBA_SZAMA": "5",
                                    "(No column name)": "2"
                                },
                                {
                                    "szallas_nev": "Partiszél Vendégház",
                                    "SZOBA_SZAMA": "5",
                                    "(No column name)": "2"
                                },
                                {
                                    "szallas_nev": "Partiszél Vendégház",
                                    "SZOBA_SZAMA": "3",
                                    "(No column name)": "2"
                                },
                                {
                                    "szallas_nev": "Partiszél Vendégház",
                                    "SZOBA_SZAMA": "4",
                                    "(No column name)": "2"
                                },
                                {
                                    "szallas_nev": "Partiszél Vendégház",
                                    "SZOBA_SZAMA": "1",
                                    "(No column name)": "2"
                                },
                                {
                                    "szallas_nev": "Partiszél Vendégház",
                                    "SZOBA_SZAMA": "2",
                                    "(No column name)": "2"
                                },
                                {
                                    "szallas_nev": "Sába-Ház",
                                    "SZOBA_SZAMA": "6",
                                    "(No column name)": "2"
                                },
                                {
                                    "szallas_nev": "Sába-Ház",
                                    "SZOBA_SZAMA": "7",
                                    "(No column name)": "1"
                                },
                                {
                                    "szallas_nev": "Sába-Ház",
                                    "SZOBA_SZAMA": "5",
                                    "(No column name)": "1"
                                },
                                {
                                    "szallas_nev": "Sába-Ház",
                                    "SZOBA_SZAMA": "10",
                                    "(No column name)": "1"
                                },
                                {
                                    "szallas_nev": "Sába-Ház",
                                    "SZOBA_SZAMA": "9",
                                    "(No column name)": "1"
                                },
                                {
                                    "szallas_nev": "Sába-Ház",
                                    "SZOBA_SZAMA": "1",
                                    "(No column name)": "1"
                                },
                                {
                                    "szallas_nev": "Sába-Ház",
                                    "SZOBA_SZAMA": "3",
                                    "(No column name)": "1"
                                },
                                {
                                    "szallas_nev": "Sába-Ház",
                                    "SZOBA_SZAMA": "4",
                                    "(No column name)": "1"
                                },
                                {
                                    "szallas_nev": "Sába-Ház",
                                    "SZOBA_SZAMA": "6",
                                    "(No column name)": "1"
                                },
                                {
                                    "szallas_nev": "Sába-Ház",
                                    "SZOBA_SZAMA": "12",
                                    "(No column name)": "2"
                                },
                                {
                                    "szallas_nev": "Sába-Ház",
                                    "SZOBA_SZAMA": "8",
                                    "(No column name)": "2"
                                },
                                {
                                    "szallas_nev": "Sába-Ház",
                                    "SZOBA_SZAMA": "11",
                                    "(No column name)": "2"
                                },
                                {
                                    "szallas_nev": "Sába-Ház",
                                    "SZOBA_SZAMA": "1",
                                    "(No column name)": "2"
                                },
                                {
                                    "szallas_nev": "Sába-Ház",
                                    "SZOBA_SZAMA": "4",
                                    "(No column name)": "2"
                                },
                                {
                                    "szallas_nev": "Sába-Ház",
                                    "SZOBA_SZAMA": "8",
                                    "(No column name)": "2"
                                },
                                {
                                    "szallas_nev": "Sába-Ház",
                                    "SZOBA_SZAMA": "12",
                                    "(No column name)": "2"
                                },
                                {
                                    "szallas_nev": "Sába-Ház",
                                    "SZOBA_SZAMA": "5",
                                    "(No column name)": "2"
                                },
                                {
                                    "szallas_nev": "Sába-Ház",
                                    "SZOBA_SZAMA": "12",
                                    "(No column name)": "1"
                                },
                                {
                                    "szallas_nev": "Sába-Ház",
                                    "SZOBA_SZAMA": "6",
                                    "(No column name)": "1"
                                },
                                {
                                    "szallas_nev": "Sába-Ház",
                                    "SZOBA_SZAMA": "4",
                                    "(No column name)": "1"
                                },
                                {
                                    "szallas_nev": "Sába-Ház",
                                    "SZOBA_SZAMA": "12",
                                    "(No column name)": "1"
                                },
                                {
                                    "szallas_nev": "Sába-Ház",
                                    "SZOBA_SZAMA": "3",
                                    "(No column name)": "1"
                                },
                                {
                                    "szallas_nev": "Sába-Ház",
                                    "SZOBA_SZAMA": "8",
                                    "(No column name)": "2"
                                },
                                {
                                    "szallas_nev": "Sába-Ház",
                                    "SZOBA_SZAMA": "12",
                                    "(No column name)": "1"
                                },
                                {
                                    "szallas_nev": "Sába-Ház",
                                    "SZOBA_SZAMA": "1",
                                    "(No column name)": "2"
                                },
                                {
                                    "szallas_nev": "Sába-Ház",
                                    "SZOBA_SZAMA": "7",
                                    "(No column name)": "2"
                                },
                                {
                                    "szallas_nev": "Sába-Ház",
                                    "SZOBA_SZAMA": "6",
                                    "(No column name)": "2"
                                },
                                {
                                    "szallas_nev": "Sába-Ház",
                                    "SZOBA_SZAMA": "12",
                                    "(No column name)": "2"
                                },
                                {
                                    "szallas_nev": "Sába-Ház",
                                    "SZOBA_SZAMA": "10",
                                    "(No column name)": "2"
                                },
                                {
                                    "szallas_nev": "Sába-Ház",
                                    "SZOBA_SZAMA": "3",
                                    "(No column name)": "2"
                                },
                                {
                                    "szallas_nev": "Sába-Ház",
                                    "SZOBA_SZAMA": "10",
                                    "(No column name)": "2"
                                },
                                {
                                    "szallas_nev": "Sába-Ház",
                                    "SZOBA_SZAMA": "1",
                                    "(No column name)": "2"
                                },
                                {
                                    "szallas_nev": "Sába-Ház",
                                    "SZOBA_SZAMA": "8",
                                    "(No column name)": "2"
                                },
                                {
                                    "szallas_nev": "Sába-Ház",
                                    "SZOBA_SZAMA": "2",
                                    "(No column name)": "2"
                                },
                                {
                                    "szallas_nev": "Sába-Ház",
                                    "SZOBA_SZAMA": "8",
                                    "(No column name)": "2"
                                },
                                {
                                    "szallas_nev": "Sába-Ház",
                                    "SZOBA_SZAMA": "6",
                                    "(No column name)": "2"
                                },
                                {
                                    "szallas_nev": "Sába-Ház",
                                    "SZOBA_SZAMA": "3",
                                    "(No column name)": "2"
                                },
                                {
                                    "szallas_nev": "Sába-Ház",
                                    "SZOBA_SZAMA": "2",
                                    "(No column name)": "3"
                                },
                                {
                                    "szallas_nev": "Sába-Ház",
                                    "SZOBA_SZAMA": "2",
                                    "(No column name)": "3"
                                },
                                {
                                    "szallas_nev": "Sába-Ház",
                                    "SZOBA_SZAMA": "5",
                                    "(No column name)": "3"
                                },
                                {
                                    "szallas_nev": "Sába-Ház",
                                    "SZOBA_SZAMA": "3",
                                    "(No column name)": "3"
                                },
                                {
                                    "szallas_nev": "Sába-Ház",
                                    "SZOBA_SZAMA": "6",
                                    "(No column name)": "3"
                                },
                                {
                                    "szallas_nev": "Sába-Ház",
                                    "SZOBA_SZAMA": "11",
                                    "(No column name)": "3"
                                },
                                {
                                    "szallas_nev": "Sába-Ház",
                                    "SZOBA_SZAMA": "4",
                                    "(No column name)": "2"
                                },
                                {
                                    "szallas_nev": "Sába-Ház",
                                    "SZOBA_SZAMA": "7",
                                    "(No column name)": "2"
                                },
                                {
                                    "szallas_nev": "Sába-Ház",
                                    "SZOBA_SZAMA": "4",
                                    "(No column name)": "2"
                                },
                                {
                                    "szallas_nev": "Sába-Ház",
                                    "SZOBA_SZAMA": "1",
                                    "(No column name)": "2"
                                },
                                {
                                    "szallas_nev": "Sába-Ház",
                                    "SZOBA_SZAMA": "12",
                                    "(No column name)": "2"
                                },
                                {
                                    "szallas_nev": "Sába-Ház",
                                    "SZOBA_SZAMA": "3",
                                    "(No column name)": "2"
                                },
                                {
                                    "szallas_nev": "Sába-Ház",
                                    "SZOBA_SZAMA": "1",
                                    "(No column name)": "2"
                                },
                                {
                                    "szallas_nev": "Sába-Ház",
                                    "SZOBA_SZAMA": "9",
                                    "(No column name)": "2"
                                },
                                {
                                    "szallas_nev": "Sába-Ház",
                                    "SZOBA_SZAMA": "12",
                                    "(No column name)": "2"
                                },
                                {
                                    "szallas_nev": "Sába-Ház",
                                    "SZOBA_SZAMA": "7",
                                    "(No column name)": "2"
                                },
                                {
                                    "szallas_nev": "Sába-Ház",
                                    "SZOBA_SZAMA": "7",
                                    "(No column name)": "2"
                                },
                                {
                                    "szallas_nev": "Sába-Ház",
                                    "SZOBA_SZAMA": "9",
                                    "(No column name)": "2"
                                },
                                {
                                    "szallas_nev": "Sába-Ház",
                                    "SZOBA_SZAMA": "11",
                                    "(No column name)": "2"
                                },
                                {
                                    "szallas_nev": "Sába-Ház",
                                    "SZOBA_SZAMA": "7",
                                    "(No column name)": "2"
                                },
                                {
                                    "szallas_nev": "Sába-Ház",
                                    "SZOBA_SZAMA": "9",
                                    "(No column name)": "2"
                                },
                                {
                                    "szallas_nev": "Sába-Ház",
                                    "SZOBA_SZAMA": "5",
                                    "(No column name)": "2"
                                },
                                {
                                    "szallas_nev": "Sába-Ház",
                                    "SZOBA_SZAMA": "1",
                                    "(No column name)": "2"
                                },
                                {
                                    "szallas_nev": "Sába-Ház",
                                    "SZOBA_SZAMA": "2",
                                    "(No column name)": "2"
                                },
                                {
                                    "szallas_nev": "Sába-Ház",
                                    "SZOBA_SZAMA": "10",
                                    "(No column name)": "2"
                                },
                                {
                                    "szallas_nev": "Sába-Ház",
                                    "SZOBA_SZAMA": "1",
                                    "(No column name)": "3"
                                },
                                {
                                    "szallas_nev": "Sába-Ház",
                                    "SZOBA_SZAMA": "9",
                                    "(No column name)": "3"
                                },
                                {
                                    "szallas_nev": "Sába-Ház",
                                    "SZOBA_SZAMA": "12",
                                    "(No column name)": "2"
                                },
                                {
                                    "szallas_nev": "Sába-Ház",
                                    "SZOBA_SZAMA": "3",
                                    "(No column name)": "2"
                                },
                                {
                                    "szallas_nev": "Sába-Ház",
                                    "SZOBA_SZAMA": "4",
                                    "(No column name)": "2"
                                },
                                {
                                    "szallas_nev": "Sába-Ház",
                                    "SZOBA_SZAMA": "11",
                                    "(No column name)": "2"
                                },
                                {
                                    "szallas_nev": "Sába-Ház",
                                    "SZOBA_SZAMA": "9",
                                    "(No column name)": "2"
                                },
                                {
                                    "szallas_nev": "Sába-Ház",
                                    "SZOBA_SZAMA": "3",
                                    "(No column name)": "2"
                                },
                                {
                                    "szallas_nev": "Szieszta Apartmanház",
                                    "SZOBA_SZAMA": "3",
                                    "(No column name)": "3"
                                },
                                {
                                    "szallas_nev": "Szieszta Apartmanház",
                                    "SZOBA_SZAMA": "1",
                                    "(No column name)": "2"
                                },
                                {
                                    "szallas_nev": "Szieszta Apartmanház",
                                    "SZOBA_SZAMA": "2",
                                    "(No column name)": "2"
                                },
                                {
                                    "szallas_nev": "Szieszta Apartmanház",
                                    "SZOBA_SZAMA": "4",
                                    "(No column name)": "2"
                                },
                                {
                                    "szallas_nev": "Szieszta Apartmanház",
                                    "SZOBA_SZAMA": "6",
                                    "(No column name)": "2"
                                },
                                {
                                    "szallas_nev": "Szieszta Apartmanház",
                                    "SZOBA_SZAMA": "4",
                                    "(No column name)": "2"
                                },
                                {
                                    "szallas_nev": "Szieszta Apartmanház",
                                    "SZOBA_SZAMA": "5",
                                    "(No column name)": "2"
                                },
                                {
                                    "szallas_nev": "Szieszta Apartmanház",
                                    "SZOBA_SZAMA": "3",
                                    "(No column name)": "2"
                                },
                                {
                                    "szallas_nev": "Szieszta Apartmanház",
                                    "SZOBA_SZAMA": "5",
                                    "(No column name)": "2"
                                },
                                {
                                    "szallas_nev": "Szieszta Apartmanház",
                                    "SZOBA_SZAMA": "2",
                                    "(No column name)": "2"
                                },
                                {
                                    "szallas_nev": "Szieszta Apartmanház",
                                    "SZOBA_SZAMA": "1",
                                    "(No column name)": "2"
                                },
                                {
                                    "szallas_nev": "Szieszta Apartmanház",
                                    "SZOBA_SZAMA": "2",
                                    "(No column name)": "2"
                                },
                                {
                                    "szallas_nev": "Szieszta Apartmanház",
                                    "SZOBA_SZAMA": "5",
                                    "(No column name)": "2"
                                },
                                {
                                    "szallas_nev": "Szieszta Apartmanház",
                                    "SZOBA_SZAMA": "3",
                                    "(No column name)": "1"
                                },
                                {
                                    "szallas_nev": "Szieszta Apartmanház",
                                    "SZOBA_SZAMA": "2",
                                    "(No column name)": "1"
                                },
                                {
                                    "szallas_nev": "Szieszta Apartmanház",
                                    "SZOBA_SZAMA": "6",
                                    "(No column name)": "2"
                                },
                                {
                                    "szallas_nev": "Szieszta Apartmanház",
                                    "SZOBA_SZAMA": "5",
                                    "(No column name)": "2"
                                },
                                {
                                    "szallas_nev": "Szieszta Apartmanház",
                                    "SZOBA_SZAMA": "4",
                                    "(No column name)": "2"
                                },
                                {
                                    "szallas_nev": "Szieszta Apartmanház",
                                    "SZOBA_SZAMA": "5",
                                    "(No column name)": "2"
                                },
                                {
                                    "szallas_nev": "Szieszta Apartmanház",
                                    "SZOBA_SZAMA": "5",
                                    "(No column name)": "2"
                                },
                                {
                                    "szallas_nev": "Szieszta Apartmanház",
                                    "SZOBA_SZAMA": "4",
                                    "(No column name)": "2"
                                },
                                {
                                    "szallas_nev": "Szieszta Apartmanház",
                                    "SZOBA_SZAMA": "6",
                                    "(No column name)": "2"
                                },
                                {
                                    "szallas_nev": "Szieszta Apartmanház",
                                    "SZOBA_SZAMA": "4",
                                    "(No column name)": "2"
                                },
                                {
                                    "szallas_nev": "Szieszta Apartmanház",
                                    "SZOBA_SZAMA": "1",
                                    "(No column name)": "2"
                                },
                                {
                                    "szallas_nev": "Szieszta Apartmanház",
                                    "SZOBA_SZAMA": "3",
                                    "(No column name)": "2"
                                },
                                {
                                    "szallas_nev": "Szieszta Apartmanház",
                                    "SZOBA_SZAMA": "4",
                                    "(No column name)": "2"
                                },
                                {
                                    "szallas_nev": "Szieszta Apartmanház",
                                    "SZOBA_SZAMA": "5",
                                    "(No column name)": "2"
                                },
                                {
                                    "szallas_nev": "Szieszta Apartmanház",
                                    "SZOBA_SZAMA": "6",
                                    "(No column name)": "2"
                                },
                                {
                                    "szallas_nev": "Szieszta Apartmanház",
                                    "SZOBA_SZAMA": "2",
                                    "(No column name)": "2"
                                },
                                {
                                    "szallas_nev": "Szieszta Apartmanház",
                                    "SZOBA_SZAMA": "3",
                                    "(No column name)": "2"
                                },
                                {
                                    "szallas_nev": "Szieszta Apartmanház",
                                    "SZOBA_SZAMA": "1",
                                    "(No column name)": "2"
                                },
                                {
                                    "szallas_nev": "Szieszta Apartmanház",
                                    "SZOBA_SZAMA": "5",
                                    "(No column name)": "2"
                                },
                                {
                                    "szallas_nev": "Szieszta Apartmanház",
                                    "SZOBA_SZAMA": "4",
                                    "(No column name)": "2"
                                },
                                {
                                    "szallas_nev": "Szieszta Apartmanház",
                                    "SZOBA_SZAMA": "4",
                                    "(No column name)": "2"
                                }
                            ]
                        },
                        "text/html": [
                            "<table>",
                            "<tr><th>szallas_nev</th><th>SZOBA_SZAMA</th><th>(No column name)</th></tr>",
                            "<tr><td>Családi Ház</td><td>2</td><td>4</td></tr>",
                            "<tr><td>Családi Ház</td><td>4</td><td>4</td></tr>",
                            "<tr><td>Családi Ház</td><td>4</td><td>3</td></tr>",
                            "<tr><td>Családi Ház</td><td>4</td><td>3</td></tr>",
                            "<tr><td>Családi Ház</td><td>3</td><td>3</td></tr>",
                            "<tr><td>Családi Ház</td><td>4</td><td>3</td></tr>",
                            "<tr><td>Családi Ház</td><td>1</td><td>3</td></tr>",
                            "<tr><td>Családi Ház</td><td>3</td><td>2</td></tr>",
                            "<tr><td>Családi Ház</td><td>2</td><td>2</td></tr>",
                            "<tr><td>Családi Ház</td><td>1</td><td>2</td></tr>",
                            "<tr><td>Családi Ház</td><td>3</td><td>2</td></tr>",
                            "<tr><td>Családi Ház</td><td>3</td><td>2</td></tr>",
                            "<tr><td>Családi Ház</td><td>1</td><td>2</td></tr>",
                            "<tr><td>Családi Ház</td><td>3</td><td>2</td></tr>",
                            "<tr><td>Családi Ház</td><td>3</td><td>2</td></tr>",
                            "<tr><td>Családi Ház</td><td>1</td><td>2</td></tr>",
                            "<tr><td>Családi Ház</td><td>4</td><td>2</td></tr>",
                            "<tr><td>Családi Ház</td><td>2</td><td>2</td></tr>",
                            "<tr><td>Fortuna Apartman</td><td>5</td><td>2</td></tr>",
                            "<tr><td>Fortuna Apartman</td><td>1</td><td>3</td></tr>",
                            "<tr><td>Fortuna Apartman</td><td>2</td><td>2</td></tr>",
                            "<tr><td>Fortuna Apartman</td><td>5</td><td>2</td></tr>",
                            "<tr><td>Fortuna Apartman</td><td>8</td><td>2</td></tr>",
                            "<tr><td>Fortuna Apartman</td><td>6</td><td>2</td></tr>",
                            "<tr><td>Fortuna Apartman</td><td>1</td><td>2</td></tr>",
                            "<tr><td>Fortuna Apartman</td><td>7</td><td>2</td></tr>",
                            "<tr><td>Fortuna Apartman</td><td>7</td><td>2</td></tr>",
                            "<tr><td>Fortuna Apartman</td><td>3</td><td>1</td></tr>",
                            "<tr><td>Fortuna Apartman</td><td>6</td><td>1</td></tr>",
                            "<tr><td>Fortuna Apartman</td><td>3</td><td>1</td></tr>",
                            "<tr><td>Fortuna Apartman</td><td>1</td><td>1</td></tr>",
                            "<tr><td>Fortuna Apartman</td><td>1</td><td>1</td></tr>",
                            "<tr><td>Fortuna Apartman</td><td>4</td><td>1</td></tr>",
                            "<tr><td>Fortuna Apartman</td><td>2</td><td>2</td></tr>",
                            "<tr><td>Fortuna Apartman</td><td>3</td><td>2</td></tr>",
                            "<tr><td>Fortuna Apartman</td><td>5</td><td>2</td></tr>",
                            "<tr><td>Fortuna Apartman</td><td>4</td><td>2</td></tr>",
                            "<tr><td>Fortuna Apartman</td><td>7</td><td>2</td></tr>",
                            "<tr><td>Fortuna Apartman</td><td>2</td><td>2</td></tr>",
                            "<tr><td>Fortuna Apartman</td><td>4</td><td>2</td></tr>",
                            "<tr><td>Fortuna Apartman</td><td>4</td><td>2</td></tr>",
                            "<tr><td>Fortuna Apartman</td><td>4</td><td>2</td></tr>",
                            "<tr><td>Fortuna Apartman</td><td>6</td><td>3</td></tr>",
                            "<tr><td>Fortuna Apartman</td><td>3</td><td>3</td></tr>",
                            "<tr><td>Fortuna Apartman</td><td>8</td><td>3</td></tr>",
                            "<tr><td>Fortuna Apartman</td><td>2</td><td>3</td></tr>",
                            "<tr><td>Fortuna Apartman</td><td>6</td><td>3</td></tr>",
                            "<tr><td>Fortuna Apartman</td><td>2</td><td>3</td></tr>",
                            "<tr><td>Fortuna Apartman</td><td>6</td><td>3</td></tr>",
                            "<tr><td>Fortuna Apartman</td><td>5</td><td>3</td></tr>",
                            "<tr><td>Fortuna Apartman</td><td>3</td><td>3</td></tr>",
                            "<tr><td>Fortuna Apartman</td><td>6</td><td>2</td></tr>",
                            "<tr><td>Fortuna Apartman</td><td>1</td><td>2</td></tr>",
                            "<tr><td>Fortuna Apartman</td><td>8</td><td>3</td></tr>",
                            "<tr><td>Fortuna Apartman</td><td>2</td><td>3</td></tr>",
                            "<tr><td>Fortuna Apartman</td><td>3</td><td>3</td></tr>",
                            "<tr><td>Fortuna Apartman</td><td>1</td><td>3</td></tr>",
                            "<tr><td>Fortuna Panzió</td><td>3</td><td>2</td></tr>",
                            "<tr><td>Fortuna Panzió</td><td>5</td><td>2</td></tr>",
                            "<tr><td>Fortuna Panzió</td><td>3</td><td>2</td></tr>",
                            "<tr><td>Fortuna panzió</td><td>7</td><td>2</td></tr>",
                            "<tr><td>Fortuna panzió</td><td>15</td><td>2</td></tr>",
                            "<tr><td>Fortuna Panzió</td><td>9</td><td>2</td></tr>",
                            "<tr><td>Fortuna panzió</td><td>6</td><td>2</td></tr>",
                            "<tr><td>Fortuna panzió</td><td>7</td><td>2</td></tr>",
                            "<tr><td>Fortuna panzió</td><td>5</td><td>2</td></tr>",
                            "<tr><td>Fortuna panzió</td><td>14</td><td>2</td></tr>",
                            "<tr><td>Fortuna panzió</td><td>9</td><td>3</td></tr>",
                            "<tr><td>Fortuna Panzió</td><td>9</td><td>3</td></tr>",
                            "<tr><td>Fortuna Panzió</td><td>5</td><td>3</td></tr>",
                            "<tr><td>Fortuna Panzió</td><td>3</td><td>3</td></tr>",
                            "<tr><td>Fortuna panzió</td><td>10</td><td>3</td></tr>",
                            "<tr><td>Fortuna panzió</td><td>4</td><td>2</td></tr>",
                            "<tr><td>Fortuna panzió</td><td>4</td><td>2</td></tr>",
                            "<tr><td>Fortuna Panzió</td><td>10</td><td>2</td></tr>",
                            "<tr><td>Fortuna panzió</td><td>5</td><td>2</td></tr>",
                            "<tr><td>Fortuna panzió</td><td>12</td><td>2</td></tr>",
                            "<tr><td>Fortuna panzió</td><td>15</td><td>2</td></tr>",
                            "<tr><td>Fortuna panzió</td><td>4</td><td>2</td></tr>",
                            "<tr><td>Fortuna panzió</td><td>10</td><td>2</td></tr>",
                            "<tr><td>Fortuna Panzió</td><td>9</td><td>2</td></tr>",
                            "<tr><td>Fortuna panzió</td><td>12</td><td>2</td></tr>",
                            "<tr><td>Fortuna panzió</td><td>8</td><td>2</td></tr>",
                            "<tr><td>Fortuna Panzió</td><td>1</td><td>2</td></tr>",
                            "<tr><td>Fortuna Panzió</td><td>1</td><td>2</td></tr>",
                            "<tr><td>Fortuna Panzió</td><td>8</td><td>2</td></tr>",
                            "<tr><td>Fortuna Panzió</td><td>2</td><td>2</td></tr>",
                            "<tr><td>Fortuna panzió</td><td>11</td><td>2</td></tr>",
                            "<tr><td>Fortuna panzió</td><td>11</td><td>2</td></tr>",
                            "<tr><td>Fortuna panzió</td><td>12</td><td>2</td></tr>",
                            "<tr><td>Fortuna Panzió</td><td>9</td><td>2</td></tr>",
                            "<tr><td>Fortuna panzió</td><td>12</td><td>3</td></tr>",
                            "<tr><td>Fortuna panzió</td><td>9</td><td>3</td></tr>",
                            "<tr><td>Fortuna Panzió</td><td>1</td><td>2</td></tr>",
                            "<tr><td>Fortuna Panzió</td><td>4</td><td>2</td></tr>",
                            "<tr><td>Fortuna panzió</td><td>6</td><td>2</td></tr>",
                            "<tr><td>Fortuna Panzió</td><td>4</td><td>2</td></tr>",
                            "<tr><td>Fortuna panzió</td><td>11</td><td>2</td></tr>",
                            "<tr><td>Fortuna panzió</td><td>13</td><td>2</td></tr>",
                            "<tr><td>Fortuna panzió</td><td>13</td><td>2</td></tr>",
                            "<tr><td>Fortuna panzió</td><td>11</td><td>2</td></tr>",
                            "<tr><td>Fortuna panzió</td><td>4</td><td>2</td></tr>",
                            "<tr><td>Fortuna panzió</td><td>7</td><td>2</td></tr>",
                            "<tr><td>Fortuna panzió</td><td>12</td><td>2</td></tr>",
                            "<tr><td>Fortuna panzió</td><td>12</td><td>3</td></tr>",
                            "<tr><td>Fortuna Panzió</td><td>7</td><td>3</td></tr>",
                            "<tr><td>Fortuna panzió</td><td>3</td><td>3</td></tr>",
                            "<tr><td>Fortuna Panzió</td><td>3</td><td>3</td></tr>",
                            "<tr><td>Fortuna panzió</td><td>10</td><td>3</td></tr>",
                            "<tr><td>Fortuna Panzió</td><td>10</td><td>3</td></tr>",
                            "<tr><td>Fortuna Panzió</td><td>6</td><td>2</td></tr>",
                            "<tr><td>Fortuna Panzió</td><td>6</td><td>2</td></tr>",
                            "<tr><td>Fortuna panzió</td><td>3</td><td>2</td></tr>",
                            "<tr><td>Fortuna panzió</td><td>10</td><td>2</td></tr>",
                            "<tr><td>Fortuna Panzió</td><td>5</td><td>2</td></tr>",
                            "<tr><td>Fortuna Panzió</td><td>9</td><td>2</td></tr>",
                            "<tr><td>Fortuna Panzió</td><td>10</td><td>2</td></tr>",
                            "<tr><td>Fortuna panzió</td><td>11</td><td>2</td></tr>",
                            "<tr><td>Fortuna Panzió</td><td>6</td><td>2</td></tr>",
                            "<tr><td>Fortuna panzió</td><td>3</td><td>2</td></tr>",
                            "<tr><td>Fortuna panzió</td><td>14</td><td>2</td></tr>",
                            "<tr><td>Fortuna panzió</td><td>1</td><td>2</td></tr>",
                            "<tr><td>Fortuna panzió</td><td>9</td><td>2</td></tr>",
                            "<tr><td>Fortuna Panzió</td><td>8</td><td>2</td></tr>",
                            "<tr><td>Fortuna panzió</td><td>14</td><td>2</td></tr>",
                            "<tr><td>Fortuna Panzió</td><td>10</td><td>2</td></tr>",
                            "<tr><td>Fortuna panzió</td><td>5</td><td>2</td></tr>",
                            "<tr><td>Fortuna panzió</td><td>14</td><td>2</td></tr>",
                            "<tr><td>Fortuna panzió</td><td>3</td><td>2</td></tr>",
                            "<tr><td>Fortuna Panzió</td><td>4</td><td>2</td></tr>",
                            "<tr><td>Fortuna Panzió</td><td>1</td><td>2</td></tr>",
                            "<tr><td>Fortuna Panzió</td><td>6</td><td>2</td></tr>",
                            "<tr><td>Fortuna panzió</td><td>6</td><td>2</td></tr>",
                            "<tr><td>Fortuna Panzió</td><td>2</td><td>2</td></tr>",
                            "<tr><td>Fortuna panzió</td><td>4</td><td>2</td></tr>",
                            "<tr><td>Fortuna panzió</td><td>2</td><td>2</td></tr>",
                            "<tr><td>Fortuna panzió</td><td>5</td><td>2</td></tr>",
                            "<tr><td>Fortuna Panzió</td><td>7</td><td>2</td></tr>",
                            "<tr><td>Fortuna Panzió</td><td>10</td><td>2</td></tr>",
                            "<tr><td>Fortuna Panzió</td><td>4</td><td>2</td></tr>",
                            "<tr><td>Fortuna panzió</td><td>15</td><td>2</td></tr>",
                            "<tr><td>Fortuna Panzió</td><td>10</td><td>2</td></tr>",
                            "<tr><td>Fortuna Panzió</td><td>4</td><td>2</td></tr>",
                            "<tr><td>Fortuna panzió</td><td>5</td><td>2</td></tr>",
                            "<tr><td>Fortuna Panzió</td><td>9</td><td>2</td></tr>",
                            "<tr><td>Fortuna Panzió</td><td>4</td><td>2</td></tr>",
                            "<tr><td>Fortuna panzió</td><td>3</td><td>2</td></tr>",
                            "<tr><td>Fortuna Panzió</td><td>7</td><td>2</td></tr>",
                            "<tr><td>Fortuna Panzió</td><td>5</td><td>2</td></tr>",
                            "<tr><td>Fortuna Panzió</td><td>6</td><td>2</td></tr>",
                            "<tr><td>Fortuna Panzió</td><td>3</td><td>2</td></tr>",
                            "<tr><td>Fortuna panzió</td><td>9</td><td>2</td></tr>",
                            "<tr><td>Fortuna panzió</td><td>13</td><td>2</td></tr>",
                            "<tr><td>Fortuna panzió</td><td>9</td><td>2</td></tr>",
                            "<tr><td>Fortuna panzió</td><td>14</td><td>2</td></tr>",
                            "<tr><td>Fortuna panzió</td><td>1</td><td>2</td></tr>",
                            "<tr><td>Fortuna panzió</td><td>3</td><td>2</td></tr>",
                            "<tr><td>Fortuna panzió</td><td>15</td><td>2</td></tr>",
                            "<tr><td>Fortuna panzió</td><td>9</td><td>2</td></tr>",
                            "<tr><td>Fortuna panzió</td><td>2</td><td>2</td></tr>",
                            "<tr><td>Fortuna panzió</td><td>11</td><td>2</td></tr>",
                            "<tr><td>Fortuna panzió</td><td>11</td><td>2</td></tr>",
                            "<tr><td>Fortuna panzió</td><td>14</td><td>2</td></tr>",
                            "<tr><td>Fortuna Panzió</td><td>5</td><td>2</td></tr>",
                            "<tr><td>Fortuna panzió</td><td>15</td><td>2</td></tr>",
                            "<tr><td>Fortuna panzió</td><td>11</td><td>2</td></tr>",
                            "<tr><td>Fortuna Panzió</td><td>3</td><td>2</td></tr>",
                            "<tr><td>Fortuna panzió</td><td>15</td><td>2</td></tr>",
                            "<tr><td>Fortuna panzió</td><td>4</td><td>2</td></tr>",
                            "<tr><td>Fortuna panzió</td><td>3</td><td>2</td></tr>",
                            "<tr><td>Fortuna panzió</td><td>14</td><td>2</td></tr>",
                            "<tr><td>Fortuna Panzió</td><td>7</td><td>2</td></tr>",
                            "<tr><td>Fortuna Panzió</td><td>4</td><td>2</td></tr>",
                            "<tr><td>Fortuna panzió</td><td>11</td><td>2</td></tr>",
                            "<tr><td>Fortuna Panzió</td><td>10</td><td>2</td></tr>",
                            "<tr><td>Fortuna panzió</td><td>15</td><td>2</td></tr>",
                            "<tr><td>Fortuna Panzió</td><td>9</td><td>2</td></tr>",
                            "<tr><td>Fortuna Panzió</td><td>9</td><td>2</td></tr>",
                            "<tr><td>Fortuna Panzió</td><td>5</td><td>2</td></tr>",
                            "<tr><td>Fortuna Panzió</td><td>4</td><td>2</td></tr>",
                            "<tr><td>Fortuna panzió</td><td>14</td><td>2</td></tr>",
                            "<tr><td>Fortuna panzió</td><td>5</td><td>2</td></tr>",
                            "<tr><td>Fortuna Panzió</td><td>9</td><td>2</td></tr>",
                            "<tr><td>Gold Hotel</td><td>6</td><td>1</td></tr>",
                            "<tr><td>Gold Hotel</td><td>18</td><td>1</td></tr>",
                            "<tr><td>Gold Hotel</td><td>5</td><td>1</td></tr>",
                            "<tr><td>Gold Hotel</td><td>7</td><td>1</td></tr>",
                            "<tr><td>Gold Hotel</td><td>21</td><td>2</td></tr>",
                            "<tr><td>Gold Hotel</td><td>12</td><td>2</td></tr>",
                            "<tr><td>Gold Hotel</td><td>26</td><td>2</td></tr>",
                            "<tr><td>Gold Hotel</td><td>20</td><td>2</td></tr>",
                            "<tr><td>Gold Hotel</td><td>22</td><td>2</td></tr>",
                            "<tr><td>Gold Hotel</td><td>23</td><td>2</td></tr>",
                            "<tr><td>Gold Hotel</td><td>29</td><td>2</td></tr>",
                            "<tr><td>Gold Hotel</td><td>1</td><td>2</td></tr>",
                            "<tr><td>Gold Hotel</td><td>2</td><td>2</td></tr>",
                            "<tr><td>Gold Hotel</td><td>5</td><td>2</td></tr>",
                            "<tr><td>Gold Hotel</td><td>15</td><td>2</td></tr>",
                            "<tr><td>Gold Hotel</td><td>3</td><td>2</td></tr>",
                            "<tr><td>Gold Hotel</td><td>1</td><td>2</td></tr>",
                            "<tr><td>Gold Hotel</td><td>21</td><td>2</td></tr>",
                            "<tr><td>Gold Hotel</td><td>11</td><td>2</td></tr>",
                            "<tr><td>Gold Hotel</td><td>23</td><td>2</td></tr>",
                            "<tr><td>Gold Hotel</td><td>20</td><td>1</td></tr>",
                            "<tr><td>Gold Hotel</td><td>1</td><td>1</td></tr>",
                            "<tr><td>Gold Hotel</td><td>21</td><td>2</td></tr>",
                            "<tr><td>Gold Hotel</td><td>1</td><td>1</td></tr>",
                            "<tr><td>Gold Hotel</td><td>1</td><td>2</td></tr>",
                            "<tr><td>Gold Hotel</td><td>16</td><td>2</td></tr>",
                            "<tr><td>Gold Hotel</td><td>28</td><td>2</td></tr>",
                            "<tr><td>Gold Hotel</td><td>24</td><td>2</td></tr>",
                            "<tr><td>Gold Hotel</td><td>9</td><td>2</td></tr>",
                            "<tr><td>Gold Hotel</td><td>10</td><td>2</td></tr>",
                            "<tr><td>Gold Hotel</td><td>18</td><td>2</td></tr>",
                            "<tr><td>Gold Hotel</td><td>4</td><td>2</td></tr>",
                            "<tr><td>Gold Hotel</td><td>21</td><td>2</td></tr>",
                            "<tr><td>Gold Hotel</td><td>29</td><td>3</td></tr>",
                            "<tr><td>Gold Hotel</td><td>17</td><td>3</td></tr>",
                            "<tr><td>Gold Hotel</td><td>19</td><td>3</td></tr>",
                            "<tr><td>Gold Hotel</td><td>6</td><td>3</td></tr>",
                            "<tr><td>Gold Hotel</td><td>32</td><td>3</td></tr>",
                            "<tr><td>Gold Hotel</td><td>23</td><td>3</td></tr>",
                            "<tr><td>Gold Hotel</td><td>17</td><td>2</td></tr>",
                            "<tr><td>Gold Hotel</td><td>5</td><td>2</td></tr>",
                            "<tr><td>Gold Hotel</td><td>29</td><td>2</td></tr>",
                            "<tr><td>Gold Hotel</td><td>34</td><td>3</td></tr>",
                            "<tr><td>Gold Hotel</td><td>7</td><td>2</td></tr>",
                            "<tr><td>Gold Hotel</td><td>8</td><td>2</td></tr>",
                            "<tr><td>Gold Hotel</td><td>26</td><td>2</td></tr>",
                            "<tr><td>Gold Hotel</td><td>14</td><td>2</td></tr>",
                            "<tr><td>Gold Hotel</td><td>33</td><td>2</td></tr>",
                            "<tr><td>Gold Hotel</td><td>34</td><td>2</td></tr>",
                            "<tr><td>Gold Hotel</td><td>18</td><td>2</td></tr>",
                            "<tr><td>Gold Hotel</td><td>10</td><td>2</td></tr>",
                            "<tr><td>Gold Hotel</td><td>26</td><td>2</td></tr>",
                            "<tr><td>Gold Hotel</td><td>15</td><td>2</td></tr>",
                            "<tr><td>Gold Hotel</td><td>17</td><td>2</td></tr>",
                            "<tr><td>Gold Hotel</td><td>9</td><td>2</td></tr>",
                            "<tr><td>Gold Hotel</td><td>21</td><td>2</td></tr>",
                            "<tr><td>Gold Hotel</td><td>32</td><td>2</td></tr>",
                            "<tr><td>Gold Hotel</td><td>29</td><td>2</td></tr>",
                            "<tr><td>Gold Hotel</td><td>17</td><td>2</td></tr>",
                            "<tr><td>Gold Hotel</td><td>21</td><td>2</td></tr>",
                            "<tr><td>Gold Hotel</td><td>28</td><td>2</td></tr>",
                            "<tr><td>Gold Hotel</td><td>10</td><td>2</td></tr>",
                            "<tr><td>Gold Hotel</td><td>20</td><td>2</td></tr>",
                            "<tr><td>Gold Hotel</td><td>24</td><td>2</td></tr>",
                            "<tr><td>Gold Hotel</td><td>21</td><td>2</td></tr>",
                            "<tr><td>Gold Hotel</td><td>25</td><td>1</td></tr>",
                            "<tr><td>Gold Hotel</td><td>23</td><td>2</td></tr>",
                            "<tr><td>Gold Hotel</td><td>8</td><td>1</td></tr>",
                            "<tr><td>Gold Hotel</td><td>24</td><td>2</td></tr>",
                            "<tr><td>Gold Hotel</td><td>21</td><td>2</td></tr>",
                            "<tr><td>Gold Hotel</td><td>31</td><td>2</td></tr>",
                            "<tr><td>Gold Hotel</td><td>17</td><td>2</td></tr>",
                            "<tr><td>Gold Hotel</td><td>18</td><td>2</td></tr>",
                            "<tr><td>Gold Hotel</td><td>23</td><td>2</td></tr>",
                            "<tr><td>Gold Hotel</td><td>5</td><td>2</td></tr>",
                            "<tr><td>Gold Hotel</td><td>24</td><td>2</td></tr>",
                            "<tr><td>Gold Hotel</td><td>8</td><td>2</td></tr>",
                            "<tr><td>Gold Hotel</td><td>25</td><td>2</td></tr>",
                            "<tr><td>Gold Hotel</td><td>33</td><td>2</td></tr>",
                            "<tr><td>Gold Hotel</td><td>23</td><td>2</td></tr>",
                            "<tr><td>Gold Hotel</td><td>26</td><td>2</td></tr>",
                            "<tr><td>Gold Hotel</td><td>4</td><td>2</td></tr>",
                            "<tr><td>Gold Hotel</td><td>2</td><td>2</td></tr>",
                            "<tr><td>Gold Hotel</td><td>13</td><td>2</td></tr>",
                            "<tr><td>Gold Hotel</td><td>4</td><td>2</td></tr>",
                            "<tr><td>Gold Hotel</td><td>11</td><td>2</td></tr>",
                            "<tr><td>Gold Hotel</td><td>14</td><td>2</td></tr>",
                            "<tr><td>Gold Hotel</td><td>13</td><td>2</td></tr>",
                            "<tr><td>Gold Hotel</td><td>29</td><td>3</td></tr>",
                            "<tr><td>Gold Hotel</td><td>8</td><td>2</td></tr>",
                            "<tr><td>Gold Hotel</td><td>31</td><td>2</td></tr>",
                            "<tr><td>Gold Hotel</td><td>24</td><td>2</td></tr>",
                            "<tr><td>Gold Hotel</td><td>27</td><td>2</td></tr>",
                            "<tr><td>Gold Hotel</td><td>29</td><td>2</td></tr>",
                            "<tr><td>Gold Hotel</td><td>34</td><td>2</td></tr>",
                            "<tr><td>Gold Hotel</td><td>19</td><td>2</td></tr>",
                            "<tr><td>Gold Hotel</td><td>31</td><td>2</td></tr>",
                            "<tr><td>Gold Hotel</td><td>33</td><td>2</td></tr>",
                            "<tr><td>Gold Hotel</td><td>11</td><td>2</td></tr>",
                            "<tr><td>Gold Hotel</td><td>30</td><td>2</td></tr>",
                            "<tr><td>Gold Hotel</td><td>34</td><td>2</td></tr>",
                            "<tr><td>Gold Hotel</td><td>21</td><td>2</td></tr>",
                            "<tr><td>Gold Hotel</td><td>11</td><td>2</td></tr>",
                            "<tr><td>Gold Hotel</td><td>34</td><td>2</td></tr>",
                            "<tr><td>Gold Hotel</td><td>1</td><td>2</td></tr>",
                            "<tr><td>Gold Hotel</td><td>8</td><td>2</td></tr>",
                            "<tr><td>Gold Hotel</td><td>12</td><td>2</td></tr>",
                            "<tr><td>Gold Hotel</td><td>19</td><td>2</td></tr>",
                            "<tr><td>Gold Hotel</td><td>22</td><td>2</td></tr>",
                            "<tr><td>Gold Hotel</td><td>34</td><td>2</td></tr>",
                            "<tr><td>Gold Hotel</td><td>8</td><td>2</td></tr>",
                            "<tr><td>Gold Hotel</td><td>33</td><td>2</td></tr>",
                            "<tr><td>Gold Hotel</td><td>13</td><td>2</td></tr>",
                            "<tr><td>Gold Hotel</td><td>7</td><td>2</td></tr>",
                            "<tr><td>Gold Hotel</td><td>21</td><td>2</td></tr>",
                            "<tr><td>Gold Hotel</td><td>31</td><td>2</td></tr>",
                            "<tr><td>Gold Hotel</td><td>18</td><td>2</td></tr>",
                            "<tr><td>Gold Hotel</td><td>6</td><td>2</td></tr>",
                            "<tr><td>Gold Hotel</td><td>25</td><td>2</td></tr>",
                            "<tr><td>Gold Hotel</td><td>14</td><td>2</td></tr>",
                            "<tr><td>Gold Hotel</td><td>34</td><td>2</td></tr>",
                            "<tr><td>Gold Hotel</td><td>18</td><td>2</td></tr>",
                            "<tr><td>Gold Hotel</td><td>18</td><td>2</td></tr>",
                            "<tr><td>Gold Hotel</td><td>29</td><td>2</td></tr>",
                            "<tr><td>Gold Hotel</td><td>14</td><td>2</td></tr>",
                            "<tr><td>Gold Hotel</td><td>22</td><td>2</td></tr>",
                            "<tr><td>Gold Hotel</td><td>4</td><td>2</td></tr>",
                            "<tr><td>Gold Hotel</td><td>20</td><td>2</td></tr>",
                            "<tr><td>Gold Hotel</td><td>4</td><td>2</td></tr>",
                            "<tr><td>Gold Hotel</td><td>6</td><td>2</td></tr>",
                            "<tr><td>Gold Hotel</td><td>10</td><td>1</td></tr>",
                            "<tr><td>Gold Hotel</td><td>12</td><td>2</td></tr>",
                            "<tr><td>Gold Hotel</td><td>27</td><td>2</td></tr>",
                            "<tr><td>Gold Hotel</td><td>33</td><td>2</td></tr>",
                            "<tr><td>Gold Hotel</td><td>18</td><td>2</td></tr>",
                            "<tr><td>Gold Hotel</td><td>32</td><td>2</td></tr>",
                            "<tr><td>Gold Hotel</td><td>18</td><td>2</td></tr>",
                            "<tr><td>Gold Hotel</td><td>27</td><td>2</td></tr>",
                            "<tr><td>Gold Hotel</td><td>18</td><td>2</td></tr>",
                            "<tr><td>Gold Hotel</td><td>7</td><td>1</td></tr>",
                            "<tr><td>Gold Hotel</td><td>8</td><td>1</td></tr>",
                            "<tr><td>Gold Hotel</td><td>32</td><td>2</td></tr>",
                            "<tr><td>Gold Hotel</td><td>6</td><td>1</td></tr>",
                            "<tr><td>Gold Hotel</td><td>17</td><td>1</td></tr>",
                            "<tr><td>Gold Hotel</td><td>9</td><td>1</td></tr>",
                            "<tr><td>Gold Hotel</td><td>5</td><td>2</td></tr>",
                            "<tr><td>Gold Hotel</td><td>1</td><td>2</td></tr>",
                            "<tr><td>Gold Hotel</td><td>12</td><td>2</td></tr>",
                            "<tr><td>Gold Hotel</td><td>33</td><td>2</td></tr>",
                            "<tr><td>Gold Hotel</td><td>24</td><td>2</td></tr>",
                            "<tr><td>Gold Hotel</td><td>23</td><td>2</td></tr>",
                            "<tr><td>Gold Hotel</td><td>11</td><td>2</td></tr>",
                            "<tr><td>Gold Hotel</td><td>18</td><td>2</td></tr>",
                            "<tr><td>Gold Hotel</td><td>3</td><td>2</td></tr>",
                            "<tr><td>Gold Hotel</td><td>34</td><td>2</td></tr>",
                            "<tr><td>Gold Hotel</td><td>8</td><td>2</td></tr>",
                            "<tr><td>Gold Hotel</td><td>18</td><td>1</td></tr>",
                            "<tr><td>Gold Hotel</td><td>5</td><td>1</td></tr>",
                            "<tr><td>Gold Hotel</td><td>9</td><td>1</td></tr>",
                            "<tr><td>Gold Hotel</td><td>19</td><td>1</td></tr>",
                            "<tr><td>Gold Hotel</td><td>21</td><td>2</td></tr>",
                            "<tr><td>Gold Hotel</td><td>25</td><td>2</td></tr>",
                            "<tr><td>Gold Hotel</td><td>21</td><td>2</td></tr>",
                            "<tr><td>Gold Hotel</td><td>22</td><td>2</td></tr>",
                            "<tr><td>Gold Hotel</td><td>31</td><td>2</td></tr>",
                            "<tr><td>Gold Hotel</td><td>31</td><td>2</td></tr>",
                            "<tr><td>Gold Hotel</td><td>8</td><td>2</td></tr>",
                            "<tr><td>Gold Hotel</td><td>15</td><td>2</td></tr>",
                            "<tr><td>Gold Hotel</td><td>27</td><td>2</td></tr>",
                            "<tr><td>Gold Hotel</td><td>13</td><td>2</td></tr>",
                            "<tr><td>Gold Hotel</td><td>27</td><td>2</td></tr>",
                            "<tr><td>Gold Hotel</td><td>12</td><td>2</td></tr>",
                            "<tr><td>Gold Hotel</td><td>26</td><td>2</td></tr>",
                            "<tr><td>Gold Hotel</td><td>2</td><td>2</td></tr>",
                            "<tr><td>Gold Hotel</td><td>16</td><td>2</td></tr>",
                            "<tr><td>Gold Hotel</td><td>16</td><td>2</td></tr>",
                            "<tr><td>Gold Hotel</td><td>7</td><td>3</td></tr>",
                            "<tr><td>Gold Hotel</td><td>12</td><td>2</td></tr>",
                            "<tr><td>Gold Hotel</td><td>25</td><td>2</td></tr>",
                            "<tr><td>Hotel Három Hattyú</td><td>35</td><td>3</td></tr>",
                            "<tr><td>Hotel Három Hattyú</td><td>17</td><td>2</td></tr>",
                            "<tr><td>Hotel Három Hattyú</td><td>33</td><td>1</td></tr>",
                            "<tr><td>Hotel Három Hattyú</td><td>25</td><td>2</td></tr>",
                            "<tr><td>Hotel Három Hattyú</td><td>10</td><td>2</td></tr>",
                            "<tr><td>Hotel Három Hattyú</td><td>21</td><td>2</td></tr>",
                            "<tr><td>Hotel Három Hattyú</td><td>6</td><td>2</td></tr>",
                            "<tr><td>Hotel Három Hattyú</td><td>16</td><td>2</td></tr>",
                            "<tr><td>Hotel Három Hattyú</td><td>27</td><td>2</td></tr>",
                            "<tr><td>Hotel Három Hattyú</td><td>19</td><td>2</td></tr>",
                            "<tr><td>Hotel Három Hattyú</td><td>4</td><td>2</td></tr>",
                            "<tr><td>Hotel Három Hattyú</td><td>27</td><td>2</td></tr>",
                            "<tr><td>Hotel Három Hattyú</td><td>15</td><td>2</td></tr>",
                            "<tr><td>Hotel Három Hattyú</td><td>19</td><td>2</td></tr>",
                            "<tr><td>Hotel Három Hattyú</td><td>6</td><td>2</td></tr>",
                            "<tr><td>Hotel Három Hattyú</td><td>8</td><td>2</td></tr>",
                            "<tr><td>Hotel Három Hattyú</td><td>9</td><td>2</td></tr>",
                            "<tr><td>Hotel Három Hattyú</td><td>7</td><td>2</td></tr>",
                            "<tr><td>Hotel Három Hattyú</td><td>1</td><td>2</td></tr>",
                            "<tr><td>Hotel Három Hattyú</td><td>10</td><td>2</td></tr>",
                            "<tr><td>Hotel Három Hattyú</td><td>37</td><td>2</td></tr>",
                            "<tr><td>Hotel Három Hattyú</td><td>19</td><td>2</td></tr>",
                            "<tr><td>Hotel Három Hattyú</td><td>5</td><td>2</td></tr>",
                            "<tr><td>Hotel Három Hattyú</td><td>37</td><td>2</td></tr>",
                            "<tr><td>Hotel Három Hattyú</td><td>31</td><td>1</td></tr>",
                            "<tr><td>Hotel Három Hattyú</td><td>34</td><td>2</td></tr>",
                            "<tr><td>Hotel Három Hattyú</td><td>28</td><td>2</td></tr>",
                            "<tr><td>Hotel Három Hattyú</td><td>37</td><td>2</td></tr>",
                            "<tr><td>Hotel Három Hattyú</td><td>8</td><td>1</td></tr>",
                            "<tr><td>Hotel Három Hattyú</td><td>22</td><td>2</td></tr>",
                            "<tr><td>Hotel Három Hattyú</td><td>20</td><td>2</td></tr>",
                            "<tr><td>Hotel Három Hattyú</td><td>33</td><td>1</td></tr>",
                            "<tr><td>Hotel Három Hattyú</td><td>2</td><td>2</td></tr>",
                            "<tr><td>Hotel Három Hattyú</td><td>25</td><td>2</td></tr>",
                            "<tr><td>Hotel Három Hattyú</td><td>27</td><td>2</td></tr>",
                            "<tr><td>Hotel Három Hattyú</td><td>21</td><td>2</td></tr>",
                            "<tr><td>Hotel Három Hattyú</td><td>27</td><td>2</td></tr>",
                            "<tr><td>Hotel Három Hattyú</td><td>20</td><td>2</td></tr>",
                            "<tr><td>Hotel Három Hattyú</td><td>24</td><td>2</td></tr>",
                            "<tr><td>Hotel Három Hattyú</td><td>33</td><td>2</td></tr>",
                            "<tr><td>Hotel Három Hattyú</td><td>13</td><td>2</td></tr>",
                            "<tr><td>Hotel Három Hattyú</td><td>4</td><td>2</td></tr>",
                            "<tr><td>Hotel Három Hattyú</td><td>13</td><td>2</td></tr>",
                            "<tr><td>Hotel Három Hattyú</td><td>28</td><td>2</td></tr>",
                            "<tr><td>Hotel Három Hattyú</td><td>28</td><td>2</td></tr>",
                            "<tr><td>Hotel Három Hattyú</td><td>30</td><td>2</td></tr>",
                            "<tr><td>Hotel Három Hattyú</td><td>27</td><td>2</td></tr>",
                            "<tr><td>Hotel Három Hattyú</td><td>32</td><td>3</td></tr>",
                            "<tr><td>Hotel Három Hattyú</td><td>2</td><td>3</td></tr>",
                            "<tr><td>Hotel Három Hattyú</td><td>29</td><td>3</td></tr>",
                            "<tr><td>Hotel Három Hattyú</td><td>4</td><td>2</td></tr>",
                            "<tr><td>Hotel Három Hattyú</td><td>6</td><td>2</td></tr>",
                            "<tr><td>Hotel Három Hattyú</td><td>20</td><td>2</td></tr>",
                            "<tr><td>Hotel Három Hattyú</td><td>12</td><td>2</td></tr>",
                            "<tr><td>Hotel Három Hattyú</td><td>9</td><td>1</td></tr>",
                            "<tr><td>Hotel Három Hattyú</td><td>29</td><td>2</td></tr>",
                            "<tr><td>Hotel Három Hattyú</td><td>16</td><td>1</td></tr>",
                            "<tr><td>Hotel Három Hattyú</td><td>11</td><td>1</td></tr>",
                            "<tr><td>Hotel Három Hattyú</td><td>28</td><td>1</td></tr>",
                            "<tr><td>Hotel Három Hattyú</td><td>38</td><td>2</td></tr>",
                            "<tr><td>Hotel Három Hattyú</td><td>7</td><td>2</td></tr>",
                            "<tr><td>Hotel Három Hattyú</td><td>29</td><td>2</td></tr>",
                            "<tr><td>Hotel Három Hattyú</td><td>39</td><td>2</td></tr>",
                            "<tr><td>Hotel Három Hattyú</td><td>7</td><td>3</td></tr>",
                            "<tr><td>Hotel Három Hattyú</td><td>4</td><td>2</td></tr>",
                            "<tr><td>Hotel Három Hattyú</td><td>1</td><td>2</td></tr>",
                            "<tr><td>Hotel Három Hattyú</td><td>31</td><td>2</td></tr>",
                            "<tr><td>Hotel Három Hattyú</td><td>24</td><td>2</td></tr>",
                            "<tr><td>Hotel Három Hattyú</td><td>3</td><td>2</td></tr>",
                            "<tr><td>Hotel Három Hattyú</td><td>31</td><td>2</td></tr>",
                            "<tr><td>Hotel Három Hattyú</td><td>36</td><td>2</td></tr>",
                            "<tr><td>Hotel Három Hattyú</td><td>30</td><td>2</td></tr>",
                            "<tr><td>Hotel Három Hattyú</td><td>22</td><td>2</td></tr>",
                            "<tr><td>Hotel Három Hattyú</td><td>6</td><td>2</td></tr>",
                            "<tr><td>Hotel Három Hattyú</td><td>21</td><td>2</td></tr>",
                            "<tr><td>Hotel Három Hattyú</td><td>22</td><td>2</td></tr>",
                            "<tr><td>Hotel Három Hattyú</td><td>36</td><td>2</td></tr>",
                            "<tr><td>Hotel Három Hattyú</td><td>2</td><td>2</td></tr>",
                            "<tr><td>Hotel Három Hattyú</td><td>19</td><td>2</td></tr>",
                            "<tr><td>Hotel Három Hattyú</td><td>38</td><td>2</td></tr>",
                            "<tr><td>Hotel Három Hattyú</td><td>24</td><td>2</td></tr>",
                            "<tr><td>Hotel Három Hattyú</td><td>7</td><td>2</td></tr>",
                            "<tr><td>Hotel Három Hattyú</td><td>14</td><td>2</td></tr>",
                            "<tr><td>Hotel Három Hattyú</td><td>2</td><td>2</td></tr>",
                            "<tr><td>Hotel Három Hattyú</td><td>23</td><td>3</td></tr>",
                            "<tr><td>Hotel Három Hattyú</td><td>37</td><td>2</td></tr>",
                            "<tr><td>Hotel Három Hattyú</td><td>32</td><td>3</td></tr>",
                            "<tr><td>Hotel Három Hattyú</td><td>20</td><td>3</td></tr>",
                            "<tr><td>Hotel Három Hattyú</td><td>5</td><td>2</td></tr>",
                            "<tr><td>Hotel Három Hattyú</td><td>31</td><td>2</td></tr>",
                            "<tr><td>Hotel Három Hattyú</td><td>8</td><td>2</td></tr>",
                            "<tr><td>Hotel Három Hattyú</td><td>32</td><td>2</td></tr>",
                            "<tr><td>Hotel Három Hattyú</td><td>9</td><td>2</td></tr>",
                            "<tr><td>Hotel Három Hattyú</td><td>19</td><td>2</td></tr>",
                            "<tr><td>Hotel Három Hattyú</td><td>23</td><td>2</td></tr>",
                            "<tr><td>Hotel Három Hattyú</td><td>30</td><td>2</td></tr>",
                            "<tr><td>Hotel Három Hattyú</td><td>20</td><td>2</td></tr>",
                            "<tr><td>Hotel Három Hattyú</td><td>5</td><td>2</td></tr>",
                            "<tr><td>Hotel Három Hattyú</td><td>18</td><td>2</td></tr>",
                            "<tr><td>Hotel Három Hattyú</td><td>25</td><td>2</td></tr>",
                            "<tr><td>Hotel Három Hattyú</td><td>22</td><td>2</td></tr>",
                            "<tr><td>Hotel Három Hattyú</td><td>36</td><td>2</td></tr>",
                            "<tr><td>Hotel Három Hattyú</td><td>31</td><td>2</td></tr>",
                            "<tr><td>Hotel Három Hattyú</td><td>25</td><td>2</td></tr>",
                            "<tr><td>Hotel Három Hattyú</td><td>20</td><td>2</td></tr>",
                            "<tr><td>Hotel Három Hattyú</td><td>32</td><td>2</td></tr>",
                            "<tr><td>Hotel Három Hattyú</td><td>3</td><td>1</td></tr>",
                            "<tr><td>Hotel Három Hattyú</td><td>14</td><td>2</td></tr>",
                            "<tr><td>Hotel Három Hattyú</td><td>27</td><td>1</td></tr>",
                            "<tr><td>Hotel Három Hattyú</td><td>1</td><td>1</td></tr>",
                            "<tr><td>Hotel Három Hattyú</td><td>32</td><td>2</td></tr>",
                            "<tr><td>Hotel Három Hattyú</td><td>34</td><td>2</td></tr>",
                            "<tr><td>Hotel Három Hattyú</td><td>3</td><td>2</td></tr>",
                            "<tr><td>Hotel Három Hattyú</td><td>31</td><td>2</td></tr>",
                            "<tr><td>Hotel Három Hattyú</td><td>37</td><td>3</td></tr>",
                            "<tr><td>Hotel Három Hattyú</td><td>16</td><td>3</td></tr>",
                            "<tr><td>Hotel Három Hattyú</td><td>33</td><td>3</td></tr>",
                            "<tr><td>Hotel Három Hattyú</td><td>4</td><td>2</td></tr>",
                            "<tr><td>Hotel Három Hattyú</td><td>32</td><td>2</td></tr>",
                            "<tr><td>Hotel Három Hattyú</td><td>17</td><td>2</td></tr>",
                            "<tr><td>Hotel Három Hattyú</td><td>27</td><td>2</td></tr>",
                            "<tr><td>Hotel Három Hattyú</td><td>23</td><td>2</td></tr>",
                            "<tr><td>Hotel Három Hattyú</td><td>16</td><td>2</td></tr>",
                            "<tr><td>Hotel Három Hattyú</td><td>33</td><td>2</td></tr>",
                            "<tr><td>Hotel Három Hattyú</td><td>37</td><td>2</td></tr>",
                            "<tr><td>Hotel Három Hattyú</td><td>21</td><td>2</td></tr>",
                            "<tr><td>Hotel Három Hattyú</td><td>38</td><td>2</td></tr>",
                            "<tr><td>Hotel Három Hattyú</td><td>19</td><td>2</td></tr>",
                            "<tr><td>Hotel Három Hattyú</td><td>4</td><td>2</td></tr>",
                            "<tr><td>Hotel Három Hattyú</td><td>4</td><td>2</td></tr>",
                            "<tr><td>Hotel Három Hattyú</td><td>10</td><td>2</td></tr>",
                            "<tr><td>Hotel Három Hattyú</td><td>11</td><td>2</td></tr>",
                            "<tr><td>Hotel Három Hattyú</td><td>34</td><td>2</td></tr>",
                            "<tr><td>Hotel Három Hattyú</td><td>32</td><td>2</td></tr>",
                            "<tr><td>Hotel Három Hattyú</td><td>30</td><td>2</td></tr>",
                            "<tr><td>Hotel Három Hattyú</td><td>12</td><td>2</td></tr>",
                            "<tr><td>Hotel Három Hattyú</td><td>25</td><td>2</td></tr>",
                            "<tr><td>Hotel Három Hattyú</td><td>21</td><td>2</td></tr>",
                            "<tr><td>Hotel Három Hattyú</td><td>17</td><td>2</td></tr>",
                            "<tr><td>Hotel Három Hattyú</td><td>3</td><td>2</td></tr>",
                            "<tr><td>Hotel Három Hattyú</td><td>39</td><td>3</td></tr>",
                            "<tr><td>Hotel Három Hattyú</td><td>36</td><td>3</td></tr>",
                            "<tr><td>Hotel Három Hattyú</td><td>16</td><td>2</td></tr>",
                            "<tr><td>Hotel Három Hattyú</td><td>31</td><td>2</td></tr>",
                            "<tr><td>Hotel Három Hattyú</td><td>28</td><td>2</td></tr>",
                            "<tr><td>Hotel Három Hattyú</td><td>4</td><td>1</td></tr>",
                            "<tr><td>Hotel Három Hattyú</td><td>6</td><td>1</td></tr>",
                            "<tr><td>Hotel Három Hattyú</td><td>32</td><td>1</td></tr>",
                            "<tr><td>Hotel Három Hattyú</td><td>3</td><td>2</td></tr>",
                            "<tr><td>Hotel Három Hattyú</td><td>18</td><td>2</td></tr>",
                            "<tr><td>Hotel Három Hattyú</td><td>31</td><td>2</td></tr>",
                            "<tr><td>Hotel Három Hattyú</td><td>7</td><td>2</td></tr>",
                            "<tr><td>Hotel Három Hattyú</td><td>1</td><td>2</td></tr>",
                            "<tr><td>Hotel Három Hattyú</td><td>13</td><td>2</td></tr>",
                            "<tr><td>Hotel Három Hattyú</td><td>8</td><td>2</td></tr>",
                            "<tr><td>Hotel Három Hattyú</td><td>34</td><td>2</td></tr>",
                            "<tr><td>Hotel Három Hattyú</td><td>9</td><td>2</td></tr>",
                            "<tr><td>Hotel Három Hattyú</td><td>29</td><td>1</td></tr>",
                            "<tr><td>Hotel Három Hattyú</td><td>7</td><td>1</td></tr>",
                            "<tr><td>Hotel Három Hattyú</td><td>34</td><td>2</td></tr>",
                            "<tr><td>Hotel Három Hattyú</td><td>20</td><td>2</td></tr>",
                            "<tr><td>Hotel Három Hattyú</td><td>36</td><td>2</td></tr>",
                            "<tr><td>Hotel Három Hattyú</td><td>6</td><td>2</td></tr>",
                            "<tr><td>Hotel Három Hattyú</td><td>32</td><td>2</td></tr>",
                            "<tr><td>Hotel Három Hattyú</td><td>39</td><td>2</td></tr>",
                            "<tr><td>Hotel Három Hattyú</td><td>17</td><td>2</td></tr>",
                            "<tr><td>Hotel Három Hattyú</td><td>26</td><td>2</td></tr>",
                            "<tr><td>Hotel Három Hattyú</td><td>27</td><td>3</td></tr>",
                            "<tr><td>Hotel Három Hattyú</td><td>28</td><td>3</td></tr>",
                            "<tr><td>Hotel Három Hattyú</td><td>28</td><td>2</td></tr>",
                            "<tr><td>Hotel Három Hattyú</td><td>10</td><td>2</td></tr>",
                            "<tr><td>Hotel Három Hattyú</td><td>30</td><td>3</td></tr>",
                            "<tr><td>Hotel Három Hattyú</td><td>13</td><td>3</td></tr>",
                            "<tr><td>Hotel Három Hattyú</td><td>9</td><td>2</td></tr>",
                            "<tr><td>Hotel Három Hattyú</td><td>29</td><td>2</td></tr>",
                            "<tr><td>Hotel Három Hattyú</td><td>20</td><td>2</td></tr>",
                            "<tr><td>Hotel Három Hattyú</td><td>30</td><td>2</td></tr>",
                            "<tr><td>Hotel Három Hattyú</td><td>17</td><td>2</td></tr>",
                            "<tr><td>Hotel Három Hattyú</td><td>23</td><td>3</td></tr>",
                            "<tr><td>Hotel Három Hattyú</td><td>23</td><td>3</td></tr>",
                            "<tr><td>Hotel Három Hattyú</td><td>36</td><td>3</td></tr>",
                            "<tr><td>Hotel Három Hattyú</td><td>26</td><td>3</td></tr>",
                            "<tr><td>Hotel Három Hattyú</td><td>39</td><td>3</td></tr>",
                            "<tr><td>Hotel Három Hattyú</td><td>16</td><td>3</td></tr>",
                            "<tr><td>Hotel Három Hattyú</td><td>11</td><td>2</td></tr>",
                            "<tr><td>Hotel Három Hattyú</td><td>4</td><td>2</td></tr>",
                            "<tr><td>Hotel Három Hattyú</td><td>15</td><td>2</td></tr>",
                            "<tr><td>Hotel Három Hattyú</td><td>14</td><td>2</td></tr>",
                            "<tr><td>Hotel Három Hattyú</td><td>22</td><td>2</td></tr>",
                            "<tr><td>Hotel Három Hattyú</td><td>34</td><td>2</td></tr>",
                            "<tr><td>Hotel Három Hattyú</td><td>2</td><td>2</td></tr>",
                            "<tr><td>Hotel Három Hattyú</td><td>7</td><td>2</td></tr>",
                            "<tr><td>Hotel Három Hattyú</td><td>14</td><td>2</td></tr>",
                            "<tr><td>Hotel Három Hattyú</td><td>5</td><td>2</td></tr>",
                            "<tr><td>Hotel Három Hattyú</td><td>24</td><td>2</td></tr>",
                            "<tr><td>Hotel Három Hattyú</td><td>25</td><td>2</td></tr>",
                            "<tr><td>Hotel Három Hattyú</td><td>2</td><td>2</td></tr>",
                            "<tr><td>Hotel Három Hattyú</td><td>4</td><td>2</td></tr>",
                            "<tr><td>Hotel Három Hattyú</td><td>19</td><td>2</td></tr>",
                            "<tr><td>Hotel Három Hattyú</td><td>25</td><td>2</td></tr>",
                            "<tr><td>Hotel Három Hattyú</td><td>6</td><td>2</td></tr>",
                            "<tr><td>Hotel Három Hattyú</td><td>38</td><td>2</td></tr>",
                            "<tr><td>Hotel Három Hattyú</td><td>37</td><td>2</td></tr>",
                            "<tr><td>Hotel Három Hattyú</td><td>38</td><td>2</td></tr>",
                            "<tr><td>Jáde panzió</td><td>2</td><td>2</td></tr>",
                            "<tr><td>Jáde panzió</td><td>1</td><td>2</td></tr>",
                            "<tr><td>Jáde panzió</td><td>1</td><td>2</td></tr>",
                            "<tr><td>Jáde panzió</td><td>3</td><td>2</td></tr>",
                            "<tr><td>Jáde panzió</td><td>2</td><td>2</td></tr>",
                            "<tr><td>Jáde panzió</td><td>2</td><td>1</td></tr>",
                            "<tr><td>Jáde panzió</td><td>4</td><td>2</td></tr>",
                            "<tr><td>Jáde panzió</td><td>1</td><td>2</td></tr>",
                            "<tr><td>Jáde panzió</td><td>4</td><td>2</td></tr>",
                            "<tr><td>Jáde panzió</td><td>3</td><td>2</td></tr>",
                            "<tr><td>Jáde panzió</td><td>5</td><td>2</td></tr>",
                            "<tr><td>Jáde panzió</td><td>5</td><td>2</td></tr>",
                            "<tr><td>Jáde panzió</td><td>2</td><td>2</td></tr>",
                            "<tr><td>Jáde panzió</td><td>1</td><td>2</td></tr>",
                            "<tr><td>Jáde panzió</td><td>1</td><td>2</td></tr>",
                            "<tr><td>Jáde panzió</td><td>5</td><td>2</td></tr>",
                            "<tr><td>Jáde panzió</td><td>3</td><td>2</td></tr>",
                            "<tr><td>Jáde panzió</td><td>3</td><td>2</td></tr>",
                            "<tr><td>Jáde panzió</td><td>4</td><td>2</td></tr>",
                            "<tr><td>Jáde panzió</td><td>5</td><td>2</td></tr>",
                            "<tr><td>Jáde panzió</td><td>5</td><td>2</td></tr>",
                            "<tr><td>Jáde panzió</td><td>4</td><td>2</td></tr>",
                            "<tr><td>Jáde panzió</td><td>3</td><td>2</td></tr>",
                            "<tr><td>Jáde panzió</td><td>4</td><td>2</td></tr>",
                            "<tr><td>Jáde panzió</td><td>4</td><td>2</td></tr>",
                            "<tr><td>Jáde panzió</td><td>2</td><td>2</td></tr>",
                            "<tr><td>Jáde panzió</td><td>1</td><td>2</td></tr>",
                            "<tr><td>Jáde panzió</td><td>3</td><td>2</td></tr>",
                            "<tr><td>Jáde panzió</td><td>5</td><td>2</td></tr>",
                            "<tr><td>Kentaur Hotel</td><td>19</td><td>4</td></tr>",
                            "<tr><td>Kentaur Hotel</td><td>34</td><td>3</td></tr>",
                            "<tr><td>Kentaur Hotel</td><td>29</td><td>2</td></tr>",
                            "<tr><td>Kentaur Hotel</td><td>30</td><td>2</td></tr>",
                            "<tr><td>Kentaur Hotel</td><td>21</td><td>2</td></tr>",
                            "<tr><td>Kentaur Hotel</td><td>28</td><td>2</td></tr>",
                            "<tr><td>Kentaur Hotel</td><td>25</td><td>2</td></tr>",
                            "<tr><td>Kentaur Hotel</td><td>5</td><td>2</td></tr>",
                            "<tr><td>Kentaur Hotel</td><td>14</td><td>2</td></tr>",
                            "<tr><td>Kentaur Hotel</td><td>18</td><td>2</td></tr>",
                            "<tr><td>Kentaur Hotel</td><td>5</td><td>2</td></tr>",
                            "<tr><td>Kentaur Hotel</td><td>18</td><td>2</td></tr>",
                            "<tr><td>Kentaur Hotel</td><td>29</td><td>2</td></tr>",
                            "<tr><td>Kentaur Hotel</td><td>16</td><td>2</td></tr>",
                            "<tr><td>Kentaur Hotel</td><td>4</td><td>2</td></tr>",
                            "<tr><td>Kentaur Hotel</td><td>21</td><td>2</td></tr>",
                            "<tr><td>Kentaur Hotel</td><td>33</td><td>2</td></tr>",
                            "<tr><td>Kentaur Hotel</td><td>34</td><td>2</td></tr>",
                            "<tr><td>Kentaur Hotel</td><td>2</td><td>2</td></tr>",
                            "<tr><td>Kentaur Hotel</td><td>33</td><td>2</td></tr>",
                            "<tr><td>Kentaur Hotel</td><td>18</td><td>2</td></tr>",
                            "<tr><td>Kentaur Hotel</td><td>15</td><td>2</td></tr>",
                            "<tr><td>Kentaur Hotel</td><td>25</td><td>2</td></tr>",
                            "<tr><td>Kentaur Hotel</td><td>34</td><td>2</td></tr>",
                            "<tr><td>Kentaur Hotel</td><td>9</td><td>2</td></tr>",
                            "<tr><td>Kentaur Hotel</td><td>20</td><td>2</td></tr>",
                            "<tr><td>Kentaur Hotel</td><td>31</td><td>2</td></tr>",
                            "<tr><td>Kentaur Hotel</td><td>5</td><td>2</td></tr>",
                            "<tr><td>Kentaur Hotel</td><td>14</td><td>1</td></tr>",
                            "<tr><td>Kentaur Hotel</td><td>23</td><td>2</td></tr>",
                            "<tr><td>Kentaur Hotel</td><td>31</td><td>2</td></tr>",
                            "<tr><td>Kentaur Hotel</td><td>7</td><td>1</td></tr>",
                            "<tr><td>Kentaur Hotel</td><td>13</td><td>1</td></tr>",
                            "<tr><td>Kentaur Hotel</td><td>13</td><td>1</td></tr>",
                            "<tr><td>Kentaur Hotel</td><td>25</td><td>2</td></tr>",
                            "<tr><td>Kentaur Hotel</td><td>17</td><td>2</td></tr>",
                            "<tr><td>Kentaur Hotel</td><td>35</td><td>2</td></tr>",
                            "<tr><td>Kentaur Hotel</td><td>23</td><td>2</td></tr>",
                            "<tr><td>Kentaur Hotel</td><td>25</td><td>2</td></tr>",
                            "<tr><td>Kentaur Hotel</td><td>27</td><td>2</td></tr>",
                            "<tr><td>Kentaur Hotel</td><td>28</td><td>2</td></tr>",
                            "<tr><td>Kentaur Hotel</td><td>31</td><td>2</td></tr>",
                            "<tr><td>Kentaur Hotel</td><td>4</td><td>2</td></tr>",
                            "<tr><td>Kentaur Hotel</td><td>34</td><td>2</td></tr>",
                            "<tr><td>Kentaur Hotel</td><td>33</td><td>2</td></tr>",
                            "<tr><td>Kentaur Hotel</td><td>24</td><td>2</td></tr>",
                            "<tr><td>Kentaur Hotel</td><td>21</td><td>1</td></tr>",
                            "<tr><td>Kentaur Hotel</td><td>22</td><td>2</td></tr>",
                            "<tr><td>Kentaur Hotel</td><td>26</td><td>2</td></tr>",
                            "<tr><td>Kentaur Hotel</td><td>19</td><td>2</td></tr>",
                            "<tr><td>Kentaur Hotel</td><td>31</td><td>2</td></tr>",
                            "<tr><td>Kentaur Hotel</td><td>5</td><td>2</td></tr>",
                            "<tr><td>Kentaur Hotel</td><td>34</td><td>3</td></tr>",
                            "<tr><td>Kentaur Hotel</td><td>11</td><td>2</td></tr>",
                            "<tr><td>Kentaur Hotel</td><td>27</td><td>2</td></tr>",
                            "<tr><td>Kentaur Hotel</td><td>22</td><td>2</td></tr>",
                            "<tr><td>Kentaur Hotel</td><td>29</td><td>2</td></tr>",
                            "<tr><td>Kentaur Hotel</td><td>28</td><td>2</td></tr>",
                            "<tr><td>Kentaur Hotel</td><td>12</td><td>2</td></tr>",
                            "<tr><td>Kentaur Hotel</td><td>13</td><td>2</td></tr>",
                            "<tr><td>Kentaur Hotel</td><td>21</td><td>2</td></tr>",
                            "<tr><td>Kentaur Hotel</td><td>22</td><td>2</td></tr>",
                            "<tr><td>Kentaur Hotel</td><td>24</td><td>2</td></tr>",
                            "<tr><td>Kentaur Hotel</td><td>9</td><td>2</td></tr>",
                            "<tr><td>Kentaur Hotel</td><td>6</td><td>2</td></tr>",
                            "<tr><td>Kentaur Hotel</td><td>17</td><td>3</td></tr>",
                            "<tr><td>Kentaur Hotel</td><td>12</td><td>3</td></tr>",
                            "<tr><td>Kentaur Hotel</td><td>14</td><td>2</td></tr>",
                            "<tr><td>Kentaur Hotel</td><td>9</td><td>2</td></tr>",
                            "<tr><td>Kentaur Hotel</td><td>1</td><td>2</td></tr>",
                            "<tr><td>Kentaur Hotel</td><td>25</td><td>2</td></tr>",
                            "<tr><td>Kentaur Hotel</td><td>34</td><td>2</td></tr>",
                            "<tr><td>Kentaur Hotel</td><td>2</td><td>2</td></tr>",
                            "<tr><td>Kentaur Hotel</td><td>21</td><td>2</td></tr>",
                            "<tr><td>Kentaur Hotel</td><td>35</td><td>2</td></tr>",
                            "<tr><td>Kentaur Hotel</td><td>3</td><td>2</td></tr>",
                            "<tr><td>Kentaur Hotel</td><td>25</td><td>2</td></tr>",
                            "<tr><td>Kentaur Hotel</td><td>7</td><td>2</td></tr>",
                            "<tr><td>Kentaur Hotel</td><td>14</td><td>2</td></tr>",
                            "<tr><td>Kentaur Hotel</td><td>25</td><td>2</td></tr>",
                            "<tr><td>Kentaur Hotel</td><td>30</td><td>2</td></tr>",
                            "<tr><td>Kentaur Hotel</td><td>20</td><td>2</td></tr>",
                            "<tr><td>Kentaur Hotel</td><td>1</td><td>2</td></tr>",
                            "<tr><td>Kentaur Hotel</td><td>31</td><td>2</td></tr>",
                            "<tr><td>Kentaur Hotel</td><td>10</td><td>2</td></tr>",
                            "<tr><td>Kentaur Hotel</td><td>13</td><td>2</td></tr>",
                            "<tr><td>Kentaur Hotel</td><td>10</td><td>2</td></tr>",
                            "<tr><td>Kentaur Hotel</td><td>6</td><td>2</td></tr>",
                            "<tr><td>Kentaur Hotel</td><td>5</td><td>2</td></tr>",
                            "<tr><td>Kentaur Hotel</td><td>21</td><td>2</td></tr>",
                            "<tr><td>Kentaur Hotel</td><td>25</td><td>2</td></tr>",
                            "<tr><td>Kentaur Hotel</td><td>28</td><td>2</td></tr>",
                            "<tr><td>Kentaur Hotel</td><td>9</td><td>2</td></tr>",
                            "<tr><td>Kentaur Hotel</td><td>34</td><td>2</td></tr>",
                            "<tr><td>Kentaur Hotel</td><td>15</td><td>2</td></tr>",
                            "<tr><td>Kentaur Hotel</td><td>21</td><td>2</td></tr>",
                            "<tr><td>Kentaur Hotel</td><td>12</td><td>2</td></tr>",
                            "<tr><td>Kentaur Hotel</td><td>24</td><td>2</td></tr>",
                            "<tr><td>Kentaur Hotel</td><td>6</td><td>2</td></tr>",
                            "<tr><td>Kentaur Hotel</td><td>2</td><td>2</td></tr>",
                            "<tr><td>Kentaur Hotel</td><td>10</td><td>2</td></tr>",
                            "<tr><td>Kentaur Hotel</td><td>25</td><td>2</td></tr>",
                            "<tr><td>Kentaur Hotel</td><td>9</td><td>1</td></tr>",
                            "<tr><td>Kentaur Hotel</td><td>10</td><td>2</td></tr>",
                            "<tr><td>Kentaur Hotel</td><td>3</td><td>2</td></tr>",
                            "<tr><td>Kentaur Hotel</td><td>9</td><td>2</td></tr>",
                            "<tr><td>Kentaur Hotel</td><td>12</td><td>2</td></tr>",
                            "<tr><td>Kentaur Hotel</td><td>1</td><td>2</td></tr>",
                            "<tr><td>Kentaur Hotel</td><td>20</td><td>2</td></tr>",
                            "<tr><td>Kentaur Hotel</td><td>30</td><td>2</td></tr>",
                            "<tr><td>Kentaur Hotel</td><td>6</td><td>2</td></tr>",
                            "<tr><td>Kentaur Hotel</td><td>15</td><td>2</td></tr>",
                            "<tr><td>Kentaur Hotel</td><td>17</td><td>2</td></tr>",
                            "<tr><td>Kentaur Hotel</td><td>10</td><td>2</td></tr>",
                            "<tr><td>Kentaur Hotel</td><td>20</td><td>3</td></tr>",
                            "<tr><td>Kentaur Hotel</td><td>9</td><td>2</td></tr>",
                            "<tr><td>Kentaur Hotel</td><td>3</td><td>2</td></tr>",
                            "<tr><td>Kentaur Hotel</td><td>9</td><td>2</td></tr>",
                            "<tr><td>Kentaur Hotel</td><td>17</td><td>2</td></tr>",
                            "<tr><td>Kentaur Hotel</td><td>29</td><td>2</td></tr>",
                            "<tr><td>Kentaur Hotel</td><td>1</td><td>2</td></tr>",
                            "<tr><td>Kentaur Hotel</td><td>33</td><td>2</td></tr>",
                            "<tr><td>Kentaur Hotel</td><td>31</td><td>2</td></tr>",
                            "<tr><td>Kentaur Hotel</td><td>29</td><td>2</td></tr>",
                            "<tr><td>Kentaur Hotel</td><td>9</td><td>2</td></tr>",
                            "<tr><td>Kentaur Hotel</td><td>10</td><td>2</td></tr>",
                            "<tr><td>Kentaur Hotel</td><td>9</td><td>2</td></tr>",
                            "<tr><td>Kentaur Hotel</td><td>9</td><td>2</td></tr>",
                            "<tr><td>Kentaur Hotel</td><td>23</td><td>2</td></tr>",
                            "<tr><td>Kentaur Hotel</td><td>9</td><td>2</td></tr>",
                            "<tr><td>Kentaur Hotel</td><td>19</td><td>2</td></tr>",
                            "<tr><td>Kentaur Hotel</td><td>21</td><td>2</td></tr>",
                            "<tr><td>Kentaur Hotel</td><td>6</td><td>3</td></tr>",
                            "<tr><td>Kentaur Hotel</td><td>5</td><td>2</td></tr>",
                            "<tr><td>Kentaur Hotel</td><td>24</td><td>2</td></tr>",
                            "<tr><td>Kentaur Hotel</td><td>21</td><td>2</td></tr>",
                            "<tr><td>Kentaur Hotel</td><td>33</td><td>2</td></tr>",
                            "<tr><td>Kentaur Hotel</td><td>30</td><td>2</td></tr>",
                            "<tr><td>Kentaur Hotel</td><td>8</td><td>2</td></tr>",
                            "<tr><td>Kentaur Hotel</td><td>21</td><td>2</td></tr>",
                            "<tr><td>Kentaur Hotel</td><td>32</td><td>2</td></tr>",
                            "<tr><td>Kentaur Hotel</td><td>31</td><td>1</td></tr>",
                            "<tr><td>Kentaur Hotel</td><td>35</td><td>1</td></tr>",
                            "<tr><td>Kentaur Hotel</td><td>34</td><td>1</td></tr>",
                            "<tr><td>Kentaur Hotel</td><td>18</td><td>1</td></tr>",
                            "<tr><td>Kentaur Hotel</td><td>35</td><td>1</td></tr>",
                            "<tr><td>Kentaur Hotel</td><td>6</td><td>1</td></tr>",
                            "<tr><td>Kentaur Hotel</td><td>8</td><td>2</td></tr>",
                            "<tr><td>Kentaur Hotel</td><td>23</td><td>1</td></tr>",
                            "<tr><td>Kentaur Hotel</td><td>33</td><td>2</td></tr>",
                            "<tr><td>Kentaur Hotel</td><td>26</td><td>2</td></tr>",
                            "<tr><td>Kentaur Hotel</td><td>13</td><td>2</td></tr>",
                            "<tr><td>Kentaur Hotel</td><td>3</td><td>2</td></tr>",
                            "<tr><td>Kentaur Hotel</td><td>28</td><td>2</td></tr>",
                            "<tr><td>Kentaur Hotel</td><td>15</td><td>2</td></tr>",
                            "<tr><td>Kentaur Hotel</td><td>30</td><td>2</td></tr>",
                            "<tr><td>Kentaur Hotel</td><td>32</td><td>2</td></tr>",
                            "<tr><td>Kentaur Hotel</td><td>9</td><td>2</td></tr>",
                            "<tr><td>Kentaur Hotel</td><td>21</td><td>2</td></tr>",
                            "<tr><td>Kentaur Hotel</td><td>26</td><td>2</td></tr>",
                            "<tr><td>Kentaur Hotel</td><td>32</td><td>2</td></tr>",
                            "<tr><td>Kentaur Hotel</td><td>15</td><td>2</td></tr>",
                            "<tr><td>Kentaur Hotel</td><td>8</td><td>2</td></tr>",
                            "<tr><td>Kentaur Hotel</td><td>28</td><td>1</td></tr>",
                            "<tr><td>Kentaur Hotel</td><td>2</td><td>1</td></tr>",
                            "<tr><td>Kentaur Hotel</td><td>12</td><td>1</td></tr>",
                            "<tr><td>Kentaur Hotel</td><td>32</td><td>1</td></tr>",
                            "<tr><td>Kentaur Hotel</td><td>8</td><td>1</td></tr>",
                            "<tr><td>Kentaur Hotel</td><td>6</td><td>2</td></tr>",
                            "<tr><td>Kentaur Hotel</td><td>6</td><td>2</td></tr>",
                            "<tr><td>Kentaur Hotel</td><td>3</td><td>2</td></tr>",
                            "<tr><td>Kentaur Hotel</td><td>2</td><td>2</td></tr>",
                            "<tr><td>Kentaur Hotel</td><td>27</td><td>2</td></tr>",
                            "<tr><td>Kentaur Hotel</td><td>32</td><td>2</td></tr>",
                            "<tr><td>Kentaur Hotel</td><td>10</td><td>2</td></tr>",
                            "<tr><td>Kentaur Hotel</td><td>29</td><td>2</td></tr>",
                            "<tr><td>Kentaur Hotel</td><td>18</td><td>3</td></tr>",
                            "<tr><td>Kentaur Hotel</td><td>15</td><td>2</td></tr>",
                            "<tr><td>Kentaur Hotel</td><td>18</td><td>2</td></tr>",
                            "<tr><td>Lagúna Hotel</td><td>7</td><td>2</td></tr>",
                            "<tr><td>Lagúna Hotel</td><td>21</td><td>3</td></tr>",
                            "<tr><td>Lagúna Hotel</td><td>21</td><td>3</td></tr>",
                            "<tr><td>Lagúna Hotel</td><td>5</td><td>2</td></tr>",
                            "<tr><td>Lagúna Hotel</td><td>10</td><td>2</td></tr>",
                            "<tr><td>Lagúna Hotel</td><td>3</td><td>2</td></tr>",
                            "<tr><td>Lagúna Hotel</td><td>2</td><td>2</td></tr>",
                            "<tr><td>Lagúna Hotel</td><td>22</td><td>2</td></tr>",
                            "<tr><td>Lagúna Hotel</td><td>15</td><td>2</td></tr>",
                            "<tr><td>Lagúna Hotel</td><td>19</td><td>2</td></tr>",
                            "<tr><td>Lagúna Hotel</td><td>16</td><td>2</td></tr>",
                            "<tr><td>Lagúna Hotel</td><td>23</td><td>2</td></tr>",
                            "<tr><td>Lagúna Hotel</td><td>3</td><td>2</td></tr>",
                            "<tr><td>Lagúna Hotel</td><td>15</td><td>1</td></tr>",
                            "<tr><td>Lagúna Hotel</td><td>3</td><td>1</td></tr>",
                            "<tr><td>Lagúna Hotel</td><td>2</td><td>1</td></tr>",
                            "<tr><td>Lagúna Hotel</td><td>12</td><td>1</td></tr>",
                            "<tr><td>Lagúna Hotel</td><td>17</td><td>1</td></tr>",
                            "<tr><td>Lagúna Hotel</td><td>22</td><td>1</td></tr>",
                            "<tr><td>Lagúna Hotel</td><td>7</td><td>1</td></tr>",
                            "<tr><td>Lagúna Hotel</td><td>6</td><td>1</td></tr>",
                            "<tr><td>Lagúna Hotel</td><td>22</td><td>2</td></tr>",
                            "<tr><td>Lagúna Hotel</td><td>20</td><td>2</td></tr>",
                            "<tr><td>Lagúna Hotel</td><td>19</td><td>2</td></tr>",
                            "<tr><td>Lagúna Hotel</td><td>9</td><td>2</td></tr>",
                            "<tr><td>Lagúna Hotel</td><td>3</td><td>2</td></tr>",
                            "<tr><td>Lagúna Hotel</td><td>23</td><td>2</td></tr>",
                            "<tr><td>Lagúna Hotel</td><td>12</td><td>2</td></tr>",
                            "<tr><td>Lagúna Hotel</td><td>14</td><td>2</td></tr>",
                            "<tr><td>Lagúna Hotel</td><td>22</td><td>1</td></tr>",
                            "<tr><td>Lagúna Hotel</td><td>11</td><td>2</td></tr>",
                            "<tr><td>Lagúna Hotel</td><td>1</td><td>2</td></tr>",
                            "<tr><td>Lagúna Hotel</td><td>18</td><td>2</td></tr>",
                            "<tr><td>Lagúna Hotel</td><td>6</td><td>2</td></tr>",
                            "<tr><td>Lagúna Hotel</td><td>5</td><td>2</td></tr>",
                            "<tr><td>Lagúna Hotel</td><td>5</td><td>2</td></tr>",
                            "<tr><td>Lagúna Hotel</td><td>7</td><td>1</td></tr>",
                            "<tr><td>Lagúna Hotel</td><td>14</td><td>1</td></tr>",
                            "<tr><td>Lagúna Hotel</td><td>4</td><td>2</td></tr>",
                            "<tr><td>Lagúna Hotel</td><td>13</td><td>2</td></tr>",
                            "<tr><td>Lagúna Hotel</td><td>14</td><td>2</td></tr>",
                            "<tr><td>Lagúna Hotel</td><td>7</td><td>2</td></tr>",
                            "<tr><td>Lagúna Hotel</td><td>12</td><td>2</td></tr>",
                            "<tr><td>Lagúna Hotel</td><td>4</td><td>2</td></tr>",
                            "<tr><td>Lagúna Hotel</td><td>12</td><td>2</td></tr>",
                            "<tr><td>Lagúna Hotel</td><td>14</td><td>2</td></tr>",
                            "<tr><td>Lagúna Hotel</td><td>14</td><td>2</td></tr>",
                            "<tr><td>Lagúna Hotel</td><td>24</td><td>2</td></tr>",
                            "<tr><td>Lagúna Hotel</td><td>15</td><td>2</td></tr>",
                            "<tr><td>Lagúna Hotel</td><td>15</td><td>2</td></tr>",
                            "<tr><td>Lagúna Hotel</td><td>24</td><td>2</td></tr>",
                            "<tr><td>Lagúna Hotel</td><td>15</td><td>2</td></tr>",
                            "<tr><td>Lagúna Hotel</td><td>12</td><td>2</td></tr>",
                            "<tr><td>Lagúna Hotel</td><td>1</td><td>2</td></tr>",
                            "<tr><td>Lagúna Hotel</td><td>5</td><td>2</td></tr>",
                            "<tr><td>Lagúna Hotel</td><td>2</td><td>2</td></tr>",
                            "<tr><td>Lagúna Hotel</td><td>23</td><td>2</td></tr>",
                            "<tr><td>Lagúna Hotel</td><td>17</td><td>2</td></tr>",
                            "<tr><td>Lagúna Hotel</td><td>20</td><td>2</td></tr>",
                            "<tr><td>Lagúna Hotel</td><td>5</td><td>2</td></tr>",
                            "<tr><td>Lagúna Hotel</td><td>11</td><td>2</td></tr>",
                            "<tr><td>Lagúna Hotel</td><td>10</td><td>2</td></tr>",
                            "<tr><td>Lagúna Hotel</td><td>16</td><td>2</td></tr>",
                            "<tr><td>Lagúna Hotel</td><td>6</td><td>2</td></tr>",
                            "<tr><td>Lagúna Hotel</td><td>16</td><td>2</td></tr>",
                            "<tr><td>Lagúna Hotel</td><td>21</td><td>2</td></tr>",
                            "<tr><td>Lagúna Hotel</td><td>17</td><td>2</td></tr>",
                            "<tr><td>Lagúna Hotel</td><td>24</td><td>2</td></tr>",
                            "<tr><td>Lagúna Hotel</td><td>11</td><td>2</td></tr>",
                            "<tr><td>Lagúna Hotel</td><td>11</td><td>2</td></tr>",
                            "<tr><td>Lagúna Hotel</td><td>15</td><td>2</td></tr>",
                            "<tr><td>Lagúna Hotel</td><td>9</td><td>2</td></tr>",
                            "<tr><td>Lagúna Hotel</td><td>6</td><td>2</td></tr>",
                            "<tr><td>Lagúna Hotel</td><td>18</td><td>2</td></tr>",
                            "<tr><td>Lagúna Hotel</td><td>20</td><td>2</td></tr>",
                            "<tr><td>Lagúna Hotel</td><td>16</td><td>1</td></tr>",
                            "<tr><td>Lagúna Hotel</td><td>16</td><td>2</td></tr>",
                            "<tr><td>Lagúna Hotel</td><td>3</td><td>2</td></tr>",
                            "<tr><td>Lagúna Hotel</td><td>10</td><td>2</td></tr>",
                            "<tr><td>Lagúna Hotel</td><td>9</td><td>2</td></tr>",
                            "<tr><td>Lagúna Hotel</td><td>18</td><td>2</td></tr>",
                            "<tr><td>Lagúna Hotel</td><td>9</td><td>3</td></tr>",
                            "<tr><td>Lagúna Hotel</td><td>23</td><td>2</td></tr>",
                            "<tr><td>Lagúna Hotel</td><td>4</td><td>2</td></tr>",
                            "<tr><td>Lagúna Hotel</td><td>7</td><td>2</td></tr>",
                            "<tr><td>Lagúna Hotel</td><td>20</td><td>2</td></tr>",
                            "<tr><td>Lagúna Hotel</td><td>6</td><td>2</td></tr>",
                            "<tr><td>Lagúna Hotel</td><td>3</td><td>2</td></tr>",
                            "<tr><td>Lagúna Hotel</td><td>4</td><td>2</td></tr>",
                            "<tr><td>Lagúna Hotel</td><td>1</td><td>2</td></tr>",
                            "<tr><td>Lagúna Hotel</td><td>4</td><td>2</td></tr>",
                            "<tr><td>Lagúna Hotel</td><td>10</td><td>2</td></tr>",
                            "<tr><td>Lagúna Hotel</td><td>9</td><td>3</td></tr>",
                            "<tr><td>Lagúna Hotel</td><td>21</td><td>3</td></tr>",
                            "<tr><td>Lagúna Hotel</td><td>11</td><td>3</td></tr>",
                            "<tr><td>Lagúna Hotel</td><td>6</td><td>3</td></tr>",
                            "<tr><td>Lagúna Hotel</td><td>4</td><td>3</td></tr>",
                            "<tr><td>Lagúna Hotel</td><td>6</td><td>2</td></tr>",
                            "<tr><td>Lagúna Hotel</td><td>8</td><td>2</td></tr>",
                            "<tr><td>Lagúna Hotel</td><td>4</td><td>2</td></tr>",
                            "<tr><td>Lagúna Hotel</td><td>6</td><td>2</td></tr>",
                            "<tr><td>Lagúna Hotel</td><td>9</td><td>3</td></tr>",
                            "<tr><td>Lagúna Hotel</td><td>7</td><td>3</td></tr>",
                            "<tr><td>Lagúna Hotel</td><td>16</td><td>2</td></tr>",
                            "<tr><td>Lagúna Hotel</td><td>5</td><td>2</td></tr>",
                            "<tr><td>Lagúna Hotel</td><td>9</td><td>2</td></tr>",
                            "<tr><td>Lagúna Hotel</td><td>5</td><td>2</td></tr>",
                            "<tr><td>Lagúna Hotel</td><td>19</td><td>2</td></tr>",
                            "<tr><td>Lagúna Hotel</td><td>22</td><td>2</td></tr>",
                            "<tr><td>Lagúna Hotel</td><td>19</td><td>2</td></tr>",
                            "<tr><td>Lagúna Hotel</td><td>11</td><td>2</td></tr>",
                            "<tr><td>Lagúna Hotel</td><td>12</td><td>2</td></tr>",
                            "<tr><td>Lagúna Hotel</td><td>22</td><td>2</td></tr>",
                            "<tr><td>Lagúna Hotel</td><td>19</td><td>2</td></tr>",
                            "<tr><td>Lagúna Hotel</td><td>15</td><td>2</td></tr>",
                            "<tr><td>Lagúna Hotel</td><td>21</td><td>2</td></tr>",
                            "<tr><td>Lagúna Hotel</td><td>20</td><td>2</td></tr>",
                            "<tr><td>Lagúna Hotel</td><td>8</td><td>2</td></tr>",
                            "<tr><td>Lagúna Hotel</td><td>23</td><td>2</td></tr>",
                            "<tr><td>Lagúna Hotel</td><td>18</td><td>1</td></tr>",
                            "<tr><td>Lagúna Hotel</td><td>22</td><td>2</td></tr>",
                            "<tr><td>Lagúna Hotel</td><td>10</td><td>2</td></tr>",
                            "<tr><td>Lagúna Hotel</td><td>14</td><td>2</td></tr>",
                            "<tr><td>Partiszél Vendégház</td><td>5</td><td>2</td></tr>",
                            "<tr><td>Partiszél Vendégház</td><td>3</td><td>2</td></tr>",
                            "<tr><td>Partiszél Vendégház</td><td>4</td><td>2</td></tr>",
                            "<tr><td>Partiszél Vendégház</td><td>2</td><td>2</td></tr>",
                            "<tr><td>Partiszél Vendégház</td><td>2</td><td>2</td></tr>",
                            "<tr><td>Partiszél Vendégház</td><td>2</td><td>2</td></tr>",
                            "<tr><td>Partiszél Vendégház</td><td>1</td><td>2</td></tr>",
                            "<tr><td>Partiszél Vendégház</td><td>1</td><td>2</td></tr>",
                            "<tr><td>Partiszél Vendégház</td><td>1</td><td>2</td></tr>",
                            "<tr><td>Partiszél Vendégház</td><td>4</td><td>2</td></tr>",
                            "<tr><td>Partiszél Vendégház</td><td>5</td><td>2</td></tr>",
                            "<tr><td>Partiszél Vendégház</td><td>1</td><td>3</td></tr>",
                            "<tr><td>Partiszél Vendégház</td><td>5</td><td>2</td></tr>",
                            "<tr><td>Partiszél Vendégház</td><td>4</td><td>2</td></tr>",
                            "<tr><td>Partiszél Vendégház</td><td>2</td><td>2</td></tr>",
                            "<tr><td>Partiszél Vendégház</td><td>4</td><td>2</td></tr>",
                            "<tr><td>Partiszél Vendégház</td><td>4</td><td>2</td></tr>",
                            "<tr><td>Partiszél Vendégház</td><td>2</td><td>2</td></tr>",
                            "<tr><td>Partiszél Vendégház</td><td>3</td><td>2</td></tr>",
                            "<tr><td>Partiszél Vendégház</td><td>4</td><td>2</td></tr>",
                            "<tr><td>Partiszél Vendégház</td><td>5</td><td>2</td></tr>",
                            "<tr><td>Partiszél Vendégház</td><td>5</td><td>2</td></tr>",
                            "<tr><td>Partiszél Vendégház</td><td>3</td><td>2</td></tr>",
                            "<tr><td>Partiszél Vendégház</td><td>4</td><td>2</td></tr>",
                            "<tr><td>Partiszél Vendégház</td><td>1</td><td>2</td></tr>",
                            "<tr><td>Partiszél Vendégház</td><td>2</td><td>2</td></tr>",
                            "<tr><td>Sába-Ház</td><td>6</td><td>2</td></tr>",
                            "<tr><td>Sába-Ház</td><td>7</td><td>1</td></tr>",
                            "<tr><td>Sába-Ház</td><td>5</td><td>1</td></tr>",
                            "<tr><td>Sába-Ház</td><td>10</td><td>1</td></tr>",
                            "<tr><td>Sába-Ház</td><td>9</td><td>1</td></tr>",
                            "<tr><td>Sába-Ház</td><td>1</td><td>1</td></tr>",
                            "<tr><td>Sába-Ház</td><td>3</td><td>1</td></tr>",
                            "<tr><td>Sába-Ház</td><td>4</td><td>1</td></tr>",
                            "<tr><td>Sába-Ház</td><td>6</td><td>1</td></tr>",
                            "<tr><td>Sába-Ház</td><td>12</td><td>2</td></tr>",
                            "<tr><td>Sába-Ház</td><td>8</td><td>2</td></tr>",
                            "<tr><td>Sába-Ház</td><td>11</td><td>2</td></tr>",
                            "<tr><td>Sába-Ház</td><td>1</td><td>2</td></tr>",
                            "<tr><td>Sába-Ház</td><td>4</td><td>2</td></tr>",
                            "<tr><td>Sába-Ház</td><td>8</td><td>2</td></tr>",
                            "<tr><td>Sába-Ház</td><td>12</td><td>2</td></tr>",
                            "<tr><td>Sába-Ház</td><td>5</td><td>2</td></tr>",
                            "<tr><td>Sába-Ház</td><td>12</td><td>1</td></tr>",
                            "<tr><td>Sába-Ház</td><td>6</td><td>1</td></tr>",
                            "<tr><td>Sába-Ház</td><td>4</td><td>1</td></tr>",
                            "<tr><td>Sába-Ház</td><td>12</td><td>1</td></tr>",
                            "<tr><td>Sába-Ház</td><td>3</td><td>1</td></tr>",
                            "<tr><td>Sába-Ház</td><td>8</td><td>2</td></tr>",
                            "<tr><td>Sába-Ház</td><td>12</td><td>1</td></tr>",
                            "<tr><td>Sába-Ház</td><td>1</td><td>2</td></tr>",
                            "<tr><td>Sába-Ház</td><td>7</td><td>2</td></tr>",
                            "<tr><td>Sába-Ház</td><td>6</td><td>2</td></tr>",
                            "<tr><td>Sába-Ház</td><td>12</td><td>2</td></tr>",
                            "<tr><td>Sába-Ház</td><td>10</td><td>2</td></tr>",
                            "<tr><td>Sába-Ház</td><td>3</td><td>2</td></tr>",
                            "<tr><td>Sába-Ház</td><td>10</td><td>2</td></tr>",
                            "<tr><td>Sába-Ház</td><td>1</td><td>2</td></tr>",
                            "<tr><td>Sába-Ház</td><td>8</td><td>2</td></tr>",
                            "<tr><td>Sába-Ház</td><td>2</td><td>2</td></tr>",
                            "<tr><td>Sába-Ház</td><td>8</td><td>2</td></tr>",
                            "<tr><td>Sába-Ház</td><td>6</td><td>2</td></tr>",
                            "<tr><td>Sába-Ház</td><td>3</td><td>2</td></tr>",
                            "<tr><td>Sába-Ház</td><td>2</td><td>3</td></tr>",
                            "<tr><td>Sába-Ház</td><td>2</td><td>3</td></tr>",
                            "<tr><td>Sába-Ház</td><td>5</td><td>3</td></tr>",
                            "<tr><td>Sába-Ház</td><td>3</td><td>3</td></tr>",
                            "<tr><td>Sába-Ház</td><td>6</td><td>3</td></tr>",
                            "<tr><td>Sába-Ház</td><td>11</td><td>3</td></tr>",
                            "<tr><td>Sába-Ház</td><td>4</td><td>2</td></tr>",
                            "<tr><td>Sába-Ház</td><td>7</td><td>2</td></tr>",
                            "<tr><td>Sába-Ház</td><td>4</td><td>2</td></tr>",
                            "<tr><td>Sába-Ház</td><td>1</td><td>2</td></tr>",
                            "<tr><td>Sába-Ház</td><td>12</td><td>2</td></tr>",
                            "<tr><td>Sába-Ház</td><td>3</td><td>2</td></tr>",
                            "<tr><td>Sába-Ház</td><td>1</td><td>2</td></tr>",
                            "<tr><td>Sába-Ház</td><td>9</td><td>2</td></tr>",
                            "<tr><td>Sába-Ház</td><td>12</td><td>2</td></tr>",
                            "<tr><td>Sába-Ház</td><td>7</td><td>2</td></tr>",
                            "<tr><td>Sába-Ház</td><td>7</td><td>2</td></tr>",
                            "<tr><td>Sába-Ház</td><td>9</td><td>2</td></tr>",
                            "<tr><td>Sába-Ház</td><td>11</td><td>2</td></tr>",
                            "<tr><td>Sába-Ház</td><td>7</td><td>2</td></tr>",
                            "<tr><td>Sába-Ház</td><td>9</td><td>2</td></tr>",
                            "<tr><td>Sába-Ház</td><td>5</td><td>2</td></tr>",
                            "<tr><td>Sába-Ház</td><td>1</td><td>2</td></tr>",
                            "<tr><td>Sába-Ház</td><td>2</td><td>2</td></tr>",
                            "<tr><td>Sába-Ház</td><td>10</td><td>2</td></tr>",
                            "<tr><td>Sába-Ház</td><td>1</td><td>3</td></tr>",
                            "<tr><td>Sába-Ház</td><td>9</td><td>3</td></tr>",
                            "<tr><td>Sába-Ház</td><td>12</td><td>2</td></tr>",
                            "<tr><td>Sába-Ház</td><td>3</td><td>2</td></tr>",
                            "<tr><td>Sába-Ház</td><td>4</td><td>2</td></tr>",
                            "<tr><td>Sába-Ház</td><td>11</td><td>2</td></tr>",
                            "<tr><td>Sába-Ház</td><td>9</td><td>2</td></tr>",
                            "<tr><td>Sába-Ház</td><td>3</td><td>2</td></tr>",
                            "<tr><td>Szieszta Apartmanház</td><td>3</td><td>3</td></tr>",
                            "<tr><td>Szieszta Apartmanház</td><td>1</td><td>2</td></tr>",
                            "<tr><td>Szieszta Apartmanház</td><td>2</td><td>2</td></tr>",
                            "<tr><td>Szieszta Apartmanház</td><td>4</td><td>2</td></tr>",
                            "<tr><td>Szieszta Apartmanház</td><td>6</td><td>2</td></tr>",
                            "<tr><td>Szieszta Apartmanház</td><td>4</td><td>2</td></tr>",
                            "<tr><td>Szieszta Apartmanház</td><td>5</td><td>2</td></tr>",
                            "<tr><td>Szieszta Apartmanház</td><td>3</td><td>2</td></tr>",
                            "<tr><td>Szieszta Apartmanház</td><td>5</td><td>2</td></tr>",
                            "<tr><td>Szieszta Apartmanház</td><td>2</td><td>2</td></tr>",
                            "<tr><td>Szieszta Apartmanház</td><td>1</td><td>2</td></tr>",
                            "<tr><td>Szieszta Apartmanház</td><td>2</td><td>2</td></tr>",
                            "<tr><td>Szieszta Apartmanház</td><td>5</td><td>2</td></tr>",
                            "<tr><td>Szieszta Apartmanház</td><td>3</td><td>1</td></tr>",
                            "<tr><td>Szieszta Apartmanház</td><td>2</td><td>1</td></tr>",
                            "<tr><td>Szieszta Apartmanház</td><td>6</td><td>2</td></tr>",
                            "<tr><td>Szieszta Apartmanház</td><td>5</td><td>2</td></tr>",
                            "<tr><td>Szieszta Apartmanház</td><td>4</td><td>2</td></tr>",
                            "<tr><td>Szieszta Apartmanház</td><td>5</td><td>2</td></tr>",
                            "<tr><td>Szieszta Apartmanház</td><td>5</td><td>2</td></tr>",
                            "<tr><td>Szieszta Apartmanház</td><td>4</td><td>2</td></tr>",
                            "<tr><td>Szieszta Apartmanház</td><td>6</td><td>2</td></tr>",
                            "<tr><td>Szieszta Apartmanház</td><td>4</td><td>2</td></tr>",
                            "<tr><td>Szieszta Apartmanház</td><td>1</td><td>2</td></tr>",
                            "<tr><td>Szieszta Apartmanház</td><td>3</td><td>2</td></tr>",
                            "<tr><td>Szieszta Apartmanház</td><td>4</td><td>2</td></tr>",
                            "<tr><td>Szieszta Apartmanház</td><td>5</td><td>2</td></tr>",
                            "<tr><td>Szieszta Apartmanház</td><td>6</td><td>2</td></tr>",
                            "<tr><td>Szieszta Apartmanház</td><td>2</td><td>2</td></tr>",
                            "<tr><td>Szieszta Apartmanház</td><td>3</td><td>2</td></tr>",
                            "<tr><td>Szieszta Apartmanház</td><td>1</td><td>2</td></tr>",
                            "<tr><td>Szieszta Apartmanház</td><td>5</td><td>2</td></tr>",
                            "<tr><td>Szieszta Apartmanház</td><td>4</td><td>2</td></tr>",
                            "<tr><td>Szieszta Apartmanház</td><td>4</td><td>2</td></tr>",
                            "</table>"
                        ]
                    }
                }
            ],
            "execution_count": 21
        },
        {
            "cell_type": "markdown",
            "source": [
                "Jelenítsük meg, hogy hány foglalás történt szobánként, naponta (METTOL), valamint szobánként, azon belül naponta \n",
                "\n",
                "- Szempontonként külön-külön számoljuk a foglalásokat\n",
                "- A foglalások száma minden esetben legalább 2 legyen"
            ],
            "metadata": {
                "azdata_cell_guid": "ba917ff0-4430-4869-8c85-a2ce7c6cf471"
            },
            "attachments": {}
        },
        {
            "cell_type": "code",
            "source": [
                "SELECT  COUNT(f.SZOBA_FK)\r\n",
                "from Szoba sz JOIN Foglalas f on sz.SZOBA_ID=f.SZOBA_FK\r\n",
                "GROUP BY sz.SZOBA_ID\r\n",
                "ORDER by sz.SZOBA_ID"
            ],
            "metadata": {
                "azdata_cell_guid": "098ef536-1ae0-4ba8-ad7f-683758e06e68",
                "language": "sql"
            },
            "outputs": [
                {
                    "output_type": "display_data",
                    "data": {
                        "text/html": "(197 rows affected)"
                    },
                    "metadata": {}
                },
                {
                    "output_type": "display_data",
                    "data": {
                        "text/html": "Total execution time: 00:00:00.010"
                    },
                    "metadata": {}
                },
                {
                    "output_type": "execute_result",
                    "metadata": {},
                    "execution_count": 29,
                    "data": {
                        "application/vnd.dataresource+json": {
                            "schema": {
                                "fields": [
                                    {
                                        "name": "(No column name)"
                                    }
                                ]
                            },
                            "data": [
                                {
                                    "(No column name)": "8"
                                },
                                {
                                    "(No column name)": "4"
                                },
                                {
                                    "(No column name)": "8"
                                },
                                {
                                    "(No column name)": "6"
                                },
                                {
                                    "(No column name)": "4"
                                },
                                {
                                    "(No column name)": "6"
                                },
                                {
                                    "(No column name)": "6"
                                },
                                {
                                    "(No column name)": "5"
                                },
                                {
                                    "(No column name)": "6"
                                },
                                {
                                    "(No column name)": "4"
                                },
                                {
                                    "(No column name)": "4"
                                },
                                {
                                    "(No column name)": "9"
                                },
                                {
                                    "(No column name)": "4"
                                },
                                {
                                    "(No column name)": "3"
                                },
                                {
                                    "(No column name)": "6"
                                },
                                {
                                    "(No column name)": "5"
                                },
                                {
                                    "(No column name)": "6"
                                },
                                {
                                    "(No column name)": "6"
                                },
                                {
                                    "(No column name)": "6"
                                },
                                {
                                    "(No column name)": "5"
                                },
                                {
                                    "(No column name)": "4"
                                },
                                {
                                    "(No column name)": "6"
                                },
                                {
                                    "(No column name)": "3"
                                },
                                {
                                    "(No column name)": "3"
                                },
                                {
                                    "(No column name)": "2"
                                },
                                {
                                    "(No column name)": "2"
                                },
                                {
                                    "(No column name)": "7"
                                },
                                {
                                    "(No column name)": "6"
                                },
                                {
                                    "(No column name)": "6"
                                },
                                {
                                    "(No column name)": "3"
                                },
                                {
                                    "(No column name)": "3"
                                },
                                {
                                    "(No column name)": "1"
                                },
                                {
                                    "(No column name)": "6"
                                },
                                {
                                    "(No column name)": "4"
                                },
                                {
                                    "(No column name)": "9"
                                },
                                {
                                    "(No column name)": "6"
                                },
                                {
                                    "(No column name)": "3"
                                },
                                {
                                    "(No column name)": "8"
                                },
                                {
                                    "(No column name)": "7"
                                },
                                {
                                    "(No column name)": "4"
                                },
                                {
                                    "(No column name)": "2"
                                },
                                {
                                    "(No column name)": "6"
                                },
                                {
                                    "(No column name)": "8"
                                },
                                {
                                    "(No column name)": "6"
                                },
                                {
                                    "(No column name)": "5"
                                },
                                {
                                    "(No column name)": "4"
                                },
                                {
                                    "(No column name)": "2"
                                },
                                {
                                    "(No column name)": "9"
                                },
                                {
                                    "(No column name)": "7"
                                },
                                {
                                    "(No column name)": "4"
                                },
                                {
                                    "(No column name)": "5"
                                },
                                {
                                    "(No column name)": "5"
                                },
                                {
                                    "(No column name)": "2"
                                },
                                {
                                    "(No column name)": "6"
                                },
                                {
                                    "(No column name)": "8"
                                },
                                {
                                    "(No column name)": "2"
                                },
                                {
                                    "(No column name)": "4"
                                },
                                {
                                    "(No column name)": "13"
                                },
                                {
                                    "(No column name)": "7"
                                },
                                {
                                    "(No column name)": "1"
                                },
                                {
                                    "(No column name)": "5"
                                },
                                {
                                    "(No column name)": "5"
                                },
                                {
                                    "(No column name)": "4"
                                },
                                {
                                    "(No column name)": "6"
                                },
                                {
                                    "(No column name)": "1"
                                },
                                {
                                    "(No column name)": "4"
                                },
                                {
                                    "(No column name)": "6"
                                },
                                {
                                    "(No column name)": "3"
                                },
                                {
                                    "(No column name)": "4"
                                },
                                {
                                    "(No column name)": "11"
                                },
                                {
                                    "(No column name)": "3"
                                },
                                {
                                    "(No column name)": "4"
                                },
                                {
                                    "(No column name)": "4"
                                },
                                {
                                    "(No column name)": "9"
                                },
                                {
                                    "(No column name)": "3"
                                },
                                {
                                    "(No column name)": "3"
                                },
                                {
                                    "(No column name)": "6"
                                },
                                {
                                    "(No column name)": "6"
                                },
                                {
                                    "(No column name)": "5"
                                },
                                {
                                    "(No column name)": "7"
                                },
                                {
                                    "(No column name)": "5"
                                },
                                {
                                    "(No column name)": "6"
                                },
                                {
                                    "(No column name)": "8"
                                },
                                {
                                    "(No column name)": "4"
                                },
                                {
                                    "(No column name)": "4"
                                },
                                {
                                    "(No column name)": "5"
                                },
                                {
                                    "(No column name)": "5"
                                },
                                {
                                    "(No column name)": "8"
                                },
                                {
                                    "(No column name)": "8"
                                },
                                {
                                    "(No column name)": "4"
                                },
                                {
                                    "(No column name)": "4"
                                },
                                {
                                    "(No column name)": "6"
                                },
                                {
                                    "(No column name)": "5"
                                },
                                {
                                    "(No column name)": "10"
                                },
                                {
                                    "(No column name)": "4"
                                },
                                {
                                    "(No column name)": "7"
                                },
                                {
                                    "(No column name)": "7"
                                },
                                {
                                    "(No column name)": "4"
                                },
                                {
                                    "(No column name)": "5"
                                },
                                {
                                    "(No column name)": "4"
                                },
                                {
                                    "(No column name)": "3"
                                },
                                {
                                    "(No column name)": "2"
                                },
                                {
                                    "(No column name)": "4"
                                },
                                {
                                    "(No column name)": "4"
                                },
                                {
                                    "(No column name)": "2"
                                },
                                {
                                    "(No column name)": "6"
                                },
                                {
                                    "(No column name)": "5"
                                },
                                {
                                    "(No column name)": "2"
                                },
                                {
                                    "(No column name)": "7"
                                },
                                {
                                    "(No column name)": "8"
                                },
                                {
                                    "(No column name)": "5"
                                },
                                {
                                    "(No column name)": "5"
                                },
                                {
                                    "(No column name)": "5"
                                },
                                {
                                    "(No column name)": "4"
                                },
                                {
                                    "(No column name)": "7"
                                },
                                {
                                    "(No column name)": "2"
                                },
                                {
                                    "(No column name)": "8"
                                },
                                {
                                    "(No column name)": "7"
                                },
                                {
                                    "(No column name)": "5"
                                },
                                {
                                    "(No column name)": "6"
                                },
                                {
                                    "(No column name)": "8"
                                },
                                {
                                    "(No column name)": "9"
                                },
                                {
                                    "(No column name)": "5"
                                },
                                {
                                    "(No column name)": "6"
                                },
                                {
                                    "(No column name)": "1"
                                },
                                {
                                    "(No column name)": "6"
                                },
                                {
                                    "(No column name)": "7"
                                },
                                {
                                    "(No column name)": "5"
                                },
                                {
                                    "(No column name)": "4"
                                },
                                {
                                    "(No column name)": "6"
                                },
                                {
                                    "(No column name)": "5"
                                },
                                {
                                    "(No column name)": "6"
                                },
                                {
                                    "(No column name)": "6"
                                },
                                {
                                    "(No column name)": "6"
                                },
                                {
                                    "(No column name)": "3"
                                },
                                {
                                    "(No column name)": "3"
                                },
                                {
                                    "(No column name)": "6"
                                },
                                {
                                    "(No column name)": "7"
                                },
                                {
                                    "(No column name)": "7"
                                },
                                {
                                    "(No column name)": "8"
                                },
                                {
                                    "(No column name)": "6"
                                },
                                {
                                    "(No column name)": "2"
                                },
                                {
                                    "(No column name)": "7"
                                },
                                {
                                    "(No column name)": "5"
                                },
                                {
                                    "(No column name)": "6"
                                },
                                {
                                    "(No column name)": "6"
                                },
                                {
                                    "(No column name)": "1"
                                },
                                {
                                    "(No column name)": "6"
                                },
                                {
                                    "(No column name)": "7"
                                },
                                {
                                    "(No column name)": "6"
                                },
                                {
                                    "(No column name)": "3"
                                },
                                {
                                    "(No column name)": "4"
                                },
                                {
                                    "(No column name)": "5"
                                },
                                {
                                    "(No column name)": "5"
                                },
                                {
                                    "(No column name)": "5"
                                },
                                {
                                    "(No column name)": "7"
                                },
                                {
                                    "(No column name)": "5"
                                },
                                {
                                    "(No column name)": "3"
                                },
                                {
                                    "(No column name)": "5"
                                },
                                {
                                    "(No column name)": "6"
                                },
                                {
                                    "(No column name)": "3"
                                },
                                {
                                    "(No column name)": "7"
                                },
                                {
                                    "(No column name)": "5"
                                },
                                {
                                    "(No column name)": "7"
                                },
                                {
                                    "(No column name)": "3"
                                },
                                {
                                    "(No column name)": "2"
                                },
                                {
                                    "(No column name)": "5"
                                },
                                {
                                    "(No column name)": "6"
                                },
                                {
                                    "(No column name)": "5"
                                },
                                {
                                    "(No column name)": "5"
                                },
                                {
                                    "(No column name)": "9"
                                },
                                {
                                    "(No column name)": "4"
                                },
                                {
                                    "(No column name)": "4"
                                },
                                {
                                    "(No column name)": "5"
                                },
                                {
                                    "(No column name)": "6"
                                },
                                {
                                    "(No column name)": "4"
                                },
                                {
                                    "(No column name)": "4"
                                },
                                {
                                    "(No column name)": "3"
                                },
                                {
                                    "(No column name)": "3"
                                },
                                {
                                    "(No column name)": "6"
                                },
                                {
                                    "(No column name)": "12"
                                },
                                {
                                    "(No column name)": "4"
                                },
                                {
                                    "(No column name)": "4"
                                },
                                {
                                    "(No column name)": "12"
                                },
                                {
                                    "(No column name)": "4"
                                },
                                {
                                    "(No column name)": "7"
                                },
                                {
                                    "(No column name)": "6"
                                },
                                {
                                    "(No column name)": "5"
                                },
                                {
                                    "(No column name)": "5"
                                },
                                {
                                    "(No column name)": "5"
                                },
                                {
                                    "(No column name)": "2"
                                },
                                {
                                    "(No column name)": "7"
                                },
                                {
                                    "(No column name)": "1"
                                },
                                {
                                    "(No column name)": "6"
                                },
                                {
                                    "(No column name)": "4"
                                },
                                {
                                    "(No column name)": "6"
                                },
                                {
                                    "(No column name)": "8"
                                }
                            ]
                        },
                        "text/html": [
                            "<table>",
                            "<tr><th>(No column name)</th></tr>",
                            "<tr><td>8</td></tr>",
                            "<tr><td>4</td></tr>",
                            "<tr><td>8</td></tr>",
                            "<tr><td>6</td></tr>",
                            "<tr><td>4</td></tr>",
                            "<tr><td>6</td></tr>",
                            "<tr><td>6</td></tr>",
                            "<tr><td>5</td></tr>",
                            "<tr><td>6</td></tr>",
                            "<tr><td>4</td></tr>",
                            "<tr><td>4</td></tr>",
                            "<tr><td>9</td></tr>",
                            "<tr><td>4</td></tr>",
                            "<tr><td>3</td></tr>",
                            "<tr><td>6</td></tr>",
                            "<tr><td>5</td></tr>",
                            "<tr><td>6</td></tr>",
                            "<tr><td>6</td></tr>",
                            "<tr><td>6</td></tr>",
                            "<tr><td>5</td></tr>",
                            "<tr><td>4</td></tr>",
                            "<tr><td>6</td></tr>",
                            "<tr><td>3</td></tr>",
                            "<tr><td>3</td></tr>",
                            "<tr><td>2</td></tr>",
                            "<tr><td>2</td></tr>",
                            "<tr><td>7</td></tr>",
                            "<tr><td>6</td></tr>",
                            "<tr><td>6</td></tr>",
                            "<tr><td>3</td></tr>",
                            "<tr><td>3</td></tr>",
                            "<tr><td>1</td></tr>",
                            "<tr><td>6</td></tr>",
                            "<tr><td>4</td></tr>",
                            "<tr><td>9</td></tr>",
                            "<tr><td>6</td></tr>",
                            "<tr><td>3</td></tr>",
                            "<tr><td>8</td></tr>",
                            "<tr><td>7</td></tr>",
                            "<tr><td>4</td></tr>",
                            "<tr><td>2</td></tr>",
                            "<tr><td>6</td></tr>",
                            "<tr><td>8</td></tr>",
                            "<tr><td>6</td></tr>",
                            "<tr><td>5</td></tr>",
                            "<tr><td>4</td></tr>",
                            "<tr><td>2</td></tr>",
                            "<tr><td>9</td></tr>",
                            "<tr><td>7</td></tr>",
                            "<tr><td>4</td></tr>",
                            "<tr><td>5</td></tr>",
                            "<tr><td>5</td></tr>",
                            "<tr><td>2</td></tr>",
                            "<tr><td>6</td></tr>",
                            "<tr><td>8</td></tr>",
                            "<tr><td>2</td></tr>",
                            "<tr><td>4</td></tr>",
                            "<tr><td>13</td></tr>",
                            "<tr><td>7</td></tr>",
                            "<tr><td>1</td></tr>",
                            "<tr><td>5</td></tr>",
                            "<tr><td>5</td></tr>",
                            "<tr><td>4</td></tr>",
                            "<tr><td>6</td></tr>",
                            "<tr><td>1</td></tr>",
                            "<tr><td>4</td></tr>",
                            "<tr><td>6</td></tr>",
                            "<tr><td>3</td></tr>",
                            "<tr><td>4</td></tr>",
                            "<tr><td>11</td></tr>",
                            "<tr><td>3</td></tr>",
                            "<tr><td>4</td></tr>",
                            "<tr><td>4</td></tr>",
                            "<tr><td>9</td></tr>",
                            "<tr><td>3</td></tr>",
                            "<tr><td>3</td></tr>",
                            "<tr><td>6</td></tr>",
                            "<tr><td>6</td></tr>",
                            "<tr><td>5</td></tr>",
                            "<tr><td>7</td></tr>",
                            "<tr><td>5</td></tr>",
                            "<tr><td>6</td></tr>",
                            "<tr><td>8</td></tr>",
                            "<tr><td>4</td></tr>",
                            "<tr><td>4</td></tr>",
                            "<tr><td>5</td></tr>",
                            "<tr><td>5</td></tr>",
                            "<tr><td>8</td></tr>",
                            "<tr><td>8</td></tr>",
                            "<tr><td>4</td></tr>",
                            "<tr><td>4</td></tr>",
                            "<tr><td>6</td></tr>",
                            "<tr><td>5</td></tr>",
                            "<tr><td>10</td></tr>",
                            "<tr><td>4</td></tr>",
                            "<tr><td>7</td></tr>",
                            "<tr><td>7</td></tr>",
                            "<tr><td>4</td></tr>",
                            "<tr><td>5</td></tr>",
                            "<tr><td>4</td></tr>",
                            "<tr><td>3</td></tr>",
                            "<tr><td>2</td></tr>",
                            "<tr><td>4</td></tr>",
                            "<tr><td>4</td></tr>",
                            "<tr><td>2</td></tr>",
                            "<tr><td>6</td></tr>",
                            "<tr><td>5</td></tr>",
                            "<tr><td>2</td></tr>",
                            "<tr><td>7</td></tr>",
                            "<tr><td>8</td></tr>",
                            "<tr><td>5</td></tr>",
                            "<tr><td>5</td></tr>",
                            "<tr><td>5</td></tr>",
                            "<tr><td>4</td></tr>",
                            "<tr><td>7</td></tr>",
                            "<tr><td>2</td></tr>",
                            "<tr><td>8</td></tr>",
                            "<tr><td>7</td></tr>",
                            "<tr><td>5</td></tr>",
                            "<tr><td>6</td></tr>",
                            "<tr><td>8</td></tr>",
                            "<tr><td>9</td></tr>",
                            "<tr><td>5</td></tr>",
                            "<tr><td>6</td></tr>",
                            "<tr><td>1</td></tr>",
                            "<tr><td>6</td></tr>",
                            "<tr><td>7</td></tr>",
                            "<tr><td>5</td></tr>",
                            "<tr><td>4</td></tr>",
                            "<tr><td>6</td></tr>",
                            "<tr><td>5</td></tr>",
                            "<tr><td>6</td></tr>",
                            "<tr><td>6</td></tr>",
                            "<tr><td>6</td></tr>",
                            "<tr><td>3</td></tr>",
                            "<tr><td>3</td></tr>",
                            "<tr><td>6</td></tr>",
                            "<tr><td>7</td></tr>",
                            "<tr><td>7</td></tr>",
                            "<tr><td>8</td></tr>",
                            "<tr><td>6</td></tr>",
                            "<tr><td>2</td></tr>",
                            "<tr><td>7</td></tr>",
                            "<tr><td>5</td></tr>",
                            "<tr><td>6</td></tr>",
                            "<tr><td>6</td></tr>",
                            "<tr><td>1</td></tr>",
                            "<tr><td>6</td></tr>",
                            "<tr><td>7</td></tr>",
                            "<tr><td>6</td></tr>",
                            "<tr><td>3</td></tr>",
                            "<tr><td>4</td></tr>",
                            "<tr><td>5</td></tr>",
                            "<tr><td>5</td></tr>",
                            "<tr><td>5</td></tr>",
                            "<tr><td>7</td></tr>",
                            "<tr><td>5</td></tr>",
                            "<tr><td>3</td></tr>",
                            "<tr><td>5</td></tr>",
                            "<tr><td>6</td></tr>",
                            "<tr><td>3</td></tr>",
                            "<tr><td>7</td></tr>",
                            "<tr><td>5</td></tr>",
                            "<tr><td>7</td></tr>",
                            "<tr><td>3</td></tr>",
                            "<tr><td>2</td></tr>",
                            "<tr><td>5</td></tr>",
                            "<tr><td>6</td></tr>",
                            "<tr><td>5</td></tr>",
                            "<tr><td>5</td></tr>",
                            "<tr><td>9</td></tr>",
                            "<tr><td>4</td></tr>",
                            "<tr><td>4</td></tr>",
                            "<tr><td>5</td></tr>",
                            "<tr><td>6</td></tr>",
                            "<tr><td>4</td></tr>",
                            "<tr><td>4</td></tr>",
                            "<tr><td>3</td></tr>",
                            "<tr><td>3</td></tr>",
                            "<tr><td>6</td></tr>",
                            "<tr><td>12</td></tr>",
                            "<tr><td>4</td></tr>",
                            "<tr><td>4</td></tr>",
                            "<tr><td>12</td></tr>",
                            "<tr><td>4</td></tr>",
                            "<tr><td>7</td></tr>",
                            "<tr><td>6</td></tr>",
                            "<tr><td>5</td></tr>",
                            "<tr><td>5</td></tr>",
                            "<tr><td>5</td></tr>",
                            "<tr><td>2</td></tr>",
                            "<tr><td>7</td></tr>",
                            "<tr><td>1</td></tr>",
                            "<tr><td>6</td></tr>",
                            "<tr><td>4</td></tr>",
                            "<tr><td>6</td></tr>",
                            "<tr><td>8</td></tr>",
                            "</table>"
                        ]
                    }
                }
            ],
            "execution_count": 29
        },
        {
            "cell_type": "code",
            "source": [
                "SELECT COUNT(f.SZOBA_FK)\r\n",
                "FROM szoba sz join Foglalas f on sz.SZOBA_ID=f.SZOBA_FK\r\n",
                "GROUP BY f.METTOL\r\n",
                "ORDER BY f.METTOL"
            ],
            "metadata": {
                "language": "sql",
                "azdata_cell_guid": "a7c726db-b7d5-40a4-9589-02e891281817"
            },
            "outputs": [
                {
                    "output_type": "display_data",
                    "data": {
                        "text/html": "(332 rows affected)"
                    },
                    "metadata": {}
                },
                {
                    "output_type": "display_data",
                    "data": {
                        "text/html": "Total execution time: 00:00:00.013"
                    },
                    "metadata": {}
                },
                {
                    "output_type": "execute_result",
                    "metadata": {},
                    "execution_count": 30,
                    "data": {
                        "application/vnd.dataresource+json": {
                            "schema": {
                                "fields": [
                                    {
                                        "name": "(No column name)"
                                    }
                                ]
                            },
                            "data": [
                                {
                                    "(No column name)": "5"
                                },
                                {
                                    "(No column name)": "1"
                                },
                                {
                                    "(No column name)": "2"
                                },
                                {
                                    "(No column name)": "1"
                                },
                                {
                                    "(No column name)": "9"
                                },
                                {
                                    "(No column name)": "1"
                                },
                                {
                                    "(No column name)": "1"
                                },
                                {
                                    "(No column name)": "1"
                                },
                                {
                                    "(No column name)": "2"
                                },
                                {
                                    "(No column name)": "1"
                                },
                                {
                                    "(No column name)": "2"
                                },
                                {
                                    "(No column name)": "2"
                                },
                                {
                                    "(No column name)": "1"
                                },
                                {
                                    "(No column name)": "4"
                                },
                                {
                                    "(No column name)": "1"
                                },
                                {
                                    "(No column name)": "2"
                                },
                                {
                                    "(No column name)": "2"
                                },
                                {
                                    "(No column name)": "2"
                                },
                                {
                                    "(No column name)": "3"
                                },
                                {
                                    "(No column name)": "1"
                                },
                                {
                                    "(No column name)": "2"
                                },
                                {
                                    "(No column name)": "3"
                                },
                                {
                                    "(No column name)": "2"
                                },
                                {
                                    "(No column name)": "1"
                                },
                                {
                                    "(No column name)": "1"
                                },
                                {
                                    "(No column name)": "5"
                                },
                                {
                                    "(No column name)": "2"
                                },
                                {
                                    "(No column name)": "1"
                                },
                                {
                                    "(No column name)": "1"
                                },
                                {
                                    "(No column name)": "1"
                                },
                                {
                                    "(No column name)": "1"
                                },
                                {
                                    "(No column name)": "1"
                                },
                                {
                                    "(No column name)": "5"
                                },
                                {
                                    "(No column name)": "7"
                                },
                                {
                                    "(No column name)": "2"
                                },
                                {
                                    "(No column name)": "1"
                                },
                                {
                                    "(No column name)": "3"
                                },
                                {
                                    "(No column name)": "2"
                                },
                                {
                                    "(No column name)": "4"
                                },
                                {
                                    "(No column name)": "1"
                                },
                                {
                                    "(No column name)": "1"
                                },
                                {
                                    "(No column name)": "3"
                                },
                                {
                                    "(No column name)": "4"
                                },
                                {
                                    "(No column name)": "1"
                                },
                                {
                                    "(No column name)": "1"
                                },
                                {
                                    "(No column name)": "5"
                                },
                                {
                                    "(No column name)": "2"
                                },
                                {
                                    "(No column name)": "1"
                                },
                                {
                                    "(No column name)": "4"
                                },
                                {
                                    "(No column name)": "2"
                                },
                                {
                                    "(No column name)": "1"
                                },
                                {
                                    "(No column name)": "3"
                                },
                                {
                                    "(No column name)": "8"
                                },
                                {
                                    "(No column name)": "3"
                                },
                                {
                                    "(No column name)": "11"
                                },
                                {
                                    "(No column name)": "1"
                                },
                                {
                                    "(No column name)": "2"
                                },
                                {
                                    "(No column name)": "4"
                                },
                                {
                                    "(No column name)": "9"
                                },
                                {
                                    "(No column name)": "6"
                                },
                                {
                                    "(No column name)": "2"
                                },
                                {
                                    "(No column name)": "14"
                                },
                                {
                                    "(No column name)": "11"
                                },
                                {
                                    "(No column name)": "4"
                                },
                                {
                                    "(No column name)": "3"
                                },
                                {
                                    "(No column name)": "10"
                                },
                                {
                                    "(No column name)": "2"
                                },
                                {
                                    "(No column name)": "1"
                                },
                                {
                                    "(No column name)": "5"
                                },
                                {
                                    "(No column name)": "1"
                                },
                                {
                                    "(No column name)": "1"
                                },
                                {
                                    "(No column name)": "8"
                                },
                                {
                                    "(No column name)": "2"
                                },
                                {
                                    "(No column name)": "1"
                                },
                                {
                                    "(No column name)": "1"
                                },
                                {
                                    "(No column name)": "2"
                                },
                                {
                                    "(No column name)": "1"
                                },
                                {
                                    "(No column name)": "4"
                                },
                                {
                                    "(No column name)": "4"
                                },
                                {
                                    "(No column name)": "2"
                                },
                                {
                                    "(No column name)": "1"
                                },
                                {
                                    "(No column name)": "1"
                                },
                                {
                                    "(No column name)": "3"
                                },
                                {
                                    "(No column name)": "1"
                                },
                                {
                                    "(No column name)": "1"
                                },
                                {
                                    "(No column name)": "3"
                                },
                                {
                                    "(No column name)": "5"
                                },
                                {
                                    "(No column name)": "1"
                                },
                                {
                                    "(No column name)": "5"
                                },
                                {
                                    "(No column name)": "5"
                                },
                                {
                                    "(No column name)": "1"
                                },
                                {
                                    "(No column name)": "3"
                                },
                                {
                                    "(No column name)": "1"
                                },
                                {
                                    "(No column name)": "3"
                                },
                                {
                                    "(No column name)": "2"
                                },
                                {
                                    "(No column name)": "2"
                                },
                                {
                                    "(No column name)": "1"
                                },
                                {
                                    "(No column name)": "3"
                                },
                                {
                                    "(No column name)": "5"
                                },
                                {
                                    "(No column name)": "6"
                                },
                                {
                                    "(No column name)": "2"
                                },
                                {
                                    "(No column name)": "2"
                                },
                                {
                                    "(No column name)": "3"
                                },
                                {
                                    "(No column name)": "7"
                                },
                                {
                                    "(No column name)": "3"
                                },
                                {
                                    "(No column name)": "10"
                                },
                                {
                                    "(No column name)": "2"
                                },
                                {
                                    "(No column name)": "4"
                                },
                                {
                                    "(No column name)": "2"
                                },
                                {
                                    "(No column name)": "5"
                                },
                                {
                                    "(No column name)": "2"
                                },
                                {
                                    "(No column name)": "2"
                                },
                                {
                                    "(No column name)": "11"
                                },
                                {
                                    "(No column name)": "7"
                                },
                                {
                                    "(No column name)": "2"
                                },
                                {
                                    "(No column name)": "4"
                                },
                                {
                                    "(No column name)": "2"
                                },
                                {
                                    "(No column name)": "4"
                                },
                                {
                                    "(No column name)": "2"
                                },
                                {
                                    "(No column name)": "4"
                                },
                                {
                                    "(No column name)": "2"
                                },
                                {
                                    "(No column name)": "3"
                                },
                                {
                                    "(No column name)": "3"
                                },
                                {
                                    "(No column name)": "1"
                                },
                                {
                                    "(No column name)": "1"
                                },
                                {
                                    "(No column name)": "2"
                                },
                                {
                                    "(No column name)": "1"
                                },
                                {
                                    "(No column name)": "1"
                                },
                                {
                                    "(No column name)": "6"
                                },
                                {
                                    "(No column name)": "2"
                                },
                                {
                                    "(No column name)": "3"
                                },
                                {
                                    "(No column name)": "2"
                                },
                                {
                                    "(No column name)": "12"
                                },
                                {
                                    "(No column name)": "4"
                                },
                                {
                                    "(No column name)": "2"
                                },
                                {
                                    "(No column name)": "1"
                                },
                                {
                                    "(No column name)": "5"
                                },
                                {
                                    "(No column name)": "2"
                                },
                                {
                                    "(No column name)": "1"
                                },
                                {
                                    "(No column name)": "5"
                                },
                                {
                                    "(No column name)": "10"
                                },
                                {
                                    "(No column name)": "3"
                                },
                                {
                                    "(No column name)": "2"
                                },
                                {
                                    "(No column name)": "1"
                                },
                                {
                                    "(No column name)": "5"
                                },
                                {
                                    "(No column name)": "6"
                                },
                                {
                                    "(No column name)": "1"
                                },
                                {
                                    "(No column name)": "2"
                                },
                                {
                                    "(No column name)": "1"
                                },
                                {
                                    "(No column name)": "3"
                                },
                                {
                                    "(No column name)": "1"
                                },
                                {
                                    "(No column name)": "1"
                                },
                                {
                                    "(No column name)": "7"
                                },
                                {
                                    "(No column name)": "1"
                                },
                                {
                                    "(No column name)": "1"
                                },
                                {
                                    "(No column name)": "3"
                                },
                                {
                                    "(No column name)": "2"
                                },
                                {
                                    "(No column name)": "2"
                                },
                                {
                                    "(No column name)": "1"
                                },
                                {
                                    "(No column name)": "3"
                                },
                                {
                                    "(No column name)": "4"
                                },
                                {
                                    "(No column name)": "2"
                                },
                                {
                                    "(No column name)": "3"
                                },
                                {
                                    "(No column name)": "3"
                                },
                                {
                                    "(No column name)": "4"
                                },
                                {
                                    "(No column name)": "4"
                                },
                                {
                                    "(No column name)": "4"
                                },
                                {
                                    "(No column name)": "2"
                                },
                                {
                                    "(No column name)": "1"
                                },
                                {
                                    "(No column name)": "1"
                                },
                                {
                                    "(No column name)": "4"
                                },
                                {
                                    "(No column name)": "1"
                                },
                                {
                                    "(No column name)": "1"
                                },
                                {
                                    "(No column name)": "2"
                                },
                                {
                                    "(No column name)": "1"
                                },
                                {
                                    "(No column name)": "3"
                                },
                                {
                                    "(No column name)": "2"
                                },
                                {
                                    "(No column name)": "8"
                                },
                                {
                                    "(No column name)": "18"
                                },
                                {
                                    "(No column name)": "1"
                                },
                                {
                                    "(No column name)": "3"
                                },
                                {
                                    "(No column name)": "3"
                                },
                                {
                                    "(No column name)": "2"
                                },
                                {
                                    "(No column name)": "2"
                                },
                                {
                                    "(No column name)": "2"
                                },
                                {
                                    "(No column name)": "7"
                                },
                                {
                                    "(No column name)": "11"
                                },
                                {
                                    "(No column name)": "2"
                                },
                                {
                                    "(No column name)": "1"
                                },
                                {
                                    "(No column name)": "1"
                                },
                                {
                                    "(No column name)": "1"
                                },
                                {
                                    "(No column name)": "1"
                                },
                                {
                                    "(No column name)": "6"
                                },
                                {
                                    "(No column name)": "3"
                                },
                                {
                                    "(No column name)": "3"
                                },
                                {
                                    "(No column name)": "1"
                                },
                                {
                                    "(No column name)": "4"
                                },
                                {
                                    "(No column name)": "4"
                                },
                                {
                                    "(No column name)": "4"
                                },
                                {
                                    "(No column name)": "4"
                                },
                                {
                                    "(No column name)": "7"
                                },
                                {
                                    "(No column name)": "3"
                                },
                                {
                                    "(No column name)": "1"
                                },
                                {
                                    "(No column name)": "12"
                                },
                                {
                                    "(No column name)": "4"
                                },
                                {
                                    "(No column name)": "6"
                                },
                                {
                                    "(No column name)": "5"
                                },
                                {
                                    "(No column name)": "14"
                                },
                                {
                                    "(No column name)": "1"
                                },
                                {
                                    "(No column name)": "3"
                                },
                                {
                                    "(No column name)": "1"
                                },
                                {
                                    "(No column name)": "7"
                                },
                                {
                                    "(No column name)": "1"
                                },
                                {
                                    "(No column name)": "8"
                                },
                                {
                                    "(No column name)": "3"
                                },
                                {
                                    "(No column name)": "6"
                                },
                                {
                                    "(No column name)": "4"
                                },
                                {
                                    "(No column name)": "3"
                                },
                                {
                                    "(No column name)": "4"
                                },
                                {
                                    "(No column name)": "2"
                                },
                                {
                                    "(No column name)": "2"
                                },
                                {
                                    "(No column name)": "1"
                                },
                                {
                                    "(No column name)": "1"
                                },
                                {
                                    "(No column name)": "3"
                                },
                                {
                                    "(No column name)": "4"
                                },
                                {
                                    "(No column name)": "2"
                                },
                                {
                                    "(No column name)": "1"
                                },
                                {
                                    "(No column name)": "8"
                                },
                                {
                                    "(No column name)": "1"
                                },
                                {
                                    "(No column name)": "2"
                                },
                                {
                                    "(No column name)": "6"
                                },
                                {
                                    "(No column name)": "8"
                                },
                                {
                                    "(No column name)": "1"
                                },
                                {
                                    "(No column name)": "6"
                                },
                                {
                                    "(No column name)": "1"
                                },
                                {
                                    "(No column name)": "3"
                                },
                                {
                                    "(No column name)": "3"
                                },
                                {
                                    "(No column name)": "4"
                                },
                                {
                                    "(No column name)": "1"
                                },
                                {
                                    "(No column name)": "2"
                                },
                                {
                                    "(No column name)": "3"
                                },
                                {
                                    "(No column name)": "1"
                                },
                                {
                                    "(No column name)": "3"
                                },
                                {
                                    "(No column name)": "4"
                                },
                                {
                                    "(No column name)": "5"
                                },
                                {
                                    "(No column name)": "3"
                                },
                                {
                                    "(No column name)": "1"
                                },
                                {
                                    "(No column name)": "1"
                                },
                                {
                                    "(No column name)": "1"
                                },
                                {
                                    "(No column name)": "1"
                                },
                                {
                                    "(No column name)": "1"
                                },
                                {
                                    "(No column name)": "1"
                                },
                                {
                                    "(No column name)": "2"
                                },
                                {
                                    "(No column name)": "3"
                                },
                                {
                                    "(No column name)": "1"
                                },
                                {
                                    "(No column name)": "10"
                                },
                                {
                                    "(No column name)": "2"
                                },
                                {
                                    "(No column name)": "1"
                                },
                                {
                                    "(No column name)": "1"
                                },
                                {
                                    "(No column name)": "1"
                                },
                                {
                                    "(No column name)": "3"
                                },
                                {
                                    "(No column name)": "1"
                                },
                                {
                                    "(No column name)": "3"
                                },
                                {
                                    "(No column name)": "9"
                                },
                                {
                                    "(No column name)": "3"
                                },
                                {
                                    "(No column name)": "1"
                                },
                                {
                                    "(No column name)": "1"
                                },
                                {
                                    "(No column name)": "5"
                                },
                                {
                                    "(No column name)": "1"
                                },
                                {
                                    "(No column name)": "1"
                                },
                                {
                                    "(No column name)": "4"
                                },
                                {
                                    "(No column name)": "2"
                                },
                                {
                                    "(No column name)": "3"
                                },
                                {
                                    "(No column name)": "1"
                                },
                                {
                                    "(No column name)": "3"
                                },
                                {
                                    "(No column name)": "2"
                                },
                                {
                                    "(No column name)": "1"
                                },
                                {
                                    "(No column name)": "1"
                                },
                                {
                                    "(No column name)": "5"
                                },
                                {
                                    "(No column name)": "2"
                                },
                                {
                                    "(No column name)": "1"
                                },
                                {
                                    "(No column name)": "2"
                                },
                                {
                                    "(No column name)": "2"
                                },
                                {
                                    "(No column name)": "1"
                                },
                                {
                                    "(No column name)": "2"
                                },
                                {
                                    "(No column name)": "8"
                                },
                                {
                                    "(No column name)": "5"
                                },
                                {
                                    "(No column name)": "2"
                                },
                                {
                                    "(No column name)": "3"
                                },
                                {
                                    "(No column name)": "1"
                                },
                                {
                                    "(No column name)": "1"
                                },
                                {
                                    "(No column name)": "7"
                                },
                                {
                                    "(No column name)": "4"
                                },
                                {
                                    "(No column name)": "2"
                                },
                                {
                                    "(No column name)": "1"
                                },
                                {
                                    "(No column name)": "1"
                                },
                                {
                                    "(No column name)": "1"
                                },
                                {
                                    "(No column name)": "3"
                                },
                                {
                                    "(No column name)": "2"
                                },
                                {
                                    "(No column name)": "3"
                                },
                                {
                                    "(No column name)": "1"
                                },
                                {
                                    "(No column name)": "2"
                                },
                                {
                                    "(No column name)": "1"
                                },
                                {
                                    "(No column name)": "3"
                                },
                                {
                                    "(No column name)": "6"
                                },
                                {
                                    "(No column name)": "5"
                                },
                                {
                                    "(No column name)": "3"
                                },
                                {
                                    "(No column name)": "1"
                                },
                                {
                                    "(No column name)": "5"
                                },
                                {
                                    "(No column name)": "2"
                                },
                                {
                                    "(No column name)": "2"
                                },
                                {
                                    "(No column name)": "1"
                                },
                                {
                                    "(No column name)": "9"
                                },
                                {
                                    "(No column name)": "5"
                                },
                                {
                                    "(No column name)": "3"
                                },
                                {
                                    "(No column name)": "1"
                                },
                                {
                                    "(No column name)": "9"
                                },
                                {
                                    "(No column name)": "2"
                                },
                                {
                                    "(No column name)": "4"
                                },
                                {
                                    "(No column name)": "1"
                                },
                                {
                                    "(No column name)": "4"
                                },
                                {
                                    "(No column name)": "3"
                                },
                                {
                                    "(No column name)": "1"
                                },
                                {
                                    "(No column name)": "6"
                                },
                                {
                                    "(No column name)": "5"
                                },
                                {
                                    "(No column name)": "2"
                                },
                                {
                                    "(No column name)": "4"
                                },
                                {
                                    "(No column name)": "2"
                                },
                                {
                                    "(No column name)": "1"
                                },
                                {
                                    "(No column name)": "2"
                                },
                                {
                                    "(No column name)": "1"
                                },
                                {
                                    "(No column name)": "2"
                                }
                            ]
                        },
                        "text/html": [
                            "<table>",
                            "<tr><th>(No column name)</th></tr>",
                            "<tr><td>5</td></tr>",
                            "<tr><td>1</td></tr>",
                            "<tr><td>2</td></tr>",
                            "<tr><td>1</td></tr>",
                            "<tr><td>9</td></tr>",
                            "<tr><td>1</td></tr>",
                            "<tr><td>1</td></tr>",
                            "<tr><td>1</td></tr>",
                            "<tr><td>2</td></tr>",
                            "<tr><td>1</td></tr>",
                            "<tr><td>2</td></tr>",
                            "<tr><td>2</td></tr>",
                            "<tr><td>1</td></tr>",
                            "<tr><td>4</td></tr>",
                            "<tr><td>1</td></tr>",
                            "<tr><td>2</td></tr>",
                            "<tr><td>2</td></tr>",
                            "<tr><td>2</td></tr>",
                            "<tr><td>3</td></tr>",
                            "<tr><td>1</td></tr>",
                            "<tr><td>2</td></tr>",
                            "<tr><td>3</td></tr>",
                            "<tr><td>2</td></tr>",
                            "<tr><td>1</td></tr>",
                            "<tr><td>1</td></tr>",
                            "<tr><td>5</td></tr>",
                            "<tr><td>2</td></tr>",
                            "<tr><td>1</td></tr>",
                            "<tr><td>1</td></tr>",
                            "<tr><td>1</td></tr>",
                            "<tr><td>1</td></tr>",
                            "<tr><td>1</td></tr>",
                            "<tr><td>5</td></tr>",
                            "<tr><td>7</td></tr>",
                            "<tr><td>2</td></tr>",
                            "<tr><td>1</td></tr>",
                            "<tr><td>3</td></tr>",
                            "<tr><td>2</td></tr>",
                            "<tr><td>4</td></tr>",
                            "<tr><td>1</td></tr>",
                            "<tr><td>1</td></tr>",
                            "<tr><td>3</td></tr>",
                            "<tr><td>4</td></tr>",
                            "<tr><td>1</td></tr>",
                            "<tr><td>1</td></tr>",
                            "<tr><td>5</td></tr>",
                            "<tr><td>2</td></tr>",
                            "<tr><td>1</td></tr>",
                            "<tr><td>4</td></tr>",
                            "<tr><td>2</td></tr>",
                            "<tr><td>1</td></tr>",
                            "<tr><td>3</td></tr>",
                            "<tr><td>8</td></tr>",
                            "<tr><td>3</td></tr>",
                            "<tr><td>11</td></tr>",
                            "<tr><td>1</td></tr>",
                            "<tr><td>2</td></tr>",
                            "<tr><td>4</td></tr>",
                            "<tr><td>9</td></tr>",
                            "<tr><td>6</td></tr>",
                            "<tr><td>2</td></tr>",
                            "<tr><td>14</td></tr>",
                            "<tr><td>11</td></tr>",
                            "<tr><td>4</td></tr>",
                            "<tr><td>3</td></tr>",
                            "<tr><td>10</td></tr>",
                            "<tr><td>2</td></tr>",
                            "<tr><td>1</td></tr>",
                            "<tr><td>5</td></tr>",
                            "<tr><td>1</td></tr>",
                            "<tr><td>1</td></tr>",
                            "<tr><td>8</td></tr>",
                            "<tr><td>2</td></tr>",
                            "<tr><td>1</td></tr>",
                            "<tr><td>1</td></tr>",
                            "<tr><td>2</td></tr>",
                            "<tr><td>1</td></tr>",
                            "<tr><td>4</td></tr>",
                            "<tr><td>4</td></tr>",
                            "<tr><td>2</td></tr>",
                            "<tr><td>1</td></tr>",
                            "<tr><td>1</td></tr>",
                            "<tr><td>3</td></tr>",
                            "<tr><td>1</td></tr>",
                            "<tr><td>1</td></tr>",
                            "<tr><td>3</td></tr>",
                            "<tr><td>5</td></tr>",
                            "<tr><td>1</td></tr>",
                            "<tr><td>5</td></tr>",
                            "<tr><td>5</td></tr>",
                            "<tr><td>1</td></tr>",
                            "<tr><td>3</td></tr>",
                            "<tr><td>1</td></tr>",
                            "<tr><td>3</td></tr>",
                            "<tr><td>2</td></tr>",
                            "<tr><td>2</td></tr>",
                            "<tr><td>1</td></tr>",
                            "<tr><td>3</td></tr>",
                            "<tr><td>5</td></tr>",
                            "<tr><td>6</td></tr>",
                            "<tr><td>2</td></tr>",
                            "<tr><td>2</td></tr>",
                            "<tr><td>3</td></tr>",
                            "<tr><td>7</td></tr>",
                            "<tr><td>3</td></tr>",
                            "<tr><td>10</td></tr>",
                            "<tr><td>2</td></tr>",
                            "<tr><td>4</td></tr>",
                            "<tr><td>2</td></tr>",
                            "<tr><td>5</td></tr>",
                            "<tr><td>2</td></tr>",
                            "<tr><td>2</td></tr>",
                            "<tr><td>11</td></tr>",
                            "<tr><td>7</td></tr>",
                            "<tr><td>2</td></tr>",
                            "<tr><td>4</td></tr>",
                            "<tr><td>2</td></tr>",
                            "<tr><td>4</td></tr>",
                            "<tr><td>2</td></tr>",
                            "<tr><td>4</td></tr>",
                            "<tr><td>2</td></tr>",
                            "<tr><td>3</td></tr>",
                            "<tr><td>3</td></tr>",
                            "<tr><td>1</td></tr>",
                            "<tr><td>1</td></tr>",
                            "<tr><td>2</td></tr>",
                            "<tr><td>1</td></tr>",
                            "<tr><td>1</td></tr>",
                            "<tr><td>6</td></tr>",
                            "<tr><td>2</td></tr>",
                            "<tr><td>3</td></tr>",
                            "<tr><td>2</td></tr>",
                            "<tr><td>12</td></tr>",
                            "<tr><td>4</td></tr>",
                            "<tr><td>2</td></tr>",
                            "<tr><td>1</td></tr>",
                            "<tr><td>5</td></tr>",
                            "<tr><td>2</td></tr>",
                            "<tr><td>1</td></tr>",
                            "<tr><td>5</td></tr>",
                            "<tr><td>10</td></tr>",
                            "<tr><td>3</td></tr>",
                            "<tr><td>2</td></tr>",
                            "<tr><td>1</td></tr>",
                            "<tr><td>5</td></tr>",
                            "<tr><td>6</td></tr>",
                            "<tr><td>1</td></tr>",
                            "<tr><td>2</td></tr>",
                            "<tr><td>1</td></tr>",
                            "<tr><td>3</td></tr>",
                            "<tr><td>1</td></tr>",
                            "<tr><td>1</td></tr>",
                            "<tr><td>7</td></tr>",
                            "<tr><td>1</td></tr>",
                            "<tr><td>1</td></tr>",
                            "<tr><td>3</td></tr>",
                            "<tr><td>2</td></tr>",
                            "<tr><td>2</td></tr>",
                            "<tr><td>1</td></tr>",
                            "<tr><td>3</td></tr>",
                            "<tr><td>4</td></tr>",
                            "<tr><td>2</td></tr>",
                            "<tr><td>3</td></tr>",
                            "<tr><td>3</td></tr>",
                            "<tr><td>4</td></tr>",
                            "<tr><td>4</td></tr>",
                            "<tr><td>4</td></tr>",
                            "<tr><td>2</td></tr>",
                            "<tr><td>1</td></tr>",
                            "<tr><td>1</td></tr>",
                            "<tr><td>4</td></tr>",
                            "<tr><td>1</td></tr>",
                            "<tr><td>1</td></tr>",
                            "<tr><td>2</td></tr>",
                            "<tr><td>1</td></tr>",
                            "<tr><td>3</td></tr>",
                            "<tr><td>2</td></tr>",
                            "<tr><td>8</td></tr>",
                            "<tr><td>18</td></tr>",
                            "<tr><td>1</td></tr>",
                            "<tr><td>3</td></tr>",
                            "<tr><td>3</td></tr>",
                            "<tr><td>2</td></tr>",
                            "<tr><td>2</td></tr>",
                            "<tr><td>2</td></tr>",
                            "<tr><td>7</td></tr>",
                            "<tr><td>11</td></tr>",
                            "<tr><td>2</td></tr>",
                            "<tr><td>1</td></tr>",
                            "<tr><td>1</td></tr>",
                            "<tr><td>1</td></tr>",
                            "<tr><td>1</td></tr>",
                            "<tr><td>6</td></tr>",
                            "<tr><td>3</td></tr>",
                            "<tr><td>3</td></tr>",
                            "<tr><td>1</td></tr>",
                            "<tr><td>4</td></tr>",
                            "<tr><td>4</td></tr>",
                            "<tr><td>4</td></tr>",
                            "<tr><td>4</td></tr>",
                            "<tr><td>7</td></tr>",
                            "<tr><td>3</td></tr>",
                            "<tr><td>1</td></tr>",
                            "<tr><td>12</td></tr>",
                            "<tr><td>4</td></tr>",
                            "<tr><td>6</td></tr>",
                            "<tr><td>5</td></tr>",
                            "<tr><td>14</td></tr>",
                            "<tr><td>1</td></tr>",
                            "<tr><td>3</td></tr>",
                            "<tr><td>1</td></tr>",
                            "<tr><td>7</td></tr>",
                            "<tr><td>1</td></tr>",
                            "<tr><td>8</td></tr>",
                            "<tr><td>3</td></tr>",
                            "<tr><td>6</td></tr>",
                            "<tr><td>4</td></tr>",
                            "<tr><td>3</td></tr>",
                            "<tr><td>4</td></tr>",
                            "<tr><td>2</td></tr>",
                            "<tr><td>2</td></tr>",
                            "<tr><td>1</td></tr>",
                            "<tr><td>1</td></tr>",
                            "<tr><td>3</td></tr>",
                            "<tr><td>4</td></tr>",
                            "<tr><td>2</td></tr>",
                            "<tr><td>1</td></tr>",
                            "<tr><td>8</td></tr>",
                            "<tr><td>1</td></tr>",
                            "<tr><td>2</td></tr>",
                            "<tr><td>6</td></tr>",
                            "<tr><td>8</td></tr>",
                            "<tr><td>1</td></tr>",
                            "<tr><td>6</td></tr>",
                            "<tr><td>1</td></tr>",
                            "<tr><td>3</td></tr>",
                            "<tr><td>3</td></tr>",
                            "<tr><td>4</td></tr>",
                            "<tr><td>1</td></tr>",
                            "<tr><td>2</td></tr>",
                            "<tr><td>3</td></tr>",
                            "<tr><td>1</td></tr>",
                            "<tr><td>3</td></tr>",
                            "<tr><td>4</td></tr>",
                            "<tr><td>5</td></tr>",
                            "<tr><td>3</td></tr>",
                            "<tr><td>1</td></tr>",
                            "<tr><td>1</td></tr>",
                            "<tr><td>1</td></tr>",
                            "<tr><td>1</td></tr>",
                            "<tr><td>1</td></tr>",
                            "<tr><td>1</td></tr>",
                            "<tr><td>2</td></tr>",
                            "<tr><td>3</td></tr>",
                            "<tr><td>1</td></tr>",
                            "<tr><td>10</td></tr>",
                            "<tr><td>2</td></tr>",
                            "<tr><td>1</td></tr>",
                            "<tr><td>1</td></tr>",
                            "<tr><td>1</td></tr>",
                            "<tr><td>3</td></tr>",
                            "<tr><td>1</td></tr>",
                            "<tr><td>3</td></tr>",
                            "<tr><td>9</td></tr>",
                            "<tr><td>3</td></tr>",
                            "<tr><td>1</td></tr>",
                            "<tr><td>1</td></tr>",
                            "<tr><td>5</td></tr>",
                            "<tr><td>1</td></tr>",
                            "<tr><td>1</td></tr>",
                            "<tr><td>4</td></tr>",
                            "<tr><td>2</td></tr>",
                            "<tr><td>3</td></tr>",
                            "<tr><td>1</td></tr>",
                            "<tr><td>3</td></tr>",
                            "<tr><td>2</td></tr>",
                            "<tr><td>1</td></tr>",
                            "<tr><td>1</td></tr>",
                            "<tr><td>5</td></tr>",
                            "<tr><td>2</td></tr>",
                            "<tr><td>1</td></tr>",
                            "<tr><td>2</td></tr>",
                            "<tr><td>2</td></tr>",
                            "<tr><td>1</td></tr>",
                            "<tr><td>2</td></tr>",
                            "<tr><td>8</td></tr>",
                            "<tr><td>5</td></tr>",
                            "<tr><td>2</td></tr>",
                            "<tr><td>3</td></tr>",
                            "<tr><td>1</td></tr>",
                            "<tr><td>1</td></tr>",
                            "<tr><td>7</td></tr>",
                            "<tr><td>4</td></tr>",
                            "<tr><td>2</td></tr>",
                            "<tr><td>1</td></tr>",
                            "<tr><td>1</td></tr>",
                            "<tr><td>1</td></tr>",
                            "<tr><td>3</td></tr>",
                            "<tr><td>2</td></tr>",
                            "<tr><td>3</td></tr>",
                            "<tr><td>1</td></tr>",
                            "<tr><td>2</td></tr>",
                            "<tr><td>1</td></tr>",
                            "<tr><td>3</td></tr>",
                            "<tr><td>6</td></tr>",
                            "<tr><td>5</td></tr>",
                            "<tr><td>3</td></tr>",
                            "<tr><td>1</td></tr>",
                            "<tr><td>5</td></tr>",
                            "<tr><td>2</td></tr>",
                            "<tr><td>2</td></tr>",
                            "<tr><td>1</td></tr>",
                            "<tr><td>9</td></tr>",
                            "<tr><td>5</td></tr>",
                            "<tr><td>3</td></tr>",
                            "<tr><td>1</td></tr>",
                            "<tr><td>9</td></tr>",
                            "<tr><td>2</td></tr>",
                            "<tr><td>4</td></tr>",
                            "<tr><td>1</td></tr>",
                            "<tr><td>4</td></tr>",
                            "<tr><td>3</td></tr>",
                            "<tr><td>1</td></tr>",
                            "<tr><td>6</td></tr>",
                            "<tr><td>5</td></tr>",
                            "<tr><td>2</td></tr>",
                            "<tr><td>4</td></tr>",
                            "<tr><td>2</td></tr>",
                            "<tr><td>1</td></tr>",
                            "<tr><td>2</td></tr>",
                            "<tr><td>1</td></tr>",
                            "<tr><td>2</td></tr>",
                            "</table>"
                        ]
                    }
                }
            ],
            "execution_count": 30
        },
        {
            "cell_type": "code",
            "source": [
                "select COUNT(f.SZOBA_FK) OVER(PARTITION by sz.SZOBA_ID, f.METTOL ORDER by sz.SZOBA_ID, f.METTOL) \r\n",
                "from szoba sz join Foglalas f on sz.SZOBA_ID=f.SZOBA_FK"
            ],
            "metadata": {
                "language": "sql",
                "azdata_cell_guid": "c1b5783d-20e1-4868-b04a-593fafec3ec5"
            },
            "outputs": [
                {
                    "output_type": "display_data",
                    "data": {
                        "text/html": "(1027 rows affected)"
                    },
                    "metadata": {}
                },
                {
                    "output_type": "display_data",
                    "data": {
                        "text/html": "Total execution time: 00:00:00.068"
                    },
                    "metadata": {}
                },
                {
                    "output_type": "execute_result",
                    "metadata": {},
                    "execution_count": 33,
                    "data": {
                        "application/vnd.dataresource+json": {
                            "schema": {
                                "fields": [
                                    {
                                        "name": "(No column name)"
                                    }
                                ]
                            },
                            "data": [
                                {
                                    "(No column name)": "1"
                                },
                                {
                                    "(No column name)": "1"
                                },
                                {
                                    "(No column name)": "1"
                                },
                                {
                                    "(No column name)": "1"
                                },
                                {
                                    "(No column name)": "1"
                                },
                                {
                                    "(No column name)": "1"
                                },
                                {
                                    "(No column name)": "1"
                                },
                                {
                                    "(No column name)": "1"
                                },
                                {
                                    "(No column name)": "1"
                                },
                                {
                                    "(No column name)": "1"
                                },
                                {
                                    "(No column name)": "1"
                                },
                                {
                                    "(No column name)": "1"
                                },
                                {
                                    "(No column name)": "1"
                                },
                                {
                                    "(No column name)": "1"
                                },
                                {
                                    "(No column name)": "1"
                                },
                                {
                                    "(No column name)": "1"
                                },
                                {
                                    "(No column name)": "1"
                                },
                                {
                                    "(No column name)": "1"
                                },
                                {
                                    "(No column name)": "1"
                                },
                                {
                                    "(No column name)": "1"
                                },
                                {
                                    "(No column name)": "1"
                                },
                                {
                                    "(No column name)": "1"
                                },
                                {
                                    "(No column name)": "1"
                                },
                                {
                                    "(No column name)": "1"
                                },
                                {
                                    "(No column name)": "1"
                                },
                                {
                                    "(No column name)": "1"
                                },
                                {
                                    "(No column name)": "1"
                                },
                                {
                                    "(No column name)": "1"
                                },
                                {
                                    "(No column name)": "1"
                                },
                                {
                                    "(No column name)": "1"
                                },
                                {
                                    "(No column name)": "1"
                                },
                                {
                                    "(No column name)": "1"
                                },
                                {
                                    "(No column name)": "1"
                                },
                                {
                                    "(No column name)": "1"
                                },
                                {
                                    "(No column name)": "1"
                                },
                                {
                                    "(No column name)": "1"
                                },
                                {
                                    "(No column name)": "1"
                                },
                                {
                                    "(No column name)": "1"
                                },
                                {
                                    "(No column name)": "1"
                                },
                                {
                                    "(No column name)": "1"
                                },
                                {
                                    "(No column name)": "1"
                                },
                                {
                                    "(No column name)": "1"
                                },
                                {
                                    "(No column name)": "1"
                                },
                                {
                                    "(No column name)": "1"
                                },
                                {
                                    "(No column name)": "1"
                                },
                                {
                                    "(No column name)": "1"
                                },
                                {
                                    "(No column name)": "1"
                                },
                                {
                                    "(No column name)": "1"
                                },
                                {
                                    "(No column name)": "1"
                                },
                                {
                                    "(No column name)": "1"
                                },
                                {
                                    "(No column name)": "1"
                                },
                                {
                                    "(No column name)": "1"
                                },
                                {
                                    "(No column name)": "1"
                                },
                                {
                                    "(No column name)": "1"
                                },
                                {
                                    "(No column name)": "1"
                                },
                                {
                                    "(No column name)": "1"
                                },
                                {
                                    "(No column name)": "1"
                                },
                                {
                                    "(No column name)": "1"
                                },
                                {
                                    "(No column name)": "1"
                                },
                                {
                                    "(No column name)": "1"
                                },
                                {
                                    "(No column name)": "1"
                                },
                                {
                                    "(No column name)": "1"
                                },
                                {
                                    "(No column name)": "1"
                                },
                                {
                                    "(No column name)": "1"
                                },
                                {
                                    "(No column name)": "1"
                                },
                                {
                                    "(No column name)": "1"
                                },
                                {
                                    "(No column name)": "1"
                                },
                                {
                                    "(No column name)": "1"
                                },
                                {
                                    "(No column name)": "1"
                                },
                                {
                                    "(No column name)": "1"
                                },
                                {
                                    "(No column name)": "1"
                                },
                                {
                                    "(No column name)": "1"
                                },
                                {
                                    "(No column name)": "1"
                                },
                                {
                                    "(No column name)": "1"
                                },
                                {
                                    "(No column name)": "1"
                                },
                                {
                                    "(No column name)": "1"
                                },
                                {
                                    "(No column name)": "1"
                                },
                                {
                                    "(No column name)": "1"
                                },
                                {
                                    "(No column name)": "1"
                                },
                                {
                                    "(No column name)": "1"
                                },
                                {
                                    "(No column name)": "1"
                                },
                                {
                                    "(No column name)": "1"
                                },
                                {
                                    "(No column name)": "1"
                                },
                                {
                                    "(No column name)": "1"
                                },
                                {
                                    "(No column name)": "1"
                                },
                                {
                                    "(No column name)": "1"
                                },
                                {
                                    "(No column name)": "1"
                                },
                                {
                                    "(No column name)": "1"
                                },
                                {
                                    "(No column name)": "1"
                                },
                                {
                                    "(No column name)": "1"
                                },
                                {
                                    "(No column name)": "1"
                                },
                                {
                                    "(No column name)": "1"
                                },
                                {
                                    "(No column name)": "1"
                                },
                                {
                                    "(No column name)": "1"
                                },
                                {
                                    "(No column name)": "1"
                                },
                                {
                                    "(No column name)": "1"
                                },
                                {
                                    "(No column name)": "1"
                                },
                                {
                                    "(No column name)": "1"
                                },
                                {
                                    "(No column name)": "1"
                                },
                                {
                                    "(No column name)": "1"
                                },
                                {
                                    "(No column name)": "1"
                                },
                                {
                                    "(No column name)": "1"
                                },
                                {
                                    "(No column name)": "1"
                                },
                                {
                                    "(No column name)": "1"
                                },
                                {
                                    "(No column name)": "1"
                                },
                                {
                                    "(No column name)": "1"
                                },
                                {
                                    "(No column name)": "1"
                                },
                                {
                                    "(No column name)": "1"
                                },
                                {
                                    "(No column name)": "1"
                                },
                                {
                                    "(No column name)": "2"
                                },
                                {
                                    "(No column name)": "2"
                                },
                                {
                                    "(No column name)": "1"
                                },
                                {
                                    "(No column name)": "1"
                                },
                                {
                                    "(No column name)": "1"
                                },
                                {
                                    "(No column name)": "1"
                                },
                                {
                                    "(No column name)": "1"
                                },
                                {
                                    "(No column name)": "1"
                                },
                                {
                                    "(No column name)": "1"
                                },
                                {
                                    "(No column name)": "1"
                                },
                                {
                                    "(No column name)": "1"
                                },
                                {
                                    "(No column name)": "1"
                                },
                                {
                                    "(No column name)": "1"
                                },
                                {
                                    "(No column name)": "1"
                                },
                                {
                                    "(No column name)": "1"
                                },
                                {
                                    "(No column name)": "1"
                                },
                                {
                                    "(No column name)": "1"
                                },
                                {
                                    "(No column name)": "1"
                                },
                                {
                                    "(No column name)": "1"
                                },
                                {
                                    "(No column name)": "1"
                                },
                                {
                                    "(No column name)": "1"
                                },
                                {
                                    "(No column name)": "1"
                                },
                                {
                                    "(No column name)": "1"
                                },
                                {
                                    "(No column name)": "1"
                                },
                                {
                                    "(No column name)": "1"
                                },
                                {
                                    "(No column name)": "1"
                                },
                                {
                                    "(No column name)": "1"
                                },
                                {
                                    "(No column name)": "1"
                                },
                                {
                                    "(No column name)": "1"
                                },
                                {
                                    "(No column name)": "1"
                                },
                                {
                                    "(No column name)": "1"
                                },
                                {
                                    "(No column name)": "1"
                                },
                                {
                                    "(No column name)": "1"
                                },
                                {
                                    "(No column name)": "1"
                                },
                                {
                                    "(No column name)": "1"
                                },
                                {
                                    "(No column name)": "1"
                                },
                                {
                                    "(No column name)": "1"
                                },
                                {
                                    "(No column name)": "1"
                                },
                                {
                                    "(No column name)": "1"
                                },
                                {
                                    "(No column name)": "1"
                                },
                                {
                                    "(No column name)": "1"
                                },
                                {
                                    "(No column name)": "1"
                                },
                                {
                                    "(No column name)": "1"
                                },
                                {
                                    "(No column name)": "1"
                                },
                                {
                                    "(No column name)": "1"
                                },
                                {
                                    "(No column name)": "1"
                                },
                                {
                                    "(No column name)": "1"
                                },
                                {
                                    "(No column name)": "1"
                                },
                                {
                                    "(No column name)": "1"
                                },
                                {
                                    "(No column name)": "1"
                                },
                                {
                                    "(No column name)": "1"
                                },
                                {
                                    "(No column name)": "1"
                                },
                                {
                                    "(No column name)": "1"
                                },
                                {
                                    "(No column name)": "1"
                                },
                                {
                                    "(No column name)": "1"
                                },
                                {
                                    "(No column name)": "1"
                                },
                                {
                                    "(No column name)": "1"
                                },
                                {
                                    "(No column name)": "1"
                                },
                                {
                                    "(No column name)": "1"
                                },
                                {
                                    "(No column name)": "1"
                                },
                                {
                                    "(No column name)": "1"
                                },
                                {
                                    "(No column name)": "1"
                                },
                                {
                                    "(No column name)": "1"
                                },
                                {
                                    "(No column name)": "1"
                                },
                                {
                                    "(No column name)": "1"
                                },
                                {
                                    "(No column name)": "1"
                                },
                                {
                                    "(No column name)": "1"
                                },
                                {
                                    "(No column name)": "1"
                                },
                                {
                                    "(No column name)": "1"
                                },
                                {
                                    "(No column name)": "1"
                                },
                                {
                                    "(No column name)": "1"
                                },
                                {
                                    "(No column name)": "1"
                                },
                                {
                                    "(No column name)": "1"
                                },
                                {
                                    "(No column name)": "1"
                                },
                                {
                                    "(No column name)": "1"
                                },
                                {
                                    "(No column name)": "1"
                                },
                                {
                                    "(No column name)": "1"
                                },
                                {
                                    "(No column name)": "1"
                                },
                                {
                                    "(No column name)": "1"
                                },
                                {
                                    "(No column name)": "1"
                                },
                                {
                                    "(No column name)": "1"
                                },
                                {
                                    "(No column name)": "1"
                                },
                                {
                                    "(No column name)": "1"
                                },
                                {
                                    "(No column name)": "1"
                                },
                                {
                                    "(No column name)": "1"
                                },
                                {
                                    "(No column name)": "1"
                                },
                                {
                                    "(No column name)": "1"
                                },
                                {
                                    "(No column name)": "1"
                                },
                                {
                                    "(No column name)": "1"
                                },
                                {
                                    "(No column name)": "1"
                                },
                                {
                                    "(No column name)": "1"
                                },
                                {
                                    "(No column name)": "2"
                                },
                                {
                                    "(No column name)": "2"
                                },
                                {
                                    "(No column name)": "1"
                                },
                                {
                                    "(No column name)": "1"
                                },
                                {
                                    "(No column name)": "1"
                                },
                                {
                                    "(No column name)": "1"
                                },
                                {
                                    "(No column name)": "1"
                                },
                                {
                                    "(No column name)": "1"
                                },
                                {
                                    "(No column name)": "1"
                                },
                                {
                                    "(No column name)": "1"
                                },
                                {
                                    "(No column name)": "1"
                                },
                                {
                                    "(No column name)": "1"
                                },
                                {
                                    "(No column name)": "1"
                                },
                                {
                                    "(No column name)": "1"
                                },
                                {
                                    "(No column name)": "1"
                                },
                                {
                                    "(No column name)": "1"
                                },
                                {
                                    "(No column name)": "1"
                                },
                                {
                                    "(No column name)": "1"
                                },
                                {
                                    "(No column name)": "1"
                                },
                                {
                                    "(No column name)": "1"
                                },
                                {
                                    "(No column name)": "1"
                                },
                                {
                                    "(No column name)": "1"
                                },
                                {
                                    "(No column name)": "1"
                                },
                                {
                                    "(No column name)": "1"
                                },
                                {
                                    "(No column name)": "1"
                                },
                                {
                                    "(No column name)": "1"
                                },
                                {
                                    "(No column name)": "2"
                                },
                                {
                                    "(No column name)": "2"
                                },
                                {
                                    "(No column name)": "1"
                                },
                                {
                                    "(No column name)": "1"
                                },
                                {
                                    "(No column name)": "1"
                                },
                                {
                                    "(No column name)": "1"
                                },
                                {
                                    "(No column name)": "1"
                                },
                                {
                                    "(No column name)": "1"
                                },
                                {
                                    "(No column name)": "1"
                                },
                                {
                                    "(No column name)": "1"
                                },
                                {
                                    "(No column name)": "1"
                                },
                                {
                                    "(No column name)": "1"
                                },
                                {
                                    "(No column name)": "1"
                                },
                                {
                                    "(No column name)": "1"
                                },
                                {
                                    "(No column name)": "1"
                                },
                                {
                                    "(No column name)": "1"
                                },
                                {
                                    "(No column name)": "1"
                                },
                                {
                                    "(No column name)": "1"
                                },
                                {
                                    "(No column name)": "1"
                                },
                                {
                                    "(No column name)": "1"
                                },
                                {
                                    "(No column name)": "1"
                                },
                                {
                                    "(No column name)": "1"
                                },
                                {
                                    "(No column name)": "1"
                                },
                                {
                                    "(No column name)": "1"
                                },
                                {
                                    "(No column name)": "1"
                                },
                                {
                                    "(No column name)": "1"
                                },
                                {
                                    "(No column name)": "1"
                                },
                                {
                                    "(No column name)": "1"
                                },
                                {
                                    "(No column name)": "1"
                                },
                                {
                                    "(No column name)": "1"
                                },
                                {
                                    "(No column name)": "1"
                                },
                                {
                                    "(No column name)": "1"
                                },
                                {
                                    "(No column name)": "1"
                                },
                                {
                                    "(No column name)": "1"
                                },
                                {
                                    "(No column name)": "1"
                                },
                                {
                                    "(No column name)": "1"
                                },
                                {
                                    "(No column name)": "1"
                                },
                                {
                                    "(No column name)": "1"
                                },
                                {
                                    "(No column name)": "1"
                                },
                                {
                                    "(No column name)": "1"
                                },
                                {
                                    "(No column name)": "1"
                                },
                                {
                                    "(No column name)": "1"
                                },
                                {
                                    "(No column name)": "1"
                                },
                                {
                                    "(No column name)": "1"
                                },
                                {
                                    "(No column name)": "1"
                                },
                                {
                                    "(No column name)": "1"
                                },
                                {
                                    "(No column name)": "1"
                                },
                                {
                                    "(No column name)": "1"
                                },
                                {
                                    "(No column name)": "1"
                                },
                                {
                                    "(No column name)": "1"
                                },
                                {
                                    "(No column name)": "1"
                                },
                                {
                                    "(No column name)": "1"
                                },
                                {
                                    "(No column name)": "1"
                                },
                                {
                                    "(No column name)": "1"
                                },
                                {
                                    "(No column name)": "1"
                                },
                                {
                                    "(No column name)": "1"
                                },
                                {
                                    "(No column name)": "1"
                                },
                                {
                                    "(No column name)": "1"
                                },
                                {
                                    "(No column name)": "1"
                                },
                                {
                                    "(No column name)": "1"
                                },
                                {
                                    "(No column name)": "1"
                                },
                                {
                                    "(No column name)": "1"
                                },
                                {
                                    "(No column name)": "1"
                                },
                                {
                                    "(No column name)": "1"
                                },
                                {
                                    "(No column name)": "1"
                                },
                                {
                                    "(No column name)": "1"
                                },
                                {
                                    "(No column name)": "1"
                                },
                                {
                                    "(No column name)": "1"
                                },
                                {
                                    "(No column name)": "1"
                                },
                                {
                                    "(No column name)": "1"
                                },
                                {
                                    "(No column name)": "1"
                                },
                                {
                                    "(No column name)": "1"
                                },
                                {
                                    "(No column name)": "1"
                                },
                                {
                                    "(No column name)": "1"
                                },
                                {
                                    "(No column name)": "1"
                                },
                                {
                                    "(No column name)": "1"
                                },
                                {
                                    "(No column name)": "1"
                                },
                                {
                                    "(No column name)": "1"
                                },
                                {
                                    "(No column name)": "1"
                                },
                                {
                                    "(No column name)": "1"
                                },
                                {
                                    "(No column name)": "1"
                                },
                                {
                                    "(No column name)": "1"
                                },
                                {
                                    "(No column name)": "1"
                                },
                                {
                                    "(No column name)": "1"
                                },
                                {
                                    "(No column name)": "1"
                                },
                                {
                                    "(No column name)": "1"
                                },
                                {
                                    "(No column name)": "1"
                                },
                                {
                                    "(No column name)": "1"
                                },
                                {
                                    "(No column name)": "1"
                                },
                                {
                                    "(No column name)": "1"
                                },
                                {
                                    "(No column name)": "1"
                                },
                                {
                                    "(No column name)": "1"
                                },
                                {
                                    "(No column name)": "1"
                                },
                                {
                                    "(No column name)": "1"
                                },
                                {
                                    "(No column name)": "1"
                                },
                                {
                                    "(No column name)": "1"
                                },
                                {
                                    "(No column name)": "1"
                                },
                                {
                                    "(No column name)": "1"
                                },
                                {
                                    "(No column name)": "1"
                                },
                                {
                                    "(No column name)": "1"
                                },
                                {
                                    "(No column name)": "1"
                                },
                                {
                                    "(No column name)": "1"
                                },
                                {
                                    "(No column name)": "1"
                                },
                                {
                                    "(No column name)": "1"
                                },
                                {
                                    "(No column name)": "1"
                                },
                                {
                                    "(No column name)": "1"
                                },
                                {
                                    "(No column name)": "1"
                                },
                                {
                                    "(No column name)": "1"
                                },
                                {
                                    "(No column name)": "1"
                                },
                                {
                                    "(No column name)": "1"
                                },
                                {
                                    "(No column name)": "1"
                                },
                                {
                                    "(No column name)": "1"
                                },
                                {
                                    "(No column name)": "1"
                                },
                                {
                                    "(No column name)": "1"
                                },
                                {
                                    "(No column name)": "1"
                                },
                                {
                                    "(No column name)": "1"
                                },
                                {
                                    "(No column name)": "1"
                                },
                                {
                                    "(No column name)": "1"
                                },
                                {
                                    "(No column name)": "1"
                                },
                                {
                                    "(No column name)": "1"
                                },
                                {
                                    "(No column name)": "1"
                                },
                                {
                                    "(No column name)": "1"
                                },
                                {
                                    "(No column name)": "1"
                                },
                                {
                                    "(No column name)": "1"
                                },
                                {
                                    "(No column name)": "1"
                                },
                                {
                                    "(No column name)": "1"
                                },
                                {
                                    "(No column name)": "1"
                                },
                                {
                                    "(No column name)": "1"
                                },
                                {
                                    "(No column name)": "1"
                                },
                                {
                                    "(No column name)": "1"
                                },
                                {
                                    "(No column name)": "1"
                                },
                                {
                                    "(No column name)": "1"
                                },
                                {
                                    "(No column name)": "1"
                                },
                                {
                                    "(No column name)": "1"
                                },
                                {
                                    "(No column name)": "1"
                                },
                                {
                                    "(No column name)": "1"
                                },
                                {
                                    "(No column name)": "1"
                                },
                                {
                                    "(No column name)": "1"
                                },
                                {
                                    "(No column name)": "1"
                                },
                                {
                                    "(No column name)": "1"
                                },
                                {
                                    "(No column name)": "1"
                                },
                                {
                                    "(No column name)": "1"
                                },
                                {
                                    "(No column name)": "1"
                                },
                                {
                                    "(No column name)": "1"
                                },
                                {
                                    "(No column name)": "1"
                                },
                                {
                                    "(No column name)": "1"
                                },
                                {
                                    "(No column name)": "1"
                                },
                                {
                                    "(No column name)": "1"
                                },
                                {
                                    "(No column name)": "1"
                                },
                                {
                                    "(No column name)": "1"
                                },
                                {
                                    "(No column name)": "1"
                                },
                                {
                                    "(No column name)": "1"
                                },
                                {
                                    "(No column name)": "1"
                                },
                                {
                                    "(No column name)": "1"
                                },
                                {
                                    "(No column name)": "1"
                                },
                                {
                                    "(No column name)": "1"
                                },
                                {
                                    "(No column name)": "1"
                                },
                                {
                                    "(No column name)": "1"
                                },
                                {
                                    "(No column name)": "1"
                                },
                                {
                                    "(No column name)": "1"
                                },
                                {
                                    "(No column name)": "1"
                                },
                                {
                                    "(No column name)": "1"
                                },
                                {
                                    "(No column name)": "1"
                                },
                                {
                                    "(No column name)": "1"
                                },
                                {
                                    "(No column name)": "1"
                                },
                                {
                                    "(No column name)": "1"
                                },
                                {
                                    "(No column name)": "1"
                                },
                                {
                                    "(No column name)": "1"
                                },
                                {
                                    "(No column name)": "1"
                                },
                                {
                                    "(No column name)": "1"
                                },
                                {
                                    "(No column name)": "1"
                                },
                                {
                                    "(No column name)": "1"
                                },
                                {
                                    "(No column name)": "1"
                                },
                                {
                                    "(No column name)": "1"
                                },
                                {
                                    "(No column name)": "1"
                                },
                                {
                                    "(No column name)": "1"
                                },
                                {
                                    "(No column name)": "1"
                                },
                                {
                                    "(No column name)": "1"
                                },
                                {
                                    "(No column name)": "1"
                                },
                                {
                                    "(No column name)": "1"
                                },
                                {
                                    "(No column name)": "1"
                                },
                                {
                                    "(No column name)": "1"
                                },
                                {
                                    "(No column name)": "1"
                                },
                                {
                                    "(No column name)": "1"
                                },
                                {
                                    "(No column name)": "1"
                                },
                                {
                                    "(No column name)": "1"
                                },
                                {
                                    "(No column name)": "1"
                                },
                                {
                                    "(No column name)": "1"
                                },
                                {
                                    "(No column name)": "1"
                                },
                                {
                                    "(No column name)": "1"
                                },
                                {
                                    "(No column name)": "1"
                                },
                                {
                                    "(No column name)": "1"
                                },
                                {
                                    "(No column name)": "1"
                                },
                                {
                                    "(No column name)": "1"
                                },
                                {
                                    "(No column name)": "1"
                                },
                                {
                                    "(No column name)": "1"
                                },
                                {
                                    "(No column name)": "1"
                                },
                                {
                                    "(No column name)": "1"
                                },
                                {
                                    "(No column name)": "1"
                                },
                                {
                                    "(No column name)": "1"
                                },
                                {
                                    "(No column name)": "1"
                                },
                                {
                                    "(No column name)": "1"
                                },
                                {
                                    "(No column name)": "1"
                                },
                                {
                                    "(No column name)": "1"
                                },
                                {
                                    "(No column name)": "1"
                                },
                                {
                                    "(No column name)": "1"
                                },
                                {
                                    "(No column name)": "1"
                                },
                                {
                                    "(No column name)": "1"
                                },
                                {
                                    "(No column name)": "1"
                                },
                                {
                                    "(No column name)": "1"
                                },
                                {
                                    "(No column name)": "1"
                                },
                                {
                                    "(No column name)": "1"
                                },
                                {
                                    "(No column name)": "1"
                                },
                                {
                                    "(No column name)": "1"
                                },
                                {
                                    "(No column name)": "1"
                                },
                                {
                                    "(No column name)": "1"
                                },
                                {
                                    "(No column name)": "1"
                                },
                                {
                                    "(No column name)": "1"
                                },
                                {
                                    "(No column name)": "1"
                                },
                                {
                                    "(No column name)": "1"
                                },
                                {
                                    "(No column name)": "1"
                                },
                                {
                                    "(No column name)": "1"
                                },
                                {
                                    "(No column name)": "1"
                                },
                                {
                                    "(No column name)": "1"
                                },
                                {
                                    "(No column name)": "1"
                                },
                                {
                                    "(No column name)": "1"
                                },
                                {
                                    "(No column name)": "1"
                                },
                                {
                                    "(No column name)": "1"
                                },
                                {
                                    "(No column name)": "1"
                                },
                                {
                                    "(No column name)": "1"
                                },
                                {
                                    "(No column name)": "1"
                                },
                                {
                                    "(No column name)": "1"
                                },
                                {
                                    "(No column name)": "1"
                                },
                                {
                                    "(No column name)": "1"
                                },
                                {
                                    "(No column name)": "1"
                                },
                                {
                                    "(No column name)": "1"
                                },
                                {
                                    "(No column name)": "1"
                                },
                                {
                                    "(No column name)": "1"
                                },
                                {
                                    "(No column name)": "1"
                                },
                                {
                                    "(No column name)": "1"
                                },
                                {
                                    "(No column name)": "1"
                                },
                                {
                                    "(No column name)": "1"
                                },
                                {
                                    "(No column name)": "1"
                                },
                                {
                                    "(No column name)": "1"
                                },
                                {
                                    "(No column name)": "1"
                                },
                                {
                                    "(No column name)": "1"
                                },
                                {
                                    "(No column name)": "1"
                                },
                                {
                                    "(No column name)": "1"
                                },
                                {
                                    "(No column name)": "1"
                                },
                                {
                                    "(No column name)": "1"
                                },
                                {
                                    "(No column name)": "1"
                                },
                                {
                                    "(No column name)": "1"
                                },
                                {
                                    "(No column name)": "1"
                                },
                                {
                                    "(No column name)": "1"
                                },
                                {
                                    "(No column name)": "1"
                                },
                                {
                                    "(No column name)": "1"
                                },
                                {
                                    "(No column name)": "1"
                                },
                                {
                                    "(No column name)": "1"
                                },
                                {
                                    "(No column name)": "1"
                                },
                                {
                                    "(No column name)": "1"
                                },
                                {
                                    "(No column name)": "1"
                                },
                                {
                                    "(No column name)": "1"
                                },
                                {
                                    "(No column name)": "1"
                                },
                                {
                                    "(No column name)": "1"
                                },
                                {
                                    "(No column name)": "1"
                                },
                                {
                                    "(No column name)": "1"
                                },
                                {
                                    "(No column name)": "1"
                                },
                                {
                                    "(No column name)": "1"
                                },
                                {
                                    "(No column name)": "1"
                                },
                                {
                                    "(No column name)": "1"
                                },
                                {
                                    "(No column name)": "1"
                                },
                                {
                                    "(No column name)": "1"
                                },
                                {
                                    "(No column name)": "1"
                                },
                                {
                                    "(No column name)": "1"
                                },
                                {
                                    "(No column name)": "1"
                                },
                                {
                                    "(No column name)": "1"
                                },
                                {
                                    "(No column name)": "1"
                                },
                                {
                                    "(No column name)": "2"
                                },
                                {
                                    "(No column name)": "2"
                                },
                                {
                                    "(No column name)": "1"
                                },
                                {
                                    "(No column name)": "1"
                                },
                                {
                                    "(No column name)": "1"
                                },
                                {
                                    "(No column name)": "1"
                                },
                                {
                                    "(No column name)": "1"
                                },
                                {
                                    "(No column name)": "1"
                                },
                                {
                                    "(No column name)": "1"
                                },
                                {
                                    "(No column name)": "1"
                                },
                                {
                                    "(No column name)": "1"
                                },
                                {
                                    "(No column name)": "1"
                                },
                                {
                                    "(No column name)": "1"
                                },
                                {
                                    "(No column name)": "1"
                                },
                                {
                                    "(No column name)": "1"
                                },
                                {
                                    "(No column name)": "1"
                                },
                                {
                                    "(No column name)": "1"
                                },
                                {
                                    "(No column name)": "1"
                                },
                                {
                                    "(No column name)": "1"
                                },
                                {
                                    "(No column name)": "1"
                                },
                                {
                                    "(No column name)": "1"
                                },
                                {
                                    "(No column name)": "1"
                                },
                                {
                                    "(No column name)": "1"
                                },
                                {
                                    "(No column name)": "1"
                                },
                                {
                                    "(No column name)": "1"
                                },
                                {
                                    "(No column name)": "1"
                                },
                                {
                                    "(No column name)": "1"
                                },
                                {
                                    "(No column name)": "1"
                                },
                                {
                                    "(No column name)": "1"
                                },
                                {
                                    "(No column name)": "1"
                                },
                                {
                                    "(No column name)": "1"
                                },
                                {
                                    "(No column name)": "1"
                                },
                                {
                                    "(No column name)": "1"
                                },
                                {
                                    "(No column name)": "1"
                                },
                                {
                                    "(No column name)": "1"
                                },
                                {
                                    "(No column name)": "1"
                                },
                                {
                                    "(No column name)": "1"
                                },
                                {
                                    "(No column name)": "1"
                                },
                                {
                                    "(No column name)": "1"
                                },
                                {
                                    "(No column name)": "1"
                                },
                                {
                                    "(No column name)": "1"
                                },
                                {
                                    "(No column name)": "1"
                                },
                                {
                                    "(No column name)": "1"
                                },
                                {
                                    "(No column name)": "1"
                                },
                                {
                                    "(No column name)": "1"
                                },
                                {
                                    "(No column name)": "1"
                                },
                                {
                                    "(No column name)": "1"
                                },
                                {
                                    "(No column name)": "1"
                                },
                                {
                                    "(No column name)": "1"
                                },
                                {
                                    "(No column name)": "1"
                                },
                                {
                                    "(No column name)": "1"
                                },
                                {
                                    "(No column name)": "1"
                                },
                                {
                                    "(No column name)": "1"
                                },
                                {
                                    "(No column name)": "1"
                                },
                                {
                                    "(No column name)": "1"
                                },
                                {
                                    "(No column name)": "1"
                                },
                                {
                                    "(No column name)": "1"
                                },
                                {
                                    "(No column name)": "1"
                                },
                                {
                                    "(No column name)": "1"
                                },
                                {
                                    "(No column name)": "1"
                                },
                                {
                                    "(No column name)": "1"
                                },
                                {
                                    "(No column name)": "1"
                                },
                                {
                                    "(No column name)": "1"
                                },
                                {
                                    "(No column name)": "1"
                                },
                                {
                                    "(No column name)": "1"
                                },
                                {
                                    "(No column name)": "1"
                                },
                                {
                                    "(No column name)": "1"
                                },
                                {
                                    "(No column name)": "1"
                                },
                                {
                                    "(No column name)": "1"
                                },
                                {
                                    "(No column name)": "1"
                                },
                                {
                                    "(No column name)": "1"
                                },
                                {
                                    "(No column name)": "1"
                                },
                                {
                                    "(No column name)": "1"
                                },
                                {
                                    "(No column name)": "1"
                                },
                                {
                                    "(No column name)": "1"
                                },
                                {
                                    "(No column name)": "1"
                                },
                                {
                                    "(No column name)": "1"
                                },
                                {
                                    "(No column name)": "1"
                                },
                                {
                                    "(No column name)": "1"
                                },
                                {
                                    "(No column name)": "1"
                                },
                                {
                                    "(No column name)": "1"
                                },
                                {
                                    "(No column name)": "1"
                                },
                                {
                                    "(No column name)": "1"
                                },
                                {
                                    "(No column name)": "1"
                                },
                                {
                                    "(No column name)": "1"
                                },
                                {
                                    "(No column name)": "1"
                                },
                                {
                                    "(No column name)": "1"
                                },
                                {
                                    "(No column name)": "1"
                                },
                                {
                                    "(No column name)": "1"
                                },
                                {
                                    "(No column name)": "1"
                                },
                                {
                                    "(No column name)": "1"
                                },
                                {
                                    "(No column name)": "1"
                                },
                                {
                                    "(No column name)": "1"
                                },
                                {
                                    "(No column name)": "1"
                                },
                                {
                                    "(No column name)": "1"
                                },
                                {
                                    "(No column name)": "1"
                                },
                                {
                                    "(No column name)": "1"
                                },
                                {
                                    "(No column name)": "1"
                                },
                                {
                                    "(No column name)": "1"
                                },
                                {
                                    "(No column name)": "1"
                                },
                                {
                                    "(No column name)": "1"
                                },
                                {
                                    "(No column name)": "1"
                                },
                                {
                                    "(No column name)": "1"
                                },
                                {
                                    "(No column name)": "1"
                                },
                                {
                                    "(No column name)": "1"
                                },
                                {
                                    "(No column name)": "1"
                                },
                                {
                                    "(No column name)": "1"
                                },
                                {
                                    "(No column name)": "1"
                                },
                                {
                                    "(No column name)": "1"
                                },
                                {
                                    "(No column name)": "1"
                                },
                                {
                                    "(No column name)": "1"
                                },
                                {
                                    "(No column name)": "1"
                                },
                                {
                                    "(No column name)": "1"
                                },
                                {
                                    "(No column name)": "1"
                                },
                                {
                                    "(No column name)": "1"
                                },
                                {
                                    "(No column name)": "1"
                                },
                                {
                                    "(No column name)": "1"
                                },
                                {
                                    "(No column name)": "1"
                                },
                                {
                                    "(No column name)": "1"
                                },
                                {
                                    "(No column name)": "1"
                                },
                                {
                                    "(No column name)": "1"
                                },
                                {
                                    "(No column name)": "1"
                                },
                                {
                                    "(No column name)": "1"
                                },
                                {
                                    "(No column name)": "1"
                                },
                                {
                                    "(No column name)": "1"
                                },
                                {
                                    "(No column name)": "1"
                                },
                                {
                                    "(No column name)": "1"
                                },
                                {
                                    "(No column name)": "1"
                                },
                                {
                                    "(No column name)": "1"
                                },
                                {
                                    "(No column name)": "1"
                                },
                                {
                                    "(No column name)": "1"
                                },
                                {
                                    "(No column name)": "1"
                                },
                                {
                                    "(No column name)": "1"
                                },
                                {
                                    "(No column name)": "1"
                                },
                                {
                                    "(No column name)": "1"
                                },
                                {
                                    "(No column name)": "1"
                                },
                                {
                                    "(No column name)": "1"
                                },
                                {
                                    "(No column name)": "1"
                                },
                                {
                                    "(No column name)": "1"
                                },
                                {
                                    "(No column name)": "1"
                                },
                                {
                                    "(No column name)": "1"
                                },
                                {
                                    "(No column name)": "1"
                                },
                                {
                                    "(No column name)": "1"
                                },
                                {
                                    "(No column name)": "1"
                                },
                                {
                                    "(No column name)": "1"
                                },
                                {
                                    "(No column name)": "1"
                                },
                                {
                                    "(No column name)": "1"
                                },
                                {
                                    "(No column name)": "1"
                                },
                                {
                                    "(No column name)": "1"
                                },
                                {
                                    "(No column name)": "1"
                                },
                                {
                                    "(No column name)": "1"
                                },
                                {
                                    "(No column name)": "1"
                                },
                                {
                                    "(No column name)": "1"
                                },
                                {
                                    "(No column name)": "1"
                                },
                                {
                                    "(No column name)": "1"
                                },
                                {
                                    "(No column name)": "1"
                                },
                                {
                                    "(No column name)": "1"
                                },
                                {
                                    "(No column name)": "1"
                                },
                                {
                                    "(No column name)": "1"
                                },
                                {
                                    "(No column name)": "1"
                                },
                                {
                                    "(No column name)": "1"
                                },
                                {
                                    "(No column name)": "1"
                                },
                                {
                                    "(No column name)": "1"
                                },
                                {
                                    "(No column name)": "1"
                                },
                                {
                                    "(No column name)": "1"
                                },
                                {
                                    "(No column name)": "1"
                                },
                                {
                                    "(No column name)": "1"
                                },
                                {
                                    "(No column name)": "1"
                                },
                                {
                                    "(No column name)": "1"
                                },
                                {
                                    "(No column name)": "1"
                                },
                                {
                                    "(No column name)": "1"
                                },
                                {
                                    "(No column name)": "1"
                                },
                                {
                                    "(No column name)": "1"
                                },
                                {
                                    "(No column name)": "1"
                                },
                                {
                                    "(No column name)": "1"
                                },
                                {
                                    "(No column name)": "1"
                                },
                                {
                                    "(No column name)": "1"
                                },
                                {
                                    "(No column name)": "1"
                                },
                                {
                                    "(No column name)": "1"
                                },
                                {
                                    "(No column name)": "1"
                                },
                                {
                                    "(No column name)": "1"
                                },
                                {
                                    "(No column name)": "1"
                                },
                                {
                                    "(No column name)": "1"
                                },
                                {
                                    "(No column name)": "1"
                                },
                                {
                                    "(No column name)": "1"
                                },
                                {
                                    "(No column name)": "1"
                                },
                                {
                                    "(No column name)": "1"
                                },
                                {
                                    "(No column name)": "1"
                                },
                                {
                                    "(No column name)": "1"
                                },
                                {
                                    "(No column name)": "1"
                                },
                                {
                                    "(No column name)": "1"
                                },
                                {
                                    "(No column name)": "1"
                                },
                                {
                                    "(No column name)": "1"
                                },
                                {
                                    "(No column name)": "1"
                                },
                                {
                                    "(No column name)": "1"
                                },
                                {
                                    "(No column name)": "1"
                                },
                                {
                                    "(No column name)": "1"
                                },
                                {
                                    "(No column name)": "1"
                                },
                                {
                                    "(No column name)": "1"
                                },
                                {
                                    "(No column name)": "1"
                                },
                                {
                                    "(No column name)": "1"
                                },
                                {
                                    "(No column name)": "1"
                                },
                                {
                                    "(No column name)": "1"
                                },
                                {
                                    "(No column name)": "1"
                                },
                                {
                                    "(No column name)": "1"
                                },
                                {
                                    "(No column name)": "1"
                                },
                                {
                                    "(No column name)": "1"
                                },
                                {
                                    "(No column name)": "1"
                                },
                                {
                                    "(No column name)": "1"
                                },
                                {
                                    "(No column name)": "1"
                                },
                                {
                                    "(No column name)": "1"
                                },
                                {
                                    "(No column name)": "1"
                                },
                                {
                                    "(No column name)": "1"
                                },
                                {
                                    "(No column name)": "1"
                                },
                                {
                                    "(No column name)": "1"
                                },
                                {
                                    "(No column name)": "1"
                                },
                                {
                                    "(No column name)": "1"
                                },
                                {
                                    "(No column name)": "1"
                                },
                                {
                                    "(No column name)": "1"
                                },
                                {
                                    "(No column name)": "1"
                                },
                                {
                                    "(No column name)": "1"
                                },
                                {
                                    "(No column name)": "1"
                                },
                                {
                                    "(No column name)": "1"
                                },
                                {
                                    "(No column name)": "1"
                                },
                                {
                                    "(No column name)": "1"
                                },
                                {
                                    "(No column name)": "1"
                                },
                                {
                                    "(No column name)": "1"
                                },
                                {
                                    "(No column name)": "1"
                                },
                                {
                                    "(No column name)": "1"
                                },
                                {
                                    "(No column name)": "1"
                                },
                                {
                                    "(No column name)": "1"
                                },
                                {
                                    "(No column name)": "1"
                                },
                                {
                                    "(No column name)": "1"
                                },
                                {
                                    "(No column name)": "1"
                                },
                                {
                                    "(No column name)": "1"
                                },
                                {
                                    "(No column name)": "1"
                                },
                                {
                                    "(No column name)": "1"
                                },
                                {
                                    "(No column name)": "1"
                                },
                                {
                                    "(No column name)": "1"
                                },
                                {
                                    "(No column name)": "1"
                                },
                                {
                                    "(No column name)": "1"
                                },
                                {
                                    "(No column name)": "1"
                                },
                                {
                                    "(No column name)": "1"
                                },
                                {
                                    "(No column name)": "1"
                                },
                                {
                                    "(No column name)": "1"
                                },
                                {
                                    "(No column name)": "1"
                                },
                                {
                                    "(No column name)": "1"
                                },
                                {
                                    "(No column name)": "1"
                                },
                                {
                                    "(No column name)": "1"
                                },
                                {
                                    "(No column name)": "1"
                                },
                                {
                                    "(No column name)": "1"
                                },
                                {
                                    "(No column name)": "1"
                                },
                                {
                                    "(No column name)": "1"
                                },
                                {
                                    "(No column name)": "1"
                                },
                                {
                                    "(No column name)": "1"
                                },
                                {
                                    "(No column name)": "1"
                                },
                                {
                                    "(No column name)": "1"
                                },
                                {
                                    "(No column name)": "1"
                                },
                                {
                                    "(No column name)": "1"
                                },
                                {
                                    "(No column name)": "1"
                                },
                                {
                                    "(No column name)": "1"
                                },
                                {
                                    "(No column name)": "1"
                                },
                                {
                                    "(No column name)": "1"
                                },
                                {
                                    "(No column name)": "1"
                                },
                                {
                                    "(No column name)": "1"
                                },
                                {
                                    "(No column name)": "1"
                                },
                                {
                                    "(No column name)": "2"
                                },
                                {
                                    "(No column name)": "2"
                                },
                                {
                                    "(No column name)": "1"
                                },
                                {
                                    "(No column name)": "1"
                                },
                                {
                                    "(No column name)": "1"
                                },
                                {
                                    "(No column name)": "1"
                                },
                                {
                                    "(No column name)": "1"
                                },
                                {
                                    "(No column name)": "1"
                                },
                                {
                                    "(No column name)": "1"
                                },
                                {
                                    "(No column name)": "1"
                                },
                                {
                                    "(No column name)": "1"
                                },
                                {
                                    "(No column name)": "2"
                                },
                                {
                                    "(No column name)": "2"
                                },
                                {
                                    "(No column name)": "1"
                                },
                                {
                                    "(No column name)": "1"
                                },
                                {
                                    "(No column name)": "1"
                                },
                                {
                                    "(No column name)": "1"
                                },
                                {
                                    "(No column name)": "1"
                                },
                                {
                                    "(No column name)": "1"
                                },
                                {
                                    "(No column name)": "1"
                                },
                                {
                                    "(No column name)": "1"
                                },
                                {
                                    "(No column name)": "1"
                                },
                                {
                                    "(No column name)": "1"
                                },
                                {
                                    "(No column name)": "1"
                                },
                                {
                                    "(No column name)": "1"
                                },
                                {
                                    "(No column name)": "1"
                                },
                                {
                                    "(No column name)": "1"
                                },
                                {
                                    "(No column name)": "1"
                                },
                                {
                                    "(No column name)": "1"
                                },
                                {
                                    "(No column name)": "1"
                                },
                                {
                                    "(No column name)": "1"
                                },
                                {
                                    "(No column name)": "1"
                                },
                                {
                                    "(No column name)": "1"
                                },
                                {
                                    "(No column name)": "1"
                                },
                                {
                                    "(No column name)": "1"
                                },
                                {
                                    "(No column name)": "1"
                                },
                                {
                                    "(No column name)": "1"
                                },
                                {
                                    "(No column name)": "1"
                                },
                                {
                                    "(No column name)": "1"
                                },
                                {
                                    "(No column name)": "1"
                                },
                                {
                                    "(No column name)": "1"
                                },
                                {
                                    "(No column name)": "1"
                                },
                                {
                                    "(No column name)": "1"
                                },
                                {
                                    "(No column name)": "1"
                                },
                                {
                                    "(No column name)": "1"
                                },
                                {
                                    "(No column name)": "1"
                                },
                                {
                                    "(No column name)": "1"
                                },
                                {
                                    "(No column name)": "1"
                                },
                                {
                                    "(No column name)": "1"
                                },
                                {
                                    "(No column name)": "1"
                                },
                                {
                                    "(No column name)": "1"
                                },
                                {
                                    "(No column name)": "1"
                                },
                                {
                                    "(No column name)": "1"
                                },
                                {
                                    "(No column name)": "1"
                                },
                                {
                                    "(No column name)": "2"
                                },
                                {
                                    "(No column name)": "2"
                                },
                                {
                                    "(No column name)": "1"
                                },
                                {
                                    "(No column name)": "1"
                                },
                                {
                                    "(No column name)": "1"
                                },
                                {
                                    "(No column name)": "1"
                                },
                                {
                                    "(No column name)": "1"
                                },
                                {
                                    "(No column name)": "1"
                                },
                                {
                                    "(No column name)": "1"
                                },
                                {
                                    "(No column name)": "1"
                                },
                                {
                                    "(No column name)": "1"
                                },
                                {
                                    "(No column name)": "1"
                                },
                                {
                                    "(No column name)": "1"
                                },
                                {
                                    "(No column name)": "1"
                                },
                                {
                                    "(No column name)": "1"
                                },
                                {
                                    "(No column name)": "1"
                                },
                                {
                                    "(No column name)": "1"
                                },
                                {
                                    "(No column name)": "1"
                                },
                                {
                                    "(No column name)": "1"
                                },
                                {
                                    "(No column name)": "1"
                                },
                                {
                                    "(No column name)": "1"
                                },
                                {
                                    "(No column name)": "1"
                                },
                                {
                                    "(No column name)": "1"
                                },
                                {
                                    "(No column name)": "1"
                                },
                                {
                                    "(No column name)": "1"
                                },
                                {
                                    "(No column name)": "1"
                                },
                                {
                                    "(No column name)": "1"
                                },
                                {
                                    "(No column name)": "3"
                                },
                                {
                                    "(No column name)": "3"
                                },
                                {
                                    "(No column name)": "3"
                                },
                                {
                                    "(No column name)": "1"
                                },
                                {
                                    "(No column name)": "1"
                                },
                                {
                                    "(No column name)": "1"
                                },
                                {
                                    "(No column name)": "1"
                                },
                                {
                                    "(No column name)": "1"
                                },
                                {
                                    "(No column name)": "1"
                                },
                                {
                                    "(No column name)": "1"
                                },
                                {
                                    "(No column name)": "1"
                                },
                                {
                                    "(No column name)": "1"
                                },
                                {
                                    "(No column name)": "1"
                                },
                                {
                                    "(No column name)": "1"
                                },
                                {
                                    "(No column name)": "1"
                                },
                                {
                                    "(No column name)": "1"
                                },
                                {
                                    "(No column name)": "1"
                                },
                                {
                                    "(No column name)": "1"
                                },
                                {
                                    "(No column name)": "1"
                                },
                                {
                                    "(No column name)": "1"
                                },
                                {
                                    "(No column name)": "1"
                                },
                                {
                                    "(No column name)": "1"
                                },
                                {
                                    "(No column name)": "1"
                                },
                                {
                                    "(No column name)": "1"
                                },
                                {
                                    "(No column name)": "1"
                                },
                                {
                                    "(No column name)": "1"
                                },
                                {
                                    "(No column name)": "1"
                                },
                                {
                                    "(No column name)": "1"
                                },
                                {
                                    "(No column name)": "1"
                                },
                                {
                                    "(No column name)": "1"
                                },
                                {
                                    "(No column name)": "1"
                                },
                                {
                                    "(No column name)": "1"
                                },
                                {
                                    "(No column name)": "1"
                                },
                                {
                                    "(No column name)": "1"
                                },
                                {
                                    "(No column name)": "1"
                                },
                                {
                                    "(No column name)": "1"
                                },
                                {
                                    "(No column name)": "1"
                                },
                                {
                                    "(No column name)": "1"
                                },
                                {
                                    "(No column name)": "1"
                                },
                                {
                                    "(No column name)": "1"
                                },
                                {
                                    "(No column name)": "1"
                                },
                                {
                                    "(No column name)": "1"
                                },
                                {
                                    "(No column name)": "1"
                                },
                                {
                                    "(No column name)": "1"
                                },
                                {
                                    "(No column name)": "1"
                                },
                                {
                                    "(No column name)": "1"
                                },
                                {
                                    "(No column name)": "1"
                                },
                                {
                                    "(No column name)": "1"
                                },
                                {
                                    "(No column name)": "1"
                                },
                                {
                                    "(No column name)": "1"
                                },
                                {
                                    "(No column name)": "1"
                                },
                                {
                                    "(No column name)": "1"
                                },
                                {
                                    "(No column name)": "1"
                                },
                                {
                                    "(No column name)": "1"
                                },
                                {
                                    "(No column name)": "1"
                                },
                                {
                                    "(No column name)": "1"
                                },
                                {
                                    "(No column name)": "1"
                                },
                                {
                                    "(No column name)": "1"
                                },
                                {
                                    "(No column name)": "1"
                                },
                                {
                                    "(No column name)": "1"
                                },
                                {
                                    "(No column name)": "1"
                                },
                                {
                                    "(No column name)": "1"
                                },
                                {
                                    "(No column name)": "1"
                                },
                                {
                                    "(No column name)": "1"
                                },
                                {
                                    "(No column name)": "1"
                                },
                                {
                                    "(No column name)": "1"
                                },
                                {
                                    "(No column name)": "1"
                                },
                                {
                                    "(No column name)": "1"
                                },
                                {
                                    "(No column name)": "1"
                                },
                                {
                                    "(No column name)": "1"
                                },
                                {
                                    "(No column name)": "1"
                                },
                                {
                                    "(No column name)": "1"
                                },
                                {
                                    "(No column name)": "1"
                                },
                                {
                                    "(No column name)": "1"
                                },
                                {
                                    "(No column name)": "1"
                                },
                                {
                                    "(No column name)": "1"
                                },
                                {
                                    "(No column name)": "1"
                                },
                                {
                                    "(No column name)": "1"
                                },
                                {
                                    "(No column name)": "1"
                                },
                                {
                                    "(No column name)": "1"
                                },
                                {
                                    "(No column name)": "1"
                                },
                                {
                                    "(No column name)": "1"
                                },
                                {
                                    "(No column name)": "1"
                                },
                                {
                                    "(No column name)": "1"
                                },
                                {
                                    "(No column name)": "2"
                                },
                                {
                                    "(No column name)": "2"
                                },
                                {
                                    "(No column name)": "1"
                                },
                                {
                                    "(No column name)": "1"
                                },
                                {
                                    "(No column name)": "1"
                                },
                                {
                                    "(No column name)": "1"
                                },
                                {
                                    "(No column name)": "1"
                                },
                                {
                                    "(No column name)": "1"
                                },
                                {
                                    "(No column name)": "1"
                                },
                                {
                                    "(No column name)": "1"
                                },
                                {
                                    "(No column name)": "1"
                                },
                                {
                                    "(No column name)": "1"
                                },
                                {
                                    "(No column name)": "1"
                                },
                                {
                                    "(No column name)": "1"
                                },
                                {
                                    "(No column name)": "1"
                                },
                                {
                                    "(No column name)": "1"
                                },
                                {
                                    "(No column name)": "1"
                                },
                                {
                                    "(No column name)": "1"
                                },
                                {
                                    "(No column name)": "1"
                                },
                                {
                                    "(No column name)": "1"
                                },
                                {
                                    "(No column name)": "1"
                                },
                                {
                                    "(No column name)": "1"
                                },
                                {
                                    "(No column name)": "1"
                                },
                                {
                                    "(No column name)": "1"
                                },
                                {
                                    "(No column name)": "1"
                                },
                                {
                                    "(No column name)": "1"
                                },
                                {
                                    "(No column name)": "1"
                                },
                                {
                                    "(No column name)": "1"
                                },
                                {
                                    "(No column name)": "1"
                                },
                                {
                                    "(No column name)": "1"
                                },
                                {
                                    "(No column name)": "1"
                                },
                                {
                                    "(No column name)": "1"
                                },
                                {
                                    "(No column name)": "1"
                                },
                                {
                                    "(No column name)": "1"
                                },
                                {
                                    "(No column name)": "1"
                                },
                                {
                                    "(No column name)": "1"
                                },
                                {
                                    "(No column name)": "1"
                                },
                                {
                                    "(No column name)": "1"
                                },
                                {
                                    "(No column name)": "1"
                                },
                                {
                                    "(No column name)": "1"
                                },
                                {
                                    "(No column name)": "1"
                                },
                                {
                                    "(No column name)": "1"
                                },
                                {
                                    "(No column name)": "1"
                                },
                                {
                                    "(No column name)": "1"
                                },
                                {
                                    "(No column name)": "1"
                                },
                                {
                                    "(No column name)": "1"
                                },
                                {
                                    "(No column name)": "1"
                                },
                                {
                                    "(No column name)": "1"
                                },
                                {
                                    "(No column name)": "1"
                                },
                                {
                                    "(No column name)": "1"
                                },
                                {
                                    "(No column name)": "1"
                                },
                                {
                                    "(No column name)": "1"
                                },
                                {
                                    "(No column name)": "1"
                                },
                                {
                                    "(No column name)": "1"
                                },
                                {
                                    "(No column name)": "1"
                                },
                                {
                                    "(No column name)": "1"
                                },
                                {
                                    "(No column name)": "1"
                                },
                                {
                                    "(No column name)": "1"
                                },
                                {
                                    "(No column name)": "1"
                                },
                                {
                                    "(No column name)": "1"
                                },
                                {
                                    "(No column name)": "1"
                                },
                                {
                                    "(No column name)": "1"
                                },
                                {
                                    "(No column name)": "1"
                                },
                                {
                                    "(No column name)": "1"
                                },
                                {
                                    "(No column name)": "1"
                                },
                                {
                                    "(No column name)": "1"
                                },
                                {
                                    "(No column name)": "1"
                                },
                                {
                                    "(No column name)": "1"
                                },
                                {
                                    "(No column name)": "1"
                                },
                                {
                                    "(No column name)": "1"
                                },
                                {
                                    "(No column name)": "1"
                                },
                                {
                                    "(No column name)": "1"
                                },
                                {
                                    "(No column name)": "1"
                                },
                                {
                                    "(No column name)": "1"
                                },
                                {
                                    "(No column name)": "1"
                                },
                                {
                                    "(No column name)": "1"
                                },
                                {
                                    "(No column name)": "1"
                                },
                                {
                                    "(No column name)": "1"
                                },
                                {
                                    "(No column name)": "1"
                                },
                                {
                                    "(No column name)": "1"
                                },
                                {
                                    "(No column name)": "1"
                                },
                                {
                                    "(No column name)": "1"
                                },
                                {
                                    "(No column name)": "1"
                                },
                                {
                                    "(No column name)": "1"
                                },
                                {
                                    "(No column name)": "1"
                                },
                                {
                                    "(No column name)": "1"
                                },
                                {
                                    "(No column name)": "1"
                                },
                                {
                                    "(No column name)": "1"
                                },
                                {
                                    "(No column name)": "1"
                                },
                                {
                                    "(No column name)": "1"
                                },
                                {
                                    "(No column name)": "1"
                                },
                                {
                                    "(No column name)": "1"
                                },
                                {
                                    "(No column name)": "1"
                                }
                            ]
                        },
                        "text/html": [
                            "<table>",
                            "<tr><th>(No column name)</th></tr>",
                            "<tr><td>1</td></tr>",
                            "<tr><td>1</td></tr>",
                            "<tr><td>1</td></tr>",
                            "<tr><td>1</td></tr>",
                            "<tr><td>1</td></tr>",
                            "<tr><td>1</td></tr>",
                            "<tr><td>1</td></tr>",
                            "<tr><td>1</td></tr>",
                            "<tr><td>1</td></tr>",
                            "<tr><td>1</td></tr>",
                            "<tr><td>1</td></tr>",
                            "<tr><td>1</td></tr>",
                            "<tr><td>1</td></tr>",
                            "<tr><td>1</td></tr>",
                            "<tr><td>1</td></tr>",
                            "<tr><td>1</td></tr>",
                            "<tr><td>1</td></tr>",
                            "<tr><td>1</td></tr>",
                            "<tr><td>1</td></tr>",
                            "<tr><td>1</td></tr>",
                            "<tr><td>1</td></tr>",
                            "<tr><td>1</td></tr>",
                            "<tr><td>1</td></tr>",
                            "<tr><td>1</td></tr>",
                            "<tr><td>1</td></tr>",
                            "<tr><td>1</td></tr>",
                            "<tr><td>1</td></tr>",
                            "<tr><td>1</td></tr>",
                            "<tr><td>1</td></tr>",
                            "<tr><td>1</td></tr>",
                            "<tr><td>1</td></tr>",
                            "<tr><td>1</td></tr>",
                            "<tr><td>1</td></tr>",
                            "<tr><td>1</td></tr>",
                            "<tr><td>1</td></tr>",
                            "<tr><td>1</td></tr>",
                            "<tr><td>1</td></tr>",
                            "<tr><td>1</td></tr>",
                            "<tr><td>1</td></tr>",
                            "<tr><td>1</td></tr>",
                            "<tr><td>1</td></tr>",
                            "<tr><td>1</td></tr>",
                            "<tr><td>1</td></tr>",
                            "<tr><td>1</td></tr>",
                            "<tr><td>1</td></tr>",
                            "<tr><td>1</td></tr>",
                            "<tr><td>1</td></tr>",
                            "<tr><td>1</td></tr>",
                            "<tr><td>1</td></tr>",
                            "<tr><td>1</td></tr>",
                            "<tr><td>1</td></tr>",
                            "<tr><td>1</td></tr>",
                            "<tr><td>1</td></tr>",
                            "<tr><td>1</td></tr>",
                            "<tr><td>1</td></tr>",
                            "<tr><td>1</td></tr>",
                            "<tr><td>1</td></tr>",
                            "<tr><td>1</td></tr>",
                            "<tr><td>1</td></tr>",
                            "<tr><td>1</td></tr>",
                            "<tr><td>1</td></tr>",
                            "<tr><td>1</td></tr>",
                            "<tr><td>1</td></tr>",
                            "<tr><td>1</td></tr>",
                            "<tr><td>1</td></tr>",
                            "<tr><td>1</td></tr>",
                            "<tr><td>1</td></tr>",
                            "<tr><td>1</td></tr>",
                            "<tr><td>1</td></tr>",
                            "<tr><td>1</td></tr>",
                            "<tr><td>1</td></tr>",
                            "<tr><td>1</td></tr>",
                            "<tr><td>1</td></tr>",
                            "<tr><td>1</td></tr>",
                            "<tr><td>1</td></tr>",
                            "<tr><td>1</td></tr>",
                            "<tr><td>1</td></tr>",
                            "<tr><td>1</td></tr>",
                            "<tr><td>1</td></tr>",
                            "<tr><td>1</td></tr>",
                            "<tr><td>1</td></tr>",
                            "<tr><td>1</td></tr>",
                            "<tr><td>1</td></tr>",
                            "<tr><td>1</td></tr>",
                            "<tr><td>1</td></tr>",
                            "<tr><td>1</td></tr>",
                            "<tr><td>1</td></tr>",
                            "<tr><td>1</td></tr>",
                            "<tr><td>1</td></tr>",
                            "<tr><td>1</td></tr>",
                            "<tr><td>1</td></tr>",
                            "<tr><td>1</td></tr>",
                            "<tr><td>1</td></tr>",
                            "<tr><td>1</td></tr>",
                            "<tr><td>1</td></tr>",
                            "<tr><td>1</td></tr>",
                            "<tr><td>1</td></tr>",
                            "<tr><td>1</td></tr>",
                            "<tr><td>1</td></tr>",
                            "<tr><td>1</td></tr>",
                            "<tr><td>1</td></tr>",
                            "<tr><td>1</td></tr>",
                            "<tr><td>1</td></tr>",
                            "<tr><td>1</td></tr>",
                            "<tr><td>1</td></tr>",
                            "<tr><td>1</td></tr>",
                            "<tr><td>1</td></tr>",
                            "<tr><td>1</td></tr>",
                            "<tr><td>1</td></tr>",
                            "<tr><td>2</td></tr>",
                            "<tr><td>2</td></tr>",
                            "<tr><td>1</td></tr>",
                            "<tr><td>1</td></tr>",
                            "<tr><td>1</td></tr>",
                            "<tr><td>1</td></tr>",
                            "<tr><td>1</td></tr>",
                            "<tr><td>1</td></tr>",
                            "<tr><td>1</td></tr>",
                            "<tr><td>1</td></tr>",
                            "<tr><td>1</td></tr>",
                            "<tr><td>1</td></tr>",
                            "<tr><td>1</td></tr>",
                            "<tr><td>1</td></tr>",
                            "<tr><td>1</td></tr>",
                            "<tr><td>1</td></tr>",
                            "<tr><td>1</td></tr>",
                            "<tr><td>1</td></tr>",
                            "<tr><td>1</td></tr>",
                            "<tr><td>1</td></tr>",
                            "<tr><td>1</td></tr>",
                            "<tr><td>1</td></tr>",
                            "<tr><td>1</td></tr>",
                            "<tr><td>1</td></tr>",
                            "<tr><td>1</td></tr>",
                            "<tr><td>1</td></tr>",
                            "<tr><td>1</td></tr>",
                            "<tr><td>1</td></tr>",
                            "<tr><td>1</td></tr>",
                            "<tr><td>1</td></tr>",
                            "<tr><td>1</td></tr>",
                            "<tr><td>1</td></tr>",
                            "<tr><td>1</td></tr>",
                            "<tr><td>1</td></tr>",
                            "<tr><td>1</td></tr>",
                            "<tr><td>1</td></tr>",
                            "<tr><td>1</td></tr>",
                            "<tr><td>1</td></tr>",
                            "<tr><td>1</td></tr>",
                            "<tr><td>1</td></tr>",
                            "<tr><td>1</td></tr>",
                            "<tr><td>1</td></tr>",
                            "<tr><td>1</td></tr>",
                            "<tr><td>1</td></tr>",
                            "<tr><td>1</td></tr>",
                            "<tr><td>1</td></tr>",
                            "<tr><td>1</td></tr>",
                            "<tr><td>1</td></tr>",
                            "<tr><td>1</td></tr>",
                            "<tr><td>1</td></tr>",
                            "<tr><td>1</td></tr>",
                            "<tr><td>1</td></tr>",
                            "<tr><td>1</td></tr>",
                            "<tr><td>1</td></tr>",
                            "<tr><td>1</td></tr>",
                            "<tr><td>1</td></tr>",
                            "<tr><td>1</td></tr>",
                            "<tr><td>1</td></tr>",
                            "<tr><td>1</td></tr>",
                            "<tr><td>1</td></tr>",
                            "<tr><td>1</td></tr>",
                            "<tr><td>1</td></tr>",
                            "<tr><td>1</td></tr>",
                            "<tr><td>1</td></tr>",
                            "<tr><td>1</td></tr>",
                            "<tr><td>1</td></tr>",
                            "<tr><td>1</td></tr>",
                            "<tr><td>1</td></tr>",
                            "<tr><td>1</td></tr>",
                            "<tr><td>1</td></tr>",
                            "<tr><td>1</td></tr>",
                            "<tr><td>1</td></tr>",
                            "<tr><td>1</td></tr>",
                            "<tr><td>1</td></tr>",
                            "<tr><td>1</td></tr>",
                            "<tr><td>1</td></tr>",
                            "<tr><td>1</td></tr>",
                            "<tr><td>1</td></tr>",
                            "<tr><td>1</td></tr>",
                            "<tr><td>1</td></tr>",
                            "<tr><td>1</td></tr>",
                            "<tr><td>1</td></tr>",
                            "<tr><td>1</td></tr>",
                            "<tr><td>1</td></tr>",
                            "<tr><td>1</td></tr>",
                            "<tr><td>1</td></tr>",
                            "<tr><td>1</td></tr>",
                            "<tr><td>1</td></tr>",
                            "<tr><td>1</td></tr>",
                            "<tr><td>1</td></tr>",
                            "<tr><td>1</td></tr>",
                            "<tr><td>2</td></tr>",
                            "<tr><td>2</td></tr>",
                            "<tr><td>1</td></tr>",
                            "<tr><td>1</td></tr>",
                            "<tr><td>1</td></tr>",
                            "<tr><td>1</td></tr>",
                            "<tr><td>1</td></tr>",
                            "<tr><td>1</td></tr>",
                            "<tr><td>1</td></tr>",
                            "<tr><td>1</td></tr>",
                            "<tr><td>1</td></tr>",
                            "<tr><td>1</td></tr>",
                            "<tr><td>1</td></tr>",
                            "<tr><td>1</td></tr>",
                            "<tr><td>1</td></tr>",
                            "<tr><td>1</td></tr>",
                            "<tr><td>1</td></tr>",
                            "<tr><td>1</td></tr>",
                            "<tr><td>1</td></tr>",
                            "<tr><td>1</td></tr>",
                            "<tr><td>1</td></tr>",
                            "<tr><td>1</td></tr>",
                            "<tr><td>1</td></tr>",
                            "<tr><td>1</td></tr>",
                            "<tr><td>1</td></tr>",
                            "<tr><td>1</td></tr>",
                            "<tr><td>2</td></tr>",
                            "<tr><td>2</td></tr>",
                            "<tr><td>1</td></tr>",
                            "<tr><td>1</td></tr>",
                            "<tr><td>1</td></tr>",
                            "<tr><td>1</td></tr>",
                            "<tr><td>1</td></tr>",
                            "<tr><td>1</td></tr>",
                            "<tr><td>1</td></tr>",
                            "<tr><td>1</td></tr>",
                            "<tr><td>1</td></tr>",
                            "<tr><td>1</td></tr>",
                            "<tr><td>1</td></tr>",
                            "<tr><td>1</td></tr>",
                            "<tr><td>1</td></tr>",
                            "<tr><td>1</td></tr>",
                            "<tr><td>1</td></tr>",
                            "<tr><td>1</td></tr>",
                            "<tr><td>1</td></tr>",
                            "<tr><td>1</td></tr>",
                            "<tr><td>1</td></tr>",
                            "<tr><td>1</td></tr>",
                            "<tr><td>1</td></tr>",
                            "<tr><td>1</td></tr>",
                            "<tr><td>1</td></tr>",
                            "<tr><td>1</td></tr>",
                            "<tr><td>1</td></tr>",
                            "<tr><td>1</td></tr>",
                            "<tr><td>1</td></tr>",
                            "<tr><td>1</td></tr>",
                            "<tr><td>1</td></tr>",
                            "<tr><td>1</td></tr>",
                            "<tr><td>1</td></tr>",
                            "<tr><td>1</td></tr>",
                            "<tr><td>1</td></tr>",
                            "<tr><td>1</td></tr>",
                            "<tr><td>1</td></tr>",
                            "<tr><td>1</td></tr>",
                            "<tr><td>1</td></tr>",
                            "<tr><td>1</td></tr>",
                            "<tr><td>1</td></tr>",
                            "<tr><td>1</td></tr>",
                            "<tr><td>1</td></tr>",
                            "<tr><td>1</td></tr>",
                            "<tr><td>1</td></tr>",
                            "<tr><td>1</td></tr>",
                            "<tr><td>1</td></tr>",
                            "<tr><td>1</td></tr>",
                            "<tr><td>1</td></tr>",
                            "<tr><td>1</td></tr>",
                            "<tr><td>1</td></tr>",
                            "<tr><td>1</td></tr>",
                            "<tr><td>1</td></tr>",
                            "<tr><td>1</td></tr>",
                            "<tr><td>1</td></tr>",
                            "<tr><td>1</td></tr>",
                            "<tr><td>1</td></tr>",
                            "<tr><td>1</td></tr>",
                            "<tr><td>1</td></tr>",
                            "<tr><td>1</td></tr>",
                            "<tr><td>1</td></tr>",
                            "<tr><td>1</td></tr>",
                            "<tr><td>1</td></tr>",
                            "<tr><td>1</td></tr>",
                            "<tr><td>1</td></tr>",
                            "<tr><td>1</td></tr>",
                            "<tr><td>1</td></tr>",
                            "<tr><td>1</td></tr>",
                            "<tr><td>1</td></tr>",
                            "<tr><td>1</td></tr>",
                            "<tr><td>1</td></tr>",
                            "<tr><td>1</td></tr>",
                            "<tr><td>1</td></tr>",
                            "<tr><td>1</td></tr>",
                            "<tr><td>1</td></tr>",
                            "<tr><td>1</td></tr>",
                            "<tr><td>1</td></tr>",
                            "<tr><td>1</td></tr>",
                            "<tr><td>1</td></tr>",
                            "<tr><td>1</td></tr>",
                            "<tr><td>1</td></tr>",
                            "<tr><td>1</td></tr>",
                            "<tr><td>1</td></tr>",
                            "<tr><td>1</td></tr>",
                            "<tr><td>1</td></tr>",
                            "<tr><td>1</td></tr>",
                            "<tr><td>1</td></tr>",
                            "<tr><td>1</td></tr>",
                            "<tr><td>1</td></tr>",
                            "<tr><td>1</td></tr>",
                            "<tr><td>1</td></tr>",
                            "<tr><td>1</td></tr>",
                            "<tr><td>1</td></tr>",
                            "<tr><td>1</td></tr>",
                            "<tr><td>1</td></tr>",
                            "<tr><td>1</td></tr>",
                            "<tr><td>1</td></tr>",
                            "<tr><td>1</td></tr>",
                            "<tr><td>1</td></tr>",
                            "<tr><td>1</td></tr>",
                            "<tr><td>1</td></tr>",
                            "<tr><td>1</td></tr>",
                            "<tr><td>1</td></tr>",
                            "<tr><td>1</td></tr>",
                            "<tr><td>1</td></tr>",
                            "<tr><td>1</td></tr>",
                            "<tr><td>1</td></tr>",
                            "<tr><td>1</td></tr>",
                            "<tr><td>1</td></tr>",
                            "<tr><td>1</td></tr>",
                            "<tr><td>1</td></tr>",
                            "<tr><td>1</td></tr>",
                            "<tr><td>1</td></tr>",
                            "<tr><td>1</td></tr>",
                            "<tr><td>1</td></tr>",
                            "<tr><td>1</td></tr>",
                            "<tr><td>1</td></tr>",
                            "<tr><td>1</td></tr>",
                            "<tr><td>1</td></tr>",
                            "<tr><td>1</td></tr>",
                            "<tr><td>1</td></tr>",
                            "<tr><td>1</td></tr>",
                            "<tr><td>1</td></tr>",
                            "<tr><td>1</td></tr>",
                            "<tr><td>1</td></tr>",
                            "<tr><td>1</td></tr>",
                            "<tr><td>1</td></tr>",
                            "<tr><td>1</td></tr>",
                            "<tr><td>1</td></tr>",
                            "<tr><td>1</td></tr>",
                            "<tr><td>1</td></tr>",
                            "<tr><td>1</td></tr>",
                            "<tr><td>1</td></tr>",
                            "<tr><td>1</td></tr>",
                            "<tr><td>1</td></tr>",
                            "<tr><td>1</td></tr>",
                            "<tr><td>1</td></tr>",
                            "<tr><td>1</td></tr>",
                            "<tr><td>1</td></tr>",
                            "<tr><td>1</td></tr>",
                            "<tr><td>1</td></tr>",
                            "<tr><td>1</td></tr>",
                            "<tr><td>1</td></tr>",
                            "<tr><td>1</td></tr>",
                            "<tr><td>1</td></tr>",
                            "<tr><td>1</td></tr>",
                            "<tr><td>1</td></tr>",
                            "<tr><td>1</td></tr>",
                            "<tr><td>1</td></tr>",
                            "<tr><td>1</td></tr>",
                            "<tr><td>1</td></tr>",
                            "<tr><td>1</td></tr>",
                            "<tr><td>1</td></tr>",
                            "<tr><td>1</td></tr>",
                            "<tr><td>1</td></tr>",
                            "<tr><td>1</td></tr>",
                            "<tr><td>1</td></tr>",
                            "<tr><td>1</td></tr>",
                            "<tr><td>1</td></tr>",
                            "<tr><td>1</td></tr>",
                            "<tr><td>1</td></tr>",
                            "<tr><td>1</td></tr>",
                            "<tr><td>1</td></tr>",
                            "<tr><td>1</td></tr>",
                            "<tr><td>1</td></tr>",
                            "<tr><td>1</td></tr>",
                            "<tr><td>1</td></tr>",
                            "<tr><td>1</td></tr>",
                            "<tr><td>1</td></tr>",
                            "<tr><td>1</td></tr>",
                            "<tr><td>1</td></tr>",
                            "<tr><td>1</td></tr>",
                            "<tr><td>1</td></tr>",
                            "<tr><td>1</td></tr>",
                            "<tr><td>1</td></tr>",
                            "<tr><td>1</td></tr>",
                            "<tr><td>1</td></tr>",
                            "<tr><td>1</td></tr>",
                            "<tr><td>1</td></tr>",
                            "<tr><td>1</td></tr>",
                            "<tr><td>1</td></tr>",
                            "<tr><td>1</td></tr>",
                            "<tr><td>1</td></tr>",
                            "<tr><td>1</td></tr>",
                            "<tr><td>1</td></tr>",
                            "<tr><td>1</td></tr>",
                            "<tr><td>1</td></tr>",
                            "<tr><td>1</td></tr>",
                            "<tr><td>1</td></tr>",
                            "<tr><td>1</td></tr>",
                            "<tr><td>1</td></tr>",
                            "<tr><td>1</td></tr>",
                            "<tr><td>1</td></tr>",
                            "<tr><td>1</td></tr>",
                            "<tr><td>1</td></tr>",
                            "<tr><td>1</td></tr>",
                            "<tr><td>1</td></tr>",
                            "<tr><td>1</td></tr>",
                            "<tr><td>1</td></tr>",
                            "<tr><td>1</td></tr>",
                            "<tr><td>1</td></tr>",
                            "<tr><td>1</td></tr>",
                            "<tr><td>1</td></tr>",
                            "<tr><td>1</td></tr>",
                            "<tr><td>1</td></tr>",
                            "<tr><td>1</td></tr>",
                            "<tr><td>1</td></tr>",
                            "<tr><td>1</td></tr>",
                            "<tr><td>1</td></tr>",
                            "<tr><td>1</td></tr>",
                            "<tr><td>1</td></tr>",
                            "<tr><td>1</td></tr>",
                            "<tr><td>1</td></tr>",
                            "<tr><td>1</td></tr>",
                            "<tr><td>1</td></tr>",
                            "<tr><td>1</td></tr>",
                            "<tr><td>1</td></tr>",
                            "<tr><td>1</td></tr>",
                            "<tr><td>1</td></tr>",
                            "<tr><td>1</td></tr>",
                            "<tr><td>1</td></tr>",
                            "<tr><td>1</td></tr>",
                            "<tr><td>1</td></tr>",
                            "<tr><td>1</td></tr>",
                            "<tr><td>1</td></tr>",
                            "<tr><td>1</td></tr>",
                            "<tr><td>1</td></tr>",
                            "<tr><td>1</td></tr>",
                            "<tr><td>1</td></tr>",
                            "<tr><td>1</td></tr>",
                            "<tr><td>1</td></tr>",
                            "<tr><td>1</td></tr>",
                            "<tr><td>1</td></tr>",
                            "<tr><td>1</td></tr>",
                            "<tr><td>1</td></tr>",
                            "<tr><td>1</td></tr>",
                            "<tr><td>1</td></tr>",
                            "<tr><td>1</td></tr>",
                            "<tr><td>1</td></tr>",
                            "<tr><td>1</td></tr>",
                            "<tr><td>1</td></tr>",
                            "<tr><td>1</td></tr>",
                            "<tr><td>1</td></tr>",
                            "<tr><td>1</td></tr>",
                            "<tr><td>1</td></tr>",
                            "<tr><td>1</td></tr>",
                            "<tr><td>1</td></tr>",
                            "<tr><td>1</td></tr>",
                            "<tr><td>1</td></tr>",
                            "<tr><td>1</td></tr>",
                            "<tr><td>1</td></tr>",
                            "<tr><td>1</td></tr>",
                            "<tr><td>1</td></tr>",
                            "<tr><td>1</td></tr>",
                            "<tr><td>1</td></tr>",
                            "<tr><td>1</td></tr>",
                            "<tr><td>1</td></tr>",
                            "<tr><td>1</td></tr>",
                            "<tr><td>1</td></tr>",
                            "<tr><td>1</td></tr>",
                            "<tr><td>1</td></tr>",
                            "<tr><td>1</td></tr>",
                            "<tr><td>1</td></tr>",
                            "<tr><td>1</td></tr>",
                            "<tr><td>1</td></tr>",
                            "<tr><td>1</td></tr>",
                            "<tr><td>1</td></tr>",
                            "<tr><td>1</td></tr>",
                            "<tr><td>1</td></tr>",
                            "<tr><td>1</td></tr>",
                            "<tr><td>1</td></tr>",
                            "<tr><td>1</td></tr>",
                            "<tr><td>1</td></tr>",
                            "<tr><td>1</td></tr>",
                            "<tr><td>1</td></tr>",
                            "<tr><td>1</td></tr>",
                            "<tr><td>1</td></tr>",
                            "<tr><td>2</td></tr>",
                            "<tr><td>2</td></tr>",
                            "<tr><td>1</td></tr>",
                            "<tr><td>1</td></tr>",
                            "<tr><td>1</td></tr>",
                            "<tr><td>1</td></tr>",
                            "<tr><td>1</td></tr>",
                            "<tr><td>1</td></tr>",
                            "<tr><td>1</td></tr>",
                            "<tr><td>1</td></tr>",
                            "<tr><td>1</td></tr>",
                            "<tr><td>1</td></tr>",
                            "<tr><td>1</td></tr>",
                            "<tr><td>1</td></tr>",
                            "<tr><td>1</td></tr>",
                            "<tr><td>1</td></tr>",
                            "<tr><td>1</td></tr>",
                            "<tr><td>1</td></tr>",
                            "<tr><td>1</td></tr>",
                            "<tr><td>1</td></tr>",
                            "<tr><td>1</td></tr>",
                            "<tr><td>1</td></tr>",
                            "<tr><td>1</td></tr>",
                            "<tr><td>1</td></tr>",
                            "<tr><td>1</td></tr>",
                            "<tr><td>1</td></tr>",
                            "<tr><td>1</td></tr>",
                            "<tr><td>1</td></tr>",
                            "<tr><td>1</td></tr>",
                            "<tr><td>1</td></tr>",
                            "<tr><td>1</td></tr>",
                            "<tr><td>1</td></tr>",
                            "<tr><td>1</td></tr>",
                            "<tr><td>1</td></tr>",
                            "<tr><td>1</td></tr>",
                            "<tr><td>1</td></tr>",
                            "<tr><td>1</td></tr>",
                            "<tr><td>1</td></tr>",
                            "<tr><td>1</td></tr>",
                            "<tr><td>1</td></tr>",
                            "<tr><td>1</td></tr>",
                            "<tr><td>1</td></tr>",
                            "<tr><td>1</td></tr>",
                            "<tr><td>1</td></tr>",
                            "<tr><td>1</td></tr>",
                            "<tr><td>1</td></tr>",
                            "<tr><td>1</td></tr>",
                            "<tr><td>1</td></tr>",
                            "<tr><td>1</td></tr>",
                            "<tr><td>1</td></tr>",
                            "<tr><td>1</td></tr>",
                            "<tr><td>1</td></tr>",
                            "<tr><td>1</td></tr>",
                            "<tr><td>1</td></tr>",
                            "<tr><td>1</td></tr>",
                            "<tr><td>1</td></tr>",
                            "<tr><td>1</td></tr>",
                            "<tr><td>1</td></tr>",
                            "<tr><td>1</td></tr>",
                            "<tr><td>1</td></tr>",
                            "<tr><td>1</td></tr>",
                            "<tr><td>1</td></tr>",
                            "<tr><td>1</td></tr>",
                            "<tr><td>1</td></tr>",
                            "<tr><td>1</td></tr>",
                            "<tr><td>1</td></tr>",
                            "<tr><td>1</td></tr>",
                            "<tr><td>1</td></tr>",
                            "<tr><td>1</td></tr>",
                            "<tr><td>1</td></tr>",
                            "<tr><td>1</td></tr>",
                            "<tr><td>1</td></tr>",
                            "<tr><td>1</td></tr>",
                            "<tr><td>1</td></tr>",
                            "<tr><td>1</td></tr>",
                            "<tr><td>1</td></tr>",
                            "<tr><td>1</td></tr>",
                            "<tr><td>1</td></tr>",
                            "<tr><td>1</td></tr>",
                            "<tr><td>1</td></tr>",
                            "<tr><td>1</td></tr>",
                            "<tr><td>1</td></tr>",
                            "<tr><td>1</td></tr>",
                            "<tr><td>1</td></tr>",
                            "<tr><td>1</td></tr>",
                            "<tr><td>1</td></tr>",
                            "<tr><td>1</td></tr>",
                            "<tr><td>1</td></tr>",
                            "<tr><td>1</td></tr>",
                            "<tr><td>1</td></tr>",
                            "<tr><td>1</td></tr>",
                            "<tr><td>1</td></tr>",
                            "<tr><td>1</td></tr>",
                            "<tr><td>1</td></tr>",
                            "<tr><td>1</td></tr>",
                            "<tr><td>1</td></tr>",
                            "<tr><td>1</td></tr>",
                            "<tr><td>1</td></tr>",
                            "<tr><td>1</td></tr>",
                            "<tr><td>1</td></tr>",
                            "<tr><td>1</td></tr>",
                            "<tr><td>1</td></tr>",
                            "<tr><td>1</td></tr>",
                            "<tr><td>1</td></tr>",
                            "<tr><td>1</td></tr>",
                            "<tr><td>1</td></tr>",
                            "<tr><td>1</td></tr>",
                            "<tr><td>1</td></tr>",
                            "<tr><td>1</td></tr>",
                            "<tr><td>1</td></tr>",
                            "<tr><td>1</td></tr>",
                            "<tr><td>1</td></tr>",
                            "<tr><td>1</td></tr>",
                            "<tr><td>1</td></tr>",
                            "<tr><td>1</td></tr>",
                            "<tr><td>1</td></tr>",
                            "<tr><td>1</td></tr>",
                            "<tr><td>1</td></tr>",
                            "<tr><td>1</td></tr>",
                            "<tr><td>1</td></tr>",
                            "<tr><td>1</td></tr>",
                            "<tr><td>1</td></tr>",
                            "<tr><td>1</td></tr>",
                            "<tr><td>1</td></tr>",
                            "<tr><td>1</td></tr>",
                            "<tr><td>1</td></tr>",
                            "<tr><td>1</td></tr>",
                            "<tr><td>1</td></tr>",
                            "<tr><td>1</td></tr>",
                            "<tr><td>1</td></tr>",
                            "<tr><td>1</td></tr>",
                            "<tr><td>1</td></tr>",
                            "<tr><td>1</td></tr>",
                            "<tr><td>1</td></tr>",
                            "<tr><td>1</td></tr>",
                            "<tr><td>1</td></tr>",
                            "<tr><td>1</td></tr>",
                            "<tr><td>1</td></tr>",
                            "<tr><td>1</td></tr>",
                            "<tr><td>1</td></tr>",
                            "<tr><td>1</td></tr>",
                            "<tr><td>1</td></tr>",
                            "<tr><td>1</td></tr>",
                            "<tr><td>1</td></tr>",
                            "<tr><td>1</td></tr>",
                            "<tr><td>1</td></tr>",
                            "<tr><td>1</td></tr>",
                            "<tr><td>1</td></tr>",
                            "<tr><td>1</td></tr>",
                            "<tr><td>1</td></tr>",
                            "<tr><td>1</td></tr>",
                            "<tr><td>1</td></tr>",
                            "<tr><td>1</td></tr>",
                            "<tr><td>1</td></tr>",
                            "<tr><td>1</td></tr>",
                            "<tr><td>1</td></tr>",
                            "<tr><td>1</td></tr>",
                            "<tr><td>1</td></tr>",
                            "<tr><td>1</td></tr>",
                            "<tr><td>1</td></tr>",
                            "<tr><td>1</td></tr>",
                            "<tr><td>1</td></tr>",
                            "<tr><td>1</td></tr>",
                            "<tr><td>1</td></tr>",
                            "<tr><td>1</td></tr>",
                            "<tr><td>1</td></tr>",
                            "<tr><td>1</td></tr>",
                            "<tr><td>1</td></tr>",
                            "<tr><td>1</td></tr>",
                            "<tr><td>1</td></tr>",
                            "<tr><td>1</td></tr>",
                            "<tr><td>1</td></tr>",
                            "<tr><td>1</td></tr>",
                            "<tr><td>1</td></tr>",
                            "<tr><td>1</td></tr>",
                            "<tr><td>1</td></tr>",
                            "<tr><td>1</td></tr>",
                            "<tr><td>1</td></tr>",
                            "<tr><td>1</td></tr>",
                            "<tr><td>1</td></tr>",
                            "<tr><td>1</td></tr>",
                            "<tr><td>1</td></tr>",
                            "<tr><td>1</td></tr>",
                            "<tr><td>1</td></tr>",
                            "<tr><td>1</td></tr>",
                            "<tr><td>1</td></tr>",
                            "<tr><td>1</td></tr>",
                            "<tr><td>1</td></tr>",
                            "<tr><td>1</td></tr>",
                            "<tr><td>1</td></tr>",
                            "<tr><td>1</td></tr>",
                            "<tr><td>1</td></tr>",
                            "<tr><td>1</td></tr>",
                            "<tr><td>1</td></tr>",
                            "<tr><td>1</td></tr>",
                            "<tr><td>1</td></tr>",
                            "<tr><td>1</td></tr>",
                            "<tr><td>1</td></tr>",
                            "<tr><td>1</td></tr>",
                            "<tr><td>1</td></tr>",
                            "<tr><td>1</td></tr>",
                            "<tr><td>1</td></tr>",
                            "<tr><td>1</td></tr>",
                            "<tr><td>1</td></tr>",
                            "<tr><td>1</td></tr>",
                            "<tr><td>1</td></tr>",
                            "<tr><td>1</td></tr>",
                            "<tr><td>1</td></tr>",
                            "<tr><td>1</td></tr>",
                            "<tr><td>1</td></tr>",
                            "<tr><td>1</td></tr>",
                            "<tr><td>1</td></tr>",
                            "<tr><td>1</td></tr>",
                            "<tr><td>1</td></tr>",
                            "<tr><td>1</td></tr>",
                            "<tr><td>1</td></tr>",
                            "<tr><td>1</td></tr>",
                            "<tr><td>1</td></tr>",
                            "<tr><td>1</td></tr>",
                            "<tr><td>1</td></tr>",
                            "<tr><td>1</td></tr>",
                            "<tr><td>1</td></tr>",
                            "<tr><td>1</td></tr>",
                            "<tr><td>1</td></tr>",
                            "<tr><td>1</td></tr>",
                            "<tr><td>1</td></tr>",
                            "<tr><td>1</td></tr>",
                            "<tr><td>1</td></tr>",
                            "<tr><td>1</td></tr>",
                            "<tr><td>1</td></tr>",
                            "<tr><td>1</td></tr>",
                            "<tr><td>1</td></tr>",
                            "<tr><td>1</td></tr>",
                            "<tr><td>1</td></tr>",
                            "<tr><td>1</td></tr>",
                            "<tr><td>1</td></tr>",
                            "<tr><td>1</td></tr>",
                            "<tr><td>1</td></tr>",
                            "<tr><td>1</td></tr>",
                            "<tr><td>1</td></tr>",
                            "<tr><td>1</td></tr>",
                            "<tr><td>1</td></tr>",
                            "<tr><td>1</td></tr>",
                            "<tr><td>1</td></tr>",
                            "<tr><td>1</td></tr>",
                            "<tr><td>1</td></tr>",
                            "<tr><td>1</td></tr>",
                            "<tr><td>1</td></tr>",
                            "<tr><td>1</td></tr>",
                            "<tr><td>1</td></tr>",
                            "<tr><td>1</td></tr>",
                            "<tr><td>1</td></tr>",
                            "<tr><td>1</td></tr>",
                            "<tr><td>1</td></tr>",
                            "<tr><td>1</td></tr>",
                            "<tr><td>1</td></tr>",
                            "<tr><td>1</td></tr>",
                            "<tr><td>1</td></tr>",
                            "<tr><td>1</td></tr>",
                            "<tr><td>1</td></tr>",
                            "<tr><td>1</td></tr>",
                            "<tr><td>1</td></tr>",
                            "<tr><td>1</td></tr>",
                            "<tr><td>1</td></tr>",
                            "<tr><td>1</td></tr>",
                            "<tr><td>1</td></tr>",
                            "<tr><td>2</td></tr>",
                            "<tr><td>2</td></tr>",
                            "<tr><td>1</td></tr>",
                            "<tr><td>1</td></tr>",
                            "<tr><td>1</td></tr>",
                            "<tr><td>1</td></tr>",
                            "<tr><td>1</td></tr>",
                            "<tr><td>1</td></tr>",
                            "<tr><td>1</td></tr>",
                            "<tr><td>1</td></tr>",
                            "<tr><td>1</td></tr>",
                            "<tr><td>2</td></tr>",
                            "<tr><td>2</td></tr>",
                            "<tr><td>1</td></tr>",
                            "<tr><td>1</td></tr>",
                            "<tr><td>1</td></tr>",
                            "<tr><td>1</td></tr>",
                            "<tr><td>1</td></tr>",
                            "<tr><td>1</td></tr>",
                            "<tr><td>1</td></tr>",
                            "<tr><td>1</td></tr>",
                            "<tr><td>1</td></tr>",
                            "<tr><td>1</td></tr>",
                            "<tr><td>1</td></tr>",
                            "<tr><td>1</td></tr>",
                            "<tr><td>1</td></tr>",
                            "<tr><td>1</td></tr>",
                            "<tr><td>1</td></tr>",
                            "<tr><td>1</td></tr>",
                            "<tr><td>1</td></tr>",
                            "<tr><td>1</td></tr>",
                            "<tr><td>1</td></tr>",
                            "<tr><td>1</td></tr>",
                            "<tr><td>1</td></tr>",
                            "<tr><td>1</td></tr>",
                            "<tr><td>1</td></tr>",
                            "<tr><td>1</td></tr>",
                            "<tr><td>1</td></tr>",
                            "<tr><td>1</td></tr>",
                            "<tr><td>1</td></tr>",
                            "<tr><td>1</td></tr>",
                            "<tr><td>1</td></tr>",
                            "<tr><td>1</td></tr>",
                            "<tr><td>1</td></tr>",
                            "<tr><td>1</td></tr>",
                            "<tr><td>1</td></tr>",
                            "<tr><td>1</td></tr>",
                            "<tr><td>1</td></tr>",
                            "<tr><td>1</td></tr>",
                            "<tr><td>1</td></tr>",
                            "<tr><td>1</td></tr>",
                            "<tr><td>1</td></tr>",
                            "<tr><td>1</td></tr>",
                            "<tr><td>1</td></tr>",
                            "<tr><td>2</td></tr>",
                            "<tr><td>2</td></tr>",
                            "<tr><td>1</td></tr>",
                            "<tr><td>1</td></tr>",
                            "<tr><td>1</td></tr>",
                            "<tr><td>1</td></tr>",
                            "<tr><td>1</td></tr>",
                            "<tr><td>1</td></tr>",
                            "<tr><td>1</td></tr>",
                            "<tr><td>1</td></tr>",
                            "<tr><td>1</td></tr>",
                            "<tr><td>1</td></tr>",
                            "<tr><td>1</td></tr>",
                            "<tr><td>1</td></tr>",
                            "<tr><td>1</td></tr>",
                            "<tr><td>1</td></tr>",
                            "<tr><td>1</td></tr>",
                            "<tr><td>1</td></tr>",
                            "<tr><td>1</td></tr>",
                            "<tr><td>1</td></tr>",
                            "<tr><td>1</td></tr>",
                            "<tr><td>1</td></tr>",
                            "<tr><td>1</td></tr>",
                            "<tr><td>1</td></tr>",
                            "<tr><td>1</td></tr>",
                            "<tr><td>1</td></tr>",
                            "<tr><td>1</td></tr>",
                            "<tr><td>3</td></tr>",
                            "<tr><td>3</td></tr>",
                            "<tr><td>3</td></tr>",
                            "<tr><td>1</td></tr>",
                            "<tr><td>1</td></tr>",
                            "<tr><td>1</td></tr>",
                            "<tr><td>1</td></tr>",
                            "<tr><td>1</td></tr>",
                            "<tr><td>1</td></tr>",
                            "<tr><td>1</td></tr>",
                            "<tr><td>1</td></tr>",
                            "<tr><td>1</td></tr>",
                            "<tr><td>1</td></tr>",
                            "<tr><td>1</td></tr>",
                            "<tr><td>1</td></tr>",
                            "<tr><td>1</td></tr>",
                            "<tr><td>1</td></tr>",
                            "<tr><td>1</td></tr>",
                            "<tr><td>1</td></tr>",
                            "<tr><td>1</td></tr>",
                            "<tr><td>1</td></tr>",
                            "<tr><td>1</td></tr>",
                            "<tr><td>1</td></tr>",
                            "<tr><td>1</td></tr>",
                            "<tr><td>1</td></tr>",
                            "<tr><td>1</td></tr>",
                            "<tr><td>1</td></tr>",
                            "<tr><td>1</td></tr>",
                            "<tr><td>1</td></tr>",
                            "<tr><td>1</td></tr>",
                            "<tr><td>1</td></tr>",
                            "<tr><td>1</td></tr>",
                            "<tr><td>1</td></tr>",
                            "<tr><td>1</td></tr>",
                            "<tr><td>1</td></tr>",
                            "<tr><td>1</td></tr>",
                            "<tr><td>1</td></tr>",
                            "<tr><td>1</td></tr>",
                            "<tr><td>1</td></tr>",
                            "<tr><td>1</td></tr>",
                            "<tr><td>1</td></tr>",
                            "<tr><td>1</td></tr>",
                            "<tr><td>1</td></tr>",
                            "<tr><td>1</td></tr>",
                            "<tr><td>1</td></tr>",
                            "<tr><td>1</td></tr>",
                            "<tr><td>1</td></tr>",
                            "<tr><td>1</td></tr>",
                            "<tr><td>1</td></tr>",
                            "<tr><td>1</td></tr>",
                            "<tr><td>1</td></tr>",
                            "<tr><td>1</td></tr>",
                            "<tr><td>1</td></tr>",
                            "<tr><td>1</td></tr>",
                            "<tr><td>1</td></tr>",
                            "<tr><td>1</td></tr>",
                            "<tr><td>1</td></tr>",
                            "<tr><td>1</td></tr>",
                            "<tr><td>1</td></tr>",
                            "<tr><td>1</td></tr>",
                            "<tr><td>1</td></tr>",
                            "<tr><td>1</td></tr>",
                            "<tr><td>1</td></tr>",
                            "<tr><td>1</td></tr>",
                            "<tr><td>1</td></tr>",
                            "<tr><td>1</td></tr>",
                            "<tr><td>1</td></tr>",
                            "<tr><td>1</td></tr>",
                            "<tr><td>1</td></tr>",
                            "<tr><td>1</td></tr>",
                            "<tr><td>1</td></tr>",
                            "<tr><td>1</td></tr>",
                            "<tr><td>1</td></tr>",
                            "<tr><td>1</td></tr>",
                            "<tr><td>1</td></tr>",
                            "<tr><td>1</td></tr>",
                            "<tr><td>1</td></tr>",
                            "<tr><td>1</td></tr>",
                            "<tr><td>1</td></tr>",
                            "<tr><td>1</td></tr>",
                            "<tr><td>1</td></tr>",
                            "<tr><td>1</td></tr>",
                            "<tr><td>1</td></tr>",
                            "<tr><td>1</td></tr>",
                            "<tr><td>2</td></tr>",
                            "<tr><td>2</td></tr>",
                            "<tr><td>1</td></tr>",
                            "<tr><td>1</td></tr>",
                            "<tr><td>1</td></tr>",
                            "<tr><td>1</td></tr>",
                            "<tr><td>1</td></tr>",
                            "<tr><td>1</td></tr>",
                            "<tr><td>1</td></tr>",
                            "<tr><td>1</td></tr>",
                            "<tr><td>1</td></tr>",
                            "<tr><td>1</td></tr>",
                            "<tr><td>1</td></tr>",
                            "<tr><td>1</td></tr>",
                            "<tr><td>1</td></tr>",
                            "<tr><td>1</td></tr>",
                            "<tr><td>1</td></tr>",
                            "<tr><td>1</td></tr>",
                            "<tr><td>1</td></tr>",
                            "<tr><td>1</td></tr>",
                            "<tr><td>1</td></tr>",
                            "<tr><td>1</td></tr>",
                            "<tr><td>1</td></tr>",
                            "<tr><td>1</td></tr>",
                            "<tr><td>1</td></tr>",
                            "<tr><td>1</td></tr>",
                            "<tr><td>1</td></tr>",
                            "<tr><td>1</td></tr>",
                            "<tr><td>1</td></tr>",
                            "<tr><td>1</td></tr>",
                            "<tr><td>1</td></tr>",
                            "<tr><td>1</td></tr>",
                            "<tr><td>1</td></tr>",
                            "<tr><td>1</td></tr>",
                            "<tr><td>1</td></tr>",
                            "<tr><td>1</td></tr>",
                            "<tr><td>1</td></tr>",
                            "<tr><td>1</td></tr>",
                            "<tr><td>1</td></tr>",
                            "<tr><td>1</td></tr>",
                            "<tr><td>1</td></tr>",
                            "<tr><td>1</td></tr>",
                            "<tr><td>1</td></tr>",
                            "<tr><td>1</td></tr>",
                            "<tr><td>1</td></tr>",
                            "<tr><td>1</td></tr>",
                            "<tr><td>1</td></tr>",
                            "<tr><td>1</td></tr>",
                            "<tr><td>1</td></tr>",
                            "<tr><td>1</td></tr>",
                            "<tr><td>1</td></tr>",
                            "<tr><td>1</td></tr>",
                            "<tr><td>1</td></tr>",
                            "<tr><td>1</td></tr>",
                            "<tr><td>1</td></tr>",
                            "<tr><td>1</td></tr>",
                            "<tr><td>1</td></tr>",
                            "<tr><td>1</td></tr>",
                            "<tr><td>1</td></tr>",
                            "<tr><td>1</td></tr>",
                            "<tr><td>1</td></tr>",
                            "<tr><td>1</td></tr>",
                            "<tr><td>1</td></tr>",
                            "<tr><td>1</td></tr>",
                            "<tr><td>1</td></tr>",
                            "<tr><td>1</td></tr>",
                            "<tr><td>1</td></tr>",
                            "<tr><td>1</td></tr>",
                            "<tr><td>1</td></tr>",
                            "<tr><td>1</td></tr>",
                            "<tr><td>1</td></tr>",
                            "<tr><td>1</td></tr>",
                            "<tr><td>1</td></tr>",
                            "<tr><td>1</td></tr>",
                            "<tr><td>1</td></tr>",
                            "<tr><td>1</td></tr>",
                            "<tr><td>1</td></tr>",
                            "<tr><td>1</td></tr>",
                            "<tr><td>1</td></tr>",
                            "<tr><td>1</td></tr>",
                            "<tr><td>1</td></tr>",
                            "<tr><td>1</td></tr>",
                            "<tr><td>1</td></tr>",
                            "<tr><td>1</td></tr>",
                            "<tr><td>1</td></tr>",
                            "<tr><td>1</td></tr>",
                            "<tr><td>1</td></tr>",
                            "<tr><td>1</td></tr>",
                            "<tr><td>1</td></tr>",
                            "<tr><td>1</td></tr>",
                            "<tr><td>1</td></tr>",
                            "<tr><td>1</td></tr>",
                            "<tr><td>1</td></tr>",
                            "</table>"
                        ]
                    }
                }
            ],
            "execution_count": 33
        },
        {
            "cell_type": "markdown",
            "source": [
                "A Szoba tábla Ferohely oszlopára végezzük el a következő számításokat:\n",
                "\n",
                "- Különböző értékek száma\n",
                "- Minimum, maximum, átlag\n",
                "- Null és Not null értékek százalékos aránya"
            ],
            "metadata": {
                "language": "sql",
                "azdata_cell_guid": "b31c7b07-14da-4691-9e16-ab7861a37834"
            },
            "attachments": {}
        },
        {
            "cell_type": "code",
            "source": [
                "SELECT distinct COUNT(FEROHELY)\r\n",
                "from Szoba"
            ],
            "metadata": {
                "language": "sql",
                "azdata_cell_guid": "b8e7472d-77b8-4df0-bdad-7d062afa4c59"
            },
            "outputs": [
                {
                    "output_type": "display_data",
                    "data": {
                        "text/html": "(1 row affected)"
                    },
                    "metadata": {}
                },
                {
                    "output_type": "display_data",
                    "data": {
                        "text/html": "Total execution time: 00:00:00.010"
                    },
                    "metadata": {}
                },
                {
                    "output_type": "execute_result",
                    "metadata": {},
                    "execution_count": 34,
                    "data": {
                        "application/vnd.dataresource+json": {
                            "schema": {
                                "fields": [
                                    {
                                        "name": "(No column name)"
                                    }
                                ]
                            },
                            "data": [
                                {
                                    "(No column name)": "294"
                                }
                            ]
                        },
                        "text/html": [
                            "<table>",
                            "<tr><th>(No column name)</th></tr>",
                            "<tr><td>294</td></tr>",
                            "</table>"
                        ]
                    }
                }
            ],
            "execution_count": 34
        },
        {
            "cell_type": "code",
            "source": [
                "SELECT MIN(ferohely), MAX(FEROHELY),AVG(FEROHELY)\r\n",
                "from Szoba"
            ],
            "metadata": {
                "language": "sql",
                "azdata_cell_guid": "8d651e28-8db2-4e18-9880-e17bfd849144",
                "tags": [
                    "hide_input"
                ]
            },
            "outputs": [
                {
                    "output_type": "display_data",
                    "data": {
                        "text/html": "(1 row affected)"
                    },
                    "metadata": {}
                },
                {
                    "output_type": "display_data",
                    "data": {
                        "text/html": "Total execution time: 00:00:00.005"
                    },
                    "metadata": {}
                },
                {
                    "output_type": "execute_result",
                    "metadata": {},
                    "execution_count": 35,
                    "data": {
                        "application/vnd.dataresource+json": {
                            "schema": {
                                "fields": [
                                    {
                                        "name": "(No column name)"
                                    },
                                    {
                                        "name": "(No column name)"
                                    },
                                    {
                                        "name": "(No column name)"
                                    }
                                ]
                            },
                            "data": [
                                {
                                    "(No column name)": "2"
                                }
                            ]
                        },
                        "text/html": [
                            "<table>",
                            "<tr><th>(No column name)</th><th>(No column name)</th><th>(No column name)</th></tr>",
                            "<tr><td>1</td><td>4</td><td>2</td></tr>",
                            "</table>"
                        ]
                    }
                }
            ],
            "execution_count": 35
        },
        {
            "cell_type": "code",
            "source": [
                "SELECT COUNT(*), sum(case when FEROHELY is not null then 1 else 0 end) /count(*),\r\n",
                "                    SUM(case when ferohely is null then 1 else 0 end) / COUNT(*)\r\n",
                "from Szoba"
            ],
            "metadata": {
                "language": "sql",
                "azdata_cell_guid": "e5d549e9-286f-4ffe-aa61-d92d181e60bd"
            },
            "outputs": [
                {
                    "output_type": "display_data",
                    "data": {
                        "text/html": "(1 row affected)"
                    },
                    "metadata": {}
                },
                {
                    "output_type": "display_data",
                    "data": {
                        "text/html": "Total execution time: 00:00:00.003"
                    },
                    "metadata": {}
                },
                {
                    "output_type": "execute_result",
                    "metadata": {},
                    "execution_count": 39,
                    "data": {
                        "application/vnd.dataresource+json": {
                            "schema": {
                                "fields": [
                                    {
                                        "name": "(No column name)"
                                    },
                                    {
                                        "name": "(No column name)"
                                    },
                                    {
                                        "name": "(No column name)"
                                    }
                                ]
                            },
                            "data": [
                                {
                                    "(No column name)": "0"
                                }
                            ]
                        },
                        "text/html": [
                            "<table>",
                            "<tr><th>(No column name)</th><th>(No column name)</th><th>(No column name)</th></tr>",
                            "<tr><td>294</td><td>1</td><td>0</td></tr>",
                            "</table>"
                        ]
                    }
                }
            ],
            "execution_count": 39
        },
        {
            "cell_type": "markdown",
            "source": [
                "Valósítsa meg REDIS-ben a következő táblákat:\n",
                "\n",
                "- <span style=\"box-sizing: border-box; font-size: 0.9375rem;\">IRO(ID, nev, nemzetiseg)</span>\n",
                "- KONYV(ID, cim, mufaj, IRO\\_ID)\n",
                "\n",
                "Vigyen fel táblánként legalább 2-2 sornyi adatot!"
            ],
            "metadata": {
                "azdata_cell_guid": "8b2670ae-2929-4dd2-b453-1728d86a4552"
            },
            "attachments": {}
        },
        {
            "cell_type": "markdown",
            "source": [
                "<span style=\"color: rgb(181, 182, 192); font-family: Inconsolata; white-space: pre-wrap; background-color: rgb(23, 23, 23);\">&gt; </span> <span class=\"cli-command-wrapper\" data-testid=\"cli-command-wrapper\" style=\"box-sizing: border-box; margin: 0px; padding: 0px; border: none; vertical-align: baseline; white-space: pre-line; font-family: Inconsolata; color: rgb(181, 182, 192); background-color: rgb(23, 23, 23); font-variant-numeric: normal !important; font-variant-east-asian: normal !important; font-kerning: auto !important; font-optical-sizing: auto !important; font-feature-settings: normal !important; font-variation-settings: normal !important; font-weight: bold !important; font-stretch: normal !important; line-height: 15px !important;\">hset IRO:1 nev 'Kiss Bela' nemzetiseg magyar</span> \n",
                "\n",
                "<span class=\"cli-output-response-success\" data-testid=\"cli-output-response-success\" style=\"box-sizing: border-box; margin: 0px; padding: 0px; border: none; vertical-align: baseline; font-family: Inconsolata; white-space: pre-wrap; background-color: rgb(23, 23, 23); color: var(--cliOutputResponseColor)  !important;\">(integer) 2</span> \n",
                "\n",
                "<span style=\"color: rgb(181, 182, 192); font-family: Inconsolata; white-space: pre-wrap; background-color: rgb(23, 23, 23);\">&gt;</span><span class=\"cli-command-wrapper\" data-testid=\"cli-command-wrapper\" style=\"box-sizing: border-box; margin: 0px; padding: 0px; border: none; vertical-align: baseline; white-space: pre-line; font-family: Inconsolata; color: rgb(181, 182, 192); background-color: rgb(23, 23, 23); font-variant-numeric: normal !important; font-variant-east-asian: normal !important; font-kerning: auto !important; font-optical-sizing: auto !important; font-feature-settings: normal !important; font-variation-settings: normal !important; font-weight: bold !important; font-stretch: normal !important; line-height: 15px !important;\">hset IRO:2 nev 'Toth Otto' nemzetiseg szlovak</span> \n",
                "\n",
                "<span class=\"cli-output-response-success\" data-testid=\"cli-output-response-success\" style=\"box-sizing: border-box; margin: 0px; padding: 0px; border: none; vertical-align: baseline; font-family: Inconsolata; white-space: pre-wrap; background-color: rgb(23, 23, 23); color: var(--cliOutputResponseColor)  !important;\">(integer) 2</span>\n",
                "\n",
                "<span style=\"color: rgb(181, 182, 192); font-family: Inconsolata; white-space: pre-wrap; background-color: rgb(23, 23, 23);\">&gt; </span> <span class=\"cli-command-wrapper\" data-testid=\"cli-command-wrapper\" style=\"box-sizing: border-box; margin: 0px; padding: 0px; border: none; vertical-align: baseline; white-space: pre-line; font-family: Inconsolata; color: rgb(181, 182, 192); background-color: rgb(23, 23, 23); font-variant-numeric: normal !important; font-variant-east-asian: normal !important; font-kerning: auto !important; font-optical-sizing: auto !important; font-feature-settings: normal !important; font-variation-settings: normal !important; font-weight: bold !important; font-stretch: normal !important; line-height: 15px !important;\">hset KONYV:1 cim 'Konyvek Konyve' mufaj kotet IRO_ID 1</span> \n",
                "\n",
                "<span class=\"cli-output-response-success\" data-testid=\"cli-output-response-success\" style=\"box-sizing: border-box; margin: 0px; padding: 0px; border: none; vertical-align: baseline; font-family: Inconsolata; white-space: pre-wrap; background-color: rgb(23, 23, 23); color: var(--cliOutputResponseColor)  !important;\">(integer) 3</span>\n",
                "\n",
                "<span style=\"color: rgb(181, 182, 192); font-family: Inconsolata; white-space: pre-wrap; background-color: rgb(23, 23, 23);\">&gt;</span><span class=\"cli-command-wrapper\" data-testid=\"cli-command-wrapper\" style=\"box-sizing: border-box; margin: 0px; padding: 0px; border: none; vertical-align: baseline; white-space: pre-line; font-family: Inconsolata; color: rgb(181, 182, 192); background-color: rgb(23, 23, 23); font-variant-numeric: normal !important; font-variant-east-asian: normal !important; font-kerning: auto !important; font-optical-sizing: auto !important; font-feature-settings: normal !important; font-variation-settings: normal !important; font-weight: bold !important; font-stretch: normal !important; line-height: 15px !important;\">hset KONYV:2 cim 'Garfield' mufaj regeny IRO_ID 2</span> \n",
                "\n",
                "<span class=\"cli-output-response-success\" data-testid=\"cli-output-response-success\" style=\"box-sizing: border-box; margin: 0px; padding: 0px; border: none; vertical-align: baseline; font-family: Inconsolata; white-space: pre-wrap; background-color: rgb(23, 23, 23); color: var(--cliOutputResponseColor)  !important;\">(integer) 3</span>"
            ],
            "metadata": {
                "azdata_cell_guid": "5a22054a-2ed0-437b-8040-0010cbbc90d9"
            },
            "attachments": {}
        },
        {
            "cell_type": "markdown",
            "source": [
                "A Neo4j Sandbox-ban vagy a Desktopban jelenítsük meg azon személyeket, akik egy filmben szerepeltek Tom Hanks-sel.\n",
                "\n",
                "- Egy szereplő neve csak egyszer jelenjen meg\n",
                "- Tom Hanks ne legyen benne a listában\n",
                "\n",
                "Válaszszöveg 8 kérdés\n",
                "\n",
                "Rich text szerkesztő"
            ],
            "metadata": {
                "language": "sql",
                "azdata_cell_guid": "b49d1e19-830a-4181-a6ec-c40ea1114b6e"
            },
            "attachments": {}
        },
        {
            "cell_type": "markdown",
            "source": [
                "<span style=\"color: #859900;\">match</span><span style=\"color: #586e75;\">(</span><span style=\"color: #333333;\">p</span><span style=\"color: #586e75;\">:</span><span style=\"color: #333333;\">Person</span><span style=\"color: #586e75;\">)-[:</span><span style=\"color: #333333;\">ACTED_IN</span><span style=\"color: #586e75;\">]-&gt;(</span><span style=\"color: #333333;\">m</span><span style=\"color: #586e75;\">:</span><span style=\"color: #333333;\">Movie</span><span style=\"color: #586e75;\">)</span>\n",
                "\n",
                "<span style=\"color: #859900;\">where</span> <span style=\"color: #333333;\">&nbsp;p</span><span style=\"color: #586e75;\">.</span><span style=\"color: #859900;\">name</span><span style=\"color: #586e75;\">&lt;&gt;</span><span style=\"color: #b58900;\">\"Tom&nbsp;Hanks\"</span>\n",
                "\n",
                "<span style=\"color: #859900;\">return</span> <span style=\"color: #859900;\">distinct</span> <span style=\"color: #333333;\">&nbsp;p</span><span style=\"color: #586e75;\">.</span><span style=\"color: #859900;\">name</span>"
            ],
            "metadata": {
                "language": "sql",
                "azdata_cell_guid": "888fd98b-d789-4480-920a-519244323b75"
            },
            "attachments": {}
        }
    ]
}