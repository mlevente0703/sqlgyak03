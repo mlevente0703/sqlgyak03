{
    "metadata": {
        "kernelspec": {
            "name": "SQL",
            "display_name": "SQL",
            "language": "sql"
        },
        "language_info": {
            "name": "sql",
            "version": ""
        }
    },
    "nbformat_minor": 2,
    "nbformat": 4,
    "cells": [
        {
            "cell_type": "code",
            "source": [
                ""
            ],
            "metadata": {
                "azdata_cell_guid": "449a7150-5f25-4d45-ac4e-589cc5a7b58d",
                "language": "sql"
            },
            "outputs": [],
            "execution_count": null
        }
    ]
}