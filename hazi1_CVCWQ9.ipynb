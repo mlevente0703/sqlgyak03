{
    "metadata": {
        "kernelspec": {
            "name": "SQL",
            "display_name": "SQL",
            "language": "sql"
        },
        "language_info": {
            "name": "sql",
            "version": ""
        }
    },
    "nbformat_minor": 2,
    "nbformat": 4,
    "cells": [
        {
            "cell_type": "code",
            "source": [
                "SELECT stilus, MIN(nettoar) as 'Legkisebb nettó ár', MAX(nettoar) as 'Legnagyobb nettó ár', AVG(nettoar) as 'Átlag nettó ár'\r\n",
                "FROM dvd\r\n",
                "GROUP BY stilus\r\n",
                ""
            ],
            "metadata": {
                "azdata_cell_guid": "449a7150-5f25-4d45-ac4e-589cc5a7b58d",
                "language": "sql",
                "tags": []
            },
            "outputs": [
                {
                    "output_type": "display_data",
                    "data": {
                        "text/html": "(48 rows affected)"
                    },
                    "metadata": {}
                },
                {
                    "output_type": "display_data",
                    "data": {
                        "text/html": "Total execution time: 00:00:00.048"
                    },
                    "metadata": {}
                },
                {
                    "output_type": "execute_result",
                    "metadata": {},
                    "execution_count": 4,
                    "data": {
                        "application/vnd.dataresource+json": {
                            "schema": {
                                "fields": [
                                    {
                                        "name": "stilus"
                                    },
                                    {
                                        "name": "Legkisebb nettó ár"
                                    },
                                    {
                                        "name": "Legnagyobb nettó ár"
                                    },
                                    {
                                        "name": "Átlag nettó ár"
                                    }
                                ]
                            },
                            "data": [
                                {
                                    "stilus": "NULL",
                                    "Legkisebb nettó ár": "4478",
                                    "Legnagyobb nettó ár": "4478",
                                    "Átlag nettó ár": "4478"
                                },
                                {
                                    "stilus": "állattan",
                                    "Legkisebb nettó ár": "4153",
                                    "Legnagyobb nettó ár": "5235",
                                    "Átlag nettó ár": "4783,666666666667"
                                },
                                {
                                    "stilus": "ásványtan",
                                    "Legkisebb nettó ár": "5624",
                                    "Legnagyobb nettó ár": "5624",
                                    "Átlag nettó ár": "5624"
                                },
                                {
                                    "stilus": "betűtípusok",
                                    "Legkisebb nettó ár": "3845",
                                    "Legnagyobb nettó ár": "3845",
                                    "Átlag nettó ár": "3845"
                                },
                                {
                                    "stilus": "biológia",
                                    "Legkisebb nettó ár": "3482",
                                    "Legnagyobb nettó ár": "5543",
                                    "Átlag nettó ár": "4299,8"
                                },
                                {
                                    "stilus": "csillagászat",
                                    "Legkisebb nettó ár": "3582",
                                    "Legnagyobb nettó ár": "5992",
                                    "Átlag nettó ár": "4733,571428571428"
                                },
                                {
                                    "stilus": "felvételi",
                                    "Legkisebb nettó ár": "3102",
                                    "Legnagyobb nettó ár": "5955",
                                    "Átlag nettó ár": "4501,333333333333"
                                },
                                {
                                    "stilus": "festészet",
                                    "Legkisebb nettó ár": "4394",
                                    "Legnagyobb nettó ár": "5408",
                                    "Átlag nettó ár": "4901"
                                },
                                {
                                    "stilus": "filmtörténet",
                                    "Legkisebb nettó ár": "3138",
                                    "Legnagyobb nettó ár": "4204",
                                    "Átlag nettó ár": "3671"
                                },
                                {
                                    "stilus": "fizika",
                                    "Legkisebb nettó ár": "3734",
                                    "Legnagyobb nettó ár": "5763",
                                    "Átlag nettó ár": "4769"
                                },
                                {
                                    "stilus": "fordító program",
                                    "Legkisebb nettó ár": "5036",
                                    "Legnagyobb nettó ár": "5036",
                                    "Átlag nettó ár": "5036"
                                },
                                {
                                    "stilus": "földrajz",
                                    "Legkisebb nettó ár": "3123",
                                    "Legnagyobb nettó ár": "6065",
                                    "Átlag nettó ár": "4580,0625"
                                },
                                {
                                    "stilus": "gasztronómia",
                                    "Legkisebb nettó ár": "3258",
                                    "Legnagyobb nettó ár": "5706",
                                    "Átlag nettó ár": "4691"
                                },
                                {
                                    "stilus": "gépírás",
                                    "Legkisebb nettó ár": "3936",
                                    "Legnagyobb nettó ár": "3936",
                                    "Átlag nettó ár": "3936"
                                },
                                {
                                    "stilus": "hadtudomány",
                                    "Legkisebb nettó ár": "3515",
                                    "Legnagyobb nettó ár": "3515",
                                    "Átlag nettó ár": "3515"
                                },
                                {
                                    "stilus": "humor",
                                    "Legkisebb nettó ár": "5573",
                                    "Legnagyobb nettó ár": "5573",
                                    "Átlag nettó ár": "5573"
                                },
                                {
                                    "stilus": "irodalom",
                                    "Legkisebb nettó ár": "3391",
                                    "Legnagyobb nettó ár": "5654",
                                    "Átlag nettó ár": "4464,1875"
                                },
                                {
                                    "stilus": "irodalom, nyelv",
                                    "Legkisebb nettó ár": "4704",
                                    "Legnagyobb nettó ár": "4704",
                                    "Átlag nettó ár": "4704"
                                },
                                {
                                    "stilus": "ismeretterjesztő",
                                    "Legkisebb nettó ár": "3256",
                                    "Legnagyobb nettó ár": "6072",
                                    "Átlag nettó ár": "4726,673913043478"
                                },
                                {
                                    "stilus": "ismeretterjesztő + játék",
                                    "Legkisebb nettó ár": "3107",
                                    "Legnagyobb nettó ár": "3107",
                                    "Átlag nettó ár": "3107"
                                },
                                {
                                    "stilus": "játék",
                                    "Legkisebb nettó ár": "3110",
                                    "Legnagyobb nettó ár": "6078",
                                    "Átlag nettó ár": "4850,466666666666"
                                },
                                {
                                    "stilus": "játék - autós",
                                    "Legkisebb nettó ár": "3989",
                                    "Legnagyobb nettó ár": "3989",
                                    "Átlag nettó ár": "3989"
                                },
                                {
                                    "stilus": "játék (autóverseny)",
                                    "Legkisebb nettó ár": "3106",
                                    "Legnagyobb nettó ár": "5005",
                                    "Átlag nettó ár": "3862,75"
                                },
                                {
                                    "stilus": "játék (jégkorong)",
                                    "Legkisebb nettó ár": "5242",
                                    "Legnagyobb nettó ár": "5242",
                                    "Átlag nettó ár": "5242"
                                },
                                {
                                    "stilus": "játék (labdarúgás)",
                                    "Legkisebb nettó ár": "3871",
                                    "Legnagyobb nettó ár": "5522",
                                    "Átlag nettó ár": "4817,333333333333"
                                },
                                {
                                    "stilus": "játék (repülős)",
                                    "Legkisebb nettó ár": "4311",
                                    "Legnagyobb nettó ár": "4311",
                                    "Átlag nettó ár": "4311"
                                },
                                {
                                    "stilus": "játék (rodeó)",
                                    "Legkisebb nettó ár": "5591",
                                    "Legnagyobb nettó ár": "5591",
                                    "Átlag nettó ár": "5591"
                                },
                                {
                                    "stilus": "játék (történelmi)",
                                    "Legkisebb nettó ár": "3707",
                                    "Legnagyobb nettó ár": "3707",
                                    "Átlag nettó ár": "3707"
                                },
                                {
                                    "stilus": "játék, sakk",
                                    "Legkisebb nettó ár": "3644",
                                    "Legnagyobb nettó ár": "3644",
                                    "Átlag nettó ár": "3644"
                                },
                                {
                                    "stilus": "kémia",
                                    "Legkisebb nettó ár": "5094",
                                    "Legnagyobb nettó ár": "5094",
                                    "Átlag nettó ár": "5094"
                                },
                                {
                                    "stilus": "kerttervező",
                                    "Legkisebb nettó ár": "4951",
                                    "Legnagyobb nettó ár": "4951",
                                    "Átlag nettó ár": "4951"
                                },
                                {
                                    "stilus": "környezetvédelem",
                                    "Legkisebb nettó ár": "5508",
                                    "Legnagyobb nettó ár": "5508",
                                    "Átlag nettó ár": "5508"
                                },
                                {
                                    "stilus": "kresz",
                                    "Legkisebb nettó ár": "5476",
                                    "Legnagyobb nettó ár": "5476",
                                    "Átlag nettó ár": "5476"
                                },
                                {
                                    "stilus": "lakástervező",
                                    "Legkisebb nettó ár": "4287",
                                    "Legnagyobb nettó ár": "4287",
                                    "Átlag nettó ár": "4287"
                                },
                                {
                                    "stilus": "matematika",
                                    "Legkisebb nettó ár": "3105",
                                    "Legnagyobb nettó ár": "5995",
                                    "Átlag nettó ár": "4520,777777777777"
                                },
                                {
                                    "stilus": "matematika, nyelvtan",
                                    "Legkisebb nettó ár": "4484",
                                    "Legnagyobb nettó ár": "4484",
                                    "Átlag nettó ár": "4484"
                                },
                                {
                                    "stilus": "múvészet",
                                    "Legkisebb nettó ár": "5118",
                                    "Legnagyobb nettó ár": "5118",
                                    "Átlag nettó ár": "5118"
                                },
                                {
                                    "stilus": "művészet",
                                    "Legkisebb nettó ár": "3490",
                                    "Legnagyobb nettó ár": "6098",
                                    "Átlag nettó ár": "4939,25"
                                },
                                {
                                    "stilus": "növénytan",
                                    "Legkisebb nettó ár": "4438",
                                    "Legnagyobb nettó ár": "4438",
                                    "Átlag nettó ár": "4438"
                                },
                                {
                                    "stilus": "nyelvtan",
                                    "Legkisebb nettó ár": "3688",
                                    "Legnagyobb nettó ár": "5845",
                                    "Átlag nettó ár": "4770,666666666667"
                                },
                                {
                                    "stilus": "nyelvtanító",
                                    "Legkisebb nettó ár": "3115",
                                    "Legnagyobb nettó ár": "6082",
                                    "Átlag nettó ár": "4759,476190476191"
                                },
                                {
                                    "stilus": "régészet",
                                    "Legkisebb nettó ár": "3773",
                                    "Legnagyobb nettó ár": "3773",
                                    "Átlag nettó ár": "3773"
                                },
                                {
                                    "stilus": "sport",
                                    "Legkisebb nettó ár": "4607",
                                    "Legnagyobb nettó ár": "4607",
                                    "Átlag nettó ár": "4607"
                                },
                                {
                                    "stilus": "számítástechnika",
                                    "Legkisebb nettó ár": "3277",
                                    "Legnagyobb nettó ár": "5260",
                                    "Átlag nettó ár": "4490,333333333333"
                                },
                                {
                                    "stilus": "színház",
                                    "Legkisebb nettó ár": "5158",
                                    "Legnagyobb nettó ár": "5158",
                                    "Átlag nettó ár": "5158"
                                },
                                {
                                    "stilus": "szótár",
                                    "Legkisebb nettó ár": "3509",
                                    "Legnagyobb nettó ár": "5734",
                                    "Átlag nettó ár": "4624,428571428572"
                                },
                                {
                                    "stilus": "történelem",
                                    "Legkisebb nettó ár": "3122",
                                    "Legnagyobb nettó ár": "6084",
                                    "Átlag nettó ár": "4655,731707317073"
                                },
                                {
                                    "stilus": "zene",
                                    "Legkisebb nettó ár": "3391",
                                    "Legnagyobb nettó ár": "5730",
                                    "Átlag nettó ár": "4855,333333333333"
                                }
                            ]
                        },
                        "text/html": [
                            "<table>",
                            "<tr><th>stilus</th><th>Legkisebb nettó ár</th><th>Legnagyobb nettó ár</th><th>Átlag nettó ár</th></tr>",
                            "<tr><td>NULL</td><td>4478</td><td>4478</td><td>4478</td></tr>",
                            "<tr><td>állattan</td><td>4153</td><td>5235</td><td>4783,666666666667</td></tr>",
                            "<tr><td>ásványtan</td><td>5624</td><td>5624</td><td>5624</td></tr>",
                            "<tr><td>betűtípusok</td><td>3845</td><td>3845</td><td>3845</td></tr>",
                            "<tr><td>biológia</td><td>3482</td><td>5543</td><td>4299,8</td></tr>",
                            "<tr><td>csillagászat</td><td>3582</td><td>5992</td><td>4733,571428571428</td></tr>",
                            "<tr><td>felvételi</td><td>3102</td><td>5955</td><td>4501,333333333333</td></tr>",
                            "<tr><td>festészet</td><td>4394</td><td>5408</td><td>4901</td></tr>",
                            "<tr><td>filmtörténet</td><td>3138</td><td>4204</td><td>3671</td></tr>",
                            "<tr><td>fizika</td><td>3734</td><td>5763</td><td>4769</td></tr>",
                            "<tr><td>fordító program</td><td>5036</td><td>5036</td><td>5036</td></tr>",
                            "<tr><td>földrajz</td><td>3123</td><td>6065</td><td>4580,0625</td></tr>",
                            "<tr><td>gasztronómia</td><td>3258</td><td>5706</td><td>4691</td></tr>",
                            "<tr><td>gépírás</td><td>3936</td><td>3936</td><td>3936</td></tr>",
                            "<tr><td>hadtudomány</td><td>3515</td><td>3515</td><td>3515</td></tr>",
                            "<tr><td>humor</td><td>5573</td><td>5573</td><td>5573</td></tr>",
                            "<tr><td>irodalom</td><td>3391</td><td>5654</td><td>4464,1875</td></tr>",
                            "<tr><td>irodalom, nyelv</td><td>4704</td><td>4704</td><td>4704</td></tr>",
                            "<tr><td>ismeretterjesztő</td><td>3256</td><td>6072</td><td>4726,673913043478</td></tr>",
                            "<tr><td>ismeretterjesztő + játék</td><td>3107</td><td>3107</td><td>3107</td></tr>",
                            "<tr><td>játék</td><td>3110</td><td>6078</td><td>4850,466666666666</td></tr>",
                            "<tr><td>játék - autós</td><td>3989</td><td>3989</td><td>3989</td></tr>",
                            "<tr><td>játék (autóverseny)</td><td>3106</td><td>5005</td><td>3862,75</td></tr>",
                            "<tr><td>játék (jégkorong)</td><td>5242</td><td>5242</td><td>5242</td></tr>",
                            "<tr><td>játék (labdarúgás)</td><td>3871</td><td>5522</td><td>4817,333333333333</td></tr>",
                            "<tr><td>játék (repülős)</td><td>4311</td><td>4311</td><td>4311</td></tr>",
                            "<tr><td>játék (rodeó)</td><td>5591</td><td>5591</td><td>5591</td></tr>",
                            "<tr><td>játék (történelmi)</td><td>3707</td><td>3707</td><td>3707</td></tr>",
                            "<tr><td>játék, sakk</td><td>3644</td><td>3644</td><td>3644</td></tr>",
                            "<tr><td>kémia</td><td>5094</td><td>5094</td><td>5094</td></tr>",
                            "<tr><td>kerttervező</td><td>4951</td><td>4951</td><td>4951</td></tr>",
                            "<tr><td>környezetvédelem</td><td>5508</td><td>5508</td><td>5508</td></tr>",
                            "<tr><td>kresz</td><td>5476</td><td>5476</td><td>5476</td></tr>",
                            "<tr><td>lakástervező</td><td>4287</td><td>4287</td><td>4287</td></tr>",
                            "<tr><td>matematika</td><td>3105</td><td>5995</td><td>4520,777777777777</td></tr>",
                            "<tr><td>matematika, nyelvtan</td><td>4484</td><td>4484</td><td>4484</td></tr>",
                            "<tr><td>múvészet</td><td>5118</td><td>5118</td><td>5118</td></tr>",
                            "<tr><td>művészet</td><td>3490</td><td>6098</td><td>4939,25</td></tr>",
                            "<tr><td>növénytan</td><td>4438</td><td>4438</td><td>4438</td></tr>",
                            "<tr><td>nyelvtan</td><td>3688</td><td>5845</td><td>4770,666666666667</td></tr>",
                            "<tr><td>nyelvtanító</td><td>3115</td><td>6082</td><td>4759,476190476191</td></tr>",
                            "<tr><td>régészet</td><td>3773</td><td>3773</td><td>3773</td></tr>",
                            "<tr><td>sport</td><td>4607</td><td>4607</td><td>4607</td></tr>",
                            "<tr><td>számítástechnika</td><td>3277</td><td>5260</td><td>4490,333333333333</td></tr>",
                            "<tr><td>színház</td><td>5158</td><td>5158</td><td>5158</td></tr>",
                            "<tr><td>szótár</td><td>3509</td><td>5734</td><td>4624,428571428572</td></tr>",
                            "<tr><td>történelem</td><td>3122</td><td>6084</td><td>4655,731707317073</td></tr>",
                            "<tr><td>zene</td><td>3391</td><td>5730</td><td>4855,333333333333</td></tr>",
                            "</table>"
                        ]
                    }
                }
            ],
            "execution_count": 4
        },
        {
            "cell_type": "markdown",
            "source": [
                "![](data:image/png;base64,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)"
            ],
            "metadata": {
                "azdata_cell_guid": "19fd092f-b1d8-4cb9-83af-2638ba64adf9"
            },
            "attachments": {}
        },
        {
            "cell_type": "code",
            "source": [
                "SELECT lang, COUNT(cim)\r\n",
                "FROM dvd\r\n",
                "GROUP BY ROLLUP (lang)"
            ],
            "metadata": {
                "azdata_cell_guid": "cbb08d88-3bb1-4425-92c2-fa5b82663775",
                "language": "sql"
            },
            "outputs": [
                {
                    "output_type": "display_data",
                    "data": {
                        "text/html": "Warning: Null value is eliminated by an aggregate or other SET operation."
                    },
                    "metadata": {}
                },
                {
                    "output_type": "display_data",
                    "data": {
                        "text/html": "(10 rows affected)"
                    },
                    "metadata": {}
                },
                {
                    "output_type": "display_data",
                    "data": {
                        "text/html": "Total execution time: 00:00:00.007"
                    },
                    "metadata": {}
                },
                {
                    "output_type": "execute_result",
                    "metadata": {},
                    "execution_count": 21,
                    "data": {
                        "application/vnd.dataresource+json": {
                            "schema": {
                                "fields": [
                                    {
                                        "name": "lang"
                                    },
                                    {
                                        "name": "(No column name)"
                                    }
                                ]
                            },
                            "data": [
                                {
                                    "lang": "NULL",
                                    "(No column name)": "3"
                                },
                                {
                                    "lang": "1",
                                    "(No column name)": "195"
                                },
                                {
                                    "lang": "2",
                                    "(No column name)": "90"
                                },
                                {
                                    "lang": "3",
                                    "(No column name)": "11"
                                },
                                {
                                    "lang": "4",
                                    "(No column name)": "5"
                                },
                                {
                                    "lang": "5",
                                    "(No column name)": "2"
                                },
                                {
                                    "lang": "6",
                                    "(No column name)": "5"
                                },
                                {
                                    "lang": "7",
                                    "(No column name)": "5"
                                },
                                {
                                    "lang": "8",
                                    "(No column name)": "1"
                                },
                                {
                                    "lang": "NULL",
                                    "(No column name)": "317"
                                }
                            ]
                        },
                        "text/html": [
                            "<table>",
                            "<tr><th>lang</th><th>(No column name)</th></tr>",
                            "<tr><td>NULL</td><td>3</td></tr>",
                            "<tr><td>1</td><td>195</td></tr>",
                            "<tr><td>2</td><td>90</td></tr>",
                            "<tr><td>3</td><td>11</td></tr>",
                            "<tr><td>4</td><td>5</td></tr>",
                            "<tr><td>5</td><td>2</td></tr>",
                            "<tr><td>6</td><td>5</td></tr>",
                            "<tr><td>7</td><td>5</td></tr>",
                            "<tr><td>8</td><td>1</td></tr>",
                            "<tr><td>NULL</td><td>317</td></tr>",
                            "</table>"
                        ]
                    }
                }
            ],
            "execution_count": 21
        },
        {
            "cell_type": "markdown",
            "source": [
                "![](data:image/png;base64,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)"
            ],
            "metadata": {
                "language": "sql",
                "azdata_cell_guid": "2178ba76-23b5-467e-a84b-438beebe33cf"
            },
            "attachments": {}
        },
        {
            "cell_type": "code",
            "source": [
                "SELECT lang, STDEV(nettoar) as 'Szórás', MAX(nettoar)-MIN(nettoar) as 'Eltérés'\r\n",
                "from dvd\r\n",
                "GROUP BY CUBE (lang)"
            ],
            "metadata": {
                "language": "sql",
                "azdata_cell_guid": "53607ec0-6e61-4fc9-b860-82b81d825305"
            },
            "outputs": [
                {
                    "output_type": "display_data",
                    "data": {
                        "text/html": "(10 rows affected)"
                    },
                    "metadata": {}
                },
                {
                    "output_type": "display_data",
                    "data": {
                        "text/html": "Total execution time: 00:00:00.007"
                    },
                    "metadata": {}
                },
                {
                    "output_type": "execute_result",
                    "metadata": {},
                    "execution_count": 25,
                    "data": {
                        "application/vnd.dataresource+json": {
                            "schema": {
                                "fields": [
                                    {
                                        "name": "lang"
                                    },
                                    {
                                        "name": "Szórás"
                                    },
                                    {
                                        "name": "Eltérés"
                                    }
                                ]
                            },
                            "data": [
                                {
                                    "lang": "NULL",
                                    "Szórás": "888,8931319343175",
                                    "Eltérés": "1584"
                                },
                                {
                                    "lang": "1",
                                    "Szórás": "885,6830077633367",
                                    "Eltérés": "2993"
                                },
                                {
                                    "lang": "2",
                                    "Szórás": "824,7834112847969",
                                    "Eltérés": "2962"
                                },
                                {
                                    "lang": "3",
                                    "Szórás": "1000,826403982774",
                                    "Eltérés": "2888"
                                },
                                {
                                    "lang": "4",
                                    "Szórás": "1063,6814842799515",
                                    "Eltérés": "2663"
                                },
                                {
                                    "lang": "5",
                                    "Szórás": "949,6444071335334",
                                    "Eltérés": "1343"
                                },
                                {
                                    "lang": "6",
                                    "Szórás": "985,0168526477094",
                                    "Eltérés": "2107"
                                },
                                {
                                    "lang": "7",
                                    "Szórás": "871,429687352915",
                                    "Eltérés": "2053"
                                },
                                {
                                    "lang": "8",
                                    "Szórás": "NULL",
                                    "Eltérés": "0"
                                },
                                {
                                    "lang": "NULL",
                                    "Szórás": "871,86613556767",
                                    "Eltérés": "2996"
                                }
                            ]
                        },
                        "text/html": [
                            "<table>",
                            "<tr><th>lang</th><th>Szórás</th><th>Eltérés</th></tr>",
                            "<tr><td>NULL</td><td>888,8931319343175</td><td>1584</td></tr>",
                            "<tr><td>1</td><td>885,6830077633367</td><td>2993</td></tr>",
                            "<tr><td>2</td><td>824,7834112847969</td><td>2962</td></tr>",
                            "<tr><td>3</td><td>1000,826403982774</td><td>2888</td></tr>",
                            "<tr><td>4</td><td>1063,6814842799515</td><td>2663</td></tr>",
                            "<tr><td>5</td><td>949,6444071335334</td><td>1343</td></tr>",
                            "<tr><td>6</td><td>985,0168526477094</td><td>2107</td></tr>",
                            "<tr><td>7</td><td>871,429687352915</td><td>2053</td></tr>",
                            "<tr><td>8</td><td>NULL</td><td>0</td></tr>",
                            "<tr><td>NULL</td><td>871,86613556767</td><td>2996</td></tr>",
                            "</table>"
                        ]
                    }
                }
            ],
            "execution_count": 25
        },
        {
            "cell_type": "code",
            "source": [
                "SELECT lang,SUM([raktár készlet]), \r\n",
                "from dvd\r\n",
                "GROUP BY lang"
            ],
            "metadata": {
                "language": "sql",
                "azdata_cell_guid": "0657ff65-3c91-499f-988c-524609bb5251"
            },
            "outputs": [
                {
                    "output_type": "display_data",
                    "data": {
                        "text/html": "(9 rows affected)"
                    },
                    "metadata": {}
                },
                {
                    "output_type": "display_data",
                    "data": {
                        "text/html": "Total execution time: 00:00:00.011"
                    },
                    "metadata": {}
                },
                {
                    "output_type": "execute_result",
                    "metadata": {},
                    "execution_count": 28,
                    "data": {
                        "application/vnd.dataresource+json": {
                            "schema": {
                                "fields": [
                                    {
                                        "name": "lang"
                                    },
                                    {
                                        "name": "(No column name)"
                                    }
                                ]
                            },
                            "data": [
                                {
                                    "lang": "NULL",
                                    "(No column name)": "30"
                                },
                                {
                                    "lang": "1",
                                    "(No column name)": "1958"
                                },
                                {
                                    "lang": "2",
                                    "(No column name)": "900"
                                },
                                {
                                    "lang": "3",
                                    "(No column name)": "110"
                                },
                                {
                                    "lang": "4",
                                    "(No column name)": "50"
                                },
                                {
                                    "lang": "5",
                                    "(No column name)": "20"
                                },
                                {
                                    "lang": "6",
                                    "(No column name)": "50"
                                },
                                {
                                    "lang": "7",
                                    "(No column name)": "50"
                                },
                                {
                                    "lang": "8",
                                    "(No column name)": "10"
                                }
                            ]
                        },
                        "text/html": [
                            "<table>",
                            "<tr><th>lang</th><th>(No column name)</th></tr>",
                            "<tr><td>NULL</td><td>30</td></tr>",
                            "<tr><td>1</td><td>1958</td></tr>",
                            "<tr><td>2</td><td>900</td></tr>",
                            "<tr><td>3</td><td>110</td></tr>",
                            "<tr><td>4</td><td>50</td></tr>",
                            "<tr><td>5</td><td>20</td></tr>",
                            "<tr><td>6</td><td>50</td></tr>",
                            "<tr><td>7</td><td>50</td></tr>",
                            "<tr><td>8</td><td>10</td></tr>",
                            "</table>"
                        ]
                    }
                }
            ],
            "execution_count": 28
        },
        {
            "cell_type": "markdown",
            "source": [
                "![](data:image/png;base64,iVBORw0KGgoAAAANSUhEUgAAB4AAAAIfCAYAAACRqsH3AAAgAElEQVR4nOzdeXxcd33v//d3Vs1otS3FmxItCQ4kNUuTlrCHFGh7Qwt0u4X213L5tSy3pb2FW0oopAVaSlt6oZf84BJ6WUobIIRA9sRZnDiJyb7YiZ0o1mY78iJb+2jWcz6/P6QZjxVZtqSRjpbX8/HQg++cc+acj8cioLz1/XwkAAAAAAAAAAAAAAAAAAAAAAAAAAAAAAAAAAAAAAAAAAAAAAAAAAAAAAAAAAAAAAAAAAAAAAAAAAAAAAAAAAAAAAAAAAAAAAAAAAAAAAAAAAAAAAAAAAAAAAAAAAAAAAAAAAAAAAAAAAAAAAAAAAAAAAAAAAAAAAAAAAAAAAAAAAAAAAAAAAAAAAAAAAAAAAAAAJIkF3QBAABg6TOzOkl/EXQdQXHOfTboGpYCM6uS9FdB1xGUoL4PzCwm6Yognr0UBPi5hyV9OohnLwVB/nPPzP4mqGcHjc89MJ93zvlBPHiVf+5fcM7lg3jwKv/c/9E5lwniwav8c/+Scy4VdBEAAGD1IAAGAACnNRkADwddR0BGnHP1QRexFEwGwOmg6whIxjmXCOLBkwFwNohnLwE551w8iAdPBsCFIJ69BHjOuUhQDzczC+rZQXPOBfYzupl5kkJBPT9g4QAD4JykaBDPXgJiAQbAaUlVQTx7CUgEGACPSaoO4tlLQA0BMAAAWEyr9Yc7AAAAAAAAAAAAAFhxAvutbgAAsEzlCzk9smd30GUsuDe88qIzvbSlpeUVoVDoNjPrDIfD7+3s7Dw69Zr29vYvmtml0Wj0nR0dHce2bNnSmM/nb3bO3dvV1fXJ6e479T3F5zjnPtfV1fWt09Vzuuvmo+Cbd3t37qmFuPdS8s5z42f8fTDVeeedd6Hned/wff+Pe3t791akIPN8Ddz/ZEXutZStu3RWn/v69eurq6urP2pmH5TUJumwc+5fU6nUV48cOVKJ3TaWTmefqMB9lrREYnbf783NzYlIJPIh59zHJJ1tZo+b2Wd6e3vvkFSR3ZR3Hz78eCXus5T90oYN8/nnTNz3/X/1fb82l8v9cV9f33glanq+7/iK/9zP37Tu5zWLrmjt7e1vNLN79NLdur2+7/9qJf45PzIysuI/97q6utdodpsRXHt7+2WS/trM3ihpzMy+65z7Ynd395FK1FTYdueK/9wjl7311YpEwmdy7eT//zzlyA/n3D+e6v+7zsa2w4dW/Of+1rPWvyoaCp3xv3ud/N/VP3PO/Q9JGyR1mNk/RCKR7+/bt2+1doMBAABzRAAMAABm71s3rex/YVNXHZtNAFzknLvM87wPS/qCVkHr2M/tHF3R3wfV0VB4rgHwZPj7LUnrK1yWdOD/rOjPXaF4aDYBcFNTU00ymfz/zOwdkr7qnHvEzH7RzD6RTCZf0dTU9Cf9/f1j8y1rZDS1sj93yc0yAI7EYrFPmtlHNTHX8Gnn3G+Z2XXt7e1/2tXV9R1J827l/OXnn1/pn/t8AmDn+/77zOwDkn5UyZru3dP7hCrw97eUTQbAs7FFUr+ka5xz5UF7xvf9iozJ6O/vf1IV+uWJpWoyAD5Trr29/f1mdpVz7lrn3L9IOkfSX0m6oLm5+b0HDx4cmG9Nha9/4ymNj3vzvc9SFrnsra8+02s9z3s4HA5/bupxM/tFSb9kZnsqUdPVXS88PZrPr+j/v/zWs9a/6kyvnfyFni+b2R865/63pB2S3izp64VC4Rytkp8vAABA5RAAAwAAVJBz7n+0trZu6+npeSjoWrD4mpubE7FY7L2e5/29JnZu9AZd00pXXV39Rkm/Zmbv7enpuWPy8F3t7e1Pm9m11dXV3+/v7789yBpXotbW1ovM7C+cc/+jrNPAHe3t7cNm9v82NzffUIlgBqd27rnnXuh53sedc31B17IKODN7haT7x8fH/7ZCnQVwGmefffZGM/vvzrkvdXV1fV6T4VdLS8vToVDo9kgk8guS7pj5Lpit3t7en0j6Sfmxs88+e1MkEvkl59w/dHV1XRNQaSua7/stvu+/zTn3ia6urqs08Us4t7a1tY04536vpaXle729vd1B1wkAAJYPZgADAABUzucl7XHOfba5uXlt0MVg8cVisfea2f+VdL+ZvTfoelYD59zPSXouHA4/OeX4LkmdoVBoUzCVrWzOuXMkPel53vaywwUzOyopkkwm+VlzAbW0tGz0ff8q59yXnXM/DLqelW79+vVJSWc753oIfxdPJBJ5vaRILpe7WmU7H3t7e3d2d3fXlf3SDxZWJBqNfkKS8vn8N8Qu1AXheV7YORdxznXpRAcGc84dkpSUVBVcdQAAYDliBzAAAECFOOd6fN//vHPuR7FY7IOS/lErvIUmTmZmY2b23yKRyPcLhcIlQdezGnR3d39J0pemHi8UCmeHQqFWMxsJoKwVr7u7+0cqazt8wQUXxNLp9C9L+qCZfaujo2MouOpWvEg4HP6wmfWOjY39sLa29tNBF7TS1dTUVPu+f66ZPd7e3v4VM/uQpKEKzxrHFM65i33f3xMOh+va2to+K+n3xOe+6Nrb299iZn8g6UMHDhyg48ACCYfDfWb2sJld0d7e3tHV1bWvra1ti5l9wDm3PZ/P01UGAADMCr+VDQAAUEE9PT13m9lVZvaJ1tbW1wZdDxZXd3f3tT09Pd/Zt29fNuhaVrOmpqaaUCj0IUnPFwqFnUHXs9K1t7d/IJ1OZyXdKOmmdDr9L2KH2IJpa2t7j5m9u1AofK4S861xeoVCYbMmZs9+zMyOmtm7nXP/bmZ/k0wmv9bU1FQTdI0rTWtra5WZbXTOvSEUCt0hadjM3i3pm2b2N9XV1Vdt2rQpGXSdK11TU1ON7/v/3Tl3n3NuW9D1rGRdXV3DsVjsjyTtNbOOtrY2X9JzzrlnotHon/X19Y2f7h4AAADl2AEMAABQWQXP866KRCJvnmwF/V7mYAKLp7m5ORGNRq+U9GvOud9mt9LCc8497/v+rzjn3iDpT5PJZF1TU9OfEE5W3nnnnXeh53mfcs597MCBA51B17NaOOfqzGw0FAp9qKur6+7Jw9taW1t3Oud+VF1dfVt/f/8PAi1yhcnlcqFYLBZxzrVI+qPu7u5vaaKryrbW1tY9kv5vLBb7oSRmvC+gZDL5SufcW83sQ93d3cNB17OSNTU11eRyuS9LulzSX5vZ46FQ6DIz+0gulzt+3nnnfY5fMAQAALNBAAwAAFBhBw4c6GttbZ3aChrAAjvvvPPqCoXCVyS928z+W3d39z1B17QadHZ2Pji5vKO9vf1hM/sJgVjltbe31/u+/3fOuRu7urruC7qe1aSnp+c+SedNOWyRSGSn53mPOedeL+k6sfN9Iez1ff8elc1EDYfD9/i+v2fyl04IgBdOJBQK/aakzkKh8OBpr8a8VFdXv1PSbzjnfrvsF03uaG1tvcc59/18Pv+YpJ8EWCIAAFhmaAENAACwACrQCtqZWbjihQEr1Lnnnnu253k/cs5dJuldPT09N4gZ3IvOOfeopKdDodCrg65lpfF9/9Vm9m4zu7KtrS3f1tZmbW1tZmZ/5Zx7XzweT7W3t38x6DpXqosuuigqyZUfGx0dHZe038zWbdq0KRZMZStTX19fzjl3XNJIPB4fLT8XDod9SZ5zLhpMdavD2WeffZakN5vZnQcOHDgUdD0rXGTyF0l2RKPRR6ace1jSY+FwmNEyAABgVgiAAQAAFkbB87yrJO1xzn3WzDaWn3TOZSUdNrPW9evXV0998/nnn18j6WWSeoaHh9OLUzKwPLW1tZ3v+/51khok/XJ3d/f9Qde00rW3t1/R1tZ2R3Nz89ry49lsNiopYmb5gEpbsSKRyB7n3Nun+fqBc267c+6dzrn/CLrOlai9vf2LAwMDjzQ3N28qPx6NRhskne+c62I+Z8UVzKxT0oZsNttUfmJ8fDwuKe77PqHkAopGo+2SLpB0h/iFKgAAgGWHABgAAGCBHDhwoM/MPi/pdZL+oPzc888/PybpUUn/paqq6h06eVeRy2Qyb5N0maTHjxw5klqsmoHlpqWlZaOkb0hK+77/7u7u7ueDrmk1MLMXJL01Fou9ruywi8Vi75C0xcxoF1ph+/bt6+/q6rpr6pekXt/3D2Uyme2dnZ3PBF3nSuT7/r2Stkx+fxf/99pFo9FfkXSu7/u3BVfdyuWc2y4pGg6Hf1cnRpiVPnczezS46lY+M3uFpF4z2x90LatAwcx2Srosm82+fsq510q6xPf9pwKoCwAALGPMAAYAAFhAPT09d7e2tl7lnLtiyinzff9boVDo7aFQ6Ift7e0PmNlO51zE9/23OecukrTN9/2X7OYys3e3t7e3TD3u+353Mpm8JpVKndF1e/bsyVXojwkExYXD4T80s7eY2TXhcPjD7e3tU6+5s6ur64EgilvJxsbGbq+pqfm+mf1bW1vbV83s8VAodJmZ/Zlz7p+6u7vvCrpGoFJSqdQDNTU115nZ19om+m4/6Jx7h6SPOuf+obe3d2rLVlRAd3f3nvb29n8zsyva29vPkXSdmb1W0l865/6Jz31BOUlbJB10zg0GXcxqEAqFbjOz251z32lvb7/a9/2dkz8PfFTST1Kp1M1B1wgAAJYXAmAAAICFVQiHw1/3ff9Xpp7o7e091Nra+m7n3B+b2e9L+mszk3Nul3PuY6lU6upT7P79NTP7tWmOXzM0NHRtNBo9o+skEQBjWWttba03s8skyTn3PrOXdqh0zvVKIgCusP7+/rFQKPTfq6urP2pmf+6c2+D7/uOhUOgDoVDoekmFoGsEKqXs+33v5Pf7Z8zscUl/0N3dfZ34fl8oha6urs+3trbuNbP/6Zx7v6QO59zHQqHQt8TnvmA2bdqUMLNNkvpzuRz/f3ERdHV1Da9fv/6/lf3v6pWa+H7/p1QqdXV/fz8dgQAAwKwQAAMAAMxTb2/vXkmtpzrf2dl5QNLPT3eup6dnSNI/T37N6zllzvQ6LKCenp77xN/Dgpr87887gq5jtZr8BZUvTn4hIF1dXZ8MuobVgO/3wBR6enp+IOkHQReymkzOtP69oOtYbfjnDAAAqCRmAAMAAAAAAAAAAADACsEOYAAAMHsf+LWLgi4Bwbvy9bV8HwTh7A/zuQegrraazz0Af3H++XzuAbj0gpZpu1ZgYTU1Nb0m6BpWo8hHPvTqoGtYjT7Y/rJXBV0DAADASuaCLgAAACx9ZlYnaTjoOgIy4pyrD7qIpcDMqiSlg64jIBnnXCKIB5tZTFI2iGcvATnnXDyIB5tZWKt3vqTnnAvsl4VtumHOq4RzLrCf0c3M0+rtEhZ2zvlBPNjMcpKiQTx7CYg55/JBPNjM0pKqgnj2EpBwzmWCeLCZjUmqDuLZS0CNc445vgAAYNGs1h/uAAAAAAAAAAAAAGDFoQU0AAA4U38bdAFYEvg+CAafezD43IPB5x6MzwVdwCr190EXsEp9MegCVql/DroAAAAAAAAAAAAAAAAAAAAAAAAAAAAAAAAAAAAAAAAAAAAAAAAAAAAAAAAAAAAAAAAAAAAAAAAAAAAAAAAAAAAAAAAAAAAAAAAAAAAAAAAAAAAAAAAAAAAAAAAAAAAAAAAAAAAAAAAAAAAAAAAAAAAAAAAAAAAAAAAAAAAAAAAAAAAAAAAAAAAAAAAAAAAAAAAAAAAAAKuMC7oAAAAAAACmY2aXSmotO9Qy+Z/lx061bpj8mknPaY4V1wVJL0p6TlK/pKOSjjrnjpzm/gAAAAAALDoCYAAAAADAopoS7LaUrS+d/M/Wl7xp6TqmyUB48qtfUp+kXkldknqcc4eCKw8AAAAAsNoQAAMAAAAAKq4s5C0GvMsx3K2UtKTuKV9dxbVzbiTA2gAAAAAAKwwBMAAAAABgzszs/VqokHd4ZNSGh0bt+MCYJPn9/aOSpKNHR8sv8w/2TZw/sH809tE/fV3o5ee3StIzQ0MjH3/68R98+oKt73xT01mbJEl9x/r0mW/cLElqWV/7kmdubDxxbMO6Gv3amy59yTWVd0TSbklPS9ozud7tnMsswrMBAAAAACtMJOgCAAAAAADLwzRh7/yC3pHRfOGhh3YVA93Czx6aaJW8r3N0xvfNwN/73KFiANwQj8VnvLj3yEufU35s67mNxWWmYPbm7x//5tTL2+sj1RtrXKIpGUqsqwol1ibDVeuqXPWG6lBdYyJc2xB3dbGwO93P3usnv95WftDMOjURBu+S9IykZ5xze09zLwAAAADAKkcADAAAAAB4icmw9y2TL2cd9uZyuT7P88by+fyo53mjuVxuLJfLjTY2Nr4mkUi8XJL8/fvThX/58uMVLr1yklXR4jLryaa7pGu4kOoaVmqm22ysDle9rCFU17YmUru5JlxbDIfXJV1dQzxU7aTQKd567uTXu4sHzGxc0iOSdkp6UNLPnHODs/yTAQAAAABWMAJgAAAAAFjlJsNeaSLwnVXYm06nOyQpk8n0FUPeXC53yh28uVxuMJFISJJcQ/3MO3SDVl0VKy4zBX/OtzmU8jKHUl5mx4v5o1PPxcIKbW2MNvxcU2RNe0NkbUtdaO3Gmsiahpirc9MPbUpq4u+o2JrazOw5TYTBOyU96JzrmHOxAAAAAIBljwAYAAAAAFaZKYHv+2e6tlx52Ds2NnZopqD3VDKZTH99fb0kydXVR09zebDWr60vLjOeCgvxiJwn//Ej+YHHj+QHJHUWj9dEXeQ1G2JrXrE2tLa9PrrmnLrw2g01obU1UZeccgsn6RWTX38kSWZ2TBNhcHGX8KPOuexC1A8AAAAAWHoIgAEAAABgFZgMfS+X9Ftn+h7P87yRkZH75xr2TmdsbOzw+vXrJ17U1YZCW7du8HfvPlyJe1dcVaz0M3O2YHPfAjwHY3kr3H8g23//AfVL6dLxzbXhxFuaYxte2RRdf96a8IbNNaHGcMhNbSHdKOnXJ78kKWtm90m6VdJt7BAGAAAAgJWNABgAAAAAVqCyGb5n1NL54PGRjiMj431rklUN7esbXi1J4XA4PDAwsBBhoa9Tz71dOtbU1RSX4wXlgiyl6MVRL33N3nT3NXvT3ZKUCCv8huZ400UboutfsS68oa0+sj4RcVVT3haX9I7Jr6+YWacmwuBbJW1ndzAAAAAArCwEwAAAAACwQpSFvqdt6zyYSh/vOjq8u+fo0KFjo+Mn7e794Pqff6WbDGgTicSGdDpd0R26ZpZ3zsUlybW1NGmp7gCuS1YXl+mCZYIs5VTSnry7erOH7+rNHpb0tCT9wobo2recHWt+9VnR5vaGyIZI6CU/+58r6aOTX2kz266JMPhm51zvov4BAAAAAAAVRwAMAAAAAMuUmV0q6Q91Brt8nxoY6NhSX9+cDIeTkjSQymQf6+ybdndvOpcfS8aidZJUXV29pdIBsO/72XA4PBEAb9y4pqL33runX+95lySpLhqd34zhcCRcXGYKvje/yhbPo4fzA48ezg9I2lUVCYV+qSW+4XWbIs0/1xht3lgdanTupMsTkv7L5NdVZrZL0rWSfuCc63zJzQEAAAAASx4BMAAAAAAsM5M7ff9GZxD67h0d7fvPnp4OSfrcK1/55p9fs+blktRYk1x3qvcNjGX6kmsnAuB4PL6pcpW/VKipqW4h7z8vkVApAE4XtGwC4HKZgu/f0pnuu6VTfZIe2ZAMxd/eFm/+xQ3R5lc0RjfXxVzNlLe8cvLr78zsaUk/EmEwAAAAACwrBMAAAAAAsAycSehbDHx/duzYoa6xsdGp56/ctWvHzW95y8slqT4Zj29sqN1waGj0Jbt7B8fSg81rayVJxZ26lZTL5foSicRE8LtmzdQAcumoipdm6Y7lLRVkKZVyeNzPfu/ZdOf3nk13StKrmsINl7ZUNf/8WbHN5zaENsXCrnzX9Ksmv4ph8LWSrnHO9QRQOgAAAADgDBEAAwAAAMASNRn6Fls8T2vqLt/T3lPyi/N9W8+q2zJdALyz4+DunzvnrNc6KRSNRuOVngOcy+UGE4mEJMk11Fc8YK4Yd2IH8HjOLwRZykJ5ut8bero/NSSlnomFFfr18xLNv9QSPW9rY7TlFGHw35vZw5K+rYkw+CW/aAAAAAAACBYBMAAAAAAsIWb2PyX9pqRLTnXNbEPfckO53NiaWKxOkppqk2fU3jkajTZVeg5wkaurn9+c3oUUj5RqG8raWJClLIacJ/+659P7r3s+vT8RVvg9WxLnXHZO7NwLGqPnREIn/fuD105+fdnMrpf0LUnbnXMWSOEAAAAAgJMQAAMAAABAwMzsUk3s9H3/qa6ZT+hbbsfRo8++q7n5dZKUjMdOufs2ncuPJWMTc4Bjsdia+TxzqmPHju2ur69/nSSprjZUyXtXlHOl2sZylg+ylMWW9uRdszfdfc3edHdd1EXec35Vy1vPqTr3/LXhs8NOxZ3RCUm/N/nVa2bfkfRt51xvYIUDAAAAAAiAAQAAACAop2vxvD+VOvrgsWN7TjXTdy6+2dm5+9ebm1/rpNBMc4AHxjJ9ybUTAXAymWyTtKMSzy/ja7IVdWjr1g3+7t0V2WHs33f/YX3qCklSXSQ6v3A5HC61gD6W9ofnV9nyNZK3wnefSXd+95l057qqUOx9FyTOu+yc2Ms314Ybyy5r0cSM6ivNbLsmWkT/2DmXDqRoAAAAAFjFlu5vWgMAAADACmRmrWb2bTMzTYRkp5zvu398vPCfPT0dlQp/i/K+X9rN2npW3ZbprhkcSw8W19FodEHn9Lq2lqaFvP+cObnicihnuSBLWSqOZ/zcV59I7XnPTwev/5M7h6+790Bud7pgmbJLnKTLJH1P0mEz+4aZnbKdOQAAAACg8giAAQAAAGARmNn7J3dGdmuaVs/ZXK5jaGT05lwu/1zxWGtNzbqFqOVwJnO8uD7VHOCdHQd328QuXUlSIpHYUMkaPM8rzdR1GzdWtMV0xThXCoD3DxcGZ7p0NXr0cH7gE/eO/Ozt1x7/j688lrpz70B+v28qnwNcJ+mDkn5mZk+a2f9jZkt35jMAAAAArBC0gAYAAACABWRmxV2+rdOdT6Uy92az2UP5gjcqSdlMvm/9WWu3SAo1JxLxrfX1G3YPD1ekPXLRkwMDveckJ4LfM50DXF1dvSWdTle0jiUtHi21fzZJY3krBFjNkpbz5BfnBZ9TG06+74KqLW85u2rLuoRrKLvs1ZL+XdIXzeyrkr7unFu1bbUBAAAAYCGxAxgAAAAAKszMLi1r8/x+TQl/i7t9jxwduHosNd5RDH+LPN8v7Y69fPPmiytd3zc7O0u7e4tzgKe7Lps/sUs3Ho9Pu1N4rnK5XF9xHdqypaL3roiXn7O2uEwXzGa6FCfsH/XGv/hw6qlfve74tZ/dmbp57/H8/imf3iZJ/yDpRTP7qpm1B1IoAAAAAKxgBMAAAAAAUCGTwe92Sds1TZvnVCpz78DA8PeHhsbuzWbyfS+9w4RsNvtscf3GpqZNW+vrK9p+WZKGcrlSuHuqOcAHj4/0FtfhcHhB5wAvOclkqVVxzhMB8Bzc0pnu+8Nbh2//wO3DP7j/QO7ZnHfSLupqSX8q6QUzu97M3hBQmQAAAACw4hAAAwAAAMA8lc333a6Jds8lnuf3zbTbdzqjo+ndKpu/e0lj47QB7Xx0p1KlAPpM5gBHo9F4JecA53K50kxd11Bf2XDZrPTZba1fM7eaE7FSAJxhB/C8PHssP/Lxe0cefNf1g/9x7XPph0Zylio7HZL0HkkPmNnDZvbOgMoEAAAAgBWDABgAAAAA5qgs+C3O+S0ptnk+dnzo5pl2+56K53mlebvn1dRUvEXygVSqFMBuXFNbdybviUajTZV6fiaT6S+uXXPz0ttdvGFdfXGZ8Zj/WwnHM37uS4+mdv3qj45f85XHUnf1jnhHplzyi5JuMrNHzezyIGoEAAAAgJWAABgAAAAAZmky+O3WKYLfM2nzfDqp1PhjxfWFDQ11lW4DXT4HWJJONQc4ncuXWkXHYrE1lXr+2NjYYZU9P7R1a8XbXM9LY0NtcZnJswO4kvK+7Jq96a7fvmHwho/dM/yTJ47k9/l24ntB0sWSbjazx9gRDAAAAACzRwAMAAAAAGdoSvDbWn6uPPg9kzbPp5PO5E8KSC/fvPni+d5zqjOZAzwwlimF2Mlksq3SNSxZ0XCkuEx7lguylJXsgRfz/R/eNnzPf71h8JoHDub2eCav7PRFmtgR/LiZ/XpQNQIAAADAckMADAAAAACnMVPwm05nHz9ydODqSgW/5XK5fEdx3VpTs66S95ZOngPc0tgwbbg7OJYutYqORqMVbdVsZvni2rW1VKy9dEXUJKuLy3RemSBLWQ16R73xj20feeB3bxj8/v0Hc89OCYJ/XtINZvaEmb3LzFxQdQIAAADAckAADAAAAACnMGXG70nBbyqVuffI0YGrR0ZTjy/U8weHRndochdwcyIRr3Qb6PI5wPXJeHy6NtA7Ow6e1Co6kUhUrAbf97PFtdu4sWLtpSsiGgkXl+MF35vpUlRO76g3/vHtIw/+zg2D19x3IPdMwbfyz/41kn4q6Qkzew9BMAAAAABMjwAYAAAAAKYws0vLgt+TZvwWg9+x1HjH9O+uLM/3S22aK90Geuoc4HU1iWl34fr+iZ261dXV07aKngvP80p/ttCWLZsqdd+KCIVKAXAmbwTAi+zAqJf+y3tHdv7XG4euufdAbnfBV6Hs9KslXa+JIPi1AZUIAAAAAEsWATAAAAAATCoLfrdrSvBbbPW8WMFvUTabfba4fmNT06ZK7wIunwO8YW11y3TXjKSzx4vreDxesaDW87yRSt3rJPl8KbBuq6meW2vpqlhVcTmat1QFqsIcHBj10p+4d+Rnv3XD4DX39OZ25V8aBD9kZj82s9ZT3QMAAAAAVhsCYAAAAACrnpm1mtm3NU3wm83lOgYGhr+/kK2eZzI6mt6tsl26lzQ2VmwHrnTyHODGmuS0c4YPHh/pLdNIFaQAACAASURBVK7D4XDF5gDncrlSC2rXUF/R+cLzFgqXfl4ez1thpkux8PrGvMwnd4w89Ns3DF5zd092ahD8G5KeN7P/ZWZ1QdUIAAAAAEsFATAAAACAVW0y+O2W9P7y48Xgd2ho7N58wRsNproJnucdLq7Pq6mpaKvkK3ft2lFczzQHuLiORqPxSs0BzmQy/cW1q6uPVuKeFROPluoZzvqB/v3jhL4xL3PF/aMP/c6Ng99/6FD+OZNs8lRM0l9I6jazPzezSIBlAgAAAECgCIABAAAArEpm9n4ze0nw63l+39DI6M1LIfgtyuZypR24FzY01FW6DXT5HODWs+qm3WFcfk00Gp1bW+UpxsbGSsG26mqX1s+n7sTPy2N55We6FIvvxVEv/Wd3De/4s7uGr+8e8g6VnVor6SuS9pjZuwIqDwAAAAACtbR+wAYAAACABTbZ7nm7pG9LKs0NLQa/x44P3ZzN5PtOfYfFt9BtoMvnADfVJqfdYZzO5UvXxGKxNRV8fOnPFdq6taLB9rxEwuHi8ui4PxxkKTi1hw/lj//XmwZv+l+PpbYNZPzymdIvk/RTM3vAzH4uqPoAAAAAIAgEwAAAAABWDTP7G020ey7N+fXNRpdq8FuuvA30RevWtVXy3juOHn22uE7GY9PO4h0Yy5Q+m3g8XrE21GZW2l3r2loqsrO4Ipwr/bw8nPXZAbzE/WBvuufXrx+49trn0g9lPcuVnXqDpKfN7Cozqw2qPgAAAABYTATAAAAAAFY8M7t0st3z35YfT6ezj/f3D35/KQe/RceOD9+syd2yzYlEvJJtoL/Z2bm72OL5VHOAB8fSg8V1VVVVXaWe7ft+trh2GzdWZGexpVKle26sSsz7nvsGCsfmew8svJwn/0uPpnb9zg1DP7j/QG6Pb6X5wCFJfyLpOTN7T4AlAgAAAMCiIAAGAAAAsGKVtXvermnaPY+Mph4PrrrZ83y/1Ib58s2bL67kvfP+iV2u080B3tlxcHf5HOBEIrF02jVXWiIWKS4LvuSpFCRiGTiU8jIfv3fkgQ9vG/7RvkHvxbJTmyRdb2Y3m1lzUPUBAAAAwEIjAAYAAACwIk3X7lmSlkO751PJZrOlVs2vWrNmQyV3AR/OZI4X16eaA+z7J9o1V1dXV2QOcS6XK/09hLZsqVhr6Xl5ecva4jLrGeHvMvXU0fzQ+24evOXLj6W2jeT88bJTl0vaY2YfNTMXVH0AAAAAsFAIgAEAAACsKGb2R2Z2RFPaPWdzuY4jRweuXo7Bb9HoaHq3Jnfh1kYioZaamorNzH1yYKC3uD7VHOCRdLYUEldqDnAulyu1lnYN9dM+d9Elq6LFJQHw8vf9veme3/rp0A8f7MvvKfvbrJX0vyU9YmZbAysOAAAAABYAATAAAACAFcHM1pjZDyV9U9JZxePFds9DQ2P3Bldd5Xied7i4flNj44WVuu+ZzAE+eHykFBKHw+GlEdYuhE2N9cVlumBekKWgMoayfv4v7h5+4JM7Rn86kPGHy05dLOkJM/tHM0sEVR8AAAAAVBIBMAAAAIBlz8zeLulZSb9Tftz3zVuu7Z5PJZvLlULYCxsa6irZBnoolyvNGD7VHODiOhqNxisxB/jYsWOle7rm5qURKsdipR3AOe/E3GMsf9v3Z4+++ydDP7qpM/OY51vx7zYi6ROS9prZOwIsDwAAAAAqggAYAAAAwLJlZjVm9g1J2yRtnHo+FHLh+rrqX138yhZOeRtoSbqksbEis3glqTuVKgXlp5oDbGXPjkajlWpBXbpnaOvW+QfaI6OlILspXlU36/c3NtQUl5mCcvOuB0tKpuD7n9859sQf3zHyo/0j3tGyUy2S7jCzq80sGVR9AAAAADBfBMAAAAAAliUze62k3ZI+WDropdPa//VblD1SCnWqquJnx2LRs6a5xbJV3gb6onXr2ip13wOpVGke78Y1tdMGp+lcvhSuxmKxNZV69pISDUeKy7Rn7ABeoZ45lh/+nRsHf/qd3en7s56VB/1/LGm3mb0mqNoAAAAAYD4IgAEAAAAsK2YWM7N/lrRTUmvpxNjefXruYz/UwH0vquPTt8h8K55KJuKXBVDqgjl2fPhmTe6abU4k4pVqA10+B1iSppsDPDCWKe0Sjsfj0+4Sni0zyxfXoddfUrEdzXNWW11dXKbzlgmyFCws36SvPZXa+3s3DV3bM+IdKjvVLulhM7vCzPh3JwAAAACWFX6IAQAAALBsmNmrJO2S9D9V/HnGz2Z18Nt3aN9n71F+cGIXnzeaV/+djxTfF4/H6mpqk28OoOQF4/l+aSfu5Zs3X1yp+55uDvDgWLq0S7iqag7tlafh+362EvepmHAoXFymC74XZClYHPtHvfHfvXHwpmufSz/kmYp/51FJX5B0v5ltDrA8AAAAAJgVAmAAAAAAS56ZhczsSkmPSjq/dCK9/0U9/5c/1LE7el/ypr5vP6388ePFl4mq+PnRSLhxMepdDF7BK+3EfdWaNRXZASydPAe4pbHhJe2ld3YcPGmXcCKRmPezc7lc6ZmhLVsqsqt4XsoC4PG8EQCvEr5JX3o0tetPtg3/uH/cHyo79XpJe8zsN4KqDQAAAABmgwAYAAAAwJJmZhsk3S/ps5rYkSf5+bwOX79Dz3/iFmWPnrpFb8eVt0hmkhRyzlVXJ966CCUvisGh0R2aDGJrI5HQOzdv3lqJ+5bPAa5PxuPTtYH2/RMtm6urq4Nv2VxpVfGq4nIsZ6kgS8Hie+Jofug3bxi67p7e3C4rNZJXnaQfm9n3zKwmuOoAAAAA4PQIgAEAAAAsWWb2Fk20fH596WD20GF1fOpHOnztc6e9Qf54RuMvdBdfxuOxNclE1asXotYglLeBflNj44WVuOfUOcDrahJNU6/JFgqlls2VmAOcy+VKobNrqI/P93527NhIcb0mGpt9WBePxorL8YIV5lsPlp9Mwfc/uWPkoc/cP3pTKm/jZad+X9IzZvb6U70XAAAAAIJGAAwAAABgyTEzN9ny+R5JEwGkeZ76b/+ZnvvYjcocGJvxBuU6rrxLheFSIFhdXfUL0Vh0TaVrDkI2m322uL6woaFua319RVpBl88B3rC2umXq+c7Dg6XnhsPheQe2mUymv7h2dfXR+d5v3pwr/aw8lPVHgywFwdrWmz30OzcOXru7P99ddrhF0g4z+8ug6gIAAACAmRAAAwAAAFhSzGytpG2aaPk88TNLYWRUnX/3Y734nd0q68l6xg7+2z2SJlpBh0Iumai6tGIFB2h0NL1bZbt1L2lsrEg75vI5wI01yXVTz+/sOLi7uI5Go/H5zgEeGxs7rOKfo642FNq6tWIzjeckFHLFZSrHDuDVrn/cz/2/tw/f+fWnUttznnKTh8OS/snMfmxm1UHWBwAAAABTEQADAAAAWDLM7Bc10fL5baWD4529eu7j12ls79Ccbzz06FGNdx0ovqyKR5uisci586l1qfA873BxfdG6dW2VuOeVu3btKK5PNQe4vE30ihMOhYvLIylv7t93WFG+vTv9wgduG76ud8Q7Unb4NyQ9bmbnB1UXAAAAAExFAAwAAABgSTCzP5f0gKTNk0d8Hd/2kDr++g4VRvPzfkDHp26X5Yu797Smvvat4Ui4ft73DVgqNf6YJsPY5kQiXqk20OUBb+tZdS/ZWZzO5Uttoqurq+e989jMSn/Hrq3lJXOHF1VZC+gXx7zBmS7F6tIxmB/73RsGb7yjO/tU2eHzNREC/0ZQdQEAAABAOQJgAAAAAIEys1ozu0HSVyRNzH/10+Pq+cpNOvCtXRV92P5vbJvsBC3nXKimOvGWit4/AOlM/rCZZYqvL9+8+eJK3Ld8DnBTbXLT1PMDY5lSm+h4PP6S87Pl+362uHYbNy6ZGc1HU5Y9/VVYTTzJPvPA6CNfeSx1Z84rtQivlvRjM/tHMwvP9H4AAAAAWGgEwAAAAAACY2avkPS0pF8vHcwcOqLn/+o6DT185JRvnKvBB/qUPvBi8WVVPLYhFo+eU/HnLLJ8vrC/uG6tqXnJzN652HH06LPFdTIei089PziWLu2MjcViNZV4ZlGoqamukveblepEpLjM+xNhX2C1YEm7Zm+6+0/uHLp+IOOPlB3+hKTtZlaR/x4CAAAAwFwQAAMAAAAIhJm9T9Ljkk7MrR166Gl1fPxGZY9mTvnG+Xrhk7dKvld8WVudfFs4Eg4ucKyAwaHRHapwG+hvdnbuLraBnm4O8M6Og6XzoVAolEgk5vXMXC5X2lGsNWvmFSj7+w+UwumGacLrGb387LXFZabgE/5iRk/3e0Pvu2nw+o6BwsGyw2+S9JSZXRRUXQAAAABWNwJgAAAAAIvKzJyZ/auk/5SUkCT5+bwOfvM29XzlYfkLHLr5vmn/1XcUX0Yi4UhNdeJNC/rMReD5fqll8++3tl5aiXvmfb80l3e6OcC+f2Ju73znAOdyuVJo6xrqZxfaVlKiKlZcZj12/+L0BjKW+4Nbh269cV/mMTvxHdMsaaeZfTC4ygAAAACsVgTAAAAAABaNmVVJulHSn5UO5o8PaN+V1+nY3QcWrZCBew8q03e4+LIqHtsci0XmPcc2SNlsttSy+cKGhrpK7AI+nMkcL66nmwOcLRRK83ErMQe4yNXVRyt1r1nb2FRfXGY9FWa6FCjyTfq7n4098YWHU7fmPOUmD8ckfcPMvmZm/PsXAAAAAIuGH0AAAAAALAozWy/pAUnvLB0c79yvvR//ica7Rxe9oI4rbpZ8v/iyrrbmHYteQwWNjqZ3a7IlsyRd0tg4rx25kvTkwEBvcT3dHOCBsUypbXM4HJ7Xrt1jx47tLr2oqw3uZ9WqaGkGMC2gMVs3vJA++KFtw9cfTfmDZYc/IunmyV+AAQAAAIAFRwAMAAAAYMGZ2QWamPd7Yibm0KO79cKnb5ef8U75xoXkZ30d/N5dxZfhcChWX1f9K4HUUiGe55V2NV+0bl3bTNeeidPNAb7liRd2FNfRaDQ+3znAKguwQ1u3znsH85ysq68tLjOF0k5O4Iw9eyw/8r6bBn+yb9B7sezwr0q638yagqoLAAAAwOpBAAwAAABgQZnZWyU9LGlz8YiO/mSHev7lZ7KAN1geu61H2SP9xZdVVfFzYrHoWUGWNB+p1PhjxXVzIhGvRBvooVyuNFt4ujnAVhbaVpJrawkmKIuESzuA0wVbkD8bVr6RvBX+8NbBWx/uyz1fdvhiSY+a2blB1QUAAABgdSAABgAAALBgzOwPJN0pqWbiQKGg/f92m/p++FyghZXr+PTNshOtfpOJ+GVBljMf6Uz+sKTSXN7LN2++eL737E6lSm2ep5sDnM7lSwFxdXX1vNpOe55XupfbuHHNXO/j791TCvXrotHZzROuqa4uLsfzfmauNQB5X/bRu0fu++kLmUfKftelRdIjZva64CoDAAAAsNIRAAMAAABYEGb2BUnflRSWJHnjKXX/0081cPfBQAubyhvNq//OR4ov4/FYXU1N8k1BljQfuVy+u7huralZN9/7HUilSrNMN66prZt6vnwOcDwef0lAvOxEQuHiMuNZMO3JsaJ84aGxp776ZOou30q75ddK2m5m7wqyLgAAAAArFwEwAAAAgIoys5iZ/VjSFaWDuWMD6rjieo3sGgiushn0fftp5QdKtSWq4i+PRsKNQZY0V4NDozs02Za5Em2gy+cAS9LUOcCDY+lSQBwOh+PzeVYulyuFyaEtW4IJk8PhUgCczosAGBXxH8+mu/72wdFbsp4V50rHJf3EzD4WZF0AAAAAViYCYAAAAAAVY2ZrJO2Q9Bulg+nug3r+Ez9V9kg6sMLORMdnbtbkUOJQyLlkMnFp0CXNlef7pVbKlWgDPdMc4J0dB0sBcTQajScSiXnPHZYk11A/rzB5zqpipeeO5jU206XAbNzenT30p3cO/XQoW/rvp5P0L2b2NTNzQdYGAAAAYGUhAAYAAABQEWZ2lqSHJb22dHDk6ef0/F/fJm+8EFhhZyp/PKPxfT3Fl1VVsbXxeOxlQZY0V9ls9tni+o1NTZvmuwu4fA5wS2ND29Tzvm/54no+c4Bzudzg6a9aYPFYrLgcPhHUARXxdL839P5bh6/vG/P7yw5/RNI1ZhYJqi4AAAAAKwsBMAAAAIB5M7NNkh6S9LLiEfXfulNd/7BD8i3I2mal4zN3yh9PFV/W1SYvjcaia4IsaS5GR9O7Vda2+ZLGxjmHstLJc4Drk/H41DbQ2UIhW1zPZw7wsWPHdhfXrrk5mB3A7sTPyam8n5/pUmAu+sa8zO/dPHTj8wP5A2WHf1fST80sGlRdAAAAAFYOAmAAAAAA82Jm50j6maTJnaHm6+B379SL//5MkHXN2f6v3ylpshV0yCWrYsuyFbTneYeL6/NqauY1T3fqHOB1NYmm8vMDY5nSDuH5zgFW2XNCW7fOaeeyf9/9pT97XSQ6u597Q6FSK97RrC39netYllJ53/vAbcO3P3Y431F2+HJJt5hZML/8AAAAAGDFIAAGAAAAMGdm1qaJ8PeciQO+r4P/doeO3d4z4xuXsqFHjyrdXdqZV1UVb4rFI61BljQX2Vyut7i+sKGhbr5toMvnAG9YW91Sfu6WJ17YUVxXcg5wIMKhcHF5dNyGgiwFK1vel/3pXcP3/uzF3HNlh98u6XYzSwRVFwAAAIDljwAYAAAAwJyY2cs00fZ5YnepeZ72/5/bdOzuAzO+cTno+NTtsnyu+LK+tvZt4Ui4PsiSZqvSbaDL5wA31iTXTT1fvkN4PsxOzBN2bS1NM127IJwr/Zx8cKwwsOjPx6rim/Tn94zsuP9A7tmyw5dKusvMaoKqCwAAAMDyRgAMAAAAYNbM7AJN7Pw9a+KAV1Dv127R4I4XAy2sUsyk/d/YNtkJWqGQC9Ukq94ScFWzlsudaC970bp1bfO515W7dpV2+U43Bzidy5d2CFdXV885bPZ9vzRP2G3cGOj85YFxZgBjcXz83pEH7+7J7io79HpJ95hZXVA1AQAAAFi+CIABAAAAzIqZvVLSg5ImdoH6+YJ6//VmDT14eMY3LjeDD/Qpc7AUaFdVxTdEo5HmIEuarcGh0R2a3JnbnEjE59sG+kznAMfj8TnPHPY8rxQkh7Zsmdfs4ll7Rcva4jLnmbzibwAAi+CK+0cfumFf+rGyQ78g6T4zC/QXIQAAAAAsPwTAAAAAAM6YmV0k6X5JDRMH8jn1fPlGDT1yNNDCFspzn7xN5pdCz7q66reHI+FltSPP8/1SoHr55s0Xz+de5XOA29fXX1h+bnAsPVhch8Ph+Fyf4XneyFzfO2/JRLS4zBSM8BeL7u9/lnriRx2Zh8oOvVrS/WbWGFRNAAAAAJYfAmAAAAAAZ8TMLpF0n6SJANTPZtT9zzdq5IljgRa2oDxfB7+9rfgqEg5Ha6oTbwyyotnKZrOl2aKvWrNmw3x2Ae84erR0r2Q8dlLIu7Pj4O7iDuFoNBpPJBJzek4ulysFya6hfs5BssxKwX1DLJY4o/fUVJUC4KzH7l8E458fHtv1nWfSO8p+BeFCSQ+Y2frgqgIAAACwnBAAAwAAADgtM/sFSXdLqpYk+em09n3+Bo3sGgi0sMVw/M79yhw6UnxZFY81x2LRebVSXkyjo+ndmgxmayOR0CWNjXOez/vNzs5SyDvdHGDft9LM3LnOAc5kMv3Ftaurj850bcWtX9dQqsOzwqI+GyjztSdTz139dOreshD4fEk7zGxdcFUBAAAAWC4IgAEAAADMyMwulLRNUlKS5KXGte9zP9X4vuFAC1tML3zqFunEjtLq6qq3B1nObHmeV5rPfF5Nzbzm6uZ9vxTytp5Vd1LImy0UssV1JBKZU6vssbGxE7Ok62pDoa1bFy9sr4pGists4cS8YyAI/3d3uuNrT6Xu9q20G32LpLvNrDbIugAAAAAsfQTAAAAAAE7JzM6WdI+KM3/9dFov/P2NGu8eDbSwxealC+q/rTSXMxaNJurra345yJJmI5vL9RbXFzY01M2nDfThTOZ4cd1UmzwpTB4Yy/QV17FYbD47FYMJX9fV1xSXmcKJ3cxAUL77TLrz60+mtpftBH6VpNvNLBZcVQAAAACWOgJgAAAAANMys7Mk3SvpLEmSn8+r63/dqkzXSKCFBeXFf39G2aOlecdV8VhLJBJuCrKkM1XeBlqS5tMG+smBgVKYPHUO8C1PvLCjuJ7PHGCzE+Gra2tZvM84EintAE57xg5gLAnffTa973vPjj9Qduj1kn5sZuGgagIAAACwtBEAAwAAAHiJyRaj90hqnzjgedp/1a0a2318xjeudPuuvFl2Yi9eTXXisiDLmY3yNtAXrVvXNtf7nG4OsFVg967v+6VW0m7jxjXzvd8Zq0lWF5fpvKUX7bnAaVz15PieG1/IPFp26J2SvmdmLqiaAAAAACxdBMAAAAAATmJmVZJul3Th5BFfB/7tDg09fCTIupaE/FBOA9tLIUw8HqtPJKsuDrKkM3Xs+PDNmgxnmxOJ+HzaQM80Bzidy48V19XV1XPeaRyISLi0o3I8b16QpQBT/d1DY0/euz/7TNmh90r6WlD1AAAAAFi6CIABAAAAlJhZRNINmmgxKplJff9xtwa2Hwy0sKXkwNVPKT8wWHxZk0y8JhoLrw2ypDPl+X4pnL188+Y5B9fPDA93F9czzQGOx+MnnTtTuVyudI/Qli1zuofy+VJIvSZ2cqvqUwqfCIAzHgEwlp5P3De685FDuY6yQx82s78NrCAAAAAASxIBMAAAAABJ0mQr0R9Iekfp4JGbHtDRW7pP+abVat9nb55Ix6VQyLlkMvnWoEs6E17BKwWrr1qzZs47gA+kUqUAfOOa2rryc4Nj6dK5cDh8ZsHrFLlcrnQP11A/p3vMSTxaVVyOZP3Uoj0XmIU/v2vkvl39+fJ/Lv+NmX04sIIAAAAALDkEwAAAAACKvibpN0uvjt/7mA5fsye4cpaw7JG0xvf1Fl9WxaLr4vHYy4Is6UwMDo3u0GQb6NpIJPTOzZu3zuU+5XOAJal8DvDOjoOlc9FoNJ5IJOYcNC+6qli0uBzJazTIUoBT8ST7yB3Dd78w6JV3Zviamb03sKIAAAAALCkEwAAAAABkZp+XdGIH2eiTe3Tg/zwRXEXLQMdntskfL+0SratNXhqNRhqCLOlMlLeBflNj44Vzvc9QLle6z9Q5wOWi0WjTbO997Nix3cW1a25evB3AcqWfkceyXmHxngvMTt7kf+SOoW37R7yjk4ecpGvM7L8EWRcAAACApYEAGAAAAFjlzOz3JX26dGBs7z51/dMDwVW0jOz/+p2SJltBh1wyEb804IpOK5vNPltcX9jQULe1vn5OO3S7U6lSO+mWxoa28nPpXL4UDieTyZa53F9lO4xDW7cuzi7i0ImfkUfzys90KRC0kbwVPnLn8K1HU/5g2eFrzewVgRUFAAAAYEkgAAYAAABWMTN7g6RvlQ6Md+5X1+e3T463xekMPXpU6e5SG9aqqvhZsXikNciSTmd0NL1bZeHqJY2Np9y9O5PyOcD1yXi8vA30wFimFA7HYrF1cyx18YVC4eLy8NhJoRqwJPWP+7kPbhu+aShrxZbl1ZJuN7PGIOsCAAAAECwCYAAAAGCVMrOzJd0kaWLuaa7/uPZ9/k75PunvbHR86jaZ5xVf1tfWvi0cCdcHWdLpeJ53uLi+aN26tpmuPZWpc4DLPffisY7iOhqNzqmFs5mVduCGXn/JrENqS6WyxXVdJBo7ozeFQq64fHGsMDTbZwJB6BvzMp+8d+S2nGfFtuXnSLrNzBaxfToAAACApYQAGAAAAFiFzKxG0u2S1kiSvPFxdf7DbfIz3oxvxEuZSfu/flvxZSjkQjXJqjcHWdLppFLjj2kyvG1OJOJzbQNdPgf4wnMaLy6uO48MHi4PhxOJxKzv7/t+9vRXVVBYpfDXJA1kLLeozwfm4Ymj+aF/fHhsm022pJd0saT/DLImAAAAAMEhAAYAAABWGTNzkq6TdMHEAc9T71duU7ZvPNDClrPBB/qUOVhqe1xVFd8YjUaagyxpJulM/rDn+6Xw9vLNmy+e6fpTKZ8D3FiTPKnVc/kc4Orq6lnv4M3lcqV7h7Zs2TSX+mbl5W1rS8/26IGO5eemzuzBa/akd5Yd+k0z+2xgBQEAAAAIDAEwAAAAsPr8vaRfLr069IPtGtl1PLhyVojn/upWmV/a9VpXV/126cSu0qXGK3ilgPVVa9bMaQfwlbt27SiuZ5oDHI/HFz7Ana9kVbS4zHoiAMay9K+Pp5595FD++bJDV5rZbwZWEAAAAIBAEAADAAAAq4iZ/bakK0oHBh98Ukdv6gquopXE83Xw29uKryLhcLS+rvpXg6xoJoNDozs02aa5NhIJzbUNdHmr53U1iabS/cfSg8V1OBye9SzSXC5Xer9rqF/4WaZlAXCmMO1oY2BZ+It7hnd0D3mHyg79p5nNaZc/AAAAgOWJABgAAABYJczs1ZK+Vzow3tmr/Vc9GlxFK9DxO/cre/hI8WVVVbw5FovOKVhdDOVtoH+/tfXSudyjfA7whrXVLcX1zo6Du4vhcDQajc92DnAmk+kvrl1z88IHwBsa60vPLqiw4M8DFkjel33kzqE7BjL+8OShuKTbzGzJtqUHAAAAUFkEwAAAAMAqYGYbJd2qiSBAyg8OqvPv7hajTiuv44pbJCttIU0mq94aZDkzyWazzxbXFzY01M1lF/COo0dL95g6B7hcNBptOtW56YyNjR1W2e7i0NatCxukxyPlLaDZAoxlbSBjuT+/e/jWTMGyk4caJW0zs+og6wIAAACwOAiAAQAAgBXOzOKaCH83SpL8bFadX7hNXppdjgvBSxfUf9tDxZfxWLS2rjb5liBLOpXR0fRulYWslzQ2bpntPb7Z2Vna6Tt1DnA6ly/tDk4mky3TvX/BjIyWnl0XjUZOe/26+priFjJBLAAAIABJREFUMlOw/5+9Ow+M6yrM/v+cGc2qXbLlfU1iJ3E2spINkpCF7KENUBrasv260Zb1pVBatkJb2kILbYEWCsmPhvYtaSEQKIQ0JAGcEBIIsbPZseN9laxds9/z/qGZqyvbkiVb0pm58/3843OO74wfYhRFenTOyc9SKmDOvHCoNPiRHw9+z7P+x/hpku52mQkAAADA3KAABgAAAMLvq5LOkSRZz9P2z39f2Z1Dk78EJ2T3/79RhYPdlWkimVjT0BCd1g7YuVIqlfZVxud1dq460fdb2dXil8iHhrJ7KuN4PD7h7uCJWGsLlbFZtWJ2//k1RP2SOFO07ABGKDy4M7//n58afiiwdKu19t3OAgEAAACYExTAAAAAQIhZa98l6bX+wr6vP6z+x/ZN/ArMmE1/dp/s6BnbEWNMU2PqKteRjmZ4eOSJynhpKpU4nmOgd46M+P+fmt+cXlwZ9w5leivjWCw27Xt8Pc+rHF8rs2hR+3RfPy3NjenKcKTgZWf1zwLm0Fc2Zl58aGd+Q2Dpk9baC5wFAgAAADDrKIABAACAkLLWni3pk/5C3083aP83NrtLVGcKfXkNb3qpMk0k4q3pxuS5LiMdTSZb2CfJL1pvXLLk/Om+xy8OHdpeGacTcb/oXb9pl388tCSlUqlplculUsnfqR6ZP79lurmmpSESrQwzRVua1T8LmGMffHjgp7sHSwfL0wZJ37DWTntXPgAAAIDaQAEMAAAAhJC1Ni3pm5JikqTc/gPa9pnHJn0RZt6LH35AxcHhyrQxlTwvFo92uIx0NPl8wS+qVzY1TbsUmuo9wI2NjdO6Y7hUKg34k/b2pkkePXGJeKoyHMzb4ckeBWpNwcp7zw8H7g/cb71E0tettcZlLgAAAACzgwIYAAAACKevSFopSfJyeb30Nz+QPOs2Up3a8bn7pfJR0JGISafSV7iOdLjevsFHVC5wj/cY6ILn+ff1TnQPcCKRWHz46yaTz+f9I6RNW+u0j5CelmjE//p4pGiLs/pnAQ5s7S8Nf/qJof+1Y58JrpT0p+4SAQAAAJgtFMAAAABAyFhr3yzpdf7C7q8+qOwudjS6MvCLgxrZuqMyTSZi82LxhpNcRjqakuf5O3WP5xjofdlsT2U80T3A0Wj0uEtc09Iam87ztrt74NhPBcTj8cpwIKfBab0WqBHf3Jzb+f1tuV8Elj5irb3SWSAAAAAAs4ICGAAAAAgRa+3Jkj7nLww8+Yx6Htgx8SswJzZ98Pvy8pWjV9Xe2nxlLNbQ5jLS4XK53DOV8WXz5y+e7i7g4D3Ai9qb/ft6g/cAx2KxxHTuAe7u7t7gT1qaZ/fr14jxj8IdKnjsAEZoffTHg09sH/D2lacRjR4FvcBlJgAAAAAziwIYAAAACAlrbVLSvZKSkqTCoV5t++yjTkNhzPbPfU+SlSRjTCSdTr3ScaJxBgczG1QuaiXp5fPmTeu+3uA9wJIUvAc4KBaLzZ9mNP89I2eeOe2jqacsGmmoDLtHvP5Z+3MAx0qSffeD/T8YLthMealT0n9Za/keEQAAABAS/Mc9AAAAEB6flnS6JMmWSnrp0/fLy3mTvwRzpv+xfcps312ZJhOxBfFEbLnLSIcrlUqVXYE6ualpWvf1SlJfPu8fIx28BziTL/jr6XR6xfHmM6tWTLc8ns67+zuAe3NefrIngVq3c7CU+cSjgz+w5R9KkXSppL9wmQkAAADAzKEABgAAAELAWnurpN/zF/bf+2ONvMguxmqz+QP/I3mlyrS5MX11tCHa6jJS0PDwyBOV8bq2tpbpHgP90vDwnso4eA/woaGsvx6Pxzun856lUskvj82iRe3Tee20BI6A3jXoHZq1PweoEg9sz+/79ubsE4GlP7bWXuUsEAAAAIAZQwEMAAAA1Dhr7RJJX/UXhjdv077/fMFdIkzI86x2/Mv3K9OGhmhDUzp5uctIQZlsYZ8CRy7fuGTJ+dN5/c7h4d7KeFF7c0vlGOjeoYy/HovFEjMQdWZF5Ze/VlJ/jjuAUR/+4qdDv9jSV9oTWPqqtbbRWSAAAAAAM4ICGAAAAKhh1toGSd+Q1CxJKg0O6qW//qHTUJjcoYd2Kbtrb2WaTCYWx+MN0z5uebbk84VNlfHKpqZp7dY9/B7givWbdo1bT6VSU95ZnM/n/XIqsmbNlP85eTt29h77qbLTVndUhrmitZM9CoSJZ6X3PjTwv5mizZWXFkv6B5eZAAAAAJw4CmAAAACgtr1f0gWjQ+tp+z/cr+JgwWkiHNumD35H8vxCtKW56VqXcYJ6+wYfUbmsXZpKJaZ7DHTwHuB1y+f5O4iD9wA3NjauOfx1U2HaWmdn93A6Ea8McyVRAKOu7B4sZT7/1MjDgaU3W2uvdxYIAAAAwAmjAAYAAABqlLX2ZEkf9hd6fvC4Bp7ucZcIU+blPB34zvrKNBqNxFtbGqumcCl5nl/WTvcY6OA9wPOa0v4O4lxh7C7fRCIx5Z28+Xx+6jt5j1c6GasMM8UjNjADofcfz2W2/Xx/YXNg6U5rbceELwAAAABQ1SiAAQAAgBpkrTWS7pbUIEnK7T+gnV9+2mkoTM+eu59Vbv+ByjSZTCyLx2NdLiNV5HK5Zyrjy+bPXzydXcAfevrpRyrj1nQiUbkHeFfPwPbKejQanfJO3u7u7g2VsVm6dHZ2AC+Y11oZ5kpiBz3q0p88MvCTgbw3Up52SfpXl3kAAAAAHD8KYAAAAKA2vUvShZIkW/K0/R8fdBsHx2XTn35H1vOPHE6nEle5jFMxOJjZoMCdvS+fN29aRzYH7/vtbErNl8bfAxyLxRLTuQc4mCVy5pnTOpJ6SpIxfwdwljuAUacOZW3+757IBD+X3Gat/XVngQAAAAAcNwpgAAAAoMZYa1dI+ri/cOiRn2tk84C7RDhupcGCDv7g8co0kYi3NDWnX+EyUkWpVNpXGZ/c1DTlI5ul8fcAL+xoXHG0Z2Kx2PzjTzfDOlqbKsNMUXmXUQCXvrMls+cnewrPBpY+b62d1sc/AAAAAPcogAEAAIDa82+SUpKkQm+vdn7pKbdxcEL2fOWXKvT4dzenkom1sYboPJeRJCmXz/tHNq9ra2uZzjHQE90DnMkX/GI4Ho+3T/X9rLX+scxm1YqZL45b0o2VYaZoszP+/kAN+ciPBx/ry/n3gLdI+qrLPAAAAACmjwIYAAAAqCHW2t+VdFl5Iu38/INSyZv8Vah6mz70ndG/UClijGlsTF3pOtKJHAP9oaeffqRy3HPwHuBDQ1m/GE6n06um+n6e5+UqY7No0ZSKY++5Zw9O9f0VjUYrw2zRK035dUAI9ee84l//dOjBwGHoV1lrf9thJAAAAADTRAEMAAAA1Ahr7RJJf+Mv9D+xQQNP90z8CtSMQk9WI5tfqkwTiXh7IhFb6zKSNP4Y6PM6O6dc2B5uZVfLGknqHcr0VtZisVhiGjn8ncORNWtm/jjaaMQvgDMFSwGMuvfA9vy+B7fnng4s/a21dubv3wYAAAAwKyiAAQAAgNpxl6TRu0pLI8Pa+bmfuY2DGbXpQw+oODhcmbY0N74iFo9N+Zjk2dDd03+fyjt5l6ZSiekcA71zZMQvj+c3pxdL0vpNuzbYwK7iVCo1pfcrlUqze8d1KpGsDIcKGp7sUaBefPTR4ccPjnh95WmzpM+4zAMAAABg6iiAAQAAgBpgrf1NSa/yF3bd+ZBKmaK7RJgVOz53v6TRo6AjEZNOxp0fBV3y/LtAdeOSJedP9XW/OHTIv0M4nYj7u309b+w+38bGxikdK53P5/2dw6atdco7h6csEvW/Nh4peHxcAZKyRc/7y8cGfxhYep211vm/kwAAAAAcGwUwAAAAUOWstV2SPusvDD6zWb2P7HaXCLNm4BcHldm6ozJNJhPzYvGGk1xGKhVL/r29Z7e3L5zqLuAvbtmy4Wj3AA9kcv6x5YlEYkrHOWezWf8+X9PSGptq9ilLNMQrw96cHZrsUaCe/Hh34eBje/LPB5a+ZK2d+R/CAAAAADCjKIABAACA6vdZSa2SpFImqx3/tN5tHMyqF/7k+/Ly+cq0rbX5ylhDtNlVnN6+wUdULnKbGxoiK5qa5k/1tQXP83f7Vu4B3tUz4O8MjkajUyqShoaG/OOk1dIciZx55szeRWoipjIczo/tUAYg/fmjQ49li7by76TVkj7gMg8AAACAY6MABgAAAKqYtfZSSa/3F/bfu16FQzl3iTAntn/ue+WToBUxJpJuTDk9drVUKvkF7OXz5q2b6uv2ZbP+bt/gPcCVtVgslpjqPcAK3B08pYcf/tG+Yz9VFo00VIYHRor90/lzgLA7OOLlv/Zc9tHA0vuttaudBQIAAABwTBTAAAAAQHX7nD/K7NijA9980WEWzJX+x/Yps9M/5juZiC+MJ2LLXcXJ5fP+rt11bW0tUz0GOngP8KL25pbK2AbK3FgsNqUdxdaO7cw1q1ZMeRfylBj5O4AHCiY/2aNAPfrCU8Mv7BnyKkexJyR9yWUeAAAAAJOjAAYAAACqlLX2dySdVZlo95d/7DYR5tTm939X8kqVaXNj+upoQ7TVRZTBwcwGBUrbl8+bt2YqrwveAyxJlXuAM/mCf89uPB5vn8p7eZ7n73w3ixZN6TVTZoxfAO/oL/bO6HsDIfGJRwcf9mz5aALpSmvt65wGAgAAADAhCmAAAACgCllrmyX9lb8w+PNnNfR8n7tEmHOeZ7XjX75fmTY0RBuaGlOXuYoTPAb6vM7OVVN9XV8+75e9lXuADw1l91TWEonE4ulmicyf33Lsp6YoOrb710oaKtjijL03ECI/21c49NDO3MbA0mfKn6sAAAAAVBkKYAAAAKA6fVxSmyTJy+W180s/cxsHThx6aJeye/ziNZmIL4nHG6ZdmM6E7p7++1Tezbs0lUpM9Rjol4aH/bK3cg9w71DG32WbTCanVObm83n/fdTe3jS11FNw+kmdlWGmYO1kjwL17uPrh342XLAj5elCSX/uMg8AAACAo2twHQAAAADAeNba1ZLe7i903/+4Cr3cS1qvNn3gPp31lbdIkYgkpVPJK/P5obtdRCl53lA0EmmRpBuXLDl/Q3//fcd6zc7h4d5z20dPbF7U3tyyqK154fpNuzacsbzrIlP+oeRUKrUwk8nsm+x98vl8byqVkiSZttZEw2/cMXoMdVdXc2T+/GZJMp0dTZJkWtsm3pW4eN5i/esHf1uSNJgZVMT4PxgdjUgfuqT5vEOZUmbfiB3aPVgc3tZfHN47bLPH+t8J1IOhgi3+64aR9X90buPV5aV3WGvvNMY85TQYAAAAgHEogAEAAIDq8y+SopKkQm+f9n7tWbdx4JSX83TgO+vVdfNlkpRIxBtbW5te3d8/9L25jlIqlvZE46MF8Nnt7VPaAfzFLVs23LJ0qV/2VnieLUQjJiFJjY2Naw4vgDs6OtZIUjKZXFz+dWnl98zSpYmGN95xxYn9r5HUnBpXFCeixtx0UuK8wx8rerY0kLfD/Vk7dChTGj6Y0eBL/YW+pw8We57cX+DOYNSVf3sms/WGVcndJ7dHl5SXPiPplS4zAQAAABiPAhgAAACoItbaWyS9yl/Yddcj4lRa7Ln7WbVeuFaJBfMlKRGPLYvHY135fOHAXMbo7Rt8ZEFXxxpJkeaGhsiZra0LN/T3T7pzVxq9B7g9Hm+RpHXL552/t2/wvoFMrqe9cbTcTafTyxcvXnyFJCUSiUWRSGQm7xUt6gS/9m2ImGhH0rR0JNWyqi1aXo1LkvIlW9w77PXsGCh1bz5U6NnQXex+cn/pULboeSeYG6haH18/8KN/vaH9tVGjqKRXWGtvNMZ8x3UuAAAAAKOM6wAAAAAARllrY5K2SFomSRrZtFWbPvSA01CoHtHmmM745zfJRIwk5XL5gb7+of+Y6xjz5rX9WuUY6Gf6+gb++Je/PGaGj5111ivObW8/VZL6R3K5F/f3PrpmYceZzal457FeexR9kp6StK083yZpe2Ac/FXGmG2agLV2ZXm4UqO77k+StETSCo1+HC6TtFRSaroh9w55PbsGSz1b+kvdGw8Ueh7fV+juy3mF6b4PUK0+cXnLhdesjJ9Tnj5jjDnDaSAAAAAAPgpgAAAAoEpYa98v6S9HJ6WSXnj//1V255DbVKgqi998trquu6gyHRga/kVmJPezuYzQ3Jw6M51KXVyZf+Cpp751rF3Ad6xcueYNK1ZM98jmO8u/Plz+9aHJytzZZK2dp/GF8GpJL5N0jqSOqb7P9gFv30/35Lbd+2J26+beEh/bqGmdyUj8G69pf0OyYfQod0lvMcZ8xWkoAAAAAJIogAEAAICqUC6YtktKS5J6H/m5tn/uCaehUJ3W/dPtinV2SJLnWdvXN/CNQrHUPZcRFnR1vE3lO33v3bXr+S9u2fJI8PfvWLlyTVci0XxBZ+ealljsWMc5D0m6pzx+WA6L3uNhrV2qsTK48uuqY71u77DX/fje3Lbvbc2/xD3CqFXvu6Dx7NtPTVV+KGWXpFOMMVmXmQAAAABQAAMAAABVwVp7l6TflCSVRkb0zO//u7xsyW0qVKVYZ1Lr/vE3JGMkKZvNH+ofGLrnWC+bSfM6W2+KRqOLJWlXJpP73ccfv+vKrq7Fr1qwYM3q5uZFUyh971QNlr1TZa1t1fhC+GWSTpMUO9rzPSNe/5MHCi99f1v+pR/tzB2cu6TAiWmMRaL3/krbr7XEI43lpfcbYz7pNBQAAAAACmAAAADANWvtqZKe8xf2fO1/deBbW9wlQtVb87FrlF7j7zLt6x/6YS6X3zxXf3wqGVvY0tJ8k8q7gPsLheHWWKxxkpeEuvCdCmtto6QbJf1q+dej/vM6lPUGHt6Rf/7OjZnn9w6X2EmJqvfbZ6fWvu2sxleWp/2SVhhj+l1mAgAAAOodBTAAAADgmLX2vyW9RpJU6OnRM2//L7eJUBPO+vIdiqQbJcnzPNs3MHxPIT83Rwk3NabXpNOJy40x0Ukeu1PSw8aYOyd5pi5ZaxOSrpd0u6SbJbUc/oxn5W3sLmz/1ubsc/dtze3y7FynBKYmKpn7bu98bWfKtJWXPmWMea/TUAAAAECdowAGAAAAHLLWni3pKX9h55e+p54HdrhLhJrRdkGXVr7nVpW/rstmcwf7B4a/MZt/ZFNjek0qnTgvYsxERzxT+k6TtTYm6VqNlsG3SOo4/JnenDf48I7883c9k3l+92ApM9cZgWO5fW1yxfsubLquPC1IWm2M2eUyEwAAAFDPKIABAAAAh6y192q09JFy+w/ouXd8020i1JS1f/lqpVYtr0x7+wfuz+eKM37Ecltb0xWJeHzNBL/9lKTPUPqeOGttg6RfkfQ7kq7UYV+zW8nbeLCw49tbss99e3NuV0liXzCqxtdvbb9lRUt0YXn6VWPMbzoNBAAAANQxCmAAAADAkSN2/27/wnfV+xA7pjB1xkhn/dtbZaJRSfI86x3qG/h6qVg64fs3E8nY4lQysWaS4vdOSR+t1zt9Z5u1drWk35P0JknzDv/9nhGv/z9fyDz5lY2ZF+c8HHAUly2Jzf/0Va2vKU89SecYYza4zAQAAADUKwpgAAAAwBFr7X2SbpTE7l8cv/bLFmvF22+qfHmXzeb29Q8Mf+t4366pMb0mmYyviUYji4/y29s0Wvqy23cOWWvfKOltkl55+O/1jHj9X3s+88RXn8lsmftkwHhfeXXrtevmx1aWp980xrxm0hcAAAAAmBUUwAAAAIADR+z+3fbZb6tv/V53iVDTTv2bG5VctqQyPdQ78N1CoTit3eTHuN/3Tkl3GWMeOtGoOH7W2rWS/kDSb0ka9/d0YNjr/dpzmSe+9lzmJSfhAEnndMXa/uW61tcFls4wxjzjLBAAAABQpyiAAQAAAAestd+TdJ0kKbNjj154331uE6G2RSM6+6tvkYlEJKlYKhV6evrv1BTuiE0kY4ubGxvPnWDHL8c8VyFrbZuk90h6hw4rgvcOeT13P5t54j9fyGx3Eg517/PXtlx13oL4yeXp3caYNzoNBAAAANQhCmAAAABgjllrL5T0U39h6998UwNPHnCXCKHQec1yLXvrqyvTbDa3u39g+DsTPR5riDa3tja/coLi980c81z9rLUdkv6PpD+U1Bj8vd2Dpe67n8k+cc/mzA4n4VC3zuqKtX7x2tbXm9HvOHmSTuKHSAAAAIC5FXEdAAAAAKhDn/BHme27KH8xI3p+sEPZvfsr02QysSQejy082qMtzY3ndXS0vuEo5e9HzCjK3xpgjDlkjPmApJWSPiUpU/m9Jc3Ree97eeOr//3m9ptO74i2OAuJuvP0gUL/c4cKlR3oEUkfcJkHAAAAqEfsAAYAAADm0BG7f1/8xH9paEOPu0QIlWiqQWd++U2SiUhSLl8Y7Osb/PfKb09yzy9HPYeAtbZL0p9I+h1Jycp60bOl727J/fyvfzb0y3xJnrOAqBuXLYnN//RVra8pT/OSVhlj9rjMBAAAANQTdgADAAAAc+uT/mhk6w7KX8yoUqaog//zWGWaiMeam5rTVySSscXzOttuamxMXnFY+fuQpCuNMW+m/K19xpgDxph3Slot6Z80WrypIWKit5ySvOAbt3XcfuXyRJfTkKgLP95dOPhSX6lS+MYlvddlHgAAAKDesAMYAAAAmCPW2gskPe4vsPsXs+W0z/6KEl3zJnlim0bv+X1oriJh7llrV2t0d/flY2vSY3vyz39s/dBjPVkv7y4dwu6WkxJL//SS5hvK04ykJcaYXpeZAAAAgHrBDmAAAABg7rzLH428tJPyF7Nm8we/LevZCX73I8aYVZS/4WeM2WqMeYWkt0g6NLomXbwkfuo9t7W//rfWpU52mxBh9q0tuV0HRrxD5WlK0rtd5gEAAADqCQUwAAAAMAestUskvcFf6L5/g7s0CL1lv3OBTOTwE5/u1Og9nB91EQnuGGO+ImmtJP8+6MaYSb393Mar7r6p/YbTO6It7tIhzL72bObngek7rLWH3z8OAAAAYBZQAAMAAABz4w/9UaG3T4d+uMthFoRVek2b1v3T7Wo9/4zA6n5JN3PPb30zxnQbY35d0nWStlfWT2mPLv3S9e23f+CipnPiUb5HgJn1H89ntvaMeP3labOkt7vMAwAAANQLvrgDAAAAZpm1NiXp9/2F3oeedpcGobX4jtN1yod/RbHOjsDqf0o62Rhzn6tYqC7GmPslnSbpU5JKktQQUcNr1iQv/L83t9+2ojmadhoQoeJZ6RsvZp4KLL27/DkRAAAAwCyiAAYAAABm35s0uvNJ8nI57fvmJrdxECqxjoTW/Pm16rr5MploQ3l1SNJbjDGvN8YMuYyH6mOMyRhj3ivpfEl+ObekOTrvrhvbbr9mZWKhu3QIm688ndk8kPdGytP5ku5wmQcAAACoBxTAAAAAwCyy1hpJ/8df6H/8GXk5z10ihErbxQt16t++VulTVgZWfynpnPK9r8CEjDFPabQE/lRlLR0zyY9f3nzTuy9oOmPiVwJTV7DyHtiW2xhYeqezMAAAAECdoAAGAAAAZtf1klaNDq2nvfc84zQNwiESMVrx9vO18o9uVjRdObLXSvq0pAuMMVscpkMNMcaUyruBb5U0LElGivzaqclL/uW61lc1xUzD5O8AHNtdG0eeL9nRI8clrbPWvtxpIAAAACDkKIABAACA2TW202nw2S3K7884zIIwSC5r0ppP3ar2y8+VjCmv7pf0amPMe4wxBZfxUJuMMd+S9DJJmytr53TFTvqPm9tfs6Y91uQuGcJg77DNPrUvvzWw9HvOwgAAAAB1gAIYAAAAmCXW2rWSrvEXDt77S3dpEAotZ3Vqzcd/VclFXYHV+yWdYYy531UshIMxZrNGS+BvVda6GiPtX3p1y+23npJa6i4ZwuA/N+WCJ2C83lrb6SwMAAAAEHIUwAAAAMDsea8/yu7aq4GnDznMglrX8colWvW+WxVJJMoreUnvNcZcZ4zpdhkN4WGMGTbG3CrpXZKKkpRsMPE/eXnj9R+8uPFct+lQy364I3fgwLDXW54mJL3ZZR4AAAAgzCiAAQAAgFlgrW2X9Jv+QvcDG9ylQc3runm1lv3uDTINlftYByVdYYz5lMtYCC9jzN9LulTSPkkykrn15NT5n7+25aqoZCZ/NXB0923NBT8X/qG1lv8vAQAAALOAAhgAAACYHW+RFJckFQcG1fP9bW7joGYtvuN0Lb7jahn/vt99ki42xjzqMhbCzxjzuKSzJK2vrJ23IH7yv97Qfk0qqqi7ZKhVd20Y3pwvKV+eLpd0ncs8AAAAQFhRAAMAAACz47f9Ue+PN8hah1FQs1a+8yJ13XxZYOUFSRcYY56Z6CXATDLGHJT0Sklfr6yd3hldedeN7Te2JiINE78SOFKmpNL63blNgaXfcxYGAAAACDEKYAAAAGCGWWvPl7RmdFIqaf9/P+82EWpOJGJ08kevVtvLzw6sPiHpImPMLlexUJ+MMUVJr5d0d2VtZWt04Z3Xt94yPx2Ju0uGWnTXM9mNgelN1trlzsIAAAAAIUUBDAAAAMy8N/uj4U0vqThUdJgFtSaSjOqUv7pBTWtXB1b/R9Llxph+V7FQ34wxVtJvSPp8ZW1Jc3Tende33bqkOZpylwy15pnuwsCLvaXd5WlEwRMzAAAAAMwICmAAAABgBllrY5Lu8BcO/XjTxE8Dh4m1xbX2r29RavmSwOrdkm4yxmRdxQKk0RLYGPP7kj5WWZufjrR/+frW205pjzY5jIYa8+0t2eAx9m+z1poJHwYAAAAwbRTAAAAAwMx6jaRWSVIpk1XvgxzXi6lJLm3U2r+6TYmu+YHVTxhj3miM8ZzlAg5jjPmwpHdV5u2JSPPnr2297bwFsXaHsVBD7nkhsz1btLnydIGkq1zmAQAAAMKGAhgAAACYWW/yR4O/eF7WOoyCmhHrTOqUD9+qhrZZy9+pAAAgAElEQVS28oqV9FZjzJ+6jAVMxBjz9woc3dsSj6Q/fVXLLRcvjnU6jIUaUfBkH99b2BxYumPChwEAAABMGwUwAAAAMEOstfMkXecvdN/P8c84tkgyqjUfuUHR5soRujlJrzHGfNllLOBYjDFflPQ6SUVJSjWYxF+9suXGNe0xjoPGMX1na+7FwPR2ay13SQMAAAAzhAIYAAAAmDlvVeW/sXP7D2jo+T63cVD9IkanfORaxebPKy/0S7rSGHOvy1TAVBljvi7pFkkFSUo1mORnr26+qSsdSbhNhmr3wx25A4ey3kB52izpZpd5AAAAgDChAAYAAABmzlv8Uf/j7P7FsZ30/suVWrmsPMtLusoY86jLSMB0GWP+R9IbNHp0uTqSkZbPXdN6fbIhwvccMKlHdxeCu4Df6CwIAAAAEDJ8MQYAAADMAGvtyyWtGZ14ng5+98XJX4G6t+z/e5mazzq1PLOSfs0Y83OXkYDjZYz5L0nvqcyXt0S7/unq5qsjxmEoVL17NmWDPyx1g7W23VkYAAAAIEQogAEAAICZ8WZ/lHlxmwq9eYdZUO26bl6tzlddEFj5gDHmG87yADPAGPN3kj5fmZ85P7byr17ZcrHDSKhyz3QXBnYPlg6Wp1FJv+YyDwAAABAWFMAAAADACbLWJiTd4S8c+hHHP2NibRcv1OJfvyqwcpcx5pPO8gAz6w8k3VeZXLEsfubvn9N4msM8qHI/2l3YHJhyDDQAAAAwAyiAAQAAgBN3g6RGSVIpk1X3/+50GwdVq2ldh5b//vWSqXwt9oCkt7qMBMwkY4wn6XWSnqis/daZqcvecFpqpbtUqGZffz6zxbOj90dLusRau2zSFwAAAAA4JgpgAAAA4MTd5o+Gn90ieXaSZ1GvEkvSWvXeGxWJxcorz0u6zRhTchkLmGnGmIyk6yVtkyQjmT86N331lcsTXW6ToRrtHCxlXuwt7g4s/ZazMAAAAEBIUAADAAAAJ8BaG1WwAO57fJu7NKhaDc0xnfJnNymaSpVX9ku62hgz7DIWMFuMMd2SrpXUK0nRiIl89NKm69fNi7W4TYZq9MOd446BpgAGAAAAThAFMAAAAHBiXiFptNDwCgX1/WiP2zioPtGITv7o9WpoaysvZCRdY4zZPdmrgFpnjNks6cbKPNlgEp98RfN1jbFI1GEsVKF7Xsi8VPRs5TSEk621ZzkNBAAAANQ4CmAAAADgxASOf968XR7HP+MwK995kZKLF5ZnnqTbjTEbXEYC5oox5lFJv1qZdzVG2j96adNFDiOhCvXnvOIz3cXtgaUbnIUBAAAAQoACGAAAADgxr/VHg0++5DAHqlHbpYvUev6ZgZV3GWO+6ywP4IAx5r8l/UVl/opl8TNuOSmx1GEkVKGf7S3uCEwpgAEAAIATQAEMAAAAHCdr7TmSFo1OSp56HtzpNhGqSrQlrmVvfZWMqax83RjzWZeRAIc+LOnnlcm7L2i6anFTNOkwD6rMfVuzwQL4Emttq7MwAAAAQI2jAAYAAACO39jxz5ltu1TKFB1mQbVZ9Y5LFE2ny7O9kt7mMg7gkjGmqNETE4YlKR0zyb+5ouUqt6lQTfYMlbJ7h73u8jQq6RqXeQAAAIBaRgEMAAAAHL+xAnjgl9sc5kC1mXftCjWtWxNYeYMxZsBZHqAKGGO2SvqDyvyU9ujSd5/feOYkL0Gd+eWBQvAkjeudBQEAAABqHAUwAAAAcBystSslnV2eSD0PcP8vRiW6klp8xxWBlc8ZYx52lgeoIsaYOyV9vTJ/7drkRRcsjHU4jIQq8sjOfLAAvtlZEAAAAKDGUQADAAAAx2ds929u7z4VDuUcZkE1WfmeqxRJJMqzrZLe4zIOUIXeJmmnJEUjJvKxy1quboxFoo4zoQo8uCO3L1ey+fJ0vrX2bKeBAAAAgBpFAQwAAAAcn7ECePBpjn/GqIWvP1WpFUvLM0/Sa40xWZeRgGpTPg79dRr9GFFnyrR97NKmi92mQjXwrPR8T3FXYIljoAEAAIDjQAEMAAAATJO1tlPSK/yFnge3ukuDqpFc1qSumy4JrPyFMebnzvIAVcwY85ikv6jML18WP/32tckVDiOhSvxsb3FHYHqDsyAAAABADaMABgAAAKbvGklGklToOaTsjiG3ceCcMdLKd1+tSKyhvLJB0kddRgJqwIcl+T8k8UfnNl6xuCmadJgHVeC+rdlgAXyJtbbRWRgAAACgRlEAAwAAANN3hT8a3rzTYQ5Ui6VvOVvJRV3lWV6jRz8XXUYCqp0xxpP0WknDkpRsMIkPX9J0qdtUcG3PUCm7d9jrLk+j4hhoAAAAYNoogAEAAIDpGyuAB5/e4zAHqkF6VbM6r7kosPI+Y8wLzvIANcQYs1XSn1bmL1sQO+nSJbF5DiOhCvzyQCH4w1UUwAAAAMA0UQADAAAA02CtXShprb/Q97N97tKgKiz+jQsCs4eNMZ9xlgWoTf8g6cXK5J3nswu43j2yMx8sgG92FgQAAACoURTAAAAAwPRc5Y9y+w+oNFhwmAWuNa3rUNPpJ5dnnqQ/cBkHqEXGmJKkd1bmK1qiC379tNRqh5Hg2IM7cvtyJZsvT+dba892GggAAACoMRTAAAAAwPSMHf+c2cLxz/Vu6ZsuCcz+zRiz0VkWoIYZY74j6f7K/E1npi+KR/meRb3yrPR8T3FXYIljoAEAAIBp4IspAAAAYHoC9/9u3OswB1zrvGqZkssWl2cFSX/iMg4QAm+XVJKktoRpfse5jWc4zgOHfra3uCMwpQAGAAAApoECGAAAAJgia22XpFPKM0/9j1MA162I0cLbLwos/L0xZrezOEAIGGNelPSFyvzWU1LnLkxHEg4jwaH7tmaDBfCl1tpGZ2EAAACAGkMBDAAAAEzdNf4ou69bxaGiwyxwaeGvnKJYR0d5NiDp4y7jACHyZxr9mFI8qvh7Lmw6z3EeOLJnqJTdO+x1l6dRSa92mQcAAACoJRTAAAAAwNRd6Y8yW7n/t15FklHNv+GCwMrHjDEDzvIAIWKM6ZX0ocr88qXxdWd1xVodRoJDvzxQ2BmYvtJZEAAAAKDGUAADAAAAUxe4//dZCuB6tfjXz1A0XTmKdLekz7qMA4TQP0p6UZIiRuZd56YvOsbzCKkn9uaDVy2c7ywIAAAAUGMogAEAAIApKN//e1J55qnvJ9z/W4+iLXF1XvmywMr7jTEFZ3mAEDLGlCS9ozJfNz+28lUrEgscRoIjj+4tHAhMz7fW8n0sAAAAYAr4D2cAAABgaq7zR7n9B+VlSw6zwJVlbzlXJhYvzzYaY/7NaR4gpIwx35V0f2X+1jNTF0zyOELq4IiX78vZwfI0JukMl3kAAACAWkEBDAAAAEzNxf5oZAvHP9ej5JJGtV4YLB/e4ywLUB/+uDI4ub1h8XkLYu0uw8CNnQPFg4Epx0ADAAAAU0ABDAAAAEzNuf5o+IX9DnPAlUVvOFsmUvka6ofGmPsnfR7ACTHGPCVpfWX+G+tS7P6sQ5t7i92BKQUwAAAAMAUUwAAAAMAxlO8cHCuAh57pcZcGTkTTDWo5e01g5Y+cZQHqy99VBhcsip/SkTTxyR5G+GzsZgcwAAAAMF0UwAAAAMCxnabRuwclL59Xdvew2ziYcwtuPjlw9+//GGM2Os0D1I//lrRLkmIRNbz1zPSpjvNgjv10byFYAJ9jrY05CwMAAADUCApgAAAA4NjGdv/mdh9wmAOutF9xZmD2BWc5gDpjjPEU2AV83erkGVHJOIyEOXZwxMsfynoD5WlM0lku8wAAAAC1gAIYAAAAOLaxAji7p3uS5xBGbRd2KdbeXp7tk3SfyzhAHfqipBFJaombpl9dm1ruOA/m2M6BEvcAAwAAANNAAQwAAAAc28v8UWYbBXC96bxuXWD2hfKORABzxBgzqNESWJJ02ynJMxzGgQObD3EPMAAAADAdFMAAAADAsV3oj4aepwCuJ7GOhJpOXV2eeZL+2WUcoI79rUY/BnVye3TJeQti7cd4HiGysZsCGAAAAJgOCmAAAABgEtbakyWlRielokY2D0z+CoTKgttOlYlGy7P7jDH7nOYB6pQxZpekeyvzN56RXjfJ4wiZH+/KHwhMz7LWxpyFAQAAAGoABTAAAAAwubH7f3P7Dk7yHMLGGKn9knHHPzvLAkCS/q4yuHBhbE1H0sRdhsHcGSjY4qGs11+eRhT83AwAAADgCBTAAAAAwOTG7v/N7ulxmANzrePKZYo2NZVnOyR9z2UcoN4ZY34k6eeSFIuo4U1npNc6joQ5tK2/xDHQAAAAwBRRAAMAAACTG9tllNnG/b/1pPPq0wOzfzbGWGdZAFT8fWVw+bLESS6DYG692EsBDAAAAEwVBTAAAAAwuYv80fALFMD1IrmsSelVy8uzoqR/dhkHgO8eSXlJWtIU6VrRHE07zoM5srG7EPwcfIGzIAAAAEANoAAGAAAAJmCtXSqpdXTieRp6ttdtIsyZBbedNnoJsCTpXmMMx38DVcAYk1HgOPbXnppiF3CdWL8rH9wBfJq1NuUsDAAAAFDlKIABAACAiY0dAZw/2CN5HAFcL1rOCd4t+gVnOQAczT2VwUWLY6tdBsHcGSjYYveI11eeRiSd5zIPAAAAUM0ogAEAAICJjRUL+QPs/q0XTae0KtpYOVa2X9L/uowD4Aj3qnwM9PLm6AKOga4f2weLwWOgT3MWBAAAAKhyFMAAAADAxAIFcM+AwxyYS60XLwvM7jPGsPMbqCLGmAGVfzDDGOm2tUl2AdeJnQNe8IexVjgLAgAAAFQ5CmAAAABgYmOlQmEfBXC9aDo9WAB/b8LnALjkHwN96ZL4KpdBMHf2DpeGAtOVzoIAAAAAVY4CGAAAAJjYWAGc2TPoMAfmSiQRUXLZksAKBTBQne6VVJKkFc3RRYsaTdJxHsyBXYNe8HMxO4ABAACACVAAAwAAABM7yR9ltrMDuB50XLZEJlr5OulJY0z3pM8DcMIY0yPpwdGxdPvaNMdA14Ft/cXgDmAKYAAAAGACFMAAAADAUVhrOyS1jE5KJeX3Z9wmwpxoOofjn4Ha4R8DffHiGAVwHdjSVxqyY7eyL7XWNjiMAwAAAFQtCmAAAADg6AL3//b2O8yBudS0hgIYqB3/JclK0uq2hoVNMUMZGHKelfrzXmUXsJG01GUeAAAAoFpRAAMAAABHN1YAF3s5/rkeJJak1dDaWp71S3rUZRwAkysfA/2kJEWMIpctjXc5joQ50Je1HAMNAAAAHAMFMAAAAHB0YwVwvocCuB50XrEqMPuBMabkLAuAqfpJZXDewoaFLoNgbhzKeoOBKQUwAAAAcBQUwAAAAMDRBQrggxTA9aDpdI5/BmqPXwCf1hFf4DII5sb+EY8dwAAAAMAxUAADAAAARzdWAOf2Dk7yHMIgkogotTJ4l+S9zrIAmI71lcHK1uiC6Oi9sAix/cPsAAYAAACOhQIYAAAAOLqxAjizgx3AYdf28kUy0crXRxuNMd1O8wCYEmPMbknbJCkeVfy8xYl2x5Ewy3YPsQMYAAAAOBYKYAAAAOAw1tqopOX+QnYrBXDYNZ0WPDqW45+B2uIfA/3yRdwDHHbb+4sUwAAAAMAxUAADAAAAR1ogKSpJKg2PyPOs2ziYdfFFHYHZTyZ8DkA18j9mT++kAA67rb3jCuBV1lqO/QYAAAAOQwEMAAAAHKnLH5UyWYc5MFcSXcFjY593lgPA8fAL4JPaKIDDbqBgiyMFW/nc3CCJv3MAAADgMBTAAAAAwJHm+SMvk3GYA3MiYhRraytPPEmbXKYBMG0bJQ1IUmvCNK1ujTY6zoNZ1pvlHmAAAABgMhTAAAAAwJHm+6PiEDuAw67ptHbJVI4Qfd4Y4znNA2Bayh+zj1bmly+LsyM05A5lvcHAlAIYAAAAOAwFMAAAAHCksQK4NMwO4LBLrw4e//yssxwAToR/DPQp7Q2dLoNg9h3MsAMYAAAAmAwFMAAAAHCkQAHMDuDQSy2nAAZq39OVwcJ0pMVlEMy+AyOWHcAAAADAJCiAAQAAgCMFjoAepAAOu/jCjsCMAhioTVsrg3npKAVwyO0dKrEDGAAAAJgEBTAAAABwpHn+qNBHARx2iS52AAO178XKoCNpKIBD7uCIF/zcPG/CBwEAAIA6RQEMAAAAHGlsB3ChjzuAwyySiKihpVIWeZJecBkHwPExxmQkHZCkZIOJL2qMJh1HwizKFL1iYJp2FgQAAACoUhTAAAAAwJECR0D3sgM4zBpP7ZCMKc+2GGPyTvMAOBH+MdBrOxrYBRxiwwVRAAMAAACToAAGAAAAjjRWAOd7KIDDLL2a45+B8PAL4FWtEQrgEBsusAMYAAAAmAwFMAAAABBgrTWSOssTqXCAI6DDLLmUAhgID78AXtoSpQAOsaH8uB3AKWdBAAAAgCpFAQwAAACM1ylp9Ehgm8/KWrdpMLsSCzsCs+ec5QAwE/wCeFEjBXCYDefZAQwAAABMhgIYAAAAGG+ePyoNc/xz2DW0NAZmLzjLAWAm+AXw/DQFcJgNFGywAI5baxuchQEAAACqEAUwAAAAMF6rP/IKBYc5MBci8Vhg1ucsB4CZ4BfA81KGAjjkih7HQAMAAAAToQAGAAAAxov7I1sqOcyBuWDi8cBswFkOADNhd2XQGDMcCxxyhfEFMH/fAAAAQAAFMAAAADBeYmxIARx643cAUwADNcwY40nKV+atiQjHAodYwbPsAAYAAAAmQAEMAAAAjBfYAVykAA61iJGJRssTzxgz4jQOgJkwVBk0xU1ssgdR2wpFG/wczQ5gAAAAIIACGAAAABgvWAB7DnNgtsXaA7u91e8sB4CZNFgZtMZEARxieY6ABgAAACZEAQwAAACMN1YKeh47gMMs1sLxz0D4jO0ATjZwBHSI5ccfAU0BDAAAAARQAAMAAADjje0AFkdAh1qkKfB3TQEMhIS/A7gpatkBHGKFkrgDGAAAAJgABTAAAAAwXmAHMEdAh1rDuB3AgxM+B6CW+DuAG7kDONTynscOYAAAAGACFMAAAADAeOwArhcNaXYAA+EztgM4HuEI6BDLFbkDGAAAAJgIBTAAAAAwXnAHMAVwmEVS3AEMhI+/Azgdi7ADOMTyJe4ABgAAACZCAQwAAACMN7Yr1HIEdKhF2AEMhJC/AzjFHcChlucOYAAAAGBCFMAAAADAeIEdwAV2AIdZLM0OYCB8/B3AKY6ADrUsO4ABAACACVEAAwAAAOMFdoWWKIDDLJJkBzAQPiOVQSIiCuAQy43fARyf8EEAAACgDlEAAwAAAOMFdwBzBHSYjf/bNY5SAJhZ/s5+K+syB2ZZgzHBf2/z+RoAAAAIoAAGAAAAxqMxqBfeSD4wa3WWA8BM8nf9ep6hFAyxSMQGv6dVnPBBAAAAoA5RAAMAAADjZf1RJB51mAOzrTSuAG5xlgPATPKPAi544hj/EIsaQwEMAAAATIACGAAAABgv448iMQrgMPOGc4EZO4CBcEhVBrmSpQAOsagZtwO44CwIAAAAUIUogAEAAIDxxnYAK9Yw8WOoecUhjoAGwidZGeSK7AoNs2hk3B3A/F0DAAAAARTAAAAAwHhjBXC0gR3AYUYBDIRRujIYLnjsCg2xqBE7gAEAAIAJUAADAAAA440VwIY7gEPNG6AABsJnYWVwIONlJnsQte2wApgdwAAAAEAABTAAAAAwXuAI6AaOgA6zPAUwEEJ+Abx3iAI4zGJRE/whreyEDwIAAAB1iAIYAAAAGG/sm8gRjoAOtfzBYGFAAQyEg18A7xosjbgMgtmVbIgEf0hr2FkQAAAAoApRAAMAAADjBY6ApgAON8/KlkrlSdJay9dHQA2z1jZIapEkK3l9Oe4ADrN4RLHAdMhZEAAAAKAK8Q0OAAAAYLxgAcwR0GFn88FjoDuc5QAwE5ZVBr1Zj0Iw5OLRcQUwO4ABAACAAApgAAAAYLxAARxjB3DYlXLcAwyEh3/882BeHP8ccskGE/whLQp/AAAAIIACGAAAABgvUABHKYDDzqMABkLEL4D7c6WMyyCYfTF2AAMAAAATogAGAAAAxhsrDSLsAA698QXwsgmfA1ALFlUG/TnLDuCQS0TYAQwAAABMhAIYAAAAGG/AH0XiCYc5MBeKfcHSYJ2zHABmwoLKoCfjUQCHXDpmUoHpoLMgAAAAQBWiAAYAAADG2+uPIum0wxyYC9ndhwIzCmCgtvk7gA9lOAI6zDqSJh6YFowx2QkfBgAAAOoQBTAAAAAQYIyxknrLEynWwS7gMBt5KVgAn+EsB4CZ4N8B3D0idgCH2KKmhmRgusdZEAAAAKBKUQADAAAARzrgj2LzUpM8h1o3/EKwAF5rreXeZ6B2nVIZbOov9rsMgtnVlY4EC+CDzoIAAAAAVYoCGAAAADjSWAEcn5+c5DnUuvz+jLxcrjxLSDrZZRwAx8dam5J0qiQVPRWfPlCgAA6xztS4+38PTPggAAAAUKcogAEAAIAjBXYAt3EPcNjlD3QHZtwDDNSml1UGu4dKPS6DYPbNS44rgNkBDAAAAByGAhgAAAA40tg3k2Nt7AAOu+w+7gEGat+5lcGOfgrgsGtPRjkCGgAAAJgEBTAAAABwpLEdwA2t3AEcdtmdwQKYHcBAbfJ3AG/uK3VP9iBqX2uCO4ABAACAyVAAAwAAAEcKFMBNFMBhN7KlNzCjAAZqk78DeGN3kQI45Frj4ghoAAAAYBIUwAAAAMCRxgrgKAVw6A1tDJZFp1pro86yAJg2a21M0lmSZCX7+N7coWO8BDWuOcER0AAAAMBkKIABAACAI1EA1xMv56nYP1CeRSWd6jIOgGk7U+XvbxwY9nrzJXmO82CWNcbG7QA+MOGDAAAAQJ2iAAYAAACONLabKJqmAK4H+QPcAwzULv/+310DxR6XQTA32pKRdGDKDmAAAADgMBTAAAAAwJECO4BTFMD1ILeXAhioXf79v1v6Pe7/DblUVNHGmAkWwDuchQEAAACqFAUwAAAAcKQeSVaSFEnEFUnw381hN/jCvsDsUmc5ABwPvwDe2F1gB3DIre2MNQeme4wxJWdhAAAAgCrFN7IAAACAwxhjrKSd/kJyaZO7NJgTfT/ZK1uqlAhXWGsbneYBMCXW2rTKBXDJs976XXnugw251a0NwQL4JWdBAAAAgCpGAQwAAAAc3WZ/lFrR6jAH5oKXLSm7Y3d5FpV0ncs4AKbsGklxSdra7+0ZKNii4zyYZUtbIhTAAAAAwDFQAAMAAABHN1YAJ5ZQANeDwWd3BmY3OssBYDr8j9Un9+V3TvYgwmFRY5QCGAAAADgGCmAAAADg6MYK4OQCCuB60Lc+WB7d7CwHgOnwC+AHduR3uAyCudGVNhTAAAAAwDFQAAMAAABHN1YAxzopgOvByJYBFfv7y7P51trznOYBMClr7dmSFktSb84bfPpAof8YL0EIdCQjLYEpBTAAAABwFBTAAAAAwNGNFcDxzpZJnkOYDG3iGGigdvgfoxsOFLe7DIK505HiDmAAAADgWCiAAQAAgKMbK4CjLS2KRIzDLJgrg7+gAAZqxw2VwfrdBe7/rQOpqKKpBpMoT0vGGIp/AAAA4CgogAEAAICjMMaUJG3zF9JrOAa6HvSu3yNbKpVnF1hr5zvNA+CorLWtki6RpJJnve++lNvtOBLmwJkLEsHPxZS/AAAAwAQogAEAAICJje0CTi6nAK4HXrakzI495ZlRYIchgKpyo0Y/RrW5z9uVLXqe4zyYAye3RtoCU45/BgAAACZAAQwAAABMbKwATiymAK4XQ89yDDRQ/fwfznhyb57jn+vEKe0NHYHpC86CAAAAAFWOAhgAAACYWKAAXkABXC/61u8IzG6w1kadZQFwBGutkXRTZf6tLTl2gtaJ5S2R9sB0g7MgAAAAQJWjAAYAAAAmtskfxTpbHObAXBrZMqBif3951ijpFS7jADjCtZJaJaknY/te6i+OOM6DObK4MRrcAUwBDAAAAEyAAhgAAACY2Iv+KN7BDuB6MrQpeKTsW53lAHA0v10ZPLYnv8VlkP/H3n3HyVnV/f9/n5md2b7ZTe+bXkiDQOi9CkFQBLGBiqKgAvcN6K3SbAj+/IqKXW8L0vRGlE6AQGgJCSH0FBJCQnrPZvvu7Mzn98fObC6WJIRkd86U1/Px4MGcz3UteePDZJl57zkX0icaVqhnSSj4w1iveAsDAAAAZDgKYAAAAGD33pYUkySFy8oUqYr6jYO02fLo4sDqfDPr5S0LgA7J34sfa38t/fWNxsUf8CXIEdP6R3o6ySWXq5xz7PwGAAAAdoMCGAAAANgN51xC0oKOQfnk3v7SIK3qF21X8/qNyVWBpC/7jAOgw1eV/Cxj2fb46lV1cUrAPDGuZwHHPwMAAAB7iQIYAAAA2LOdBXDpqD4ecyDdtj+7KLD6mpm53d4LoNslfw9+NbV+5J3mJR7jIM1GVUWqAksKYAAAAGAPKIABAACAPXup41XhUArgfLLxgeVKtDQnV0Mlne4zDgCdovbfi2pqU/M/Fzet9JwHaTSkPMwOYAAAAGAvUQADAAAAe7ZzB3DRAArgvBJPqHZBcIfhpd6iAJCkr6RePL+mdUlcMp9hkF79yxwFMAAAALCXKIABAACAPVsoKSZJKqgoV6Qq6jcO0mrDfYtkHR3TdDMb6jMOkK/MrJeks1Prv73ZsGgPtyPHVERcQUU0VJpcJtT+vRkAAADAblAAAwAAAHvgnEsoeAx02ZS+/tIg7ZpX1at55arkykm6xGccII9dLKlAklbUxNct2x6v95wHaXTM0KLg997Fye/NAAAAAHaDAhgAAAD4YDuPgS4b3dtjDviw9angTsOvmFmBtyxAHjIzp8AR7DNWNC/Zw+3IQVP6hPsFlgt2eyMAAAAASRTAAAAAwN7Y+WFz8VCeA5xvts5cpXhdardhL0nn+YwD5KFTJQ2VpIg8omEAACAASURBVOY2a/nrm01ve86DNBvbMxLcAfyCtyAAAABAlqAABgAAAD7YziOgo/0ogPONmbR9bnAX8KW7vRdAd7g+9WLOutalPoPAj+qKUHAH8BxvQQAAAIAsQQEMAAAAfLBFkholSQUVZYpURf3GQdptvG+JZKlnTh5jZhO85gHyhJmdJulISYonLPHblxtf8xwJaTahd6SiJOKKkstmSW/6zAMAAABkAwpgAAAA4AM45xKSdpYOFQf12/3dyEmxrc2qW/xOYHKNtyxAfvlJ6sWcdbHFq+rijT7DIP0OHVDwnt2/ye/JAAAAAPaAAhgAAADYOzufA1wymmOg89HWxxYGVp82s6nesgB5wMymS5oite/+/eVLDa94jgQPJvaKBAtgnv8LAAAA7AUKYAAAAGDv7HwOcMlwdgDno5p5G9W8el1g8itvWYD8cGPqxXNrWhex+zc/jepZ0DewpAAGAAAA9gIFMAAAALB3Zne8KhoyUArz39L5aM3f5gRWRyZ3KALoYmZ2lpK7f9sSFv/5S/Uve44ED0ojoXD/0lCvwOhZb2EAAACALMKHVgAAAMBecM69LWlD+yIcVuWhfff8FchJ9Qu3qX7RssDkFjPjfRXQ9X6QevHM6tjC9Q3W7DMM/DhmcKSvk1xyucw5V+c1EAAAAJAl+KACAAAA2HuPdrwqnzLIYw74tObPL8ri8eRqjKSLfMYBco2ZnaPA7t9bF9S96jkSPDmwbwHP/wUAAAD2AQUwAAAAsPee6nhVOooCOF81r21Qzdw3ApMbzazIWx4g93Q8+3fWqtgb7P7NXxN6FwwILCmAAQAAgL1EAQwAAADsvZkdr4oG9VWoKOwxC3xac9urSrS0JFd9JV3tMw6QK8zsy5LGSVJr3NpumV/P7t88FQnJjaqKDAyMnvYWBgAAAMgyFMAAAADAXnLObZC0OLkKqfKoAXv8AuSueG2rtjz+UmDybTPr6S0PkAPMrJekn6bWT65qfWNrc6LVYyR4dEp14YCwU+oHrTY755Z4DQQAAABkEQpgAAAA4MN5suNVxSSOgc5nG+5epFjNjuSqVNIPfcYBcsAvJFVKUkPMmm55kd2/+eyIQdHBgeWD3oIAAAAAWYgCGAAAAPhwdhbAxcMpgPNZImHaeP+8wOSrZjbMWx4gi5nZ8ZI+l1r/6bXG53e0WsxjJHg2qU8k+D32cW9BAAAAgCxEAQwAAAB8ODMlJSRJhX17KdKz0G8ceLXl0ZVqXr8xuQpL+pnPOEA2MrNCSX9Jrd/eHl9z1+KmFR4jwbNeRaHogNJQn+TSJM3wmQcAAADINhTAAAAAwIfgnKuXtCC1UuVhA70Ggn/r/j47sDrHzD7qLQuQnb4rabgkxRKKXftc7TOe88CzM0YWDnauY7nAObdjD7cDAAAA6IQCGAAAAPjwdh4DXT6RAjjf1b6yRfWL3w5MbjOzPru9H0AHMxur9gJYknTv0ub57+yIN3iMhAwwrX8k+Pxfjn8GAAAAPiQKYAAAAODDe6rjVfEIngMMafXv5ijR0pJcVUm6w2ccIIv8VVKBJK1vSGz5xUv1b3rOgwxwQO+CIYHlE96CAAAAAFmKAhgAAAD48J6T1CZJilRVqqi63G8ceNeyqVnr7nw6MDnVzL7hLQ+QBczs85KOkKSEyX44p25WwjyHgneT+0Z6VERDpcllg9q/5wIAAAD4ECiAAQAAgA/JOdcsaWbHoPdJI/ylQcbY8vi7qntlUWDy0+TxtgA6MbNKST9LrWe92/LGSxti2z1GQoY4YXA0ePzz0865uLcwAAAAQJaiAAYAAAD2zb0dr8omDfeYA5lkxS9fUFtNTXJVJOkeM4v6jARkqDsk9ZKk2lZruHFu/Uue8yBDTBsQHRpY8vxfAAAAYB9QAAMAAAD75j+S2nclFQ3oq8KBJX7jICMkmuNa+euZsngiOZkk6UafkYBMY2bfkjRdkkyyH8+pm1kfszbPsZABKgtDkVFV4eAO4Pu8hQEAAACyGAUwAAAAsA+cc1slPdsx6MUx0Eiqf3Obtjz5YmBylZkd5y0PkEHM7HBJN6XW/1naNP+p1a0bPUZCBvn4mMJhISeXXL7qnFvlNRAAAACQpSiAAQAAgH238xjoiinDPOZApln319fVvGZ9cuUk3W1mFT4jAb6ZWV9J9yv5WcSy7fE1N89reNVvKmSSYwdFg49U+Le3IAAAAECWowAGAAAA9t2/JZkkqXDQQEV6FfmNg4xhJq245UklWlqSkwGS/tdnJMAnMwurvfztK7U/9/e/ntox028qZJKyiCsY16sg+Pzfe3d7MwAAAIA9ogAGAAAA9pFzbr2kF5ILqc/J7ALGTi3rGrXuzqcDk/PM7EJveQC/bpZ0uCSZlPje7PrHNjcmWj1nQgY5a1TR0HDIpT6nWuacW+Q1EAAAAJDFKIABAACA/bNzh1L5gTwHGO+15fF3Vffq4sDkD2Z2qLc8gAdmNl3S1an1P5c0z31+TcsWj5GQgY4b8p7jn+/xFgQAAADIARTAAAAAwP7Z+YzComGDFK6IesyCTLTiF3PUVlOTXBVJeszMxvqMBKSLmY2U9I/UevHW+Lu3zK9/02MkZKCiglBoUp9IdWDE8c8AAADAfqAABgAAAPaDc26lpAWphfqcXL3nr0DeSTTH9c5PZyjRkjrutlLSU2Y20GcsoLuZWaGkhySVSVJNS6L+8pk1T/lNhUx05sjCwQUhFSSXq5xzL3sNBAAAAGQ5CmAAAABg/+3cqVRx8PA93Id81bi8VitvfUQWjycnA9VeAlf6jAV0FzMLS/qXpHGSlDAlrn2+YcaOVov5TYZMdPyQSPARCv/yFgQAAADIERTAAAAAwP67u+NV8bChChcX7OFe5KvaBZu05s+Py8ySk7FqPw66yGcsoJvcLulMSTLJfrWg4ckX17Vs85wJGSgaVujAvu8pgDn+GQAAANhPFMAAAADAfkoeA/1G+yIcUq9Th/lNhIy19anV2njvs4HJoZL+6SsO0B3M7BeSPp1a//m1pmfuXNy0wmMkZLDzxxUPj4Zd6gen1kl6wWceAAAAIBdQAAMAAABdY+cu4J5HjfGYA5luw7/e0tanFwQmZ5nZn73lAbqQmX1H0hWp9QPLmuf/8fWGpR4jIcOdOiwa/J75F+ec7fZmAAAAAHuFAhgAAADoGrdJav/QunDIYBUOKvEbBxlt9e8XqO71JYHJRWb2I295gC5gZl+Q9OPUeva62KIfza1/xWMkZLiBZeGiMT0jgwOjv3gLAwAAAOQQCmAAAACgCzjn1kl6LLmQ+n50vN9EyHjLb35OTStXBybXmNnXveUB9oOZfUJSx072VzbF3r7qqR3Pe4yELPDZCcVjnOSSyznOOY4KBwAAALoABTAAAADQdf7a8arH1DFybg+3AgnTsu89rpaNmwLDX5nZed4iAfvAzI6X9A8lP2NYtj2+5htP7JiV4CBffIATBkfHBZa3eQsCAAAA5BgKYAAAAKDr/EdSjSSpoKJcVccO9BsHGS/RHNfb33tEbTU7khMn6f/M7NM+YwF7y8wOkfSQpAJJWlWX2PjVx2oejyVE/Ys9OnJApHfvklBlctks6S6feQAAAIBcQgEMAAAAdBHnXEzBHUxVx471lwZZw1yB2po6PzP6LjP7hpc8wF5K7vydJalUkjbUx7d9dUbNo/Uxa/ObDNngY2OKxgSW9znn6r2FAQAAAHIMBTAAAADQtf7W8aps3AiFK6IesyDTRXuXasz3P6WiAZFdXP2Vmf0g7ZmAvWBmn1J7+VsmSdtbrPbSmbUPb21OtPpNhmxx+MDo6MCS458BAACALkQBDAAAAHQh59yrkl5rX4TD6jd9pN9EyFjR3qUa/f3zFe1TkBptbkxs39ac2BG46zoz+6OHdMBumdllku5OrdfXJ7Z+8ZGa+9bWxZs8xkIW+eTYomFFBa4wudzonJvhNRAAAACQYyiAAQAAgK73l45XPQ7jGGi8X6r8jfTqKH/X1sU3T7932z1ffGT7/esbElsCd19sZvea2a52CQNpZWY/kXRrar2iJr7+goe237+uPt7sMRayzOnDC4PHP9/uLQgAAACQoyiAAQAAgK73d0kxSVJh/74qG1fpNw4yym7K34/ft/0/krS+wZovfLjmgXdrExsCX3WOpMfMrDTdcQFJMrOwmd0h6Vup2eubYu9c8Mj2h2t55i8+hCHl4eID+kSGBkZ/9hYGAAAAyFEUwAAAAEAXc87VSLq/Y9DrI+P8pUFG+YDyN2VHS6Ltwoe2Pbx4a2xVYHyCpOfMrFe64gKSZGZFkmZI+mxq9vya1kVffmzHzNa4Ev6SIRtdPLl0gtv5edQc59wSr4EAAACAHEQBDAAAAHSPncdAV0wZI4WcxyzIBIX9yzuXvytq4us6l78pTXHFL3pkx2Pz18eWBsYHSZprZkO6Oy4gSWbWU9Jzkk5uX0v3Lm2ed+Ws2uf9JkM2Kg4rfNzQyITA6Nbd3gwAAABgn1EAAwAAAN3jMUnrJEnh4iL1nT7Cbxx4Vdi/XKNu+GSw/F28Lf7u+Q9uf2hPXxaX7Oszdzz96IqWVwLjUZIWmNlx3RUXkCQzO0jSK5IOkaSEyX71SsPMn8yrf81vMmSrz00oHllc4AqTy42S7vWZBwAAAMhVFMAAAABAN3DOJST9oWPQ+9QD/aWBVx3lb1U4NVq8Lf7u5x/e/tje/iNueL5u/p2LmmabdYz6SHrKzL5vZryvQ5czs8skzZU0VJJiCbX96IW6R+5Y2PSO32TIZmeOLJ4UWN7qnOP50QAAAEA34IMCAAAAoPv8WlKLJCnap5d6HN7fbxykXReUvym/XNCw8CfzGh5tiVtrchSSdL3ai2D+v4UuYWblZna/2o/mjUpSU5u1XD1rx/0PLW9Z6zcdstnJ1dH+A8pCqWeYt0j6vc88AAAAQC6jAAYAAAC6iXNum6S/dwz6njFp93cj53Rh+Zvy72VNqy96tOZf6xsSWwLj4yS9zpHQ2F9mNknSa5LOSs3W1sW3XPRozb0vrItt9ZcMueD8ccUTA8s7k98jAQAAAHQDCmAAAACge/2841Xp6GEqGlzqMQvSpXhQj64uf1OWbY/Xn/9AzX3PrWldGBinjoS+niOhsS/M7KuSXpQ0vH0tPflu62ufvH/7fctr4vV+0yHbDSkPF0/uGxkeGP0/b2EAAACAPMAHAwAAAEA3cs4tljQjtVL/86d4DYTuVzyoh0Zcd16w/H19c+ydrih/U5rbEomrZtXO/sVLDTNb45Z6hmZI0vfVXgT36apfC7nNzErN7B61H8dbJElNbdZ84wt1j3zn2dp5MVPCb0LkgounlEx0kksun0l+bwQAAADQTSiAAQAAgO53S8erHgeNU0F5xGMWdKeO8rey473W65tj73x5xo6Z3fHL3bW46Z1LHq+9d3NjoiYw5kho7BUzGy/pFUnnpmbv1sY3fO6hmnseWN6yxl8y5JLisMLHDYkeEBjd6i0MAAAAkCcogAEAAIBu5px7QlL7bidXUKAB5433mwjdonhwZefy983N8RXdVf52/BpbYjs+/cD2f7+yKfZ2YNxf0tNm9gczq+zOXx/Zycy+J2mRpNGp2UPLWxacd//2B1bXxZv8JUOuuWhK6ZjiAleYXK50zv3bayAAAAAgD1AAAwAAAOmx83mHlUdNkkJuD/ci2xQP6qER157baefviotmbH8iHb98bczavvrYjqf+9mbTs50ufUXSW2Z2QTpyIPOZ2almtlzSDalZY8yarn227sEfzKlb4DEactRZowoPDCzZ/QsAAACkAR86AQAAAGlgZoWS3pXUT5K07q4ntemB5V5DoWsUD63SiO9+Il3HPn+Qib0jPa4/suy4YT3C/TtdmiPpIufcWz5ywS8z66/28u284HzZ9viaq2fVPrW+Id7sJxly2RcnFY++9MDSE5LLGkkDnXPsMAcAAAC6GTuAAQAAgDRwzrVI+m3HoPcpB+7+bmSN4qFVGnnde8rf+Rtbl/kqf6X2I6E/+cD2B/7wWtOspjYLlnpHSnrDzG4ysyJf+ZBeZhYys/+WtFSB8rcxZk1/eq3h6c8+tP0Ryl90h5CTzh9XPDUw+jnlLwAAAJAe7AAGAAAA0sTMekpaJ6n9WYgrf/mAal7Y4DUU9l2q/C0of0/5+/XHa2f5jBXUtyRUeO2R5Ycd1j8yzr333d8qSZc55x7wkwzpYGaHSvqTpMmpWcJks9e0Lrpxbt38bc3W6i8dct1nxhcP/69DSk9JLuslDXHO1fjMBAAAAOQLdgADAAAAaeKc2ybp7x2DPmdM3v3dyGhZUP5K0qbGRMvlM3c8e+3zdQ9sbkwEi5ehku43sxlmNsRXPnQPM6s0sz9KmqtA+ftubXzj5U/V3XvV07WzKX/R3T4zvviQwPLXlL8AAABA+rADGAAAAEgjMxsvaVFqpbe/f4/ql/CheDbJkvK3s2hYoaunlU0+c2TR1IKQCgKXWiT9r6SbnXNrPMVDFzCzHpL+W9IVkipT88aYNd21qHneH19vWOotHPLKx0YXDvnu4eWnJ5dNkoY657b4zAQAAADkEwpgAAAAIM3M7N+SPi5Jaly2Qkuve8JvIuy1kpF9NOLbZ2db+Rt0QM9wxTVHVhw9uio8uNOlmKS/SfqRc26Vh2jYR2ZWKekqSZdLqkjNEyabvbZ10Y0vcNwz0uues6vOrq4I90sub3XOXeE1EAAAAJBnKIABAACANDOzAyS9qdR/j799472qf2Or11D4YO3l78dUUN7xPmrO2tYl//VU7bM+Y+2rj44sHHzhxJKp1RXh/p0utUm6Q9IPnHMrPETDXko+V/ybkr4uqTx4bW19YtNN8xqefXFdyzYv4ZC3Tq0uHPCjY8s/mly2qX3373qfmQAAAIB8QwEMAAAAeGBmd0n6tCSpacUqvfWdGX4TYY9yrPwN+sjwwoGfn1gydWRleGCnS3FJ/1R7EfyWh2jYDTPrI+lbki6VVBq8tr4hseUfi5tevntx00ov4ZD37jyz6ozACQP/65y72GsgAAAAIA9RAAMAAAAemNkoSW9Jaj9K+J2f3qfaBZu8hsKu7aL8nbeu9a3Lnqx9xmesrnZydbT/RZNKDx5VFR60i8v3SvqJc25+unNhJzPrL+kaSd/ofG19Q2LL7QsbF/zrreZ3058MaHdSdWG/m44tPzswGuWcW+4tEAAAAJCnKIABAAAAT8zsL5K+KElqXrteS6560G8ivE/JyD4a+Z2zFS7reObv3HWtSy5/Mvt3/u7OMUMK+3xpUtHUA3pFqndx+Q1Jf5F0h3NuS5qj5S0zO07ShZIu6nxtfX1i6+2Lmub/660mntsM7zo9+/dO59znvAYCAAAA8hQFMAAAAOCJmQ2VtFxSgSRp1e8e0rZn1nkNhZ1KxvbTiKvPysVjn/fGkQMivb9yUNnU8T3Dw9z73znGJD0k6a+SHnHOxdOdL9eZWbXaf0DkQknDO19fVRvfdNei5gX/Xta0Ou3hgF04d2xR9bcOLTstuYyrffcvR5EDAAAAHlAAAwAAAB6Z2e8kXSJJatm4SYuvuM9vIkiSSsf114hvflTh0o73TM+viy288skds33G8uHgfpGqL08qPnBKv+jwglDyhxXea7Ok2yX92Tm3KM3xcoqZlUn6rKTPSTp6V/esrYtvuXNx80vs+EWmefgTPc/rUxKqSi7/4Jy7xGsgAAAAII9RAAMAAAAemdkASSslRSVJq/93hrbOpNjxqWRsP4381lnB8veZNa1vfnNW7RyfsXzrEXWRTx9QMuKk6ujY6opw/93cNl/tu4Lvds7VpDFe1jKzkKRTJH1e0sckFXe+p6lNzS+tb13+n2VNS59fG9uc7ozAB7l4cvGYi6eUHp9cNkuqds7xXHsAAADAEwpgAAAAwDMz+7mk/5IkxbZu1cKv3+s3UR6j/N0rE3pHKs4fVzT2yEGRMRXRUOkubolJekHSTElPSJrPMdHvZWZjJH1J7bt9B3a+njAllmyLr3psRfPSe5c2rWqNK5H2kMBeiIYVeuTcXp+uiLrUnwU/ds5d4zUUAAAAkOcogAEAAADPzKy3pFVK7fxbe9sT2vzoCq+h8hHl74cWltz0kYWDpo8sGjupT8GwgpAL7+bWHZKeUnsZPNM5tyx9KTODmQ2XdKyk45J/jdjVfevqE1ueWd2y9O5FTcs2NCZa0pkR2BdXTyud/MlxxYcnl9skDXfO1frMBAAAAOQ7CmAAAAAgA5jZzZL+R5IU216jhV+/R0qY31R5pGzCQA2/cjrl777rVRSKfuaA4lEnDo2OHVQe7vMBt7+r9jI4VQhv6/6E6WVmo9Ve9KZK36G7u7c+Zo3z1ra+ffdbzYtf3xTbka6MwP7qURgqeOCcqs8WF7jC5OhK59zPvYYCAAAAQAEMAAAAZAIzq5S0WlKZJGnDf57Vhn8u8RoqX5RNGKgRV09XqLjj/dETK1tfvea52hd9xspmI3oUlJ48LDJ4ar/ooLE9CwaVRtz7nmsbYGrfAf+mpIWBvxY555rSELdLmNl4vbfwfd+xzilxU3zljvjGNzbH1jy3NrZ2zuqWLfH2/x2ArPL9o8unnT688KDkcq3ad//GfGYCAAAAQAEMAAAAZAwz+x9JN0uSEi0tWvSNu9RWxwfp3YnyNy2m9Y/0PG5I4aDJfSODRlaGB0RCiuzFl5mkFWovg4Pl8GLnnJejkc2sn6TRkkbt4u/lu/86aWNjYuvCLW1r566PrXlyZfOG+pi1pSU00E0GlYeL7zmr8jOBo98vdM7d7jUUAAAAAEkUwAAAAEDGMLOIpEVqL5OkHS+9qRX/jyOIu0vphEEacfUZCu8sf59c2fL6d56rm+szVj44ZVhh/yMHRgdP7FMwqLoi3G8f/hFvS1opqUbtzxeuSf5VG5htT653SKpxzm2XOnbbl0gqTf69RO3P3y7rNCuVVKH2348jJI1PzvdKfcwaF21pWz1/Q+uax1c0r13fYM378O8JZKyfnVBx1DGDoxOSy9edc1O8BgIAAADQgQIYAAAAyCBmdoqkx1MLLf/Bv1S/eLvfVDmInb8Zozis8OS+kcoDehVUDa8sqBpaUVDVv9T1rCoKlbsses/aGlfr2zXxda9sbF379Krmta9tjtf4zgR0lyl9wpV/OK3qvJDr+D063Tn3iNdQAAAAADpkzZtpAAAAIF+Y2YOSzpQkNa9dryVXPeg3UY6pOGiIhl3+EcrfzFYaCYWn9A5Xje1dUDWysqBqSHlBVf+yUFVl1FU4T+9kYwm1bWtK1G5qjNduarQdq2vjte/WJXYs3dZau7wmXp/gKb7IE/ecXXV2YPf+LOfciV4DAQAAAHgPCmAAAAAgw5jZKLUfBd3+nNR1dz2pTQ8s9xoqV1QcNETDrviIQkUd74VmrGh55frn6+b7jIW9VxZxBQf2LajqX1JQXF6oaFk0FC2LuGhxQaigLKqikoiLFkcULS4IRYrDrrA44qJFYReNhhWV2nfqxhLW1ppQWyxubbGE2prb2v8eiyfamtvU1hK3tpa42praLLapMVH/zva22mU18R0rdrQ1+v73B3y7aGLpqEsOKg4WviOdc+94CwQAAADgfSiAAQAAgAxkZjdJ+rYkKd7YqEXf+IfijW1+U2W5XZS/Dy9vXfD9ObULfMYCgGxRWRiK3H9O1aeLC1xRcnSjc+5ar6EAAAAAvE/IdwAAAAAAu/RDSeslSeGSEg3+0lS/cbIc5S8A7Lfrjig7NFD+rlb79yoAAAAAGYYCGAAAAMhAzrlGSVd3DCqPmKyS0RX+EmUxyl8A2G/T+kd6Hj04OiEwutw51+ItEAAAAIDdogAGAAAAMpRz7i5J89oXoZCGXny030RZqMch1ZS/ALD/rjmi/Di380Fis5xz93mMAwAAAGAPKIABAACAzHaJJJMkFQ0drN6nDvUbJ4v0OKRa1ZedRvkLAPvnkgNLxw0sC/VJLlskfdlnHgAAAAB7RgEMAAAAZDDn3KuS/tAxGPCpYxQuj/hLlCU6yt/CjtG/lza9SPkLAB9On5JQ9DPjiw4PjP4/59w73gIBAAAA+EAUwAAAAEDm+66k7ZKkcEmphn3tML9xMtxuyt+b5zW86jEVAGSl7x9VfmRRgYsml6sl3egzDwAAAIAPRgEMAAAAZDjn3HZJV3YMyg86QJVH9PeXKINR/gJAlzlndPGQQ/pHxgRG33DOtXgLBAAAAGCvUAADAAAAWcA59zdJD3cMBn/xRI6C7qTHESMpfwGga/QsctHLDy45PjC6zzn3gLdAAAAAAPYaBTAAAACQPS6StEOSVFBRxlHQAT2OGKnqS0+i/AWArvHDoyuOLIm44uRym6Qv+cwDAAAAYO9RAAMAAABZwjm3SdIVHQOOgm7XUf5GO0b/WNL0AuUvAOyb6SOLB04b8J6jn7/mnNvmLRAAAACAD4UCGAAAAMgizrnbxFHQO+2m/L1lfsMbHlMBQNbqWeSi/31I8YmB0X3OuX96CwQAAADgQ6MABgAAALLPe4+Crr40P4+CpvwFgC73g6PLj6yIhkqSS45+BgAAALIQBTAAAACQZZJHQV/eMaiYmn9HQVcdM4byFwC61vSRxQMPHRDl6GcAAAAgy1EAAwAAAFnIOfd35etR0FXHjNGQrxxP+QsAXYejnwEAAIDcQQEMAAAAZK/8Owq6o/zd2XXftrDpOcpfANg/3z+q/AiOfgYAAAByAwUwAAAAkKWSR0Ff1jGomHqAep081F+ibrab8vc3Lzcs9pgKALLex0YXDjlsYHRsYMTRzwAAAEAWowAGAAAAsphz7nYFj4IedMGJKhpc6i9RN6H8BYBuMaJHuPTKQ8pOCowe5ehnAAAAILtRAAMAAADZ7wuSNkiSQoVRDf/mKVI4d/5bn/IXALpFxCn0sxMqTi0qcKmHqm+UdIHPTAAAAAD2X+58KAQAAADkKefcFknnSUpIMdjDpwAAG8hJREFUkgr79VX11w7xGqqr9DphPOUvAHSP7x1dccig8nCf5DIh6RPOua0+MwEAAADYfxTAAAAAQA5wzj0v6YaOQeWRB6rq2EH+EnWBXieM1+AvHRMsf//0WtPTlL8AsP/OGF448OTq6IGB0fecc7O9BQIAAADQZZzvAAAAAAC6hpk5SU9Ian+WY6K5WUu+/S+1bmj0GmxfpMpfV9Ax+tNrTU//6fWGpR5TAUBOGFIeLr7jzKrzigtUlBzNlnSMc8585gIAAADQNdgBDAAAAOSI5Af3n1LH84CLijTiWydLoez6wU/KXwDoNiEn3XJij1MC5e9WtR/9TPkLAAAA5AgKYAAAACCHvO95wEUD+6v60ux5HjDlLwB0q+8cXjq1uiLUP7k0Sec55zb6zAQAAACga1EAAwAAADkm+Tzg73UMKo8+KCueB9z71EnB8tdE+QsAXenk6mj/s0YVHxwY3eycm+UtEAAAAIBukV1HwQEAAADYK1n3PODep07SoM8fIReW1F7+/vrlhidvX9i03G8wAMgN1eXhktumV55bEnGpo5/nSzrcOZfwmQsAAABA12MHMAAAAJCDsup5wJS/ANCtisMK33pyj9MD5W+NpI9T/gIAAAC5iQIYAAAAyFG7fB7wsCsO8xqqM8pfAOh2vzq5xwkDykK9ksuEpHOcc2t9ZgIAAADQfSiAAQAAgBz2/ucBHzZZ/T4+2l+iAMpfAOh2V08rnTy5b2REYPRNnvsLAAAA5DYKYAAAACD3/UjSAx2r/ucdpx6H9/cXR1KfMw58T/lrRvkLAF3sjOGFA88bVxw8+eEe59wt3gIBAAAASAsKYAAAACDHBZ4H/Gr7IBRS9aWnqWR4uZdAfc44UAM/d2iw/L3lpcbHKH8BoOuM7xkp/+4R5ac6KfXs91clXeAzEwAAAID0oAAGAAAA8oBzrknSGZI2S5JChYUa/j9nKFwRTWuQjvK3/a1Iqvz955Kmd9OaAwByWI+oi9xyQvkZ0bBSf8ZvlnSGc67FZy4AAAAA6UEBDAAAAOQJ59x6SdMltRcAkcoeGn3dqQqF3B6/sKtQ/gJAtws56Ten9DilV0moR3LUIml68nsAAAAAgDxAAQwAAADkEefcfAWPAC0aMlDD/+eYbv+FKX8BIC1uOKp82pieBYMDowuSf/YDAAAAyBMUwAAAAECecc7dI+mGjkH5lHEadOHEbvsF+519cLD8lWSUvwDQ9b44qXj06cMLDwqMfp78Mx8AAABAHqEABgAAAPKQc+4HknaWAn1OP0I9Txq8+6/YR/3OPlgDzj84WP7++IW6GZS/ANC1po8sHvjVKaXHB0azJF3tKw8AAAAAfyiAAQAAgPx1gaTksaDOacgXTlHZ+Kou+6enyl+9t/y97+2W1V32awAAdOSASO/vHFbykZBT6pnub0o62zmX8JkLAAAAgB8UwAAAAECecs61SJouqb2QdZGIhl91uiI9C/f7H075CwBpMaF3pOKm43ucEQ27guRonaSTnXN1PnMBAAAA8IcCGAAAAMhjzrnNkj4iqV6SFC4r06gbzlC4pGCPX7gnlL8AkBYDSl3RL06sOLO4QEXJUY2kE51zG33mAgAAAOAXBTAAAACQ55xziySdK6n9qNDCfn00+gcfUajww79f6PeJQ4Plr1H+AkC36FEYKvj9aVVn9Ch0ZclRs6TTnHNv+cwFAAAAwD8KYAAAAAByzj0m6Usdg6LBAzXq+lMVCrndf1Un/T5xqAace2Cw/L3hudqHKX8BoGtFnEK/O6XiIwNKQ72To4SkjzvnXvSZCwAAAEBmoAAGAAAAIElyzv1N0nUdg5KRQzXiuhPk9qID7ih/2+9Nlb8zVrau66a4AJC3fndqjxNHVRUMDIy+4pyb4S0QAAAAgIxCAQwAAACgg3PuR5J+3zEoGz9KI7519B6/iPIXANLmxmPKD5vcNzIiMPqBc+7P3gIBAAAAyDgUwAAAAAA6+5qkuztW5QcdoOrLpu3yTspfAEibKw8pnXTKsMIpgdEdzrkbvAUCAAAAkJH2/nleAAAAAPKGmYUl3SfpzI7h5kfmaO3f3+xYD/jUkep39sTU24qEyb73POUvAHSHKw8pnfSp8cVHBEYzJJ3pnIv7ygQAAAAgM1EAAwAAANglM4tKmiXpyI7hhn89rQ3/Wtpe/n5sYmqcMNk1z9U98OS7LRs9RAWAnHbZ1NIDLphQHDyO/3lJpzjnmn1lAgAAAJC5KIABAAAA7JaZlUt6WtLUjmHda2tVPmVQapkw2XXP1z34xMqWDR4iAkBO20X5O0/Sic65Rl+ZAAAAAGQ2CmAAAAAAe2RmfSTNkTSq87WEya59ru7Bme9S/gJAV/v61NLxn59QfExgNE/Syc65el+ZAAAAAGS+kO8AAAAAADKbc26zpJMkrQ3OKX8BoPtcMqV4XKfyd4Gk0yh/AQAAAHwQCmAAAAAAH8g5t0rSiZJads5kg8pDpf5SAUBuumhi6agvTio9NjB6Q9JJzrkdvjIBAAAAyB4UwAAAAAD2inNuqaSDJW2RJCeFvnZg6UlfmlQ8xm8yAMgdF00sHfXVg4pPcDsf2rVE0vGUvwAAAAD2Fs8ABgAAAPChmNlYSc9I6te+lm5b2PTsb19pWOI3GQBkt4snF4/58pTS49zOz2velnRk8ih+AAAAANgrFMAAAAAAPjQzGyHpKUnVqdmdi5pm/3JBw0J/qQAge3338LIDPza66NDAaKWkI5xzPGcdAAAAwIdCAQwAAABgn5jZYEmzJI1Kze5b1vzij+fWv+ovFQBkn5uPrTj8xOro5MBoqaQTnXNrfWUCAAAAkL0ogAEAAADsMzPrp/bjoMemZjPeaX35+tm1L/lLBQDZISy5357a48SD+kVGBsZvSDrBObfVVy4AAAAA2Y0CGAAAAMB+MbPekp6WNCE1e25168Krnq6d7S8VAGS24rDCvz+txynje0WGBsazJZ3unKvzlQsAAABA9qMABgAAALDfzKxK0mOSpqVmCza2vn3Fk7VPt8aV8JcMADJPZWEo8qePVJ5eXRHqHxg/JOlc51yLr1wAAAAAcgMFMAAAAIAuYWZlai+Bj0zNVtTE13/18R0zaloSMX/JACBzDCoPF//+lB7T+5WGegbGt0m6yDnHD8wAAAAA2G8UwAAAAAC6jJkVSfq3pNNTs00Nie2XP1n7yDs72hr8JQMA/0ZWhst+d2rlRysLXXlg/FPn3Le8hQIAAACQcyiAAQAAAHQpMwtJ+rWkS1Ozhpg1fvPp2odf2hDb7i8ZAPhzYN9I5S0nVpxZFnElgfFlzrlfewsFAAAAICdRAAMAAADoFmZ2laSfKvm+ozVusZvn1T/+0PKWtX6TAUB6nTmycNC3Dys/JRpWNDlKqP3I59t85gIAAACQmyiAAQAAAHQbMztP0u2SCiUpYbK/vdn07O9fbXjLbzIASI+rp5VNOnds0eEh1/EZTIukc51zD/nMBQAAACB3UQADAAAA6FZmdoSkRyX1SM1mvNP68vWza1/ylwoAulfEKXTrKRXHH9wvOiow3irpdOfcfF+5AAAAAOQ+CmAAAAAA3c7Mxkp6TFJ1avbG5tiKK56snVUfszZ/yQCg6w0odUW3nlx5WnVFuF9g/KakM5xzq33lAgAAAJAfKIABAAAApIWZ9ZH0uKQDU7NNDYntV86qe3Tp9li9v2QA0HUO7hfp+ZPjKz5SEXVlgfEjks5zzjX6ygUAAAAgf1AAAwAAAEgbMyuWdIekc1Kz5jZr/cmLjY8/vLxpnb9kALD/zhldOPSqQ8tPjoRUEBjfJOka55z5ygUAAAAgv1AAAwAAAEg7M/u2pBslhSTJJLt/WfP8H8+tf9VvMgDYN9ceXnbQR0cVTXM7P2lplfQ559w9/lIBAAAAyEcUwAAAAAC8MLPTJP2fpIrU7I3NsRVXzqqbtaMlwXOBAWSF0kgo/MsTy0+Y3DcyIjDeJOlM59x8X7kAAAAA5C8KYAAAAADemNlISQ9LGpuabW2ymqufrp2xcEus1l8yAPhgE3pHKn5ybPlpfUtDVYHxm5JOc85xrD0AAAAALyiAAQAAAHhlZqWS/iHpzNSsNa7Wn85vmHn/sqY1/pIBwO5dMKF4xCUHlh7f6Xm/90v6jHOu0VcuAAAAAKAABgAAAJARzOwGSTco+T7FJHtsRcurP5xdtyBmSvhNBwDtSiOh8E3Hlh11+MDouMC4TdJ1zrmbfeUCAAAAgBQKYAAAAAAZw8zOVPtu4NLUbG1dfMu3n6194q1t8Tp/yQBAmtInXHnzcZWn9ip2lYHxeknnOOfm+soFAAAAAEEUwAAAAAAySvK5wPdKmpKaxRKK/f7VhmduX9j0jr9kAPLZxZOLx3x+YsnR0bALHvn8uKRPOee2+8oFAAAAAJ1RAAMAAADIOGYWkfRTSVcE53PXx5Zc+0ztnNqYtflJBiDflEZC4V+cWH7ClL6REYFxm6RrnXM/8ZULAAAAAHaHAhgAAABAxjKzU9V+JHRVaratOVF7w/N1T8xbH9vqLxmAfLCHI58/6pxb4CsXAAAAAOwJBTAAAACAjGZmAyT9n6SjU7O4Kf6PJU3zfvlSw5v+kgHIVWHJXXlY2aSPjyqcVhBy4cAljnwGAAAAkPEogAEAAABkPDMLSbpG0g2SOsqYFTXxdd99rvbp5TXxem/hAOSUCb0jFT88uuzEweXhvoFxm6TvOud+6isXAAAAAOwtCmAAAAAAWcPMDpf0b0kDUrPWuMXuWtQ897evNiz2lwxAtgtL7r+nlU46Z0zxIQUhFQQurZb0cY58BgAAAJAtKIABAAAAZBUzq5J0u6TpwTm7gQHsq7E9w+U3HVtxUqddv5L0N0mXO+fqfOQCAAAAgH1BAQwAAAAgK5nZFyT9XFJlahZLKHb3osZ5v36lcZG/ZACyRchJ/3VI2cRPjCk6NPLeXb/rJH3eOTfTVzYAAAAA2FcUwAAAAACylpn1k/RXSacH5ytq4uuun137zFvb4uzaA7BLY3uGy390TI8TqitC/TtdYtcvAAAAgKxGAQwAAAAg65nZZyTdKqlXatYat7b/e6t57q9fbliUMH/ZAGSWkJMum1o64byxRYdFw45dvwAAAAByDgUwAAAAgJxgZn0k/a+ks4LztfWJTTfNa3j2xXUt2/wkA5ApDh1Y2PM7h5UeO6gsxLN+AQAAAOQsCmAAAAAAOcXMzpX0G0kdBU/CZLPXtC66cW7d/G3N1uovHQAf+pSEot8+rGzaUYOiB4Tcez4LYdcvAAAAgJxDAQwAAAAg55hZT0m/kvSZ4LwxZk13Lmqc9+c3mpZyLDSQ+0JO+sqU0rGfGld0WEnEFXW6zK5fAAAAADmJAhgAAABAzjKzEyX9UdLI4JxjoYHct4fjnpdJ+qJzbraPXAAAAADQ3SiAAQAAAOQ0M4tKukrSNZJKU3OOhQZyU5+SUPQ7h5UdetTg6Hj33s896iR9X9IvnXNtnuIBAAAAQLejAAYAAACQF8xsoKRfSjo3OOdYaCA3JI97Hvfp8UWHFhe877jnOyRd5Zzb5CMbAAAAAKQTBTAAAACAvJI8Fvq3ksYG5+vrE1t/92rDnBkrWtb7SQZgX31sdOGQL04qnTagNNS706WFkr7knJvnIxcAAAAA+EABDAAAACDvmFmBpCslXSepLHht6ba2NT9/qWHugo0xng8MZLijB0X6XDa17PDhleEBnS7VqP3392+dcwkP0QAAAADAGwpgAAAAAHkreSz0LZLOf+9cenlT69u/eKlh/lvb4nV+0gHYncl9Iz2umFpy2KQ+kWGdLpmkv0r6pnOOH+IAAAAAkJcogAEAAADkPTM7TNLPJB0VnMcTlnhuTeuin79U//L6Bmv2kw5AyvAeBSVXHlIybdqA6JiQe99nGo9K+h/n3Bs+sgEAAABApqAABgAAAIAkMztD0s2SJgXnrXGLPbqi+bVfv9z0+o6WRJufdED+6lsSKvzvg0sPOm5odEJByIU7XX5J0mXOubk+sgEAAABApqEABgAAAIAAM3OSPivph5Lec7xsY8yaH1/Z8vpvX2lcWNOSiHkJCOSRsogruPzg0kmnjyicUhh20U6X35B0jXPuQR/ZAAAAACBTUQADAAAAwC6YWVTSJZKuldQneK0lbq1PrWpd+LuXG17f0Jho8RIQyGG9ikLRSw4qnnhKddHEkogr6nR5haTrJd3pnDMP8QAAAAAgo1EAAwAAAMAemFm5pCslXS2pLHgtllDb7LWti3+zoOG1d+vijV4CAjlkaHm45NKDSicfOyQ6PhJSpNPljZJ+JOkPzjl24AMAAADAblAAAwAAAMBeMLMqSZdLukxSr+C1eMISL66PLf39q02vLN4Wq/MSEMhiB/QMV1wytezAaf0KxoRDLtTp8g5JP5X0c+ccP2gBAAAAAB+AAhgAAAAAPgQzK5Z0saSrJA0NXkuY7NVNseV/eq3xlQUbY9u9BASyyJEDIr2/NKXkoIl9IsPc+z+j2CjpVkm/ds7VeogHAAAAAFmJAhgAAAAA9pGZfU7SdZLGdL62eGts1X+WNS+8b1nL6vQnAzLbuWOLh35iTNHkkZXhgbu4vErSj51zf0h3LgAAAADIBRTAAAAAALCfzOxMSd+SdEzna9uaEzseeafljb+/2bSspiXBc0uRt8oiruDCiSWjzhhROLFvSajnLm55VdJNzrn/S3c2AAAAAMglFMAAAAAA0EXM7BBJ10s6U53eb8USis1d17r07282LHxtc7zGS0DAgwN6hiu+MKlk4hGDomMKwy66i1tmSfqJc+6xdGcDAAAAgFxEAQwAAAAAXczMRkv6hqQvSKrofP3t7fG19y1rfvPet5pWxSVLe0Cgm4Ul94mxxUPPHl00YVRleLB7/6cPCUn3SfqRc+6VtAcEAAAAgBxGAQwAAAAA3cTMSiV9Xu1l8PjO12taEvUzV7Qs/PvCpiUbGhMtaQ8IdLH+JaHCL0wqHn9iddH4ykJXvotbNkn6i6TfOud4PjYAAAAAdAMKYAAAAABIAzM7Se1F8EclhYPX4qb4ws2xd2esbF16/9KmNTFTwktIYB8dMTDS67MHFE+a2i8ysiDkwru4ZZakP0i61znXluZ4AAAAAJBXKIABAAAAII3MbKikr0n6iqSqztcbY9Y8d33rsoeWty57fk3LlrQHBPbSgNJw0acPKB51zODoqEFlob67uGWHpD9L+qNz7q00xwMAAACAvEUBDAAAAAAemFmhpM+ofVfw1F3ds6khsf25ta1L717UtGxVXbwxrQGBXegRdZFPjisaftyQwlGjqgoGhdwuP1eYo/bdvv9wzrWmOSIAAAAA5D0KYAAAAADwzMwOknSB2gvhfu+7Ltny7fG1T7zbvOyeJc0r6mPGEbpIm6KCUOjjowuHnlwdHTW+V0H1bo54rpV0h6TfOOcWpTkiAAAAACCAAhgAAAAAMoSZhSWdIulCSR+TVNz5nlhCbUu2xtbMWde24sG3m1Ztaky0pDsncl9YcqePLBx42rDCUVP6RoYXFbjoLm6LSXpM0l2S7nPONaU3JQAAAABgVyiAAQAAACADmVmZpHPVXgYfr128fzMpsXx7fP289a0rH3y7ZeU7O9oa0p0TuaMi4gqmjyoafNSgaPXE3gXVJRFXtIvbTNLzai99/+mc257elAAAAACAD0IBDAAAAAAZzswGqr0IvlDS+N3dt64+sfnF9a0rH1vRsnLBxhjFHD7QkPJw8Vmj///27u23iSOA4vCZ3fWu49jBcW7gAEEtDaWoFaXipj4gFZD6UKnq/1iJ99I3hBC0UlVxKbQIUBHX4OAYYhzi+L47fVgjqEQSQhIHkt8njVayZkZnH+0jzyT3HN3hT+zNOuOLHO8sSTcUl75njDFTPYwIAAAAAFghCmAAAAAA+IhYaw8oPh76J0nfLDav0rTzd2bbhcvF9pNzD5qFIkdFo+t4PjF0ak8wcWg0sSefdofN4r8MPJB0RtLPxpjbPQsIAAAAAFgVCmAAAAAA+EhZa3dK+lFxGXxCkvf2edJ0NXx+azZ88sd0s3D+YbNYDxX2Mis2zv5cInNilzd+cMzPT+a8fDphUotMtZKuSjor6awx5q/epQQAAAAArBUKYAAAAADYBKy12yT9oLgM/l5S/2JzO5E6D+fC4vWZVuG3QuvJn0/bs5HtVVKst90ZN3VqIpn/eswd3zeUyGcDk1liek3SecWl7y/GmJnepAQAAAAArBcKYAAAAADYZKy1vqRvJZ2SdFrxUdHOYvMbHdt8/DIq/fuiU/r7Wat0aao1U27YVo/iYpW2p5zg5ESQPzSWGN8/5OWHU052mSXTkn5VXPqeM8ZwPDgAAAAAbCIUwAAAAACwyVlrs5JOKi6DT0v6ZOn5UrlhK/crndLt2Xbp6kx75kqxXW5H4n/CGyydMN6xvD/81Yg3MpnzRiYy7kiuz9m2xD2+klSWdFHSBUkXjDE3e5EVAAAAALAxKIABAAAAYIux1u5WfEz0aUnfScott6YdqVOohs/uljulm887MxenWsXpathY76xbWdJznCNj7vDB7f7w5KA7umebNzzc5ww6Ztnv8nOSLqlb+Eq6YYyhvAcAAACALYICGAAAAAC2MGutkfS5pGOSjnbHl5Lc5dbW2rZRqkcvpufDyuOXYeXeXPTi1vNW5V4lrHKn8LsbSjr+wbHE4GeDXnZiwM3m0252tM9kcyknY5Y4uvsNVUm/63Xhe80YE65raAAAAADAB4sCGAAAAADwP9baPklHJB1WfJfwYUnj77q+E6nzrBbNFWvhi8J8NFda6CwUqlH16UK08KASLsw2oi13v/C2wPH2Zt2BiQGvfzLnDOUz3sCOfjc7mnKyfZ6SK9zucndck3TFGHNj7RMDAAAAAD5WFMAAAAAAgGVZa0clHVdcCB9R/E/hlRaXkqR2pPZcI1qoNG213Ahr5bqqM/Vw4el8VC3Vo/rTaqdxrxJW1zD+ujswnBjYlXHS42knvT3tpEdTbn8uadKDgZvOJp1+35X/nltfV7foVVz2Xl671AAAAACAzYgCGAAAAADwXqy1n0ra3x1fSNon6YCkgbXYvxWqVW1HjZdNW5tvRY35lq3PNW293Ijq5UZUf1aLGrVW1KmFas+3os58S+1qM+q8bNvOUvtmAyfR51nXdxzH9+T4ruMkXbm+Kydh5PqecZKecQd8J8gGTjAQKMj4TpDxTZBKmCDlmaA/4QSphAn6PAW+axKrfNWapH8k3ZV0R9JNSfeMMTdXuS8AAAAAYAuiAAYAAAAArClrbV6vi+GJ7hiXtFPS7g2MtpGKkh53x31JjxSXvXeMMdMbGQwAAAAAsLlQAAMAAAAAespau11xGTz+lueYpFFJIxsWcOVKigveacUF71T3+UjSlDHm/gZmAwAAAABsMRTAAAAAAIAPUvfe4ZHueFUMv/psVFJOUlZS5o2xknuJa5Jai4x291nT64J3pvssSHouqWiMKa7mHQEAAAAAWGv/AS4btyykZIomAAAAAElFTkSuQmCC)"
            ],
            "metadata": {
                "language": "sql",
                "azdata_cell_guid": "92cea05a-7656-4469-913a-eb49f69eaa2a"
            },
            "attachments": {}
        },
        {
            "cell_type": "code",
            "source": [
                "SELECT stilus, COUNT(ID) as 'DVD-k'\r\n",
                "From dvd\r\n",
                "GROUP BY GROUPING SETS(rollup(stilus))"
            ],
            "metadata": {
                "language": "sql",
                "azdata_cell_guid": "96b3e455-85b7-452e-a07d-3165420fa4ed"
            },
            "outputs": [
                {
                    "output_type": "display_data",
                    "data": {
                        "text/html": "(49 rows affected)"
                    },
                    "metadata": {}
                },
                {
                    "output_type": "display_data",
                    "data": {
                        "text/html": "Total execution time: 00:00:00.011"
                    },
                    "metadata": {}
                },
                {
                    "output_type": "execute_result",
                    "metadata": {},
                    "execution_count": 34,
                    "data": {
                        "application/vnd.dataresource+json": {
                            "schema": {
                                "fields": [
                                    {
                                        "name": "stilus"
                                    },
                                    {
                                        "name": "DVD-k"
                                    }
                                ]
                            },
                            "data": [
                                {
                                    "stilus": "NULL",
                                    "DVD-k": "1"
                                },
                                {
                                    "stilus": "állattan",
                                    "DVD-k": "3"
                                },
                                {
                                    "stilus": "ásványtan",
                                    "DVD-k": "1"
                                },
                                {
                                    "stilus": "betűtípusok",
                                    "DVD-k": "1"
                                },
                                {
                                    "stilus": "biológia",
                                    "DVD-k": "5"
                                },
                                {
                                    "stilus": "csillagászat",
                                    "DVD-k": "7"
                                },
                                {
                                    "stilus": "felvételi",
                                    "DVD-k": "6"
                                },
                                {
                                    "stilus": "festészet",
                                    "DVD-k": "2"
                                },
                                {
                                    "stilus": "filmtörténet",
                                    "DVD-k": "2"
                                },
                                {
                                    "stilus": "fizika",
                                    "DVD-k": "3"
                                },
                                {
                                    "stilus": "fordító program",
                                    "DVD-k": "1"
                                },
                                {
                                    "stilus": "földrajz",
                                    "DVD-k": "16"
                                },
                                {
                                    "stilus": "gasztronómia",
                                    "DVD-k": "4"
                                },
                                {
                                    "stilus": "gépírás",
                                    "DVD-k": "1"
                                },
                                {
                                    "stilus": "hadtudomány",
                                    "DVD-k": "1"
                                },
                                {
                                    "stilus": "humor",
                                    "DVD-k": "1"
                                },
                                {
                                    "stilus": "irodalom",
                                    "DVD-k": "16"
                                },
                                {
                                    "stilus": "irodalom, nyelv",
                                    "DVD-k": "1"
                                },
                                {
                                    "stilus": "ismeretterjesztő",
                                    "DVD-k": "46"
                                },
                                {
                                    "stilus": "ismeretterjesztő + játék",
                                    "DVD-k": "1"
                                },
                                {
                                    "stilus": "játék",
                                    "DVD-k": "60"
                                },
                                {
                                    "stilus": "játék - autós",
                                    "DVD-k": "1"
                                },
                                {
                                    "stilus": "játék (autóverseny)",
                                    "DVD-k": "4"
                                },
                                {
                                    "stilus": "játék (jégkorong)",
                                    "DVD-k": "1"
                                },
                                {
                                    "stilus": "játék (labdarúgás)",
                                    "DVD-k": "3"
                                },
                                {
                                    "stilus": "játék (repülős)",
                                    "DVD-k": "1"
                                },
                                {
                                    "stilus": "játék (rodeó)",
                                    "DVD-k": "1"
                                },
                                {
                                    "stilus": "játék (történelmi)",
                                    "DVD-k": "1"
                                },
                                {
                                    "stilus": "játék, sakk",
                                    "DVD-k": "1"
                                },
                                {
                                    "stilus": "kémia",
                                    "DVD-k": "1"
                                },
                                {
                                    "stilus": "kerttervező",
                                    "DVD-k": "1"
                                },
                                {
                                    "stilus": "környezetvédelem",
                                    "DVD-k": "1"
                                },
                                {
                                    "stilus": "kresz",
                                    "DVD-k": "1"
                                },
                                {
                                    "stilus": "lakástervező",
                                    "DVD-k": "1"
                                },
                                {
                                    "stilus": "matematika",
                                    "DVD-k": "9"
                                },
                                {
                                    "stilus": "matematika, nyelvtan",
                                    "DVD-k": "1"
                                },
                                {
                                    "stilus": "múvészet",
                                    "DVD-k": "1"
                                },
                                {
                                    "stilus": "művészet",
                                    "DVD-k": "4"
                                },
                                {
                                    "stilus": "növénytan",
                                    "DVD-k": "1"
                                },
                                {
                                    "stilus": "nyelvtan",
                                    "DVD-k": "3"
                                },
                                {
                                    "stilus": "nyelvtanító",
                                    "DVD-k": "42"
                                },
                                {
                                    "stilus": "régészet",
                                    "DVD-k": "1"
                                },
                                {
                                    "stilus": "sport",
                                    "DVD-k": "1"
                                },
                                {
                                    "stilus": "számítástechnika",
                                    "DVD-k": "3"
                                },
                                {
                                    "stilus": "színház",
                                    "DVD-k": "1"
                                },
                                {
                                    "stilus": "szótár",
                                    "DVD-k": "7"
                                },
                                {
                                    "stilus": "történelem",
                                    "DVD-k": "41"
                                },
                                {
                                    "stilus": "zene",
                                    "DVD-k": "6"
                                },
                                {
                                    "stilus": "NULL",
                                    "DVD-k": "318"
                                }
                            ]
                        },
                        "text/html": [
                            "<table>",
                            "<tr><th>stilus</th><th>DVD-k</th></tr>",
                            "<tr><td>NULL</td><td>1</td></tr>",
                            "<tr><td>állattan</td><td>3</td></tr>",
                            "<tr><td>ásványtan</td><td>1</td></tr>",
                            "<tr><td>betűtípusok</td><td>1</td></tr>",
                            "<tr><td>biológia</td><td>5</td></tr>",
                            "<tr><td>csillagászat</td><td>7</td></tr>",
                            "<tr><td>felvételi</td><td>6</td></tr>",
                            "<tr><td>festészet</td><td>2</td></tr>",
                            "<tr><td>filmtörténet</td><td>2</td></tr>",
                            "<tr><td>fizika</td><td>3</td></tr>",
                            "<tr><td>fordító program</td><td>1</td></tr>",
                            "<tr><td>földrajz</td><td>16</td></tr>",
                            "<tr><td>gasztronómia</td><td>4</td></tr>",
                            "<tr><td>gépírás</td><td>1</td></tr>",
                            "<tr><td>hadtudomány</td><td>1</td></tr>",
                            "<tr><td>humor</td><td>1</td></tr>",
                            "<tr><td>irodalom</td><td>16</td></tr>",
                            "<tr><td>irodalom, nyelv</td><td>1</td></tr>",
                            "<tr><td>ismeretterjesztő</td><td>46</td></tr>",
                            "<tr><td>ismeretterjesztő + játék</td><td>1</td></tr>",
                            "<tr><td>játék</td><td>60</td></tr>",
                            "<tr><td>játék - autós</td><td>1</td></tr>",
                            "<tr><td>játék (autóverseny)</td><td>4</td></tr>",
                            "<tr><td>játék (jégkorong)</td><td>1</td></tr>",
                            "<tr><td>játék (labdarúgás)</td><td>3</td></tr>",
                            "<tr><td>játék (repülős)</td><td>1</td></tr>",
                            "<tr><td>játék (rodeó)</td><td>1</td></tr>",
                            "<tr><td>játék (történelmi)</td><td>1</td></tr>",
                            "<tr><td>játék, sakk</td><td>1</td></tr>",
                            "<tr><td>kémia</td><td>1</td></tr>",
                            "<tr><td>kerttervező</td><td>1</td></tr>",
                            "<tr><td>környezetvédelem</td><td>1</td></tr>",
                            "<tr><td>kresz</td><td>1</td></tr>",
                            "<tr><td>lakástervező</td><td>1</td></tr>",
                            "<tr><td>matematika</td><td>9</td></tr>",
                            "<tr><td>matematika, nyelvtan</td><td>1</td></tr>",
                            "<tr><td>múvészet</td><td>1</td></tr>",
                            "<tr><td>művészet</td><td>4</td></tr>",
                            "<tr><td>növénytan</td><td>1</td></tr>",
                            "<tr><td>nyelvtan</td><td>3</td></tr>",
                            "<tr><td>nyelvtanító</td><td>42</td></tr>",
                            "<tr><td>régészet</td><td>1</td></tr>",
                            "<tr><td>sport</td><td>1</td></tr>",
                            "<tr><td>számítástechnika</td><td>3</td></tr>",
                            "<tr><td>színház</td><td>1</td></tr>",
                            "<tr><td>szótár</td><td>7</td></tr>",
                            "<tr><td>történelem</td><td>41</td></tr>",
                            "<tr><td>zene</td><td>6</td></tr>",
                            "<tr><td>NULL</td><td>318</td></tr>",
                            "</table>"
                        ]
                    }
                }
            ],
            "execution_count": 34
        },
        {
            "cell_type": "code",
            "source": [
                "SELECT cim, stilus, COUNT(lang) as 'Hány nyelv'\r\n",
                "from dvd \r\n",
                "WHERE stilus like '%játék%'\r\n",
                "group by cim, stilus"
            ],
            "metadata": {
                "language": "sql",
                "azdata_cell_guid": "cedb6b27-f32a-415b-8ede-ccd4cd216e57"
            },
            "outputs": [
                {
                    "output_type": "display_data",
                    "data": {
                        "text/html": "Warning: Null value is eliminated by an aggregate or other SET operation."
                    },
                    "metadata": {}
                },
                {
                    "output_type": "display_data",
                    "data": {
                        "text/html": "(74 rows affected)"
                    },
                    "metadata": {}
                },
                {
                    "output_type": "display_data",
                    "data": {
                        "text/html": "Total execution time: 00:00:00.018"
                    },
                    "metadata": {}
                },
                {
                    "output_type": "execute_result",
                    "metadata": {},
                    "execution_count": 39,
                    "data": {
                        "application/vnd.dataresource+json": {
                            "schema": {
                                "fields": [
                                    {
                                        "name": "cim"
                                    },
                                    {
                                        "name": "stilus"
                                    },
                                    {
                                        "name": "Hány nyelv"
                                    }
                                ]
                            },
                            "data": [
                                {
                                    "cim": "Kártyaváros",
                                    "stilus": "ismeretterjesztő + játék",
                                    "Hány nyelv": "1"
                                },
                                {
                                    "cim": "3D virtuális origami (2000)",
                                    "stilus": "játék",
                                    "Hány nyelv": "1"
                                },
                                {
                                    "cim": "Age of Empires (2000)",
                                    "stilus": "játék",
                                    "Hány nyelv": "1"
                                },
                                {
                                    "cim": "Art Attack (1998)",
                                    "stilus": "játék",
                                    "Hány nyelv": "1"
                                },
                                {
                                    "cim": "Blinky Bill : A fantasztikus léggömbkaland",
                                    "stilus": "játék",
                                    "Hány nyelv": "1"
                                },
                                {
                                    "cim": "Broken Sword II. (cop. 1997)",
                                    "stilus": "játék",
                                    "Hány nyelv": "1"
                                },
                                {
                                    "cim": "Buggy",
                                    "stilus": "játék",
                                    "Hány nyelv": "1"
                                },
                                {
                                    "cim": "Caesar III.",
                                    "stilus": "játék",
                                    "Hány nyelv": "1"
                                },
                                {
                                    "cim": "Capitalism II. (2001)",
                                    "stilus": "játék",
                                    "Hány nyelv": "1"
                                },
                                {
                                    "cim": "Capitalism Plus",
                                    "stilus": "játék",
                                    "Hány nyelv": "1"
                                },
                                {
                                    "cim": "Csizmás kandúr (1998)",
                                    "stilus": "játék",
                                    "Hány nyelv": "1"
                                },
                                {
                                    "cim": "Dementia 1-5. (1997)",
                                    "stilus": "játék",
                                    "Hány nyelv": "1"
                                },
                                {
                                    "cim": "Diablo",
                                    "stilus": "játék",
                                    "Hány nyelv": "0"
                                },
                                {
                                    "cim": "Diablo II. (2000)",
                                    "stilus": "játék",
                                    "Hány nyelv": "1"
                                },
                                {
                                    "cim": "Dreams to Reality 1-2. (1997)",
                                    "stilus": "játék",
                                    "Hány nyelv": "1"
                                },
                                {
                                    "cim": "Duke Nukem 3D",
                                    "stilus": "játék",
                                    "Hány nyelv": "1"
                                },
                                {
                                    "cim": "Dungeon Keeper 2. (1999)",
                                    "stilus": "játék",
                                    "Hány nyelv": "1"
                                },
                                {
                                    "cim": "E-Games : Collector's Edition (2001)",
                                    "stilus": "játék",
                                    "Hány nyelv": "1"
                                },
                                {
                                    "cim": "Enemy Engaged RAH-66",
                                    "stilus": "játék",
                                    "Hány nyelv": "1"
                                },
                                {
                                    "cim": "Fighting Force (1998)",
                                    "stilus": "játék",
                                    "Hány nyelv": "1"
                                },
                                {
                                    "cim": "Final Liberation (1997)",
                                    "stilus": "játék",
                                    "Hány nyelv": "1"
                                },
                                {
                                    "cim": "Funschool in Dreamland (1995)",
                                    "stilus": "játék",
                                    "Hány nyelv": "1"
                                },
                                {
                                    "cim": "Half-Life (1996)",
                                    "stilus": "játék",
                                    "Hány nyelv": "1"
                                },
                                {
                                    "cim": "Half-Life Generation: Blue Shift (2002)",
                                    "stilus": "játék",
                                    "Hány nyelv": "1"
                                },
                                {
                                    "cim": "Half-Life Generation: Counter Strike (2002)",
                                    "stilus": "játék",
                                    "Hány nyelv": "1"
                                },
                                {
                                    "cim": "Half-Life Generation: Game of the Year Edition (2002)",
                                    "stilus": "játék",
                                    "Hány nyelv": "1"
                                },
                                {
                                    "cim": "Harry Potter és a bölcsek köve (2001)",
                                    "stilus": "játék",
                                    "Hány nyelv": "1"
                                },
                                {
                                    "cim": "Hupikék törpikék: teletransportörp (1999)",
                                    "stilus": "játék",
                                    "Hány nyelv": "1"
                                },
                                {
                                    "cim": "Játszóház (1998)",
                                    "stilus": "játék",
                                    "Hány nyelv": "1"
                                },
                                {
                                    "cim": "KvízIQ : A hét világcsoda (2001)",
                                    "stilus": "játék",
                                    "Hány nyelv": "1"
                                },
                                {
                                    "cim": "Lands of Lore II. 1-4. (1997)",
                                    "stilus": "játék",
                                    "Hány nyelv": "1"
                                },
                                {
                                    "cim": "M1 Tank (1998)",
                                    "stilus": "játék",
                                    "Hány nyelv": "1"
                                },
                                {
                                    "cim": "Mackó úr (2002)",
                                    "stilus": "játék",
                                    "Hány nyelv": "1"
                                },
                                {
                                    "cim": "Mahjongg Master (1998)",
                                    "stilus": "játék",
                                    "Hány nyelv": "1"
                                },
                                {
                                    "cim": "Manó Puzzle (2002)",
                                    "stilus": "játék",
                                    "Hány nyelv": "1"
                                },
                                {
                                    "cim": "Mig-29 (1998)",
                                    "stilus": "játék",
                                    "Hány nyelv": "1"
                                },
                                {
                                    "cim": "Monopoly Junior",
                                    "stilus": "játék",
                                    "Hány nyelv": "1"
                                },
                                {
                                    "cim": "Moving Puzzle Action Flight (2000)",
                                    "stilus": "játék",
                                    "Hány nyelv": "1"
                                },
                                {
                                    "cim": "Paddle Bash (2001)",
                                    "stilus": "játék",
                                    "Hány nyelv": "1"
                                },
                                {
                                    "cim": "Panzer General III: Scorched Earth (2000)",
                                    "stilus": "játék",
                                    "Hány nyelv": "1"
                                },
                                {
                                    "cim": "People's General (1998)",
                                    "stilus": "játék",
                                    "Hány nyelv": "1"
                                },
                                {
                                    "cim": "Plane Crazy",
                                    "stilus": "játék",
                                    "Hány nyelv": "1"
                                },
                                {
                                    "cim": "Quake III. (2001)",
                                    "stilus": "játék",
                                    "Hány nyelv": "1"
                                },
                                {
                                    "cim": "Star Wars : Rogue Squadron 3D",
                                    "stilus": "játék",
                                    "Hány nyelv": "1"
                                },
                                {
                                    "cim": "Star Wars: Battle for Naboo",
                                    "stilus": "játék",
                                    "Hány nyelv": "1"
                                },
                                {
                                    "cim": "Star Wars: Force Commander (2001)",
                                    "stilus": "játék",
                                    "Hány nyelv": "1"
                                },
                                {
                                    "cim": "Supreme Snowboarding",
                                    "stilus": "játék",
                                    "Hány nyelv": "1"
                                },
                                {
                                    "cim": "Szabadítsd ki a kisoroszlánt!",
                                    "stilus": "játék",
                                    "Hány nyelv": "1"
                                },
                                {
                                    "cim": "Tarzan",
                                    "stilus": "játék",
                                    "Hány nyelv": "1"
                                },
                                {
                                    "cim": "The Settlers III. 1-2. (1998)",
                                    "stilus": "játék",
                                    "Hány nyelv": "1"
                                },
                                {
                                    "cim": "The Settlers IV. (2001)",
                                    "stilus": "játék",
                                    "Hány nyelv": "1"
                                },
                                {
                                    "cim": "The Sims",
                                    "stilus": "játék",
                                    "Hány nyelv": "1"
                                },
                                {
                                    "cim": "Timeshock!",
                                    "stilus": "játék",
                                    "Hány nyelv": "1"
                                },
                                {
                                    "cim": "Tomi megmenti a tengert (2000)",
                                    "stilus": "játék",
                                    "Hány nyelv": "1"
                                },
                                {
                                    "cim": "Touché - The Adventures of the Fifth",
                                    "stilus": "játék",
                                    "Hány nyelv": "1"
                                },
                                {
                                    "cim": "Toy Story 2.",
                                    "stilus": "játék",
                                    "Hány nyelv": "1"
                                },
                                {
                                    "cim": "Traffic Giant",
                                    "stilus": "játék",
                                    "Hány nyelv": "0"
                                },
                                {
                                    "cim": "Train Simulator (2002)",
                                    "stilus": "játék",
                                    "Hány nyelv": "1"
                                },
                                {
                                    "cim": "Trickstyle",
                                    "stilus": "játék",
                                    "Hány nyelv": "1"
                                },
                                {
                                    "cim": "Varázslatos szülinap",
                                    "stilus": "játék",
                                    "Hány nyelv": "1"
                                },
                                {
                                    "cim": "Warcraft III. (2002)",
                                    "stilus": "játék",
                                    "Hány nyelv": "1"
                                },
                                {
                                    "cim": "Re-Volt (1999)",
                                    "stilus": "játék - autós",
                                    "Hány nyelv": "1"
                                },
                                {
                                    "cim": "GTA 2",
                                    "stilus": "játék (autóverseny)",
                                    "Hány nyelv": "1"
                                },
                                {
                                    "cim": "International Rally Championship",
                                    "stilus": "játék (autóverseny)",
                                    "Hány nyelv": "1"
                                },
                                {
                                    "cim": "Rally Championship",
                                    "stilus": "játék (autóverseny)",
                                    "Hány nyelv": "1"
                                },
                                {
                                    "cim": "Sonic Racer",
                                    "stilus": "játék (autóverseny)",
                                    "Hány nyelv": "1"
                                },
                                {
                                    "cim": "NHL 2001",
                                    "stilus": "játék (jégkorong)",
                                    "Hány nyelv": "1"
                                },
                                {
                                    "cim": "FIFA, 2000 (1999)",
                                    "stilus": "játék (labdarúgás)",
                                    "Hány nyelv": "1"
                                },
                                {
                                    "cim": "The F.A. Premier League Stars 2001",
                                    "stilus": "játék (labdarúgás)",
                                    "Hány nyelv": "1"
                                },
                                {
                                    "cim": "UEFA Champions Leage Season",
                                    "stilus": "játék (labdarúgás)",
                                    "Hány nyelv": "1"
                                },
                                {
                                    "cim": "Airport Inc.",
                                    "stilus": "játék (repülős)",
                                    "Hány nyelv": "1"
                                },
                                {
                                    "cim": "American Rodeo : BullRider 2000 (2001)",
                                    "stilus": "játék (rodeó)",
                                    "Hány nyelv": "1"
                                },
                                {
                                    "cim": "Castle Explorer",
                                    "stilus": "játék (történelmi)",
                                    "Hány nyelv": "1"
                                },
                                {
                                    "cim": "Lilenthal Andor sakkjátszmái",
                                    "stilus": "játék, sakk",
                                    "Hány nyelv": "1"
                                }
                            ]
                        },
                        "text/html": [
                            "<table>",
                            "<tr><th>cim</th><th>stilus</th><th>Hány nyelv</th></tr>",
                            "<tr><td>Kártyaváros</td><td>ismeretterjesztő + játék</td><td>1</td></tr>",
                            "<tr><td>3D virtuális origami (2000)</td><td>játék</td><td>1</td></tr>",
                            "<tr><td>Age of Empires (2000)</td><td>játék</td><td>1</td></tr>",
                            "<tr><td>Art Attack (1998)</td><td>játék</td><td>1</td></tr>",
                            "<tr><td>Blinky Bill : A fantasztikus léggömbkaland</td><td>játék</td><td>1</td></tr>",
                            "<tr><td>Broken Sword II. (cop. 1997)</td><td>játék</td><td>1</td></tr>",
                            "<tr><td>Buggy</td><td>játék</td><td>1</td></tr>",
                            "<tr><td>Caesar III.</td><td>játék</td><td>1</td></tr>",
                            "<tr><td>Capitalism II. (2001)</td><td>játék</td><td>1</td></tr>",
                            "<tr><td>Capitalism Plus</td><td>játék</td><td>1</td></tr>",
                            "<tr><td>Csizmás kandúr (1998)</td><td>játék</td><td>1</td></tr>",
                            "<tr><td>Dementia 1-5. (1997)</td><td>játék</td><td>1</td></tr>",
                            "<tr><td>Diablo</td><td>játék</td><td>0</td></tr>",
                            "<tr><td>Diablo II. (2000)</td><td>játék</td><td>1</td></tr>",
                            "<tr><td>Dreams to Reality 1-2. (1997)</td><td>játék</td><td>1</td></tr>",
                            "<tr><td>Duke Nukem 3D</td><td>játék</td><td>1</td></tr>",
                            "<tr><td>Dungeon Keeper 2. (1999)</td><td>játék</td><td>1</td></tr>",
                            "<tr><td>E-Games : Collector&#39;s Edition (2001)</td><td>játék</td><td>1</td></tr>",
                            "<tr><td>Enemy Engaged RAH-66</td><td>játék</td><td>1</td></tr>",
                            "<tr><td>Fighting Force (1998)</td><td>játék</td><td>1</td></tr>",
                            "<tr><td>Final Liberation (1997)</td><td>játék</td><td>1</td></tr>",
                            "<tr><td>Funschool in Dreamland (1995)</td><td>játék</td><td>1</td></tr>",
                            "<tr><td>Half-Life (1996)</td><td>játék</td><td>1</td></tr>",
                            "<tr><td>Half-Life Generation: Blue Shift (2002)</td><td>játék</td><td>1</td></tr>",
                            "<tr><td>Half-Life Generation: Counter Strike (2002)</td><td>játék</td><td>1</td></tr>",
                            "<tr><td>Half-Life Generation: Game of the Year Edition (2002)</td><td>játék</td><td>1</td></tr>",
                            "<tr><td>Harry Potter és a bölcsek köve (2001)</td><td>játék</td><td>1</td></tr>",
                            "<tr><td>Hupikék törpikék: teletransportörp (1999)</td><td>játék</td><td>1</td></tr>",
                            "<tr><td>Játszóház (1998)</td><td>játék</td><td>1</td></tr>",
                            "<tr><td>KvízIQ : A hét világcsoda (2001)</td><td>játék</td><td>1</td></tr>",
                            "<tr><td>Lands of Lore II. 1-4. (1997)</td><td>játék</td><td>1</td></tr>",
                            "<tr><td>M1 Tank (1998)</td><td>játék</td><td>1</td></tr>",
                            "<tr><td>Mackó úr (2002)</td><td>játék</td><td>1</td></tr>",
                            "<tr><td>Mahjongg Master (1998)</td><td>játék</td><td>1</td></tr>",
                            "<tr><td>Manó Puzzle (2002)</td><td>játék</td><td>1</td></tr>",
                            "<tr><td>Mig-29 (1998)</td><td>játék</td><td>1</td></tr>",
                            "<tr><td>Monopoly Junior</td><td>játék</td><td>1</td></tr>",
                            "<tr><td>Moving Puzzle Action Flight (2000)</td><td>játék</td><td>1</td></tr>",
                            "<tr><td>Paddle Bash (2001)</td><td>játék</td><td>1</td></tr>",
                            "<tr><td>Panzer General III: Scorched Earth (2000)</td><td>játék</td><td>1</td></tr>",
                            "<tr><td>People&#39;s General (1998)</td><td>játék</td><td>1</td></tr>",
                            "<tr><td>Plane Crazy</td><td>játék</td><td>1</td></tr>",
                            "<tr><td>Quake III. (2001)</td><td>játék</td><td>1</td></tr>",
                            "<tr><td>Star Wars : Rogue Squadron 3D</td><td>játék</td><td>1</td></tr>",
                            "<tr><td>Star Wars: Battle for Naboo</td><td>játék</td><td>1</td></tr>",
                            "<tr><td>Star Wars: Force Commander (2001)</td><td>játék</td><td>1</td></tr>",
                            "<tr><td>Supreme Snowboarding</td><td>játék</td><td>1</td></tr>",
                            "<tr><td>Szabadítsd ki a kisoroszlánt!</td><td>játék</td><td>1</td></tr>",
                            "<tr><td>Tarzan</td><td>játék</td><td>1</td></tr>",
                            "<tr><td>The Settlers III. 1-2. (1998)</td><td>játék</td><td>1</td></tr>",
                            "<tr><td>The Settlers IV. (2001)</td><td>játék</td><td>1</td></tr>",
                            "<tr><td>The Sims</td><td>játék</td><td>1</td></tr>",
                            "<tr><td>Timeshock!</td><td>játék</td><td>1</td></tr>",
                            "<tr><td>Tomi megmenti a tengert (2000)</td><td>játék</td><td>1</td></tr>",
                            "<tr><td>Touché - The Adventures of the Fifth</td><td>játék</td><td>1</td></tr>",
                            "<tr><td>Toy Story 2.</td><td>játék</td><td>1</td></tr>",
                            "<tr><td>Traffic Giant</td><td>játék</td><td>0</td></tr>",
                            "<tr><td>Train Simulator (2002)</td><td>játék</td><td>1</td></tr>",
                            "<tr><td>Trickstyle</td><td>játék</td><td>1</td></tr>",
                            "<tr><td>Varázslatos szülinap</td><td>játék</td><td>1</td></tr>",
                            "<tr><td>Warcraft III. (2002)</td><td>játék</td><td>1</td></tr>",
                            "<tr><td>Re-Volt (1999)</td><td>játék - autós</td><td>1</td></tr>",
                            "<tr><td>GTA 2</td><td>játék (autóverseny)</td><td>1</td></tr>",
                            "<tr><td>International Rally Championship</td><td>játék (autóverseny)</td><td>1</td></tr>",
                            "<tr><td>Rally Championship</td><td>játék (autóverseny)</td><td>1</td></tr>",
                            "<tr><td>Sonic Racer</td><td>játék (autóverseny)</td><td>1</td></tr>",
                            "<tr><td>NHL 2001</td><td>játék (jégkorong)</td><td>1</td></tr>",
                            "<tr><td>FIFA, 2000 (1999)</td><td>játék (labdarúgás)</td><td>1</td></tr>",
                            "<tr><td>The F.A. Premier League Stars 2001</td><td>játék (labdarúgás)</td><td>1</td></tr>",
                            "<tr><td>UEFA Champions Leage Season</td><td>játék (labdarúgás)</td><td>1</td></tr>",
                            "<tr><td>Airport Inc.</td><td>játék (repülős)</td><td>1</td></tr>",
                            "<tr><td>American Rodeo : BullRider 2000 (2001)</td><td>játék (rodeó)</td><td>1</td></tr>",
                            "<tr><td>Castle Explorer</td><td>játék (történelmi)</td><td>1</td></tr>",
                            "<tr><td>Lilenthal Andor sakkjátszmái</td><td>játék, sakk</td><td>1</td></tr>",
                            "</table>"
                        ]
                    }
                }
            ],
            "execution_count": 39
        }
    ]
}