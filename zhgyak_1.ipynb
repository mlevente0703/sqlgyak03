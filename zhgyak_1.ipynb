{
    "metadata": {
        "kernelspec": {
            "name": "SQL",
            "display_name": "SQL",
            "language": "sql"
        },
        "language_info": {
            "name": "sql",
            "version": ""
        }
    },
    "nbformat_minor": 2,
    "nbformat": 4,
    "cells": [
        {
            "cell_type": "code",
            "source": [
                "SELECT Distinct szh.SZALLAS_NEV, count(FOGLALAS_PK),SUM(FELNOTT_SZAM),SUM(GYERMEK_SZAM) \n",
                "from szoba sz join Foglalas f on  sz.SZOBA_ID=f.SZOBA_FK\n",
                "                JOIN szallashely szh on szh.SZALLAS_ID=sz.SZALLAS_FK\n",
                "GROUP BY szh.SZALLAS_NEV\n",
                "HAVING COUNT(FOGLALAS_PK)>5"
            ],
            "metadata": {
                "azdata_cell_guid": "f681fe27-bd2f-408b-9bfd-7957efe6c020",
                "language": "sql"
            },
            "outputs": [
                {
                    "output_type": "display_data",
                    "data": {
                        "text/html": "(11 rows affected)"
                    },
                    "metadata": {}
                },
                {
                    "output_type": "display_data",
                    "data": {
                        "text/html": "Total execution time: 00:00:00.020"
                    },
                    "metadata": {}
                },
                {
                    "output_type": "execute_result",
                    "execution_count": 1,
                    "data": {
                        "application/vnd.dataresource+json": {
                            "schema": {
                                "fields": [
                                    {
                                        "name": "SZALLAS_NEV"
                                    },
                                    {
                                        "name": "(No column name)"
                                    },
                                    {
                                        "name": "(No column name)"
                                    },
                                    {
                                        "name": "(No column name)"
                                    }
                                ]
                            },
                            "data": [
                                {
                                    "SZALLAS_NEV": "Szieszta Apartmanház",
                                    "(No column name)": "16"
                                },
                                {
                                    "SZALLAS_NEV": "Fortuna Panzió",
                                    "(No column name)": "94"
                                },
                                {
                                    "SZALLAS_NEV": "Kentaur Hotel",
                                    "(No column name)": "128"
                                },
                                {
                                    "SZALLAS_NEV": "Partiszél Vendégház",
                                    "(No column name)": "21"
                                },
                                {
                                    "SZALLAS_NEV": "Sába-Ház",
                                    "(No column name)": "41"
                                },
                                {
                                    "SZALLAS_NEV": "Családi Ház",
                                    "(No column name)": "16"
                                },
                                {
                                    "SZALLAS_NEV": "Fortuna Apartman",
                                    "(No column name)": "39"
                                },
                                {
                                    "SZALLAS_NEV": "Hotel Három Hattyú",
                                    "(No column name)": "175"
                                },
                                {
                                    "SZALLAS_NEV": "Jáde panzió",
                                    "(No column name)": "14"
                                },
                                {
                                    "SZALLAS_NEV": "Lagúna Hotel",
                                    "(No column name)": "87"
                                },
                                {
                                    "SZALLAS_NEV": "Gold Hotel",
                                    "(No column name)": "123"
                                }
                            ]
                        },
                        "text/html": "<table><tr><th>SZALLAS_NEV</th><th>(No column name)</th><th>(No column name)</th><th>(No column name)</th></tr><tr><td>Szieszta Apartmanház</td><td>34</td><td>67</td><td>16</td></tr><tr><td>Fortuna Panzió</td><td>126</td><td>217</td><td>94</td></tr><tr><td>Kentaur Hotel</td><td>179</td><td>292</td><td>128</td></tr><tr><td>Partiszél Vendégház</td><td>26</td><td>42</td><td>21</td></tr><tr><td>Sába-Ház</td><td>70</td><td>125</td><td>41</td></tr><tr><td>Családi Ház</td><td>18</td><td>36</td><td>16</td></tr><tr><td>Fortuna Apartman</td><td>39</td><td>67</td><td>39</td></tr><tr><td>Hotel Három Hattyú</td><td>204</td><td>329</td><td>175</td></tr><tr><td>Jáde panzió</td><td>29</td><td>52</td><td>14</td></tr><tr><td>Lagúna Hotel</td><td>123</td><td>204</td><td>87</td></tr><tr><td>Gold Hotel</td><td>179</td><td>305</td><td>123</td></tr></table>"
                    },
                    "metadata": {}
                }
            ],
            "execution_count": 1
        },
        {
            "cell_type": "code",
            "source": [
                "SELECT Distinct szh.SZALLAS_NEV\r\n",
                "from szoba sz join Foglalas f on  sz.SZOBA_ID=f.SZOBA_FK\r\n",
                "                JOIN szallashely szh on szh.SZALLAS_ID=sz.SZALLAS_FK\r\n",
                "where f.FELNOTT_SZAM>3"
            ],
            "metadata": {
                "azdata_cell_guid": "f3f9e4a6-1bc3-4aa3-924f-277bbae61fe6",
                "language": "sql"
            },
            "outputs": [
                {
                    "output_type": "display_data",
                    "data": {
                        "text/html": "(1 row affected)"
                    },
                    "metadata": {}
                },
                {
                    "output_type": "display_data",
                    "data": {
                        "text/html": "Total execution time: 00:00:00.016"
                    },
                    "metadata": {}
                },
                {
                    "output_type": "execute_result",
                    "execution_count": 6,
                    "data": {
                        "application/vnd.dataresource+json": {
                            "schema": {
                                "fields": [
                                    {
                                        "name": "SZALLAS_NEV"
                                    }
                                ]
                            },
                            "data": [
                                {
                                    "SZALLAS_NEV": "Fortuna Apartman"
                                }
                            ]
                        },
                        "text/html": "<table><tr><th>SZALLAS_NEV</th></tr><tr><td>Fortuna Apartman</td></tr></table>"
                    },
                    "metadata": {}
                }
            ],
            "execution_count": 6
        },
        {
            "cell_type": "code",
            "source": [
                "SELECT szh.SZALLAS_NEV,\r\n",
                "       f.METTOL,\r\n",
                "       COUNT(*) OVER(PARTITION BY szh.szallas_nev ORDER BY f.METTOL\r\n",
                "               RANGE BETWEEN UNBOUNDED PRECEDING AND CURRENT ROW)\r\n",
                "FROM Foglalas f JOIN Szoba sz ON f.szoba_fk = sz.szoba_id\r\n",
                "                JOIN Szallashely szh ON sz.SZALLAS_FK = szh.SZALLAS_ID"
            ],
            "metadata": {
                "azdata_cell_guid": "822eba65-8696-4257-9086-878d579490e2",
                "language": "sql"
            },
            "outputs": [
                {
                    "output_type": "display_data",
                    "data": {
                        "text/html": "(1027 rows affected)"
                    },
                    "metadata": {}
                },
                {
                    "output_type": "display_data",
                    "data": {
                        "text/html": "Total execution time: 00:00:00.171"
                    },
                    "metadata": {}
                },
                {
                    "output_type": "execute_result",
                    "metadata": {},
                    "execution_count": 4,
                    "data": {
                        "application/vnd.dataresource+json": {
                            "schema": {
                                "fields": [
                                    {
                                        "name": "SZALLAS_NEV"
                                    },
                                    {
                                        "name": "METTOL"
                                    },
                                    {
                                        "name": "(No column name)"
                                    }
                                ]
                            },
                            "data": [
                                {
                                    "SZALLAS_NEV": "Családi Ház",
                                    "METTOL": "2016-05-22",
                                    "(No column name)": "1"
                                },
                                {
                                    "SZALLAS_NEV": "Családi Ház",
                                    "METTOL": "2016-05-24",
                                    "(No column name)": "2"
                                },
                                {
                                    "SZALLAS_NEV": "Családi Ház",
                                    "METTOL": "2016-06-03",
                                    "(No column name)": "3"
                                },
                                {
                                    "SZALLAS_NEV": "Családi Ház",
                                    "METTOL": "2016-06-20",
                                    "(No column name)": "4"
                                },
                                {
                                    "SZALLAS_NEV": "Családi Ház",
                                    "METTOL": "2016-07-13",
                                    "(No column name)": "5"
                                },
                                {
                                    "SZALLAS_NEV": "Családi Ház",
                                    "METTOL": "2016-07-18",
                                    "(No column name)": "6"
                                },
                                {
                                    "SZALLAS_NEV": "Családi Ház",
                                    "METTOL": "2016-08-08",
                                    "(No column name)": "7"
                                },
                                {
                                    "SZALLAS_NEV": "Családi Ház",
                                    "METTOL": "2016-08-16",
                                    "(No column name)": "8"
                                },
                                {
                                    "SZALLAS_NEV": "Családi Ház",
                                    "METTOL": "2016-08-24",
                                    "(No column name)": "9"
                                },
                                {
                                    "SZALLAS_NEV": "Családi Ház",
                                    "METTOL": "2016-09-12",
                                    "(No column name)": "10"
                                },
                                {
                                    "SZALLAS_NEV": "Családi Ház",
                                    "METTOL": "2016-10-08",
                                    "(No column name)": "11"
                                },
                                {
                                    "SZALLAS_NEV": "Családi Ház",
                                    "METTOL": "2016-11-03",
                                    "(No column name)": "12"
                                },
                                {
                                    "SZALLAS_NEV": "Családi Ház",
                                    "METTOL": "2016-12-06",
                                    "(No column name)": "13"
                                },
                                {
                                    "SZALLAS_NEV": "Családi Ház",
                                    "METTOL": "2017-01-04",
                                    "(No column name)": "14"
                                },
                                {
                                    "SZALLAS_NEV": "Családi Ház",
                                    "METTOL": "2017-01-16",
                                    "(No column name)": "15"
                                },
                                {
                                    "SZALLAS_NEV": "Családi Ház",
                                    "METTOL": "2017-01-23",
                                    "(No column name)": "16"
                                },
                                {
                                    "SZALLAS_NEV": "Családi Ház",
                                    "METTOL": "2017-02-04",
                                    "(No column name)": "17"
                                },
                                {
                                    "SZALLAS_NEV": "Családi Ház",
                                    "METTOL": "2017-02-16",
                                    "(No column name)": "18"
                                },
                                {
                                    "SZALLAS_NEV": "Fortuna Apartman",
                                    "METTOL": "2016-04-09",
                                    "(No column name)": "1"
                                },
                                {
                                    "SZALLAS_NEV": "Fortuna Apartman",
                                    "METTOL": "2016-04-26",
                                    "(No column name)": "2"
                                },
                                {
                                    "SZALLAS_NEV": "Fortuna Apartman",
                                    "METTOL": "2016-05-08",
                                    "(No column name)": "3"
                                },
                                {
                                    "SZALLAS_NEV": "Fortuna Apartman",
                                    "METTOL": "2016-05-21",
                                    "(No column name)": "4"
                                },
                                {
                                    "SZALLAS_NEV": "Fortuna Apartman",
                                    "METTOL": "2016-05-23",
                                    "(No column name)": "5"
                                },
                                {
                                    "SZALLAS_NEV": "Fortuna Apartman",
                                    "METTOL": "2016-06-04",
                                    "(No column name)": "6"
                                },
                                {
                                    "SZALLAS_NEV": "Fortuna Apartman",
                                    "METTOL": "2016-06-06",
                                    "(No column name)": "7"
                                },
                                {
                                    "SZALLAS_NEV": "Fortuna Apartman",
                                    "METTOL": "2016-06-08",
                                    "(No column name)": "8"
                                },
                                {
                                    "SZALLAS_NEV": "Fortuna Apartman",
                                    "METTOL": "2016-06-10",
                                    "(No column name)": "10"
                                },
                                {
                                    "SZALLAS_NEV": "Fortuna Apartman",
                                    "METTOL": "2016-06-10",
                                    "(No column name)": "10"
                                },
                                {
                                    "SZALLAS_NEV": "Fortuna Apartman",
                                    "METTOL": "2016-07-03",
                                    "(No column name)": "11"
                                },
                                {
                                    "SZALLAS_NEV": "Fortuna Apartman",
                                    "METTOL": "2016-07-20",
                                    "(No column name)": "12"
                                },
                                {
                                    "SZALLAS_NEV": "Fortuna Apartman",
                                    "METTOL": "2016-07-24",
                                    "(No column name)": "13"
                                },
                                {
                                    "SZALLAS_NEV": "Fortuna Apartman",
                                    "METTOL": "2016-08-01",
                                    "(No column name)": "14"
                                },
                                {
                                    "SZALLAS_NEV": "Fortuna Apartman",
                                    "METTOL": "2016-08-04",
                                    "(No column name)": "15"
                                },
                                {
                                    "SZALLAS_NEV": "Fortuna Apartman",
                                    "METTOL": "2016-08-11",
                                    "(No column name)": "16"
                                },
                                {
                                    "SZALLAS_NEV": "Fortuna Apartman",
                                    "METTOL": "2016-08-14",
                                    "(No column name)": "17"
                                },
                                {
                                    "SZALLAS_NEV": "Fortuna Apartman",
                                    "METTOL": "2016-08-21",
                                    "(No column name)": "18"
                                },
                                {
                                    "SZALLAS_NEV": "Fortuna Apartman",
                                    "METTOL": "2016-08-24",
                                    "(No column name)": "19"
                                },
                                {
                                    "SZALLAS_NEV": "Fortuna Apartman",
                                    "METTOL": "2016-09-04",
                                    "(No column name)": "20"
                                },
                                {
                                    "SZALLAS_NEV": "Fortuna Apartman",
                                    "METTOL": "2016-09-07",
                                    "(No column name)": "21"
                                },
                                {
                                    "SZALLAS_NEV": "Fortuna Apartman",
                                    "METTOL": "2016-09-19",
                                    "(No column name)": "22"
                                },
                                {
                                    "SZALLAS_NEV": "Fortuna Apartman",
                                    "METTOL": "2016-10-01",
                                    "(No column name)": "24"
                                },
                                {
                                    "SZALLAS_NEV": "Fortuna Apartman",
                                    "METTOL": "2016-10-01",
                                    "(No column name)": "24"
                                },
                                {
                                    "SZALLAS_NEV": "Fortuna Apartman",
                                    "METTOL": "2016-10-08",
                                    "(No column name)": "25"
                                },
                                {
                                    "SZALLAS_NEV": "Fortuna Apartman",
                                    "METTOL": "2016-10-09",
                                    "(No column name)": "26"
                                },
                                {
                                    "SZALLAS_NEV": "Fortuna Apartman",
                                    "METTOL": "2016-10-19",
                                    "(No column name)": "27"
                                },
                                {
                                    "SZALLAS_NEV": "Fortuna Apartman",
                                    "METTOL": "2016-10-21",
                                    "(No column name)": "28"
                                },
                                {
                                    "SZALLAS_NEV": "Fortuna Apartman",
                                    "METTOL": "2016-10-26",
                                    "(No column name)": "30"
                                },
                                {
                                    "SZALLAS_NEV": "Fortuna Apartman",
                                    "METTOL": "2016-10-26",
                                    "(No column name)": "30"
                                },
                                {
                                    "SZALLAS_NEV": "Fortuna Apartman",
                                    "METTOL": "2016-10-27",
                                    "(No column name)": "31"
                                },
                                {
                                    "SZALLAS_NEV": "Fortuna Apartman",
                                    "METTOL": "2016-10-28",
                                    "(No column name)": "32"
                                },
                                {
                                    "SZALLAS_NEV": "Fortuna Apartman",
                                    "METTOL": "2016-11-02",
                                    "(No column name)": "33"
                                },
                                {
                                    "SZALLAS_NEV": "Fortuna Apartman",
                                    "METTOL": "2016-11-17",
                                    "(No column name)": "34"
                                },
                                {
                                    "SZALLAS_NEV": "Fortuna Apartman",
                                    "METTOL": "2016-11-25",
                                    "(No column name)": "35"
                                },
                                {
                                    "SZALLAS_NEV": "Fortuna Apartman",
                                    "METTOL": "2017-01-03",
                                    "(No column name)": "36"
                                },
                                {
                                    "SZALLAS_NEV": "Fortuna Apartman",
                                    "METTOL": "2017-02-06",
                                    "(No column name)": "37"
                                },
                                {
                                    "SZALLAS_NEV": "Fortuna Apartman",
                                    "METTOL": "2017-02-14",
                                    "(No column name)": "38"
                                },
                                {
                                    "SZALLAS_NEV": "Fortuna Apartman",
                                    "METTOL": "2017-02-18",
                                    "(No column name)": "39"
                                },
                                {
                                    "SZALLAS_NEV": "Fortuna Panzió",
                                    "METTOL": "2016-04-06",
                                    "(No column name)": "1"
                                },
                                {
                                    "SZALLAS_NEV": "Fortuna Panzió",
                                    "METTOL": "2016-04-19",
                                    "(No column name)": "3"
                                },
                                {
                                    "SZALLAS_NEV": "Fortuna Panzió",
                                    "METTOL": "2016-04-19",
                                    "(No column name)": "3"
                                },
                                {
                                    "SZALLAS_NEV": "Fortuna panzió",
                                    "METTOL": "2016-04-24",
                                    "(No column name)": "4"
                                },
                                {
                                    "SZALLAS_NEV": "Fortuna panzió",
                                    "METTOL": "2016-04-25",
                                    "(No column name)": "5"
                                },
                                {
                                    "SZALLAS_NEV": "Fortuna Panzió",
                                    "METTOL": "2016-04-26",
                                    "(No column name)": "6"
                                },
                                {
                                    "SZALLAS_NEV": "Fortuna panzió",
                                    "METTOL": "2016-04-27",
                                    "(No column name)": "8"
                                },
                                {
                                    "SZALLAS_NEV": "Fortuna panzió",
                                    "METTOL": "2016-04-27",
                                    "(No column name)": "8"
                                },
                                {
                                    "SZALLAS_NEV": "Fortuna panzió",
                                    "METTOL": "2016-05-01",
                                    "(No column name)": "9"
                                },
                                {
                                    "SZALLAS_NEV": "Fortuna panzió",
                                    "METTOL": "2016-05-08",
                                    "(No column name)": "11"
                                },
                                {
                                    "SZALLAS_NEV": "Fortuna panzió",
                                    "METTOL": "2016-05-08",
                                    "(No column name)": "11"
                                },
                                {
                                    "SZALLAS_NEV": "Fortuna Panzió",
                                    "METTOL": "2016-05-09",
                                    "(No column name)": "12"
                                },
                                {
                                    "SZALLAS_NEV": "Fortuna Panzió",
                                    "METTOL": "2016-05-21",
                                    "(No column name)": "13"
                                },
                                {
                                    "SZALLAS_NEV": "Fortuna Panzió",
                                    "METTOL": "2016-05-22",
                                    "(No column name)": "14"
                                },
                                {
                                    "SZALLAS_NEV": "Fortuna panzió",
                                    "METTOL": "2016-05-28",
                                    "(No column name)": "15"
                                },
                                {
                                    "SZALLAS_NEV": "Fortuna panzió",
                                    "METTOL": "2016-05-29",
                                    "(No column name)": "16"
                                },
                                {
                                    "SZALLAS_NEV": "Fortuna panzió",
                                    "METTOL": "2016-06-01",
                                    "(No column name)": "17"
                                },
                                {
                                    "SZALLAS_NEV": "Fortuna Panzió",
                                    "METTOL": "2016-06-02",
                                    "(No column name)": "18"
                                },
                                {
                                    "SZALLAS_NEV": "Fortuna panzió",
                                    "METTOL": "2016-06-03",
                                    "(No column name)": "21"
                                },
                                {
                                    "SZALLAS_NEV": "Fortuna panzió",
                                    "METTOL": "2016-06-03",
                                    "(No column name)": "21"
                                },
                                {
                                    "SZALLAS_NEV": "Fortuna panzió",
                                    "METTOL": "2016-06-03",
                                    "(No column name)": "21"
                                },
                                {
                                    "SZALLAS_NEV": "Fortuna panzió",
                                    "METTOL": "2016-06-04",
                                    "(No column name)": "23"
                                },
                                {
                                    "SZALLAS_NEV": "Fortuna panzió",
                                    "METTOL": "2016-06-04",
                                    "(No column name)": "23"
                                },
                                {
                                    "SZALLAS_NEV": "Fortuna Panzió",
                                    "METTOL": "2016-06-06",
                                    "(No column name)": "26"
                                },
                                {
                                    "SZALLAS_NEV": "Fortuna panzió",
                                    "METTOL": "2016-06-06",
                                    "(No column name)": "26"
                                },
                                {
                                    "SZALLAS_NEV": "Fortuna panzió",
                                    "METTOL": "2016-06-06",
                                    "(No column name)": "26"
                                },
                                {
                                    "SZALLAS_NEV": "Fortuna Panzió",
                                    "METTOL": "2016-06-07",
                                    "(No column name)": "28"
                                },
                                {
                                    "SZALLAS_NEV": "Fortuna Panzió",
                                    "METTOL": "2016-06-07",
                                    "(No column name)": "28"
                                },
                                {
                                    "SZALLAS_NEV": "Fortuna Panzió",
                                    "METTOL": "2016-06-13",
                                    "(No column name)": "29"
                                },
                                {
                                    "SZALLAS_NEV": "Fortuna Panzió",
                                    "METTOL": "2016-06-15",
                                    "(No column name)": "30"
                                },
                                {
                                    "SZALLAS_NEV": "Fortuna panzió",
                                    "METTOL": "2016-06-18",
                                    "(No column name)": "31"
                                },
                                {
                                    "SZALLAS_NEV": "Fortuna panzió",
                                    "METTOL": "2016-06-22",
                                    "(No column name)": "32"
                                },
                                {
                                    "SZALLAS_NEV": "Fortuna panzió",
                                    "METTOL": "2016-06-24",
                                    "(No column name)": "33"
                                },
                                {
                                    "SZALLAS_NEV": "Fortuna Panzió",
                                    "METTOL": "2016-06-25",
                                    "(No column name)": "34"
                                },
                                {
                                    "SZALLAS_NEV": "Fortuna panzió",
                                    "METTOL": "2016-07-03",
                                    "(No column name)": "35"
                                },
                                {
                                    "SZALLAS_NEV": "Fortuna panzió",
                                    "METTOL": "2016-07-05",
                                    "(No column name)": "36"
                                },
                                {
                                    "SZALLAS_NEV": "Fortuna Panzió",
                                    "METTOL": "2016-07-08",
                                    "(No column name)": "38"
                                },
                                {
                                    "SZALLAS_NEV": "Fortuna Panzió",
                                    "METTOL": "2016-07-08",
                                    "(No column name)": "38"
                                },
                                {
                                    "SZALLAS_NEV": "Fortuna panzió",
                                    "METTOL": "2016-07-10",
                                    "(No column name)": "39"
                                },
                                {
                                    "SZALLAS_NEV": "Fortuna Panzió",
                                    "METTOL": "2016-07-14",
                                    "(No column name)": "40"
                                },
                                {
                                    "SZALLAS_NEV": "Fortuna panzió",
                                    "METTOL": "2016-07-18",
                                    "(No column name)": "41"
                                },
                                {
                                    "SZALLAS_NEV": "Fortuna panzió",
                                    "METTOL": "2016-07-19",
                                    "(No column name)": "42"
                                },
                                {
                                    "SZALLAS_NEV": "Fortuna panzió",
                                    "METTOL": "2016-07-22",
                                    "(No column name)": "43"
                                },
                                {
                                    "SZALLAS_NEV": "Fortuna panzió",
                                    "METTOL": "2016-07-23",
                                    "(No column name)": "44"
                                },
                                {
                                    "SZALLAS_NEV": "Fortuna panzió",
                                    "METTOL": "2016-07-27",
                                    "(No column name)": "46"
                                },
                                {
                                    "SZALLAS_NEV": "Fortuna panzió",
                                    "METTOL": "2016-07-27",
                                    "(No column name)": "46"
                                },
                                {
                                    "SZALLAS_NEV": "Fortuna panzió",
                                    "METTOL": "2016-08-02",
                                    "(No column name)": "47"
                                },
                                {
                                    "SZALLAS_NEV": "Fortuna panzió",
                                    "METTOL": "2016-08-03",
                                    "(No column name)": "49"
                                },
                                {
                                    "SZALLAS_NEV": "Fortuna Panzió",
                                    "METTOL": "2016-08-03",
                                    "(No column name)": "49"
                                },
                                {
                                    "SZALLAS_NEV": "Fortuna panzió",
                                    "METTOL": "2016-08-05",
                                    "(No column name)": "50"
                                },
                                {
                                    "SZALLAS_NEV": "Fortuna Panzió",
                                    "METTOL": "2016-08-12",
                                    "(No column name)": "51"
                                },
                                {
                                    "SZALLAS_NEV": "Fortuna panzió",
                                    "METTOL": "2016-08-14",
                                    "(No column name)": "52"
                                },
                                {
                                    "SZALLAS_NEV": "Fortuna Panzió",
                                    "METTOL": "2016-08-17",
                                    "(No column name)": "53"
                                },
                                {
                                    "SZALLAS_NEV": "Fortuna Panzió",
                                    "METTOL": "2016-08-20",
                                    "(No column name)": "55"
                                },
                                {
                                    "SZALLAS_NEV": "Fortuna Panzió",
                                    "METTOL": "2016-08-20",
                                    "(No column name)": "55"
                                },
                                {
                                    "SZALLAS_NEV": "Fortuna panzió",
                                    "METTOL": "2016-08-22",
                                    "(No column name)": "56"
                                },
                                {
                                    "SZALLAS_NEV": "Fortuna panzió",
                                    "METTOL": "2016-08-24",
                                    "(No column name)": "57"
                                },
                                {
                                    "SZALLAS_NEV": "Fortuna Panzió",
                                    "METTOL": "2016-08-25",
                                    "(No column name)": "59"
                                },
                                {
                                    "SZALLAS_NEV": "Fortuna Panzió",
                                    "METTOL": "2016-08-25",
                                    "(No column name)": "59"
                                },
                                {
                                    "SZALLAS_NEV": "Fortuna Panzió",
                                    "METTOL": "2016-08-26",
                                    "(No column name)": "60"
                                },
                                {
                                    "SZALLAS_NEV": "Fortuna panzió",
                                    "METTOL": "2016-08-28",
                                    "(No column name)": "61"
                                },
                                {
                                    "SZALLAS_NEV": "Fortuna Panzió",
                                    "METTOL": "2016-09-02",
                                    "(No column name)": "62"
                                },
                                {
                                    "SZALLAS_NEV": "Fortuna panzió",
                                    "METTOL": "2016-09-05",
                                    "(No column name)": "64"
                                },
                                {
                                    "SZALLAS_NEV": "Fortuna panzió",
                                    "METTOL": "2016-09-05",
                                    "(No column name)": "64"
                                },
                                {
                                    "SZALLAS_NEV": "Fortuna panzió",
                                    "METTOL": "2016-09-14",
                                    "(No column name)": "65"
                                },
                                {
                                    "SZALLAS_NEV": "Fortuna panzió",
                                    "METTOL": "2016-09-15",
                                    "(No column name)": "66"
                                },
                                {
                                    "SZALLAS_NEV": "Fortuna Panzió",
                                    "METTOL": "2016-09-16",
                                    "(No column name)": "67"
                                },
                                {
                                    "SZALLAS_NEV": "Fortuna panzió",
                                    "METTOL": "2016-09-17",
                                    "(No column name)": "68"
                                },
                                {
                                    "SZALLAS_NEV": "Fortuna Panzió",
                                    "METTOL": "2016-09-18",
                                    "(No column name)": "69"
                                },
                                {
                                    "SZALLAS_NEV": "Fortuna panzió",
                                    "METTOL": "2016-09-23",
                                    "(No column name)": "71"
                                },
                                {
                                    "SZALLAS_NEV": "Fortuna panzió",
                                    "METTOL": "2016-09-23",
                                    "(No column name)": "71"
                                },
                                {
                                    "SZALLAS_NEV": "Fortuna panzió",
                                    "METTOL": "2016-09-26",
                                    "(No column name)": "72"
                                },
                                {
                                    "SZALLAS_NEV": "Fortuna Panzió",
                                    "METTOL": "2016-09-29",
                                    "(No column name)": "73"
                                },
                                {
                                    "SZALLAS_NEV": "Fortuna Panzió",
                                    "METTOL": "2016-10-03",
                                    "(No column name)": "74"
                                },
                                {
                                    "SZALLAS_NEV": "Fortuna Panzió",
                                    "METTOL": "2016-10-09",
                                    "(No column name)": "77"
                                },
                                {
                                    "SZALLAS_NEV": "Fortuna panzió",
                                    "METTOL": "2016-10-09",
                                    "(No column name)": "77"
                                },
                                {
                                    "SZALLAS_NEV": "Fortuna Panzió",
                                    "METTOL": "2016-10-09",
                                    "(No column name)": "77"
                                },
                                {
                                    "SZALLAS_NEV": "Fortuna panzió",
                                    "METTOL": "2016-10-13",
                                    "(No column name)": "78"
                                },
                                {
                                    "SZALLAS_NEV": "Fortuna panzió",
                                    "METTOL": "2016-10-16",
                                    "(No column name)": "79"
                                },
                                {
                                    "SZALLAS_NEV": "Fortuna panzió",
                                    "METTOL": "2016-10-23",
                                    "(No column name)": "81"
                                },
                                {
                                    "SZALLAS_NEV": "Fortuna Panzió",
                                    "METTOL": "2016-10-23",
                                    "(No column name)": "81"
                                },
                                {
                                    "SZALLAS_NEV": "Fortuna Panzió",
                                    "METTOL": "2016-10-26",
                                    "(No column name)": "82"
                                },
                                {
                                    "SZALLAS_NEV": "Fortuna Panzió",
                                    "METTOL": "2016-10-27",
                                    "(No column name)": "83"
                                },
                                {
                                    "SZALLAS_NEV": "Fortuna panzió",
                                    "METTOL": "2016-10-29",
                                    "(No column name)": "84"
                                },
                                {
                                    "SZALLAS_NEV": "Fortuna Panzió",
                                    "METTOL": "2016-10-30",
                                    "(No column name)": "86"
                                },
                                {
                                    "SZALLAS_NEV": "Fortuna Panzió",
                                    "METTOL": "2016-10-30",
                                    "(No column name)": "86"
                                },
                                {
                                    "SZALLAS_NEV": "Fortuna panzió",
                                    "METTOL": "2016-11-01",
                                    "(No column name)": "87"
                                },
                                {
                                    "SZALLAS_NEV": "Fortuna Panzió",
                                    "METTOL": "2016-11-03",
                                    "(No column name)": "88"
                                },
                                {
                                    "SZALLAS_NEV": "Fortuna Panzió",
                                    "METTOL": "2016-11-10",
                                    "(No column name)": "89"
                                },
                                {
                                    "SZALLAS_NEV": "Fortuna panzió",
                                    "METTOL": "2016-11-11",
                                    "(No column name)": "90"
                                },
                                {
                                    "SZALLAS_NEV": "Fortuna Panzió",
                                    "METTOL": "2016-11-19",
                                    "(No column name)": "92"
                                },
                                {
                                    "SZALLAS_NEV": "Fortuna Panzió",
                                    "METTOL": "2016-11-19",
                                    "(No column name)": "92"
                                },
                                {
                                    "SZALLAS_NEV": "Fortuna Panzió",
                                    "METTOL": "2016-11-22",
                                    "(No column name)": "93"
                                },
                                {
                                    "SZALLAS_NEV": "Fortuna Panzió",
                                    "METTOL": "2016-11-23",
                                    "(No column name)": "94"
                                },
                                {
                                    "SZALLAS_NEV": "Fortuna panzió",
                                    "METTOL": "2016-11-25",
                                    "(No column name)": "95"
                                },
                                {
                                    "SZALLAS_NEV": "Fortuna panzió",
                                    "METTOL": "2016-12-01",
                                    "(No column name)": "96"
                                },
                                {
                                    "SZALLAS_NEV": "Fortuna panzió",
                                    "METTOL": "2016-12-05",
                                    "(No column name)": "97"
                                },
                                {
                                    "SZALLAS_NEV": "Fortuna panzió",
                                    "METTOL": "2016-12-06",
                                    "(No column name)": "98"
                                },
                                {
                                    "SZALLAS_NEV": "Fortuna panzió",
                                    "METTOL": "2016-12-14",
                                    "(No column name)": "99"
                                },
                                {
                                    "SZALLAS_NEV": "Fortuna panzió",
                                    "METTOL": "2016-12-18",
                                    "(No column name)": "100"
                                },
                                {
                                    "SZALLAS_NEV": "Fortuna panzió",
                                    "METTOL": "2016-12-20",
                                    "(No column name)": "101"
                                },
                                {
                                    "SZALLAS_NEV": "Fortuna panzió",
                                    "METTOL": "2016-12-21",
                                    "(No column name)": "102"
                                },
                                {
                                    "SZALLAS_NEV": "Fortuna panzió",
                                    "METTOL": "2016-12-24",
                                    "(No column name)": "103"
                                },
                                {
                                    "SZALLAS_NEV": "Fortuna panzió",
                                    "METTOL": "2016-12-29",
                                    "(No column name)": "104"
                                },
                                {
                                    "SZALLAS_NEV": "Fortuna panzió",
                                    "METTOL": "2017-01-01",
                                    "(No column name)": "105"
                                },
                                {
                                    "SZALLAS_NEV": "Fortuna panzió",
                                    "METTOL": "2017-01-03",
                                    "(No column name)": "106"
                                },
                                {
                                    "SZALLAS_NEV": "Fortuna Panzió",
                                    "METTOL": "2017-01-08",
                                    "(No column name)": "107"
                                },
                                {
                                    "SZALLAS_NEV": "Fortuna panzió",
                                    "METTOL": "2017-01-12",
                                    "(No column name)": "108"
                                },
                                {
                                    "SZALLAS_NEV": "Fortuna panzió",
                                    "METTOL": "2017-01-13",
                                    "(No column name)": "109"
                                },
                                {
                                    "SZALLAS_NEV": "Fortuna Panzió",
                                    "METTOL": "2017-01-16",
                                    "(No column name)": "110"
                                },
                                {
                                    "SZALLAS_NEV": "Fortuna panzió",
                                    "METTOL": "2017-01-18",
                                    "(No column name)": "111"
                                },
                                {
                                    "SZALLAS_NEV": "Fortuna panzió",
                                    "METTOL": "2017-01-20",
                                    "(No column name)": "112"
                                },
                                {
                                    "SZALLAS_NEV": "Fortuna panzió",
                                    "METTOL": "2017-01-27",
                                    "(No column name)": "113"
                                },
                                {
                                    "SZALLAS_NEV": "Fortuna panzió",
                                    "METTOL": "2017-01-28",
                                    "(No column name)": "114"
                                },
                                {
                                    "SZALLAS_NEV": "Fortuna Panzió",
                                    "METTOL": "2017-02-10",
                                    "(No column name)": "115"
                                },
                                {
                                    "SZALLAS_NEV": "Fortuna Panzió",
                                    "METTOL": "2017-02-12",
                                    "(No column name)": "116"
                                },
                                {
                                    "SZALLAS_NEV": "Fortuna panzió",
                                    "METTOL": "2017-02-13",
                                    "(No column name)": "117"
                                },
                                {
                                    "SZALLAS_NEV": "Fortuna Panzió",
                                    "METTOL": "2017-02-16",
                                    "(No column name)": "119"
                                },
                                {
                                    "SZALLAS_NEV": "Fortuna panzió",
                                    "METTOL": "2017-02-16",
                                    "(No column name)": "119"
                                },
                                {
                                    "SZALLAS_NEV": "Fortuna Panzió",
                                    "METTOL": "2017-02-17",
                                    "(No column name)": "120"
                                },
                                {
                                    "SZALLAS_NEV": "Fortuna Panzió",
                                    "METTOL": "2017-02-18",
                                    "(No column name)": "121"
                                },
                                {
                                    "SZALLAS_NEV": "Fortuna Panzió",
                                    "METTOL": "2017-02-20",
                                    "(No column name)": "123"
                                },
                                {
                                    "SZALLAS_NEV": "Fortuna Panzió",
                                    "METTOL": "2017-02-20",
                                    "(No column name)": "123"
                                },
                                {
                                    "SZALLAS_NEV": "Fortuna panzió",
                                    "METTOL": "2017-02-21",
                                    "(No column name)": "124"
                                },
                                {
                                    "SZALLAS_NEV": "Fortuna panzió",
                                    "METTOL": "2017-02-24",
                                    "(No column name)": "125"
                                },
                                {
                                    "SZALLAS_NEV": "Fortuna Panzió",
                                    "METTOL": "2017-03-01",
                                    "(No column name)": "126"
                                },
                                {
                                    "SZALLAS_NEV": "Gold Hotel",
                                    "METTOL": "2016-04-10",
                                    "(No column name)": "4"
                                },
                                {
                                    "SZALLAS_NEV": "Gold Hotel",
                                    "METTOL": "2016-04-10",
                                    "(No column name)": "4"
                                },
                                {
                                    "SZALLAS_NEV": "Gold Hotel",
                                    "METTOL": "2016-04-10",
                                    "(No column name)": "4"
                                },
                                {
                                    "SZALLAS_NEV": "Gold Hotel",
                                    "METTOL": "2016-04-10",
                                    "(No column name)": "4"
                                },
                                {
                                    "SZALLAS_NEV": "Gold Hotel",
                                    "METTOL": "2016-04-13",
                                    "(No column name)": "5"
                                },
                                {
                                    "SZALLAS_NEV": "Gold Hotel",
                                    "METTOL": "2016-04-21",
                                    "(No column name)": "6"
                                },
                                {
                                    "SZALLAS_NEV": "Gold Hotel",
                                    "METTOL": "2016-04-24",
                                    "(No column name)": "7"
                                },
                                {
                                    "SZALLAS_NEV": "Gold Hotel",
                                    "METTOL": "2016-04-28",
                                    "(No column name)": "8"
                                },
                                {
                                    "SZALLAS_NEV": "Gold Hotel",
                                    "METTOL": "2016-05-01",
                                    "(No column name)": "9"
                                },
                                {
                                    "SZALLAS_NEV": "Gold Hotel",
                                    "METTOL": "2016-05-09",
                                    "(No column name)": "11"
                                },
                                {
                                    "SZALLAS_NEV": "Gold Hotel",
                                    "METTOL": "2016-05-09",
                                    "(No column name)": "11"
                                },
                                {
                                    "SZALLAS_NEV": "Gold Hotel",
                                    "METTOL": "2016-05-12",
                                    "(No column name)": "12"
                                },
                                {
                                    "SZALLAS_NEV": "Gold Hotel",
                                    "METTOL": "2016-05-14",
                                    "(No column name)": "13"
                                },
                                {
                                    "SZALLAS_NEV": "Gold Hotel",
                                    "METTOL": "2016-05-21",
                                    "(No column name)": "15"
                                },
                                {
                                    "SZALLAS_NEV": "Gold Hotel",
                                    "METTOL": "2016-05-21",
                                    "(No column name)": "15"
                                },
                                {
                                    "SZALLAS_NEV": "Gold Hotel",
                                    "METTOL": "2016-05-24",
                                    "(No column name)": "16"
                                },
                                {
                                    "SZALLAS_NEV": "Gold Hotel",
                                    "METTOL": "2016-05-25",
                                    "(No column name)": "17"
                                },
                                {
                                    "SZALLAS_NEV": "Gold Hotel",
                                    "METTOL": "2016-05-28",
                                    "(No column name)": "20"
                                },
                                {
                                    "SZALLAS_NEV": "Gold Hotel",
                                    "METTOL": "2016-05-28",
                                    "(No column name)": "20"
                                },
                                {
                                    "SZALLAS_NEV": "Gold Hotel",
                                    "METTOL": "2016-05-28",
                                    "(No column name)": "20"
                                },
                                {
                                    "SZALLAS_NEV": "Gold Hotel",
                                    "METTOL": "2016-05-30",
                                    "(No column name)": "21"
                                },
                                {
                                    "SZALLAS_NEV": "Gold Hotel",
                                    "METTOL": "2016-06-03",
                                    "(No column name)": "25"
                                },
                                {
                                    "SZALLAS_NEV": "Gold Hotel",
                                    "METTOL": "2016-06-03",
                                    "(No column name)": "25"
                                },
                                {
                                    "SZALLAS_NEV": "Gold Hotel",
                                    "METTOL": "2016-06-03",
                                    "(No column name)": "25"
                                },
                                {
                                    "SZALLAS_NEV": "Gold Hotel",
                                    "METTOL": "2016-06-03",
                                    "(No column name)": "25"
                                },
                                {
                                    "SZALLAS_NEV": "Gold Hotel",
                                    "METTOL": "2016-06-04",
                                    "(No column name)": "27"
                                },
                                {
                                    "SZALLAS_NEV": "Gold Hotel",
                                    "METTOL": "2016-06-04",
                                    "(No column name)": "27"
                                },
                                {
                                    "SZALLAS_NEV": "Gold Hotel",
                                    "METTOL": "2016-06-06",
                                    "(No column name)": "30"
                                },
                                {
                                    "SZALLAS_NEV": "Gold Hotel",
                                    "METTOL": "2016-06-06",
                                    "(No column name)": "30"
                                },
                                {
                                    "SZALLAS_NEV": "Gold Hotel",
                                    "METTOL": "2016-06-06",
                                    "(No column name)": "30"
                                },
                                {
                                    "SZALLAS_NEV": "Gold Hotel",
                                    "METTOL": "2016-06-07",
                                    "(No column name)": "34"
                                },
                                {
                                    "SZALLAS_NEV": "Gold Hotel",
                                    "METTOL": "2016-06-07",
                                    "(No column name)": "34"
                                },
                                {
                                    "SZALLAS_NEV": "Gold Hotel",
                                    "METTOL": "2016-06-07",
                                    "(No column name)": "34"
                                },
                                {
                                    "SZALLAS_NEV": "Gold Hotel",
                                    "METTOL": "2016-06-07",
                                    "(No column name)": "34"
                                },
                                {
                                    "SZALLAS_NEV": "Gold Hotel",
                                    "METTOL": "2016-06-08",
                                    "(No column name)": "35"
                                },
                                {
                                    "SZALLAS_NEV": "Gold Hotel",
                                    "METTOL": "2016-06-09",
                                    "(No column name)": "36"
                                },
                                {
                                    "SZALLAS_NEV": "Gold Hotel",
                                    "METTOL": "2016-06-10",
                                    "(No column name)": "37"
                                },
                                {
                                    "SZALLAS_NEV": "Gold Hotel",
                                    "METTOL": "2016-06-11",
                                    "(No column name)": "38"
                                },
                                {
                                    "SZALLAS_NEV": "Gold Hotel",
                                    "METTOL": "2016-06-13",
                                    "(No column name)": "40"
                                },
                                {
                                    "SZALLAS_NEV": "Gold Hotel",
                                    "METTOL": "2016-06-13",
                                    "(No column name)": "40"
                                },
                                {
                                    "SZALLAS_NEV": "Gold Hotel",
                                    "METTOL": "2016-06-20",
                                    "(No column name)": "41"
                                },
                                {
                                    "SZALLAS_NEV": "Gold Hotel",
                                    "METTOL": "2016-06-22",
                                    "(No column name)": "43"
                                },
                                {
                                    "SZALLAS_NEV": "Gold Hotel",
                                    "METTOL": "2016-06-22",
                                    "(No column name)": "43"
                                },
                                {
                                    "SZALLAS_NEV": "Gold Hotel",
                                    "METTOL": "2016-06-23",
                                    "(No column name)": "44"
                                },
                                {
                                    "SZALLAS_NEV": "Gold Hotel",
                                    "METTOL": "2016-06-24",
                                    "(No column name)": "45"
                                },
                                {
                                    "SZALLAS_NEV": "Gold Hotel",
                                    "METTOL": "2016-06-27",
                                    "(No column name)": "46"
                                },
                                {
                                    "SZALLAS_NEV": "Gold Hotel",
                                    "METTOL": "2016-06-28",
                                    "(No column name)": "47"
                                },
                                {
                                    "SZALLAS_NEV": "Gold Hotel",
                                    "METTOL": "2016-06-30",
                                    "(No column name)": "48"
                                },
                                {
                                    "SZALLAS_NEV": "Gold Hotel",
                                    "METTOL": "2016-07-04",
                                    "(No column name)": "50"
                                },
                                {
                                    "SZALLAS_NEV": "Gold Hotel",
                                    "METTOL": "2016-07-04",
                                    "(No column name)": "50"
                                },
                                {
                                    "SZALLAS_NEV": "Gold Hotel",
                                    "METTOL": "2016-07-06",
                                    "(No column name)": "51"
                                },
                                {
                                    "SZALLAS_NEV": "Gold Hotel",
                                    "METTOL": "2016-07-08",
                                    "(No column name)": "52"
                                },
                                {
                                    "SZALLAS_NEV": "Gold Hotel",
                                    "METTOL": "2016-07-09",
                                    "(No column name)": "53"
                                },
                                {
                                    "SZALLAS_NEV": "Gold Hotel",
                                    "METTOL": "2016-07-10",
                                    "(No column name)": "54"
                                },
                                {
                                    "SZALLAS_NEV": "Gold Hotel",
                                    "METTOL": "2016-07-14",
                                    "(No column name)": "57"
                                },
                                {
                                    "SZALLAS_NEV": "Gold Hotel",
                                    "METTOL": "2016-07-14",
                                    "(No column name)": "57"
                                },
                                {
                                    "SZALLAS_NEV": "Gold Hotel",
                                    "METTOL": "2016-07-14",
                                    "(No column name)": "57"
                                },
                                {
                                    "SZALLAS_NEV": "Gold Hotel",
                                    "METTOL": "2016-07-15",
                                    "(No column name)": "58"
                                },
                                {
                                    "SZALLAS_NEV": "Gold Hotel",
                                    "METTOL": "2016-07-16",
                                    "(No column name)": "59"
                                },
                                {
                                    "SZALLAS_NEV": "Gold Hotel",
                                    "METTOL": "2016-07-17",
                                    "(No column name)": "61"
                                },
                                {
                                    "SZALLAS_NEV": "Gold Hotel",
                                    "METTOL": "2016-07-17",
                                    "(No column name)": "61"
                                },
                                {
                                    "SZALLAS_NEV": "Gold Hotel",
                                    "METTOL": "2016-07-18",
                                    "(No column name)": "63"
                                },
                                {
                                    "SZALLAS_NEV": "Gold Hotel",
                                    "METTOL": "2016-07-18",
                                    "(No column name)": "63"
                                },
                                {
                                    "SZALLAS_NEV": "Gold Hotel",
                                    "METTOL": "2016-07-19",
                                    "(No column name)": "64"
                                },
                                {
                                    "SZALLAS_NEV": "Gold Hotel",
                                    "METTOL": "2016-07-20",
                                    "(No column name)": "67"
                                },
                                {
                                    "SZALLAS_NEV": "Gold Hotel",
                                    "METTOL": "2016-07-20",
                                    "(No column name)": "67"
                                },
                                {
                                    "SZALLAS_NEV": "Gold Hotel",
                                    "METTOL": "2016-07-20",
                                    "(No column name)": "67"
                                },
                                {
                                    "SZALLAS_NEV": "Gold Hotel",
                                    "METTOL": "2016-07-24",
                                    "(No column name)": "70"
                                },
                                {
                                    "SZALLAS_NEV": "Gold Hotel",
                                    "METTOL": "2016-07-24",
                                    "(No column name)": "70"
                                },
                                {
                                    "SZALLAS_NEV": "Gold Hotel",
                                    "METTOL": "2016-07-24",
                                    "(No column name)": "70"
                                },
                                {
                                    "SZALLAS_NEV": "Gold Hotel",
                                    "METTOL": "2016-07-27",
                                    "(No column name)": "71"
                                },
                                {
                                    "SZALLAS_NEV": "Gold Hotel",
                                    "METTOL": "2016-07-28",
                                    "(No column name)": "72"
                                },
                                {
                                    "SZALLAS_NEV": "Gold Hotel",
                                    "METTOL": "2016-07-30",
                                    "(No column name)": "73"
                                },
                                {
                                    "SZALLAS_NEV": "Gold Hotel",
                                    "METTOL": "2016-07-31",
                                    "(No column name)": "74"
                                },
                                {
                                    "SZALLAS_NEV": "Gold Hotel",
                                    "METTOL": "2016-08-01",
                                    "(No column name)": "76"
                                },
                                {
                                    "SZALLAS_NEV": "Gold Hotel",
                                    "METTOL": "2016-08-01",
                                    "(No column name)": "76"
                                },
                                {
                                    "SZALLAS_NEV": "Gold Hotel",
                                    "METTOL": "2016-08-02",
                                    "(No column name)": "77"
                                },
                                {
                                    "SZALLAS_NEV": "Gold Hotel",
                                    "METTOL": "2016-08-03",
                                    "(No column name)": "78"
                                },
                                {
                                    "SZALLAS_NEV": "Gold Hotel",
                                    "METTOL": "2016-08-09",
                                    "(No column name)": "79"
                                },
                                {
                                    "SZALLAS_NEV": "Gold Hotel",
                                    "METTOL": "2016-08-10",
                                    "(No column name)": "80"
                                },
                                {
                                    "SZALLAS_NEV": "Gold Hotel",
                                    "METTOL": "2016-08-13",
                                    "(No column name)": "81"
                                },
                                {
                                    "SZALLAS_NEV": "Gold Hotel",
                                    "METTOL": "2016-08-16",
                                    "(No column name)": "84"
                                },
                                {
                                    "SZALLAS_NEV": "Gold Hotel",
                                    "METTOL": "2016-08-16",
                                    "(No column name)": "84"
                                },
                                {
                                    "SZALLAS_NEV": "Gold Hotel",
                                    "METTOL": "2016-08-16",
                                    "(No column name)": "84"
                                },
                                {
                                    "SZALLAS_NEV": "Gold Hotel",
                                    "METTOL": "2016-08-17",
                                    "(No column name)": "85"
                                },
                                {
                                    "SZALLAS_NEV": "Gold Hotel",
                                    "METTOL": "2016-08-19",
                                    "(No column name)": "86"
                                },
                                {
                                    "SZALLAS_NEV": "Gold Hotel",
                                    "METTOL": "2016-08-24",
                                    "(No column name)": "87"
                                },
                                {
                                    "SZALLAS_NEV": "Gold Hotel",
                                    "METTOL": "2016-08-28",
                                    "(No column name)": "88"
                                },
                                {
                                    "SZALLAS_NEV": "Gold Hotel",
                                    "METTOL": "2016-08-29",
                                    "(No column name)": "90"
                                },
                                {
                                    "SZALLAS_NEV": "Gold Hotel",
                                    "METTOL": "2016-08-29",
                                    "(No column name)": "90"
                                },
                                {
                                    "SZALLAS_NEV": "Gold Hotel",
                                    "METTOL": "2016-08-31",
                                    "(No column name)": "91"
                                },
                                {
                                    "SZALLAS_NEV": "Gold Hotel",
                                    "METTOL": "2016-09-05",
                                    "(No column name)": "92"
                                },
                                {
                                    "SZALLAS_NEV": "Gold Hotel",
                                    "METTOL": "2016-09-09",
                                    "(No column name)": "93"
                                },
                                {
                                    "SZALLAS_NEV": "Gold Hotel",
                                    "METTOL": "2016-09-11",
                                    "(No column name)": "94"
                                },
                                {
                                    "SZALLAS_NEV": "Gold Hotel",
                                    "METTOL": "2016-09-18",
                                    "(No column name)": "95"
                                },
                                {
                                    "SZALLAS_NEV": "Gold Hotel",
                                    "METTOL": "2016-09-19",
                                    "(No column name)": "96"
                                },
                                {
                                    "SZALLAS_NEV": "Gold Hotel",
                                    "METTOL": "2016-09-22",
                                    "(No column name)": "97"
                                },
                                {
                                    "SZALLAS_NEV": "Gold Hotel",
                                    "METTOL": "2016-09-30",
                                    "(No column name)": "100"
                                },
                                {
                                    "SZALLAS_NEV": "Gold Hotel",
                                    "METTOL": "2016-09-30",
                                    "(No column name)": "100"
                                },
                                {
                                    "SZALLAS_NEV": "Gold Hotel",
                                    "METTOL": "2016-09-30",
                                    "(No column name)": "100"
                                },
                                {
                                    "SZALLAS_NEV": "Gold Hotel",
                                    "METTOL": "2016-10-03",
                                    "(No column name)": "101"
                                },
                                {
                                    "SZALLAS_NEV": "Gold Hotel",
                                    "METTOL": "2016-10-06",
                                    "(No column name)": "102"
                                },
                                {
                                    "SZALLAS_NEV": "Gold Hotel",
                                    "METTOL": "2016-10-08",
                                    "(No column name)": "103"
                                },
                                {
                                    "SZALLAS_NEV": "Gold Hotel",
                                    "METTOL": "2016-10-09",
                                    "(No column name)": "107"
                                },
                                {
                                    "SZALLAS_NEV": "Gold Hotel",
                                    "METTOL": "2016-10-09",
                                    "(No column name)": "107"
                                },
                                {
                                    "SZALLAS_NEV": "Gold Hotel",
                                    "METTOL": "2016-10-09",
                                    "(No column name)": "107"
                                },
                                {
                                    "SZALLAS_NEV": "Gold Hotel",
                                    "METTOL": "2016-10-09",
                                    "(No column name)": "107"
                                },
                                {
                                    "SZALLAS_NEV": "Gold Hotel",
                                    "METTOL": "2016-10-10",
                                    "(No column name)": "108"
                                },
                                {
                                    "SZALLAS_NEV": "Gold Hotel",
                                    "METTOL": "2016-10-15",
                                    "(No column name)": "109"
                                },
                                {
                                    "SZALLAS_NEV": "Gold Hotel",
                                    "METTOL": "2016-10-17",
                                    "(No column name)": "110"
                                },
                                {
                                    "SZALLAS_NEV": "Gold Hotel",
                                    "METTOL": "2016-10-20",
                                    "(No column name)": "112"
                                },
                                {
                                    "SZALLAS_NEV": "Gold Hotel",
                                    "METTOL": "2016-10-20",
                                    "(No column name)": "112"
                                },
                                {
                                    "SZALLAS_NEV": "Gold Hotel",
                                    "METTOL": "2016-10-21",
                                    "(No column name)": "113"
                                },
                                {
                                    "SZALLAS_NEV": "Gold Hotel",
                                    "METTOL": "2016-10-23",
                                    "(No column name)": "116"
                                },
                                {
                                    "SZALLAS_NEV": "Gold Hotel",
                                    "METTOL": "2016-10-23",
                                    "(No column name)": "116"
                                },
                                {
                                    "SZALLAS_NEV": "Gold Hotel",
                                    "METTOL": "2016-10-23",
                                    "(No column name)": "116"
                                },
                                {
                                    "SZALLAS_NEV": "Gold Hotel",
                                    "METTOL": "2016-10-24",
                                    "(No column name)": "117"
                                },
                                {
                                    "SZALLAS_NEV": "Gold Hotel",
                                    "METTOL": "2016-10-26",
                                    "(No column name)": "118"
                                },
                                {
                                    "SZALLAS_NEV": "Gold Hotel",
                                    "METTOL": "2016-10-27",
                                    "(No column name)": "119"
                                },
                                {
                                    "SZALLAS_NEV": "Gold Hotel",
                                    "METTOL": "2016-10-28",
                                    "(No column name)": "120"
                                },
                                {
                                    "SZALLAS_NEV": "Gold Hotel",
                                    "METTOL": "2016-10-29",
                                    "(No column name)": "121"
                                },
                                {
                                    "SZALLAS_NEV": "Gold Hotel",
                                    "METTOL": "2016-10-30",
                                    "(No column name)": "123"
                                },
                                {
                                    "SZALLAS_NEV": "Gold Hotel",
                                    "METTOL": "2016-10-30",
                                    "(No column name)": "123"
                                },
                                {
                                    "SZALLAS_NEV": "Gold Hotel",
                                    "METTOL": "2016-11-03",
                                    "(No column name)": "125"
                                },
                                {
                                    "SZALLAS_NEV": "Gold Hotel",
                                    "METTOL": "2016-11-03",
                                    "(No column name)": "125"
                                },
                                {
                                    "SZALLAS_NEV": "Gold Hotel",
                                    "METTOL": "2016-11-05",
                                    "(No column name)": "128"
                                },
                                {
                                    "SZALLAS_NEV": "Gold Hotel",
                                    "METTOL": "2016-11-05",
                                    "(No column name)": "128"
                                },
                                {
                                    "SZALLAS_NEV": "Gold Hotel",
                                    "METTOL": "2016-11-05",
                                    "(No column name)": "128"
                                },
                                {
                                    "SZALLAS_NEV": "Gold Hotel",
                                    "METTOL": "2016-11-08",
                                    "(No column name)": "129"
                                },
                                {
                                    "SZALLAS_NEV": "Gold Hotel",
                                    "METTOL": "2016-11-09",
                                    "(No column name)": "130"
                                },
                                {
                                    "SZALLAS_NEV": "Gold Hotel",
                                    "METTOL": "2016-11-12",
                                    "(No column name)": "131"
                                },
                                {
                                    "SZALLAS_NEV": "Gold Hotel",
                                    "METTOL": "2016-11-13",
                                    "(No column name)": "132"
                                },
                                {
                                    "SZALLAS_NEV": "Gold Hotel",
                                    "METTOL": "2016-11-22",
                                    "(No column name)": "134"
                                },
                                {
                                    "SZALLAS_NEV": "Gold Hotel",
                                    "METTOL": "2016-11-22",
                                    "(No column name)": "134"
                                },
                                {
                                    "SZALLAS_NEV": "Gold Hotel",
                                    "METTOL": "2016-11-23",
                                    "(No column name)": "136"
                                },
                                {
                                    "SZALLAS_NEV": "Gold Hotel",
                                    "METTOL": "2016-11-23",
                                    "(No column name)": "136"
                                },
                                {
                                    "SZALLAS_NEV": "Gold Hotel",
                                    "METTOL": "2016-11-25",
                                    "(No column name)": "137"
                                },
                                {
                                    "SZALLAS_NEV": "Gold Hotel",
                                    "METTOL": "2016-11-27",
                                    "(No column name)": "138"
                                },
                                {
                                    "SZALLAS_NEV": "Gold Hotel",
                                    "METTOL": "2016-11-28",
                                    "(No column name)": "139"
                                },
                                {
                                    "SZALLAS_NEV": "Gold Hotel",
                                    "METTOL": "2016-11-29",
                                    "(No column name)": "140"
                                },
                                {
                                    "SZALLAS_NEV": "Gold Hotel",
                                    "METTOL": "2016-12-02",
                                    "(No column name)": "141"
                                },
                                {
                                    "SZALLAS_NEV": "Gold Hotel",
                                    "METTOL": "2016-12-04",
                                    "(No column name)": "143"
                                },
                                {
                                    "SZALLAS_NEV": "Gold Hotel",
                                    "METTOL": "2016-12-04",
                                    "(No column name)": "143"
                                },
                                {
                                    "SZALLAS_NEV": "Gold Hotel",
                                    "METTOL": "2016-12-05",
                                    "(No column name)": "144"
                                },
                                {
                                    "SZALLAS_NEV": "Gold Hotel",
                                    "METTOL": "2016-12-06",
                                    "(No column name)": "145"
                                },
                                {
                                    "SZALLAS_NEV": "Gold Hotel",
                                    "METTOL": "2016-12-09",
                                    "(No column name)": "146"
                                },
                                {
                                    "SZALLAS_NEV": "Gold Hotel",
                                    "METTOL": "2016-12-17",
                                    "(No column name)": "147"
                                },
                                {
                                    "SZALLAS_NEV": "Gold Hotel",
                                    "METTOL": "2016-12-22",
                                    "(No column name)": "148"
                                },
                                {
                                    "SZALLAS_NEV": "Gold Hotel",
                                    "METTOL": "2016-12-24",
                                    "(No column name)": "149"
                                },
                                {
                                    "SZALLAS_NEV": "Gold Hotel",
                                    "METTOL": "2016-12-25",
                                    "(No column name)": "150"
                                },
                                {
                                    "SZALLAS_NEV": "Gold Hotel",
                                    "METTOL": "2016-12-29",
                                    "(No column name)": "151"
                                },
                                {
                                    "SZALLAS_NEV": "Gold Hotel",
                                    "METTOL": "2016-12-30",
                                    "(No column name)": "152"
                                },
                                {
                                    "SZALLAS_NEV": "Gold Hotel",
                                    "METTOL": "2017-01-01",
                                    "(No column name)": "153"
                                },
                                {
                                    "SZALLAS_NEV": "Gold Hotel",
                                    "METTOL": "2017-01-02",
                                    "(No column name)": "154"
                                },
                                {
                                    "SZALLAS_NEV": "Gold Hotel",
                                    "METTOL": "2017-01-05",
                                    "(No column name)": "156"
                                },
                                {
                                    "SZALLAS_NEV": "Gold Hotel",
                                    "METTOL": "2017-01-05",
                                    "(No column name)": "156"
                                },
                                {
                                    "SZALLAS_NEV": "Gold Hotel",
                                    "METTOL": "2017-01-06",
                                    "(No column name)": "157"
                                },
                                {
                                    "SZALLAS_NEV": "Gold Hotel",
                                    "METTOL": "2017-01-09",
                                    "(No column name)": "159"
                                },
                                {
                                    "SZALLAS_NEV": "Gold Hotel",
                                    "METTOL": "2017-01-09",
                                    "(No column name)": "159"
                                },
                                {
                                    "SZALLAS_NEV": "Gold Hotel",
                                    "METTOL": "2017-01-13",
                                    "(No column name)": "160"
                                },
                                {
                                    "SZALLAS_NEV": "Gold Hotel",
                                    "METTOL": "2017-01-16",
                                    "(No column name)": "161"
                                },
                                {
                                    "SZALLAS_NEV": "Gold Hotel",
                                    "METTOL": "2017-01-17",
                                    "(No column name)": "162"
                                },
                                {
                                    "SZALLAS_NEV": "Gold Hotel",
                                    "METTOL": "2017-01-22",
                                    "(No column name)": "164"
                                },
                                {
                                    "SZALLAS_NEV": "Gold Hotel",
                                    "METTOL": "2017-01-22",
                                    "(No column name)": "164"
                                },
                                {
                                    "SZALLAS_NEV": "Gold Hotel",
                                    "METTOL": "2017-01-24",
                                    "(No column name)": "165"
                                },
                                {
                                    "SZALLAS_NEV": "Gold Hotel",
                                    "METTOL": "2017-01-30",
                                    "(No column name)": "166"
                                },
                                {
                                    "SZALLAS_NEV": "Gold Hotel",
                                    "METTOL": "2017-02-03",
                                    "(No column name)": "167"
                                },
                                {
                                    "SZALLAS_NEV": "Gold Hotel",
                                    "METTOL": "2017-02-04",
                                    "(No column name)": "168"
                                },
                                {
                                    "SZALLAS_NEV": "Gold Hotel",
                                    "METTOL": "2017-02-05",
                                    "(No column name)": "170"
                                },
                                {
                                    "SZALLAS_NEV": "Gold Hotel",
                                    "METTOL": "2017-02-05",
                                    "(No column name)": "170"
                                },
                                {
                                    "SZALLAS_NEV": "Gold Hotel",
                                    "METTOL": "2017-02-08",
                                    "(No column name)": "172"
                                },
                                {
                                    "SZALLAS_NEV": "Gold Hotel",
                                    "METTOL": "2017-02-08",
                                    "(No column name)": "172"
                                },
                                {
                                    "SZALLAS_NEV": "Gold Hotel",
                                    "METTOL": "2017-02-11",
                                    "(No column name)": "173"
                                },
                                {
                                    "SZALLAS_NEV": "Gold Hotel",
                                    "METTOL": "2017-02-12",
                                    "(No column name)": "174"
                                },
                                {
                                    "SZALLAS_NEV": "Gold Hotel",
                                    "METTOL": "2017-02-22",
                                    "(No column name)": "175"
                                },
                                {
                                    "SZALLAS_NEV": "Gold Hotel",
                                    "METTOL": "2017-02-23",
                                    "(No column name)": "176"
                                },
                                {
                                    "SZALLAS_NEV": "Gold Hotel",
                                    "METTOL": "2017-02-24",
                                    "(No column name)": "178"
                                },
                                {
                                    "SZALLAS_NEV": "Gold Hotel",
                                    "METTOL": "2017-02-24",
                                    "(No column name)": "178"
                                },
                                {
                                    "SZALLAS_NEV": "Gold Hotel",
                                    "METTOL": "2017-02-26",
                                    "(No column name)": "179"
                                },
                                {
                                    "SZALLAS_NEV": "Hotel Három Hattyú",
                                    "METTOL": "2016-04-11",
                                    "(No column name)": "1"
                                },
                                {
                                    "SZALLAS_NEV": "Hotel Három Hattyú",
                                    "METTOL": "2016-04-18",
                                    "(No column name)": "2"
                                },
                                {
                                    "SZALLAS_NEV": "Hotel Három Hattyú",
                                    "METTOL": "2016-04-19",
                                    "(No column name)": "3"
                                },
                                {
                                    "SZALLAS_NEV": "Hotel Három Hattyú",
                                    "METTOL": "2016-04-23",
                                    "(No column name)": "5"
                                },
                                {
                                    "SZALLAS_NEV": "Hotel Három Hattyú",
                                    "METTOL": "2016-04-23",
                                    "(No column name)": "5"
                                },
                                {
                                    "SZALLAS_NEV": "Hotel Három Hattyú",
                                    "METTOL": "2016-04-27",
                                    "(No column name)": "6"
                                },
                                {
                                    "SZALLAS_NEV": "Hotel Három Hattyú",
                                    "METTOL": "2016-04-28",
                                    "(No column name)": "7"
                                },
                                {
                                    "SZALLAS_NEV": "Hotel Három Hattyú",
                                    "METTOL": "2016-04-30",
                                    "(No column name)": "8"
                                },
                                {
                                    "SZALLAS_NEV": "Hotel Három Hattyú",
                                    "METTOL": "2016-05-01",
                                    "(No column name)": "10"
                                },
                                {
                                    "SZALLAS_NEV": "Hotel Három Hattyú",
                                    "METTOL": "2016-05-01",
                                    "(No column name)": "10"
                                },
                                {
                                    "SZALLAS_NEV": "Hotel Három Hattyú",
                                    "METTOL": "2016-05-02",
                                    "(No column name)": "12"
                                },
                                {
                                    "SZALLAS_NEV": "Hotel Három Hattyú",
                                    "METTOL": "2016-05-02",
                                    "(No column name)": "12"
                                },
                                {
                                    "SZALLAS_NEV": "Hotel Három Hattyú",
                                    "METTOL": "2016-05-03",
                                    "(No column name)": "13"
                                },
                                {
                                    "SZALLAS_NEV": "Hotel Három Hattyú",
                                    "METTOL": "2016-05-06",
                                    "(No column name)": "14"
                                },
                                {
                                    "SZALLAS_NEV": "Hotel Három Hattyú",
                                    "METTOL": "2016-05-08",
                                    "(No column name)": "15"
                                },
                                {
                                    "SZALLAS_NEV": "Hotel Három Hattyú",
                                    "METTOL": "2016-05-09",
                                    "(No column name)": "17"
                                },
                                {
                                    "SZALLAS_NEV": "Hotel Három Hattyú",
                                    "METTOL": "2016-05-09",
                                    "(No column name)": "17"
                                },
                                {
                                    "SZALLAS_NEV": "Hotel Három Hattyú",
                                    "METTOL": "2016-05-10",
                                    "(No column name)": "19"
                                },
                                {
                                    "SZALLAS_NEV": "Hotel Három Hattyú",
                                    "METTOL": "2016-05-10",
                                    "(No column name)": "19"
                                },
                                {
                                    "SZALLAS_NEV": "Hotel Három Hattyú",
                                    "METTOL": "2016-05-11",
                                    "(No column name)": "20"
                                },
                                {
                                    "SZALLAS_NEV": "Hotel Három Hattyú",
                                    "METTOL": "2016-05-14",
                                    "(No column name)": "21"
                                },
                                {
                                    "SZALLAS_NEV": "Hotel Három Hattyú",
                                    "METTOL": "2016-05-18",
                                    "(No column name)": "22"
                                },
                                {
                                    "SZALLAS_NEV": "Hotel Három Hattyú",
                                    "METTOL": "2016-05-19",
                                    "(No column name)": "23"
                                },
                                {
                                    "SZALLAS_NEV": "Hotel Három Hattyú",
                                    "METTOL": "2016-05-24",
                                    "(No column name)": "24"
                                },
                                {
                                    "SZALLAS_NEV": "Hotel Három Hattyú",
                                    "METTOL": "2016-05-25",
                                    "(No column name)": "25"
                                },
                                {
                                    "SZALLAS_NEV": "Hotel Három Hattyú",
                                    "METTOL": "2016-05-27",
                                    "(No column name)": "26"
                                },
                                {
                                    "SZALLAS_NEV": "Hotel Három Hattyú",
                                    "METTOL": "2016-05-28",
                                    "(No column name)": "27"
                                },
                                {
                                    "SZALLAS_NEV": "Hotel Három Hattyú",
                                    "METTOL": "2016-05-30",
                                    "(No column name)": "29"
                                },
                                {
                                    "SZALLAS_NEV": "Hotel Három Hattyú",
                                    "METTOL": "2016-05-30",
                                    "(No column name)": "29"
                                },
                                {
                                    "SZALLAS_NEV": "Hotel Három Hattyú",
                                    "METTOL": "2016-06-06",
                                    "(No column name)": "30"
                                },
                                {
                                    "SZALLAS_NEV": "Hotel Három Hattyú",
                                    "METTOL": "2016-06-07",
                                    "(No column name)": "32"
                                },
                                {
                                    "SZALLAS_NEV": "Hotel Három Hattyú",
                                    "METTOL": "2016-06-07",
                                    "(No column name)": "32"
                                },
                                {
                                    "SZALLAS_NEV": "Hotel Három Hattyú",
                                    "METTOL": "2016-06-10",
                                    "(No column name)": "34"
                                },
                                {
                                    "SZALLAS_NEV": "Hotel Három Hattyú",
                                    "METTOL": "2016-06-10",
                                    "(No column name)": "34"
                                },
                                {
                                    "SZALLAS_NEV": "Hotel Három Hattyú",
                                    "METTOL": "2016-06-12",
                                    "(No column name)": "35"
                                },
                                {
                                    "SZALLAS_NEV": "Hotel Három Hattyú",
                                    "METTOL": "2016-06-14",
                                    "(No column name)": "36"
                                },
                                {
                                    "SZALLAS_NEV": "Hotel Három Hattyú",
                                    "METTOL": "2016-06-16",
                                    "(No column name)": "40"
                                },
                                {
                                    "SZALLAS_NEV": "Hotel Három Hattyú",
                                    "METTOL": "2016-06-16",
                                    "(No column name)": "40"
                                },
                                {
                                    "SZALLAS_NEV": "Hotel Három Hattyú",
                                    "METTOL": "2016-06-16",
                                    "(No column name)": "40"
                                },
                                {
                                    "SZALLAS_NEV": "Hotel Három Hattyú",
                                    "METTOL": "2016-06-16",
                                    "(No column name)": "40"
                                },
                                {
                                    "SZALLAS_NEV": "Hotel Három Hattyú",
                                    "METTOL": "2016-06-19",
                                    "(No column name)": "41"
                                },
                                {
                                    "SZALLAS_NEV": "Hotel Három Hattyú",
                                    "METTOL": "2016-06-21",
                                    "(No column name)": "42"
                                },
                                {
                                    "SZALLAS_NEV": "Hotel Három Hattyú",
                                    "METTOL": "2016-06-29",
                                    "(No column name)": "43"
                                },
                                {
                                    "SZALLAS_NEV": "Hotel Három Hattyú",
                                    "METTOL": "2016-06-30",
                                    "(No column name)": "44"
                                },
                                {
                                    "SZALLAS_NEV": "Hotel Három Hattyú",
                                    "METTOL": "2016-07-01",
                                    "(No column name)": "46"
                                },
                                {
                                    "SZALLAS_NEV": "Hotel Három Hattyú",
                                    "METTOL": "2016-07-01",
                                    "(No column name)": "46"
                                },
                                {
                                    "SZALLAS_NEV": "Hotel Három Hattyú",
                                    "METTOL": "2016-07-03",
                                    "(No column name)": "47"
                                },
                                {
                                    "SZALLAS_NEV": "Hotel Három Hattyú",
                                    "METTOL": "2016-07-04",
                                    "(No column name)": "48"
                                },
                                {
                                    "SZALLAS_NEV": "Hotel Három Hattyú",
                                    "METTOL": "2016-07-07",
                                    "(No column name)": "49"
                                },
                                {
                                    "SZALLAS_NEV": "Hotel Három Hattyú",
                                    "METTOL": "2016-07-12",
                                    "(No column name)": "50"
                                },
                                {
                                    "SZALLAS_NEV": "Hotel Három Hattyú",
                                    "METTOL": "2016-07-13",
                                    "(No column name)": "51"
                                },
                                {
                                    "SZALLAS_NEV": "Hotel Három Hattyú",
                                    "METTOL": "2016-07-14",
                                    "(No column name)": "52"
                                },
                                {
                                    "SZALLAS_NEV": "Hotel Három Hattyú",
                                    "METTOL": "2016-07-18",
                                    "(No column name)": "53"
                                },
                                {
                                    "SZALLAS_NEV": "Hotel Három Hattyú",
                                    "METTOL": "2016-07-19",
                                    "(No column name)": "54"
                                },
                                {
                                    "SZALLAS_NEV": "Hotel Három Hattyú",
                                    "METTOL": "2016-07-20",
                                    "(No column name)": "55"
                                },
                                {
                                    "SZALLAS_NEV": "Hotel Három Hattyú",
                                    "METTOL": "2016-07-22",
                                    "(No column name)": "56"
                                },
                                {
                                    "SZALLAS_NEV": "Hotel Három Hattyú",
                                    "METTOL": "2016-07-23",
                                    "(No column name)": "57"
                                },
                                {
                                    "SZALLAS_NEV": "Hotel Három Hattyú",
                                    "METTOL": "2016-07-25",
                                    "(No column name)": "58"
                                },
                                {
                                    "SZALLAS_NEV": "Hotel Három Hattyú",
                                    "METTOL": "2016-07-26",
                                    "(No column name)": "60"
                                },
                                {
                                    "SZALLAS_NEV": "Hotel Három Hattyú",
                                    "METTOL": "2016-07-26",
                                    "(No column name)": "60"
                                },
                                {
                                    "SZALLAS_NEV": "Hotel Három Hattyú",
                                    "METTOL": "2016-07-27",
                                    "(No column name)": "65"
                                },
                                {
                                    "SZALLAS_NEV": "Hotel Három Hattyú",
                                    "METTOL": "2016-07-27",
                                    "(No column name)": "65"
                                },
                                {
                                    "SZALLAS_NEV": "Hotel Három Hattyú",
                                    "METTOL": "2016-07-27",
                                    "(No column name)": "65"
                                },
                                {
                                    "SZALLAS_NEV": "Hotel Három Hattyú",
                                    "METTOL": "2016-07-27",
                                    "(No column name)": "65"
                                },
                                {
                                    "SZALLAS_NEV": "Hotel Három Hattyú",
                                    "METTOL": "2016-07-27",
                                    "(No column name)": "65"
                                },
                                {
                                    "SZALLAS_NEV": "Hotel Három Hattyú",
                                    "METTOL": "2016-07-28",
                                    "(No column name)": "67"
                                },
                                {
                                    "SZALLAS_NEV": "Hotel Három Hattyú",
                                    "METTOL": "2016-07-28",
                                    "(No column name)": "67"
                                },
                                {
                                    "SZALLAS_NEV": "Hotel Három Hattyú",
                                    "METTOL": "2016-07-29",
                                    "(No column name)": "68"
                                },
                                {
                                    "SZALLAS_NEV": "Hotel Három Hattyú",
                                    "METTOL": "2016-07-30",
                                    "(No column name)": "70"
                                },
                                {
                                    "SZALLAS_NEV": "Hotel Három Hattyú",
                                    "METTOL": "2016-07-30",
                                    "(No column name)": "70"
                                },
                                {
                                    "SZALLAS_NEV": "Hotel Három Hattyú",
                                    "METTOL": "2016-08-04",
                                    "(No column name)": "71"
                                },
                                {
                                    "SZALLAS_NEV": "Hotel Három Hattyú",
                                    "METTOL": "2016-08-07",
                                    "(No column name)": "72"
                                },
                                {
                                    "SZALLAS_NEV": "Hotel Három Hattyú",
                                    "METTOL": "2016-08-14",
                                    "(No column name)": "73"
                                },
                                {
                                    "SZALLAS_NEV": "Hotel Három Hattyú",
                                    "METTOL": "2016-08-15",
                                    "(No column name)": "74"
                                },
                                {
                                    "SZALLAS_NEV": "Hotel Három Hattyú",
                                    "METTOL": "2016-08-16",
                                    "(No column name)": "75"
                                },
                                {
                                    "SZALLAS_NEV": "Hotel Három Hattyú",
                                    "METTOL": "2016-08-20",
                                    "(No column name)": "76"
                                },
                                {
                                    "SZALLAS_NEV": "Hotel Három Hattyú",
                                    "METTOL": "2016-08-21",
                                    "(No column name)": "77"
                                },
                                {
                                    "SZALLAS_NEV": "Hotel Három Hattyú",
                                    "METTOL": "2016-08-23",
                                    "(No column name)": "79"
                                },
                                {
                                    "SZALLAS_NEV": "Hotel Három Hattyú",
                                    "METTOL": "2016-08-23",
                                    "(No column name)": "79"
                                },
                                {
                                    "SZALLAS_NEV": "Hotel Három Hattyú",
                                    "METTOL": "2016-08-24",
                                    "(No column name)": "80"
                                },
                                {
                                    "SZALLAS_NEV": "Hotel Három Hattyú",
                                    "METTOL": "2016-08-26",
                                    "(No column name)": "81"
                                },
                                {
                                    "SZALLAS_NEV": "Hotel Három Hattyú",
                                    "METTOL": "2016-08-29",
                                    "(No column name)": "83"
                                },
                                {
                                    "SZALLAS_NEV": "Hotel Három Hattyú",
                                    "METTOL": "2016-08-29",
                                    "(No column name)": "83"
                                },
                                {
                                    "SZALLAS_NEV": "Hotel Három Hattyú",
                                    "METTOL": "2016-08-31",
                                    "(No column name)": "84"
                                },
                                {
                                    "SZALLAS_NEV": "Hotel Három Hattyú",
                                    "METTOL": "2016-09-05",
                                    "(No column name)": "85"
                                },
                                {
                                    "SZALLAS_NEV": "Hotel Három Hattyú",
                                    "METTOL": "2016-09-06",
                                    "(No column name)": "86"
                                },
                                {
                                    "SZALLAS_NEV": "Hotel Három Hattyú",
                                    "METTOL": "2016-09-08",
                                    "(No column name)": "87"
                                },
                                {
                                    "SZALLAS_NEV": "Hotel Három Hattyú",
                                    "METTOL": "2016-09-10",
                                    "(No column name)": "88"
                                },
                                {
                                    "SZALLAS_NEV": "Hotel Három Hattyú",
                                    "METTOL": "2016-09-13",
                                    "(No column name)": "91"
                                },
                                {
                                    "SZALLAS_NEV": "Hotel Három Hattyú",
                                    "METTOL": "2016-09-13",
                                    "(No column name)": "91"
                                },
                                {
                                    "SZALLAS_NEV": "Hotel Három Hattyú",
                                    "METTOL": "2016-09-13",
                                    "(No column name)": "91"
                                },
                                {
                                    "SZALLAS_NEV": "Hotel Három Hattyú",
                                    "METTOL": "2016-09-17",
                                    "(No column name)": "92"
                                },
                                {
                                    "SZALLAS_NEV": "Hotel Három Hattyú",
                                    "METTOL": "2016-09-20",
                                    "(No column name)": "93"
                                },
                                {
                                    "SZALLAS_NEV": "Hotel Három Hattyú",
                                    "METTOL": "2016-09-27",
                                    "(No column name)": "94"
                                },
                                {
                                    "SZALLAS_NEV": "Hotel Három Hattyú",
                                    "METTOL": "2016-09-28",
                                    "(No column name)": "95"
                                },
                                {
                                    "SZALLAS_NEV": "Hotel Három Hattyú",
                                    "METTOL": "2016-09-30",
                                    "(No column name)": "96"
                                },
                                {
                                    "SZALLAS_NEV": "Hotel Három Hattyú",
                                    "METTOL": "2016-10-01",
                                    "(No column name)": "99"
                                },
                                {
                                    "SZALLAS_NEV": "Hotel Három Hattyú",
                                    "METTOL": "2016-10-01",
                                    "(No column name)": "99"
                                },
                                {
                                    "SZALLAS_NEV": "Hotel Három Hattyú",
                                    "METTOL": "2016-10-01",
                                    "(No column name)": "99"
                                },
                                {
                                    "SZALLAS_NEV": "Hotel Három Hattyú",
                                    "METTOL": "2016-10-04",
                                    "(No column name)": "100"
                                },
                                {
                                    "SZALLAS_NEV": "Hotel Három Hattyú",
                                    "METTOL": "2016-10-06",
                                    "(No column name)": "101"
                                },
                                {
                                    "SZALLAS_NEV": "Hotel Három Hattyú",
                                    "METTOL": "2016-10-08",
                                    "(No column name)": "103"
                                },
                                {
                                    "SZALLAS_NEV": "Hotel Három Hattyú",
                                    "METTOL": "2016-10-08",
                                    "(No column name)": "103"
                                },
                                {
                                    "SZALLAS_NEV": "Hotel Három Hattyú",
                                    "METTOL": "2016-10-15",
                                    "(No column name)": "104"
                                },
                                {
                                    "SZALLAS_NEV": "Hotel Három Hattyú",
                                    "METTOL": "2016-10-17",
                                    "(No column name)": "105"
                                },
                                {
                                    "SZALLAS_NEV": "Hotel Három Hattyú",
                                    "METTOL": "2016-10-19",
                                    "(No column name)": "106"
                                },
                                {
                                    "SZALLAS_NEV": "Hotel Három Hattyú",
                                    "METTOL": "2016-10-20",
                                    "(No column name)": "107"
                                },
                                {
                                    "SZALLAS_NEV": "Hotel Három Hattyú",
                                    "METTOL": "2016-10-22",
                                    "(No column name)": "108"
                                },
                                {
                                    "SZALLAS_NEV": "Hotel Három Hattyú",
                                    "METTOL": "2016-10-26",
                                    "(No column name)": "109"
                                },
                                {
                                    "SZALLAS_NEV": "Hotel Három Hattyú",
                                    "METTOL": "2016-10-28",
                                    "(No column name)": "112"
                                },
                                {
                                    "SZALLAS_NEV": "Hotel Három Hattyú",
                                    "METTOL": "2016-10-28",
                                    "(No column name)": "112"
                                },
                                {
                                    "SZALLAS_NEV": "Hotel Három Hattyú",
                                    "METTOL": "2016-10-28",
                                    "(No column name)": "112"
                                },
                                {
                                    "SZALLAS_NEV": "Hotel Három Hattyú",
                                    "METTOL": "2016-10-29",
                                    "(No column name)": "114"
                                },
                                {
                                    "SZALLAS_NEV": "Hotel Három Hattyú",
                                    "METTOL": "2016-10-29",
                                    "(No column name)": "114"
                                },
                                {
                                    "SZALLAS_NEV": "Hotel Három Hattyú",
                                    "METTOL": "2016-10-30",
                                    "(No column name)": "117"
                                },
                                {
                                    "SZALLAS_NEV": "Hotel Három Hattyú",
                                    "METTOL": "2016-10-30",
                                    "(No column name)": "117"
                                },
                                {
                                    "SZALLAS_NEV": "Hotel Három Hattyú",
                                    "METTOL": "2016-10-30",
                                    "(No column name)": "117"
                                },
                                {
                                    "SZALLAS_NEV": "Hotel Három Hattyú",
                                    "METTOL": "2016-11-03",
                                    "(No column name)": "118"
                                },
                                {
                                    "SZALLAS_NEV": "Hotel Három Hattyú",
                                    "METTOL": "2016-11-04",
                                    "(No column name)": "119"
                                },
                                {
                                    "SZALLAS_NEV": "Hotel Három Hattyú",
                                    "METTOL": "2016-11-05",
                                    "(No column name)": "121"
                                },
                                {
                                    "SZALLAS_NEV": "Hotel Három Hattyú",
                                    "METTOL": "2016-11-05",
                                    "(No column name)": "121"
                                },
                                {
                                    "SZALLAS_NEV": "Hotel Három Hattyú",
                                    "METTOL": "2016-11-08",
                                    "(No column name)": "122"
                                },
                                {
                                    "SZALLAS_NEV": "Hotel Három Hattyú",
                                    "METTOL": "2016-11-10",
                                    "(No column name)": "123"
                                },
                                {
                                    "SZALLAS_NEV": "Hotel Három Hattyú",
                                    "METTOL": "2016-11-15",
                                    "(No column name)": "124"
                                },
                                {
                                    "SZALLAS_NEV": "Hotel Három Hattyú",
                                    "METTOL": "2016-11-16",
                                    "(No column name)": "125"
                                },
                                {
                                    "SZALLAS_NEV": "Hotel Három Hattyú",
                                    "METTOL": "2016-11-19",
                                    "(No column name)": "127"
                                },
                                {
                                    "SZALLAS_NEV": "Hotel Három Hattyú",
                                    "METTOL": "2016-11-19",
                                    "(No column name)": "127"
                                },
                                {
                                    "SZALLAS_NEV": "Hotel Három Hattyú",
                                    "METTOL": "2016-11-20",
                                    "(No column name)": "128"
                                },
                                {
                                    "SZALLAS_NEV": "Hotel Három Hattyú",
                                    "METTOL": "2016-11-22",
                                    "(No column name)": "129"
                                },
                                {
                                    "SZALLAS_NEV": "Hotel Három Hattyú",
                                    "METTOL": "2016-11-23",
                                    "(No column name)": "130"
                                },
                                {
                                    "SZALLAS_NEV": "Hotel Három Hattyú",
                                    "METTOL": "2016-11-24",
                                    "(No column name)": "131"
                                },
                                {
                                    "SZALLAS_NEV": "Hotel Három Hattyú",
                                    "METTOL": "2016-11-29",
                                    "(No column name)": "133"
                                },
                                {
                                    "SZALLAS_NEV": "Hotel Három Hattyú",
                                    "METTOL": "2016-11-29",
                                    "(No column name)": "133"
                                },
                                {
                                    "SZALLAS_NEV": "Hotel Három Hattyú",
                                    "METTOL": "2016-12-02",
                                    "(No column name)": "134"
                                },
                                {
                                    "SZALLAS_NEV": "Hotel Három Hattyú",
                                    "METTOL": "2016-12-03",
                                    "(No column name)": "135"
                                },
                                {
                                    "SZALLAS_NEV": "Hotel Három Hattyú",
                                    "METTOL": "2016-12-05",
                                    "(No column name)": "136"
                                },
                                {
                                    "SZALLAS_NEV": "Hotel Három Hattyú",
                                    "METTOL": "2016-12-07",
                                    "(No column name)": "139"
                                },
                                {
                                    "SZALLAS_NEV": "Hotel Három Hattyú",
                                    "METTOL": "2016-12-07",
                                    "(No column name)": "139"
                                },
                                {
                                    "SZALLAS_NEV": "Hotel Három Hattyú",
                                    "METTOL": "2016-12-07",
                                    "(No column name)": "139"
                                },
                                {
                                    "SZALLAS_NEV": "Hotel Három Hattyú",
                                    "METTOL": "2016-12-08",
                                    "(No column name)": "140"
                                },
                                {
                                    "SZALLAS_NEV": "Hotel Három Hattyú",
                                    "METTOL": "2016-12-13",
                                    "(No column name)": "141"
                                },
                                {
                                    "SZALLAS_NEV": "Hotel Három Hattyú",
                                    "METTOL": "2016-12-15",
                                    "(No column name)": "142"
                                },
                                {
                                    "SZALLAS_NEV": "Hotel Három Hattyú",
                                    "METTOL": "2016-12-17",
                                    "(No column name)": "146"
                                },
                                {
                                    "SZALLAS_NEV": "Hotel Három Hattyú",
                                    "METTOL": "2016-12-17",
                                    "(No column name)": "146"
                                },
                                {
                                    "SZALLAS_NEV": "Hotel Három Hattyú",
                                    "METTOL": "2016-12-17",
                                    "(No column name)": "146"
                                },
                                {
                                    "SZALLAS_NEV": "Hotel Három Hattyú",
                                    "METTOL": "2016-12-17",
                                    "(No column name)": "146"
                                },
                                {
                                    "SZALLAS_NEV": "Hotel Három Hattyú",
                                    "METTOL": "2016-12-18",
                                    "(No column name)": "147"
                                },
                                {
                                    "SZALLAS_NEV": "Hotel Három Hattyú",
                                    "METTOL": "2016-12-23",
                                    "(No column name)": "148"
                                },
                                {
                                    "SZALLAS_NEV": "Hotel Három Hattyú",
                                    "METTOL": "2016-12-25",
                                    "(No column name)": "153"
                                },
                                {
                                    "SZALLAS_NEV": "Hotel Három Hattyú",
                                    "METTOL": "2016-12-25",
                                    "(No column name)": "153"
                                },
                                {
                                    "SZALLAS_NEV": "Hotel Három Hattyú",
                                    "METTOL": "2016-12-25",
                                    "(No column name)": "153"
                                },
                                {
                                    "SZALLAS_NEV": "Hotel Három Hattyú",
                                    "METTOL": "2016-12-25",
                                    "(No column name)": "153"
                                },
                                {
                                    "SZALLAS_NEV": "Hotel Három Hattyú",
                                    "METTOL": "2016-12-25",
                                    "(No column name)": "153"
                                },
                                {
                                    "SZALLAS_NEV": "Hotel Három Hattyú",
                                    "METTOL": "2016-12-26",
                                    "(No column name)": "154"
                                },
                                {
                                    "SZALLAS_NEV": "Hotel Három Hattyú",
                                    "METTOL": "2016-12-28",
                                    "(No column name)": "155"
                                },
                                {
                                    "SZALLAS_NEV": "Hotel Három Hattyú",
                                    "METTOL": "2016-12-29",
                                    "(No column name)": "156"
                                },
                                {
                                    "SZALLAS_NEV": "Hotel Három Hattyú",
                                    "METTOL": "2016-12-31",
                                    "(No column name)": "157"
                                },
                                {
                                    "SZALLAS_NEV": "Hotel Három Hattyú",
                                    "METTOL": "2017-01-02",
                                    "(No column name)": "158"
                                },
                                {
                                    "SZALLAS_NEV": "Hotel Három Hattyú",
                                    "METTOL": "2017-01-03",
                                    "(No column name)": "159"
                                },
                                {
                                    "SZALLAS_NEV": "Hotel Három Hattyú",
                                    "METTOL": "2017-01-05",
                                    "(No column name)": "160"
                                },
                                {
                                    "SZALLAS_NEV": "Hotel Három Hattyú",
                                    "METTOL": "2017-01-07",
                                    "(No column name)": "161"
                                },
                                {
                                    "SZALLAS_NEV": "Hotel Három Hattyú",
                                    "METTOL": "2017-01-09",
                                    "(No column name)": "162"
                                },
                                {
                                    "SZALLAS_NEV": "Hotel Három Hattyú",
                                    "METTOL": "2017-01-14",
                                    "(No column name)": "163"
                                },
                                {
                                    "SZALLAS_NEV": "Hotel Három Hattyú",
                                    "METTOL": "2017-01-15",
                                    "(No column name)": "164"
                                },
                                {
                                    "SZALLAS_NEV": "Hotel Három Hattyú",
                                    "METTOL": "2017-01-16",
                                    "(No column name)": "165"
                                },
                                {
                                    "SZALLAS_NEV": "Hotel Három Hattyú",
                                    "METTOL": "2017-01-17",
                                    "(No column name)": "166"
                                },
                                {
                                    "SZALLAS_NEV": "Hotel Három Hattyú",
                                    "METTOL": "2017-01-18",
                                    "(No column name)": "167"
                                },
                                {
                                    "SZALLAS_NEV": "Hotel Három Hattyú",
                                    "METTOL": "2017-01-23",
                                    "(No column name)": "168"
                                },
                                {
                                    "SZALLAS_NEV": "Hotel Három Hattyú",
                                    "METTOL": "2017-01-24",
                                    "(No column name)": "169"
                                },
                                {
                                    "SZALLAS_NEV": "Hotel Három Hattyú",
                                    "METTOL": "2017-01-29",
                                    "(No column name)": "171"
                                },
                                {
                                    "SZALLAS_NEV": "Hotel Három Hattyú",
                                    "METTOL": "2017-01-29",
                                    "(No column name)": "171"
                                },
                                {
                                    "SZALLAS_NEV": "Hotel Három Hattyú",
                                    "METTOL": "2017-01-30",
                                    "(No column name)": "173"
                                },
                                {
                                    "SZALLAS_NEV": "Hotel Három Hattyú",
                                    "METTOL": "2017-01-30",
                                    "(No column name)": "173"
                                },
                                {
                                    "SZALLAS_NEV": "Hotel Három Hattyú",
                                    "METTOL": "2017-01-31",
                                    "(No column name)": "174"
                                },
                                {
                                    "SZALLAS_NEV": "Hotel Három Hattyú",
                                    "METTOL": "2017-02-01",
                                    "(No column name)": "175"
                                },
                                {
                                    "SZALLAS_NEV": "Hotel Három Hattyú",
                                    "METTOL": "2017-02-02",
                                    "(No column name)": "176"
                                },
                                {
                                    "SZALLAS_NEV": "Hotel Három Hattyú",
                                    "METTOL": "2017-02-04",
                                    "(No column name)": "179"
                                },
                                {
                                    "SZALLAS_NEV": "Hotel Három Hattyú",
                                    "METTOL": "2017-02-04",
                                    "(No column name)": "179"
                                },
                                {
                                    "SZALLAS_NEV": "Hotel Három Hattyú",
                                    "METTOL": "2017-02-04",
                                    "(No column name)": "179"
                                },
                                {
                                    "SZALLAS_NEV": "Hotel Három Hattyú",
                                    "METTOL": "2017-02-05",
                                    "(No column name)": "182"
                                },
                                {
                                    "SZALLAS_NEV": "Hotel Három Hattyú",
                                    "METTOL": "2017-02-05",
                                    "(No column name)": "182"
                                },
                                {
                                    "SZALLAS_NEV": "Hotel Három Hattyú",
                                    "METTOL": "2017-02-05",
                                    "(No column name)": "182"
                                },
                                {
                                    "SZALLAS_NEV": "Hotel Három Hattyú",
                                    "METTOL": "2017-02-08",
                                    "(No column name)": "184"
                                },
                                {
                                    "SZALLAS_NEV": "Hotel Három Hattyú",
                                    "METTOL": "2017-02-08",
                                    "(No column name)": "184"
                                },
                                {
                                    "SZALLAS_NEV": "Hotel Három Hattyú",
                                    "METTOL": "2017-02-10",
                                    "(No column name)": "185"
                                },
                                {
                                    "SZALLAS_NEV": "Hotel Három Hattyú",
                                    "METTOL": "2017-02-12",
                                    "(No column name)": "188"
                                },
                                {
                                    "SZALLAS_NEV": "Hotel Három Hattyú",
                                    "METTOL": "2017-02-12",
                                    "(No column name)": "188"
                                },
                                {
                                    "SZALLAS_NEV": "Hotel Három Hattyú",
                                    "METTOL": "2017-02-12",
                                    "(No column name)": "188"
                                },
                                {
                                    "SZALLAS_NEV": "Hotel Három Hattyú",
                                    "METTOL": "2017-02-13",
                                    "(No column name)": "192"
                                },
                                {
                                    "SZALLAS_NEV": "Hotel Három Hattyú",
                                    "METTOL": "2017-02-13",
                                    "(No column name)": "192"
                                },
                                {
                                    "SZALLAS_NEV": "Hotel Három Hattyú",
                                    "METTOL": "2017-02-13",
                                    "(No column name)": "192"
                                },
                                {
                                    "SZALLAS_NEV": "Hotel Három Hattyú",
                                    "METTOL": "2017-02-13",
                                    "(No column name)": "192"
                                },
                                {
                                    "SZALLAS_NEV": "Hotel Három Hattyú",
                                    "METTOL": "2017-02-14",
                                    "(No column name)": "193"
                                },
                                {
                                    "SZALLAS_NEV": "Hotel Három Hattyú",
                                    "METTOL": "2017-02-16",
                                    "(No column name)": "195"
                                },
                                {
                                    "SZALLAS_NEV": "Hotel Három Hattyú",
                                    "METTOL": "2017-02-16",
                                    "(No column name)": "195"
                                },
                                {
                                    "SZALLAS_NEV": "Hotel Három Hattyú",
                                    "METTOL": "2017-02-20",
                                    "(No column name)": "197"
                                },
                                {
                                    "SZALLAS_NEV": "Hotel Három Hattyú",
                                    "METTOL": "2017-02-20",
                                    "(No column name)": "197"
                                },
                                {
                                    "SZALLAS_NEV": "Hotel Három Hattyú",
                                    "METTOL": "2017-02-23",
                                    "(No column name)": "199"
                                },
                                {
                                    "SZALLAS_NEV": "Hotel Három Hattyú",
                                    "METTOL": "2017-02-23",
                                    "(No column name)": "199"
                                },
                                {
                                    "SZALLAS_NEV": "Hotel Három Hattyú",
                                    "METTOL": "2017-02-24",
                                    "(No column name)": "201"
                                },
                                {
                                    "SZALLAS_NEV": "Hotel Három Hattyú",
                                    "METTOL": "2017-02-24",
                                    "(No column name)": "201"
                                },
                                {
                                    "SZALLAS_NEV": "Hotel Három Hattyú",
                                    "METTOL": "2017-02-26",
                                    "(No column name)": "202"
                                },
                                {
                                    "SZALLAS_NEV": "Hotel Három Hattyú",
                                    "METTOL": "2017-02-28",
                                    "(No column name)": "203"
                                },
                                {
                                    "SZALLAS_NEV": "Hotel Három Hattyú",
                                    "METTOL": "2017-03-03",
                                    "(No column name)": "204"
                                },
                                {
                                    "SZALLAS_NEV": "Jáde panzió",
                                    "METTOL": "2016-04-06",
                                    "(No column name)": "1"
                                },
                                {
                                    "SZALLAS_NEV": "Jáde panzió",
                                    "METTOL": "2016-04-14",
                                    "(No column name)": "2"
                                },
                                {
                                    "SZALLAS_NEV": "Jáde panzió",
                                    "METTOL": "2016-05-01",
                                    "(No column name)": "3"
                                },
                                {
                                    "SZALLAS_NEV": "Jáde panzió",
                                    "METTOL": "2016-05-04",
                                    "(No column name)": "4"
                                },
                                {
                                    "SZALLAS_NEV": "Jáde panzió",
                                    "METTOL": "2016-05-18",
                                    "(No column name)": "5"
                                },
                                {
                                    "SZALLAS_NEV": "Jáde panzió",
                                    "METTOL": "2016-05-30",
                                    "(No column name)": "6"
                                },
                                {
                                    "SZALLAS_NEV": "Jáde panzió",
                                    "METTOL": "2016-06-06",
                                    "(No column name)": "8"
                                },
                                {
                                    "SZALLAS_NEV": "Jáde panzió",
                                    "METTOL": "2016-06-06",
                                    "(No column name)": "8"
                                },
                                {
                                    "SZALLAS_NEV": "Jáde panzió",
                                    "METTOL": "2016-06-27",
                                    "(No column name)": "9"
                                },
                                {
                                    "SZALLAS_NEV": "Jáde panzió",
                                    "METTOL": "2016-07-01",
                                    "(No column name)": "10"
                                },
                                {
                                    "SZALLAS_NEV": "Jáde panzió",
                                    "METTOL": "2016-07-03",
                                    "(No column name)": "11"
                                },
                                {
                                    "SZALLAS_NEV": "Jáde panzió",
                                    "METTOL": "2016-07-11",
                                    "(No column name)": "12"
                                },
                                {
                                    "SZALLAS_NEV": "Jáde panzió",
                                    "METTOL": "2016-08-06",
                                    "(No column name)": "13"
                                },
                                {
                                    "SZALLAS_NEV": "Jáde panzió",
                                    "METTOL": "2016-08-15",
                                    "(No column name)": "14"
                                },
                                {
                                    "SZALLAS_NEV": "Jáde panzió",
                                    "METTOL": "2016-09-09",
                                    "(No column name)": "15"
                                },
                                {
                                    "SZALLAS_NEV": "Jáde panzió",
                                    "METTOL": "2016-09-12",
                                    "(No column name)": "16"
                                },
                                {
                                    "SZALLAS_NEV": "Jáde panzió",
                                    "METTOL": "2016-09-30",
                                    "(No column name)": "17"
                                },
                                {
                                    "SZALLAS_NEV": "Jáde panzió",
                                    "METTOL": "2016-10-01",
                                    "(No column name)": "18"
                                },
                                {
                                    "SZALLAS_NEV": "Jáde panzió",
                                    "METTOL": "2016-10-12",
                                    "(No column name)": "19"
                                },
                                {
                                    "SZALLAS_NEV": "Jáde panzió",
                                    "METTOL": "2016-10-22",
                                    "(No column name)": "20"
                                },
                                {
                                    "SZALLAS_NEV": "Jáde panzió",
                                    "METTOL": "2016-10-30",
                                    "(No column name)": "21"
                                },
                                {
                                    "SZALLAS_NEV": "Jáde panzió",
                                    "METTOL": "2016-11-22",
                                    "(No column name)": "23"
                                },
                                {
                                    "SZALLAS_NEV": "Jáde panzió",
                                    "METTOL": "2016-11-22",
                                    "(No column name)": "23"
                                },
                                {
                                    "SZALLAS_NEV": "Jáde panzió",
                                    "METTOL": "2016-12-15",
                                    "(No column name)": "24"
                                },
                                {
                                    "SZALLAS_NEV": "Jáde panzió",
                                    "METTOL": "2017-01-01",
                                    "(No column name)": "25"
                                },
                                {
                                    "SZALLAS_NEV": "Jáde panzió",
                                    "METTOL": "2017-01-25",
                                    "(No column name)": "26"
                                },
                                {
                                    "SZALLAS_NEV": "Jáde panzió",
                                    "METTOL": "2017-01-26",
                                    "(No column name)": "27"
                                },
                                {
                                    "SZALLAS_NEV": "Jáde panzió",
                                    "METTOL": "2017-02-12",
                                    "(No column name)": "28"
                                },
                                {
                                    "SZALLAS_NEV": "Jáde panzió",
                                    "METTOL": "2017-02-15",
                                    "(No column name)": "29"
                                },
                                {
                                    "SZALLAS_NEV": "Kentaur Hotel",
                                    "METTOL": "2016-04-07",
                                    "(No column name)": "1"
                                },
                                {
                                    "SZALLAS_NEV": "Kentaur Hotel",
                                    "METTOL": "2016-04-10",
                                    "(No column name)": "3"
                                },
                                {
                                    "SZALLAS_NEV": "Kentaur Hotel",
                                    "METTOL": "2016-04-10",
                                    "(No column name)": "3"
                                },
                                {
                                    "SZALLAS_NEV": "Kentaur Hotel",
                                    "METTOL": "2016-04-16",
                                    "(No column name)": "4"
                                },
                                {
                                    "SZALLAS_NEV": "Kentaur Hotel",
                                    "METTOL": "2016-04-17",
                                    "(No column name)": "5"
                                },
                                {
                                    "SZALLAS_NEV": "Kentaur Hotel",
                                    "METTOL": "2016-04-21",
                                    "(No column name)": "6"
                                },
                                {
                                    "SZALLAS_NEV": "Kentaur Hotel",
                                    "METTOL": "2016-04-22",
                                    "(No column name)": "7"
                                },
                                {
                                    "SZALLAS_NEV": "Kentaur Hotel",
                                    "METTOL": "2016-05-07",
                                    "(No column name)": "8"
                                },
                                {
                                    "SZALLAS_NEV": "Kentaur Hotel",
                                    "METTOL": "2016-05-08",
                                    "(No column name)": "9"
                                },
                                {
                                    "SZALLAS_NEV": "Kentaur Hotel",
                                    "METTOL": "2016-05-12",
                                    "(No column name)": "10"
                                },
                                {
                                    "SZALLAS_NEV": "Kentaur Hotel",
                                    "METTOL": "2016-05-13",
                                    "(No column name)": "11"
                                },
                                {
                                    "SZALLAS_NEV": "Kentaur Hotel",
                                    "METTOL": "2016-05-14",
                                    "(No column name)": "13"
                                },
                                {
                                    "SZALLAS_NEV": "Kentaur Hotel",
                                    "METTOL": "2016-05-14",
                                    "(No column name)": "13"
                                },
                                {
                                    "SZALLAS_NEV": "Kentaur Hotel",
                                    "METTOL": "2016-05-17",
                                    "(No column name)": "14"
                                },
                                {
                                    "SZALLAS_NEV": "Kentaur Hotel",
                                    "METTOL": "2016-05-24",
                                    "(No column name)": "15"
                                },
                                {
                                    "SZALLAS_NEV": "Kentaur Hotel",
                                    "METTOL": "2016-05-27",
                                    "(No column name)": "17"
                                },
                                {
                                    "SZALLAS_NEV": "Kentaur Hotel",
                                    "METTOL": "2016-05-27",
                                    "(No column name)": "17"
                                },
                                {
                                    "SZALLAS_NEV": "Kentaur Hotel",
                                    "METTOL": "2016-05-28",
                                    "(No column name)": "19"
                                },
                                {
                                    "SZALLAS_NEV": "Kentaur Hotel",
                                    "METTOL": "2016-05-28",
                                    "(No column name)": "19"
                                },
                                {
                                    "SZALLAS_NEV": "Kentaur Hotel",
                                    "METTOL": "2016-05-29",
                                    "(No column name)": "20"
                                },
                                {
                                    "SZALLAS_NEV": "Kentaur Hotel",
                                    "METTOL": "2016-05-30",
                                    "(No column name)": "25"
                                },
                                {
                                    "SZALLAS_NEV": "Kentaur Hotel",
                                    "METTOL": "2016-05-30",
                                    "(No column name)": "25"
                                },
                                {
                                    "SZALLAS_NEV": "Kentaur Hotel",
                                    "METTOL": "2016-05-30",
                                    "(No column name)": "25"
                                },
                                {
                                    "SZALLAS_NEV": "Kentaur Hotel",
                                    "METTOL": "2016-05-30",
                                    "(No column name)": "25"
                                },
                                {
                                    "SZALLAS_NEV": "Kentaur Hotel",
                                    "METTOL": "2016-05-30",
                                    "(No column name)": "25"
                                },
                                {
                                    "SZALLAS_NEV": "Kentaur Hotel",
                                    "METTOL": "2016-05-31",
                                    "(No column name)": "26"
                                },
                                {
                                    "SZALLAS_NEV": "Kentaur Hotel",
                                    "METTOL": "2016-06-01",
                                    "(No column name)": "27"
                                },
                                {
                                    "SZALLAS_NEV": "Kentaur Hotel",
                                    "METTOL": "2016-06-02",
                                    "(No column name)": "29"
                                },
                                {
                                    "SZALLAS_NEV": "Kentaur Hotel",
                                    "METTOL": "2016-06-02",
                                    "(No column name)": "29"
                                },
                                {
                                    "SZALLAS_NEV": "Kentaur Hotel",
                                    "METTOL": "2016-06-04",
                                    "(No column name)": "30"
                                },
                                {
                                    "SZALLAS_NEV": "Kentaur Hotel",
                                    "METTOL": "2016-06-07",
                                    "(No column name)": "31"
                                },
                                {
                                    "SZALLAS_NEV": "Kentaur Hotel",
                                    "METTOL": "2016-06-08",
                                    "(No column name)": "33"
                                },
                                {
                                    "SZALLAS_NEV": "Kentaur Hotel",
                                    "METTOL": "2016-06-08",
                                    "(No column name)": "33"
                                },
                                {
                                    "SZALLAS_NEV": "Kentaur Hotel",
                                    "METTOL": "2016-06-09",
                                    "(No column name)": "35"
                                },
                                {
                                    "SZALLAS_NEV": "Kentaur Hotel",
                                    "METTOL": "2016-06-09",
                                    "(No column name)": "35"
                                },
                                {
                                    "SZALLAS_NEV": "Kentaur Hotel",
                                    "METTOL": "2016-06-10",
                                    "(No column name)": "36"
                                },
                                {
                                    "SZALLAS_NEV": "Kentaur Hotel",
                                    "METTOL": "2016-06-13",
                                    "(No column name)": "37"
                                },
                                {
                                    "SZALLAS_NEV": "Kentaur Hotel",
                                    "METTOL": "2016-06-16",
                                    "(No column name)": "39"
                                },
                                {
                                    "SZALLAS_NEV": "Kentaur Hotel",
                                    "METTOL": "2016-06-16",
                                    "(No column name)": "39"
                                },
                                {
                                    "SZALLAS_NEV": "Kentaur Hotel",
                                    "METTOL": "2016-06-22",
                                    "(No column name)": "40"
                                },
                                {
                                    "SZALLAS_NEV": "Kentaur Hotel",
                                    "METTOL": "2016-06-23",
                                    "(No column name)": "42"
                                },
                                {
                                    "SZALLAS_NEV": "Kentaur Hotel",
                                    "METTOL": "2016-06-23",
                                    "(No column name)": "42"
                                },
                                {
                                    "SZALLAS_NEV": "Kentaur Hotel",
                                    "METTOL": "2016-06-26",
                                    "(No column name)": "43"
                                },
                                {
                                    "SZALLAS_NEV": "Kentaur Hotel",
                                    "METTOL": "2016-06-30",
                                    "(No column name)": "44"
                                },
                                {
                                    "SZALLAS_NEV": "Kentaur Hotel",
                                    "METTOL": "2016-07-01",
                                    "(No column name)": "46"
                                },
                                {
                                    "SZALLAS_NEV": "Kentaur Hotel",
                                    "METTOL": "2016-07-01",
                                    "(No column name)": "46"
                                },
                                {
                                    "SZALLAS_NEV": "Kentaur Hotel",
                                    "METTOL": "2016-07-03",
                                    "(No column name)": "47"
                                },
                                {
                                    "SZALLAS_NEV": "Kentaur Hotel",
                                    "METTOL": "2016-07-04",
                                    "(No column name)": "48"
                                },
                                {
                                    "SZALLAS_NEV": "Kentaur Hotel",
                                    "METTOL": "2016-07-06",
                                    "(No column name)": "49"
                                },
                                {
                                    "SZALLAS_NEV": "Kentaur Hotel",
                                    "METTOL": "2016-07-12",
                                    "(No column name)": "50"
                                },
                                {
                                    "SZALLAS_NEV": "Kentaur Hotel",
                                    "METTOL": "2016-07-13",
                                    "(No column name)": "51"
                                },
                                {
                                    "SZALLAS_NEV": "Kentaur Hotel",
                                    "METTOL": "2016-07-14",
                                    "(No column name)": "52"
                                },
                                {
                                    "SZALLAS_NEV": "Kentaur Hotel",
                                    "METTOL": "2016-07-15",
                                    "(No column name)": "53"
                                },
                                {
                                    "SZALLAS_NEV": "Kentaur Hotel",
                                    "METTOL": "2016-07-16",
                                    "(No column name)": "54"
                                },
                                {
                                    "SZALLAS_NEV": "Kentaur Hotel",
                                    "METTOL": "2016-07-18",
                                    "(No column name)": "56"
                                },
                                {
                                    "SZALLAS_NEV": "Kentaur Hotel",
                                    "METTOL": "2016-07-18",
                                    "(No column name)": "56"
                                },
                                {
                                    "SZALLAS_NEV": "Kentaur Hotel",
                                    "METTOL": "2016-07-20",
                                    "(No column name)": "58"
                                },
                                {
                                    "SZALLAS_NEV": "Kentaur Hotel",
                                    "METTOL": "2016-07-20",
                                    "(No column name)": "58"
                                },
                                {
                                    "SZALLAS_NEV": "Kentaur Hotel",
                                    "METTOL": "2016-07-21",
                                    "(No column name)": "60"
                                },
                                {
                                    "SZALLAS_NEV": "Kentaur Hotel",
                                    "METTOL": "2016-07-21",
                                    "(No column name)": "60"
                                },
                                {
                                    "SZALLAS_NEV": "Kentaur Hotel",
                                    "METTOL": "2016-07-22",
                                    "(No column name)": "61"
                                },
                                {
                                    "SZALLAS_NEV": "Kentaur Hotel",
                                    "METTOL": "2016-07-24",
                                    "(No column name)": "62"
                                },
                                {
                                    "SZALLAS_NEV": "Kentaur Hotel",
                                    "METTOL": "2016-07-25",
                                    "(No column name)": "63"
                                },
                                {
                                    "SZALLAS_NEV": "Kentaur Hotel",
                                    "METTOL": "2016-07-27",
                                    "(No column name)": "64"
                                },
                                {
                                    "SZALLAS_NEV": "Kentaur Hotel",
                                    "METTOL": "2016-07-28",
                                    "(No column name)": "65"
                                },
                                {
                                    "SZALLAS_NEV": "Kentaur Hotel",
                                    "METTOL": "2016-07-29",
                                    "(No column name)": "66"
                                },
                                {
                                    "SZALLAS_NEV": "Kentaur Hotel",
                                    "METTOL": "2016-08-05",
                                    "(No column name)": "67"
                                },
                                {
                                    "SZALLAS_NEV": "Kentaur Hotel",
                                    "METTOL": "2016-08-12",
                                    "(No column name)": "69"
                                },
                                {
                                    "SZALLAS_NEV": "Kentaur Hotel",
                                    "METTOL": "2016-08-12",
                                    "(No column name)": "69"
                                },
                                {
                                    "SZALLAS_NEV": "Kentaur Hotel",
                                    "METTOL": "2016-08-16",
                                    "(No column name)": "70"
                                },
                                {
                                    "SZALLAS_NEV": "Kentaur Hotel",
                                    "METTOL": "2016-08-18",
                                    "(No column name)": "72"
                                },
                                {
                                    "SZALLAS_NEV": "Kentaur Hotel",
                                    "METTOL": "2016-08-18",
                                    "(No column name)": "72"
                                },
                                {
                                    "SZALLAS_NEV": "Kentaur Hotel",
                                    "METTOL": "2016-08-23",
                                    "(No column name)": "73"
                                },
                                {
                                    "SZALLAS_NEV": "Kentaur Hotel",
                                    "METTOL": "2016-08-24",
                                    "(No column name)": "76"
                                },
                                {
                                    "SZALLAS_NEV": "Kentaur Hotel",
                                    "METTOL": "2016-08-24",
                                    "(No column name)": "76"
                                },
                                {
                                    "SZALLAS_NEV": "Kentaur Hotel",
                                    "METTOL": "2016-08-24",
                                    "(No column name)": "76"
                                },
                                {
                                    "SZALLAS_NEV": "Kentaur Hotel",
                                    "METTOL": "2016-08-28",
                                    "(No column name)": "77"
                                },
                                {
                                    "SZALLAS_NEV": "Kentaur Hotel",
                                    "METTOL": "2016-08-29",
                                    "(No column name)": "78"
                                },
                                {
                                    "SZALLAS_NEV": "Kentaur Hotel",
                                    "METTOL": "2016-09-02",
                                    "(No column name)": "79"
                                },
                                {
                                    "SZALLAS_NEV": "Kentaur Hotel",
                                    "METTOL": "2016-09-03",
                                    "(No column name)": "80"
                                },
                                {
                                    "SZALLAS_NEV": "Kentaur Hotel",
                                    "METTOL": "2016-09-15",
                                    "(No column name)": "82"
                                },
                                {
                                    "SZALLAS_NEV": "Kentaur Hotel",
                                    "METTOL": "2016-09-15",
                                    "(No column name)": "82"
                                },
                                {
                                    "SZALLAS_NEV": "Kentaur Hotel",
                                    "METTOL": "2016-09-18",
                                    "(No column name)": "83"
                                },
                                {
                                    "SZALLAS_NEV": "Kentaur Hotel",
                                    "METTOL": "2016-09-20",
                                    "(No column name)": "84"
                                },
                                {
                                    "SZALLAS_NEV": "Kentaur Hotel",
                                    "METTOL": "2016-09-25",
                                    "(No column name)": "85"
                                },
                                {
                                    "SZALLAS_NEV": "Kentaur Hotel",
                                    "METTOL": "2016-09-26",
                                    "(No column name)": "86"
                                },
                                {
                                    "SZALLAS_NEV": "Kentaur Hotel",
                                    "METTOL": "2016-09-28",
                                    "(No column name)": "88"
                                },
                                {
                                    "SZALLAS_NEV": "Kentaur Hotel",
                                    "METTOL": "2016-09-28",
                                    "(No column name)": "88"
                                },
                                {
                                    "SZALLAS_NEV": "Kentaur Hotel",
                                    "METTOL": "2016-09-30",
                                    "(No column name)": "91"
                                },
                                {
                                    "SZALLAS_NEV": "Kentaur Hotel",
                                    "METTOL": "2016-09-30",
                                    "(No column name)": "91"
                                },
                                {
                                    "SZALLAS_NEV": "Kentaur Hotel",
                                    "METTOL": "2016-09-30",
                                    "(No column name)": "91"
                                },
                                {
                                    "SZALLAS_NEV": "Kentaur Hotel",
                                    "METTOL": "2016-10-01",
                                    "(No column name)": "93"
                                },
                                {
                                    "SZALLAS_NEV": "Kentaur Hotel",
                                    "METTOL": "2016-10-01",
                                    "(No column name)": "93"
                                },
                                {
                                    "SZALLAS_NEV": "Kentaur Hotel",
                                    "METTOL": "2016-10-04",
                                    "(No column name)": "94"
                                },
                                {
                                    "SZALLAS_NEV": "Kentaur Hotel",
                                    "METTOL": "2016-10-05",
                                    "(No column name)": "95"
                                },
                                {
                                    "SZALLAS_NEV": "Kentaur Hotel",
                                    "METTOL": "2016-10-07",
                                    "(No column name)": "96"
                                },
                                {
                                    "SZALLAS_NEV": "Kentaur Hotel",
                                    "METTOL": "2016-10-11",
                                    "(No column name)": "97"
                                },
                                {
                                    "SZALLAS_NEV": "Kentaur Hotel",
                                    "METTOL": "2016-10-16",
                                    "(No column name)": "98"
                                },
                                {
                                    "SZALLAS_NEV": "Kentaur Hotel",
                                    "METTOL": "2016-10-17",
                                    "(No column name)": "99"
                                },
                                {
                                    "SZALLAS_NEV": "Kentaur Hotel",
                                    "METTOL": "2016-10-19",
                                    "(No column name)": "100"
                                },
                                {
                                    "SZALLAS_NEV": "Kentaur Hotel",
                                    "METTOL": "2016-10-20",
                                    "(No column name)": "101"
                                },
                                {
                                    "SZALLAS_NEV": "Kentaur Hotel",
                                    "METTOL": "2016-10-22",
                                    "(No column name)": "102"
                                },
                                {
                                    "SZALLAS_NEV": "Kentaur Hotel",
                                    "METTOL": "2016-10-23",
                                    "(No column name)": "103"
                                },
                                {
                                    "SZALLAS_NEV": "Kentaur Hotel",
                                    "METTOL": "2016-10-25",
                                    "(No column name)": "104"
                                },
                                {
                                    "SZALLAS_NEV": "Kentaur Hotel",
                                    "METTOL": "2016-10-26",
                                    "(No column name)": "105"
                                },
                                {
                                    "SZALLAS_NEV": "Kentaur Hotel",
                                    "METTOL": "2016-10-28",
                                    "(No column name)": "106"
                                },
                                {
                                    "SZALLAS_NEV": "Kentaur Hotel",
                                    "METTOL": "2016-10-29",
                                    "(No column name)": "107"
                                },
                                {
                                    "SZALLAS_NEV": "Kentaur Hotel",
                                    "METTOL": "2016-10-30",
                                    "(No column name)": "111"
                                },
                                {
                                    "SZALLAS_NEV": "Kentaur Hotel",
                                    "METTOL": "2016-10-30",
                                    "(No column name)": "111"
                                },
                                {
                                    "SZALLAS_NEV": "Kentaur Hotel",
                                    "METTOL": "2016-10-30",
                                    "(No column name)": "111"
                                },
                                {
                                    "SZALLAS_NEV": "Kentaur Hotel",
                                    "METTOL": "2016-10-30",
                                    "(No column name)": "111"
                                },
                                {
                                    "SZALLAS_NEV": "Kentaur Hotel",
                                    "METTOL": "2016-10-31",
                                    "(No column name)": "112"
                                },
                                {
                                    "SZALLAS_NEV": "Kentaur Hotel",
                                    "METTOL": "2016-11-01",
                                    "(No column name)": "113"
                                },
                                {
                                    "SZALLAS_NEV": "Kentaur Hotel",
                                    "METTOL": "2016-11-03",
                                    "(No column name)": "114"
                                },
                                {
                                    "SZALLAS_NEV": "Kentaur Hotel",
                                    "METTOL": "2016-11-05",
                                    "(No column name)": "115"
                                },
                                {
                                    "SZALLAS_NEV": "Kentaur Hotel",
                                    "METTOL": "2016-11-06",
                                    "(No column name)": "116"
                                },
                                {
                                    "SZALLAS_NEV": "Kentaur Hotel",
                                    "METTOL": "2016-11-07",
                                    "(No column name)": "118"
                                },
                                {
                                    "SZALLAS_NEV": "Kentaur Hotel",
                                    "METTOL": "2016-11-07",
                                    "(No column name)": "118"
                                },
                                {
                                    "SZALLAS_NEV": "Kentaur Hotel",
                                    "METTOL": "2016-11-08",
                                    "(No column name)": "119"
                                },
                                {
                                    "SZALLAS_NEV": "Kentaur Hotel",
                                    "METTOL": "2016-11-09",
                                    "(No column name)": "120"
                                },
                                {
                                    "SZALLAS_NEV": "Kentaur Hotel",
                                    "METTOL": "2016-11-10",
                                    "(No column name)": "121"
                                },
                                {
                                    "SZALLAS_NEV": "Kentaur Hotel",
                                    "METTOL": "2016-11-12",
                                    "(No column name)": "122"
                                },
                                {
                                    "SZALLAS_NEV": "Kentaur Hotel",
                                    "METTOL": "2016-11-14",
                                    "(No column name)": "123"
                                },
                                {
                                    "SZALLAS_NEV": "Kentaur Hotel",
                                    "METTOL": "2016-11-15",
                                    "(No column name)": "124"
                                },
                                {
                                    "SZALLAS_NEV": "Kentaur Hotel",
                                    "METTOL": "2016-11-16",
                                    "(No column name)": "125"
                                },
                                {
                                    "SZALLAS_NEV": "Kentaur Hotel",
                                    "METTOL": "2016-11-17",
                                    "(No column name)": "126"
                                },
                                {
                                    "SZALLAS_NEV": "Kentaur Hotel",
                                    "METTOL": "2016-11-19",
                                    "(No column name)": "127"
                                },
                                {
                                    "SZALLAS_NEV": "Kentaur Hotel",
                                    "METTOL": "2016-11-23",
                                    "(No column name)": "128"
                                },
                                {
                                    "SZALLAS_NEV": "Kentaur Hotel",
                                    "METTOL": "2016-11-25",
                                    "(No column name)": "129"
                                },
                                {
                                    "SZALLAS_NEV": "Kentaur Hotel",
                                    "METTOL": "2016-11-26",
                                    "(No column name)": "130"
                                },
                                {
                                    "SZALLAS_NEV": "Kentaur Hotel",
                                    "METTOL": "2016-11-27",
                                    "(No column name)": "132"
                                },
                                {
                                    "SZALLAS_NEV": "Kentaur Hotel",
                                    "METTOL": "2016-11-27",
                                    "(No column name)": "132"
                                },
                                {
                                    "SZALLAS_NEV": "Kentaur Hotel",
                                    "METTOL": "2016-11-28",
                                    "(No column name)": "134"
                                },
                                {
                                    "SZALLAS_NEV": "Kentaur Hotel",
                                    "METTOL": "2016-11-28",
                                    "(No column name)": "134"
                                },
                                {
                                    "SZALLAS_NEV": "Kentaur Hotel",
                                    "METTOL": "2016-11-29",
                                    "(No column name)": "135"
                                },
                                {
                                    "SZALLAS_NEV": "Kentaur Hotel",
                                    "METTOL": "2016-11-30",
                                    "(No column name)": "136"
                                },
                                {
                                    "SZALLAS_NEV": "Kentaur Hotel",
                                    "METTOL": "2016-12-04",
                                    "(No column name)": "137"
                                },
                                {
                                    "SZALLAS_NEV": "Kentaur Hotel",
                                    "METTOL": "2016-12-05",
                                    "(No column name)": "138"
                                },
                                {
                                    "SZALLAS_NEV": "Kentaur Hotel",
                                    "METTOL": "2016-12-06",
                                    "(No column name)": "139"
                                },
                                {
                                    "SZALLAS_NEV": "Kentaur Hotel",
                                    "METTOL": "2016-12-15",
                                    "(No column name)": "140"
                                },
                                {
                                    "SZALLAS_NEV": "Kentaur Hotel",
                                    "METTOL": "2016-12-16",
                                    "(No column name)": "141"
                                },
                                {
                                    "SZALLAS_NEV": "Kentaur Hotel",
                                    "METTOL": "2016-12-17",
                                    "(No column name)": "143"
                                },
                                {
                                    "SZALLAS_NEV": "Kentaur Hotel",
                                    "METTOL": "2016-12-17",
                                    "(No column name)": "143"
                                },
                                {
                                    "SZALLAS_NEV": "Kentaur Hotel",
                                    "METTOL": "2016-12-19",
                                    "(No column name)": "144"
                                },
                                {
                                    "SZALLAS_NEV": "Kentaur Hotel",
                                    "METTOL": "2016-12-22",
                                    "(No column name)": "146"
                                },
                                {
                                    "SZALLAS_NEV": "Kentaur Hotel",
                                    "METTOL": "2016-12-22",
                                    "(No column name)": "146"
                                },
                                {
                                    "SZALLAS_NEV": "Kentaur Hotel",
                                    "METTOL": "2016-12-24",
                                    "(No column name)": "147"
                                },
                                {
                                    "SZALLAS_NEV": "Kentaur Hotel",
                                    "METTOL": "2016-12-25",
                                    "(No column name)": "149"
                                },
                                {
                                    "SZALLAS_NEV": "Kentaur Hotel",
                                    "METTOL": "2016-12-25",
                                    "(No column name)": "149"
                                },
                                {
                                    "SZALLAS_NEV": "Kentaur Hotel",
                                    "METTOL": "2016-12-29",
                                    "(No column name)": "150"
                                },
                                {
                                    "SZALLAS_NEV": "Kentaur Hotel",
                                    "METTOL": "2017-01-01",
                                    "(No column name)": "151"
                                },
                                {
                                    "SZALLAS_NEV": "Kentaur Hotel",
                                    "METTOL": "2017-01-09",
                                    "(No column name)": "152"
                                },
                                {
                                    "SZALLAS_NEV": "Kentaur Hotel",
                                    "METTOL": "2017-01-10",
                                    "(No column name)": "153"
                                },
                                {
                                    "SZALLAS_NEV": "Kentaur Hotel",
                                    "METTOL": "2017-01-15",
                                    "(No column name)": "154"
                                },
                                {
                                    "SZALLAS_NEV": "Kentaur Hotel",
                                    "METTOL": "2017-01-16",
                                    "(No column name)": "157"
                                },
                                {
                                    "SZALLAS_NEV": "Kentaur Hotel",
                                    "METTOL": "2017-01-16",
                                    "(No column name)": "157"
                                },
                                {
                                    "SZALLAS_NEV": "Kentaur Hotel",
                                    "METTOL": "2017-01-16",
                                    "(No column name)": "157"
                                },
                                {
                                    "SZALLAS_NEV": "Kentaur Hotel",
                                    "METTOL": "2017-01-17",
                                    "(No column name)": "158"
                                },
                                {
                                    "SZALLAS_NEV": "Kentaur Hotel",
                                    "METTOL": "2017-01-19",
                                    "(No column name)": "160"
                                },
                                {
                                    "SZALLAS_NEV": "Kentaur Hotel",
                                    "METTOL": "2017-01-19",
                                    "(No column name)": "160"
                                },
                                {
                                    "SZALLAS_NEV": "Kentaur Hotel",
                                    "METTOL": "2017-01-22",
                                    "(No column name)": "164"
                                },
                                {
                                    "SZALLAS_NEV": "Kentaur Hotel",
                                    "METTOL": "2017-01-22",
                                    "(No column name)": "164"
                                },
                                {
                                    "SZALLAS_NEV": "Kentaur Hotel",
                                    "METTOL": "2017-01-22",
                                    "(No column name)": "164"
                                },
                                {
                                    "SZALLAS_NEV": "Kentaur Hotel",
                                    "METTOL": "2017-01-22",
                                    "(No column name)": "164"
                                },
                                {
                                    "SZALLAS_NEV": "Kentaur Hotel",
                                    "METTOL": "2017-01-28",
                                    "(No column name)": "165"
                                },
                                {
                                    "SZALLAS_NEV": "Kentaur Hotel",
                                    "METTOL": "2017-02-04",
                                    "(No column name)": "166"
                                },
                                {
                                    "SZALLAS_NEV": "Kentaur Hotel",
                                    "METTOL": "2017-02-06",
                                    "(No column name)": "168"
                                },
                                {
                                    "SZALLAS_NEV": "Kentaur Hotel",
                                    "METTOL": "2017-02-06",
                                    "(No column name)": "168"
                                },
                                {
                                    "SZALLAS_NEV": "Kentaur Hotel",
                                    "METTOL": "2017-02-08",
                                    "(No column name)": "169"
                                },
                                {
                                    "SZALLAS_NEV": "Kentaur Hotel",
                                    "METTOL": "2017-02-12",
                                    "(No column name)": "170"
                                },
                                {
                                    "SZALLAS_NEV": "Kentaur Hotel",
                                    "METTOL": "2017-02-14",
                                    "(No column name)": "171"
                                },
                                {
                                    "SZALLAS_NEV": "Kentaur Hotel",
                                    "METTOL": "2017-02-18",
                                    "(No column name)": "172"
                                },
                                {
                                    "SZALLAS_NEV": "Kentaur Hotel",
                                    "METTOL": "2017-02-21",
                                    "(No column name)": "173"
                                },
                                {
                                    "SZALLAS_NEV": "Kentaur Hotel",
                                    "METTOL": "2017-02-23",
                                    "(No column name)": "174"
                                },
                                {
                                    "SZALLAS_NEV": "Kentaur Hotel",
                                    "METTOL": "2017-02-26",
                                    "(No column name)": "175"
                                },
                                {
                                    "SZALLAS_NEV": "Kentaur Hotel",
                                    "METTOL": "2017-02-27",
                                    "(No column name)": "176"
                                },
                                {
                                    "SZALLAS_NEV": "Kentaur Hotel",
                                    "METTOL": "2017-03-01",
                                    "(No column name)": "177"
                                },
                                {
                                    "SZALLAS_NEV": "Kentaur Hotel",
                                    "METTOL": "2017-03-02",
                                    "(No column name)": "178"
                                },
                                {
                                    "SZALLAS_NEV": "Kentaur Hotel",
                                    "METTOL": "2017-03-03",
                                    "(No column name)": "179"
                                },
                                {
                                    "SZALLAS_NEV": "Lagúna Hotel",
                                    "METTOL": "2016-04-08",
                                    "(No column name)": "1"
                                },
                                {
                                    "SZALLAS_NEV": "Lagúna Hotel",
                                    "METTOL": "2016-04-10",
                                    "(No column name)": "2"
                                },
                                {
                                    "SZALLAS_NEV": "Lagúna Hotel",
                                    "METTOL": "2016-04-12",
                                    "(No column name)": "3"
                                },
                                {
                                    "SZALLAS_NEV": "Lagúna Hotel",
                                    "METTOL": "2016-04-14",
                                    "(No column name)": "4"
                                },
                                {
                                    "SZALLAS_NEV": "Lagúna Hotel",
                                    "METTOL": "2016-04-15",
                                    "(No column name)": "5"
                                },
                                {
                                    "SZALLAS_NEV": "Lagúna Hotel",
                                    "METTOL": "2016-04-16",
                                    "(No column name)": "6"
                                },
                                {
                                    "SZALLAS_NEV": "Lagúna Hotel",
                                    "METTOL": "2016-04-17",
                                    "(No column name)": "7"
                                },
                                {
                                    "SZALLAS_NEV": "Lagúna Hotel",
                                    "METTOL": "2016-04-19",
                                    "(No column name)": "8"
                                },
                                {
                                    "SZALLAS_NEV": "Lagúna Hotel",
                                    "METTOL": "2016-04-20",
                                    "(No column name)": "9"
                                },
                                {
                                    "SZALLAS_NEV": "Lagúna Hotel",
                                    "METTOL": "2016-04-22",
                                    "(No column name)": "10"
                                },
                                {
                                    "SZALLAS_NEV": "Lagúna Hotel",
                                    "METTOL": "2016-05-13",
                                    "(No column name)": "11"
                                },
                                {
                                    "SZALLAS_NEV": "Lagúna Hotel",
                                    "METTOL": "2016-05-16",
                                    "(No column name)": "12"
                                },
                                {
                                    "SZALLAS_NEV": "Lagúna Hotel",
                                    "METTOL": "2016-05-17",
                                    "(No column name)": "13"
                                },
                                {
                                    "SZALLAS_NEV": "Lagúna Hotel",
                                    "METTOL": "2016-05-18",
                                    "(No column name)": "14"
                                },
                                {
                                    "SZALLAS_NEV": "Lagúna Hotel",
                                    "METTOL": "2016-05-20",
                                    "(No column name)": "15"
                                },
                                {
                                    "SZALLAS_NEV": "Lagúna Hotel",
                                    "METTOL": "2016-05-21",
                                    "(No column name)": "16"
                                },
                                {
                                    "SZALLAS_NEV": "Lagúna Hotel",
                                    "METTOL": "2016-06-02",
                                    "(No column name)": "17"
                                },
                                {
                                    "SZALLAS_NEV": "Lagúna Hotel",
                                    "METTOL": "2016-06-03",
                                    "(No column name)": "18"
                                },
                                {
                                    "SZALLAS_NEV": "Lagúna Hotel",
                                    "METTOL": "2016-06-05",
                                    "(No column name)": "20"
                                },
                                {
                                    "SZALLAS_NEV": "Lagúna Hotel",
                                    "METTOL": "2016-06-05",
                                    "(No column name)": "20"
                                },
                                {
                                    "SZALLAS_NEV": "Lagúna Hotel",
                                    "METTOL": "2016-06-06",
                                    "(No column name)": "21"
                                },
                                {
                                    "SZALLAS_NEV": "Lagúna Hotel",
                                    "METTOL": "2016-06-13",
                                    "(No column name)": "22"
                                },
                                {
                                    "SZALLAS_NEV": "Lagúna Hotel",
                                    "METTOL": "2016-06-16",
                                    "(No column name)": "23"
                                },
                                {
                                    "SZALLAS_NEV": "Lagúna Hotel",
                                    "METTOL": "2016-06-17",
                                    "(No column name)": "24"
                                },
                                {
                                    "SZALLAS_NEV": "Lagúna Hotel",
                                    "METTOL": "2016-06-23",
                                    "(No column name)": "25"
                                },
                                {
                                    "SZALLAS_NEV": "Lagúna Hotel",
                                    "METTOL": "2016-07-06",
                                    "(No column name)": "26"
                                },
                                {
                                    "SZALLAS_NEV": "Lagúna Hotel",
                                    "METTOL": "2016-07-12",
                                    "(No column name)": "27"
                                },
                                {
                                    "SZALLAS_NEV": "Lagúna Hotel",
                                    "METTOL": "2016-07-13",
                                    "(No column name)": "28"
                                },
                                {
                                    "SZALLAS_NEV": "Lagúna Hotel",
                                    "METTOL": "2016-07-17",
                                    "(No column name)": "29"
                                },
                                {
                                    "SZALLAS_NEV": "Lagúna Hotel",
                                    "METTOL": "2016-07-20",
                                    "(No column name)": "30"
                                },
                                {
                                    "SZALLAS_NEV": "Lagúna Hotel",
                                    "METTOL": "2016-07-22",
                                    "(No column name)": "31"
                                },
                                {
                                    "SZALLAS_NEV": "Lagúna Hotel",
                                    "METTOL": "2016-07-27",
                                    "(No column name)": "32"
                                },
                                {
                                    "SZALLAS_NEV": "Lagúna Hotel",
                                    "METTOL": "2016-07-28",
                                    "(No column name)": "34"
                                },
                                {
                                    "SZALLAS_NEV": "Lagúna Hotel",
                                    "METTOL": "2016-07-28",
                                    "(No column name)": "34"
                                },
                                {
                                    "SZALLAS_NEV": "Lagúna Hotel",
                                    "METTOL": "2016-08-01",
                                    "(No column name)": "35"
                                },
                                {
                                    "SZALLAS_NEV": "Lagúna Hotel",
                                    "METTOL": "2016-08-03",
                                    "(No column name)": "36"
                                },
                                {
                                    "SZALLAS_NEV": "Lagúna Hotel",
                                    "METTOL": "2016-08-06",
                                    "(No column name)": "37"
                                },
                                {
                                    "SZALLAS_NEV": "Lagúna Hotel",
                                    "METTOL": "2016-08-09",
                                    "(No column name)": "38"
                                },
                                {
                                    "SZALLAS_NEV": "Lagúna Hotel",
                                    "METTOL": "2016-08-12",
                                    "(No column name)": "40"
                                },
                                {
                                    "SZALLAS_NEV": "Lagúna Hotel",
                                    "METTOL": "2016-08-12",
                                    "(No column name)": "40"
                                },
                                {
                                    "SZALLAS_NEV": "Lagúna Hotel",
                                    "METTOL": "2016-08-16",
                                    "(No column name)": "43"
                                },
                                {
                                    "SZALLAS_NEV": "Lagúna Hotel",
                                    "METTOL": "2016-08-16",
                                    "(No column name)": "43"
                                },
                                {
                                    "SZALLAS_NEV": "Lagúna Hotel",
                                    "METTOL": "2016-08-16",
                                    "(No column name)": "43"
                                },
                                {
                                    "SZALLAS_NEV": "Lagúna Hotel",
                                    "METTOL": "2016-08-17",
                                    "(No column name)": "44"
                                },
                                {
                                    "SZALLAS_NEV": "Lagúna Hotel",
                                    "METTOL": "2016-08-20",
                                    "(No column name)": "45"
                                },
                                {
                                    "SZALLAS_NEV": "Lagúna Hotel",
                                    "METTOL": "2016-08-23",
                                    "(No column name)": "47"
                                },
                                {
                                    "SZALLAS_NEV": "Lagúna Hotel",
                                    "METTOL": "2016-08-23",
                                    "(No column name)": "47"
                                },
                                {
                                    "SZALLAS_NEV": "Lagúna Hotel",
                                    "METTOL": "2016-08-25",
                                    "(No column name)": "48"
                                },
                                {
                                    "SZALLAS_NEV": "Lagúna Hotel",
                                    "METTOL": "2016-08-28",
                                    "(No column name)": "49"
                                },
                                {
                                    "SZALLAS_NEV": "Lagúna Hotel",
                                    "METTOL": "2016-08-29",
                                    "(No column name)": "50"
                                },
                                {
                                    "SZALLAS_NEV": "Lagúna Hotel",
                                    "METTOL": "2016-08-30",
                                    "(No column name)": "51"
                                },
                                {
                                    "SZALLAS_NEV": "Lagúna Hotel",
                                    "METTOL": "2016-09-01",
                                    "(No column name)": "52"
                                },
                                {
                                    "SZALLAS_NEV": "Lagúna Hotel",
                                    "METTOL": "2016-09-05",
                                    "(No column name)": "54"
                                },
                                {
                                    "SZALLAS_NEV": "Lagúna Hotel",
                                    "METTOL": "2016-09-05",
                                    "(No column name)": "54"
                                },
                                {
                                    "SZALLAS_NEV": "Lagúna Hotel",
                                    "METTOL": "2016-09-10",
                                    "(No column name)": "55"
                                },
                                {
                                    "SZALLAS_NEV": "Lagúna Hotel",
                                    "METTOL": "2016-09-12",
                                    "(No column name)": "56"
                                },
                                {
                                    "SZALLAS_NEV": "Lagúna Hotel",
                                    "METTOL": "2016-09-13",
                                    "(No column name)": "57"
                                },
                                {
                                    "SZALLAS_NEV": "Lagúna Hotel",
                                    "METTOL": "2016-09-16",
                                    "(No column name)": "58"
                                },
                                {
                                    "SZALLAS_NEV": "Lagúna Hotel",
                                    "METTOL": "2016-09-17",
                                    "(No column name)": "59"
                                },
                                {
                                    "SZALLAS_NEV": "Lagúna Hotel",
                                    "METTOL": "2016-09-18",
                                    "(No column name)": "60"
                                },
                                {
                                    "SZALLAS_NEV": "Lagúna Hotel",
                                    "METTOL": "2016-09-23",
                                    "(No column name)": "61"
                                },
                                {
                                    "SZALLAS_NEV": "Lagúna Hotel",
                                    "METTOL": "2016-09-29",
                                    "(No column name)": "62"
                                },
                                {
                                    "SZALLAS_NEV": "Lagúna Hotel",
                                    "METTOL": "2016-10-01",
                                    "(No column name)": "66"
                                },
                                {
                                    "SZALLAS_NEV": "Lagúna Hotel",
                                    "METTOL": "2016-10-01",
                                    "(No column name)": "66"
                                },
                                {
                                    "SZALLAS_NEV": "Lagúna Hotel",
                                    "METTOL": "2016-10-01",
                                    "(No column name)": "66"
                                },
                                {
                                    "SZALLAS_NEV": "Lagúna Hotel",
                                    "METTOL": "2016-10-01",
                                    "(No column name)": "66"
                                },
                                {
                                    "SZALLAS_NEV": "Lagúna Hotel",
                                    "METTOL": "2016-10-02",
                                    "(No column name)": "67"
                                },
                                {
                                    "SZALLAS_NEV": "Lagúna Hotel",
                                    "METTOL": "2016-10-03",
                                    "(No column name)": "68"
                                },
                                {
                                    "SZALLAS_NEV": "Lagúna Hotel",
                                    "METTOL": "2016-10-04",
                                    "(No column name)": "69"
                                },
                                {
                                    "SZALLAS_NEV": "Lagúna Hotel",
                                    "METTOL": "2016-10-09",
                                    "(No column name)": "70"
                                },
                                {
                                    "SZALLAS_NEV": "Lagúna Hotel",
                                    "METTOL": "2016-10-10",
                                    "(No column name)": "71"
                                },
                                {
                                    "SZALLAS_NEV": "Lagúna Hotel",
                                    "METTOL": "2016-10-15",
                                    "(No column name)": "73"
                                },
                                {
                                    "SZALLAS_NEV": "Lagúna Hotel",
                                    "METTOL": "2016-10-15",
                                    "(No column name)": "73"
                                },
                                {
                                    "SZALLAS_NEV": "Lagúna Hotel",
                                    "METTOL": "2016-10-16",
                                    "(No column name)": "74"
                                },
                                {
                                    "SZALLAS_NEV": "Lagúna Hotel",
                                    "METTOL": "2016-10-19",
                                    "(No column name)": "75"
                                },
                                {
                                    "SZALLAS_NEV": "Lagúna Hotel",
                                    "METTOL": "2016-10-22",
                                    "(No column name)": "76"
                                },
                                {
                                    "SZALLAS_NEV": "Lagúna Hotel",
                                    "METTOL": "2016-10-26",
                                    "(No column name)": "81"
                                },
                                {
                                    "SZALLAS_NEV": "Lagúna Hotel",
                                    "METTOL": "2016-10-26",
                                    "(No column name)": "81"
                                },
                                {
                                    "SZALLAS_NEV": "Lagúna Hotel",
                                    "METTOL": "2016-10-26",
                                    "(No column name)": "81"
                                },
                                {
                                    "SZALLAS_NEV": "Lagúna Hotel",
                                    "METTOL": "2016-10-26",
                                    "(No column name)": "81"
                                },
                                {
                                    "SZALLAS_NEV": "Lagúna Hotel",
                                    "METTOL": "2016-10-26",
                                    "(No column name)": "81"
                                },
                                {
                                    "SZALLAS_NEV": "Lagúna Hotel",
                                    "METTOL": "2016-10-30",
                                    "(No column name)": "82"
                                },
                                {
                                    "SZALLAS_NEV": "Lagúna Hotel",
                                    "METTOL": "2016-11-03",
                                    "(No column name)": "83"
                                },
                                {
                                    "SZALLAS_NEV": "Lagúna Hotel",
                                    "METTOL": "2016-11-06",
                                    "(No column name)": "85"
                                },
                                {
                                    "SZALLAS_NEV": "Lagúna Hotel",
                                    "METTOL": "2016-11-06",
                                    "(No column name)": "85"
                                },
                                {
                                    "SZALLAS_NEV": "Lagúna Hotel",
                                    "METTOL": "2016-11-07",
                                    "(No column name)": "87"
                                },
                                {
                                    "SZALLAS_NEV": "Lagúna Hotel",
                                    "METTOL": "2016-11-07",
                                    "(No column name)": "87"
                                },
                                {
                                    "SZALLAS_NEV": "Lagúna Hotel",
                                    "METTOL": "2016-11-15",
                                    "(No column name)": "88"
                                },
                                {
                                    "SZALLAS_NEV": "Lagúna Hotel",
                                    "METTOL": "2016-11-16",
                                    "(No column name)": "89"
                                },
                                {
                                    "SZALLAS_NEV": "Lagúna Hotel",
                                    "METTOL": "2016-11-18",
                                    "(No column name)": "90"
                                },
                                {
                                    "SZALLAS_NEV": "Lagúna Hotel",
                                    "METTOL": "2016-11-19",
                                    "(No column name)": "92"
                                },
                                {
                                    "SZALLAS_NEV": "Lagúna Hotel",
                                    "METTOL": "2016-11-19",
                                    "(No column name)": "92"
                                },
                                {
                                    "SZALLAS_NEV": "Lagúna Hotel",
                                    "METTOL": "2016-11-23",
                                    "(No column name)": "94"
                                },
                                {
                                    "SZALLAS_NEV": "Lagúna Hotel",
                                    "METTOL": "2016-11-23",
                                    "(No column name)": "94"
                                },
                                {
                                    "SZALLAS_NEV": "Lagúna Hotel",
                                    "METTOL": "2016-12-02",
                                    "(No column name)": "95"
                                },
                                {
                                    "SZALLAS_NEV": "Lagúna Hotel",
                                    "METTOL": "2016-12-10",
                                    "(No column name)": "96"
                                },
                                {
                                    "SZALLAS_NEV": "Lagúna Hotel",
                                    "METTOL": "2016-12-11",
                                    "(No column name)": "97"
                                },
                                {
                                    "SZALLAS_NEV": "Lagúna Hotel",
                                    "METTOL": "2016-12-14",
                                    "(No column name)": "98"
                                },
                                {
                                    "SZALLAS_NEV": "Lagúna Hotel",
                                    "METTOL": "2016-12-17",
                                    "(No column name)": "101"
                                },
                                {
                                    "SZALLAS_NEV": "Lagúna Hotel",
                                    "METTOL": "2016-12-17",
                                    "(No column name)": "101"
                                },
                                {
                                    "SZALLAS_NEV": "Lagúna Hotel",
                                    "METTOL": "2016-12-17",
                                    "(No column name)": "101"
                                },
                                {
                                    "SZALLAS_NEV": "Lagúna Hotel",
                                    "METTOL": "2016-12-25",
                                    "(No column name)": "102"
                                },
                                {
                                    "SZALLAS_NEV": "Lagúna Hotel",
                                    "METTOL": "2016-12-27",
                                    "(No column name)": "103"
                                },
                                {
                                    "SZALLAS_NEV": "Lagúna Hotel",
                                    "METTOL": "2017-01-10",
                                    "(No column name)": "104"
                                },
                                {
                                    "SZALLAS_NEV": "Lagúna Hotel",
                                    "METTOL": "2017-01-11",
                                    "(No column name)": "105"
                                },
                                {
                                    "SZALLAS_NEV": "Lagúna Hotel",
                                    "METTOL": "2017-01-16",
                                    "(No column name)": "106"
                                },
                                {
                                    "SZALLAS_NEV": "Lagúna Hotel",
                                    "METTOL": "2017-01-17",
                                    "(No column name)": "107"
                                },
                                {
                                    "SZALLAS_NEV": "Lagúna Hotel",
                                    "METTOL": "2017-01-21",
                                    "(No column name)": "108"
                                },
                                {
                                    "SZALLAS_NEV": "Lagúna Hotel",
                                    "METTOL": "2017-01-22",
                                    "(No column name)": "109"
                                },
                                {
                                    "SZALLAS_NEV": "Lagúna Hotel",
                                    "METTOL": "2017-01-23",
                                    "(No column name)": "111"
                                },
                                {
                                    "SZALLAS_NEV": "Lagúna Hotel",
                                    "METTOL": "2017-01-23",
                                    "(No column name)": "111"
                                },
                                {
                                    "SZALLAS_NEV": "Lagúna Hotel",
                                    "METTOL": "2017-01-28",
                                    "(No column name)": "112"
                                },
                                {
                                    "SZALLAS_NEV": "Lagúna Hotel",
                                    "METTOL": "2017-02-03",
                                    "(No column name)": "113"
                                },
                                {
                                    "SZALLAS_NEV": "Lagúna Hotel",
                                    "METTOL": "2017-02-07",
                                    "(No column name)": "114"
                                },
                                {
                                    "SZALLAS_NEV": "Lagúna Hotel",
                                    "METTOL": "2017-02-09",
                                    "(No column name)": "115"
                                },
                                {
                                    "SZALLAS_NEV": "Lagúna Hotel",
                                    "METTOL": "2017-02-16",
                                    "(No column name)": "117"
                                },
                                {
                                    "SZALLAS_NEV": "Lagúna Hotel",
                                    "METTOL": "2017-02-16",
                                    "(No column name)": "117"
                                },
                                {
                                    "SZALLAS_NEV": "Lagúna Hotel",
                                    "METTOL": "2017-02-17",
                                    "(No column name)": "118"
                                },
                                {
                                    "SZALLAS_NEV": "Lagúna Hotel",
                                    "METTOL": "2017-02-19",
                                    "(No column name)": "119"
                                },
                                {
                                    "SZALLAS_NEV": "Lagúna Hotel",
                                    "METTOL": "2017-02-21",
                                    "(No column name)": "120"
                                },
                                {
                                    "SZALLAS_NEV": "Lagúna Hotel",
                                    "METTOL": "2017-02-23",
                                    "(No column name)": "121"
                                },
                                {
                                    "SZALLAS_NEV": "Lagúna Hotel",
                                    "METTOL": "2017-02-25",
                                    "(No column name)": "122"
                                },
                                {
                                    "SZALLAS_NEV": "Lagúna Hotel",
                                    "METTOL": "2017-02-27",
                                    "(No column name)": "123"
                                },
                                {
                                    "SZALLAS_NEV": "Partiszél Vendégház",
                                    "METTOL": "2016-04-10",
                                    "(No column name)": "1"
                                },
                                {
                                    "SZALLAS_NEV": "Partiszél Vendégház",
                                    "METTOL": "2016-04-24",
                                    "(No column name)": "2"
                                },
                                {
                                    "SZALLAS_NEV": "Partiszél Vendégház",
                                    "METTOL": "2016-05-09",
                                    "(No column name)": "3"
                                },
                                {
                                    "SZALLAS_NEV": "Partiszél Vendégház",
                                    "METTOL": "2016-05-12",
                                    "(No column name)": "4"
                                },
                                {
                                    "SZALLAS_NEV": "Partiszél Vendégház",
                                    "METTOL": "2016-05-18",
                                    "(No column name)": "5"
                                },
                                {
                                    "SZALLAS_NEV": "Partiszél Vendégház",
                                    "METTOL": "2016-06-06",
                                    "(No column name)": "7"
                                },
                                {
                                    "SZALLAS_NEV": "Partiszél Vendégház",
                                    "METTOL": "2016-06-06",
                                    "(No column name)": "7"
                                },
                                {
                                    "SZALLAS_NEV": "Partiszél Vendégház",
                                    "METTOL": "2016-06-07",
                                    "(No column name)": "9"
                                },
                                {
                                    "SZALLAS_NEV": "Partiszél Vendégház",
                                    "METTOL": "2016-06-07",
                                    "(No column name)": "9"
                                },
                                {
                                    "SZALLAS_NEV": "Partiszél Vendégház",
                                    "METTOL": "2016-06-10",
                                    "(No column name)": "10"
                                },
                                {
                                    "SZALLAS_NEV": "Partiszél Vendégház",
                                    "METTOL": "2016-07-04",
                                    "(No column name)": "11"
                                },
                                {
                                    "SZALLAS_NEV": "Partiszél Vendégház",
                                    "METTOL": "2016-07-27",
                                    "(No column name)": "12"
                                },
                                {
                                    "SZALLAS_NEV": "Partiszél Vendégház",
                                    "METTOL": "2016-07-31",
                                    "(No column name)": "13"
                                },
                                {
                                    "SZALLAS_NEV": "Partiszél Vendégház",
                                    "METTOL": "2016-08-16",
                                    "(No column name)": "14"
                                },
                                {
                                    "SZALLAS_NEV": "Partiszél Vendégház",
                                    "METTOL": "2016-09-19",
                                    "(No column name)": "15"
                                },
                                {
                                    "SZALLAS_NEV": "Partiszél Vendégház",
                                    "METTOL": "2016-09-23",
                                    "(No column name)": "16"
                                },
                                {
                                    "SZALLAS_NEV": "Partiszél Vendégház",
                                    "METTOL": "2016-10-01",
                                    "(No column name)": "17"
                                },
                                {
                                    "SZALLAS_NEV": "Partiszél Vendégház",
                                    "METTOL": "2016-10-24",
                                    "(No column name)": "18"
                                },
                                {
                                    "SZALLAS_NEV": "Partiszél Vendégház",
                                    "METTOL": "2016-10-27",
                                    "(No column name)": "19"
                                },
                                {
                                    "SZALLAS_NEV": "Partiszél Vendégház",
                                    "METTOL": "2016-11-08",
                                    "(No column name)": "20"
                                },
                                {
                                    "SZALLAS_NEV": "Partiszél Vendégház",
                                    "METTOL": "2016-11-16",
                                    "(No column name)": "21"
                                },
                                {
                                    "SZALLAS_NEV": "Partiszél Vendégház",
                                    "METTOL": "2016-11-19",
                                    "(No column name)": "22"
                                },
                                {
                                    "SZALLAS_NEV": "Partiszél Vendégház",
                                    "METTOL": "2016-12-26",
                                    "(No column name)": "23"
                                },
                                {
                                    "SZALLAS_NEV": "Partiszél Vendégház",
                                    "METTOL": "2017-02-01",
                                    "(No column name)": "24"
                                },
                                {
                                    "SZALLAS_NEV": "Partiszél Vendégház",
                                    "METTOL": "2017-02-23",
                                    "(No column name)": "25"
                                },
                                {
                                    "SZALLAS_NEV": "Partiszél Vendégház",
                                    "METTOL": "2017-02-25",
                                    "(No column name)": "26"
                                },
                                {
                                    "SZALLAS_NEV": "Sába-Ház",
                                    "METTOL": "2016-04-06",
                                    "(No column name)": "2"
                                },
                                {
                                    "SZALLAS_NEV": "Sába-Ház",
                                    "METTOL": "2016-04-06",
                                    "(No column name)": "2"
                                },
                                {
                                    "SZALLAS_NEV": "Sába-Ház",
                                    "METTOL": "2016-04-08",
                                    "(No column name)": "3"
                                },
                                {
                                    "SZALLAS_NEV": "Sába-Ház",
                                    "METTOL": "2016-04-10",
                                    "(No column name)": "4"
                                },
                                {
                                    "SZALLAS_NEV": "Sába-Ház",
                                    "METTOL": "2016-04-29",
                                    "(No column name)": "5"
                                },
                                {
                                    "SZALLAS_NEV": "Sába-Ház",
                                    "METTOL": "2016-05-05",
                                    "(No column name)": "6"
                                },
                                {
                                    "SZALLAS_NEV": "Sába-Ház",
                                    "METTOL": "2016-05-09",
                                    "(No column name)": "7"
                                },
                                {
                                    "SZALLAS_NEV": "Sába-Ház",
                                    "METTOL": "2016-05-17",
                                    "(No column name)": "8"
                                },
                                {
                                    "SZALLAS_NEV": "Sába-Ház",
                                    "METTOL": "2016-05-29",
                                    "(No column name)": "9"
                                },
                                {
                                    "SZALLAS_NEV": "Sába-Ház",
                                    "METTOL": "2016-05-30",
                                    "(No column name)": "11"
                                },
                                {
                                    "SZALLAS_NEV": "Sába-Ház",
                                    "METTOL": "2016-05-30",
                                    "(No column name)": "11"
                                },
                                {
                                    "SZALLAS_NEV": "Sába-Ház",
                                    "METTOL": "2016-06-06",
                                    "(No column name)": "12"
                                },
                                {
                                    "SZALLAS_NEV": "Sába-Ház",
                                    "METTOL": "2016-06-10",
                                    "(No column name)": "15"
                                },
                                {
                                    "SZALLAS_NEV": "Sába-Ház",
                                    "METTOL": "2016-06-10",
                                    "(No column name)": "15"
                                },
                                {
                                    "SZALLAS_NEV": "Sába-Ház",
                                    "METTOL": "2016-06-10",
                                    "(No column name)": "15"
                                },
                                {
                                    "SZALLAS_NEV": "Sába-Ház",
                                    "METTOL": "2016-06-11",
                                    "(No column name)": "16"
                                },
                                {
                                    "SZALLAS_NEV": "Sába-Ház",
                                    "METTOL": "2016-06-16",
                                    "(No column name)": "17"
                                },
                                {
                                    "SZALLAS_NEV": "Sába-Ház",
                                    "METTOL": "2016-06-17",
                                    "(No column name)": "18"
                                },
                                {
                                    "SZALLAS_NEV": "Sába-Ház",
                                    "METTOL": "2016-06-27",
                                    "(No column name)": "19"
                                },
                                {
                                    "SZALLAS_NEV": "Sába-Ház",
                                    "METTOL": "2016-07-02",
                                    "(No column name)": "20"
                                },
                                {
                                    "SZALLAS_NEV": "Sába-Ház",
                                    "METTOL": "2016-07-09",
                                    "(No column name)": "21"
                                },
                                {
                                    "SZALLAS_NEV": "Sába-Ház",
                                    "METTOL": "2016-07-13",
                                    "(No column name)": "22"
                                },
                                {
                                    "SZALLAS_NEV": "Sába-Ház",
                                    "METTOL": "2016-07-20",
                                    "(No column name)": "24"
                                },
                                {
                                    "SZALLAS_NEV": "Sába-Ház",
                                    "METTOL": "2016-07-20",
                                    "(No column name)": "24"
                                },
                                {
                                    "SZALLAS_NEV": "Sába-Ház",
                                    "METTOL": "2016-07-30",
                                    "(No column name)": "25"
                                },
                                {
                                    "SZALLAS_NEV": "Sába-Ház",
                                    "METTOL": "2016-08-06",
                                    "(No column name)": "26"
                                },
                                {
                                    "SZALLAS_NEV": "Sába-Ház",
                                    "METTOL": "2016-08-12",
                                    "(No column name)": "27"
                                },
                                {
                                    "SZALLAS_NEV": "Sába-Ház",
                                    "METTOL": "2016-08-13",
                                    "(No column name)": "28"
                                },
                                {
                                    "SZALLAS_NEV": "Sába-Ház",
                                    "METTOL": "2016-08-16",
                                    "(No column name)": "30"
                                },
                                {
                                    "SZALLAS_NEV": "Sába-Ház",
                                    "METTOL": "2016-08-16",
                                    "(No column name)": "30"
                                },
                                {
                                    "SZALLAS_NEV": "Sába-Ház",
                                    "METTOL": "2016-08-17",
                                    "(No column name)": "31"
                                },
                                {
                                    "SZALLAS_NEV": "Sába-Ház",
                                    "METTOL": "2016-08-20",
                                    "(No column name)": "32"
                                },
                                {
                                    "SZALLAS_NEV": "Sába-Ház",
                                    "METTOL": "2016-08-24",
                                    "(No column name)": "33"
                                },
                                {
                                    "SZALLAS_NEV": "Sába-Ház",
                                    "METTOL": "2016-08-27",
                                    "(No column name)": "34"
                                },
                                {
                                    "SZALLAS_NEV": "Sába-Ház",
                                    "METTOL": "2016-08-28",
                                    "(No column name)": "35"
                                },
                                {
                                    "SZALLAS_NEV": "Sába-Ház",
                                    "METTOL": "2016-09-05",
                                    "(No column name)": "36"
                                },
                                {
                                    "SZALLAS_NEV": "Sába-Ház",
                                    "METTOL": "2016-09-08",
                                    "(No column name)": "37"
                                },
                                {
                                    "SZALLAS_NEV": "Sába-Ház",
                                    "METTOL": "2016-09-14",
                                    "(No column name)": "38"
                                },
                                {
                                    "SZALLAS_NEV": "Sába-Ház",
                                    "METTOL": "2016-09-19",
                                    "(No column name)": "39"
                                },
                                {
                                    "SZALLAS_NEV": "Sába-Ház",
                                    "METTOL": "2016-09-21",
                                    "(No column name)": "40"
                                },
                                {
                                    "SZALLAS_NEV": "Sába-Ház",
                                    "METTOL": "2016-10-01",
                                    "(No column name)": "42"
                                },
                                {
                                    "SZALLAS_NEV": "Sába-Ház",
                                    "METTOL": "2016-10-01",
                                    "(No column name)": "42"
                                },
                                {
                                    "SZALLAS_NEV": "Sába-Ház",
                                    "METTOL": "2016-10-05",
                                    "(No column name)": "43"
                                },
                                {
                                    "SZALLAS_NEV": "Sába-Ház",
                                    "METTOL": "2016-10-07",
                                    "(No column name)": "44"
                                },
                                {
                                    "SZALLAS_NEV": "Sába-Ház",
                                    "METTOL": "2016-10-08",
                                    "(No column name)": "46"
                                },
                                {
                                    "SZALLAS_NEV": "Sába-Ház",
                                    "METTOL": "2016-10-08",
                                    "(No column name)": "46"
                                },
                                {
                                    "SZALLAS_NEV": "Sába-Ház",
                                    "METTOL": "2016-10-09",
                                    "(No column name)": "48"
                                },
                                {
                                    "SZALLAS_NEV": "Sába-Ház",
                                    "METTOL": "2016-10-09",
                                    "(No column name)": "48"
                                },
                                {
                                    "SZALLAS_NEV": "Sába-Ház",
                                    "METTOL": "2016-10-14",
                                    "(No column name)": "49"
                                },
                                {
                                    "SZALLAS_NEV": "Sába-Ház",
                                    "METTOL": "2016-10-15",
                                    "(No column name)": "51"
                                },
                                {
                                    "SZALLAS_NEV": "Sába-Ház",
                                    "METTOL": "2016-10-15",
                                    "(No column name)": "51"
                                },
                                {
                                    "SZALLAS_NEV": "Sába-Ház",
                                    "METTOL": "2016-10-18",
                                    "(No column name)": "52"
                                },
                                {
                                    "SZALLAS_NEV": "Sába-Ház",
                                    "METTOL": "2016-10-21",
                                    "(No column name)": "53"
                                },
                                {
                                    "SZALLAS_NEV": "Sába-Ház",
                                    "METTOL": "2016-10-23",
                                    "(No column name)": "54"
                                },
                                {
                                    "SZALLAS_NEV": "Sába-Ház",
                                    "METTOL": "2016-10-30",
                                    "(No column name)": "55"
                                },
                                {
                                    "SZALLAS_NEV": "Sába-Ház",
                                    "METTOL": "2016-11-01",
                                    "(No column name)": "56"
                                },
                                {
                                    "SZALLAS_NEV": "Sába-Ház",
                                    "METTOL": "2016-11-05",
                                    "(No column name)": "57"
                                },
                                {
                                    "SZALLAS_NEV": "Sába-Ház",
                                    "METTOL": "2016-11-07",
                                    "(No column name)": "59"
                                },
                                {
                                    "SZALLAS_NEV": "Sába-Ház",
                                    "METTOL": "2016-11-07",
                                    "(No column name)": "59"
                                },
                                {
                                    "SZALLAS_NEV": "Sába-Ház",
                                    "METTOL": "2016-11-11",
                                    "(No column name)": "60"
                                },
                                {
                                    "SZALLAS_NEV": "Sába-Ház",
                                    "METTOL": "2016-11-23",
                                    "(No column name)": "61"
                                },
                                {
                                    "SZALLAS_NEV": "Sába-Ház",
                                    "METTOL": "2016-11-25",
                                    "(No column name)": "62"
                                },
                                {
                                    "SZALLAS_NEV": "Sába-Ház",
                                    "METTOL": "2016-12-01",
                                    "(No column name)": "63"
                                },
                                {
                                    "SZALLAS_NEV": "Sába-Ház",
                                    "METTOL": "2017-01-06",
                                    "(No column name)": "64"
                                },
                                {
                                    "SZALLAS_NEV": "Sába-Ház",
                                    "METTOL": "2017-01-09",
                                    "(No column name)": "65"
                                },
                                {
                                    "SZALLAS_NEV": "Sába-Ház",
                                    "METTOL": "2017-01-12",
                                    "(No column name)": "66"
                                },
                                {
                                    "SZALLAS_NEV": "Sába-Ház",
                                    "METTOL": "2017-02-03",
                                    "(No column name)": "67"
                                },
                                {
                                    "SZALLAS_NEV": "Sába-Ház",
                                    "METTOL": "2017-02-12",
                                    "(No column name)": "68"
                                },
                                {
                                    "SZALLAS_NEV": "Sába-Ház",
                                    "METTOL": "2017-02-16",
                                    "(No column name)": "70"
                                },
                                {
                                    "SZALLAS_NEV": "Sába-Ház",
                                    "METTOL": "2017-02-16",
                                    "(No column name)": "70"
                                },
                                {
                                    "SZALLAS_NEV": "Szieszta Apartmanház",
                                    "METTOL": "2016-04-06",
                                    "(No column name)": "1"
                                },
                                {
                                    "SZALLAS_NEV": "Szieszta Apartmanház",
                                    "METTOL": "2016-05-15",
                                    "(No column name)": "2"
                                },
                                {
                                    "SZALLAS_NEV": "Szieszta Apartmanház",
                                    "METTOL": "2016-05-26",
                                    "(No column name)": "3"
                                },
                                {
                                    "SZALLAS_NEV": "Szieszta Apartmanház",
                                    "METTOL": "2016-05-28",
                                    "(No column name)": "4"
                                },
                                {
                                    "SZALLAS_NEV": "Szieszta Apartmanház",
                                    "METTOL": "2016-07-28",
                                    "(No column name)": "5"
                                },
                                {
                                    "SZALLAS_NEV": "Szieszta Apartmanház",
                                    "METTOL": "2016-08-05",
                                    "(No column name)": "6"
                                },
                                {
                                    "SZALLAS_NEV": "Szieszta Apartmanház",
                                    "METTOL": "2016-08-24",
                                    "(No column name)": "7"
                                },
                                {
                                    "SZALLAS_NEV": "Szieszta Apartmanház",
                                    "METTOL": "2016-09-02",
                                    "(No column name)": "8"
                                },
                                {
                                    "SZALLAS_NEV": "Szieszta Apartmanház",
                                    "METTOL": "2016-09-08",
                                    "(No column name)": "9"
                                },
                                {
                                    "SZALLAS_NEV": "Szieszta Apartmanház",
                                    "METTOL": "2016-09-16",
                                    "(No column name)": "10"
                                },
                                {
                                    "SZALLAS_NEV": "Szieszta Apartmanház",
                                    "METTOL": "2016-09-17",
                                    "(No column name)": "11"
                                },
                                {
                                    "SZALLAS_NEV": "Szieszta Apartmanház",
                                    "METTOL": "2016-09-24",
                                    "(No column name)": "12"
                                },
                                {
                                    "SZALLAS_NEV": "Szieszta Apartmanház",
                                    "METTOL": "2016-10-01",
                                    "(No column name)": "15"
                                },
                                {
                                    "SZALLAS_NEV": "Szieszta Apartmanház",
                                    "METTOL": "2016-10-01",
                                    "(No column name)": "15"
                                },
                                {
                                    "SZALLAS_NEV": "Szieszta Apartmanház",
                                    "METTOL": "2016-10-01",
                                    "(No column name)": "15"
                                },
                                {
                                    "SZALLAS_NEV": "Szieszta Apartmanház",
                                    "METTOL": "2016-10-21",
                                    "(No column name)": "16"
                                },
                                {
                                    "SZALLAS_NEV": "Szieszta Apartmanház",
                                    "METTOL": "2016-10-24",
                                    "(No column name)": "17"
                                },
                                {
                                    "SZALLAS_NEV": "Szieszta Apartmanház",
                                    "METTOL": "2016-10-26",
                                    "(No column name)": "18"
                                },
                                {
                                    "SZALLAS_NEV": "Szieszta Apartmanház",
                                    "METTOL": "2016-11-05",
                                    "(No column name)": "19"
                                },
                                {
                                    "SZALLAS_NEV": "Szieszta Apartmanház",
                                    "METTOL": "2016-11-09",
                                    "(No column name)": "20"
                                },
                                {
                                    "SZALLAS_NEV": "Szieszta Apartmanház",
                                    "METTOL": "2016-11-10",
                                    "(No column name)": "21"
                                },
                                {
                                    "SZALLAS_NEV": "Szieszta Apartmanház",
                                    "METTOL": "2016-11-21",
                                    "(No column name)": "23"
                                },
                                {
                                    "SZALLAS_NEV": "Szieszta Apartmanház",
                                    "METTOL": "2016-11-21",
                                    "(No column name)": "23"
                                },
                                {
                                    "SZALLAS_NEV": "Szieszta Apartmanház",
                                    "METTOL": "2016-11-25",
                                    "(No column name)": "24"
                                },
                                {
                                    "SZALLAS_NEV": "Szieszta Apartmanház",
                                    "METTOL": "2016-12-06",
                                    "(No column name)": "25"
                                },
                                {
                                    "SZALLAS_NEV": "Szieszta Apartmanház",
                                    "METTOL": "2016-12-12",
                                    "(No column name)": "26"
                                },
                                {
                                    "SZALLAS_NEV": "Szieszta Apartmanház",
                                    "METTOL": "2016-12-26",
                                    "(No column name)": "27"
                                },
                                {
                                    "SZALLAS_NEV": "Szieszta Apartmanház",
                                    "METTOL": "2016-12-29",
                                    "(No column name)": "28"
                                },
                                {
                                    "SZALLAS_NEV": "Szieszta Apartmanház",
                                    "METTOL": "2017-01-17",
                                    "(No column name)": "29"
                                },
                                {
                                    "SZALLAS_NEV": "Szieszta Apartmanház",
                                    "METTOL": "2017-01-19",
                                    "(No column name)": "30"
                                },
                                {
                                    "SZALLAS_NEV": "Szieszta Apartmanház",
                                    "METTOL": "2017-02-09",
                                    "(No column name)": "31"
                                },
                                {
                                    "SZALLAS_NEV": "Szieszta Apartmanház",
                                    "METTOL": "2017-02-12",
                                    "(No column name)": "32"
                                },
                                {
                                    "SZALLAS_NEV": "Szieszta Apartmanház",
                                    "METTOL": "2017-02-18",
                                    "(No column name)": "33"
                                },
                                {
                                    "SZALLAS_NEV": "Szieszta Apartmanház",
                                    "METTOL": "2017-02-26",
                                    "(No column name)": "34"
                                }
                            ]
                        },
                        "text/html": [
                            "<table>",
                            "<tr><th>SZALLAS_NEV</th><th>METTOL</th><th>(No column name)</th></tr>",
                            "<tr><td>Családi Ház</td><td>2016-05-22</td><td>1</td></tr>",
                            "<tr><td>Családi Ház</td><td>2016-05-24</td><td>2</td></tr>",
                            "<tr><td>Családi Ház</td><td>2016-06-03</td><td>3</td></tr>",
                            "<tr><td>Családi Ház</td><td>2016-06-20</td><td>4</td></tr>",
                            "<tr><td>Családi Ház</td><td>2016-07-13</td><td>5</td></tr>",
                            "<tr><td>Családi Ház</td><td>2016-07-18</td><td>6</td></tr>",
                            "<tr><td>Családi Ház</td><td>2016-08-08</td><td>7</td></tr>",
                            "<tr><td>Családi Ház</td><td>2016-08-16</td><td>8</td></tr>",
                            "<tr><td>Családi Ház</td><td>2016-08-24</td><td>9</td></tr>",
                            "<tr><td>Családi Ház</td><td>2016-09-12</td><td>10</td></tr>",
                            "<tr><td>Családi Ház</td><td>2016-10-08</td><td>11</td></tr>",
                            "<tr><td>Családi Ház</td><td>2016-11-03</td><td>12</td></tr>",
                            "<tr><td>Családi Ház</td><td>2016-12-06</td><td>13</td></tr>",
                            "<tr><td>Családi Ház</td><td>2017-01-04</td><td>14</td></tr>",
                            "<tr><td>Családi Ház</td><td>2017-01-16</td><td>15</td></tr>",
                            "<tr><td>Családi Ház</td><td>2017-01-23</td><td>16</td></tr>",
                            "<tr><td>Családi Ház</td><td>2017-02-04</td><td>17</td></tr>",
                            "<tr><td>Családi Ház</td><td>2017-02-16</td><td>18</td></tr>",
                            "<tr><td>Fortuna Apartman</td><td>2016-04-09</td><td>1</td></tr>",
                            "<tr><td>Fortuna Apartman</td><td>2016-04-26</td><td>2</td></tr>",
                            "<tr><td>Fortuna Apartman</td><td>2016-05-08</td><td>3</td></tr>",
                            "<tr><td>Fortuna Apartman</td><td>2016-05-21</td><td>4</td></tr>",
                            "<tr><td>Fortuna Apartman</td><td>2016-05-23</td><td>5</td></tr>",
                            "<tr><td>Fortuna Apartman</td><td>2016-06-04</td><td>6</td></tr>",
                            "<tr><td>Fortuna Apartman</td><td>2016-06-06</td><td>7</td></tr>",
                            "<tr><td>Fortuna Apartman</td><td>2016-06-08</td><td>8</td></tr>",
                            "<tr><td>Fortuna Apartman</td><td>2016-06-10</td><td>10</td></tr>",
                            "<tr><td>Fortuna Apartman</td><td>2016-06-10</td><td>10</td></tr>",
                            "<tr><td>Fortuna Apartman</td><td>2016-07-03</td><td>11</td></tr>",
                            "<tr><td>Fortuna Apartman</td><td>2016-07-20</td><td>12</td></tr>",
                            "<tr><td>Fortuna Apartman</td><td>2016-07-24</td><td>13</td></tr>",
                            "<tr><td>Fortuna Apartman</td><td>2016-08-01</td><td>14</td></tr>",
                            "<tr><td>Fortuna Apartman</td><td>2016-08-04</td><td>15</td></tr>",
                            "<tr><td>Fortuna Apartman</td><td>2016-08-11</td><td>16</td></tr>",
                            "<tr><td>Fortuna Apartman</td><td>2016-08-14</td><td>17</td></tr>",
                            "<tr><td>Fortuna Apartman</td><td>2016-08-21</td><td>18</td></tr>",
                            "<tr><td>Fortuna Apartman</td><td>2016-08-24</td><td>19</td></tr>",
                            "<tr><td>Fortuna Apartman</td><td>2016-09-04</td><td>20</td></tr>",
                            "<tr><td>Fortuna Apartman</td><td>2016-09-07</td><td>21</td></tr>",
                            "<tr><td>Fortuna Apartman</td><td>2016-09-19</td><td>22</td></tr>",
                            "<tr><td>Fortuna Apartman</td><td>2016-10-01</td><td>24</td></tr>",
                            "<tr><td>Fortuna Apartman</td><td>2016-10-01</td><td>24</td></tr>",
                            "<tr><td>Fortuna Apartman</td><td>2016-10-08</td><td>25</td></tr>",
                            "<tr><td>Fortuna Apartman</td><td>2016-10-09</td><td>26</td></tr>",
                            "<tr><td>Fortuna Apartman</td><td>2016-10-19</td><td>27</td></tr>",
                            "<tr><td>Fortuna Apartman</td><td>2016-10-21</td><td>28</td></tr>",
                            "<tr><td>Fortuna Apartman</td><td>2016-10-26</td><td>30</td></tr>",
                            "<tr><td>Fortuna Apartman</td><td>2016-10-26</td><td>30</td></tr>",
                            "<tr><td>Fortuna Apartman</td><td>2016-10-27</td><td>31</td></tr>",
                            "<tr><td>Fortuna Apartman</td><td>2016-10-28</td><td>32</td></tr>",
                            "<tr><td>Fortuna Apartman</td><td>2016-11-02</td><td>33</td></tr>",
                            "<tr><td>Fortuna Apartman</td><td>2016-11-17</td><td>34</td></tr>",
                            "<tr><td>Fortuna Apartman</td><td>2016-11-25</td><td>35</td></tr>",
                            "<tr><td>Fortuna Apartman</td><td>2017-01-03</td><td>36</td></tr>",
                            "<tr><td>Fortuna Apartman</td><td>2017-02-06</td><td>37</td></tr>",
                            "<tr><td>Fortuna Apartman</td><td>2017-02-14</td><td>38</td></tr>",
                            "<tr><td>Fortuna Apartman</td><td>2017-02-18</td><td>39</td></tr>",
                            "<tr><td>Fortuna Panzió</td><td>2016-04-06</td><td>1</td></tr>",
                            "<tr><td>Fortuna Panzió</td><td>2016-04-19</td><td>3</td></tr>",
                            "<tr><td>Fortuna Panzió</td><td>2016-04-19</td><td>3</td></tr>",
                            "<tr><td>Fortuna panzió</td><td>2016-04-24</td><td>4</td></tr>",
                            "<tr><td>Fortuna panzió</td><td>2016-04-25</td><td>5</td></tr>",
                            "<tr><td>Fortuna Panzió</td><td>2016-04-26</td><td>6</td></tr>",
                            "<tr><td>Fortuna panzió</td><td>2016-04-27</td><td>8</td></tr>",
                            "<tr><td>Fortuna panzió</td><td>2016-04-27</td><td>8</td></tr>",
                            "<tr><td>Fortuna panzió</td><td>2016-05-01</td><td>9</td></tr>",
                            "<tr><td>Fortuna panzió</td><td>2016-05-08</td><td>11</td></tr>",
                            "<tr><td>Fortuna panzió</td><td>2016-05-08</td><td>11</td></tr>",
                            "<tr><td>Fortuna Panzió</td><td>2016-05-09</td><td>12</td></tr>",
                            "<tr><td>Fortuna Panzió</td><td>2016-05-21</td><td>13</td></tr>",
                            "<tr><td>Fortuna Panzió</td><td>2016-05-22</td><td>14</td></tr>",
                            "<tr><td>Fortuna panzió</td><td>2016-05-28</td><td>15</td></tr>",
                            "<tr><td>Fortuna panzió</td><td>2016-05-29</td><td>16</td></tr>",
                            "<tr><td>Fortuna panzió</td><td>2016-06-01</td><td>17</td></tr>",
                            "<tr><td>Fortuna Panzió</td><td>2016-06-02</td><td>18</td></tr>",
                            "<tr><td>Fortuna panzió</td><td>2016-06-03</td><td>21</td></tr>",
                            "<tr><td>Fortuna panzió</td><td>2016-06-03</td><td>21</td></tr>",
                            "<tr><td>Fortuna panzió</td><td>2016-06-03</td><td>21</td></tr>",
                            "<tr><td>Fortuna panzió</td><td>2016-06-04</td><td>23</td></tr>",
                            "<tr><td>Fortuna panzió</td><td>2016-06-04</td><td>23</td></tr>",
                            "<tr><td>Fortuna Panzió</td><td>2016-06-06</td><td>26</td></tr>",
                            "<tr><td>Fortuna panzió</td><td>2016-06-06</td><td>26</td></tr>",
                            "<tr><td>Fortuna panzió</td><td>2016-06-06</td><td>26</td></tr>",
                            "<tr><td>Fortuna Panzió</td><td>2016-06-07</td><td>28</td></tr>",
                            "<tr><td>Fortuna Panzió</td><td>2016-06-07</td><td>28</td></tr>",
                            "<tr><td>Fortuna Panzió</td><td>2016-06-13</td><td>29</td></tr>",
                            "<tr><td>Fortuna Panzió</td><td>2016-06-15</td><td>30</td></tr>",
                            "<tr><td>Fortuna panzió</td><td>2016-06-18</td><td>31</td></tr>",
                            "<tr><td>Fortuna panzió</td><td>2016-06-22</td><td>32</td></tr>",
                            "<tr><td>Fortuna panzió</td><td>2016-06-24</td><td>33</td></tr>",
                            "<tr><td>Fortuna Panzió</td><td>2016-06-25</td><td>34</td></tr>",
                            "<tr><td>Fortuna panzió</td><td>2016-07-03</td><td>35</td></tr>",
                            "<tr><td>Fortuna panzió</td><td>2016-07-05</td><td>36</td></tr>",
                            "<tr><td>Fortuna Panzió</td><td>2016-07-08</td><td>38</td></tr>",
                            "<tr><td>Fortuna Panzió</td><td>2016-07-08</td><td>38</td></tr>",
                            "<tr><td>Fortuna panzió</td><td>2016-07-10</td><td>39</td></tr>",
                            "<tr><td>Fortuna Panzió</td><td>2016-07-14</td><td>40</td></tr>",
                            "<tr><td>Fortuna panzió</td><td>2016-07-18</td><td>41</td></tr>",
                            "<tr><td>Fortuna panzió</td><td>2016-07-19</td><td>42</td></tr>",
                            "<tr><td>Fortuna panzió</td><td>2016-07-22</td><td>43</td></tr>",
                            "<tr><td>Fortuna panzió</td><td>2016-07-23</td><td>44</td></tr>",
                            "<tr><td>Fortuna panzió</td><td>2016-07-27</td><td>46</td></tr>",
                            "<tr><td>Fortuna panzió</td><td>2016-07-27</td><td>46</td></tr>",
                            "<tr><td>Fortuna panzió</td><td>2016-08-02</td><td>47</td></tr>",
                            "<tr><td>Fortuna panzió</td><td>2016-08-03</td><td>49</td></tr>",
                            "<tr><td>Fortuna Panzió</td><td>2016-08-03</td><td>49</td></tr>",
                            "<tr><td>Fortuna panzió</td><td>2016-08-05</td><td>50</td></tr>",
                            "<tr><td>Fortuna Panzió</td><td>2016-08-12</td><td>51</td></tr>",
                            "<tr><td>Fortuna panzió</td><td>2016-08-14</td><td>52</td></tr>",
                            "<tr><td>Fortuna Panzió</td><td>2016-08-17</td><td>53</td></tr>",
                            "<tr><td>Fortuna Panzió</td><td>2016-08-20</td><td>55</td></tr>",
                            "<tr><td>Fortuna Panzió</td><td>2016-08-20</td><td>55</td></tr>",
                            "<tr><td>Fortuna panzió</td><td>2016-08-22</td><td>56</td></tr>",
                            "<tr><td>Fortuna panzió</td><td>2016-08-24</td><td>57</td></tr>",
                            "<tr><td>Fortuna Panzió</td><td>2016-08-25</td><td>59</td></tr>",
                            "<tr><td>Fortuna Panzió</td><td>2016-08-25</td><td>59</td></tr>",
                            "<tr><td>Fortuna Panzió</td><td>2016-08-26</td><td>60</td></tr>",
                            "<tr><td>Fortuna panzió</td><td>2016-08-28</td><td>61</td></tr>",
                            "<tr><td>Fortuna Panzió</td><td>2016-09-02</td><td>62</td></tr>",
                            "<tr><td>Fortuna panzió</td><td>2016-09-05</td><td>64</td></tr>",
                            "<tr><td>Fortuna panzió</td><td>2016-09-05</td><td>64</td></tr>",
                            "<tr><td>Fortuna panzió</td><td>2016-09-14</td><td>65</td></tr>",
                            "<tr><td>Fortuna panzió</td><td>2016-09-15</td><td>66</td></tr>",
                            "<tr><td>Fortuna Panzió</td><td>2016-09-16</td><td>67</td></tr>",
                            "<tr><td>Fortuna panzió</td><td>2016-09-17</td><td>68</td></tr>",
                            "<tr><td>Fortuna Panzió</td><td>2016-09-18</td><td>69</td></tr>",
                            "<tr><td>Fortuna panzió</td><td>2016-09-23</td><td>71</td></tr>",
                            "<tr><td>Fortuna panzió</td><td>2016-09-23</td><td>71</td></tr>",
                            "<tr><td>Fortuna panzió</td><td>2016-09-26</td><td>72</td></tr>",
                            "<tr><td>Fortuna Panzió</td><td>2016-09-29</td><td>73</td></tr>",
                            "<tr><td>Fortuna Panzió</td><td>2016-10-03</td><td>74</td></tr>",
                            "<tr><td>Fortuna Panzió</td><td>2016-10-09</td><td>77</td></tr>",
                            "<tr><td>Fortuna panzió</td><td>2016-10-09</td><td>77</td></tr>",
                            "<tr><td>Fortuna Panzió</td><td>2016-10-09</td><td>77</td></tr>",
                            "<tr><td>Fortuna panzió</td><td>2016-10-13</td><td>78</td></tr>",
                            "<tr><td>Fortuna panzió</td><td>2016-10-16</td><td>79</td></tr>",
                            "<tr><td>Fortuna panzió</td><td>2016-10-23</td><td>81</td></tr>",
                            "<tr><td>Fortuna Panzió</td><td>2016-10-23</td><td>81</td></tr>",
                            "<tr><td>Fortuna Panzió</td><td>2016-10-26</td><td>82</td></tr>",
                            "<tr><td>Fortuna Panzió</td><td>2016-10-27</td><td>83</td></tr>",
                            "<tr><td>Fortuna panzió</td><td>2016-10-29</td><td>84</td></tr>",
                            "<tr><td>Fortuna Panzió</td><td>2016-10-30</td><td>86</td></tr>",
                            "<tr><td>Fortuna Panzió</td><td>2016-10-30</td><td>86</td></tr>",
                            "<tr><td>Fortuna panzió</td><td>2016-11-01</td><td>87</td></tr>",
                            "<tr><td>Fortuna Panzió</td><td>2016-11-03</td><td>88</td></tr>",
                            "<tr><td>Fortuna Panzió</td><td>2016-11-10</td><td>89</td></tr>",
                            "<tr><td>Fortuna panzió</td><td>2016-11-11</td><td>90</td></tr>",
                            "<tr><td>Fortuna Panzió</td><td>2016-11-19</td><td>92</td></tr>",
                            "<tr><td>Fortuna Panzió</td><td>2016-11-19</td><td>92</td></tr>",
                            "<tr><td>Fortuna Panzió</td><td>2016-11-22</td><td>93</td></tr>",
                            "<tr><td>Fortuna Panzió</td><td>2016-11-23</td><td>94</td></tr>",
                            "<tr><td>Fortuna panzió</td><td>2016-11-25</td><td>95</td></tr>",
                            "<tr><td>Fortuna panzió</td><td>2016-12-01</td><td>96</td></tr>",
                            "<tr><td>Fortuna panzió</td><td>2016-12-05</td><td>97</td></tr>",
                            "<tr><td>Fortuna panzió</td><td>2016-12-06</td><td>98</td></tr>",
                            "<tr><td>Fortuna panzió</td><td>2016-12-14</td><td>99</td></tr>",
                            "<tr><td>Fortuna panzió</td><td>2016-12-18</td><td>100</td></tr>",
                            "<tr><td>Fortuna panzió</td><td>2016-12-20</td><td>101</td></tr>",
                            "<tr><td>Fortuna panzió</td><td>2016-12-21</td><td>102</td></tr>",
                            "<tr><td>Fortuna panzió</td><td>2016-12-24</td><td>103</td></tr>",
                            "<tr><td>Fortuna panzió</td><td>2016-12-29</td><td>104</td></tr>",
                            "<tr><td>Fortuna panzió</td><td>2017-01-01</td><td>105</td></tr>",
                            "<tr><td>Fortuna panzió</td><td>2017-01-03</td><td>106</td></tr>",
                            "<tr><td>Fortuna Panzió</td><td>2017-01-08</td><td>107</td></tr>",
                            "<tr><td>Fortuna panzió</td><td>2017-01-12</td><td>108</td></tr>",
                            "<tr><td>Fortuna panzió</td><td>2017-01-13</td><td>109</td></tr>",
                            "<tr><td>Fortuna Panzió</td><td>2017-01-16</td><td>110</td></tr>",
                            "<tr><td>Fortuna panzió</td><td>2017-01-18</td><td>111</td></tr>",
                            "<tr><td>Fortuna panzió</td><td>2017-01-20</td><td>112</td></tr>",
                            "<tr><td>Fortuna panzió</td><td>2017-01-27</td><td>113</td></tr>",
                            "<tr><td>Fortuna panzió</td><td>2017-01-28</td><td>114</td></tr>",
                            "<tr><td>Fortuna Panzió</td><td>2017-02-10</td><td>115</td></tr>",
                            "<tr><td>Fortuna Panzió</td><td>2017-02-12</td><td>116</td></tr>",
                            "<tr><td>Fortuna panzió</td><td>2017-02-13</td><td>117</td></tr>",
                            "<tr><td>Fortuna Panzió</td><td>2017-02-16</td><td>119</td></tr>",
                            "<tr><td>Fortuna panzió</td><td>2017-02-16</td><td>119</td></tr>",
                            "<tr><td>Fortuna Panzió</td><td>2017-02-17</td><td>120</td></tr>",
                            "<tr><td>Fortuna Panzió</td><td>2017-02-18</td><td>121</td></tr>",
                            "<tr><td>Fortuna Panzió</td><td>2017-02-20</td><td>123</td></tr>",
                            "<tr><td>Fortuna Panzió</td><td>2017-02-20</td><td>123</td></tr>",
                            "<tr><td>Fortuna panzió</td><td>2017-02-21</td><td>124</td></tr>",
                            "<tr><td>Fortuna panzió</td><td>2017-02-24</td><td>125</td></tr>",
                            "<tr><td>Fortuna Panzió</td><td>2017-03-01</td><td>126</td></tr>",
                            "<tr><td>Gold Hotel</td><td>2016-04-10</td><td>4</td></tr>",
                            "<tr><td>Gold Hotel</td><td>2016-04-10</td><td>4</td></tr>",
                            "<tr><td>Gold Hotel</td><td>2016-04-10</td><td>4</td></tr>",
                            "<tr><td>Gold Hotel</td><td>2016-04-10</td><td>4</td></tr>",
                            "<tr><td>Gold Hotel</td><td>2016-04-13</td><td>5</td></tr>",
                            "<tr><td>Gold Hotel</td><td>2016-04-21</td><td>6</td></tr>",
                            "<tr><td>Gold Hotel</td><td>2016-04-24</td><td>7</td></tr>",
                            "<tr><td>Gold Hotel</td><td>2016-04-28</td><td>8</td></tr>",
                            "<tr><td>Gold Hotel</td><td>2016-05-01</td><td>9</td></tr>",
                            "<tr><td>Gold Hotel</td><td>2016-05-09</td><td>11</td></tr>",
                            "<tr><td>Gold Hotel</td><td>2016-05-09</td><td>11</td></tr>",
                            "<tr><td>Gold Hotel</td><td>2016-05-12</td><td>12</td></tr>",
                            "<tr><td>Gold Hotel</td><td>2016-05-14</td><td>13</td></tr>",
                            "<tr><td>Gold Hotel</td><td>2016-05-21</td><td>15</td></tr>",
                            "<tr><td>Gold Hotel</td><td>2016-05-21</td><td>15</td></tr>",
                            "<tr><td>Gold Hotel</td><td>2016-05-24</td><td>16</td></tr>",
                            "<tr><td>Gold Hotel</td><td>2016-05-25</td><td>17</td></tr>",
                            "<tr><td>Gold Hotel</td><td>2016-05-28</td><td>20</td></tr>",
                            "<tr><td>Gold Hotel</td><td>2016-05-28</td><td>20</td></tr>",
                            "<tr><td>Gold Hotel</td><td>2016-05-28</td><td>20</td></tr>",
                            "<tr><td>Gold Hotel</td><td>2016-05-30</td><td>21</td></tr>",
                            "<tr><td>Gold Hotel</td><td>2016-06-03</td><td>25</td></tr>",
                            "<tr><td>Gold Hotel</td><td>2016-06-03</td><td>25</td></tr>",
                            "<tr><td>Gold Hotel</td><td>2016-06-03</td><td>25</td></tr>",
                            "<tr><td>Gold Hotel</td><td>2016-06-03</td><td>25</td></tr>",
                            "<tr><td>Gold Hotel</td><td>2016-06-04</td><td>27</td></tr>",
                            "<tr><td>Gold Hotel</td><td>2016-06-04</td><td>27</td></tr>",
                            "<tr><td>Gold Hotel</td><td>2016-06-06</td><td>30</td></tr>",
                            "<tr><td>Gold Hotel</td><td>2016-06-06</td><td>30</td></tr>",
                            "<tr><td>Gold Hotel</td><td>2016-06-06</td><td>30</td></tr>",
                            "<tr><td>Gold Hotel</td><td>2016-06-07</td><td>34</td></tr>",
                            "<tr><td>Gold Hotel</td><td>2016-06-07</td><td>34</td></tr>",
                            "<tr><td>Gold Hotel</td><td>2016-06-07</td><td>34</td></tr>",
                            "<tr><td>Gold Hotel</td><td>2016-06-07</td><td>34</td></tr>",
                            "<tr><td>Gold Hotel</td><td>2016-06-08</td><td>35</td></tr>",
                            "<tr><td>Gold Hotel</td><td>2016-06-09</td><td>36</td></tr>",
                            "<tr><td>Gold Hotel</td><td>2016-06-10</td><td>37</td></tr>",
                            "<tr><td>Gold Hotel</td><td>2016-06-11</td><td>38</td></tr>",
                            "<tr><td>Gold Hotel</td><td>2016-06-13</td><td>40</td></tr>",
                            "<tr><td>Gold Hotel</td><td>2016-06-13</td><td>40</td></tr>",
                            "<tr><td>Gold Hotel</td><td>2016-06-20</td><td>41</td></tr>",
                            "<tr><td>Gold Hotel</td><td>2016-06-22</td><td>43</td></tr>",
                            "<tr><td>Gold Hotel</td><td>2016-06-22</td><td>43</td></tr>",
                            "<tr><td>Gold Hotel</td><td>2016-06-23</td><td>44</td></tr>",
                            "<tr><td>Gold Hotel</td><td>2016-06-24</td><td>45</td></tr>",
                            "<tr><td>Gold Hotel</td><td>2016-06-27</td><td>46</td></tr>",
                            "<tr><td>Gold Hotel</td><td>2016-06-28</td><td>47</td></tr>",
                            "<tr><td>Gold Hotel</td><td>2016-06-30</td><td>48</td></tr>",
                            "<tr><td>Gold Hotel</td><td>2016-07-04</td><td>50</td></tr>",
                            "<tr><td>Gold Hotel</td><td>2016-07-04</td><td>50</td></tr>",
                            "<tr><td>Gold Hotel</td><td>2016-07-06</td><td>51</td></tr>",
                            "<tr><td>Gold Hotel</td><td>2016-07-08</td><td>52</td></tr>",
                            "<tr><td>Gold Hotel</td><td>2016-07-09</td><td>53</td></tr>",
                            "<tr><td>Gold Hotel</td><td>2016-07-10</td><td>54</td></tr>",
                            "<tr><td>Gold Hotel</td><td>2016-07-14</td><td>57</td></tr>",
                            "<tr><td>Gold Hotel</td><td>2016-07-14</td><td>57</td></tr>",
                            "<tr><td>Gold Hotel</td><td>2016-07-14</td><td>57</td></tr>",
                            "<tr><td>Gold Hotel</td><td>2016-07-15</td><td>58</td></tr>",
                            "<tr><td>Gold Hotel</td><td>2016-07-16</td><td>59</td></tr>",
                            "<tr><td>Gold Hotel</td><td>2016-07-17</td><td>61</td></tr>",
                            "<tr><td>Gold Hotel</td><td>2016-07-17</td><td>61</td></tr>",
                            "<tr><td>Gold Hotel</td><td>2016-07-18</td><td>63</td></tr>",
                            "<tr><td>Gold Hotel</td><td>2016-07-18</td><td>63</td></tr>",
                            "<tr><td>Gold Hotel</td><td>2016-07-19</td><td>64</td></tr>",
                            "<tr><td>Gold Hotel</td><td>2016-07-20</td><td>67</td></tr>",
                            "<tr><td>Gold Hotel</td><td>2016-07-20</td><td>67</td></tr>",
                            "<tr><td>Gold Hotel</td><td>2016-07-20</td><td>67</td></tr>",
                            "<tr><td>Gold Hotel</td><td>2016-07-24</td><td>70</td></tr>",
                            "<tr><td>Gold Hotel</td><td>2016-07-24</td><td>70</td></tr>",
                            "<tr><td>Gold Hotel</td><td>2016-07-24</td><td>70</td></tr>",
                            "<tr><td>Gold Hotel</td><td>2016-07-27</td><td>71</td></tr>",
                            "<tr><td>Gold Hotel</td><td>2016-07-28</td><td>72</td></tr>",
                            "<tr><td>Gold Hotel</td><td>2016-07-30</td><td>73</td></tr>",
                            "<tr><td>Gold Hotel</td><td>2016-07-31</td><td>74</td></tr>",
                            "<tr><td>Gold Hotel</td><td>2016-08-01</td><td>76</td></tr>",
                            "<tr><td>Gold Hotel</td><td>2016-08-01</td><td>76</td></tr>",
                            "<tr><td>Gold Hotel</td><td>2016-08-02</td><td>77</td></tr>",
                            "<tr><td>Gold Hotel</td><td>2016-08-03</td><td>78</td></tr>",
                            "<tr><td>Gold Hotel</td><td>2016-08-09</td><td>79</td></tr>",
                            "<tr><td>Gold Hotel</td><td>2016-08-10</td><td>80</td></tr>",
                            "<tr><td>Gold Hotel</td><td>2016-08-13</td><td>81</td></tr>",
                            "<tr><td>Gold Hotel</td><td>2016-08-16</td><td>84</td></tr>",
                            "<tr><td>Gold Hotel</td><td>2016-08-16</td><td>84</td></tr>",
                            "<tr><td>Gold Hotel</td><td>2016-08-16</td><td>84</td></tr>",
                            "<tr><td>Gold Hotel</td><td>2016-08-17</td><td>85</td></tr>",
                            "<tr><td>Gold Hotel</td><td>2016-08-19</td><td>86</td></tr>",
                            "<tr><td>Gold Hotel</td><td>2016-08-24</td><td>87</td></tr>",
                            "<tr><td>Gold Hotel</td><td>2016-08-28</td><td>88</td></tr>",
                            "<tr><td>Gold Hotel</td><td>2016-08-29</td><td>90</td></tr>",
                            "<tr><td>Gold Hotel</td><td>2016-08-29</td><td>90</td></tr>",
                            "<tr><td>Gold Hotel</td><td>2016-08-31</td><td>91</td></tr>",
                            "<tr><td>Gold Hotel</td><td>2016-09-05</td><td>92</td></tr>",
                            "<tr><td>Gold Hotel</td><td>2016-09-09</td><td>93</td></tr>",
                            "<tr><td>Gold Hotel</td><td>2016-09-11</td><td>94</td></tr>",
                            "<tr><td>Gold Hotel</td><td>2016-09-18</td><td>95</td></tr>",
                            "<tr><td>Gold Hotel</td><td>2016-09-19</td><td>96</td></tr>",
                            "<tr><td>Gold Hotel</td><td>2016-09-22</td><td>97</td></tr>",
                            "<tr><td>Gold Hotel</td><td>2016-09-30</td><td>100</td></tr>",
                            "<tr><td>Gold Hotel</td><td>2016-09-30</td><td>100</td></tr>",
                            "<tr><td>Gold Hotel</td><td>2016-09-30</td><td>100</td></tr>",
                            "<tr><td>Gold Hotel</td><td>2016-10-03</td><td>101</td></tr>",
                            "<tr><td>Gold Hotel</td><td>2016-10-06</td><td>102</td></tr>",
                            "<tr><td>Gold Hotel</td><td>2016-10-08</td><td>103</td></tr>",
                            "<tr><td>Gold Hotel</td><td>2016-10-09</td><td>107</td></tr>",
                            "<tr><td>Gold Hotel</td><td>2016-10-09</td><td>107</td></tr>",
                            "<tr><td>Gold Hotel</td><td>2016-10-09</td><td>107</td></tr>",
                            "<tr><td>Gold Hotel</td><td>2016-10-09</td><td>107</td></tr>",
                            "<tr><td>Gold Hotel</td><td>2016-10-10</td><td>108</td></tr>",
                            "<tr><td>Gold Hotel</td><td>2016-10-15</td><td>109</td></tr>",
                            "<tr><td>Gold Hotel</td><td>2016-10-17</td><td>110</td></tr>",
                            "<tr><td>Gold Hotel</td><td>2016-10-20</td><td>112</td></tr>",
                            "<tr><td>Gold Hotel</td><td>2016-10-20</td><td>112</td></tr>",
                            "<tr><td>Gold Hotel</td><td>2016-10-21</td><td>113</td></tr>",
                            "<tr><td>Gold Hotel</td><td>2016-10-23</td><td>116</td></tr>",
                            "<tr><td>Gold Hotel</td><td>2016-10-23</td><td>116</td></tr>",
                            "<tr><td>Gold Hotel</td><td>2016-10-23</td><td>116</td></tr>",
                            "<tr><td>Gold Hotel</td><td>2016-10-24</td><td>117</td></tr>",
                            "<tr><td>Gold Hotel</td><td>2016-10-26</td><td>118</td></tr>",
                            "<tr><td>Gold Hotel</td><td>2016-10-27</td><td>119</td></tr>",
                            "<tr><td>Gold Hotel</td><td>2016-10-28</td><td>120</td></tr>",
                            "<tr><td>Gold Hotel</td><td>2016-10-29</td><td>121</td></tr>",
                            "<tr><td>Gold Hotel</td><td>2016-10-30</td><td>123</td></tr>",
                            "<tr><td>Gold Hotel</td><td>2016-10-30</td><td>123</td></tr>",
                            "<tr><td>Gold Hotel</td><td>2016-11-03</td><td>125</td></tr>",
                            "<tr><td>Gold Hotel</td><td>2016-11-03</td><td>125</td></tr>",
                            "<tr><td>Gold Hotel</td><td>2016-11-05</td><td>128</td></tr>",
                            "<tr><td>Gold Hotel</td><td>2016-11-05</td><td>128</td></tr>",
                            "<tr><td>Gold Hotel</td><td>2016-11-05</td><td>128</td></tr>",
                            "<tr><td>Gold Hotel</td><td>2016-11-08</td><td>129</td></tr>",
                            "<tr><td>Gold Hotel</td><td>2016-11-09</td><td>130</td></tr>",
                            "<tr><td>Gold Hotel</td><td>2016-11-12</td><td>131</td></tr>",
                            "<tr><td>Gold Hotel</td><td>2016-11-13</td><td>132</td></tr>",
                            "<tr><td>Gold Hotel</td><td>2016-11-22</td><td>134</td></tr>",
                            "<tr><td>Gold Hotel</td><td>2016-11-22</td><td>134</td></tr>",
                            "<tr><td>Gold Hotel</td><td>2016-11-23</td><td>136</td></tr>",
                            "<tr><td>Gold Hotel</td><td>2016-11-23</td><td>136</td></tr>",
                            "<tr><td>Gold Hotel</td><td>2016-11-25</td><td>137</td></tr>",
                            "<tr><td>Gold Hotel</td><td>2016-11-27</td><td>138</td></tr>",
                            "<tr><td>Gold Hotel</td><td>2016-11-28</td><td>139</td></tr>",
                            "<tr><td>Gold Hotel</td><td>2016-11-29</td><td>140</td></tr>",
                            "<tr><td>Gold Hotel</td><td>2016-12-02</td><td>141</td></tr>",
                            "<tr><td>Gold Hotel</td><td>2016-12-04</td><td>143</td></tr>",
                            "<tr><td>Gold Hotel</td><td>2016-12-04</td><td>143</td></tr>",
                            "<tr><td>Gold Hotel</td><td>2016-12-05</td><td>144</td></tr>",
                            "<tr><td>Gold Hotel</td><td>2016-12-06</td><td>145</td></tr>",
                            "<tr><td>Gold Hotel</td><td>2016-12-09</td><td>146</td></tr>",
                            "<tr><td>Gold Hotel</td><td>2016-12-17</td><td>147</td></tr>",
                            "<tr><td>Gold Hotel</td><td>2016-12-22</td><td>148</td></tr>",
                            "<tr><td>Gold Hotel</td><td>2016-12-24</td><td>149</td></tr>",
                            "<tr><td>Gold Hotel</td><td>2016-12-25</td><td>150</td></tr>",
                            "<tr><td>Gold Hotel</td><td>2016-12-29</td><td>151</td></tr>",
                            "<tr><td>Gold Hotel</td><td>2016-12-30</td><td>152</td></tr>",
                            "<tr><td>Gold Hotel</td><td>2017-01-01</td><td>153</td></tr>",
                            "<tr><td>Gold Hotel</td><td>2017-01-02</td><td>154</td></tr>",
                            "<tr><td>Gold Hotel</td><td>2017-01-05</td><td>156</td></tr>",
                            "<tr><td>Gold Hotel</td><td>2017-01-05</td><td>156</td></tr>",
                            "<tr><td>Gold Hotel</td><td>2017-01-06</td><td>157</td></tr>",
                            "<tr><td>Gold Hotel</td><td>2017-01-09</td><td>159</td></tr>",
                            "<tr><td>Gold Hotel</td><td>2017-01-09</td><td>159</td></tr>",
                            "<tr><td>Gold Hotel</td><td>2017-01-13</td><td>160</td></tr>",
                            "<tr><td>Gold Hotel</td><td>2017-01-16</td><td>161</td></tr>",
                            "<tr><td>Gold Hotel</td><td>2017-01-17</td><td>162</td></tr>",
                            "<tr><td>Gold Hotel</td><td>2017-01-22</td><td>164</td></tr>",
                            "<tr><td>Gold Hotel</td><td>2017-01-22</td><td>164</td></tr>",
                            "<tr><td>Gold Hotel</td><td>2017-01-24</td><td>165</td></tr>",
                            "<tr><td>Gold Hotel</td><td>2017-01-30</td><td>166</td></tr>",
                            "<tr><td>Gold Hotel</td><td>2017-02-03</td><td>167</td></tr>",
                            "<tr><td>Gold Hotel</td><td>2017-02-04</td><td>168</td></tr>",
                            "<tr><td>Gold Hotel</td><td>2017-02-05</td><td>170</td></tr>",
                            "<tr><td>Gold Hotel</td><td>2017-02-05</td><td>170</td></tr>",
                            "<tr><td>Gold Hotel</td><td>2017-02-08</td><td>172</td></tr>",
                            "<tr><td>Gold Hotel</td><td>2017-02-08</td><td>172</td></tr>",
                            "<tr><td>Gold Hotel</td><td>2017-02-11</td><td>173</td></tr>",
                            "<tr><td>Gold Hotel</td><td>2017-02-12</td><td>174</td></tr>",
                            "<tr><td>Gold Hotel</td><td>2017-02-22</td><td>175</td></tr>",
                            "<tr><td>Gold Hotel</td><td>2017-02-23</td><td>176</td></tr>",
                            "<tr><td>Gold Hotel</td><td>2017-02-24</td><td>178</td></tr>",
                            "<tr><td>Gold Hotel</td><td>2017-02-24</td><td>178</td></tr>",
                            "<tr><td>Gold Hotel</td><td>2017-02-26</td><td>179</td></tr>",
                            "<tr><td>Hotel Három Hattyú</td><td>2016-04-11</td><td>1</td></tr>",
                            "<tr><td>Hotel Három Hattyú</td><td>2016-04-18</td><td>2</td></tr>",
                            "<tr><td>Hotel Három Hattyú</td><td>2016-04-19</td><td>3</td></tr>",
                            "<tr><td>Hotel Három Hattyú</td><td>2016-04-23</td><td>5</td></tr>",
                            "<tr><td>Hotel Három Hattyú</td><td>2016-04-23</td><td>5</td></tr>",
                            "<tr><td>Hotel Három Hattyú</td><td>2016-04-27</td><td>6</td></tr>",
                            "<tr><td>Hotel Három Hattyú</td><td>2016-04-28</td><td>7</td></tr>",
                            "<tr><td>Hotel Három Hattyú</td><td>2016-04-30</td><td>8</td></tr>",
                            "<tr><td>Hotel Három Hattyú</td><td>2016-05-01</td><td>10</td></tr>",
                            "<tr><td>Hotel Három Hattyú</td><td>2016-05-01</td><td>10</td></tr>",
                            "<tr><td>Hotel Három Hattyú</td><td>2016-05-02</td><td>12</td></tr>",
                            "<tr><td>Hotel Három Hattyú</td><td>2016-05-02</td><td>12</td></tr>",
                            "<tr><td>Hotel Három Hattyú</td><td>2016-05-03</td><td>13</td></tr>",
                            "<tr><td>Hotel Három Hattyú</td><td>2016-05-06</td><td>14</td></tr>",
                            "<tr><td>Hotel Három Hattyú</td><td>2016-05-08</td><td>15</td></tr>",
                            "<tr><td>Hotel Három Hattyú</td><td>2016-05-09</td><td>17</td></tr>",
                            "<tr><td>Hotel Három Hattyú</td><td>2016-05-09</td><td>17</td></tr>",
                            "<tr><td>Hotel Három Hattyú</td><td>2016-05-10</td><td>19</td></tr>",
                            "<tr><td>Hotel Három Hattyú</td><td>2016-05-10</td><td>19</td></tr>",
                            "<tr><td>Hotel Három Hattyú</td><td>2016-05-11</td><td>20</td></tr>",
                            "<tr><td>Hotel Három Hattyú</td><td>2016-05-14</td><td>21</td></tr>",
                            "<tr><td>Hotel Három Hattyú</td><td>2016-05-18</td><td>22</td></tr>",
                            "<tr><td>Hotel Három Hattyú</td><td>2016-05-19</td><td>23</td></tr>",
                            "<tr><td>Hotel Három Hattyú</td><td>2016-05-24</td><td>24</td></tr>",
                            "<tr><td>Hotel Három Hattyú</td><td>2016-05-25</td><td>25</td></tr>",
                            "<tr><td>Hotel Három Hattyú</td><td>2016-05-27</td><td>26</td></tr>",
                            "<tr><td>Hotel Három Hattyú</td><td>2016-05-28</td><td>27</td></tr>",
                            "<tr><td>Hotel Három Hattyú</td><td>2016-05-30</td><td>29</td></tr>",
                            "<tr><td>Hotel Három Hattyú</td><td>2016-05-30</td><td>29</td></tr>",
                            "<tr><td>Hotel Három Hattyú</td><td>2016-06-06</td><td>30</td></tr>",
                            "<tr><td>Hotel Három Hattyú</td><td>2016-06-07</td><td>32</td></tr>",
                            "<tr><td>Hotel Három Hattyú</td><td>2016-06-07</td><td>32</td></tr>",
                            "<tr><td>Hotel Három Hattyú</td><td>2016-06-10</td><td>34</td></tr>",
                            "<tr><td>Hotel Három Hattyú</td><td>2016-06-10</td><td>34</td></tr>",
                            "<tr><td>Hotel Három Hattyú</td><td>2016-06-12</td><td>35</td></tr>",
                            "<tr><td>Hotel Három Hattyú</td><td>2016-06-14</td><td>36</td></tr>",
                            "<tr><td>Hotel Három Hattyú</td><td>2016-06-16</td><td>40</td></tr>",
                            "<tr><td>Hotel Három Hattyú</td><td>2016-06-16</td><td>40</td></tr>",
                            "<tr><td>Hotel Három Hattyú</td><td>2016-06-16</td><td>40</td></tr>",
                            "<tr><td>Hotel Három Hattyú</td><td>2016-06-16</td><td>40</td></tr>",
                            "<tr><td>Hotel Három Hattyú</td><td>2016-06-19</td><td>41</td></tr>",
                            "<tr><td>Hotel Három Hattyú</td><td>2016-06-21</td><td>42</td></tr>",
                            "<tr><td>Hotel Három Hattyú</td><td>2016-06-29</td><td>43</td></tr>",
                            "<tr><td>Hotel Három Hattyú</td><td>2016-06-30</td><td>44</td></tr>",
                            "<tr><td>Hotel Három Hattyú</td><td>2016-07-01</td><td>46</td></tr>",
                            "<tr><td>Hotel Három Hattyú</td><td>2016-07-01</td><td>46</td></tr>",
                            "<tr><td>Hotel Három Hattyú</td><td>2016-07-03</td><td>47</td></tr>",
                            "<tr><td>Hotel Három Hattyú</td><td>2016-07-04</td><td>48</td></tr>",
                            "<tr><td>Hotel Három Hattyú</td><td>2016-07-07</td><td>49</td></tr>",
                            "<tr><td>Hotel Három Hattyú</td><td>2016-07-12</td><td>50</td></tr>",
                            "<tr><td>Hotel Három Hattyú</td><td>2016-07-13</td><td>51</td></tr>",
                            "<tr><td>Hotel Három Hattyú</td><td>2016-07-14</td><td>52</td></tr>",
                            "<tr><td>Hotel Három Hattyú</td><td>2016-07-18</td><td>53</td></tr>",
                            "<tr><td>Hotel Három Hattyú</td><td>2016-07-19</td><td>54</td></tr>",
                            "<tr><td>Hotel Három Hattyú</td><td>2016-07-20</td><td>55</td></tr>",
                            "<tr><td>Hotel Három Hattyú</td><td>2016-07-22</td><td>56</td></tr>",
                            "<tr><td>Hotel Három Hattyú</td><td>2016-07-23</td><td>57</td></tr>",
                            "<tr><td>Hotel Három Hattyú</td><td>2016-07-25</td><td>58</td></tr>",
                            "<tr><td>Hotel Három Hattyú</td><td>2016-07-26</td><td>60</td></tr>",
                            "<tr><td>Hotel Három Hattyú</td><td>2016-07-26</td><td>60</td></tr>",
                            "<tr><td>Hotel Három Hattyú</td><td>2016-07-27</td><td>65</td></tr>",
                            "<tr><td>Hotel Három Hattyú</td><td>2016-07-27</td><td>65</td></tr>",
                            "<tr><td>Hotel Három Hattyú</td><td>2016-07-27</td><td>65</td></tr>",
                            "<tr><td>Hotel Három Hattyú</td><td>2016-07-27</td><td>65</td></tr>",
                            "<tr><td>Hotel Három Hattyú</td><td>2016-07-27</td><td>65</td></tr>",
                            "<tr><td>Hotel Három Hattyú</td><td>2016-07-28</td><td>67</td></tr>",
                            "<tr><td>Hotel Három Hattyú</td><td>2016-07-28</td><td>67</td></tr>",
                            "<tr><td>Hotel Három Hattyú</td><td>2016-07-29</td><td>68</td></tr>",
                            "<tr><td>Hotel Három Hattyú</td><td>2016-07-30</td><td>70</td></tr>",
                            "<tr><td>Hotel Három Hattyú</td><td>2016-07-30</td><td>70</td></tr>",
                            "<tr><td>Hotel Három Hattyú</td><td>2016-08-04</td><td>71</td></tr>",
                            "<tr><td>Hotel Három Hattyú</td><td>2016-08-07</td><td>72</td></tr>",
                            "<tr><td>Hotel Három Hattyú</td><td>2016-08-14</td><td>73</td></tr>",
                            "<tr><td>Hotel Három Hattyú</td><td>2016-08-15</td><td>74</td></tr>",
                            "<tr><td>Hotel Három Hattyú</td><td>2016-08-16</td><td>75</td></tr>",
                            "<tr><td>Hotel Három Hattyú</td><td>2016-08-20</td><td>76</td></tr>",
                            "<tr><td>Hotel Három Hattyú</td><td>2016-08-21</td><td>77</td></tr>",
                            "<tr><td>Hotel Három Hattyú</td><td>2016-08-23</td><td>79</td></tr>",
                            "<tr><td>Hotel Három Hattyú</td><td>2016-08-23</td><td>79</td></tr>",
                            "<tr><td>Hotel Három Hattyú</td><td>2016-08-24</td><td>80</td></tr>",
                            "<tr><td>Hotel Három Hattyú</td><td>2016-08-26</td><td>81</td></tr>",
                            "<tr><td>Hotel Három Hattyú</td><td>2016-08-29</td><td>83</td></tr>",
                            "<tr><td>Hotel Három Hattyú</td><td>2016-08-29</td><td>83</td></tr>",
                            "<tr><td>Hotel Három Hattyú</td><td>2016-08-31</td><td>84</td></tr>",
                            "<tr><td>Hotel Három Hattyú</td><td>2016-09-05</td><td>85</td></tr>",
                            "<tr><td>Hotel Három Hattyú</td><td>2016-09-06</td><td>86</td></tr>",
                            "<tr><td>Hotel Három Hattyú</td><td>2016-09-08</td><td>87</td></tr>",
                            "<tr><td>Hotel Három Hattyú</td><td>2016-09-10</td><td>88</td></tr>",
                            "<tr><td>Hotel Három Hattyú</td><td>2016-09-13</td><td>91</td></tr>",
                            "<tr><td>Hotel Három Hattyú</td><td>2016-09-13</td><td>91</td></tr>",
                            "<tr><td>Hotel Három Hattyú</td><td>2016-09-13</td><td>91</td></tr>",
                            "<tr><td>Hotel Három Hattyú</td><td>2016-09-17</td><td>92</td></tr>",
                            "<tr><td>Hotel Három Hattyú</td><td>2016-09-20</td><td>93</td></tr>",
                            "<tr><td>Hotel Három Hattyú</td><td>2016-09-27</td><td>94</td></tr>",
                            "<tr><td>Hotel Három Hattyú</td><td>2016-09-28</td><td>95</td></tr>",
                            "<tr><td>Hotel Három Hattyú</td><td>2016-09-30</td><td>96</td></tr>",
                            "<tr><td>Hotel Három Hattyú</td><td>2016-10-01</td><td>99</td></tr>",
                            "<tr><td>Hotel Három Hattyú</td><td>2016-10-01</td><td>99</td></tr>",
                            "<tr><td>Hotel Három Hattyú</td><td>2016-10-01</td><td>99</td></tr>",
                            "<tr><td>Hotel Három Hattyú</td><td>2016-10-04</td><td>100</td></tr>",
                            "<tr><td>Hotel Három Hattyú</td><td>2016-10-06</td><td>101</td></tr>",
                            "<tr><td>Hotel Három Hattyú</td><td>2016-10-08</td><td>103</td></tr>",
                            "<tr><td>Hotel Három Hattyú</td><td>2016-10-08</td><td>103</td></tr>",
                            "<tr><td>Hotel Három Hattyú</td><td>2016-10-15</td><td>104</td></tr>",
                            "<tr><td>Hotel Három Hattyú</td><td>2016-10-17</td><td>105</td></tr>",
                            "<tr><td>Hotel Három Hattyú</td><td>2016-10-19</td><td>106</td></tr>",
                            "<tr><td>Hotel Három Hattyú</td><td>2016-10-20</td><td>107</td></tr>",
                            "<tr><td>Hotel Három Hattyú</td><td>2016-10-22</td><td>108</td></tr>",
                            "<tr><td>Hotel Három Hattyú</td><td>2016-10-26</td><td>109</td></tr>",
                            "<tr><td>Hotel Három Hattyú</td><td>2016-10-28</td><td>112</td></tr>",
                            "<tr><td>Hotel Három Hattyú</td><td>2016-10-28</td><td>112</td></tr>",
                            "<tr><td>Hotel Három Hattyú</td><td>2016-10-28</td><td>112</td></tr>",
                            "<tr><td>Hotel Három Hattyú</td><td>2016-10-29</td><td>114</td></tr>",
                            "<tr><td>Hotel Három Hattyú</td><td>2016-10-29</td><td>114</td></tr>",
                            "<tr><td>Hotel Három Hattyú</td><td>2016-10-30</td><td>117</td></tr>",
                            "<tr><td>Hotel Három Hattyú</td><td>2016-10-30</td><td>117</td></tr>",
                            "<tr><td>Hotel Három Hattyú</td><td>2016-10-30</td><td>117</td></tr>",
                            "<tr><td>Hotel Három Hattyú</td><td>2016-11-03</td><td>118</td></tr>",
                            "<tr><td>Hotel Három Hattyú</td><td>2016-11-04</td><td>119</td></tr>",
                            "<tr><td>Hotel Három Hattyú</td><td>2016-11-05</td><td>121</td></tr>",
                            "<tr><td>Hotel Három Hattyú</td><td>2016-11-05</td><td>121</td></tr>",
                            "<tr><td>Hotel Három Hattyú</td><td>2016-11-08</td><td>122</td></tr>",
                            "<tr><td>Hotel Három Hattyú</td><td>2016-11-10</td><td>123</td></tr>",
                            "<tr><td>Hotel Három Hattyú</td><td>2016-11-15</td><td>124</td></tr>",
                            "<tr><td>Hotel Három Hattyú</td><td>2016-11-16</td><td>125</td></tr>",
                            "<tr><td>Hotel Három Hattyú</td><td>2016-11-19</td><td>127</td></tr>",
                            "<tr><td>Hotel Három Hattyú</td><td>2016-11-19</td><td>127</td></tr>",
                            "<tr><td>Hotel Három Hattyú</td><td>2016-11-20</td><td>128</td></tr>",
                            "<tr><td>Hotel Három Hattyú</td><td>2016-11-22</td><td>129</td></tr>",
                            "<tr><td>Hotel Három Hattyú</td><td>2016-11-23</td><td>130</td></tr>",
                            "<tr><td>Hotel Három Hattyú</td><td>2016-11-24</td><td>131</td></tr>",
                            "<tr><td>Hotel Három Hattyú</td><td>2016-11-29</td><td>133</td></tr>",
                            "<tr><td>Hotel Három Hattyú</td><td>2016-11-29</td><td>133</td></tr>",
                            "<tr><td>Hotel Három Hattyú</td><td>2016-12-02</td><td>134</td></tr>",
                            "<tr><td>Hotel Három Hattyú</td><td>2016-12-03</td><td>135</td></tr>",
                            "<tr><td>Hotel Három Hattyú</td><td>2016-12-05</td><td>136</td></tr>",
                            "<tr><td>Hotel Három Hattyú</td><td>2016-12-07</td><td>139</td></tr>",
                            "<tr><td>Hotel Három Hattyú</td><td>2016-12-07</td><td>139</td></tr>",
                            "<tr><td>Hotel Három Hattyú</td><td>2016-12-07</td><td>139</td></tr>",
                            "<tr><td>Hotel Három Hattyú</td><td>2016-12-08</td><td>140</td></tr>",
                            "<tr><td>Hotel Három Hattyú</td><td>2016-12-13</td><td>141</td></tr>",
                            "<tr><td>Hotel Három Hattyú</td><td>2016-12-15</td><td>142</td></tr>",
                            "<tr><td>Hotel Három Hattyú</td><td>2016-12-17</td><td>146</td></tr>",
                            "<tr><td>Hotel Három Hattyú</td><td>2016-12-17</td><td>146</td></tr>",
                            "<tr><td>Hotel Három Hattyú</td><td>2016-12-17</td><td>146</td></tr>",
                            "<tr><td>Hotel Három Hattyú</td><td>2016-12-17</td><td>146</td></tr>",
                            "<tr><td>Hotel Három Hattyú</td><td>2016-12-18</td><td>147</td></tr>",
                            "<tr><td>Hotel Három Hattyú</td><td>2016-12-23</td><td>148</td></tr>",
                            "<tr><td>Hotel Három Hattyú</td><td>2016-12-25</td><td>153</td></tr>",
                            "<tr><td>Hotel Három Hattyú</td><td>2016-12-25</td><td>153</td></tr>",
                            "<tr><td>Hotel Három Hattyú</td><td>2016-12-25</td><td>153</td></tr>",
                            "<tr><td>Hotel Három Hattyú</td><td>2016-12-25</td><td>153</td></tr>",
                            "<tr><td>Hotel Három Hattyú</td><td>2016-12-25</td><td>153</td></tr>",
                            "<tr><td>Hotel Három Hattyú</td><td>2016-12-26</td><td>154</td></tr>",
                            "<tr><td>Hotel Három Hattyú</td><td>2016-12-28</td><td>155</td></tr>",
                            "<tr><td>Hotel Három Hattyú</td><td>2016-12-29</td><td>156</td></tr>",
                            "<tr><td>Hotel Három Hattyú</td><td>2016-12-31</td><td>157</td></tr>",
                            "<tr><td>Hotel Három Hattyú</td><td>2017-01-02</td><td>158</td></tr>",
                            "<tr><td>Hotel Három Hattyú</td><td>2017-01-03</td><td>159</td></tr>",
                            "<tr><td>Hotel Három Hattyú</td><td>2017-01-05</td><td>160</td></tr>",
                            "<tr><td>Hotel Három Hattyú</td><td>2017-01-07</td><td>161</td></tr>",
                            "<tr><td>Hotel Három Hattyú</td><td>2017-01-09</td><td>162</td></tr>",
                            "<tr><td>Hotel Három Hattyú</td><td>2017-01-14</td><td>163</td></tr>",
                            "<tr><td>Hotel Három Hattyú</td><td>2017-01-15</td><td>164</td></tr>",
                            "<tr><td>Hotel Három Hattyú</td><td>2017-01-16</td><td>165</td></tr>",
                            "<tr><td>Hotel Három Hattyú</td><td>2017-01-17</td><td>166</td></tr>",
                            "<tr><td>Hotel Három Hattyú</td><td>2017-01-18</td><td>167</td></tr>",
                            "<tr><td>Hotel Három Hattyú</td><td>2017-01-23</td><td>168</td></tr>",
                            "<tr><td>Hotel Három Hattyú</td><td>2017-01-24</td><td>169</td></tr>",
                            "<tr><td>Hotel Három Hattyú</td><td>2017-01-29</td><td>171</td></tr>",
                            "<tr><td>Hotel Három Hattyú</td><td>2017-01-29</td><td>171</td></tr>",
                            "<tr><td>Hotel Három Hattyú</td><td>2017-01-30</td><td>173</td></tr>",
                            "<tr><td>Hotel Három Hattyú</td><td>2017-01-30</td><td>173</td></tr>",
                            "<tr><td>Hotel Három Hattyú</td><td>2017-01-31</td><td>174</td></tr>",
                            "<tr><td>Hotel Három Hattyú</td><td>2017-02-01</td><td>175</td></tr>",
                            "<tr><td>Hotel Három Hattyú</td><td>2017-02-02</td><td>176</td></tr>",
                            "<tr><td>Hotel Három Hattyú</td><td>2017-02-04</td><td>179</td></tr>",
                            "<tr><td>Hotel Három Hattyú</td><td>2017-02-04</td><td>179</td></tr>",
                            "<tr><td>Hotel Három Hattyú</td><td>2017-02-04</td><td>179</td></tr>",
                            "<tr><td>Hotel Három Hattyú</td><td>2017-02-05</td><td>182</td></tr>",
                            "<tr><td>Hotel Három Hattyú</td><td>2017-02-05</td><td>182</td></tr>",
                            "<tr><td>Hotel Három Hattyú</td><td>2017-02-05</td><td>182</td></tr>",
                            "<tr><td>Hotel Három Hattyú</td><td>2017-02-08</td><td>184</td></tr>",
                            "<tr><td>Hotel Három Hattyú</td><td>2017-02-08</td><td>184</td></tr>",
                            "<tr><td>Hotel Három Hattyú</td><td>2017-02-10</td><td>185</td></tr>",
                            "<tr><td>Hotel Három Hattyú</td><td>2017-02-12</td><td>188</td></tr>",
                            "<tr><td>Hotel Három Hattyú</td><td>2017-02-12</td><td>188</td></tr>",
                            "<tr><td>Hotel Három Hattyú</td><td>2017-02-12</td><td>188</td></tr>",
                            "<tr><td>Hotel Három Hattyú</td><td>2017-02-13</td><td>192</td></tr>",
                            "<tr><td>Hotel Három Hattyú</td><td>2017-02-13</td><td>192</td></tr>",
                            "<tr><td>Hotel Három Hattyú</td><td>2017-02-13</td><td>192</td></tr>",
                            "<tr><td>Hotel Három Hattyú</td><td>2017-02-13</td><td>192</td></tr>",
                            "<tr><td>Hotel Három Hattyú</td><td>2017-02-14</td><td>193</td></tr>",
                            "<tr><td>Hotel Három Hattyú</td><td>2017-02-16</td><td>195</td></tr>",
                            "<tr><td>Hotel Három Hattyú</td><td>2017-02-16</td><td>195</td></tr>",
                            "<tr><td>Hotel Három Hattyú</td><td>2017-02-20</td><td>197</td></tr>",
                            "<tr><td>Hotel Három Hattyú</td><td>2017-02-20</td><td>197</td></tr>",
                            "<tr><td>Hotel Három Hattyú</td><td>2017-02-23</td><td>199</td></tr>",
                            "<tr><td>Hotel Három Hattyú</td><td>2017-02-23</td><td>199</td></tr>",
                            "<tr><td>Hotel Három Hattyú</td><td>2017-02-24</td><td>201</td></tr>",
                            "<tr><td>Hotel Három Hattyú</td><td>2017-02-24</td><td>201</td></tr>",
                            "<tr><td>Hotel Három Hattyú</td><td>2017-02-26</td><td>202</td></tr>",
                            "<tr><td>Hotel Három Hattyú</td><td>2017-02-28</td><td>203</td></tr>",
                            "<tr><td>Hotel Három Hattyú</td><td>2017-03-03</td><td>204</td></tr>",
                            "<tr><td>Jáde panzió</td><td>2016-04-06</td><td>1</td></tr>",
                            "<tr><td>Jáde panzió</td><td>2016-04-14</td><td>2</td></tr>",
                            "<tr><td>Jáde panzió</td><td>2016-05-01</td><td>3</td></tr>",
                            "<tr><td>Jáde panzió</td><td>2016-05-04</td><td>4</td></tr>",
                            "<tr><td>Jáde panzió</td><td>2016-05-18</td><td>5</td></tr>",
                            "<tr><td>Jáde panzió</td><td>2016-05-30</td><td>6</td></tr>",
                            "<tr><td>Jáde panzió</td><td>2016-06-06</td><td>8</td></tr>",
                            "<tr><td>Jáde panzió</td><td>2016-06-06</td><td>8</td></tr>",
                            "<tr><td>Jáde panzió</td><td>2016-06-27</td><td>9</td></tr>",
                            "<tr><td>Jáde panzió</td><td>2016-07-01</td><td>10</td></tr>",
                            "<tr><td>Jáde panzió</td><td>2016-07-03</td><td>11</td></tr>",
                            "<tr><td>Jáde panzió</td><td>2016-07-11</td><td>12</td></tr>",
                            "<tr><td>Jáde panzió</td><td>2016-08-06</td><td>13</td></tr>",
                            "<tr><td>Jáde panzió</td><td>2016-08-15</td><td>14</td></tr>",
                            "<tr><td>Jáde panzió</td><td>2016-09-09</td><td>15</td></tr>",
                            "<tr><td>Jáde panzió</td><td>2016-09-12</td><td>16</td></tr>",
                            "<tr><td>Jáde panzió</td><td>2016-09-30</td><td>17</td></tr>",
                            "<tr><td>Jáde panzió</td><td>2016-10-01</td><td>18</td></tr>",
                            "<tr><td>Jáde panzió</td><td>2016-10-12</td><td>19</td></tr>",
                            "<tr><td>Jáde panzió</td><td>2016-10-22</td><td>20</td></tr>",
                            "<tr><td>Jáde panzió</td><td>2016-10-30</td><td>21</td></tr>",
                            "<tr><td>Jáde panzió</td><td>2016-11-22</td><td>23</td></tr>",
                            "<tr><td>Jáde panzió</td><td>2016-11-22</td><td>23</td></tr>",
                            "<tr><td>Jáde panzió</td><td>2016-12-15</td><td>24</td></tr>",
                            "<tr><td>Jáde panzió</td><td>2017-01-01</td><td>25</td></tr>",
                            "<tr><td>Jáde panzió</td><td>2017-01-25</td><td>26</td></tr>",
                            "<tr><td>Jáde panzió</td><td>2017-01-26</td><td>27</td></tr>",
                            "<tr><td>Jáde panzió</td><td>2017-02-12</td><td>28</td></tr>",
                            "<tr><td>Jáde panzió</td><td>2017-02-15</td><td>29</td></tr>",
                            "<tr><td>Kentaur Hotel</td><td>2016-04-07</td><td>1</td></tr>",
                            "<tr><td>Kentaur Hotel</td><td>2016-04-10</td><td>3</td></tr>",
                            "<tr><td>Kentaur Hotel</td><td>2016-04-10</td><td>3</td></tr>",
                            "<tr><td>Kentaur Hotel</td><td>2016-04-16</td><td>4</td></tr>",
                            "<tr><td>Kentaur Hotel</td><td>2016-04-17</td><td>5</td></tr>",
                            "<tr><td>Kentaur Hotel</td><td>2016-04-21</td><td>6</td></tr>",
                            "<tr><td>Kentaur Hotel</td><td>2016-04-22</td><td>7</td></tr>",
                            "<tr><td>Kentaur Hotel</td><td>2016-05-07</td><td>8</td></tr>",
                            "<tr><td>Kentaur Hotel</td><td>2016-05-08</td><td>9</td></tr>",
                            "<tr><td>Kentaur Hotel</td><td>2016-05-12</td><td>10</td></tr>",
                            "<tr><td>Kentaur Hotel</td><td>2016-05-13</td><td>11</td></tr>",
                            "<tr><td>Kentaur Hotel</td><td>2016-05-14</td><td>13</td></tr>",
                            "<tr><td>Kentaur Hotel</td><td>2016-05-14</td><td>13</td></tr>",
                            "<tr><td>Kentaur Hotel</td><td>2016-05-17</td><td>14</td></tr>",
                            "<tr><td>Kentaur Hotel</td><td>2016-05-24</td><td>15</td></tr>",
                            "<tr><td>Kentaur Hotel</td><td>2016-05-27</td><td>17</td></tr>",
                            "<tr><td>Kentaur Hotel</td><td>2016-05-27</td><td>17</td></tr>",
                            "<tr><td>Kentaur Hotel</td><td>2016-05-28</td><td>19</td></tr>",
                            "<tr><td>Kentaur Hotel</td><td>2016-05-28</td><td>19</td></tr>",
                            "<tr><td>Kentaur Hotel</td><td>2016-05-29</td><td>20</td></tr>",
                            "<tr><td>Kentaur Hotel</td><td>2016-05-30</td><td>25</td></tr>",
                            "<tr><td>Kentaur Hotel</td><td>2016-05-30</td><td>25</td></tr>",
                            "<tr><td>Kentaur Hotel</td><td>2016-05-30</td><td>25</td></tr>",
                            "<tr><td>Kentaur Hotel</td><td>2016-05-30</td><td>25</td></tr>",
                            "<tr><td>Kentaur Hotel</td><td>2016-05-30</td><td>25</td></tr>",
                            "<tr><td>Kentaur Hotel</td><td>2016-05-31</td><td>26</td></tr>",
                            "<tr><td>Kentaur Hotel</td><td>2016-06-01</td><td>27</td></tr>",
                            "<tr><td>Kentaur Hotel</td><td>2016-06-02</td><td>29</td></tr>",
                            "<tr><td>Kentaur Hotel</td><td>2016-06-02</td><td>29</td></tr>",
                            "<tr><td>Kentaur Hotel</td><td>2016-06-04</td><td>30</td></tr>",
                            "<tr><td>Kentaur Hotel</td><td>2016-06-07</td><td>31</td></tr>",
                            "<tr><td>Kentaur Hotel</td><td>2016-06-08</td><td>33</td></tr>",
                            "<tr><td>Kentaur Hotel</td><td>2016-06-08</td><td>33</td></tr>",
                            "<tr><td>Kentaur Hotel</td><td>2016-06-09</td><td>35</td></tr>",
                            "<tr><td>Kentaur Hotel</td><td>2016-06-09</td><td>35</td></tr>",
                            "<tr><td>Kentaur Hotel</td><td>2016-06-10</td><td>36</td></tr>",
                            "<tr><td>Kentaur Hotel</td><td>2016-06-13</td><td>37</td></tr>",
                            "<tr><td>Kentaur Hotel</td><td>2016-06-16</td><td>39</td></tr>",
                            "<tr><td>Kentaur Hotel</td><td>2016-06-16</td><td>39</td></tr>",
                            "<tr><td>Kentaur Hotel</td><td>2016-06-22</td><td>40</td></tr>",
                            "<tr><td>Kentaur Hotel</td><td>2016-06-23</td><td>42</td></tr>",
                            "<tr><td>Kentaur Hotel</td><td>2016-06-23</td><td>42</td></tr>",
                            "<tr><td>Kentaur Hotel</td><td>2016-06-26</td><td>43</td></tr>",
                            "<tr><td>Kentaur Hotel</td><td>2016-06-30</td><td>44</td></tr>",
                            "<tr><td>Kentaur Hotel</td><td>2016-07-01</td><td>46</td></tr>",
                            "<tr><td>Kentaur Hotel</td><td>2016-07-01</td><td>46</td></tr>",
                            "<tr><td>Kentaur Hotel</td><td>2016-07-03</td><td>47</td></tr>",
                            "<tr><td>Kentaur Hotel</td><td>2016-07-04</td><td>48</td></tr>",
                            "<tr><td>Kentaur Hotel</td><td>2016-07-06</td><td>49</td></tr>",
                            "<tr><td>Kentaur Hotel</td><td>2016-07-12</td><td>50</td></tr>",
                            "<tr><td>Kentaur Hotel</td><td>2016-07-13</td><td>51</td></tr>",
                            "<tr><td>Kentaur Hotel</td><td>2016-07-14</td><td>52</td></tr>",
                            "<tr><td>Kentaur Hotel</td><td>2016-07-15</td><td>53</td></tr>",
                            "<tr><td>Kentaur Hotel</td><td>2016-07-16</td><td>54</td></tr>",
                            "<tr><td>Kentaur Hotel</td><td>2016-07-18</td><td>56</td></tr>",
                            "<tr><td>Kentaur Hotel</td><td>2016-07-18</td><td>56</td></tr>",
                            "<tr><td>Kentaur Hotel</td><td>2016-07-20</td><td>58</td></tr>",
                            "<tr><td>Kentaur Hotel</td><td>2016-07-20</td><td>58</td></tr>",
                            "<tr><td>Kentaur Hotel</td><td>2016-07-21</td><td>60</td></tr>",
                            "<tr><td>Kentaur Hotel</td><td>2016-07-21</td><td>60</td></tr>",
                            "<tr><td>Kentaur Hotel</td><td>2016-07-22</td><td>61</td></tr>",
                            "<tr><td>Kentaur Hotel</td><td>2016-07-24</td><td>62</td></tr>",
                            "<tr><td>Kentaur Hotel</td><td>2016-07-25</td><td>63</td></tr>",
                            "<tr><td>Kentaur Hotel</td><td>2016-07-27</td><td>64</td></tr>",
                            "<tr><td>Kentaur Hotel</td><td>2016-07-28</td><td>65</td></tr>",
                            "<tr><td>Kentaur Hotel</td><td>2016-07-29</td><td>66</td></tr>",
                            "<tr><td>Kentaur Hotel</td><td>2016-08-05</td><td>67</td></tr>",
                            "<tr><td>Kentaur Hotel</td><td>2016-08-12</td><td>69</td></tr>",
                            "<tr><td>Kentaur Hotel</td><td>2016-08-12</td><td>69</td></tr>",
                            "<tr><td>Kentaur Hotel</td><td>2016-08-16</td><td>70</td></tr>",
                            "<tr><td>Kentaur Hotel</td><td>2016-08-18</td><td>72</td></tr>",
                            "<tr><td>Kentaur Hotel</td><td>2016-08-18</td><td>72</td></tr>",
                            "<tr><td>Kentaur Hotel</td><td>2016-08-23</td><td>73</td></tr>",
                            "<tr><td>Kentaur Hotel</td><td>2016-08-24</td><td>76</td></tr>",
                            "<tr><td>Kentaur Hotel</td><td>2016-08-24</td><td>76</td></tr>",
                            "<tr><td>Kentaur Hotel</td><td>2016-08-24</td><td>76</td></tr>",
                            "<tr><td>Kentaur Hotel</td><td>2016-08-28</td><td>77</td></tr>",
                            "<tr><td>Kentaur Hotel</td><td>2016-08-29</td><td>78</td></tr>",
                            "<tr><td>Kentaur Hotel</td><td>2016-09-02</td><td>79</td></tr>",
                            "<tr><td>Kentaur Hotel</td><td>2016-09-03</td><td>80</td></tr>",
                            "<tr><td>Kentaur Hotel</td><td>2016-09-15</td><td>82</td></tr>",
                            "<tr><td>Kentaur Hotel</td><td>2016-09-15</td><td>82</td></tr>",
                            "<tr><td>Kentaur Hotel</td><td>2016-09-18</td><td>83</td></tr>",
                            "<tr><td>Kentaur Hotel</td><td>2016-09-20</td><td>84</td></tr>",
                            "<tr><td>Kentaur Hotel</td><td>2016-09-25</td><td>85</td></tr>",
                            "<tr><td>Kentaur Hotel</td><td>2016-09-26</td><td>86</td></tr>",
                            "<tr><td>Kentaur Hotel</td><td>2016-09-28</td><td>88</td></tr>",
                            "<tr><td>Kentaur Hotel</td><td>2016-09-28</td><td>88</td></tr>",
                            "<tr><td>Kentaur Hotel</td><td>2016-09-30</td><td>91</td></tr>",
                            "<tr><td>Kentaur Hotel</td><td>2016-09-30</td><td>91</td></tr>",
                            "<tr><td>Kentaur Hotel</td><td>2016-09-30</td><td>91</td></tr>",
                            "<tr><td>Kentaur Hotel</td><td>2016-10-01</td><td>93</td></tr>",
                            "<tr><td>Kentaur Hotel</td><td>2016-10-01</td><td>93</td></tr>",
                            "<tr><td>Kentaur Hotel</td><td>2016-10-04</td><td>94</td></tr>",
                            "<tr><td>Kentaur Hotel</td><td>2016-10-05</td><td>95</td></tr>",
                            "<tr><td>Kentaur Hotel</td><td>2016-10-07</td><td>96</td></tr>",
                            "<tr><td>Kentaur Hotel</td><td>2016-10-11</td><td>97</td></tr>",
                            "<tr><td>Kentaur Hotel</td><td>2016-10-16</td><td>98</td></tr>",
                            "<tr><td>Kentaur Hotel</td><td>2016-10-17</td><td>99</td></tr>",
                            "<tr><td>Kentaur Hotel</td><td>2016-10-19</td><td>100</td></tr>",
                            "<tr><td>Kentaur Hotel</td><td>2016-10-20</td><td>101</td></tr>",
                            "<tr><td>Kentaur Hotel</td><td>2016-10-22</td><td>102</td></tr>",
                            "<tr><td>Kentaur Hotel</td><td>2016-10-23</td><td>103</td></tr>",
                            "<tr><td>Kentaur Hotel</td><td>2016-10-25</td><td>104</td></tr>",
                            "<tr><td>Kentaur Hotel</td><td>2016-10-26</td><td>105</td></tr>",
                            "<tr><td>Kentaur Hotel</td><td>2016-10-28</td><td>106</td></tr>",
                            "<tr><td>Kentaur Hotel</td><td>2016-10-29</td><td>107</td></tr>",
                            "<tr><td>Kentaur Hotel</td><td>2016-10-30</td><td>111</td></tr>",
                            "<tr><td>Kentaur Hotel</td><td>2016-10-30</td><td>111</td></tr>",
                            "<tr><td>Kentaur Hotel</td><td>2016-10-30</td><td>111</td></tr>",
                            "<tr><td>Kentaur Hotel</td><td>2016-10-30</td><td>111</td></tr>",
                            "<tr><td>Kentaur Hotel</td><td>2016-10-31</td><td>112</td></tr>",
                            "<tr><td>Kentaur Hotel</td><td>2016-11-01</td><td>113</td></tr>",
                            "<tr><td>Kentaur Hotel</td><td>2016-11-03</td><td>114</td></tr>",
                            "<tr><td>Kentaur Hotel</td><td>2016-11-05</td><td>115</td></tr>",
                            "<tr><td>Kentaur Hotel</td><td>2016-11-06</td><td>116</td></tr>",
                            "<tr><td>Kentaur Hotel</td><td>2016-11-07</td><td>118</td></tr>",
                            "<tr><td>Kentaur Hotel</td><td>2016-11-07</td><td>118</td></tr>",
                            "<tr><td>Kentaur Hotel</td><td>2016-11-08</td><td>119</td></tr>",
                            "<tr><td>Kentaur Hotel</td><td>2016-11-09</td><td>120</td></tr>",
                            "<tr><td>Kentaur Hotel</td><td>2016-11-10</td><td>121</td></tr>",
                            "<tr><td>Kentaur Hotel</td><td>2016-11-12</td><td>122</td></tr>",
                            "<tr><td>Kentaur Hotel</td><td>2016-11-14</td><td>123</td></tr>",
                            "<tr><td>Kentaur Hotel</td><td>2016-11-15</td><td>124</td></tr>",
                            "<tr><td>Kentaur Hotel</td><td>2016-11-16</td><td>125</td></tr>",
                            "<tr><td>Kentaur Hotel</td><td>2016-11-17</td><td>126</td></tr>",
                            "<tr><td>Kentaur Hotel</td><td>2016-11-19</td><td>127</td></tr>",
                            "<tr><td>Kentaur Hotel</td><td>2016-11-23</td><td>128</td></tr>",
                            "<tr><td>Kentaur Hotel</td><td>2016-11-25</td><td>129</td></tr>",
                            "<tr><td>Kentaur Hotel</td><td>2016-11-26</td><td>130</td></tr>",
                            "<tr><td>Kentaur Hotel</td><td>2016-11-27</td><td>132</td></tr>",
                            "<tr><td>Kentaur Hotel</td><td>2016-11-27</td><td>132</td></tr>",
                            "<tr><td>Kentaur Hotel</td><td>2016-11-28</td><td>134</td></tr>",
                            "<tr><td>Kentaur Hotel</td><td>2016-11-28</td><td>134</td></tr>",
                            "<tr><td>Kentaur Hotel</td><td>2016-11-29</td><td>135</td></tr>",
                            "<tr><td>Kentaur Hotel</td><td>2016-11-30</td><td>136</td></tr>",
                            "<tr><td>Kentaur Hotel</td><td>2016-12-04</td><td>137</td></tr>",
                            "<tr><td>Kentaur Hotel</td><td>2016-12-05</td><td>138</td></tr>",
                            "<tr><td>Kentaur Hotel</td><td>2016-12-06</td><td>139</td></tr>",
                            "<tr><td>Kentaur Hotel</td><td>2016-12-15</td><td>140</td></tr>",
                            "<tr><td>Kentaur Hotel</td><td>2016-12-16</td><td>141</td></tr>",
                            "<tr><td>Kentaur Hotel</td><td>2016-12-17</td><td>143</td></tr>",
                            "<tr><td>Kentaur Hotel</td><td>2016-12-17</td><td>143</td></tr>",
                            "<tr><td>Kentaur Hotel</td><td>2016-12-19</td><td>144</td></tr>",
                            "<tr><td>Kentaur Hotel</td><td>2016-12-22</td><td>146</td></tr>",
                            "<tr><td>Kentaur Hotel</td><td>2016-12-22</td><td>146</td></tr>",
                            "<tr><td>Kentaur Hotel</td><td>2016-12-24</td><td>147</td></tr>",
                            "<tr><td>Kentaur Hotel</td><td>2016-12-25</td><td>149</td></tr>",
                            "<tr><td>Kentaur Hotel</td><td>2016-12-25</td><td>149</td></tr>",
                            "<tr><td>Kentaur Hotel</td><td>2016-12-29</td><td>150</td></tr>",
                            "<tr><td>Kentaur Hotel</td><td>2017-01-01</td><td>151</td></tr>",
                            "<tr><td>Kentaur Hotel</td><td>2017-01-09</td><td>152</td></tr>",
                            "<tr><td>Kentaur Hotel</td><td>2017-01-10</td><td>153</td></tr>",
                            "<tr><td>Kentaur Hotel</td><td>2017-01-15</td><td>154</td></tr>",
                            "<tr><td>Kentaur Hotel</td><td>2017-01-16</td><td>157</td></tr>",
                            "<tr><td>Kentaur Hotel</td><td>2017-01-16</td><td>157</td></tr>",
                            "<tr><td>Kentaur Hotel</td><td>2017-01-16</td><td>157</td></tr>",
                            "<tr><td>Kentaur Hotel</td><td>2017-01-17</td><td>158</td></tr>",
                            "<tr><td>Kentaur Hotel</td><td>2017-01-19</td><td>160</td></tr>",
                            "<tr><td>Kentaur Hotel</td><td>2017-01-19</td><td>160</td></tr>",
                            "<tr><td>Kentaur Hotel</td><td>2017-01-22</td><td>164</td></tr>",
                            "<tr><td>Kentaur Hotel</td><td>2017-01-22</td><td>164</td></tr>",
                            "<tr><td>Kentaur Hotel</td><td>2017-01-22</td><td>164</td></tr>",
                            "<tr><td>Kentaur Hotel</td><td>2017-01-22</td><td>164</td></tr>",
                            "<tr><td>Kentaur Hotel</td><td>2017-01-28</td><td>165</td></tr>",
                            "<tr><td>Kentaur Hotel</td><td>2017-02-04</td><td>166</td></tr>",
                            "<tr><td>Kentaur Hotel</td><td>2017-02-06</td><td>168</td></tr>",
                            "<tr><td>Kentaur Hotel</td><td>2017-02-06</td><td>168</td></tr>",
                            "<tr><td>Kentaur Hotel</td><td>2017-02-08</td><td>169</td></tr>",
                            "<tr><td>Kentaur Hotel</td><td>2017-02-12</td><td>170</td></tr>",
                            "<tr><td>Kentaur Hotel</td><td>2017-02-14</td><td>171</td></tr>",
                            "<tr><td>Kentaur Hotel</td><td>2017-02-18</td><td>172</td></tr>",
                            "<tr><td>Kentaur Hotel</td><td>2017-02-21</td><td>173</td></tr>",
                            "<tr><td>Kentaur Hotel</td><td>2017-02-23</td><td>174</td></tr>",
                            "<tr><td>Kentaur Hotel</td><td>2017-02-26</td><td>175</td></tr>",
                            "<tr><td>Kentaur Hotel</td><td>2017-02-27</td><td>176</td></tr>",
                            "<tr><td>Kentaur Hotel</td><td>2017-03-01</td><td>177</td></tr>",
                            "<tr><td>Kentaur Hotel</td><td>2017-03-02</td><td>178</td></tr>",
                            "<tr><td>Kentaur Hotel</td><td>2017-03-03</td><td>179</td></tr>",
                            "<tr><td>Lagúna Hotel</td><td>2016-04-08</td><td>1</td></tr>",
                            "<tr><td>Lagúna Hotel</td><td>2016-04-10</td><td>2</td></tr>",
                            "<tr><td>Lagúna Hotel</td><td>2016-04-12</td><td>3</td></tr>",
                            "<tr><td>Lagúna Hotel</td><td>2016-04-14</td><td>4</td></tr>",
                            "<tr><td>Lagúna Hotel</td><td>2016-04-15</td><td>5</td></tr>",
                            "<tr><td>Lagúna Hotel</td><td>2016-04-16</td><td>6</td></tr>",
                            "<tr><td>Lagúna Hotel</td><td>2016-04-17</td><td>7</td></tr>",
                            "<tr><td>Lagúna Hotel</td><td>2016-04-19</td><td>8</td></tr>",
                            "<tr><td>Lagúna Hotel</td><td>2016-04-20</td><td>9</td></tr>",
                            "<tr><td>Lagúna Hotel</td><td>2016-04-22</td><td>10</td></tr>",
                            "<tr><td>Lagúna Hotel</td><td>2016-05-13</td><td>11</td></tr>",
                            "<tr><td>Lagúna Hotel</td><td>2016-05-16</td><td>12</td></tr>",
                            "<tr><td>Lagúna Hotel</td><td>2016-05-17</td><td>13</td></tr>",
                            "<tr><td>Lagúna Hotel</td><td>2016-05-18</td><td>14</td></tr>",
                            "<tr><td>Lagúna Hotel</td><td>2016-05-20</td><td>15</td></tr>",
                            "<tr><td>Lagúna Hotel</td><td>2016-05-21</td><td>16</td></tr>",
                            "<tr><td>Lagúna Hotel</td><td>2016-06-02</td><td>17</td></tr>",
                            "<tr><td>Lagúna Hotel</td><td>2016-06-03</td><td>18</td></tr>",
                            "<tr><td>Lagúna Hotel</td><td>2016-06-05</td><td>20</td></tr>",
                            "<tr><td>Lagúna Hotel</td><td>2016-06-05</td><td>20</td></tr>",
                            "<tr><td>Lagúna Hotel</td><td>2016-06-06</td><td>21</td></tr>",
                            "<tr><td>Lagúna Hotel</td><td>2016-06-13</td><td>22</td></tr>",
                            "<tr><td>Lagúna Hotel</td><td>2016-06-16</td><td>23</td></tr>",
                            "<tr><td>Lagúna Hotel</td><td>2016-06-17</td><td>24</td></tr>",
                            "<tr><td>Lagúna Hotel</td><td>2016-06-23</td><td>25</td></tr>",
                            "<tr><td>Lagúna Hotel</td><td>2016-07-06</td><td>26</td></tr>",
                            "<tr><td>Lagúna Hotel</td><td>2016-07-12</td><td>27</td></tr>",
                            "<tr><td>Lagúna Hotel</td><td>2016-07-13</td><td>28</td></tr>",
                            "<tr><td>Lagúna Hotel</td><td>2016-07-17</td><td>29</td></tr>",
                            "<tr><td>Lagúna Hotel</td><td>2016-07-20</td><td>30</td></tr>",
                            "<tr><td>Lagúna Hotel</td><td>2016-07-22</td><td>31</td></tr>",
                            "<tr><td>Lagúna Hotel</td><td>2016-07-27</td><td>32</td></tr>",
                            "<tr><td>Lagúna Hotel</td><td>2016-07-28</td><td>34</td></tr>",
                            "<tr><td>Lagúna Hotel</td><td>2016-07-28</td><td>34</td></tr>",
                            "<tr><td>Lagúna Hotel</td><td>2016-08-01</td><td>35</td></tr>",
                            "<tr><td>Lagúna Hotel</td><td>2016-08-03</td><td>36</td></tr>",
                            "<tr><td>Lagúna Hotel</td><td>2016-08-06</td><td>37</td></tr>",
                            "<tr><td>Lagúna Hotel</td><td>2016-08-09</td><td>38</td></tr>",
                            "<tr><td>Lagúna Hotel</td><td>2016-08-12</td><td>40</td></tr>",
                            "<tr><td>Lagúna Hotel</td><td>2016-08-12</td><td>40</td></tr>",
                            "<tr><td>Lagúna Hotel</td><td>2016-08-16</td><td>43</td></tr>",
                            "<tr><td>Lagúna Hotel</td><td>2016-08-16</td><td>43</td></tr>",
                            "<tr><td>Lagúna Hotel</td><td>2016-08-16</td><td>43</td></tr>",
                            "<tr><td>Lagúna Hotel</td><td>2016-08-17</td><td>44</td></tr>",
                            "<tr><td>Lagúna Hotel</td><td>2016-08-20</td><td>45</td></tr>",
                            "<tr><td>Lagúna Hotel</td><td>2016-08-23</td><td>47</td></tr>",
                            "<tr><td>Lagúna Hotel</td><td>2016-08-23</td><td>47</td></tr>",
                            "<tr><td>Lagúna Hotel</td><td>2016-08-25</td><td>48</td></tr>",
                            "<tr><td>Lagúna Hotel</td><td>2016-08-28</td><td>49</td></tr>",
                            "<tr><td>Lagúna Hotel</td><td>2016-08-29</td><td>50</td></tr>",
                            "<tr><td>Lagúna Hotel</td><td>2016-08-30</td><td>51</td></tr>",
                            "<tr><td>Lagúna Hotel</td><td>2016-09-01</td><td>52</td></tr>",
                            "<tr><td>Lagúna Hotel</td><td>2016-09-05</td><td>54</td></tr>",
                            "<tr><td>Lagúna Hotel</td><td>2016-09-05</td><td>54</td></tr>",
                            "<tr><td>Lagúna Hotel</td><td>2016-09-10</td><td>55</td></tr>",
                            "<tr><td>Lagúna Hotel</td><td>2016-09-12</td><td>56</td></tr>",
                            "<tr><td>Lagúna Hotel</td><td>2016-09-13</td><td>57</td></tr>",
                            "<tr><td>Lagúna Hotel</td><td>2016-09-16</td><td>58</td></tr>",
                            "<tr><td>Lagúna Hotel</td><td>2016-09-17</td><td>59</td></tr>",
                            "<tr><td>Lagúna Hotel</td><td>2016-09-18</td><td>60</td></tr>",
                            "<tr><td>Lagúna Hotel</td><td>2016-09-23</td><td>61</td></tr>",
                            "<tr><td>Lagúna Hotel</td><td>2016-09-29</td><td>62</td></tr>",
                            "<tr><td>Lagúna Hotel</td><td>2016-10-01</td><td>66</td></tr>",
                            "<tr><td>Lagúna Hotel</td><td>2016-10-01</td><td>66</td></tr>",
                            "<tr><td>Lagúna Hotel</td><td>2016-10-01</td><td>66</td></tr>",
                            "<tr><td>Lagúna Hotel</td><td>2016-10-01</td><td>66</td></tr>",
                            "<tr><td>Lagúna Hotel</td><td>2016-10-02</td><td>67</td></tr>",
                            "<tr><td>Lagúna Hotel</td><td>2016-10-03</td><td>68</td></tr>",
                            "<tr><td>Lagúna Hotel</td><td>2016-10-04</td><td>69</td></tr>",
                            "<tr><td>Lagúna Hotel</td><td>2016-10-09</td><td>70</td></tr>",
                            "<tr><td>Lagúna Hotel</td><td>2016-10-10</td><td>71</td></tr>",
                            "<tr><td>Lagúna Hotel</td><td>2016-10-15</td><td>73</td></tr>",
                            "<tr><td>Lagúna Hotel</td><td>2016-10-15</td><td>73</td></tr>",
                            "<tr><td>Lagúna Hotel</td><td>2016-10-16</td><td>74</td></tr>",
                            "<tr><td>Lagúna Hotel</td><td>2016-10-19</td><td>75</td></tr>",
                            "<tr><td>Lagúna Hotel</td><td>2016-10-22</td><td>76</td></tr>",
                            "<tr><td>Lagúna Hotel</td><td>2016-10-26</td><td>81</td></tr>",
                            "<tr><td>Lagúna Hotel</td><td>2016-10-26</td><td>81</td></tr>",
                            "<tr><td>Lagúna Hotel</td><td>2016-10-26</td><td>81</td></tr>",
                            "<tr><td>Lagúna Hotel</td><td>2016-10-26</td><td>81</td></tr>",
                            "<tr><td>Lagúna Hotel</td><td>2016-10-26</td><td>81</td></tr>",
                            "<tr><td>Lagúna Hotel</td><td>2016-10-30</td><td>82</td></tr>",
                            "<tr><td>Lagúna Hotel</td><td>2016-11-03</td><td>83</td></tr>",
                            "<tr><td>Lagúna Hotel</td><td>2016-11-06</td><td>85</td></tr>",
                            "<tr><td>Lagúna Hotel</td><td>2016-11-06</td><td>85</td></tr>",
                            "<tr><td>Lagúna Hotel</td><td>2016-11-07</td><td>87</td></tr>",
                            "<tr><td>Lagúna Hotel</td><td>2016-11-07</td><td>87</td></tr>",
                            "<tr><td>Lagúna Hotel</td><td>2016-11-15</td><td>88</td></tr>",
                            "<tr><td>Lagúna Hotel</td><td>2016-11-16</td><td>89</td></tr>",
                            "<tr><td>Lagúna Hotel</td><td>2016-11-18</td><td>90</td></tr>",
                            "<tr><td>Lagúna Hotel</td><td>2016-11-19</td><td>92</td></tr>",
                            "<tr><td>Lagúna Hotel</td><td>2016-11-19</td><td>92</td></tr>",
                            "<tr><td>Lagúna Hotel</td><td>2016-11-23</td><td>94</td></tr>",
                            "<tr><td>Lagúna Hotel</td><td>2016-11-23</td><td>94</td></tr>",
                            "<tr><td>Lagúna Hotel</td><td>2016-12-02</td><td>95</td></tr>",
                            "<tr><td>Lagúna Hotel</td><td>2016-12-10</td><td>96</td></tr>",
                            "<tr><td>Lagúna Hotel</td><td>2016-12-11</td><td>97</td></tr>",
                            "<tr><td>Lagúna Hotel</td><td>2016-12-14</td><td>98</td></tr>",
                            "<tr><td>Lagúna Hotel</td><td>2016-12-17</td><td>101</td></tr>",
                            "<tr><td>Lagúna Hotel</td><td>2016-12-17</td><td>101</td></tr>",
                            "<tr><td>Lagúna Hotel</td><td>2016-12-17</td><td>101</td></tr>",
                            "<tr><td>Lagúna Hotel</td><td>2016-12-25</td><td>102</td></tr>",
                            "<tr><td>Lagúna Hotel</td><td>2016-12-27</td><td>103</td></tr>",
                            "<tr><td>Lagúna Hotel</td><td>2017-01-10</td><td>104</td></tr>",
                            "<tr><td>Lagúna Hotel</td><td>2017-01-11</td><td>105</td></tr>",
                            "<tr><td>Lagúna Hotel</td><td>2017-01-16</td><td>106</td></tr>",
                            "<tr><td>Lagúna Hotel</td><td>2017-01-17</td><td>107</td></tr>",
                            "<tr><td>Lagúna Hotel</td><td>2017-01-21</td><td>108</td></tr>",
                            "<tr><td>Lagúna Hotel</td><td>2017-01-22</td><td>109</td></tr>",
                            "<tr><td>Lagúna Hotel</td><td>2017-01-23</td><td>111</td></tr>",
                            "<tr><td>Lagúna Hotel</td><td>2017-01-23</td><td>111</td></tr>",
                            "<tr><td>Lagúna Hotel</td><td>2017-01-28</td><td>112</td></tr>",
                            "<tr><td>Lagúna Hotel</td><td>2017-02-03</td><td>113</td></tr>",
                            "<tr><td>Lagúna Hotel</td><td>2017-02-07</td><td>114</td></tr>",
                            "<tr><td>Lagúna Hotel</td><td>2017-02-09</td><td>115</td></tr>",
                            "<tr><td>Lagúna Hotel</td><td>2017-02-16</td><td>117</td></tr>",
                            "<tr><td>Lagúna Hotel</td><td>2017-02-16</td><td>117</td></tr>",
                            "<tr><td>Lagúna Hotel</td><td>2017-02-17</td><td>118</td></tr>",
                            "<tr><td>Lagúna Hotel</td><td>2017-02-19</td><td>119</td></tr>",
                            "<tr><td>Lagúna Hotel</td><td>2017-02-21</td><td>120</td></tr>",
                            "<tr><td>Lagúna Hotel</td><td>2017-02-23</td><td>121</td></tr>",
                            "<tr><td>Lagúna Hotel</td><td>2017-02-25</td><td>122</td></tr>",
                            "<tr><td>Lagúna Hotel</td><td>2017-02-27</td><td>123</td></tr>",
                            "<tr><td>Partiszél Vendégház</td><td>2016-04-10</td><td>1</td></tr>",
                            "<tr><td>Partiszél Vendégház</td><td>2016-04-24</td><td>2</td></tr>",
                            "<tr><td>Partiszél Vendégház</td><td>2016-05-09</td><td>3</td></tr>",
                            "<tr><td>Partiszél Vendégház</td><td>2016-05-12</td><td>4</td></tr>",
                            "<tr><td>Partiszél Vendégház</td><td>2016-05-18</td><td>5</td></tr>",
                            "<tr><td>Partiszél Vendégház</td><td>2016-06-06</td><td>7</td></tr>",
                            "<tr><td>Partiszél Vendégház</td><td>2016-06-06</td><td>7</td></tr>",
                            "<tr><td>Partiszél Vendégház</td><td>2016-06-07</td><td>9</td></tr>",
                            "<tr><td>Partiszél Vendégház</td><td>2016-06-07</td><td>9</td></tr>",
                            "<tr><td>Partiszél Vendégház</td><td>2016-06-10</td><td>10</td></tr>",
                            "<tr><td>Partiszél Vendégház</td><td>2016-07-04</td><td>11</td></tr>",
                            "<tr><td>Partiszél Vendégház</td><td>2016-07-27</td><td>12</td></tr>",
                            "<tr><td>Partiszél Vendégház</td><td>2016-07-31</td><td>13</td></tr>",
                            "<tr><td>Partiszél Vendégház</td><td>2016-08-16</td><td>14</td></tr>",
                            "<tr><td>Partiszél Vendégház</td><td>2016-09-19</td><td>15</td></tr>",
                            "<tr><td>Partiszél Vendégház</td><td>2016-09-23</td><td>16</td></tr>",
                            "<tr><td>Partiszél Vendégház</td><td>2016-10-01</td><td>17</td></tr>",
                            "<tr><td>Partiszél Vendégház</td><td>2016-10-24</td><td>18</td></tr>",
                            "<tr><td>Partiszél Vendégház</td><td>2016-10-27</td><td>19</td></tr>",
                            "<tr><td>Partiszél Vendégház</td><td>2016-11-08</td><td>20</td></tr>",
                            "<tr><td>Partiszél Vendégház</td><td>2016-11-16</td><td>21</td></tr>",
                            "<tr><td>Partiszél Vendégház</td><td>2016-11-19</td><td>22</td></tr>",
                            "<tr><td>Partiszél Vendégház</td><td>2016-12-26</td><td>23</td></tr>",
                            "<tr><td>Partiszél Vendégház</td><td>2017-02-01</td><td>24</td></tr>",
                            "<tr><td>Partiszél Vendégház</td><td>2017-02-23</td><td>25</td></tr>",
                            "<tr><td>Partiszél Vendégház</td><td>2017-02-25</td><td>26</td></tr>",
                            "<tr><td>Sába-Ház</td><td>2016-04-06</td><td>2</td></tr>",
                            "<tr><td>Sába-Ház</td><td>2016-04-06</td><td>2</td></tr>",
                            "<tr><td>Sába-Ház</td><td>2016-04-08</td><td>3</td></tr>",
                            "<tr><td>Sába-Ház</td><td>2016-04-10</td><td>4</td></tr>",
                            "<tr><td>Sába-Ház</td><td>2016-04-29</td><td>5</td></tr>",
                            "<tr><td>Sába-Ház</td><td>2016-05-05</td><td>6</td></tr>",
                            "<tr><td>Sába-Ház</td><td>2016-05-09</td><td>7</td></tr>",
                            "<tr><td>Sába-Ház</td><td>2016-05-17</td><td>8</td></tr>",
                            "<tr><td>Sába-Ház</td><td>2016-05-29</td><td>9</td></tr>",
                            "<tr><td>Sába-Ház</td><td>2016-05-30</td><td>11</td></tr>",
                            "<tr><td>Sába-Ház</td><td>2016-05-30</td><td>11</td></tr>",
                            "<tr><td>Sába-Ház</td><td>2016-06-06</td><td>12</td></tr>",
                            "<tr><td>Sába-Ház</td><td>2016-06-10</td><td>15</td></tr>",
                            "<tr><td>Sába-Ház</td><td>2016-06-10</td><td>15</td></tr>",
                            "<tr><td>Sába-Ház</td><td>2016-06-10</td><td>15</td></tr>",
                            "<tr><td>Sába-Ház</td><td>2016-06-11</td><td>16</td></tr>",
                            "<tr><td>Sába-Ház</td><td>2016-06-16</td><td>17</td></tr>",
                            "<tr><td>Sába-Ház</td><td>2016-06-17</td><td>18</td></tr>",
                            "<tr><td>Sába-Ház</td><td>2016-06-27</td><td>19</td></tr>",
                            "<tr><td>Sába-Ház</td><td>2016-07-02</td><td>20</td></tr>",
                            "<tr><td>Sába-Ház</td><td>2016-07-09</td><td>21</td></tr>",
                            "<tr><td>Sába-Ház</td><td>2016-07-13</td><td>22</td></tr>",
                            "<tr><td>Sába-Ház</td><td>2016-07-20</td><td>24</td></tr>",
                            "<tr><td>Sába-Ház</td><td>2016-07-20</td><td>24</td></tr>",
                            "<tr><td>Sába-Ház</td><td>2016-07-30</td><td>25</td></tr>",
                            "<tr><td>Sába-Ház</td><td>2016-08-06</td><td>26</td></tr>",
                            "<tr><td>Sába-Ház</td><td>2016-08-12</td><td>27</td></tr>",
                            "<tr><td>Sába-Ház</td><td>2016-08-13</td><td>28</td></tr>",
                            "<tr><td>Sába-Ház</td><td>2016-08-16</td><td>30</td></tr>",
                            "<tr><td>Sába-Ház</td><td>2016-08-16</td><td>30</td></tr>",
                            "<tr><td>Sába-Ház</td><td>2016-08-17</td><td>31</td></tr>",
                            "<tr><td>Sába-Ház</td><td>2016-08-20</td><td>32</td></tr>",
                            "<tr><td>Sába-Ház</td><td>2016-08-24</td><td>33</td></tr>",
                            "<tr><td>Sába-Ház</td><td>2016-08-27</td><td>34</td></tr>",
                            "<tr><td>Sába-Ház</td><td>2016-08-28</td><td>35</td></tr>",
                            "<tr><td>Sába-Ház</td><td>2016-09-05</td><td>36</td></tr>",
                            "<tr><td>Sába-Ház</td><td>2016-09-08</td><td>37</td></tr>",
                            "<tr><td>Sába-Ház</td><td>2016-09-14</td><td>38</td></tr>",
                            "<tr><td>Sába-Ház</td><td>2016-09-19</td><td>39</td></tr>",
                            "<tr><td>Sába-Ház</td><td>2016-09-21</td><td>40</td></tr>",
                            "<tr><td>Sába-Ház</td><td>2016-10-01</td><td>42</td></tr>",
                            "<tr><td>Sába-Ház</td><td>2016-10-01</td><td>42</td></tr>",
                            "<tr><td>Sába-Ház</td><td>2016-10-05</td><td>43</td></tr>",
                            "<tr><td>Sába-Ház</td><td>2016-10-07</td><td>44</td></tr>",
                            "<tr><td>Sába-Ház</td><td>2016-10-08</td><td>46</td></tr>",
                            "<tr><td>Sába-Ház</td><td>2016-10-08</td><td>46</td></tr>",
                            "<tr><td>Sába-Ház</td><td>2016-10-09</td><td>48</td></tr>",
                            "<tr><td>Sába-Ház</td><td>2016-10-09</td><td>48</td></tr>",
                            "<tr><td>Sába-Ház</td><td>2016-10-14</td><td>49</td></tr>",
                            "<tr><td>Sába-Ház</td><td>2016-10-15</td><td>51</td></tr>",
                            "<tr><td>Sába-Ház</td><td>2016-10-15</td><td>51</td></tr>",
                            "<tr><td>Sába-Ház</td><td>2016-10-18</td><td>52</td></tr>",
                            "<tr><td>Sába-Ház</td><td>2016-10-21</td><td>53</td></tr>",
                            "<tr><td>Sába-Ház</td><td>2016-10-23</td><td>54</td></tr>",
                            "<tr><td>Sába-Ház</td><td>2016-10-30</td><td>55</td></tr>",
                            "<tr><td>Sába-Ház</td><td>2016-11-01</td><td>56</td></tr>",
                            "<tr><td>Sába-Ház</td><td>2016-11-05</td><td>57</td></tr>",
                            "<tr><td>Sába-Ház</td><td>2016-11-07</td><td>59</td></tr>",
                            "<tr><td>Sába-Ház</td><td>2016-11-07</td><td>59</td></tr>",
                            "<tr><td>Sába-Ház</td><td>2016-11-11</td><td>60</td></tr>",
                            "<tr><td>Sába-Ház</td><td>2016-11-23</td><td>61</td></tr>",
                            "<tr><td>Sába-Ház</td><td>2016-11-25</td><td>62</td></tr>",
                            "<tr><td>Sába-Ház</td><td>2016-12-01</td><td>63</td></tr>",
                            "<tr><td>Sába-Ház</td><td>2017-01-06</td><td>64</td></tr>",
                            "<tr><td>Sába-Ház</td><td>2017-01-09</td><td>65</td></tr>",
                            "<tr><td>Sába-Ház</td><td>2017-01-12</td><td>66</td></tr>",
                            "<tr><td>Sába-Ház</td><td>2017-02-03</td><td>67</td></tr>",
                            "<tr><td>Sába-Ház</td><td>2017-02-12</td><td>68</td></tr>",
                            "<tr><td>Sába-Ház</td><td>2017-02-16</td><td>70</td></tr>",
                            "<tr><td>Sába-Ház</td><td>2017-02-16</td><td>70</td></tr>",
                            "<tr><td>Szieszta Apartmanház</td><td>2016-04-06</td><td>1</td></tr>",
                            "<tr><td>Szieszta Apartmanház</td><td>2016-05-15</td><td>2</td></tr>",
                            "<tr><td>Szieszta Apartmanház</td><td>2016-05-26</td><td>3</td></tr>",
                            "<tr><td>Szieszta Apartmanház</td><td>2016-05-28</td><td>4</td></tr>",
                            "<tr><td>Szieszta Apartmanház</td><td>2016-07-28</td><td>5</td></tr>",
                            "<tr><td>Szieszta Apartmanház</td><td>2016-08-05</td><td>6</td></tr>",
                            "<tr><td>Szieszta Apartmanház</td><td>2016-08-24</td><td>7</td></tr>",
                            "<tr><td>Szieszta Apartmanház</td><td>2016-09-02</td><td>8</td></tr>",
                            "<tr><td>Szieszta Apartmanház</td><td>2016-09-08</td><td>9</td></tr>",
                            "<tr><td>Szieszta Apartmanház</td><td>2016-09-16</td><td>10</td></tr>",
                            "<tr><td>Szieszta Apartmanház</td><td>2016-09-17</td><td>11</td></tr>",
                            "<tr><td>Szieszta Apartmanház</td><td>2016-09-24</td><td>12</td></tr>",
                            "<tr><td>Szieszta Apartmanház</td><td>2016-10-01</td><td>15</td></tr>",
                            "<tr><td>Szieszta Apartmanház</td><td>2016-10-01</td><td>15</td></tr>",
                            "<tr><td>Szieszta Apartmanház</td><td>2016-10-01</td><td>15</td></tr>",
                            "<tr><td>Szieszta Apartmanház</td><td>2016-10-21</td><td>16</td></tr>",
                            "<tr><td>Szieszta Apartmanház</td><td>2016-10-24</td><td>17</td></tr>",
                            "<tr><td>Szieszta Apartmanház</td><td>2016-10-26</td><td>18</td></tr>",
                            "<tr><td>Szieszta Apartmanház</td><td>2016-11-05</td><td>19</td></tr>",
                            "<tr><td>Szieszta Apartmanház</td><td>2016-11-09</td><td>20</td></tr>",
                            "<tr><td>Szieszta Apartmanház</td><td>2016-11-10</td><td>21</td></tr>",
                            "<tr><td>Szieszta Apartmanház</td><td>2016-11-21</td><td>23</td></tr>",
                            "<tr><td>Szieszta Apartmanház</td><td>2016-11-21</td><td>23</td></tr>",
                            "<tr><td>Szieszta Apartmanház</td><td>2016-11-25</td><td>24</td></tr>",
                            "<tr><td>Szieszta Apartmanház</td><td>2016-12-06</td><td>25</td></tr>",
                            "<tr><td>Szieszta Apartmanház</td><td>2016-12-12</td><td>26</td></tr>",
                            "<tr><td>Szieszta Apartmanház</td><td>2016-12-26</td><td>27</td></tr>",
                            "<tr><td>Szieszta Apartmanház</td><td>2016-12-29</td><td>28</td></tr>",
                            "<tr><td>Szieszta Apartmanház</td><td>2017-01-17</td><td>29</td></tr>",
                            "<tr><td>Szieszta Apartmanház</td><td>2017-01-19</td><td>30</td></tr>",
                            "<tr><td>Szieszta Apartmanház</td><td>2017-02-09</td><td>31</td></tr>",
                            "<tr><td>Szieszta Apartmanház</td><td>2017-02-12</td><td>32</td></tr>",
                            "<tr><td>Szieszta Apartmanház</td><td>2017-02-18</td><td>33</td></tr>",
                            "<tr><td>Szieszta Apartmanház</td><td>2017-02-26</td><td>34</td></tr>",
                            "</table>"
                        ]
                    }
                }
            ],
            "execution_count": 4
        },
        {
            "cell_type": "code",
            "source": [
                "SELECT szh.szallas_nev,\r\n",
                "        f.mettol,\r\n",
                "        count(*) over(PARTITION by szh.szallas_nev order by f.mettol range between UNBOUNDED PRECEDING and current ROW)\r\n",
                "FROM szoba sz join Foglalas f on  sz.SZOBA_ID=f.SZOBA_FK\r\n",
                "                JOIN szallashely szh on szh.SZALLAS_ID=sz.SZALLAS_FK"
            ],
            "metadata": {
                "azdata_cell_guid": "0b63b8b2-9ed9-4f97-b46a-202b8a50380f",
                "language": "sql"
            },
            "outputs": [
                {
                    "output_type": "display_data",
                    "data": {
                        "text/html": "(1027 rows affected)"
                    },
                    "metadata": {}
                },
                {
                    "output_type": "display_data",
                    "data": {
                        "text/html": "Total execution time: 00:00:00.029"
                    },
                    "metadata": {}
                },
                {
                    "output_type": "execute_result",
                    "metadata": {},
                    "execution_count": 5,
                    "data": {
                        "application/vnd.dataresource+json": {
                            "schema": {
                                "fields": [
                                    {
                                        "name": "szallas_nev"
                                    },
                                    {
                                        "name": "mettol"
                                    },
                                    {
                                        "name": "(No column name)"
                                    }
                                ]
                            },
                            "data": [
                                {
                                    "szallas_nev": "Családi Ház",
                                    "mettol": "2016-05-22",
                                    "(No column name)": "1"
                                },
                                {
                                    "szallas_nev": "Családi Ház",
                                    "mettol": "2016-05-24",
                                    "(No column name)": "2"
                                },
                                {
                                    "szallas_nev": "Családi Ház",
                                    "mettol": "2016-06-03",
                                    "(No column name)": "3"
                                },
                                {
                                    "szallas_nev": "Családi Ház",
                                    "mettol": "2016-06-20",
                                    "(No column name)": "4"
                                },
                                {
                                    "szallas_nev": "Családi Ház",
                                    "mettol": "2016-07-13",
                                    "(No column name)": "5"
                                },
                                {
                                    "szallas_nev": "Családi Ház",
                                    "mettol": "2016-07-18",
                                    "(No column name)": "6"
                                },
                                {
                                    "szallas_nev": "Családi Ház",
                                    "mettol": "2016-08-08",
                                    "(No column name)": "7"
                                },
                                {
                                    "szallas_nev": "Családi Ház",
                                    "mettol": "2016-08-16",
                                    "(No column name)": "8"
                                },
                                {
                                    "szallas_nev": "Családi Ház",
                                    "mettol": "2016-08-24",
                                    "(No column name)": "9"
                                },
                                {
                                    "szallas_nev": "Családi Ház",
                                    "mettol": "2016-09-12",
                                    "(No column name)": "10"
                                },
                                {
                                    "szallas_nev": "Családi Ház",
                                    "mettol": "2016-10-08",
                                    "(No column name)": "11"
                                },
                                {
                                    "szallas_nev": "Családi Ház",
                                    "mettol": "2016-11-03",
                                    "(No column name)": "12"
                                },
                                {
                                    "szallas_nev": "Családi Ház",
                                    "mettol": "2016-12-06",
                                    "(No column name)": "13"
                                },
                                {
                                    "szallas_nev": "Családi Ház",
                                    "mettol": "2017-01-04",
                                    "(No column name)": "14"
                                },
                                {
                                    "szallas_nev": "Családi Ház",
                                    "mettol": "2017-01-16",
                                    "(No column name)": "15"
                                },
                                {
                                    "szallas_nev": "Családi Ház",
                                    "mettol": "2017-01-23",
                                    "(No column name)": "16"
                                },
                                {
                                    "szallas_nev": "Családi Ház",
                                    "mettol": "2017-02-04",
                                    "(No column name)": "17"
                                },
                                {
                                    "szallas_nev": "Családi Ház",
                                    "mettol": "2017-02-16",
                                    "(No column name)": "18"
                                },
                                {
                                    "szallas_nev": "Fortuna Apartman",
                                    "mettol": "2016-04-09",
                                    "(No column name)": "1"
                                },
                                {
                                    "szallas_nev": "Fortuna Apartman",
                                    "mettol": "2016-04-26",
                                    "(No column name)": "2"
                                },
                                {
                                    "szallas_nev": "Fortuna Apartman",
                                    "mettol": "2016-05-08",
                                    "(No column name)": "3"
                                },
                                {
                                    "szallas_nev": "Fortuna Apartman",
                                    "mettol": "2016-05-21",
                                    "(No column name)": "4"
                                },
                                {
                                    "szallas_nev": "Fortuna Apartman",
                                    "mettol": "2016-05-23",
                                    "(No column name)": "5"
                                },
                                {
                                    "szallas_nev": "Fortuna Apartman",
                                    "mettol": "2016-06-04",
                                    "(No column name)": "6"
                                },
                                {
                                    "szallas_nev": "Fortuna Apartman",
                                    "mettol": "2016-06-06",
                                    "(No column name)": "7"
                                },
                                {
                                    "szallas_nev": "Fortuna Apartman",
                                    "mettol": "2016-06-08",
                                    "(No column name)": "8"
                                },
                                {
                                    "szallas_nev": "Fortuna Apartman",
                                    "mettol": "2016-06-10",
                                    "(No column name)": "10"
                                },
                                {
                                    "szallas_nev": "Fortuna Apartman",
                                    "mettol": "2016-06-10",
                                    "(No column name)": "10"
                                },
                                {
                                    "szallas_nev": "Fortuna Apartman",
                                    "mettol": "2016-07-03",
                                    "(No column name)": "11"
                                },
                                {
                                    "szallas_nev": "Fortuna Apartman",
                                    "mettol": "2016-07-20",
                                    "(No column name)": "12"
                                },
                                {
                                    "szallas_nev": "Fortuna Apartman",
                                    "mettol": "2016-07-24",
                                    "(No column name)": "13"
                                },
                                {
                                    "szallas_nev": "Fortuna Apartman",
                                    "mettol": "2016-08-01",
                                    "(No column name)": "14"
                                },
                                {
                                    "szallas_nev": "Fortuna Apartman",
                                    "mettol": "2016-08-04",
                                    "(No column name)": "15"
                                },
                                {
                                    "szallas_nev": "Fortuna Apartman",
                                    "mettol": "2016-08-11",
                                    "(No column name)": "16"
                                },
                                {
                                    "szallas_nev": "Fortuna Apartman",
                                    "mettol": "2016-08-14",
                                    "(No column name)": "17"
                                },
                                {
                                    "szallas_nev": "Fortuna Apartman",
                                    "mettol": "2016-08-21",
                                    "(No column name)": "18"
                                },
                                {
                                    "szallas_nev": "Fortuna Apartman",
                                    "mettol": "2016-08-24",
                                    "(No column name)": "19"
                                },
                                {
                                    "szallas_nev": "Fortuna Apartman",
                                    "mettol": "2016-09-04",
                                    "(No column name)": "20"
                                },
                                {
                                    "szallas_nev": "Fortuna Apartman",
                                    "mettol": "2016-09-07",
                                    "(No column name)": "21"
                                },
                                {
                                    "szallas_nev": "Fortuna Apartman",
                                    "mettol": "2016-09-19",
                                    "(No column name)": "22"
                                },
                                {
                                    "szallas_nev": "Fortuna Apartman",
                                    "mettol": "2016-10-01",
                                    "(No column name)": "24"
                                },
                                {
                                    "szallas_nev": "Fortuna Apartman",
                                    "mettol": "2016-10-01",
                                    "(No column name)": "24"
                                },
                                {
                                    "szallas_nev": "Fortuna Apartman",
                                    "mettol": "2016-10-08",
                                    "(No column name)": "25"
                                },
                                {
                                    "szallas_nev": "Fortuna Apartman",
                                    "mettol": "2016-10-09",
                                    "(No column name)": "26"
                                },
                                {
                                    "szallas_nev": "Fortuna Apartman",
                                    "mettol": "2016-10-19",
                                    "(No column name)": "27"
                                },
                                {
                                    "szallas_nev": "Fortuna Apartman",
                                    "mettol": "2016-10-21",
                                    "(No column name)": "28"
                                },
                                {
                                    "szallas_nev": "Fortuna Apartman",
                                    "mettol": "2016-10-26",
                                    "(No column name)": "30"
                                },
                                {
                                    "szallas_nev": "Fortuna Apartman",
                                    "mettol": "2016-10-26",
                                    "(No column name)": "30"
                                },
                                {
                                    "szallas_nev": "Fortuna Apartman",
                                    "mettol": "2016-10-27",
                                    "(No column name)": "31"
                                },
                                {
                                    "szallas_nev": "Fortuna Apartman",
                                    "mettol": "2016-10-28",
                                    "(No column name)": "32"
                                },
                                {
                                    "szallas_nev": "Fortuna Apartman",
                                    "mettol": "2016-11-02",
                                    "(No column name)": "33"
                                },
                                {
                                    "szallas_nev": "Fortuna Apartman",
                                    "mettol": "2016-11-17",
                                    "(No column name)": "34"
                                },
                                {
                                    "szallas_nev": "Fortuna Apartman",
                                    "mettol": "2016-11-25",
                                    "(No column name)": "35"
                                },
                                {
                                    "szallas_nev": "Fortuna Apartman",
                                    "mettol": "2017-01-03",
                                    "(No column name)": "36"
                                },
                                {
                                    "szallas_nev": "Fortuna Apartman",
                                    "mettol": "2017-02-06",
                                    "(No column name)": "37"
                                },
                                {
                                    "szallas_nev": "Fortuna Apartman",
                                    "mettol": "2017-02-14",
                                    "(No column name)": "38"
                                },
                                {
                                    "szallas_nev": "Fortuna Apartman",
                                    "mettol": "2017-02-18",
                                    "(No column name)": "39"
                                },
                                {
                                    "szallas_nev": "Fortuna Panzió",
                                    "mettol": "2016-04-06",
                                    "(No column name)": "1"
                                },
                                {
                                    "szallas_nev": "Fortuna Panzió",
                                    "mettol": "2016-04-19",
                                    "(No column name)": "3"
                                },
                                {
                                    "szallas_nev": "Fortuna Panzió",
                                    "mettol": "2016-04-19",
                                    "(No column name)": "3"
                                },
                                {
                                    "szallas_nev": "Fortuna panzió",
                                    "mettol": "2016-04-24",
                                    "(No column name)": "4"
                                },
                                {
                                    "szallas_nev": "Fortuna panzió",
                                    "mettol": "2016-04-25",
                                    "(No column name)": "5"
                                },
                                {
                                    "szallas_nev": "Fortuna Panzió",
                                    "mettol": "2016-04-26",
                                    "(No column name)": "6"
                                },
                                {
                                    "szallas_nev": "Fortuna panzió",
                                    "mettol": "2016-04-27",
                                    "(No column name)": "8"
                                },
                                {
                                    "szallas_nev": "Fortuna panzió",
                                    "mettol": "2016-04-27",
                                    "(No column name)": "8"
                                },
                                {
                                    "szallas_nev": "Fortuna panzió",
                                    "mettol": "2016-05-01",
                                    "(No column name)": "9"
                                },
                                {
                                    "szallas_nev": "Fortuna panzió",
                                    "mettol": "2016-05-08",
                                    "(No column name)": "11"
                                },
                                {
                                    "szallas_nev": "Fortuna panzió",
                                    "mettol": "2016-05-08",
                                    "(No column name)": "11"
                                },
                                {
                                    "szallas_nev": "Fortuna Panzió",
                                    "mettol": "2016-05-09",
                                    "(No column name)": "12"
                                },
                                {
                                    "szallas_nev": "Fortuna Panzió",
                                    "mettol": "2016-05-21",
                                    "(No column name)": "13"
                                },
                                {
                                    "szallas_nev": "Fortuna Panzió",
                                    "mettol": "2016-05-22",
                                    "(No column name)": "14"
                                },
                                {
                                    "szallas_nev": "Fortuna panzió",
                                    "mettol": "2016-05-28",
                                    "(No column name)": "15"
                                },
                                {
                                    "szallas_nev": "Fortuna panzió",
                                    "mettol": "2016-05-29",
                                    "(No column name)": "16"
                                },
                                {
                                    "szallas_nev": "Fortuna panzió",
                                    "mettol": "2016-06-01",
                                    "(No column name)": "17"
                                },
                                {
                                    "szallas_nev": "Fortuna Panzió",
                                    "mettol": "2016-06-02",
                                    "(No column name)": "18"
                                },
                                {
                                    "szallas_nev": "Fortuna panzió",
                                    "mettol": "2016-06-03",
                                    "(No column name)": "21"
                                },
                                {
                                    "szallas_nev": "Fortuna panzió",
                                    "mettol": "2016-06-03",
                                    "(No column name)": "21"
                                },
                                {
                                    "szallas_nev": "Fortuna panzió",
                                    "mettol": "2016-06-03",
                                    "(No column name)": "21"
                                },
                                {
                                    "szallas_nev": "Fortuna panzió",
                                    "mettol": "2016-06-04",
                                    "(No column name)": "23"
                                },
                                {
                                    "szallas_nev": "Fortuna panzió",
                                    "mettol": "2016-06-04",
                                    "(No column name)": "23"
                                },
                                {
                                    "szallas_nev": "Fortuna Panzió",
                                    "mettol": "2016-06-06",
                                    "(No column name)": "26"
                                },
                                {
                                    "szallas_nev": "Fortuna panzió",
                                    "mettol": "2016-06-06",
                                    "(No column name)": "26"
                                },
                                {
                                    "szallas_nev": "Fortuna panzió",
                                    "mettol": "2016-06-06",
                                    "(No column name)": "26"
                                },
                                {
                                    "szallas_nev": "Fortuna Panzió",
                                    "mettol": "2016-06-07",
                                    "(No column name)": "28"
                                },
                                {
                                    "szallas_nev": "Fortuna Panzió",
                                    "mettol": "2016-06-07",
                                    "(No column name)": "28"
                                },
                                {
                                    "szallas_nev": "Fortuna Panzió",
                                    "mettol": "2016-06-13",
                                    "(No column name)": "29"
                                },
                                {
                                    "szallas_nev": "Fortuna Panzió",
                                    "mettol": "2016-06-15",
                                    "(No column name)": "30"
                                },
                                {
                                    "szallas_nev": "Fortuna panzió",
                                    "mettol": "2016-06-18",
                                    "(No column name)": "31"
                                },
                                {
                                    "szallas_nev": "Fortuna panzió",
                                    "mettol": "2016-06-22",
                                    "(No column name)": "32"
                                },
                                {
                                    "szallas_nev": "Fortuna panzió",
                                    "mettol": "2016-06-24",
                                    "(No column name)": "33"
                                },
                                {
                                    "szallas_nev": "Fortuna Panzió",
                                    "mettol": "2016-06-25",
                                    "(No column name)": "34"
                                },
                                {
                                    "szallas_nev": "Fortuna panzió",
                                    "mettol": "2016-07-03",
                                    "(No column name)": "35"
                                },
                                {
                                    "szallas_nev": "Fortuna panzió",
                                    "mettol": "2016-07-05",
                                    "(No column name)": "36"
                                },
                                {
                                    "szallas_nev": "Fortuna Panzió",
                                    "mettol": "2016-07-08",
                                    "(No column name)": "38"
                                },
                                {
                                    "szallas_nev": "Fortuna Panzió",
                                    "mettol": "2016-07-08",
                                    "(No column name)": "38"
                                },
                                {
                                    "szallas_nev": "Fortuna panzió",
                                    "mettol": "2016-07-10",
                                    "(No column name)": "39"
                                },
                                {
                                    "szallas_nev": "Fortuna Panzió",
                                    "mettol": "2016-07-14",
                                    "(No column name)": "40"
                                },
                                {
                                    "szallas_nev": "Fortuna panzió",
                                    "mettol": "2016-07-18",
                                    "(No column name)": "41"
                                },
                                {
                                    "szallas_nev": "Fortuna panzió",
                                    "mettol": "2016-07-19",
                                    "(No column name)": "42"
                                },
                                {
                                    "szallas_nev": "Fortuna panzió",
                                    "mettol": "2016-07-22",
                                    "(No column name)": "43"
                                },
                                {
                                    "szallas_nev": "Fortuna panzió",
                                    "mettol": "2016-07-23",
                                    "(No column name)": "44"
                                },
                                {
                                    "szallas_nev": "Fortuna panzió",
                                    "mettol": "2016-07-27",
                                    "(No column name)": "46"
                                },
                                {
                                    "szallas_nev": "Fortuna panzió",
                                    "mettol": "2016-07-27",
                                    "(No column name)": "46"
                                },
                                {
                                    "szallas_nev": "Fortuna panzió",
                                    "mettol": "2016-08-02",
                                    "(No column name)": "47"
                                },
                                {
                                    "szallas_nev": "Fortuna panzió",
                                    "mettol": "2016-08-03",
                                    "(No column name)": "49"
                                },
                                {
                                    "szallas_nev": "Fortuna Panzió",
                                    "mettol": "2016-08-03",
                                    "(No column name)": "49"
                                },
                                {
                                    "szallas_nev": "Fortuna panzió",
                                    "mettol": "2016-08-05",
                                    "(No column name)": "50"
                                },
                                {
                                    "szallas_nev": "Fortuna Panzió",
                                    "mettol": "2016-08-12",
                                    "(No column name)": "51"
                                },
                                {
                                    "szallas_nev": "Fortuna panzió",
                                    "mettol": "2016-08-14",
                                    "(No column name)": "52"
                                },
                                {
                                    "szallas_nev": "Fortuna Panzió",
                                    "mettol": "2016-08-17",
                                    "(No column name)": "53"
                                },
                                {
                                    "szallas_nev": "Fortuna Panzió",
                                    "mettol": "2016-08-20",
                                    "(No column name)": "55"
                                },
                                {
                                    "szallas_nev": "Fortuna Panzió",
                                    "mettol": "2016-08-20",
                                    "(No column name)": "55"
                                },
                                {
                                    "szallas_nev": "Fortuna panzió",
                                    "mettol": "2016-08-22",
                                    "(No column name)": "56"
                                },
                                {
                                    "szallas_nev": "Fortuna panzió",
                                    "mettol": "2016-08-24",
                                    "(No column name)": "57"
                                },
                                {
                                    "szallas_nev": "Fortuna Panzió",
                                    "mettol": "2016-08-25",
                                    "(No column name)": "59"
                                },
                                {
                                    "szallas_nev": "Fortuna Panzió",
                                    "mettol": "2016-08-25",
                                    "(No column name)": "59"
                                },
                                {
                                    "szallas_nev": "Fortuna Panzió",
                                    "mettol": "2016-08-26",
                                    "(No column name)": "60"
                                },
                                {
                                    "szallas_nev": "Fortuna panzió",
                                    "mettol": "2016-08-28",
                                    "(No column name)": "61"
                                },
                                {
                                    "szallas_nev": "Fortuna Panzió",
                                    "mettol": "2016-09-02",
                                    "(No column name)": "62"
                                },
                                {
                                    "szallas_nev": "Fortuna panzió",
                                    "mettol": "2016-09-05",
                                    "(No column name)": "64"
                                },
                                {
                                    "szallas_nev": "Fortuna panzió",
                                    "mettol": "2016-09-05",
                                    "(No column name)": "64"
                                },
                                {
                                    "szallas_nev": "Fortuna panzió",
                                    "mettol": "2016-09-14",
                                    "(No column name)": "65"
                                },
                                {
                                    "szallas_nev": "Fortuna panzió",
                                    "mettol": "2016-09-15",
                                    "(No column name)": "66"
                                },
                                {
                                    "szallas_nev": "Fortuna Panzió",
                                    "mettol": "2016-09-16",
                                    "(No column name)": "67"
                                },
                                {
                                    "szallas_nev": "Fortuna panzió",
                                    "mettol": "2016-09-17",
                                    "(No column name)": "68"
                                },
                                {
                                    "szallas_nev": "Fortuna Panzió",
                                    "mettol": "2016-09-18",
                                    "(No column name)": "69"
                                },
                                {
                                    "szallas_nev": "Fortuna panzió",
                                    "mettol": "2016-09-23",
                                    "(No column name)": "71"
                                },
                                {
                                    "szallas_nev": "Fortuna panzió",
                                    "mettol": "2016-09-23",
                                    "(No column name)": "71"
                                },
                                {
                                    "szallas_nev": "Fortuna panzió",
                                    "mettol": "2016-09-26",
                                    "(No column name)": "72"
                                },
                                {
                                    "szallas_nev": "Fortuna Panzió",
                                    "mettol": "2016-09-29",
                                    "(No column name)": "73"
                                },
                                {
                                    "szallas_nev": "Fortuna Panzió",
                                    "mettol": "2016-10-03",
                                    "(No column name)": "74"
                                },
                                {
                                    "szallas_nev": "Fortuna Panzió",
                                    "mettol": "2016-10-09",
                                    "(No column name)": "77"
                                },
                                {
                                    "szallas_nev": "Fortuna panzió",
                                    "mettol": "2016-10-09",
                                    "(No column name)": "77"
                                },
                                {
                                    "szallas_nev": "Fortuna Panzió",
                                    "mettol": "2016-10-09",
                                    "(No column name)": "77"
                                },
                                {
                                    "szallas_nev": "Fortuna panzió",
                                    "mettol": "2016-10-13",
                                    "(No column name)": "78"
                                },
                                {
                                    "szallas_nev": "Fortuna panzió",
                                    "mettol": "2016-10-16",
                                    "(No column name)": "79"
                                },
                                {
                                    "szallas_nev": "Fortuna panzió",
                                    "mettol": "2016-10-23",
                                    "(No column name)": "81"
                                },
                                {
                                    "szallas_nev": "Fortuna Panzió",
                                    "mettol": "2016-10-23",
                                    "(No column name)": "81"
                                },
                                {
                                    "szallas_nev": "Fortuna Panzió",
                                    "mettol": "2016-10-26",
                                    "(No column name)": "82"
                                },
                                {
                                    "szallas_nev": "Fortuna Panzió",
                                    "mettol": "2016-10-27",
                                    "(No column name)": "83"
                                },
                                {
                                    "szallas_nev": "Fortuna panzió",
                                    "mettol": "2016-10-29",
                                    "(No column name)": "84"
                                },
                                {
                                    "szallas_nev": "Fortuna Panzió",
                                    "mettol": "2016-10-30",
                                    "(No column name)": "86"
                                },
                                {
                                    "szallas_nev": "Fortuna Panzió",
                                    "mettol": "2016-10-30",
                                    "(No column name)": "86"
                                },
                                {
                                    "szallas_nev": "Fortuna panzió",
                                    "mettol": "2016-11-01",
                                    "(No column name)": "87"
                                },
                                {
                                    "szallas_nev": "Fortuna Panzió",
                                    "mettol": "2016-11-03",
                                    "(No column name)": "88"
                                },
                                {
                                    "szallas_nev": "Fortuna Panzió",
                                    "mettol": "2016-11-10",
                                    "(No column name)": "89"
                                },
                                {
                                    "szallas_nev": "Fortuna panzió",
                                    "mettol": "2016-11-11",
                                    "(No column name)": "90"
                                },
                                {
                                    "szallas_nev": "Fortuna Panzió",
                                    "mettol": "2016-11-19",
                                    "(No column name)": "92"
                                },
                                {
                                    "szallas_nev": "Fortuna Panzió",
                                    "mettol": "2016-11-19",
                                    "(No column name)": "92"
                                },
                                {
                                    "szallas_nev": "Fortuna Panzió",
                                    "mettol": "2016-11-22",
                                    "(No column name)": "93"
                                },
                                {
                                    "szallas_nev": "Fortuna Panzió",
                                    "mettol": "2016-11-23",
                                    "(No column name)": "94"
                                },
                                {
                                    "szallas_nev": "Fortuna panzió",
                                    "mettol": "2016-11-25",
                                    "(No column name)": "95"
                                },
                                {
                                    "szallas_nev": "Fortuna panzió",
                                    "mettol": "2016-12-01",
                                    "(No column name)": "96"
                                },
                                {
                                    "szallas_nev": "Fortuna panzió",
                                    "mettol": "2016-12-05",
                                    "(No column name)": "97"
                                },
                                {
                                    "szallas_nev": "Fortuna panzió",
                                    "mettol": "2016-12-06",
                                    "(No column name)": "98"
                                },
                                {
                                    "szallas_nev": "Fortuna panzió",
                                    "mettol": "2016-12-14",
                                    "(No column name)": "99"
                                },
                                {
                                    "szallas_nev": "Fortuna panzió",
                                    "mettol": "2016-12-18",
                                    "(No column name)": "100"
                                },
                                {
                                    "szallas_nev": "Fortuna panzió",
                                    "mettol": "2016-12-20",
                                    "(No column name)": "101"
                                },
                                {
                                    "szallas_nev": "Fortuna panzió",
                                    "mettol": "2016-12-21",
                                    "(No column name)": "102"
                                },
                                {
                                    "szallas_nev": "Fortuna panzió",
                                    "mettol": "2016-12-24",
                                    "(No column name)": "103"
                                },
                                {
                                    "szallas_nev": "Fortuna panzió",
                                    "mettol": "2016-12-29",
                                    "(No column name)": "104"
                                },
                                {
                                    "szallas_nev": "Fortuna panzió",
                                    "mettol": "2017-01-01",
                                    "(No column name)": "105"
                                },
                                {
                                    "szallas_nev": "Fortuna panzió",
                                    "mettol": "2017-01-03",
                                    "(No column name)": "106"
                                },
                                {
                                    "szallas_nev": "Fortuna Panzió",
                                    "mettol": "2017-01-08",
                                    "(No column name)": "107"
                                },
                                {
                                    "szallas_nev": "Fortuna panzió",
                                    "mettol": "2017-01-12",
                                    "(No column name)": "108"
                                },
                                {
                                    "szallas_nev": "Fortuna panzió",
                                    "mettol": "2017-01-13",
                                    "(No column name)": "109"
                                },
                                {
                                    "szallas_nev": "Fortuna Panzió",
                                    "mettol": "2017-01-16",
                                    "(No column name)": "110"
                                },
                                {
                                    "szallas_nev": "Fortuna panzió",
                                    "mettol": "2017-01-18",
                                    "(No column name)": "111"
                                },
                                {
                                    "szallas_nev": "Fortuna panzió",
                                    "mettol": "2017-01-20",
                                    "(No column name)": "112"
                                },
                                {
                                    "szallas_nev": "Fortuna panzió",
                                    "mettol": "2017-01-27",
                                    "(No column name)": "113"
                                },
                                {
                                    "szallas_nev": "Fortuna panzió",
                                    "mettol": "2017-01-28",
                                    "(No column name)": "114"
                                },
                                {
                                    "szallas_nev": "Fortuna Panzió",
                                    "mettol": "2017-02-10",
                                    "(No column name)": "115"
                                },
                                {
                                    "szallas_nev": "Fortuna Panzió",
                                    "mettol": "2017-02-12",
                                    "(No column name)": "116"
                                },
                                {
                                    "szallas_nev": "Fortuna panzió",
                                    "mettol": "2017-02-13",
                                    "(No column name)": "117"
                                },
                                {
                                    "szallas_nev": "Fortuna Panzió",
                                    "mettol": "2017-02-16",
                                    "(No column name)": "119"
                                },
                                {
                                    "szallas_nev": "Fortuna panzió",
                                    "mettol": "2017-02-16",
                                    "(No column name)": "119"
                                },
                                {
                                    "szallas_nev": "Fortuna Panzió",
                                    "mettol": "2017-02-17",
                                    "(No column name)": "120"
                                },
                                {
                                    "szallas_nev": "Fortuna Panzió",
                                    "mettol": "2017-02-18",
                                    "(No column name)": "121"
                                },
                                {
                                    "szallas_nev": "Fortuna Panzió",
                                    "mettol": "2017-02-20",
                                    "(No column name)": "123"
                                },
                                {
                                    "szallas_nev": "Fortuna Panzió",
                                    "mettol": "2017-02-20",
                                    "(No column name)": "123"
                                },
                                {
                                    "szallas_nev": "Fortuna panzió",
                                    "mettol": "2017-02-21",
                                    "(No column name)": "124"
                                },
                                {
                                    "szallas_nev": "Fortuna panzió",
                                    "mettol": "2017-02-24",
                                    "(No column name)": "125"
                                },
                                {
                                    "szallas_nev": "Fortuna Panzió",
                                    "mettol": "2017-03-01",
                                    "(No column name)": "126"
                                },
                                {
                                    "szallas_nev": "Gold Hotel",
                                    "mettol": "2016-04-10",
                                    "(No column name)": "4"
                                },
                                {
                                    "szallas_nev": "Gold Hotel",
                                    "mettol": "2016-04-10",
                                    "(No column name)": "4"
                                },
                                {
                                    "szallas_nev": "Gold Hotel",
                                    "mettol": "2016-04-10",
                                    "(No column name)": "4"
                                },
                                {
                                    "szallas_nev": "Gold Hotel",
                                    "mettol": "2016-04-10",
                                    "(No column name)": "4"
                                },
                                {
                                    "szallas_nev": "Gold Hotel",
                                    "mettol": "2016-04-13",
                                    "(No column name)": "5"
                                },
                                {
                                    "szallas_nev": "Gold Hotel",
                                    "mettol": "2016-04-21",
                                    "(No column name)": "6"
                                },
                                {
                                    "szallas_nev": "Gold Hotel",
                                    "mettol": "2016-04-24",
                                    "(No column name)": "7"
                                },
                                {
                                    "szallas_nev": "Gold Hotel",
                                    "mettol": "2016-04-28",
                                    "(No column name)": "8"
                                },
                                {
                                    "szallas_nev": "Gold Hotel",
                                    "mettol": "2016-05-01",
                                    "(No column name)": "9"
                                },
                                {
                                    "szallas_nev": "Gold Hotel",
                                    "mettol": "2016-05-09",
                                    "(No column name)": "11"
                                },
                                {
                                    "szallas_nev": "Gold Hotel",
                                    "mettol": "2016-05-09",
                                    "(No column name)": "11"
                                },
                                {
                                    "szallas_nev": "Gold Hotel",
                                    "mettol": "2016-05-12",
                                    "(No column name)": "12"
                                },
                                {
                                    "szallas_nev": "Gold Hotel",
                                    "mettol": "2016-05-14",
                                    "(No column name)": "13"
                                },
                                {
                                    "szallas_nev": "Gold Hotel",
                                    "mettol": "2016-05-21",
                                    "(No column name)": "15"
                                },
                                {
                                    "szallas_nev": "Gold Hotel",
                                    "mettol": "2016-05-21",
                                    "(No column name)": "15"
                                },
                                {
                                    "szallas_nev": "Gold Hotel",
                                    "mettol": "2016-05-24",
                                    "(No column name)": "16"
                                },
                                {
                                    "szallas_nev": "Gold Hotel",
                                    "mettol": "2016-05-25",
                                    "(No column name)": "17"
                                },
                                {
                                    "szallas_nev": "Gold Hotel",
                                    "mettol": "2016-05-28",
                                    "(No column name)": "20"
                                },
                                {
                                    "szallas_nev": "Gold Hotel",
                                    "mettol": "2016-05-28",
                                    "(No column name)": "20"
                                },
                                {
                                    "szallas_nev": "Gold Hotel",
                                    "mettol": "2016-05-28",
                                    "(No column name)": "20"
                                },
                                {
                                    "szallas_nev": "Gold Hotel",
                                    "mettol": "2016-05-30",
                                    "(No column name)": "21"
                                },
                                {
                                    "szallas_nev": "Gold Hotel",
                                    "mettol": "2016-06-03",
                                    "(No column name)": "25"
                                },
                                {
                                    "szallas_nev": "Gold Hotel",
                                    "mettol": "2016-06-03",
                                    "(No column name)": "25"
                                },
                                {
                                    "szallas_nev": "Gold Hotel",
                                    "mettol": "2016-06-03",
                                    "(No column name)": "25"
                                },
                                {
                                    "szallas_nev": "Gold Hotel",
                                    "mettol": "2016-06-03",
                                    "(No column name)": "25"
                                },
                                {
                                    "szallas_nev": "Gold Hotel",
                                    "mettol": "2016-06-04",
                                    "(No column name)": "27"
                                },
                                {
                                    "szallas_nev": "Gold Hotel",
                                    "mettol": "2016-06-04",
                                    "(No column name)": "27"
                                },
                                {
                                    "szallas_nev": "Gold Hotel",
                                    "mettol": "2016-06-06",
                                    "(No column name)": "30"
                                },
                                {
                                    "szallas_nev": "Gold Hotel",
                                    "mettol": "2016-06-06",
                                    "(No column name)": "30"
                                },
                                {
                                    "szallas_nev": "Gold Hotel",
                                    "mettol": "2016-06-06",
                                    "(No column name)": "30"
                                },
                                {
                                    "szallas_nev": "Gold Hotel",
                                    "mettol": "2016-06-07",
                                    "(No column name)": "34"
                                },
                                {
                                    "szallas_nev": "Gold Hotel",
                                    "mettol": "2016-06-07",
                                    "(No column name)": "34"
                                },
                                {
                                    "szallas_nev": "Gold Hotel",
                                    "mettol": "2016-06-07",
                                    "(No column name)": "34"
                                },
                                {
                                    "szallas_nev": "Gold Hotel",
                                    "mettol": "2016-06-07",
                                    "(No column name)": "34"
                                },
                                {
                                    "szallas_nev": "Gold Hotel",
                                    "mettol": "2016-06-08",
                                    "(No column name)": "35"
                                },
                                {
                                    "szallas_nev": "Gold Hotel",
                                    "mettol": "2016-06-09",
                                    "(No column name)": "36"
                                },
                                {
                                    "szallas_nev": "Gold Hotel",
                                    "mettol": "2016-06-10",
                                    "(No column name)": "37"
                                },
                                {
                                    "szallas_nev": "Gold Hotel",
                                    "mettol": "2016-06-11",
                                    "(No column name)": "38"
                                },
                                {
                                    "szallas_nev": "Gold Hotel",
                                    "mettol": "2016-06-13",
                                    "(No column name)": "40"
                                },
                                {
                                    "szallas_nev": "Gold Hotel",
                                    "mettol": "2016-06-13",
                                    "(No column name)": "40"
                                },
                                {
                                    "szallas_nev": "Gold Hotel",
                                    "mettol": "2016-06-20",
                                    "(No column name)": "41"
                                },
                                {
                                    "szallas_nev": "Gold Hotel",
                                    "mettol": "2016-06-22",
                                    "(No column name)": "43"
                                },
                                {
                                    "szallas_nev": "Gold Hotel",
                                    "mettol": "2016-06-22",
                                    "(No column name)": "43"
                                },
                                {
                                    "szallas_nev": "Gold Hotel",
                                    "mettol": "2016-06-23",
                                    "(No column name)": "44"
                                },
                                {
                                    "szallas_nev": "Gold Hotel",
                                    "mettol": "2016-06-24",
                                    "(No column name)": "45"
                                },
                                {
                                    "szallas_nev": "Gold Hotel",
                                    "mettol": "2016-06-27",
                                    "(No column name)": "46"
                                },
                                {
                                    "szallas_nev": "Gold Hotel",
                                    "mettol": "2016-06-28",
                                    "(No column name)": "47"
                                },
                                {
                                    "szallas_nev": "Gold Hotel",
                                    "mettol": "2016-06-30",
                                    "(No column name)": "48"
                                },
                                {
                                    "szallas_nev": "Gold Hotel",
                                    "mettol": "2016-07-04",
                                    "(No column name)": "50"
                                },
                                {
                                    "szallas_nev": "Gold Hotel",
                                    "mettol": "2016-07-04",
                                    "(No column name)": "50"
                                },
                                {
                                    "szallas_nev": "Gold Hotel",
                                    "mettol": "2016-07-06",
                                    "(No column name)": "51"
                                },
                                {
                                    "szallas_nev": "Gold Hotel",
                                    "mettol": "2016-07-08",
                                    "(No column name)": "52"
                                },
                                {
                                    "szallas_nev": "Gold Hotel",
                                    "mettol": "2016-07-09",
                                    "(No column name)": "53"
                                },
                                {
                                    "szallas_nev": "Gold Hotel",
                                    "mettol": "2016-07-10",
                                    "(No column name)": "54"
                                },
                                {
                                    "szallas_nev": "Gold Hotel",
                                    "mettol": "2016-07-14",
                                    "(No column name)": "57"
                                },
                                {
                                    "szallas_nev": "Gold Hotel",
                                    "mettol": "2016-07-14",
                                    "(No column name)": "57"
                                },
                                {
                                    "szallas_nev": "Gold Hotel",
                                    "mettol": "2016-07-14",
                                    "(No column name)": "57"
                                },
                                {
                                    "szallas_nev": "Gold Hotel",
                                    "mettol": "2016-07-15",
                                    "(No column name)": "58"
                                },
                                {
                                    "szallas_nev": "Gold Hotel",
                                    "mettol": "2016-07-16",
                                    "(No column name)": "59"
                                },
                                {
                                    "szallas_nev": "Gold Hotel",
                                    "mettol": "2016-07-17",
                                    "(No column name)": "61"
                                },
                                {
                                    "szallas_nev": "Gold Hotel",
                                    "mettol": "2016-07-17",
                                    "(No column name)": "61"
                                },
                                {
                                    "szallas_nev": "Gold Hotel",
                                    "mettol": "2016-07-18",
                                    "(No column name)": "63"
                                },
                                {
                                    "szallas_nev": "Gold Hotel",
                                    "mettol": "2016-07-18",
                                    "(No column name)": "63"
                                },
                                {
                                    "szallas_nev": "Gold Hotel",
                                    "mettol": "2016-07-19",
                                    "(No column name)": "64"
                                },
                                {
                                    "szallas_nev": "Gold Hotel",
                                    "mettol": "2016-07-20",
                                    "(No column name)": "67"
                                },
                                {
                                    "szallas_nev": "Gold Hotel",
                                    "mettol": "2016-07-20",
                                    "(No column name)": "67"
                                },
                                {
                                    "szallas_nev": "Gold Hotel",
                                    "mettol": "2016-07-20",
                                    "(No column name)": "67"
                                },
                                {
                                    "szallas_nev": "Gold Hotel",
                                    "mettol": "2016-07-24",
                                    "(No column name)": "70"
                                },
                                {
                                    "szallas_nev": "Gold Hotel",
                                    "mettol": "2016-07-24",
                                    "(No column name)": "70"
                                },
                                {
                                    "szallas_nev": "Gold Hotel",
                                    "mettol": "2016-07-24",
                                    "(No column name)": "70"
                                },
                                {
                                    "szallas_nev": "Gold Hotel",
                                    "mettol": "2016-07-27",
                                    "(No column name)": "71"
                                },
                                {
                                    "szallas_nev": "Gold Hotel",
                                    "mettol": "2016-07-28",
                                    "(No column name)": "72"
                                },
                                {
                                    "szallas_nev": "Gold Hotel",
                                    "mettol": "2016-07-30",
                                    "(No column name)": "73"
                                },
                                {
                                    "szallas_nev": "Gold Hotel",
                                    "mettol": "2016-07-31",
                                    "(No column name)": "74"
                                },
                                {
                                    "szallas_nev": "Gold Hotel",
                                    "mettol": "2016-08-01",
                                    "(No column name)": "76"
                                },
                                {
                                    "szallas_nev": "Gold Hotel",
                                    "mettol": "2016-08-01",
                                    "(No column name)": "76"
                                },
                                {
                                    "szallas_nev": "Gold Hotel",
                                    "mettol": "2016-08-02",
                                    "(No column name)": "77"
                                },
                                {
                                    "szallas_nev": "Gold Hotel",
                                    "mettol": "2016-08-03",
                                    "(No column name)": "78"
                                },
                                {
                                    "szallas_nev": "Gold Hotel",
                                    "mettol": "2016-08-09",
                                    "(No column name)": "79"
                                },
                                {
                                    "szallas_nev": "Gold Hotel",
                                    "mettol": "2016-08-10",
                                    "(No column name)": "80"
                                },
                                {
                                    "szallas_nev": "Gold Hotel",
                                    "mettol": "2016-08-13",
                                    "(No column name)": "81"
                                },
                                {
                                    "szallas_nev": "Gold Hotel",
                                    "mettol": "2016-08-16",
                                    "(No column name)": "84"
                                },
                                {
                                    "szallas_nev": "Gold Hotel",
                                    "mettol": "2016-08-16",
                                    "(No column name)": "84"
                                },
                                {
                                    "szallas_nev": "Gold Hotel",
                                    "mettol": "2016-08-16",
                                    "(No column name)": "84"
                                },
                                {
                                    "szallas_nev": "Gold Hotel",
                                    "mettol": "2016-08-17",
                                    "(No column name)": "85"
                                },
                                {
                                    "szallas_nev": "Gold Hotel",
                                    "mettol": "2016-08-19",
                                    "(No column name)": "86"
                                },
                                {
                                    "szallas_nev": "Gold Hotel",
                                    "mettol": "2016-08-24",
                                    "(No column name)": "87"
                                },
                                {
                                    "szallas_nev": "Gold Hotel",
                                    "mettol": "2016-08-28",
                                    "(No column name)": "88"
                                },
                                {
                                    "szallas_nev": "Gold Hotel",
                                    "mettol": "2016-08-29",
                                    "(No column name)": "90"
                                },
                                {
                                    "szallas_nev": "Gold Hotel",
                                    "mettol": "2016-08-29",
                                    "(No column name)": "90"
                                },
                                {
                                    "szallas_nev": "Gold Hotel",
                                    "mettol": "2016-08-31",
                                    "(No column name)": "91"
                                },
                                {
                                    "szallas_nev": "Gold Hotel",
                                    "mettol": "2016-09-05",
                                    "(No column name)": "92"
                                },
                                {
                                    "szallas_nev": "Gold Hotel",
                                    "mettol": "2016-09-09",
                                    "(No column name)": "93"
                                },
                                {
                                    "szallas_nev": "Gold Hotel",
                                    "mettol": "2016-09-11",
                                    "(No column name)": "94"
                                },
                                {
                                    "szallas_nev": "Gold Hotel",
                                    "mettol": "2016-09-18",
                                    "(No column name)": "95"
                                },
                                {
                                    "szallas_nev": "Gold Hotel",
                                    "mettol": "2016-09-19",
                                    "(No column name)": "96"
                                },
                                {
                                    "szallas_nev": "Gold Hotel",
                                    "mettol": "2016-09-22",
                                    "(No column name)": "97"
                                },
                                {
                                    "szallas_nev": "Gold Hotel",
                                    "mettol": "2016-09-30",
                                    "(No column name)": "100"
                                },
                                {
                                    "szallas_nev": "Gold Hotel",
                                    "mettol": "2016-09-30",
                                    "(No column name)": "100"
                                },
                                {
                                    "szallas_nev": "Gold Hotel",
                                    "mettol": "2016-09-30",
                                    "(No column name)": "100"
                                },
                                {
                                    "szallas_nev": "Gold Hotel",
                                    "mettol": "2016-10-03",
                                    "(No column name)": "101"
                                },
                                {
                                    "szallas_nev": "Gold Hotel",
                                    "mettol": "2016-10-06",
                                    "(No column name)": "102"
                                },
                                {
                                    "szallas_nev": "Gold Hotel",
                                    "mettol": "2016-10-08",
                                    "(No column name)": "103"
                                },
                                {
                                    "szallas_nev": "Gold Hotel",
                                    "mettol": "2016-10-09",
                                    "(No column name)": "107"
                                },
                                {
                                    "szallas_nev": "Gold Hotel",
                                    "mettol": "2016-10-09",
                                    "(No column name)": "107"
                                },
                                {
                                    "szallas_nev": "Gold Hotel",
                                    "mettol": "2016-10-09",
                                    "(No column name)": "107"
                                },
                                {
                                    "szallas_nev": "Gold Hotel",
                                    "mettol": "2016-10-09",
                                    "(No column name)": "107"
                                },
                                {
                                    "szallas_nev": "Gold Hotel",
                                    "mettol": "2016-10-10",
                                    "(No column name)": "108"
                                },
                                {
                                    "szallas_nev": "Gold Hotel",
                                    "mettol": "2016-10-15",
                                    "(No column name)": "109"
                                },
                                {
                                    "szallas_nev": "Gold Hotel",
                                    "mettol": "2016-10-17",
                                    "(No column name)": "110"
                                },
                                {
                                    "szallas_nev": "Gold Hotel",
                                    "mettol": "2016-10-20",
                                    "(No column name)": "112"
                                },
                                {
                                    "szallas_nev": "Gold Hotel",
                                    "mettol": "2016-10-20",
                                    "(No column name)": "112"
                                },
                                {
                                    "szallas_nev": "Gold Hotel",
                                    "mettol": "2016-10-21",
                                    "(No column name)": "113"
                                },
                                {
                                    "szallas_nev": "Gold Hotel",
                                    "mettol": "2016-10-23",
                                    "(No column name)": "116"
                                },
                                {
                                    "szallas_nev": "Gold Hotel",
                                    "mettol": "2016-10-23",
                                    "(No column name)": "116"
                                },
                                {
                                    "szallas_nev": "Gold Hotel",
                                    "mettol": "2016-10-23",
                                    "(No column name)": "116"
                                },
                                {
                                    "szallas_nev": "Gold Hotel",
                                    "mettol": "2016-10-24",
                                    "(No column name)": "117"
                                },
                                {
                                    "szallas_nev": "Gold Hotel",
                                    "mettol": "2016-10-26",
                                    "(No column name)": "118"
                                },
                                {
                                    "szallas_nev": "Gold Hotel",
                                    "mettol": "2016-10-27",
                                    "(No column name)": "119"
                                },
                                {
                                    "szallas_nev": "Gold Hotel",
                                    "mettol": "2016-10-28",
                                    "(No column name)": "120"
                                },
                                {
                                    "szallas_nev": "Gold Hotel",
                                    "mettol": "2016-10-29",
                                    "(No column name)": "121"
                                },
                                {
                                    "szallas_nev": "Gold Hotel",
                                    "mettol": "2016-10-30",
                                    "(No column name)": "123"
                                },
                                {
                                    "szallas_nev": "Gold Hotel",
                                    "mettol": "2016-10-30",
                                    "(No column name)": "123"
                                },
                                {
                                    "szallas_nev": "Gold Hotel",
                                    "mettol": "2016-11-03",
                                    "(No column name)": "125"
                                },
                                {
                                    "szallas_nev": "Gold Hotel",
                                    "mettol": "2016-11-03",
                                    "(No column name)": "125"
                                },
                                {
                                    "szallas_nev": "Gold Hotel",
                                    "mettol": "2016-11-05",
                                    "(No column name)": "128"
                                },
                                {
                                    "szallas_nev": "Gold Hotel",
                                    "mettol": "2016-11-05",
                                    "(No column name)": "128"
                                },
                                {
                                    "szallas_nev": "Gold Hotel",
                                    "mettol": "2016-11-05",
                                    "(No column name)": "128"
                                },
                                {
                                    "szallas_nev": "Gold Hotel",
                                    "mettol": "2016-11-08",
                                    "(No column name)": "129"
                                },
                                {
                                    "szallas_nev": "Gold Hotel",
                                    "mettol": "2016-11-09",
                                    "(No column name)": "130"
                                },
                                {
                                    "szallas_nev": "Gold Hotel",
                                    "mettol": "2016-11-12",
                                    "(No column name)": "131"
                                },
                                {
                                    "szallas_nev": "Gold Hotel",
                                    "mettol": "2016-11-13",
                                    "(No column name)": "132"
                                },
                                {
                                    "szallas_nev": "Gold Hotel",
                                    "mettol": "2016-11-22",
                                    "(No column name)": "134"
                                },
                                {
                                    "szallas_nev": "Gold Hotel",
                                    "mettol": "2016-11-22",
                                    "(No column name)": "134"
                                },
                                {
                                    "szallas_nev": "Gold Hotel",
                                    "mettol": "2016-11-23",
                                    "(No column name)": "136"
                                },
                                {
                                    "szallas_nev": "Gold Hotel",
                                    "mettol": "2016-11-23",
                                    "(No column name)": "136"
                                },
                                {
                                    "szallas_nev": "Gold Hotel",
                                    "mettol": "2016-11-25",
                                    "(No column name)": "137"
                                },
                                {
                                    "szallas_nev": "Gold Hotel",
                                    "mettol": "2016-11-27",
                                    "(No column name)": "138"
                                },
                                {
                                    "szallas_nev": "Gold Hotel",
                                    "mettol": "2016-11-28",
                                    "(No column name)": "139"
                                },
                                {
                                    "szallas_nev": "Gold Hotel",
                                    "mettol": "2016-11-29",
                                    "(No column name)": "140"
                                },
                                {
                                    "szallas_nev": "Gold Hotel",
                                    "mettol": "2016-12-02",
                                    "(No column name)": "141"
                                },
                                {
                                    "szallas_nev": "Gold Hotel",
                                    "mettol": "2016-12-04",
                                    "(No column name)": "143"
                                },
                                {
                                    "szallas_nev": "Gold Hotel",
                                    "mettol": "2016-12-04",
                                    "(No column name)": "143"
                                },
                                {
                                    "szallas_nev": "Gold Hotel",
                                    "mettol": "2016-12-05",
                                    "(No column name)": "144"
                                },
                                {
                                    "szallas_nev": "Gold Hotel",
                                    "mettol": "2016-12-06",
                                    "(No column name)": "145"
                                },
                                {
                                    "szallas_nev": "Gold Hotel",
                                    "mettol": "2016-12-09",
                                    "(No column name)": "146"
                                },
                                {
                                    "szallas_nev": "Gold Hotel",
                                    "mettol": "2016-12-17",
                                    "(No column name)": "147"
                                },
                                {
                                    "szallas_nev": "Gold Hotel",
                                    "mettol": "2016-12-22",
                                    "(No column name)": "148"
                                },
                                {
                                    "szallas_nev": "Gold Hotel",
                                    "mettol": "2016-12-24",
                                    "(No column name)": "149"
                                },
                                {
                                    "szallas_nev": "Gold Hotel",
                                    "mettol": "2016-12-25",
                                    "(No column name)": "150"
                                },
                                {
                                    "szallas_nev": "Gold Hotel",
                                    "mettol": "2016-12-29",
                                    "(No column name)": "151"
                                },
                                {
                                    "szallas_nev": "Gold Hotel",
                                    "mettol": "2016-12-30",
                                    "(No column name)": "152"
                                },
                                {
                                    "szallas_nev": "Gold Hotel",
                                    "mettol": "2017-01-01",
                                    "(No column name)": "153"
                                },
                                {
                                    "szallas_nev": "Gold Hotel",
                                    "mettol": "2017-01-02",
                                    "(No column name)": "154"
                                },
                                {
                                    "szallas_nev": "Gold Hotel",
                                    "mettol": "2017-01-05",
                                    "(No column name)": "156"
                                },
                                {
                                    "szallas_nev": "Gold Hotel",
                                    "mettol": "2017-01-05",
                                    "(No column name)": "156"
                                },
                                {
                                    "szallas_nev": "Gold Hotel",
                                    "mettol": "2017-01-06",
                                    "(No column name)": "157"
                                },
                                {
                                    "szallas_nev": "Gold Hotel",
                                    "mettol": "2017-01-09",
                                    "(No column name)": "159"
                                },
                                {
                                    "szallas_nev": "Gold Hotel",
                                    "mettol": "2017-01-09",
                                    "(No column name)": "159"
                                },
                                {
                                    "szallas_nev": "Gold Hotel",
                                    "mettol": "2017-01-13",
                                    "(No column name)": "160"
                                },
                                {
                                    "szallas_nev": "Gold Hotel",
                                    "mettol": "2017-01-16",
                                    "(No column name)": "161"
                                },
                                {
                                    "szallas_nev": "Gold Hotel",
                                    "mettol": "2017-01-17",
                                    "(No column name)": "162"
                                },
                                {
                                    "szallas_nev": "Gold Hotel",
                                    "mettol": "2017-01-22",
                                    "(No column name)": "164"
                                },
                                {
                                    "szallas_nev": "Gold Hotel",
                                    "mettol": "2017-01-22",
                                    "(No column name)": "164"
                                },
                                {
                                    "szallas_nev": "Gold Hotel",
                                    "mettol": "2017-01-24",
                                    "(No column name)": "165"
                                },
                                {
                                    "szallas_nev": "Gold Hotel",
                                    "mettol": "2017-01-30",
                                    "(No column name)": "166"
                                },
                                {
                                    "szallas_nev": "Gold Hotel",
                                    "mettol": "2017-02-03",
                                    "(No column name)": "167"
                                },
                                {
                                    "szallas_nev": "Gold Hotel",
                                    "mettol": "2017-02-04",
                                    "(No column name)": "168"
                                },
                                {
                                    "szallas_nev": "Gold Hotel",
                                    "mettol": "2017-02-05",
                                    "(No column name)": "170"
                                },
                                {
                                    "szallas_nev": "Gold Hotel",
                                    "mettol": "2017-02-05",
                                    "(No column name)": "170"
                                },
                                {
                                    "szallas_nev": "Gold Hotel",
                                    "mettol": "2017-02-08",
                                    "(No column name)": "172"
                                },
                                {
                                    "szallas_nev": "Gold Hotel",
                                    "mettol": "2017-02-08",
                                    "(No column name)": "172"
                                },
                                {
                                    "szallas_nev": "Gold Hotel",
                                    "mettol": "2017-02-11",
                                    "(No column name)": "173"
                                },
                                {
                                    "szallas_nev": "Gold Hotel",
                                    "mettol": "2017-02-12",
                                    "(No column name)": "174"
                                },
                                {
                                    "szallas_nev": "Gold Hotel",
                                    "mettol": "2017-02-22",
                                    "(No column name)": "175"
                                },
                                {
                                    "szallas_nev": "Gold Hotel",
                                    "mettol": "2017-02-23",
                                    "(No column name)": "176"
                                },
                                {
                                    "szallas_nev": "Gold Hotel",
                                    "mettol": "2017-02-24",
                                    "(No column name)": "178"
                                },
                                {
                                    "szallas_nev": "Gold Hotel",
                                    "mettol": "2017-02-24",
                                    "(No column name)": "178"
                                },
                                {
                                    "szallas_nev": "Gold Hotel",
                                    "mettol": "2017-02-26",
                                    "(No column name)": "179"
                                },
                                {
                                    "szallas_nev": "Hotel Három Hattyú",
                                    "mettol": "2016-04-11",
                                    "(No column name)": "1"
                                },
                                {
                                    "szallas_nev": "Hotel Három Hattyú",
                                    "mettol": "2016-04-18",
                                    "(No column name)": "2"
                                },
                                {
                                    "szallas_nev": "Hotel Három Hattyú",
                                    "mettol": "2016-04-19",
                                    "(No column name)": "3"
                                },
                                {
                                    "szallas_nev": "Hotel Három Hattyú",
                                    "mettol": "2016-04-23",
                                    "(No column name)": "5"
                                },
                                {
                                    "szallas_nev": "Hotel Három Hattyú",
                                    "mettol": "2016-04-23",
                                    "(No column name)": "5"
                                },
                                {
                                    "szallas_nev": "Hotel Három Hattyú",
                                    "mettol": "2016-04-27",
                                    "(No column name)": "6"
                                },
                                {
                                    "szallas_nev": "Hotel Három Hattyú",
                                    "mettol": "2016-04-28",
                                    "(No column name)": "7"
                                },
                                {
                                    "szallas_nev": "Hotel Három Hattyú",
                                    "mettol": "2016-04-30",
                                    "(No column name)": "8"
                                },
                                {
                                    "szallas_nev": "Hotel Három Hattyú",
                                    "mettol": "2016-05-01",
                                    "(No column name)": "10"
                                },
                                {
                                    "szallas_nev": "Hotel Három Hattyú",
                                    "mettol": "2016-05-01",
                                    "(No column name)": "10"
                                },
                                {
                                    "szallas_nev": "Hotel Három Hattyú",
                                    "mettol": "2016-05-02",
                                    "(No column name)": "12"
                                },
                                {
                                    "szallas_nev": "Hotel Három Hattyú",
                                    "mettol": "2016-05-02",
                                    "(No column name)": "12"
                                },
                                {
                                    "szallas_nev": "Hotel Három Hattyú",
                                    "mettol": "2016-05-03",
                                    "(No column name)": "13"
                                },
                                {
                                    "szallas_nev": "Hotel Három Hattyú",
                                    "mettol": "2016-05-06",
                                    "(No column name)": "14"
                                },
                                {
                                    "szallas_nev": "Hotel Három Hattyú",
                                    "mettol": "2016-05-08",
                                    "(No column name)": "15"
                                },
                                {
                                    "szallas_nev": "Hotel Három Hattyú",
                                    "mettol": "2016-05-09",
                                    "(No column name)": "17"
                                },
                                {
                                    "szallas_nev": "Hotel Három Hattyú",
                                    "mettol": "2016-05-09",
                                    "(No column name)": "17"
                                },
                                {
                                    "szallas_nev": "Hotel Három Hattyú",
                                    "mettol": "2016-05-10",
                                    "(No column name)": "19"
                                },
                                {
                                    "szallas_nev": "Hotel Három Hattyú",
                                    "mettol": "2016-05-10",
                                    "(No column name)": "19"
                                },
                                {
                                    "szallas_nev": "Hotel Három Hattyú",
                                    "mettol": "2016-05-11",
                                    "(No column name)": "20"
                                },
                                {
                                    "szallas_nev": "Hotel Három Hattyú",
                                    "mettol": "2016-05-14",
                                    "(No column name)": "21"
                                },
                                {
                                    "szallas_nev": "Hotel Három Hattyú",
                                    "mettol": "2016-05-18",
                                    "(No column name)": "22"
                                },
                                {
                                    "szallas_nev": "Hotel Három Hattyú",
                                    "mettol": "2016-05-19",
                                    "(No column name)": "23"
                                },
                                {
                                    "szallas_nev": "Hotel Három Hattyú",
                                    "mettol": "2016-05-24",
                                    "(No column name)": "24"
                                },
                                {
                                    "szallas_nev": "Hotel Három Hattyú",
                                    "mettol": "2016-05-25",
                                    "(No column name)": "25"
                                },
                                {
                                    "szallas_nev": "Hotel Három Hattyú",
                                    "mettol": "2016-05-27",
                                    "(No column name)": "26"
                                },
                                {
                                    "szallas_nev": "Hotel Három Hattyú",
                                    "mettol": "2016-05-28",
                                    "(No column name)": "27"
                                },
                                {
                                    "szallas_nev": "Hotel Három Hattyú",
                                    "mettol": "2016-05-30",
                                    "(No column name)": "29"
                                },
                                {
                                    "szallas_nev": "Hotel Három Hattyú",
                                    "mettol": "2016-05-30",
                                    "(No column name)": "29"
                                },
                                {
                                    "szallas_nev": "Hotel Három Hattyú",
                                    "mettol": "2016-06-06",
                                    "(No column name)": "30"
                                },
                                {
                                    "szallas_nev": "Hotel Három Hattyú",
                                    "mettol": "2016-06-07",
                                    "(No column name)": "32"
                                },
                                {
                                    "szallas_nev": "Hotel Három Hattyú",
                                    "mettol": "2016-06-07",
                                    "(No column name)": "32"
                                },
                                {
                                    "szallas_nev": "Hotel Három Hattyú",
                                    "mettol": "2016-06-10",
                                    "(No column name)": "34"
                                },
                                {
                                    "szallas_nev": "Hotel Három Hattyú",
                                    "mettol": "2016-06-10",
                                    "(No column name)": "34"
                                },
                                {
                                    "szallas_nev": "Hotel Három Hattyú",
                                    "mettol": "2016-06-12",
                                    "(No column name)": "35"
                                },
                                {
                                    "szallas_nev": "Hotel Három Hattyú",
                                    "mettol": "2016-06-14",
                                    "(No column name)": "36"
                                },
                                {
                                    "szallas_nev": "Hotel Három Hattyú",
                                    "mettol": "2016-06-16",
                                    "(No column name)": "40"
                                },
                                {
                                    "szallas_nev": "Hotel Három Hattyú",
                                    "mettol": "2016-06-16",
                                    "(No column name)": "40"
                                },
                                {
                                    "szallas_nev": "Hotel Három Hattyú",
                                    "mettol": "2016-06-16",
                                    "(No column name)": "40"
                                },
                                {
                                    "szallas_nev": "Hotel Három Hattyú",
                                    "mettol": "2016-06-16",
                                    "(No column name)": "40"
                                },
                                {
                                    "szallas_nev": "Hotel Három Hattyú",
                                    "mettol": "2016-06-19",
                                    "(No column name)": "41"
                                },
                                {
                                    "szallas_nev": "Hotel Három Hattyú",
                                    "mettol": "2016-06-21",
                                    "(No column name)": "42"
                                },
                                {
                                    "szallas_nev": "Hotel Három Hattyú",
                                    "mettol": "2016-06-29",
                                    "(No column name)": "43"
                                },
                                {
                                    "szallas_nev": "Hotel Három Hattyú",
                                    "mettol": "2016-06-30",
                                    "(No column name)": "44"
                                },
                                {
                                    "szallas_nev": "Hotel Három Hattyú",
                                    "mettol": "2016-07-01",
                                    "(No column name)": "46"
                                },
                                {
                                    "szallas_nev": "Hotel Három Hattyú",
                                    "mettol": "2016-07-01",
                                    "(No column name)": "46"
                                },
                                {
                                    "szallas_nev": "Hotel Három Hattyú",
                                    "mettol": "2016-07-03",
                                    "(No column name)": "47"
                                },
                                {
                                    "szallas_nev": "Hotel Három Hattyú",
                                    "mettol": "2016-07-04",
                                    "(No column name)": "48"
                                },
                                {
                                    "szallas_nev": "Hotel Három Hattyú",
                                    "mettol": "2016-07-07",
                                    "(No column name)": "49"
                                },
                                {
                                    "szallas_nev": "Hotel Három Hattyú",
                                    "mettol": "2016-07-12",
                                    "(No column name)": "50"
                                },
                                {
                                    "szallas_nev": "Hotel Három Hattyú",
                                    "mettol": "2016-07-13",
                                    "(No column name)": "51"
                                },
                                {
                                    "szallas_nev": "Hotel Három Hattyú",
                                    "mettol": "2016-07-14",
                                    "(No column name)": "52"
                                },
                                {
                                    "szallas_nev": "Hotel Három Hattyú",
                                    "mettol": "2016-07-18",
                                    "(No column name)": "53"
                                },
                                {
                                    "szallas_nev": "Hotel Három Hattyú",
                                    "mettol": "2016-07-19",
                                    "(No column name)": "54"
                                },
                                {
                                    "szallas_nev": "Hotel Három Hattyú",
                                    "mettol": "2016-07-20",
                                    "(No column name)": "55"
                                },
                                {
                                    "szallas_nev": "Hotel Három Hattyú",
                                    "mettol": "2016-07-22",
                                    "(No column name)": "56"
                                },
                                {
                                    "szallas_nev": "Hotel Három Hattyú",
                                    "mettol": "2016-07-23",
                                    "(No column name)": "57"
                                },
                                {
                                    "szallas_nev": "Hotel Három Hattyú",
                                    "mettol": "2016-07-25",
                                    "(No column name)": "58"
                                },
                                {
                                    "szallas_nev": "Hotel Három Hattyú",
                                    "mettol": "2016-07-26",
                                    "(No column name)": "60"
                                },
                                {
                                    "szallas_nev": "Hotel Három Hattyú",
                                    "mettol": "2016-07-26",
                                    "(No column name)": "60"
                                },
                                {
                                    "szallas_nev": "Hotel Három Hattyú",
                                    "mettol": "2016-07-27",
                                    "(No column name)": "65"
                                },
                                {
                                    "szallas_nev": "Hotel Három Hattyú",
                                    "mettol": "2016-07-27",
                                    "(No column name)": "65"
                                },
                                {
                                    "szallas_nev": "Hotel Három Hattyú",
                                    "mettol": "2016-07-27",
                                    "(No column name)": "65"
                                },
                                {
                                    "szallas_nev": "Hotel Három Hattyú",
                                    "mettol": "2016-07-27",
                                    "(No column name)": "65"
                                },
                                {
                                    "szallas_nev": "Hotel Három Hattyú",
                                    "mettol": "2016-07-27",
                                    "(No column name)": "65"
                                },
                                {
                                    "szallas_nev": "Hotel Három Hattyú",
                                    "mettol": "2016-07-28",
                                    "(No column name)": "67"
                                },
                                {
                                    "szallas_nev": "Hotel Három Hattyú",
                                    "mettol": "2016-07-28",
                                    "(No column name)": "67"
                                },
                                {
                                    "szallas_nev": "Hotel Három Hattyú",
                                    "mettol": "2016-07-29",
                                    "(No column name)": "68"
                                },
                                {
                                    "szallas_nev": "Hotel Három Hattyú",
                                    "mettol": "2016-07-30",
                                    "(No column name)": "70"
                                },
                                {
                                    "szallas_nev": "Hotel Három Hattyú",
                                    "mettol": "2016-07-30",
                                    "(No column name)": "70"
                                },
                                {
                                    "szallas_nev": "Hotel Három Hattyú",
                                    "mettol": "2016-08-04",
                                    "(No column name)": "71"
                                },
                                {
                                    "szallas_nev": "Hotel Három Hattyú",
                                    "mettol": "2016-08-07",
                                    "(No column name)": "72"
                                },
                                {
                                    "szallas_nev": "Hotel Három Hattyú",
                                    "mettol": "2016-08-14",
                                    "(No column name)": "73"
                                },
                                {
                                    "szallas_nev": "Hotel Három Hattyú",
                                    "mettol": "2016-08-15",
                                    "(No column name)": "74"
                                },
                                {
                                    "szallas_nev": "Hotel Három Hattyú",
                                    "mettol": "2016-08-16",
                                    "(No column name)": "75"
                                },
                                {
                                    "szallas_nev": "Hotel Három Hattyú",
                                    "mettol": "2016-08-20",
                                    "(No column name)": "76"
                                },
                                {
                                    "szallas_nev": "Hotel Három Hattyú",
                                    "mettol": "2016-08-21",
                                    "(No column name)": "77"
                                },
                                {
                                    "szallas_nev": "Hotel Három Hattyú",
                                    "mettol": "2016-08-23",
                                    "(No column name)": "79"
                                },
                                {
                                    "szallas_nev": "Hotel Három Hattyú",
                                    "mettol": "2016-08-23",
                                    "(No column name)": "79"
                                },
                                {
                                    "szallas_nev": "Hotel Három Hattyú",
                                    "mettol": "2016-08-24",
                                    "(No column name)": "80"
                                },
                                {
                                    "szallas_nev": "Hotel Három Hattyú",
                                    "mettol": "2016-08-26",
                                    "(No column name)": "81"
                                },
                                {
                                    "szallas_nev": "Hotel Három Hattyú",
                                    "mettol": "2016-08-29",
                                    "(No column name)": "83"
                                },
                                {
                                    "szallas_nev": "Hotel Három Hattyú",
                                    "mettol": "2016-08-29",
                                    "(No column name)": "83"
                                },
                                {
                                    "szallas_nev": "Hotel Három Hattyú",
                                    "mettol": "2016-08-31",
                                    "(No column name)": "84"
                                },
                                {
                                    "szallas_nev": "Hotel Három Hattyú",
                                    "mettol": "2016-09-05",
                                    "(No column name)": "85"
                                },
                                {
                                    "szallas_nev": "Hotel Három Hattyú",
                                    "mettol": "2016-09-06",
                                    "(No column name)": "86"
                                },
                                {
                                    "szallas_nev": "Hotel Három Hattyú",
                                    "mettol": "2016-09-08",
                                    "(No column name)": "87"
                                },
                                {
                                    "szallas_nev": "Hotel Három Hattyú",
                                    "mettol": "2016-09-10",
                                    "(No column name)": "88"
                                },
                                {
                                    "szallas_nev": "Hotel Három Hattyú",
                                    "mettol": "2016-09-13",
                                    "(No column name)": "91"
                                },
                                {
                                    "szallas_nev": "Hotel Három Hattyú",
                                    "mettol": "2016-09-13",
                                    "(No column name)": "91"
                                },
                                {
                                    "szallas_nev": "Hotel Három Hattyú",
                                    "mettol": "2016-09-13",
                                    "(No column name)": "91"
                                },
                                {
                                    "szallas_nev": "Hotel Három Hattyú",
                                    "mettol": "2016-09-17",
                                    "(No column name)": "92"
                                },
                                {
                                    "szallas_nev": "Hotel Három Hattyú",
                                    "mettol": "2016-09-20",
                                    "(No column name)": "93"
                                },
                                {
                                    "szallas_nev": "Hotel Három Hattyú",
                                    "mettol": "2016-09-27",
                                    "(No column name)": "94"
                                },
                                {
                                    "szallas_nev": "Hotel Három Hattyú",
                                    "mettol": "2016-09-28",
                                    "(No column name)": "95"
                                },
                                {
                                    "szallas_nev": "Hotel Három Hattyú",
                                    "mettol": "2016-09-30",
                                    "(No column name)": "96"
                                },
                                {
                                    "szallas_nev": "Hotel Három Hattyú",
                                    "mettol": "2016-10-01",
                                    "(No column name)": "99"
                                },
                                {
                                    "szallas_nev": "Hotel Három Hattyú",
                                    "mettol": "2016-10-01",
                                    "(No column name)": "99"
                                },
                                {
                                    "szallas_nev": "Hotel Három Hattyú",
                                    "mettol": "2016-10-01",
                                    "(No column name)": "99"
                                },
                                {
                                    "szallas_nev": "Hotel Három Hattyú",
                                    "mettol": "2016-10-04",
                                    "(No column name)": "100"
                                },
                                {
                                    "szallas_nev": "Hotel Három Hattyú",
                                    "mettol": "2016-10-06",
                                    "(No column name)": "101"
                                },
                                {
                                    "szallas_nev": "Hotel Három Hattyú",
                                    "mettol": "2016-10-08",
                                    "(No column name)": "103"
                                },
                                {
                                    "szallas_nev": "Hotel Három Hattyú",
                                    "mettol": "2016-10-08",
                                    "(No column name)": "103"
                                },
                                {
                                    "szallas_nev": "Hotel Három Hattyú",
                                    "mettol": "2016-10-15",
                                    "(No column name)": "104"
                                },
                                {
                                    "szallas_nev": "Hotel Három Hattyú",
                                    "mettol": "2016-10-17",
                                    "(No column name)": "105"
                                },
                                {
                                    "szallas_nev": "Hotel Három Hattyú",
                                    "mettol": "2016-10-19",
                                    "(No column name)": "106"
                                },
                                {
                                    "szallas_nev": "Hotel Három Hattyú",
                                    "mettol": "2016-10-20",
                                    "(No column name)": "107"
                                },
                                {
                                    "szallas_nev": "Hotel Három Hattyú",
                                    "mettol": "2016-10-22",
                                    "(No column name)": "108"
                                },
                                {
                                    "szallas_nev": "Hotel Három Hattyú",
                                    "mettol": "2016-10-26",
                                    "(No column name)": "109"
                                },
                                {
                                    "szallas_nev": "Hotel Három Hattyú",
                                    "mettol": "2016-10-28",
                                    "(No column name)": "112"
                                },
                                {
                                    "szallas_nev": "Hotel Három Hattyú",
                                    "mettol": "2016-10-28",
                                    "(No column name)": "112"
                                },
                                {
                                    "szallas_nev": "Hotel Három Hattyú",
                                    "mettol": "2016-10-28",
                                    "(No column name)": "112"
                                },
                                {
                                    "szallas_nev": "Hotel Három Hattyú",
                                    "mettol": "2016-10-29",
                                    "(No column name)": "114"
                                },
                                {
                                    "szallas_nev": "Hotel Három Hattyú",
                                    "mettol": "2016-10-29",
                                    "(No column name)": "114"
                                },
                                {
                                    "szallas_nev": "Hotel Három Hattyú",
                                    "mettol": "2016-10-30",
                                    "(No column name)": "117"
                                },
                                {
                                    "szallas_nev": "Hotel Három Hattyú",
                                    "mettol": "2016-10-30",
                                    "(No column name)": "117"
                                },
                                {
                                    "szallas_nev": "Hotel Három Hattyú",
                                    "mettol": "2016-10-30",
                                    "(No column name)": "117"
                                },
                                {
                                    "szallas_nev": "Hotel Három Hattyú",
                                    "mettol": "2016-11-03",
                                    "(No column name)": "118"
                                },
                                {
                                    "szallas_nev": "Hotel Három Hattyú",
                                    "mettol": "2016-11-04",
                                    "(No column name)": "119"
                                },
                                {
                                    "szallas_nev": "Hotel Három Hattyú",
                                    "mettol": "2016-11-05",
                                    "(No column name)": "121"
                                },
                                {
                                    "szallas_nev": "Hotel Három Hattyú",
                                    "mettol": "2016-11-05",
                                    "(No column name)": "121"
                                },
                                {
                                    "szallas_nev": "Hotel Három Hattyú",
                                    "mettol": "2016-11-08",
                                    "(No column name)": "122"
                                },
                                {
                                    "szallas_nev": "Hotel Három Hattyú",
                                    "mettol": "2016-11-10",
                                    "(No column name)": "123"
                                },
                                {
                                    "szallas_nev": "Hotel Három Hattyú",
                                    "mettol": "2016-11-15",
                                    "(No column name)": "124"
                                },
                                {
                                    "szallas_nev": "Hotel Három Hattyú",
                                    "mettol": "2016-11-16",
                                    "(No column name)": "125"
                                },
                                {
                                    "szallas_nev": "Hotel Három Hattyú",
                                    "mettol": "2016-11-19",
                                    "(No column name)": "127"
                                },
                                {
                                    "szallas_nev": "Hotel Három Hattyú",
                                    "mettol": "2016-11-19",
                                    "(No column name)": "127"
                                },
                                {
                                    "szallas_nev": "Hotel Három Hattyú",
                                    "mettol": "2016-11-20",
                                    "(No column name)": "128"
                                },
                                {
                                    "szallas_nev": "Hotel Három Hattyú",
                                    "mettol": "2016-11-22",
                                    "(No column name)": "129"
                                },
                                {
                                    "szallas_nev": "Hotel Három Hattyú",
                                    "mettol": "2016-11-23",
                                    "(No column name)": "130"
                                },
                                {
                                    "szallas_nev": "Hotel Három Hattyú",
                                    "mettol": "2016-11-24",
                                    "(No column name)": "131"
                                },
                                {
                                    "szallas_nev": "Hotel Három Hattyú",
                                    "mettol": "2016-11-29",
                                    "(No column name)": "133"
                                },
                                {
                                    "szallas_nev": "Hotel Három Hattyú",
                                    "mettol": "2016-11-29",
                                    "(No column name)": "133"
                                },
                                {
                                    "szallas_nev": "Hotel Három Hattyú",
                                    "mettol": "2016-12-02",
                                    "(No column name)": "134"
                                },
                                {
                                    "szallas_nev": "Hotel Három Hattyú",
                                    "mettol": "2016-12-03",
                                    "(No column name)": "135"
                                },
                                {
                                    "szallas_nev": "Hotel Három Hattyú",
                                    "mettol": "2016-12-05",
                                    "(No column name)": "136"
                                },
                                {
                                    "szallas_nev": "Hotel Három Hattyú",
                                    "mettol": "2016-12-07",
                                    "(No column name)": "139"
                                },
                                {
                                    "szallas_nev": "Hotel Három Hattyú",
                                    "mettol": "2016-12-07",
                                    "(No column name)": "139"
                                },
                                {
                                    "szallas_nev": "Hotel Három Hattyú",
                                    "mettol": "2016-12-07",
                                    "(No column name)": "139"
                                },
                                {
                                    "szallas_nev": "Hotel Három Hattyú",
                                    "mettol": "2016-12-08",
                                    "(No column name)": "140"
                                },
                                {
                                    "szallas_nev": "Hotel Három Hattyú",
                                    "mettol": "2016-12-13",
                                    "(No column name)": "141"
                                },
                                {
                                    "szallas_nev": "Hotel Három Hattyú",
                                    "mettol": "2016-12-15",
                                    "(No column name)": "142"
                                },
                                {
                                    "szallas_nev": "Hotel Három Hattyú",
                                    "mettol": "2016-12-17",
                                    "(No column name)": "146"
                                },
                                {
                                    "szallas_nev": "Hotel Három Hattyú",
                                    "mettol": "2016-12-17",
                                    "(No column name)": "146"
                                },
                                {
                                    "szallas_nev": "Hotel Három Hattyú",
                                    "mettol": "2016-12-17",
                                    "(No column name)": "146"
                                },
                                {
                                    "szallas_nev": "Hotel Három Hattyú",
                                    "mettol": "2016-12-17",
                                    "(No column name)": "146"
                                },
                                {
                                    "szallas_nev": "Hotel Három Hattyú",
                                    "mettol": "2016-12-18",
                                    "(No column name)": "147"
                                },
                                {
                                    "szallas_nev": "Hotel Három Hattyú",
                                    "mettol": "2016-12-23",
                                    "(No column name)": "148"
                                },
                                {
                                    "szallas_nev": "Hotel Három Hattyú",
                                    "mettol": "2016-12-25",
                                    "(No column name)": "153"
                                },
                                {
                                    "szallas_nev": "Hotel Három Hattyú",
                                    "mettol": "2016-12-25",
                                    "(No column name)": "153"
                                },
                                {
                                    "szallas_nev": "Hotel Három Hattyú",
                                    "mettol": "2016-12-25",
                                    "(No column name)": "153"
                                },
                                {
                                    "szallas_nev": "Hotel Három Hattyú",
                                    "mettol": "2016-12-25",
                                    "(No column name)": "153"
                                },
                                {
                                    "szallas_nev": "Hotel Három Hattyú",
                                    "mettol": "2016-12-25",
                                    "(No column name)": "153"
                                },
                                {
                                    "szallas_nev": "Hotel Három Hattyú",
                                    "mettol": "2016-12-26",
                                    "(No column name)": "154"
                                },
                                {
                                    "szallas_nev": "Hotel Három Hattyú",
                                    "mettol": "2016-12-28",
                                    "(No column name)": "155"
                                },
                                {
                                    "szallas_nev": "Hotel Három Hattyú",
                                    "mettol": "2016-12-29",
                                    "(No column name)": "156"
                                },
                                {
                                    "szallas_nev": "Hotel Három Hattyú",
                                    "mettol": "2016-12-31",
                                    "(No column name)": "157"
                                },
                                {
                                    "szallas_nev": "Hotel Három Hattyú",
                                    "mettol": "2017-01-02",
                                    "(No column name)": "158"
                                },
                                {
                                    "szallas_nev": "Hotel Három Hattyú",
                                    "mettol": "2017-01-03",
                                    "(No column name)": "159"
                                },
                                {
                                    "szallas_nev": "Hotel Három Hattyú",
                                    "mettol": "2017-01-05",
                                    "(No column name)": "160"
                                },
                                {
                                    "szallas_nev": "Hotel Három Hattyú",
                                    "mettol": "2017-01-07",
                                    "(No column name)": "161"
                                },
                                {
                                    "szallas_nev": "Hotel Három Hattyú",
                                    "mettol": "2017-01-09",
                                    "(No column name)": "162"
                                },
                                {
                                    "szallas_nev": "Hotel Három Hattyú",
                                    "mettol": "2017-01-14",
                                    "(No column name)": "163"
                                },
                                {
                                    "szallas_nev": "Hotel Három Hattyú",
                                    "mettol": "2017-01-15",
                                    "(No column name)": "164"
                                },
                                {
                                    "szallas_nev": "Hotel Három Hattyú",
                                    "mettol": "2017-01-16",
                                    "(No column name)": "165"
                                },
                                {
                                    "szallas_nev": "Hotel Három Hattyú",
                                    "mettol": "2017-01-17",
                                    "(No column name)": "166"
                                },
                                {
                                    "szallas_nev": "Hotel Három Hattyú",
                                    "mettol": "2017-01-18",
                                    "(No column name)": "167"
                                },
                                {
                                    "szallas_nev": "Hotel Három Hattyú",
                                    "mettol": "2017-01-23",
                                    "(No column name)": "168"
                                },
                                {
                                    "szallas_nev": "Hotel Három Hattyú",
                                    "mettol": "2017-01-24",
                                    "(No column name)": "169"
                                },
                                {
                                    "szallas_nev": "Hotel Három Hattyú",
                                    "mettol": "2017-01-29",
                                    "(No column name)": "171"
                                },
                                {
                                    "szallas_nev": "Hotel Három Hattyú",
                                    "mettol": "2017-01-29",
                                    "(No column name)": "171"
                                },
                                {
                                    "szallas_nev": "Hotel Három Hattyú",
                                    "mettol": "2017-01-30",
                                    "(No column name)": "173"
                                },
                                {
                                    "szallas_nev": "Hotel Három Hattyú",
                                    "mettol": "2017-01-30",
                                    "(No column name)": "173"
                                },
                                {
                                    "szallas_nev": "Hotel Három Hattyú",
                                    "mettol": "2017-01-31",
                                    "(No column name)": "174"
                                },
                                {
                                    "szallas_nev": "Hotel Három Hattyú",
                                    "mettol": "2017-02-01",
                                    "(No column name)": "175"
                                },
                                {
                                    "szallas_nev": "Hotel Három Hattyú",
                                    "mettol": "2017-02-02",
                                    "(No column name)": "176"
                                },
                                {
                                    "szallas_nev": "Hotel Három Hattyú",
                                    "mettol": "2017-02-04",
                                    "(No column name)": "179"
                                },
                                {
                                    "szallas_nev": "Hotel Három Hattyú",
                                    "mettol": "2017-02-04",
                                    "(No column name)": "179"
                                },
                                {
                                    "szallas_nev": "Hotel Három Hattyú",
                                    "mettol": "2017-02-04",
                                    "(No column name)": "179"
                                },
                                {
                                    "szallas_nev": "Hotel Három Hattyú",
                                    "mettol": "2017-02-05",
                                    "(No column name)": "182"
                                },
                                {
                                    "szallas_nev": "Hotel Három Hattyú",
                                    "mettol": "2017-02-05",
                                    "(No column name)": "182"
                                },
                                {
                                    "szallas_nev": "Hotel Három Hattyú",
                                    "mettol": "2017-02-05",
                                    "(No column name)": "182"
                                },
                                {
                                    "szallas_nev": "Hotel Három Hattyú",
                                    "mettol": "2017-02-08",
                                    "(No column name)": "184"
                                },
                                {
                                    "szallas_nev": "Hotel Három Hattyú",
                                    "mettol": "2017-02-08",
                                    "(No column name)": "184"
                                },
                                {
                                    "szallas_nev": "Hotel Három Hattyú",
                                    "mettol": "2017-02-10",
                                    "(No column name)": "185"
                                },
                                {
                                    "szallas_nev": "Hotel Három Hattyú",
                                    "mettol": "2017-02-12",
                                    "(No column name)": "188"
                                },
                                {
                                    "szallas_nev": "Hotel Három Hattyú",
                                    "mettol": "2017-02-12",
                                    "(No column name)": "188"
                                },
                                {
                                    "szallas_nev": "Hotel Három Hattyú",
                                    "mettol": "2017-02-12",
                                    "(No column name)": "188"
                                },
                                {
                                    "szallas_nev": "Hotel Három Hattyú",
                                    "mettol": "2017-02-13",
                                    "(No column name)": "192"
                                },
                                {
                                    "szallas_nev": "Hotel Három Hattyú",
                                    "mettol": "2017-02-13",
                                    "(No column name)": "192"
                                },
                                {
                                    "szallas_nev": "Hotel Három Hattyú",
                                    "mettol": "2017-02-13",
                                    "(No column name)": "192"
                                },
                                {
                                    "szallas_nev": "Hotel Három Hattyú",
                                    "mettol": "2017-02-13",
                                    "(No column name)": "192"
                                },
                                {
                                    "szallas_nev": "Hotel Három Hattyú",
                                    "mettol": "2017-02-14",
                                    "(No column name)": "193"
                                },
                                {
                                    "szallas_nev": "Hotel Három Hattyú",
                                    "mettol": "2017-02-16",
                                    "(No column name)": "195"
                                },
                                {
                                    "szallas_nev": "Hotel Három Hattyú",
                                    "mettol": "2017-02-16",
                                    "(No column name)": "195"
                                },
                                {
                                    "szallas_nev": "Hotel Három Hattyú",
                                    "mettol": "2017-02-20",
                                    "(No column name)": "197"
                                },
                                {
                                    "szallas_nev": "Hotel Három Hattyú",
                                    "mettol": "2017-02-20",
                                    "(No column name)": "197"
                                },
                                {
                                    "szallas_nev": "Hotel Három Hattyú",
                                    "mettol": "2017-02-23",
                                    "(No column name)": "199"
                                },
                                {
                                    "szallas_nev": "Hotel Három Hattyú",
                                    "mettol": "2017-02-23",
                                    "(No column name)": "199"
                                },
                                {
                                    "szallas_nev": "Hotel Három Hattyú",
                                    "mettol": "2017-02-24",
                                    "(No column name)": "201"
                                },
                                {
                                    "szallas_nev": "Hotel Három Hattyú",
                                    "mettol": "2017-02-24",
                                    "(No column name)": "201"
                                },
                                {
                                    "szallas_nev": "Hotel Három Hattyú",
                                    "mettol": "2017-02-26",
                                    "(No column name)": "202"
                                },
                                {
                                    "szallas_nev": "Hotel Három Hattyú",
                                    "mettol": "2017-02-28",
                                    "(No column name)": "203"
                                },
                                {
                                    "szallas_nev": "Hotel Három Hattyú",
                                    "mettol": "2017-03-03",
                                    "(No column name)": "204"
                                },
                                {
                                    "szallas_nev": "Jáde panzió",
                                    "mettol": "2016-04-06",
                                    "(No column name)": "1"
                                },
                                {
                                    "szallas_nev": "Jáde panzió",
                                    "mettol": "2016-04-14",
                                    "(No column name)": "2"
                                },
                                {
                                    "szallas_nev": "Jáde panzió",
                                    "mettol": "2016-05-01",
                                    "(No column name)": "3"
                                },
                                {
                                    "szallas_nev": "Jáde panzió",
                                    "mettol": "2016-05-04",
                                    "(No column name)": "4"
                                },
                                {
                                    "szallas_nev": "Jáde panzió",
                                    "mettol": "2016-05-18",
                                    "(No column name)": "5"
                                },
                                {
                                    "szallas_nev": "Jáde panzió",
                                    "mettol": "2016-05-30",
                                    "(No column name)": "6"
                                },
                                {
                                    "szallas_nev": "Jáde panzió",
                                    "mettol": "2016-06-06",
                                    "(No column name)": "8"
                                },
                                {
                                    "szallas_nev": "Jáde panzió",
                                    "mettol": "2016-06-06",
                                    "(No column name)": "8"
                                },
                                {
                                    "szallas_nev": "Jáde panzió",
                                    "mettol": "2016-06-27",
                                    "(No column name)": "9"
                                },
                                {
                                    "szallas_nev": "Jáde panzió",
                                    "mettol": "2016-07-01",
                                    "(No column name)": "10"
                                },
                                {
                                    "szallas_nev": "Jáde panzió",
                                    "mettol": "2016-07-03",
                                    "(No column name)": "11"
                                },
                                {
                                    "szallas_nev": "Jáde panzió",
                                    "mettol": "2016-07-11",
                                    "(No column name)": "12"
                                },
                                {
                                    "szallas_nev": "Jáde panzió",
                                    "mettol": "2016-08-06",
                                    "(No column name)": "13"
                                },
                                {
                                    "szallas_nev": "Jáde panzió",
                                    "mettol": "2016-08-15",
                                    "(No column name)": "14"
                                },
                                {
                                    "szallas_nev": "Jáde panzió",
                                    "mettol": "2016-09-09",
                                    "(No column name)": "15"
                                },
                                {
                                    "szallas_nev": "Jáde panzió",
                                    "mettol": "2016-09-12",
                                    "(No column name)": "16"
                                },
                                {
                                    "szallas_nev": "Jáde panzió",
                                    "mettol": "2016-09-30",
                                    "(No column name)": "17"
                                },
                                {
                                    "szallas_nev": "Jáde panzió",
                                    "mettol": "2016-10-01",
                                    "(No column name)": "18"
                                },
                                {
                                    "szallas_nev": "Jáde panzió",
                                    "mettol": "2016-10-12",
                                    "(No column name)": "19"
                                },
                                {
                                    "szallas_nev": "Jáde panzió",
                                    "mettol": "2016-10-22",
                                    "(No column name)": "20"
                                },
                                {
                                    "szallas_nev": "Jáde panzió",
                                    "mettol": "2016-10-30",
                                    "(No column name)": "21"
                                },
                                {
                                    "szallas_nev": "Jáde panzió",
                                    "mettol": "2016-11-22",
                                    "(No column name)": "23"
                                },
                                {
                                    "szallas_nev": "Jáde panzió",
                                    "mettol": "2016-11-22",
                                    "(No column name)": "23"
                                },
                                {
                                    "szallas_nev": "Jáde panzió",
                                    "mettol": "2016-12-15",
                                    "(No column name)": "24"
                                },
                                {
                                    "szallas_nev": "Jáde panzió",
                                    "mettol": "2017-01-01",
                                    "(No column name)": "25"
                                },
                                {
                                    "szallas_nev": "Jáde panzió",
                                    "mettol": "2017-01-25",
                                    "(No column name)": "26"
                                },
                                {
                                    "szallas_nev": "Jáde panzió",
                                    "mettol": "2017-01-26",
                                    "(No column name)": "27"
                                },
                                {
                                    "szallas_nev": "Jáde panzió",
                                    "mettol": "2017-02-12",
                                    "(No column name)": "28"
                                },
                                {
                                    "szallas_nev": "Jáde panzió",
                                    "mettol": "2017-02-15",
                                    "(No column name)": "29"
                                },
                                {
                                    "szallas_nev": "Kentaur Hotel",
                                    "mettol": "2016-04-07",
                                    "(No column name)": "1"
                                },
                                {
                                    "szallas_nev": "Kentaur Hotel",
                                    "mettol": "2016-04-10",
                                    "(No column name)": "3"
                                },
                                {
                                    "szallas_nev": "Kentaur Hotel",
                                    "mettol": "2016-04-10",
                                    "(No column name)": "3"
                                },
                                {
                                    "szallas_nev": "Kentaur Hotel",
                                    "mettol": "2016-04-16",
                                    "(No column name)": "4"
                                },
                                {
                                    "szallas_nev": "Kentaur Hotel",
                                    "mettol": "2016-04-17",
                                    "(No column name)": "5"
                                },
                                {
                                    "szallas_nev": "Kentaur Hotel",
                                    "mettol": "2016-04-21",
                                    "(No column name)": "6"
                                },
                                {
                                    "szallas_nev": "Kentaur Hotel",
                                    "mettol": "2016-04-22",
                                    "(No column name)": "7"
                                },
                                {
                                    "szallas_nev": "Kentaur Hotel",
                                    "mettol": "2016-05-07",
                                    "(No column name)": "8"
                                },
                                {
                                    "szallas_nev": "Kentaur Hotel",
                                    "mettol": "2016-05-08",
                                    "(No column name)": "9"
                                },
                                {
                                    "szallas_nev": "Kentaur Hotel",
                                    "mettol": "2016-05-12",
                                    "(No column name)": "10"
                                },
                                {
                                    "szallas_nev": "Kentaur Hotel",
                                    "mettol": "2016-05-13",
                                    "(No column name)": "11"
                                },
                                {
                                    "szallas_nev": "Kentaur Hotel",
                                    "mettol": "2016-05-14",
                                    "(No column name)": "13"
                                },
                                {
                                    "szallas_nev": "Kentaur Hotel",
                                    "mettol": "2016-05-14",
                                    "(No column name)": "13"
                                },
                                {
                                    "szallas_nev": "Kentaur Hotel",
                                    "mettol": "2016-05-17",
                                    "(No column name)": "14"
                                },
                                {
                                    "szallas_nev": "Kentaur Hotel",
                                    "mettol": "2016-05-24",
                                    "(No column name)": "15"
                                },
                                {
                                    "szallas_nev": "Kentaur Hotel",
                                    "mettol": "2016-05-27",
                                    "(No column name)": "17"
                                },
                                {
                                    "szallas_nev": "Kentaur Hotel",
                                    "mettol": "2016-05-27",
                                    "(No column name)": "17"
                                },
                                {
                                    "szallas_nev": "Kentaur Hotel",
                                    "mettol": "2016-05-28",
                                    "(No column name)": "19"
                                },
                                {
                                    "szallas_nev": "Kentaur Hotel",
                                    "mettol": "2016-05-28",
                                    "(No column name)": "19"
                                },
                                {
                                    "szallas_nev": "Kentaur Hotel",
                                    "mettol": "2016-05-29",
                                    "(No column name)": "20"
                                },
                                {
                                    "szallas_nev": "Kentaur Hotel",
                                    "mettol": "2016-05-30",
                                    "(No column name)": "25"
                                },
                                {
                                    "szallas_nev": "Kentaur Hotel",
                                    "mettol": "2016-05-30",
                                    "(No column name)": "25"
                                },
                                {
                                    "szallas_nev": "Kentaur Hotel",
                                    "mettol": "2016-05-30",
                                    "(No column name)": "25"
                                },
                                {
                                    "szallas_nev": "Kentaur Hotel",
                                    "mettol": "2016-05-30",
                                    "(No column name)": "25"
                                },
                                {
                                    "szallas_nev": "Kentaur Hotel",
                                    "mettol": "2016-05-30",
                                    "(No column name)": "25"
                                },
                                {
                                    "szallas_nev": "Kentaur Hotel",
                                    "mettol": "2016-05-31",
                                    "(No column name)": "26"
                                },
                                {
                                    "szallas_nev": "Kentaur Hotel",
                                    "mettol": "2016-06-01",
                                    "(No column name)": "27"
                                },
                                {
                                    "szallas_nev": "Kentaur Hotel",
                                    "mettol": "2016-06-02",
                                    "(No column name)": "29"
                                },
                                {
                                    "szallas_nev": "Kentaur Hotel",
                                    "mettol": "2016-06-02",
                                    "(No column name)": "29"
                                },
                                {
                                    "szallas_nev": "Kentaur Hotel",
                                    "mettol": "2016-06-04",
                                    "(No column name)": "30"
                                },
                                {
                                    "szallas_nev": "Kentaur Hotel",
                                    "mettol": "2016-06-07",
                                    "(No column name)": "31"
                                },
                                {
                                    "szallas_nev": "Kentaur Hotel",
                                    "mettol": "2016-06-08",
                                    "(No column name)": "33"
                                },
                                {
                                    "szallas_nev": "Kentaur Hotel",
                                    "mettol": "2016-06-08",
                                    "(No column name)": "33"
                                },
                                {
                                    "szallas_nev": "Kentaur Hotel",
                                    "mettol": "2016-06-09",
                                    "(No column name)": "35"
                                },
                                {
                                    "szallas_nev": "Kentaur Hotel",
                                    "mettol": "2016-06-09",
                                    "(No column name)": "35"
                                },
                                {
                                    "szallas_nev": "Kentaur Hotel",
                                    "mettol": "2016-06-10",
                                    "(No column name)": "36"
                                },
                                {
                                    "szallas_nev": "Kentaur Hotel",
                                    "mettol": "2016-06-13",
                                    "(No column name)": "37"
                                },
                                {
                                    "szallas_nev": "Kentaur Hotel",
                                    "mettol": "2016-06-16",
                                    "(No column name)": "39"
                                },
                                {
                                    "szallas_nev": "Kentaur Hotel",
                                    "mettol": "2016-06-16",
                                    "(No column name)": "39"
                                },
                                {
                                    "szallas_nev": "Kentaur Hotel",
                                    "mettol": "2016-06-22",
                                    "(No column name)": "40"
                                },
                                {
                                    "szallas_nev": "Kentaur Hotel",
                                    "mettol": "2016-06-23",
                                    "(No column name)": "42"
                                },
                                {
                                    "szallas_nev": "Kentaur Hotel",
                                    "mettol": "2016-06-23",
                                    "(No column name)": "42"
                                },
                                {
                                    "szallas_nev": "Kentaur Hotel",
                                    "mettol": "2016-06-26",
                                    "(No column name)": "43"
                                },
                                {
                                    "szallas_nev": "Kentaur Hotel",
                                    "mettol": "2016-06-30",
                                    "(No column name)": "44"
                                },
                                {
                                    "szallas_nev": "Kentaur Hotel",
                                    "mettol": "2016-07-01",
                                    "(No column name)": "46"
                                },
                                {
                                    "szallas_nev": "Kentaur Hotel",
                                    "mettol": "2016-07-01",
                                    "(No column name)": "46"
                                },
                                {
                                    "szallas_nev": "Kentaur Hotel",
                                    "mettol": "2016-07-03",
                                    "(No column name)": "47"
                                },
                                {
                                    "szallas_nev": "Kentaur Hotel",
                                    "mettol": "2016-07-04",
                                    "(No column name)": "48"
                                },
                                {
                                    "szallas_nev": "Kentaur Hotel",
                                    "mettol": "2016-07-06",
                                    "(No column name)": "49"
                                },
                                {
                                    "szallas_nev": "Kentaur Hotel",
                                    "mettol": "2016-07-12",
                                    "(No column name)": "50"
                                },
                                {
                                    "szallas_nev": "Kentaur Hotel",
                                    "mettol": "2016-07-13",
                                    "(No column name)": "51"
                                },
                                {
                                    "szallas_nev": "Kentaur Hotel",
                                    "mettol": "2016-07-14",
                                    "(No column name)": "52"
                                },
                                {
                                    "szallas_nev": "Kentaur Hotel",
                                    "mettol": "2016-07-15",
                                    "(No column name)": "53"
                                },
                                {
                                    "szallas_nev": "Kentaur Hotel",
                                    "mettol": "2016-07-16",
                                    "(No column name)": "54"
                                },
                                {
                                    "szallas_nev": "Kentaur Hotel",
                                    "mettol": "2016-07-18",
                                    "(No column name)": "56"
                                },
                                {
                                    "szallas_nev": "Kentaur Hotel",
                                    "mettol": "2016-07-18",
                                    "(No column name)": "56"
                                },
                                {
                                    "szallas_nev": "Kentaur Hotel",
                                    "mettol": "2016-07-20",
                                    "(No column name)": "58"
                                },
                                {
                                    "szallas_nev": "Kentaur Hotel",
                                    "mettol": "2016-07-20",
                                    "(No column name)": "58"
                                },
                                {
                                    "szallas_nev": "Kentaur Hotel",
                                    "mettol": "2016-07-21",
                                    "(No column name)": "60"
                                },
                                {
                                    "szallas_nev": "Kentaur Hotel",
                                    "mettol": "2016-07-21",
                                    "(No column name)": "60"
                                },
                                {
                                    "szallas_nev": "Kentaur Hotel",
                                    "mettol": "2016-07-22",
                                    "(No column name)": "61"
                                },
                                {
                                    "szallas_nev": "Kentaur Hotel",
                                    "mettol": "2016-07-24",
                                    "(No column name)": "62"
                                },
                                {
                                    "szallas_nev": "Kentaur Hotel",
                                    "mettol": "2016-07-25",
                                    "(No column name)": "63"
                                },
                                {
                                    "szallas_nev": "Kentaur Hotel",
                                    "mettol": "2016-07-27",
                                    "(No column name)": "64"
                                },
                                {
                                    "szallas_nev": "Kentaur Hotel",
                                    "mettol": "2016-07-28",
                                    "(No column name)": "65"
                                },
                                {
                                    "szallas_nev": "Kentaur Hotel",
                                    "mettol": "2016-07-29",
                                    "(No column name)": "66"
                                },
                                {
                                    "szallas_nev": "Kentaur Hotel",
                                    "mettol": "2016-08-05",
                                    "(No column name)": "67"
                                },
                                {
                                    "szallas_nev": "Kentaur Hotel",
                                    "mettol": "2016-08-12",
                                    "(No column name)": "69"
                                },
                                {
                                    "szallas_nev": "Kentaur Hotel",
                                    "mettol": "2016-08-12",
                                    "(No column name)": "69"
                                },
                                {
                                    "szallas_nev": "Kentaur Hotel",
                                    "mettol": "2016-08-16",
                                    "(No column name)": "70"
                                },
                                {
                                    "szallas_nev": "Kentaur Hotel",
                                    "mettol": "2016-08-18",
                                    "(No column name)": "72"
                                },
                                {
                                    "szallas_nev": "Kentaur Hotel",
                                    "mettol": "2016-08-18",
                                    "(No column name)": "72"
                                },
                                {
                                    "szallas_nev": "Kentaur Hotel",
                                    "mettol": "2016-08-23",
                                    "(No column name)": "73"
                                },
                                {
                                    "szallas_nev": "Kentaur Hotel",
                                    "mettol": "2016-08-24",
                                    "(No column name)": "76"
                                },
                                {
                                    "szallas_nev": "Kentaur Hotel",
                                    "mettol": "2016-08-24",
                                    "(No column name)": "76"
                                },
                                {
                                    "szallas_nev": "Kentaur Hotel",
                                    "mettol": "2016-08-24",
                                    "(No column name)": "76"
                                },
                                {
                                    "szallas_nev": "Kentaur Hotel",
                                    "mettol": "2016-08-28",
                                    "(No column name)": "77"
                                },
                                {
                                    "szallas_nev": "Kentaur Hotel",
                                    "mettol": "2016-08-29",
                                    "(No column name)": "78"
                                },
                                {
                                    "szallas_nev": "Kentaur Hotel",
                                    "mettol": "2016-09-02",
                                    "(No column name)": "79"
                                },
                                {
                                    "szallas_nev": "Kentaur Hotel",
                                    "mettol": "2016-09-03",
                                    "(No column name)": "80"
                                },
                                {
                                    "szallas_nev": "Kentaur Hotel",
                                    "mettol": "2016-09-15",
                                    "(No column name)": "82"
                                },
                                {
                                    "szallas_nev": "Kentaur Hotel",
                                    "mettol": "2016-09-15",
                                    "(No column name)": "82"
                                },
                                {
                                    "szallas_nev": "Kentaur Hotel",
                                    "mettol": "2016-09-18",
                                    "(No column name)": "83"
                                },
                                {
                                    "szallas_nev": "Kentaur Hotel",
                                    "mettol": "2016-09-20",
                                    "(No column name)": "84"
                                },
                                {
                                    "szallas_nev": "Kentaur Hotel",
                                    "mettol": "2016-09-25",
                                    "(No column name)": "85"
                                },
                                {
                                    "szallas_nev": "Kentaur Hotel",
                                    "mettol": "2016-09-26",
                                    "(No column name)": "86"
                                },
                                {
                                    "szallas_nev": "Kentaur Hotel",
                                    "mettol": "2016-09-28",
                                    "(No column name)": "88"
                                },
                                {
                                    "szallas_nev": "Kentaur Hotel",
                                    "mettol": "2016-09-28",
                                    "(No column name)": "88"
                                },
                                {
                                    "szallas_nev": "Kentaur Hotel",
                                    "mettol": "2016-09-30",
                                    "(No column name)": "91"
                                },
                                {
                                    "szallas_nev": "Kentaur Hotel",
                                    "mettol": "2016-09-30",
                                    "(No column name)": "91"
                                },
                                {
                                    "szallas_nev": "Kentaur Hotel",
                                    "mettol": "2016-09-30",
                                    "(No column name)": "91"
                                },
                                {
                                    "szallas_nev": "Kentaur Hotel",
                                    "mettol": "2016-10-01",
                                    "(No column name)": "93"
                                },
                                {
                                    "szallas_nev": "Kentaur Hotel",
                                    "mettol": "2016-10-01",
                                    "(No column name)": "93"
                                },
                                {
                                    "szallas_nev": "Kentaur Hotel",
                                    "mettol": "2016-10-04",
                                    "(No column name)": "94"
                                },
                                {
                                    "szallas_nev": "Kentaur Hotel",
                                    "mettol": "2016-10-05",
                                    "(No column name)": "95"
                                },
                                {
                                    "szallas_nev": "Kentaur Hotel",
                                    "mettol": "2016-10-07",
                                    "(No column name)": "96"
                                },
                                {
                                    "szallas_nev": "Kentaur Hotel",
                                    "mettol": "2016-10-11",
                                    "(No column name)": "97"
                                },
                                {
                                    "szallas_nev": "Kentaur Hotel",
                                    "mettol": "2016-10-16",
                                    "(No column name)": "98"
                                },
                                {
                                    "szallas_nev": "Kentaur Hotel",
                                    "mettol": "2016-10-17",
                                    "(No column name)": "99"
                                },
                                {
                                    "szallas_nev": "Kentaur Hotel",
                                    "mettol": "2016-10-19",
                                    "(No column name)": "100"
                                },
                                {
                                    "szallas_nev": "Kentaur Hotel",
                                    "mettol": "2016-10-20",
                                    "(No column name)": "101"
                                },
                                {
                                    "szallas_nev": "Kentaur Hotel",
                                    "mettol": "2016-10-22",
                                    "(No column name)": "102"
                                },
                                {
                                    "szallas_nev": "Kentaur Hotel",
                                    "mettol": "2016-10-23",
                                    "(No column name)": "103"
                                },
                                {
                                    "szallas_nev": "Kentaur Hotel",
                                    "mettol": "2016-10-25",
                                    "(No column name)": "104"
                                },
                                {
                                    "szallas_nev": "Kentaur Hotel",
                                    "mettol": "2016-10-26",
                                    "(No column name)": "105"
                                },
                                {
                                    "szallas_nev": "Kentaur Hotel",
                                    "mettol": "2016-10-28",
                                    "(No column name)": "106"
                                },
                                {
                                    "szallas_nev": "Kentaur Hotel",
                                    "mettol": "2016-10-29",
                                    "(No column name)": "107"
                                },
                                {
                                    "szallas_nev": "Kentaur Hotel",
                                    "mettol": "2016-10-30",
                                    "(No column name)": "111"
                                },
                                {
                                    "szallas_nev": "Kentaur Hotel",
                                    "mettol": "2016-10-30",
                                    "(No column name)": "111"
                                },
                                {
                                    "szallas_nev": "Kentaur Hotel",
                                    "mettol": "2016-10-30",
                                    "(No column name)": "111"
                                },
                                {
                                    "szallas_nev": "Kentaur Hotel",
                                    "mettol": "2016-10-30",
                                    "(No column name)": "111"
                                },
                                {
                                    "szallas_nev": "Kentaur Hotel",
                                    "mettol": "2016-10-31",
                                    "(No column name)": "112"
                                },
                                {
                                    "szallas_nev": "Kentaur Hotel",
                                    "mettol": "2016-11-01",
                                    "(No column name)": "113"
                                },
                                {
                                    "szallas_nev": "Kentaur Hotel",
                                    "mettol": "2016-11-03",
                                    "(No column name)": "114"
                                },
                                {
                                    "szallas_nev": "Kentaur Hotel",
                                    "mettol": "2016-11-05",
                                    "(No column name)": "115"
                                },
                                {
                                    "szallas_nev": "Kentaur Hotel",
                                    "mettol": "2016-11-06",
                                    "(No column name)": "116"
                                },
                                {
                                    "szallas_nev": "Kentaur Hotel",
                                    "mettol": "2016-11-07",
                                    "(No column name)": "118"
                                },
                                {
                                    "szallas_nev": "Kentaur Hotel",
                                    "mettol": "2016-11-07",
                                    "(No column name)": "118"
                                },
                                {
                                    "szallas_nev": "Kentaur Hotel",
                                    "mettol": "2016-11-08",
                                    "(No column name)": "119"
                                },
                                {
                                    "szallas_nev": "Kentaur Hotel",
                                    "mettol": "2016-11-09",
                                    "(No column name)": "120"
                                },
                                {
                                    "szallas_nev": "Kentaur Hotel",
                                    "mettol": "2016-11-10",
                                    "(No column name)": "121"
                                },
                                {
                                    "szallas_nev": "Kentaur Hotel",
                                    "mettol": "2016-11-12",
                                    "(No column name)": "122"
                                },
                                {
                                    "szallas_nev": "Kentaur Hotel",
                                    "mettol": "2016-11-14",
                                    "(No column name)": "123"
                                },
                                {
                                    "szallas_nev": "Kentaur Hotel",
                                    "mettol": "2016-11-15",
                                    "(No column name)": "124"
                                },
                                {
                                    "szallas_nev": "Kentaur Hotel",
                                    "mettol": "2016-11-16",
                                    "(No column name)": "125"
                                },
                                {
                                    "szallas_nev": "Kentaur Hotel",
                                    "mettol": "2016-11-17",
                                    "(No column name)": "126"
                                },
                                {
                                    "szallas_nev": "Kentaur Hotel",
                                    "mettol": "2016-11-19",
                                    "(No column name)": "127"
                                },
                                {
                                    "szallas_nev": "Kentaur Hotel",
                                    "mettol": "2016-11-23",
                                    "(No column name)": "128"
                                },
                                {
                                    "szallas_nev": "Kentaur Hotel",
                                    "mettol": "2016-11-25",
                                    "(No column name)": "129"
                                },
                                {
                                    "szallas_nev": "Kentaur Hotel",
                                    "mettol": "2016-11-26",
                                    "(No column name)": "130"
                                },
                                {
                                    "szallas_nev": "Kentaur Hotel",
                                    "mettol": "2016-11-27",
                                    "(No column name)": "132"
                                },
                                {
                                    "szallas_nev": "Kentaur Hotel",
                                    "mettol": "2016-11-27",
                                    "(No column name)": "132"
                                },
                                {
                                    "szallas_nev": "Kentaur Hotel",
                                    "mettol": "2016-11-28",
                                    "(No column name)": "134"
                                },
                                {
                                    "szallas_nev": "Kentaur Hotel",
                                    "mettol": "2016-11-28",
                                    "(No column name)": "134"
                                },
                                {
                                    "szallas_nev": "Kentaur Hotel",
                                    "mettol": "2016-11-29",
                                    "(No column name)": "135"
                                },
                                {
                                    "szallas_nev": "Kentaur Hotel",
                                    "mettol": "2016-11-30",
                                    "(No column name)": "136"
                                },
                                {
                                    "szallas_nev": "Kentaur Hotel",
                                    "mettol": "2016-12-04",
                                    "(No column name)": "137"
                                },
                                {
                                    "szallas_nev": "Kentaur Hotel",
                                    "mettol": "2016-12-05",
                                    "(No column name)": "138"
                                },
                                {
                                    "szallas_nev": "Kentaur Hotel",
                                    "mettol": "2016-12-06",
                                    "(No column name)": "139"
                                },
                                {
                                    "szallas_nev": "Kentaur Hotel",
                                    "mettol": "2016-12-15",
                                    "(No column name)": "140"
                                },
                                {
                                    "szallas_nev": "Kentaur Hotel",
                                    "mettol": "2016-12-16",
                                    "(No column name)": "141"
                                },
                                {
                                    "szallas_nev": "Kentaur Hotel",
                                    "mettol": "2016-12-17",
                                    "(No column name)": "143"
                                },
                                {
                                    "szallas_nev": "Kentaur Hotel",
                                    "mettol": "2016-12-17",
                                    "(No column name)": "143"
                                },
                                {
                                    "szallas_nev": "Kentaur Hotel",
                                    "mettol": "2016-12-19",
                                    "(No column name)": "144"
                                },
                                {
                                    "szallas_nev": "Kentaur Hotel",
                                    "mettol": "2016-12-22",
                                    "(No column name)": "146"
                                },
                                {
                                    "szallas_nev": "Kentaur Hotel",
                                    "mettol": "2016-12-22",
                                    "(No column name)": "146"
                                },
                                {
                                    "szallas_nev": "Kentaur Hotel",
                                    "mettol": "2016-12-24",
                                    "(No column name)": "147"
                                },
                                {
                                    "szallas_nev": "Kentaur Hotel",
                                    "mettol": "2016-12-25",
                                    "(No column name)": "149"
                                },
                                {
                                    "szallas_nev": "Kentaur Hotel",
                                    "mettol": "2016-12-25",
                                    "(No column name)": "149"
                                },
                                {
                                    "szallas_nev": "Kentaur Hotel",
                                    "mettol": "2016-12-29",
                                    "(No column name)": "150"
                                },
                                {
                                    "szallas_nev": "Kentaur Hotel",
                                    "mettol": "2017-01-01",
                                    "(No column name)": "151"
                                },
                                {
                                    "szallas_nev": "Kentaur Hotel",
                                    "mettol": "2017-01-09",
                                    "(No column name)": "152"
                                },
                                {
                                    "szallas_nev": "Kentaur Hotel",
                                    "mettol": "2017-01-10",
                                    "(No column name)": "153"
                                },
                                {
                                    "szallas_nev": "Kentaur Hotel",
                                    "mettol": "2017-01-15",
                                    "(No column name)": "154"
                                },
                                {
                                    "szallas_nev": "Kentaur Hotel",
                                    "mettol": "2017-01-16",
                                    "(No column name)": "157"
                                },
                                {
                                    "szallas_nev": "Kentaur Hotel",
                                    "mettol": "2017-01-16",
                                    "(No column name)": "157"
                                },
                                {
                                    "szallas_nev": "Kentaur Hotel",
                                    "mettol": "2017-01-16",
                                    "(No column name)": "157"
                                },
                                {
                                    "szallas_nev": "Kentaur Hotel",
                                    "mettol": "2017-01-17",
                                    "(No column name)": "158"
                                },
                                {
                                    "szallas_nev": "Kentaur Hotel",
                                    "mettol": "2017-01-19",
                                    "(No column name)": "160"
                                },
                                {
                                    "szallas_nev": "Kentaur Hotel",
                                    "mettol": "2017-01-19",
                                    "(No column name)": "160"
                                },
                                {
                                    "szallas_nev": "Kentaur Hotel",
                                    "mettol": "2017-01-22",
                                    "(No column name)": "164"
                                },
                                {
                                    "szallas_nev": "Kentaur Hotel",
                                    "mettol": "2017-01-22",
                                    "(No column name)": "164"
                                },
                                {
                                    "szallas_nev": "Kentaur Hotel",
                                    "mettol": "2017-01-22",
                                    "(No column name)": "164"
                                },
                                {
                                    "szallas_nev": "Kentaur Hotel",
                                    "mettol": "2017-01-22",
                                    "(No column name)": "164"
                                },
                                {
                                    "szallas_nev": "Kentaur Hotel",
                                    "mettol": "2017-01-28",
                                    "(No column name)": "165"
                                },
                                {
                                    "szallas_nev": "Kentaur Hotel",
                                    "mettol": "2017-02-04",
                                    "(No column name)": "166"
                                },
                                {
                                    "szallas_nev": "Kentaur Hotel",
                                    "mettol": "2017-02-06",
                                    "(No column name)": "168"
                                },
                                {
                                    "szallas_nev": "Kentaur Hotel",
                                    "mettol": "2017-02-06",
                                    "(No column name)": "168"
                                },
                                {
                                    "szallas_nev": "Kentaur Hotel",
                                    "mettol": "2017-02-08",
                                    "(No column name)": "169"
                                },
                                {
                                    "szallas_nev": "Kentaur Hotel",
                                    "mettol": "2017-02-12",
                                    "(No column name)": "170"
                                },
                                {
                                    "szallas_nev": "Kentaur Hotel",
                                    "mettol": "2017-02-14",
                                    "(No column name)": "171"
                                },
                                {
                                    "szallas_nev": "Kentaur Hotel",
                                    "mettol": "2017-02-18",
                                    "(No column name)": "172"
                                },
                                {
                                    "szallas_nev": "Kentaur Hotel",
                                    "mettol": "2017-02-21",
                                    "(No column name)": "173"
                                },
                                {
                                    "szallas_nev": "Kentaur Hotel",
                                    "mettol": "2017-02-23",
                                    "(No column name)": "174"
                                },
                                {
                                    "szallas_nev": "Kentaur Hotel",
                                    "mettol": "2017-02-26",
                                    "(No column name)": "175"
                                },
                                {
                                    "szallas_nev": "Kentaur Hotel",
                                    "mettol": "2017-02-27",
                                    "(No column name)": "176"
                                },
                                {
                                    "szallas_nev": "Kentaur Hotel",
                                    "mettol": "2017-03-01",
                                    "(No column name)": "177"
                                },
                                {
                                    "szallas_nev": "Kentaur Hotel",
                                    "mettol": "2017-03-02",
                                    "(No column name)": "178"
                                },
                                {
                                    "szallas_nev": "Kentaur Hotel",
                                    "mettol": "2017-03-03",
                                    "(No column name)": "179"
                                },
                                {
                                    "szallas_nev": "Lagúna Hotel",
                                    "mettol": "2016-04-08",
                                    "(No column name)": "1"
                                },
                                {
                                    "szallas_nev": "Lagúna Hotel",
                                    "mettol": "2016-04-10",
                                    "(No column name)": "2"
                                },
                                {
                                    "szallas_nev": "Lagúna Hotel",
                                    "mettol": "2016-04-12",
                                    "(No column name)": "3"
                                },
                                {
                                    "szallas_nev": "Lagúna Hotel",
                                    "mettol": "2016-04-14",
                                    "(No column name)": "4"
                                },
                                {
                                    "szallas_nev": "Lagúna Hotel",
                                    "mettol": "2016-04-15",
                                    "(No column name)": "5"
                                },
                                {
                                    "szallas_nev": "Lagúna Hotel",
                                    "mettol": "2016-04-16",
                                    "(No column name)": "6"
                                },
                                {
                                    "szallas_nev": "Lagúna Hotel",
                                    "mettol": "2016-04-17",
                                    "(No column name)": "7"
                                },
                                {
                                    "szallas_nev": "Lagúna Hotel",
                                    "mettol": "2016-04-19",
                                    "(No column name)": "8"
                                },
                                {
                                    "szallas_nev": "Lagúna Hotel",
                                    "mettol": "2016-04-20",
                                    "(No column name)": "9"
                                },
                                {
                                    "szallas_nev": "Lagúna Hotel",
                                    "mettol": "2016-04-22",
                                    "(No column name)": "10"
                                },
                                {
                                    "szallas_nev": "Lagúna Hotel",
                                    "mettol": "2016-05-13",
                                    "(No column name)": "11"
                                },
                                {
                                    "szallas_nev": "Lagúna Hotel",
                                    "mettol": "2016-05-16",
                                    "(No column name)": "12"
                                },
                                {
                                    "szallas_nev": "Lagúna Hotel",
                                    "mettol": "2016-05-17",
                                    "(No column name)": "13"
                                },
                                {
                                    "szallas_nev": "Lagúna Hotel",
                                    "mettol": "2016-05-18",
                                    "(No column name)": "14"
                                },
                                {
                                    "szallas_nev": "Lagúna Hotel",
                                    "mettol": "2016-05-20",
                                    "(No column name)": "15"
                                },
                                {
                                    "szallas_nev": "Lagúna Hotel",
                                    "mettol": "2016-05-21",
                                    "(No column name)": "16"
                                },
                                {
                                    "szallas_nev": "Lagúna Hotel",
                                    "mettol": "2016-06-02",
                                    "(No column name)": "17"
                                },
                                {
                                    "szallas_nev": "Lagúna Hotel",
                                    "mettol": "2016-06-03",
                                    "(No column name)": "18"
                                },
                                {
                                    "szallas_nev": "Lagúna Hotel",
                                    "mettol": "2016-06-05",
                                    "(No column name)": "20"
                                },
                                {
                                    "szallas_nev": "Lagúna Hotel",
                                    "mettol": "2016-06-05",
                                    "(No column name)": "20"
                                },
                                {
                                    "szallas_nev": "Lagúna Hotel",
                                    "mettol": "2016-06-06",
                                    "(No column name)": "21"
                                },
                                {
                                    "szallas_nev": "Lagúna Hotel",
                                    "mettol": "2016-06-13",
                                    "(No column name)": "22"
                                },
                                {
                                    "szallas_nev": "Lagúna Hotel",
                                    "mettol": "2016-06-16",
                                    "(No column name)": "23"
                                },
                                {
                                    "szallas_nev": "Lagúna Hotel",
                                    "mettol": "2016-06-17",
                                    "(No column name)": "24"
                                },
                                {
                                    "szallas_nev": "Lagúna Hotel",
                                    "mettol": "2016-06-23",
                                    "(No column name)": "25"
                                },
                                {
                                    "szallas_nev": "Lagúna Hotel",
                                    "mettol": "2016-07-06",
                                    "(No column name)": "26"
                                },
                                {
                                    "szallas_nev": "Lagúna Hotel",
                                    "mettol": "2016-07-12",
                                    "(No column name)": "27"
                                },
                                {
                                    "szallas_nev": "Lagúna Hotel",
                                    "mettol": "2016-07-13",
                                    "(No column name)": "28"
                                },
                                {
                                    "szallas_nev": "Lagúna Hotel",
                                    "mettol": "2016-07-17",
                                    "(No column name)": "29"
                                },
                                {
                                    "szallas_nev": "Lagúna Hotel",
                                    "mettol": "2016-07-20",
                                    "(No column name)": "30"
                                },
                                {
                                    "szallas_nev": "Lagúna Hotel",
                                    "mettol": "2016-07-22",
                                    "(No column name)": "31"
                                },
                                {
                                    "szallas_nev": "Lagúna Hotel",
                                    "mettol": "2016-07-27",
                                    "(No column name)": "32"
                                },
                                {
                                    "szallas_nev": "Lagúna Hotel",
                                    "mettol": "2016-07-28",
                                    "(No column name)": "34"
                                },
                                {
                                    "szallas_nev": "Lagúna Hotel",
                                    "mettol": "2016-07-28",
                                    "(No column name)": "34"
                                },
                                {
                                    "szallas_nev": "Lagúna Hotel",
                                    "mettol": "2016-08-01",
                                    "(No column name)": "35"
                                },
                                {
                                    "szallas_nev": "Lagúna Hotel",
                                    "mettol": "2016-08-03",
                                    "(No column name)": "36"
                                },
                                {
                                    "szallas_nev": "Lagúna Hotel",
                                    "mettol": "2016-08-06",
                                    "(No column name)": "37"
                                },
                                {
                                    "szallas_nev": "Lagúna Hotel",
                                    "mettol": "2016-08-09",
                                    "(No column name)": "38"
                                },
                                {
                                    "szallas_nev": "Lagúna Hotel",
                                    "mettol": "2016-08-12",
                                    "(No column name)": "40"
                                },
                                {
                                    "szallas_nev": "Lagúna Hotel",
                                    "mettol": "2016-08-12",
                                    "(No column name)": "40"
                                },
                                {
                                    "szallas_nev": "Lagúna Hotel",
                                    "mettol": "2016-08-16",
                                    "(No column name)": "43"
                                },
                                {
                                    "szallas_nev": "Lagúna Hotel",
                                    "mettol": "2016-08-16",
                                    "(No column name)": "43"
                                },
                                {
                                    "szallas_nev": "Lagúna Hotel",
                                    "mettol": "2016-08-16",
                                    "(No column name)": "43"
                                },
                                {
                                    "szallas_nev": "Lagúna Hotel",
                                    "mettol": "2016-08-17",
                                    "(No column name)": "44"
                                },
                                {
                                    "szallas_nev": "Lagúna Hotel",
                                    "mettol": "2016-08-20",
                                    "(No column name)": "45"
                                },
                                {
                                    "szallas_nev": "Lagúna Hotel",
                                    "mettol": "2016-08-23",
                                    "(No column name)": "47"
                                },
                                {
                                    "szallas_nev": "Lagúna Hotel",
                                    "mettol": "2016-08-23",
                                    "(No column name)": "47"
                                },
                                {
                                    "szallas_nev": "Lagúna Hotel",
                                    "mettol": "2016-08-25",
                                    "(No column name)": "48"
                                },
                                {
                                    "szallas_nev": "Lagúna Hotel",
                                    "mettol": "2016-08-28",
                                    "(No column name)": "49"
                                },
                                {
                                    "szallas_nev": "Lagúna Hotel",
                                    "mettol": "2016-08-29",
                                    "(No column name)": "50"
                                },
                                {
                                    "szallas_nev": "Lagúna Hotel",
                                    "mettol": "2016-08-30",
                                    "(No column name)": "51"
                                },
                                {
                                    "szallas_nev": "Lagúna Hotel",
                                    "mettol": "2016-09-01",
                                    "(No column name)": "52"
                                },
                                {
                                    "szallas_nev": "Lagúna Hotel",
                                    "mettol": "2016-09-05",
                                    "(No column name)": "54"
                                },
                                {
                                    "szallas_nev": "Lagúna Hotel",
                                    "mettol": "2016-09-05",
                                    "(No column name)": "54"
                                },
                                {
                                    "szallas_nev": "Lagúna Hotel",
                                    "mettol": "2016-09-10",
                                    "(No column name)": "55"
                                },
                                {
                                    "szallas_nev": "Lagúna Hotel",
                                    "mettol": "2016-09-12",
                                    "(No column name)": "56"
                                },
                                {
                                    "szallas_nev": "Lagúna Hotel",
                                    "mettol": "2016-09-13",
                                    "(No column name)": "57"
                                },
                                {
                                    "szallas_nev": "Lagúna Hotel",
                                    "mettol": "2016-09-16",
                                    "(No column name)": "58"
                                },
                                {
                                    "szallas_nev": "Lagúna Hotel",
                                    "mettol": "2016-09-17",
                                    "(No column name)": "59"
                                },
                                {
                                    "szallas_nev": "Lagúna Hotel",
                                    "mettol": "2016-09-18",
                                    "(No column name)": "60"
                                },
                                {
                                    "szallas_nev": "Lagúna Hotel",
                                    "mettol": "2016-09-23",
                                    "(No column name)": "61"
                                },
                                {
                                    "szallas_nev": "Lagúna Hotel",
                                    "mettol": "2016-09-29",
                                    "(No column name)": "62"
                                },
                                {
                                    "szallas_nev": "Lagúna Hotel",
                                    "mettol": "2016-10-01",
                                    "(No column name)": "66"
                                },
                                {
                                    "szallas_nev": "Lagúna Hotel",
                                    "mettol": "2016-10-01",
                                    "(No column name)": "66"
                                },
                                {
                                    "szallas_nev": "Lagúna Hotel",
                                    "mettol": "2016-10-01",
                                    "(No column name)": "66"
                                },
                                {
                                    "szallas_nev": "Lagúna Hotel",
                                    "mettol": "2016-10-01",
                                    "(No column name)": "66"
                                },
                                {
                                    "szallas_nev": "Lagúna Hotel",
                                    "mettol": "2016-10-02",
                                    "(No column name)": "67"
                                },
                                {
                                    "szallas_nev": "Lagúna Hotel",
                                    "mettol": "2016-10-03",
                                    "(No column name)": "68"
                                },
                                {
                                    "szallas_nev": "Lagúna Hotel",
                                    "mettol": "2016-10-04",
                                    "(No column name)": "69"
                                },
                                {
                                    "szallas_nev": "Lagúna Hotel",
                                    "mettol": "2016-10-09",
                                    "(No column name)": "70"
                                },
                                {
                                    "szallas_nev": "Lagúna Hotel",
                                    "mettol": "2016-10-10",
                                    "(No column name)": "71"
                                },
                                {
                                    "szallas_nev": "Lagúna Hotel",
                                    "mettol": "2016-10-15",
                                    "(No column name)": "73"
                                },
                                {
                                    "szallas_nev": "Lagúna Hotel",
                                    "mettol": "2016-10-15",
                                    "(No column name)": "73"
                                },
                                {
                                    "szallas_nev": "Lagúna Hotel",
                                    "mettol": "2016-10-16",
                                    "(No column name)": "74"
                                },
                                {
                                    "szallas_nev": "Lagúna Hotel",
                                    "mettol": "2016-10-19",
                                    "(No column name)": "75"
                                },
                                {
                                    "szallas_nev": "Lagúna Hotel",
                                    "mettol": "2016-10-22",
                                    "(No column name)": "76"
                                },
                                {
                                    "szallas_nev": "Lagúna Hotel",
                                    "mettol": "2016-10-26",
                                    "(No column name)": "81"
                                },
                                {
                                    "szallas_nev": "Lagúna Hotel",
                                    "mettol": "2016-10-26",
                                    "(No column name)": "81"
                                },
                                {
                                    "szallas_nev": "Lagúna Hotel",
                                    "mettol": "2016-10-26",
                                    "(No column name)": "81"
                                },
                                {
                                    "szallas_nev": "Lagúna Hotel",
                                    "mettol": "2016-10-26",
                                    "(No column name)": "81"
                                },
                                {
                                    "szallas_nev": "Lagúna Hotel",
                                    "mettol": "2016-10-26",
                                    "(No column name)": "81"
                                },
                                {
                                    "szallas_nev": "Lagúna Hotel",
                                    "mettol": "2016-10-30",
                                    "(No column name)": "82"
                                },
                                {
                                    "szallas_nev": "Lagúna Hotel",
                                    "mettol": "2016-11-03",
                                    "(No column name)": "83"
                                },
                                {
                                    "szallas_nev": "Lagúna Hotel",
                                    "mettol": "2016-11-06",
                                    "(No column name)": "85"
                                },
                                {
                                    "szallas_nev": "Lagúna Hotel",
                                    "mettol": "2016-11-06",
                                    "(No column name)": "85"
                                },
                                {
                                    "szallas_nev": "Lagúna Hotel",
                                    "mettol": "2016-11-07",
                                    "(No column name)": "87"
                                },
                                {
                                    "szallas_nev": "Lagúna Hotel",
                                    "mettol": "2016-11-07",
                                    "(No column name)": "87"
                                },
                                {
                                    "szallas_nev": "Lagúna Hotel",
                                    "mettol": "2016-11-15",
                                    "(No column name)": "88"
                                },
                                {
                                    "szallas_nev": "Lagúna Hotel",
                                    "mettol": "2016-11-16",
                                    "(No column name)": "89"
                                },
                                {
                                    "szallas_nev": "Lagúna Hotel",
                                    "mettol": "2016-11-18",
                                    "(No column name)": "90"
                                },
                                {
                                    "szallas_nev": "Lagúna Hotel",
                                    "mettol": "2016-11-19",
                                    "(No column name)": "92"
                                },
                                {
                                    "szallas_nev": "Lagúna Hotel",
                                    "mettol": "2016-11-19",
                                    "(No column name)": "92"
                                },
                                {
                                    "szallas_nev": "Lagúna Hotel",
                                    "mettol": "2016-11-23",
                                    "(No column name)": "94"
                                },
                                {
                                    "szallas_nev": "Lagúna Hotel",
                                    "mettol": "2016-11-23",
                                    "(No column name)": "94"
                                },
                                {
                                    "szallas_nev": "Lagúna Hotel",
                                    "mettol": "2016-12-02",
                                    "(No column name)": "95"
                                },
                                {
                                    "szallas_nev": "Lagúna Hotel",
                                    "mettol": "2016-12-10",
                                    "(No column name)": "96"
                                },
                                {
                                    "szallas_nev": "Lagúna Hotel",
                                    "mettol": "2016-12-11",
                                    "(No column name)": "97"
                                },
                                {
                                    "szallas_nev": "Lagúna Hotel",
                                    "mettol": "2016-12-14",
                                    "(No column name)": "98"
                                },
                                {
                                    "szallas_nev": "Lagúna Hotel",
                                    "mettol": "2016-12-17",
                                    "(No column name)": "101"
                                },
                                {
                                    "szallas_nev": "Lagúna Hotel",
                                    "mettol": "2016-12-17",
                                    "(No column name)": "101"
                                },
                                {
                                    "szallas_nev": "Lagúna Hotel",
                                    "mettol": "2016-12-17",
                                    "(No column name)": "101"
                                },
                                {
                                    "szallas_nev": "Lagúna Hotel",
                                    "mettol": "2016-12-25",
                                    "(No column name)": "102"
                                },
                                {
                                    "szallas_nev": "Lagúna Hotel",
                                    "mettol": "2016-12-27",
                                    "(No column name)": "103"
                                },
                                {
                                    "szallas_nev": "Lagúna Hotel",
                                    "mettol": "2017-01-10",
                                    "(No column name)": "104"
                                },
                                {
                                    "szallas_nev": "Lagúna Hotel",
                                    "mettol": "2017-01-11",
                                    "(No column name)": "105"
                                },
                                {
                                    "szallas_nev": "Lagúna Hotel",
                                    "mettol": "2017-01-16",
                                    "(No column name)": "106"
                                },
                                {
                                    "szallas_nev": "Lagúna Hotel",
                                    "mettol": "2017-01-17",
                                    "(No column name)": "107"
                                },
                                {
                                    "szallas_nev": "Lagúna Hotel",
                                    "mettol": "2017-01-21",
                                    "(No column name)": "108"
                                },
                                {
                                    "szallas_nev": "Lagúna Hotel",
                                    "mettol": "2017-01-22",
                                    "(No column name)": "109"
                                },
                                {
                                    "szallas_nev": "Lagúna Hotel",
                                    "mettol": "2017-01-23",
                                    "(No column name)": "111"
                                },
                                {
                                    "szallas_nev": "Lagúna Hotel",
                                    "mettol": "2017-01-23",
                                    "(No column name)": "111"
                                },
                                {
                                    "szallas_nev": "Lagúna Hotel",
                                    "mettol": "2017-01-28",
                                    "(No column name)": "112"
                                },
                                {
                                    "szallas_nev": "Lagúna Hotel",
                                    "mettol": "2017-02-03",
                                    "(No column name)": "113"
                                },
                                {
                                    "szallas_nev": "Lagúna Hotel",
                                    "mettol": "2017-02-07",
                                    "(No column name)": "114"
                                },
                                {
                                    "szallas_nev": "Lagúna Hotel",
                                    "mettol": "2017-02-09",
                                    "(No column name)": "115"
                                },
                                {
                                    "szallas_nev": "Lagúna Hotel",
                                    "mettol": "2017-02-16",
                                    "(No column name)": "117"
                                },
                                {
                                    "szallas_nev": "Lagúna Hotel",
                                    "mettol": "2017-02-16",
                                    "(No column name)": "117"
                                },
                                {
                                    "szallas_nev": "Lagúna Hotel",
                                    "mettol": "2017-02-17",
                                    "(No column name)": "118"
                                },
                                {
                                    "szallas_nev": "Lagúna Hotel",
                                    "mettol": "2017-02-19",
                                    "(No column name)": "119"
                                },
                                {
                                    "szallas_nev": "Lagúna Hotel",
                                    "mettol": "2017-02-21",
                                    "(No column name)": "120"
                                },
                                {
                                    "szallas_nev": "Lagúna Hotel",
                                    "mettol": "2017-02-23",
                                    "(No column name)": "121"
                                },
                                {
                                    "szallas_nev": "Lagúna Hotel",
                                    "mettol": "2017-02-25",
                                    "(No column name)": "122"
                                },
                                {
                                    "szallas_nev": "Lagúna Hotel",
                                    "mettol": "2017-02-27",
                                    "(No column name)": "123"
                                },
                                {
                                    "szallas_nev": "Partiszél Vendégház",
                                    "mettol": "2016-04-10",
                                    "(No column name)": "1"
                                },
                                {
                                    "szallas_nev": "Partiszél Vendégház",
                                    "mettol": "2016-04-24",
                                    "(No column name)": "2"
                                },
                                {
                                    "szallas_nev": "Partiszél Vendégház",
                                    "mettol": "2016-05-09",
                                    "(No column name)": "3"
                                },
                                {
                                    "szallas_nev": "Partiszél Vendégház",
                                    "mettol": "2016-05-12",
                                    "(No column name)": "4"
                                },
                                {
                                    "szallas_nev": "Partiszél Vendégház",
                                    "mettol": "2016-05-18",
                                    "(No column name)": "5"
                                },
                                {
                                    "szallas_nev": "Partiszél Vendégház",
                                    "mettol": "2016-06-06",
                                    "(No column name)": "7"
                                },
                                {
                                    "szallas_nev": "Partiszél Vendégház",
                                    "mettol": "2016-06-06",
                                    "(No column name)": "7"
                                },
                                {
                                    "szallas_nev": "Partiszél Vendégház",
                                    "mettol": "2016-06-07",
                                    "(No column name)": "9"
                                },
                                {
                                    "szallas_nev": "Partiszél Vendégház",
                                    "mettol": "2016-06-07",
                                    "(No column name)": "9"
                                },
                                {
                                    "szallas_nev": "Partiszél Vendégház",
                                    "mettol": "2016-06-10",
                                    "(No column name)": "10"
                                },
                                {
                                    "szallas_nev": "Partiszél Vendégház",
                                    "mettol": "2016-07-04",
                                    "(No column name)": "11"
                                },
                                {
                                    "szallas_nev": "Partiszél Vendégház",
                                    "mettol": "2016-07-27",
                                    "(No column name)": "12"
                                },
                                {
                                    "szallas_nev": "Partiszél Vendégház",
                                    "mettol": "2016-07-31",
                                    "(No column name)": "13"
                                },
                                {
                                    "szallas_nev": "Partiszél Vendégház",
                                    "mettol": "2016-08-16",
                                    "(No column name)": "14"
                                },
                                {
                                    "szallas_nev": "Partiszél Vendégház",
                                    "mettol": "2016-09-19",
                                    "(No column name)": "15"
                                },
                                {
                                    "szallas_nev": "Partiszél Vendégház",
                                    "mettol": "2016-09-23",
                                    "(No column name)": "16"
                                },
                                {
                                    "szallas_nev": "Partiszél Vendégház",
                                    "mettol": "2016-10-01",
                                    "(No column name)": "17"
                                },
                                {
                                    "szallas_nev": "Partiszél Vendégház",
                                    "mettol": "2016-10-24",
                                    "(No column name)": "18"
                                },
                                {
                                    "szallas_nev": "Partiszél Vendégház",
                                    "mettol": "2016-10-27",
                                    "(No column name)": "19"
                                },
                                {
                                    "szallas_nev": "Partiszél Vendégház",
                                    "mettol": "2016-11-08",
                                    "(No column name)": "20"
                                },
                                {
                                    "szallas_nev": "Partiszél Vendégház",
                                    "mettol": "2016-11-16",
                                    "(No column name)": "21"
                                },
                                {
                                    "szallas_nev": "Partiszél Vendégház",
                                    "mettol": "2016-11-19",
                                    "(No column name)": "22"
                                },
                                {
                                    "szallas_nev": "Partiszél Vendégház",
                                    "mettol": "2016-12-26",
                                    "(No column name)": "23"
                                },
                                {
                                    "szallas_nev": "Partiszél Vendégház",
                                    "mettol": "2017-02-01",
                                    "(No column name)": "24"
                                },
                                {
                                    "szallas_nev": "Partiszél Vendégház",
                                    "mettol": "2017-02-23",
                                    "(No column name)": "25"
                                },
                                {
                                    "szallas_nev": "Partiszél Vendégház",
                                    "mettol": "2017-02-25",
                                    "(No column name)": "26"
                                },
                                {
                                    "szallas_nev": "Sába-Ház",
                                    "mettol": "2016-04-06",
                                    "(No column name)": "2"
                                },
                                {
                                    "szallas_nev": "Sába-Ház",
                                    "mettol": "2016-04-06",
                                    "(No column name)": "2"
                                },
                                {
                                    "szallas_nev": "Sába-Ház",
                                    "mettol": "2016-04-08",
                                    "(No column name)": "3"
                                },
                                {
                                    "szallas_nev": "Sába-Ház",
                                    "mettol": "2016-04-10",
                                    "(No column name)": "4"
                                },
                                {
                                    "szallas_nev": "Sába-Ház",
                                    "mettol": "2016-04-29",
                                    "(No column name)": "5"
                                },
                                {
                                    "szallas_nev": "Sába-Ház",
                                    "mettol": "2016-05-05",
                                    "(No column name)": "6"
                                },
                                {
                                    "szallas_nev": "Sába-Ház",
                                    "mettol": "2016-05-09",
                                    "(No column name)": "7"
                                },
                                {
                                    "szallas_nev": "Sába-Ház",
                                    "mettol": "2016-05-17",
                                    "(No column name)": "8"
                                },
                                {
                                    "szallas_nev": "Sába-Ház",
                                    "mettol": "2016-05-29",
                                    "(No column name)": "9"
                                },
                                {
                                    "szallas_nev": "Sába-Ház",
                                    "mettol": "2016-05-30",
                                    "(No column name)": "11"
                                },
                                {
                                    "szallas_nev": "Sába-Ház",
                                    "mettol": "2016-05-30",
                                    "(No column name)": "11"
                                },
                                {
                                    "szallas_nev": "Sába-Ház",
                                    "mettol": "2016-06-06",
                                    "(No column name)": "12"
                                },
                                {
                                    "szallas_nev": "Sába-Ház",
                                    "mettol": "2016-06-10",
                                    "(No column name)": "15"
                                },
                                {
                                    "szallas_nev": "Sába-Ház",
                                    "mettol": "2016-06-10",
                                    "(No column name)": "15"
                                },
                                {
                                    "szallas_nev": "Sába-Ház",
                                    "mettol": "2016-06-10",
                                    "(No column name)": "15"
                                },
                                {
                                    "szallas_nev": "Sába-Ház",
                                    "mettol": "2016-06-11",
                                    "(No column name)": "16"
                                },
                                {
                                    "szallas_nev": "Sába-Ház",
                                    "mettol": "2016-06-16",
                                    "(No column name)": "17"
                                },
                                {
                                    "szallas_nev": "Sába-Ház",
                                    "mettol": "2016-06-17",
                                    "(No column name)": "18"
                                },
                                {
                                    "szallas_nev": "Sába-Ház",
                                    "mettol": "2016-06-27",
                                    "(No column name)": "19"
                                },
                                {
                                    "szallas_nev": "Sába-Ház",
                                    "mettol": "2016-07-02",
                                    "(No column name)": "20"
                                },
                                {
                                    "szallas_nev": "Sába-Ház",
                                    "mettol": "2016-07-09",
                                    "(No column name)": "21"
                                },
                                {
                                    "szallas_nev": "Sába-Ház",
                                    "mettol": "2016-07-13",
                                    "(No column name)": "22"
                                },
                                {
                                    "szallas_nev": "Sába-Ház",
                                    "mettol": "2016-07-20",
                                    "(No column name)": "24"
                                },
                                {
                                    "szallas_nev": "Sába-Ház",
                                    "mettol": "2016-07-20",
                                    "(No column name)": "24"
                                },
                                {
                                    "szallas_nev": "Sába-Ház",
                                    "mettol": "2016-07-30",
                                    "(No column name)": "25"
                                },
                                {
                                    "szallas_nev": "Sába-Ház",
                                    "mettol": "2016-08-06",
                                    "(No column name)": "26"
                                },
                                {
                                    "szallas_nev": "Sába-Ház",
                                    "mettol": "2016-08-12",
                                    "(No column name)": "27"
                                },
                                {
                                    "szallas_nev": "Sába-Ház",
                                    "mettol": "2016-08-13",
                                    "(No column name)": "28"
                                },
                                {
                                    "szallas_nev": "Sába-Ház",
                                    "mettol": "2016-08-16",
                                    "(No column name)": "30"
                                },
                                {
                                    "szallas_nev": "Sába-Ház",
                                    "mettol": "2016-08-16",
                                    "(No column name)": "30"
                                },
                                {
                                    "szallas_nev": "Sába-Ház",
                                    "mettol": "2016-08-17",
                                    "(No column name)": "31"
                                },
                                {
                                    "szallas_nev": "Sába-Ház",
                                    "mettol": "2016-08-20",
                                    "(No column name)": "32"
                                },
                                {
                                    "szallas_nev": "Sába-Ház",
                                    "mettol": "2016-08-24",
                                    "(No column name)": "33"
                                },
                                {
                                    "szallas_nev": "Sába-Ház",
                                    "mettol": "2016-08-27",
                                    "(No column name)": "34"
                                },
                                {
                                    "szallas_nev": "Sába-Ház",
                                    "mettol": "2016-08-28",
                                    "(No column name)": "35"
                                },
                                {
                                    "szallas_nev": "Sába-Ház",
                                    "mettol": "2016-09-05",
                                    "(No column name)": "36"
                                },
                                {
                                    "szallas_nev": "Sába-Ház",
                                    "mettol": "2016-09-08",
                                    "(No column name)": "37"
                                },
                                {
                                    "szallas_nev": "Sába-Ház",
                                    "mettol": "2016-09-14",
                                    "(No column name)": "38"
                                },
                                {
                                    "szallas_nev": "Sába-Ház",
                                    "mettol": "2016-09-19",
                                    "(No column name)": "39"
                                },
                                {
                                    "szallas_nev": "Sába-Ház",
                                    "mettol": "2016-09-21",
                                    "(No column name)": "40"
                                },
                                {
                                    "szallas_nev": "Sába-Ház",
                                    "mettol": "2016-10-01",
                                    "(No column name)": "42"
                                },
                                {
                                    "szallas_nev": "Sába-Ház",
                                    "mettol": "2016-10-01",
                                    "(No column name)": "42"
                                },
                                {
                                    "szallas_nev": "Sába-Ház",
                                    "mettol": "2016-10-05",
                                    "(No column name)": "43"
                                },
                                {
                                    "szallas_nev": "Sába-Ház",
                                    "mettol": "2016-10-07",
                                    "(No column name)": "44"
                                },
                                {
                                    "szallas_nev": "Sába-Ház",
                                    "mettol": "2016-10-08",
                                    "(No column name)": "46"
                                },
                                {
                                    "szallas_nev": "Sába-Ház",
                                    "mettol": "2016-10-08",
                                    "(No column name)": "46"
                                },
                                {
                                    "szallas_nev": "Sába-Ház",
                                    "mettol": "2016-10-09",
                                    "(No column name)": "48"
                                },
                                {
                                    "szallas_nev": "Sába-Ház",
                                    "mettol": "2016-10-09",
                                    "(No column name)": "48"
                                },
                                {
                                    "szallas_nev": "Sába-Ház",
                                    "mettol": "2016-10-14",
                                    "(No column name)": "49"
                                },
                                {
                                    "szallas_nev": "Sába-Ház",
                                    "mettol": "2016-10-15",
                                    "(No column name)": "51"
                                },
                                {
                                    "szallas_nev": "Sába-Ház",
                                    "mettol": "2016-10-15",
                                    "(No column name)": "51"
                                },
                                {
                                    "szallas_nev": "Sába-Ház",
                                    "mettol": "2016-10-18",
                                    "(No column name)": "52"
                                },
                                {
                                    "szallas_nev": "Sába-Ház",
                                    "mettol": "2016-10-21",
                                    "(No column name)": "53"
                                },
                                {
                                    "szallas_nev": "Sába-Ház",
                                    "mettol": "2016-10-23",
                                    "(No column name)": "54"
                                },
                                {
                                    "szallas_nev": "Sába-Ház",
                                    "mettol": "2016-10-30",
                                    "(No column name)": "55"
                                },
                                {
                                    "szallas_nev": "Sába-Ház",
                                    "mettol": "2016-11-01",
                                    "(No column name)": "56"
                                },
                                {
                                    "szallas_nev": "Sába-Ház",
                                    "mettol": "2016-11-05",
                                    "(No column name)": "57"
                                },
                                {
                                    "szallas_nev": "Sába-Ház",
                                    "mettol": "2016-11-07",
                                    "(No column name)": "59"
                                },
                                {
                                    "szallas_nev": "Sába-Ház",
                                    "mettol": "2016-11-07",
                                    "(No column name)": "59"
                                },
                                {
                                    "szallas_nev": "Sába-Ház",
                                    "mettol": "2016-11-11",
                                    "(No column name)": "60"
                                },
                                {
                                    "szallas_nev": "Sába-Ház",
                                    "mettol": "2016-11-23",
                                    "(No column name)": "61"
                                },
                                {
                                    "szallas_nev": "Sába-Ház",
                                    "mettol": "2016-11-25",
                                    "(No column name)": "62"
                                },
                                {
                                    "szallas_nev": "Sába-Ház",
                                    "mettol": "2016-12-01",
                                    "(No column name)": "63"
                                },
                                {
                                    "szallas_nev": "Sába-Ház",
                                    "mettol": "2017-01-06",
                                    "(No column name)": "64"
                                },
                                {
                                    "szallas_nev": "Sába-Ház",
                                    "mettol": "2017-01-09",
                                    "(No column name)": "65"
                                },
                                {
                                    "szallas_nev": "Sába-Ház",
                                    "mettol": "2017-01-12",
                                    "(No column name)": "66"
                                },
                                {
                                    "szallas_nev": "Sába-Ház",
                                    "mettol": "2017-02-03",
                                    "(No column name)": "67"
                                },
                                {
                                    "szallas_nev": "Sába-Ház",
                                    "mettol": "2017-02-12",
                                    "(No column name)": "68"
                                },
                                {
                                    "szallas_nev": "Sába-Ház",
                                    "mettol": "2017-02-16",
                                    "(No column name)": "70"
                                },
                                {
                                    "szallas_nev": "Sába-Ház",
                                    "mettol": "2017-02-16",
                                    "(No column name)": "70"
                                },
                                {
                                    "szallas_nev": "Szieszta Apartmanház",
                                    "mettol": "2016-04-06",
                                    "(No column name)": "1"
                                },
                                {
                                    "szallas_nev": "Szieszta Apartmanház",
                                    "mettol": "2016-05-15",
                                    "(No column name)": "2"
                                },
                                {
                                    "szallas_nev": "Szieszta Apartmanház",
                                    "mettol": "2016-05-26",
                                    "(No column name)": "3"
                                },
                                {
                                    "szallas_nev": "Szieszta Apartmanház",
                                    "mettol": "2016-05-28",
                                    "(No column name)": "4"
                                },
                                {
                                    "szallas_nev": "Szieszta Apartmanház",
                                    "mettol": "2016-07-28",
                                    "(No column name)": "5"
                                },
                                {
                                    "szallas_nev": "Szieszta Apartmanház",
                                    "mettol": "2016-08-05",
                                    "(No column name)": "6"
                                },
                                {
                                    "szallas_nev": "Szieszta Apartmanház",
                                    "mettol": "2016-08-24",
                                    "(No column name)": "7"
                                },
                                {
                                    "szallas_nev": "Szieszta Apartmanház",
                                    "mettol": "2016-09-02",
                                    "(No column name)": "8"
                                },
                                {
                                    "szallas_nev": "Szieszta Apartmanház",
                                    "mettol": "2016-09-08",
                                    "(No column name)": "9"
                                },
                                {
                                    "szallas_nev": "Szieszta Apartmanház",
                                    "mettol": "2016-09-16",
                                    "(No column name)": "10"
                                },
                                {
                                    "szallas_nev": "Szieszta Apartmanház",
                                    "mettol": "2016-09-17",
                                    "(No column name)": "11"
                                },
                                {
                                    "szallas_nev": "Szieszta Apartmanház",
                                    "mettol": "2016-09-24",
                                    "(No column name)": "12"
                                },
                                {
                                    "szallas_nev": "Szieszta Apartmanház",
                                    "mettol": "2016-10-01",
                                    "(No column name)": "15"
                                },
                                {
                                    "szallas_nev": "Szieszta Apartmanház",
                                    "mettol": "2016-10-01",
                                    "(No column name)": "15"
                                },
                                {
                                    "szallas_nev": "Szieszta Apartmanház",
                                    "mettol": "2016-10-01",
                                    "(No column name)": "15"
                                },
                                {
                                    "szallas_nev": "Szieszta Apartmanház",
                                    "mettol": "2016-10-21",
                                    "(No column name)": "16"
                                },
                                {
                                    "szallas_nev": "Szieszta Apartmanház",
                                    "mettol": "2016-10-24",
                                    "(No column name)": "17"
                                },
                                {
                                    "szallas_nev": "Szieszta Apartmanház",
                                    "mettol": "2016-10-26",
                                    "(No column name)": "18"
                                },
                                {
                                    "szallas_nev": "Szieszta Apartmanház",
                                    "mettol": "2016-11-05",
                                    "(No column name)": "19"
                                },
                                {
                                    "szallas_nev": "Szieszta Apartmanház",
                                    "mettol": "2016-11-09",
                                    "(No column name)": "20"
                                },
                                {
                                    "szallas_nev": "Szieszta Apartmanház",
                                    "mettol": "2016-11-10",
                                    "(No column name)": "21"
                                },
                                {
                                    "szallas_nev": "Szieszta Apartmanház",
                                    "mettol": "2016-11-21",
                                    "(No column name)": "23"
                                },
                                {
                                    "szallas_nev": "Szieszta Apartmanház",
                                    "mettol": "2016-11-21",
                                    "(No column name)": "23"
                                },
                                {
                                    "szallas_nev": "Szieszta Apartmanház",
                                    "mettol": "2016-11-25",
                                    "(No column name)": "24"
                                },
                                {
                                    "szallas_nev": "Szieszta Apartmanház",
                                    "mettol": "2016-12-06",
                                    "(No column name)": "25"
                                },
                                {
                                    "szallas_nev": "Szieszta Apartmanház",
                                    "mettol": "2016-12-12",
                                    "(No column name)": "26"
                                },
                                {
                                    "szallas_nev": "Szieszta Apartmanház",
                                    "mettol": "2016-12-26",
                                    "(No column name)": "27"
                                },
                                {
                                    "szallas_nev": "Szieszta Apartmanház",
                                    "mettol": "2016-12-29",
                                    "(No column name)": "28"
                                },
                                {
                                    "szallas_nev": "Szieszta Apartmanház",
                                    "mettol": "2017-01-17",
                                    "(No column name)": "29"
                                },
                                {
                                    "szallas_nev": "Szieszta Apartmanház",
                                    "mettol": "2017-01-19",
                                    "(No column name)": "30"
                                },
                                {
                                    "szallas_nev": "Szieszta Apartmanház",
                                    "mettol": "2017-02-09",
                                    "(No column name)": "31"
                                },
                                {
                                    "szallas_nev": "Szieszta Apartmanház",
                                    "mettol": "2017-02-12",
                                    "(No column name)": "32"
                                },
                                {
                                    "szallas_nev": "Szieszta Apartmanház",
                                    "mettol": "2017-02-18",
                                    "(No column name)": "33"
                                },
                                {
                                    "szallas_nev": "Szieszta Apartmanház",
                                    "mettol": "2017-02-26",
                                    "(No column name)": "34"
                                }
                            ]
                        },
                        "text/html": [
                            "<table>",
                            "<tr><th>szallas_nev</th><th>mettol</th><th>(No column name)</th></tr>",
                            "<tr><td>Családi Ház</td><td>2016-05-22</td><td>1</td></tr>",
                            "<tr><td>Családi Ház</td><td>2016-05-24</td><td>2</td></tr>",
                            "<tr><td>Családi Ház</td><td>2016-06-03</td><td>3</td></tr>",
                            "<tr><td>Családi Ház</td><td>2016-06-20</td><td>4</td></tr>",
                            "<tr><td>Családi Ház</td><td>2016-07-13</td><td>5</td></tr>",
                            "<tr><td>Családi Ház</td><td>2016-07-18</td><td>6</td></tr>",
                            "<tr><td>Családi Ház</td><td>2016-08-08</td><td>7</td></tr>",
                            "<tr><td>Családi Ház</td><td>2016-08-16</td><td>8</td></tr>",
                            "<tr><td>Családi Ház</td><td>2016-08-24</td><td>9</td></tr>",
                            "<tr><td>Családi Ház</td><td>2016-09-12</td><td>10</td></tr>",
                            "<tr><td>Családi Ház</td><td>2016-10-08</td><td>11</td></tr>",
                            "<tr><td>Családi Ház</td><td>2016-11-03</td><td>12</td></tr>",
                            "<tr><td>Családi Ház</td><td>2016-12-06</td><td>13</td></tr>",
                            "<tr><td>Családi Ház</td><td>2017-01-04</td><td>14</td></tr>",
                            "<tr><td>Családi Ház</td><td>2017-01-16</td><td>15</td></tr>",
                            "<tr><td>Családi Ház</td><td>2017-01-23</td><td>16</td></tr>",
                            "<tr><td>Családi Ház</td><td>2017-02-04</td><td>17</td></tr>",
                            "<tr><td>Családi Ház</td><td>2017-02-16</td><td>18</td></tr>",
                            "<tr><td>Fortuna Apartman</td><td>2016-04-09</td><td>1</td></tr>",
                            "<tr><td>Fortuna Apartman</td><td>2016-04-26</td><td>2</td></tr>",
                            "<tr><td>Fortuna Apartman</td><td>2016-05-08</td><td>3</td></tr>",
                            "<tr><td>Fortuna Apartman</td><td>2016-05-21</td><td>4</td></tr>",
                            "<tr><td>Fortuna Apartman</td><td>2016-05-23</td><td>5</td></tr>",
                            "<tr><td>Fortuna Apartman</td><td>2016-06-04</td><td>6</td></tr>",
                            "<tr><td>Fortuna Apartman</td><td>2016-06-06</td><td>7</td></tr>",
                            "<tr><td>Fortuna Apartman</td><td>2016-06-08</td><td>8</td></tr>",
                            "<tr><td>Fortuna Apartman</td><td>2016-06-10</td><td>10</td></tr>",
                            "<tr><td>Fortuna Apartman</td><td>2016-06-10</td><td>10</td></tr>",
                            "<tr><td>Fortuna Apartman</td><td>2016-07-03</td><td>11</td></tr>",
                            "<tr><td>Fortuna Apartman</td><td>2016-07-20</td><td>12</td></tr>",
                            "<tr><td>Fortuna Apartman</td><td>2016-07-24</td><td>13</td></tr>",
                            "<tr><td>Fortuna Apartman</td><td>2016-08-01</td><td>14</td></tr>",
                            "<tr><td>Fortuna Apartman</td><td>2016-08-04</td><td>15</td></tr>",
                            "<tr><td>Fortuna Apartman</td><td>2016-08-11</td><td>16</td></tr>",
                            "<tr><td>Fortuna Apartman</td><td>2016-08-14</td><td>17</td></tr>",
                            "<tr><td>Fortuna Apartman</td><td>2016-08-21</td><td>18</td></tr>",
                            "<tr><td>Fortuna Apartman</td><td>2016-08-24</td><td>19</td></tr>",
                            "<tr><td>Fortuna Apartman</td><td>2016-09-04</td><td>20</td></tr>",
                            "<tr><td>Fortuna Apartman</td><td>2016-09-07</td><td>21</td></tr>",
                            "<tr><td>Fortuna Apartman</td><td>2016-09-19</td><td>22</td></tr>",
                            "<tr><td>Fortuna Apartman</td><td>2016-10-01</td><td>24</td></tr>",
                            "<tr><td>Fortuna Apartman</td><td>2016-10-01</td><td>24</td></tr>",
                            "<tr><td>Fortuna Apartman</td><td>2016-10-08</td><td>25</td></tr>",
                            "<tr><td>Fortuna Apartman</td><td>2016-10-09</td><td>26</td></tr>",
                            "<tr><td>Fortuna Apartman</td><td>2016-10-19</td><td>27</td></tr>",
                            "<tr><td>Fortuna Apartman</td><td>2016-10-21</td><td>28</td></tr>",
                            "<tr><td>Fortuna Apartman</td><td>2016-10-26</td><td>30</td></tr>",
                            "<tr><td>Fortuna Apartman</td><td>2016-10-26</td><td>30</td></tr>",
                            "<tr><td>Fortuna Apartman</td><td>2016-10-27</td><td>31</td></tr>",
                            "<tr><td>Fortuna Apartman</td><td>2016-10-28</td><td>32</td></tr>",
                            "<tr><td>Fortuna Apartman</td><td>2016-11-02</td><td>33</td></tr>",
                            "<tr><td>Fortuna Apartman</td><td>2016-11-17</td><td>34</td></tr>",
                            "<tr><td>Fortuna Apartman</td><td>2016-11-25</td><td>35</td></tr>",
                            "<tr><td>Fortuna Apartman</td><td>2017-01-03</td><td>36</td></tr>",
                            "<tr><td>Fortuna Apartman</td><td>2017-02-06</td><td>37</td></tr>",
                            "<tr><td>Fortuna Apartman</td><td>2017-02-14</td><td>38</td></tr>",
                            "<tr><td>Fortuna Apartman</td><td>2017-02-18</td><td>39</td></tr>",
                            "<tr><td>Fortuna Panzió</td><td>2016-04-06</td><td>1</td></tr>",
                            "<tr><td>Fortuna Panzió</td><td>2016-04-19</td><td>3</td></tr>",
                            "<tr><td>Fortuna Panzió</td><td>2016-04-19</td><td>3</td></tr>",
                            "<tr><td>Fortuna panzió</td><td>2016-04-24</td><td>4</td></tr>",
                            "<tr><td>Fortuna panzió</td><td>2016-04-25</td><td>5</td></tr>",
                            "<tr><td>Fortuna Panzió</td><td>2016-04-26</td><td>6</td></tr>",
                            "<tr><td>Fortuna panzió</td><td>2016-04-27</td><td>8</td></tr>",
                            "<tr><td>Fortuna panzió</td><td>2016-04-27</td><td>8</td></tr>",
                            "<tr><td>Fortuna panzió</td><td>2016-05-01</td><td>9</td></tr>",
                            "<tr><td>Fortuna panzió</td><td>2016-05-08</td><td>11</td></tr>",
                            "<tr><td>Fortuna panzió</td><td>2016-05-08</td><td>11</td></tr>",
                            "<tr><td>Fortuna Panzió</td><td>2016-05-09</td><td>12</td></tr>",
                            "<tr><td>Fortuna Panzió</td><td>2016-05-21</td><td>13</td></tr>",
                            "<tr><td>Fortuna Panzió</td><td>2016-05-22</td><td>14</td></tr>",
                            "<tr><td>Fortuna panzió</td><td>2016-05-28</td><td>15</td></tr>",
                            "<tr><td>Fortuna panzió</td><td>2016-05-29</td><td>16</td></tr>",
                            "<tr><td>Fortuna panzió</td><td>2016-06-01</td><td>17</td></tr>",
                            "<tr><td>Fortuna Panzió</td><td>2016-06-02</td><td>18</td></tr>",
                            "<tr><td>Fortuna panzió</td><td>2016-06-03</td><td>21</td></tr>",
                            "<tr><td>Fortuna panzió</td><td>2016-06-03</td><td>21</td></tr>",
                            "<tr><td>Fortuna panzió</td><td>2016-06-03</td><td>21</td></tr>",
                            "<tr><td>Fortuna panzió</td><td>2016-06-04</td><td>23</td></tr>",
                            "<tr><td>Fortuna panzió</td><td>2016-06-04</td><td>23</td></tr>",
                            "<tr><td>Fortuna Panzió</td><td>2016-06-06</td><td>26</td></tr>",
                            "<tr><td>Fortuna panzió</td><td>2016-06-06</td><td>26</td></tr>",
                            "<tr><td>Fortuna panzió</td><td>2016-06-06</td><td>26</td></tr>",
                            "<tr><td>Fortuna Panzió</td><td>2016-06-07</td><td>28</td></tr>",
                            "<tr><td>Fortuna Panzió</td><td>2016-06-07</td><td>28</td></tr>",
                            "<tr><td>Fortuna Panzió</td><td>2016-06-13</td><td>29</td></tr>",
                            "<tr><td>Fortuna Panzió</td><td>2016-06-15</td><td>30</td></tr>",
                            "<tr><td>Fortuna panzió</td><td>2016-06-18</td><td>31</td></tr>",
                            "<tr><td>Fortuna panzió</td><td>2016-06-22</td><td>32</td></tr>",
                            "<tr><td>Fortuna panzió</td><td>2016-06-24</td><td>33</td></tr>",
                            "<tr><td>Fortuna Panzió</td><td>2016-06-25</td><td>34</td></tr>",
                            "<tr><td>Fortuna panzió</td><td>2016-07-03</td><td>35</td></tr>",
                            "<tr><td>Fortuna panzió</td><td>2016-07-05</td><td>36</td></tr>",
                            "<tr><td>Fortuna Panzió</td><td>2016-07-08</td><td>38</td></tr>",
                            "<tr><td>Fortuna Panzió</td><td>2016-07-08</td><td>38</td></tr>",
                            "<tr><td>Fortuna panzió</td><td>2016-07-10</td><td>39</td></tr>",
                            "<tr><td>Fortuna Panzió</td><td>2016-07-14</td><td>40</td></tr>",
                            "<tr><td>Fortuna panzió</td><td>2016-07-18</td><td>41</td></tr>",
                            "<tr><td>Fortuna panzió</td><td>2016-07-19</td><td>42</td></tr>",
                            "<tr><td>Fortuna panzió</td><td>2016-07-22</td><td>43</td></tr>",
                            "<tr><td>Fortuna panzió</td><td>2016-07-23</td><td>44</td></tr>",
                            "<tr><td>Fortuna panzió</td><td>2016-07-27</td><td>46</td></tr>",
                            "<tr><td>Fortuna panzió</td><td>2016-07-27</td><td>46</td></tr>",
                            "<tr><td>Fortuna panzió</td><td>2016-08-02</td><td>47</td></tr>",
                            "<tr><td>Fortuna panzió</td><td>2016-08-03</td><td>49</td></tr>",
                            "<tr><td>Fortuna Panzió</td><td>2016-08-03</td><td>49</td></tr>",
                            "<tr><td>Fortuna panzió</td><td>2016-08-05</td><td>50</td></tr>",
                            "<tr><td>Fortuna Panzió</td><td>2016-08-12</td><td>51</td></tr>",
                            "<tr><td>Fortuna panzió</td><td>2016-08-14</td><td>52</td></tr>",
                            "<tr><td>Fortuna Panzió</td><td>2016-08-17</td><td>53</td></tr>",
                            "<tr><td>Fortuna Panzió</td><td>2016-08-20</td><td>55</td></tr>",
                            "<tr><td>Fortuna Panzió</td><td>2016-08-20</td><td>55</td></tr>",
                            "<tr><td>Fortuna panzió</td><td>2016-08-22</td><td>56</td></tr>",
                            "<tr><td>Fortuna panzió</td><td>2016-08-24</td><td>57</td></tr>",
                            "<tr><td>Fortuna Panzió</td><td>2016-08-25</td><td>59</td></tr>",
                            "<tr><td>Fortuna Panzió</td><td>2016-08-25</td><td>59</td></tr>",
                            "<tr><td>Fortuna Panzió</td><td>2016-08-26</td><td>60</td></tr>",
                            "<tr><td>Fortuna panzió</td><td>2016-08-28</td><td>61</td></tr>",
                            "<tr><td>Fortuna Panzió</td><td>2016-09-02</td><td>62</td></tr>",
                            "<tr><td>Fortuna panzió</td><td>2016-09-05</td><td>64</td></tr>",
                            "<tr><td>Fortuna panzió</td><td>2016-09-05</td><td>64</td></tr>",
                            "<tr><td>Fortuna panzió</td><td>2016-09-14</td><td>65</td></tr>",
                            "<tr><td>Fortuna panzió</td><td>2016-09-15</td><td>66</td></tr>",
                            "<tr><td>Fortuna Panzió</td><td>2016-09-16</td><td>67</td></tr>",
                            "<tr><td>Fortuna panzió</td><td>2016-09-17</td><td>68</td></tr>",
                            "<tr><td>Fortuna Panzió</td><td>2016-09-18</td><td>69</td></tr>",
                            "<tr><td>Fortuna panzió</td><td>2016-09-23</td><td>71</td></tr>",
                            "<tr><td>Fortuna panzió</td><td>2016-09-23</td><td>71</td></tr>",
                            "<tr><td>Fortuna panzió</td><td>2016-09-26</td><td>72</td></tr>",
                            "<tr><td>Fortuna Panzió</td><td>2016-09-29</td><td>73</td></tr>",
                            "<tr><td>Fortuna Panzió</td><td>2016-10-03</td><td>74</td></tr>",
                            "<tr><td>Fortuna Panzió</td><td>2016-10-09</td><td>77</td></tr>",
                            "<tr><td>Fortuna panzió</td><td>2016-10-09</td><td>77</td></tr>",
                            "<tr><td>Fortuna Panzió</td><td>2016-10-09</td><td>77</td></tr>",
                            "<tr><td>Fortuna panzió</td><td>2016-10-13</td><td>78</td></tr>",
                            "<tr><td>Fortuna panzió</td><td>2016-10-16</td><td>79</td></tr>",
                            "<tr><td>Fortuna panzió</td><td>2016-10-23</td><td>81</td></tr>",
                            "<tr><td>Fortuna Panzió</td><td>2016-10-23</td><td>81</td></tr>",
                            "<tr><td>Fortuna Panzió</td><td>2016-10-26</td><td>82</td></tr>",
                            "<tr><td>Fortuna Panzió</td><td>2016-10-27</td><td>83</td></tr>",
                            "<tr><td>Fortuna panzió</td><td>2016-10-29</td><td>84</td></tr>",
                            "<tr><td>Fortuna Panzió</td><td>2016-10-30</td><td>86</td></tr>",
                            "<tr><td>Fortuna Panzió</td><td>2016-10-30</td><td>86</td></tr>",
                            "<tr><td>Fortuna panzió</td><td>2016-11-01</td><td>87</td></tr>",
                            "<tr><td>Fortuna Panzió</td><td>2016-11-03</td><td>88</td></tr>",
                            "<tr><td>Fortuna Panzió</td><td>2016-11-10</td><td>89</td></tr>",
                            "<tr><td>Fortuna panzió</td><td>2016-11-11</td><td>90</td></tr>",
                            "<tr><td>Fortuna Panzió</td><td>2016-11-19</td><td>92</td></tr>",
                            "<tr><td>Fortuna Panzió</td><td>2016-11-19</td><td>92</td></tr>",
                            "<tr><td>Fortuna Panzió</td><td>2016-11-22</td><td>93</td></tr>",
                            "<tr><td>Fortuna Panzió</td><td>2016-11-23</td><td>94</td></tr>",
                            "<tr><td>Fortuna panzió</td><td>2016-11-25</td><td>95</td></tr>",
                            "<tr><td>Fortuna panzió</td><td>2016-12-01</td><td>96</td></tr>",
                            "<tr><td>Fortuna panzió</td><td>2016-12-05</td><td>97</td></tr>",
                            "<tr><td>Fortuna panzió</td><td>2016-12-06</td><td>98</td></tr>",
                            "<tr><td>Fortuna panzió</td><td>2016-12-14</td><td>99</td></tr>",
                            "<tr><td>Fortuna panzió</td><td>2016-12-18</td><td>100</td></tr>",
                            "<tr><td>Fortuna panzió</td><td>2016-12-20</td><td>101</td></tr>",
                            "<tr><td>Fortuna panzió</td><td>2016-12-21</td><td>102</td></tr>",
                            "<tr><td>Fortuna panzió</td><td>2016-12-24</td><td>103</td></tr>",
                            "<tr><td>Fortuna panzió</td><td>2016-12-29</td><td>104</td></tr>",
                            "<tr><td>Fortuna panzió</td><td>2017-01-01</td><td>105</td></tr>",
                            "<tr><td>Fortuna panzió</td><td>2017-01-03</td><td>106</td></tr>",
                            "<tr><td>Fortuna Panzió</td><td>2017-01-08</td><td>107</td></tr>",
                            "<tr><td>Fortuna panzió</td><td>2017-01-12</td><td>108</td></tr>",
                            "<tr><td>Fortuna panzió</td><td>2017-01-13</td><td>109</td></tr>",
                            "<tr><td>Fortuna Panzió</td><td>2017-01-16</td><td>110</td></tr>",
                            "<tr><td>Fortuna panzió</td><td>2017-01-18</td><td>111</td></tr>",
                            "<tr><td>Fortuna panzió</td><td>2017-01-20</td><td>112</td></tr>",
                            "<tr><td>Fortuna panzió</td><td>2017-01-27</td><td>113</td></tr>",
                            "<tr><td>Fortuna panzió</td><td>2017-01-28</td><td>114</td></tr>",
                            "<tr><td>Fortuna Panzió</td><td>2017-02-10</td><td>115</td></tr>",
                            "<tr><td>Fortuna Panzió</td><td>2017-02-12</td><td>116</td></tr>",
                            "<tr><td>Fortuna panzió</td><td>2017-02-13</td><td>117</td></tr>",
                            "<tr><td>Fortuna Panzió</td><td>2017-02-16</td><td>119</td></tr>",
                            "<tr><td>Fortuna panzió</td><td>2017-02-16</td><td>119</td></tr>",
                            "<tr><td>Fortuna Panzió</td><td>2017-02-17</td><td>120</td></tr>",
                            "<tr><td>Fortuna Panzió</td><td>2017-02-18</td><td>121</td></tr>",
                            "<tr><td>Fortuna Panzió</td><td>2017-02-20</td><td>123</td></tr>",
                            "<tr><td>Fortuna Panzió</td><td>2017-02-20</td><td>123</td></tr>",
                            "<tr><td>Fortuna panzió</td><td>2017-02-21</td><td>124</td></tr>",
                            "<tr><td>Fortuna panzió</td><td>2017-02-24</td><td>125</td></tr>",
                            "<tr><td>Fortuna Panzió</td><td>2017-03-01</td><td>126</td></tr>",
                            "<tr><td>Gold Hotel</td><td>2016-04-10</td><td>4</td></tr>",
                            "<tr><td>Gold Hotel</td><td>2016-04-10</td><td>4</td></tr>",
                            "<tr><td>Gold Hotel</td><td>2016-04-10</td><td>4</td></tr>",
                            "<tr><td>Gold Hotel</td><td>2016-04-10</td><td>4</td></tr>",
                            "<tr><td>Gold Hotel</td><td>2016-04-13</td><td>5</td></tr>",
                            "<tr><td>Gold Hotel</td><td>2016-04-21</td><td>6</td></tr>",
                            "<tr><td>Gold Hotel</td><td>2016-04-24</td><td>7</td></tr>",
                            "<tr><td>Gold Hotel</td><td>2016-04-28</td><td>8</td></tr>",
                            "<tr><td>Gold Hotel</td><td>2016-05-01</td><td>9</td></tr>",
                            "<tr><td>Gold Hotel</td><td>2016-05-09</td><td>11</td></tr>",
                            "<tr><td>Gold Hotel</td><td>2016-05-09</td><td>11</td></tr>",
                            "<tr><td>Gold Hotel</td><td>2016-05-12</td><td>12</td></tr>",
                            "<tr><td>Gold Hotel</td><td>2016-05-14</td><td>13</td></tr>",
                            "<tr><td>Gold Hotel</td><td>2016-05-21</td><td>15</td></tr>",
                            "<tr><td>Gold Hotel</td><td>2016-05-21</td><td>15</td></tr>",
                            "<tr><td>Gold Hotel</td><td>2016-05-24</td><td>16</td></tr>",
                            "<tr><td>Gold Hotel</td><td>2016-05-25</td><td>17</td></tr>",
                            "<tr><td>Gold Hotel</td><td>2016-05-28</td><td>20</td></tr>",
                            "<tr><td>Gold Hotel</td><td>2016-05-28</td><td>20</td></tr>",
                            "<tr><td>Gold Hotel</td><td>2016-05-28</td><td>20</td></tr>",
                            "<tr><td>Gold Hotel</td><td>2016-05-30</td><td>21</td></tr>",
                            "<tr><td>Gold Hotel</td><td>2016-06-03</td><td>25</td></tr>",
                            "<tr><td>Gold Hotel</td><td>2016-06-03</td><td>25</td></tr>",
                            "<tr><td>Gold Hotel</td><td>2016-06-03</td><td>25</td></tr>",
                            "<tr><td>Gold Hotel</td><td>2016-06-03</td><td>25</td></tr>",
                            "<tr><td>Gold Hotel</td><td>2016-06-04</td><td>27</td></tr>",
                            "<tr><td>Gold Hotel</td><td>2016-06-04</td><td>27</td></tr>",
                            "<tr><td>Gold Hotel</td><td>2016-06-06</td><td>30</td></tr>",
                            "<tr><td>Gold Hotel</td><td>2016-06-06</td><td>30</td></tr>",
                            "<tr><td>Gold Hotel</td><td>2016-06-06</td><td>30</td></tr>",
                            "<tr><td>Gold Hotel</td><td>2016-06-07</td><td>34</td></tr>",
                            "<tr><td>Gold Hotel</td><td>2016-06-07</td><td>34</td></tr>",
                            "<tr><td>Gold Hotel</td><td>2016-06-07</td><td>34</td></tr>",
                            "<tr><td>Gold Hotel</td><td>2016-06-07</td><td>34</td></tr>",
                            "<tr><td>Gold Hotel</td><td>2016-06-08</td><td>35</td></tr>",
                            "<tr><td>Gold Hotel</td><td>2016-06-09</td><td>36</td></tr>",
                            "<tr><td>Gold Hotel</td><td>2016-06-10</td><td>37</td></tr>",
                            "<tr><td>Gold Hotel</td><td>2016-06-11</td><td>38</td></tr>",
                            "<tr><td>Gold Hotel</td><td>2016-06-13</td><td>40</td></tr>",
                            "<tr><td>Gold Hotel</td><td>2016-06-13</td><td>40</td></tr>",
                            "<tr><td>Gold Hotel</td><td>2016-06-20</td><td>41</td></tr>",
                            "<tr><td>Gold Hotel</td><td>2016-06-22</td><td>43</td></tr>",
                            "<tr><td>Gold Hotel</td><td>2016-06-22</td><td>43</td></tr>",
                            "<tr><td>Gold Hotel</td><td>2016-06-23</td><td>44</td></tr>",
                            "<tr><td>Gold Hotel</td><td>2016-06-24</td><td>45</td></tr>",
                            "<tr><td>Gold Hotel</td><td>2016-06-27</td><td>46</td></tr>",
                            "<tr><td>Gold Hotel</td><td>2016-06-28</td><td>47</td></tr>",
                            "<tr><td>Gold Hotel</td><td>2016-06-30</td><td>48</td></tr>",
                            "<tr><td>Gold Hotel</td><td>2016-07-04</td><td>50</td></tr>",
                            "<tr><td>Gold Hotel</td><td>2016-07-04</td><td>50</td></tr>",
                            "<tr><td>Gold Hotel</td><td>2016-07-06</td><td>51</td></tr>",
                            "<tr><td>Gold Hotel</td><td>2016-07-08</td><td>52</td></tr>",
                            "<tr><td>Gold Hotel</td><td>2016-07-09</td><td>53</td></tr>",
                            "<tr><td>Gold Hotel</td><td>2016-07-10</td><td>54</td></tr>",
                            "<tr><td>Gold Hotel</td><td>2016-07-14</td><td>57</td></tr>",
                            "<tr><td>Gold Hotel</td><td>2016-07-14</td><td>57</td></tr>",
                            "<tr><td>Gold Hotel</td><td>2016-07-14</td><td>57</td></tr>",
                            "<tr><td>Gold Hotel</td><td>2016-07-15</td><td>58</td></tr>",
                            "<tr><td>Gold Hotel</td><td>2016-07-16</td><td>59</td></tr>",
                            "<tr><td>Gold Hotel</td><td>2016-07-17</td><td>61</td></tr>",
                            "<tr><td>Gold Hotel</td><td>2016-07-17</td><td>61</td></tr>",
                            "<tr><td>Gold Hotel</td><td>2016-07-18</td><td>63</td></tr>",
                            "<tr><td>Gold Hotel</td><td>2016-07-18</td><td>63</td></tr>",
                            "<tr><td>Gold Hotel</td><td>2016-07-19</td><td>64</td></tr>",
                            "<tr><td>Gold Hotel</td><td>2016-07-20</td><td>67</td></tr>",
                            "<tr><td>Gold Hotel</td><td>2016-07-20</td><td>67</td></tr>",
                            "<tr><td>Gold Hotel</td><td>2016-07-20</td><td>67</td></tr>",
                            "<tr><td>Gold Hotel</td><td>2016-07-24</td><td>70</td></tr>",
                            "<tr><td>Gold Hotel</td><td>2016-07-24</td><td>70</td></tr>",
                            "<tr><td>Gold Hotel</td><td>2016-07-24</td><td>70</td></tr>",
                            "<tr><td>Gold Hotel</td><td>2016-07-27</td><td>71</td></tr>",
                            "<tr><td>Gold Hotel</td><td>2016-07-28</td><td>72</td></tr>",
                            "<tr><td>Gold Hotel</td><td>2016-07-30</td><td>73</td></tr>",
                            "<tr><td>Gold Hotel</td><td>2016-07-31</td><td>74</td></tr>",
                            "<tr><td>Gold Hotel</td><td>2016-08-01</td><td>76</td></tr>",
                            "<tr><td>Gold Hotel</td><td>2016-08-01</td><td>76</td></tr>",
                            "<tr><td>Gold Hotel</td><td>2016-08-02</td><td>77</td></tr>",
                            "<tr><td>Gold Hotel</td><td>2016-08-03</td><td>78</td></tr>",
                            "<tr><td>Gold Hotel</td><td>2016-08-09</td><td>79</td></tr>",
                            "<tr><td>Gold Hotel</td><td>2016-08-10</td><td>80</td></tr>",
                            "<tr><td>Gold Hotel</td><td>2016-08-13</td><td>81</td></tr>",
                            "<tr><td>Gold Hotel</td><td>2016-08-16</td><td>84</td></tr>",
                            "<tr><td>Gold Hotel</td><td>2016-08-16</td><td>84</td></tr>",
                            "<tr><td>Gold Hotel</td><td>2016-08-16</td><td>84</td></tr>",
                            "<tr><td>Gold Hotel</td><td>2016-08-17</td><td>85</td></tr>",
                            "<tr><td>Gold Hotel</td><td>2016-08-19</td><td>86</td></tr>",
                            "<tr><td>Gold Hotel</td><td>2016-08-24</td><td>87</td></tr>",
                            "<tr><td>Gold Hotel</td><td>2016-08-28</td><td>88</td></tr>",
                            "<tr><td>Gold Hotel</td><td>2016-08-29</td><td>90</td></tr>",
                            "<tr><td>Gold Hotel</td><td>2016-08-29</td><td>90</td></tr>",
                            "<tr><td>Gold Hotel</td><td>2016-08-31</td><td>91</td></tr>",
                            "<tr><td>Gold Hotel</td><td>2016-09-05</td><td>92</td></tr>",
                            "<tr><td>Gold Hotel</td><td>2016-09-09</td><td>93</td></tr>",
                            "<tr><td>Gold Hotel</td><td>2016-09-11</td><td>94</td></tr>",
                            "<tr><td>Gold Hotel</td><td>2016-09-18</td><td>95</td></tr>",
                            "<tr><td>Gold Hotel</td><td>2016-09-19</td><td>96</td></tr>",
                            "<tr><td>Gold Hotel</td><td>2016-09-22</td><td>97</td></tr>",
                            "<tr><td>Gold Hotel</td><td>2016-09-30</td><td>100</td></tr>",
                            "<tr><td>Gold Hotel</td><td>2016-09-30</td><td>100</td></tr>",
                            "<tr><td>Gold Hotel</td><td>2016-09-30</td><td>100</td></tr>",
                            "<tr><td>Gold Hotel</td><td>2016-10-03</td><td>101</td></tr>",
                            "<tr><td>Gold Hotel</td><td>2016-10-06</td><td>102</td></tr>",
                            "<tr><td>Gold Hotel</td><td>2016-10-08</td><td>103</td></tr>",
                            "<tr><td>Gold Hotel</td><td>2016-10-09</td><td>107</td></tr>",
                            "<tr><td>Gold Hotel</td><td>2016-10-09</td><td>107</td></tr>",
                            "<tr><td>Gold Hotel</td><td>2016-10-09</td><td>107</td></tr>",
                            "<tr><td>Gold Hotel</td><td>2016-10-09</td><td>107</td></tr>",
                            "<tr><td>Gold Hotel</td><td>2016-10-10</td><td>108</td></tr>",
                            "<tr><td>Gold Hotel</td><td>2016-10-15</td><td>109</td></tr>",
                            "<tr><td>Gold Hotel</td><td>2016-10-17</td><td>110</td></tr>",
                            "<tr><td>Gold Hotel</td><td>2016-10-20</td><td>112</td></tr>",
                            "<tr><td>Gold Hotel</td><td>2016-10-20</td><td>112</td></tr>",
                            "<tr><td>Gold Hotel</td><td>2016-10-21</td><td>113</td></tr>",
                            "<tr><td>Gold Hotel</td><td>2016-10-23</td><td>116</td></tr>",
                            "<tr><td>Gold Hotel</td><td>2016-10-23</td><td>116</td></tr>",
                            "<tr><td>Gold Hotel</td><td>2016-10-23</td><td>116</td></tr>",
                            "<tr><td>Gold Hotel</td><td>2016-10-24</td><td>117</td></tr>",
                            "<tr><td>Gold Hotel</td><td>2016-10-26</td><td>118</td></tr>",
                            "<tr><td>Gold Hotel</td><td>2016-10-27</td><td>119</td></tr>",
                            "<tr><td>Gold Hotel</td><td>2016-10-28</td><td>120</td></tr>",
                            "<tr><td>Gold Hotel</td><td>2016-10-29</td><td>121</td></tr>",
                            "<tr><td>Gold Hotel</td><td>2016-10-30</td><td>123</td></tr>",
                            "<tr><td>Gold Hotel</td><td>2016-10-30</td><td>123</td></tr>",
                            "<tr><td>Gold Hotel</td><td>2016-11-03</td><td>125</td></tr>",
                            "<tr><td>Gold Hotel</td><td>2016-11-03</td><td>125</td></tr>",
                            "<tr><td>Gold Hotel</td><td>2016-11-05</td><td>128</td></tr>",
                            "<tr><td>Gold Hotel</td><td>2016-11-05</td><td>128</td></tr>",
                            "<tr><td>Gold Hotel</td><td>2016-11-05</td><td>128</td></tr>",
                            "<tr><td>Gold Hotel</td><td>2016-11-08</td><td>129</td></tr>",
                            "<tr><td>Gold Hotel</td><td>2016-11-09</td><td>130</td></tr>",
                            "<tr><td>Gold Hotel</td><td>2016-11-12</td><td>131</td></tr>",
                            "<tr><td>Gold Hotel</td><td>2016-11-13</td><td>132</td></tr>",
                            "<tr><td>Gold Hotel</td><td>2016-11-22</td><td>134</td></tr>",
                            "<tr><td>Gold Hotel</td><td>2016-11-22</td><td>134</td></tr>",
                            "<tr><td>Gold Hotel</td><td>2016-11-23</td><td>136</td></tr>",
                            "<tr><td>Gold Hotel</td><td>2016-11-23</td><td>136</td></tr>",
                            "<tr><td>Gold Hotel</td><td>2016-11-25</td><td>137</td></tr>",
                            "<tr><td>Gold Hotel</td><td>2016-11-27</td><td>138</td></tr>",
                            "<tr><td>Gold Hotel</td><td>2016-11-28</td><td>139</td></tr>",
                            "<tr><td>Gold Hotel</td><td>2016-11-29</td><td>140</td></tr>",
                            "<tr><td>Gold Hotel</td><td>2016-12-02</td><td>141</td></tr>",
                            "<tr><td>Gold Hotel</td><td>2016-12-04</td><td>143</td></tr>",
                            "<tr><td>Gold Hotel</td><td>2016-12-04</td><td>143</td></tr>",
                            "<tr><td>Gold Hotel</td><td>2016-12-05</td><td>144</td></tr>",
                            "<tr><td>Gold Hotel</td><td>2016-12-06</td><td>145</td></tr>",
                            "<tr><td>Gold Hotel</td><td>2016-12-09</td><td>146</td></tr>",
                            "<tr><td>Gold Hotel</td><td>2016-12-17</td><td>147</td></tr>",
                            "<tr><td>Gold Hotel</td><td>2016-12-22</td><td>148</td></tr>",
                            "<tr><td>Gold Hotel</td><td>2016-12-24</td><td>149</td></tr>",
                            "<tr><td>Gold Hotel</td><td>2016-12-25</td><td>150</td></tr>",
                            "<tr><td>Gold Hotel</td><td>2016-12-29</td><td>151</td></tr>",
                            "<tr><td>Gold Hotel</td><td>2016-12-30</td><td>152</td></tr>",
                            "<tr><td>Gold Hotel</td><td>2017-01-01</td><td>153</td></tr>",
                            "<tr><td>Gold Hotel</td><td>2017-01-02</td><td>154</td></tr>",
                            "<tr><td>Gold Hotel</td><td>2017-01-05</td><td>156</td></tr>",
                            "<tr><td>Gold Hotel</td><td>2017-01-05</td><td>156</td></tr>",
                            "<tr><td>Gold Hotel</td><td>2017-01-06</td><td>157</td></tr>",
                            "<tr><td>Gold Hotel</td><td>2017-01-09</td><td>159</td></tr>",
                            "<tr><td>Gold Hotel</td><td>2017-01-09</td><td>159</td></tr>",
                            "<tr><td>Gold Hotel</td><td>2017-01-13</td><td>160</td></tr>",
                            "<tr><td>Gold Hotel</td><td>2017-01-16</td><td>161</td></tr>",
                            "<tr><td>Gold Hotel</td><td>2017-01-17</td><td>162</td></tr>",
                            "<tr><td>Gold Hotel</td><td>2017-01-22</td><td>164</td></tr>",
                            "<tr><td>Gold Hotel</td><td>2017-01-22</td><td>164</td></tr>",
                            "<tr><td>Gold Hotel</td><td>2017-01-24</td><td>165</td></tr>",
                            "<tr><td>Gold Hotel</td><td>2017-01-30</td><td>166</td></tr>",
                            "<tr><td>Gold Hotel</td><td>2017-02-03</td><td>167</td></tr>",
                            "<tr><td>Gold Hotel</td><td>2017-02-04</td><td>168</td></tr>",
                            "<tr><td>Gold Hotel</td><td>2017-02-05</td><td>170</td></tr>",
                            "<tr><td>Gold Hotel</td><td>2017-02-05</td><td>170</td></tr>",
                            "<tr><td>Gold Hotel</td><td>2017-02-08</td><td>172</td></tr>",
                            "<tr><td>Gold Hotel</td><td>2017-02-08</td><td>172</td></tr>",
                            "<tr><td>Gold Hotel</td><td>2017-02-11</td><td>173</td></tr>",
                            "<tr><td>Gold Hotel</td><td>2017-02-12</td><td>174</td></tr>",
                            "<tr><td>Gold Hotel</td><td>2017-02-22</td><td>175</td></tr>",
                            "<tr><td>Gold Hotel</td><td>2017-02-23</td><td>176</td></tr>",
                            "<tr><td>Gold Hotel</td><td>2017-02-24</td><td>178</td></tr>",
                            "<tr><td>Gold Hotel</td><td>2017-02-24</td><td>178</td></tr>",
                            "<tr><td>Gold Hotel</td><td>2017-02-26</td><td>179</td></tr>",
                            "<tr><td>Hotel Három Hattyú</td><td>2016-04-11</td><td>1</td></tr>",
                            "<tr><td>Hotel Három Hattyú</td><td>2016-04-18</td><td>2</td></tr>",
                            "<tr><td>Hotel Három Hattyú</td><td>2016-04-19</td><td>3</td></tr>",
                            "<tr><td>Hotel Három Hattyú</td><td>2016-04-23</td><td>5</td></tr>",
                            "<tr><td>Hotel Három Hattyú</td><td>2016-04-23</td><td>5</td></tr>",
                            "<tr><td>Hotel Három Hattyú</td><td>2016-04-27</td><td>6</td></tr>",
                            "<tr><td>Hotel Három Hattyú</td><td>2016-04-28</td><td>7</td></tr>",
                            "<tr><td>Hotel Három Hattyú</td><td>2016-04-30</td><td>8</td></tr>",
                            "<tr><td>Hotel Három Hattyú</td><td>2016-05-01</td><td>10</td></tr>",
                            "<tr><td>Hotel Három Hattyú</td><td>2016-05-01</td><td>10</td></tr>",
                            "<tr><td>Hotel Három Hattyú</td><td>2016-05-02</td><td>12</td></tr>",
                            "<tr><td>Hotel Három Hattyú</td><td>2016-05-02</td><td>12</td></tr>",
                            "<tr><td>Hotel Három Hattyú</td><td>2016-05-03</td><td>13</td></tr>",
                            "<tr><td>Hotel Három Hattyú</td><td>2016-05-06</td><td>14</td></tr>",
                            "<tr><td>Hotel Három Hattyú</td><td>2016-05-08</td><td>15</td></tr>",
                            "<tr><td>Hotel Három Hattyú</td><td>2016-05-09</td><td>17</td></tr>",
                            "<tr><td>Hotel Három Hattyú</td><td>2016-05-09</td><td>17</td></tr>",
                            "<tr><td>Hotel Három Hattyú</td><td>2016-05-10</td><td>19</td></tr>",
                            "<tr><td>Hotel Három Hattyú</td><td>2016-05-10</td><td>19</td></tr>",
                            "<tr><td>Hotel Három Hattyú</td><td>2016-05-11</td><td>20</td></tr>",
                            "<tr><td>Hotel Három Hattyú</td><td>2016-05-14</td><td>21</td></tr>",
                            "<tr><td>Hotel Három Hattyú</td><td>2016-05-18</td><td>22</td></tr>",
                            "<tr><td>Hotel Három Hattyú</td><td>2016-05-19</td><td>23</td></tr>",
                            "<tr><td>Hotel Három Hattyú</td><td>2016-05-24</td><td>24</td></tr>",
                            "<tr><td>Hotel Három Hattyú</td><td>2016-05-25</td><td>25</td></tr>",
                            "<tr><td>Hotel Három Hattyú</td><td>2016-05-27</td><td>26</td></tr>",
                            "<tr><td>Hotel Három Hattyú</td><td>2016-05-28</td><td>27</td></tr>",
                            "<tr><td>Hotel Három Hattyú</td><td>2016-05-30</td><td>29</td></tr>",
                            "<tr><td>Hotel Három Hattyú</td><td>2016-05-30</td><td>29</td></tr>",
                            "<tr><td>Hotel Három Hattyú</td><td>2016-06-06</td><td>30</td></tr>",
                            "<tr><td>Hotel Három Hattyú</td><td>2016-06-07</td><td>32</td></tr>",
                            "<tr><td>Hotel Három Hattyú</td><td>2016-06-07</td><td>32</td></tr>",
                            "<tr><td>Hotel Három Hattyú</td><td>2016-06-10</td><td>34</td></tr>",
                            "<tr><td>Hotel Három Hattyú</td><td>2016-06-10</td><td>34</td></tr>",
                            "<tr><td>Hotel Három Hattyú</td><td>2016-06-12</td><td>35</td></tr>",
                            "<tr><td>Hotel Három Hattyú</td><td>2016-06-14</td><td>36</td></tr>",
                            "<tr><td>Hotel Három Hattyú</td><td>2016-06-16</td><td>40</td></tr>",
                            "<tr><td>Hotel Három Hattyú</td><td>2016-06-16</td><td>40</td></tr>",
                            "<tr><td>Hotel Három Hattyú</td><td>2016-06-16</td><td>40</td></tr>",
                            "<tr><td>Hotel Három Hattyú</td><td>2016-06-16</td><td>40</td></tr>",
                            "<tr><td>Hotel Három Hattyú</td><td>2016-06-19</td><td>41</td></tr>",
                            "<tr><td>Hotel Három Hattyú</td><td>2016-06-21</td><td>42</td></tr>",
                            "<tr><td>Hotel Három Hattyú</td><td>2016-06-29</td><td>43</td></tr>",
                            "<tr><td>Hotel Három Hattyú</td><td>2016-06-30</td><td>44</td></tr>",
                            "<tr><td>Hotel Három Hattyú</td><td>2016-07-01</td><td>46</td></tr>",
                            "<tr><td>Hotel Három Hattyú</td><td>2016-07-01</td><td>46</td></tr>",
                            "<tr><td>Hotel Három Hattyú</td><td>2016-07-03</td><td>47</td></tr>",
                            "<tr><td>Hotel Három Hattyú</td><td>2016-07-04</td><td>48</td></tr>",
                            "<tr><td>Hotel Három Hattyú</td><td>2016-07-07</td><td>49</td></tr>",
                            "<tr><td>Hotel Három Hattyú</td><td>2016-07-12</td><td>50</td></tr>",
                            "<tr><td>Hotel Három Hattyú</td><td>2016-07-13</td><td>51</td></tr>",
                            "<tr><td>Hotel Három Hattyú</td><td>2016-07-14</td><td>52</td></tr>",
                            "<tr><td>Hotel Három Hattyú</td><td>2016-07-18</td><td>53</td></tr>",
                            "<tr><td>Hotel Három Hattyú</td><td>2016-07-19</td><td>54</td></tr>",
                            "<tr><td>Hotel Három Hattyú</td><td>2016-07-20</td><td>55</td></tr>",
                            "<tr><td>Hotel Három Hattyú</td><td>2016-07-22</td><td>56</td></tr>",
                            "<tr><td>Hotel Három Hattyú</td><td>2016-07-23</td><td>57</td></tr>",
                            "<tr><td>Hotel Három Hattyú</td><td>2016-07-25</td><td>58</td></tr>",
                            "<tr><td>Hotel Három Hattyú</td><td>2016-07-26</td><td>60</td></tr>",
                            "<tr><td>Hotel Három Hattyú</td><td>2016-07-26</td><td>60</td></tr>",
                            "<tr><td>Hotel Három Hattyú</td><td>2016-07-27</td><td>65</td></tr>",
                            "<tr><td>Hotel Három Hattyú</td><td>2016-07-27</td><td>65</td></tr>",
                            "<tr><td>Hotel Három Hattyú</td><td>2016-07-27</td><td>65</td></tr>",
                            "<tr><td>Hotel Három Hattyú</td><td>2016-07-27</td><td>65</td></tr>",
                            "<tr><td>Hotel Három Hattyú</td><td>2016-07-27</td><td>65</td></tr>",
                            "<tr><td>Hotel Három Hattyú</td><td>2016-07-28</td><td>67</td></tr>",
                            "<tr><td>Hotel Három Hattyú</td><td>2016-07-28</td><td>67</td></tr>",
                            "<tr><td>Hotel Három Hattyú</td><td>2016-07-29</td><td>68</td></tr>",
                            "<tr><td>Hotel Három Hattyú</td><td>2016-07-30</td><td>70</td></tr>",
                            "<tr><td>Hotel Három Hattyú</td><td>2016-07-30</td><td>70</td></tr>",
                            "<tr><td>Hotel Három Hattyú</td><td>2016-08-04</td><td>71</td></tr>",
                            "<tr><td>Hotel Három Hattyú</td><td>2016-08-07</td><td>72</td></tr>",
                            "<tr><td>Hotel Három Hattyú</td><td>2016-08-14</td><td>73</td></tr>",
                            "<tr><td>Hotel Három Hattyú</td><td>2016-08-15</td><td>74</td></tr>",
                            "<tr><td>Hotel Három Hattyú</td><td>2016-08-16</td><td>75</td></tr>",
                            "<tr><td>Hotel Három Hattyú</td><td>2016-08-20</td><td>76</td></tr>",
                            "<tr><td>Hotel Három Hattyú</td><td>2016-08-21</td><td>77</td></tr>",
                            "<tr><td>Hotel Három Hattyú</td><td>2016-08-23</td><td>79</td></tr>",
                            "<tr><td>Hotel Három Hattyú</td><td>2016-08-23</td><td>79</td></tr>",
                            "<tr><td>Hotel Három Hattyú</td><td>2016-08-24</td><td>80</td></tr>",
                            "<tr><td>Hotel Három Hattyú</td><td>2016-08-26</td><td>81</td></tr>",
                            "<tr><td>Hotel Három Hattyú</td><td>2016-08-29</td><td>83</td></tr>",
                            "<tr><td>Hotel Három Hattyú</td><td>2016-08-29</td><td>83</td></tr>",
                            "<tr><td>Hotel Három Hattyú</td><td>2016-08-31</td><td>84</td></tr>",
                            "<tr><td>Hotel Három Hattyú</td><td>2016-09-05</td><td>85</td></tr>",
                            "<tr><td>Hotel Három Hattyú</td><td>2016-09-06</td><td>86</td></tr>",
                            "<tr><td>Hotel Három Hattyú</td><td>2016-09-08</td><td>87</td></tr>",
                            "<tr><td>Hotel Három Hattyú</td><td>2016-09-10</td><td>88</td></tr>",
                            "<tr><td>Hotel Három Hattyú</td><td>2016-09-13</td><td>91</td></tr>",
                            "<tr><td>Hotel Három Hattyú</td><td>2016-09-13</td><td>91</td></tr>",
                            "<tr><td>Hotel Három Hattyú</td><td>2016-09-13</td><td>91</td></tr>",
                            "<tr><td>Hotel Három Hattyú</td><td>2016-09-17</td><td>92</td></tr>",
                            "<tr><td>Hotel Három Hattyú</td><td>2016-09-20</td><td>93</td></tr>",
                            "<tr><td>Hotel Három Hattyú</td><td>2016-09-27</td><td>94</td></tr>",
                            "<tr><td>Hotel Három Hattyú</td><td>2016-09-28</td><td>95</td></tr>",
                            "<tr><td>Hotel Három Hattyú</td><td>2016-09-30</td><td>96</td></tr>",
                            "<tr><td>Hotel Három Hattyú</td><td>2016-10-01</td><td>99</td></tr>",
                            "<tr><td>Hotel Három Hattyú</td><td>2016-10-01</td><td>99</td></tr>",
                            "<tr><td>Hotel Három Hattyú</td><td>2016-10-01</td><td>99</td></tr>",
                            "<tr><td>Hotel Három Hattyú</td><td>2016-10-04</td><td>100</td></tr>",
                            "<tr><td>Hotel Három Hattyú</td><td>2016-10-06</td><td>101</td></tr>",
                            "<tr><td>Hotel Három Hattyú</td><td>2016-10-08</td><td>103</td></tr>",
                            "<tr><td>Hotel Három Hattyú</td><td>2016-10-08</td><td>103</td></tr>",
                            "<tr><td>Hotel Három Hattyú</td><td>2016-10-15</td><td>104</td></tr>",
                            "<tr><td>Hotel Három Hattyú</td><td>2016-10-17</td><td>105</td></tr>",
                            "<tr><td>Hotel Három Hattyú</td><td>2016-10-19</td><td>106</td></tr>",
                            "<tr><td>Hotel Három Hattyú</td><td>2016-10-20</td><td>107</td></tr>",
                            "<tr><td>Hotel Három Hattyú</td><td>2016-10-22</td><td>108</td></tr>",
                            "<tr><td>Hotel Három Hattyú</td><td>2016-10-26</td><td>109</td></tr>",
                            "<tr><td>Hotel Három Hattyú</td><td>2016-10-28</td><td>112</td></tr>",
                            "<tr><td>Hotel Három Hattyú</td><td>2016-10-28</td><td>112</td></tr>",
                            "<tr><td>Hotel Három Hattyú</td><td>2016-10-28</td><td>112</td></tr>",
                            "<tr><td>Hotel Három Hattyú</td><td>2016-10-29</td><td>114</td></tr>",
                            "<tr><td>Hotel Három Hattyú</td><td>2016-10-29</td><td>114</td></tr>",
                            "<tr><td>Hotel Három Hattyú</td><td>2016-10-30</td><td>117</td></tr>",
                            "<tr><td>Hotel Három Hattyú</td><td>2016-10-30</td><td>117</td></tr>",
                            "<tr><td>Hotel Három Hattyú</td><td>2016-10-30</td><td>117</td></tr>",
                            "<tr><td>Hotel Három Hattyú</td><td>2016-11-03</td><td>118</td></tr>",
                            "<tr><td>Hotel Három Hattyú</td><td>2016-11-04</td><td>119</td></tr>",
                            "<tr><td>Hotel Három Hattyú</td><td>2016-11-05</td><td>121</td></tr>",
                            "<tr><td>Hotel Három Hattyú</td><td>2016-11-05</td><td>121</td></tr>",
                            "<tr><td>Hotel Három Hattyú</td><td>2016-11-08</td><td>122</td></tr>",
                            "<tr><td>Hotel Három Hattyú</td><td>2016-11-10</td><td>123</td></tr>",
                            "<tr><td>Hotel Három Hattyú</td><td>2016-11-15</td><td>124</td></tr>",
                            "<tr><td>Hotel Három Hattyú</td><td>2016-11-16</td><td>125</td></tr>",
                            "<tr><td>Hotel Három Hattyú</td><td>2016-11-19</td><td>127</td></tr>",
                            "<tr><td>Hotel Három Hattyú</td><td>2016-11-19</td><td>127</td></tr>",
                            "<tr><td>Hotel Három Hattyú</td><td>2016-11-20</td><td>128</td></tr>",
                            "<tr><td>Hotel Három Hattyú</td><td>2016-11-22</td><td>129</td></tr>",
                            "<tr><td>Hotel Három Hattyú</td><td>2016-11-23</td><td>130</td></tr>",
                            "<tr><td>Hotel Három Hattyú</td><td>2016-11-24</td><td>131</td></tr>",
                            "<tr><td>Hotel Három Hattyú</td><td>2016-11-29</td><td>133</td></tr>",
                            "<tr><td>Hotel Három Hattyú</td><td>2016-11-29</td><td>133</td></tr>",
                            "<tr><td>Hotel Három Hattyú</td><td>2016-12-02</td><td>134</td></tr>",
                            "<tr><td>Hotel Három Hattyú</td><td>2016-12-03</td><td>135</td></tr>",
                            "<tr><td>Hotel Három Hattyú</td><td>2016-12-05</td><td>136</td></tr>",
                            "<tr><td>Hotel Három Hattyú</td><td>2016-12-07</td><td>139</td></tr>",
                            "<tr><td>Hotel Három Hattyú</td><td>2016-12-07</td><td>139</td></tr>",
                            "<tr><td>Hotel Három Hattyú</td><td>2016-12-07</td><td>139</td></tr>",
                            "<tr><td>Hotel Három Hattyú</td><td>2016-12-08</td><td>140</td></tr>",
                            "<tr><td>Hotel Három Hattyú</td><td>2016-12-13</td><td>141</td></tr>",
                            "<tr><td>Hotel Három Hattyú</td><td>2016-12-15</td><td>142</td></tr>",
                            "<tr><td>Hotel Három Hattyú</td><td>2016-12-17</td><td>146</td></tr>",
                            "<tr><td>Hotel Három Hattyú</td><td>2016-12-17</td><td>146</td></tr>",
                            "<tr><td>Hotel Három Hattyú</td><td>2016-12-17</td><td>146</td></tr>",
                            "<tr><td>Hotel Három Hattyú</td><td>2016-12-17</td><td>146</td></tr>",
                            "<tr><td>Hotel Három Hattyú</td><td>2016-12-18</td><td>147</td></tr>",
                            "<tr><td>Hotel Három Hattyú</td><td>2016-12-23</td><td>148</td></tr>",
                            "<tr><td>Hotel Három Hattyú</td><td>2016-12-25</td><td>153</td></tr>",
                            "<tr><td>Hotel Három Hattyú</td><td>2016-12-25</td><td>153</td></tr>",
                            "<tr><td>Hotel Három Hattyú</td><td>2016-12-25</td><td>153</td></tr>",
                            "<tr><td>Hotel Három Hattyú</td><td>2016-12-25</td><td>153</td></tr>",
                            "<tr><td>Hotel Három Hattyú</td><td>2016-12-25</td><td>153</td></tr>",
                            "<tr><td>Hotel Három Hattyú</td><td>2016-12-26</td><td>154</td></tr>",
                            "<tr><td>Hotel Három Hattyú</td><td>2016-12-28</td><td>155</td></tr>",
                            "<tr><td>Hotel Három Hattyú</td><td>2016-12-29</td><td>156</td></tr>",
                            "<tr><td>Hotel Három Hattyú</td><td>2016-12-31</td><td>157</td></tr>",
                            "<tr><td>Hotel Három Hattyú</td><td>2017-01-02</td><td>158</td></tr>",
                            "<tr><td>Hotel Három Hattyú</td><td>2017-01-03</td><td>159</td></tr>",
                            "<tr><td>Hotel Három Hattyú</td><td>2017-01-05</td><td>160</td></tr>",
                            "<tr><td>Hotel Három Hattyú</td><td>2017-01-07</td><td>161</td></tr>",
                            "<tr><td>Hotel Három Hattyú</td><td>2017-01-09</td><td>162</td></tr>",
                            "<tr><td>Hotel Három Hattyú</td><td>2017-01-14</td><td>163</td></tr>",
                            "<tr><td>Hotel Három Hattyú</td><td>2017-01-15</td><td>164</td></tr>",
                            "<tr><td>Hotel Három Hattyú</td><td>2017-01-16</td><td>165</td></tr>",
                            "<tr><td>Hotel Három Hattyú</td><td>2017-01-17</td><td>166</td></tr>",
                            "<tr><td>Hotel Három Hattyú</td><td>2017-01-18</td><td>167</td></tr>",
                            "<tr><td>Hotel Három Hattyú</td><td>2017-01-23</td><td>168</td></tr>",
                            "<tr><td>Hotel Három Hattyú</td><td>2017-01-24</td><td>169</td></tr>",
                            "<tr><td>Hotel Három Hattyú</td><td>2017-01-29</td><td>171</td></tr>",
                            "<tr><td>Hotel Három Hattyú</td><td>2017-01-29</td><td>171</td></tr>",
                            "<tr><td>Hotel Három Hattyú</td><td>2017-01-30</td><td>173</td></tr>",
                            "<tr><td>Hotel Három Hattyú</td><td>2017-01-30</td><td>173</td></tr>",
                            "<tr><td>Hotel Három Hattyú</td><td>2017-01-31</td><td>174</td></tr>",
                            "<tr><td>Hotel Három Hattyú</td><td>2017-02-01</td><td>175</td></tr>",
                            "<tr><td>Hotel Három Hattyú</td><td>2017-02-02</td><td>176</td></tr>",
                            "<tr><td>Hotel Három Hattyú</td><td>2017-02-04</td><td>179</td></tr>",
                            "<tr><td>Hotel Három Hattyú</td><td>2017-02-04</td><td>179</td></tr>",
                            "<tr><td>Hotel Három Hattyú</td><td>2017-02-04</td><td>179</td></tr>",
                            "<tr><td>Hotel Három Hattyú</td><td>2017-02-05</td><td>182</td></tr>",
                            "<tr><td>Hotel Három Hattyú</td><td>2017-02-05</td><td>182</td></tr>",
                            "<tr><td>Hotel Három Hattyú</td><td>2017-02-05</td><td>182</td></tr>",
                            "<tr><td>Hotel Három Hattyú</td><td>2017-02-08</td><td>184</td></tr>",
                            "<tr><td>Hotel Három Hattyú</td><td>2017-02-08</td><td>184</td></tr>",
                            "<tr><td>Hotel Három Hattyú</td><td>2017-02-10</td><td>185</td></tr>",
                            "<tr><td>Hotel Három Hattyú</td><td>2017-02-12</td><td>188</td></tr>",
                            "<tr><td>Hotel Három Hattyú</td><td>2017-02-12</td><td>188</td></tr>",
                            "<tr><td>Hotel Három Hattyú</td><td>2017-02-12</td><td>188</td></tr>",
                            "<tr><td>Hotel Három Hattyú</td><td>2017-02-13</td><td>192</td></tr>",
                            "<tr><td>Hotel Három Hattyú</td><td>2017-02-13</td><td>192</td></tr>",
                            "<tr><td>Hotel Három Hattyú</td><td>2017-02-13</td><td>192</td></tr>",
                            "<tr><td>Hotel Három Hattyú</td><td>2017-02-13</td><td>192</td></tr>",
                            "<tr><td>Hotel Három Hattyú</td><td>2017-02-14</td><td>193</td></tr>",
                            "<tr><td>Hotel Három Hattyú</td><td>2017-02-16</td><td>195</td></tr>",
                            "<tr><td>Hotel Három Hattyú</td><td>2017-02-16</td><td>195</td></tr>",
                            "<tr><td>Hotel Három Hattyú</td><td>2017-02-20</td><td>197</td></tr>",
                            "<tr><td>Hotel Három Hattyú</td><td>2017-02-20</td><td>197</td></tr>",
                            "<tr><td>Hotel Három Hattyú</td><td>2017-02-23</td><td>199</td></tr>",
                            "<tr><td>Hotel Három Hattyú</td><td>2017-02-23</td><td>199</td></tr>",
                            "<tr><td>Hotel Három Hattyú</td><td>2017-02-24</td><td>201</td></tr>",
                            "<tr><td>Hotel Három Hattyú</td><td>2017-02-24</td><td>201</td></tr>",
                            "<tr><td>Hotel Három Hattyú</td><td>2017-02-26</td><td>202</td></tr>",
                            "<tr><td>Hotel Három Hattyú</td><td>2017-02-28</td><td>203</td></tr>",
                            "<tr><td>Hotel Három Hattyú</td><td>2017-03-03</td><td>204</td></tr>",
                            "<tr><td>Jáde panzió</td><td>2016-04-06</td><td>1</td></tr>",
                            "<tr><td>Jáde panzió</td><td>2016-04-14</td><td>2</td></tr>",
                            "<tr><td>Jáde panzió</td><td>2016-05-01</td><td>3</td></tr>",
                            "<tr><td>Jáde panzió</td><td>2016-05-04</td><td>4</td></tr>",
                            "<tr><td>Jáde panzió</td><td>2016-05-18</td><td>5</td></tr>",
                            "<tr><td>Jáde panzió</td><td>2016-05-30</td><td>6</td></tr>",
                            "<tr><td>Jáde panzió</td><td>2016-06-06</td><td>8</td></tr>",
                            "<tr><td>Jáde panzió</td><td>2016-06-06</td><td>8</td></tr>",
                            "<tr><td>Jáde panzió</td><td>2016-06-27</td><td>9</td></tr>",
                            "<tr><td>Jáde panzió</td><td>2016-07-01</td><td>10</td></tr>",
                            "<tr><td>Jáde panzió</td><td>2016-07-03</td><td>11</td></tr>",
                            "<tr><td>Jáde panzió</td><td>2016-07-11</td><td>12</td></tr>",
                            "<tr><td>Jáde panzió</td><td>2016-08-06</td><td>13</td></tr>",
                            "<tr><td>Jáde panzió</td><td>2016-08-15</td><td>14</td></tr>",
                            "<tr><td>Jáde panzió</td><td>2016-09-09</td><td>15</td></tr>",
                            "<tr><td>Jáde panzió</td><td>2016-09-12</td><td>16</td></tr>",
                            "<tr><td>Jáde panzió</td><td>2016-09-30</td><td>17</td></tr>",
                            "<tr><td>Jáde panzió</td><td>2016-10-01</td><td>18</td></tr>",
                            "<tr><td>Jáde panzió</td><td>2016-10-12</td><td>19</td></tr>",
                            "<tr><td>Jáde panzió</td><td>2016-10-22</td><td>20</td></tr>",
                            "<tr><td>Jáde panzió</td><td>2016-10-30</td><td>21</td></tr>",
                            "<tr><td>Jáde panzió</td><td>2016-11-22</td><td>23</td></tr>",
                            "<tr><td>Jáde panzió</td><td>2016-11-22</td><td>23</td></tr>",
                            "<tr><td>Jáde panzió</td><td>2016-12-15</td><td>24</td></tr>",
                            "<tr><td>Jáde panzió</td><td>2017-01-01</td><td>25</td></tr>",
                            "<tr><td>Jáde panzió</td><td>2017-01-25</td><td>26</td></tr>",
                            "<tr><td>Jáde panzió</td><td>2017-01-26</td><td>27</td></tr>",
                            "<tr><td>Jáde panzió</td><td>2017-02-12</td><td>28</td></tr>",
                            "<tr><td>Jáde panzió</td><td>2017-02-15</td><td>29</td></tr>",
                            "<tr><td>Kentaur Hotel</td><td>2016-04-07</td><td>1</td></tr>",
                            "<tr><td>Kentaur Hotel</td><td>2016-04-10</td><td>3</td></tr>",
                            "<tr><td>Kentaur Hotel</td><td>2016-04-10</td><td>3</td></tr>",
                            "<tr><td>Kentaur Hotel</td><td>2016-04-16</td><td>4</td></tr>",
                            "<tr><td>Kentaur Hotel</td><td>2016-04-17</td><td>5</td></tr>",
                            "<tr><td>Kentaur Hotel</td><td>2016-04-21</td><td>6</td></tr>",
                            "<tr><td>Kentaur Hotel</td><td>2016-04-22</td><td>7</td></tr>",
                            "<tr><td>Kentaur Hotel</td><td>2016-05-07</td><td>8</td></tr>",
                            "<tr><td>Kentaur Hotel</td><td>2016-05-08</td><td>9</td></tr>",
                            "<tr><td>Kentaur Hotel</td><td>2016-05-12</td><td>10</td></tr>",
                            "<tr><td>Kentaur Hotel</td><td>2016-05-13</td><td>11</td></tr>",
                            "<tr><td>Kentaur Hotel</td><td>2016-05-14</td><td>13</td></tr>",
                            "<tr><td>Kentaur Hotel</td><td>2016-05-14</td><td>13</td></tr>",
                            "<tr><td>Kentaur Hotel</td><td>2016-05-17</td><td>14</td></tr>",
                            "<tr><td>Kentaur Hotel</td><td>2016-05-24</td><td>15</td></tr>",
                            "<tr><td>Kentaur Hotel</td><td>2016-05-27</td><td>17</td></tr>",
                            "<tr><td>Kentaur Hotel</td><td>2016-05-27</td><td>17</td></tr>",
                            "<tr><td>Kentaur Hotel</td><td>2016-05-28</td><td>19</td></tr>",
                            "<tr><td>Kentaur Hotel</td><td>2016-05-28</td><td>19</td></tr>",
                            "<tr><td>Kentaur Hotel</td><td>2016-05-29</td><td>20</td></tr>",
                            "<tr><td>Kentaur Hotel</td><td>2016-05-30</td><td>25</td></tr>",
                            "<tr><td>Kentaur Hotel</td><td>2016-05-30</td><td>25</td></tr>",
                            "<tr><td>Kentaur Hotel</td><td>2016-05-30</td><td>25</td></tr>",
                            "<tr><td>Kentaur Hotel</td><td>2016-05-30</td><td>25</td></tr>",
                            "<tr><td>Kentaur Hotel</td><td>2016-05-30</td><td>25</td></tr>",
                            "<tr><td>Kentaur Hotel</td><td>2016-05-31</td><td>26</td></tr>",
                            "<tr><td>Kentaur Hotel</td><td>2016-06-01</td><td>27</td></tr>",
                            "<tr><td>Kentaur Hotel</td><td>2016-06-02</td><td>29</td></tr>",
                            "<tr><td>Kentaur Hotel</td><td>2016-06-02</td><td>29</td></tr>",
                            "<tr><td>Kentaur Hotel</td><td>2016-06-04</td><td>30</td></tr>",
                            "<tr><td>Kentaur Hotel</td><td>2016-06-07</td><td>31</td></tr>",
                            "<tr><td>Kentaur Hotel</td><td>2016-06-08</td><td>33</td></tr>",
                            "<tr><td>Kentaur Hotel</td><td>2016-06-08</td><td>33</td></tr>",
                            "<tr><td>Kentaur Hotel</td><td>2016-06-09</td><td>35</td></tr>",
                            "<tr><td>Kentaur Hotel</td><td>2016-06-09</td><td>35</td></tr>",
                            "<tr><td>Kentaur Hotel</td><td>2016-06-10</td><td>36</td></tr>",
                            "<tr><td>Kentaur Hotel</td><td>2016-06-13</td><td>37</td></tr>",
                            "<tr><td>Kentaur Hotel</td><td>2016-06-16</td><td>39</td></tr>",
                            "<tr><td>Kentaur Hotel</td><td>2016-06-16</td><td>39</td></tr>",
                            "<tr><td>Kentaur Hotel</td><td>2016-06-22</td><td>40</td></tr>",
                            "<tr><td>Kentaur Hotel</td><td>2016-06-23</td><td>42</td></tr>",
                            "<tr><td>Kentaur Hotel</td><td>2016-06-23</td><td>42</td></tr>",
                            "<tr><td>Kentaur Hotel</td><td>2016-06-26</td><td>43</td></tr>",
                            "<tr><td>Kentaur Hotel</td><td>2016-06-30</td><td>44</td></tr>",
                            "<tr><td>Kentaur Hotel</td><td>2016-07-01</td><td>46</td></tr>",
                            "<tr><td>Kentaur Hotel</td><td>2016-07-01</td><td>46</td></tr>",
                            "<tr><td>Kentaur Hotel</td><td>2016-07-03</td><td>47</td></tr>",
                            "<tr><td>Kentaur Hotel</td><td>2016-07-04</td><td>48</td></tr>",
                            "<tr><td>Kentaur Hotel</td><td>2016-07-06</td><td>49</td></tr>",
                            "<tr><td>Kentaur Hotel</td><td>2016-07-12</td><td>50</td></tr>",
                            "<tr><td>Kentaur Hotel</td><td>2016-07-13</td><td>51</td></tr>",
                            "<tr><td>Kentaur Hotel</td><td>2016-07-14</td><td>52</td></tr>",
                            "<tr><td>Kentaur Hotel</td><td>2016-07-15</td><td>53</td></tr>",
                            "<tr><td>Kentaur Hotel</td><td>2016-07-16</td><td>54</td></tr>",
                            "<tr><td>Kentaur Hotel</td><td>2016-07-18</td><td>56</td></tr>",
                            "<tr><td>Kentaur Hotel</td><td>2016-07-18</td><td>56</td></tr>",
                            "<tr><td>Kentaur Hotel</td><td>2016-07-20</td><td>58</td></tr>",
                            "<tr><td>Kentaur Hotel</td><td>2016-07-20</td><td>58</td></tr>",
                            "<tr><td>Kentaur Hotel</td><td>2016-07-21</td><td>60</td></tr>",
                            "<tr><td>Kentaur Hotel</td><td>2016-07-21</td><td>60</td></tr>",
                            "<tr><td>Kentaur Hotel</td><td>2016-07-22</td><td>61</td></tr>",
                            "<tr><td>Kentaur Hotel</td><td>2016-07-24</td><td>62</td></tr>",
                            "<tr><td>Kentaur Hotel</td><td>2016-07-25</td><td>63</td></tr>",
                            "<tr><td>Kentaur Hotel</td><td>2016-07-27</td><td>64</td></tr>",
                            "<tr><td>Kentaur Hotel</td><td>2016-07-28</td><td>65</td></tr>",
                            "<tr><td>Kentaur Hotel</td><td>2016-07-29</td><td>66</td></tr>",
                            "<tr><td>Kentaur Hotel</td><td>2016-08-05</td><td>67</td></tr>",
                            "<tr><td>Kentaur Hotel</td><td>2016-08-12</td><td>69</td></tr>",
                            "<tr><td>Kentaur Hotel</td><td>2016-08-12</td><td>69</td></tr>",
                            "<tr><td>Kentaur Hotel</td><td>2016-08-16</td><td>70</td></tr>",
                            "<tr><td>Kentaur Hotel</td><td>2016-08-18</td><td>72</td></tr>",
                            "<tr><td>Kentaur Hotel</td><td>2016-08-18</td><td>72</td></tr>",
                            "<tr><td>Kentaur Hotel</td><td>2016-08-23</td><td>73</td></tr>",
                            "<tr><td>Kentaur Hotel</td><td>2016-08-24</td><td>76</td></tr>",
                            "<tr><td>Kentaur Hotel</td><td>2016-08-24</td><td>76</td></tr>",
                            "<tr><td>Kentaur Hotel</td><td>2016-08-24</td><td>76</td></tr>",
                            "<tr><td>Kentaur Hotel</td><td>2016-08-28</td><td>77</td></tr>",
                            "<tr><td>Kentaur Hotel</td><td>2016-08-29</td><td>78</td></tr>",
                            "<tr><td>Kentaur Hotel</td><td>2016-09-02</td><td>79</td></tr>",
                            "<tr><td>Kentaur Hotel</td><td>2016-09-03</td><td>80</td></tr>",
                            "<tr><td>Kentaur Hotel</td><td>2016-09-15</td><td>82</td></tr>",
                            "<tr><td>Kentaur Hotel</td><td>2016-09-15</td><td>82</td></tr>",
                            "<tr><td>Kentaur Hotel</td><td>2016-09-18</td><td>83</td></tr>",
                            "<tr><td>Kentaur Hotel</td><td>2016-09-20</td><td>84</td></tr>",
                            "<tr><td>Kentaur Hotel</td><td>2016-09-25</td><td>85</td></tr>",
                            "<tr><td>Kentaur Hotel</td><td>2016-09-26</td><td>86</td></tr>",
                            "<tr><td>Kentaur Hotel</td><td>2016-09-28</td><td>88</td></tr>",
                            "<tr><td>Kentaur Hotel</td><td>2016-09-28</td><td>88</td></tr>",
                            "<tr><td>Kentaur Hotel</td><td>2016-09-30</td><td>91</td></tr>",
                            "<tr><td>Kentaur Hotel</td><td>2016-09-30</td><td>91</td></tr>",
                            "<tr><td>Kentaur Hotel</td><td>2016-09-30</td><td>91</td></tr>",
                            "<tr><td>Kentaur Hotel</td><td>2016-10-01</td><td>93</td></tr>",
                            "<tr><td>Kentaur Hotel</td><td>2016-10-01</td><td>93</td></tr>",
                            "<tr><td>Kentaur Hotel</td><td>2016-10-04</td><td>94</td></tr>",
                            "<tr><td>Kentaur Hotel</td><td>2016-10-05</td><td>95</td></tr>",
                            "<tr><td>Kentaur Hotel</td><td>2016-10-07</td><td>96</td></tr>",
                            "<tr><td>Kentaur Hotel</td><td>2016-10-11</td><td>97</td></tr>",
                            "<tr><td>Kentaur Hotel</td><td>2016-10-16</td><td>98</td></tr>",
                            "<tr><td>Kentaur Hotel</td><td>2016-10-17</td><td>99</td></tr>",
                            "<tr><td>Kentaur Hotel</td><td>2016-10-19</td><td>100</td></tr>",
                            "<tr><td>Kentaur Hotel</td><td>2016-10-20</td><td>101</td></tr>",
                            "<tr><td>Kentaur Hotel</td><td>2016-10-22</td><td>102</td></tr>",
                            "<tr><td>Kentaur Hotel</td><td>2016-10-23</td><td>103</td></tr>",
                            "<tr><td>Kentaur Hotel</td><td>2016-10-25</td><td>104</td></tr>",
                            "<tr><td>Kentaur Hotel</td><td>2016-10-26</td><td>105</td></tr>",
                            "<tr><td>Kentaur Hotel</td><td>2016-10-28</td><td>106</td></tr>",
                            "<tr><td>Kentaur Hotel</td><td>2016-10-29</td><td>107</td></tr>",
                            "<tr><td>Kentaur Hotel</td><td>2016-10-30</td><td>111</td></tr>",
                            "<tr><td>Kentaur Hotel</td><td>2016-10-30</td><td>111</td></tr>",
                            "<tr><td>Kentaur Hotel</td><td>2016-10-30</td><td>111</td></tr>",
                            "<tr><td>Kentaur Hotel</td><td>2016-10-30</td><td>111</td></tr>",
                            "<tr><td>Kentaur Hotel</td><td>2016-10-31</td><td>112</td></tr>",
                            "<tr><td>Kentaur Hotel</td><td>2016-11-01</td><td>113</td></tr>",
                            "<tr><td>Kentaur Hotel</td><td>2016-11-03</td><td>114</td></tr>",
                            "<tr><td>Kentaur Hotel</td><td>2016-11-05</td><td>115</td></tr>",
                            "<tr><td>Kentaur Hotel</td><td>2016-11-06</td><td>116</td></tr>",
                            "<tr><td>Kentaur Hotel</td><td>2016-11-07</td><td>118</td></tr>",
                            "<tr><td>Kentaur Hotel</td><td>2016-11-07</td><td>118</td></tr>",
                            "<tr><td>Kentaur Hotel</td><td>2016-11-08</td><td>119</td></tr>",
                            "<tr><td>Kentaur Hotel</td><td>2016-11-09</td><td>120</td></tr>",
                            "<tr><td>Kentaur Hotel</td><td>2016-11-10</td><td>121</td></tr>",
                            "<tr><td>Kentaur Hotel</td><td>2016-11-12</td><td>122</td></tr>",
                            "<tr><td>Kentaur Hotel</td><td>2016-11-14</td><td>123</td></tr>",
                            "<tr><td>Kentaur Hotel</td><td>2016-11-15</td><td>124</td></tr>",
                            "<tr><td>Kentaur Hotel</td><td>2016-11-16</td><td>125</td></tr>",
                            "<tr><td>Kentaur Hotel</td><td>2016-11-17</td><td>126</td></tr>",
                            "<tr><td>Kentaur Hotel</td><td>2016-11-19</td><td>127</td></tr>",
                            "<tr><td>Kentaur Hotel</td><td>2016-11-23</td><td>128</td></tr>",
                            "<tr><td>Kentaur Hotel</td><td>2016-11-25</td><td>129</td></tr>",
                            "<tr><td>Kentaur Hotel</td><td>2016-11-26</td><td>130</td></tr>",
                            "<tr><td>Kentaur Hotel</td><td>2016-11-27</td><td>132</td></tr>",
                            "<tr><td>Kentaur Hotel</td><td>2016-11-27</td><td>132</td></tr>",
                            "<tr><td>Kentaur Hotel</td><td>2016-11-28</td><td>134</td></tr>",
                            "<tr><td>Kentaur Hotel</td><td>2016-11-28</td><td>134</td></tr>",
                            "<tr><td>Kentaur Hotel</td><td>2016-11-29</td><td>135</td></tr>",
                            "<tr><td>Kentaur Hotel</td><td>2016-11-30</td><td>136</td></tr>",
                            "<tr><td>Kentaur Hotel</td><td>2016-12-04</td><td>137</td></tr>",
                            "<tr><td>Kentaur Hotel</td><td>2016-12-05</td><td>138</td></tr>",
                            "<tr><td>Kentaur Hotel</td><td>2016-12-06</td><td>139</td></tr>",
                            "<tr><td>Kentaur Hotel</td><td>2016-12-15</td><td>140</td></tr>",
                            "<tr><td>Kentaur Hotel</td><td>2016-12-16</td><td>141</td></tr>",
                            "<tr><td>Kentaur Hotel</td><td>2016-12-17</td><td>143</td></tr>",
                            "<tr><td>Kentaur Hotel</td><td>2016-12-17</td><td>143</td></tr>",
                            "<tr><td>Kentaur Hotel</td><td>2016-12-19</td><td>144</td></tr>",
                            "<tr><td>Kentaur Hotel</td><td>2016-12-22</td><td>146</td></tr>",
                            "<tr><td>Kentaur Hotel</td><td>2016-12-22</td><td>146</td></tr>",
                            "<tr><td>Kentaur Hotel</td><td>2016-12-24</td><td>147</td></tr>",
                            "<tr><td>Kentaur Hotel</td><td>2016-12-25</td><td>149</td></tr>",
                            "<tr><td>Kentaur Hotel</td><td>2016-12-25</td><td>149</td></tr>",
                            "<tr><td>Kentaur Hotel</td><td>2016-12-29</td><td>150</td></tr>",
                            "<tr><td>Kentaur Hotel</td><td>2017-01-01</td><td>151</td></tr>",
                            "<tr><td>Kentaur Hotel</td><td>2017-01-09</td><td>152</td></tr>",
                            "<tr><td>Kentaur Hotel</td><td>2017-01-10</td><td>153</td></tr>",
                            "<tr><td>Kentaur Hotel</td><td>2017-01-15</td><td>154</td></tr>",
                            "<tr><td>Kentaur Hotel</td><td>2017-01-16</td><td>157</td></tr>",
                            "<tr><td>Kentaur Hotel</td><td>2017-01-16</td><td>157</td></tr>",
                            "<tr><td>Kentaur Hotel</td><td>2017-01-16</td><td>157</td></tr>",
                            "<tr><td>Kentaur Hotel</td><td>2017-01-17</td><td>158</td></tr>",
                            "<tr><td>Kentaur Hotel</td><td>2017-01-19</td><td>160</td></tr>",
                            "<tr><td>Kentaur Hotel</td><td>2017-01-19</td><td>160</td></tr>",
                            "<tr><td>Kentaur Hotel</td><td>2017-01-22</td><td>164</td></tr>",
                            "<tr><td>Kentaur Hotel</td><td>2017-01-22</td><td>164</td></tr>",
                            "<tr><td>Kentaur Hotel</td><td>2017-01-22</td><td>164</td></tr>",
                            "<tr><td>Kentaur Hotel</td><td>2017-01-22</td><td>164</td></tr>",
                            "<tr><td>Kentaur Hotel</td><td>2017-01-28</td><td>165</td></tr>",
                            "<tr><td>Kentaur Hotel</td><td>2017-02-04</td><td>166</td></tr>",
                            "<tr><td>Kentaur Hotel</td><td>2017-02-06</td><td>168</td></tr>",
                            "<tr><td>Kentaur Hotel</td><td>2017-02-06</td><td>168</td></tr>",
                            "<tr><td>Kentaur Hotel</td><td>2017-02-08</td><td>169</td></tr>",
                            "<tr><td>Kentaur Hotel</td><td>2017-02-12</td><td>170</td></tr>",
                            "<tr><td>Kentaur Hotel</td><td>2017-02-14</td><td>171</td></tr>",
                            "<tr><td>Kentaur Hotel</td><td>2017-02-18</td><td>172</td></tr>",
                            "<tr><td>Kentaur Hotel</td><td>2017-02-21</td><td>173</td></tr>",
                            "<tr><td>Kentaur Hotel</td><td>2017-02-23</td><td>174</td></tr>",
                            "<tr><td>Kentaur Hotel</td><td>2017-02-26</td><td>175</td></tr>",
                            "<tr><td>Kentaur Hotel</td><td>2017-02-27</td><td>176</td></tr>",
                            "<tr><td>Kentaur Hotel</td><td>2017-03-01</td><td>177</td></tr>",
                            "<tr><td>Kentaur Hotel</td><td>2017-03-02</td><td>178</td></tr>",
                            "<tr><td>Kentaur Hotel</td><td>2017-03-03</td><td>179</td></tr>",
                            "<tr><td>Lagúna Hotel</td><td>2016-04-08</td><td>1</td></tr>",
                            "<tr><td>Lagúna Hotel</td><td>2016-04-10</td><td>2</td></tr>",
                            "<tr><td>Lagúna Hotel</td><td>2016-04-12</td><td>3</td></tr>",
                            "<tr><td>Lagúna Hotel</td><td>2016-04-14</td><td>4</td></tr>",
                            "<tr><td>Lagúna Hotel</td><td>2016-04-15</td><td>5</td></tr>",
                            "<tr><td>Lagúna Hotel</td><td>2016-04-16</td><td>6</td></tr>",
                            "<tr><td>Lagúna Hotel</td><td>2016-04-17</td><td>7</td></tr>",
                            "<tr><td>Lagúna Hotel</td><td>2016-04-19</td><td>8</td></tr>",
                            "<tr><td>Lagúna Hotel</td><td>2016-04-20</td><td>9</td></tr>",
                            "<tr><td>Lagúna Hotel</td><td>2016-04-22</td><td>10</td></tr>",
                            "<tr><td>Lagúna Hotel</td><td>2016-05-13</td><td>11</td></tr>",
                            "<tr><td>Lagúna Hotel</td><td>2016-05-16</td><td>12</td></tr>",
                            "<tr><td>Lagúna Hotel</td><td>2016-05-17</td><td>13</td></tr>",
                            "<tr><td>Lagúna Hotel</td><td>2016-05-18</td><td>14</td></tr>",
                            "<tr><td>Lagúna Hotel</td><td>2016-05-20</td><td>15</td></tr>",
                            "<tr><td>Lagúna Hotel</td><td>2016-05-21</td><td>16</td></tr>",
                            "<tr><td>Lagúna Hotel</td><td>2016-06-02</td><td>17</td></tr>",
                            "<tr><td>Lagúna Hotel</td><td>2016-06-03</td><td>18</td></tr>",
                            "<tr><td>Lagúna Hotel</td><td>2016-06-05</td><td>20</td></tr>",
                            "<tr><td>Lagúna Hotel</td><td>2016-06-05</td><td>20</td></tr>",
                            "<tr><td>Lagúna Hotel</td><td>2016-06-06</td><td>21</td></tr>",
                            "<tr><td>Lagúna Hotel</td><td>2016-06-13</td><td>22</td></tr>",
                            "<tr><td>Lagúna Hotel</td><td>2016-06-16</td><td>23</td></tr>",
                            "<tr><td>Lagúna Hotel</td><td>2016-06-17</td><td>24</td></tr>",
                            "<tr><td>Lagúna Hotel</td><td>2016-06-23</td><td>25</td></tr>",
                            "<tr><td>Lagúna Hotel</td><td>2016-07-06</td><td>26</td></tr>",
                            "<tr><td>Lagúna Hotel</td><td>2016-07-12</td><td>27</td></tr>",
                            "<tr><td>Lagúna Hotel</td><td>2016-07-13</td><td>28</td></tr>",
                            "<tr><td>Lagúna Hotel</td><td>2016-07-17</td><td>29</td></tr>",
                            "<tr><td>Lagúna Hotel</td><td>2016-07-20</td><td>30</td></tr>",
                            "<tr><td>Lagúna Hotel</td><td>2016-07-22</td><td>31</td></tr>",
                            "<tr><td>Lagúna Hotel</td><td>2016-07-27</td><td>32</td></tr>",
                            "<tr><td>Lagúna Hotel</td><td>2016-07-28</td><td>34</td></tr>",
                            "<tr><td>Lagúna Hotel</td><td>2016-07-28</td><td>34</td></tr>",
                            "<tr><td>Lagúna Hotel</td><td>2016-08-01</td><td>35</td></tr>",
                            "<tr><td>Lagúna Hotel</td><td>2016-08-03</td><td>36</td></tr>",
                            "<tr><td>Lagúna Hotel</td><td>2016-08-06</td><td>37</td></tr>",
                            "<tr><td>Lagúna Hotel</td><td>2016-08-09</td><td>38</td></tr>",
                            "<tr><td>Lagúna Hotel</td><td>2016-08-12</td><td>40</td></tr>",
                            "<tr><td>Lagúna Hotel</td><td>2016-08-12</td><td>40</td></tr>",
                            "<tr><td>Lagúna Hotel</td><td>2016-08-16</td><td>43</td></tr>",
                            "<tr><td>Lagúna Hotel</td><td>2016-08-16</td><td>43</td></tr>",
                            "<tr><td>Lagúna Hotel</td><td>2016-08-16</td><td>43</td></tr>",
                            "<tr><td>Lagúna Hotel</td><td>2016-08-17</td><td>44</td></tr>",
                            "<tr><td>Lagúna Hotel</td><td>2016-08-20</td><td>45</td></tr>",
                            "<tr><td>Lagúna Hotel</td><td>2016-08-23</td><td>47</td></tr>",
                            "<tr><td>Lagúna Hotel</td><td>2016-08-23</td><td>47</td></tr>",
                            "<tr><td>Lagúna Hotel</td><td>2016-08-25</td><td>48</td></tr>",
                            "<tr><td>Lagúna Hotel</td><td>2016-08-28</td><td>49</td></tr>",
                            "<tr><td>Lagúna Hotel</td><td>2016-08-29</td><td>50</td></tr>",
                            "<tr><td>Lagúna Hotel</td><td>2016-08-30</td><td>51</td></tr>",
                            "<tr><td>Lagúna Hotel</td><td>2016-09-01</td><td>52</td></tr>",
                            "<tr><td>Lagúna Hotel</td><td>2016-09-05</td><td>54</td></tr>",
                            "<tr><td>Lagúna Hotel</td><td>2016-09-05</td><td>54</td></tr>",
                            "<tr><td>Lagúna Hotel</td><td>2016-09-10</td><td>55</td></tr>",
                            "<tr><td>Lagúna Hotel</td><td>2016-09-12</td><td>56</td></tr>",
                            "<tr><td>Lagúna Hotel</td><td>2016-09-13</td><td>57</td></tr>",
                            "<tr><td>Lagúna Hotel</td><td>2016-09-16</td><td>58</td></tr>",
                            "<tr><td>Lagúna Hotel</td><td>2016-09-17</td><td>59</td></tr>",
                            "<tr><td>Lagúna Hotel</td><td>2016-09-18</td><td>60</td></tr>",
                            "<tr><td>Lagúna Hotel</td><td>2016-09-23</td><td>61</td></tr>",
                            "<tr><td>Lagúna Hotel</td><td>2016-09-29</td><td>62</td></tr>",
                            "<tr><td>Lagúna Hotel</td><td>2016-10-01</td><td>66</td></tr>",
                            "<tr><td>Lagúna Hotel</td><td>2016-10-01</td><td>66</td></tr>",
                            "<tr><td>Lagúna Hotel</td><td>2016-10-01</td><td>66</td></tr>",
                            "<tr><td>Lagúna Hotel</td><td>2016-10-01</td><td>66</td></tr>",
                            "<tr><td>Lagúna Hotel</td><td>2016-10-02</td><td>67</td></tr>",
                            "<tr><td>Lagúna Hotel</td><td>2016-10-03</td><td>68</td></tr>",
                            "<tr><td>Lagúna Hotel</td><td>2016-10-04</td><td>69</td></tr>",
                            "<tr><td>Lagúna Hotel</td><td>2016-10-09</td><td>70</td></tr>",
                            "<tr><td>Lagúna Hotel</td><td>2016-10-10</td><td>71</td></tr>",
                            "<tr><td>Lagúna Hotel</td><td>2016-10-15</td><td>73</td></tr>",
                            "<tr><td>Lagúna Hotel</td><td>2016-10-15</td><td>73</td></tr>",
                            "<tr><td>Lagúna Hotel</td><td>2016-10-16</td><td>74</td></tr>",
                            "<tr><td>Lagúna Hotel</td><td>2016-10-19</td><td>75</td></tr>",
                            "<tr><td>Lagúna Hotel</td><td>2016-10-22</td><td>76</td></tr>",
                            "<tr><td>Lagúna Hotel</td><td>2016-10-26</td><td>81</td></tr>",
                            "<tr><td>Lagúna Hotel</td><td>2016-10-26</td><td>81</td></tr>",
                            "<tr><td>Lagúna Hotel</td><td>2016-10-26</td><td>81</td></tr>",
                            "<tr><td>Lagúna Hotel</td><td>2016-10-26</td><td>81</td></tr>",
                            "<tr><td>Lagúna Hotel</td><td>2016-10-26</td><td>81</td></tr>",
                            "<tr><td>Lagúna Hotel</td><td>2016-10-30</td><td>82</td></tr>",
                            "<tr><td>Lagúna Hotel</td><td>2016-11-03</td><td>83</td></tr>",
                            "<tr><td>Lagúna Hotel</td><td>2016-11-06</td><td>85</td></tr>",
                            "<tr><td>Lagúna Hotel</td><td>2016-11-06</td><td>85</td></tr>",
                            "<tr><td>Lagúna Hotel</td><td>2016-11-07</td><td>87</td></tr>",
                            "<tr><td>Lagúna Hotel</td><td>2016-11-07</td><td>87</td></tr>",
                            "<tr><td>Lagúna Hotel</td><td>2016-11-15</td><td>88</td></tr>",
                            "<tr><td>Lagúna Hotel</td><td>2016-11-16</td><td>89</td></tr>",
                            "<tr><td>Lagúna Hotel</td><td>2016-11-18</td><td>90</td></tr>",
                            "<tr><td>Lagúna Hotel</td><td>2016-11-19</td><td>92</td></tr>",
                            "<tr><td>Lagúna Hotel</td><td>2016-11-19</td><td>92</td></tr>",
                            "<tr><td>Lagúna Hotel</td><td>2016-11-23</td><td>94</td></tr>",
                            "<tr><td>Lagúna Hotel</td><td>2016-11-23</td><td>94</td></tr>",
                            "<tr><td>Lagúna Hotel</td><td>2016-12-02</td><td>95</td></tr>",
                            "<tr><td>Lagúna Hotel</td><td>2016-12-10</td><td>96</td></tr>",
                            "<tr><td>Lagúna Hotel</td><td>2016-12-11</td><td>97</td></tr>",
                            "<tr><td>Lagúna Hotel</td><td>2016-12-14</td><td>98</td></tr>",
                            "<tr><td>Lagúna Hotel</td><td>2016-12-17</td><td>101</td></tr>",
                            "<tr><td>Lagúna Hotel</td><td>2016-12-17</td><td>101</td></tr>",
                            "<tr><td>Lagúna Hotel</td><td>2016-12-17</td><td>101</td></tr>",
                            "<tr><td>Lagúna Hotel</td><td>2016-12-25</td><td>102</td></tr>",
                            "<tr><td>Lagúna Hotel</td><td>2016-12-27</td><td>103</td></tr>",
                            "<tr><td>Lagúna Hotel</td><td>2017-01-10</td><td>104</td></tr>",
                            "<tr><td>Lagúna Hotel</td><td>2017-01-11</td><td>105</td></tr>",
                            "<tr><td>Lagúna Hotel</td><td>2017-01-16</td><td>106</td></tr>",
                            "<tr><td>Lagúna Hotel</td><td>2017-01-17</td><td>107</td></tr>",
                            "<tr><td>Lagúna Hotel</td><td>2017-01-21</td><td>108</td></tr>",
                            "<tr><td>Lagúna Hotel</td><td>2017-01-22</td><td>109</td></tr>",
                            "<tr><td>Lagúna Hotel</td><td>2017-01-23</td><td>111</td></tr>",
                            "<tr><td>Lagúna Hotel</td><td>2017-01-23</td><td>111</td></tr>",
                            "<tr><td>Lagúna Hotel</td><td>2017-01-28</td><td>112</td></tr>",
                            "<tr><td>Lagúna Hotel</td><td>2017-02-03</td><td>113</td></tr>",
                            "<tr><td>Lagúna Hotel</td><td>2017-02-07</td><td>114</td></tr>",
                            "<tr><td>Lagúna Hotel</td><td>2017-02-09</td><td>115</td></tr>",
                            "<tr><td>Lagúna Hotel</td><td>2017-02-16</td><td>117</td></tr>",
                            "<tr><td>Lagúna Hotel</td><td>2017-02-16</td><td>117</td></tr>",
                            "<tr><td>Lagúna Hotel</td><td>2017-02-17</td><td>118</td></tr>",
                            "<tr><td>Lagúna Hotel</td><td>2017-02-19</td><td>119</td></tr>",
                            "<tr><td>Lagúna Hotel</td><td>2017-02-21</td><td>120</td></tr>",
                            "<tr><td>Lagúna Hotel</td><td>2017-02-23</td><td>121</td></tr>",
                            "<tr><td>Lagúna Hotel</td><td>2017-02-25</td><td>122</td></tr>",
                            "<tr><td>Lagúna Hotel</td><td>2017-02-27</td><td>123</td></tr>",
                            "<tr><td>Partiszél Vendégház</td><td>2016-04-10</td><td>1</td></tr>",
                            "<tr><td>Partiszél Vendégház</td><td>2016-04-24</td><td>2</td></tr>",
                            "<tr><td>Partiszél Vendégház</td><td>2016-05-09</td><td>3</td></tr>",
                            "<tr><td>Partiszél Vendégház</td><td>2016-05-12</td><td>4</td></tr>",
                            "<tr><td>Partiszél Vendégház</td><td>2016-05-18</td><td>5</td></tr>",
                            "<tr><td>Partiszél Vendégház</td><td>2016-06-06</td><td>7</td></tr>",
                            "<tr><td>Partiszél Vendégház</td><td>2016-06-06</td><td>7</td></tr>",
                            "<tr><td>Partiszél Vendégház</td><td>2016-06-07</td><td>9</td></tr>",
                            "<tr><td>Partiszél Vendégház</td><td>2016-06-07</td><td>9</td></tr>",
                            "<tr><td>Partiszél Vendégház</td><td>2016-06-10</td><td>10</td></tr>",
                            "<tr><td>Partiszél Vendégház</td><td>2016-07-04</td><td>11</td></tr>",
                            "<tr><td>Partiszél Vendégház</td><td>2016-07-27</td><td>12</td></tr>",
                            "<tr><td>Partiszél Vendégház</td><td>2016-07-31</td><td>13</td></tr>",
                            "<tr><td>Partiszél Vendégház</td><td>2016-08-16</td><td>14</td></tr>",
                            "<tr><td>Partiszél Vendégház</td><td>2016-09-19</td><td>15</td></tr>",
                            "<tr><td>Partiszél Vendégház</td><td>2016-09-23</td><td>16</td></tr>",
                            "<tr><td>Partiszél Vendégház</td><td>2016-10-01</td><td>17</td></tr>",
                            "<tr><td>Partiszél Vendégház</td><td>2016-10-24</td><td>18</td></tr>",
                            "<tr><td>Partiszél Vendégház</td><td>2016-10-27</td><td>19</td></tr>",
                            "<tr><td>Partiszél Vendégház</td><td>2016-11-08</td><td>20</td></tr>",
                            "<tr><td>Partiszél Vendégház</td><td>2016-11-16</td><td>21</td></tr>",
                            "<tr><td>Partiszél Vendégház</td><td>2016-11-19</td><td>22</td></tr>",
                            "<tr><td>Partiszél Vendégház</td><td>2016-12-26</td><td>23</td></tr>",
                            "<tr><td>Partiszél Vendégház</td><td>2017-02-01</td><td>24</td></tr>",
                            "<tr><td>Partiszél Vendégház</td><td>2017-02-23</td><td>25</td></tr>",
                            "<tr><td>Partiszél Vendégház</td><td>2017-02-25</td><td>26</td></tr>",
                            "<tr><td>Sába-Ház</td><td>2016-04-06</td><td>2</td></tr>",
                            "<tr><td>Sába-Ház</td><td>2016-04-06</td><td>2</td></tr>",
                            "<tr><td>Sába-Ház</td><td>2016-04-08</td><td>3</td></tr>",
                            "<tr><td>Sába-Ház</td><td>2016-04-10</td><td>4</td></tr>",
                            "<tr><td>Sába-Ház</td><td>2016-04-29</td><td>5</td></tr>",
                            "<tr><td>Sába-Ház</td><td>2016-05-05</td><td>6</td></tr>",
                            "<tr><td>Sába-Ház</td><td>2016-05-09</td><td>7</td></tr>",
                            "<tr><td>Sába-Ház</td><td>2016-05-17</td><td>8</td></tr>",
                            "<tr><td>Sába-Ház</td><td>2016-05-29</td><td>9</td></tr>",
                            "<tr><td>Sába-Ház</td><td>2016-05-30</td><td>11</td></tr>",
                            "<tr><td>Sába-Ház</td><td>2016-05-30</td><td>11</td></tr>",
                            "<tr><td>Sába-Ház</td><td>2016-06-06</td><td>12</td></tr>",
                            "<tr><td>Sába-Ház</td><td>2016-06-10</td><td>15</td></tr>",
                            "<tr><td>Sába-Ház</td><td>2016-06-10</td><td>15</td></tr>",
                            "<tr><td>Sába-Ház</td><td>2016-06-10</td><td>15</td></tr>",
                            "<tr><td>Sába-Ház</td><td>2016-06-11</td><td>16</td></tr>",
                            "<tr><td>Sába-Ház</td><td>2016-06-16</td><td>17</td></tr>",
                            "<tr><td>Sába-Ház</td><td>2016-06-17</td><td>18</td></tr>",
                            "<tr><td>Sába-Ház</td><td>2016-06-27</td><td>19</td></tr>",
                            "<tr><td>Sába-Ház</td><td>2016-07-02</td><td>20</td></tr>",
                            "<tr><td>Sába-Ház</td><td>2016-07-09</td><td>21</td></tr>",
                            "<tr><td>Sába-Ház</td><td>2016-07-13</td><td>22</td></tr>",
                            "<tr><td>Sába-Ház</td><td>2016-07-20</td><td>24</td></tr>",
                            "<tr><td>Sába-Ház</td><td>2016-07-20</td><td>24</td></tr>",
                            "<tr><td>Sába-Ház</td><td>2016-07-30</td><td>25</td></tr>",
                            "<tr><td>Sába-Ház</td><td>2016-08-06</td><td>26</td></tr>",
                            "<tr><td>Sába-Ház</td><td>2016-08-12</td><td>27</td></tr>",
                            "<tr><td>Sába-Ház</td><td>2016-08-13</td><td>28</td></tr>",
                            "<tr><td>Sába-Ház</td><td>2016-08-16</td><td>30</td></tr>",
                            "<tr><td>Sába-Ház</td><td>2016-08-16</td><td>30</td></tr>",
                            "<tr><td>Sába-Ház</td><td>2016-08-17</td><td>31</td></tr>",
                            "<tr><td>Sába-Ház</td><td>2016-08-20</td><td>32</td></tr>",
                            "<tr><td>Sába-Ház</td><td>2016-08-24</td><td>33</td></tr>",
                            "<tr><td>Sába-Ház</td><td>2016-08-27</td><td>34</td></tr>",
                            "<tr><td>Sába-Ház</td><td>2016-08-28</td><td>35</td></tr>",
                            "<tr><td>Sába-Ház</td><td>2016-09-05</td><td>36</td></tr>",
                            "<tr><td>Sába-Ház</td><td>2016-09-08</td><td>37</td></tr>",
                            "<tr><td>Sába-Ház</td><td>2016-09-14</td><td>38</td></tr>",
                            "<tr><td>Sába-Ház</td><td>2016-09-19</td><td>39</td></tr>",
                            "<tr><td>Sába-Ház</td><td>2016-09-21</td><td>40</td></tr>",
                            "<tr><td>Sába-Ház</td><td>2016-10-01</td><td>42</td></tr>",
                            "<tr><td>Sába-Ház</td><td>2016-10-01</td><td>42</td></tr>",
                            "<tr><td>Sába-Ház</td><td>2016-10-05</td><td>43</td></tr>",
                            "<tr><td>Sába-Ház</td><td>2016-10-07</td><td>44</td></tr>",
                            "<tr><td>Sába-Ház</td><td>2016-10-08</td><td>46</td></tr>",
                            "<tr><td>Sába-Ház</td><td>2016-10-08</td><td>46</td></tr>",
                            "<tr><td>Sába-Ház</td><td>2016-10-09</td><td>48</td></tr>",
                            "<tr><td>Sába-Ház</td><td>2016-10-09</td><td>48</td></tr>",
                            "<tr><td>Sába-Ház</td><td>2016-10-14</td><td>49</td></tr>",
                            "<tr><td>Sába-Ház</td><td>2016-10-15</td><td>51</td></tr>",
                            "<tr><td>Sába-Ház</td><td>2016-10-15</td><td>51</td></tr>",
                            "<tr><td>Sába-Ház</td><td>2016-10-18</td><td>52</td></tr>",
                            "<tr><td>Sába-Ház</td><td>2016-10-21</td><td>53</td></tr>",
                            "<tr><td>Sába-Ház</td><td>2016-10-23</td><td>54</td></tr>",
                            "<tr><td>Sába-Ház</td><td>2016-10-30</td><td>55</td></tr>",
                            "<tr><td>Sába-Ház</td><td>2016-11-01</td><td>56</td></tr>",
                            "<tr><td>Sába-Ház</td><td>2016-11-05</td><td>57</td></tr>",
                            "<tr><td>Sába-Ház</td><td>2016-11-07</td><td>59</td></tr>",
                            "<tr><td>Sába-Ház</td><td>2016-11-07</td><td>59</td></tr>",
                            "<tr><td>Sába-Ház</td><td>2016-11-11</td><td>60</td></tr>",
                            "<tr><td>Sába-Ház</td><td>2016-11-23</td><td>61</td></tr>",
                            "<tr><td>Sába-Ház</td><td>2016-11-25</td><td>62</td></tr>",
                            "<tr><td>Sába-Ház</td><td>2016-12-01</td><td>63</td></tr>",
                            "<tr><td>Sába-Ház</td><td>2017-01-06</td><td>64</td></tr>",
                            "<tr><td>Sába-Ház</td><td>2017-01-09</td><td>65</td></tr>",
                            "<tr><td>Sába-Ház</td><td>2017-01-12</td><td>66</td></tr>",
                            "<tr><td>Sába-Ház</td><td>2017-02-03</td><td>67</td></tr>",
                            "<tr><td>Sába-Ház</td><td>2017-02-12</td><td>68</td></tr>",
                            "<tr><td>Sába-Ház</td><td>2017-02-16</td><td>70</td></tr>",
                            "<tr><td>Sába-Ház</td><td>2017-02-16</td><td>70</td></tr>",
                            "<tr><td>Szieszta Apartmanház</td><td>2016-04-06</td><td>1</td></tr>",
                            "<tr><td>Szieszta Apartmanház</td><td>2016-05-15</td><td>2</td></tr>",
                            "<tr><td>Szieszta Apartmanház</td><td>2016-05-26</td><td>3</td></tr>",
                            "<tr><td>Szieszta Apartmanház</td><td>2016-05-28</td><td>4</td></tr>",
                            "<tr><td>Szieszta Apartmanház</td><td>2016-07-28</td><td>5</td></tr>",
                            "<tr><td>Szieszta Apartmanház</td><td>2016-08-05</td><td>6</td></tr>",
                            "<tr><td>Szieszta Apartmanház</td><td>2016-08-24</td><td>7</td></tr>",
                            "<tr><td>Szieszta Apartmanház</td><td>2016-09-02</td><td>8</td></tr>",
                            "<tr><td>Szieszta Apartmanház</td><td>2016-09-08</td><td>9</td></tr>",
                            "<tr><td>Szieszta Apartmanház</td><td>2016-09-16</td><td>10</td></tr>",
                            "<tr><td>Szieszta Apartmanház</td><td>2016-09-17</td><td>11</td></tr>",
                            "<tr><td>Szieszta Apartmanház</td><td>2016-09-24</td><td>12</td></tr>",
                            "<tr><td>Szieszta Apartmanház</td><td>2016-10-01</td><td>15</td></tr>",
                            "<tr><td>Szieszta Apartmanház</td><td>2016-10-01</td><td>15</td></tr>",
                            "<tr><td>Szieszta Apartmanház</td><td>2016-10-01</td><td>15</td></tr>",
                            "<tr><td>Szieszta Apartmanház</td><td>2016-10-21</td><td>16</td></tr>",
                            "<tr><td>Szieszta Apartmanház</td><td>2016-10-24</td><td>17</td></tr>",
                            "<tr><td>Szieszta Apartmanház</td><td>2016-10-26</td><td>18</td></tr>",
                            "<tr><td>Szieszta Apartmanház</td><td>2016-11-05</td><td>19</td></tr>",
                            "<tr><td>Szieszta Apartmanház</td><td>2016-11-09</td><td>20</td></tr>",
                            "<tr><td>Szieszta Apartmanház</td><td>2016-11-10</td><td>21</td></tr>",
                            "<tr><td>Szieszta Apartmanház</td><td>2016-11-21</td><td>23</td></tr>",
                            "<tr><td>Szieszta Apartmanház</td><td>2016-11-21</td><td>23</td></tr>",
                            "<tr><td>Szieszta Apartmanház</td><td>2016-11-25</td><td>24</td></tr>",
                            "<tr><td>Szieszta Apartmanház</td><td>2016-12-06</td><td>25</td></tr>",
                            "<tr><td>Szieszta Apartmanház</td><td>2016-12-12</td><td>26</td></tr>",
                            "<tr><td>Szieszta Apartmanház</td><td>2016-12-26</td><td>27</td></tr>",
                            "<tr><td>Szieszta Apartmanház</td><td>2016-12-29</td><td>28</td></tr>",
                            "<tr><td>Szieszta Apartmanház</td><td>2017-01-17</td><td>29</td></tr>",
                            "<tr><td>Szieszta Apartmanház</td><td>2017-01-19</td><td>30</td></tr>",
                            "<tr><td>Szieszta Apartmanház</td><td>2017-02-09</td><td>31</td></tr>",
                            "<tr><td>Szieszta Apartmanház</td><td>2017-02-12</td><td>32</td></tr>",
                            "<tr><td>Szieszta Apartmanház</td><td>2017-02-18</td><td>33</td></tr>",
                            "<tr><td>Szieszta Apartmanház</td><td>2017-02-26</td><td>34</td></tr>",
                            "</table>"
                        ]
                    }
                }
            ],
            "execution_count": 5
        },
        {
            "cell_type": "code",
            "source": [
                "select iif(year(szuldat) is null, 'Végösszeg', cast(year(szuldat) as nvarchar(10))), count(*)\r\n",
                "FROM vendeg\r\n",
                "where year(szuldat) %2 !=0\r\n",
                "group by count(*)"
            ],
            "metadata": {
                "azdata_cell_guid": "2551f59c-ffdb-4775-9862-e564b77639fe",
                "language": "sql",
                "tags": []
            },
            "outputs": [],
            "execution_count": null
        }
    ]
}