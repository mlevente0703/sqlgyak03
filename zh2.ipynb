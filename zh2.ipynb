{
    "metadata": {
        "kernelspec": {
            "name": "SQL",
            "display_name": "SQL",
            "language": "sql"
        },
        "language_info": {
            "name": "sql",
            "version": ""
        }
    },
    "nbformat_minor": 2,
    "nbformat": 4,
    "cells": [
        {
            "cell_type": "markdown",
            "source": [
                "Listázzuk a foglalások számát szobánként, azon belül a foglalás éve szerint csoportosítva!\n",
                "\n",
                "- Az évnél a Mettől oszlopot használjuk\n",
                "- Jelenítsük meg a részösszegeket és a végösszeget is úgy, hogy ne jelenjen meg minden Oszlop/NULL kombináció!\n",
                "- A részösszegeket jelöljük megfelelően, pl. Részösszeg vagy Szoba összesen"
            ],
            "metadata": {
                "language": "sql",
                "azdata_cell_guid": "a5976ec6-642c-457c-890e-6e05d5021b68"
            },
            "attachments": {}
        },
        {
            "cell_type": "code",
            "source": [
                "SELECT iif(GROUPING_ID(YEAR(METTOL))=1, 'Szoba összesen', CAST(YEAR(METTOL) as NVARCHAR(4))) as 'Év',\r\n",
                "        case when GROUPING_ID(YEAR(METTOL),SZOBA_FK)=1 then 'Részösszeg'\r\n",
                "            when GROUPING_ID(YEAR(METTOL),SZOBA_FK)=3 then 'Szoba összesen'\r\n",
                "            else SZOBA_FK\r\n",
                "        end as 'Szoba',\r\n",
                "        count(*) as 'Darab'\r\n",
                "\r\n",
                "From Foglalas\r\n",
                "GROUP BY rollup(SZOBA_FK,year(METTOL))"
            ],
            "metadata": {
                "language": "sql",
                "azdata_cell_guid": "956f9563-8a55-4bac-ae8b-bbc89a5163d7"
            },
            "outputs": [
                {
                    "output_type": "display_data",
                    "data": {
                        "text/html": "Total execution time: 00:00:00.013"
                    },
                    "metadata": {}
                },
                {
                    "output_type": "execute_result",
                    "metadata": {},
                    "execution_count": 15,
                    "data": {
                        "application/vnd.dataresource+json": {
                            "schema": {
                                "fields": [
                                    {
                                        "name": "Év"
                                    },
                                    {
                                        "name": "Szoba"
                                    },
                                    {
                                        "name": "(No column name)"
                                    }
                                ]
                            },
                            "data": [
                                {
                                    "Év": "2016",
                                    "Szoba": "1",
                                    "(No column name)": "8"
                                },
                                {
                                    "Év": "Szoba összesen",
                                    "Szoba": "1",
                                    "(No column name)": "8"
                                },
                                {
                                    "Év": "2016",
                                    "Szoba": "2",
                                    "(No column name)": "4"
                                },
                                {
                                    "Év": "Szoba összesen",
                                    "Szoba": "2",
                                    "(No column name)": "4"
                                },
                                {
                                    "Év": "2016",
                                    "Szoba": "3",
                                    "(No column name)": "6"
                                },
                                {
                                    "Év": "2017",
                                    "Szoba": "3",
                                    "(No column name)": "2"
                                },
                                {
                                    "Év": "Szoba összesen",
                                    "Szoba": "3",
                                    "(No column name)": "8"
                                },
                                {
                                    "Év": "2016",
                                    "Szoba": "4",
                                    "(No column name)": "5"
                                },
                                {
                                    "Év": "2017",
                                    "Szoba": "4",
                                    "(No column name)": "1"
                                },
                                {
                                    "Év": "Szoba összesen",
                                    "Szoba": "4",
                                    "(No column name)": "6"
                                },
                                {
                                    "Év": "2016",
                                    "Szoba": "5",
                                    "(No column name)": "4"
                                },
                                {
                                    "Év": "Szoba összesen",
                                    "Szoba": "5",
                                    "(No column name)": "4"
                                },
                                {
                                    "Év": "2016",
                                    "Szoba": "6",
                                    "(No column name)": "6"
                                },
                                {
                                    "Év": "Szoba összesen",
                                    "Szoba": "6",
                                    "(No column name)": "6"
                                },
                                {
                                    "Év": "2016",
                                    "Szoba": "7",
                                    "(No column name)": "6"
                                },
                                {
                                    "Év": "Szoba összesen",
                                    "Szoba": "7",
                                    "(No column name)": "6"
                                },
                                {
                                    "Év": "2016",
                                    "Szoba": "8",
                                    "(No column name)": "5"
                                },
                                {
                                    "Év": "Szoba összesen",
                                    "Szoba": "8",
                                    "(No column name)": "5"
                                },
                                {
                                    "Év": "2016",
                                    "Szoba": "9",
                                    "(No column name)": "4"
                                },
                                {
                                    "Év": "2017",
                                    "Szoba": "9",
                                    "(No column name)": "2"
                                },
                                {
                                    "Év": "Szoba összesen",
                                    "Szoba": "9",
                                    "(No column name)": "6"
                                },
                                {
                                    "Év": "2016",
                                    "Szoba": "10",
                                    "(No column name)": "4"
                                },
                                {
                                    "Év": "Szoba összesen",
                                    "Szoba": "10",
                                    "(No column name)": "4"
                                },
                                {
                                    "Év": "2016",
                                    "Szoba": "11",
                                    "(No column name)": "3"
                                },
                                {
                                    "Év": "2017",
                                    "Szoba": "11",
                                    "(No column name)": "1"
                                },
                                {
                                    "Év": "Szoba összesen",
                                    "Szoba": "11",
                                    "(No column name)": "4"
                                },
                                {
                                    "Év": "2016",
                                    "Szoba": "12",
                                    "(No column name)": "8"
                                },
                                {
                                    "Év": "2017",
                                    "Szoba": "12",
                                    "(No column name)": "1"
                                },
                                {
                                    "Év": "Szoba összesen",
                                    "Szoba": "12",
                                    "(No column name)": "9"
                                },
                                {
                                    "Év": "2016",
                                    "Szoba": "13",
                                    "(No column name)": "3"
                                },
                                {
                                    "Év": "2017",
                                    "Szoba": "13",
                                    "(No column name)": "1"
                                },
                                {
                                    "Év": "Szoba összesen",
                                    "Szoba": "13",
                                    "(No column name)": "4"
                                },
                                {
                                    "Év": "2016",
                                    "Szoba": "14",
                                    "(No column name)": "2"
                                },
                                {
                                    "Év": "2017",
                                    "Szoba": "14",
                                    "(No column name)": "1"
                                },
                                {
                                    "Év": "Szoba összesen",
                                    "Szoba": "14",
                                    "(No column name)": "3"
                                },
                                {
                                    "Év": "2016",
                                    "Szoba": "15",
                                    "(No column name)": "4"
                                },
                                {
                                    "Év": "2017",
                                    "Szoba": "15",
                                    "(No column name)": "2"
                                },
                                {
                                    "Év": "Szoba összesen",
                                    "Szoba": "15",
                                    "(No column name)": "6"
                                },
                                {
                                    "Év": "2016",
                                    "Szoba": "16",
                                    "(No column name)": "4"
                                },
                                {
                                    "Év": "2017",
                                    "Szoba": "16",
                                    "(No column name)": "1"
                                },
                                {
                                    "Év": "Szoba összesen",
                                    "Szoba": "16",
                                    "(No column name)": "5"
                                },
                                {
                                    "Év": "2016",
                                    "Szoba": "17",
                                    "(No column name)": "5"
                                },
                                {
                                    "Év": "2017",
                                    "Szoba": "17",
                                    "(No column name)": "1"
                                },
                                {
                                    "Év": "Szoba összesen",
                                    "Szoba": "17",
                                    "(No column name)": "6"
                                },
                                {
                                    "Év": "2016",
                                    "Szoba": "18",
                                    "(No column name)": "5"
                                },
                                {
                                    "Év": "2017",
                                    "Szoba": "18",
                                    "(No column name)": "1"
                                },
                                {
                                    "Év": "Szoba összesen",
                                    "Szoba": "18",
                                    "(No column name)": "6"
                                },
                                {
                                    "Év": "2016",
                                    "Szoba": "19",
                                    "(No column name)": "5"
                                },
                                {
                                    "Év": "2017",
                                    "Szoba": "19",
                                    "(No column name)": "1"
                                },
                                {
                                    "Év": "Szoba összesen",
                                    "Szoba": "19",
                                    "(No column name)": "6"
                                },
                                {
                                    "Év": "2016",
                                    "Szoba": "20",
                                    "(No column name)": "5"
                                },
                                {
                                    "Év": "Szoba összesen",
                                    "Szoba": "20",
                                    "(No column name)": "5"
                                },
                                {
                                    "Év": "2016",
                                    "Szoba": "21",
                                    "(No column name)": "4"
                                },
                                {
                                    "Év": "Szoba összesen",
                                    "Szoba": "21",
                                    "(No column name)": "4"
                                },
                                {
                                    "Év": "2016",
                                    "Szoba": "22",
                                    "(No column name)": "6"
                                },
                                {
                                    "Év": "Szoba összesen",
                                    "Szoba": "22",
                                    "(No column name)": "6"
                                },
                                {
                                    "Év": "2016",
                                    "Szoba": "23",
                                    "(No column name)": "3"
                                },
                                {
                                    "Év": "Szoba összesen",
                                    "Szoba": "23",
                                    "(No column name)": "3"
                                },
                                {
                                    "Év": "2016",
                                    "Szoba": "24",
                                    "(No column name)": "2"
                                },
                                {
                                    "Év": "2017",
                                    "Szoba": "24",
                                    "(No column name)": "1"
                                },
                                {
                                    "Év": "Szoba összesen",
                                    "Szoba": "24",
                                    "(No column name)": "3"
                                },
                                {
                                    "Év": "2016",
                                    "Szoba": "25",
                                    "(No column name)": "2"
                                },
                                {
                                    "Év": "Szoba összesen",
                                    "Szoba": "25",
                                    "(No column name)": "2"
                                },
                                {
                                    "Év": "2016",
                                    "Szoba": "26",
                                    "(No column name)": "2"
                                },
                                {
                                    "Év": "Szoba összesen",
                                    "Szoba": "26",
                                    "(No column name)": "2"
                                },
                                {
                                    "Év": "2016",
                                    "Szoba": "27",
                                    "(No column name)": "6"
                                },
                                {
                                    "Év": "2017",
                                    "Szoba": "27",
                                    "(No column name)": "1"
                                },
                                {
                                    "Év": "Szoba összesen",
                                    "Szoba": "27",
                                    "(No column name)": "7"
                                },
                                {
                                    "Év": "2016",
                                    "Szoba": "28",
                                    "(No column name)": "5"
                                },
                                {
                                    "Év": "2017",
                                    "Szoba": "28",
                                    "(No column name)": "1"
                                },
                                {
                                    "Év": "Szoba összesen",
                                    "Szoba": "28",
                                    "(No column name)": "6"
                                },
                                {
                                    "Év": "2016",
                                    "Szoba": "29",
                                    "(No column name)": "5"
                                },
                                {
                                    "Év": "2017",
                                    "Szoba": "29",
                                    "(No column name)": "1"
                                },
                                {
                                    "Év": "Szoba összesen",
                                    "Szoba": "29",
                                    "(No column name)": "6"
                                },
                                {
                                    "Év": "2016",
                                    "Szoba": "30",
                                    "(No column name)": "3"
                                },
                                {
                                    "Év": "Szoba összesen",
                                    "Szoba": "30",
                                    "(No column name)": "3"
                                },
                                {
                                    "Év": "2016",
                                    "Szoba": "31",
                                    "(No column name)": "3"
                                },
                                {
                                    "Év": "Szoba összesen",
                                    "Szoba": "31",
                                    "(No column name)": "3"
                                },
                                {
                                    "Év": "2016",
                                    "Szoba": "32",
                                    "(No column name)": "1"
                                },
                                {
                                    "Év": "Szoba összesen",
                                    "Szoba": "32",
                                    "(No column name)": "1"
                                },
                                {
                                    "Év": "2016",
                                    "Szoba": "33",
                                    "(No column name)": "6"
                                },
                                {
                                    "Év": "Szoba összesen",
                                    "Szoba": "33",
                                    "(No column name)": "6"
                                },
                                {
                                    "Év": "2016",
                                    "Szoba": "34",
                                    "(No column name)": "4"
                                },
                                {
                                    "Év": "Szoba összesen",
                                    "Szoba": "34",
                                    "(No column name)": "4"
                                },
                                {
                                    "Év": "2016",
                                    "Szoba": "35",
                                    "(No column name)": "6"
                                },
                                {
                                    "Év": "2017",
                                    "Szoba": "35",
                                    "(No column name)": "3"
                                },
                                {
                                    "Év": "Szoba összesen",
                                    "Szoba": "35",
                                    "(No column name)": "9"
                                },
                                {
                                    "Év": "2016",
                                    "Szoba": "36",
                                    "(No column name)": "6"
                                },
                                {
                                    "Év": "Szoba összesen",
                                    "Szoba": "36",
                                    "(No column name)": "6"
                                },
                                {
                                    "Év": "2016",
                                    "Szoba": "37",
                                    "(No column name)": "3"
                                },
                                {
                                    "Év": "Szoba összesen",
                                    "Szoba": "37",
                                    "(No column name)": "3"
                                },
                                {
                                    "Év": "2016",
                                    "Szoba": "38",
                                    "(No column name)": "5"
                                },
                                {
                                    "Év": "2017",
                                    "Szoba": "38",
                                    "(No column name)": "3"
                                },
                                {
                                    "Év": "Szoba összesen",
                                    "Szoba": "38",
                                    "(No column name)": "8"
                                },
                                {
                                    "Év": "2016",
                                    "Szoba": "39",
                                    "(No column name)": "4"
                                },
                                {
                                    "Év": "2017",
                                    "Szoba": "39",
                                    "(No column name)": "3"
                                },
                                {
                                    "Év": "Szoba összesen",
                                    "Szoba": "39",
                                    "(No column name)": "7"
                                },
                                {
                                    "Év": "2016",
                                    "Szoba": "40",
                                    "(No column name)": "4"
                                },
                                {
                                    "Év": "Szoba összesen",
                                    "Szoba": "40",
                                    "(No column name)": "4"
                                },
                                {
                                    "Év": "2016",
                                    "Szoba": "41",
                                    "(No column name)": "2"
                                },
                                {
                                    "Év": "Szoba összesen",
                                    "Szoba": "41",
                                    "(No column name)": "2"
                                },
                                {
                                    "Év": "2016",
                                    "Szoba": "42",
                                    "(No column name)": "5"
                                },
                                {
                                    "Év": "2017",
                                    "Szoba": "42",
                                    "(No column name)": "1"
                                },
                                {
                                    "Év": "Szoba összesen",
                                    "Szoba": "42",
                                    "(No column name)": "6"
                                },
                                {
                                    "Év": "2016",
                                    "Szoba": "43",
                                    "(No column name)": "6"
                                },
                                {
                                    "Év": "2017",
                                    "Szoba": "43",
                                    "(No column name)": "2"
                                },
                                {
                                    "Év": "Szoba összesen",
                                    "Szoba": "43",
                                    "(No column name)": "8"
                                },
                                {
                                    "Év": "2016",
                                    "Szoba": "44",
                                    "(No column name)": "4"
                                },
                                {
                                    "Év": "2017",
                                    "Szoba": "44",
                                    "(No column name)": "2"
                                },
                                {
                                    "Év": "Szoba összesen",
                                    "Szoba": "44",
                                    "(No column name)": "6"
                                },
                                {
                                    "Év": "2016",
                                    "Szoba": "45",
                                    "(No column name)": "5"
                                },
                                {
                                    "Év": "Szoba összesen",
                                    "Szoba": "45",
                                    "(No column name)": "5"
                                },
                                {
                                    "Év": "2016",
                                    "Szoba": "46",
                                    "(No column name)": "3"
                                },
                                {
                                    "Év": "2017",
                                    "Szoba": "46",
                                    "(No column name)": "1"
                                },
                                {
                                    "Év": "Szoba összesen",
                                    "Szoba": "46",
                                    "(No column name)": "4"
                                },
                                {
                                    "Év": "2016",
                                    "Szoba": "47",
                                    "(No column name)": "2"
                                },
                                {
                                    "Év": "Szoba összesen",
                                    "Szoba": "47",
                                    "(No column name)": "2"
                                },
                                {
                                    "Év": "2016",
                                    "Szoba": "48",
                                    "(No column name)": "6"
                                },
                                {
                                    "Év": "2017",
                                    "Szoba": "48",
                                    "(No column name)": "3"
                                },
                                {
                                    "Év": "Szoba összesen",
                                    "Szoba": "48",
                                    "(No column name)": "9"
                                },
                                {
                                    "Év": "2016",
                                    "Szoba": "49",
                                    "(No column name)": "6"
                                },
                                {
                                    "Év": "2017",
                                    "Szoba": "49",
                                    "(No column name)": "1"
                                },
                                {
                                    "Év": "Szoba összesen",
                                    "Szoba": "49",
                                    "(No column name)": "7"
                                },
                                {
                                    "Év": "2016",
                                    "Szoba": "50",
                                    "(No column name)": "4"
                                },
                                {
                                    "Év": "Szoba összesen",
                                    "Szoba": "50",
                                    "(No column name)": "4"
                                },
                                {
                                    "Év": "2016",
                                    "Szoba": "51",
                                    "(No column name)": "3"
                                },
                                {
                                    "Év": "2017",
                                    "Szoba": "51",
                                    "(No column name)": "2"
                                },
                                {
                                    "Év": "Szoba összesen",
                                    "Szoba": "51",
                                    "(No column name)": "5"
                                },
                                {
                                    "Év": "2016",
                                    "Szoba": "52",
                                    "(No column name)": "3"
                                },
                                {
                                    "Év": "2017",
                                    "Szoba": "52",
                                    "(No column name)": "2"
                                },
                                {
                                    "Év": "Szoba összesen",
                                    "Szoba": "52",
                                    "(No column name)": "5"
                                },
                                {
                                    "Év": "2016",
                                    "Szoba": "53",
                                    "(No column name)": "2"
                                },
                                {
                                    "Év": "Szoba összesen",
                                    "Szoba": "53",
                                    "(No column name)": "2"
                                },
                                {
                                    "Év": "2016",
                                    "Szoba": "54",
                                    "(No column name)": "6"
                                },
                                {
                                    "Év": "Szoba összesen",
                                    "Szoba": "54",
                                    "(No column name)": "6"
                                },
                                {
                                    "Év": "2016",
                                    "Szoba": "55",
                                    "(No column name)": "6"
                                },
                                {
                                    "Év": "2017",
                                    "Szoba": "55",
                                    "(No column name)": "2"
                                },
                                {
                                    "Év": "Szoba összesen",
                                    "Szoba": "55",
                                    "(No column name)": "8"
                                },
                                {
                                    "Év": "2016",
                                    "Szoba": "56",
                                    "(No column name)": "2"
                                },
                                {
                                    "Év": "Szoba összesen",
                                    "Szoba": "56",
                                    "(No column name)": "2"
                                },
                                {
                                    "Év": "2016",
                                    "Szoba": "57",
                                    "(No column name)": "2"
                                },
                                {
                                    "Év": "2017",
                                    "Szoba": "57",
                                    "(No column name)": "2"
                                },
                                {
                                    "Év": "Szoba összesen",
                                    "Szoba": "57",
                                    "(No column name)": "4"
                                },
                                {
                                    "Év": "2016",
                                    "Szoba": "58",
                                    "(No column name)": "12"
                                },
                                {
                                    "Év": "2017",
                                    "Szoba": "58",
                                    "(No column name)": "1"
                                },
                                {
                                    "Év": "Szoba összesen",
                                    "Szoba": "58",
                                    "(No column name)": "13"
                                },
                                {
                                    "Év": "2016",
                                    "Szoba": "59",
                                    "(No column name)": "6"
                                },
                                {
                                    "Év": "2017",
                                    "Szoba": "59",
                                    "(No column name)": "1"
                                },
                                {
                                    "Év": "Szoba összesen",
                                    "Szoba": "59",
                                    "(No column name)": "7"
                                },
                                {
                                    "Év": "2016",
                                    "Szoba": "60",
                                    "(No column name)": "1"
                                },
                                {
                                    "Év": "Szoba összesen",
                                    "Szoba": "60",
                                    "(No column name)": "1"
                                },
                                {
                                    "Év": "2016",
                                    "Szoba": "61",
                                    "(No column name)": "4"
                                },
                                {
                                    "Év": "2017",
                                    "Szoba": "61",
                                    "(No column name)": "1"
                                },
                                {
                                    "Év": "Szoba összesen",
                                    "Szoba": "61",
                                    "(No column name)": "5"
                                },
                                {
                                    "Év": "2016",
                                    "Szoba": "62",
                                    "(No column name)": "4"
                                },
                                {
                                    "Év": "2017",
                                    "Szoba": "62",
                                    "(No column name)": "1"
                                },
                                {
                                    "Év": "Szoba összesen",
                                    "Szoba": "62",
                                    "(No column name)": "5"
                                },
                                {
                                    "Év": "2016",
                                    "Szoba": "63",
                                    "(No column name)": "4"
                                },
                                {
                                    "Év": "Szoba összesen",
                                    "Szoba": "63",
                                    "(No column name)": "4"
                                },
                                {
                                    "Év": "2016",
                                    "Szoba": "64",
                                    "(No column name)": "3"
                                },
                                {
                                    "Év": "2017",
                                    "Szoba": "64",
                                    "(No column name)": "3"
                                },
                                {
                                    "Év": "Szoba összesen",
                                    "Szoba": "64",
                                    "(No column name)": "6"
                                },
                                {
                                    "Év": "2016",
                                    "Szoba": "65",
                                    "(No column name)": "1"
                                },
                                {
                                    "Év": "Szoba összesen",
                                    "Szoba": "65",
                                    "(No column name)": "1"
                                },
                                {
                                    "Év": "2016",
                                    "Szoba": "66",
                                    "(No column name)": "4"
                                },
                                {
                                    "Év": "Szoba összesen",
                                    "Szoba": "66",
                                    "(No column name)": "4"
                                },
                                {
                                    "Év": "2016",
                                    "Szoba": "67",
                                    "(No column name)": "4"
                                },
                                {
                                    "Év": "2017",
                                    "Szoba": "67",
                                    "(No column name)": "2"
                                },
                                {
                                    "Év": "Szoba összesen",
                                    "Szoba": "67",
                                    "(No column name)": "6"
                                },
                                {
                                    "Év": "2016",
                                    "Szoba": "68",
                                    "(No column name)": "3"
                                },
                                {
                                    "Év": "Szoba összesen",
                                    "Szoba": "68",
                                    "(No column name)": "3"
                                },
                                {
                                    "Év": "2016",
                                    "Szoba": "69",
                                    "(No column name)": "4"
                                },
                                {
                                    "Év": "Szoba összesen",
                                    "Szoba": "69",
                                    "(No column name)": "4"
                                },
                                {
                                    "Év": "2016",
                                    "Szoba": "70",
                                    "(No column name)": "10"
                                },
                                {
                                    "Év": "2017",
                                    "Szoba": "70",
                                    "(No column name)": "1"
                                },
                                {
                                    "Év": "Szoba összesen",
                                    "Szoba": "70",
                                    "(No column name)": "11"
                                },
                                {
                                    "Év": "2016",
                                    "Szoba": "71",
                                    "(No column name)": "3"
                                },
                                {
                                    "Év": "Szoba összesen",
                                    "Szoba": "71",
                                    "(No column name)": "3"
                                },
                                {
                                    "Év": "2016",
                                    "Szoba": "72",
                                    "(No column name)": "4"
                                },
                                {
                                    "Év": "Szoba összesen",
                                    "Szoba": "72",
                                    "(No column name)": "4"
                                },
                                {
                                    "Év": "2016",
                                    "Szoba": "73",
                                    "(No column name)": "4"
                                },
                                {
                                    "Év": "Szoba összesen",
                                    "Szoba": "73",
                                    "(No column name)": "4"
                                },
                                {
                                    "Év": "2016",
                                    "Szoba": "74",
                                    "(No column name)": "9"
                                },
                                {
                                    "Év": "Szoba összesen",
                                    "Szoba": "74",
                                    "(No column name)": "9"
                                },
                                {
                                    "Év": "2016",
                                    "Szoba": "75",
                                    "(No column name)": "1"
                                },
                                {
                                    "Év": "2017",
                                    "Szoba": "75",
                                    "(No column name)": "2"
                                },
                                {
                                    "Év": "Szoba összesen",
                                    "Szoba": "75",
                                    "(No column name)": "3"
                                },
                                {
                                    "Év": "2016",
                                    "Szoba": "76",
                                    "(No column name)": "2"
                                },
                                {
                                    "Év": "2017",
                                    "Szoba": "76",
                                    "(No column name)": "1"
                                },
                                {
                                    "Év": "Szoba összesen",
                                    "Szoba": "76",
                                    "(No column name)": "3"
                                },
                                {
                                    "Év": "2016",
                                    "Szoba": "77",
                                    "(No column name)": "4"
                                },
                                {
                                    "Év": "2017",
                                    "Szoba": "77",
                                    "(No column name)": "2"
                                },
                                {
                                    "Év": "Szoba összesen",
                                    "Szoba": "77",
                                    "(No column name)": "6"
                                },
                                {
                                    "Év": "2016",
                                    "Szoba": "78",
                                    "(No column name)": "5"
                                },
                                {
                                    "Év": "2017",
                                    "Szoba": "78",
                                    "(No column name)": "1"
                                },
                                {
                                    "Év": "Szoba összesen",
                                    "Szoba": "78",
                                    "(No column name)": "6"
                                },
                                {
                                    "Év": "2016",
                                    "Szoba": "79",
                                    "(No column name)": "4"
                                },
                                {
                                    "Év": "2017",
                                    "Szoba": "79",
                                    "(No column name)": "1"
                                },
                                {
                                    "Év": "Szoba összesen",
                                    "Szoba": "79",
                                    "(No column name)": "5"
                                },
                                {
                                    "Év": "2016",
                                    "Szoba": "80",
                                    "(No column name)": "7"
                                },
                                {
                                    "Év": "Szoba összesen",
                                    "Szoba": "80",
                                    "(No column name)": "7"
                                },
                                {
                                    "Év": "2016",
                                    "Szoba": "81",
                                    "(No column name)": "1"
                                },
                                {
                                    "Év": "2017",
                                    "Szoba": "81",
                                    "(No column name)": "4"
                                },
                                {
                                    "Év": "Szoba összesen",
                                    "Szoba": "81",
                                    "(No column name)": "5"
                                },
                                {
                                    "Év": "2016",
                                    "Szoba": "82",
                                    "(No column name)": "6"
                                },
                                {
                                    "Év": "Szoba összesen",
                                    "Szoba": "82",
                                    "(No column name)": "6"
                                },
                                {
                                    "Év": "2016",
                                    "Szoba": "83",
                                    "(No column name)": "8"
                                },
                                {
                                    "Év": "Szoba összesen",
                                    "Szoba": "83",
                                    "(No column name)": "8"
                                },
                                {
                                    "Év": "2016",
                                    "Szoba": "84",
                                    "(No column name)": "4"
                                },
                                {
                                    "Év": "Szoba összesen",
                                    "Szoba": "84",
                                    "(No column name)": "4"
                                },
                                {
                                    "Év": "2016",
                                    "Szoba": "85",
                                    "(No column name)": "3"
                                },
                                {
                                    "Év": "2017",
                                    "Szoba": "85",
                                    "(No column name)": "1"
                                },
                                {
                                    "Év": "Szoba összesen",
                                    "Szoba": "85",
                                    "(No column name)": "4"
                                },
                                {
                                    "Év": "2016",
                                    "Szoba": "86",
                                    "(No column name)": "4"
                                },
                                {
                                    "Év": "2017",
                                    "Szoba": "86",
                                    "(No column name)": "1"
                                },
                                {
                                    "Év": "Szoba összesen",
                                    "Szoba": "86",
                                    "(No column name)": "5"
                                },
                                {
                                    "Év": "2016",
                                    "Szoba": "87",
                                    "(No column name)": "4"
                                },
                                {
                                    "Év": "2017",
                                    "Szoba": "87",
                                    "(No column name)": "1"
                                },
                                {
                                    "Év": "Szoba összesen",
                                    "Szoba": "87",
                                    "(No column name)": "5"
                                },
                                {
                                    "Év": "2016",
                                    "Szoba": "88",
                                    "(No column name)": "6"
                                },
                                {
                                    "Év": "2017",
                                    "Szoba": "88",
                                    "(No column name)": "2"
                                },
                                {
                                    "Év": "Szoba összesen",
                                    "Szoba": "88",
                                    "(No column name)": "8"
                                },
                                {
                                    "Év": "2016",
                                    "Szoba": "89",
                                    "(No column name)": "7"
                                },
                                {
                                    "Év": "2017",
                                    "Szoba": "89",
                                    "(No column name)": "1"
                                },
                                {
                                    "Év": "Szoba összesen",
                                    "Szoba": "89",
                                    "(No column name)": "8"
                                },
                                {
                                    "Év": "2016",
                                    "Szoba": "90",
                                    "(No column name)": "4"
                                },
                                {
                                    "Év": "Szoba összesen",
                                    "Szoba": "90",
                                    "(No column name)": "4"
                                },
                                {
                                    "Év": "2016",
                                    "Szoba": "91",
                                    "(No column name)": "4"
                                },
                                {
                                    "Év": "Szoba összesen",
                                    "Szoba": "91",
                                    "(No column name)": "4"
                                },
                                {
                                    "Év": "2016",
                                    "Szoba": "92",
                                    "(No column name)": "4"
                                },
                                {
                                    "Év": "2017",
                                    "Szoba": "92",
                                    "(No column name)": "2"
                                },
                                {
                                    "Év": "Szoba összesen",
                                    "Szoba": "92",
                                    "(No column name)": "6"
                                },
                                {
                                    "Év": "2016",
                                    "Szoba": "93",
                                    "(No column name)": "5"
                                },
                                {
                                    "Év": "Szoba összesen",
                                    "Szoba": "93",
                                    "(No column name)": "5"
                                },
                                {
                                    "Év": "2016",
                                    "Szoba": "94",
                                    "(No column name)": "8"
                                },
                                {
                                    "Év": "2017",
                                    "Szoba": "94",
                                    "(No column name)": "2"
                                },
                                {
                                    "Év": "Szoba összesen",
                                    "Szoba": "94",
                                    "(No column name)": "10"
                                },
                                {
                                    "Év": "2016",
                                    "Szoba": "95",
                                    "(No column name)": "3"
                                },
                                {
                                    "Év": "2017",
                                    "Szoba": "95",
                                    "(No column name)": "1"
                                },
                                {
                                    "Év": "Szoba összesen",
                                    "Szoba": "95",
                                    "(No column name)": "4"
                                },
                                {
                                    "Év": "2016",
                                    "Szoba": "96",
                                    "(No column name)": "5"
                                },
                                {
                                    "Év": "2017",
                                    "Szoba": "96",
                                    "(No column name)": "2"
                                },
                                {
                                    "Év": "Szoba összesen",
                                    "Szoba": "96",
                                    "(No column name)": "7"
                                },
                                {
                                    "Év": "2016",
                                    "Szoba": "97",
                                    "(No column name)": "5"
                                },
                                {
                                    "Év": "2017",
                                    "Szoba": "97",
                                    "(No column name)": "2"
                                },
                                {
                                    "Év": "Szoba összesen",
                                    "Szoba": "97",
                                    "(No column name)": "7"
                                },
                                {
                                    "Év": "2016",
                                    "Szoba": "98",
                                    "(No column name)": "4"
                                },
                                {
                                    "Év": "Szoba összesen",
                                    "Szoba": "98",
                                    "(No column name)": "4"
                                },
                                {
                                    "Év": "2016",
                                    "Szoba": "99",
                                    "(No column name)": "4"
                                },
                                {
                                    "Év": "2017",
                                    "Szoba": "99",
                                    "(No column name)": "1"
                                },
                                {
                                    "Év": "Szoba összesen",
                                    "Szoba": "99",
                                    "(No column name)": "5"
                                },
                                {
                                    "Év": "2016",
                                    "Szoba": "100",
                                    "(No column name)": "3"
                                },
                                {
                                    "Év": "2017",
                                    "Szoba": "100",
                                    "(No column name)": "1"
                                },
                                {
                                    "Év": "Szoba összesen",
                                    "Szoba": "100",
                                    "(No column name)": "4"
                                },
                                {
                                    "Év": "2016",
                                    "Szoba": "101",
                                    "(No column name)": "2"
                                },
                                {
                                    "Év": "2017",
                                    "Szoba": "101",
                                    "(No column name)": "1"
                                },
                                {
                                    "Év": "Szoba összesen",
                                    "Szoba": "101",
                                    "(No column name)": "3"
                                },
                                {
                                    "Év": "2016",
                                    "Szoba": "102",
                                    "(No column name)": "2"
                                },
                                {
                                    "Év": "Szoba összesen",
                                    "Szoba": "102",
                                    "(No column name)": "2"
                                },
                                {
                                    "Év": "2016",
                                    "Szoba": "103",
                                    "(No column name)": "3"
                                },
                                {
                                    "Év": "2017",
                                    "Szoba": "103",
                                    "(No column name)": "1"
                                },
                                {
                                    "Év": "Szoba összesen",
                                    "Szoba": "103",
                                    "(No column name)": "4"
                                },
                                {
                                    "Év": "2016",
                                    "Szoba": "104",
                                    "(No column name)": "2"
                                },
                                {
                                    "Év": "2017",
                                    "Szoba": "104",
                                    "(No column name)": "2"
                                },
                                {
                                    "Év": "Szoba összesen",
                                    "Szoba": "104",
                                    "(No column name)": "4"
                                },
                                {
                                    "Év": "2016",
                                    "Szoba": "105",
                                    "(No column name)": "1"
                                },
                                {
                                    "Év": "2017",
                                    "Szoba": "105",
                                    "(No column name)": "1"
                                },
                                {
                                    "Év": "Szoba összesen",
                                    "Szoba": "105",
                                    "(No column name)": "2"
                                },
                                {
                                    "Év": "2016",
                                    "Szoba": "106",
                                    "(No column name)": "5"
                                },
                                {
                                    "Év": "2017",
                                    "Szoba": "106",
                                    "(No column name)": "1"
                                },
                                {
                                    "Év": "Szoba összesen",
                                    "Szoba": "106",
                                    "(No column name)": "6"
                                },
                                {
                                    "Év": "2016",
                                    "Szoba": "107",
                                    "(No column name)": "3"
                                },
                                {
                                    "Év": "2017",
                                    "Szoba": "107",
                                    "(No column name)": "2"
                                },
                                {
                                    "Év": "Szoba összesen",
                                    "Szoba": "107",
                                    "(No column name)": "5"
                                },
                                {
                                    "Év": "2016",
                                    "Szoba": "108",
                                    "(No column name)": "2"
                                },
                                {
                                    "Év": "Szoba összesen",
                                    "Szoba": "108",
                                    "(No column name)": "2"
                                },
                                {
                                    "Év": "2016",
                                    "Szoba": "109",
                                    "(No column name)": "6"
                                },
                                {
                                    "Év": "2017",
                                    "Szoba": "109",
                                    "(No column name)": "1"
                                },
                                {
                                    "Év": "Szoba összesen",
                                    "Szoba": "109",
                                    "(No column name)": "7"
                                },
                                {
                                    "Év": "2016",
                                    "Szoba": "110",
                                    "(No column name)": "6"
                                },
                                {
                                    "Év": "2017",
                                    "Szoba": "110",
                                    "(No column name)": "2"
                                },
                                {
                                    "Év": "Szoba összesen",
                                    "Szoba": "110",
                                    "(No column name)": "8"
                                },
                                {
                                    "Év": "2016",
                                    "Szoba": "111",
                                    "(No column name)": "5"
                                },
                                {
                                    "Év": "Szoba összesen",
                                    "Szoba": "111",
                                    "(No column name)": "5"
                                },
                                {
                                    "Év": "2016",
                                    "Szoba": "112",
                                    "(No column name)": "4"
                                },
                                {
                                    "Év": "2017",
                                    "Szoba": "112",
                                    "(No column name)": "1"
                                },
                                {
                                    "Év": "Szoba összesen",
                                    "Szoba": "112",
                                    "(No column name)": "5"
                                },
                                {
                                    "Év": "2016",
                                    "Szoba": "113",
                                    "(No column name)": "3"
                                },
                                {
                                    "Év": "2017",
                                    "Szoba": "113",
                                    "(No column name)": "2"
                                },
                                {
                                    "Év": "Szoba összesen",
                                    "Szoba": "113",
                                    "(No column name)": "5"
                                },
                                {
                                    "Év": "2016",
                                    "Szoba": "114",
                                    "(No column name)": "3"
                                },
                                {
                                    "Év": "2017",
                                    "Szoba": "114",
                                    "(No column name)": "1"
                                },
                                {
                                    "Év": "Szoba összesen",
                                    "Szoba": "114",
                                    "(No column name)": "4"
                                },
                                {
                                    "Év": "2016",
                                    "Szoba": "115",
                                    "(No column name)": "5"
                                },
                                {
                                    "Év": "2017",
                                    "Szoba": "115",
                                    "(No column name)": "2"
                                },
                                {
                                    "Év": "Szoba összesen",
                                    "Szoba": "115",
                                    "(No column name)": "7"
                                },
                                {
                                    "Év": "2017",
                                    "Szoba": "116",
                                    "(No column name)": "2"
                                },
                                {
                                    "Év": "Szoba összesen",
                                    "Szoba": "116",
                                    "(No column name)": "2"
                                },
                                {
                                    "Év": "2016",
                                    "Szoba": "117",
                                    "(No column name)": "7"
                                },
                                {
                                    "Év": "2017",
                                    "Szoba": "117",
                                    "(No column name)": "1"
                                },
                                {
                                    "Év": "Szoba összesen",
                                    "Szoba": "117",
                                    "(No column name)": "8"
                                },
                                {
                                    "Év": "2016",
                                    "Szoba": "118",
                                    "(No column name)": "5"
                                },
                                {
                                    "Év": "2017",
                                    "Szoba": "118",
                                    "(No column name)": "2"
                                },
                                {
                                    "Év": "Szoba összesen",
                                    "Szoba": "118",
                                    "(No column name)": "7"
                                },
                                {
                                    "Év": "2016",
                                    "Szoba": "119",
                                    "(No column name)": "3"
                                },
                                {
                                    "Év": "2017",
                                    "Szoba": "119",
                                    "(No column name)": "2"
                                },
                                {
                                    "Év": "Szoba összesen",
                                    "Szoba": "119",
                                    "(No column name)": "5"
                                },
                                {
                                    "Év": "2016",
                                    "Szoba": "120",
                                    "(No column name)": "4"
                                },
                                {
                                    "Év": "2017",
                                    "Szoba": "120",
                                    "(No column name)": "2"
                                },
                                {
                                    "Év": "Szoba összesen",
                                    "Szoba": "120",
                                    "(No column name)": "6"
                                },
                                {
                                    "Év": "2016",
                                    "Szoba": "121",
                                    "(No column name)": "8"
                                },
                                {
                                    "Év": "Szoba összesen",
                                    "Szoba": "121",
                                    "(No column name)": "8"
                                },
                                {
                                    "Év": "2016",
                                    "Szoba": "122",
                                    "(No column name)": "8"
                                },
                                {
                                    "Év": "2017",
                                    "Szoba": "122",
                                    "(No column name)": "1"
                                },
                                {
                                    "Év": "Szoba összesen",
                                    "Szoba": "122",
                                    "(No column name)": "9"
                                },
                                {
                                    "Év": "2016",
                                    "Szoba": "123",
                                    "(No column name)": "5"
                                },
                                {
                                    "Év": "Szoba összesen",
                                    "Szoba": "123",
                                    "(No column name)": "5"
                                },
                                {
                                    "Év": "2016",
                                    "Szoba": "124",
                                    "(No column name)": "4"
                                },
                                {
                                    "Év": "2017",
                                    "Szoba": "124",
                                    "(No column name)": "2"
                                },
                                {
                                    "Év": "Szoba összesen",
                                    "Szoba": "124",
                                    "(No column name)": "6"
                                },
                                {
                                    "Év": "2016",
                                    "Szoba": "125",
                                    "(No column name)": "1"
                                },
                                {
                                    "Év": "Szoba összesen",
                                    "Szoba": "125",
                                    "(No column name)": "1"
                                },
                                {
                                    "Év": "2016",
                                    "Szoba": "126",
                                    "(No column name)": "4"
                                },
                                {
                                    "Év": "2017",
                                    "Szoba": "126",
                                    "(No column name)": "2"
                                },
                                {
                                    "Év": "Szoba összesen",
                                    "Szoba": "126",
                                    "(No column name)": "6"
                                },
                                {
                                    "Év": "2016",
                                    "Szoba": "127",
                                    "(No column name)": "6"
                                },
                                {
                                    "Év": "2017",
                                    "Szoba": "127",
                                    "(No column name)": "1"
                                },
                                {
                                    "Év": "Szoba összesen",
                                    "Szoba": "127",
                                    "(No column name)": "7"
                                },
                                {
                                    "Év": "2016",
                                    "Szoba": "128",
                                    "(No column name)": "3"
                                },
                                {
                                    "Év": "2017",
                                    "Szoba": "128",
                                    "(No column name)": "2"
                                },
                                {
                                    "Év": "Szoba összesen",
                                    "Szoba": "128",
                                    "(No column name)": "5"
                                },
                                {
                                    "Év": "2016",
                                    "Szoba": "129",
                                    "(No column name)": "2"
                                },
                                {
                                    "Év": "2017",
                                    "Szoba": "129",
                                    "(No column name)": "2"
                                },
                                {
                                    "Év": "Szoba összesen",
                                    "Szoba": "129",
                                    "(No column name)": "4"
                                },
                                {
                                    "Év": "2016",
                                    "Szoba": "130",
                                    "(No column name)": "5"
                                },
                                {
                                    "Év": "2017",
                                    "Szoba": "130",
                                    "(No column name)": "1"
                                },
                                {
                                    "Év": "Szoba összesen",
                                    "Szoba": "130",
                                    "(No column name)": "6"
                                },
                                {
                                    "Év": "2016",
                                    "Szoba": "131",
                                    "(No column name)": "4"
                                },
                                {
                                    "Év": "2017",
                                    "Szoba": "131",
                                    "(No column name)": "1"
                                },
                                {
                                    "Év": "Szoba összesen",
                                    "Szoba": "131",
                                    "(No column name)": "5"
                                },
                                {
                                    "Év": "2016",
                                    "Szoba": "132",
                                    "(No column name)": "5"
                                },
                                {
                                    "Év": "2017",
                                    "Szoba": "132",
                                    "(No column name)": "1"
                                },
                                {
                                    "Év": "Szoba összesen",
                                    "Szoba": "132",
                                    "(No column name)": "6"
                                },
                                {
                                    "Év": "2016",
                                    "Szoba": "133",
                                    "(No column name)": "5"
                                },
                                {
                                    "Év": "2017",
                                    "Szoba": "133",
                                    "(No column name)": "1"
                                },
                                {
                                    "Év": "Szoba összesen",
                                    "Szoba": "133",
                                    "(No column name)": "6"
                                },
                                {
                                    "Év": "2016",
                                    "Szoba": "134",
                                    "(No column name)": "5"
                                },
                                {
                                    "Év": "2017",
                                    "Szoba": "134",
                                    "(No column name)": "1"
                                },
                                {
                                    "Év": "Szoba összesen",
                                    "Szoba": "134",
                                    "(No column name)": "6"
                                },
                                {
                                    "Év": "2016",
                                    "Szoba": "135",
                                    "(No column name)": "3"
                                },
                                {
                                    "Év": "Szoba összesen",
                                    "Szoba": "135",
                                    "(No column name)": "3"
                                },
                                {
                                    "Év": "2016",
                                    "Szoba": "136",
                                    "(No column name)": "3"
                                },
                                {
                                    "Év": "Szoba összesen",
                                    "Szoba": "136",
                                    "(No column name)": "3"
                                },
                                {
                                    "Év": "2016",
                                    "Szoba": "137",
                                    "(No column name)": "6"
                                },
                                {
                                    "Év": "Szoba összesen",
                                    "Szoba": "137",
                                    "(No column name)": "6"
                                },
                                {
                                    "Év": "2016",
                                    "Szoba": "138",
                                    "(No column name)": "7"
                                },
                                {
                                    "Év": "Szoba összesen",
                                    "Szoba": "138",
                                    "(No column name)": "7"
                                },
                                {
                                    "Év": "2016",
                                    "Szoba": "139",
                                    "(No column name)": "5"
                                },
                                {
                                    "Év": "2017",
                                    "Szoba": "139",
                                    "(No column name)": "2"
                                },
                                {
                                    "Év": "Szoba összesen",
                                    "Szoba": "139",
                                    "(No column name)": "7"
                                },
                                {
                                    "Év": "2016",
                                    "Szoba": "140",
                                    "(No column name)": "8"
                                },
                                {
                                    "Év": "Szoba összesen",
                                    "Szoba": "140",
                                    "(No column name)": "8"
                                },
                                {
                                    "Év": "2016",
                                    "Szoba": "141",
                                    "(No column name)": "6"
                                },
                                {
                                    "Év": "Szoba összesen",
                                    "Szoba": "141",
                                    "(No column name)": "6"
                                },
                                {
                                    "Év": "2016",
                                    "Szoba": "142",
                                    "(No column name)": "1"
                                },
                                {
                                    "Év": "2017",
                                    "Szoba": "142",
                                    "(No column name)": "1"
                                },
                                {
                                    "Év": "Szoba összesen",
                                    "Szoba": "142",
                                    "(No column name)": "2"
                                },
                                {
                                    "Év": "2016",
                                    "Szoba": "143",
                                    "(No column name)": "6"
                                },
                                {
                                    "Év": "2017",
                                    "Szoba": "143",
                                    "(No column name)": "1"
                                },
                                {
                                    "Év": "Szoba összesen",
                                    "Szoba": "143",
                                    "(No column name)": "7"
                                },
                                {
                                    "Év": "2016",
                                    "Szoba": "144",
                                    "(No column name)": "4"
                                },
                                {
                                    "Év": "2017",
                                    "Szoba": "144",
                                    "(No column name)": "1"
                                },
                                {
                                    "Év": "Szoba összesen",
                                    "Szoba": "144",
                                    "(No column name)": "5"
                                },
                                {
                                    "Év": "2016",
                                    "Szoba": "145",
                                    "(No column name)": "5"
                                },
                                {
                                    "Év": "2017",
                                    "Szoba": "145",
                                    "(No column name)": "1"
                                },
                                {
                                    "Év": "Szoba összesen",
                                    "Szoba": "145",
                                    "(No column name)": "6"
                                },
                                {
                                    "Év": "2016",
                                    "Szoba": "146",
                                    "(No column name)": "5"
                                },
                                {
                                    "Év": "2017",
                                    "Szoba": "146",
                                    "(No column name)": "1"
                                },
                                {
                                    "Év": "Szoba összesen",
                                    "Szoba": "146",
                                    "(No column name)": "6"
                                },
                                {
                                    "Év": "2016",
                                    "Szoba": "147",
                                    "(No column name)": "1"
                                },
                                {
                                    "Év": "Szoba összesen",
                                    "Szoba": "147",
                                    "(No column name)": "1"
                                },
                                {
                                    "Év": "2016",
                                    "Szoba": "148",
                                    "(No column name)": "5"
                                },
                                {
                                    "Év": "2017",
                                    "Szoba": "148",
                                    "(No column name)": "1"
                                },
                                {
                                    "Év": "Szoba összesen",
                                    "Szoba": "148",
                                    "(No column name)": "6"
                                },
                                {
                                    "Év": "2016",
                                    "Szoba": "149",
                                    "(No column name)": "6"
                                },
                                {
                                    "Év": "2017",
                                    "Szoba": "149",
                                    "(No column name)": "1"
                                },
                                {
                                    "Év": "Szoba összesen",
                                    "Szoba": "149",
                                    "(No column name)": "7"
                                },
                                {
                                    "Év": "2016",
                                    "Szoba": "150",
                                    "(No column name)": "5"
                                },
                                {
                                    "Év": "2017",
                                    "Szoba": "150",
                                    "(No column name)": "1"
                                },
                                {
                                    "Év": "Szoba összesen",
                                    "Szoba": "150",
                                    "(No column name)": "6"
                                },
                                {
                                    "Év": "2016",
                                    "Szoba": "151",
                                    "(No column name)": "3"
                                },
                                {
                                    "Év": "Szoba összesen",
                                    "Szoba": "151",
                                    "(No column name)": "3"
                                },
                                {
                                    "Év": "2016",
                                    "Szoba": "152",
                                    "(No column name)": "3"
                                },
                                {
                                    "Év": "2017",
                                    "Szoba": "152",
                                    "(No column name)": "1"
                                },
                                {
                                    "Év": "Szoba összesen",
                                    "Szoba": "152",
                                    "(No column name)": "4"
                                },
                                {
                                    "Év": "2016",
                                    "Szoba": "153",
                                    "(No column name)": "2"
                                },
                                {
                                    "Év": "2017",
                                    "Szoba": "153",
                                    "(No column name)": "3"
                                },
                                {
                                    "Év": "Szoba összesen",
                                    "Szoba": "153",
                                    "(No column name)": "5"
                                },
                                {
                                    "Év": "2016",
                                    "Szoba": "154",
                                    "(No column name)": "4"
                                },
                                {
                                    "Év": "2017",
                                    "Szoba": "154",
                                    "(No column name)": "1"
                                },
                                {
                                    "Év": "Szoba összesen",
                                    "Szoba": "154",
                                    "(No column name)": "5"
                                },
                                {
                                    "Év": "2016",
                                    "Szoba": "155",
                                    "(No column name)": "4"
                                },
                                {
                                    "Év": "2017",
                                    "Szoba": "155",
                                    "(No column name)": "1"
                                },
                                {
                                    "Év": "Szoba összesen",
                                    "Szoba": "155",
                                    "(No column name)": "5"
                                },
                                {
                                    "Év": "2016",
                                    "Szoba": "156",
                                    "(No column name)": "4"
                                },
                                {
                                    "Év": "2017",
                                    "Szoba": "156",
                                    "(No column name)": "3"
                                },
                                {
                                    "Év": "Szoba összesen",
                                    "Szoba": "156",
                                    "(No column name)": "7"
                                },
                                {
                                    "Év": "2016",
                                    "Szoba": "157",
                                    "(No column name)": "4"
                                },
                                {
                                    "Év": "2017",
                                    "Szoba": "157",
                                    "(No column name)": "1"
                                },
                                {
                                    "Év": "Szoba összesen",
                                    "Szoba": "157",
                                    "(No column name)": "5"
                                },
                                {
                                    "Év": "2016",
                                    "Szoba": "158",
                                    "(No column name)": "3"
                                },
                                {
                                    "Év": "Szoba összesen",
                                    "Szoba": "158",
                                    "(No column name)": "3"
                                },
                                {
                                    "Év": "2016",
                                    "Szoba": "160",
                                    "(No column name)": "4"
                                },
                                {
                                    "Év": "2017",
                                    "Szoba": "160",
                                    "(No column name)": "1"
                                },
                                {
                                    "Év": "Szoba összesen",
                                    "Szoba": "160",
                                    "(No column name)": "5"
                                },
                                {
                                    "Év": "2016",
                                    "Szoba": "161",
                                    "(No column name)": "5"
                                },
                                {
                                    "Év": "2017",
                                    "Szoba": "161",
                                    "(No column name)": "1"
                                },
                                {
                                    "Év": "Szoba összesen",
                                    "Szoba": "161",
                                    "(No column name)": "6"
                                },
                                {
                                    "Év": "2016",
                                    "Szoba": "162",
                                    "(No column name)": "3"
                                },
                                {
                                    "Év": "Szoba összesen",
                                    "Szoba": "162",
                                    "(No column name)": "3"
                                },
                                {
                                    "Év": "2016",
                                    "Szoba": "163",
                                    "(No column name)": "6"
                                },
                                {
                                    "Év": "2017",
                                    "Szoba": "163",
                                    "(No column name)": "1"
                                },
                                {
                                    "Év": "Szoba összesen",
                                    "Szoba": "163",
                                    "(No column name)": "7"
                                },
                                {
                                    "Év": "2016",
                                    "Szoba": "164",
                                    "(No column name)": "5"
                                },
                                {
                                    "Év": "Szoba összesen",
                                    "Szoba": "164",
                                    "(No column name)": "5"
                                },
                                {
                                    "Év": "2016",
                                    "Szoba": "165",
                                    "(No column name)": "7"
                                },
                                {
                                    "Év": "Szoba összesen",
                                    "Szoba": "165",
                                    "(No column name)": "7"
                                },
                                {
                                    "Év": "2016",
                                    "Szoba": "166",
                                    "(No column name)": "2"
                                },
                                {
                                    "Év": "2017",
                                    "Szoba": "166",
                                    "(No column name)": "1"
                                },
                                {
                                    "Év": "Szoba összesen",
                                    "Szoba": "166",
                                    "(No column name)": "3"
                                },
                                {
                                    "Év": "2016",
                                    "Szoba": "167",
                                    "(No column name)": "1"
                                },
                                {
                                    "Év": "2017",
                                    "Szoba": "167",
                                    "(No column name)": "1"
                                },
                                {
                                    "Év": "Szoba összesen",
                                    "Szoba": "167",
                                    "(No column name)": "2"
                                },
                                {
                                    "Év": "2016",
                                    "Szoba": "168",
                                    "(No column name)": "5"
                                },
                                {
                                    "Év": "Szoba összesen",
                                    "Szoba": "168",
                                    "(No column name)": "5"
                                },
                                {
                                    "Év": "2016",
                                    "Szoba": "169",
                                    "(No column name)": "5"
                                },
                                {
                                    "Év": "2017",
                                    "Szoba": "169",
                                    "(No column name)": "1"
                                },
                                {
                                    "Év": "Szoba összesen",
                                    "Szoba": "169",
                                    "(No column name)": "6"
                                },
                                {
                                    "Év": "2016",
                                    "Szoba": "170",
                                    "(No column name)": "5"
                                },
                                {
                                    "Év": "Szoba összesen",
                                    "Szoba": "170",
                                    "(No column name)": "5"
                                },
                                {
                                    "Év": "2016",
                                    "Szoba": "171",
                                    "(No column name)": "4"
                                },
                                {
                                    "Év": "2017",
                                    "Szoba": "171",
                                    "(No column name)": "1"
                                },
                                {
                                    "Év": "Szoba összesen",
                                    "Szoba": "171",
                                    "(No column name)": "5"
                                },
                                {
                                    "Év": "2016",
                                    "Szoba": "172",
                                    "(No column name)": "7"
                                },
                                {
                                    "Év": "2017",
                                    "Szoba": "172",
                                    "(No column name)": "2"
                                },
                                {
                                    "Év": "Szoba összesen",
                                    "Szoba": "172",
                                    "(No column name)": "9"
                                },
                                {
                                    "Év": "2016",
                                    "Szoba": "173",
                                    "(No column name)": "3"
                                },
                                {
                                    "Év": "2017",
                                    "Szoba": "173",
                                    "(No column name)": "1"
                                },
                                {
                                    "Év": "Szoba összesen",
                                    "Szoba": "173",
                                    "(No column name)": "4"
                                },
                                {
                                    "Év": "2016",
                                    "Szoba": "174",
                                    "(No column name)": "4"
                                },
                                {
                                    "Év": "Szoba összesen",
                                    "Szoba": "174",
                                    "(No column name)": "4"
                                },
                                {
                                    "Év": "2016",
                                    "Szoba": "175",
                                    "(No column name)": "5"
                                },
                                {
                                    "Év": "Szoba összesen",
                                    "Szoba": "175",
                                    "(No column name)": "5"
                                },
                                {
                                    "Év": "2016",
                                    "Szoba": "176",
                                    "(No column name)": "4"
                                },
                                {
                                    "Év": "2017",
                                    "Szoba": "176",
                                    "(No column name)": "2"
                                },
                                {
                                    "Év": "Szoba összesen",
                                    "Szoba": "176",
                                    "(No column name)": "6"
                                },
                                {
                                    "Év": "2016",
                                    "Szoba": "177",
                                    "(No column name)": "3"
                                },
                                {
                                    "Év": "2017",
                                    "Szoba": "177",
                                    "(No column name)": "1"
                                },
                                {
                                    "Év": "Szoba összesen",
                                    "Szoba": "177",
                                    "(No column name)": "4"
                                },
                                {
                                    "Év": "2016",
                                    "Szoba": "178",
                                    "(No column name)": "4"
                                },
                                {
                                    "Év": "Szoba összesen",
                                    "Szoba": "178",
                                    "(No column name)": "4"
                                },
                                {
                                    "Év": "2016",
                                    "Szoba": "179",
                                    "(No column name)": "2"
                                },
                                {
                                    "Év": "2017",
                                    "Szoba": "179",
                                    "(No column name)": "1"
                                },
                                {
                                    "Év": "Szoba összesen",
                                    "Szoba": "179",
                                    "(No column name)": "3"
                                },
                                {
                                    "Év": "2016",
                                    "Szoba": "180",
                                    "(No column name)": "1"
                                },
                                {
                                    "Év": "2017",
                                    "Szoba": "180",
                                    "(No column name)": "2"
                                },
                                {
                                    "Év": "Szoba összesen",
                                    "Szoba": "180",
                                    "(No column name)": "3"
                                },
                                {
                                    "Év": "2016",
                                    "Szoba": "181",
                                    "(No column name)": "6"
                                },
                                {
                                    "Év": "Szoba összesen",
                                    "Szoba": "181",
                                    "(No column name)": "6"
                                },
                                {
                                    "Év": "2016",
                                    "Szoba": "182",
                                    "(No column name)": "10"
                                },
                                {
                                    "Év": "2017",
                                    "Szoba": "182",
                                    "(No column name)": "2"
                                },
                                {
                                    "Év": "Szoba összesen",
                                    "Szoba": "182",
                                    "(No column name)": "12"
                                },
                                {
                                    "Év": "2016",
                                    "Szoba": "183",
                                    "(No column name)": "3"
                                },
                                {
                                    "Év": "2017",
                                    "Szoba": "183",
                                    "(No column name)": "1"
                                },
                                {
                                    "Év": "Szoba összesen",
                                    "Szoba": "183",
                                    "(No column name)": "4"
                                },
                                {
                                    "Év": "2016",
                                    "Szoba": "184",
                                    "(No column name)": "4"
                                },
                                {
                                    "Év": "Szoba összesen",
                                    "Szoba": "184",
                                    "(No column name)": "4"
                                },
                                {
                                    "Év": "2016",
                                    "Szoba": "185",
                                    "(No column name)": "10"
                                },
                                {
                                    "Év": "2017",
                                    "Szoba": "185",
                                    "(No column name)": "2"
                                },
                                {
                                    "Év": "Szoba összesen",
                                    "Szoba": "185",
                                    "(No column name)": "12"
                                },
                                {
                                    "Év": "2016",
                                    "Szoba": "186",
                                    "(No column name)": "3"
                                },
                                {
                                    "Év": "2017",
                                    "Szoba": "186",
                                    "(No column name)": "1"
                                },
                                {
                                    "Év": "Szoba összesen",
                                    "Szoba": "186",
                                    "(No column name)": "4"
                                },
                                {
                                    "Év": "2016",
                                    "Szoba": "187",
                                    "(No column name)": "7"
                                },
                                {
                                    "Év": "Szoba összesen",
                                    "Szoba": "187",
                                    "(No column name)": "7"
                                },
                                {
                                    "Év": "2016",
                                    "Szoba": "188",
                                    "(No column name)": "6"
                                },
                                {
                                    "Év": "Szoba összesen",
                                    "Szoba": "188",
                                    "(No column name)": "6"
                                },
                                {
                                    "Év": "2016",
                                    "Szoba": "189",
                                    "(No column name)": "3"
                                },
                                {
                                    "Év": "2017",
                                    "Szoba": "189",
                                    "(No column name)": "2"
                                },
                                {
                                    "Év": "Szoba összesen",
                                    "Szoba": "189",
                                    "(No column name)": "5"
                                },
                                {
                                    "Év": "2016",
                                    "Szoba": "190",
                                    "(No column name)": "4"
                                },
                                {
                                    "Év": "2017",
                                    "Szoba": "190",
                                    "(No column name)": "1"
                                },
                                {
                                    "Év": "Szoba összesen",
                                    "Szoba": "190",
                                    "(No column name)": "5"
                                },
                                {
                                    "Év": "2016",
                                    "Szoba": "191",
                                    "(No column name)": "3"
                                },
                                {
                                    "Év": "2017",
                                    "Szoba": "191",
                                    "(No column name)": "2"
                                },
                                {
                                    "Év": "Szoba összesen",
                                    "Szoba": "191",
                                    "(No column name)": "5"
                                },
                                {
                                    "Év": "2016",
                                    "Szoba": "192",
                                    "(No column name)": "2"
                                },
                                {
                                    "Év": "Szoba összesen",
                                    "Szoba": "192",
                                    "(No column name)": "2"
                                },
                                {
                                    "Év": "2016",
                                    "Szoba": "193",
                                    "(No column name)": "7"
                                },
                                {
                                    "Év": "Szoba összesen",
                                    "Szoba": "193",
                                    "(No column name)": "7"
                                },
                                {
                                    "Év": "2016",
                                    "Szoba": "194",
                                    "(No column name)": "1"
                                },
                                {
                                    "Év": "Szoba összesen",
                                    "Szoba": "194",
                                    "(No column name)": "1"
                                },
                                {
                                    "Év": "2016",
                                    "Szoba": "195",
                                    "(No column name)": "4"
                                },
                                {
                                    "Év": "2017",
                                    "Szoba": "195",
                                    "(No column name)": "2"
                                },
                                {
                                    "Év": "Szoba összesen",
                                    "Szoba": "195",
                                    "(No column name)": "6"
                                },
                                {
                                    "Év": "2016",
                                    "Szoba": "196",
                                    "(No column name)": "4"
                                },
                                {
                                    "Év": "Szoba összesen",
                                    "Szoba": "196",
                                    "(No column name)": "4"
                                },
                                {
                                    "Év": "2016",
                                    "Szoba": "197",
                                    "(No column name)": "6"
                                },
                                {
                                    "Év": "Szoba összesen",
                                    "Szoba": "197",
                                    "(No column name)": "6"
                                },
                                {
                                    "Év": "2016",
                                    "Szoba": "198",
                                    "(No column name)": "7"
                                },
                                {
                                    "Év": "2017",
                                    "Szoba": "198",
                                    "(No column name)": "1"
                                },
                                {
                                    "Év": "Szoba összesen",
                                    "Szoba": "198",
                                    "(No column name)": "8"
                                }
                            ]
                        },
                        "text/html": [
                            "<table>",
                            "<tr><th>Év</th><th>Szoba</th><th>(No column name)</th></tr>",
                            "<tr><td>2016</td><td>1</td><td>8</td></tr>",
                            "<tr><td>Szoba összesen</td><td>1</td><td>8</td></tr>",
                            "<tr><td>2016</td><td>2</td><td>4</td></tr>",
                            "<tr><td>Szoba összesen</td><td>2</td><td>4</td></tr>",
                            "<tr><td>2016</td><td>3</td><td>6</td></tr>",
                            "<tr><td>2017</td><td>3</td><td>2</td></tr>",
                            "<tr><td>Szoba összesen</td><td>3</td><td>8</td></tr>",
                            "<tr><td>2016</td><td>4</td><td>5</td></tr>",
                            "<tr><td>2017</td><td>4</td><td>1</td></tr>",
                            "<tr><td>Szoba összesen</td><td>4</td><td>6</td></tr>",
                            "<tr><td>2016</td><td>5</td><td>4</td></tr>",
                            "<tr><td>Szoba összesen</td><td>5</td><td>4</td></tr>",
                            "<tr><td>2016</td><td>6</td><td>6</td></tr>",
                            "<tr><td>Szoba összesen</td><td>6</td><td>6</td></tr>",
                            "<tr><td>2016</td><td>7</td><td>6</td></tr>",
                            "<tr><td>Szoba összesen</td><td>7</td><td>6</td></tr>",
                            "<tr><td>2016</td><td>8</td><td>5</td></tr>",
                            "<tr><td>Szoba összesen</td><td>8</td><td>5</td></tr>",
                            "<tr><td>2016</td><td>9</td><td>4</td></tr>",
                            "<tr><td>2017</td><td>9</td><td>2</td></tr>",
                            "<tr><td>Szoba összesen</td><td>9</td><td>6</td></tr>",
                            "<tr><td>2016</td><td>10</td><td>4</td></tr>",
                            "<tr><td>Szoba összesen</td><td>10</td><td>4</td></tr>",
                            "<tr><td>2016</td><td>11</td><td>3</td></tr>",
                            "<tr><td>2017</td><td>11</td><td>1</td></tr>",
                            "<tr><td>Szoba összesen</td><td>11</td><td>4</td></tr>",
                            "<tr><td>2016</td><td>12</td><td>8</td></tr>",
                            "<tr><td>2017</td><td>12</td><td>1</td></tr>",
                            "<tr><td>Szoba összesen</td><td>12</td><td>9</td></tr>",
                            "<tr><td>2016</td><td>13</td><td>3</td></tr>",
                            "<tr><td>2017</td><td>13</td><td>1</td></tr>",
                            "<tr><td>Szoba összesen</td><td>13</td><td>4</td></tr>",
                            "<tr><td>2016</td><td>14</td><td>2</td></tr>",
                            "<tr><td>2017</td><td>14</td><td>1</td></tr>",
                            "<tr><td>Szoba összesen</td><td>14</td><td>3</td></tr>",
                            "<tr><td>2016</td><td>15</td><td>4</td></tr>",
                            "<tr><td>2017</td><td>15</td><td>2</td></tr>",
                            "<tr><td>Szoba összesen</td><td>15</td><td>6</td></tr>",
                            "<tr><td>2016</td><td>16</td><td>4</td></tr>",
                            "<tr><td>2017</td><td>16</td><td>1</td></tr>",
                            "<tr><td>Szoba összesen</td><td>16</td><td>5</td></tr>",
                            "<tr><td>2016</td><td>17</td><td>5</td></tr>",
                            "<tr><td>2017</td><td>17</td><td>1</td></tr>",
                            "<tr><td>Szoba összesen</td><td>17</td><td>6</td></tr>",
                            "<tr><td>2016</td><td>18</td><td>5</td></tr>",
                            "<tr><td>2017</td><td>18</td><td>1</td></tr>",
                            "<tr><td>Szoba összesen</td><td>18</td><td>6</td></tr>",
                            "<tr><td>2016</td><td>19</td><td>5</td></tr>",
                            "<tr><td>2017</td><td>19</td><td>1</td></tr>",
                            "<tr><td>Szoba összesen</td><td>19</td><td>6</td></tr>",
                            "<tr><td>2016</td><td>20</td><td>5</td></tr>",
                            "<tr><td>Szoba összesen</td><td>20</td><td>5</td></tr>",
                            "<tr><td>2016</td><td>21</td><td>4</td></tr>",
                            "<tr><td>Szoba összesen</td><td>21</td><td>4</td></tr>",
                            "<tr><td>2016</td><td>22</td><td>6</td></tr>",
                            "<tr><td>Szoba összesen</td><td>22</td><td>6</td></tr>",
                            "<tr><td>2016</td><td>23</td><td>3</td></tr>",
                            "<tr><td>Szoba összesen</td><td>23</td><td>3</td></tr>",
                            "<tr><td>2016</td><td>24</td><td>2</td></tr>",
                            "<tr><td>2017</td><td>24</td><td>1</td></tr>",
                            "<tr><td>Szoba összesen</td><td>24</td><td>3</td></tr>",
                            "<tr><td>2016</td><td>25</td><td>2</td></tr>",
                            "<tr><td>Szoba összesen</td><td>25</td><td>2</td></tr>",
                            "<tr><td>2016</td><td>26</td><td>2</td></tr>",
                            "<tr><td>Szoba összesen</td><td>26</td><td>2</td></tr>",
                            "<tr><td>2016</td><td>27</td><td>6</td></tr>",
                            "<tr><td>2017</td><td>27</td><td>1</td></tr>",
                            "<tr><td>Szoba összesen</td><td>27</td><td>7</td></tr>",
                            "<tr><td>2016</td><td>28</td><td>5</td></tr>",
                            "<tr><td>2017</td><td>28</td><td>1</td></tr>",
                            "<tr><td>Szoba összesen</td><td>28</td><td>6</td></tr>",
                            "<tr><td>2016</td><td>29</td><td>5</td></tr>",
                            "<tr><td>2017</td><td>29</td><td>1</td></tr>",
                            "<tr><td>Szoba összesen</td><td>29</td><td>6</td></tr>",
                            "<tr><td>2016</td><td>30</td><td>3</td></tr>",
                            "<tr><td>Szoba összesen</td><td>30</td><td>3</td></tr>",
                            "<tr><td>2016</td><td>31</td><td>3</td></tr>",
                            "<tr><td>Szoba összesen</td><td>31</td><td>3</td></tr>",
                            "<tr><td>2016</td><td>32</td><td>1</td></tr>",
                            "<tr><td>Szoba összesen</td><td>32</td><td>1</td></tr>",
                            "<tr><td>2016</td><td>33</td><td>6</td></tr>",
                            "<tr><td>Szoba összesen</td><td>33</td><td>6</td></tr>",
                            "<tr><td>2016</td><td>34</td><td>4</td></tr>",
                            "<tr><td>Szoba összesen</td><td>34</td><td>4</td></tr>",
                            "<tr><td>2016</td><td>35</td><td>6</td></tr>",
                            "<tr><td>2017</td><td>35</td><td>3</td></tr>",
                            "<tr><td>Szoba összesen</td><td>35</td><td>9</td></tr>",
                            "<tr><td>2016</td><td>36</td><td>6</td></tr>",
                            "<tr><td>Szoba összesen</td><td>36</td><td>6</td></tr>",
                            "<tr><td>2016</td><td>37</td><td>3</td></tr>",
                            "<tr><td>Szoba összesen</td><td>37</td><td>3</td></tr>",
                            "<tr><td>2016</td><td>38</td><td>5</td></tr>",
                            "<tr><td>2017</td><td>38</td><td>3</td></tr>",
                            "<tr><td>Szoba összesen</td><td>38</td><td>8</td></tr>",
                            "<tr><td>2016</td><td>39</td><td>4</td></tr>",
                            "<tr><td>2017</td><td>39</td><td>3</td></tr>",
                            "<tr><td>Szoba összesen</td><td>39</td><td>7</td></tr>",
                            "<tr><td>2016</td><td>40</td><td>4</td></tr>",
                            "<tr><td>Szoba összesen</td><td>40</td><td>4</td></tr>",
                            "<tr><td>2016</td><td>41</td><td>2</td></tr>",
                            "<tr><td>Szoba összesen</td><td>41</td><td>2</td></tr>",
                            "<tr><td>2016</td><td>42</td><td>5</td></tr>",
                            "<tr><td>2017</td><td>42</td><td>1</td></tr>",
                            "<tr><td>Szoba összesen</td><td>42</td><td>6</td></tr>",
                            "<tr><td>2016</td><td>43</td><td>6</td></tr>",
                            "<tr><td>2017</td><td>43</td><td>2</td></tr>",
                            "<tr><td>Szoba összesen</td><td>43</td><td>8</td></tr>",
                            "<tr><td>2016</td><td>44</td><td>4</td></tr>",
                            "<tr><td>2017</td><td>44</td><td>2</td></tr>",
                            "<tr><td>Szoba összesen</td><td>44</td><td>6</td></tr>",
                            "<tr><td>2016</td><td>45</td><td>5</td></tr>",
                            "<tr><td>Szoba összesen</td><td>45</td><td>5</td></tr>",
                            "<tr><td>2016</td><td>46</td><td>3</td></tr>",
                            "<tr><td>2017</td><td>46</td><td>1</td></tr>",
                            "<tr><td>Szoba összesen</td><td>46</td><td>4</td></tr>",
                            "<tr><td>2016</td><td>47</td><td>2</td></tr>",
                            "<tr><td>Szoba összesen</td><td>47</td><td>2</td></tr>",
                            "<tr><td>2016</td><td>48</td><td>6</td></tr>",
                            "<tr><td>2017</td><td>48</td><td>3</td></tr>",
                            "<tr><td>Szoba összesen</td><td>48</td><td>9</td></tr>",
                            "<tr><td>2016</td><td>49</td><td>6</td></tr>",
                            "<tr><td>2017</td><td>49</td><td>1</td></tr>",
                            "<tr><td>Szoba összesen</td><td>49</td><td>7</td></tr>",
                            "<tr><td>2016</td><td>50</td><td>4</td></tr>",
                            "<tr><td>Szoba összesen</td><td>50</td><td>4</td></tr>",
                            "<tr><td>2016</td><td>51</td><td>3</td></tr>",
                            "<tr><td>2017</td><td>51</td><td>2</td></tr>",
                            "<tr><td>Szoba összesen</td><td>51</td><td>5</td></tr>",
                            "<tr><td>2016</td><td>52</td><td>3</td></tr>",
                            "<tr><td>2017</td><td>52</td><td>2</td></tr>",
                            "<tr><td>Szoba összesen</td><td>52</td><td>5</td></tr>",
                            "<tr><td>2016</td><td>53</td><td>2</td></tr>",
                            "<tr><td>Szoba összesen</td><td>53</td><td>2</td></tr>",
                            "<tr><td>2016</td><td>54</td><td>6</td></tr>",
                            "<tr><td>Szoba összesen</td><td>54</td><td>6</td></tr>",
                            "<tr><td>2016</td><td>55</td><td>6</td></tr>",
                            "<tr><td>2017</td><td>55</td><td>2</td></tr>",
                            "<tr><td>Szoba összesen</td><td>55</td><td>8</td></tr>",
                            "<tr><td>2016</td><td>56</td><td>2</td></tr>",
                            "<tr><td>Szoba összesen</td><td>56</td><td>2</td></tr>",
                            "<tr><td>2016</td><td>57</td><td>2</td></tr>",
                            "<tr><td>2017</td><td>57</td><td>2</td></tr>",
                            "<tr><td>Szoba összesen</td><td>57</td><td>4</td></tr>",
                            "<tr><td>2016</td><td>58</td><td>12</td></tr>",
                            "<tr><td>2017</td><td>58</td><td>1</td></tr>",
                            "<tr><td>Szoba összesen</td><td>58</td><td>13</td></tr>",
                            "<tr><td>2016</td><td>59</td><td>6</td></tr>",
                            "<tr><td>2017</td><td>59</td><td>1</td></tr>",
                            "<tr><td>Szoba összesen</td><td>59</td><td>7</td></tr>",
                            "<tr><td>2016</td><td>60</td><td>1</td></tr>",
                            "<tr><td>Szoba összesen</td><td>60</td><td>1</td></tr>",
                            "<tr><td>2016</td><td>61</td><td>4</td></tr>",
                            "<tr><td>2017</td><td>61</td><td>1</td></tr>",
                            "<tr><td>Szoba összesen</td><td>61</td><td>5</td></tr>",
                            "<tr><td>2016</td><td>62</td><td>4</td></tr>",
                            "<tr><td>2017</td><td>62</td><td>1</td></tr>",
                            "<tr><td>Szoba összesen</td><td>62</td><td>5</td></tr>",
                            "<tr><td>2016</td><td>63</td><td>4</td></tr>",
                            "<tr><td>Szoba összesen</td><td>63</td><td>4</td></tr>",
                            "<tr><td>2016</td><td>64</td><td>3</td></tr>",
                            "<tr><td>2017</td><td>64</td><td>3</td></tr>",
                            "<tr><td>Szoba összesen</td><td>64</td><td>6</td></tr>",
                            "<tr><td>2016</td><td>65</td><td>1</td></tr>",
                            "<tr><td>Szoba összesen</td><td>65</td><td>1</td></tr>",
                            "<tr><td>2016</td><td>66</td><td>4</td></tr>",
                            "<tr><td>Szoba összesen</td><td>66</td><td>4</td></tr>",
                            "<tr><td>2016</td><td>67</td><td>4</td></tr>",
                            "<tr><td>2017</td><td>67</td><td>2</td></tr>",
                            "<tr><td>Szoba összesen</td><td>67</td><td>6</td></tr>",
                            "<tr><td>2016</td><td>68</td><td>3</td></tr>",
                            "<tr><td>Szoba összesen</td><td>68</td><td>3</td></tr>",
                            "<tr><td>2016</td><td>69</td><td>4</td></tr>",
                            "<tr><td>Szoba összesen</td><td>69</td><td>4</td></tr>",
                            "<tr><td>2016</td><td>70</td><td>10</td></tr>",
                            "<tr><td>2017</td><td>70</td><td>1</td></tr>",
                            "<tr><td>Szoba összesen</td><td>70</td><td>11</td></tr>",
                            "<tr><td>2016</td><td>71</td><td>3</td></tr>",
                            "<tr><td>Szoba összesen</td><td>71</td><td>3</td></tr>",
                            "<tr><td>2016</td><td>72</td><td>4</td></tr>",
                            "<tr><td>Szoba összesen</td><td>72</td><td>4</td></tr>",
                            "<tr><td>2016</td><td>73</td><td>4</td></tr>",
                            "<tr><td>Szoba összesen</td><td>73</td><td>4</td></tr>",
                            "<tr><td>2016</td><td>74</td><td>9</td></tr>",
                            "<tr><td>Szoba összesen</td><td>74</td><td>9</td></tr>",
                            "<tr><td>2016</td><td>75</td><td>1</td></tr>",
                            "<tr><td>2017</td><td>75</td><td>2</td></tr>",
                            "<tr><td>Szoba összesen</td><td>75</td><td>3</td></tr>",
                            "<tr><td>2016</td><td>76</td><td>2</td></tr>",
                            "<tr><td>2017</td><td>76</td><td>1</td></tr>",
                            "<tr><td>Szoba összesen</td><td>76</td><td>3</td></tr>",
                            "<tr><td>2016</td><td>77</td><td>4</td></tr>",
                            "<tr><td>2017</td><td>77</td><td>2</td></tr>",
                            "<tr><td>Szoba összesen</td><td>77</td><td>6</td></tr>",
                            "<tr><td>2016</td><td>78</td><td>5</td></tr>",
                            "<tr><td>2017</td><td>78</td><td>1</td></tr>",
                            "<tr><td>Szoba összesen</td><td>78</td><td>6</td></tr>",
                            "<tr><td>2016</td><td>79</td><td>4</td></tr>",
                            "<tr><td>2017</td><td>79</td><td>1</td></tr>",
                            "<tr><td>Szoba összesen</td><td>79</td><td>5</td></tr>",
                            "<tr><td>2016</td><td>80</td><td>7</td></tr>",
                            "<tr><td>Szoba összesen</td><td>80</td><td>7</td></tr>",
                            "<tr><td>2016</td><td>81</td><td>1</td></tr>",
                            "<tr><td>2017</td><td>81</td><td>4</td></tr>",
                            "<tr><td>Szoba összesen</td><td>81</td><td>5</td></tr>",
                            "<tr><td>2016</td><td>82</td><td>6</td></tr>",
                            "<tr><td>Szoba összesen</td><td>82</td><td>6</td></tr>",
                            "<tr><td>2016</td><td>83</td><td>8</td></tr>",
                            "<tr><td>Szoba összesen</td><td>83</td><td>8</td></tr>",
                            "<tr><td>2016</td><td>84</td><td>4</td></tr>",
                            "<tr><td>Szoba összesen</td><td>84</td><td>4</td></tr>",
                            "<tr><td>2016</td><td>85</td><td>3</td></tr>",
                            "<tr><td>2017</td><td>85</td><td>1</td></tr>",
                            "<tr><td>Szoba összesen</td><td>85</td><td>4</td></tr>",
                            "<tr><td>2016</td><td>86</td><td>4</td></tr>",
                            "<tr><td>2017</td><td>86</td><td>1</td></tr>",
                            "<tr><td>Szoba összesen</td><td>86</td><td>5</td></tr>",
                            "<tr><td>2016</td><td>87</td><td>4</td></tr>",
                            "<tr><td>2017</td><td>87</td><td>1</td></tr>",
                            "<tr><td>Szoba összesen</td><td>87</td><td>5</td></tr>",
                            "<tr><td>2016</td><td>88</td><td>6</td></tr>",
                            "<tr><td>2017</td><td>88</td><td>2</td></tr>",
                            "<tr><td>Szoba összesen</td><td>88</td><td>8</td></tr>",
                            "<tr><td>2016</td><td>89</td><td>7</td></tr>",
                            "<tr><td>2017</td><td>89</td><td>1</td></tr>",
                            "<tr><td>Szoba összesen</td><td>89</td><td>8</td></tr>",
                            "<tr><td>2016</td><td>90</td><td>4</td></tr>",
                            "<tr><td>Szoba összesen</td><td>90</td><td>4</td></tr>",
                            "<tr><td>2016</td><td>91</td><td>4</td></tr>",
                            "<tr><td>Szoba összesen</td><td>91</td><td>4</td></tr>",
                            "<tr><td>2016</td><td>92</td><td>4</td></tr>",
                            "<tr><td>2017</td><td>92</td><td>2</td></tr>",
                            "<tr><td>Szoba összesen</td><td>92</td><td>6</td></tr>",
                            "<tr><td>2016</td><td>93</td><td>5</td></tr>",
                            "<tr><td>Szoba összesen</td><td>93</td><td>5</td></tr>",
                            "<tr><td>2016</td><td>94</td><td>8</td></tr>",
                            "<tr><td>2017</td><td>94</td><td>2</td></tr>",
                            "<tr><td>Szoba összesen</td><td>94</td><td>10</td></tr>",
                            "<tr><td>2016</td><td>95</td><td>3</td></tr>",
                            "<tr><td>2017</td><td>95</td><td>1</td></tr>",
                            "<tr><td>Szoba összesen</td><td>95</td><td>4</td></tr>",
                            "<tr><td>2016</td><td>96</td><td>5</td></tr>",
                            "<tr><td>2017</td><td>96</td><td>2</td></tr>",
                            "<tr><td>Szoba összesen</td><td>96</td><td>7</td></tr>",
                            "<tr><td>2016</td><td>97</td><td>5</td></tr>",
                            "<tr><td>2017</td><td>97</td><td>2</td></tr>",
                            "<tr><td>Szoba összesen</td><td>97</td><td>7</td></tr>",
                            "<tr><td>2016</td><td>98</td><td>4</td></tr>",
                            "<tr><td>Szoba összesen</td><td>98</td><td>4</td></tr>",
                            "<tr><td>2016</td><td>99</td><td>4</td></tr>",
                            "<tr><td>2017</td><td>99</td><td>1</td></tr>",
                            "<tr><td>Szoba összesen</td><td>99</td><td>5</td></tr>",
                            "<tr><td>2016</td><td>100</td><td>3</td></tr>",
                            "<tr><td>2017</td><td>100</td><td>1</td></tr>",
                            "<tr><td>Szoba összesen</td><td>100</td><td>4</td></tr>",
                            "<tr><td>2016</td><td>101</td><td>2</td></tr>",
                            "<tr><td>2017</td><td>101</td><td>1</td></tr>",
                            "<tr><td>Szoba összesen</td><td>101</td><td>3</td></tr>",
                            "<tr><td>2016</td><td>102</td><td>2</td></tr>",
                            "<tr><td>Szoba összesen</td><td>102</td><td>2</td></tr>",
                            "<tr><td>2016</td><td>103</td><td>3</td></tr>",
                            "<tr><td>2017</td><td>103</td><td>1</td></tr>",
                            "<tr><td>Szoba összesen</td><td>103</td><td>4</td></tr>",
                            "<tr><td>2016</td><td>104</td><td>2</td></tr>",
                            "<tr><td>2017</td><td>104</td><td>2</td></tr>",
                            "<tr><td>Szoba összesen</td><td>104</td><td>4</td></tr>",
                            "<tr><td>2016</td><td>105</td><td>1</td></tr>",
                            "<tr><td>2017</td><td>105</td><td>1</td></tr>",
                            "<tr><td>Szoba összesen</td><td>105</td><td>2</td></tr>",
                            "<tr><td>2016</td><td>106</td><td>5</td></tr>",
                            "<tr><td>2017</td><td>106</td><td>1</td></tr>",
                            "<tr><td>Szoba összesen</td><td>106</td><td>6</td></tr>",
                            "<tr><td>2016</td><td>107</td><td>3</td></tr>",
                            "<tr><td>2017</td><td>107</td><td>2</td></tr>",
                            "<tr><td>Szoba összesen</td><td>107</td><td>5</td></tr>",
                            "<tr><td>2016</td><td>108</td><td>2</td></tr>",
                            "<tr><td>Szoba összesen</td><td>108</td><td>2</td></tr>",
                            "<tr><td>2016</td><td>109</td><td>6</td></tr>",
                            "<tr><td>2017</td><td>109</td><td>1</td></tr>",
                            "<tr><td>Szoba összesen</td><td>109</td><td>7</td></tr>",
                            "<tr><td>2016</td><td>110</td><td>6</td></tr>",
                            "<tr><td>2017</td><td>110</td><td>2</td></tr>",
                            "<tr><td>Szoba összesen</td><td>110</td><td>8</td></tr>",
                            "<tr><td>2016</td><td>111</td><td>5</td></tr>",
                            "<tr><td>Szoba összesen</td><td>111</td><td>5</td></tr>",
                            "<tr><td>2016</td><td>112</td><td>4</td></tr>",
                            "<tr><td>2017</td><td>112</td><td>1</td></tr>",
                            "<tr><td>Szoba összesen</td><td>112</td><td>5</td></tr>",
                            "<tr><td>2016</td><td>113</td><td>3</td></tr>",
                            "<tr><td>2017</td><td>113</td><td>2</td></tr>",
                            "<tr><td>Szoba összesen</td><td>113</td><td>5</td></tr>",
                            "<tr><td>2016</td><td>114</td><td>3</td></tr>",
                            "<tr><td>2017</td><td>114</td><td>1</td></tr>",
                            "<tr><td>Szoba összesen</td><td>114</td><td>4</td></tr>",
                            "<tr><td>2016</td><td>115</td><td>5</td></tr>",
                            "<tr><td>2017</td><td>115</td><td>2</td></tr>",
                            "<tr><td>Szoba összesen</td><td>115</td><td>7</td></tr>",
                            "<tr><td>2017</td><td>116</td><td>2</td></tr>",
                            "<tr><td>Szoba összesen</td><td>116</td><td>2</td></tr>",
                            "<tr><td>2016</td><td>117</td><td>7</td></tr>",
                            "<tr><td>2017</td><td>117</td><td>1</td></tr>",
                            "<tr><td>Szoba összesen</td><td>117</td><td>8</td></tr>",
                            "<tr><td>2016</td><td>118</td><td>5</td></tr>",
                            "<tr><td>2017</td><td>118</td><td>2</td></tr>",
                            "<tr><td>Szoba összesen</td><td>118</td><td>7</td></tr>",
                            "<tr><td>2016</td><td>119</td><td>3</td></tr>",
                            "<tr><td>2017</td><td>119</td><td>2</td></tr>",
                            "<tr><td>Szoba összesen</td><td>119</td><td>5</td></tr>",
                            "<tr><td>2016</td><td>120</td><td>4</td></tr>",
                            "<tr><td>2017</td><td>120</td><td>2</td></tr>",
                            "<tr><td>Szoba összesen</td><td>120</td><td>6</td></tr>",
                            "<tr><td>2016</td><td>121</td><td>8</td></tr>",
                            "<tr><td>Szoba összesen</td><td>121</td><td>8</td></tr>",
                            "<tr><td>2016</td><td>122</td><td>8</td></tr>",
                            "<tr><td>2017</td><td>122</td><td>1</td></tr>",
                            "<tr><td>Szoba összesen</td><td>122</td><td>9</td></tr>",
                            "<tr><td>2016</td><td>123</td><td>5</td></tr>",
                            "<tr><td>Szoba összesen</td><td>123</td><td>5</td></tr>",
                            "<tr><td>2016</td><td>124</td><td>4</td></tr>",
                            "<tr><td>2017</td><td>124</td><td>2</td></tr>",
                            "<tr><td>Szoba összesen</td><td>124</td><td>6</td></tr>",
                            "<tr><td>2016</td><td>125</td><td>1</td></tr>",
                            "<tr><td>Szoba összesen</td><td>125</td><td>1</td></tr>",
                            "<tr><td>2016</td><td>126</td><td>4</td></tr>",
                            "<tr><td>2017</td><td>126</td><td>2</td></tr>",
                            "<tr><td>Szoba összesen</td><td>126</td><td>6</td></tr>",
                            "<tr><td>2016</td><td>127</td><td>6</td></tr>",
                            "<tr><td>2017</td><td>127</td><td>1</td></tr>",
                            "<tr><td>Szoba összesen</td><td>127</td><td>7</td></tr>",
                            "<tr><td>2016</td><td>128</td><td>3</td></tr>",
                            "<tr><td>2017</td><td>128</td><td>2</td></tr>",
                            "<tr><td>Szoba összesen</td><td>128</td><td>5</td></tr>",
                            "<tr><td>2016</td><td>129</td><td>2</td></tr>",
                            "<tr><td>2017</td><td>129</td><td>2</td></tr>",
                            "<tr><td>Szoba összesen</td><td>129</td><td>4</td></tr>",
                            "<tr><td>2016</td><td>130</td><td>5</td></tr>",
                            "<tr><td>2017</td><td>130</td><td>1</td></tr>",
                            "<tr><td>Szoba összesen</td><td>130</td><td>6</td></tr>",
                            "<tr><td>2016</td><td>131</td><td>4</td></tr>",
                            "<tr><td>2017</td><td>131</td><td>1</td></tr>",
                            "<tr><td>Szoba összesen</td><td>131</td><td>5</td></tr>",
                            "<tr><td>2016</td><td>132</td><td>5</td></tr>",
                            "<tr><td>2017</td><td>132</td><td>1</td></tr>",
                            "<tr><td>Szoba összesen</td><td>132</td><td>6</td></tr>",
                            "<tr><td>2016</td><td>133</td><td>5</td></tr>",
                            "<tr><td>2017</td><td>133</td><td>1</td></tr>",
                            "<tr><td>Szoba összesen</td><td>133</td><td>6</td></tr>",
                            "<tr><td>2016</td><td>134</td><td>5</td></tr>",
                            "<tr><td>2017</td><td>134</td><td>1</td></tr>",
                            "<tr><td>Szoba összesen</td><td>134</td><td>6</td></tr>",
                            "<tr><td>2016</td><td>135</td><td>3</td></tr>",
                            "<tr><td>Szoba összesen</td><td>135</td><td>3</td></tr>",
                            "<tr><td>2016</td><td>136</td><td>3</td></tr>",
                            "<tr><td>Szoba összesen</td><td>136</td><td>3</td></tr>",
                            "<tr><td>2016</td><td>137</td><td>6</td></tr>",
                            "<tr><td>Szoba összesen</td><td>137</td><td>6</td></tr>",
                            "<tr><td>2016</td><td>138</td><td>7</td></tr>",
                            "<tr><td>Szoba összesen</td><td>138</td><td>7</td></tr>",
                            "<tr><td>2016</td><td>139</td><td>5</td></tr>",
                            "<tr><td>2017</td><td>139</td><td>2</td></tr>",
                            "<tr><td>Szoba összesen</td><td>139</td><td>7</td></tr>",
                            "<tr><td>2016</td><td>140</td><td>8</td></tr>",
                            "<tr><td>Szoba összesen</td><td>140</td><td>8</td></tr>",
                            "<tr><td>2016</td><td>141</td><td>6</td></tr>",
                            "<tr><td>Szoba összesen</td><td>141</td><td>6</td></tr>",
                            "<tr><td>2016</td><td>142</td><td>1</td></tr>",
                            "<tr><td>2017</td><td>142</td><td>1</td></tr>",
                            "<tr><td>Szoba összesen</td><td>142</td><td>2</td></tr>",
                            "<tr><td>2016</td><td>143</td><td>6</td></tr>",
                            "<tr><td>2017</td><td>143</td><td>1</td></tr>",
                            "<tr><td>Szoba összesen</td><td>143</td><td>7</td></tr>",
                            "<tr><td>2016</td><td>144</td><td>4</td></tr>",
                            "<tr><td>2017</td><td>144</td><td>1</td></tr>",
                            "<tr><td>Szoba összesen</td><td>144</td><td>5</td></tr>",
                            "<tr><td>2016</td><td>145</td><td>5</td></tr>",
                            "<tr><td>2017</td><td>145</td><td>1</td></tr>",
                            "<tr><td>Szoba összesen</td><td>145</td><td>6</td></tr>",
                            "<tr><td>2016</td><td>146</td><td>5</td></tr>",
                            "<tr><td>2017</td><td>146</td><td>1</td></tr>",
                            "<tr><td>Szoba összesen</td><td>146</td><td>6</td></tr>",
                            "<tr><td>2016</td><td>147</td><td>1</td></tr>",
                            "<tr><td>Szoba összesen</td><td>147</td><td>1</td></tr>",
                            "<tr><td>2016</td><td>148</td><td>5</td></tr>",
                            "<tr><td>2017</td><td>148</td><td>1</td></tr>",
                            "<tr><td>Szoba összesen</td><td>148</td><td>6</td></tr>",
                            "<tr><td>2016</td><td>149</td><td>6</td></tr>",
                            "<tr><td>2017</td><td>149</td><td>1</td></tr>",
                            "<tr><td>Szoba összesen</td><td>149</td><td>7</td></tr>",
                            "<tr><td>2016</td><td>150</td><td>5</td></tr>",
                            "<tr><td>2017</td><td>150</td><td>1</td></tr>",
                            "<tr><td>Szoba összesen</td><td>150</td><td>6</td></tr>",
                            "<tr><td>2016</td><td>151</td><td>3</td></tr>",
                            "<tr><td>Szoba összesen</td><td>151</td><td>3</td></tr>",
                            "<tr><td>2016</td><td>152</td><td>3</td></tr>",
                            "<tr><td>2017</td><td>152</td><td>1</td></tr>",
                            "<tr><td>Szoba összesen</td><td>152</td><td>4</td></tr>",
                            "<tr><td>2016</td><td>153</td><td>2</td></tr>",
                            "<tr><td>2017</td><td>153</td><td>3</td></tr>",
                            "<tr><td>Szoba összesen</td><td>153</td><td>5</td></tr>",
                            "<tr><td>2016</td><td>154</td><td>4</td></tr>",
                            "<tr><td>2017</td><td>154</td><td>1</td></tr>",
                            "<tr><td>Szoba összesen</td><td>154</td><td>5</td></tr>",
                            "<tr><td>2016</td><td>155</td><td>4</td></tr>",
                            "<tr><td>2017</td><td>155</td><td>1</td></tr>",
                            "<tr><td>Szoba összesen</td><td>155</td><td>5</td></tr>",
                            "<tr><td>2016</td><td>156</td><td>4</td></tr>",
                            "<tr><td>2017</td><td>156</td><td>3</td></tr>",
                            "<tr><td>Szoba összesen</td><td>156</td><td>7</td></tr>",
                            "<tr><td>2016</td><td>157</td><td>4</td></tr>",
                            "<tr><td>2017</td><td>157</td><td>1</td></tr>",
                            "<tr><td>Szoba összesen</td><td>157</td><td>5</td></tr>",
                            "<tr><td>2016</td><td>158</td><td>3</td></tr>",
                            "<tr><td>Szoba összesen</td><td>158</td><td>3</td></tr>",
                            "<tr><td>2016</td><td>160</td><td>4</td></tr>",
                            "<tr><td>2017</td><td>160</td><td>1</td></tr>",
                            "<tr><td>Szoba összesen</td><td>160</td><td>5</td></tr>",
                            "<tr><td>2016</td><td>161</td><td>5</td></tr>",
                            "<tr><td>2017</td><td>161</td><td>1</td></tr>",
                            "<tr><td>Szoba összesen</td><td>161</td><td>6</td></tr>",
                            "<tr><td>2016</td><td>162</td><td>3</td></tr>",
                            "<tr><td>Szoba összesen</td><td>162</td><td>3</td></tr>",
                            "<tr><td>2016</td><td>163</td><td>6</td></tr>",
                            "<tr><td>2017</td><td>163</td><td>1</td></tr>",
                            "<tr><td>Szoba összesen</td><td>163</td><td>7</td></tr>",
                            "<tr><td>2016</td><td>164</td><td>5</td></tr>",
                            "<tr><td>Szoba összesen</td><td>164</td><td>5</td></tr>",
                            "<tr><td>2016</td><td>165</td><td>7</td></tr>",
                            "<tr><td>Szoba összesen</td><td>165</td><td>7</td></tr>",
                            "<tr><td>2016</td><td>166</td><td>2</td></tr>",
                            "<tr><td>2017</td><td>166</td><td>1</td></tr>",
                            "<tr><td>Szoba összesen</td><td>166</td><td>3</td></tr>",
                            "<tr><td>2016</td><td>167</td><td>1</td></tr>",
                            "<tr><td>2017</td><td>167</td><td>1</td></tr>",
                            "<tr><td>Szoba összesen</td><td>167</td><td>2</td></tr>",
                            "<tr><td>2016</td><td>168</td><td>5</td></tr>",
                            "<tr><td>Szoba összesen</td><td>168</td><td>5</td></tr>",
                            "<tr><td>2016</td><td>169</td><td>5</td></tr>",
                            "<tr><td>2017</td><td>169</td><td>1</td></tr>",
                            "<tr><td>Szoba összesen</td><td>169</td><td>6</td></tr>",
                            "<tr><td>2016</td><td>170</td><td>5</td></tr>",
                            "<tr><td>Szoba összesen</td><td>170</td><td>5</td></tr>",
                            "<tr><td>2016</td><td>171</td><td>4</td></tr>",
                            "<tr><td>2017</td><td>171</td><td>1</td></tr>",
                            "<tr><td>Szoba összesen</td><td>171</td><td>5</td></tr>",
                            "<tr><td>2016</td><td>172</td><td>7</td></tr>",
                            "<tr><td>2017</td><td>172</td><td>2</td></tr>",
                            "<tr><td>Szoba összesen</td><td>172</td><td>9</td></tr>",
                            "<tr><td>2016</td><td>173</td><td>3</td></tr>",
                            "<tr><td>2017</td><td>173</td><td>1</td></tr>",
                            "<tr><td>Szoba összesen</td><td>173</td><td>4</td></tr>",
                            "<tr><td>2016</td><td>174</td><td>4</td></tr>",
                            "<tr><td>Szoba összesen</td><td>174</td><td>4</td></tr>",
                            "<tr><td>2016</td><td>175</td><td>5</td></tr>",
                            "<tr><td>Szoba összesen</td><td>175</td><td>5</td></tr>",
                            "<tr><td>2016</td><td>176</td><td>4</td></tr>",
                            "<tr><td>2017</td><td>176</td><td>2</td></tr>",
                            "<tr><td>Szoba összesen</td><td>176</td><td>6</td></tr>",
                            "<tr><td>2016</td><td>177</td><td>3</td></tr>",
                            "<tr><td>2017</td><td>177</td><td>1</td></tr>",
                            "<tr><td>Szoba összesen</td><td>177</td><td>4</td></tr>",
                            "<tr><td>2016</td><td>178</td><td>4</td></tr>",
                            "<tr><td>Szoba összesen</td><td>178</td><td>4</td></tr>",
                            "<tr><td>2016</td><td>179</td><td>2</td></tr>",
                            "<tr><td>2017</td><td>179</td><td>1</td></tr>",
                            "<tr><td>Szoba összesen</td><td>179</td><td>3</td></tr>",
                            "<tr><td>2016</td><td>180</td><td>1</td></tr>",
                            "<tr><td>2017</td><td>180</td><td>2</td></tr>",
                            "<tr><td>Szoba összesen</td><td>180</td><td>3</td></tr>",
                            "<tr><td>2016</td><td>181</td><td>6</td></tr>",
                            "<tr><td>Szoba összesen</td><td>181</td><td>6</td></tr>",
                            "<tr><td>2016</td><td>182</td><td>10</td></tr>",
                            "<tr><td>2017</td><td>182</td><td>2</td></tr>",
                            "<tr><td>Szoba összesen</td><td>182</td><td>12</td></tr>",
                            "<tr><td>2016</td><td>183</td><td>3</td></tr>",
                            "<tr><td>2017</td><td>183</td><td>1</td></tr>",
                            "<tr><td>Szoba összesen</td><td>183</td><td>4</td></tr>",
                            "<tr><td>2016</td><td>184</td><td>4</td></tr>",
                            "<tr><td>Szoba összesen</td><td>184</td><td>4</td></tr>",
                            "<tr><td>2016</td><td>185</td><td>10</td></tr>",
                            "<tr><td>2017</td><td>185</td><td>2</td></tr>",
                            "<tr><td>Szoba összesen</td><td>185</td><td>12</td></tr>",
                            "<tr><td>2016</td><td>186</td><td>3</td></tr>",
                            "<tr><td>2017</td><td>186</td><td>1</td></tr>",
                            "<tr><td>Szoba összesen</td><td>186</td><td>4</td></tr>",
                            "<tr><td>2016</td><td>187</td><td>7</td></tr>",
                            "<tr><td>Szoba összesen</td><td>187</td><td>7</td></tr>",
                            "<tr><td>2016</td><td>188</td><td>6</td></tr>",
                            "<tr><td>Szoba összesen</td><td>188</td><td>6</td></tr>",
                            "<tr><td>2016</td><td>189</td><td>3</td></tr>",
                            "<tr><td>2017</td><td>189</td><td>2</td></tr>",
                            "<tr><td>Szoba összesen</td><td>189</td><td>5</td></tr>",
                            "<tr><td>2016</td><td>190</td><td>4</td></tr>",
                            "<tr><td>2017</td><td>190</td><td>1</td></tr>",
                            "<tr><td>Szoba összesen</td><td>190</td><td>5</td></tr>",
                            "<tr><td>2016</td><td>191</td><td>3</td></tr>",
                            "<tr><td>2017</td><td>191</td><td>2</td></tr>",
                            "<tr><td>Szoba összesen</td><td>191</td><td>5</td></tr>",
                            "<tr><td>2016</td><td>192</td><td>2</td></tr>",
                            "<tr><td>Szoba összesen</td><td>192</td><td>2</td></tr>",
                            "<tr><td>2016</td><td>193</td><td>7</td></tr>",
                            "<tr><td>Szoba összesen</td><td>193</td><td>7</td></tr>",
                            "<tr><td>2016</td><td>194</td><td>1</td></tr>",
                            "<tr><td>Szoba összesen</td><td>194</td><td>1</td></tr>",
                            "<tr><td>2016</td><td>195</td><td>4</td></tr>",
                            "<tr><td>2017</td><td>195</td><td>2</td></tr>",
                            "<tr><td>Szoba összesen</td><td>195</td><td>6</td></tr>",
                            "<tr><td>2016</td><td>196</td><td>4</td></tr>",
                            "<tr><td>Szoba összesen</td><td>196</td><td>4</td></tr>",
                            "<tr><td>2016</td><td>197</td><td>6</td></tr>",
                            "<tr><td>Szoba összesen</td><td>197</td><td>6</td></tr>",
                            "<tr><td>2016</td><td>198</td><td>7</td></tr>",
                            "<tr><td>2017</td><td>198</td><td>1</td></tr>",
                            "<tr><td>Szoba összesen</td><td>198</td><td>8</td></tr>",
                            "</table>"
                        ]
                    }
                },
                {
                    "output_type": "error",
                    "evalue": "Msg 245, Level 16, State 1, Line 1\r\nConversion failed when converting the varchar value 'Szoba összesen' to data type int.",
                    "ename": "",
                    "traceback": []
                }
            ],
            "execution_count": 15
        },
        {
            "cell_type": "code",
            "source": [
                "SELECT szoba_fk, year(METTOL), count(*)\r\n",
                "from Foglalas\r\n",
                "GROUP BY ROLLUP (SZOBA_FK,YEAR(METTOL))"
            ],
            "metadata": {
                "language": "sql",
                "azdata_cell_guid": "3422ee2f-d3d0-45c2-8b3c-3c28ade36be2"
            },
            "outputs": [
                {
                    "output_type": "display_data",
                    "data": {
                        "text/html": "(513 rows affected)"
                    },
                    "metadata": {}
                },
                {
                    "output_type": "display_data",
                    "data": {
                        "text/html": "Total execution time: 00:00:00.016"
                    },
                    "metadata": {}
                },
                {
                    "output_type": "execute_result",
                    "metadata": {},
                    "execution_count": 26,
                    "data": {
                        "application/vnd.dataresource+json": {
                            "schema": {
                                "fields": [
                                    {
                                        "name": "szoba_fk"
                                    },
                                    {
                                        "name": "(No column name)"
                                    },
                                    {
                                        "name": "(No column name)"
                                    }
                                ]
                            },
                            "data": [
                                {
                                    "szoba_fk": "1",
                                    "(No column name)": "8"
                                },
                                {
                                    "szoba_fk": "1",
                                    "(No column name)": "8"
                                },
                                {
                                    "szoba_fk": "2",
                                    "(No column name)": "4"
                                },
                                {
                                    "szoba_fk": "2",
                                    "(No column name)": "4"
                                },
                                {
                                    "szoba_fk": "3",
                                    "(No column name)": "6"
                                },
                                {
                                    "szoba_fk": "3",
                                    "(No column name)": "2"
                                },
                                {
                                    "szoba_fk": "3",
                                    "(No column name)": "8"
                                },
                                {
                                    "szoba_fk": "4",
                                    "(No column name)": "5"
                                },
                                {
                                    "szoba_fk": "4",
                                    "(No column name)": "1"
                                },
                                {
                                    "szoba_fk": "4",
                                    "(No column name)": "6"
                                },
                                {
                                    "szoba_fk": "5",
                                    "(No column name)": "4"
                                },
                                {
                                    "szoba_fk": "5",
                                    "(No column name)": "4"
                                },
                                {
                                    "szoba_fk": "6",
                                    "(No column name)": "6"
                                },
                                {
                                    "szoba_fk": "6",
                                    "(No column name)": "6"
                                },
                                {
                                    "szoba_fk": "7",
                                    "(No column name)": "6"
                                },
                                {
                                    "szoba_fk": "7",
                                    "(No column name)": "6"
                                },
                                {
                                    "szoba_fk": "8",
                                    "(No column name)": "5"
                                },
                                {
                                    "szoba_fk": "8",
                                    "(No column name)": "5"
                                },
                                {
                                    "szoba_fk": "9",
                                    "(No column name)": "4"
                                },
                                {
                                    "szoba_fk": "9",
                                    "(No column name)": "2"
                                },
                                {
                                    "szoba_fk": "9",
                                    "(No column name)": "6"
                                },
                                {
                                    "szoba_fk": "10",
                                    "(No column name)": "4"
                                },
                                {
                                    "szoba_fk": "10",
                                    "(No column name)": "4"
                                },
                                {
                                    "szoba_fk": "11",
                                    "(No column name)": "3"
                                },
                                {
                                    "szoba_fk": "11",
                                    "(No column name)": "1"
                                },
                                {
                                    "szoba_fk": "11",
                                    "(No column name)": "4"
                                },
                                {
                                    "szoba_fk": "12",
                                    "(No column name)": "8"
                                },
                                {
                                    "szoba_fk": "12",
                                    "(No column name)": "1"
                                },
                                {
                                    "szoba_fk": "12",
                                    "(No column name)": "9"
                                },
                                {
                                    "szoba_fk": "13",
                                    "(No column name)": "3"
                                },
                                {
                                    "szoba_fk": "13",
                                    "(No column name)": "1"
                                },
                                {
                                    "szoba_fk": "13",
                                    "(No column name)": "4"
                                },
                                {
                                    "szoba_fk": "14",
                                    "(No column name)": "2"
                                },
                                {
                                    "szoba_fk": "14",
                                    "(No column name)": "1"
                                },
                                {
                                    "szoba_fk": "14",
                                    "(No column name)": "3"
                                },
                                {
                                    "szoba_fk": "15",
                                    "(No column name)": "4"
                                },
                                {
                                    "szoba_fk": "15",
                                    "(No column name)": "2"
                                },
                                {
                                    "szoba_fk": "15",
                                    "(No column name)": "6"
                                },
                                {
                                    "szoba_fk": "16",
                                    "(No column name)": "4"
                                },
                                {
                                    "szoba_fk": "16",
                                    "(No column name)": "1"
                                },
                                {
                                    "szoba_fk": "16",
                                    "(No column name)": "5"
                                },
                                {
                                    "szoba_fk": "17",
                                    "(No column name)": "5"
                                },
                                {
                                    "szoba_fk": "17",
                                    "(No column name)": "1"
                                },
                                {
                                    "szoba_fk": "17",
                                    "(No column name)": "6"
                                },
                                {
                                    "szoba_fk": "18",
                                    "(No column name)": "5"
                                },
                                {
                                    "szoba_fk": "18",
                                    "(No column name)": "1"
                                },
                                {
                                    "szoba_fk": "18",
                                    "(No column name)": "6"
                                },
                                {
                                    "szoba_fk": "19",
                                    "(No column name)": "5"
                                },
                                {
                                    "szoba_fk": "19",
                                    "(No column name)": "1"
                                },
                                {
                                    "szoba_fk": "19",
                                    "(No column name)": "6"
                                },
                                {
                                    "szoba_fk": "20",
                                    "(No column name)": "5"
                                },
                                {
                                    "szoba_fk": "20",
                                    "(No column name)": "5"
                                },
                                {
                                    "szoba_fk": "21",
                                    "(No column name)": "4"
                                },
                                {
                                    "szoba_fk": "21",
                                    "(No column name)": "4"
                                },
                                {
                                    "szoba_fk": "22",
                                    "(No column name)": "6"
                                },
                                {
                                    "szoba_fk": "22",
                                    "(No column name)": "6"
                                },
                                {
                                    "szoba_fk": "23",
                                    "(No column name)": "3"
                                },
                                {
                                    "szoba_fk": "23",
                                    "(No column name)": "3"
                                },
                                {
                                    "szoba_fk": "24",
                                    "(No column name)": "2"
                                },
                                {
                                    "szoba_fk": "24",
                                    "(No column name)": "1"
                                },
                                {
                                    "szoba_fk": "24",
                                    "(No column name)": "3"
                                },
                                {
                                    "szoba_fk": "25",
                                    "(No column name)": "2"
                                },
                                {
                                    "szoba_fk": "25",
                                    "(No column name)": "2"
                                },
                                {
                                    "szoba_fk": "26",
                                    "(No column name)": "2"
                                },
                                {
                                    "szoba_fk": "26",
                                    "(No column name)": "2"
                                },
                                {
                                    "szoba_fk": "27",
                                    "(No column name)": "6"
                                },
                                {
                                    "szoba_fk": "27",
                                    "(No column name)": "1"
                                },
                                {
                                    "szoba_fk": "27",
                                    "(No column name)": "7"
                                },
                                {
                                    "szoba_fk": "28",
                                    "(No column name)": "5"
                                },
                                {
                                    "szoba_fk": "28",
                                    "(No column name)": "1"
                                },
                                {
                                    "szoba_fk": "28",
                                    "(No column name)": "6"
                                },
                                {
                                    "szoba_fk": "29",
                                    "(No column name)": "5"
                                },
                                {
                                    "szoba_fk": "29",
                                    "(No column name)": "1"
                                },
                                {
                                    "szoba_fk": "29",
                                    "(No column name)": "6"
                                },
                                {
                                    "szoba_fk": "30",
                                    "(No column name)": "3"
                                },
                                {
                                    "szoba_fk": "30",
                                    "(No column name)": "3"
                                },
                                {
                                    "szoba_fk": "31",
                                    "(No column name)": "3"
                                },
                                {
                                    "szoba_fk": "31",
                                    "(No column name)": "3"
                                },
                                {
                                    "szoba_fk": "32",
                                    "(No column name)": "1"
                                },
                                {
                                    "szoba_fk": "32",
                                    "(No column name)": "1"
                                },
                                {
                                    "szoba_fk": "33",
                                    "(No column name)": "6"
                                },
                                {
                                    "szoba_fk": "33",
                                    "(No column name)": "6"
                                },
                                {
                                    "szoba_fk": "34",
                                    "(No column name)": "4"
                                },
                                {
                                    "szoba_fk": "34",
                                    "(No column name)": "4"
                                },
                                {
                                    "szoba_fk": "35",
                                    "(No column name)": "6"
                                },
                                {
                                    "szoba_fk": "35",
                                    "(No column name)": "3"
                                },
                                {
                                    "szoba_fk": "35",
                                    "(No column name)": "9"
                                },
                                {
                                    "szoba_fk": "36",
                                    "(No column name)": "6"
                                },
                                {
                                    "szoba_fk": "36",
                                    "(No column name)": "6"
                                },
                                {
                                    "szoba_fk": "37",
                                    "(No column name)": "3"
                                },
                                {
                                    "szoba_fk": "37",
                                    "(No column name)": "3"
                                },
                                {
                                    "szoba_fk": "38",
                                    "(No column name)": "5"
                                },
                                {
                                    "szoba_fk": "38",
                                    "(No column name)": "3"
                                },
                                {
                                    "szoba_fk": "38",
                                    "(No column name)": "8"
                                },
                                {
                                    "szoba_fk": "39",
                                    "(No column name)": "4"
                                },
                                {
                                    "szoba_fk": "39",
                                    "(No column name)": "3"
                                },
                                {
                                    "szoba_fk": "39",
                                    "(No column name)": "7"
                                },
                                {
                                    "szoba_fk": "40",
                                    "(No column name)": "4"
                                },
                                {
                                    "szoba_fk": "40",
                                    "(No column name)": "4"
                                },
                                {
                                    "szoba_fk": "41",
                                    "(No column name)": "2"
                                },
                                {
                                    "szoba_fk": "41",
                                    "(No column name)": "2"
                                },
                                {
                                    "szoba_fk": "42",
                                    "(No column name)": "5"
                                },
                                {
                                    "szoba_fk": "42",
                                    "(No column name)": "1"
                                },
                                {
                                    "szoba_fk": "42",
                                    "(No column name)": "6"
                                },
                                {
                                    "szoba_fk": "43",
                                    "(No column name)": "6"
                                },
                                {
                                    "szoba_fk": "43",
                                    "(No column name)": "2"
                                },
                                {
                                    "szoba_fk": "43",
                                    "(No column name)": "8"
                                },
                                {
                                    "szoba_fk": "44",
                                    "(No column name)": "4"
                                },
                                {
                                    "szoba_fk": "44",
                                    "(No column name)": "2"
                                },
                                {
                                    "szoba_fk": "44",
                                    "(No column name)": "6"
                                },
                                {
                                    "szoba_fk": "45",
                                    "(No column name)": "5"
                                },
                                {
                                    "szoba_fk": "45",
                                    "(No column name)": "5"
                                },
                                {
                                    "szoba_fk": "46",
                                    "(No column name)": "3"
                                },
                                {
                                    "szoba_fk": "46",
                                    "(No column name)": "1"
                                },
                                {
                                    "szoba_fk": "46",
                                    "(No column name)": "4"
                                },
                                {
                                    "szoba_fk": "47",
                                    "(No column name)": "2"
                                },
                                {
                                    "szoba_fk": "47",
                                    "(No column name)": "2"
                                },
                                {
                                    "szoba_fk": "48",
                                    "(No column name)": "6"
                                },
                                {
                                    "szoba_fk": "48",
                                    "(No column name)": "3"
                                },
                                {
                                    "szoba_fk": "48",
                                    "(No column name)": "9"
                                },
                                {
                                    "szoba_fk": "49",
                                    "(No column name)": "6"
                                },
                                {
                                    "szoba_fk": "49",
                                    "(No column name)": "1"
                                },
                                {
                                    "szoba_fk": "49",
                                    "(No column name)": "7"
                                },
                                {
                                    "szoba_fk": "50",
                                    "(No column name)": "4"
                                },
                                {
                                    "szoba_fk": "50",
                                    "(No column name)": "4"
                                },
                                {
                                    "szoba_fk": "51",
                                    "(No column name)": "3"
                                },
                                {
                                    "szoba_fk": "51",
                                    "(No column name)": "2"
                                },
                                {
                                    "szoba_fk": "51",
                                    "(No column name)": "5"
                                },
                                {
                                    "szoba_fk": "52",
                                    "(No column name)": "3"
                                },
                                {
                                    "szoba_fk": "52",
                                    "(No column name)": "2"
                                },
                                {
                                    "szoba_fk": "52",
                                    "(No column name)": "5"
                                },
                                {
                                    "szoba_fk": "53",
                                    "(No column name)": "2"
                                },
                                {
                                    "szoba_fk": "53",
                                    "(No column name)": "2"
                                },
                                {
                                    "szoba_fk": "54",
                                    "(No column name)": "6"
                                },
                                {
                                    "szoba_fk": "54",
                                    "(No column name)": "6"
                                },
                                {
                                    "szoba_fk": "55",
                                    "(No column name)": "6"
                                },
                                {
                                    "szoba_fk": "55",
                                    "(No column name)": "2"
                                },
                                {
                                    "szoba_fk": "55",
                                    "(No column name)": "8"
                                },
                                {
                                    "szoba_fk": "56",
                                    "(No column name)": "2"
                                },
                                {
                                    "szoba_fk": "56",
                                    "(No column name)": "2"
                                },
                                {
                                    "szoba_fk": "57",
                                    "(No column name)": "2"
                                },
                                {
                                    "szoba_fk": "57",
                                    "(No column name)": "2"
                                },
                                {
                                    "szoba_fk": "57",
                                    "(No column name)": "4"
                                },
                                {
                                    "szoba_fk": "58",
                                    "(No column name)": "12"
                                },
                                {
                                    "szoba_fk": "58",
                                    "(No column name)": "1"
                                },
                                {
                                    "szoba_fk": "58",
                                    "(No column name)": "13"
                                },
                                {
                                    "szoba_fk": "59",
                                    "(No column name)": "6"
                                },
                                {
                                    "szoba_fk": "59",
                                    "(No column name)": "1"
                                },
                                {
                                    "szoba_fk": "59",
                                    "(No column name)": "7"
                                },
                                {
                                    "szoba_fk": "60",
                                    "(No column name)": "1"
                                },
                                {
                                    "szoba_fk": "60",
                                    "(No column name)": "1"
                                },
                                {
                                    "szoba_fk": "61",
                                    "(No column name)": "4"
                                },
                                {
                                    "szoba_fk": "61",
                                    "(No column name)": "1"
                                },
                                {
                                    "szoba_fk": "61",
                                    "(No column name)": "5"
                                },
                                {
                                    "szoba_fk": "62",
                                    "(No column name)": "4"
                                },
                                {
                                    "szoba_fk": "62",
                                    "(No column name)": "1"
                                },
                                {
                                    "szoba_fk": "62",
                                    "(No column name)": "5"
                                },
                                {
                                    "szoba_fk": "63",
                                    "(No column name)": "4"
                                },
                                {
                                    "szoba_fk": "63",
                                    "(No column name)": "4"
                                },
                                {
                                    "szoba_fk": "64",
                                    "(No column name)": "3"
                                },
                                {
                                    "szoba_fk": "64",
                                    "(No column name)": "3"
                                },
                                {
                                    "szoba_fk": "64",
                                    "(No column name)": "6"
                                },
                                {
                                    "szoba_fk": "65",
                                    "(No column name)": "1"
                                },
                                {
                                    "szoba_fk": "65",
                                    "(No column name)": "1"
                                },
                                {
                                    "szoba_fk": "66",
                                    "(No column name)": "4"
                                },
                                {
                                    "szoba_fk": "66",
                                    "(No column name)": "4"
                                },
                                {
                                    "szoba_fk": "67",
                                    "(No column name)": "4"
                                },
                                {
                                    "szoba_fk": "67",
                                    "(No column name)": "2"
                                },
                                {
                                    "szoba_fk": "67",
                                    "(No column name)": "6"
                                },
                                {
                                    "szoba_fk": "68",
                                    "(No column name)": "3"
                                },
                                {
                                    "szoba_fk": "68",
                                    "(No column name)": "3"
                                },
                                {
                                    "szoba_fk": "69",
                                    "(No column name)": "4"
                                },
                                {
                                    "szoba_fk": "69",
                                    "(No column name)": "4"
                                },
                                {
                                    "szoba_fk": "70",
                                    "(No column name)": "10"
                                },
                                {
                                    "szoba_fk": "70",
                                    "(No column name)": "1"
                                },
                                {
                                    "szoba_fk": "70",
                                    "(No column name)": "11"
                                },
                                {
                                    "szoba_fk": "71",
                                    "(No column name)": "3"
                                },
                                {
                                    "szoba_fk": "71",
                                    "(No column name)": "3"
                                },
                                {
                                    "szoba_fk": "72",
                                    "(No column name)": "4"
                                },
                                {
                                    "szoba_fk": "72",
                                    "(No column name)": "4"
                                },
                                {
                                    "szoba_fk": "73",
                                    "(No column name)": "4"
                                },
                                {
                                    "szoba_fk": "73",
                                    "(No column name)": "4"
                                },
                                {
                                    "szoba_fk": "74",
                                    "(No column name)": "9"
                                },
                                {
                                    "szoba_fk": "74",
                                    "(No column name)": "9"
                                },
                                {
                                    "szoba_fk": "75",
                                    "(No column name)": "1"
                                },
                                {
                                    "szoba_fk": "75",
                                    "(No column name)": "2"
                                },
                                {
                                    "szoba_fk": "75",
                                    "(No column name)": "3"
                                },
                                {
                                    "szoba_fk": "76",
                                    "(No column name)": "2"
                                },
                                {
                                    "szoba_fk": "76",
                                    "(No column name)": "1"
                                },
                                {
                                    "szoba_fk": "76",
                                    "(No column name)": "3"
                                },
                                {
                                    "szoba_fk": "77",
                                    "(No column name)": "4"
                                },
                                {
                                    "szoba_fk": "77",
                                    "(No column name)": "2"
                                },
                                {
                                    "szoba_fk": "77",
                                    "(No column name)": "6"
                                },
                                {
                                    "szoba_fk": "78",
                                    "(No column name)": "5"
                                },
                                {
                                    "szoba_fk": "78",
                                    "(No column name)": "1"
                                },
                                {
                                    "szoba_fk": "78",
                                    "(No column name)": "6"
                                },
                                {
                                    "szoba_fk": "79",
                                    "(No column name)": "4"
                                },
                                {
                                    "szoba_fk": "79",
                                    "(No column name)": "1"
                                },
                                {
                                    "szoba_fk": "79",
                                    "(No column name)": "5"
                                },
                                {
                                    "szoba_fk": "80",
                                    "(No column name)": "7"
                                },
                                {
                                    "szoba_fk": "80",
                                    "(No column name)": "7"
                                },
                                {
                                    "szoba_fk": "81",
                                    "(No column name)": "1"
                                },
                                {
                                    "szoba_fk": "81",
                                    "(No column name)": "4"
                                },
                                {
                                    "szoba_fk": "81",
                                    "(No column name)": "5"
                                },
                                {
                                    "szoba_fk": "82",
                                    "(No column name)": "6"
                                },
                                {
                                    "szoba_fk": "82",
                                    "(No column name)": "6"
                                },
                                {
                                    "szoba_fk": "83",
                                    "(No column name)": "8"
                                },
                                {
                                    "szoba_fk": "83",
                                    "(No column name)": "8"
                                },
                                {
                                    "szoba_fk": "84",
                                    "(No column name)": "4"
                                },
                                {
                                    "szoba_fk": "84",
                                    "(No column name)": "4"
                                },
                                {
                                    "szoba_fk": "85",
                                    "(No column name)": "3"
                                },
                                {
                                    "szoba_fk": "85",
                                    "(No column name)": "1"
                                },
                                {
                                    "szoba_fk": "85",
                                    "(No column name)": "4"
                                },
                                {
                                    "szoba_fk": "86",
                                    "(No column name)": "4"
                                },
                                {
                                    "szoba_fk": "86",
                                    "(No column name)": "1"
                                },
                                {
                                    "szoba_fk": "86",
                                    "(No column name)": "5"
                                },
                                {
                                    "szoba_fk": "87",
                                    "(No column name)": "4"
                                },
                                {
                                    "szoba_fk": "87",
                                    "(No column name)": "1"
                                },
                                {
                                    "szoba_fk": "87",
                                    "(No column name)": "5"
                                },
                                {
                                    "szoba_fk": "88",
                                    "(No column name)": "6"
                                },
                                {
                                    "szoba_fk": "88",
                                    "(No column name)": "2"
                                },
                                {
                                    "szoba_fk": "88",
                                    "(No column name)": "8"
                                },
                                {
                                    "szoba_fk": "89",
                                    "(No column name)": "7"
                                },
                                {
                                    "szoba_fk": "89",
                                    "(No column name)": "1"
                                },
                                {
                                    "szoba_fk": "89",
                                    "(No column name)": "8"
                                },
                                {
                                    "szoba_fk": "90",
                                    "(No column name)": "4"
                                },
                                {
                                    "szoba_fk": "90",
                                    "(No column name)": "4"
                                },
                                {
                                    "szoba_fk": "91",
                                    "(No column name)": "4"
                                },
                                {
                                    "szoba_fk": "91",
                                    "(No column name)": "4"
                                },
                                {
                                    "szoba_fk": "92",
                                    "(No column name)": "4"
                                },
                                {
                                    "szoba_fk": "92",
                                    "(No column name)": "2"
                                },
                                {
                                    "szoba_fk": "92",
                                    "(No column name)": "6"
                                },
                                {
                                    "szoba_fk": "93",
                                    "(No column name)": "5"
                                },
                                {
                                    "szoba_fk": "93",
                                    "(No column name)": "5"
                                },
                                {
                                    "szoba_fk": "94",
                                    "(No column name)": "8"
                                },
                                {
                                    "szoba_fk": "94",
                                    "(No column name)": "2"
                                },
                                {
                                    "szoba_fk": "94",
                                    "(No column name)": "10"
                                },
                                {
                                    "szoba_fk": "95",
                                    "(No column name)": "3"
                                },
                                {
                                    "szoba_fk": "95",
                                    "(No column name)": "1"
                                },
                                {
                                    "szoba_fk": "95",
                                    "(No column name)": "4"
                                },
                                {
                                    "szoba_fk": "96",
                                    "(No column name)": "5"
                                },
                                {
                                    "szoba_fk": "96",
                                    "(No column name)": "2"
                                },
                                {
                                    "szoba_fk": "96",
                                    "(No column name)": "7"
                                },
                                {
                                    "szoba_fk": "97",
                                    "(No column name)": "5"
                                },
                                {
                                    "szoba_fk": "97",
                                    "(No column name)": "2"
                                },
                                {
                                    "szoba_fk": "97",
                                    "(No column name)": "7"
                                },
                                {
                                    "szoba_fk": "98",
                                    "(No column name)": "4"
                                },
                                {
                                    "szoba_fk": "98",
                                    "(No column name)": "4"
                                },
                                {
                                    "szoba_fk": "99",
                                    "(No column name)": "4"
                                },
                                {
                                    "szoba_fk": "99",
                                    "(No column name)": "1"
                                },
                                {
                                    "szoba_fk": "99",
                                    "(No column name)": "5"
                                },
                                {
                                    "szoba_fk": "100",
                                    "(No column name)": "3"
                                },
                                {
                                    "szoba_fk": "100",
                                    "(No column name)": "1"
                                },
                                {
                                    "szoba_fk": "100",
                                    "(No column name)": "4"
                                },
                                {
                                    "szoba_fk": "101",
                                    "(No column name)": "2"
                                },
                                {
                                    "szoba_fk": "101",
                                    "(No column name)": "1"
                                },
                                {
                                    "szoba_fk": "101",
                                    "(No column name)": "3"
                                },
                                {
                                    "szoba_fk": "102",
                                    "(No column name)": "2"
                                },
                                {
                                    "szoba_fk": "102",
                                    "(No column name)": "2"
                                },
                                {
                                    "szoba_fk": "103",
                                    "(No column name)": "3"
                                },
                                {
                                    "szoba_fk": "103",
                                    "(No column name)": "1"
                                },
                                {
                                    "szoba_fk": "103",
                                    "(No column name)": "4"
                                },
                                {
                                    "szoba_fk": "104",
                                    "(No column name)": "2"
                                },
                                {
                                    "szoba_fk": "104",
                                    "(No column name)": "2"
                                },
                                {
                                    "szoba_fk": "104",
                                    "(No column name)": "4"
                                },
                                {
                                    "szoba_fk": "105",
                                    "(No column name)": "1"
                                },
                                {
                                    "szoba_fk": "105",
                                    "(No column name)": "1"
                                },
                                {
                                    "szoba_fk": "105",
                                    "(No column name)": "2"
                                },
                                {
                                    "szoba_fk": "106",
                                    "(No column name)": "5"
                                },
                                {
                                    "szoba_fk": "106",
                                    "(No column name)": "1"
                                },
                                {
                                    "szoba_fk": "106",
                                    "(No column name)": "6"
                                },
                                {
                                    "szoba_fk": "107",
                                    "(No column name)": "3"
                                },
                                {
                                    "szoba_fk": "107",
                                    "(No column name)": "2"
                                },
                                {
                                    "szoba_fk": "107",
                                    "(No column name)": "5"
                                },
                                {
                                    "szoba_fk": "108",
                                    "(No column name)": "2"
                                },
                                {
                                    "szoba_fk": "108",
                                    "(No column name)": "2"
                                },
                                {
                                    "szoba_fk": "109",
                                    "(No column name)": "6"
                                },
                                {
                                    "szoba_fk": "109",
                                    "(No column name)": "1"
                                },
                                {
                                    "szoba_fk": "109",
                                    "(No column name)": "7"
                                },
                                {
                                    "szoba_fk": "110",
                                    "(No column name)": "6"
                                },
                                {
                                    "szoba_fk": "110",
                                    "(No column name)": "2"
                                },
                                {
                                    "szoba_fk": "110",
                                    "(No column name)": "8"
                                },
                                {
                                    "szoba_fk": "111",
                                    "(No column name)": "5"
                                },
                                {
                                    "szoba_fk": "111",
                                    "(No column name)": "5"
                                },
                                {
                                    "szoba_fk": "112",
                                    "(No column name)": "4"
                                },
                                {
                                    "szoba_fk": "112",
                                    "(No column name)": "1"
                                },
                                {
                                    "szoba_fk": "112",
                                    "(No column name)": "5"
                                },
                                {
                                    "szoba_fk": "113",
                                    "(No column name)": "3"
                                },
                                {
                                    "szoba_fk": "113",
                                    "(No column name)": "2"
                                },
                                {
                                    "szoba_fk": "113",
                                    "(No column name)": "5"
                                },
                                {
                                    "szoba_fk": "114",
                                    "(No column name)": "3"
                                },
                                {
                                    "szoba_fk": "114",
                                    "(No column name)": "1"
                                },
                                {
                                    "szoba_fk": "114",
                                    "(No column name)": "4"
                                },
                                {
                                    "szoba_fk": "115",
                                    "(No column name)": "5"
                                },
                                {
                                    "szoba_fk": "115",
                                    "(No column name)": "2"
                                },
                                {
                                    "szoba_fk": "115",
                                    "(No column name)": "7"
                                },
                                {
                                    "szoba_fk": "116",
                                    "(No column name)": "2"
                                },
                                {
                                    "szoba_fk": "116",
                                    "(No column name)": "2"
                                },
                                {
                                    "szoba_fk": "117",
                                    "(No column name)": "7"
                                },
                                {
                                    "szoba_fk": "117",
                                    "(No column name)": "1"
                                },
                                {
                                    "szoba_fk": "117",
                                    "(No column name)": "8"
                                },
                                {
                                    "szoba_fk": "118",
                                    "(No column name)": "5"
                                },
                                {
                                    "szoba_fk": "118",
                                    "(No column name)": "2"
                                },
                                {
                                    "szoba_fk": "118",
                                    "(No column name)": "7"
                                },
                                {
                                    "szoba_fk": "119",
                                    "(No column name)": "3"
                                },
                                {
                                    "szoba_fk": "119",
                                    "(No column name)": "2"
                                },
                                {
                                    "szoba_fk": "119",
                                    "(No column name)": "5"
                                },
                                {
                                    "szoba_fk": "120",
                                    "(No column name)": "4"
                                },
                                {
                                    "szoba_fk": "120",
                                    "(No column name)": "2"
                                },
                                {
                                    "szoba_fk": "120",
                                    "(No column name)": "6"
                                },
                                {
                                    "szoba_fk": "121",
                                    "(No column name)": "8"
                                },
                                {
                                    "szoba_fk": "121",
                                    "(No column name)": "8"
                                },
                                {
                                    "szoba_fk": "122",
                                    "(No column name)": "8"
                                },
                                {
                                    "szoba_fk": "122",
                                    "(No column name)": "1"
                                },
                                {
                                    "szoba_fk": "122",
                                    "(No column name)": "9"
                                },
                                {
                                    "szoba_fk": "123",
                                    "(No column name)": "5"
                                },
                                {
                                    "szoba_fk": "123",
                                    "(No column name)": "5"
                                },
                                {
                                    "szoba_fk": "124",
                                    "(No column name)": "4"
                                },
                                {
                                    "szoba_fk": "124",
                                    "(No column name)": "2"
                                },
                                {
                                    "szoba_fk": "124",
                                    "(No column name)": "6"
                                },
                                {
                                    "szoba_fk": "125",
                                    "(No column name)": "1"
                                },
                                {
                                    "szoba_fk": "125",
                                    "(No column name)": "1"
                                },
                                {
                                    "szoba_fk": "126",
                                    "(No column name)": "4"
                                },
                                {
                                    "szoba_fk": "126",
                                    "(No column name)": "2"
                                },
                                {
                                    "szoba_fk": "126",
                                    "(No column name)": "6"
                                },
                                {
                                    "szoba_fk": "127",
                                    "(No column name)": "6"
                                },
                                {
                                    "szoba_fk": "127",
                                    "(No column name)": "1"
                                },
                                {
                                    "szoba_fk": "127",
                                    "(No column name)": "7"
                                },
                                {
                                    "szoba_fk": "128",
                                    "(No column name)": "3"
                                },
                                {
                                    "szoba_fk": "128",
                                    "(No column name)": "2"
                                },
                                {
                                    "szoba_fk": "128",
                                    "(No column name)": "5"
                                },
                                {
                                    "szoba_fk": "129",
                                    "(No column name)": "2"
                                },
                                {
                                    "szoba_fk": "129",
                                    "(No column name)": "2"
                                },
                                {
                                    "szoba_fk": "129",
                                    "(No column name)": "4"
                                },
                                {
                                    "szoba_fk": "130",
                                    "(No column name)": "5"
                                },
                                {
                                    "szoba_fk": "130",
                                    "(No column name)": "1"
                                },
                                {
                                    "szoba_fk": "130",
                                    "(No column name)": "6"
                                },
                                {
                                    "szoba_fk": "131",
                                    "(No column name)": "4"
                                },
                                {
                                    "szoba_fk": "131",
                                    "(No column name)": "1"
                                },
                                {
                                    "szoba_fk": "131",
                                    "(No column name)": "5"
                                },
                                {
                                    "szoba_fk": "132",
                                    "(No column name)": "5"
                                },
                                {
                                    "szoba_fk": "132",
                                    "(No column name)": "1"
                                },
                                {
                                    "szoba_fk": "132",
                                    "(No column name)": "6"
                                },
                                {
                                    "szoba_fk": "133",
                                    "(No column name)": "5"
                                },
                                {
                                    "szoba_fk": "133",
                                    "(No column name)": "1"
                                },
                                {
                                    "szoba_fk": "133",
                                    "(No column name)": "6"
                                },
                                {
                                    "szoba_fk": "134",
                                    "(No column name)": "5"
                                },
                                {
                                    "szoba_fk": "134",
                                    "(No column name)": "1"
                                },
                                {
                                    "szoba_fk": "134",
                                    "(No column name)": "6"
                                },
                                {
                                    "szoba_fk": "135",
                                    "(No column name)": "3"
                                },
                                {
                                    "szoba_fk": "135",
                                    "(No column name)": "3"
                                },
                                {
                                    "szoba_fk": "136",
                                    "(No column name)": "3"
                                },
                                {
                                    "szoba_fk": "136",
                                    "(No column name)": "3"
                                },
                                {
                                    "szoba_fk": "137",
                                    "(No column name)": "6"
                                },
                                {
                                    "szoba_fk": "137",
                                    "(No column name)": "6"
                                },
                                {
                                    "szoba_fk": "138",
                                    "(No column name)": "7"
                                },
                                {
                                    "szoba_fk": "138",
                                    "(No column name)": "7"
                                },
                                {
                                    "szoba_fk": "139",
                                    "(No column name)": "5"
                                },
                                {
                                    "szoba_fk": "139",
                                    "(No column name)": "2"
                                },
                                {
                                    "szoba_fk": "139",
                                    "(No column name)": "7"
                                },
                                {
                                    "szoba_fk": "140",
                                    "(No column name)": "8"
                                },
                                {
                                    "szoba_fk": "140",
                                    "(No column name)": "8"
                                },
                                {
                                    "szoba_fk": "141",
                                    "(No column name)": "6"
                                },
                                {
                                    "szoba_fk": "141",
                                    "(No column name)": "6"
                                },
                                {
                                    "szoba_fk": "142",
                                    "(No column name)": "1"
                                },
                                {
                                    "szoba_fk": "142",
                                    "(No column name)": "1"
                                },
                                {
                                    "szoba_fk": "142",
                                    "(No column name)": "2"
                                },
                                {
                                    "szoba_fk": "143",
                                    "(No column name)": "6"
                                },
                                {
                                    "szoba_fk": "143",
                                    "(No column name)": "1"
                                },
                                {
                                    "szoba_fk": "143",
                                    "(No column name)": "7"
                                },
                                {
                                    "szoba_fk": "144",
                                    "(No column name)": "4"
                                },
                                {
                                    "szoba_fk": "144",
                                    "(No column name)": "1"
                                },
                                {
                                    "szoba_fk": "144",
                                    "(No column name)": "5"
                                },
                                {
                                    "szoba_fk": "145",
                                    "(No column name)": "5"
                                },
                                {
                                    "szoba_fk": "145",
                                    "(No column name)": "1"
                                },
                                {
                                    "szoba_fk": "145",
                                    "(No column name)": "6"
                                },
                                {
                                    "szoba_fk": "146",
                                    "(No column name)": "5"
                                },
                                {
                                    "szoba_fk": "146",
                                    "(No column name)": "1"
                                },
                                {
                                    "szoba_fk": "146",
                                    "(No column name)": "6"
                                },
                                {
                                    "szoba_fk": "147",
                                    "(No column name)": "1"
                                },
                                {
                                    "szoba_fk": "147",
                                    "(No column name)": "1"
                                },
                                {
                                    "szoba_fk": "148",
                                    "(No column name)": "5"
                                },
                                {
                                    "szoba_fk": "148",
                                    "(No column name)": "1"
                                },
                                {
                                    "szoba_fk": "148",
                                    "(No column name)": "6"
                                },
                                {
                                    "szoba_fk": "149",
                                    "(No column name)": "6"
                                },
                                {
                                    "szoba_fk": "149",
                                    "(No column name)": "1"
                                },
                                {
                                    "szoba_fk": "149",
                                    "(No column name)": "7"
                                },
                                {
                                    "szoba_fk": "150",
                                    "(No column name)": "5"
                                },
                                {
                                    "szoba_fk": "150",
                                    "(No column name)": "1"
                                },
                                {
                                    "szoba_fk": "150",
                                    "(No column name)": "6"
                                },
                                {
                                    "szoba_fk": "151",
                                    "(No column name)": "3"
                                },
                                {
                                    "szoba_fk": "151",
                                    "(No column name)": "3"
                                },
                                {
                                    "szoba_fk": "152",
                                    "(No column name)": "3"
                                },
                                {
                                    "szoba_fk": "152",
                                    "(No column name)": "1"
                                },
                                {
                                    "szoba_fk": "152",
                                    "(No column name)": "4"
                                },
                                {
                                    "szoba_fk": "153",
                                    "(No column name)": "2"
                                },
                                {
                                    "szoba_fk": "153",
                                    "(No column name)": "3"
                                },
                                {
                                    "szoba_fk": "153",
                                    "(No column name)": "5"
                                },
                                {
                                    "szoba_fk": "154",
                                    "(No column name)": "4"
                                },
                                {
                                    "szoba_fk": "154",
                                    "(No column name)": "1"
                                },
                                {
                                    "szoba_fk": "154",
                                    "(No column name)": "5"
                                },
                                {
                                    "szoba_fk": "155",
                                    "(No column name)": "4"
                                },
                                {
                                    "szoba_fk": "155",
                                    "(No column name)": "1"
                                },
                                {
                                    "szoba_fk": "155",
                                    "(No column name)": "5"
                                },
                                {
                                    "szoba_fk": "156",
                                    "(No column name)": "4"
                                },
                                {
                                    "szoba_fk": "156",
                                    "(No column name)": "3"
                                },
                                {
                                    "szoba_fk": "156",
                                    "(No column name)": "7"
                                },
                                {
                                    "szoba_fk": "157",
                                    "(No column name)": "4"
                                },
                                {
                                    "szoba_fk": "157",
                                    "(No column name)": "1"
                                },
                                {
                                    "szoba_fk": "157",
                                    "(No column name)": "5"
                                },
                                {
                                    "szoba_fk": "158",
                                    "(No column name)": "3"
                                },
                                {
                                    "szoba_fk": "158",
                                    "(No column name)": "3"
                                },
                                {
                                    "szoba_fk": "160",
                                    "(No column name)": "4"
                                },
                                {
                                    "szoba_fk": "160",
                                    "(No column name)": "1"
                                },
                                {
                                    "szoba_fk": "160",
                                    "(No column name)": "5"
                                },
                                {
                                    "szoba_fk": "161",
                                    "(No column name)": "5"
                                },
                                {
                                    "szoba_fk": "161",
                                    "(No column name)": "1"
                                },
                                {
                                    "szoba_fk": "161",
                                    "(No column name)": "6"
                                },
                                {
                                    "szoba_fk": "162",
                                    "(No column name)": "3"
                                },
                                {
                                    "szoba_fk": "162",
                                    "(No column name)": "3"
                                },
                                {
                                    "szoba_fk": "163",
                                    "(No column name)": "6"
                                },
                                {
                                    "szoba_fk": "163",
                                    "(No column name)": "1"
                                },
                                {
                                    "szoba_fk": "163",
                                    "(No column name)": "7"
                                },
                                {
                                    "szoba_fk": "164",
                                    "(No column name)": "5"
                                },
                                {
                                    "szoba_fk": "164",
                                    "(No column name)": "5"
                                },
                                {
                                    "szoba_fk": "165",
                                    "(No column name)": "7"
                                },
                                {
                                    "szoba_fk": "165",
                                    "(No column name)": "7"
                                },
                                {
                                    "szoba_fk": "166",
                                    "(No column name)": "2"
                                },
                                {
                                    "szoba_fk": "166",
                                    "(No column name)": "1"
                                },
                                {
                                    "szoba_fk": "166",
                                    "(No column name)": "3"
                                },
                                {
                                    "szoba_fk": "167",
                                    "(No column name)": "1"
                                },
                                {
                                    "szoba_fk": "167",
                                    "(No column name)": "1"
                                },
                                {
                                    "szoba_fk": "167",
                                    "(No column name)": "2"
                                },
                                {
                                    "szoba_fk": "168",
                                    "(No column name)": "5"
                                },
                                {
                                    "szoba_fk": "168",
                                    "(No column name)": "5"
                                },
                                {
                                    "szoba_fk": "169",
                                    "(No column name)": "5"
                                },
                                {
                                    "szoba_fk": "169",
                                    "(No column name)": "1"
                                },
                                {
                                    "szoba_fk": "169",
                                    "(No column name)": "6"
                                },
                                {
                                    "szoba_fk": "170",
                                    "(No column name)": "5"
                                },
                                {
                                    "szoba_fk": "170",
                                    "(No column name)": "5"
                                },
                                {
                                    "szoba_fk": "171",
                                    "(No column name)": "4"
                                },
                                {
                                    "szoba_fk": "171",
                                    "(No column name)": "1"
                                },
                                {
                                    "szoba_fk": "171",
                                    "(No column name)": "5"
                                },
                                {
                                    "szoba_fk": "172",
                                    "(No column name)": "7"
                                },
                                {
                                    "szoba_fk": "172",
                                    "(No column name)": "2"
                                },
                                {
                                    "szoba_fk": "172",
                                    "(No column name)": "9"
                                },
                                {
                                    "szoba_fk": "173",
                                    "(No column name)": "3"
                                },
                                {
                                    "szoba_fk": "173",
                                    "(No column name)": "1"
                                },
                                {
                                    "szoba_fk": "173",
                                    "(No column name)": "4"
                                },
                                {
                                    "szoba_fk": "174",
                                    "(No column name)": "4"
                                },
                                {
                                    "szoba_fk": "174",
                                    "(No column name)": "4"
                                },
                                {
                                    "szoba_fk": "175",
                                    "(No column name)": "5"
                                },
                                {
                                    "szoba_fk": "175",
                                    "(No column name)": "5"
                                },
                                {
                                    "szoba_fk": "176",
                                    "(No column name)": "4"
                                },
                                {
                                    "szoba_fk": "176",
                                    "(No column name)": "2"
                                },
                                {
                                    "szoba_fk": "176",
                                    "(No column name)": "6"
                                },
                                {
                                    "szoba_fk": "177",
                                    "(No column name)": "3"
                                },
                                {
                                    "szoba_fk": "177",
                                    "(No column name)": "1"
                                },
                                {
                                    "szoba_fk": "177",
                                    "(No column name)": "4"
                                },
                                {
                                    "szoba_fk": "178",
                                    "(No column name)": "4"
                                },
                                {
                                    "szoba_fk": "178",
                                    "(No column name)": "4"
                                },
                                {
                                    "szoba_fk": "179",
                                    "(No column name)": "2"
                                },
                                {
                                    "szoba_fk": "179",
                                    "(No column name)": "1"
                                },
                                {
                                    "szoba_fk": "179",
                                    "(No column name)": "3"
                                },
                                {
                                    "szoba_fk": "180",
                                    "(No column name)": "1"
                                },
                                {
                                    "szoba_fk": "180",
                                    "(No column name)": "2"
                                },
                                {
                                    "szoba_fk": "180",
                                    "(No column name)": "3"
                                },
                                {
                                    "szoba_fk": "181",
                                    "(No column name)": "6"
                                },
                                {
                                    "szoba_fk": "181",
                                    "(No column name)": "6"
                                },
                                {
                                    "szoba_fk": "182",
                                    "(No column name)": "10"
                                },
                                {
                                    "szoba_fk": "182",
                                    "(No column name)": "2"
                                },
                                {
                                    "szoba_fk": "182",
                                    "(No column name)": "12"
                                },
                                {
                                    "szoba_fk": "183",
                                    "(No column name)": "3"
                                },
                                {
                                    "szoba_fk": "183",
                                    "(No column name)": "1"
                                },
                                {
                                    "szoba_fk": "183",
                                    "(No column name)": "4"
                                },
                                {
                                    "szoba_fk": "184",
                                    "(No column name)": "4"
                                },
                                {
                                    "szoba_fk": "184",
                                    "(No column name)": "4"
                                },
                                {
                                    "szoba_fk": "185",
                                    "(No column name)": "10"
                                },
                                {
                                    "szoba_fk": "185",
                                    "(No column name)": "2"
                                },
                                {
                                    "szoba_fk": "185",
                                    "(No column name)": "12"
                                },
                                {
                                    "szoba_fk": "186",
                                    "(No column name)": "3"
                                },
                                {
                                    "szoba_fk": "186",
                                    "(No column name)": "1"
                                },
                                {
                                    "szoba_fk": "186",
                                    "(No column name)": "4"
                                },
                                {
                                    "szoba_fk": "187",
                                    "(No column name)": "7"
                                },
                                {
                                    "szoba_fk": "187",
                                    "(No column name)": "7"
                                },
                                {
                                    "szoba_fk": "188",
                                    "(No column name)": "6"
                                },
                                {
                                    "szoba_fk": "188",
                                    "(No column name)": "6"
                                },
                                {
                                    "szoba_fk": "189",
                                    "(No column name)": "3"
                                },
                                {
                                    "szoba_fk": "189",
                                    "(No column name)": "2"
                                },
                                {
                                    "szoba_fk": "189",
                                    "(No column name)": "5"
                                },
                                {
                                    "szoba_fk": "190",
                                    "(No column name)": "4"
                                },
                                {
                                    "szoba_fk": "190",
                                    "(No column name)": "1"
                                },
                                {
                                    "szoba_fk": "190",
                                    "(No column name)": "5"
                                },
                                {
                                    "szoba_fk": "191",
                                    "(No column name)": "3"
                                },
                                {
                                    "szoba_fk": "191",
                                    "(No column name)": "2"
                                },
                                {
                                    "szoba_fk": "191",
                                    "(No column name)": "5"
                                },
                                {
                                    "szoba_fk": "192",
                                    "(No column name)": "2"
                                },
                                {
                                    "szoba_fk": "192",
                                    "(No column name)": "2"
                                },
                                {
                                    "szoba_fk": "193",
                                    "(No column name)": "7"
                                },
                                {
                                    "szoba_fk": "193",
                                    "(No column name)": "7"
                                },
                                {
                                    "szoba_fk": "194",
                                    "(No column name)": "1"
                                },
                                {
                                    "szoba_fk": "194",
                                    "(No column name)": "1"
                                },
                                {
                                    "szoba_fk": "195",
                                    "(No column name)": "4"
                                },
                                {
                                    "szoba_fk": "195",
                                    "(No column name)": "2"
                                },
                                {
                                    "szoba_fk": "195",
                                    "(No column name)": "6"
                                },
                                {
                                    "szoba_fk": "196",
                                    "(No column name)": "4"
                                },
                                {
                                    "szoba_fk": "196",
                                    "(No column name)": "4"
                                },
                                {
                                    "szoba_fk": "197",
                                    "(No column name)": "6"
                                },
                                {
                                    "szoba_fk": "197",
                                    "(No column name)": "6"
                                },
                                {
                                    "szoba_fk": "198",
                                    "(No column name)": "7"
                                },
                                {
                                    "szoba_fk": "198",
                                    "(No column name)": "1"
                                },
                                {
                                    "szoba_fk": "198",
                                    "(No column name)": "8"
                                },
                                {
                                    "szoba_fk": "NULL",
                                    "(No column name)": "1027"
                                }
                            ]
                        },
                        "text/html": [
                            "<table>",
                            "<tr><th>szoba_fk</th><th>(No column name)</th><th>(No column name)</th></tr>",
                            "<tr><td>1</td><td>2016</td><td>8</td></tr>",
                            "<tr><td>1</td><td>NULL</td><td>8</td></tr>",
                            "<tr><td>2</td><td>2016</td><td>4</td></tr>",
                            "<tr><td>2</td><td>NULL</td><td>4</td></tr>",
                            "<tr><td>3</td><td>2016</td><td>6</td></tr>",
                            "<tr><td>3</td><td>2017</td><td>2</td></tr>",
                            "<tr><td>3</td><td>NULL</td><td>8</td></tr>",
                            "<tr><td>4</td><td>2016</td><td>5</td></tr>",
                            "<tr><td>4</td><td>2017</td><td>1</td></tr>",
                            "<tr><td>4</td><td>NULL</td><td>6</td></tr>",
                            "<tr><td>5</td><td>2016</td><td>4</td></tr>",
                            "<tr><td>5</td><td>NULL</td><td>4</td></tr>",
                            "<tr><td>6</td><td>2016</td><td>6</td></tr>",
                            "<tr><td>6</td><td>NULL</td><td>6</td></tr>",
                            "<tr><td>7</td><td>2016</td><td>6</td></tr>",
                            "<tr><td>7</td><td>NULL</td><td>6</td></tr>",
                            "<tr><td>8</td><td>2016</td><td>5</td></tr>",
                            "<tr><td>8</td><td>NULL</td><td>5</td></tr>",
                            "<tr><td>9</td><td>2016</td><td>4</td></tr>",
                            "<tr><td>9</td><td>2017</td><td>2</td></tr>",
                            "<tr><td>9</td><td>NULL</td><td>6</td></tr>",
                            "<tr><td>10</td><td>2016</td><td>4</td></tr>",
                            "<tr><td>10</td><td>NULL</td><td>4</td></tr>",
                            "<tr><td>11</td><td>2016</td><td>3</td></tr>",
                            "<tr><td>11</td><td>2017</td><td>1</td></tr>",
                            "<tr><td>11</td><td>NULL</td><td>4</td></tr>",
                            "<tr><td>12</td><td>2016</td><td>8</td></tr>",
                            "<tr><td>12</td><td>2017</td><td>1</td></tr>",
                            "<tr><td>12</td><td>NULL</td><td>9</td></tr>",
                            "<tr><td>13</td><td>2016</td><td>3</td></tr>",
                            "<tr><td>13</td><td>2017</td><td>1</td></tr>",
                            "<tr><td>13</td><td>NULL</td><td>4</td></tr>",
                            "<tr><td>14</td><td>2016</td><td>2</td></tr>",
                            "<tr><td>14</td><td>2017</td><td>1</td></tr>",
                            "<tr><td>14</td><td>NULL</td><td>3</td></tr>",
                            "<tr><td>15</td><td>2016</td><td>4</td></tr>",
                            "<tr><td>15</td><td>2017</td><td>2</td></tr>",
                            "<tr><td>15</td><td>NULL</td><td>6</td></tr>",
                            "<tr><td>16</td><td>2016</td><td>4</td></tr>",
                            "<tr><td>16</td><td>2017</td><td>1</td></tr>",
                            "<tr><td>16</td><td>NULL</td><td>5</td></tr>",
                            "<tr><td>17</td><td>2016</td><td>5</td></tr>",
                            "<tr><td>17</td><td>2017</td><td>1</td></tr>",
                            "<tr><td>17</td><td>NULL</td><td>6</td></tr>",
                            "<tr><td>18</td><td>2016</td><td>5</td></tr>",
                            "<tr><td>18</td><td>2017</td><td>1</td></tr>",
                            "<tr><td>18</td><td>NULL</td><td>6</td></tr>",
                            "<tr><td>19</td><td>2016</td><td>5</td></tr>",
                            "<tr><td>19</td><td>2017</td><td>1</td></tr>",
                            "<tr><td>19</td><td>NULL</td><td>6</td></tr>",
                            "<tr><td>20</td><td>2016</td><td>5</td></tr>",
                            "<tr><td>20</td><td>NULL</td><td>5</td></tr>",
                            "<tr><td>21</td><td>2016</td><td>4</td></tr>",
                            "<tr><td>21</td><td>NULL</td><td>4</td></tr>",
                            "<tr><td>22</td><td>2016</td><td>6</td></tr>",
                            "<tr><td>22</td><td>NULL</td><td>6</td></tr>",
                            "<tr><td>23</td><td>2016</td><td>3</td></tr>",
                            "<tr><td>23</td><td>NULL</td><td>3</td></tr>",
                            "<tr><td>24</td><td>2016</td><td>2</td></tr>",
                            "<tr><td>24</td><td>2017</td><td>1</td></tr>",
                            "<tr><td>24</td><td>NULL</td><td>3</td></tr>",
                            "<tr><td>25</td><td>2016</td><td>2</td></tr>",
                            "<tr><td>25</td><td>NULL</td><td>2</td></tr>",
                            "<tr><td>26</td><td>2016</td><td>2</td></tr>",
                            "<tr><td>26</td><td>NULL</td><td>2</td></tr>",
                            "<tr><td>27</td><td>2016</td><td>6</td></tr>",
                            "<tr><td>27</td><td>2017</td><td>1</td></tr>",
                            "<tr><td>27</td><td>NULL</td><td>7</td></tr>",
                            "<tr><td>28</td><td>2016</td><td>5</td></tr>",
                            "<tr><td>28</td><td>2017</td><td>1</td></tr>",
                            "<tr><td>28</td><td>NULL</td><td>6</td></tr>",
                            "<tr><td>29</td><td>2016</td><td>5</td></tr>",
                            "<tr><td>29</td><td>2017</td><td>1</td></tr>",
                            "<tr><td>29</td><td>NULL</td><td>6</td></tr>",
                            "<tr><td>30</td><td>2016</td><td>3</td></tr>",
                            "<tr><td>30</td><td>NULL</td><td>3</td></tr>",
                            "<tr><td>31</td><td>2016</td><td>3</td></tr>",
                            "<tr><td>31</td><td>NULL</td><td>3</td></tr>",
                            "<tr><td>32</td><td>2016</td><td>1</td></tr>",
                            "<tr><td>32</td><td>NULL</td><td>1</td></tr>",
                            "<tr><td>33</td><td>2016</td><td>6</td></tr>",
                            "<tr><td>33</td><td>NULL</td><td>6</td></tr>",
                            "<tr><td>34</td><td>2016</td><td>4</td></tr>",
                            "<tr><td>34</td><td>NULL</td><td>4</td></tr>",
                            "<tr><td>35</td><td>2016</td><td>6</td></tr>",
                            "<tr><td>35</td><td>2017</td><td>3</td></tr>",
                            "<tr><td>35</td><td>NULL</td><td>9</td></tr>",
                            "<tr><td>36</td><td>2016</td><td>6</td></tr>",
                            "<tr><td>36</td><td>NULL</td><td>6</td></tr>",
                            "<tr><td>37</td><td>2016</td><td>3</td></tr>",
                            "<tr><td>37</td><td>NULL</td><td>3</td></tr>",
                            "<tr><td>38</td><td>2016</td><td>5</td></tr>",
                            "<tr><td>38</td><td>2017</td><td>3</td></tr>",
                            "<tr><td>38</td><td>NULL</td><td>8</td></tr>",
                            "<tr><td>39</td><td>2016</td><td>4</td></tr>",
                            "<tr><td>39</td><td>2017</td><td>3</td></tr>",
                            "<tr><td>39</td><td>NULL</td><td>7</td></tr>",
                            "<tr><td>40</td><td>2016</td><td>4</td></tr>",
                            "<tr><td>40</td><td>NULL</td><td>4</td></tr>",
                            "<tr><td>41</td><td>2016</td><td>2</td></tr>",
                            "<tr><td>41</td><td>NULL</td><td>2</td></tr>",
                            "<tr><td>42</td><td>2016</td><td>5</td></tr>",
                            "<tr><td>42</td><td>2017</td><td>1</td></tr>",
                            "<tr><td>42</td><td>NULL</td><td>6</td></tr>",
                            "<tr><td>43</td><td>2016</td><td>6</td></tr>",
                            "<tr><td>43</td><td>2017</td><td>2</td></tr>",
                            "<tr><td>43</td><td>NULL</td><td>8</td></tr>",
                            "<tr><td>44</td><td>2016</td><td>4</td></tr>",
                            "<tr><td>44</td><td>2017</td><td>2</td></tr>",
                            "<tr><td>44</td><td>NULL</td><td>6</td></tr>",
                            "<tr><td>45</td><td>2016</td><td>5</td></tr>",
                            "<tr><td>45</td><td>NULL</td><td>5</td></tr>",
                            "<tr><td>46</td><td>2016</td><td>3</td></tr>",
                            "<tr><td>46</td><td>2017</td><td>1</td></tr>",
                            "<tr><td>46</td><td>NULL</td><td>4</td></tr>",
                            "<tr><td>47</td><td>2016</td><td>2</td></tr>",
                            "<tr><td>47</td><td>NULL</td><td>2</td></tr>",
                            "<tr><td>48</td><td>2016</td><td>6</td></tr>",
                            "<tr><td>48</td><td>2017</td><td>3</td></tr>",
                            "<tr><td>48</td><td>NULL</td><td>9</td></tr>",
                            "<tr><td>49</td><td>2016</td><td>6</td></tr>",
                            "<tr><td>49</td><td>2017</td><td>1</td></tr>",
                            "<tr><td>49</td><td>NULL</td><td>7</td></tr>",
                            "<tr><td>50</td><td>2016</td><td>4</td></tr>",
                            "<tr><td>50</td><td>NULL</td><td>4</td></tr>",
                            "<tr><td>51</td><td>2016</td><td>3</td></tr>",
                            "<tr><td>51</td><td>2017</td><td>2</td></tr>",
                            "<tr><td>51</td><td>NULL</td><td>5</td></tr>",
                            "<tr><td>52</td><td>2016</td><td>3</td></tr>",
                            "<tr><td>52</td><td>2017</td><td>2</td></tr>",
                            "<tr><td>52</td><td>NULL</td><td>5</td></tr>",
                            "<tr><td>53</td><td>2016</td><td>2</td></tr>",
                            "<tr><td>53</td><td>NULL</td><td>2</td></tr>",
                            "<tr><td>54</td><td>2016</td><td>6</td></tr>",
                            "<tr><td>54</td><td>NULL</td><td>6</td></tr>",
                            "<tr><td>55</td><td>2016</td><td>6</td></tr>",
                            "<tr><td>55</td><td>2017</td><td>2</td></tr>",
                            "<tr><td>55</td><td>NULL</td><td>8</td></tr>",
                            "<tr><td>56</td><td>2016</td><td>2</td></tr>",
                            "<tr><td>56</td><td>NULL</td><td>2</td></tr>",
                            "<tr><td>57</td><td>2016</td><td>2</td></tr>",
                            "<tr><td>57</td><td>2017</td><td>2</td></tr>",
                            "<tr><td>57</td><td>NULL</td><td>4</td></tr>",
                            "<tr><td>58</td><td>2016</td><td>12</td></tr>",
                            "<tr><td>58</td><td>2017</td><td>1</td></tr>",
                            "<tr><td>58</td><td>NULL</td><td>13</td></tr>",
                            "<tr><td>59</td><td>2016</td><td>6</td></tr>",
                            "<tr><td>59</td><td>2017</td><td>1</td></tr>",
                            "<tr><td>59</td><td>NULL</td><td>7</td></tr>",
                            "<tr><td>60</td><td>2016</td><td>1</td></tr>",
                            "<tr><td>60</td><td>NULL</td><td>1</td></tr>",
                            "<tr><td>61</td><td>2016</td><td>4</td></tr>",
                            "<tr><td>61</td><td>2017</td><td>1</td></tr>",
                            "<tr><td>61</td><td>NULL</td><td>5</td></tr>",
                            "<tr><td>62</td><td>2016</td><td>4</td></tr>",
                            "<tr><td>62</td><td>2017</td><td>1</td></tr>",
                            "<tr><td>62</td><td>NULL</td><td>5</td></tr>",
                            "<tr><td>63</td><td>2016</td><td>4</td></tr>",
                            "<tr><td>63</td><td>NULL</td><td>4</td></tr>",
                            "<tr><td>64</td><td>2016</td><td>3</td></tr>",
                            "<tr><td>64</td><td>2017</td><td>3</td></tr>",
                            "<tr><td>64</td><td>NULL</td><td>6</td></tr>",
                            "<tr><td>65</td><td>2016</td><td>1</td></tr>",
                            "<tr><td>65</td><td>NULL</td><td>1</td></tr>",
                            "<tr><td>66</td><td>2016</td><td>4</td></tr>",
                            "<tr><td>66</td><td>NULL</td><td>4</td></tr>",
                            "<tr><td>67</td><td>2016</td><td>4</td></tr>",
                            "<tr><td>67</td><td>2017</td><td>2</td></tr>",
                            "<tr><td>67</td><td>NULL</td><td>6</td></tr>",
                            "<tr><td>68</td><td>2016</td><td>3</td></tr>",
                            "<tr><td>68</td><td>NULL</td><td>3</td></tr>",
                            "<tr><td>69</td><td>2016</td><td>4</td></tr>",
                            "<tr><td>69</td><td>NULL</td><td>4</td></tr>",
                            "<tr><td>70</td><td>2016</td><td>10</td></tr>",
                            "<tr><td>70</td><td>2017</td><td>1</td></tr>",
                            "<tr><td>70</td><td>NULL</td><td>11</td></tr>",
                            "<tr><td>71</td><td>2016</td><td>3</td></tr>",
                            "<tr><td>71</td><td>NULL</td><td>3</td></tr>",
                            "<tr><td>72</td><td>2016</td><td>4</td></tr>",
                            "<tr><td>72</td><td>NULL</td><td>4</td></tr>",
                            "<tr><td>73</td><td>2016</td><td>4</td></tr>",
                            "<tr><td>73</td><td>NULL</td><td>4</td></tr>",
                            "<tr><td>74</td><td>2016</td><td>9</td></tr>",
                            "<tr><td>74</td><td>NULL</td><td>9</td></tr>",
                            "<tr><td>75</td><td>2016</td><td>1</td></tr>",
                            "<tr><td>75</td><td>2017</td><td>2</td></tr>",
                            "<tr><td>75</td><td>NULL</td><td>3</td></tr>",
                            "<tr><td>76</td><td>2016</td><td>2</td></tr>",
                            "<tr><td>76</td><td>2017</td><td>1</td></tr>",
                            "<tr><td>76</td><td>NULL</td><td>3</td></tr>",
                            "<tr><td>77</td><td>2016</td><td>4</td></tr>",
                            "<tr><td>77</td><td>2017</td><td>2</td></tr>",
                            "<tr><td>77</td><td>NULL</td><td>6</td></tr>",
                            "<tr><td>78</td><td>2016</td><td>5</td></tr>",
                            "<tr><td>78</td><td>2017</td><td>1</td></tr>",
                            "<tr><td>78</td><td>NULL</td><td>6</td></tr>",
                            "<tr><td>79</td><td>2016</td><td>4</td></tr>",
                            "<tr><td>79</td><td>2017</td><td>1</td></tr>",
                            "<tr><td>79</td><td>NULL</td><td>5</td></tr>",
                            "<tr><td>80</td><td>2016</td><td>7</td></tr>",
                            "<tr><td>80</td><td>NULL</td><td>7</td></tr>",
                            "<tr><td>81</td><td>2016</td><td>1</td></tr>",
                            "<tr><td>81</td><td>2017</td><td>4</td></tr>",
                            "<tr><td>81</td><td>NULL</td><td>5</td></tr>",
                            "<tr><td>82</td><td>2016</td><td>6</td></tr>",
                            "<tr><td>82</td><td>NULL</td><td>6</td></tr>",
                            "<tr><td>83</td><td>2016</td><td>8</td></tr>",
                            "<tr><td>83</td><td>NULL</td><td>8</td></tr>",
                            "<tr><td>84</td><td>2016</td><td>4</td></tr>",
                            "<tr><td>84</td><td>NULL</td><td>4</td></tr>",
                            "<tr><td>85</td><td>2016</td><td>3</td></tr>",
                            "<tr><td>85</td><td>2017</td><td>1</td></tr>",
                            "<tr><td>85</td><td>NULL</td><td>4</td></tr>",
                            "<tr><td>86</td><td>2016</td><td>4</td></tr>",
                            "<tr><td>86</td><td>2017</td><td>1</td></tr>",
                            "<tr><td>86</td><td>NULL</td><td>5</td></tr>",
                            "<tr><td>87</td><td>2016</td><td>4</td></tr>",
                            "<tr><td>87</td><td>2017</td><td>1</td></tr>",
                            "<tr><td>87</td><td>NULL</td><td>5</td></tr>",
                            "<tr><td>88</td><td>2016</td><td>6</td></tr>",
                            "<tr><td>88</td><td>2017</td><td>2</td></tr>",
                            "<tr><td>88</td><td>NULL</td><td>8</td></tr>",
                            "<tr><td>89</td><td>2016</td><td>7</td></tr>",
                            "<tr><td>89</td><td>2017</td><td>1</td></tr>",
                            "<tr><td>89</td><td>NULL</td><td>8</td></tr>",
                            "<tr><td>90</td><td>2016</td><td>4</td></tr>",
                            "<tr><td>90</td><td>NULL</td><td>4</td></tr>",
                            "<tr><td>91</td><td>2016</td><td>4</td></tr>",
                            "<tr><td>91</td><td>NULL</td><td>4</td></tr>",
                            "<tr><td>92</td><td>2016</td><td>4</td></tr>",
                            "<tr><td>92</td><td>2017</td><td>2</td></tr>",
                            "<tr><td>92</td><td>NULL</td><td>6</td></tr>",
                            "<tr><td>93</td><td>2016</td><td>5</td></tr>",
                            "<tr><td>93</td><td>NULL</td><td>5</td></tr>",
                            "<tr><td>94</td><td>2016</td><td>8</td></tr>",
                            "<tr><td>94</td><td>2017</td><td>2</td></tr>",
                            "<tr><td>94</td><td>NULL</td><td>10</td></tr>",
                            "<tr><td>95</td><td>2016</td><td>3</td></tr>",
                            "<tr><td>95</td><td>2017</td><td>1</td></tr>",
                            "<tr><td>95</td><td>NULL</td><td>4</td></tr>",
                            "<tr><td>96</td><td>2016</td><td>5</td></tr>",
                            "<tr><td>96</td><td>2017</td><td>2</td></tr>",
                            "<tr><td>96</td><td>NULL</td><td>7</td></tr>",
                            "<tr><td>97</td><td>2016</td><td>5</td></tr>",
                            "<tr><td>97</td><td>2017</td><td>2</td></tr>",
                            "<tr><td>97</td><td>NULL</td><td>7</td></tr>",
                            "<tr><td>98</td><td>2016</td><td>4</td></tr>",
                            "<tr><td>98</td><td>NULL</td><td>4</td></tr>",
                            "<tr><td>99</td><td>2016</td><td>4</td></tr>",
                            "<tr><td>99</td><td>2017</td><td>1</td></tr>",
                            "<tr><td>99</td><td>NULL</td><td>5</td></tr>",
                            "<tr><td>100</td><td>2016</td><td>3</td></tr>",
                            "<tr><td>100</td><td>2017</td><td>1</td></tr>",
                            "<tr><td>100</td><td>NULL</td><td>4</td></tr>",
                            "<tr><td>101</td><td>2016</td><td>2</td></tr>",
                            "<tr><td>101</td><td>2017</td><td>1</td></tr>",
                            "<tr><td>101</td><td>NULL</td><td>3</td></tr>",
                            "<tr><td>102</td><td>2016</td><td>2</td></tr>",
                            "<tr><td>102</td><td>NULL</td><td>2</td></tr>",
                            "<tr><td>103</td><td>2016</td><td>3</td></tr>",
                            "<tr><td>103</td><td>2017</td><td>1</td></tr>",
                            "<tr><td>103</td><td>NULL</td><td>4</td></tr>",
                            "<tr><td>104</td><td>2016</td><td>2</td></tr>",
                            "<tr><td>104</td><td>2017</td><td>2</td></tr>",
                            "<tr><td>104</td><td>NULL</td><td>4</td></tr>",
                            "<tr><td>105</td><td>2016</td><td>1</td></tr>",
                            "<tr><td>105</td><td>2017</td><td>1</td></tr>",
                            "<tr><td>105</td><td>NULL</td><td>2</td></tr>",
                            "<tr><td>106</td><td>2016</td><td>5</td></tr>",
                            "<tr><td>106</td><td>2017</td><td>1</td></tr>",
                            "<tr><td>106</td><td>NULL</td><td>6</td></tr>",
                            "<tr><td>107</td><td>2016</td><td>3</td></tr>",
                            "<tr><td>107</td><td>2017</td><td>2</td></tr>",
                            "<tr><td>107</td><td>NULL</td><td>5</td></tr>",
                            "<tr><td>108</td><td>2016</td><td>2</td></tr>",
                            "<tr><td>108</td><td>NULL</td><td>2</td></tr>",
                            "<tr><td>109</td><td>2016</td><td>6</td></tr>",
                            "<tr><td>109</td><td>2017</td><td>1</td></tr>",
                            "<tr><td>109</td><td>NULL</td><td>7</td></tr>",
                            "<tr><td>110</td><td>2016</td><td>6</td></tr>",
                            "<tr><td>110</td><td>2017</td><td>2</td></tr>",
                            "<tr><td>110</td><td>NULL</td><td>8</td></tr>",
                            "<tr><td>111</td><td>2016</td><td>5</td></tr>",
                            "<tr><td>111</td><td>NULL</td><td>5</td></tr>",
                            "<tr><td>112</td><td>2016</td><td>4</td></tr>",
                            "<tr><td>112</td><td>2017</td><td>1</td></tr>",
                            "<tr><td>112</td><td>NULL</td><td>5</td></tr>",
                            "<tr><td>113</td><td>2016</td><td>3</td></tr>",
                            "<tr><td>113</td><td>2017</td><td>2</td></tr>",
                            "<tr><td>113</td><td>NULL</td><td>5</td></tr>",
                            "<tr><td>114</td><td>2016</td><td>3</td></tr>",
                            "<tr><td>114</td><td>2017</td><td>1</td></tr>",
                            "<tr><td>114</td><td>NULL</td><td>4</td></tr>",
                            "<tr><td>115</td><td>2016</td><td>5</td></tr>",
                            "<tr><td>115</td><td>2017</td><td>2</td></tr>",
                            "<tr><td>115</td><td>NULL</td><td>7</td></tr>",
                            "<tr><td>116</td><td>2017</td><td>2</td></tr>",
                            "<tr><td>116</td><td>NULL</td><td>2</td></tr>",
                            "<tr><td>117</td><td>2016</td><td>7</td></tr>",
                            "<tr><td>117</td><td>2017</td><td>1</td></tr>",
                            "<tr><td>117</td><td>NULL</td><td>8</td></tr>",
                            "<tr><td>118</td><td>2016</td><td>5</td></tr>",
                            "<tr><td>118</td><td>2017</td><td>2</td></tr>",
                            "<tr><td>118</td><td>NULL</td><td>7</td></tr>",
                            "<tr><td>119</td><td>2016</td><td>3</td></tr>",
                            "<tr><td>119</td><td>2017</td><td>2</td></tr>",
                            "<tr><td>119</td><td>NULL</td><td>5</td></tr>",
                            "<tr><td>120</td><td>2016</td><td>4</td></tr>",
                            "<tr><td>120</td><td>2017</td><td>2</td></tr>",
                            "<tr><td>120</td><td>NULL</td><td>6</td></tr>",
                            "<tr><td>121</td><td>2016</td><td>8</td></tr>",
                            "<tr><td>121</td><td>NULL</td><td>8</td></tr>",
                            "<tr><td>122</td><td>2016</td><td>8</td></tr>",
                            "<tr><td>122</td><td>2017</td><td>1</td></tr>",
                            "<tr><td>122</td><td>NULL</td><td>9</td></tr>",
                            "<tr><td>123</td><td>2016</td><td>5</td></tr>",
                            "<tr><td>123</td><td>NULL</td><td>5</td></tr>",
                            "<tr><td>124</td><td>2016</td><td>4</td></tr>",
                            "<tr><td>124</td><td>2017</td><td>2</td></tr>",
                            "<tr><td>124</td><td>NULL</td><td>6</td></tr>",
                            "<tr><td>125</td><td>2016</td><td>1</td></tr>",
                            "<tr><td>125</td><td>NULL</td><td>1</td></tr>",
                            "<tr><td>126</td><td>2016</td><td>4</td></tr>",
                            "<tr><td>126</td><td>2017</td><td>2</td></tr>",
                            "<tr><td>126</td><td>NULL</td><td>6</td></tr>",
                            "<tr><td>127</td><td>2016</td><td>6</td></tr>",
                            "<tr><td>127</td><td>2017</td><td>1</td></tr>",
                            "<tr><td>127</td><td>NULL</td><td>7</td></tr>",
                            "<tr><td>128</td><td>2016</td><td>3</td></tr>",
                            "<tr><td>128</td><td>2017</td><td>2</td></tr>",
                            "<tr><td>128</td><td>NULL</td><td>5</td></tr>",
                            "<tr><td>129</td><td>2016</td><td>2</td></tr>",
                            "<tr><td>129</td><td>2017</td><td>2</td></tr>",
                            "<tr><td>129</td><td>NULL</td><td>4</td></tr>",
                            "<tr><td>130</td><td>2016</td><td>5</td></tr>",
                            "<tr><td>130</td><td>2017</td><td>1</td></tr>",
                            "<tr><td>130</td><td>NULL</td><td>6</td></tr>",
                            "<tr><td>131</td><td>2016</td><td>4</td></tr>",
                            "<tr><td>131</td><td>2017</td><td>1</td></tr>",
                            "<tr><td>131</td><td>NULL</td><td>5</td></tr>",
                            "<tr><td>132</td><td>2016</td><td>5</td></tr>",
                            "<tr><td>132</td><td>2017</td><td>1</td></tr>",
                            "<tr><td>132</td><td>NULL</td><td>6</td></tr>",
                            "<tr><td>133</td><td>2016</td><td>5</td></tr>",
                            "<tr><td>133</td><td>2017</td><td>1</td></tr>",
                            "<tr><td>133</td><td>NULL</td><td>6</td></tr>",
                            "<tr><td>134</td><td>2016</td><td>5</td></tr>",
                            "<tr><td>134</td><td>2017</td><td>1</td></tr>",
                            "<tr><td>134</td><td>NULL</td><td>6</td></tr>",
                            "<tr><td>135</td><td>2016</td><td>3</td></tr>",
                            "<tr><td>135</td><td>NULL</td><td>3</td></tr>",
                            "<tr><td>136</td><td>2016</td><td>3</td></tr>",
                            "<tr><td>136</td><td>NULL</td><td>3</td></tr>",
                            "<tr><td>137</td><td>2016</td><td>6</td></tr>",
                            "<tr><td>137</td><td>NULL</td><td>6</td></tr>",
                            "<tr><td>138</td><td>2016</td><td>7</td></tr>",
                            "<tr><td>138</td><td>NULL</td><td>7</td></tr>",
                            "<tr><td>139</td><td>2016</td><td>5</td></tr>",
                            "<tr><td>139</td><td>2017</td><td>2</td></tr>",
                            "<tr><td>139</td><td>NULL</td><td>7</td></tr>",
                            "<tr><td>140</td><td>2016</td><td>8</td></tr>",
                            "<tr><td>140</td><td>NULL</td><td>8</td></tr>",
                            "<tr><td>141</td><td>2016</td><td>6</td></tr>",
                            "<tr><td>141</td><td>NULL</td><td>6</td></tr>",
                            "<tr><td>142</td><td>2016</td><td>1</td></tr>",
                            "<tr><td>142</td><td>2017</td><td>1</td></tr>",
                            "<tr><td>142</td><td>NULL</td><td>2</td></tr>",
                            "<tr><td>143</td><td>2016</td><td>6</td></tr>",
                            "<tr><td>143</td><td>2017</td><td>1</td></tr>",
                            "<tr><td>143</td><td>NULL</td><td>7</td></tr>",
                            "<tr><td>144</td><td>2016</td><td>4</td></tr>",
                            "<tr><td>144</td><td>2017</td><td>1</td></tr>",
                            "<tr><td>144</td><td>NULL</td><td>5</td></tr>",
                            "<tr><td>145</td><td>2016</td><td>5</td></tr>",
                            "<tr><td>145</td><td>2017</td><td>1</td></tr>",
                            "<tr><td>145</td><td>NULL</td><td>6</td></tr>",
                            "<tr><td>146</td><td>2016</td><td>5</td></tr>",
                            "<tr><td>146</td><td>2017</td><td>1</td></tr>",
                            "<tr><td>146</td><td>NULL</td><td>6</td></tr>",
                            "<tr><td>147</td><td>2016</td><td>1</td></tr>",
                            "<tr><td>147</td><td>NULL</td><td>1</td></tr>",
                            "<tr><td>148</td><td>2016</td><td>5</td></tr>",
                            "<tr><td>148</td><td>2017</td><td>1</td></tr>",
                            "<tr><td>148</td><td>NULL</td><td>6</td></tr>",
                            "<tr><td>149</td><td>2016</td><td>6</td></tr>",
                            "<tr><td>149</td><td>2017</td><td>1</td></tr>",
                            "<tr><td>149</td><td>NULL</td><td>7</td></tr>",
                            "<tr><td>150</td><td>2016</td><td>5</td></tr>",
                            "<tr><td>150</td><td>2017</td><td>1</td></tr>",
                            "<tr><td>150</td><td>NULL</td><td>6</td></tr>",
                            "<tr><td>151</td><td>2016</td><td>3</td></tr>",
                            "<tr><td>151</td><td>NULL</td><td>3</td></tr>",
                            "<tr><td>152</td><td>2016</td><td>3</td></tr>",
                            "<tr><td>152</td><td>2017</td><td>1</td></tr>",
                            "<tr><td>152</td><td>NULL</td><td>4</td></tr>",
                            "<tr><td>153</td><td>2016</td><td>2</td></tr>",
                            "<tr><td>153</td><td>2017</td><td>3</td></tr>",
                            "<tr><td>153</td><td>NULL</td><td>5</td></tr>",
                            "<tr><td>154</td><td>2016</td><td>4</td></tr>",
                            "<tr><td>154</td><td>2017</td><td>1</td></tr>",
                            "<tr><td>154</td><td>NULL</td><td>5</td></tr>",
                            "<tr><td>155</td><td>2016</td><td>4</td></tr>",
                            "<tr><td>155</td><td>2017</td><td>1</td></tr>",
                            "<tr><td>155</td><td>NULL</td><td>5</td></tr>",
                            "<tr><td>156</td><td>2016</td><td>4</td></tr>",
                            "<tr><td>156</td><td>2017</td><td>3</td></tr>",
                            "<tr><td>156</td><td>NULL</td><td>7</td></tr>",
                            "<tr><td>157</td><td>2016</td><td>4</td></tr>",
                            "<tr><td>157</td><td>2017</td><td>1</td></tr>",
                            "<tr><td>157</td><td>NULL</td><td>5</td></tr>",
                            "<tr><td>158</td><td>2016</td><td>3</td></tr>",
                            "<tr><td>158</td><td>NULL</td><td>3</td></tr>",
                            "<tr><td>160</td><td>2016</td><td>4</td></tr>",
                            "<tr><td>160</td><td>2017</td><td>1</td></tr>",
                            "<tr><td>160</td><td>NULL</td><td>5</td></tr>",
                            "<tr><td>161</td><td>2016</td><td>5</td></tr>",
                            "<tr><td>161</td><td>2017</td><td>1</td></tr>",
                            "<tr><td>161</td><td>NULL</td><td>6</td></tr>",
                            "<tr><td>162</td><td>2016</td><td>3</td></tr>",
                            "<tr><td>162</td><td>NULL</td><td>3</td></tr>",
                            "<tr><td>163</td><td>2016</td><td>6</td></tr>",
                            "<tr><td>163</td><td>2017</td><td>1</td></tr>",
                            "<tr><td>163</td><td>NULL</td><td>7</td></tr>",
                            "<tr><td>164</td><td>2016</td><td>5</td></tr>",
                            "<tr><td>164</td><td>NULL</td><td>5</td></tr>",
                            "<tr><td>165</td><td>2016</td><td>7</td></tr>",
                            "<tr><td>165</td><td>NULL</td><td>7</td></tr>",
                            "<tr><td>166</td><td>2016</td><td>2</td></tr>",
                            "<tr><td>166</td><td>2017</td><td>1</td></tr>",
                            "<tr><td>166</td><td>NULL</td><td>3</td></tr>",
                            "<tr><td>167</td><td>2016</td><td>1</td></tr>",
                            "<tr><td>167</td><td>2017</td><td>1</td></tr>",
                            "<tr><td>167</td><td>NULL</td><td>2</td></tr>",
                            "<tr><td>168</td><td>2016</td><td>5</td></tr>",
                            "<tr><td>168</td><td>NULL</td><td>5</td></tr>",
                            "<tr><td>169</td><td>2016</td><td>5</td></tr>",
                            "<tr><td>169</td><td>2017</td><td>1</td></tr>",
                            "<tr><td>169</td><td>NULL</td><td>6</td></tr>",
                            "<tr><td>170</td><td>2016</td><td>5</td></tr>",
                            "<tr><td>170</td><td>NULL</td><td>5</td></tr>",
                            "<tr><td>171</td><td>2016</td><td>4</td></tr>",
                            "<tr><td>171</td><td>2017</td><td>1</td></tr>",
                            "<tr><td>171</td><td>NULL</td><td>5</td></tr>",
                            "<tr><td>172</td><td>2016</td><td>7</td></tr>",
                            "<tr><td>172</td><td>2017</td><td>2</td></tr>",
                            "<tr><td>172</td><td>NULL</td><td>9</td></tr>",
                            "<tr><td>173</td><td>2016</td><td>3</td></tr>",
                            "<tr><td>173</td><td>2017</td><td>1</td></tr>",
                            "<tr><td>173</td><td>NULL</td><td>4</td></tr>",
                            "<tr><td>174</td><td>2016</td><td>4</td></tr>",
                            "<tr><td>174</td><td>NULL</td><td>4</td></tr>",
                            "<tr><td>175</td><td>2016</td><td>5</td></tr>",
                            "<tr><td>175</td><td>NULL</td><td>5</td></tr>",
                            "<tr><td>176</td><td>2016</td><td>4</td></tr>",
                            "<tr><td>176</td><td>2017</td><td>2</td></tr>",
                            "<tr><td>176</td><td>NULL</td><td>6</td></tr>",
                            "<tr><td>177</td><td>2016</td><td>3</td></tr>",
                            "<tr><td>177</td><td>2017</td><td>1</td></tr>",
                            "<tr><td>177</td><td>NULL</td><td>4</td></tr>",
                            "<tr><td>178</td><td>2016</td><td>4</td></tr>",
                            "<tr><td>178</td><td>NULL</td><td>4</td></tr>",
                            "<tr><td>179</td><td>2016</td><td>2</td></tr>",
                            "<tr><td>179</td><td>2017</td><td>1</td></tr>",
                            "<tr><td>179</td><td>NULL</td><td>3</td></tr>",
                            "<tr><td>180</td><td>2016</td><td>1</td></tr>",
                            "<tr><td>180</td><td>2017</td><td>2</td></tr>",
                            "<tr><td>180</td><td>NULL</td><td>3</td></tr>",
                            "<tr><td>181</td><td>2016</td><td>6</td></tr>",
                            "<tr><td>181</td><td>NULL</td><td>6</td></tr>",
                            "<tr><td>182</td><td>2016</td><td>10</td></tr>",
                            "<tr><td>182</td><td>2017</td><td>2</td></tr>",
                            "<tr><td>182</td><td>NULL</td><td>12</td></tr>",
                            "<tr><td>183</td><td>2016</td><td>3</td></tr>",
                            "<tr><td>183</td><td>2017</td><td>1</td></tr>",
                            "<tr><td>183</td><td>NULL</td><td>4</td></tr>",
                            "<tr><td>184</td><td>2016</td><td>4</td></tr>",
                            "<tr><td>184</td><td>NULL</td><td>4</td></tr>",
                            "<tr><td>185</td><td>2016</td><td>10</td></tr>",
                            "<tr><td>185</td><td>2017</td><td>2</td></tr>",
                            "<tr><td>185</td><td>NULL</td><td>12</td></tr>",
                            "<tr><td>186</td><td>2016</td><td>3</td></tr>",
                            "<tr><td>186</td><td>2017</td><td>1</td></tr>",
                            "<tr><td>186</td><td>NULL</td><td>4</td></tr>",
                            "<tr><td>187</td><td>2016</td><td>7</td></tr>",
                            "<tr><td>187</td><td>NULL</td><td>7</td></tr>",
                            "<tr><td>188</td><td>2016</td><td>6</td></tr>",
                            "<tr><td>188</td><td>NULL</td><td>6</td></tr>",
                            "<tr><td>189</td><td>2016</td><td>3</td></tr>",
                            "<tr><td>189</td><td>2017</td><td>2</td></tr>",
                            "<tr><td>189</td><td>NULL</td><td>5</td></tr>",
                            "<tr><td>190</td><td>2016</td><td>4</td></tr>",
                            "<tr><td>190</td><td>2017</td><td>1</td></tr>",
                            "<tr><td>190</td><td>NULL</td><td>5</td></tr>",
                            "<tr><td>191</td><td>2016</td><td>3</td></tr>",
                            "<tr><td>191</td><td>2017</td><td>2</td></tr>",
                            "<tr><td>191</td><td>NULL</td><td>5</td></tr>",
                            "<tr><td>192</td><td>2016</td><td>2</td></tr>",
                            "<tr><td>192</td><td>NULL</td><td>2</td></tr>",
                            "<tr><td>193</td><td>2016</td><td>7</td></tr>",
                            "<tr><td>193</td><td>NULL</td><td>7</td></tr>",
                            "<tr><td>194</td><td>2016</td><td>1</td></tr>",
                            "<tr><td>194</td><td>NULL</td><td>1</td></tr>",
                            "<tr><td>195</td><td>2016</td><td>4</td></tr>",
                            "<tr><td>195</td><td>2017</td><td>2</td></tr>",
                            "<tr><td>195</td><td>NULL</td><td>6</td></tr>",
                            "<tr><td>196</td><td>2016</td><td>4</td></tr>",
                            "<tr><td>196</td><td>NULL</td><td>4</td></tr>",
                            "<tr><td>197</td><td>2016</td><td>6</td></tr>",
                            "<tr><td>197</td><td>NULL</td><td>6</td></tr>",
                            "<tr><td>198</td><td>2016</td><td>7</td></tr>",
                            "<tr><td>198</td><td>2017</td><td>1</td></tr>",
                            "<tr><td>198</td><td>NULL</td><td>8</td></tr>",
                            "<tr><td>NULL</td><td>NULL</td><td>1027</td></tr>",
                            "</table>"
                        ]
                    }
                }
            ],
            "execution_count": 26
        },
        {
            "cell_type": "markdown",
            "source": [
                "Rangsoroljuk az egyes szobákat a foglalások száma, azon belül férőhely szerint!\n",
                "\n",
                "- Holtverseny esetén a sorszámok sűrűn kövessék egymást\n",
                "- Az 1-es számot a legtöbbet foglalt, azon belül legkevesebb férőhelyű szoba kapja\n",
                "- Csak a szoba azonosítója, a férőhely és a helyezés jelenjen meg"
            ],
            "metadata": {
                "azdata_cell_guid": "de771004-cf19-454f-9b3e-141583e37f8e"
            },
            "attachments": {}
        },
        {
            "cell_type": "code",
            "source": [
                "SELECT SZOBA_ID,FEROHELY,dense_RANK() OVER(ORDER by count(*) desc, FEROHELY ASC) as 'Rangsor'\r\n",
                "From Szoba\r\n",
                "GROUP BY SZOBA_ID, FEROHELY"
            ],
            "metadata": {
                "azdata_cell_guid": "c82536f3-778d-41c2-805b-c3f23aebe906",
                "language": "sql",
                "tags": []
            },
            "outputs": [
                {
                    "output_type": "display_data",
                    "data": {
                        "text/html": "(294 rows affected)"
                    },
                    "metadata": {}
                },
                {
                    "output_type": "display_data",
                    "data": {
                        "text/html": "Total execution time: 00:00:00.016"
                    },
                    "metadata": {}
                },
                {
                    "output_type": "execute_result",
                    "metadata": {},
                    "execution_count": 19,
                    "data": {
                        "application/vnd.dataresource+json": {
                            "schema": {
                                "fields": [
                                    {
                                        "name": "SZOBA_ID"
                                    },
                                    {
                                        "name": "FEROHELY"
                                    },
                                    {
                                        "name": "Rangsor"
                                    }
                                ]
                            },
                            "data": [
                                {
                                    "SZOBA_ID": "261",
                                    "FEROHELY": "1",
                                    "Rangsor": "1"
                                },
                                {
                                    "SZOBA_ID": "262",
                                    "FEROHELY": "1",
                                    "Rangsor": "1"
                                },
                                {
                                    "SZOBA_ID": "263",
                                    "FEROHELY": "2",
                                    "Rangsor": "2"
                                },
                                {
                                    "SZOBA_ID": "257",
                                    "FEROHELY": "2",
                                    "Rangsor": "2"
                                },
                                {
                                    "SZOBA_ID": "258",
                                    "FEROHELY": "2",
                                    "Rangsor": "2"
                                },
                                {
                                    "SZOBA_ID": "259",
                                    "FEROHELY": "2",
                                    "Rangsor": "2"
                                },
                                {
                                    "SZOBA_ID": "260",
                                    "FEROHELY": "2",
                                    "Rangsor": "2"
                                },
                                {
                                    "SZOBA_ID": "229",
                                    "FEROHELY": "2",
                                    "Rangsor": "2"
                                },
                                {
                                    "SZOBA_ID": "237",
                                    "FEROHELY": "2",
                                    "Rangsor": "2"
                                },
                                {
                                    "SZOBA_ID": "253",
                                    "FEROHELY": "2",
                                    "Rangsor": "2"
                                },
                                {
                                    "SZOBA_ID": "254",
                                    "FEROHELY": "2",
                                    "Rangsor": "2"
                                },
                                {
                                    "SZOBA_ID": "266",
                                    "FEROHELY": "2",
                                    "Rangsor": "2"
                                },
                                {
                                    "SZOBA_ID": "267",
                                    "FEROHELY": "2",
                                    "Rangsor": "2"
                                },
                                {
                                    "SZOBA_ID": "268",
                                    "FEROHELY": "2",
                                    "Rangsor": "2"
                                },
                                {
                                    "SZOBA_ID": "269",
                                    "FEROHELY": "2",
                                    "Rangsor": "2"
                                },
                                {
                                    "SZOBA_ID": "239",
                                    "FEROHELY": "2",
                                    "Rangsor": "2"
                                },
                                {
                                    "SZOBA_ID": "273",
                                    "FEROHELY": "2",
                                    "Rangsor": "2"
                                },
                                {
                                    "SZOBA_ID": "275",
                                    "FEROHELY": "2",
                                    "Rangsor": "2"
                                },
                                {
                                    "SZOBA_ID": "276",
                                    "FEROHELY": "2",
                                    "Rangsor": "2"
                                },
                                {
                                    "SZOBA_ID": "277",
                                    "FEROHELY": "2",
                                    "Rangsor": "2"
                                },
                                {
                                    "SZOBA_ID": "281",
                                    "FEROHELY": "2",
                                    "Rangsor": "2"
                                },
                                {
                                    "SZOBA_ID": "282",
                                    "FEROHELY": "2",
                                    "Rangsor": "2"
                                },
                                {
                                    "SZOBA_ID": "283",
                                    "FEROHELY": "2",
                                    "Rangsor": "2"
                                },
                                {
                                    "SZOBA_ID": "284",
                                    "FEROHELY": "2",
                                    "Rangsor": "2"
                                },
                                {
                                    "SZOBA_ID": "285",
                                    "FEROHELY": "2",
                                    "Rangsor": "2"
                                },
                                {
                                    "SZOBA_ID": "279",
                                    "FEROHELY": "2",
                                    "Rangsor": "2"
                                },
                                {
                                    "SZOBA_ID": "288",
                                    "FEROHELY": "2",
                                    "Rangsor": "2"
                                },
                                {
                                    "SZOBA_ID": "290",
                                    "FEROHELY": "2",
                                    "Rangsor": "2"
                                },
                                {
                                    "SZOBA_ID": "291",
                                    "FEROHELY": "2",
                                    "Rangsor": "2"
                                },
                                {
                                    "SZOBA_ID": "292",
                                    "FEROHELY": "2",
                                    "Rangsor": "2"
                                },
                                {
                                    "SZOBA_ID": "293",
                                    "FEROHELY": "2",
                                    "Rangsor": "2"
                                },
                                {
                                    "SZOBA_ID": "168",
                                    "FEROHELY": "2",
                                    "Rangsor": "2"
                                },
                                {
                                    "SZOBA_ID": "169",
                                    "FEROHELY": "2",
                                    "Rangsor": "2"
                                },
                                {
                                    "SZOBA_ID": "170",
                                    "FEROHELY": "2",
                                    "Rangsor": "2"
                                },
                                {
                                    "SZOBA_ID": "171",
                                    "FEROHELY": "2",
                                    "Rangsor": "2"
                                },
                                {
                                    "SZOBA_ID": "172",
                                    "FEROHELY": "2",
                                    "Rangsor": "2"
                                },
                                {
                                    "SZOBA_ID": "173",
                                    "FEROHELY": "2",
                                    "Rangsor": "2"
                                },
                                {
                                    "SZOBA_ID": "174",
                                    "FEROHELY": "2",
                                    "Rangsor": "2"
                                },
                                {
                                    "SZOBA_ID": "175",
                                    "FEROHELY": "2",
                                    "Rangsor": "2"
                                },
                                {
                                    "SZOBA_ID": "163",
                                    "FEROHELY": "2",
                                    "Rangsor": "2"
                                },
                                {
                                    "SZOBA_ID": "164",
                                    "FEROHELY": "2",
                                    "Rangsor": "2"
                                },
                                {
                                    "SZOBA_ID": "165",
                                    "FEROHELY": "2",
                                    "Rangsor": "2"
                                },
                                {
                                    "SZOBA_ID": "166",
                                    "FEROHELY": "2",
                                    "Rangsor": "2"
                                },
                                {
                                    "SZOBA_ID": "180",
                                    "FEROHELY": "2",
                                    "Rangsor": "2"
                                },
                                {
                                    "SZOBA_ID": "182",
                                    "FEROHELY": "2",
                                    "Rangsor": "2"
                                },
                                {
                                    "SZOBA_ID": "184",
                                    "FEROHELY": "2",
                                    "Rangsor": "2"
                                },
                                {
                                    "SZOBA_ID": "186",
                                    "FEROHELY": "2",
                                    "Rangsor": "2"
                                },
                                {
                                    "SZOBA_ID": "189",
                                    "FEROHELY": "2",
                                    "Rangsor": "2"
                                },
                                {
                                    "SZOBA_ID": "190",
                                    "FEROHELY": "2",
                                    "Rangsor": "2"
                                },
                                {
                                    "SZOBA_ID": "191",
                                    "FEROHELY": "2",
                                    "Rangsor": "2"
                                },
                                {
                                    "SZOBA_ID": "192",
                                    "FEROHELY": "2",
                                    "Rangsor": "2"
                                },
                                {
                                    "SZOBA_ID": "194",
                                    "FEROHELY": "2",
                                    "Rangsor": "2"
                                },
                                {
                                    "SZOBA_ID": "195",
                                    "FEROHELY": "2",
                                    "Rangsor": "2"
                                },
                                {
                                    "SZOBA_ID": "196",
                                    "FEROHELY": "2",
                                    "Rangsor": "2"
                                },
                                {
                                    "SZOBA_ID": "200",
                                    "FEROHELY": "2",
                                    "Rangsor": "2"
                                },
                                {
                                    "SZOBA_ID": "206",
                                    "FEROHELY": "2",
                                    "Rangsor": "2"
                                },
                                {
                                    "SZOBA_ID": "207",
                                    "FEROHELY": "2",
                                    "Rangsor": "2"
                                },
                                {
                                    "SZOBA_ID": "208",
                                    "FEROHELY": "2",
                                    "Rangsor": "2"
                                },
                                {
                                    "SZOBA_ID": "210",
                                    "FEROHELY": "2",
                                    "Rangsor": "2"
                                },
                                {
                                    "SZOBA_ID": "211",
                                    "FEROHELY": "2",
                                    "Rangsor": "2"
                                },
                                {
                                    "SZOBA_ID": "215",
                                    "FEROHELY": "2",
                                    "Rangsor": "2"
                                },
                                {
                                    "SZOBA_ID": "217",
                                    "FEROHELY": "2",
                                    "Rangsor": "2"
                                },
                                {
                                    "SZOBA_ID": "222",
                                    "FEROHELY": "2",
                                    "Rangsor": "2"
                                },
                                {
                                    "SZOBA_ID": "223",
                                    "FEROHELY": "2",
                                    "Rangsor": "2"
                                },
                                {
                                    "SZOBA_ID": "224",
                                    "FEROHELY": "2",
                                    "Rangsor": "2"
                                },
                                {
                                    "SZOBA_ID": "225",
                                    "FEROHELY": "2",
                                    "Rangsor": "2"
                                },
                                {
                                    "SZOBA_ID": "219",
                                    "FEROHELY": "2",
                                    "Rangsor": "2"
                                },
                                {
                                    "SZOBA_ID": "227",
                                    "FEROHELY": "2",
                                    "Rangsor": "2"
                                },
                                {
                                    "SZOBA_ID": "231",
                                    "FEROHELY": "2",
                                    "Rangsor": "2"
                                },
                                {
                                    "SZOBA_ID": "232",
                                    "FEROHELY": "2",
                                    "Rangsor": "2"
                                },
                                {
                                    "SZOBA_ID": "241",
                                    "FEROHELY": "2",
                                    "Rangsor": "2"
                                },
                                {
                                    "SZOBA_ID": "242",
                                    "FEROHELY": "2",
                                    "Rangsor": "2"
                                },
                                {
                                    "SZOBA_ID": "243",
                                    "FEROHELY": "2",
                                    "Rangsor": "2"
                                },
                                {
                                    "SZOBA_ID": "244",
                                    "FEROHELY": "2",
                                    "Rangsor": "2"
                                },
                                {
                                    "SZOBA_ID": "245",
                                    "FEROHELY": "2",
                                    "Rangsor": "2"
                                },
                                {
                                    "SZOBA_ID": "246",
                                    "FEROHELY": "2",
                                    "Rangsor": "2"
                                },
                                {
                                    "SZOBA_ID": "247",
                                    "FEROHELY": "2",
                                    "Rangsor": "2"
                                },
                                {
                                    "SZOBA_ID": "248",
                                    "FEROHELY": "2",
                                    "Rangsor": "2"
                                },
                                {
                                    "SZOBA_ID": "249",
                                    "FEROHELY": "2",
                                    "Rangsor": "2"
                                },
                                {
                                    "SZOBA_ID": "4",
                                    "FEROHELY": "2",
                                    "Rangsor": "2"
                                },
                                {
                                    "SZOBA_ID": "5",
                                    "FEROHELY": "2",
                                    "Rangsor": "2"
                                },
                                {
                                    "SZOBA_ID": "7",
                                    "FEROHELY": "2",
                                    "Rangsor": "2"
                                },
                                {
                                    "SZOBA_ID": "11",
                                    "FEROHELY": "2",
                                    "Rangsor": "2"
                                },
                                {
                                    "SZOBA_ID": "12",
                                    "FEROHELY": "2",
                                    "Rangsor": "2"
                                },
                                {
                                    "SZOBA_ID": "15",
                                    "FEROHELY": "2",
                                    "Rangsor": "2"
                                },
                                {
                                    "SZOBA_ID": "19",
                                    "FEROHELY": "2",
                                    "Rangsor": "2"
                                },
                                {
                                    "SZOBA_ID": "21",
                                    "FEROHELY": "2",
                                    "Rangsor": "2"
                                },
                                {
                                    "SZOBA_ID": "23",
                                    "FEROHELY": "2",
                                    "Rangsor": "2"
                                },
                                {
                                    "SZOBA_ID": "26",
                                    "FEROHELY": "2",
                                    "Rangsor": "2"
                                },
                                {
                                    "SZOBA_ID": "28",
                                    "FEROHELY": "2",
                                    "Rangsor": "2"
                                },
                                {
                                    "SZOBA_ID": "29",
                                    "FEROHELY": "2",
                                    "Rangsor": "2"
                                },
                                {
                                    "SZOBA_ID": "32",
                                    "FEROHELY": "2",
                                    "Rangsor": "2"
                                },
                                {
                                    "SZOBA_ID": "33",
                                    "FEROHELY": "2",
                                    "Rangsor": "2"
                                },
                                {
                                    "SZOBA_ID": "37",
                                    "FEROHELY": "2",
                                    "Rangsor": "2"
                                },
                                {
                                    "SZOBA_ID": "38",
                                    "FEROHELY": "2",
                                    "Rangsor": "2"
                                },
                                {
                                    "SZOBA_ID": "39",
                                    "FEROHELY": "2",
                                    "Rangsor": "2"
                                },
                                {
                                    "SZOBA_ID": "42",
                                    "FEROHELY": "2",
                                    "Rangsor": "2"
                                },
                                {
                                    "SZOBA_ID": "45",
                                    "FEROHELY": "2",
                                    "Rangsor": "2"
                                },
                                {
                                    "SZOBA_ID": "47",
                                    "FEROHELY": "2",
                                    "Rangsor": "2"
                                },
                                {
                                    "SZOBA_ID": "50",
                                    "FEROHELY": "2",
                                    "Rangsor": "2"
                                },
                                {
                                    "SZOBA_ID": "55",
                                    "FEROHELY": "2",
                                    "Rangsor": "2"
                                },
                                {
                                    "SZOBA_ID": "56",
                                    "FEROHELY": "2",
                                    "Rangsor": "2"
                                },
                                {
                                    "SZOBA_ID": "57",
                                    "FEROHELY": "2",
                                    "Rangsor": "2"
                                },
                                {
                                    "SZOBA_ID": "58",
                                    "FEROHELY": "2",
                                    "Rangsor": "2"
                                },
                                {
                                    "SZOBA_ID": "59",
                                    "FEROHELY": "2",
                                    "Rangsor": "2"
                                },
                                {
                                    "SZOBA_ID": "62",
                                    "FEROHELY": "2",
                                    "Rangsor": "2"
                                },
                                {
                                    "SZOBA_ID": "63",
                                    "FEROHELY": "2",
                                    "Rangsor": "2"
                                },
                                {
                                    "SZOBA_ID": "64",
                                    "FEROHELY": "2",
                                    "Rangsor": "2"
                                },
                                {
                                    "SZOBA_ID": "65",
                                    "FEROHELY": "2",
                                    "Rangsor": "2"
                                },
                                {
                                    "SZOBA_ID": "52",
                                    "FEROHELY": "2",
                                    "Rangsor": "2"
                                },
                                {
                                    "SZOBA_ID": "53",
                                    "FEROHELY": "2",
                                    "Rangsor": "2"
                                },
                                {
                                    "SZOBA_ID": "67",
                                    "FEROHELY": "2",
                                    "Rangsor": "2"
                                },
                                {
                                    "SZOBA_ID": "68",
                                    "FEROHELY": "2",
                                    "Rangsor": "2"
                                },
                                {
                                    "SZOBA_ID": "70",
                                    "FEROHELY": "2",
                                    "Rangsor": "2"
                                },
                                {
                                    "SZOBA_ID": "72",
                                    "FEROHELY": "2",
                                    "Rangsor": "2"
                                },
                                {
                                    "SZOBA_ID": "73",
                                    "FEROHELY": "2",
                                    "Rangsor": "2"
                                },
                                {
                                    "SZOBA_ID": "75",
                                    "FEROHELY": "2",
                                    "Rangsor": "2"
                                },
                                {
                                    "SZOBA_ID": "76",
                                    "FEROHELY": "2",
                                    "Rangsor": "2"
                                },
                                {
                                    "SZOBA_ID": "78",
                                    "FEROHELY": "2",
                                    "Rangsor": "2"
                                },
                                {
                                    "SZOBA_ID": "80",
                                    "FEROHELY": "2",
                                    "Rangsor": "2"
                                },
                                {
                                    "SZOBA_ID": "81",
                                    "FEROHELY": "2",
                                    "Rangsor": "2"
                                },
                                {
                                    "SZOBA_ID": "85",
                                    "FEROHELY": "2",
                                    "Rangsor": "2"
                                },
                                {
                                    "SZOBA_ID": "86",
                                    "FEROHELY": "2",
                                    "Rangsor": "2"
                                },
                                {
                                    "SZOBA_ID": "94",
                                    "FEROHELY": "2",
                                    "Rangsor": "2"
                                },
                                {
                                    "SZOBA_ID": "98",
                                    "FEROHELY": "2",
                                    "Rangsor": "2"
                                },
                                {
                                    "SZOBA_ID": "99",
                                    "FEROHELY": "2",
                                    "Rangsor": "2"
                                },
                                {
                                    "SZOBA_ID": "100",
                                    "FEROHELY": "2",
                                    "Rangsor": "2"
                                },
                                {
                                    "SZOBA_ID": "101",
                                    "FEROHELY": "2",
                                    "Rangsor": "2"
                                },
                                {
                                    "SZOBA_ID": "102",
                                    "FEROHELY": "2",
                                    "Rangsor": "2"
                                },
                                {
                                    "SZOBA_ID": "103",
                                    "FEROHELY": "2",
                                    "Rangsor": "2"
                                },
                                {
                                    "SZOBA_ID": "105",
                                    "FEROHELY": "2",
                                    "Rangsor": "2"
                                },
                                {
                                    "SZOBA_ID": "106",
                                    "FEROHELY": "2",
                                    "Rangsor": "2"
                                },
                                {
                                    "SZOBA_ID": "107",
                                    "FEROHELY": "2",
                                    "Rangsor": "2"
                                },
                                {
                                    "SZOBA_ID": "108",
                                    "FEROHELY": "2",
                                    "Rangsor": "2"
                                },
                                {
                                    "SZOBA_ID": "109",
                                    "FEROHELY": "2",
                                    "Rangsor": "2"
                                },
                                {
                                    "SZOBA_ID": "110",
                                    "FEROHELY": "2",
                                    "Rangsor": "2"
                                },
                                {
                                    "SZOBA_ID": "111",
                                    "FEROHELY": "2",
                                    "Rangsor": "2"
                                },
                                {
                                    "SZOBA_ID": "114",
                                    "FEROHELY": "2",
                                    "Rangsor": "2"
                                },
                                {
                                    "SZOBA_ID": "91",
                                    "FEROHELY": "2",
                                    "Rangsor": "2"
                                },
                                {
                                    "SZOBA_ID": "118",
                                    "FEROHELY": "2",
                                    "Rangsor": "2"
                                },
                                {
                                    "SZOBA_ID": "119",
                                    "FEROHELY": "2",
                                    "Rangsor": "2"
                                },
                                {
                                    "SZOBA_ID": "125",
                                    "FEROHELY": "2",
                                    "Rangsor": "2"
                                },
                                {
                                    "SZOBA_ID": "126",
                                    "FEROHELY": "2",
                                    "Rangsor": "2"
                                },
                                {
                                    "SZOBA_ID": "127",
                                    "FEROHELY": "2",
                                    "Rangsor": "2"
                                },
                                {
                                    "SZOBA_ID": "128",
                                    "FEROHELY": "2",
                                    "Rangsor": "2"
                                },
                                {
                                    "SZOBA_ID": "129",
                                    "FEROHELY": "2",
                                    "Rangsor": "2"
                                },
                                {
                                    "SZOBA_ID": "130",
                                    "FEROHELY": "2",
                                    "Rangsor": "2"
                                },
                                {
                                    "SZOBA_ID": "131",
                                    "FEROHELY": "2",
                                    "Rangsor": "2"
                                },
                                {
                                    "SZOBA_ID": "121",
                                    "FEROHELY": "2",
                                    "Rangsor": "2"
                                },
                                {
                                    "SZOBA_ID": "139",
                                    "FEROHELY": "2",
                                    "Rangsor": "2"
                                },
                                {
                                    "SZOBA_ID": "140",
                                    "FEROHELY": "2",
                                    "Rangsor": "2"
                                },
                                {
                                    "SZOBA_ID": "141",
                                    "FEROHELY": "2",
                                    "Rangsor": "2"
                                },
                                {
                                    "SZOBA_ID": "136",
                                    "FEROHELY": "2",
                                    "Rangsor": "2"
                                },
                                {
                                    "SZOBA_ID": "137",
                                    "FEROHELY": "2",
                                    "Rangsor": "2"
                                },
                                {
                                    "SZOBA_ID": "145",
                                    "FEROHELY": "2",
                                    "Rangsor": "2"
                                },
                                {
                                    "SZOBA_ID": "147",
                                    "FEROHELY": "2",
                                    "Rangsor": "2"
                                },
                                {
                                    "SZOBA_ID": "148",
                                    "FEROHELY": "2",
                                    "Rangsor": "2"
                                },
                                {
                                    "SZOBA_ID": "149",
                                    "FEROHELY": "2",
                                    "Rangsor": "2"
                                },
                                {
                                    "SZOBA_ID": "150",
                                    "FEROHELY": "2",
                                    "Rangsor": "2"
                                },
                                {
                                    "SZOBA_ID": "151",
                                    "FEROHELY": "2",
                                    "Rangsor": "2"
                                },
                                {
                                    "SZOBA_ID": "152",
                                    "FEROHELY": "2",
                                    "Rangsor": "2"
                                },
                                {
                                    "SZOBA_ID": "156",
                                    "FEROHELY": "2",
                                    "Rangsor": "2"
                                },
                                {
                                    "SZOBA_ID": "157",
                                    "FEROHELY": "2",
                                    "Rangsor": "2"
                                },
                                {
                                    "SZOBA_ID": "158",
                                    "FEROHELY": "2",
                                    "Rangsor": "2"
                                },
                                {
                                    "SZOBA_ID": "154",
                                    "FEROHELY": "2",
                                    "Rangsor": "2"
                                },
                                {
                                    "SZOBA_ID": "161",
                                    "FEROHELY": "2",
                                    "Rangsor": "2"
                                },
                                {
                                    "SZOBA_ID": "162",
                                    "FEROHELY": "3",
                                    "Rangsor": "3"
                                },
                                {
                                    "SZOBA_ID": "155",
                                    "FEROHELY": "3",
                                    "Rangsor": "3"
                                },
                                {
                                    "SZOBA_ID": "159",
                                    "FEROHELY": "3",
                                    "Rangsor": "3"
                                },
                                {
                                    "SZOBA_ID": "160",
                                    "FEROHELY": "3",
                                    "Rangsor": "3"
                                },
                                {
                                    "SZOBA_ID": "153",
                                    "FEROHELY": "3",
                                    "Rangsor": "3"
                                },
                                {
                                    "SZOBA_ID": "146",
                                    "FEROHELY": "3",
                                    "Rangsor": "3"
                                },
                                {
                                    "SZOBA_ID": "138",
                                    "FEROHELY": "3",
                                    "Rangsor": "3"
                                },
                                {
                                    "SZOBA_ID": "142",
                                    "FEROHELY": "3",
                                    "Rangsor": "3"
                                },
                                {
                                    "SZOBA_ID": "143",
                                    "FEROHELY": "3",
                                    "Rangsor": "3"
                                },
                                {
                                    "SZOBA_ID": "144",
                                    "FEROHELY": "3",
                                    "Rangsor": "3"
                                },
                                {
                                    "SZOBA_ID": "122",
                                    "FEROHELY": "3",
                                    "Rangsor": "3"
                                },
                                {
                                    "SZOBA_ID": "123",
                                    "FEROHELY": "3",
                                    "Rangsor": "3"
                                },
                                {
                                    "SZOBA_ID": "124",
                                    "FEROHELY": "3",
                                    "Rangsor": "3"
                                },
                                {
                                    "SZOBA_ID": "132",
                                    "FEROHELY": "3",
                                    "Rangsor": "3"
                                },
                                {
                                    "SZOBA_ID": "133",
                                    "FEROHELY": "3",
                                    "Rangsor": "3"
                                },
                                {
                                    "SZOBA_ID": "134",
                                    "FEROHELY": "3",
                                    "Rangsor": "3"
                                },
                                {
                                    "SZOBA_ID": "135",
                                    "FEROHELY": "3",
                                    "Rangsor": "3"
                                },
                                {
                                    "SZOBA_ID": "120",
                                    "FEROHELY": "3",
                                    "Rangsor": "3"
                                },
                                {
                                    "SZOBA_ID": "92",
                                    "FEROHELY": "3",
                                    "Rangsor": "3"
                                },
                                {
                                    "SZOBA_ID": "93",
                                    "FEROHELY": "3",
                                    "Rangsor": "3"
                                },
                                {
                                    "SZOBA_ID": "115",
                                    "FEROHELY": "3",
                                    "Rangsor": "3"
                                },
                                {
                                    "SZOBA_ID": "116",
                                    "FEROHELY": "3",
                                    "Rangsor": "3"
                                },
                                {
                                    "SZOBA_ID": "117",
                                    "FEROHELY": "3",
                                    "Rangsor": "3"
                                },
                                {
                                    "SZOBA_ID": "112",
                                    "FEROHELY": "3",
                                    "Rangsor": "3"
                                },
                                {
                                    "SZOBA_ID": "113",
                                    "FEROHELY": "3",
                                    "Rangsor": "3"
                                },
                                {
                                    "SZOBA_ID": "104",
                                    "FEROHELY": "3",
                                    "Rangsor": "3"
                                },
                                {
                                    "SZOBA_ID": "95",
                                    "FEROHELY": "3",
                                    "Rangsor": "3"
                                },
                                {
                                    "SZOBA_ID": "96",
                                    "FEROHELY": "3",
                                    "Rangsor": "3"
                                },
                                {
                                    "SZOBA_ID": "97",
                                    "FEROHELY": "3",
                                    "Rangsor": "3"
                                },
                                {
                                    "SZOBA_ID": "87",
                                    "FEROHELY": "3",
                                    "Rangsor": "3"
                                },
                                {
                                    "SZOBA_ID": "88",
                                    "FEROHELY": "3",
                                    "Rangsor": "3"
                                },
                                {
                                    "SZOBA_ID": "89",
                                    "FEROHELY": "3",
                                    "Rangsor": "3"
                                },
                                {
                                    "SZOBA_ID": "90",
                                    "FEROHELY": "3",
                                    "Rangsor": "3"
                                },
                                {
                                    "SZOBA_ID": "82",
                                    "FEROHELY": "3",
                                    "Rangsor": "3"
                                },
                                {
                                    "SZOBA_ID": "83",
                                    "FEROHELY": "3",
                                    "Rangsor": "3"
                                },
                                {
                                    "SZOBA_ID": "84",
                                    "FEROHELY": "3",
                                    "Rangsor": "3"
                                },
                                {
                                    "SZOBA_ID": "79",
                                    "FEROHELY": "3",
                                    "Rangsor": "3"
                                },
                                {
                                    "SZOBA_ID": "77",
                                    "FEROHELY": "3",
                                    "Rangsor": "3"
                                },
                                {
                                    "SZOBA_ID": "74",
                                    "FEROHELY": "3",
                                    "Rangsor": "3"
                                },
                                {
                                    "SZOBA_ID": "71",
                                    "FEROHELY": "3",
                                    "Rangsor": "3"
                                },
                                {
                                    "SZOBA_ID": "69",
                                    "FEROHELY": "3",
                                    "Rangsor": "3"
                                },
                                {
                                    "SZOBA_ID": "54",
                                    "FEROHELY": "3",
                                    "Rangsor": "3"
                                },
                                {
                                    "SZOBA_ID": "66",
                                    "FEROHELY": "3",
                                    "Rangsor": "3"
                                },
                                {
                                    "SZOBA_ID": "60",
                                    "FEROHELY": "3",
                                    "Rangsor": "3"
                                },
                                {
                                    "SZOBA_ID": "61",
                                    "FEROHELY": "3",
                                    "Rangsor": "3"
                                },
                                {
                                    "SZOBA_ID": "51",
                                    "FEROHELY": "3",
                                    "Rangsor": "3"
                                },
                                {
                                    "SZOBA_ID": "48",
                                    "FEROHELY": "3",
                                    "Rangsor": "3"
                                },
                                {
                                    "SZOBA_ID": "49",
                                    "FEROHELY": "3",
                                    "Rangsor": "3"
                                },
                                {
                                    "SZOBA_ID": "46",
                                    "FEROHELY": "3",
                                    "Rangsor": "3"
                                },
                                {
                                    "SZOBA_ID": "43",
                                    "FEROHELY": "3",
                                    "Rangsor": "3"
                                },
                                {
                                    "SZOBA_ID": "44",
                                    "FEROHELY": "3",
                                    "Rangsor": "3"
                                },
                                {
                                    "SZOBA_ID": "40",
                                    "FEROHELY": "3",
                                    "Rangsor": "3"
                                },
                                {
                                    "SZOBA_ID": "41",
                                    "FEROHELY": "3",
                                    "Rangsor": "3"
                                },
                                {
                                    "SZOBA_ID": "34",
                                    "FEROHELY": "3",
                                    "Rangsor": "3"
                                },
                                {
                                    "SZOBA_ID": "35",
                                    "FEROHELY": "3",
                                    "Rangsor": "3"
                                },
                                {
                                    "SZOBA_ID": "36",
                                    "FEROHELY": "3",
                                    "Rangsor": "3"
                                },
                                {
                                    "SZOBA_ID": "30",
                                    "FEROHELY": "3",
                                    "Rangsor": "3"
                                },
                                {
                                    "SZOBA_ID": "31",
                                    "FEROHELY": "3",
                                    "Rangsor": "3"
                                },
                                {
                                    "SZOBA_ID": "27",
                                    "FEROHELY": "3",
                                    "Rangsor": "3"
                                },
                                {
                                    "SZOBA_ID": "22",
                                    "FEROHELY": "3",
                                    "Rangsor": "3"
                                },
                                {
                                    "SZOBA_ID": "20",
                                    "FEROHELY": "3",
                                    "Rangsor": "3"
                                },
                                {
                                    "SZOBA_ID": "16",
                                    "FEROHELY": "3",
                                    "Rangsor": "3"
                                },
                                {
                                    "SZOBA_ID": "17",
                                    "FEROHELY": "3",
                                    "Rangsor": "3"
                                },
                                {
                                    "SZOBA_ID": "18",
                                    "FEROHELY": "3",
                                    "Rangsor": "3"
                                },
                                {
                                    "SZOBA_ID": "13",
                                    "FEROHELY": "3",
                                    "Rangsor": "3"
                                },
                                {
                                    "SZOBA_ID": "14",
                                    "FEROHELY": "3",
                                    "Rangsor": "3"
                                },
                                {
                                    "SZOBA_ID": "8",
                                    "FEROHELY": "3",
                                    "Rangsor": "3"
                                },
                                {
                                    "SZOBA_ID": "9",
                                    "FEROHELY": "3",
                                    "Rangsor": "3"
                                },
                                {
                                    "SZOBA_ID": "10",
                                    "FEROHELY": "3",
                                    "Rangsor": "3"
                                },
                                {
                                    "SZOBA_ID": "6",
                                    "FEROHELY": "3",
                                    "Rangsor": "3"
                                },
                                {
                                    "SZOBA_ID": "1",
                                    "FEROHELY": "3",
                                    "Rangsor": "3"
                                },
                                {
                                    "SZOBA_ID": "2",
                                    "FEROHELY": "3",
                                    "Rangsor": "3"
                                },
                                {
                                    "SZOBA_ID": "3",
                                    "FEROHELY": "3",
                                    "Rangsor": "3"
                                },
                                {
                                    "SZOBA_ID": "250",
                                    "FEROHELY": "3",
                                    "Rangsor": "3"
                                },
                                {
                                    "SZOBA_ID": "251",
                                    "FEROHELY": "3",
                                    "Rangsor": "3"
                                },
                                {
                                    "SZOBA_ID": "252",
                                    "FEROHELY": "3",
                                    "Rangsor": "3"
                                },
                                {
                                    "SZOBA_ID": "233",
                                    "FEROHELY": "3",
                                    "Rangsor": "3"
                                },
                                {
                                    "SZOBA_ID": "234",
                                    "FEROHELY": "3",
                                    "Rangsor": "3"
                                },
                                {
                                    "SZOBA_ID": "235",
                                    "FEROHELY": "3",
                                    "Rangsor": "3"
                                },
                                {
                                    "SZOBA_ID": "236",
                                    "FEROHELY": "3",
                                    "Rangsor": "3"
                                },
                                {
                                    "SZOBA_ID": "228",
                                    "FEROHELY": "3",
                                    "Rangsor": "3"
                                },
                                {
                                    "SZOBA_ID": "220",
                                    "FEROHELY": "3",
                                    "Rangsor": "3"
                                },
                                {
                                    "SZOBA_ID": "221",
                                    "FEROHELY": "3",
                                    "Rangsor": "3"
                                },
                                {
                                    "SZOBA_ID": "226",
                                    "FEROHELY": "3",
                                    "Rangsor": "3"
                                },
                                {
                                    "SZOBA_ID": "218",
                                    "FEROHELY": "3",
                                    "Rangsor": "3"
                                },
                                {
                                    "SZOBA_ID": "216",
                                    "FEROHELY": "3",
                                    "Rangsor": "3"
                                },
                                {
                                    "SZOBA_ID": "212",
                                    "FEROHELY": "3",
                                    "Rangsor": "3"
                                },
                                {
                                    "SZOBA_ID": "213",
                                    "FEROHELY": "3",
                                    "Rangsor": "3"
                                },
                                {
                                    "SZOBA_ID": "214",
                                    "FEROHELY": "3",
                                    "Rangsor": "3"
                                },
                                {
                                    "SZOBA_ID": "209",
                                    "FEROHELY": "3",
                                    "Rangsor": "3"
                                },
                                {
                                    "SZOBA_ID": "201",
                                    "FEROHELY": "3",
                                    "Rangsor": "3"
                                },
                                {
                                    "SZOBA_ID": "202",
                                    "FEROHELY": "3",
                                    "Rangsor": "3"
                                },
                                {
                                    "SZOBA_ID": "203",
                                    "FEROHELY": "3",
                                    "Rangsor": "3"
                                },
                                {
                                    "SZOBA_ID": "204",
                                    "FEROHELY": "3",
                                    "Rangsor": "3"
                                },
                                {
                                    "SZOBA_ID": "205",
                                    "FEROHELY": "3",
                                    "Rangsor": "3"
                                },
                                {
                                    "SZOBA_ID": "197",
                                    "FEROHELY": "3",
                                    "Rangsor": "3"
                                },
                                {
                                    "SZOBA_ID": "198",
                                    "FEROHELY": "3",
                                    "Rangsor": "3"
                                },
                                {
                                    "SZOBA_ID": "199",
                                    "FEROHELY": "3",
                                    "Rangsor": "3"
                                },
                                {
                                    "SZOBA_ID": "193",
                                    "FEROHELY": "3",
                                    "Rangsor": "3"
                                },
                                {
                                    "SZOBA_ID": "187",
                                    "FEROHELY": "3",
                                    "Rangsor": "3"
                                },
                                {
                                    "SZOBA_ID": "188",
                                    "FEROHELY": "3",
                                    "Rangsor": "3"
                                },
                                {
                                    "SZOBA_ID": "185",
                                    "FEROHELY": "3",
                                    "Rangsor": "3"
                                },
                                {
                                    "SZOBA_ID": "183",
                                    "FEROHELY": "3",
                                    "Rangsor": "3"
                                },
                                {
                                    "SZOBA_ID": "181",
                                    "FEROHELY": "3",
                                    "Rangsor": "3"
                                },
                                {
                                    "SZOBA_ID": "167",
                                    "FEROHELY": "3",
                                    "Rangsor": "3"
                                },
                                {
                                    "SZOBA_ID": "176",
                                    "FEROHELY": "3",
                                    "Rangsor": "3"
                                },
                                {
                                    "SZOBA_ID": "177",
                                    "FEROHELY": "3",
                                    "Rangsor": "3"
                                },
                                {
                                    "SZOBA_ID": "178",
                                    "FEROHELY": "3",
                                    "Rangsor": "3"
                                },
                                {
                                    "SZOBA_ID": "179",
                                    "FEROHELY": "3",
                                    "Rangsor": "3"
                                },
                                {
                                    "SZOBA_ID": "294",
                                    "FEROHELY": "3",
                                    "Rangsor": "3"
                                },
                                {
                                    "SZOBA_ID": "289",
                                    "FEROHELY": "3",
                                    "Rangsor": "3"
                                },
                                {
                                    "SZOBA_ID": "280",
                                    "FEROHELY": "3",
                                    "Rangsor": "3"
                                },
                                {
                                    "SZOBA_ID": "25",
                                    "FEROHELY": "3",
                                    "Rangsor": "3"
                                },
                                {
                                    "SZOBA_ID": "286",
                                    "FEROHELY": "3",
                                    "Rangsor": "3"
                                },
                                {
                                    "SZOBA_ID": "287",
                                    "FEROHELY": "3",
                                    "Rangsor": "3"
                                },
                                {
                                    "SZOBA_ID": "278",
                                    "FEROHELY": "3",
                                    "Rangsor": "3"
                                },
                                {
                                    "SZOBA_ID": "274",
                                    "FEROHELY": "3",
                                    "Rangsor": "3"
                                },
                                {
                                    "SZOBA_ID": "240",
                                    "FEROHELY": "3",
                                    "Rangsor": "3"
                                },
                                {
                                    "SZOBA_ID": "270",
                                    "FEROHELY": "3",
                                    "Rangsor": "3"
                                },
                                {
                                    "SZOBA_ID": "271",
                                    "FEROHELY": "3",
                                    "Rangsor": "3"
                                },
                                {
                                    "SZOBA_ID": "272",
                                    "FEROHELY": "3",
                                    "Rangsor": "3"
                                },
                                {
                                    "SZOBA_ID": "255",
                                    "FEROHELY": "3",
                                    "Rangsor": "3"
                                },
                                {
                                    "SZOBA_ID": "256",
                                    "FEROHELY": "3",
                                    "Rangsor": "3"
                                },
                                {
                                    "SZOBA_ID": "238",
                                    "FEROHELY": "3",
                                    "Rangsor": "3"
                                },
                                {
                                    "SZOBA_ID": "230",
                                    "FEROHELY": "3",
                                    "Rangsor": "3"
                                },
                                {
                                    "SZOBA_ID": "264",
                                    "FEROHELY": "3",
                                    "Rangsor": "3"
                                },
                                {
                                    "SZOBA_ID": "265",
                                    "FEROHELY": "3",
                                    "Rangsor": "3"
                                },
                                {
                                    "SZOBA_ID": "24",
                                    "FEROHELY": "4",
                                    "Rangsor": "4"
                                }
                            ]
                        },
                        "text/html": [
                            "<table>",
                            "<tr><th>SZOBA_ID</th><th>FEROHELY</th><th>Rangsor</th></tr>",
                            "<tr><td>261</td><td>1</td><td>1</td></tr>",
                            "<tr><td>262</td><td>1</td><td>1</td></tr>",
                            "<tr><td>263</td><td>2</td><td>2</td></tr>",
                            "<tr><td>257</td><td>2</td><td>2</td></tr>",
                            "<tr><td>258</td><td>2</td><td>2</td></tr>",
                            "<tr><td>259</td><td>2</td><td>2</td></tr>",
                            "<tr><td>260</td><td>2</td><td>2</td></tr>",
                            "<tr><td>229</td><td>2</td><td>2</td></tr>",
                            "<tr><td>237</td><td>2</td><td>2</td></tr>",
                            "<tr><td>253</td><td>2</td><td>2</td></tr>",
                            "<tr><td>254</td><td>2</td><td>2</td></tr>",
                            "<tr><td>266</td><td>2</td><td>2</td></tr>",
                            "<tr><td>267</td><td>2</td><td>2</td></tr>",
                            "<tr><td>268</td><td>2</td><td>2</td></tr>",
                            "<tr><td>269</td><td>2</td><td>2</td></tr>",
                            "<tr><td>239</td><td>2</td><td>2</td></tr>",
                            "<tr><td>273</td><td>2</td><td>2</td></tr>",
                            "<tr><td>275</td><td>2</td><td>2</td></tr>",
                            "<tr><td>276</td><td>2</td><td>2</td></tr>",
                            "<tr><td>277</td><td>2</td><td>2</td></tr>",
                            "<tr><td>281</td><td>2</td><td>2</td></tr>",
                            "<tr><td>282</td><td>2</td><td>2</td></tr>",
                            "<tr><td>283</td><td>2</td><td>2</td></tr>",
                            "<tr><td>284</td><td>2</td><td>2</td></tr>",
                            "<tr><td>285</td><td>2</td><td>2</td></tr>",
                            "<tr><td>279</td><td>2</td><td>2</td></tr>",
                            "<tr><td>288</td><td>2</td><td>2</td></tr>",
                            "<tr><td>290</td><td>2</td><td>2</td></tr>",
                            "<tr><td>291</td><td>2</td><td>2</td></tr>",
                            "<tr><td>292</td><td>2</td><td>2</td></tr>",
                            "<tr><td>293</td><td>2</td><td>2</td></tr>",
                            "<tr><td>168</td><td>2</td><td>2</td></tr>",
                            "<tr><td>169</td><td>2</td><td>2</td></tr>",
                            "<tr><td>170</td><td>2</td><td>2</td></tr>",
                            "<tr><td>171</td><td>2</td><td>2</td></tr>",
                            "<tr><td>172</td><td>2</td><td>2</td></tr>",
                            "<tr><td>173</td><td>2</td><td>2</td></tr>",
                            "<tr><td>174</td><td>2</td><td>2</td></tr>",
                            "<tr><td>175</td><td>2</td><td>2</td></tr>",
                            "<tr><td>163</td><td>2</td><td>2</td></tr>",
                            "<tr><td>164</td><td>2</td><td>2</td></tr>",
                            "<tr><td>165</td><td>2</td><td>2</td></tr>",
                            "<tr><td>166</td><td>2</td><td>2</td></tr>",
                            "<tr><td>180</td><td>2</td><td>2</td></tr>",
                            "<tr><td>182</td><td>2</td><td>2</td></tr>",
                            "<tr><td>184</td><td>2</td><td>2</td></tr>",
                            "<tr><td>186</td><td>2</td><td>2</td></tr>",
                            "<tr><td>189</td><td>2</td><td>2</td></tr>",
                            "<tr><td>190</td><td>2</td><td>2</td></tr>",
                            "<tr><td>191</td><td>2</td><td>2</td></tr>",
                            "<tr><td>192</td><td>2</td><td>2</td></tr>",
                            "<tr><td>194</td><td>2</td><td>2</td></tr>",
                            "<tr><td>195</td><td>2</td><td>2</td></tr>",
                            "<tr><td>196</td><td>2</td><td>2</td></tr>",
                            "<tr><td>200</td><td>2</td><td>2</td></tr>",
                            "<tr><td>206</td><td>2</td><td>2</td></tr>",
                            "<tr><td>207</td><td>2</td><td>2</td></tr>",
                            "<tr><td>208</td><td>2</td><td>2</td></tr>",
                            "<tr><td>210</td><td>2</td><td>2</td></tr>",
                            "<tr><td>211</td><td>2</td><td>2</td></tr>",
                            "<tr><td>215</td><td>2</td><td>2</td></tr>",
                            "<tr><td>217</td><td>2</td><td>2</td></tr>",
                            "<tr><td>222</td><td>2</td><td>2</td></tr>",
                            "<tr><td>223</td><td>2</td><td>2</td></tr>",
                            "<tr><td>224</td><td>2</td><td>2</td></tr>",
                            "<tr><td>225</td><td>2</td><td>2</td></tr>",
                            "<tr><td>219</td><td>2</td><td>2</td></tr>",
                            "<tr><td>227</td><td>2</td><td>2</td></tr>",
                            "<tr><td>231</td><td>2</td><td>2</td></tr>",
                            "<tr><td>232</td><td>2</td><td>2</td></tr>",
                            "<tr><td>241</td><td>2</td><td>2</td></tr>",
                            "<tr><td>242</td><td>2</td><td>2</td></tr>",
                            "<tr><td>243</td><td>2</td><td>2</td></tr>",
                            "<tr><td>244</td><td>2</td><td>2</td></tr>",
                            "<tr><td>245</td><td>2</td><td>2</td></tr>",
                            "<tr><td>246</td><td>2</td><td>2</td></tr>",
                            "<tr><td>247</td><td>2</td><td>2</td></tr>",
                            "<tr><td>248</td><td>2</td><td>2</td></tr>",
                            "<tr><td>249</td><td>2</td><td>2</td></tr>",
                            "<tr><td>4</td><td>2</td><td>2</td></tr>",
                            "<tr><td>5</td><td>2</td><td>2</td></tr>",
                            "<tr><td>7</td><td>2</td><td>2</td></tr>",
                            "<tr><td>11</td><td>2</td><td>2</td></tr>",
                            "<tr><td>12</td><td>2</td><td>2</td></tr>",
                            "<tr><td>15</td><td>2</td><td>2</td></tr>",
                            "<tr><td>19</td><td>2</td><td>2</td></tr>",
                            "<tr><td>21</td><td>2</td><td>2</td></tr>",
                            "<tr><td>23</td><td>2</td><td>2</td></tr>",
                            "<tr><td>26</td><td>2</td><td>2</td></tr>",
                            "<tr><td>28</td><td>2</td><td>2</td></tr>",
                            "<tr><td>29</td><td>2</td><td>2</td></tr>",
                            "<tr><td>32</td><td>2</td><td>2</td></tr>",
                            "<tr><td>33</td><td>2</td><td>2</td></tr>",
                            "<tr><td>37</td><td>2</td><td>2</td></tr>",
                            "<tr><td>38</td><td>2</td><td>2</td></tr>",
                            "<tr><td>39</td><td>2</td><td>2</td></tr>",
                            "<tr><td>42</td><td>2</td><td>2</td></tr>",
                            "<tr><td>45</td><td>2</td><td>2</td></tr>",
                            "<tr><td>47</td><td>2</td><td>2</td></tr>",
                            "<tr><td>50</td><td>2</td><td>2</td></tr>",
                            "<tr><td>55</td><td>2</td><td>2</td></tr>",
                            "<tr><td>56</td><td>2</td><td>2</td></tr>",
                            "<tr><td>57</td><td>2</td><td>2</td></tr>",
                            "<tr><td>58</td><td>2</td><td>2</td></tr>",
                            "<tr><td>59</td><td>2</td><td>2</td></tr>",
                            "<tr><td>62</td><td>2</td><td>2</td></tr>",
                            "<tr><td>63</td><td>2</td><td>2</td></tr>",
                            "<tr><td>64</td><td>2</td><td>2</td></tr>",
                            "<tr><td>65</td><td>2</td><td>2</td></tr>",
                            "<tr><td>52</td><td>2</td><td>2</td></tr>",
                            "<tr><td>53</td><td>2</td><td>2</td></tr>",
                            "<tr><td>67</td><td>2</td><td>2</td></tr>",
                            "<tr><td>68</td><td>2</td><td>2</td></tr>",
                            "<tr><td>70</td><td>2</td><td>2</td></tr>",
                            "<tr><td>72</td><td>2</td><td>2</td></tr>",
                            "<tr><td>73</td><td>2</td><td>2</td></tr>",
                            "<tr><td>75</td><td>2</td><td>2</td></tr>",
                            "<tr><td>76</td><td>2</td><td>2</td></tr>",
                            "<tr><td>78</td><td>2</td><td>2</td></tr>",
                            "<tr><td>80</td><td>2</td><td>2</td></tr>",
                            "<tr><td>81</td><td>2</td><td>2</td></tr>",
                            "<tr><td>85</td><td>2</td><td>2</td></tr>",
                            "<tr><td>86</td><td>2</td><td>2</td></tr>",
                            "<tr><td>94</td><td>2</td><td>2</td></tr>",
                            "<tr><td>98</td><td>2</td><td>2</td></tr>",
                            "<tr><td>99</td><td>2</td><td>2</td></tr>",
                            "<tr><td>100</td><td>2</td><td>2</td></tr>",
                            "<tr><td>101</td><td>2</td><td>2</td></tr>",
                            "<tr><td>102</td><td>2</td><td>2</td></tr>",
                            "<tr><td>103</td><td>2</td><td>2</td></tr>",
                            "<tr><td>105</td><td>2</td><td>2</td></tr>",
                            "<tr><td>106</td><td>2</td><td>2</td></tr>",
                            "<tr><td>107</td><td>2</td><td>2</td></tr>",
                            "<tr><td>108</td><td>2</td><td>2</td></tr>",
                            "<tr><td>109</td><td>2</td><td>2</td></tr>",
                            "<tr><td>110</td><td>2</td><td>2</td></tr>",
                            "<tr><td>111</td><td>2</td><td>2</td></tr>",
                            "<tr><td>114</td><td>2</td><td>2</td></tr>",
                            "<tr><td>91</td><td>2</td><td>2</td></tr>",
                            "<tr><td>118</td><td>2</td><td>2</td></tr>",
                            "<tr><td>119</td><td>2</td><td>2</td></tr>",
                            "<tr><td>125</td><td>2</td><td>2</td></tr>",
                            "<tr><td>126</td><td>2</td><td>2</td></tr>",
                            "<tr><td>127</td><td>2</td><td>2</td></tr>",
                            "<tr><td>128</td><td>2</td><td>2</td></tr>",
                            "<tr><td>129</td><td>2</td><td>2</td></tr>",
                            "<tr><td>130</td><td>2</td><td>2</td></tr>",
                            "<tr><td>131</td><td>2</td><td>2</td></tr>",
                            "<tr><td>121</td><td>2</td><td>2</td></tr>",
                            "<tr><td>139</td><td>2</td><td>2</td></tr>",
                            "<tr><td>140</td><td>2</td><td>2</td></tr>",
                            "<tr><td>141</td><td>2</td><td>2</td></tr>",
                            "<tr><td>136</td><td>2</td><td>2</td></tr>",
                            "<tr><td>137</td><td>2</td><td>2</td></tr>",
                            "<tr><td>145</td><td>2</td><td>2</td></tr>",
                            "<tr><td>147</td><td>2</td><td>2</td></tr>",
                            "<tr><td>148</td><td>2</td><td>2</td></tr>",
                            "<tr><td>149</td><td>2</td><td>2</td></tr>",
                            "<tr><td>150</td><td>2</td><td>2</td></tr>",
                            "<tr><td>151</td><td>2</td><td>2</td></tr>",
                            "<tr><td>152</td><td>2</td><td>2</td></tr>",
                            "<tr><td>156</td><td>2</td><td>2</td></tr>",
                            "<tr><td>157</td><td>2</td><td>2</td></tr>",
                            "<tr><td>158</td><td>2</td><td>2</td></tr>",
                            "<tr><td>154</td><td>2</td><td>2</td></tr>",
                            "<tr><td>161</td><td>2</td><td>2</td></tr>",
                            "<tr><td>162</td><td>3</td><td>3</td></tr>",
                            "<tr><td>155</td><td>3</td><td>3</td></tr>",
                            "<tr><td>159</td><td>3</td><td>3</td></tr>",
                            "<tr><td>160</td><td>3</td><td>3</td></tr>",
                            "<tr><td>153</td><td>3</td><td>3</td></tr>",
                            "<tr><td>146</td><td>3</td><td>3</td></tr>",
                            "<tr><td>138</td><td>3</td><td>3</td></tr>",
                            "<tr><td>142</td><td>3</td><td>3</td></tr>",
                            "<tr><td>143</td><td>3</td><td>3</td></tr>",
                            "<tr><td>144</td><td>3</td><td>3</td></tr>",
                            "<tr><td>122</td><td>3</td><td>3</td></tr>",
                            "<tr><td>123</td><td>3</td><td>3</td></tr>",
                            "<tr><td>124</td><td>3</td><td>3</td></tr>",
                            "<tr><td>132</td><td>3</td><td>3</td></tr>",
                            "<tr><td>133</td><td>3</td><td>3</td></tr>",
                            "<tr><td>134</td><td>3</td><td>3</td></tr>",
                            "<tr><td>135</td><td>3</td><td>3</td></tr>",
                            "<tr><td>120</td><td>3</td><td>3</td></tr>",
                            "<tr><td>92</td><td>3</td><td>3</td></tr>",
                            "<tr><td>93</td><td>3</td><td>3</td></tr>",
                            "<tr><td>115</td><td>3</td><td>3</td></tr>",
                            "<tr><td>116</td><td>3</td><td>3</td></tr>",
                            "<tr><td>117</td><td>3</td><td>3</td></tr>",
                            "<tr><td>112</td><td>3</td><td>3</td></tr>",
                            "<tr><td>113</td><td>3</td><td>3</td></tr>",
                            "<tr><td>104</td><td>3</td><td>3</td></tr>",
                            "<tr><td>95</td><td>3</td><td>3</td></tr>",
                            "<tr><td>96</td><td>3</td><td>3</td></tr>",
                            "<tr><td>97</td><td>3</td><td>3</td></tr>",
                            "<tr><td>87</td><td>3</td><td>3</td></tr>",
                            "<tr><td>88</td><td>3</td><td>3</td></tr>",
                            "<tr><td>89</td><td>3</td><td>3</td></tr>",
                            "<tr><td>90</td><td>3</td><td>3</td></tr>",
                            "<tr><td>82</td><td>3</td><td>3</td></tr>",
                            "<tr><td>83</td><td>3</td><td>3</td></tr>",
                            "<tr><td>84</td><td>3</td><td>3</td></tr>",
                            "<tr><td>79</td><td>3</td><td>3</td></tr>",
                            "<tr><td>77</td><td>3</td><td>3</td></tr>",
                            "<tr><td>74</td><td>3</td><td>3</td></tr>",
                            "<tr><td>71</td><td>3</td><td>3</td></tr>",
                            "<tr><td>69</td><td>3</td><td>3</td></tr>",
                            "<tr><td>54</td><td>3</td><td>3</td></tr>",
                            "<tr><td>66</td><td>3</td><td>3</td></tr>",
                            "<tr><td>60</td><td>3</td><td>3</td></tr>",
                            "<tr><td>61</td><td>3</td><td>3</td></tr>",
                            "<tr><td>51</td><td>3</td><td>3</td></tr>",
                            "<tr><td>48</td><td>3</td><td>3</td></tr>",
                            "<tr><td>49</td><td>3</td><td>3</td></tr>",
                            "<tr><td>46</td><td>3</td><td>3</td></tr>",
                            "<tr><td>43</td><td>3</td><td>3</td></tr>",
                            "<tr><td>44</td><td>3</td><td>3</td></tr>",
                            "<tr><td>40</td><td>3</td><td>3</td></tr>",
                            "<tr><td>41</td><td>3</td><td>3</td></tr>",
                            "<tr><td>34</td><td>3</td><td>3</td></tr>",
                            "<tr><td>35</td><td>3</td><td>3</td></tr>",
                            "<tr><td>36</td><td>3</td><td>3</td></tr>",
                            "<tr><td>30</td><td>3</td><td>3</td></tr>",
                            "<tr><td>31</td><td>3</td><td>3</td></tr>",
                            "<tr><td>27</td><td>3</td><td>3</td></tr>",
                            "<tr><td>22</td><td>3</td><td>3</td></tr>",
                            "<tr><td>20</td><td>3</td><td>3</td></tr>",
                            "<tr><td>16</td><td>3</td><td>3</td></tr>",
                            "<tr><td>17</td><td>3</td><td>3</td></tr>",
                            "<tr><td>18</td><td>3</td><td>3</td></tr>",
                            "<tr><td>13</td><td>3</td><td>3</td></tr>",
                            "<tr><td>14</td><td>3</td><td>3</td></tr>",
                            "<tr><td>8</td><td>3</td><td>3</td></tr>",
                            "<tr><td>9</td><td>3</td><td>3</td></tr>",
                            "<tr><td>10</td><td>3</td><td>3</td></tr>",
                            "<tr><td>6</td><td>3</td><td>3</td></tr>",
                            "<tr><td>1</td><td>3</td><td>3</td></tr>",
                            "<tr><td>2</td><td>3</td><td>3</td></tr>",
                            "<tr><td>3</td><td>3</td><td>3</td></tr>",
                            "<tr><td>250</td><td>3</td><td>3</td></tr>",
                            "<tr><td>251</td><td>3</td><td>3</td></tr>",
                            "<tr><td>252</td><td>3</td><td>3</td></tr>",
                            "<tr><td>233</td><td>3</td><td>3</td></tr>",
                            "<tr><td>234</td><td>3</td><td>3</td></tr>",
                            "<tr><td>235</td><td>3</td><td>3</td></tr>",
                            "<tr><td>236</td><td>3</td><td>3</td></tr>",
                            "<tr><td>228</td><td>3</td><td>3</td></tr>",
                            "<tr><td>220</td><td>3</td><td>3</td></tr>",
                            "<tr><td>221</td><td>3</td><td>3</td></tr>",
                            "<tr><td>226</td><td>3</td><td>3</td></tr>",
                            "<tr><td>218</td><td>3</td><td>3</td></tr>",
                            "<tr><td>216</td><td>3</td><td>3</td></tr>",
                            "<tr><td>212</td><td>3</td><td>3</td></tr>",
                            "<tr><td>213</td><td>3</td><td>3</td></tr>",
                            "<tr><td>214</td><td>3</td><td>3</td></tr>",
                            "<tr><td>209</td><td>3</td><td>3</td></tr>",
                            "<tr><td>201</td><td>3</td><td>3</td></tr>",
                            "<tr><td>202</td><td>3</td><td>3</td></tr>",
                            "<tr><td>203</td><td>3</td><td>3</td></tr>",
                            "<tr><td>204</td><td>3</td><td>3</td></tr>",
                            "<tr><td>205</td><td>3</td><td>3</td></tr>",
                            "<tr><td>197</td><td>3</td><td>3</td></tr>",
                            "<tr><td>198</td><td>3</td><td>3</td></tr>",
                            "<tr><td>199</td><td>3</td><td>3</td></tr>",
                            "<tr><td>193</td><td>3</td><td>3</td></tr>",
                            "<tr><td>187</td><td>3</td><td>3</td></tr>",
                            "<tr><td>188</td><td>3</td><td>3</td></tr>",
                            "<tr><td>185</td><td>3</td><td>3</td></tr>",
                            "<tr><td>183</td><td>3</td><td>3</td></tr>",
                            "<tr><td>181</td><td>3</td><td>3</td></tr>",
                            "<tr><td>167</td><td>3</td><td>3</td></tr>",
                            "<tr><td>176</td><td>3</td><td>3</td></tr>",
                            "<tr><td>177</td><td>3</td><td>3</td></tr>",
                            "<tr><td>178</td><td>3</td><td>3</td></tr>",
                            "<tr><td>179</td><td>3</td><td>3</td></tr>",
                            "<tr><td>294</td><td>3</td><td>3</td></tr>",
                            "<tr><td>289</td><td>3</td><td>3</td></tr>",
                            "<tr><td>280</td><td>3</td><td>3</td></tr>",
                            "<tr><td>25</td><td>3</td><td>3</td></tr>",
                            "<tr><td>286</td><td>3</td><td>3</td></tr>",
                            "<tr><td>287</td><td>3</td><td>3</td></tr>",
                            "<tr><td>278</td><td>3</td><td>3</td></tr>",
                            "<tr><td>274</td><td>3</td><td>3</td></tr>",
                            "<tr><td>240</td><td>3</td><td>3</td></tr>",
                            "<tr><td>270</td><td>3</td><td>3</td></tr>",
                            "<tr><td>271</td><td>3</td><td>3</td></tr>",
                            "<tr><td>272</td><td>3</td><td>3</td></tr>",
                            "<tr><td>255</td><td>3</td><td>3</td></tr>",
                            "<tr><td>256</td><td>3</td><td>3</td></tr>",
                            "<tr><td>238</td><td>3</td><td>3</td></tr>",
                            "<tr><td>230</td><td>3</td><td>3</td></tr>",
                            "<tr><td>264</td><td>3</td><td>3</td></tr>",
                            "<tr><td>265</td><td>3</td><td>3</td></tr>",
                            "<tr><td>24</td><td>4</td><td>4</td></tr>",
                            "</table>"
                        ]
                    }
                }
            ],
            "execution_count": 19
        },
        {
            "cell_type": "markdown",
            "source": [
                "<span style=\"color: rgb(0, 0, 0); font-family: &quot;Open Sans&quot;, sans-serif; font-size: 14.44px; background-color: rgb(255, 255, 255);\">Egészítse ki a megkezdett lekérdezést, amely megjeleníti, hogy melyek azok a szálláshelyek, ahol nincs 3 férőhelyes szoba!</span>"
            ],
            "metadata": {
                "azdata_cell_guid": "292cccdb-56e8-45c7-be1b-5300347eb975"
            },
            "attachments": {}
        },
        {
            "cell_type": "code",
            "source": [
                "SELECT szallas_id, SZALLAS_NEV,CSILLAGOK_SZAMA,iif(CSILLAGOK_SZAMA>=3,'Igen','Nem') as 'Legalább 3 csillagos-e'\r\n",
                "from Szallashely\r\n",
                "where SZALLAS_ID <>( SELECT SZALLAS_FK\r\n",
                "                    from Szoba\r\n",
                "                    WHERE FEROHELY=3)\r\n",
                ""
            ],
            "metadata": {
                "language": "sql",
                "azdata_cell_guid": "940e3cfe-0c7c-48ca-8113-f0434327f4b0"
            },
            "outputs": [
                {
                    "output_type": "display_data",
                    "data": {
                        "text/html": "Total execution time: 00:00:00.005"
                    },
                    "metadata": {}
                },
                {
                    "output_type": "execute_result",
                    "metadata": {},
                    "execution_count": 25,
                    "data": {
                        "application/vnd.dataresource+json": {
                            "schema": {
                                "fields": [
                                    {
                                        "name": "szallas_id"
                                    },
                                    {
                                        "name": "SZALLAS_NEV"
                                    },
                                    {
                                        "name": "CSILLAGOK_SZAMA"
                                    },
                                    {
                                        "name": "Legalább 3 csillagos-e"
                                    }
                                ]
                            },
                            "data": []
                        },
                        "text/html": [
                            "<table>",
                            "<tr><th>szallas_id</th><th>SZALLAS_NEV</th><th>CSILLAGOK_SZAMA</th><th>Legalább 3 csillagos-e</th></tr>",
                            "</table>"
                        ]
                    }
                },
                {
                    "output_type": "error",
                    "evalue": "Msg 512, Level 16, State 1, Line 1\r\nSubquery returned more than 1 value. This is not permitted when the subquery follows =, !=, <, <= , >, >= or when the subquery is used as an expression.",
                    "ename": "",
                    "traceback": []
                }
            ],
            "execution_count": 25
        }
    ]
}